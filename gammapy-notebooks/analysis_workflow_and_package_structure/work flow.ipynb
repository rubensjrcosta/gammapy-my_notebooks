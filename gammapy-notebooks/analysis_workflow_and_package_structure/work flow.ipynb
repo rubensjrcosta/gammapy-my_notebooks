{
 "cells": [
  {
   "cell_type": "markdown",
   "metadata": {},
   "source": [
    "[![gammapy](https://img.shields.io/badge/powered%20by-gammapy-orange.svg?style=flat)](https://gammapy.org/)\n",
    "\n",
    "# 🤖 Gammapy analysis workflow and package structure\n",
    "\n",
    "[![Gammapy](https://docs.gammapy.org/0.20.1/_images/gammapy_banner.png)](https://gammapy.org/)\n",
    "\n",
    "Gammapy is an open-source Python package for gamma-ray astronomy built on [Numpy](https://numpy.org/), [Scipy](https://scipy.org/) and [Astropy](https://www.astropy.org/)."
   ]
  },
  {
   "cell_type": "markdown",
   "metadata": {},
   "source": [
    "<a id='indice'></a>\n",
    "### Indice\n",
    "[Analysis workflow](#workflow)<br>\n",
    "[Step 1.0:  Analysis steps](#step1)<br>\n",
    "$\\;\\;\\;\\;\\;$[Step 1.1: Data access and selection (DL3)](#step1.1)<br>\n",
    "$\\;\\;\\;\\;\\;\\;\\;\\;\\;\\;$[Step 1.1.1: Getting started with data](#step1.1.1)<br>\n",
    "$\\;\\;\\;\\;\\;\\;\\;\\;\\;\\;$[Step 1.1.2: The index tables](#step1.1.2)<br>\n",
    "$\\;\\;\\;\\;\\;\\;\\;\\;\\;\\;$[Step 1.1.3: Working with event lists](#step1.1.3)<br>\n",
    "[Step 1.0: Data Extraction](#step1)<br>\n",
    "$\\;\\;\\;\\;\\;$[Step 1.1: Downloading the Data](#step1.1)<br>\n",
    "$\\;\\;\\;\\;\\;$[Step 1.2: Loading the DataFrame](#step1.2)<br>\n",
    "$\\;\\;\\;\\;\\;$[Step 1.3: DataFrame Display](#step1.3)<br>\n",
    "[Step 2.0: Data Preparation](#step2)<br>\n",
    "$\\;\\;\\;\\;\\;$[Step 2.1: DataFrame Description](#step2.1)<br>\n",
    "$\\;\\;\\;\\;\\;$[Step 2.2: Quantifying Cardinality](#step2.2)<br>\n",
    "$\\;\\;\\;\\;\\;$[Step 2.3: Removing Duplicates](#step2.3)<br>\n",
    "$\\;\\;\\;\\;\\;$[Step 2.4: Removing Irrelevant Data](#step2.4)<br>\n",
    "$\\;\\;\\;\\;\\;$[Step 2.5: Fixing Structural Errors](#step2.5)<br>\n",
    "$\\;\\;\\;\\;\\;$[Step 2.6: Detecting Outliers](#step2.6)<br>\n",
    "$\\;\\;\\;\\;\\;$[Step 2.7: Handling Missing Data](#step2.7)<br>\n",
    "$\\;\\;\\;\\;\\;$[Step 2.8: One Hot Encoding](#step2.8)<br>\n",
    "[Step 3.0: Data Exploration/Visualization](#step3)<br>\n",
    "$\\;\\;\\;\\;\\;$[Step 3.1: Descriptive Statistics](#step3.1)<br> \n",
    "$\\;\\;\\;\\;\\;$[Step 3.2: Feature Selection ](#step3.2)<br> \n",
    "$\\;\\;\\;\\;\\;\\;\\;\\;\\;\\;$[Step 3.2.1: Univariate Selction](#step3.2.1)<br> \n",
    "$\\;\\;\\;\\;\\;\\;\\;\\;\\;\\;$[Step 3.2.2: Feature Importance](#step3.2.2)<br> \n",
    "$\\;\\;\\;\\;\\;$[Step 3.3: Features Correlation](#step3.3)<br> \n",
    "[Step 4.0: Predictive Modeling](#step4)<br>\n",
    "[Step 5.0: Model Validation](#step5)<br>\n",
    "[Deployment of the Solution](#deployment)<br>\n",
    "[Acknowledgements](#acknowledgements)"
   ]
  },
  {
   "cell_type": "markdown",
   "metadata": {},
   "source": [
    "<a id='workflow'></a>\n",
    "## Analysis Workflow\n",
    "\n",
    "The figure below illustrates the standard analysis workflow and the corresponding structure of Gammapy's subpackages. Gammapy can typically be used with the configuration-based high-level analysis API or as a standard Python library by importing the functionality of subpackages. The different data levels and data reduction steps and their mapping to the Gammapy API are explained in more detail below.\n",
    "\n",
    "\n",
    "<img src=\"data-flow-gammapy.png\" width=700 height=200 />\n",
    "Fig 1: Data flow and sub-package structure of Gammapy. The folder icons represent the corresponding sub-packages. The direction of the the data flow is illustrated with shaded arrows. The top section shows the data levels as defined by CTA.\n"
   ]
  },
  {
   "cell_type": "markdown",
   "metadata": {},
   "source": [
    "🔝 [Back to Top](#indice)<br>"
   ]
  },
  {
   "cell_type": "markdown",
   "metadata": {},
   "source": [
    "___"
   ]
  },
  {
   "cell_type": "markdown",
   "metadata": {},
   "source": [
    "<a id='step1'></a>\n",
    "## Step 1.0:  Analysis steps"
   ]
  },
  {
   "cell_type": "markdown",
   "metadata": {},
   "source": [
    "<a id='step1.1'></a>\n",
    "### Step 1.1: [Data access and selection (DL3)](https://docs.gammapy.org/1.0/user-guide/dl3.html#data)\n",
    "\n",
    "The analysis of gamma-ray data with Gammapy starts at the “data level 3”. At this level the data is stored as lists of gamma-like events and the corresponding instrument response functions (IRFs)."
   ]
  },
  {
   "cell_type": "markdown",
   "metadata": {},
   "source": [
    "<a id='step1.1.1'></a>\n",
    "### Step 1.1.1: Getting started with data"
   ]
  },
  {
   "cell_type": "code",
   "execution_count": 11,
   "metadata": {},
   "outputs": [],
   "source": [
    "# EventList class to load IACT gamma-ray event lists:\n",
    "from gammapy.data import EventList\n",
    "filename = '$GAMMAPY_DATA/hess-dl3-dr1/data/hess_dl3_dr1_obs_id_023523.fits.gz'\n",
    "events = EventList.read(filename)"
   ]
  },
  {
   "cell_type": "code",
   "execution_count": 12,
   "metadata": {},
   "outputs": [],
   "source": [
    "# DataStoreto load the events for observation ID 23523:\n",
    "from gammapy.data import DataStore\n",
    "data_store = DataStore.from_dir('$GAMMAPY_DATA/hess-dl3-dr1')\n",
    "events = data_store.obs(23523).events # leading zeros in decimal integer literals are not permitted!"
   ]
  },
  {
   "cell_type": "markdown",
   "metadata": {},
   "source": [
    "<a id='step1.1.2'></a>\n",
    "### Step 1.1.2: The index tables"
   ]
  },
  {
   "cell_type": "markdown",
   "metadata": {},
   "source": [
    "A typical way to organize the files relevant to the data we are interested in are the index tables. There are two tables:\n",
    "\n",
    "* Observation index table: this table collects the information on each observation or run, with meta data about each of them, such as the pointing direction, the duration, the run ID…\n",
    "\n",
    "* HDU index table: this table provides, for each observation listed in the index table, the location of the corresponding data and instrument response files.\n",
    "\n",
    "A DataStore can then be created by providing each of these two tables in the same file with `from_file()`, or instead by the directory where they can be found with `from_dir()` as shown above."
   ]
  },
  {
   "cell_type": "markdown",
   "metadata": {},
   "source": [
    "<a id='step1.1.3'></a>\n",
    "### Step 1.1.3: Working with event lists"
   ]
  },
  {
   "cell_type": "markdown",
   "metadata": {},
   "source": [
    "To take a quick look at the events inside the list, one can use `peek()`"
   ]
  },
  {
   "cell_type": "code",
   "execution_count": 13,
   "metadata": {},
   "outputs": [
    {
     "data": {
      "image/png": "[encoded data removed]",
      "text/plain": [
       "<Figure size 1200x800 with 5 Axes>"
      ]
     },
     "metadata": {},
     "output_type": "display_data"
    }
   ],
   "source": [
    "from gammapy.data import EventList\n",
    "filename = '$GAMMAPY_DATA/hess-dl3-dr1/data/hess_dl3_dr1_obs_id_023523.fits.gz'\n",
    "events = EventList.read(filename)\n",
    "events.peek()"
   ]
  },
  {
   "cell_type": "markdown",
   "metadata": {},
   "source": [
    "Events can be selected based on any of their properties, with dedicated functions existing for energy, time, offset from pointing position and the selection of events in a particular region of the sky."
   ]
  },
  {
   "cell_type": "code",
   "execution_count": 15,
   "metadata": {},
   "outputs": [],
   "source": [
    "import astropy.units as u\n",
    "from astropy.time import Time\n",
    "from gammapy.data import EventList\n",
    "filename = '$GAMMAPY_DATA/hess-dl3-dr1/data/hess_dl3_dr1_obs_id_023523.fits.gz'\n",
    "events = EventList.read(filename)"
   ]
  },
  {
   "cell_type": "code",
   "execution_count": 24,
   "metadata": {},
   "outputs": [
    {
     "data": {
      "text/html": [
       "<div><i>Table length=465</i>\n",
       "<table id=\"table139797152101280\" class=\"table-striped table-bordered table-condensed\">\n",
       "<thead><tr><th>EVENT_ID</th><th>TIME</th><th>RA</th><th>DEC</th><th>ENERGY</th></tr></thead>\n",
       "<thead><tr><th></th><th>s</th><th>deg</th><th>deg</th><th>TeV</th></tr></thead>\n",
       "<thead><tr><th>int64</th><th>float64</th><th>float32</th><th>float32</th><th>float32</th></tr></thead>\n",
       "<tr><td>5407363826567</td><td>123890830.25761104</td><td>82.28364</td><td>21.345219</td><td>1.1545221</td></tr>\n",
       "<tr><td>5420248727650</td><td>123890843.09696221</td><td>81.99309</td><td>22.53259</td><td>1.0192306</td></tr>\n",
       "<tr><td>5420248727960</td><td>123890844.55593276</td><td>85.75385</td><td>21.530905</td><td>1.1561962</td></tr>\n",
       "<tr><td>5420248728165</td><td>123890845.466331</td><td>83.71307</td><td>22.21706</td><td>1.1002396</td></tr>\n",
       "<tr><td>5424543694983</td><td>123890847.21869731</td><td>81.30836</td><td>21.989603</td><td>1.1220458</td></tr>\n",
       "<tr><td>5424543695439</td><td>123890849.3513372</td><td>82.78702</td><td>21.76855</td><td>1.1998897</td></tr>\n",
       "<tr><td>...</td><td>...</td><td>...</td><td>...</td><td>...</td></tr>\n",
       "<tr><td>7164005450675</td><td>123892481.44804645</td><td>85.28534</td><td>21.328024</td><td>1.1117512</td></tr>\n",
       "<tr><td>7181185319115</td><td>123892494.53961396</td><td>84.03409</td><td>23.835207</td><td>1.0427128</td></tr>\n",
       "<tr><td>7181185319737</td><td>123892497.35847831</td><td>83.67611</td><td>22.008024</td><td>1.1866934</td></tr>\n",
       "<tr><td>7189775254440</td><td>123892505.58099508</td><td>81.15409</td><td>22.617659</td><td>1.062319</td></tr>\n",
       "<tr><td>7194070221633</td><td>123892509.12242937</td><td>83.77641</td><td>23.407835</td><td>1.1181353</td></tr>\n",
       "<tr><td>7198365188843</td><td>123892513.0062654</td><td>84.47432</td><td>21.634737</td><td>1.1091197</td></tr>\n",
       "</table></div>"
      ],
      "text/plain": [
       "<Table length=465>\n",
       "   EVENT_ID          TIME           RA       DEC      ENERGY \n",
       "                      s            deg       deg       TeV   \n",
       "    int64          float64       float32   float32   float32 \n",
       "------------- ------------------ -------- --------- ---------\n",
       "5407363826567 123890830.25761104 82.28364 21.345219 1.1545221\n",
       "5420248727650 123890843.09696221 81.99309  22.53259 1.0192306\n",
       "5420248727960 123890844.55593276 85.75385 21.530905 1.1561962\n",
       "5420248728165   123890845.466331 83.71307  22.21706 1.1002396\n",
       "5424543694983 123890847.21869731 81.30836 21.989603 1.1220458\n",
       "5424543695439  123890849.3513372 82.78702  21.76855 1.1998897\n",
       "          ...                ...      ...       ...       ...\n",
       "7164005450675 123892481.44804645 85.28534 21.328024 1.1117512\n",
       "7181185319115 123892494.53961396 84.03409 23.835207 1.0427128\n",
       "7181185319737 123892497.35847831 83.67611 22.008024 1.1866934\n",
       "7189775254440 123892505.58099508 81.15409 22.617659  1.062319\n",
       "7194070221633 123892509.12242937 83.77641 23.407835 1.1181353\n",
       "7198365188843  123892513.0062654 84.47432 21.634737 1.1091197"
      ]
     },
     "execution_count": 24,
     "metadata": {},
     "output_type": "execute_result"
    }
   ],
   "source": [
    "# Select events based on energy\n",
    "selected_energy = events.select_energy([1*u.TeV, 1.2*u.TeV])\n",
    "selected_energy.table"
   ]
  },
  {
   "cell_type": "code",
   "execution_count": 29,
   "metadata": {},
   "outputs": [
    {
     "data": {
      "text/html": [
       "<div><i>Table length=0</i>\n",
       "<table id=\"table139797071231584\" class=\"table-striped table-bordered table-condensed\">\n",
       "<thead><tr><th>EVENT_ID</th><th>TIME</th><th>RA</th><th>DEC</th><th>ENERGY</th></tr></thead>\n",
       "<thead><tr><th></th><th>s</th><th>deg</th><th>deg</th><th>TeV</th></tr></thead>\n",
       "<thead><tr><th>int64</th><th>float64</th><th>float32</th><th>float32</th><th>float32</th></tr></thead>\n",
       "</table></div>"
      ],
      "text/plain": [
       "<Table length=0>\n",
       "EVENT_ID   TIME     RA     DEC    ENERGY\n",
       "            s      deg     deg     TeV  \n",
       " int64   float64 float32 float32 float32\n",
       "-------- ------- ------- ------- -------"
      ]
     },
     "execution_count": 29,
     "metadata": {},
     "output_type": "execute_result"
    }
   ],
   "source": [
    "# Select events based on time\n",
    "t_start = Time(57185, format='mjd')\n",
    "t_stop = Time(57185.5, format='mjd')\n",
    "\n",
    "selected_time = events.select_time([t_start, t_stop])\n",
    "selected_time.table"
   ]
  },
  {
   "cell_type": "code",
   "execution_count": 32,
   "metadata": {},
   "outputs": [
    {
     "data": {
      "text/html": [
       "<div><i>Table length=3279</i>\n",
       "<table id=\"table139797094616416\" class=\"table-striped table-bordered table-condensed\">\n",
       "<thead><tr><th>EVENT_ID</th><th>TIME</th><th>RA</th><th>DEC</th><th>ENERGY</th></tr></thead>\n",
       "<thead><tr><th></th><th>s</th><th>deg</th><th>deg</th><th>TeV</th></tr></thead>\n",
       "<thead><tr><th>int64</th><th>float64</th><th>float32</th><th>float32</th><th>float32</th></tr></thead>\n",
       "<tr><td>5407363825970</td><td>123890827.79615426</td><td>81.93147</td><td>20.79867</td><td>0.69548655</td></tr>\n",
       "<tr><td>5407363826128</td><td>123890828.52555823</td><td>83.40073</td><td>19.771587</td><td>1.6680022</td></tr>\n",
       "<tr><td>5407363826414</td><td>123890829.61423635</td><td>84.70039</td><td>20.08733</td><td>2.1429496</td></tr>\n",
       "<tr><td>5407363826446</td><td>123890829.75004911</td><td>82.30209</td><td>20.510132</td><td>0.702869</td></tr>\n",
       "<tr><td>5407363826567</td><td>123890830.25761104</td><td>82.28364</td><td>21.345219</td><td>1.1545221</td></tr>\n",
       "<tr><td>5407363826656</td><td>123890830.61403751</td><td>83.58668</td><td>20.127363</td><td>0.6688179</td></tr>\n",
       "<tr><td>...</td><td>...</td><td>...</td><td>...</td><td>...</td></tr>\n",
       "<tr><td>7198365188207</td><td>123892510.24479365</td><td>84.97216</td><td>19.973597</td><td>2.0567915</td></tr>\n",
       "<tr><td>7198365188380</td><td>123892510.9435544</td><td>82.44713</td><td>20.25431</td><td>0.6113351</td></tr>\n",
       "<tr><td>7198365188529</td><td>123892511.59526515</td><td>85.58907</td><td>21.491413</td><td>0.6518216</td></tr>\n",
       "<tr><td>7198365188605</td><td>123892511.93477488</td><td>82.4973</td><td>22.135513</td><td>0.5850589</td></tr>\n",
       "<tr><td>7198365188619</td><td>123892512.01627827</td><td>81.832565</td><td>20.889784</td><td>0.79988396</td></tr>\n",
       "<tr><td>7198365188792</td><td>123892512.74561787</td><td>83.14342</td><td>23.21574</td><td>9.994803</td></tr>\n",
       "</table></div>"
      ],
      "text/plain": [
       "<Table length=3279>\n",
       "   EVENT_ID          TIME            RA       DEC      ENERGY  \n",
       "                      s             deg       deg       TeV    \n",
       "    int64          float64        float32   float32   float32  \n",
       "------------- ------------------ --------- --------- ----------\n",
       "5407363825970 123890827.79615426  81.93147  20.79867 0.69548655\n",
       "5407363826128 123890828.52555823  83.40073 19.771587  1.6680022\n",
       "5407363826414 123890829.61423635  84.70039  20.08733  2.1429496\n",
       "5407363826446 123890829.75004911  82.30209 20.510132   0.702869\n",
       "5407363826567 123890830.25761104  82.28364 21.345219  1.1545221\n",
       "5407363826656 123890830.61403751  83.58668 20.127363  0.6688179\n",
       "          ...                ...       ...       ...        ...\n",
       "7198365188207 123892510.24479365  84.97216 19.973597  2.0567915\n",
       "7198365188380  123892510.9435544  82.44713  20.25431  0.6113351\n",
       "7198365188529 123892511.59526515  85.58907 21.491413  0.6518216\n",
       "7198365188605 123892511.93477488   82.4973 22.135513  0.5850589\n",
       "7198365188619 123892512.01627827 81.832565 20.889784 0.79988396\n",
       "7198365188792 123892512.74561787  83.14342  23.21574   9.994803"
      ]
     },
     "execution_count": 32,
     "metadata": {},
     "output_type": "execute_result"
    }
   ],
   "source": [
    "# Select events based on offset\n",
    "selected_offset = events.select_offset([1*u.deg, 2*u.deg])\n",
    "selected_offset.table"
   ]
  },
  {
   "cell_type": "code",
   "execution_count": 33,
   "metadata": {},
   "outputs": [
    {
     "data": {
      "text/html": [
       "<div><i>Table length=3991</i>\n",
       "<table id=\"table139797053737184\" class=\"table-striped table-bordered table-condensed\">\n",
       "<thead><tr><th>EVENT_ID</th><th>TIME</th><th>RA</th><th>DEC</th><th>ENERGY</th></tr></thead>\n",
       "<thead><tr><th></th><th>s</th><th>deg</th><th>deg</th><th>TeV</th></tr></thead>\n",
       "<thead><tr><th>int64</th><th>float64</th><th>float32</th><th>float32</th><th>float32</th></tr></thead>\n",
       "<tr><td>5407363825684</td><td>123890826.66805482</td><td>84.97964</td><td>23.89347</td><td>10.352011</td></tr>\n",
       "<tr><td>5407363825695</td><td>123890826.69749284</td><td>84.54751</td><td>21.004095</td><td>4.0246882</td></tr>\n",
       "<tr><td>5407363825831</td><td>123890827.23673964</td><td>85.39696</td><td>19.41868</td><td>2.2048872</td></tr>\n",
       "<tr><td>5407363826067</td><td>123890828.26131463</td><td>85.98302</td><td>21.053099</td><td>0.86911184</td></tr>\n",
       "<tr><td>5407363826095</td><td>123890828.41393518</td><td>86.97305</td><td>21.837437</td><td>4.1240892</td></tr>\n",
       "<tr><td>5407363826383</td><td>123890829.53362775</td><td>83.18322</td><td>22.008213</td><td>0.7920148</td></tr>\n",
       "<tr><td>...</td><td>...</td><td>...</td><td>...</td><td>...</td></tr>\n",
       "<tr><td>7198365188207</td><td>123892510.24479365</td><td>84.97216</td><td>19.973597</td><td>2.0567915</td></tr>\n",
       "<tr><td>7198365188478</td><td>123892511.37516403</td><td>83.86311</td><td>21.793667</td><td>4.118982</td></tr>\n",
       "<tr><td>7198365188529</td><td>123892511.59526515</td><td>85.58907</td><td>21.491413</td><td>0.6518216</td></tr>\n",
       "<tr><td>7198365188578</td><td>123892511.85330749</td><td>85.239136</td><td>23.94445</td><td>6.0601764</td></tr>\n",
       "<tr><td>7198365188816</td><td>123892512.85406923</td><td>84.41192</td><td>21.330505</td><td>0.5524084</td></tr>\n",
       "<tr><td>7198365188843</td><td>123892513.0062654</td><td>84.47432</td><td>21.634737</td><td>1.1091197</td></tr>\n",
       "</table></div>"
      ],
      "text/plain": [
       "<Table length=3991>\n",
       "   EVENT_ID          TIME            RA       DEC      ENERGY  \n",
       "                      s             deg       deg       TeV    \n",
       "    int64          float64        float32   float32   float32  \n",
       "------------- ------------------ --------- --------- ----------\n",
       "5407363825684 123890826.66805482  84.97964  23.89347  10.352011\n",
       "5407363825695 123890826.69749284  84.54751 21.004095  4.0246882\n",
       "5407363825831 123890827.23673964  85.39696  19.41868  2.2048872\n",
       "5407363826067 123890828.26131463  85.98302 21.053099 0.86911184\n",
       "5407363826095 123890828.41393518  86.97305 21.837437  4.1240892\n",
       "5407363826383 123890829.53362775  83.18322 22.008213  0.7920148\n",
       "          ...                ...       ...       ...        ...\n",
       "7198365188207 123892510.24479365  84.97216 19.973597  2.0567915\n",
       "7198365188478 123892511.37516403  83.86311 21.793667   4.118982\n",
       "7198365188529 123892511.59526515  85.58907 21.491413  0.6518216\n",
       "7198365188578 123892511.85330749 85.239136  23.94445  6.0601764\n",
       "7198365188816 123892512.85406923  84.41192 21.330505  0.5524084\n",
       "7198365188843  123892513.0062654  84.47432 21.634737  1.1091197"
      ]
     },
     "execution_count": 33,
     "metadata": {},
     "output_type": "execute_result"
    }
   ],
   "source": [
    "# Select events from a region in the sky\n",
    "selected_region =  events.select_region(\"icrs;circle(86.3,22.01,3)\")\n",
    "selected_region.table"
   ]
  },
  {
   "cell_type": "code",
   "execution_count": 34,
   "metadata": {},
   "outputs": [
    {
     "data": {
      "text/html": [
       "<div><i>Table length=1</i>\n",
       "<table id=\"table139797013732848\" class=\"table-striped table-bordered table-condensed\">\n",
       "<thead><tr><th>EVENT_ID</th><th>TIME</th><th>RA</th><th>DEC</th><th>ENERGY</th></tr></thead>\n",
       "<thead><tr><th></th><th>s</th><th>deg</th><th>deg</th><th>TeV</th></tr></thead>\n",
       "<thead><tr><th>int64</th><th>float64</th><th>float32</th><th>float32</th><th>float32</th></tr></thead>\n",
       "<tr><td>5407363826067</td><td>123890828.26131463</td><td>85.98302</td><td>21.053099</td><td>0.86911184</td></tr>\n",
       "</table></div>"
      ],
      "text/plain": [
       "<Table length=1>\n",
       "   EVENT_ID          TIME           RA       DEC      ENERGY  \n",
       "                      s            deg       deg       TeV    \n",
       "    int64          float64       float32   float32   float32  \n",
       "------------- ------------------ -------- --------- ----------\n",
       "5407363826067 123890828.26131463 85.98302 21.053099 0.86911184"
      ]
     },
     "execution_count": 34,
     "metadata": {},
     "output_type": "execute_result"
    }
   ],
   "source": [
    "# Finally one can select events based on any other of the columns of the `EventList.table`\n",
    "selected_id = events.select_parameter('EVENT_ID', (5407363826067,5407363826070))\n",
    "selected_id.table"
   ]
  },
  {
   "cell_type": "markdown",
   "metadata": {},
   "source": [
    "To finish"
   ]
  },
  {
   "cell_type": "markdown",
   "metadata": {},
   "source": [
    "🔝 [Back to Top](#indice)<br>"
   ]
  },
  {
   "cell_type": "markdown",
   "metadata": {},
   "source": [
    "___"
   ]
  },
  {
   "cell_type": "markdown",
   "metadata": {},
   "source": [
    "<a id='step1'></a>\n",
    "## Step 1.0:  Data Extraction"
   ]
  },
  {
   "cell_type": "markdown",
   "metadata": {},
   "source": [
    "https://docs.gammapy.org/1.0/_images/data-flow-gammapy.png"
   ]
  },
  {
   "cell_type": "markdown",
   "metadata": {},
   "source": [
    "<a id='step1.1'></a>\n",
    "### Step 1.1: Downloading the Data"
   ]
  },
  {
   "cell_type": "markdown",
   "metadata": {},
   "source": [
    "Text"
   ]
  },
  {
   "cell_type": "markdown",
   "metadata": {},
   "source": [
    "<a id='step1.2'></a>\n",
    "### Step 1.2: Loading the DataFrame"
   ]
  },
  {
   "cell_type": "markdown",
   "metadata": {},
   "source": [
    "Text"
   ]
  },
  {
   "cell_type": "markdown",
   "metadata": {},
   "source": [
    "<a id='step1.3'></a>\n",
    "### Step 1.3: DataFrame Display"
   ]
  },
  {
   "cell_type": "markdown",
   "metadata": {},
   "source": [
    "Text"
   ]
  },
  {
   "cell_type": "markdown",
   "metadata": {},
   "source": [
    "🔝 [Back to Top](#indice)<br>"
   ]
  },
  {
   "cell_type": "markdown",
   "metadata": {},
   "source": [
    "___"
   ]
  },
  {
   "cell_type": "markdown",
   "metadata": {},
   "source": [
    "<a id='step2'></a>\n",
    "## Step 2.0: Data Preparation"
   ]
  },
  {
   "cell_type": "markdown",
   "metadata": {},
   "source": [
    "Text"
   ]
  },
  {
   "cell_type": "markdown",
   "metadata": {},
   "source": [
    "<a id='step2.1'></a>\n",
    "### Step 2.1: Data Description"
   ]
  },
  {
   "cell_type": "markdown",
   "metadata": {},
   "source": [
    "Text"
   ]
  },
  {
   "cell_type": "markdown",
   "metadata": {},
   "source": [
    "<a id='step2.2'></a>\n",
    "### Step 2.2: Quantifying Cardinality "
   ]
  },
  {
   "cell_type": "markdown",
   "metadata": {},
   "source": [
    "Text"
   ]
  },
  {
   "cell_type": "markdown",
   "metadata": {},
   "source": [
    "<a id='step2.3'></a>\n",
    "### Step 2.3: Removing Duplicates"
   ]
  },
  {
   "cell_type": "markdown",
   "metadata": {},
   "source": [
    "Text"
   ]
  },
  {
   "cell_type": "markdown",
   "metadata": {},
   "source": [
    "<a id='step2.4'></a>\n",
    "### Step 2.4: Removing Irrelevant Data "
   ]
  },
  {
   "cell_type": "markdown",
   "metadata": {},
   "source": [
    "Text"
   ]
  },
  {
   "cell_type": "markdown",
   "metadata": {},
   "source": [
    "<a id='step2.5'></a>\n",
    "### Step 2.5: Fixing Structural Errors"
   ]
  },
  {
   "cell_type": "markdown",
   "metadata": {},
   "source": [
    "Text"
   ]
  },
  {
   "cell_type": "markdown",
   "metadata": {},
   "source": [
    "<a id='step2.6'></a>\n",
    "### Step 2.6: Detecting Outliers"
   ]
  },
  {
   "cell_type": "markdown",
   "metadata": {},
   "source": [
    "Text"
   ]
  },
  {
   "cell_type": "markdown",
   "metadata": {},
   "source": [
    "<a id='step2.7'></a>\n",
    "### Step 2.7: Handling Missing Data"
   ]
  },
  {
   "cell_type": "markdown",
   "metadata": {},
   "source": [
    "Text"
   ]
  },
  {
   "cell_type": "markdown",
   "metadata": {},
   "source": [
    "<a id='step2.8'></a>\n",
    "### Step 2.8: One Hot Encoding"
   ]
  },
  {
   "cell_type": "markdown",
   "metadata": {},
   "source": [
    "Text"
   ]
  },
  {
   "cell_type": "markdown",
   "metadata": {},
   "source": [
    "🔝 [Back to Top](#indice)<br>"
   ]
  },
  {
   "cell_type": "markdown",
   "metadata": {},
   "source": [
    "___"
   ]
  },
  {
   "cell_type": "markdown",
   "metadata": {},
   "source": [
    "<a id='step3'></a>\n",
    "## Step 3.0: Data Exploration/Visualization"
   ]
  },
  {
   "cell_type": "markdown",
   "metadata": {},
   "source": [
    "Text"
   ]
  },
  {
   "cell_type": "markdown",
   "metadata": {},
   "source": [
    "<a id='step3.1'></a>\n",
    "### Step 3.1: Descriptive Statistics "
   ]
  },
  {
   "cell_type": "markdown",
   "metadata": {},
   "source": [
    "Text"
   ]
  },
  {
   "cell_type": "markdown",
   "metadata": {},
   "source": [
    "<a id='step3.2'></a>\n",
    "### Step 3.2: Feature Selection "
   ]
  },
  {
   "cell_type": "markdown",
   "metadata": {},
   "source": [
    "Text"
   ]
  },
  {
   "cell_type": "markdown",
   "metadata": {},
   "source": [
    "<a id='step3.2.1'></a>\n",
    "#### Step 3.2.1: Univariate Selction"
   ]
  },
  {
   "cell_type": "markdown",
   "metadata": {
    "scrolled": true
   },
   "source": [
    "Text"
   ]
  },
  {
   "cell_type": "markdown",
   "metadata": {},
   "source": [
    "<a id='step3.2.2'></a>\n",
    "#### Step 3.2.2: Feature Importance"
   ]
  },
  {
   "cell_type": "markdown",
   "metadata": {
    "scrolled": true
   },
   "source": [
    "Text"
   ]
  },
  {
   "cell_type": "markdown",
   "metadata": {},
   "source": [
    "<a id='step3.3'></a>\n",
    "### Step 3.3: Features Correlation"
   ]
  },
  {
   "cell_type": "markdown",
   "metadata": {},
   "source": [
    "Text"
   ]
  },
  {
   "cell_type": "markdown",
   "metadata": {},
   "source": [
    "🔝 [Back to Top](#indice)<br>"
   ]
  },
  {
   "cell_type": "markdown",
   "metadata": {},
   "source": [
    "___"
   ]
  },
  {
   "cell_type": "markdown",
   "metadata": {},
   "source": [
    "<a id='step4'></a>\n",
    "## Step 4.0: Predictive Modeling"
   ]
  },
  {
   "cell_type": "markdown",
   "metadata": {},
   "source": [
    "Text"
   ]
  },
  {
   "cell_type": "markdown",
   "metadata": {},
   "source": [
    "___"
   ]
  },
  {
   "cell_type": "markdown",
   "metadata": {},
   "source": [
    "🔝 [Back to Top](#indice)<br>"
   ]
  },
  {
   "cell_type": "markdown",
   "metadata": {},
   "source": [
    "___"
   ]
  },
  {
   "cell_type": "markdown",
   "metadata": {},
   "source": [
    "<a id='step5'></a>\n",
    "## Step 5.0: Model Validation\n"
   ]
  },
  {
   "cell_type": "markdown",
   "metadata": {},
   "source": [
    "Text"
   ]
  },
  {
   "cell_type": "markdown",
   "metadata": {},
   "source": [
    "🔝 [Back to Top](#indice)<br>"
   ]
  },
  {
   "cell_type": "markdown",
   "metadata": {},
   "source": [
    "___"
   ]
  },
  {
   "cell_type": "markdown",
   "metadata": {},
   "source": [
    "<a id='deployment'></a>\n",
    "## Deployment of the Solution \n"
   ]
  },
  {
   "cell_type": "markdown",
   "metadata": {},
   "source": [
    "text"
   ]
  },
  {
   "cell_type": "markdown",
   "metadata": {},
   "source": [
    "<a id='acknowledgements'></a>\n",
    "## Acknowledgements"
   ]
  },
  {
   "cell_type": "markdown",
   "metadata": {},
   "source": [
    "Text"
   ]
  },
  {
   "cell_type": "markdown",
   "metadata": {},
   "source": [
    "🔝 [Back to Top](#indice)<br>"
   ]
  },
  {
   "cell_type": "code",
   "execution_count": null,
   "metadata": {},
   "outputs": [],
   "source": []
  }
 ],
 "metadata": {
  "kernelspec": {
   "display_name": "Python 3 (ipykernel)",
   "language": "python",
   "name": "python3"
  },
  "language_info": {
   "codemirror_mode": {
    "name": "ipython",
    "version": 3
   },
   "file_extension": ".py",
   "mimetype": "text/x-python",
   "name": "python",
   "nbconvert_exporter": "python",
   "pygments_lexer": "ipython3",
   "version": "3.8.13"
  }
 },
 "nbformat": 4,
 "nbformat_minor": 4
}
