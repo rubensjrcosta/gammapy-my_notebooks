{
 "cells": [
  {
   "cell_type": "markdown",
   "id": "803db261",
   "metadata": {},
   "source": [
    "# Low level API\n",
    "\n",
    "## Prerequisites\n",
    "\n",
    "- Understanding the gammapy data workflow, in particular what are DL3 events and instrument response functions (IRF).\n",
    "- Understanding of the data reduction and modeling fitting process as shown in the [analysis with the high level interface tutorial](analysis_1.ipynb)\n",
    "\n",
    "## Context\n",
    "\n",
    "This notebook is an introduction to gammapy analysis this time using the lower level classes and functions\n",
    "the library.\n",
    "This allows to understand what happens during two main gammapy analysis steps, data reduction and modeling/fitting. \n",
    "\n",
    "**Objective: Create a 3D dataset of the Crab using the H.E.S.S. DL3 data release 1 and perform a simple model fitting of the Crab nebula using the lower level gammapy API.**\n",
    "\n",
    "## Proposed approach\n",
    "\n",
    "Here, we have to interact with the data archive (with the `~gammapy.data.DataStore`) to retrieve a list of selected observations (`~gammapy.data.Observations`). Then, we define the geometry of the `~gammapy.datasets.MapDataset` object we want to produce and the maker object that reduce an observation\n",
    "to a dataset. \n",
    "\n",
    "We can then proceed with data reduction with a loop over all selected observations to produce datasets in the relevant geometry and stack them together (i.e. sum them all).\n",
    "\n",
    "In practice, we have to:\n",
    "- Create a `~gammapy.data.DataStore` poiting to the relevant data \n",
    "- Apply an observation selection to produce a list of observations, a `~gammapy.data.Observations` object.\n",
    "- Define a geometry of the Map we want to produce, with a sky projection and an energy range.\n",
    "    - Create a `~gammapy.maps.MapAxis` for the energy\n",
    "    - Create a `~gammapy.maps.WcsGeom` for the geometry\n",
    "- Create the necessary makers : \n",
    "    - the map dataset maker : `~gammapy.makers.MapDatasetMaker`\n",
    "    - the background normalization maker, here a `~gammapy.makers.FoVBackgroundMaker`\n",
    "    - and usually the safe range maker : `~gammapy.makers.SafeMaskMaker`\n",
    "- Perform the data reduction loop. And for every observation:\n",
    "    - Apply the makers sequentially to produce the current `~gammapy.datasets.MapDataset`\n",
    "    - Stack it on the target one.\n",
    "- Define the `~gammapy.modeling.models.SkyModel` to apply to the dataset.\n",
    "- Create a `~gammapy.modeling.Fit` object and run it to fit the model parameters\n",
    "- Apply a `~gammapy.estimators.FluxPointsEstimator` to compute flux points for the spectral part of the fit.\n",
    "\n",
    "## Setup\n",
    "First, we setup the analysis by performing required imports.\n"
   ]
  },
  {
   "cell_type": "code",
   "execution_count": 1,
   "id": "9ca5dc3f",
   "metadata": {},
   "outputs": [],
   "source": [
    "%matplotlib inline\n",
    "import matplotlib.pyplot as plt"
   ]
  },
  {
   "cell_type": "code",
   "execution_count": 2,
   "id": "a095d709",
   "metadata": {},
   "outputs": [],
   "source": [
    "from pathlib import Path\n",
    "from astropy import units as u\n",
    "from astropy.coordinates import SkyCoord\n",
    "from regions import CircleSkyRegion"
   ]
  },
  {
   "cell_type": "code",
   "execution_count": 3,
   "id": "4545b3c9",
   "metadata": {},
   "outputs": [],
   "source": [
    "from gammapy.data import DataStore\n",
    "from gammapy.datasets import MapDataset\n",
    "from gammapy.maps import WcsGeom, MapAxis\n",
    "from gammapy.makers import MapDatasetMaker, SafeMaskMaker, FoVBackgroundMaker\n",
    "from gammapy.modeling.models import (\n",
    "    SkyModel,\n",
    "    PowerLawSpectralModel,\n",
    "    PointSpatialModel,\n",
    "    FoVBackgroundModel,\n",
    ")\n",
    "from gammapy.modeling import Fit\n",
    "from gammapy.estimators import FluxPointsEstimator"
   ]
  },
  {
   "cell_type": "markdown",
   "id": "6f9fe962",
   "metadata": {},
   "source": [
    "## Defining the datastore and selecting observations\n",
    "\n",
    "We first use the `~gammapy.data.DataStore` object to access the observations we want to analyse. Here the H.E.S.S. DL3 DR1. "
   ]
  },
  {
   "cell_type": "code",
   "execution_count": 4,
   "id": "188a626b",
   "metadata": {},
   "outputs": [],
   "source": [
    "data_store = DataStore.from_dir(\"$GAMMAPY_DATA/hess-dl3-dr1\")"
   ]
  },
  {
   "cell_type": "markdown",
   "id": "94cd41ba",
   "metadata": {},
   "source": [
    "We can now define an observation filter to select only the relevant observations. \n",
    "Here we use a cone search which we define with a python dict.\n",
    "\n",
    "We then filter the `ObservationTable` with `~gammapy.data.ObservationTable.select_observations()`."
   ]
  },
  {
   "cell_type": "code",
   "execution_count": 5,
   "id": "f297b85b",
   "metadata": {},
   "outputs": [],
   "source": [
    "selection = dict(\n",
    "    type=\"sky_circle\",\n",
    "    frame=\"icrs\",\n",
    "    lon=\"83.633 deg\",\n",
    "    lat=\"22.014 deg\",\n",
    "    radius=\"5 deg\",\n",
    ")\n",
    "selected_obs_table = data_store.obs_table.select_observations(selection)"
   ]
  },
  {
   "cell_type": "code",
   "execution_count": 30,
   "id": "8c1ff572",
   "metadata": {},
   "outputs": [
    {
     "data": {
      "text/html": [
       "<div><i>ObservationTable length=4</i>\n",
       "<table id=\"table140596409706720\" class=\"table-striped table-bordered table-condensed\">\n",
       "<thead><tr><th>OBS_ID</th><th>RA_PNT</th><th>DEC_PNT</th><th>GLON_PNT</th><th>GLAT_PNT</th><th>ZEN_PNT</th><th>ALT_PNT</th><th>AZ_PNT</th><th>OBJECT</th><th>RA_OBJ</th><th>DEC_OBJ</th><th>OFFSET_OBJ</th><th>ONTIME</th><th>LIVETIME</th><th>DEADC</th><th>TSTART</th><th>TSTOP</th><th>DATE-OBS</th><th>TIME-OBS</th><th>DATE-END</th><th>TIME-END</th><th>N_TELS</th><th>TELLIST</th><th>QUALITY</th><th>MUONEFF</th><th>EVENT_COUNT</th><th>TARGET_NAME</th><th>TARGET_TAG</th><th>TARGET_OFFSET</th><th>SAFE_ENERGY_LO</th><th>SAFE_ENERGY_HI</th></tr></thead>\n",
       "<thead><tr><th></th><th>deg</th><th>deg</th><th>deg</th><th>deg</th><th>deg</th><th>deg</th><th>deg</th><th></th><th>deg</th><th>deg</th><th>deg</th><th>s</th><th>s</th><th></th><th>s</th><th>s</th><th></th><th></th><th></th><th></th><th></th><th></th><th></th><th></th><th></th><th></th><th></th><th>deg</th><th>TeV</th><th>TeV</th></tr></thead>\n",
       "<thead><tr><th>int64</th><th>float32</th><th>float32</th><th>float32</th><th>float32</th><th>float32</th><th>float32</th><th>float32</th><th>bytes18</th><th>float32</th><th>float32</th><th>float32</th><th>float32</th><th>float32</th><th>float32</th><th>float64</th><th>float64</th><th>bytes10</th><th>bytes12</th><th>bytes10</th><th>bytes12</th><th>int64</th><th>bytes7</th><th>int64</th><th>float32</th><th>int64</th><th>bytes21</th><th>bytes14</th><th>float32</th><th>float32</th><th>float32</th></tr></thead>\n",
       "<tr><td>23523</td><td>83.63333</td><td>21.514444</td><td>184.9823</td><td>-6.0516925</td><td>48.61021</td><td>41.38979</td><td>22.481705</td><td>Crab Nebula</td><td>83.63333</td><td>22.014444</td><td>0.5</td><td>1687.0</td><td>1581.7368</td><td>0.9376033</td><td>123890826.0</td><td>123892513.0</td><td>2004-12-04</td><td>22:08:10.184</td><td>2004-12-04</td><td>22:36:17.184</td><td>4</td><td>1,2,3,4</td><td>0</td><td>0.9070748</td><td>7613</td><td>Crab</td><td>crab</td><td>0.500049</td><td>0.8709636</td><td>100.0</td></tr>\n",
       "<tr><td>23526</td><td>83.63333</td><td>22.514444</td><td>184.13332</td><td>-5.5163794</td><td>45.77929</td><td>44.22071</td><td>8.542603</td><td>Crab Nebula</td><td>83.63333</td><td>22.014444</td><td>0.5</td><td>1683.0</td><td>1572.6868</td><td>0.9344544</td><td>123893580.0</td><td>123895263.0</td><td>2004-12-04</td><td>22:54:04.184</td><td>2004-12-04</td><td>23:22:07.184</td><td>4</td><td>1,2,3,4</td><td>0</td><td>0.9142412</td><td>7581</td><td>Crab</td><td>crab</td><td>0.49995112</td><td>0.70794576</td><td>100.0</td></tr>\n",
       "<tr><td>23559</td><td>85.253334</td><td>22.014444</td><td>185.35727</td><td>-4.510869</td><td>45.368176</td><td>44.631824</td><td>2.2535799</td><td>Crab Nebula</td><td>83.63333</td><td>22.014444</td><td>1.5018803</td><td>1686.0</td><td>1578.1235</td><td>0.9360163</td><td>124067051.0</td><td>124068737.0</td><td>2004-12-06</td><td>23:05:15.184</td><td>2004-12-06</td><td>23:33:21.184</td><td>4</td><td>1,2,3,4</td><td>0</td><td>0.91964024</td><td>7601</td><td>Crab</td><td>crab</td><td>1.5021166</td><td>0.66069347</td><td>100.0</td></tr>\n",
       "<tr><td>23592</td><td>82.013336</td><td>22.014444</td><td>183.7408</td><td>-7.047852</td><td>48.389248</td><td>41.610752</td><td>21.7556</td><td>Crab Nebula</td><td>83.63333</td><td>22.014444</td><td>1.5018733</td><td>1686.0</td><td>1581.2646</td><td>0.9378794</td><td>124235636.0</td><td>124237322.0</td><td>2004-12-08</td><td>21:55:00.184</td><td>2004-12-08</td><td>22:23:06.184</td><td>4</td><td>1,2,3,4</td><td>0</td><td>0.9120389</td><td>7334</td><td>Crab</td><td>crab</td><td>1.5016365</td><td>0.8709636</td><td>100.0</td></tr>\n",
       "</table></div>"
      ],
      "text/plain": [
       "<ObservationTable length=4>\n",
       "OBS_ID   RA_PNT  ... SAFE_ENERGY_LO SAFE_ENERGY_HI\n",
       "          deg    ...      TeV            TeV      \n",
       "int64   float32  ...    float32        float32    \n",
       "------ --------- ... -------------- --------------\n",
       " 23523  83.63333 ...      0.8709636          100.0\n",
       " 23526  83.63333 ...     0.70794576          100.0\n",
       " 23559 85.253334 ...     0.66069347          100.0\n",
       " 23592 82.013336 ...      0.8709636          100.0"
      ]
     },
     "execution_count": 30,
     "metadata": {},
     "output_type": "execute_result"
    }
   ],
   "source": [
    "selected_obs_table"
   ]
  },
  {
   "cell_type": "markdown",
   "id": "a0e897f0",
   "metadata": {},
   "source": [
    "We can now retrieve the relevant observations by passing their `obs_id` to the`~gammapy.data.DataStore.get_observations()` method."
   ]
  },
  {
   "cell_type": "code",
   "execution_count": 6,
   "id": "d45c0df4",
   "metadata": {},
   "outputs": [],
   "source": [
    "observations = data_store.get_observations(selected_obs_table[\"OBS_ID\"])"
   ]
  },
  {
   "cell_type": "code",
   "execution_count": 37,
   "id": "2594100b",
   "metadata": {},
   "outputs": [
    {
     "name": "stdout",
     "output_type": "stream",
     "text": [
      "Observations\n",
      "Number of observations: 4\n",
      "Observation\n",
      "\n",
      "\tobs id            : 23523 \n",
      " \ttstart            : 53343.92\n",
      "\ttstop             : 53343.94\n",
      "\tduration          : 1687.00 s\n",
      "\tpointing (icrs)   : 83.6 deg, 21.5 deg\n",
      "\n",
      "\tdeadtime fraction : 6.2%\n",
      "Observation\n",
      "\n",
      "\tobs id            : 23526 \n",
      " \ttstart            : 53343.95\n",
      "\ttstop             : 53343.97\n",
      "\tduration          : 1683.00 s\n",
      "\tpointing (icrs)   : 83.6 deg, 22.5 deg\n",
      "\n",
      "\tdeadtime fraction : 6.6%\n",
      "Observation\n",
      "\n",
      "\tobs id            : 23559 \n",
      " \ttstart            : 53345.96\n",
      "\ttstop             : 53345.98\n",
      "\tduration          : 1686.00 s\n",
      "\tpointing (icrs)   : 85.3 deg, 22.0 deg\n",
      "\n",
      "\tdeadtime fraction : 6.4%\n",
      "Observation\n",
      "\n",
      "\tobs id            : 23592 \n",
      " \ttstart            : 53347.91\n",
      "\ttstop             : 53347.93\n",
      "\tduration          : 1686.00 s\n",
      "\tpointing (icrs)   : 82.0 deg, 22.0 deg\n",
      "\n",
      "\tdeadtime fraction : 6.2%\n",
      "\n"
     ]
    }
   ],
   "source": [
    "print(observations)"
   ]
  },
  {
   "cell_type": "markdown",
   "id": "6b6ce33f",
   "metadata": {},
   "source": [
    "## Preparing reduced datasets geometry\n",
    "\n",
    "Now we define a reference geometry for our analysis, We choose a WCS based geometry with a binsize of 0.02 deg and also define an energy axis: "
   ]
  },
  {
   "cell_type": "code",
   "execution_count": 7,
   "id": "78b351b1",
   "metadata": {},
   "outputs": [],
   "source": [
    "energy_axis = MapAxis.from_energy_bounds(1.0, 10.0, 4, unit=\"TeV\")\n",
    "\n",
    "geom = WcsGeom.create(\n",
    "    skydir=(83.633, 22.014),\n",
    "    binsz=0.02,\n",
    "    width=(2, 2),\n",
    "    frame=\"icrs\",\n",
    "    proj=\"CAR\",\n",
    "    axes=[energy_axis],\n",
    ")\n",
    "\n",
    "# Reduced IRFs are defined in true energy (i.e. not measured energy).\n",
    "energy_axis_true = MapAxis.from_energy_bounds(\n",
    "    0.5, 20, 10, unit=\"TeV\", name=\"energy_true\"\n",
    ")"
   ]
  },
  {
   "cell_type": "markdown",
   "id": "33e001d2",
   "metadata": {},
   "source": [
    "Now we can define the target dataset with this geometry."
   ]
  },
  {
   "cell_type": "code",
   "execution_count": 8,
   "id": "c6b219dc",
   "metadata": {},
   "outputs": [],
   "source": [
    "stacked = MapDataset.create(\n",
    "    geom=geom, energy_axis_true=energy_axis_true, name=\"crab-stacked\"\n",
    ")"
   ]
  },
  {
   "cell_type": "markdown",
   "id": "9acbb34c",
   "metadata": {},
   "source": [
    "## Data reduction\n",
    "\n",
    "### Create the maker classes to be used\n",
    "\n",
    "The `~gammapy.makers.MapDatasetMaker` object is initialized as well as the `~gammapy.makers.SafeMaskMaker` that carries here a maximum offset selection."
   ]
  },
  {
   "cell_type": "code",
   "execution_count": 9,
   "id": "13b6a250",
   "metadata": {},
   "outputs": [],
   "source": [
    "offset_max = 2.5 * u.deg\n",
    "maker = MapDatasetMaker()\n",
    "maker_safe_mask = SafeMaskMaker(\n",
    "    methods=[\"offset-max\", \"aeff-max\"], offset_max=offset_max\n",
    ")"
   ]
  },
  {
   "cell_type": "code",
   "execution_count": 10,
   "id": "3842d084",
   "metadata": {},
   "outputs": [],
   "source": [
    "circle = CircleSkyRegion(\n",
    "    center=SkyCoord(\"83.63 deg\", \"22.14 deg\"), radius=0.2 * u.deg\n",
    ")\n",
    "exclusion_mask = ~geom.region_mask(regions=[circle])\n",
    "maker_fov = FoVBackgroundMaker(method=\"fit\", exclusion_mask=exclusion_mask)"
   ]
  },
  {
   "cell_type": "markdown",
   "id": "40e25fe3",
   "metadata": {},
   "source": [
    "### Perform the data reduction loop"
   ]
  },
  {
   "cell_type": "code",
   "execution_count": 11,
   "id": "43af26d3",
   "metadata": {},
   "outputs": [
    {
     "name": "stdout",
     "output_type": "stream",
     "text": [
      "Background norm obs 23523: 0.99\n",
      "Background norm obs 23526: 1.08\n",
      "Background norm obs 23559: 0.99\n",
      "Background norm obs 23592: 1.10\n",
      "CPU times: user 3.81 s, sys: 80.2 ms, total: 3.89 s\n",
      "Wall time: 3.89 s\n"
     ]
    }
   ],
   "source": [
    "%%time\n",
    "\n",
    "for obs in observations:\n",
    "    # First a cutout of the target map is produced\n",
    "    cutout = stacked.cutout(\n",
    "        obs.pointing_radec, width=2 * offset_max, name=f\"obs-{obs.obs_id}\"\n",
    "    )\n",
    "    # A MapDataset is filled in this cutout geometry\n",
    "    dataset = maker.run(cutout, obs)\n",
    "    # The data quality cut is applied\n",
    "    dataset = maker_safe_mask.run(dataset, obs)\n",
    "    # fit background model\n",
    "    dataset = maker_fov.run(dataset)\n",
    "    print(\n",
    "        f\"Background norm obs {obs.obs_id}: {dataset.background_model.spectral_model.norm.value:.2f}\"\n",
    "    )\n",
    "    # The resulting dataset cutout is stacked onto the final one\n",
    "    stacked.stack(dataset)"
   ]
  },
  {
   "cell_type": "code",
   "execution_count": 12,
   "id": "3e053dd7",
   "metadata": {},
   "outputs": [
    {
     "name": "stdout",
     "output_type": "stream",
     "text": [
      "MapDataset\n",
      "----------\n",
      "\n",
      "  Name                            : crab-stacked \n",
      "\n",
      "  Total counts                    : 2479 \n",
      "  Total background counts         : 2112.97\n",
      "  Total excess counts             : 366.03\n",
      "\n",
      "  Predicted counts                : 2112.97\n",
      "  Predicted background counts     : 2112.97\n",
      "  Predicted excess counts         : nan\n",
      "\n",
      "  Exposure min                    : 3.75e+08 m2 s\n",
      "  Exposure max                    : 3.48e+09 m2 s\n",
      "\n",
      "  Number of total bins            : 40000 \n",
      "  Number of fit bins              : 40000 \n",
      "\n",
      "  Fit statistic type              : cash\n",
      "  Fit statistic value (-2 log(L)) : nan\n",
      "\n",
      "  Number of models                : 0 \n",
      "  Number of parameters            : 0\n",
      "  Number of free parameters       : 0\n",
      "\n",
      "\n"
     ]
    }
   ],
   "source": [
    "print(stacked)"
   ]
  },
  {
   "cell_type": "markdown",
   "id": "a706c3a5",
   "metadata": {},
   "source": [
    "### Inspect the reduced dataset"
   ]
  },
  {
   "cell_type": "code",
   "execution_count": 13,
   "id": "e4006916",
   "metadata": {},
   "outputs": [
    {
     "data": {
      "image/png": "[encoded data removed]",
      "text/plain": [
       "<Figure size 640x480 with 2 Axes>"
      ]
     },
     "metadata": {},
     "output_type": "display_data"
    }
   ],
   "source": [
    "stacked.counts.sum_over_axes().smooth(0.05 * u.deg).plot(\n",
    "    stretch=\"sqrt\", add_cbar=True\n",
    ");"
   ]
  },
  {
   "cell_type": "markdown",
   "id": "4fb1341f",
   "metadata": {},
   "source": [
    "## Save dataset to disk\n",
    "\n",
    "It is common to run the preparation step independent of the likelihood fit, because often the preparation of maps, PSF and energy dispersion is slow if you have a lot of data. We first create a folder:"
   ]
  },
  {
   "cell_type": "code",
   "execution_count": 14,
   "id": "1b522a76",
   "metadata": {},
   "outputs": [],
   "source": [
    "path = Path(\"analysis_2\")\n",
    "path.mkdir(exist_ok=True)"
   ]
  },
  {
   "cell_type": "markdown",
   "id": "a45afd0c",
   "metadata": {},
   "source": [
    "And then write the maps and IRFs to disk by calling the dedicated `~gammapy.datasets.MapDataset.write()` method:"
   ]
  },
  {
   "cell_type": "code",
   "execution_count": 15,
   "id": "829a9f2a",
   "metadata": {},
   "outputs": [],
   "source": [
    "filename = path / \"crab-stacked-dataset.fits.gz\"\n",
    "stacked.write(filename, overwrite=True)"
   ]
  },
  {
   "cell_type": "markdown",
   "id": "d3dccf13",
   "metadata": {},
   "source": [
    "## Define the model\n",
    "We first define the model, a `SkyModel`, as the combination of a point source `SpatialModel` with a powerlaw `SpectralModel`:"
   ]
  },
  {
   "cell_type": "code",
   "execution_count": 16,
   "id": "9a25b342",
   "metadata": {},
   "outputs": [],
   "source": [
    "target_position = SkyCoord(ra=83.63308, dec=22.01450, unit=\"deg\")\n",
    "spatial_model = PointSpatialModel(\n",
    "    lon_0=target_position.ra, lat_0=target_position.dec, frame=\"icrs\"\n",
    ")\n",
    "\n",
    "spectral_model = PowerLawSpectralModel(\n",
    "    index=2.702,\n",
    "    amplitude=4.712e-11 * u.Unit(\"1 / (cm2 s TeV)\"),\n",
    "    reference=1 * u.TeV,\n",
    ")\n",
    "\n",
    "sky_model = SkyModel(\n",
    "    spatial_model=spatial_model, spectral_model=spectral_model, name=\"crab\"\n",
    ")\n",
    "\n",
    "bkg_model = FoVBackgroundModel(dataset_name=\"crab-stacked\")"
   ]
  },
  {
   "cell_type": "markdown",
   "id": "aeb65177",
   "metadata": {},
   "source": [
    "Now we assign this model to our reduced dataset:"
   ]
  },
  {
   "cell_type": "code",
   "execution_count": 17,
   "id": "02ccbbf7",
   "metadata": {},
   "outputs": [],
   "source": [
    "stacked.models = [sky_model, bkg_model]"
   ]
  },
  {
   "cell_type": "markdown",
   "id": "e7ef1ec4",
   "metadata": {},
   "source": [
    "## Fit the model\n",
    "\n",
    "The `~gammapy.modeling.Fit` class is orchestrating the fit, connecting the `stats` method of the dataset to the minimizer. By default, it uses `iminuit`.\n",
    "\n",
    "Its constructor takes a list of dataset as argument."
   ]
  },
  {
   "cell_type": "code",
   "execution_count": 18,
   "id": "1bc447dc",
   "metadata": {},
   "outputs": [
    {
     "name": "stdout",
     "output_type": "stream",
     "text": [
      "CPU times: user 6.14 s, sys: 1.34 s, total: 7.48 s\n",
      "Wall time: 7.49 s\n"
     ]
    }
   ],
   "source": [
    "%%time\n",
    "fit = Fit(optimize_opts={\"print_level\": 1})\n",
    "result = fit.run([stacked])"
   ]
  },
  {
   "cell_type": "markdown",
   "id": "ca5d3ad7",
   "metadata": {},
   "source": [
    "The `FitResult` contains information about the optimization and parameter error calculation."
   ]
  },
  {
   "cell_type": "code",
   "execution_count": 19,
   "id": "b3493441",
   "metadata": {},
   "outputs": [
    {
     "name": "stdout",
     "output_type": "stream",
     "text": [
      "OptimizeResult\n",
      "\n",
      "\tbackend    : minuit\n",
      "\tmethod     : migrad\n",
      "\tsuccess    : True\n",
      "\tmessage    : Optimization terminated successfully.\n",
      "\tnfev       : 143\n",
      "\ttotal stat : 16240.97\n",
      "\n",
      "CovarianceResult\n",
      "\n",
      "\tbackend    : minuit\n",
      "\tmethod     : hesse\n",
      "\tsuccess    : True\n",
      "\tmessage    : Hesse terminated successfully.\n",
      "\n"
     ]
    }
   ],
   "source": [
    "print(result)"
   ]
  },
  {
   "cell_type": "markdown",
   "id": "943c657d",
   "metadata": {},
   "source": [
    "The fitted parameters are visible from the `~astropy.modeling.models.Models` object."
   ]
  },
  {
   "cell_type": "code",
   "execution_count": 20,
   "id": "644532c5",
   "metadata": {},
   "outputs": [
    {
     "data": {
      "text/html": [
       "<div><i>Table length=8</i>\n",
       "<table id=\"table140596327797280\" class=\"table-striped table-bordered table-condensed\">\n",
       "<thead><tr><th>model</th><th>type</th><th>name</th><th>value</th><th>unit</th><th>error</th><th>min</th><th>max</th><th>frozen</th><th>is_norm</th><th>link</th></tr></thead>\n",
       "<thead><tr><th>str16</th><th>str8</th><th>str9</th><th>float64</th><th>str14</th><th>float64</th><th>float64</th><th>float64</th><th>bool</th><th>bool</th><th>str1</th></tr></thead>\n",
       "<tr><td>crab</td><td>spectral</td><td>index</td><td>2.6000e+00</td><td></td><td>1.004e-01</td><td>nan</td><td>nan</td><td>False</td><td>False</td><td></td></tr>\n",
       "<tr><td>crab</td><td>spectral</td><td>amplitude</td><td>4.5906e-11</td><td>cm-2 s-1 TeV-1</td><td>3.704e-12</td><td>nan</td><td>nan</td><td>False</td><td>True</td><td></td></tr>\n",
       "<tr><td>...</td><td>...</td><td>...</td><td>...</td><td>...</td><td>...</td><td>...</td><td>...</td><td>...</td><td>...</td><td>...</td></tr>\n",
       "<tr><td>crab-stacked-bkg</td><td>spectral</td><td>norm</td><td>9.3479e-01</td><td></td><td>2.192e-02</td><td>nan</td><td>nan</td><td>False</td><td>True</td><td></td></tr>\n",
       "<tr><td>crab-stacked-bkg</td><td>spectral</td><td>tilt</td><td>0.0000e+00</td><td></td><td>0.000e+00</td><td>nan</td><td>nan</td><td>True</td><td>False</td><td></td></tr>\n",
       "<tr><td>crab-stacked-bkg</td><td>spectral</td><td>reference</td><td>1.0000e+00</td><td>TeV</td><td>0.000e+00</td><td>nan</td><td>nan</td><td>True</td><td>False</td><td></td></tr>\n",
       "</table></div>"
      ],
      "text/plain": [
       "<Table length=8>\n",
       "     model         type   ... is_norm link\n",
       "     str16         str8   ...   bool  str1\n",
       "---------------- -------- ... ------- ----\n",
       "            crab spectral ...   False     \n",
       "            crab spectral ...    True     \n",
       "             ...      ... ...     ...  ...\n",
       "crab-stacked-bkg spectral ...    True     \n",
       "crab-stacked-bkg spectral ...   False     \n",
       "crab-stacked-bkg spectral ...   False     "
      ]
     },
     "execution_count": 20,
     "metadata": {},
     "output_type": "execute_result"
    }
   ],
   "source": [
    "stacked.models.to_parameters_table()"
   ]
  },
  {
   "cell_type": "markdown",
   "id": "0db58e4b",
   "metadata": {},
   "source": [
    "### Inspecting residuals\n",
    "\n",
    "For any fit it is useful to inspect the residual images. We have a few options on the dataset object to handle this. First we can use `.plot_residuals_spatial()` to plot a residual image, summed over all energies:"
   ]
  },
  {
   "cell_type": "code",
   "execution_count": 21,
   "id": "489bb465",
   "metadata": {
    "nbsphinx-thumbnail": {
     "tooltip": "Introduction to Gammapy analysis using the low level API."
    }
   },
   "outputs": [
    {
     "data": {
      "image/png": "[encoded data removed]",
      "text/plain": [
       "<Figure size 640x480 with 2 Axes>"
      ]
     },
     "metadata": {},
     "output_type": "display_data"
    }
   ],
   "source": [
    "stacked.plot_residuals_spatial(method=\"diff/sqrt(model)\", vmin=-0.5, vmax=0.5);"
   ]
  },
  {
   "cell_type": "markdown",
   "id": "ee9a3caa",
   "metadata": {},
   "source": [
    "In addition, we can also specify a region in the map to show the spectral residuals:"
   ]
  },
  {
   "cell_type": "code",
   "execution_count": 22,
   "id": "4c7600b0",
   "metadata": {},
   "outputs": [],
   "source": [
    "region = CircleSkyRegion(\n",
    "    center=SkyCoord(\"83.63 deg\", \"22.14 deg\"), radius=0.5 * u.deg\n",
    ")"
   ]
  },
  {
   "cell_type": "code",
   "execution_count": 23,
   "id": "adab4fa3",
   "metadata": {},
   "outputs": [
    {
     "data": {
      "image/png": "[encoded data removed]",
      "text/plain": [
       "<Figure size 1200x400 with 3 Axes>"
      ]
     },
     "metadata": {},
     "output_type": "display_data"
    }
   ],
   "source": [
    "stacked.plot_residuals(\n",
    "    kwargs_spatial=dict(method=\"diff/sqrt(model)\", vmin=-0.5, vmax=0.5),\n",
    "    kwargs_spectral=dict(region=region),\n",
    ");"
   ]
  },
  {
   "cell_type": "markdown",
   "id": "406349e5",
   "metadata": {},
   "source": [
    "We can also directly access the `.residuals()` to get a map, that we can plot interactively:"
   ]
  },
  {
   "cell_type": "code",
   "execution_count": 24,
   "id": "aaf8329d",
   "metadata": {},
   "outputs": [
    {
     "data": {
      "application/vnd.jupyter.widget-view+json": {
       "model_id": "b3c7609c4cb140faa9e625f2a24c0533",
       "version_major": 2,
       "version_minor": 0
      },
      "text/plain": [
       "interactive(children=(SelectionSlider(continuous_update=False, description='Select energy:', layout=Layout(wid…"
      ]
     },
     "metadata": {},
     "output_type": "display_data"
    }
   ],
   "source": [
    "residuals = stacked.residuals(method=\"diff\")\n",
    "residuals.smooth(\"0.08 deg\").plot_interactive(\n",
    "    cmap=\"coolwarm\", vmin=-0.2, vmax=0.2, stretch=\"linear\", add_cbar=True\n",
    ");"
   ]
  },
  {
   "cell_type": "markdown",
   "id": "4a0e8914",
   "metadata": {},
   "source": [
    "## Plot the fitted spectrum"
   ]
  },
  {
   "cell_type": "markdown",
   "id": "c808e925",
   "metadata": {},
   "source": [
    "### Making a butterfly plot \n",
    "\n",
    "The `SpectralModel` component can be used to produce a, so-called, butterfly plot showing the envelope of the model taking into account parameter uncertainties:"
   ]
  },
  {
   "cell_type": "code",
   "execution_count": 25,
   "id": "885553a8",
   "metadata": {},
   "outputs": [],
   "source": [
    "spec = sky_model.spectral_model"
   ]
  },
  {
   "cell_type": "markdown",
   "id": "2d21b63c",
   "metadata": {},
   "source": [
    "Now we can actually do the plot using the `plot_error` method:"
   ]
  },
  {
   "cell_type": "code",
   "execution_count": 26,
   "id": "dadd6c66",
   "metadata": {},
   "outputs": [
    {
     "data": {
      "image/png": "[encoded data removed]",
      "text/plain": [
       "<Figure size 640x480 with 1 Axes>"
      ]
     },
     "metadata": {},
     "output_type": "display_data"
    }
   ],
   "source": [
    "energy_bounds = [1, 10] * u.TeV\n",
    "spec.plot(energy_bounds=energy_bounds, energy_power=2)\n",
    "ax = spec.plot_error(energy_bounds=energy_bounds, energy_power=2)"
   ]
  },
  {
   "cell_type": "markdown",
   "id": "cde62e5f",
   "metadata": {},
   "source": [
    "### Computing flux points\n",
    "\n",
    "We can now compute some flux points using the `~gammapy.estimators.FluxPointsEstimator`. \n",
    "\n",
    "Besides the list of datasets to use, we must provide it the energy intervals on which to compute flux points as well as the model component name. "
   ]
  },
  {
   "cell_type": "code",
   "execution_count": 27,
   "id": "d7c80270",
   "metadata": {},
   "outputs": [],
   "source": [
    "energy_edges = [1, 2, 4, 10] * u.TeV\n",
    "fpe = FluxPointsEstimator(energy_edges=energy_edges, source=\"crab\")"
   ]
  },
  {
   "cell_type": "code",
   "execution_count": 28,
   "id": "6287b524",
   "metadata": {},
   "outputs": [
    {
     "name": "stdout",
     "output_type": "stream",
     "text": [
      "CPU times: user 2.24 s, sys: 499 ms, total: 2.74 s\n",
      "Wall time: 2.74 s\n"
     ]
    }
   ],
   "source": [
    "%%time\n",
    "flux_points = fpe.run(datasets=[stacked])"
   ]
  },
  {
   "cell_type": "code",
   "execution_count": 29,
   "id": "0abf5b47",
   "metadata": {},
   "outputs": [
    {
     "data": {
      "text/plain": [
       "<AxesSubplot:xlabel='Energy [TeV]', ylabel='dnde (TeV / (cm2 s))'>"
      ]
     },
     "execution_count": 29,
     "metadata": {},
     "output_type": "execute_result"
    },
    {
     "data": {
      "image/png": "[encoded data removed]",
      "text/plain": [
       "<Figure size 640x480 with 1 Axes>"
      ]
     },
     "metadata": {},
     "output_type": "display_data"
    }
   ],
   "source": [
    "ax = spec.plot_error(energy_bounds=energy_bounds, energy_power=2)\n",
    "flux_points.plot(ax=ax, energy_power=2)"
   ]
  },
  {
   "cell_type": "code",
   "execution_count": null,
   "id": "cee2a3c8",
   "metadata": {},
   "outputs": [],
   "source": []
  }
 ],
 "metadata": {
  "kernelspec": {
   "display_name": "Python 3 (ipykernel)",
   "language": "python",
   "name": "python3"
  },
  "language_info": {
   "codemirror_mode": {
    "name": "ipython",
    "version": 3
   },
   "file_extension": ".py",
   "mimetype": "text/x-python",
   "name": "python",
   "nbconvert_exporter": "python",
   "pygments_lexer": "ipython3",
   "version": "3.8.13"
  },
  "latex_envs": {
   "LaTeX_envs_menu_present": true,
   "autoclose": false,
   "autocomplete": true,
   "bibliofile": "biblio.bib",
   "cite_by": "apalike",
   "current_citInitial": 1,
   "eqLabelWithNumbers": true,
   "eqNumInitial": 1,
   "hotkeys": {
    "equation": "Ctrl-E",
    "itemize": "Ctrl-I"
   },
   "labels_anchors": false,
   "latex_user_defs": false,
   "report_style_numbering": false,
   "user_envs_cfg": false
  },
  "widgets": {
   "application/vnd.jupyter.widget-state+json": {
    "state": {
     "095494c994ba43aa96803803704a7cdb": {
      "model_module": "@jupyter-widgets/base",
      "model_module_version": "1.2.0",
      "model_name": "LayoutModel",
      "state": {
       "_model_module": "@jupyter-widgets/base",
       "_model_module_version": "1.2.0",
       "_model_name": "LayoutModel",
       "_view_count": null,
       "_view_module": "@jupyter-widgets/base",
       "_view_module_version": "1.2.0",
       "_view_name": "LayoutView",
       "align_content": null,
       "align_items": null,
       "align_self": null,
       "border": null,
       "bottom": null,
       "display": null,
       "flex": null,
       "flex_flow": null,
       "grid_area": null,
       "grid_auto_columns": null,
       "grid_auto_flow": null,
       "grid_auto_rows": null,
       "grid_column": null,
       "grid_gap": null,
       "grid_row": null,
       "grid_template_areas": null,
       "grid_template_columns": null,
       "grid_template_rows": null,
       "height": null,
       "justify_content": null,
       "justify_items": null,
       "left": null,
       "margin": null,
       "max_height": null,
       "max_width": null,
       "min_height": null,
       "min_width": null,
       "object_fit": null,
       "object_position": null,
       "order": null,
       "overflow": null,
       "overflow_x": null,
       "overflow_y": null,
       "padding": null,
       "right": null,
       "top": null,
       "visibility": null,
       "width": "50%"
      }
     },
     "203fa8f78fd848f596a7e354c693d2f0": {
      "model_module": "@jupyter-widgets/controls",
      "model_module_version": "1.5.0",
      "model_name": "DescriptionStyleModel",
      "state": {
       "_model_module": "@jupyter-widgets/controls",
       "_model_module_version": "1.5.0",
       "_model_name": "DescriptionStyleModel",
       "_view_count": null,
       "_view_module": "@jupyter-widgets/base",
       "_view_module_version": "1.2.0",
       "_view_name": "StyleView",
       "description_width": "initial"
      }
     },
     "37a5edfadf444b67a88a631e9cd5ed3a": {
      "model_module": "@jupyter-widgets/controls",
      "model_module_version": "1.5.0",
      "model_name": "SelectionSliderModel",
      "state": {
       "_dom_classes": [],
       "_model_module": "@jupyter-widgets/controls",
       "_model_module_version": "1.5.0",
       "_model_name": "SelectionSliderModel",
       "_options_labels": [
        "1.00e+00 TeV - 1.78e+00 TeV TeV",
        "1.78e+00 TeV - 3.16e+00 TeV TeV",
        "3.16e+00 TeV - 5.62e+00 TeV TeV",
        "5.62e+00 TeV - 1.00e+01 TeV TeV"
       ],
       "_view_count": null,
       "_view_module": "@jupyter-widgets/controls",
       "_view_module_version": "1.5.0",
       "_view_name": "SelectionSliderView",
       "continuous_update": false,
       "description": "Select energy:",
       "description_tooltip": null,
       "disabled": false,
       "index": 0,
       "layout": "IPY_MODEL_095494c994ba43aa96803803704a7cdb",
       "orientation": "horizontal",
       "readout": true,
       "style": "IPY_MODEL_5bbb5dc220274665842a1912afd311b1"
      }
     },
     "5b00e5e638ae422bbb878743039a9bd2": {
      "model_module": "@jupyter-widgets/output",
      "model_module_version": "1.0.0",
      "model_name": "OutputModel",
      "state": {
       "_dom_classes": [],
       "_model_module": "@jupyter-widgets/output",
       "_model_module_version": "1.0.0",
       "_model_name": "OutputModel",
       "_view_count": null,
       "_view_module": "@jupyter-widgets/output",
       "_view_module_version": "1.0.0",
       "_view_name": "OutputView",
       "layout": "IPY_MODEL_dcd41c15345c4232a1e35c43630c62e5",
       "msg_id": "",
       "outputs": []
      }
     },
     "5bbb5dc220274665842a1912afd311b1": {
      "model_module": "@jupyter-widgets/controls",
      "model_module_version": "1.5.0",
      "model_name": "DescriptionStyleModel",
      "state": {
       "_model_module": "@jupyter-widgets/controls",
       "_model_module_version": "1.5.0",
       "_model_name": "DescriptionStyleModel",
       "_view_count": null,
       "_view_module": "@jupyter-widgets/base",
       "_view_module_version": "1.2.0",
       "_view_name": "StyleView",
       "description_width": "initial"
      }
     },
     "699e1b20c76e4add9724d8f32f9925f9": {
      "model_module": "@jupyter-widgets/base",
      "model_module_version": "1.2.0",
      "model_name": "LayoutModel",
      "state": {
       "_model_module": "@jupyter-widgets/base",
       "_model_module_version": "1.2.0",
       "_model_name": "LayoutModel",
       "_view_count": null,
       "_view_module": "@jupyter-widgets/base",
       "_view_module_version": "1.2.0",
       "_view_name": "LayoutView",
       "align_content": null,
       "align_items": null,
       "align_self": null,
       "border": null,
       "bottom": null,
       "display": null,
       "flex": null,
       "flex_flow": null,
       "grid_area": null,
       "grid_auto_columns": null,
       "grid_auto_flow": null,
       "grid_auto_rows": null,
       "grid_column": null,
       "grid_gap": null,
       "grid_row": null,
       "grid_template_areas": null,
       "grid_template_columns": null,
       "grid_template_rows": null,
       "height": null,
       "justify_content": null,
       "justify_items": null,
       "left": null,
       "margin": null,
       "max_height": null,
       "max_width": null,
       "min_height": null,
       "min_width": null,
       "object_fit": null,
       "object_position": null,
       "order": null,
       "overflow": null,
       "overflow_x": null,
       "overflow_y": null,
       "padding": null,
       "right": null,
       "top": null,
       "visibility": null,
       "width": null
      }
     },
     "74c471760f1947f8b2e33e1c58637e33": {
      "model_module": "@jupyter-widgets/controls",
      "model_module_version": "1.5.0",
      "model_name": "VBoxModel",
      "state": {
       "_dom_classes": [
        "widget-interact"
       ],
       "_model_module": "@jupyter-widgets/controls",
       "_model_module_version": "1.5.0",
       "_model_name": "VBoxModel",
       "_view_count": null,
       "_view_module": "@jupyter-widgets/controls",
       "_view_module_version": "1.5.0",
       "_view_name": "VBoxView",
       "box_style": "",
       "children": [
        "IPY_MODEL_37a5edfadf444b67a88a631e9cd5ed3a",
        "IPY_MODEL_a4ea50bb615e41b3a1db656c1edf3a34",
        "IPY_MODEL_5b00e5e638ae422bbb878743039a9bd2"
       ],
       "layout": "IPY_MODEL_699e1b20c76e4add9724d8f32f9925f9"
      }
     },
     "a4ea50bb615e41b3a1db656c1edf3a34": {
      "model_module": "@jupyter-widgets/controls",
      "model_module_version": "1.5.0",
      "model_name": "RadioButtonsModel",
      "state": {
       "_dom_classes": [],
       "_model_module": "@jupyter-widgets/controls",
       "_model_module_version": "1.5.0",
       "_model_name": "RadioButtonsModel",
       "_options_labels": [
        "linear",
        "sqrt",
        "log"
       ],
       "_view_count": null,
       "_view_module": "@jupyter-widgets/controls",
       "_view_module_version": "1.5.0",
       "_view_name": "RadioButtonsView",
       "description": "Select stretch:",
       "description_tooltip": null,
       "disabled": false,
       "index": 0,
       "layout": "IPY_MODEL_cceb2b5d8e8241978dca97767054211d",
       "style": "IPY_MODEL_203fa8f78fd848f596a7e354c693d2f0"
      }
     },
     "cceb2b5d8e8241978dca97767054211d": {
      "model_module": "@jupyter-widgets/base",
      "model_module_version": "1.2.0",
      "model_name": "LayoutModel",
      "state": {
       "_model_module": "@jupyter-widgets/base",
       "_model_module_version": "1.2.0",
       "_model_name": "LayoutModel",
       "_view_count": null,
       "_view_module": "@jupyter-widgets/base",
       "_view_module_version": "1.2.0",
       "_view_name": "LayoutView",
       "align_content": null,
       "align_items": null,
       "align_self": null,
       "border": null,
       "bottom": null,
       "display": null,
       "flex": null,
       "flex_flow": null,
       "grid_area": null,
       "grid_auto_columns": null,
       "grid_auto_flow": null,
       "grid_auto_rows": null,
       "grid_column": null,
       "grid_gap": null,
       "grid_row": null,
       "grid_template_areas": null,
       "grid_template_columns": null,
       "grid_template_rows": null,
       "height": null,
       "justify_content": null,
       "justify_items": null,
       "left": null,
       "margin": null,
       "max_height": null,
       "max_width": null,
       "min_height": null,
       "min_width": null,
       "object_fit": null,
       "object_position": null,
       "order": null,
       "overflow": null,
       "overflow_x": null,
       "overflow_y": null,
       "padding": null,
       "right": null,
       "top": null,
       "visibility": null,
       "width": null
      }
     },
     "dcd41c15345c4232a1e35c43630c62e5": {
      "model_module": "@jupyter-widgets/base",
      "model_module_version": "1.2.0",
      "model_name": "LayoutModel",
      "state": {
       "_model_module": "@jupyter-widgets/base",
       "_model_module_version": "1.2.0",
       "_model_name": "LayoutModel",
       "_view_count": null,
       "_view_module": "@jupyter-widgets/base",
       "_view_module_version": "1.2.0",
       "_view_name": "LayoutView",
       "align_content": null,
       "align_items": null,
       "align_self": null,
       "border": null,
       "bottom": null,
       "display": null,
       "flex": null,
       "flex_flow": null,
       "grid_area": null,
       "grid_auto_columns": null,
       "grid_auto_flow": null,
       "grid_auto_rows": null,
       "grid_column": null,
       "grid_gap": null,
       "grid_row": null,
       "grid_template_areas": null,
       "grid_template_columns": null,
       "grid_template_rows": null,
       "height": null,
       "justify_content": null,
       "justify_items": null,
       "left": null,
       "margin": null,
       "max_height": null,
       "max_width": null,
       "min_height": null,
       "min_width": null,
       "object_fit": null,
       "object_position": null,
       "order": null,
       "overflow": null,
       "overflow_x": null,
       "overflow_y": null,
       "padding": null,
       "right": null,
       "top": null,
       "visibility": null,
       "width": null
      }
     }
    },
    "version_major": 2,
    "version_minor": 0
   }
  }
 },
 "nbformat": 4,
 "nbformat_minor": 5
}
