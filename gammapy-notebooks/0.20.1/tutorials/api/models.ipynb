{
 "cells": [
  {
   "cell_type": "markdown",
   "id": "72bd2990",
   "metadata": {},
   "source": [
    "# Models\n",
    "\n",
    "\n",
    "This is an introduction and overview on how to work with models in Gammapy. \n",
    "\n",
    "The sub-package `~gammapy.modeling` contains all the functionality related to modeling and fitting\n",
    "data. This includes spectral, spatial and temporal model classes, as well as the fit\n",
    "and parameter API.The models follow a naming scheme which contains the category as a suffix to the class name. An overview of all the available models can be found in the [model gallery](../../user-guide/model-gallery/index.rst).\n",
    "\n",
    "Note that there are separate tutorials, [model_management](model_management.ipynb) and [fitting](fitting.ipynb) that explains about `~gammapy.modeling`,\n",
    "the Gammapy modeling and fitting framework. You have to read that to learn how to work with models in order to analyse data.\n",
    "\n"
   ]
  },
  {
   "cell_type": "markdown",
   "id": "3df56fe6",
   "metadata": {},
   "source": [
    "## Setup"
   ]
  },
  {
   "cell_type": "code",
   "execution_count": 1,
   "id": "b58bd101",
   "metadata": {},
   "outputs": [],
   "source": [
    "%matplotlib inline\n",
    "import numpy as np\n",
    "import matplotlib.pyplot as plt"
   ]
  },
  {
   "cell_type": "code",
   "execution_count": 2,
   "id": "75dde21f",
   "metadata": {},
   "outputs": [],
   "source": [
    "from astropy import units as u\n",
    "from gammapy.maps import Map, WcsGeom, MapAxis"
   ]
  },
  {
   "cell_type": "markdown",
   "id": "b3deacee",
   "metadata": {},
   "source": [
    "## Spectral models\n",
    "\n",
    "All models are imported from the `~gammapy.modeling.models` namespace. Let's start with a `PowerLawSpectralModel`:"
   ]
  },
  {
   "cell_type": "code",
   "execution_count": 3,
   "id": "c52aaa51",
   "metadata": {},
   "outputs": [],
   "source": [
    "from gammapy.modeling.models import PowerLawSpectralModel"
   ]
  },
  {
   "cell_type": "code",
   "execution_count": 4,
   "id": "b5a07ff4",
   "metadata": {},
   "outputs": [
    {
     "name": "stdout",
     "output_type": "stream",
     "text": [
      "PowerLawSpectralModel\n",
      "\n",
      "  type      name     value         unit        error   min max frozen is_norm link\n",
      "-------- --------- ---------- -------------- --------- --- --- ------ ------- ----\n",
      "spectral     index 2.0000e+00                0.000e+00 nan nan  False   False     \n",
      "spectral amplitude 1.0000e-12 cm-2 s-1 TeV-1 0.000e+00 nan nan  False    True     \n",
      "spectral reference 1.0000e+00            TeV 0.000e+00 nan nan   True   False     \n"
     ]
    }
   ],
   "source": [
    "pwl = PowerLawSpectralModel()\n",
    "print(pwl)"
   ]
  },
  {
   "cell_type": "markdown",
   "id": "ab523165",
   "metadata": {},
   "source": [
    "To get a list of all available spectral models you can import and print the spectral model registry or take a look at the [model gallery](../../user-guide/model-gallery/index.rst#spectral-models):"
   ]
  },
  {
   "cell_type": "code",
   "execution_count": 5,
   "id": "53416948",
   "metadata": {},
   "outputs": [
    {
     "name": "stdout",
     "output_type": "stream",
     "text": [
      "Registry\n",
      "--------\n",
      "\n",
      "ConstantSpectralModel                     : ['ConstantSpectralModel', 'const'] \n",
      "CompoundSpectralModel                     : ['CompoundSpectralModel', 'compound'] \n",
      "PowerLawSpectralModel                     : ['PowerLawSpectralModel', 'pl'] \n",
      "PowerLaw2SpectralModel                    : ['PowerLaw2SpectralModel', 'pl-2'] \n",
      "BrokenPowerLawSpectralModel               : ['BrokenPowerLawSpectralModel', 'bpl'] \n",
      "SmoothBrokenPowerLawSpectralModel         : ['SmoothBrokenPowerLawSpectralModel', 'sbpl'] \n",
      "PiecewiseNormSpectralModel                : ['PiecewiseNormSpectralModel', 'piecewise-norm'] \n",
      "ExpCutoffPowerLawSpectralModel            : ['ExpCutoffPowerLawSpectralModel', 'ecpl'] \n",
      "ExpCutoffPowerLaw3FGLSpectralModel        : ['ExpCutoffPowerLaw3FGLSpectralModel', 'ecpl-3fgl'] \n",
      "SuperExpCutoffPowerLaw3FGLSpectralModel   : ['SuperExpCutoffPowerLaw3FGLSpectralModel', 'secpl-3fgl'] \n",
      "SuperExpCutoffPowerLaw4FGLDR3SpectralModel: ['SuperExpCutoffPowerLaw4FGLDR3SpectralModel', 'secpl-4fgl-dr3'] \n",
      "SuperExpCutoffPowerLaw4FGLSpectralModel   : ['SuperExpCutoffPowerLaw4FGLSpectralModel', 'secpl-4fgl'] \n",
      "LogParabolaSpectralModel                  : ['LogParabolaSpectralModel', 'lp'] \n",
      "TemplateSpectralModel                     : ['TemplateSpectralModel', 'template'] \n",
      "TemplateNDSpectralModel                   : ['TemplateNDSpectralModel', 'templateND'] \n",
      "GaussianSpectralModel                     : ['GaussianSpectralModel', 'gauss'] \n",
      "EBLAbsorptionNormSpectralModel            : ['EBLAbsorptionNormSpectralModel', 'ebl-norm'] \n",
      "NaimaSpectralModel                        : ['NaimaSpectralModel', 'naima'] \n",
      "ScaleSpectralModel                        : ['ScaleSpectralModel', 'scale'] \n",
      "PowerLawNormSpectralModel                 : ['PowerLawNormSpectralModel', 'pl-norm'] \n",
      "LogParabolaNormSpectralModel              : ['LogParabolaNormSpectralModel', 'lp-norm'] \n",
      "ExpCutoffPowerLawNormSpectralModel        : ['ExpCutoffPowerLawNormSpectralModel', 'ecpl-norm'] \n",
      "\n"
     ]
    }
   ],
   "source": [
    "from gammapy.modeling.models import SPECTRAL_MODEL_REGISTRY\n",
    "\n",
    "print(SPECTRAL_MODEL_REGISTRY)"
   ]
  },
  {
   "cell_type": "markdown",
   "id": "80ea1c44",
   "metadata": {},
   "source": [
    "Spectral models all come with default parameters. Different parameter\n",
    "values can be passed on creation of the model, either as a string defining\n",
    "the value and unit or as an `astropy.units.Quantity` object directly:"
   ]
  },
  {
   "cell_type": "code",
   "execution_count": 6,
   "id": "c19b63f8",
   "metadata": {},
   "outputs": [],
   "source": [
    "amplitude = 1e-12 * u.Unit(\"TeV-1 cm-2 s-1\")\n",
    "pwl = PowerLawSpectralModel(amplitude=amplitude, index=2.2)"
   ]
  },
  {
   "cell_type": "markdown",
   "id": "5f588d5e",
   "metadata": {},
   "source": [
    "For convenience a `str` specifying the value and unit can be passed as well:"
   ]
  },
  {
   "cell_type": "code",
   "execution_count": 7,
   "id": "b6fd7d52",
   "metadata": {},
   "outputs": [
    {
     "name": "stdout",
     "output_type": "stream",
     "text": [
      "PowerLawSpectralModel\n",
      "\n",
      "  type      name     value         unit        error   min max frozen is_norm link\n",
      "-------- --------- ---------- -------------- --------- --- --- ------ ------- ----\n",
      "spectral     index 2.2000e+00                0.000e+00 nan nan  False   False     \n",
      "spectral amplitude 2.7000e-12 cm-2 s-1 TeV-1 0.000e+00 nan nan  False    True     \n",
      "spectral reference 1.0000e+00            TeV 0.000e+00 nan nan   True   False     \n"
     ]
    }
   ],
   "source": [
    "pwl = PowerLawSpectralModel(amplitude=\"2.7e-12 TeV-1 cm-2 s-1\", index=2.2)\n",
    "print(pwl)"
   ]
  },
  {
   "cell_type": "markdown",
   "id": "0bf508c2",
   "metadata": {},
   "source": [
    "The model can be evaluated at given energies by calling the model instance:"
   ]
  },
  {
   "cell_type": "code",
   "execution_count": 8,
   "id": "e9e71d24",
   "metadata": {},
   "outputs": [
    {
     "name": "stdout",
     "output_type": "stream",
     "text": [
      "[2.70000000e-12 2.40822469e-13 1.70358483e-14 1.51948705e-15] 1 / (cm2 s TeV)\n"
     ]
    }
   ],
   "source": [
    "energy = [1, 3, 10, 30] * u.TeV\n",
    "dnde = pwl(energy)\n",
    "print(dnde)"
   ]
  },
  {
   "cell_type": "markdown",
   "id": "6f242485",
   "metadata": {},
   "source": [
    "The returned quantity is a differential photon flux. \n",
    "\n",
    "For spectral models you can additionally compute the integrated and energy flux\n",
    "in a given energy range:"
   ]
  },
  {
   "cell_type": "code",
   "execution_count": 9,
   "id": "a41fad53",
   "metadata": {},
   "outputs": [
    {
     "name": "stdout",
     "output_type": "stream",
     "text": [
      "2.108034597491956e-12 1 / (cm2 s)\n",
      "4.982075849517389e-12 TeV / (cm2 s)\n"
     ]
    }
   ],
   "source": [
    "flux = pwl.integral(energy_min=1 * u.TeV, energy_max=10 * u.TeV)\n",
    "print(flux)\n",
    "\n",
    "eflux = pwl.energy_flux(energy_min=1 * u.TeV, energy_max=10 * u.TeV)\n",
    "print(eflux)"
   ]
  },
  {
   "cell_type": "markdown",
   "id": "04d9650c",
   "metadata": {},
   "source": [
    "This also works for a list or an array of integration boundaries:"
   ]
  },
  {
   "cell_type": "code",
   "execution_count": 10,
   "id": "71a6c8ab",
   "metadata": {},
   "outputs": [
    {
     "name": "stdout",
     "output_type": "stream",
     "text": [
      "[1.64794383e-12 4.60090769e-13 1.03978226e-13] 1 / (cm2 s)\n"
     ]
    }
   ],
   "source": [
    "energy = [1, 3, 10, 30] * u.TeV\n",
    "flux = pwl.integral(energy_min=energy[:-1], energy_max=energy[1:])\n",
    "print(flux)"
   ]
  },
  {
   "cell_type": "markdown",
   "id": "90d73650",
   "metadata": {},
   "source": [
    "In some cases it can be useful to find use the inverse of a spectral model, to find the energy at which a given flux is reached:"
   ]
  },
  {
   "cell_type": "code",
   "execution_count": 11,
   "id": "a14e742e",
   "metadata": {},
   "outputs": [
    {
     "name": "stdout",
     "output_type": "stream",
     "text": [
      "1.0 TeV\n"
     ]
    }
   ],
   "source": [
    "dnde = 2.7e-12 * u.Unit(\"TeV-1 cm-2 s-1\")\n",
    "energy = pwl.inverse(dnde)\n",
    "print(energy)"
   ]
  },
  {
   "cell_type": "markdown",
   "id": "a54a288c",
   "metadata": {},
   "source": [
    "As a convenience you can also plot any spectral model in a given energy range:"
   ]
  },
  {
   "cell_type": "code",
   "execution_count": 12,
   "id": "2b9bef62",
   "metadata": {},
   "outputs": [
    {
     "data": {
      "text/plain": [
       "<AxesSubplot: xlabel='Energy [TeV]', ylabel='dnde [1 / (cm2 s TeV)]'>"
      ]
     },
     "execution_count": 12,
     "metadata": {},
     "output_type": "execute_result"
    },
    {
     "data": {
      "image/png": "[encoded data removed]",
      "text/plain": [
       "<Figure size 640x480 with 1 Axes>"
      ]
     },
     "metadata": {},
     "output_type": "display_data"
    }
   ],
   "source": [
    "pwl.plot(energy_bounds=[1, 100] * u.TeV)"
   ]
  },
  {
   "cell_type": "markdown",
   "id": "e5ca352e",
   "metadata": {},
   "source": [
    "### Norm Spectral Models"
   ]
  },
  {
   "cell_type": "markdown",
   "id": "46cd55c9",
   "metadata": {},
   "source": [
    "Normed spectral models are a special class of Spectral Models, which have a dimension-less normalisation. These spectral models feature a norm parameter instead\n",
    "of amplitude and are named using the ``NormSpectralModel`` suffix. They **must** be used along with another spectral model, as a multiplicative correction factor according to their spectral shape. They can be typically used for adjusting template based models, or adding a EBL correction to some analytic model. \n",
    "\n",
    "To check if a given `SpectralModel` is a norm model, you can simply look at the `is_norm_spectral_model` property"
   ]
  },
  {
   "cell_type": "code",
   "execution_count": 13,
   "id": "34b338fc",
   "metadata": {},
   "outputs": [
    {
     "name": "stdout",
     "output_type": "stream",
     "text": [
      "<class 'gammapy.modeling.models.spectral.PiecewiseNormSpectralModel'>\n",
      "<class 'gammapy.modeling.models.spectral.EBLAbsorptionNormSpectralModel'>\n",
      "<class 'gammapy.modeling.models.spectral.PowerLawNormSpectralModel'>\n",
      "<class 'gammapy.modeling.models.spectral.LogParabolaNormSpectralModel'>\n",
      "<class 'gammapy.modeling.models.spectral.ExpCutoffPowerLawNormSpectralModel'>\n"
     ]
    }
   ],
   "source": [
    "# To see the available norm models shipped with gammapy:\n",
    "for model in SPECTRAL_MODEL_REGISTRY:\n",
    "    if model.is_norm_spectral_model:\n",
    "        print(model)"
   ]
  },
  {
   "cell_type": "markdown",
   "id": "3e96b1a1",
   "metadata": {},
   "source": [
    "As an example, we see the `PowerLawNormSpectralModel`"
   ]
  },
  {
   "cell_type": "code",
   "execution_count": 14,
   "id": "3ab2ed22",
   "metadata": {},
   "outputs": [],
   "source": [
    "from gammapy.modeling.models import PowerLawNormSpectralModel"
   ]
  },
  {
   "cell_type": "code",
   "execution_count": 15,
   "id": "dff6f58d",
   "metadata": {},
   "outputs": [
    {
     "name": "stdout",
     "output_type": "stream",
     "text": [
      "PowerLawNormSpectralModel\n",
      "\n",
      "  type      name     value    unit   error   min max frozen is_norm link\n",
      "-------- --------- ---------- ---- --------- --- --- ------ ------- ----\n",
      "spectral      norm 1.0000e+00      0.000e+00 nan nan  False    True     \n",
      "spectral      tilt 1.0000e-01      0.000e+00 nan nan   True   False     \n",
      "spectral reference 1.0000e+00  TeV 0.000e+00 nan nan   True   False     \n"
     ]
    }
   ],
   "source": [
    "pwl_norm = PowerLawNormSpectralModel(tilt=0.1)\n",
    "print(pwl_norm)"
   ]
  },
  {
   "cell_type": "markdown",
   "id": "6ff4655e",
   "metadata": {},
   "source": [
    "We can check the correction introduced at each energy "
   ]
  },
  {
   "cell_type": "code",
   "execution_count": 16,
   "id": "e935d3a3",
   "metadata": {},
   "outputs": [
    {
     "data": {
      "text/latex": [
       "$[1.1279449,~1,~0.89595846,~0.79432823,~0.7116851] \\; \\mathrm{}$"
      ],
      "text/plain": [
       "<Quantity [1.12794487, 1.        , 0.89595846, 0.79432823, 0.7116851 ]>"
      ]
     },
     "execution_count": 16,
     "metadata": {},
     "output_type": "execute_result"
    }
   ],
   "source": [
    "energy = [0.3, 1, 3, 10, 30] * u.TeV\n",
    "pwl_norm(energy)"
   ]
  },
  {
   "cell_type": "markdown",
   "id": "d084d79d",
   "metadata": {},
   "source": [
    "A typical use case of a norm model would be in applying spectral correction to a `TemplateSpectralModel`. A template model is defined by custom tabular values provided at initialization. "
   ]
  },
  {
   "cell_type": "code",
   "execution_count": 17,
   "id": "7a7b8372",
   "metadata": {},
   "outputs": [],
   "source": [
    "from gammapy.modeling.models import TemplateSpectralModel"
   ]
  },
  {
   "cell_type": "code",
   "execution_count": 18,
   "id": "4a304df4",
   "metadata": {},
   "outputs": [
    {
     "data": {
      "image/png": "[encoded data removed]",
      "text/plain": [
       "<Figure size 640x480 with 1 Axes>"
      ]
     },
     "metadata": {},
     "output_type": "display_data"
    }
   ],
   "source": [
    "energy = [0.3, 1, 3, 10, 30] * u.TeV\n",
    "values = [40, 30, 20, 10, 1] * u.Unit(\"TeV-1 s-1 cm-2\")\n",
    "template = TemplateSpectralModel(energy, values)\n",
    "template.plot(energy_bounds=[0.2, 50] * u.TeV, label=\"template model\")\n",
    "normed_template = template * pwl_norm\n",
    "normed_template.plot(\n",
    "    energy_bounds=[0.2, 50] * u.TeV, label=\"normed_template model\"\n",
    ")\n",
    "plt.legend();"
   ]
  },
  {
   "cell_type": "markdown",
   "id": "533ddedf",
   "metadata": {},
   "source": [
    "### Compound Spectral Model\n",
    "\n",
    "A `CompoundSpectralModel` is an arithmetic combination of two spectral models. The model `normed_template` created in the preceding example is an example of a `CompoundSpectralModel`\n"
   ]
  },
  {
   "cell_type": "code",
   "execution_count": 19,
   "id": "652db87a",
   "metadata": {},
   "outputs": [
    {
     "name": "stdout",
     "output_type": "stream",
     "text": [
      "CompoundSpectralModel\n",
      "    Component 1 : TemplateSpectralModel\n",
      "\n",
      "  type   name   value    unit   error   min max frozen is_norm link\n",
      "-------- ---- ---------- ---- --------- --- --- ------ ------- ----\n",
      "spectral norm 1.0000e+00      0.000e+00 nan nan   True    True     \n",
      "    Component 2 : PowerLawNormSpectralModel\n",
      "\n",
      "  type      name     value    unit   error   min max frozen is_norm link\n",
      "-------- --------- ---------- ---- --------- --- --- ------ ------- ----\n",
      "spectral      norm 1.0000e+00      0.000e+00 nan nan  False    True     \n",
      "spectral      tilt 1.0000e-01      0.000e+00 nan nan   True   False     \n",
      "spectral reference 1.0000e+00  TeV 0.000e+00 nan nan   True   False     \n",
      "    Operator : mul\n",
      "\n"
     ]
    }
   ],
   "source": [
    "print(normed_template)"
   ]
  },
  {
   "cell_type": "markdown",
   "id": "c9543d03",
   "metadata": {},
   "source": [
    "To create an additive model, you can do simply:"
   ]
  },
  {
   "cell_type": "code",
   "execution_count": 20,
   "id": "5f224a12",
   "metadata": {},
   "outputs": [
    {
     "name": "stdout",
     "output_type": "stream",
     "text": [
      "CompoundSpectralModel\n",
      "    Component 1 : PowerLawSpectralModel\n",
      "\n",
      "  type      name     value         unit        error   min max frozen is_norm link\n",
      "-------- --------- ---------- -------------- --------- --- --- ------ ------- ----\n",
      "spectral     index 2.2000e+00                0.000e+00 nan nan  False   False     \n",
      "spectral amplitude 2.7000e-12 cm-2 s-1 TeV-1 0.000e+00 nan nan  False    True     \n",
      "spectral reference 1.0000e+00            TeV 0.000e+00 nan nan   True   False     \n",
      "    Component 2 : TemplateSpectralModel\n",
      "\n",
      "  type   name   value    unit   error   min max frozen is_norm link\n",
      "-------- ---- ---------- ---- --------- --- --- ------ ------- ----\n",
      "spectral norm 1.0000e+00      0.000e+00 nan nan   True    True     \n",
      "    Operator : add\n",
      "\n"
     ]
    }
   ],
   "source": [
    "model_add = pwl + template\n",
    "print(model_add)"
   ]
  },
  {
   "cell_type": "markdown",
   "id": "3700e24d",
   "metadata": {},
   "source": [
    "## Spatial models"
   ]
  },
  {
   "cell_type": "markdown",
   "id": "21db8aeb",
   "metadata": {},
   "source": [
    "Spatial models are imported from the same `~gammapy.modeling.models` namespace, let's start with a `GaussianSpatialModel`:"
   ]
  },
  {
   "cell_type": "code",
   "execution_count": 21,
   "id": "c3ae7b8f",
   "metadata": {},
   "outputs": [],
   "source": [
    "from gammapy.modeling.models import GaussianSpatialModel"
   ]
  },
  {
   "cell_type": "code",
   "execution_count": 22,
   "id": "b04779a0",
   "metadata": {},
   "outputs": [
    {
     "name": "stdout",
     "output_type": "stream",
     "text": [
      "GaussianSpatialModel\n",
      "\n",
      "  type   name   value    unit   error      min        max    frozen is_norm link\n",
      "------- ----- ---------- ---- --------- ---------- --------- ------ ------- ----\n",
      "spatial lon_0 0.0000e+00  deg 0.000e+00        nan       nan  False   False     \n",
      "spatial lat_0 0.0000e+00  deg 0.000e+00 -9.000e+01 9.000e+01  False   False     \n",
      "spatial sigma 2.0000e-01  deg 0.000e+00  0.000e+00       nan  False   False     \n",
      "spatial     e 0.0000e+00      0.000e+00  0.000e+00 1.000e+00   True   False     \n",
      "spatial   phi 0.0000e+00  deg 0.000e+00        nan       nan   True   False     \n"
     ]
    }
   ],
   "source": [
    "gauss = GaussianSpatialModel(lon_0=\"0 deg\", lat_0=\"0 deg\", sigma=\"0.2 deg\")\n",
    "print(gauss)"
   ]
  },
  {
   "cell_type": "markdown",
   "id": "3b8a05c4",
   "metadata": {},
   "source": [
    "Again you can check the `SPATIAL_MODELS` registry to see which models are available or take a look at the [model gallery](../../user-guide/model-gallery/index.rst#spatial-models)."
   ]
  },
  {
   "cell_type": "code",
   "execution_count": 23,
   "id": "b73c517a",
   "metadata": {},
   "outputs": [
    {
     "name": "stdout",
     "output_type": "stream",
     "text": [
      "Registry\n",
      "--------\n",
      "\n",
      "ConstantSpatialModel           : ['ConstantSpatialModel', 'const'] \n",
      "TemplateSpatialModel           : ['TemplateSpatialModel', 'template'] \n",
      "DiskSpatialModel               : ['DiskSpatialModel', 'disk'] \n",
      "GaussianSpatialModel           : ['GaussianSpatialModel', 'gauss'] \n",
      "GeneralizedGaussianSpatialModel: ['GeneralizedGaussianSpatialModel', 'gauss-general'] \n",
      "PointSpatialModel              : ['PointSpatialModel', 'point'] \n",
      "ShellSpatialModel              : ['ShellSpatialModel', 'shell'] \n",
      "Shell2SpatialModel             : ['Shell2SpatialModel', 'shell2'] \n",
      "\n"
     ]
    }
   ],
   "source": [
    "from gammapy.modeling.models import SPATIAL_MODEL_REGISTRY\n",
    "\n",
    "print(SPATIAL_MODEL_REGISTRY)"
   ]
  },
  {
   "cell_type": "markdown",
   "id": "e771fb7e",
   "metadata": {},
   "source": [
    "The default coordinate frame for all spatial models is ``\"icrs\"``, but the frame can be modified using the\n",
    "``frame`` argument:"
   ]
  },
  {
   "cell_type": "code",
   "execution_count": 24,
   "id": "ea62befd",
   "metadata": {},
   "outputs": [],
   "source": [
    "gauss = GaussianSpatialModel(\n",
    "    lon_0=\"0 deg\", lat_0=\"0 deg\", sigma=\"0.2 deg\", frame=\"galactic\"\n",
    ")"
   ]
  },
  {
   "cell_type": "markdown",
   "id": "0d82a3dd",
   "metadata": {},
   "source": [
    "You can specify any valid `astropy.coordinates` frame. The center position of the model can be retrieved as a `astropy.coordinates.SkyCoord` object using `SpatialModel.position`: "
   ]
  },
  {
   "cell_type": "code",
   "execution_count": 25,
   "id": "a9c2be74",
   "metadata": {},
   "outputs": [
    {
     "name": "stdout",
     "output_type": "stream",
     "text": [
      "<SkyCoord (Galactic): (l, b) in deg\n",
      "    (0., 0.)>\n"
     ]
    }
   ],
   "source": [
    "print(gauss.position)"
   ]
  },
  {
   "cell_type": "markdown",
   "id": "02fcbdaa",
   "metadata": {},
   "source": [
    "Spatial models can be evaluated again by calling the instance:"
   ]
  },
  {
   "cell_type": "code",
   "execution_count": 26,
   "id": "c404a31d",
   "metadata": {},
   "outputs": [
    {
     "name": "stdout",
     "output_type": "stream",
     "text": [
      "[13061.88470839 10172.60603928] 1 / sr\n"
     ]
    }
   ],
   "source": [
    "lon = [0, 0.1] * u.deg\n",
    "lat = [0, 0.1] * u.deg\n",
    "\n",
    "flux_per_omega = gauss(lon, lat)\n",
    "print(flux_per_omega)"
   ]
  },
  {
   "cell_type": "markdown",
   "id": "1bd69ef8",
   "metadata": {},
   "source": [
    "The returned quantity corresponds to a surface brightness. Spatial model\n",
    "can be also evaluated using `~gammapy.maps.Map` and `~gammapy.maps.Geom` objects:"
   ]
  },
  {
   "cell_type": "code",
   "execution_count": 27,
   "id": "7bdea6c5",
   "metadata": {},
   "outputs": [
    {
     "data": {
      "image/png": "[encoded data removed]",
      "text/plain": [
       "<Figure size 640x480 with 2 Axes>"
      ]
     },
     "metadata": {},
     "output_type": "display_data"
    }
   ],
   "source": [
    "m = Map.create(skydir=(0, 0), width=(1, 1), binsz=0.02, frame=\"galactic\")\n",
    "m.quantity = gauss.evaluate_geom(m.geom)\n",
    "m.plot(add_cbar=True);"
   ]
  },
  {
   "cell_type": "markdown",
   "id": "78b02bd3",
   "metadata": {},
   "source": [
    "Again for convenience the model can be plotted directly:"
   ]
  },
  {
   "cell_type": "code",
   "execution_count": 28,
   "id": "78485784",
   "metadata": {},
   "outputs": [
    {
     "data": {
      "image/png": "[encoded data removed]",
      "text/plain": [
       "<Figure size 640x480 with 2 Axes>"
      ]
     },
     "metadata": {},
     "output_type": "display_data"
    }
   ],
   "source": [
    "gauss.plot(add_cbar=True);"
   ]
  },
  {
   "cell_type": "markdown",
   "id": "4d9a68f0",
   "metadata": {},
   "source": [
    "All spatial models have an associated sky region to it e.g. to illustrate the extend of the model on a sky image. The returned object is an `regions.SkyRegion` object:"
   ]
  },
  {
   "cell_type": "code",
   "execution_count": 29,
   "id": "7c644fae",
   "metadata": {},
   "outputs": [
    {
     "name": "stdout",
     "output_type": "stream",
     "text": [
      "Region: EllipseSkyRegion\n",
      "center: <SkyCoord (Galactic): (l, b) in deg\n",
      "    (0., 0.)>\n",
      "width: 0.6000000000000001 deg\n",
      "height: 0.6000000000000001 deg\n",
      "angle: 0.0 deg\n"
     ]
    }
   ],
   "source": [
    "print(gauss.to_region())"
   ]
  },
  {
   "cell_type": "markdown",
   "id": "8506a108",
   "metadata": {},
   "source": [
    "Now we can plot the region on an sky image:"
   ]
  },
  {
   "cell_type": "code",
   "execution_count": 30,
   "id": "51c3fcc8",
   "metadata": {
    "nbsphinx-thumbnail": {
     "tooltip": "Introduction and overview on how to work with models in Gammapy."
    }
   },
   "outputs": [
    {
     "data": {
      "image/png": "[encoded data removed]",
      "text/plain": [
       "<Figure size 640x480 with 2 Axes>"
      ]
     },
     "metadata": {},
     "output_type": "display_data"
    }
   ],
   "source": [
    "# create and plot the model\n",
    "gauss_elongated = GaussianSpatialModel(\n",
    "    lon_0=\"0 deg\", lat_0=\"0 deg\", sigma=\"0.2 deg\", e=0.7, phi=\"45 deg\"\n",
    ")\n",
    "ax = gauss_elongated.plot(add_cbar=True)\n",
    "\n",
    "# add region illustration\n",
    "region = gauss_elongated.to_region()\n",
    "region_pix = region.to_pixel(ax.wcs)\n",
    "ax.add_artist(region_pix.as_artist(ec=\"w\", fc=\"None\"));"
   ]
  },
  {
   "cell_type": "markdown",
   "id": "c561acbf",
   "metadata": {},
   "source": [
    "The `.to_region()` method can also be useful to write e.g. ds9 region files using `write_ds9` from the `regions` package:"
   ]
  },
  {
   "cell_type": "code",
   "execution_count": 31,
   "id": "9267d97b",
   "metadata": {},
   "outputs": [],
   "source": [
    "from regions import Regions\n",
    "\n",
    "regions = Regions([gauss.to_region(), gauss_elongated.to_region()])\n",
    "\n",
    "filename = \"regions.reg\"\n",
    "regions.write(\n",
    "    filename,\n",
    "    format=\"ds9\",\n",
    "    overwrite=True,\n",
    ")"
   ]
  },
  {
   "cell_type": "code",
   "execution_count": 32,
   "id": "a1929c10",
   "metadata": {},
   "outputs": [
    {
     "name": "stdout",
     "output_type": "stream",
     "text": [
      "# Region file format: DS9 astropy/regions\r\n",
      "galactic; ellipse(0.00000000,0.00000000,0.30000000,0.30000000,0.00000000)\r\n",
      "icrs; ellipse(0.00000000,0.00000000,0.21424285,0.30000000,45.00000000)\r\n"
     ]
    }
   ],
   "source": [
    "!cat regions.reg"
   ]
  },
  {
   "cell_type": "markdown",
   "id": "8c2cfa43",
   "metadata": {},
   "source": [
    "## Temporal models"
   ]
  },
  {
   "cell_type": "markdown",
   "id": "774b42c9",
   "metadata": {},
   "source": [
    "Temporal models are imported from the same `~gammapy.modeling.models` namespace, let's start with a `GaussianTemporalModel`:"
   ]
  },
  {
   "cell_type": "code",
   "execution_count": 33,
   "id": "3c328f66",
   "metadata": {},
   "outputs": [],
   "source": [
    "from gammapy.modeling.models import GaussianTemporalModel"
   ]
  },
  {
   "cell_type": "code",
   "execution_count": 34,
   "id": "c98d1f52",
   "metadata": {},
   "outputs": [
    {
     "name": "stdout",
     "output_type": "stream",
     "text": [
      "GaussianTemporalModel\n",
      "\n",
      "  type    name   value    unit   error   min max frozen is_norm link\n",
      "-------- ----- ---------- ---- --------- --- --- ------ ------- ----\n",
      "temporal t_ref 5.9240e+04    d 0.000e+00 nan nan  False   False     \n",
      "temporal sigma 2.0000e+00    d 0.000e+00 nan nan  False   False     \n"
     ]
    }
   ],
   "source": [
    "gauss_temp = GaussianTemporalModel(t_ref=59240.0 * u.d, sigma=2.0 * u.d)\n",
    "print(gauss_temp)"
   ]
  },
  {
   "cell_type": "markdown",
   "id": "ae1f431e",
   "metadata": {},
   "source": [
    "To check the `TEMPORAL_MODELS` registry to see which models are available:"
   ]
  },
  {
   "cell_type": "code",
   "execution_count": 35,
   "id": "0d57c033",
   "metadata": {},
   "outputs": [
    {
     "name": "stdout",
     "output_type": "stream",
     "text": [
      "Registry\n",
      "--------\n",
      "\n",
      "ConstantTemporalModel           : ['ConstantTemporalModel', 'const'] \n",
      "LinearTemporalModel             : ['LinearTemporalModel', 'linear'] \n",
      "LightCurveTemplateTemporalModel : ['LightCurveTemplateTemporalModel', 'template'] \n",
      "ExpDecayTemporalModel           : ['ExpDecayTemporalModel', 'exp-decay'] \n",
      "GaussianTemporalModel           : ['GaussianTemporalModel', 'gauss'] \n",
      "GeneralizedGaussianTemporalModel: ['GeneralizedGaussianTemporalModel', 'gengauss'] \n",
      "PowerLawTemporalModel           : ['PowerLawTemporalModel', 'powerlaw'] \n",
      "SineTemporalModel               : ['SineTemporalModel', 'sinus'] \n",
      "TemplatePhaseCurveTemporalModel : ['TemplatePhaseCurveTemporalModel', 'template-phase'] \n",
      "\n"
     ]
    }
   ],
   "source": [
    "from gammapy.modeling.models import TEMPORAL_MODEL_REGISTRY\n",
    "\n",
    "print(TEMPORAL_MODEL_REGISTRY)"
   ]
  },
  {
   "cell_type": "markdown",
   "id": "e9789a57",
   "metadata": {},
   "source": [
    "Temporal models can be evaluated on `astropy.time.Time` objects. The returned quantity is a dimensionless number"
   ]
  },
  {
   "cell_type": "code",
   "execution_count": 36,
   "id": "e9cce09d",
   "metadata": {},
   "outputs": [
    {
     "data": {
      "text/latex": [
       "$0.32465247 \\; \\mathrm{}$"
      ],
      "text/plain": [
       "<Quantity 0.32465247>"
      ]
     },
     "execution_count": 36,
     "metadata": {},
     "output_type": "execute_result"
    }
   ],
   "source": [
    "from astropy.time import Time\n",
    "\n",
    "time = Time(\"2021-01-29 00:00:00.000\")\n",
    "gauss_temp(time)"
   ]
  },
  {
   "cell_type": "markdown",
   "id": "6988e1a9",
   "metadata": {},
   "source": [
    "As for other models, they can be plotted in a given time range"
   ]
  },
  {
   "cell_type": "code",
   "execution_count": 37,
   "id": "c53c133d",
   "metadata": {},
   "outputs": [
    {
     "data": {
      "text/plain": [
       "<AxesSubplot: xlabel='Time [iso]', ylabel='Norm / A.U.'>"
      ]
     },
     "execution_count": 37,
     "metadata": {},
     "output_type": "execute_result"
    },
    {
     "data": {
      "image/png": "[encoded data removed]",
      "text/plain": [
       "<Figure size 640x480 with 1 Axes>"
      ]
     },
     "metadata": {},
     "output_type": "display_data"
    }
   ],
   "source": [
    "time = Time([59233.0, 59250], format=\"mjd\")\n",
    "gauss_temp.plot(time)"
   ]
  },
  {
   "cell_type": "markdown",
   "id": "543e1c8c",
   "metadata": {},
   "source": [
    "## SkyModel"
   ]
  },
  {
   "cell_type": "markdown",
   "id": "c9cfe721",
   "metadata": {},
   "source": [
    "The `~gammapy.modeling.models.SkyModel` class combines a spectral, and optionally, a spatial model and a temporal. It can be created\n",
    "from existing spectral, spatial and temporal model components:"
   ]
  },
  {
   "cell_type": "code",
   "execution_count": 38,
   "id": "b0902845",
   "metadata": {},
   "outputs": [
    {
     "name": "stdout",
     "output_type": "stream",
     "text": [
      "SkyModel\n",
      "\n",
      "  Name                      : my-source\n",
      "  Datasets names            : None\n",
      "  Spectral model type       : PowerLawSpectralModel\n",
      "  Spatial  model type       : GaussianSpatialModel\n",
      "  Temporal model type       : GaussianTemporalModel\n",
      "  Parameters:\n",
      "    index                         :      2.200   +/-    0.00             \n",
      "    amplitude                     :   2.70e-12   +/- 0.0e+00 1 / (cm2 s TeV)\n",
      "    reference             (frozen):      1.000       TeV         \n",
      "    lon_0                         :      0.000   +/-    0.00 deg         \n",
      "    lat_0                         :      0.000   +/-    0.00 deg         \n",
      "    sigma                         :      0.200   +/-    0.00 deg         \n",
      "    e                     (frozen):      0.000                   \n",
      "    phi                   (frozen):      0.000       deg         \n",
      "    t_ref                         :  59240.000   +/-    0.00 d           \n",
      "    sigma                         :      2.000   +/-    0.00 d           \n",
      "\n",
      "\n"
     ]
    }
   ],
   "source": [
    "from gammapy.modeling.models import SkyModel\n",
    "\n",
    "model = SkyModel(\n",
    "    spectral_model=pwl,\n",
    "    spatial_model=gauss,\n",
    "    temporal_model=gauss_temp,\n",
    "    name=\"my-source\",\n",
    ")\n",
    "print(model)"
   ]
  },
  {
   "cell_type": "markdown",
   "id": "364f6415",
   "metadata": {},
   "source": [
    "It is good practice to specify a name for your sky model, so that you can access it later by name and have meaningful identifier you serilisation. If you don't define a name, a unique random name is generated:"
   ]
  },
  {
   "cell_type": "code",
   "execution_count": 39,
   "id": "84ee9065",
   "metadata": {},
   "outputs": [
    {
     "name": "stdout",
     "output_type": "stream",
     "text": [
      "Z5wnRuES\n"
     ]
    }
   ],
   "source": [
    "model_without_name = SkyModel(spectral_model=pwl, spatial_model=gauss)\n",
    "print(model_without_name.name)"
   ]
  },
  {
   "cell_type": "markdown",
   "id": "fc18206e",
   "metadata": {},
   "source": [
    "The individual components of the source model can be accessed using `.spectral_model`,  `.spatial_model` and `.temporal_model`:"
   ]
  },
  {
   "cell_type": "code",
   "execution_count": 40,
   "id": "14ffbbeb",
   "metadata": {},
   "outputs": [
    {
     "data": {
      "text/plain": [
       "<gammapy.modeling.models.spectral.PowerLawSpectralModel at 0x7fb4892b38e0>"
      ]
     },
     "execution_count": 40,
     "metadata": {},
     "output_type": "execute_result"
    }
   ],
   "source": [
    "model.spectral_model"
   ]
  },
  {
   "cell_type": "code",
   "execution_count": 41,
   "id": "9bce536d",
   "metadata": {},
   "outputs": [
    {
     "data": {
      "text/plain": [
       "<gammapy.modeling.models.spatial.GaussianSpatialModel at 0x7fb47a4ab220>"
      ]
     },
     "execution_count": 41,
     "metadata": {},
     "output_type": "execute_result"
    }
   ],
   "source": [
    "model.spatial_model"
   ]
  },
  {
   "cell_type": "code",
   "execution_count": 42,
   "id": "c4c11eb5",
   "metadata": {},
   "outputs": [
    {
     "data": {
      "text/plain": [
       "<gammapy.modeling.models.temporal.GaussianTemporalModel at 0x7fb47a192040>"
      ]
     },
     "execution_count": 42,
     "metadata": {},
     "output_type": "execute_result"
    }
   ],
   "source": [
    "model.temporal_model"
   ]
  },
  {
   "cell_type": "markdown",
   "id": "6144b17d",
   "metadata": {},
   "source": [
    "And can be used as you have seen already seen above:"
   ]
  },
  {
   "cell_type": "code",
   "execution_count": 43,
   "id": "85eeab0a",
   "metadata": {},
   "outputs": [
    {
     "data": {
      "image/png": "[encoded data removed]",
      "text/plain": [
       "<Figure size 640x480 with 1 Axes>"
      ]
     },
     "metadata": {},
     "output_type": "display_data"
    }
   ],
   "source": [
    "model.spectral_model.plot(energy_bounds=[1, 10] * u.TeV);"
   ]
  },
  {
   "cell_type": "markdown",
   "id": "4e0e5774",
   "metadata": {},
   "source": [
    "Note that the gammapy fitting can interface only with a `SkyModel` and **not** its individual components. So, it is customary to work with `SkyModel` even if you are not doing a 3D fit. Since the amplitude parameter resides on the `SpectralModel`, specifying a spectral component is compulsory. The temporal and spatial components are optional. The temporal model needs to be specified only for timing analysis. In some cases (e.g. when doing a spectral analysis) there is no need for a spatial component either, and only a spectral model is associated with the source. "
   ]
  },
  {
   "cell_type": "code",
   "execution_count": 44,
   "id": "b4c2dac2",
   "metadata": {},
   "outputs": [
    {
     "name": "stdout",
     "output_type": "stream",
     "text": [
      "SkyModel\n",
      "\n",
      "  Name                      : source-spectrum\n",
      "  Datasets names            : None\n",
      "  Spectral model type       : PowerLawSpectralModel\n",
      "  Spatial  model type       : \n",
      "  Temporal model type       : \n",
      "  Parameters:\n",
      "    index                         :      2.200   +/-    0.00             \n",
      "    amplitude                     :   2.70e-12   +/- 0.0e+00 1 / (cm2 s TeV)\n",
      "    reference             (frozen):      1.000       TeV         \n",
      "\n",
      "\n"
     ]
    }
   ],
   "source": [
    "model_spectrum = SkyModel(spectral_model=pwl, name=\"source-spectrum\")\n",
    "print(model_spectrum)"
   ]
  },
  {
   "cell_type": "markdown",
   "id": "6cc0255b",
   "metadata": {},
   "source": [
    "Additionally the spatial model of `~gammapy.modeling.models.SkyModel` can be used to represent source models based on templates, where the spatial and energy axes are correlated. It can be created e.g. from an existing FITS file:\n",
    "\n"
   ]
  },
  {
   "cell_type": "code",
   "execution_count": 45,
   "id": "a349235b",
   "metadata": {},
   "outputs": [],
   "source": [
    "from gammapy.modeling.models import TemplateSpatialModel\n",
    "from gammapy.modeling.models import PowerLawNormSpectralModel"
   ]
  },
  {
   "cell_type": "code",
   "execution_count": 46,
   "id": "800f1dba",
   "metadata": {},
   "outputs": [
    {
     "name": "stdout",
     "output_type": "stream",
     "text": [
      "SkyModel\n",
      "\n",
      "  Name                      : 5IahVH5u\n",
      "  Datasets names            : None\n",
      "  Spectral model type       : PowerLawNormSpectralModel\n",
      "  Spatial  model type       : TemplateSpatialModel\n",
      "  Temporal model type       : \n",
      "  Parameters:\n",
      "    norm                          :      1.000   +/-    0.00             \n",
      "    tilt                  (frozen):      0.000                   \n",
      "    reference             (frozen):      1.000       TeV         \n",
      "\n",
      "\n"
     ]
    }
   ],
   "source": [
    "diffuse_cube = TemplateSpatialModel.read(\n",
    "    \"$GAMMAPY_DATA/fermi-3fhl-gc/gll_iem_v06_gc.fits.gz\", normalize=False\n",
    ")\n",
    "diffuse = SkyModel(PowerLawNormSpectralModel(), diffuse_cube)\n",
    "print(diffuse)"
   ]
  },
  {
   "cell_type": "markdown",
   "id": "9402b9e1",
   "metadata": {},
   "source": [
    "Note that if the spatial model is not normalized over the sky it has to be combined with a normalized spectral model, for example `~gammapy.modeling.models.PowerLawNormSpectralModel`. This is the only case in `gammapy.models.SkyModel` where the unit is fully attached to the spatial model."
   ]
  },
  {
   "cell_type": "markdown",
   "id": "f8ded7f5",
   "metadata": {},
   "source": [
    "## Modifying model parameters\n",
    "\n",
    "Model parameters can be modified (eg: frozen, values changed, etc at any point), eg:"
   ]
  },
  {
   "cell_type": "code",
   "execution_count": 47,
   "id": "6062d197",
   "metadata": {},
   "outputs": [],
   "source": [
    "# Freezing a parameter\n",
    "model.spectral_model.index.frozen = True\n",
    "# Making a parameter free\n",
    "model.spectral_model.index.frozen = False"
   ]
  },
  {
   "cell_type": "code",
   "execution_count": 48,
   "id": "db1a7e2f",
   "metadata": {},
   "outputs": [],
   "source": [
    "# Changing a value\n",
    "model.spectral_model.index.value = 3"
   ]
  },
  {
   "cell_type": "code",
   "execution_count": 49,
   "id": "523799ff",
   "metadata": {},
   "outputs": [],
   "source": [
    "# Setting min and max ranges on parameters\n",
    "model.spectral_model.index.min = 1.0\n",
    "model.spectral_model.index.max = 5.0"
   ]
  },
  {
   "cell_type": "code",
   "execution_count": 50,
   "id": "3c0e451f",
   "metadata": {},
   "outputs": [
    {
     "data": {
      "text/html": [
       "<i>Table length=10</i>\n",
       "<table id=\"table140413123439296-678024\" class=\"table-striped table-bordered table-condensed\">\n",
       "<thead><tr><th>idx</th><th>type</th><th>name</th><th>value</th><th>unit</th><th>error</th><th>min</th><th>max</th><th>frozen</th><th>is_norm</th><th>link</th></tr></thead>\n",
       "<tr><td>0</td><td>spectral</td><td>index</td><td>3.0000e+00</td><td></td><td>0.000e+00</td><td>1.000e+00</td><td>5.000e+00</td><td>False</td><td>False</td><td></td></tr>\n",
       "<tr><td>1</td><td>spectral</td><td>amplitude</td><td>2.7000e-12</td><td>cm-2 s-1 TeV-1</td><td>0.000e+00</td><td>nan</td><td>nan</td><td>False</td><td>True</td><td></td></tr>\n",
       "<tr><td>2</td><td>spectral</td><td>reference</td><td>1.0000e+00</td><td>TeV</td><td>0.000e+00</td><td>nan</td><td>nan</td><td>True</td><td>False</td><td></td></tr>\n",
       "<tr><td>3</td><td>spatial</td><td>lon_0</td><td>0.0000e+00</td><td>deg</td><td>0.000e+00</td><td>nan</td><td>nan</td><td>False</td><td>False</td><td></td></tr>\n",
       "<tr><td>4</td><td>spatial</td><td>lat_0</td><td>0.0000e+00</td><td>deg</td><td>0.000e+00</td><td>-9.000e+01</td><td>9.000e+01</td><td>False</td><td>False</td><td></td></tr>\n",
       "<tr><td>5</td><td>spatial</td><td>sigma</td><td>2.0000e-01</td><td>deg</td><td>0.000e+00</td><td>0.000e+00</td><td>nan</td><td>False</td><td>False</td><td></td></tr>\n",
       "<tr><td>6</td><td>spatial</td><td>e</td><td>0.0000e+00</td><td></td><td>0.000e+00</td><td>0.000e+00</td><td>1.000e+00</td><td>True</td><td>False</td><td></td></tr>\n",
       "<tr><td>7</td><td>spatial</td><td>phi</td><td>0.0000e+00</td><td>deg</td><td>0.000e+00</td><td>nan</td><td>nan</td><td>True</td><td>False</td><td></td></tr>\n",
       "<tr><td>8</td><td>temporal</td><td>t_ref</td><td>5.9240e+04</td><td>d</td><td>0.000e+00</td><td>nan</td><td>nan</td><td>False</td><td>False</td><td></td></tr>\n",
       "<tr><td>9</td><td>temporal</td><td>sigma</td><td>2.0000e+00</td><td>d</td><td>0.000e+00</td><td>nan</td><td>nan</td><td>False</td><td>False</td><td></td></tr>\n",
       "</table><style>table.dataTable {clear: both; width: auto !important; margin: 0 !important;}\n",
       ".dataTables_info, .dataTables_length, .dataTables_filter, .dataTables_paginate{\n",
       "display: inline-block; margin-right: 1em; }\n",
       ".paginate_button { margin-right: 5px; }\n",
       "</style>\n",
       "<script>\n",
       "\n",
       "var astropy_sort_num = function(a, b) {\n",
       "    var a_num = parseFloat(a);\n",
       "    var b_num = parseFloat(b);\n",
       "\n",
       "    if (isNaN(a_num) && isNaN(b_num))\n",
       "        return ((a < b) ? -1 : ((a > b) ? 1 : 0));\n",
       "    else if (!isNaN(a_num) && !isNaN(b_num))\n",
       "        return ((a_num < b_num) ? -1 : ((a_num > b_num) ? 1 : 0));\n",
       "    else\n",
       "        return isNaN(a_num) ? -1 : 1;\n",
       "}\n",
       "\n",
       "require.config({paths: {\n",
       "    datatables: 'https://cdn.datatables.net/1.10.12/js/jquery.dataTables.min'\n",
       "}});\n",
       "require([\"datatables\"], function(){\n",
       "    console.log(\"$('#table140413123439296-678024').dataTable()\");\n",
       "    \n",
       "jQuery.extend( jQuery.fn.dataTableExt.oSort, {\n",
       "    \"optionalnum-asc\": astropy_sort_num,\n",
       "    \"optionalnum-desc\": function (a,b) { return -astropy_sort_num(a, b); }\n",
       "});\n",
       "\n",
       "    $('#table140413123439296-678024').dataTable({\n",
       "        order: [],\n",
       "        pageLength: 50,\n",
       "        lengthMenu: [[10, 25, 50, 100, 500, 1000, -1], [10, 25, 50, 100, 500, 1000, 'All']],\n",
       "        pagingType: \"full_numbers\",\n",
       "        columnDefs: [{targets: [0, 3, 5, 6, 7], type: \"optionalnum\"}]\n",
       "    });\n",
       "});\n",
       "</script>\n"
      ],
      "text/plain": [
       "<IPython.core.display.HTML object>"
      ]
     },
     "execution_count": 50,
     "metadata": {},
     "output_type": "execute_result"
    }
   ],
   "source": [
    "# Visualise the model as a table\n",
    "model.parameters.to_table().show_in_notebook()"
   ]
  },
  {
   "cell_type": "markdown",
   "id": "4bc7e977",
   "metadata": {},
   "source": [
    "You can use the interactive boxes to choose model parameters by name, type or other attrributes mentioned in the column names."
   ]
  },
  {
   "cell_type": "markdown",
   "id": "2943c0c0",
   "metadata": {},
   "source": [
    "## Model lists and serialisation\n",
    "\n",
    "In a typical analysis scenario a model consists of multiple model components, or a \"catalog\" or \"source library\". To handle this list of multiple model components, Gammapy has a `Models` class:"
   ]
  },
  {
   "cell_type": "code",
   "execution_count": 51,
   "id": "61f5d0cf",
   "metadata": {},
   "outputs": [],
   "source": [
    "from gammapy.modeling.models import Models"
   ]
  },
  {
   "cell_type": "code",
   "execution_count": 52,
   "id": "d4c460ec",
   "metadata": {},
   "outputs": [
    {
     "name": "stdout",
     "output_type": "stream",
     "text": [
      "Models\n",
      "\n",
      "Component 0: SkyModel\n",
      "\n",
      "  Name                      : my-source\n",
      "  Datasets names            : None\n",
      "  Spectral model type       : PowerLawSpectralModel\n",
      "  Spatial  model type       : GaussianSpatialModel\n",
      "  Temporal model type       : GaussianTemporalModel\n",
      "  Parameters:\n",
      "    index                         :      3.000   +/-    0.00             \n",
      "    amplitude                     :   2.70e-12   +/- 0.0e+00 1 / (cm2 s TeV)\n",
      "    reference             (frozen):      1.000       TeV         \n",
      "    lon_0                         :      0.000   +/-    0.00 deg         \n",
      "    lat_0                         :      0.000   +/-    0.00 deg         \n",
      "    sigma                         :      0.200   +/-    0.00 deg         \n",
      "    e                     (frozen):      0.000                   \n",
      "    phi                   (frozen):      0.000       deg         \n",
      "    t_ref                         :  59240.000   +/-    0.00 d           \n",
      "    sigma                         :      2.000   +/-    0.00 d           \n",
      "\n",
      "Component 1: SkyModel\n",
      "\n",
      "  Name                      : 5IahVH5u\n",
      "  Datasets names            : None\n",
      "  Spectral model type       : PowerLawNormSpectralModel\n",
      "  Spatial  model type       : TemplateSpatialModel\n",
      "  Temporal model type       : \n",
      "  Parameters:\n",
      "    norm                          :      1.000   +/-    0.00             \n",
      "    tilt                  (frozen):      0.000                   \n",
      "    reference             (frozen):      1.000       TeV         \n",
      "\n",
      "\n"
     ]
    }
   ],
   "source": [
    "models = Models([model, diffuse])\n",
    "print(models)"
   ]
  },
  {
   "cell_type": "markdown",
   "id": "4e69128d",
   "metadata": {},
   "source": [
    "Individual model components in the list can be accessed by their name:"
   ]
  },
  {
   "cell_type": "code",
   "execution_count": 53,
   "id": "26f7c3d3",
   "metadata": {},
   "outputs": [
    {
     "name": "stdout",
     "output_type": "stream",
     "text": [
      "SkyModel\n",
      "\n",
      "  Name                      : my-source\n",
      "  Datasets names            : None\n",
      "  Spectral model type       : PowerLawSpectralModel\n",
      "  Spatial  model type       : GaussianSpatialModel\n",
      "  Temporal model type       : GaussianTemporalModel\n",
      "  Parameters:\n",
      "    index                         :      3.000   +/-    0.00             \n",
      "    amplitude                     :   2.70e-12   +/- 0.0e+00 1 / (cm2 s TeV)\n",
      "    reference             (frozen):      1.000       TeV         \n",
      "    lon_0                         :      0.000   +/-    0.00 deg         \n",
      "    lat_0                         :      0.000   +/-    0.00 deg         \n",
      "    sigma                         :      0.200   +/-    0.00 deg         \n",
      "    e                     (frozen):      0.000                   \n",
      "    phi                   (frozen):      0.000       deg         \n",
      "    t_ref                         :  59240.000   +/-    0.00 d           \n",
      "    sigma                         :      2.000   +/-    0.00 d           \n",
      "\n",
      "\n"
     ]
    }
   ],
   "source": [
    "print(models[\"my-source\"])"
   ]
  },
  {
   "cell_type": "markdown",
   "id": "8fce5632",
   "metadata": {},
   "source": [
    "**Note:**To make the access by name unambiguous, models are required to have a unique name, otherwise an error will be thrown.\n",
    "\n",
    "To see which models are available you can use the `.names` attribute:"
   ]
  },
  {
   "cell_type": "code",
   "execution_count": 54,
   "id": "f9380d87",
   "metadata": {},
   "outputs": [
    {
     "name": "stdout",
     "output_type": "stream",
     "text": [
      "['my-source', '5IahVH5u']\n"
     ]
    }
   ],
   "source": [
    "print(models.names)"
   ]
  },
  {
   "cell_type": "markdown",
   "id": "b5a4ad31",
   "metadata": {},
   "source": [
    "Note that a `SkyModel` object can be evaluated for a given longitude, latitude, and energy, but the `Models` object cannot. This `Models` container object will be assigned to `Dataset` or `Datasets` together with the data to be fitted as explained in other analysis tutorials (see for example the [modeling](../analysis/2D/modeling_2D.ipynb) notebook).\n",
    "\n",
    "The `Models` class also has in place `.append()` and `.extend()` methods:"
   ]
  },
  {
   "cell_type": "code",
   "execution_count": 55,
   "id": "fc6b0012",
   "metadata": {},
   "outputs": [],
   "source": [
    "model_copy = model.copy(name=\"my-source-copy\")\n",
    "models.append(model_copy)"
   ]
  },
  {
   "cell_type": "markdown",
   "id": "a9662d67",
   "metadata": {},
   "source": [
    "This list of models can be also serialised to a custom YAML based format: "
   ]
  },
  {
   "cell_type": "code",
   "execution_count": 56,
   "id": "a8596442",
   "metadata": {},
   "outputs": [
    {
     "name": "stderr",
     "output_type": "stream",
     "text": [
      "Template file already exits, and overwrite is False\n"
     ]
    },
    {
     "name": "stdout",
     "output_type": "stream",
     "text": [
      "components:\n",
      "-   name: my-source\n",
      "    type: SkyModel\n",
      "    spectral:\n",
      "        type: PowerLawSpectralModel\n",
      "        parameters:\n",
      "        -   name: index\n",
      "            value: 3.0\n",
      "            min: 1.0\n",
      "            max: 5.0\n",
      "        -   name: amplitude\n",
      "            value: 2.7e-12\n",
      "            unit: cm-2 s-1 TeV-1\n",
      "        -   name: reference\n",
      "            value: 1.0\n",
      "            unit: TeV\n",
      "    spatial:\n",
      "        type: GaussianSpatialModel\n",
      "        frame: galactic\n",
      "        parameters:\n",
      "        -   name: lon_0\n",
      "            value: 0.0\n",
      "            unit: deg\n",
      "        -   name: lat_0\n",
      "            value: 0.0\n",
      "            unit: deg\n",
      "        -   name: sigma\n",
      "            value: 0.2\n",
      "            unit: deg\n",
      "        -   name: e\n",
      "            value: 0.0\n",
      "        -   name: phi\n",
      "            value: 0.0\n",
      "            unit: deg\n",
      "    temporal:\n",
      "        type: GaussianTemporalModel\n",
      "        parameters:\n",
      "        -   name: t_ref\n",
      "            value: 59240.0\n",
      "            unit: d\n",
      "        -   name: sigma\n",
      "            value: 2.0\n",
      "            unit: d\n",
      "-   name: 5IahVH5u\n",
      "    type: SkyModel\n",
      "    spectral:\n",
      "        type: PowerLawNormSpectralModel\n",
      "        parameters:\n",
      "        -   name: norm\n",
      "            value: 1.0\n",
      "        -   name: tilt\n",
      "            value: 0.0\n",
      "        -   name: reference\n",
      "            value: 1.0\n",
      "            unit: TeV\n",
      "    spatial:\n",
      "        type: TemplateSpatialModel\n",
      "        frame: galactic\n",
      "        parameters: []\n",
      "        filename: /home/bornagain/Documents/GitHub/gammapy/gammapy-datasets/1.0/fermi-3fhl-gc/gll_iem_v06_gc.fits.gz\n",
      "        normalize: false\n",
      "        unit: 1 / (cm2 MeV s sr)\n",
      "-   name: my-source-copy\n",
      "    type: SkyModel\n",
      "    spectral:\n",
      "        type: PowerLawSpectralModel\n",
      "        parameters:\n",
      "        -   name: index\n",
      "            value: 3.0\n",
      "            min: 1.0\n",
      "            max: 5.0\n",
      "        -   name: amplitude\n",
      "            value: 2.7e-12\n",
      "            unit: cm-2 s-1 TeV-1\n",
      "        -   name: reference\n",
      "            value: 1.0\n",
      "            unit: TeV\n",
      "    spatial:\n",
      "        type: GaussianSpatialModel\n",
      "        frame: galactic\n",
      "        parameters:\n",
      "        -   name: lon_0\n",
      "            value: 0.0\n",
      "            unit: deg\n",
      "        -   name: lat_0\n",
      "            value: 0.0\n",
      "            unit: deg\n",
      "        -   name: sigma\n",
      "            value: 0.2\n",
      "            unit: deg\n",
      "        -   name: e\n",
      "            value: 0.0\n",
      "        -   name: phi\n",
      "            value: 0.0\n",
      "            unit: deg\n",
      "    temporal:\n",
      "        type: GaussianTemporalModel\n",
      "        parameters:\n",
      "        -   name: t_ref\n",
      "            value: 59240.0\n",
      "            unit: d\n",
      "        -   name: sigma\n",
      "            value: 2.0\n",
      "            unit: d\n",
      "\n"
     ]
    }
   ],
   "source": [
    "models_yaml = models.to_yaml()\n",
    "print(models_yaml)"
   ]
  },
  {
   "cell_type": "markdown",
   "id": "04ebddf1",
   "metadata": {},
   "source": [
    "The structure of the yaml files follows the structure of the python objects.\n",
    "The `components` listed correspond to the `SkyModel` and `SkyDiffuseCube` components of the `Models`. \n",
    "For each `SkyModel` we have  information about its `name`, `type` (corresponding to the tag attribute) and sub-mobels (i.e `spectral` model and eventually `spatial` model). Then the spatial and spectral models are defined by their type and parameters. The `parameters` keys name/value/unit are mandatory, while the keys min/max/frozen are optionnals (so you can prepare shorter files).\n",
    "\n",
    "If you want to write this list of models to disk and read it back later you can use:"
   ]
  },
  {
   "cell_type": "code",
   "execution_count": 57,
   "id": "69686cf2",
   "metadata": {},
   "outputs": [
    {
     "name": "stderr",
     "output_type": "stream",
     "text": [
      "Template file already exits, and overwrite is False\n"
     ]
    }
   ],
   "source": [
    "models.write(\"models.yaml\", overwrite=True)"
   ]
  },
  {
   "cell_type": "code",
   "execution_count": 58,
   "id": "6ad3dd78",
   "metadata": {},
   "outputs": [],
   "source": [
    "models_read = Models.read(\"models.yaml\")"
   ]
  },
  {
   "cell_type": "markdown",
   "id": "f993ab0f",
   "metadata": {},
   "source": [
    "Additionally the models can exported and imported togeter with the data using the `Datasets.read()` and `Datasets.write()` methods as shown in the [analysis_mwl](../analysis/3D/analysis_mwl.ipynb) notebook.\n",
    "\n",
    "## Models with shared parameter\n",
    "\n",
    "A model parameter can be shared with other models, for example we can define two power-law models with the same spectral index but different amplitudes: "
   ]
  },
  {
   "cell_type": "code",
   "execution_count": 59,
   "id": "d9620fb8",
   "metadata": {
    "run_control": {
     "marked": false
    }
   },
   "outputs": [
    {
     "name": "stdout",
     "output_type": "stream",
     "text": [
      "Parameter(name='index', value=2.3, factor=2.3, scale=1.0, unit=Unit(dimensionless), min=1.0, max=5.0, frozen=False, id=0x7fb4892b3520)\n",
      "Parameter(name='index', value=2.3, factor=2.3, scale=1.0, unit=Unit(dimensionless), min=1.0, max=5.0, frozen=False, id=0x7fb4892b3520)\n"
     ]
    }
   ],
   "source": [
    "pwl2 = PowerLawSpectralModel()\n",
    "pwl2.index = pwl.index\n",
    "pwl.index.value = 2.3  # also update pwl2 as the parameter object is now the same as shown below\n",
    "print(pwl.index)\n",
    "print(pwl2.index)"
   ]
  },
  {
   "cell_type": "markdown",
   "id": "0fc77a9e",
   "metadata": {},
   "source": [
    "In the YAML files the shared parameter is flagged by the additional `link` entry that follows the convention `parameter.name@unique_id`:"
   ]
  },
  {
   "cell_type": "code",
   "execution_count": 60,
   "id": "97b31e6c",
   "metadata": {},
   "outputs": [
    {
     "name": "stdout",
     "output_type": "stream",
     "text": [
      "components:\n",
      "-   name: source1\n",
      "    type: SkyModel\n",
      "    spectral:\n",
      "        type: PowerLawSpectralModel\n",
      "        parameters:\n",
      "        -   name: index\n",
      "            value: 2.3\n",
      "            min: 1.0\n",
      "            max: 5.0\n",
      "            link: index@4wGgEEba\n",
      "        -   name: amplitude\n",
      "            value: 2.7e-12\n",
      "            unit: cm-2 s-1 TeV-1\n",
      "        -   name: reference\n",
      "            value: 1.0\n",
      "            unit: TeV\n",
      "-   name: source2\n",
      "    type: SkyModel\n",
      "    spectral:\n",
      "        type: PowerLawSpectralModel\n",
      "        parameters:\n",
      "        -   name: index\n",
      "            value: 2.3\n",
      "            min: 1.0\n",
      "            max: 5.0\n",
      "            link: index@4wGgEEba\n",
      "        -   name: amplitude\n",
      "            value: 1.0e-12\n",
      "            unit: cm-2 s-1 TeV-1\n",
      "        -   name: reference\n",
      "            value: 1.0\n",
      "            unit: TeV\n",
      "\n"
     ]
    }
   ],
   "source": [
    "models = Models(\n",
    "    [SkyModel(pwl, name=\"source1\"), SkyModel(pwl2, name=\"source2\")]\n",
    ")\n",
    "models_yaml = models.to_yaml()\n",
    "print(models_yaml)"
   ]
  },
  {
   "cell_type": "markdown",
   "id": "b0e15b37",
   "metadata": {
    "jupyter": {
     "outputs_hidden": false
    }
   },
   "source": [
    "## Implementing a custom model\n",
    "\n",
    "In order to add a user defined spectral model you have to create a SpectralModel subclass.\n",
    "This new model class should include:\n",
    "\n",
    "- a tag used for serialization (it can be the same as the class name)\n",
    "- an instantiation of each Parameter with their unit, default values and frozen status\n",
    "- the evaluate function where the mathematical expression for the model is defined.\n",
    "\n",
    "As an example we will use a PowerLawSpectralModel plus a Gaussian (with fixed width).\n",
    "First we define the new custom model class that we name `MyCustomSpectralModel`:"
   ]
  },
  {
   "cell_type": "code",
   "execution_count": 61,
   "id": "88860e64",
   "metadata": {},
   "outputs": [],
   "source": [
    "from gammapy.modeling import Parameter\n",
    "from gammapy.modeling.models import SpectralModel\n",
    "\n",
    "\n",
    "class MyCustomSpectralModel(SpectralModel):\n",
    "    \"\"\"My custom spectral model, parametrising a power law plus a Gaussian spectral line.\n",
    "\n",
    "    Parameters\n",
    "    ----------\n",
    "    amplitude : `astropy.units.Quantity`\n",
    "        Amplitude of the spectra model.\n",
    "    index : `astropy.units.Quantity`\n",
    "        Spectral index of the model.\n",
    "    reference : `astropy.units.Quantity`\n",
    "        Reference energy of the power law.\n",
    "    mean : `astropy.units.Quantity`\n",
    "        Mean value of the Gaussian.\n",
    "    width : `astropy.units.Quantity`\n",
    "        Sigma width of the Gaussian line.\n",
    "\n",
    "    \"\"\"\n",
    "\n",
    "    tag = \"MyCustomSpectralModel\"\n",
    "    amplitude = Parameter(\n",
    "        \"amplitude\", \"1e-12 cm-2 s-1 TeV-1\", min=0, is_norm=True\n",
    "    )\n",
    "    index = Parameter(\"index\", 2, min=0)\n",
    "    reference = Parameter(\"reference\", \"1 TeV\", frozen=True)\n",
    "    mean = Parameter(\"mean\", \"1 TeV\", min=0)\n",
    "    width = Parameter(\"width\", \"0.1 TeV\", min=0, frozen=True)\n",
    "\n",
    "    @staticmethod\n",
    "    def evaluate(energy, index, amplitude, reference, mean, width):\n",
    "        pwl = PowerLawSpectralModel.evaluate(\n",
    "            energy=energy,\n",
    "            index=index,\n",
    "            amplitude=amplitude,\n",
    "            reference=reference,\n",
    "        )\n",
    "        gauss = amplitude * np.exp(-((energy - mean) ** 2) / (2 * width**2))\n",
    "        return pwl + gauss"
   ]
  },
  {
   "cell_type": "markdown",
   "id": "6883069f",
   "metadata": {},
   "source": [
    "It is good practice to also implement a docstring for the model, defining the parameters and also definig a `tag`, which specifies the name of the model for serialisation. Also note that gammapy assumes that all SpectralModel evaluate functions return a flux in unit of `\"cm-2 s-1 TeV-1\"` (or equivalent dimensions).\n",
    "\n",
    "\n",
    "\n",
    "This model can now be used as any other spectral model in Gammapy:"
   ]
  },
  {
   "cell_type": "code",
   "execution_count": 62,
   "id": "189425dc",
   "metadata": {},
   "outputs": [
    {
     "name": "stdout",
     "output_type": "stream",
     "text": [
      "MyCustomSpectralModel\n",
      "\n",
      "  type      name     value         unit        error      min    max frozen is_norm link\n",
      "-------- --------- ---------- -------------- --------- --------- --- ------ ------- ----\n",
      "spectral amplitude 1.0000e-12 cm-2 s-1 TeV-1 0.000e+00 0.000e+00 nan  False    True     \n",
      "spectral     index 2.0000e+00                0.000e+00 0.000e+00 nan  False   False     \n",
      "spectral reference 1.0000e+00            TeV 0.000e+00       nan nan   True   False     \n",
      "spectral      mean 3.0000e+00            TeV 0.000e+00 0.000e+00 nan  False   False     \n",
      "spectral     width 1.0000e-01            TeV 0.000e+00 0.000e+00 nan   True   False     \n"
     ]
    }
   ],
   "source": [
    "my_custom_model = MyCustomSpectralModel(mean=\"3 TeV\")\n",
    "print(my_custom_model)"
   ]
  },
  {
   "cell_type": "code",
   "execution_count": 63,
   "id": "ce939cd2",
   "metadata": {},
   "outputs": [
    {
     "data": {
      "text/latex": [
       "$1.1442739 \\times 10^{-12} \\; \\mathrm{\\frac{1}{s\\,cm^{2}}}$"
      ],
      "text/plain": [
       "<Quantity 1.14427393e-12 1 / (cm2 s)>"
      ]
     },
     "execution_count": 63,
     "metadata": {},
     "output_type": "execute_result"
    }
   ],
   "source": [
    "my_custom_model.integral(1 * u.TeV, 10 * u.TeV)"
   ]
  },
  {
   "cell_type": "code",
   "execution_count": 64,
   "id": "9b50dcd5",
   "metadata": {},
   "outputs": [
    {
     "data": {
      "text/plain": [
       "<AxesSubplot: xlabel='Energy [TeV]', ylabel='dnde [1 / (cm2 s TeV)]'>"
      ]
     },
     "execution_count": 64,
     "metadata": {},
     "output_type": "execute_result"
    },
    {
     "data": {
      "image/png": "[encoded data removed]",
      "text/plain": [
       "<Figure size 640x480 with 1 Axes>"
      ]
     },
     "metadata": {},
     "output_type": "display_data"
    }
   ],
   "source": [
    "my_custom_model.plot(energy_bounds=[1, 10] * u.TeV)"
   ]
  },
  {
   "cell_type": "markdown",
   "id": "f2964230",
   "metadata": {},
   "source": [
    "As a next step we can also register the custom model in the `SPECTRAL_MODELS` registry, so that it becomes available for serilisation:"
   ]
  },
  {
   "cell_type": "code",
   "execution_count": 65,
   "id": "5c05c89e",
   "metadata": {},
   "outputs": [],
   "source": [
    "SPECTRAL_MODEL_REGISTRY.append(MyCustomSpectralModel)"
   ]
  },
  {
   "cell_type": "code",
   "execution_count": 66,
   "id": "91a6c075",
   "metadata": {},
   "outputs": [],
   "source": [
    "model = SkyModel(spectral_model=my_custom_model, name=\"my-source\")\n",
    "models = Models([model])\n",
    "models.write(\"my-custom-models.yaml\", overwrite=True)"
   ]
  },
  {
   "cell_type": "code",
   "execution_count": 67,
   "id": "08c651f5",
   "metadata": {},
   "outputs": [
    {
     "name": "stdout",
     "output_type": "stream",
     "text": [
      "components:\r\n",
      "-   name: my-source\r\n",
      "    type: SkyModel\r\n",
      "    spectral:\r\n",
      "        type: MyCustomSpectralModel\r\n",
      "        parameters:\r\n",
      "        -   name: amplitude\r\n",
      "            value: 1.0e-12\r\n",
      "            unit: cm-2 s-1 TeV-1\r\n",
      "        -   name: index\r\n",
      "            value: 2.0\r\n",
      "        -   name: reference\r\n",
      "            value: 1.0\r\n",
      "            unit: TeV\r\n",
      "        -   name: mean\r\n",
      "            value: 3.0\r\n",
      "            unit: TeV\r\n",
      "        -   name: width\r\n",
      "            value: 0.1\r\n",
      "            unit: TeV\r\n",
      "covariance: my-custom-models_covariance.dat\r\n"
     ]
    }
   ],
   "source": [
    "!cat my-custom-models.yaml"
   ]
  },
  {
   "cell_type": "markdown",
   "id": "f1a1c966",
   "metadata": {},
   "source": [
    "Similarly you can also create custom spatial models and add them to the `SPATIAL_MODELS` registry. In that case gammapy assumes that the evaluate function return a normalized quantity in \"sr-1\" such as the model integral over the whole sky is one."
   ]
  },
  {
   "cell_type": "markdown",
   "id": "8188b075",
   "metadata": {},
   "source": [
    "## Models with energy dependent morphology\n",
    "\n",
    "A common science case in the study of extended sources is to probe for energy dependent morphology, eg: in Supernova Remnants or Pulsar Wind Nebulae. Traditionally, this has been done by splitting the data into energy bands and doing individual fits of the morphology in these energy bands.\n",
    "\n",
    "`SkyModel` offers a natural framework to simultaneously model the energy and morphology, e.g. spatial extent described by a parametric model expression with energy dependent parameters.\n",
    "\n",
    "The models shipped within gammapy use a “factorised” representation of the source model, where the spatial ($l,b$), energy ($E$) and time ($t$) dependence are independent model components and not correlated:\n",
    "\n",
    "   $$f(l, b, E, t) = F(l, b) \\cdot G(E) \\cdot H(t) $$\n",
    "    \n",
    "To use full 3D models, ie $f(l, b, E) = F(l, b, E) \\cdot G(E) $,  you have to implement your own custom `SpatialModel`. Note that it is still necessary to multiply by a `SpectralModel`, $G(E)$ to be dimensionally consistent.\n",
    "\n",
    "In this example, we create Gaussian Spatial Model with the extension varying with energy. For simplicity, we assume a linear dependence on energy and parameterize this by specifying the extension at 2 energies. You can add more complex dependences, probably motivated by physical models."
   ]
  },
  {
   "cell_type": "code",
   "execution_count": 68,
   "id": "cfe25cc5",
   "metadata": {},
   "outputs": [],
   "source": [
    "from gammapy.modeling.models import SpatialModel\n",
    "from astropy.coordinates.angle_utilities import angular_separation\n",
    "\n",
    "\n",
    "class MyCustomGaussianModel(SpatialModel):\n",
    "    \"\"\"My custom Energy Dependent Gaussian model.\n",
    "\n",
    "    Parameters\n",
    "    ----------\n",
    "    lon_0, lat_0 : `~astropy.coordinates.Angle`\n",
    "        Center position\n",
    "    sigma_1TeV : `~astropy.coordinates.Angle`\n",
    "        Width of the Gaussian at 1 TeV\n",
    "    sigma_10TeV : `~astropy.coordinates.Angle`\n",
    "        Width of the Gaussian at 10 TeV\n",
    "\n",
    "    \"\"\"\n",
    "\n",
    "    tag = \"MyCustomGaussianModel\"\n",
    "    is_energy_dependent = True\n",
    "    lon_0 = Parameter(\"lon_0\", \"0 deg\")\n",
    "    lat_0 = Parameter(\"lat_0\", \"0 deg\", min=-90, max=90)\n",
    "\n",
    "    sigma_1TeV = Parameter(\"sigma_1TeV\", \"2.0 deg\", min=0)\n",
    "    sigma_10TeV = Parameter(\"sigma_10TeV\", \"0.2 deg\", min=0)\n",
    "\n",
    "    @staticmethod\n",
    "    def evaluate(lon, lat, energy, lon_0, lat_0, sigma_1TeV, sigma_10TeV):\n",
    "\n",
    "        sep = angular_separation(lon, lat, lon_0, lat_0)\n",
    "\n",
    "        # Compute sigma for the given energy using linear interpolation in log energy\n",
    "        sigma_nodes = u.Quantity([sigma_1TeV, sigma_10TeV])\n",
    "        energy_nodes = [1, 10] * u.TeV\n",
    "        log_s = np.log(sigma_nodes.to(\"deg\").value)\n",
    "        log_en = np.log(energy_nodes.to(\"TeV\").value)\n",
    "        log_e = np.log(energy.to(\"TeV\").value)\n",
    "        sigma = np.exp(np.interp(log_e, log_en, log_s)) * u.deg\n",
    "\n",
    "        exponent = -0.5 * (sep / sigma) ** 2\n",
    "        norm = 1 / (2 * np.pi * sigma**2)\n",
    "        return norm * np.exp(exponent)"
   ]
  },
  {
   "cell_type": "markdown",
   "id": "c0f8d2b3",
   "metadata": {},
   "source": [
    "Serialisation of this model can be achieved as explained in the previous section.\n",
    "You can now use it as stadard `SpatialModel` in your analysis. Note that this is still a `SpatialModel`, and not a `SkyModel`, so it needs to be multiplied by a `SpectralModel` as before. "
   ]
  },
  {
   "cell_type": "code",
   "execution_count": 69,
   "id": "ccb7c5ac",
   "metadata": {},
   "outputs": [],
   "source": [
    "spatial_model = MyCustomGaussianModel()\n",
    "spectral_model = PowerLawSpectralModel()\n",
    "sky_model = SkyModel(\n",
    "    spatial_model=spatial_model, spectral_model=spectral_model\n",
    ")"
   ]
  },
  {
   "cell_type": "code",
   "execution_count": 70,
   "id": "995c8c26",
   "metadata": {},
   "outputs": [],
   "source": [
    "spatial_model.evaluation_radius"
   ]
  },
  {
   "cell_type": "markdown",
   "id": "e8a4075f",
   "metadata": {},
   "source": [
    "To visualise it, we evaluate it on a 3D geom. "
   ]
  },
  {
   "cell_type": "code",
   "execution_count": 71,
   "id": "2697149d",
   "metadata": {},
   "outputs": [
    {
     "data": {
      "image/png": "[encoded data removed]",
      "text/plain": [
       "<Figure size 1400x300 with 6 Axes>"
      ]
     },
     "metadata": {},
     "output_type": "display_data"
    }
   ],
   "source": [
    "energy_axis = MapAxis.from_energy_bounds(\n",
    "    energy_min=0.1 * u.TeV, energy_max=10.0 * u.TeV, nbin=3, name=\"energy_true\"\n",
    ")\n",
    "geom = WcsGeom.create(\n",
    "    skydir=(0, 0), width=5.0 * u.deg, binsz=0.1, axes=[energy_axis]\n",
    ")\n",
    "\n",
    "spatial_model.plot_grid(geom=geom, add_cbar=True, figsize=(14, 3));"
   ]
  },
  {
   "cell_type": "markdown",
   "id": "5cb54f63",
   "metadata": {},
   "source": [
    "For computational purposes, it is useful to specify a `evaluation_radius` for `SpatialModels` - this gives a size on which to compute the model. Though optional, it is highly recommended for Custom Spatial Models. This can be done, for ex, by defining the following function inside the above class:"
   ]
  },
  {
   "cell_type": "code",
   "execution_count": 72,
   "id": "e5d19d48",
   "metadata": {},
   "outputs": [],
   "source": [
    "@property\n",
    "def evaluation_radius(self):\n",
    "    \"\"\"Evaluation radius (`~astropy.coordinates.Angle`).\"\"\"\n",
    "    return 5 * np.max([self.sigma_1TeV.value, self.sigma_10TeV.value]) * u.deg"
   ]
  }
 ],
 "metadata": {
  "kernelspec": {
   "display_name": "Python 3 (ipykernel)",
   "language": "python",
   "name": "python3"
  },
  "language_info": {
   "codemirror_mode": {
    "name": "ipython",
    "version": 3
   },
   "file_extension": ".py",
   "mimetype": "text/x-python",
   "name": "python",
   "nbconvert_exporter": "python",
   "pygments_lexer": "ipython3",
   "version": "3.9.14"
  },
  "latex_envs": {
   "LaTeX_envs_menu_present": true,
   "autoclose": false,
   "autocomplete": true,
   "bibliofile": "biblio.bib",
   "cite_by": "apalike",
   "current_citInitial": 1,
   "eqLabelWithNumbers": true,
   "eqNumInitial": 1,
   "hotkeys": {
    "equation": "Ctrl-E",
    "itemize": "Ctrl-I"
   },
   "labels_anchors": false,
   "latex_user_defs": false,
   "report_style_numbering": false,
   "user_envs_cfg": false
  }
 },
 "nbformat": 4,
 "nbformat_minor": 5
}
