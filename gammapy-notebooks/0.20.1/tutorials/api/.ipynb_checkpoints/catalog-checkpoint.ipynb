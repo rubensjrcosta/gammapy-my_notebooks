{
 "cells": [
  {
   "cell_type": "markdown",
   "id": "8abe708d",
   "metadata": {},
   "source": [
    "# Source catalogs\n",
    "\n",
    "`~gammapy.catalog` provides convenient access to common gamma-ray source catalogs.\n",
    "This module is mostly independent from the rest of Gammapy.\n",
    "Typically you use it to compare new analyses against catalog results, e.g. overplot the spectral model, or compare the source position.\n",
    "\n",
    "Moreover as creating a source model and flux points for a given catalog from the FITS table is tedious, `~gammapy.catalog` has this already implemented. So you can create initial source models for your analyses.\n",
    "This is very common for Fermi-LAT, to start with a catalog model.\n",
    "For TeV analysis, especially in crowded Galactic regions, using the HGPS, gamma-cat or 2HWC catalog in this way can also be useful.\n",
    "\n",
    "In this tutorial you will learn how to:\n",
    "\n",
    "- List available catalogs\n",
    "- Load a catalog\n",
    "- Access the source catalog table data\n",
    "- Select a catalog subset or a single source\n",
    "- Get source spectral and spatial models\n",
    "- Get flux points (if available)\n",
    "- Get lightcurves (if available)\n",
    "- Access the source catalog table data\n",
    "- Pretty-print the source information\n",
    "\n",
    "In this tutorial we will show examples using the following catalogs:\n",
    "\n",
    "- `~gammapy.catalog.SourceCatalogHGPS`\n",
    "- `~gammapy.catalog.SourceCatalogGammaCat`\n",
    "- `~gammapy.catalog.SourceCatalog3FHL`\n",
    "- `~gammapy.catalog.SourceCatalog4FGL`\n",
    "\n",
    "All catalog and source classes work the same, as long as some information is available. E.g. trying to access a lightcurve from a catalog and source that doesn't have that information will return ``None``.\n",
    "\n",
    "Further information is available at `~gammapy.catalog`."
   ]
  },
  {
   "cell_type": "code",
   "execution_count": 1,
   "id": "d3c3bf00",
   "metadata": {},
   "outputs": [],
   "source": [
    "%matplotlib inline\n",
    "import numpy as np\n",
    "import matplotlib.pyplot as plt\n",
    "import astropy.units as u\n",
    "from gammapy.catalog import CATALOG_REGISTRY"
   ]
  },
  {
   "cell_type": "markdown",
   "id": "e0c46e03",
   "metadata": {},
   "source": [
    "## List available catalogs\n",
    "\n",
    "`~gammapy.catalog` contains a catalog registry ``CATALOG_REGISTRY``, which maps catalog names (e.g. \"3fhl\") to catalog classes (e.g. ``SourceCatalog3FHL``). "
   ]
  },
  {
   "cell_type": "code",
   "execution_count": 2,
   "id": "3b1cf299",
   "metadata": {},
   "outputs": [
    {
     "data": {
      "text/plain": [
       "[gammapy.catalog.gammacat.SourceCatalogGammaCat,\n",
       " gammapy.catalog.hess.SourceCatalogHGPS,\n",
       " gammapy.catalog.hawc.SourceCatalog2HWC,\n",
       " gammapy.catalog.fermi.SourceCatalog3FGL,\n",
       " gammapy.catalog.fermi.SourceCatalog4FGL,\n",
       " gammapy.catalog.fermi.SourceCatalog2FHL,\n",
       " gammapy.catalog.fermi.SourceCatalog3FHL,\n",
       " gammapy.catalog.hawc.SourceCatalog3HWC]"
      ]
     },
     "execution_count": 2,
     "metadata": {},
     "output_type": "execute_result"
    }
   ],
   "source": [
    "CATALOG_REGISTRY"
   ]
  },
  {
   "cell_type": "markdown",
   "id": "1bb42e84",
   "metadata": {},
   "source": [
    "## Load catalogs\n",
    "\n",
    "If you have run `gammapy download datasets` or `gammapy download tutorials`,\n",
    "you have a copy of the catalogs as FITS files in `$GAMMAPY_DATA/catalogs`,\n",
    "and that is the default location where `~gammapy.catalog` loads from.\n"
   ]
  },
  {
   "cell_type": "code",
   "execution_count": 3,
   "id": "228a4606",
   "metadata": {},
   "outputs": [
    {
     "name": "stdout",
     "output_type": "stream",
     "text": [
      "2HWC.ecsv\r\n",
      "2HWC.yaml\r\n",
      "3HWC.ecsv\r\n",
      "3HWC.yaml\r\n",
      "fermi\r\n",
      "gammacat\r\n",
      "hgps_catalog_v1.fits.gz\r\n",
      "make_2hwc.py\r\n",
      "make_3hwc.py\r\n",
      "README.rst\r\n"
     ]
    }
   ],
   "source": [
    "!ls -1 $GAMMAPY_DATA/catalogs"
   ]
  },
  {
   "cell_type": "code",
   "execution_count": 4,
   "id": "d7845595",
   "metadata": {},
   "outputs": [
    {
     "name": "stdout",
     "output_type": "stream",
     "text": [
      "Extended_archive_v15\r\n",
      "Extended_archive_v18\r\n",
      "gll_psch_v08.fit.gz\r\n",
      "gll_psch_v09.fit.gz\r\n",
      "gll_psch_v13.fit.gz\r\n",
      "gll_psc_v16.fit.gz\r\n",
      "gll_psc_v20.fit.gz\r\n",
      "gll_psc_v27.fit.gz\r\n",
      "gll_psc_v28.fit.gz\r\n",
      "LAT_extended_sources_8years\r\n",
      "README.rst\r\n"
     ]
    }
   ],
   "source": [
    "!ls -1 $GAMMAPY_DATA/catalogs/fermi"
   ]
  },
  {
   "cell_type": "markdown",
   "id": "ca8f1f7c",
   "metadata": {},
   "source": [
    "So a catalog can be loaded directly from its corresponding class"
   ]
  },
  {
   "cell_type": "code",
   "execution_count": 5,
   "id": "c91089bd",
   "metadata": {},
   "outputs": [
    {
     "name": "stdout",
     "output_type": "stream",
     "text": [
      "Number of sources : 6659\n"
     ]
    }
   ],
   "source": [
    "from gammapy.catalog import SourceCatalog4FGL\n",
    "\n",
    "catalog = SourceCatalog4FGL()\n",
    "print(\"Number of sources :\", len(catalog.table))"
   ]
  },
  {
   "cell_type": "markdown",
   "id": "528541b6",
   "metadata": {},
   "source": [
    "Note that it loads the default catalog from `$GAMMAPY_DATA/catalogs`, you could pass a different `filename` when creating the catalog.\n",
    "For example here we load an older version of 4FGL catalog:  "
   ]
  },
  {
   "cell_type": "code",
   "execution_count": 6,
   "id": "a5bfeb46",
   "metadata": {},
   "outputs": [
    {
     "name": "stdout",
     "output_type": "stream",
     "text": [
      "Number of sources : 5066\n"
     ]
    },
    {
     "name": "stderr",
     "output_type": "stream",
     "text": [
      "WARNING: UnitsWarning: '_' did not parse as fits unit: At col 0, Unit '_' not supported by the FITS standard.  If this is meant to be a custom unit, define it with 'u.def_unit'. To have it recognized inside a file reader or other code, enable it with 'u.add_enabled_units'. For details, see https://docs.astropy.org/en/latest/units/combining_and_defining.html [astropy.units.core]\n"
     ]
    }
   ],
   "source": [
    "catalog = SourceCatalog4FGL(\"$GAMMAPY_DATA/catalogs/fermi/gll_psc_v20.fit.gz\")\n",
    "print(\"Number of sources :\", len(catalog.table))"
   ]
  },
  {
   "cell_type": "markdown",
   "id": "76c5a9b8",
   "metadata": {},
   "source": [
    "\n",
    "Alternatively you can load a catalog by name via `CATALOG_REGISTRY.get_cls(name)()` (note the `()` to instantiate a catalog object from the catalog class - only this will load the catalog and be useful), or by importing the catalog class (e.g. `SourceCatalog3FGL`) directly. The two ways are equivalent, the result will be the same.\n"
   ]
  },
  {
   "cell_type": "code",
   "execution_count": 7,
   "id": "9357f623",
   "metadata": {},
   "outputs": [
    {
     "data": {
      "text/plain": [
       "<gammapy.catalog.fermi.SourceCatalog3FGL at 0x7f32f4846b20>"
      ]
     },
     "execution_count": 7,
     "metadata": {},
     "output_type": "execute_result"
    }
   ],
   "source": [
    "# FITS file is loaded\n",
    "catalog = CATALOG_REGISTRY.get_cls(\"3fgl\")()\n",
    "catalog"
   ]
  },
  {
   "cell_type": "code",
   "execution_count": 8,
   "id": "acc7b906",
   "metadata": {},
   "outputs": [],
   "source": [
    "# Let's load the source catalogs we will use throughout this tutorial\n",
    "catalog_gammacat = CATALOG_REGISTRY.get_cls(\"gamma-cat\")()\n",
    "catalog_3fhl = CATALOG_REGISTRY.get_cls(\"3fhl\")()\n",
    "catalog_4fgl = CATALOG_REGISTRY.get_cls(\"4fgl\")()\n",
    "catalog_hgps = CATALOG_REGISTRY.get_cls(\"hgps\")()"
   ]
  },
  {
   "cell_type": "markdown",
   "id": "f95e2e4e",
   "metadata": {},
   "source": [
    "## Catalog table\n",
    "\n",
    "Source catalogs are given as `FITS` files that contain one or multiple tables.\n",
    "\n",
    "However, you can also access the underlying `astropy.table.Table` for a catalog,\n",
    "and the row data as a Python `dict`. This can be useful if you want to do something\n",
    "that is not pre-scripted by the `~gammapy.catalog` classes, such as e.g. selecting\n",
    "sources by sky position or association class, or accessing special source information.\n"
   ]
  },
  {
   "cell_type": "code",
   "execution_count": 9,
   "id": "85b22680",
   "metadata": {},
   "outputs": [
    {
     "data": {
      "text/plain": [
       "astropy.table.table.Table"
      ]
     },
     "execution_count": 9,
     "metadata": {},
     "output_type": "execute_result"
    }
   ],
   "source": [
    "type(catalog_3fhl.table)"
   ]
  },
  {
   "cell_type": "code",
   "execution_count": 10,
   "id": "651037aa",
   "metadata": {},
   "outputs": [
    {
     "data": {
      "text/plain": [
       "1556"
      ]
     },
     "execution_count": 10,
     "metadata": {},
     "output_type": "execute_result"
    }
   ],
   "source": [
    "len(catalog_3fhl.table)"
   ]
  },
  {
   "cell_type": "code",
   "execution_count": 11,
   "id": "8f9829dd",
   "metadata": {},
   "outputs": [
    {
     "data": {
      "text/html": [
       "<div><i>Table length=3</i>\n",
       "<table id=\"table139856827007472\" class=\"table-striped table-bordered table-condensed\">\n",
       "<thead><tr><th>Source_Name</th><th>RAJ2000</th><th>DEJ2000</th></tr></thead>\n",
       "<thead><tr><th></th><th>deg</th><th>deg</th></tr></thead>\n",
       "<thead><tr><th>bytes18</th><th>float32</th><th>float32</th></tr></thead>\n",
       "<tr><td>3FHL J0001.2-0748</td><td>0.3107</td><td>-7.8075</td></tr>\n",
       "<tr><td>3FHL J0001.9-4155</td><td>0.4849</td><td>-41.9303</td></tr>\n",
       "<tr><td>3FHL J0002.1-6728</td><td>0.5283</td><td>-67.4825</td></tr>\n",
       "</table></div>"
      ],
      "text/plain": [
       "<Table length=3>\n",
       "   Source_Name     RAJ2000  DEJ2000 \n",
       "                     deg      deg   \n",
       "     bytes18       float32  float32 \n",
       "------------------ -------- --------\n",
       "3FHL J0001.2-0748    0.3107  -7.8075\n",
       "3FHL J0001.9-4155    0.4849 -41.9303\n",
       "3FHL J0002.1-6728    0.5283 -67.4825"
      ]
     },
     "execution_count": 11,
     "metadata": {},
     "output_type": "execute_result"
    }
   ],
   "source": [
    "catalog_3fhl.table[:3][[\"Source_Name\", \"RAJ2000\", \"DEJ2000\"]]"
   ]
  },
  {
   "cell_type": "markdown",
   "id": "b16e944d",
   "metadata": {},
   "source": [
    "Note that the catalogs object include a helper property that gives directly the sources positions as a `SkyCoord` object (we will show an usage example in the following)."
   ]
  },
  {
   "cell_type": "code",
   "execution_count": 12,
   "id": "90156e47",
   "metadata": {},
   "outputs": [
    {
     "data": {
      "text/plain": [
       "<SkyCoord (ICRS): (ra, dec) in deg\n",
       "    [(0.31067517,  -7.8075185), (0.4848653 , -41.93026  ),\n",
       "     (0.52826166, -67.48248  )]>"
      ]
     },
     "execution_count": 12,
     "metadata": {},
     "output_type": "execute_result"
    }
   ],
   "source": [
    "catalog_3fhl.positions[:3]"
   ]
  },
  {
   "cell_type": "markdown",
   "id": "2d107439",
   "metadata": {},
   "source": [
    "## Source object\n",
    "\n",
    "### Select a source\n",
    "\n",
    "The catalog entries for a single source are represented by a `SourceCatalogObject`.\n",
    "In order to select a source object index into the catalog using `[]`, with a catalog table row index (zero-based, first row is `[0]`), or a source name. If a name is given, catalog table columns with source names and association names (\"ASSOC1\" in the example below) are searched top to bottom. There is no name resolution web query.\n"
   ]
  },
  {
   "cell_type": "code",
   "execution_count": 13,
   "id": "67c3d9f1",
   "metadata": {},
   "outputs": [
    {
     "data": {
      "text/plain": [
       "<gammapy.catalog.fermi.SourceCatalogObject4FGL at 0x7f32f4876520>"
      ]
     },
     "execution_count": 13,
     "metadata": {},
     "output_type": "execute_result"
    }
   ],
   "source": [
    "source = catalog_4fgl[49]\n",
    "source"
   ]
  },
  {
   "cell_type": "code",
   "execution_count": 14,
   "id": "cb90a135",
   "metadata": {},
   "outputs": [
    {
     "data": {
      "text/plain": [
       "(49, '4FGL J0009.3+5030')"
      ]
     },
     "execution_count": 14,
     "metadata": {},
     "output_type": "execute_result"
    }
   ],
   "source": [
    "source.row_index, source.name"
   ]
  },
  {
   "cell_type": "code",
   "execution_count": 15,
   "id": "dd2cd1b4",
   "metadata": {},
   "outputs": [
    {
     "data": {
      "text/plain": [
       "(60, '4FGL J0010.8-2154')"
      ]
     },
     "execution_count": 15,
     "metadata": {},
     "output_type": "execute_result"
    }
   ],
   "source": [
    "source = catalog_4fgl[\"4FGL J0010.8-2154\"]\n",
    "source.row_index, source.name"
   ]
  },
  {
   "cell_type": "code",
   "execution_count": 16,
   "id": "09df919d",
   "metadata": {},
   "outputs": [
    {
     "data": {
      "text/plain": [
       "'PKS 0008-222                '"
      ]
     },
     "execution_count": 16,
     "metadata": {},
     "output_type": "execute_result"
    }
   ],
   "source": [
    "source.data[\"ASSOC1\"]"
   ]
  },
  {
   "cell_type": "code",
   "execution_count": 17,
   "id": "26ac5507",
   "metadata": {},
   "outputs": [
    {
     "data": {
      "text/plain": [
       "(60, '4FGL J0010.8-2154')"
      ]
     },
     "execution_count": 17,
     "metadata": {},
     "output_type": "execute_result"
    }
   ],
   "source": [
    "source = catalog_4fgl[\"PKS 0008-222\"]\n",
    "source.row_index, source.name"
   ]
  },
  {
   "cell_type": "markdown",
   "id": "c004fde6",
   "metadata": {},
   "source": [
    "Note that you can also do a `for source in catalog` loop, to find or process\n",
    "sources of interest.\n",
    "\n",
    "###  Source information\n",
    "\n",
    "The source objects have a `data` property that contains the information of the catalog row corresponding to the source."
   ]
  },
  {
   "cell_type": "code",
   "execution_count": 18,
   "id": "f6c34306",
   "metadata": {},
   "outputs": [
    {
     "data": {
      "text/plain": [
       "333.74478"
      ]
     },
     "execution_count": 18,
     "metadata": {},
     "output_type": "execute_result"
    }
   ],
   "source": [
    "source.data[\"Npred\"]"
   ]
  },
  {
   "cell_type": "code",
   "execution_count": 19,
   "id": "9299de4a",
   "metadata": {},
   "outputs": [
    {
     "data": {
      "text/plain": [
       "(<Quantity 60.28118 deg>, <Quantity -79.400505 deg>)"
      ]
     },
     "execution_count": 19,
     "metadata": {},
     "output_type": "execute_result"
    }
   ],
   "source": [
    "source.data[\"GLON\"], source.data[\"GLAT\"]"
   ]
  },
  {
   "cell_type": "markdown",
   "id": "e5024868",
   "metadata": {},
   "source": [
    "As for the catalog object, the source object has a `position` property."
   ]
  },
  {
   "cell_type": "code",
   "execution_count": 20,
   "id": "381b8b3a",
   "metadata": {},
   "outputs": [
    {
     "data": {
      "text/plain": [
       "<SkyCoord (Galactic): (l, b) in deg\n",
       "    (60.28120079, -79.40051035)>"
      ]
     },
     "execution_count": 20,
     "metadata": {},
     "output_type": "execute_result"
    }
   ],
   "source": [
    "source.position.galactic"
   ]
  },
  {
   "cell_type": "markdown",
   "id": "c2dbf015",
   "metadata": {},
   "source": [
    "## Select a catalog subset\n",
    "\n",
    "The catalog objects support selection using boolean arrays (of the same length), so one can create a new catalog as a subset of the main catalog that verify a set of conditions.\n",
    "\n",
    "In the next example we selection only few of the brightest sources brightest sources in the 100 to 200 GeV energy band."
   ]
  },
  {
   "cell_type": "code",
   "execution_count": 21,
   "id": "f74ed084",
   "metadata": {},
   "outputs": [
    {
     "name": "stdout",
     "output_type": "stream",
     "text": [
      "352     3FHL J0534.5+2201    2.99e-10 1 / (cm2 s)\n",
      "553     3FHL J0851.9-4620e   1.24e-10 1 / (cm2 s)\n",
      "654     3FHL J1036.3-5833e   1.57e-10 1 / (cm2 s)\n",
      "691     3FHL J1104.4+3812    3.34e-10 1 / (cm2 s)\n",
      "1111    3FHL J1653.8+3945    1.27e-10 1 / (cm2 s)\n",
      "1219    3FHL J1824.5-1351e   1.77e-10 1 / (cm2 s)\n",
      "1361    3FHL J2028.6+4110e   1.75e-10 1 / (cm2 s)\n"
     ]
    }
   ],
   "source": [
    "mask_bright = np.zeros(len(catalog_3fhl.table), dtype=bool)\n",
    "for k, source in enumerate(catalog_3fhl):\n",
    "    flux = (\n",
    "        source.spectral_model()\n",
    "        .integral(100 * u.GeV, 200 * u.GeV)\n",
    "        .to(\"cm-2 s-1\")\n",
    "    )\n",
    "    if flux > 1e-10 * u.Unit(\"cm-2 s-1\"):\n",
    "        mask_bright[k] = True\n",
    "        print(f\"{source.row_index:<7d} {source.name:20s} {flux:.3g}\")"
   ]
  },
  {
   "cell_type": "code",
   "execution_count": 22,
   "id": "b205ede1",
   "metadata": {},
   "outputs": [
    {
     "data": {
      "text/plain": [
       "<gammapy.catalog.fermi.SourceCatalog3FHL at 0x7f32f48565b0>"
      ]
     },
     "execution_count": 22,
     "metadata": {},
     "output_type": "execute_result"
    }
   ],
   "source": [
    "catalog_3fhl_bright = catalog_3fhl[mask_bright]\n",
    "catalog_3fhl_bright"
   ]
  },
  {
   "cell_type": "code",
   "execution_count": 23,
   "id": "aac7a4bc",
   "metadata": {},
   "outputs": [
    {
     "data": {
      "text/html": [
       "&lt;Column name=&apos;Source_Name&apos; dtype=&apos;bytes18&apos; length=7&gt;\n",
       "<table>\n",
       "<tr><td>3FHL J0534.5+2201</td></tr>\n",
       "<tr><td>3FHL J0851.9-4620e</td></tr>\n",
       "<tr><td>3FHL J1036.3-5833e</td></tr>\n",
       "<tr><td>3FHL J1104.4+3812</td></tr>\n",
       "<tr><td>3FHL J1653.8+3945</td></tr>\n",
       "<tr><td>3FHL J1824.5-1351e</td></tr>\n",
       "<tr><td>3FHL J2028.6+4110e</td></tr>\n",
       "</table>"
      ],
      "text/plain": [
       "<Column name='Source_Name' dtype='bytes18' length=7>\n",
       "3FHL J0534.5+2201 \n",
       "3FHL J0851.9-4620e\n",
       "3FHL J1036.3-5833e\n",
       "3FHL J1104.4+3812 \n",
       "3FHL J1653.8+3945 \n",
       "3FHL J1824.5-1351e\n",
       "3FHL J2028.6+4110e"
      ]
     },
     "execution_count": 23,
     "metadata": {},
     "output_type": "execute_result"
    }
   ],
   "source": [
    "catalog_3fhl_bright.table[\"Source_Name\"]"
   ]
  },
  {
   "cell_type": "markdown",
   "id": "44791daf",
   "metadata": {},
   "source": [
    "Similarly we can select only sources within a region of interest. Here for example we use the `position` property of the catalog object to select sources whitin 5 degrees from \"PKS 0008-222\":\n"
   ]
  },
  {
   "cell_type": "code",
   "execution_count": 24,
   "id": "0633232c",
   "metadata": {},
   "outputs": [],
   "source": [
    "source = catalog_4fgl[\"PKS 0008-222\"]\n",
    "mask_roi = source.position.separation(catalog_4fgl.positions) < 5 * u.deg"
   ]
  },
  {
   "cell_type": "code",
   "execution_count": 25,
   "id": "92497dbb",
   "metadata": {},
   "outputs": [
    {
     "name": "stdout",
     "output_type": "stream",
     "text": [
      "Number of sources : 15\n"
     ]
    }
   ],
   "source": [
    "catalog_4fgl_roi = catalog_4fgl[mask_roi]\n",
    "print(\"Number of sources :\", len(catalog_4fgl_roi.table))"
   ]
  },
  {
   "cell_type": "markdown",
   "id": "07074a15",
   "metadata": {},
   "source": [
    "## Source models\n",
    "\n",
    "The `~gammapy.catalog.SourceCatalogObject` classes have a `sky_model()` model\n",
    "which creates a `gammapy.modeling.models.SkyModel` object, with model parameter\n",
    "values and parameter errors from the catalog filled in.\n",
    "\n",
    "In most cases, the `spectral_model()` method provides the `gammapy.modeling.models.SpectralModel`\n",
    "part of the sky model, and the `spatial_model()` method the `gammapy.modeling.models.SpatialModel`\n",
    "part individually.\n",
    "\n",
    "We use the `gammapy.catalog.SourceCatalog3FHL` for the examples in this section."
   ]
  },
  {
   "cell_type": "code",
   "execution_count": 26,
   "id": "b7f8bbd5",
   "metadata": {},
   "outputs": [],
   "source": [
    "source = catalog_4fgl[\"PKS 2155-304\"]"
   ]
  },
  {
   "cell_type": "code",
   "execution_count": 27,
   "id": "3654fd8f",
   "metadata": {},
   "outputs": [
    {
     "data": {
      "text/plain": [
       "SkyModel(spatial_model=<gammapy.modeling.models.spatial.PointSpatialModel object at 0x7f32f48566d0>, spectral_model=<gammapy.modeling.models.spectral.LogParabolaSpectralModel object at 0x7f32f44b5b50>)temporal_model=None)"
      ]
     },
     "execution_count": 27,
     "metadata": {},
     "output_type": "execute_result"
    }
   ],
   "source": [
    "model = source.sky_model()\n",
    "model"
   ]
  },
  {
   "cell_type": "code",
   "execution_count": 28,
   "id": "759dc806",
   "metadata": {},
   "outputs": [
    {
     "name": "stdout",
     "output_type": "stream",
     "text": [
      "SkyModel\n",
      "\n",
      "  Name                      : 4FGL J2158.8-3013\n",
      "  Datasets names            : None\n",
      "  Spectral model type       : LogParabolaSpectralModel\n",
      "  Spatial  model type       : PointSpatialModel\n",
      "  Temporal model type       : \n",
      "  Parameters:\n",
      "    amplitude                     :   1.34e-11   +/- 1.5e-13 1 / (cm2 MeV s)\n",
      "    reference             (frozen):   1146.894       MeV         \n",
      "    alpha                         :      1.767   +/-    0.01             \n",
      "    beta                          :      0.041   +/-    0.00             \n",
      "    lon_0                         :    329.714   +/-    0.00 deg         \n",
      "    lat_0                         :    -30.225   +/-    0.00 deg         \n",
      "\n",
      "\n"
     ]
    }
   ],
   "source": [
    "print(model)"
   ]
  },
  {
   "cell_type": "code",
   "execution_count": 29,
   "id": "e3f55cfa",
   "metadata": {},
   "outputs": [
    {
     "name": "stdout",
     "output_type": "stream",
     "text": [
      "PointSpatialModel\n",
      "\n",
      "  type   name    value    unit   error      min        max    frozen is_norm link\n",
      "------- ----- ----------- ---- --------- ---------- --------- ------ ------- ----\n",
      "spatial lon_0  3.2971e+02  deg 3.735e-03        nan       nan  False   False     \n",
      "spatial lat_0 -3.0225e+01  deg 3.227e-03 -9.000e+01 9.000e+01  False   False     \n"
     ]
    }
   ],
   "source": [
    "print(model.spatial_model)"
   ]
  },
  {
   "cell_type": "code",
   "execution_count": 30,
   "id": "eb67466b",
   "metadata": {},
   "outputs": [
    {
     "name": "stdout",
     "output_type": "stream",
     "text": [
      "LogParabolaSpectralModel\n",
      "\n",
      "  type      name     value         unit        error   min max frozen is_norm link\n",
      "-------- --------- ---------- -------------- --------- --- --- ------ ------- ----\n",
      "spectral amplitude 1.3413e-11 cm-2 MeV-1 s-1 1.461e-13 nan nan  False    True     \n",
      "spectral reference 1.1469e+03            MeV 0.000e+00 nan nan   True   False     \n",
      "spectral     alpha 1.7672e+00                8.812e-03 nan nan  False   False     \n",
      "spectral      beta 4.0590e-02                3.842e-03 nan nan  False   False     \n"
     ]
    }
   ],
   "source": [
    "print(model.spectral_model)"
   ]
  },
  {
   "cell_type": "code",
   "execution_count": 31,
   "id": "05ba3d35",
   "metadata": {
    "nbsphinx-thumbnail": {
     "tooltip": "Access and explore thew most common gamma-ray source catalogs."
    }
   },
   "outputs": [
    {
     "data": {
      "image/png": "[encoded data removed]",
      "text/plain": [
       "<Figure size 640x480 with 1 Axes>"
      ]
     },
     "metadata": {},
     "output_type": "display_data"
    }
   ],
   "source": [
    "energy_bounds = (100 * u.MeV, 100 * u.GeV)\n",
    "opts = dict(sed_type=\"e2dnde\", yunits=u.Unit(\"TeV cm-2 s-1\"))\n",
    "model.spectral_model.plot(energy_bounds, **opts)\n",
    "model.spectral_model.plot_error(energy_bounds, **opts);"
   ]
  },
  {
   "cell_type": "markdown",
   "id": "c861a2e1",
   "metadata": {},
   "source": [
    "You can create initial source models for your analyses using the `.to_models()` method of the catalog objects. Here for example we create a `Models` object from the 4FGL catalog subset we previously defined:"
   ]
  },
  {
   "cell_type": "code",
   "execution_count": 32,
   "id": "1904678b",
   "metadata": {},
   "outputs": [
    {
     "data": {
      "text/plain": [
       "<gammapy.modeling.models.core.Models at 0x7f32f44b57c0>"
      ]
     },
     "execution_count": 32,
     "metadata": {},
     "output_type": "execute_result"
    }
   ],
   "source": [
    "models_4fgl_roi = catalog_4fgl_roi.to_models()\n",
    "models_4fgl_roi"
   ]
  },
  {
   "cell_type": "markdown",
   "id": "135fa710",
   "metadata": {},
   "source": [
    "## Specificities of the HGPS catalog\n",
    "\n",
    "Using the `.to_models()` method for the `gammapy.catalog.SourceCatalogHGPS` will return only the models components of the sources retained in the main catalog, several candidate objects appears only in the Gaussian components table (see section 4.9 of the HGPS paper, https://arxiv.org/abs/1804.02432). To access these components you can do the following:\n"
   ]
  },
  {
   "cell_type": "code",
   "execution_count": 33,
   "id": "094247a7",
   "metadata": {},
   "outputs": [],
   "source": [
    "discarded_ind = np.where(\n",
    "    [\n",
    "        \"Discarded\" in _\n",
    "        for _ in catalog_hgps.table_components[\"Component_Class\"]\n",
    "    ]\n",
    ")[0]\n",
    "discarded_table = catalog_hgps.table_components[discarded_ind]"
   ]
  },
  {
   "cell_type": "markdown",
   "id": "0d391715",
   "metadata": {},
   "source": [
    "There is no spectral model available for these components but you can access their spatial models:"
   ]
  },
  {
   "cell_type": "code",
   "execution_count": 34,
   "id": "fb9fe24d",
   "metadata": {},
   "outputs": [],
   "source": [
    "discarded_spatial = [\n",
    "    catalog_hgps.gaussian_component(idx).spatial_model()\n",
    "    for idx in discarded_ind\n",
    "]"
   ]
  },
  {
   "cell_type": "markdown",
   "id": "be5756dc",
   "metadata": {},
   "source": [
    "In addition to the source components the HGPS catalog include a large scale diffuse component built by fitting a gaussian model in a sliding window along the Galactic plane. Information on this model can be accessed via the propoerties `.table_large_scale_component` and `.large_scale_component` of `gammapy.catalog.SourceCatalogHGPS`."
   ]
  },
  {
   "cell_type": "code",
   "execution_count": 35,
   "id": "55a836f4",
   "metadata": {},
   "outputs": [
    {
     "data": {
      "text/html": [
       "<div><i>Table length=5</i>\n",
       "<table id=\"table139856818390256\" class=\"table-striped table-bordered table-condensed\">\n",
       "<thead><tr><th>GLON</th><th>GLAT</th><th>GLAT_Err</th><th>Surface_Brightness</th><th>Surface_Brightness_Err</th><th>Width</th><th>Width_Err</th></tr></thead>\n",
       "<thead><tr><th>deg</th><th>deg</th><th>deg</th><th>1 / (cm2 s sr)</th><th>1 / (cm2 s sr)</th><th>deg</th><th>deg</th></tr></thead>\n",
       "<thead><tr><th>float32</th><th>float32</th><th>float32</th><th>float32</th><th>float32</th><th>float32</th><th>float32</th></tr></thead>\n",
       "<tr><td>270.000000</td><td>0.205357</td><td>0.251932</td><td>6.149827e-10</td><td>4.064108e-10</td><td>0.269385</td><td>0.137990</td></tr>\n",
       "<tr><td>272.959198</td><td>-0.120154</td><td>0.058201</td><td>1.426735e-09</td><td>7.346488e-10</td><td>0.088742</td><td>0.041882</td></tr>\n",
       "<tr><td>275.918365</td><td>-0.095232</td><td>0.089881</td><td>1.193710e-09</td><td>6.117877e-10</td><td>0.167219</td><td>0.111797</td></tr>\n",
       "<tr><td>278.877563</td><td>-0.257642</td><td>0.065071</td><td>1.506986e-09</td><td>5.230542e-10</td><td>0.156525</td><td>0.056130</td></tr>\n",
       "<tr><td>281.836731</td><td>-0.283487</td><td>0.066442</td><td>1.636973e-09</td><td>4.336444e-10</td><td>0.205192</td><td>0.049676</td></tr>\n",
       "</table></div>"
      ],
      "text/plain": [
       "<Table length=5>\n",
       "   GLON       GLAT   GLAT_Err Surface_Brightness Surface_Brightness_Err  Width   Width_Err\n",
       "   deg        deg      deg      1 / (cm2 s sr)       1 / (cm2 s sr)       deg       deg   \n",
       " float32    float32  float32       float32              float32         float32   float32 \n",
       "---------- --------- -------- ------------------ ---------------------- -------- ---------\n",
       "270.000000  0.205357 0.251932       6.149827e-10           4.064108e-10 0.269385  0.137990\n",
       "272.959198 -0.120154 0.058201       1.426735e-09           7.346488e-10 0.088742  0.041882\n",
       "275.918365 -0.095232 0.089881       1.193710e-09           6.117877e-10 0.167219  0.111797\n",
       "278.877563 -0.257642 0.065071       1.506986e-09           5.230542e-10 0.156525  0.056130\n",
       "281.836731 -0.283487 0.066442       1.636973e-09           4.336444e-10 0.205192  0.049676"
      ]
     },
     "execution_count": 35,
     "metadata": {},
     "output_type": "execute_result"
    }
   ],
   "source": [
    "# here we show the 5 first elements of the table\n",
    "catalog_hgps.table_large_scale_component[:5]\n",
    "# you can also try :\n",
    "# help(catalog_hgps.large_scale_component)"
   ]
  },
  {
   "cell_type": "markdown",
   "id": "a01d3fd6",
   "metadata": {},
   "source": [
    "## Flux points\n",
    "\n",
    "The flux points are available via the `flux_points` property as a `gammapy.spectrum.FluxPoints` object."
   ]
  },
  {
   "cell_type": "code",
   "execution_count": 36,
   "id": "f6858ef1",
   "metadata": {},
   "outputs": [],
   "source": [
    "source = catalog_4fgl[\"PKS 2155-304\"]\n",
    "flux_points = source.flux_points"
   ]
  },
  {
   "cell_type": "code",
   "execution_count": 37,
   "id": "ebe13251",
   "metadata": {},
   "outputs": [
    {
     "data": {
      "text/plain": [
       "<gammapy.estimators.points.core.FluxPoints at 0x7f32f401e3d0>"
      ]
     },
     "execution_count": 37,
     "metadata": {},
     "output_type": "execute_result"
    }
   ],
   "source": [
    "flux_points"
   ]
  },
  {
   "cell_type": "code",
   "execution_count": 38,
   "id": "d1b35b16",
   "metadata": {},
   "outputs": [
    {
     "data": {
      "text/html": [
       "<div><i>Table length=8</i>\n",
       "<table id=\"table139856818391696\" class=\"table-striped table-bordered table-condensed\">\n",
       "<thead><tr><th>e_ref</th><th>e_min</th><th>e_max</th><th>flux</th><th>flux_errp</th><th>flux_errn</th><th>flux_ul</th><th>sqrt_ts</th><th>is_ul</th></tr></thead>\n",
       "<thead><tr><th>MeV</th><th>MeV</th><th>MeV</th><th>1 / (cm2 s)</th><th>1 / (cm2 s)</th><th>1 / (cm2 s)</th><th>1 / (cm2 s)</th><th></th><th></th></tr></thead>\n",
       "<thead><tr><th>float64</th><th>float64</th><th>float64</th><th>float64</th><th>float64</th><th>float64</th><th>float64</th><th>float32</th><th>bool</th></tr></thead>\n",
       "<tr><td>70.71067811865478</td><td>49.99999999999999</td><td>100.00000000000004</td><td>9.776018572438261e-08</td><td>2.1021438811885673e-08</td><td>3.201356690851753e-08</td><td>nan</td><td>2.961729</td><td>False</td></tr>\n",
       "<tr><td>173.20508075688775</td><td>100.00000000000004</td><td>299.99999999999994</td><td>6.507472249950297e-08</td><td>2.7608786368205074e-09</td><td>2.7608786368205074e-09</td><td>nan</td><td>25.350155</td><td>False</td></tr>\n",
       "<tr><td>547.722557505166</td><td>299.99999999999994</td><td>999.9999999999998</td><td>3.2688941331571186e-08</td><td>5.760267263177354e-10</td><td>5.760267263177354e-10</td><td>nan</td><td>93.123116</td><td>False</td></tr>\n",
       "<tr><td>1732.0508075688763</td><td>999.9999999999998</td><td>2999.9999999999977</td><td>1.2368414736840805e-08</td><td>2.0139148682041252e-10</td><td>2.0139148682041252e-10</td><td>nan</td><td>134.43538</td><td>False</td></tr>\n",
       "<tr><td>5477.225575051666</td><td>2999.9999999999977</td><td>10000.00000000001</td><td>5.297469130027822e-09</td><td>1.1445083075711791e-10</td><td>1.1445083075711791e-10</td><td>nan</td><td>129.33427</td><td>False</td></tr>\n",
       "<tr><td>17320.50807568877</td><td>10000.00000000001</td><td>30000.000000000007</td><td>1.7401278196160774e-09</td><td>6.191684664980102e-11</td><td>6.191684664980102e-11</td><td>nan</td><td>91.40714</td><td>False</td></tr>\n",
       "<tr><td>54772.255750516626</td><td>30000.000000000007</td><td>100000.00000000001</td><td>5.774241085276799e-10</td><td>3.45532075174404e-11</td><td>3.45532075174404e-11</td><td>nan</td><td>59.852314</td><td>False</td></tr>\n",
       "<tr><td>316227.7660168382</td><td>100000.00000000001</td><td>999999.9999999995</td><td>1.3523290820494083e-10</td><td>1.75857002571167e-11</td><td>1.6210959657980695e-11</td><td>nan</td><td>29.674353</td><td>False</td></tr>\n",
       "</table></div>"
      ],
      "text/plain": [
       "<Table length=8>\n",
       "      e_ref              e_min              e_max                 flux                flux_errp              flux_errn          flux_ul    sqrt_ts  is_ul\n",
       "       MeV                MeV                MeV              1 / (cm2 s)            1 / (cm2 s)            1 / (cm2 s)       1 / (cm2 s)                \n",
       "     float64            float64            float64              float64                float64                float64           float64    float32   bool\n",
       "------------------ ------------------ ------------------ ---------------------- ---------------------- ---------------------- ----------- --------- -----\n",
       " 70.71067811865478  49.99999999999999 100.00000000000004  9.776018572438261e-08 2.1021438811885673e-08  3.201356690851753e-08         nan  2.961729 False\n",
       "173.20508075688775 100.00000000000004 299.99999999999994  6.507472249950297e-08 2.7608786368205074e-09 2.7608786368205074e-09         nan 25.350155 False\n",
       "  547.722557505166 299.99999999999994  999.9999999999998 3.2688941331571186e-08  5.760267263177354e-10  5.760267263177354e-10         nan 93.123116 False\n",
       "1732.0508075688763  999.9999999999998 2999.9999999999977 1.2368414736840805e-08 2.0139148682041252e-10 2.0139148682041252e-10         nan 134.43538 False\n",
       " 5477.225575051666 2999.9999999999977  10000.00000000001  5.297469130027822e-09 1.1445083075711791e-10 1.1445083075711791e-10         nan 129.33427 False\n",
       " 17320.50807568877  10000.00000000001 30000.000000000007 1.7401278196160774e-09  6.191684664980102e-11  6.191684664980102e-11         nan  91.40714 False\n",
       "54772.255750516626 30000.000000000007 100000.00000000001  5.774241085276799e-10   3.45532075174404e-11   3.45532075174404e-11         nan 59.852314 False\n",
       " 316227.7660168382 100000.00000000001  999999.9999999995 1.3523290820494083e-10   1.75857002571167e-11 1.6210959657980695e-11         nan 29.674353 False"
      ]
     },
     "execution_count": 38,
     "metadata": {},
     "output_type": "execute_result"
    }
   ],
   "source": [
    "flux_points.to_table(sed_type=\"flux\")"
   ]
  },
  {
   "cell_type": "code",
   "execution_count": 39,
   "id": "367c29ec",
   "metadata": {},
   "outputs": [
    {
     "data": {
      "image/png": "[encoded data removed]",
      "text/plain": [
       "<Figure size 640x480 with 1 Axes>"
      ]
     },
     "metadata": {},
     "output_type": "display_data"
    }
   ],
   "source": [
    "flux_points.plot(sed_type=\"e2dnde\");"
   ]
  },
  {
   "cell_type": "markdown",
   "id": "93998c75",
   "metadata": {},
   "source": [
    "## Lightcurves\n",
    "\n",
    "The Fermi catalogs contain lightcurves for each source. It is available via the `source.lightcurve()` method as a `~gammapy.estimators.FluxPoints` object with a time axis."
   ]
  },
  {
   "cell_type": "code",
   "execution_count": 40,
   "id": "af81611e",
   "metadata": {},
   "outputs": [],
   "source": [
    "lightcurve = catalog_4fgl[\"4FGL J0349.8-2103\"].lightcurve()"
   ]
  },
  {
   "cell_type": "code",
   "execution_count": 41,
   "id": "d353d14e",
   "metadata": {},
   "outputs": [
    {
     "data": {
      "text/plain": [
       "<gammapy.estimators.points.core.FluxPoints at 0x7f32f4072d00>"
      ]
     },
     "execution_count": 41,
     "metadata": {},
     "output_type": "execute_result"
    }
   ],
   "source": [
    "lightcurve"
   ]
  },
  {
   "cell_type": "code",
   "execution_count": 42,
   "id": "aa4685ae",
   "metadata": {},
   "outputs": [
    {
     "data": {
      "text/html": [
       "<div><i>Table length=12</i>\n",
       "<table id=\"table139857532460576\" class=\"table-striped table-bordered table-condensed\">\n",
       "<thead><tr><th>time_min</th><th>time_max</th><th>e_ref</th><th>e_min</th><th>e_max</th><th>flux</th><th>flux_errp</th><th>flux_errn</th><th>flux_ul</th><th>ts</th><th>sqrt_ts</th><th>is_ul</th></tr></thead>\n",
       "<thead><tr><th></th><th></th><th>MeV</th><th>MeV</th><th>MeV</th><th>1 / (cm2 s)</th><th>1 / (cm2 s)</th><th>1 / (cm2 s)</th><th>1 / (cm2 s)</th><th></th><th></th><th></th></tr></thead>\n",
       "<thead><tr><th>float64</th><th>float64</th><th>float64[1]</th><th>float64[1]</th><th>float64[1]</th><th>float64[1]</th><th>float64[1]</th><th>float64[1]</th><th>float64[1]</th><th>float32[1]</th><th>float32[1]</th><th>bool[1]</th></tr></thead>\n",
       "<tr><td>54682.65603794185</td><td>55045.301668796295</td><td>3872.9833462074166</td><td>49.99999999999999</td><td>299999.9999999999</td><td>8.756242664276215e-08</td><td>4.176197609950805e-09</td><td>4.176197609950805e-09</td><td>9.591482097448534e-08</td><td>920.0858</td><td>30.332916</td><td>False</td></tr>\n",
       "<tr><td>55045.301668796295</td><td>55410.57944657407</td><td>3872.9833462074166</td><td>49.99999999999999</td><td>299999.9999999999</td><td>3.7383031781246245e-08</td><td>3.526038794277042e-09</td><td>3.526038794277042e-09</td><td>4.44351080375327e-08</td><td>187.7672</td><td>13.702817</td><td>False</td></tr>\n",
       "<tr><td>55410.57944657407</td><td>55775.85722435185</td><td>3872.9833462074166</td><td>49.99999999999999</td><td>299999.9999999999</td><td>1.5026898836367764e-08</td><td>2.8688067477133927e-09</td><td>2.7424316151325456e-09</td><td>2.076451188770534e-08</td><td>41.063618</td><td>6.40809</td><td>False</td></tr>\n",
       "<tr><td>55775.85722435185</td><td>56141.13500212963</td><td>3872.9833462074166</td><td>49.99999999999999</td><td>299999.9999999999</td><td>2.033237400667076e-08</td><td>3.104857926317095e-09</td><td>2.977756707878143e-09</td><td>2.654208941521574e-08</td><td>70.73424</td><td>8.410365</td><td>False</td></tr>\n",
       "<tr><td>56141.13500212963</td><td>56506.412779907405</td><td>3872.9833462074166</td><td>49.99999999999999</td><td>299999.9999999999</td><td>2.1415779372091492e-08</td><td>3.205494536473452e-09</td><td>3.0798317229852046e-09</td><td>2.7826768445038397e-08</td><td>71.23839</td><td>8.440284</td><td>False</td></tr>\n",
       "<tr><td>56506.412779907405</td><td>56871.690557685186</td><td>3872.9833462074166</td><td>49.99999999999999</td><td>299999.9999999999</td><td>2.526608255948304e-08</td><td>3.322387254200976e-09</td><td>3.195738784711466e-09</td><td>3.191085795606341e-08</td><td>101.89214</td><td>10.094164</td><td>False</td></tr>\n",
       "<tr><td>56871.690557685186</td><td>57236.96833546296</td><td>3872.9833462074166</td><td>49.99999999999999</td><td>299999.9999999999</td><td>3.7040262412801894e-08</td><td>3.6859684193757403e-09</td><td>3.6859684193757403e-09</td><td>4.4412200139731794e-08</td><td>171.701</td><td>13.103473</td><td>False</td></tr>\n",
       "<tr><td>57236.96833546296</td><td>57602.24611324074</td><td>3872.9833462074166</td><td>49.99999999999999</td><td>299999.9999999999</td><td>1.5940349484822036e-08</td><td>3.180017138504354e-09</td><td>3.0478268797651253e-09</td><td>2.2300383761830744e-08</td><td>35.32539</td><td>5.9435167</td><td>False</td></tr>\n",
       "<tr><td>57602.24611324074</td><td>57967.523891018514</td><td>3872.9833462074166</td><td>49.99999999999999</td><td>299999.9999999999</td><td>1.8060424267218878e-08</td><td>2.909797069960973e-09</td><td>2.786007868849083e-09</td><td>2.3880017963051614e-08</td><td>61.804993</td><td>7.861615</td><td>False</td></tr>\n",
       "<tr><td>57967.523891018514</td><td>58332.801668796295</td><td>3872.9833462074166</td><td>49.99999999999999</td><td>299999.9999999999</td><td>2.42478019885084e-08</td><td>3.216909849612648e-09</td><td>3.098436840431873e-09</td><td>3.0681622575912115e-08</td><td>93.74248</td><td>9.68207</td><td>False</td></tr>\n",
       "<tr><td>58332.801668796295</td><td>58698.07944657407</td><td>3872.9833462074166</td><td>49.99999999999999</td><td>299999.9999999999</td><td>9.119189847694997e-09</td><td>2.538890209180522e-09</td><td>2.3714594732382466e-09</td><td>1.4196970710145251e-08</td><td>20.813469</td><td>4.562178</td><td>False</td></tr>\n",
       "<tr><td>58698.07944657407</td><td>59063.35722435185</td><td>3872.9833462074166</td><td>49.99999999999999</td><td>299999.9999999999</td><td>1.2498568402463661e-08</td><td>2.7577033989700794e-09</td><td>2.630366369160697e-09</td><td>1.80139743122254e-08</td><td>29.236681</td><td>5.4070954</td><td>False</td></tr>\n",
       "</table></div>"
      ],
      "text/plain": [
       "<Table length=12>\n",
       "     time_min           time_max            e_ref              e_min             e_max       ...        flux_ul             ts      sqrt_ts    is_ul \n",
       "                                             MeV                MeV               MeV        ...      1 / (cm2 s)                                    \n",
       "     float64            float64           float64[1]         float64[1]        float64[1]    ...       float64[1]       float32[1] float32[1] bool[1]\n",
       "------------------ ------------------ ------------------ ----------------- ----------------- ... ---------------------- ---------- ---------- -------\n",
       " 54682.65603794185 55045.301668796295 3872.9833462074166 49.99999999999999 299999.9999999999 ...  9.591482097448534e-08   920.0858  30.332916   False\n",
       "55045.301668796295  55410.57944657407 3872.9833462074166 49.99999999999999 299999.9999999999 ...   4.44351080375327e-08   187.7672  13.702817   False\n",
       " 55410.57944657407  55775.85722435185 3872.9833462074166 49.99999999999999 299999.9999999999 ...  2.076451188770534e-08  41.063618    6.40809   False\n",
       " 55775.85722435185  56141.13500212963 3872.9833462074166 49.99999999999999 299999.9999999999 ...  2.654208941521574e-08   70.73424   8.410365   False\n",
       " 56141.13500212963 56506.412779907405 3872.9833462074166 49.99999999999999 299999.9999999999 ... 2.7826768445038397e-08   71.23839   8.440284   False\n",
       "56506.412779907405 56871.690557685186 3872.9833462074166 49.99999999999999 299999.9999999999 ...  3.191085795606341e-08  101.89214  10.094164   False\n",
       "56871.690557685186  57236.96833546296 3872.9833462074166 49.99999999999999 299999.9999999999 ... 4.4412200139731794e-08    171.701  13.103473   False\n",
       " 57236.96833546296  57602.24611324074 3872.9833462074166 49.99999999999999 299999.9999999999 ... 2.2300383761830744e-08   35.32539  5.9435167   False\n",
       " 57602.24611324074 57967.523891018514 3872.9833462074166 49.99999999999999 299999.9999999999 ... 2.3880017963051614e-08  61.804993   7.861615   False\n",
       "57967.523891018514 58332.801668796295 3872.9833462074166 49.99999999999999 299999.9999999999 ... 3.0681622575912115e-08   93.74248    9.68207   False\n",
       "58332.801668796295  58698.07944657407 3872.9833462074166 49.99999999999999 299999.9999999999 ... 1.4196970710145251e-08  20.813469   4.562178   False\n",
       " 58698.07944657407  59063.35722435185 3872.9833462074166 49.99999999999999 299999.9999999999 ...   1.80139743122254e-08  29.236681  5.4070954   False"
      ]
     },
     "execution_count": 42,
     "metadata": {},
     "output_type": "execute_result"
    }
   ],
   "source": [
    "lightcurve.to_table(format=\"lightcurve\", sed_type=\"flux\")"
   ]
  },
  {
   "cell_type": "code",
   "execution_count": 43,
   "id": "b4cbbdf2",
   "metadata": {},
   "outputs": [
    {
     "data": {
      "image/png": "[encoded data removed]",
      "text/plain": [
       "<Figure size 640x480 with 1 Axes>"
      ]
     },
     "metadata": {},
     "output_type": "display_data"
    }
   ],
   "source": [
    "lightcurve.plot();"
   ]
  },
  {
   "cell_type": "markdown",
   "id": "2e1a8484",
   "metadata": {},
   "source": [
    "## Pretty-print source information\n",
    "\n",
    "A source object has a nice string representation that you can print.\n"
   ]
  },
  {
   "cell_type": "code",
   "execution_count": 44,
   "id": "2cf2c74b",
   "metadata": {},
   "outputs": [
    {
     "name": "stdout",
     "output_type": "stream",
     "text": [
      "\n",
      "*** Basic info ***\n",
      "\n",
      "Catalog row index (zero-based) : 18\n",
      "Source name          : HESS J1514-591\n",
      "Analysis reference   : HGPS\n",
      "Source class         : PWN\n",
      "Identified object    : MSH 15-52\n",
      "Gamma-Cat id         : 79\n",
      "\n",
      "\n",
      "*** Info from map analysis ***\n",
      "\n",
      "RA                   :  228.499 deg = 15h14m00s\n",
      "DEC                  :  -59.161 deg = -59d09m41s\n",
      "GLON                 :  320.315 +/- 0.008 deg\n",
      "GLAT                 :   -1.188 +/- 0.007 deg\n",
      "Position Error (68%) : 0.020 deg\n",
      "Position Error (95%) : 0.033 deg\n",
      "ROI number           : 13\n",
      "Spatial model        : 3-Gaussian\n",
      "Spatial components   : HGPSC 023, HGPSC 024, HGPSC 025\n",
      "TS                   : 1763.4\n",
      "sqrt(TS)             : 42.0\n",
      "Size                 : 0.145 +/- 0.026 (UL: 0.000) deg\n",
      "R70                  : 0.215 deg\n",
      "RSpec                : 0.215 deg\n",
      "Total model excess   : 3502.8\n",
      "Excess in RSpec      : 2440.5\n",
      "Model Excess in RSpec : 2414.3\n",
      "Background in RSpec  : 1052.5\n",
      "Livetime             : 41.4 hours\n",
      "Energy threshold     : 0.61 TeV\n",
      "Source flux (>1 TeV) : (6.434 +/- 0.211) x 10^-12 cm^-2 s^-1 = (28.47 +/- 0.94) % Crab\n",
      "\n",
      "Fluxes in RSpec (> 1 TeV):\n",
      "Map measurement                : 4.552 x 10^-12 cm^-2 s^-1 = 20.14 % Crab\n",
      "Source model                   : 4.505 x 10^-12 cm^-2 s^-1 = 19.94 % Crab\n",
      "Other component model          : 0.000 x 10^-12 cm^-2 s^-1 =  0.00 % Crab\n",
      "Large scale component model    : 0.000 x 10^-12 cm^-2 s^-1 =  0.00 % Crab\n",
      "Total model                    : 4.505 x 10^-12 cm^-2 s^-1 = 19.94 % Crab\n",
      "Containment in RSpec                :  70.0 %\n",
      "Contamination in RSpec              :   0.0 %\n",
      "Flux correction (RSpec -> Total)    : 142.8 %\n",
      "Flux correction (Total -> RSpec)    :  70.0 %\n",
      "\n",
      "*** Info from spectral analysis ***\n",
      "\n",
      "Livetime             : 13.7 hours\n",
      "Energy range:        : 0.38 to 61.90 TeV\n",
      "Background           : 1825.9\n",
      "Excess               : 2061.1\n",
      "Spectral model       : ECPL\n",
      "TS ECPL over PL      : 10.2\n",
      "Best-fit model flux(> 1 TeV) : (5.720 +/- 0.417) x 10^-12 cm^-2 s^-1  = (25.31 +/- 1.84) % Crab\n",
      "Best-fit model energy flux(1 to 10 TeV) : (20.779 +/- 1.878) x 10^-12 erg cm^-2 s^-1\n",
      "Pivot energy         : 1.54 TeV\n",
      "Flux at pivot energy : (2.579 +/- 0.083) x 10^-12 cm^-2 s^-1 TeV^-1  = (11.41 +/- 0.24) % Crab\n",
      "PL   Flux(> 1 TeV)   : (5.437 +/- 0.186) x 10^-12 cm^-2 s^-1  = (24.06 +/- 0.82) % Crab\n",
      "PL   Flux(@ 1 TeV)   : (6.868 +/- 0.241) x 10^-12 cm^-2 s^-1 TeV^-1  = (30.39 +/- 0.69) % Crab\n",
      "PL   Index           : 2.26 +/- 0.03\n",
      "ECPL   Flux(@ 1 TeV) : (6.860 +/- 0.252) x 10^-12 cm^-2 s^-1 TeV^-1  = (30.35 +/- 0.72) % Crab\n",
      "ECPL   Flux(> 1 TeV) : (5.720 +/- 0.417) x 10^-12 cm^-2 s^-1  = (25.31 +/- 1.84) % Crab\n",
      "ECPL Index           : 2.05 +/- 0.06\n",
      "ECPL Lambda          : 0.052 +/- 0.014 TeV^-1\n",
      "ECPL E_cut           : 19.20 +/- 5.01 TeV\n",
      "\n",
      "*** Flux points info ***\n",
      "\n",
      "Number of flux points: 6\n",
      "Flux points table: \n",
      "\n",
      "e_ref  e_min  e_max        dnde         dnde_errn       dnde_errp        dnde_ul     is_ul\n",
      " TeV    TeV    TeV   1 / (cm2 s TeV) 1 / (cm2 s TeV) 1 / (cm2 s TeV) 1 / (cm2 s TeV)      \n",
      "------ ------ ------ --------------- --------------- --------------- --------------- -----\n",
      " 0.562  0.383  0.825       2.439e-11       1.419e-12       1.509e-12       2.732e-11 False\n",
      " 1.212  0.825  1.778       4.439e-12       2.489e-13       2.654e-13       4.970e-12 False\n",
      " 2.738  1.778  4.217       7.295e-13       4.788e-14       4.898e-14       8.302e-13 False\n",
      " 6.190  4.217  9.085       1.305e-13       1.220e-14       1.282e-14       1.571e-13 False\n",
      "13.991  9.085 21.544       1.994e-14       2.723e-15       2.858e-15       2.588e-14 False\n",
      "31.623 21.544 46.416       9.474e-16       3.480e-16       4.329e-16       1.919e-15 False\n",
      "\n",
      "*** Gaussian component info ***\n",
      "\n",
      "Number of components: 3\n",
      "Spatial components   : HGPSC 023, HGPSC 024, HGPSC 025\n",
      "\n",
      "Component HGPSC 023:\n",
      "GLON                 :  320.303 +/- 0.005 deg\n",
      "GLAT                 :   -1.124 +/- 0.007 deg\n",
      "Size                 : 0.057 +/- 0.005 deg\n",
      "Flux (>1 TeV)        : (2.01 +/- 0.23) x 10^-12 cm^-2 s^-1 = (8.9 +/- 1.0) % Crab\n",
      "\n",
      "Component HGPSC 024:\n",
      "GLON                 :  320.298 +/- 0.020 deg\n",
      "GLAT                 :   -1.168 +/- 0.021 deg\n",
      "Size                 : 0.206 +/- 0.020 deg\n",
      "Flux (>1 TeV)        : (2.54 +/- 0.29) x 10^-12 cm^-2 s^-1 = (11.2 +/- 1.3) % Crab\n",
      "\n",
      "Component HGPSC 025:\n",
      "GLON                 :  320.351 +/- 0.005 deg\n",
      "GLAT                 :   -1.284 +/- 0.007 deg\n",
      "Size                 : 0.055 +/- 0.005 deg\n",
      "Flux (>1 TeV)        : (1.88 +/- 0.22) x 10^-12 cm^-2 s^-1 = (8.3 +/- 1.0) % Crab\n",
      "\n",
      "\n",
      "*** Source associations info ***\n",
      "\n",
      "  Source_Name    Association_Catalog    Association_Name   Separation\n",
      "                                                              deg    \n",
      "---------------- ------------------- --------------------- ----------\n",
      "  HESS J1514-591                2FHL    2FHL J1514.0-5915e   0.098903\n",
      "  HESS J1514-591                3FGL     3FGL J1513.9-5908   0.026914\n",
      "  HESS J1514-591                3FGL    3FGL J1514.0-5915e   0.094834\n",
      "  HESS J1514-591                COMP            G320.4-1.2   0.070483\n",
      "  HESS J1514-591                 PSR              B1509-58   0.026891\n",
      "\n",
      "*** Source identification info ***\n",
      "\n",
      "Source_Name: HESS J1514-591\n",
      "Identified_Object: MSH 15-52\n",
      "Class: PWN\n",
      "Evidence: Morphology\n",
      "Reference: 2005A%26A...435L..17A\n",
      "Distance_Reference: SNRCat\n",
      "Distance: 5.199999809265137 kpc\n",
      "Distance_Min: 3.799999952316284 kpc\n",
      "Distance_Max: 6.599999904632568 kpc\n",
      "\n"
     ]
    }
   ],
   "source": [
    "source = catalog_hgps[\"MSH 15-52\"]\n",
    "print(source)"
   ]
  },
  {
   "cell_type": "markdown",
   "id": "835e6499",
   "metadata": {},
   "source": [
    "You can also call `source.info()` instead and pass as an option what information to print. The options available depend on the catalog, you can learn about them using `help()`"
   ]
  },
  {
   "cell_type": "code",
   "execution_count": 45,
   "id": "5bd57980",
   "metadata": {},
   "outputs": [
    {
     "name": "stdout",
     "output_type": "stream",
     "text": [
      "Help on method info in module gammapy.catalog.hess:\n",
      "\n",
      "info(info='all') method of gammapy.catalog.hess.SourceCatalogObjectHGPS instance\n",
      "    Info string.\n",
      "    \n",
      "    Parameters\n",
      "    ----------\n",
      "    info : {'all', 'basic', 'map', 'spec', 'flux_points', 'components', 'associations', 'id'}\n",
      "        Comma separated list of options\n",
      "\n"
     ]
    }
   ],
   "source": [
    "help(source.info)"
   ]
  },
  {
   "cell_type": "code",
   "execution_count": 46,
   "id": "63dd67d0",
   "metadata": {},
   "outputs": [
    {
     "name": "stdout",
     "output_type": "stream",
     "text": [
      "\n",
      "*** Source associations info ***\n",
      "\n",
      "  Source_Name    Association_Catalog    Association_Name   Separation\n",
      "                                                              deg    \n",
      "---------------- ------------------- --------------------- ----------\n",
      "  HESS J1514-591                2FHL    2FHL J1514.0-5915e   0.098903\n",
      "  HESS J1514-591                3FGL     3FGL J1513.9-5908   0.026914\n",
      "  HESS J1514-591                3FGL    3FGL J1514.0-5915e   0.094834\n",
      "  HESS J1514-591                COMP            G320.4-1.2   0.070483\n",
      "  HESS J1514-591                 PSR              B1509-58   0.026891\n",
      "\n"
     ]
    }
   ],
   "source": [
    "print(source.info(\"associations\"))"
   ]
  },
  {
   "cell_type": "code",
   "execution_count": null,
   "id": "e396f51c",
   "metadata": {},
   "outputs": [],
   "source": []
  }
 ],
 "metadata": {
  "kernelspec": {
   "display_name": "Python 3 (ipykernel)",
   "language": "python",
   "name": "python3"
  },
  "language_info": {
   "codemirror_mode": {
    "name": "ipython",
    "version": 3
   },
   "file_extension": ".py",
   "mimetype": "text/x-python",
   "name": "python",
   "nbconvert_exporter": "python",
   "pygments_lexer": "ipython3",
   "version": "3.9.14"
  },
  "latex_envs": {
   "LaTeX_envs_menu_present": true,
   "autoclose": false,
   "autocomplete": true,
   "bibliofile": "biblio.bib",
   "cite_by": "apalike",
   "current_citInitial": 1,
   "eqLabelWithNumbers": true,
   "eqNumInitial": 1,
   "hotkeys": {
    "equation": "Ctrl-E",
    "itemize": "Ctrl-I"
   },
   "labels_anchors": false,
   "latex_user_defs": false,
   "report_style_numbering": false,
   "user_envs_cfg": false
  }
 },
 "nbformat": 4,
 "nbformat_minor": 5
}
