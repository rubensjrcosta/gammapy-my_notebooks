{
 "cells": [
  {
   "cell_type": "markdown",
   "id": "b9243ab4",
   "metadata": {},
   "source": [
    "# 1D spectrum simulation\n",
    "\n",
    "## Prerequisites\n",
    "\n",
    "- Knowledge of spectral extraction and datasets used in gammapy, see for instance the [spectral analysis tutorial](spectral_analysis.ipynb)\n",
    "\n",
    "## Context\n",
    "\n",
    "To simulate a specific observation, it is not always necessary to simulate the full photon list. For many uses cases, simulating directly a reduced binned dataset is enough: the IRFs reduced in the correct geometry are combined with a source model to predict an actual number of counts per bin. The latter is then used to simulate a reduced dataset using Poisson probability distribution.\n",
    "\n",
    "This can be done to check the feasibility of a measurement, to test whether fitted parameters really provide a good fit to the data etc.\n",
    "\n",
    "Here we will see how to perform a 1D spectral simulation of a CTA observation, in particular, we will generate OFF observations following the template background stored in the CTA IRFs.\n",
    "\n",
    "**Objective: simulate a number of spectral ON-OFF observations of a source with a power-law spectral model with CTA using the CTA 1DC response, fit them with the assumed spectral model and check that the distribution of fitted parameters is consistent with the input values.**\n",
    "\n",
    "## Proposed approach\n",
    "\n",
    "We will use the following classes:\n",
    "\n",
    "* `~gammapy.datasets.SpectrumDatasetOnOff`\n",
    "* `~gammapy.datasets.SpectrumDataset`\n",
    "* `~gammapy.irf.load_cta_irfs`\n",
    "* `~gammapy.modeling.models.PowerLawSpectralModel`"
   ]
  },
  {
   "cell_type": "markdown",
   "id": "972e8e3a",
   "metadata": {},
   "source": [
    "## Setup\n"
   ]
  },
  {
   "cell_type": "code",
   "execution_count": 1,
   "id": "5e45719c",
   "metadata": {},
   "outputs": [],
   "source": [
    "%matplotlib inline\n",
    "import matplotlib.pyplot as plt"
   ]
  },
  {
   "cell_type": "code",
   "execution_count": 2,
   "id": "7d453553",
   "metadata": {},
   "outputs": [],
   "source": [
    "import numpy as np\n",
    "import astropy.units as u\n",
    "from astropy.coordinates import SkyCoord, Angle\n",
    "from regions import CircleSkyRegion\n",
    "from gammapy.datasets import SpectrumDatasetOnOff, SpectrumDataset, Datasets\n",
    "from gammapy.makers import SpectrumDatasetMaker\n",
    "from gammapy.modeling import Fit\n",
    "from gammapy.modeling.models import (\n",
    "    PowerLawSpectralModel,\n",
    "    SkyModel,\n",
    ")\n",
    "from gammapy.irf import load_cta_irfs\n",
    "from gammapy.data import Observation, observatory_locations\n",
    "from gammapy.maps import MapAxis, RegionGeom"
   ]
  },
  {
   "cell_type": "markdown",
   "id": "e3d7933c",
   "metadata": {},
   "source": [
    "## Simulation of a single spectrum\n",
    "\n",
    "To do a simulation, we need to define the observational parameters like the livetime, the offset, the assumed integration radius, the energy range to perform the simulation for and the choice of spectral model. We then use an in-memory observation which is convolved with the IRFs to get the predicted number of counts. This is Poission fluctuated using the `fake()` to get the simulated counts for each observation.  "
   ]
  },
  {
   "cell_type": "code",
   "execution_count": 3,
   "id": "c2af6df5",
   "metadata": {},
   "outputs": [],
   "source": [
    "# Define simulation parameters parameters\n",
    "livetime = 1 * u.h\n",
    "\n",
    "pointing = SkyCoord(0, 0, unit=\"deg\", frame=\"galactic\")\n",
    "offset = 0.5 * u.deg\n",
    "\n",
    "# Reconstructed and true energy axis\n",
    "energy_axis = MapAxis.from_edges(\n",
    "    np.logspace(-0.5, 1.0, 10), unit=\"TeV\", name=\"energy\", interp=\"log\"\n",
    ")\n",
    "energy_axis_true = MapAxis.from_edges(\n",
    "    np.logspace(-1.2, 2.0, 31), unit=\"TeV\", name=\"energy_true\", interp=\"log\"\n",
    ")\n",
    "\n",
    "on_region_radius = Angle(\"0.11 deg\")\n",
    "\n",
    "center = pointing.directional_offset_by(\n",
    "    position_angle=0 * u.deg, separation=offset\n",
    ")\n",
    "on_region = CircleSkyRegion(center=center, radius=on_region_radius)"
   ]
  },
  {
   "cell_type": "code",
   "execution_count": 4,
   "id": "b6385458",
   "metadata": {},
   "outputs": [
    {
     "name": "stdout",
     "output_type": "stream",
     "text": [
      "PowerLawSpectralModel\n",
      "\n",
      "  type      name     value         unit      ... max frozen is_norm link\n",
      "-------- --------- ---------- -------------- ... --- ------ ------- ----\n",
      "spectral     index 3.0000e+00                ... nan  False   False     \n",
      "spectral amplitude 2.5000e-12 cm-2 s-1 TeV-1 ... nan  False    True     \n",
      "spectral reference 1.0000e+00            TeV ... nan   True   False     \n"
     ]
    }
   ],
   "source": [
    "# Define spectral model - a simple Power Law in this case\n",
    "model_simu = PowerLawSpectralModel(\n",
    "    index=3.0,\n",
    "    amplitude=2.5e-12 * u.Unit(\"cm-2 s-1 TeV-1\"),\n",
    "    reference=1 * u.TeV,\n",
    ")\n",
    "print(model_simu)\n",
    "# we set the sky model used in the dataset\n",
    "model = SkyModel(spectral_model=model_simu, name=\"source\")"
   ]
  },
  {
   "cell_type": "code",
   "execution_count": 5,
   "id": "d57b22a4",
   "metadata": {},
   "outputs": [
    {
     "name": "stderr",
     "output_type": "stream",
     "text": [
      "Invalid unit found in background table! Assuming (s-1 MeV-1 sr-1)\n"
     ]
    }
   ],
   "source": [
    "# Load the IRFs\n",
    "# In this simulation, we use the CTA-1DC irfs shipped with gammapy.\n",
    "irfs = load_cta_irfs(\n",
    "    \"$GAMMAPY_DATA/cta-1dc/caldb/data/cta/1dc/bcf/South_z20_50h/irf_file.fits\"\n",
    ")"
   ]
  },
  {
   "cell_type": "code",
   "execution_count": 6,
   "id": "df598658",
   "metadata": {},
   "outputs": [
    {
     "name": "stdout",
     "output_type": "stream",
     "text": [
      "Observation\n",
      "\n",
      "\tobs id            : 0 \n",
      " \ttstart            : 51544.00\n",
      "\ttstop             : 51544.04\n",
      "\tduration          : 3600.00 s\n",
      "\tpointing (icrs)   : 266.4 deg, -28.9 deg\n",
      "\n",
      "\tdeadtime fraction : 0.0%\n",
      "\n"
     ]
    }
   ],
   "source": [
    "location = observatory_locations[\"cta_south\"]\n",
    "obs = Observation.create(\n",
    "    pointing=pointing,\n",
    "    livetime=livetime,\n",
    "    irfs=irfs,\n",
    "    location=location,\n",
    ")\n",
    "print(obs)"
   ]
  },
  {
   "cell_type": "code",
   "execution_count": 7,
   "id": "cc7587c9",
   "metadata": {},
   "outputs": [],
   "source": [
    "# Make the SpectrumDataset\n",
    "geom = RegionGeom.create(region=on_region, axes=[energy_axis])\n",
    "\n",
    "dataset_empty = SpectrumDataset.create(\n",
    "    geom=geom, energy_axis_true=energy_axis_true, name=\"obs-0\"\n",
    ")\n",
    "maker = SpectrumDatasetMaker(selection=[\"exposure\", \"edisp\", \"background\"])\n",
    "\n",
    "dataset = maker.run(dataset_empty, obs)"
   ]
  },
  {
   "cell_type": "code",
   "execution_count": 8,
   "id": "26641f69",
   "metadata": {},
   "outputs": [
    {
     "name": "stdout",
     "output_type": "stream",
     "text": [
      "SpectrumDataset\n",
      "---------------\n",
      "\n",
      "  Name                            : obs-0 \n",
      "\n",
      "  Total counts                    : 298 \n",
      "  Total background counts         : 22.29\n",
      "  Total excess counts             : 275.71\n",
      "\n",
      "  Predicted counts                : 303.66\n",
      "  Predicted background counts     : 22.29\n",
      "  Predicted excess counts         : 281.37\n",
      "\n",
      "  Exposure min                    : 2.53e+08 m2 s\n",
      "  Exposure max                    : 1.77e+10 m2 s\n",
      "\n",
      "  Number of total bins            : 9 \n",
      "  Number of fit bins              : 9 \n",
      "\n",
      "  Fit statistic type              : cash\n",
      "  Fit statistic value (-2 log(L)) : -1811.58\n",
      "\n",
      "  Number of models                : 1 \n",
      "  Number of parameters            : 3\n",
      "  Number of free parameters       : 2\n",
      "\n",
      "  Component 0: SkyModel\n",
      "  \n",
      "    Name                      : source\n",
      "    Datasets names            : None\n",
      "    Spectral model type       : PowerLawSpectralModel\n",
      "    Spatial  model type       : \n",
      "    Temporal model type       : \n",
      "    Parameters:\n",
      "      index                         :      3.000   +/-    0.00             \n",
      "      amplitude                     :   2.50e-12   +/- 0.0e+00 1 / (cm2 s TeV)\n",
      "      reference             (frozen):      1.000       TeV         \n",
      "  \n",
      "  \n"
     ]
    }
   ],
   "source": [
    "# Set the model on the dataset, and fake\n",
    "dataset.models = model\n",
    "dataset.fake(random_state=42)\n",
    "print(dataset)"
   ]
  },
  {
   "cell_type": "markdown",
   "id": "ba4a2eed",
   "metadata": {},
   "source": [
    "You can see that background counts are now simulated"
   ]
  },
  {
   "cell_type": "markdown",
   "id": "0dd614de",
   "metadata": {},
   "source": [
    "### On-Off analysis\n",
    "\n",
    "To do an on off spectral analysis, which is the usual science case, the standard would be to use `SpectrumDatasetOnOff`, which uses the acceptance to fake off-counts "
   ]
  },
  {
   "cell_type": "code",
   "execution_count": 9,
   "id": "10699120",
   "metadata": {},
   "outputs": [
    {
     "name": "stdout",
     "output_type": "stream",
     "text": [
      "SpectrumDatasetOnOff\n",
      "--------------------\n",
      "\n",
      "  Name                            : _mNyPwA5 \n",
      "\n",
      "  Total counts                    : 321 \n",
      "  Total background counts         : 27.00\n",
      "  Total excess counts             : 294.00\n",
      "\n",
      "  Predicted counts                : 308.56\n",
      "  Predicted background counts     : 27.19\n",
      "  Predicted excess counts         : 281.37\n",
      "\n",
      "  Exposure min                    : 2.53e+08 m2 s\n",
      "  Exposure max                    : 1.77e+10 m2 s\n",
      "\n",
      "  Number of total bins            : 9 \n",
      "  Number of fit bins              : 9 \n",
      "\n",
      "  Fit statistic type              : wstat\n",
      "  Fit statistic value (-2 log(L)) : 3.93\n",
      "\n",
      "  Number of models                : 1 \n",
      "  Number of parameters            : 3\n",
      "  Number of free parameters       : 2\n",
      "\n",
      "  Component 0: SkyModel\n",
      "  \n",
      "    Name                      : source\n",
      "    Datasets names            : None\n",
      "    Spectral model type       : PowerLawSpectralModel\n",
      "    Spatial  model type       : \n",
      "    Temporal model type       : \n",
      "    Parameters:\n",
      "      index                         :      3.000   +/-    0.00             \n",
      "      amplitude                     :   2.50e-12   +/- 0.0e+00 1 / (cm2 s TeV)\n",
      "      reference             (frozen):      1.000       TeV         \n",
      "  \n",
      "    Total counts_off                : 135 \n",
      "  Acceptance                      : 9 \n",
      "  Acceptance off                  : 45 \n",
      "\n"
     ]
    }
   ],
   "source": [
    "dataset_on_off = SpectrumDatasetOnOff.from_spectrum_dataset(\n",
    "    dataset=dataset, acceptance=1, acceptance_off=5\n",
    ")\n",
    "dataset_on_off.fake(npred_background=dataset.npred_background())\n",
    "print(dataset_on_off)"
   ]
  },
  {
   "cell_type": "markdown",
   "id": "a9d04f9c",
   "metadata": {},
   "source": [
    "You can see that off counts are now simulated as well. We now simulate several spectra using the same set of observation conditions."
   ]
  },
  {
   "cell_type": "code",
   "execution_count": 10,
   "id": "cdfb4025",
   "metadata": {},
   "outputs": [
    {
     "name": "stdout",
     "output_type": "stream",
     "text": [
      "CPU times: user 1.02 s, sys: 3.7 ms, total: 1.03 s\n",
      "Wall time: 1.02 s\n"
     ]
    }
   ],
   "source": [
    "%%time\n",
    "\n",
    "n_obs = 100\n",
    "datasets = Datasets()\n",
    "\n",
    "for idx in range(n_obs):\n",
    "    dataset_on_off.fake(\n",
    "        random_state=idx, npred_background=dataset.npred_background()\n",
    "    )\n",
    "    dataset_fake = dataset_on_off.copy(name=f\"obs-{idx}\")\n",
    "    dataset_fake.meta_table[\"OBS_ID\"] = [idx]\n",
    "    datasets.append(dataset_fake)"
   ]
  },
  {
   "cell_type": "code",
   "execution_count": 11,
   "id": "77733354",
   "metadata": {},
   "outputs": [
    {
     "data": {
      "text/html": [
       "<div><i>Table length=100</i>\n",
       "<table id=\"table140255675997680\" class=\"table-striped table-bordered table-condensed\">\n",
       "<thead><tr><th>name</th><th>counts</th><th>excess</th><th>sqrt_ts</th><th>background</th><th>npred</th><th>npred_background</th><th>npred_signal</th><th>exposure_min</th><th>exposure_max</th><th>livetime</th><th>ontime</th><th>counts_rate</th><th>background_rate</th><th>excess_rate</th><th>n_bins</th><th>n_fit_bins</th><th>stat_type</th><th>stat_sum</th><th>counts_off</th><th>acceptance</th><th>acceptance_off</th><th>alpha</th></tr></thead>\n",
       "<thead><tr><th></th><th></th><th></th><th></th><th></th><th></th><th></th><th></th><th>m2 s</th><th>m2 s</th><th>s</th><th>s</th><th>1 / s</th><th>1 / s</th><th>1 / s</th><th></th><th></th><th></th><th></th><th></th><th></th><th></th><th></th></tr></thead>\n",
       "<thead><tr><th>str6</th><th>int64</th><th>float64</th><th>float64</th><th>float64</th><th>float64</th><th>float64</th><th>float64</th><th>float64</th><th>float64</th><th>float64</th><th>float64</th><th>float64</th><th>float64</th><th>float64</th><th>int64</th><th>int64</th><th>str5</th><th>float64</th><th>int64</th><th>float64</th><th>float64</th><th>float64</th></tr></thead>\n",
       "<tr><td>obs-0</td><td>317</td><td>298.6000061035156</td><td>27.08240180813126</td><td>18.399999618530273</td><td>68.16666751313541</td><td>68.16666751313541</td><td>nan</td><td>252718176.0</td><td>17719697408.0</td><td>3600.000000000002</td><td>3600.000000000002</td><td>0.08805555555555551</td><td>0.0051111110051472956</td><td>0.08294444613986542</td><td>9</td><td>9</td><td>wstat</td><td>738.7245834271496</td><td>92</td><td>9.0</td><td>45.0</td><td>0.20000000298023224</td></tr>\n",
       "<tr><td>obs-1</td><td>275</td><td>253.0</td><td>23.76785365487285</td><td>22.0</td><td>64.16666666666669</td><td>64.16666666666669</td><td>nan</td><td>252718170.97287694</td><td>17719697919.59929</td><td>3600.000000000002</td><td>3600.000000000002</td><td>0.07638888888888885</td><td>0.006111111111111108</td><td>0.07027777777777774</td><td>9</td><td>9</td><td>wstat</td><td>575.779512784738</td><td>110</td><td>9.0</td><td>45.0</td><td>0.2</td></tr>\n",
       "<tr><td>obs-2</td><td>293</td><td>272.4</td><td>25.17110555404655</td><td>20.6</td><td>66.0</td><td>66.0</td><td>nan</td><td>252718170.97287694</td><td>17719697919.59929</td><td>3600.000000000002</td><td>3600.000000000002</td><td>0.08138888888888884</td><td>0.00572222222222222</td><td>0.07566666666666662</td><td>9</td><td>9</td><td>wstat</td><td>645.4993824075303</td><td>103</td><td>9.0</td><td>45.0</td><td>0.2</td></tr>\n",
       "<tr><td>obs-3</td><td>280</td><td>257.6</td><td>23.982951737405354</td><td>22.4</td><td>65.33333333333334</td><td>65.33333333333334</td><td>nan</td><td>252718170.97287694</td><td>17719697919.59929</td><td>3600.000000000002</td><td>3600.000000000002</td><td>0.07777777777777774</td><td>0.006222222222222218</td><td>0.07155555555555553</td><td>9</td><td>9</td><td>wstat</td><td>585.9241546985872</td><td>112</td><td>9.0</td><td>45.00000000000001</td><td>0.19999999999999998</td></tr>\n",
       "<tr><td>obs-4</td><td>337</td><td>316.4</td><td>27.682709945184747</td><td>20.6</td><td>73.33333333333334</td><td>73.33333333333334</td><td>nan</td><td>252718170.97287694</td><td>17719697919.59929</td><td>3600.000000000002</td><td>3600.000000000002</td><td>0.09361111111111106</td><td>0.00572222222222222</td><td>0.08788888888888884</td><td>9</td><td>9</td><td>wstat</td><td>787.314723949448</td><td>103</td><td>9.0</td><td>45.0</td><td>0.2</td></tr>\n",
       "<tr><td>obs-5</td><td>283</td><td>258.6</td><td>23.727154782347895</td><td>24.400000000000002</td><td>67.50000000000001</td><td>67.50000000000001</td><td>nan</td><td>252718170.97287694</td><td>17719697919.59929</td><td>3600.000000000002</td><td>3600.000000000002</td><td>0.07861111111111108</td><td>0.006777777777777775</td><td>0.0718333333333333</td><td>9</td><td>9</td><td>wstat</td><td>574.8525737727499</td><td>122</td><td>9.0</td><td>45.0</td><td>0.2</td></tr>\n",
       "<tr><td>...</td><td>...</td><td>...</td><td>...</td><td>...</td><td>...</td><td>...</td><td>...</td><td>...</td><td>...</td><td>...</td><td>...</td><td>...</td><td>...</td><td>...</td><td>...</td><td>...</td><td>...</td><td>...</td><td>...</td><td>...</td><td>...</td><td>...</td></tr>\n",
       "<tr><td>obs-94</td><td>322</td><td>300.2</td><td>26.574029757473202</td><td>21.8</td><td>71.83333333333334</td><td>71.83333333333334</td><td>nan</td><td>252718170.97287694</td><td>17719697919.59929</td><td>3600.000000000002</td><td>3600.000000000002</td><td>0.0894444444444444</td><td>0.006055555555555553</td><td>0.08338888888888885</td><td>9</td><td>9</td><td>wstat</td><td>715.2570498037147</td><td>109</td><td>9.0</td><td>45.0</td><td>0.2</td></tr>\n",
       "<tr><td>obs-95</td><td>305</td><td>280.6</td><td>25.030731260493152</td><td>24.400000000000006</td><td>71.16666666666667</td><td>71.16666666666667</td><td>nan</td><td>252718170.97287694</td><td>17719697919.59929</td><td>3600.000000000002</td><td>3600.000000000002</td><td>0.08472222222222218</td><td>0.006777777777777776</td><td>0.07794444444444441</td><td>9</td><td>9</td><td>wstat</td><td>643.2846879404793</td><td>122</td><td>9.0</td><td>44.99999999999999</td><td>0.20000000000000004</td></tr>\n",
       "<tr><td>obs-96</td><td>301</td><td>277.4</td><td>24.969845969421428</td><td>23.6</td><td>69.83333333333334</td><td>69.83333333333334</td><td>nan</td><td>252718170.97287694</td><td>17719697919.59929</td><td>3600.000000000002</td><td>3600.000000000002</td><td>0.08361111111111107</td><td>0.006555555555555552</td><td>0.07705555555555552</td><td>9</td><td>9</td><td>wstat</td><td>626.7396842428624</td><td>118</td><td>9.0</td><td>45.0</td><td>0.2</td></tr>\n",
       "<tr><td>obs-97</td><td>290</td><td>271.2</td><td>25.417982194454826</td><td>18.8</td><td>64.00000000000001</td><td>64.00000000000001</td><td>nan</td><td>252718170.97287694</td><td>17719697919.59929</td><td>3600.000000000002</td><td>3600.000000000002</td><td>0.08055555555555552</td><td>0.00522222222222222</td><td>0.0753333333333333</td><td>9</td><td>9</td><td>wstat</td><td>650.9762484493856</td><td>94</td><td>9.0</td><td>45.0</td><td>0.2</td></tr>\n",
       "<tr><td>obs-98</td><td>301</td><td>280.6</td><td>25.687832964675007</td><td>20.400000000000002</td><td>67.16666666666667</td><td>67.16666666666667</td><td>nan</td><td>252718170.97287694</td><td>17719697919.59929</td><td>3600.000000000002</td><td>3600.000000000002</td><td>0.08361111111111107</td><td>0.0056666666666666645</td><td>0.07794444444444441</td><td>9</td><td>9</td><td>wstat</td><td>664.5620099404952</td><td>102</td><td>9.0</td><td>45.0</td><td>0.2</td></tr>\n",
       "<tr><td>obs-99</td><td>323</td><td>302.2</td><td>26.85707842376871</td><td>20.8</td><td>71.16666666666669</td><td>71.16666666666669</td><td>nan</td><td>252718170.97287694</td><td>17719697919.59929</td><td>3600.000000000002</td><td>3600.000000000002</td><td>0.08972222222222218</td><td>0.005777777777777775</td><td>0.0839444444444444</td><td>9</td><td>9</td><td>wstat</td><td>733.1576598768017</td><td>104</td><td>9.0</td><td>45.0</td><td>0.2</td></tr>\n",
       "</table></div>"
      ],
      "text/plain": [
       "<Table length=100>\n",
       " name  counts       excess      ...   acceptance_off         alpha       \n",
       "                                ...                                      \n",
       " str6  int64       float64      ...      float64            float64      \n",
       "------ ------ ----------------- ... ----------------- -------------------\n",
       " obs-0    317 298.6000061035156 ...              45.0 0.20000000298023224\n",
       " obs-1    275             253.0 ...              45.0                 0.2\n",
       " obs-2    293             272.4 ...              45.0                 0.2\n",
       " obs-3    280             257.6 ... 45.00000000000001 0.19999999999999998\n",
       " obs-4    337             316.4 ...              45.0                 0.2\n",
       " obs-5    283             258.6 ...              45.0                 0.2\n",
       "   ...    ...               ... ...               ...                 ...\n",
       "obs-94    322             300.2 ...              45.0                 0.2\n",
       "obs-95    305             280.6 ... 44.99999999999999 0.20000000000000004\n",
       "obs-96    301             277.4 ...              45.0                 0.2\n",
       "obs-97    290             271.2 ...              45.0                 0.2\n",
       "obs-98    301             280.6 ...              45.0                 0.2\n",
       "obs-99    323             302.2 ...              45.0                 0.2"
      ]
     },
     "execution_count": 11,
     "metadata": {},
     "output_type": "execute_result"
    }
   ],
   "source": [
    "table = datasets.info_table()\n",
    "table"
   ]
  },
  {
   "cell_type": "markdown",
   "id": "a78e744d",
   "metadata": {},
   "source": [
    "Before moving on to the fit let's have a look at the simulated observations."
   ]
  },
  {
   "cell_type": "code",
   "execution_count": 12,
   "id": "cbb7b8aa",
   "metadata": {},
   "outputs": [
    {
     "data": {
      "image/png": "[encoded data removed]",
      "text/plain": [
       "<Figure size 1200x400 with 3 Axes>"
      ]
     },
     "metadata": {},
     "output_type": "display_data"
    }
   ],
   "source": [
    "fix, axes = plt.subplots(1, 3, figsize=(12, 4))\n",
    "axes[0].hist(table[\"counts\"])\n",
    "axes[0].set_xlabel(\"Counts\")\n",
    "axes[1].hist(table[\"counts_off\"])\n",
    "axes[1].set_xlabel(\"Counts Off\")\n",
    "axes[2].hist(table[\"excess\"])\n",
    "axes[2].set_xlabel(\"excess\");"
   ]
  },
  {
   "cell_type": "markdown",
   "id": "94c8aaf2",
   "metadata": {},
   "source": [
    "Now, we fit each simulated spectrum individually "
   ]
  },
  {
   "cell_type": "code",
   "execution_count": 13,
   "id": "e4cab539",
   "metadata": {},
   "outputs": [
    {
     "name": "stdout",
     "output_type": "stream",
     "text": [
      "CPU times: user 19.2 s, sys: 10.8 ms, total: 19.3 s\n",
      "Wall time: 19.3 s\n"
     ]
    }
   ],
   "source": [
    "%%time\n",
    "results = []\n",
    "\n",
    "fit = Fit()\n",
    "\n",
    "for dataset in datasets:\n",
    "    dataset.models = model.copy()\n",
    "    result = fit.optimize(dataset)\n",
    "    results.append(\n",
    "        {\n",
    "            \"index\": result.parameters[\"index\"].value,\n",
    "            \"amplitude\": result.parameters[\"amplitude\"].value,\n",
    "        }\n",
    "    )"
   ]
  },
  {
   "cell_type": "markdown",
   "id": "755592d5",
   "metadata": {},
   "source": [
    "We take a look at the distribution of the fitted indices. This matches very well with the spectrum that we initially injected."
   ]
  },
  {
   "cell_type": "code",
   "execution_count": 14,
   "id": "2f861ff7",
   "metadata": {
    "nbsphinx-thumbnail": {
     "tooltip": "Simulate a number of spectral on-off observations of a source with a power-law spectral model using the CTA 1DC response and fit them with the assumed spectral model."
    }
   },
   "outputs": [
    {
     "name": "stdout",
     "output_type": "stream",
     "text": [
      "index: 3.003692555041857 += 0.08081469526980631\n"
     ]
    },
    {
     "data": {
      "image/png": "[encoded data removed]",
      "text/plain": [
       "<Figure size 640x480 with 1 Axes>"
      ]
     },
     "metadata": {},
     "output_type": "display_data"
    }
   ],
   "source": [
    "index = np.array([_[\"index\"] for _ in results])\n",
    "plt.hist(index, bins=10, alpha=0.5)\n",
    "plt.axvline(x=model_simu.parameters[\"index\"].value, color=\"red\")\n",
    "print(f\"index: {index.mean()} += {index.std()}\")"
   ]
  },
  {
   "cell_type": "markdown",
   "id": "6fa21bb6",
   "metadata": {},
   "source": [
    "## Exercises\n",
    "\n",
    "* Change the observation time to something longer or shorter. Does the observation and spectrum results change as you expected?\n",
    "* Change the spectral model, e.g. add a cutoff at 5 TeV, or put a steep-spectrum source with spectral index of 4.0\n",
    "* Simulate spectra with the spectral model we just defined. How much observation duration do you need to get back the injected parameters?"
   ]
  },
  {
   "cell_type": "code",
   "execution_count": null,
   "id": "e4337af4",
   "metadata": {},
   "outputs": [],
   "source": []
  }
 ],
 "metadata": {
  "kernelspec": {
   "display_name": "Python 3 (ipykernel)",
   "language": "python",
   "name": "python3"
  },
  "language_info": {
   "codemirror_mode": {
    "name": "ipython",
    "version": 3
   },
   "file_extension": ".py",
   "mimetype": "text/x-python",
   "name": "python",
   "nbconvert_exporter": "python",
   "pygments_lexer": "ipython3",
   "version": "3.8.13"
  }
 },
 "nbformat": 4,
 "nbformat_minor": 5
}
