{
 "cells": [
  {
   "cell_type": "markdown",
   "id": "8157ef11",
   "metadata": {},
   "source": [
    "# CTA with Gammapy\n",
    "\n",
    "## Introduction\n",
    "\n",
    "The [Cherenkov Telescope Array (CTA)](https://www.cta-observatory.org/) is the next generation ground-based observatory for gamma-ray astronomy.\n",
    "Gammapy is the core library for the Cherenkov Telescope Array (CTA) science tools ([2017ICRC...35..766D](https://ui.adsabs.harvard.edu/abs/2017ICRC...35..766D) and [CTAO Press Release](https://www.cta-observatory.org/ctao-adopts-the-gammapy-software-package-for-science-analysis/)).\n",
    "\n",
    "CTA will start taking data in the coming years. For now, to learn how to analyse CTA data and to use Gammapy, if you are a member of the CTA consortium, you can use the simulated dataset from the CTA first data challenge which ran in 2017 and 2018.\n",
    "\n",
    "- https://forge.in2p3.fr/projects/data-challenge-1-dc-1/wiki (CTA internal)\n",
    "\n",
    "Gammapy fully supports the FITS data formats (events, IRFs) used in CTA 1DC. The XML sky model format is not supported, but are also not needed to analyse the data, you have to specify your model via the Gammapy YAML model format, or Python code, as shown below.\n",
    "\n",
    "You can use Gammapy to simulate CTA data and evaluate CTA performance using the CTA response files available here:\n",
    "\n",
    "- https://www.cta-observatory.org/science/cta-performance/\n",
    "\n",
    "The current FITS format `CTA-Performance-prod3b-v2-FITS.tar` is fully supported by Gammapy, as shown below.\n",
    "\n",
    "## Tutorial overview\n",
    "\n",
    "This notebook shows how to access CTA data and instrument response functions (IRFs) using Gammapy, and gives some examples how to quick look the content of CTA files, especially to see the shape of CTA IRFs.\n",
    "\n",
    "At the end of the notebooks, we give several links to other tutorial notebooks that show how to simulate CTA data and how to evaluate CTA observability and sensitivity, or how to analyse CTA data.\n",
    "\n",
    "Note that the FITS data and IRF format currently used by CTA is the one documented at https://gamma-astro-data-formats.readthedocs.io/, and is also used by H.E.S.S. and other imaging atmospheric Cherenkov telescopes (IACTs). So if you see other Gammapy tutorials using e.g. H.E.S.S. example data, know that they also apply to CTA, all you have to do is to change the loaded data or IRFs to CTA.\n",
    "\n",
    "## Setup"
   ]
  },
  {
   "cell_type": "code",
   "execution_count": 1,
   "id": "0c3b4ac1",
   "metadata": {},
   "outputs": [],
   "source": [
    "%matplotlib inline\n",
    "import matplotlib.pyplot as plt"
   ]
  },
  {
   "cell_type": "code",
   "execution_count": 2,
   "id": "3f52070d",
   "metadata": {},
   "outputs": [
    {
     "name": "stdout",
     "output_type": "stream",
     "text": [
      "numpy: 1.22.3\n",
      "astropy: 5.0.4\n",
      "gammapy: 0.20.1\n"
     ]
    }
   ],
   "source": [
    "import os\n",
    "from pathlib import Path\n",
    "\n",
    "import numpy as np\n",
    "import astropy\n",
    "import gammapy\n",
    "\n",
    "print(\"numpy:\", np.__version__)\n",
    "print(\"astropy:\", astropy.__version__)\n",
    "print(\"gammapy:\", gammapy.__version__)"
   ]
  },
  {
   "cell_type": "code",
   "execution_count": 3,
   "id": "0b4d5da0",
   "metadata": {},
   "outputs": [],
   "source": [
    "from astropy import units as u\n",
    "from gammapy.data import DataStore, EventList\n",
    "from gammapy.irf import EffectiveAreaTable2D, load_cta_irfs"
   ]
  },
  {
   "cell_type": "markdown",
   "id": "67ae0be2",
   "metadata": {},
   "source": [
    "## CTA 1DC\n",
    "\n",
    "The CTA first data challenge (1DC) ran in 2017 and 2018. It is described in detail [here](https://forge.in2p3.fr/projects/data-challenge-1-dc-1/wiki) and a description of the data and how to download it is [here](https://forge.in2p3.fr/projects/data-challenge-1-dc-1/wiki#Data-access).\n",
    "\n",
    "You should download `caldb.tar.gz` (1.2 MB), `models.tar.gz` (0.9 GB), `index.tar.gz` (0.5 MB), as well as optionally the simulated survey data you are interested in: Galactic plane survey `gps.tar.gz` (8.3 GB), Galactic center `gc.tar.gz` (4.4 MB), Extragalactic survey `egal.tar.gz` (2.5 GB), AGN monitoring `agn.wobble.tar.gz` (4.7 GB). After download, follow the instructions how to `untar` the files, and set a `CTADATA` environment variable to point to the data.\n",
    "\n",
    "For convenience, since the 1DC data files are large, and not publicly available to anyone, we have taken a tiny subset of the CTA 1DC data, four observations with the southern array from the GPS survey, pointing near the Galactic center, and included them at `$GAMMAPY_DATA/cta-1dc` which you get via `gammapy download tutorials`.\n",
    "\n",
    "### Files\n",
    "\n",
    "Next we will show a quick overview of the files and how to load them, and some quick look plots showing the shape of the CTA IRFs. How to do CTA simulations and analyses is shown in other tutorials, see links at the end of this notebook."
   ]
  },
  {
   "cell_type": "code",
   "execution_count": 4,
   "id": "296ee233",
   "metadata": {},
   "outputs": [
    {
     "name": "stdout",
     "output_type": "stream",
     "text": [
      "caldb\r\n",
      "data\r\n",
      "index\r\n",
      "make.py\r\n",
      "README.md\r\n"
     ]
    }
   ],
   "source": [
    "!ls -1 $GAMMAPY_DATA/cta-1dc"
   ]
  },
  {
   "cell_type": "code",
   "execution_count": 5,
   "id": "270950d9",
   "metadata": {},
   "outputs": [
    {
     "name": "stdout",
     "output_type": "stream",
     "text": [
      "gps_baseline_110380.fits\r\n",
      "gps_baseline_111140.fits\r\n",
      "gps_baseline_111159.fits\r\n",
      "gps_baseline_111630.fits\r\n"
     ]
    }
   ],
   "source": [
    "!ls -1 $GAMMAPY_DATA/cta-1dc/data/baseline/gps"
   ]
  },
  {
   "cell_type": "code",
   "execution_count": 6,
   "id": "52993fec",
   "metadata": {},
   "outputs": [
    {
     "name": "stdout",
     "output_type": "stream",
     "text": [
      "irf_file.fits\r\n"
     ]
    }
   ],
   "source": [
    "!ls -1 $GAMMAPY_DATA/cta-1dc/caldb/data/cta/1dc/bcf/South_z20_50h"
   ]
  },
  {
   "cell_type": "code",
   "execution_count": 7,
   "id": "81e71d90",
   "metadata": {},
   "outputs": [
    {
     "name": "stdout",
     "output_type": "stream",
     "text": [
      "hdu-index.fits.gz\r\n",
      "obs-index.fits.gz\r\n"
     ]
    }
   ],
   "source": [
    "!ls -1 $GAMMAPY_DATA/cta-1dc/index/gps"
   ]
  },
  {
   "cell_type": "markdown",
   "id": "b36db642",
   "metadata": {},
   "source": [
    "The access to the IRFs files requires to define a `CALDB` environment variable. We are going to define it only for this notebook so it won't overwrite the one you may have already defined."
   ]
  },
  {
   "cell_type": "code",
   "execution_count": 8,
   "id": "a42eac19",
   "metadata": {},
   "outputs": [],
   "source": [
    "os.environ[\"CALDB\"] = os.environ[\"GAMMAPY_DATA\"] + \"/cta-1dc/caldb\""
   ]
  },
  {
   "cell_type": "markdown",
   "id": "1bc409e5",
   "metadata": {},
   "source": [
    "### Datastore\n",
    "\n",
    "You can use the `~gammapy.data.DataStore` to load via the index files"
   ]
  },
  {
   "cell_type": "code",
   "execution_count": 9,
   "id": "5549af16",
   "metadata": {},
   "outputs": [
    {
     "name": "stdout",
     "output_type": "stream",
     "text": [
      "Data store:\n",
      "HDU index table:\n",
      "BASE_DIR: /home/bornagain/Documents/GitHub/gammapy/gammapy-datasets/cta-1dc/index/gps\n",
      "Rows: 24\n",
      "OBS_ID: 110380 -- 111630\n",
      "HDU_TYPE: ['aeff', 'bkg', 'edisp', 'events', 'gti', 'psf']\n",
      "HDU_CLASS: ['aeff_2d', 'bkg_3d', 'edisp_2d', 'events', 'gti', 'psf_3gauss']\n",
      "\n",
      "\n",
      "Observation table:\n",
      "Observatory name: 'N/A'\n",
      "Number of observations: 4\n",
      "\n"
     ]
    }
   ],
   "source": [
    "data_store = DataStore.from_dir(\"$GAMMAPY_DATA/cta-1dc/index/gps\")\n",
    "print(data_store)"
   ]
  },
  {
   "cell_type": "markdown",
   "id": "eca763ff",
   "metadata": {},
   "source": [
    "If you can't download the index files, or got errors related to the data access using them, you can generate the `DataStore` directly from the event files."
   ]
  },
  {
   "cell_type": "code",
   "execution_count": 10,
   "id": "94958b9c",
   "metadata": {},
   "outputs": [
    {
     "name": "stdout",
     "output_type": "stream",
     "text": [
      "Data store:\n",
      "HDU index table:\n",
      "BASE_DIR: .\n",
      "Rows: 24\n",
      "OBS_ID: 110380 -- 111630\n",
      "HDU_TYPE: ['aeff', 'bkg', 'edisp', 'events', 'gti', 'psf']\n",
      "HDU_CLASS: ['aeff_2d', 'bkg_3d', 'edisp_2d', 'events', 'gti', 'psf_3gauss']\n",
      "\n",
      "\n",
      "Observation table:\n",
      "Observatory name: 'N/A'\n",
      "Number of observations: 4\n",
      "\n"
     ]
    }
   ],
   "source": [
    "path = Path(os.environ[\"GAMMAPY_DATA\"]) / \"cta-1dc/data\"\n",
    "paths = list(path.rglob(\"*.fits\"))\n",
    "data_store = DataStore.from_events_files(paths)\n",
    "print(data_store)"
   ]
  },
  {
   "cell_type": "code",
   "execution_count": 11,
   "id": "d6c5fc05",
   "metadata": {},
   "outputs": [
    {
     "data": {
      "text/html": [
       "<div><i>ObservationTable length=4</i>\n",
       "<table id=\"table139803993289536\" class=\"table-striped table-bordered table-condensed\">\n",
       "<thead><tr><th>OBS_ID</th><th>GLON_PNT</th><th>GLAT_PNT</th><th>IRF</th></tr></thead>\n",
       "<thead><tr><th></th><th>deg</th><th>deg</th><th></th></tr></thead>\n",
       "<thead><tr><th>int64</th><th>float64</th><th>float64</th><th>str13</th></tr></thead>\n",
       "<tr><td>111630</td><td>263.9999985700299</td><td>-1.299980552289047</td><td>NOT AVAILABLE</td></tr>\n",
       "<tr><td>111159</td><td>1.5000056568267646</td><td>1.299940468335294</td><td>South_z20_50h</td></tr>\n",
       "<tr><td>110380</td><td>359.9999912037958</td><td>-1.2999959379053645</td><td>South_z20_50h</td></tr>\n",
       "<tr><td>111140</td><td>358.4999833830074</td><td>1.3000020211954284</td><td>South_z20_50h</td></tr>\n",
       "</table></div>"
      ],
      "text/plain": [
       "<ObservationTable length=4>\n",
       "OBS_ID      GLON_PNT            GLAT_PNT           IRF     \n",
       "              deg                 deg                      \n",
       "int64       float64             float64           str13    \n",
       "------ ------------------ ------------------- -------------\n",
       "111630  263.9999985700299  -1.299980552289047 NOT AVAILABLE\n",
       "111159 1.5000056568267646   1.299940468335294 South_z20_50h\n",
       "110380  359.9999912037958 -1.2999959379053645 South_z20_50h\n",
       "111140  358.4999833830074  1.3000020211954284 South_z20_50h"
      ]
     },
     "execution_count": 11,
     "metadata": {},
     "output_type": "execute_result"
    }
   ],
   "source": [
    "data_store.obs_table[[\"OBS_ID\", \"GLON_PNT\", \"GLAT_PNT\", \"IRF\"]]"
   ]
  },
  {
   "cell_type": "code",
   "execution_count": 12,
   "id": "cbca59ad",
   "metadata": {},
   "outputs": [
    {
     "data": {
      "text/plain": [
       "<gammapy.data.observations.Observation at 0x7f26a75bbb20>"
      ]
     },
     "execution_count": 12,
     "metadata": {},
     "output_type": "execute_result"
    }
   ],
   "source": [
    "observation = data_store.obs(110380)\n",
    "observation"
   ]
  },
  {
   "cell_type": "markdown",
   "id": "0c58baf5",
   "metadata": {},
   "source": [
    "## Events\n",
    "\n",
    "We can load events data via the data store and observation, or equivalently via the `~gammapy.data.EventList` class by specifying the EVENTS filename.\n",
    "\n",
    "The quick-look `events.peek()` plot below shows that CTA has a field of view of a few degrees, and two energy thresholds, one significantly below 100 GeV where the CTA large-size telescopes (LSTs) detect events, and a second one near 100 GeV where the mid-sized telescopes (MSTs) start to detect events.\n",
    "\n",
    "Note that most events are \"hadronic background\" due to cosmic ray showers in the atmosphere that pass the gamma-hadron selection cuts for this analysis configuration. Since this is simulated data, column `MC_ID` is available that gives an emission component identifier code, and the EVENTS header in `events.table.meta` can be used to look up which `MC_ID` corresponds to which emission component."
   ]
  },
  {
   "cell_type": "code",
   "execution_count": 13,
   "id": "23b9fab5",
   "metadata": {},
   "outputs": [
    {
     "data": {
      "text/plain": [
       "<gammapy.data.event_list.EventList at 0x7f26a75a8eb0>"
      ]
     },
     "execution_count": 13,
     "metadata": {},
     "output_type": "execute_result"
    }
   ],
   "source": [
    "events = observation.events\n",
    "events"
   ]
  },
  {
   "cell_type": "code",
   "execution_count": 14,
   "id": "f36091f4",
   "metadata": {},
   "outputs": [
    {
     "data": {
      "text/plain": [
       "<gammapy.data.event_list.EventList at 0x7f26a78b4d60>"
      ]
     },
     "execution_count": 14,
     "metadata": {},
     "output_type": "execute_result"
    }
   ],
   "source": [
    "events = EventList.read(\n",
    "    \"$GAMMAPY_DATA/cta-1dc/data/baseline/gps/gps_baseline_110380.fits\"\n",
    ")\n",
    "events"
   ]
  },
  {
   "cell_type": "code",
   "execution_count": 15,
   "id": "5add390a",
   "metadata": {},
   "outputs": [
    {
     "data": {
      "text/html": [
       "<div><i>Table length=5</i>\n",
       "<table id=\"table139803992504448\" class=\"table-striped table-bordered table-condensed\">\n",
       "<thead><tr><th>EVENT_ID</th><th>TIME</th><th>RA</th><th>DEC</th><th>ENERGY</th><th>DETX</th><th>DETY</th><th>MC_ID</th></tr></thead>\n",
       "<thead><tr><th></th><th>s</th><th>deg</th><th>deg</th><th>TeV</th><th>deg</th><th>deg</th><th></th></tr></thead>\n",
       "<thead><tr><th>uint32</th><th>float64</th><th>float32</th><th>float32</th><th>float32</th><th>float32</th><th>float32</th><th>int32</th></tr></thead>\n",
       "<tr><td>1</td><td>664502403.0454683</td><td>-92.63541</td><td>-30.514854</td><td>0.03902182</td><td>-0.9077294</td><td>-0.2727693</td><td>2</td></tr>\n",
       "<tr><td>2</td><td>664502405.2579999</td><td>-92.64103</td><td>-28.262728</td><td>0.030796371</td><td>1.3443842</td><td>-0.2838398</td><td>2</td></tr>\n",
       "<tr><td>3</td><td>664502408.8205513</td><td>-93.20372</td><td>-28.599625</td><td>0.04009629</td><td>1.0049409</td><td>-0.7769775</td><td>2</td></tr>\n",
       "<tr><td>4</td><td>664502409.0143764</td><td>-94.03383</td><td>-29.269627</td><td>0.039580025</td><td>0.32684833</td><td>-1.496021</td><td>2</td></tr>\n",
       "<tr><td>5</td><td>664502414.8090746</td><td>-93.330505</td><td>-30.319725</td><td>0.03035851</td><td>-0.716062</td><td>-0.8733348</td><td>2</td></tr>\n",
       "</table></div>"
      ],
      "text/plain": [
       "<Table length=5>\n",
       "EVENT_ID        TIME           RA     ...    DETX       DETY    MC_ID\n",
       "                 s            deg     ...    deg        deg          \n",
       " uint32       float64       float32   ...  float32    float32   int32\n",
       "-------- ----------------- ---------- ... ---------- ---------- -----\n",
       "       1 664502403.0454683  -92.63541 ... -0.9077294 -0.2727693     2\n",
       "       2 664502405.2579999  -92.64103 ...  1.3443842 -0.2838398     2\n",
       "       3 664502408.8205513  -93.20372 ...  1.0049409 -0.7769775     2\n",
       "       4 664502409.0143764  -94.03383 ... 0.32684833  -1.496021     2\n",
       "       5 664502414.8090746 -93.330505 ...  -0.716062 -0.8733348     2"
      ]
     },
     "execution_count": 15,
     "metadata": {},
     "output_type": "execute_result"
    }
   ],
   "source": [
    "events.table[:5]"
   ]
  },
  {
   "cell_type": "code",
   "execution_count": null,
   "id": "e70904b9",
   "metadata": {
    "nbsphinx-thumbnail": {
     "tooltip": "Access and inspect CTA data and instrument response functions (IRFs) using Gammapy."
    }
   },
   "outputs": [],
   "source": [
    "events.peek()"
   ]
  },
  {
   "cell_type": "markdown",
   "id": "4fb5abb8",
   "metadata": {},
   "source": [
    "## IRFs\n",
    "\n",
    "The CTA instrument response functions (IRFs) are given as FITS files in the `caldb` folder, the following IRFs are available:\n",
    "\n",
    "- effective area\n",
    "- energy dispersion\n",
    "- point spread function\n",
    "- background\n",
    "\n",
    "Notes:\n",
    "\n",
    "- The IRFs contain the energy and offset dependence of the CTA response\n",
    "- CTA 1DC was based on an early version of the CTA FITS responses produced in 2017, improvements have been made since.\n",
    "- The point spread function was approximated by a Gaussian shape\n",
    "- The background is from hadronic and electron air shower events that pass CTA selection cuts. It was given as a function of field of view coordinates, although it is radially symmetric.\n",
    "- The energy dispersion in CTA 1DC is noisy at low energy, leading to unreliable spectral points for some analyses.\n",
    "- The CTA 1DC response files have the first node at field of view offset 0.5 deg, so to get the on-axis response at offset 0 deg, Gammapy has to extrapolate. Furthermore, because diffuse gamma-rays in the FOV were used to derive the IRFs, and the solid angle at small FOV offset circles is small, the IRFs at the center of the FOV are somewhat noisy. This leads to unstable analysis and simulation issues when using the DC1 IRFs for some analyses."
   ]
  },
  {
   "cell_type": "code",
   "execution_count": 16,
   "id": "eea1efe4",
   "metadata": {},
   "outputs": [
    {
     "data": {
      "text/plain": [
       "<gammapy.irf.effective_area.EffectiveAreaTable2D at 0x7f26a5fdbe80>"
      ]
     },
     "execution_count": 16,
     "metadata": {},
     "output_type": "execute_result"
    }
   ],
   "source": [
    "observation.aeff"
   ]
  },
  {
   "cell_type": "code",
   "execution_count": 17,
   "id": "7c88cf2b",
   "metadata": {},
   "outputs": [
    {
     "name": "stderr",
     "output_type": "stream",
     "text": [
      "Invalid unit found in background table! Assuming (s-1 MeV-1 sr-1)\n"
     ]
    },
    {
     "data": {
      "text/plain": [
       "{'aeff': <gammapy.irf.effective_area.EffectiveAreaTable2D at 0x7f26a74fc3a0>,\n",
       " 'bkg': <gammapy.irf.background.Background3D at 0x7f26b4415460>,\n",
       " 'edisp': <gammapy.irf.edisp.core.EnergyDispersion2D at 0x7f26a600afa0>,\n",
       " 'psf': <gammapy.irf.psf.parametric.EnergyDependentMultiGaussPSF at 0x7f26a600ea30>}"
      ]
     },
     "execution_count": 17,
     "metadata": {},
     "output_type": "execute_result"
    }
   ],
   "source": [
    "irf_filename = (\n",
    "    \"$GAMMAPY_DATA/cta-1dc/caldb/data/cta/1dc/bcf/South_z20_50h/irf_file.fits\"\n",
    ")\n",
    "irfs = load_cta_irfs(irf_filename)\n",
    "irfs"
   ]
  },
  {
   "cell_type": "markdown",
   "id": "9d2d9eaa",
   "metadata": {},
   "source": [
    "### Effective area"
   ]
  },
  {
   "cell_type": "code",
   "execution_count": null,
   "id": "03e9483b",
   "metadata": {},
   "outputs": [],
   "source": [
    "# Equivalent alternative way to load IRFs directly\n",
    "aeff = EffectiveAreaTable2D.read(irf_filename, hdu=\"EFFECTIVE AREA\")\n",
    "aeff"
   ]
  },
  {
   "cell_type": "code",
   "execution_count": null,
   "id": "366edb0e",
   "metadata": {},
   "outputs": [],
   "source": [
    "irfs[\"aeff\"].peek()"
   ]
  },
  {
   "cell_type": "code",
   "execution_count": null,
   "id": "534ef01a",
   "metadata": {},
   "outputs": [],
   "source": [
    "# What is the on-axis effective area at 10 TeV?\n",
    "aeff.evaluate(energy_true=\"10 TeV\", offset=\"0 deg\").to(\"km2\")"
   ]
  },
  {
   "cell_type": "markdown",
   "id": "dad1c4fa",
   "metadata": {},
   "source": [
    "### Energy dispersion\n"
   ]
  },
  {
   "cell_type": "code",
   "execution_count": null,
   "id": "d5e4256d",
   "metadata": {},
   "outputs": [],
   "source": [
    "irfs[\"edisp\"].peek()"
   ]
  },
  {
   "cell_type": "markdown",
   "id": "198fd1d4",
   "metadata": {},
   "source": [
    "### Point spread function\n"
   ]
  },
  {
   "cell_type": "code",
   "execution_count": null,
   "id": "bddcc943",
   "metadata": {},
   "outputs": [],
   "source": [
    "irfs[\"psf\"].peek()"
   ]
  },
  {
   "cell_type": "code",
   "execution_count": null,
   "id": "ebd46bbf",
   "metadata": {},
   "outputs": [],
   "source": [
    "# This is how for analysis you could slice out the PSF\n",
    "# at a given field of view offset\n",
    "irfs[\"psf\"].plot_containment_radius_vs_energy(\n",
    "    offset=[1] * u.deg, fraction=[0.68, 0.8, 0.95]\n",
    ");"
   ]
  },
  {
   "cell_type": "markdown",
   "id": "e14f51af",
   "metadata": {},
   "source": [
    "### Background\n",
    "\n",
    "The background is given as a rate in units `MeV-1 s-1 sr-1`."
   ]
  },
  {
   "cell_type": "code",
   "execution_count": null,
   "id": "9e964c05",
   "metadata": {},
   "outputs": [],
   "source": [
    "irfs[\"bkg\"].peek()"
   ]
  },
  {
   "cell_type": "code",
   "execution_count": null,
   "id": "14f05436",
   "metadata": {},
   "outputs": [],
   "source": [
    "irfs[\"bkg\"].evaluate(energy=\"3 TeV\", fov_lon=\"1 deg\", fov_lat=\"0 deg\")"
   ]
  },
  {
   "cell_type": "markdown",
   "id": "c6ebd0ba",
   "metadata": {},
   "source": [
    "To visualise the background at particular energies:"
   ]
  },
  {
   "cell_type": "code",
   "execution_count": null,
   "id": "eaf0965d",
   "metadata": {},
   "outputs": [],
   "source": [
    "irfs[\"bkg\"].plot_at_energy(\n",
    "    [\"100 GeV\", \"500 GeV\", \"1 TeV\", \"3 TeV\", \"10 TeV\", \"100 TeV\"]\n",
    ")"
   ]
  },
  {
   "cell_type": "markdown",
   "id": "0db6d2d2",
   "metadata": {},
   "source": [
    "## Source models\n",
    "\n",
    "The 1DC sky model is distributed as a set of XML files, which in turn link to a ton of other FITS and text files. Gammapy doesn't support this XML model file format. We are currently developing a YAML based format that improves upon the XML format, to be easier to write and read, add relevant information (units for physical quantities), and omit useless information (e.g. parameter scales in addition to values).\n",
    "\n",
    "If you must or want to read the XML model files, you can use e.g. [ElementTree](https://docs.python.org/3/library/xml.etree.elementtree.html) from the Python standard library, or [xmltodict](https://github.com/martinblech/xmltodict) if you `pip install xmltodict`. Here's an example how to load the information for a given source, and to convert it into the sky model format Gammapy understands."
   ]
  },
  {
   "cell_type": "code",
   "execution_count": 31,
   "id": "704aee3b",
   "metadata": {},
   "outputs": [
    {
     "name": "stdout",
     "output_type": "stream",
     "text": [
      "tail: cannot open '/models/models_gps.xml' for reading: No such file or directory\r\n"
     ]
    }
   ],
   "source": [
    "#This is what the XML file looks like\n",
    "!tail -n 20 $CTADATA/models/models_gps.xml"
   ]
  },
  {
   "cell_type": "code",
   "execution_count": 29,
   "id": "0ff0c542",
   "metadata": {},
   "outputs": [
    {
     "name": "stdout",
     "output_type": "stream",
     "text": [
      "Collecting xmltodict\n",
      "  Downloading xmltodict-0.13.0-py2.py3-none-any.whl (10.0 kB)\n",
      "Installing collected packages: xmltodict\n",
      "Successfully installed xmltodict-0.13.0\n"
     ]
    }
   ],
   "source": [
    "!pip install xmltodict"
   ]
  },
  {
   "cell_type": "code",
   "execution_count": 30,
   "id": "7d069bb7",
   "metadata": {},
   "outputs": [
    {
     "ename": "KeyError",
     "evalue": "'CTADATA'",
     "output_type": "error",
     "traceback": [
      "\u001b[0;31m---------------------------------------------------------------------------\u001b[0m",
      "\u001b[0;31mKeyError\u001b[0m                                  Traceback (most recent call last)",
      "Input \u001b[0;32mIn [30]\u001b[0m, in \u001b[0;36m<cell line: 6>\u001b[0;34m()\u001b[0m\n\u001b[1;32m      1\u001b[0m \u001b[38;5;66;03m# TODO: write this example!\u001b[39;00m\n\u001b[1;32m      2\u001b[0m \n\u001b[1;32m      3\u001b[0m \u001b[38;5;66;03m# Read XML file and access spectrum parameters\u001b[39;00m\n\u001b[1;32m      4\u001b[0m \u001b[38;5;28;01mfrom\u001b[39;00m \u001b[38;5;21;01mgammapy\u001b[39;00m\u001b[38;5;21;01m.\u001b[39;00m\u001b[38;5;21;01mextern\u001b[39;00m \u001b[38;5;28;01mimport\u001b[39;00m xmltodict\n\u001b[0;32m----> 6\u001b[0m filename \u001b[38;5;241m=\u001b[39m os\u001b[38;5;241m.\u001b[39mpath\u001b[38;5;241m.\u001b[39mjoin(\u001b[43mos\u001b[49m\u001b[38;5;241;43m.\u001b[39;49m\u001b[43menviron\u001b[49m\u001b[43m[\u001b[49m\u001b[38;5;124;43m\"\u001b[39;49m\u001b[38;5;124;43mCTADATA\u001b[39;49m\u001b[38;5;124;43m\"\u001b[39;49m\u001b[43m]\u001b[49m, \u001b[38;5;124m\"\u001b[39m\u001b[38;5;124mmodels/models_gps.xml\u001b[39m\u001b[38;5;124m\"\u001b[39m)\n\u001b[1;32m      7\u001b[0m data \u001b[38;5;241m=\u001b[39m xmltodict\u001b[38;5;241m.\u001b[39mparse(\u001b[38;5;28mopen\u001b[39m(filename)\u001b[38;5;241m.\u001b[39mread())\n\u001b[1;32m      8\u001b[0m data \u001b[38;5;241m=\u001b[39m data[\u001b[38;5;124m\"\u001b[39m\u001b[38;5;124msource_library\u001b[39m\u001b[38;5;124m\"\u001b[39m][\u001b[38;5;124m\"\u001b[39m\u001b[38;5;124msource\u001b[39m\u001b[38;5;124m\"\u001b[39m][\u001b[38;5;241m-\u001b[39m\u001b[38;5;241m1\u001b[39m]\n",
      "File \u001b[0;32m~/miniconda3/envs/gammapy-0.20.1/lib/python3.8/os.py:675\u001b[0m, in \u001b[0;36m_Environ.__getitem__\u001b[0;34m(self, key)\u001b[0m\n\u001b[1;32m    672\u001b[0m     value \u001b[38;5;241m=\u001b[39m \u001b[38;5;28mself\u001b[39m\u001b[38;5;241m.\u001b[39m_data[\u001b[38;5;28mself\u001b[39m\u001b[38;5;241m.\u001b[39mencodekey(key)]\n\u001b[1;32m    673\u001b[0m \u001b[38;5;28;01mexcept\u001b[39;00m \u001b[38;5;167;01mKeyError\u001b[39;00m:\n\u001b[1;32m    674\u001b[0m     \u001b[38;5;66;03m# raise KeyError with the original key value\u001b[39;00m\n\u001b[0;32m--> 675\u001b[0m     \u001b[38;5;28;01mraise\u001b[39;00m \u001b[38;5;167;01mKeyError\u001b[39;00m(key) \u001b[38;5;28;01mfrom\u001b[39;00m \u001b[38;5;28mNone\u001b[39m\n\u001b[1;32m    676\u001b[0m \u001b[38;5;28;01mreturn\u001b[39;00m \u001b[38;5;28mself\u001b[39m\u001b[38;5;241m.\u001b[39mdecodevalue(value)\n",
      "\u001b[0;31mKeyError\u001b[0m: 'CTADATA'"
     ]
    }
   ],
   "source": [
    "# TODO: write this example!\n",
    "\n",
    "# Read XML file and access spectrum parameters\n",
    "from gammapy.extern import xmltodict\n",
    "\n",
    "filename = os.path.join(os.environ[\"CTADATA\"], \"models/models_gps.xml\")\n",
    "data = xmltodict.parse(open(filename).read())\n",
    "data = data[\"source_library\"][\"source\"][-1]\n",
    "data = data[\"spectrum\"][\"parameter\"]\n",
    "data"
   ]
  },
  {
   "cell_type": "code",
   "execution_count": null,
   "id": "1dec776b",
   "metadata": {},
   "outputs": [],
   "source": [
    "# Create a spectral model the the right units\n",
    "# from astropy import units as u\n",
    "# from gammapy.modeling.models import PowerLawSpectralModel\n",
    "\n",
    "# par_to_val = lambda par: float(par[\"@value\"]) * float(par[\"@scale\"])\n",
    "# spec = PowerLawSpectralModel(\n",
    "#     amplitude=par_to_val(data[0]) * u.Unit(\"cm-2 s-1 MeV-1\"),\n",
    "#     index=par_to_val(data[1]),\n",
    "#     reference=par_to_val(data[2]) * u.Unit(\"MeV\"),\n",
    "# )\n",
    "# print(spec)"
   ]
  },
  {
   "cell_type": "markdown",
   "id": "58f4f03d",
   "metadata": {},
   "source": [
    "## CTA performance files\n",
    "\n",
    "CTA 1DC is useful to learn how to analyse CTA data. But to do simulations and studies for CTA now, you should get the most recent CTA IRFs in FITS format from https://www.cta-observatory.org/science/cta-performance/\n",
    "\n",
    "If you want to run the download and examples in the next code cells, remove the # to uncomment."
   ]
  },
  {
   "cell_type": "code",
   "execution_count": 18,
   "id": "59c8b8e6",
   "metadata": {},
   "outputs": [
    {
     "name": "stdout",
     "output_type": "stream",
     "text": [
      "  % Total    % Received % Xferd  Average Speed   Time    Time     Time  Current\n",
      "                                 Dload  Upload   Total   Spent    Left  Speed\n",
      "100 14.5M  100 14.5M    0     0   534k      0  0:00:27  0:00:27 --:--:--  467k\n"
     ]
    }
   ],
   "source": [
    "!curl -O https://www.cta-observatory.org/wp-content/uploads/2019/04/CTA-Performance-prod3b-v2-FITS.tar.gz"
   ]
  },
  {
   "cell_type": "code",
   "execution_count": 21,
   "id": "cd5fd64a",
   "metadata": {},
   "outputs": [],
   "source": [
    "!tar xf CTA-Performance-prod3b-v2-FITS.tar.gz"
   ]
  },
  {
   "cell_type": "code",
   "execution_count": 23,
   "id": "c5d50cd7",
   "metadata": {},
   "outputs": [
    {
     "name": "stdout",
     "output_type": "stream",
     "text": [
      "North_z20_0.5h\t  North_z40_N_5h    South_z20_50h     South_z40_S_0.5h\r\n",
      "North_z20_50h\t  North_z40_S_0.5h  South_z20_5h      South_z40_S_50h\r\n",
      "North_z20_5h\t  North_z40_S_50h   South_z20_N_0.5h  South_z40_S_5h\r\n",
      "North_z20_N_0.5h  North_z40_S_5h    South_z20_N_50h   South_z60_0.5h\r\n",
      "North_z20_N_50h   North_z60_0.5h    South_z20_N_5h    South_z60_50h\r\n",
      "North_z20_N_5h\t  North_z60_50h     South_z20_S_0.5h  South_z60_5h\r\n",
      "North_z20_S_0.5h  North_z60_5h\t    South_z20_S_50h   South_z60_N_0.5h\r\n",
      "North_z20_S_50h   North_z60_N_0.5h  South_z20_S_5h    South_z60_N_50h\r\n",
      "North_z20_S_5h\t  North_z60_N_50h   South_z40_0.5h    South_z60_N_5h\r\n",
      "North_z40_0.5h\t  North_z60_N_5h    South_z40_50h     South_z60_S_0.5h\r\n",
      "North_z40_50h\t  North_z60_S_0.5h  South_z40_5h      South_z60_S_50h\r\n",
      "North_z40_5h\t  North_z60_S_50h   South_z40_N_0.5h  South_z60_S_5h\r\n",
      "North_z40_N_0.5h  North_z60_S_5h    South_z40_N_50h\r\n",
      "North_z40_N_50h   South_z20_0.5h    South_z40_N_5h\r\n"
     ]
    }
   ],
   "source": [
    "!ls caldb/data/cta/prod3b-v2/bcf"
   ]
  },
  {
   "cell_type": "code",
   "execution_count": 24,
   "id": "e1203ed0",
   "metadata": {},
   "outputs": [
    {
     "name": "stderr",
     "output_type": "stream",
     "text": [
      "Invalid unit found in background table! Assuming (s-1 MeV-1 sr-1)\n"
     ]
    },
    {
     "data": {
      "text/plain": [
       "<AxesSubplot:xlabel='True Energy [TeV]', ylabel='Effective Area [m2]'>"
      ]
     },
     "execution_count": 24,
     "metadata": {},
     "output_type": "execute_result"
    },
    {
     "data": {
      "image/png": "[encoded data removed]",
      "text/plain": [
       "<Figure size 640x480 with 1 Axes>"
      ]
     },
     "metadata": {},
     "output_type": "display_data"
    }
   ],
   "source": [
    "irfs1 = load_cta_irfs(\"caldb/data/cta/prod3b-v2/bcf/South_z20_50h/irf_file.fits\")\n",
    "irfs1[\"aeff\"].plot_energy_dependence()"
   ]
  },
  {
   "cell_type": "code",
   "execution_count": 25,
   "id": "4f91d499",
   "metadata": {},
   "outputs": [
    {
     "name": "stderr",
     "output_type": "stream",
     "text": [
      "Invalid unit found in background table! Assuming (s-1 MeV-1 sr-1)\n"
     ]
    },
    {
     "data": {
      "text/plain": [
       "<AxesSubplot:xlabel='True Energy [TeV]', ylabel='Effective Area [m2]'>"
      ]
     },
     "execution_count": 25,
     "metadata": {},
     "output_type": "execute_result"
    },
    {
     "data": {
      "image/png": "[encoded data removed]",
      "text/plain": [
       "<Figure size 640x480 with 1 Axes>"
      ]
     },
     "metadata": {},
     "output_type": "display_data"
    }
   ],
   "source": [
    "irfs2 = load_cta_irfs(\"caldb/data/cta/prod3b-v2/bcf/South_z40_50h/irf_file.fits\")\n",
    "irfs2[\"aeff\"].plot_energy_dependence()"
   ]
  },
  {
   "cell_type": "markdown",
   "id": "f48d677c",
   "metadata": {},
   "source": [
    "## Exercises\n",
    "\n",
    "* Load the EVENTS file for `obs_id=111159` as a `~gammapy.data.EventList` object.\n",
    "* Use `events.table` to find the energy, sky coordinate and time of the highest-energy envent.\n",
    "* Use `events.pointing_radec` to find the pointing position of this observation, and use `astropy.coordinates.SkyCoord` methods to find the field of view offset of the highest-energy event.\n",
    "* What is the effective area and PSF 68% containment radius of CTA at 1 TeV for the `South_z20_50h` configuration used for the CTA 1DC simulation?\n",
    "* Get the latest CTA FITS performance files from https://www.cta-observatory.org/science/cta-performance/ and run the code example above. Make an effective area ratio plot of 40 deg zenith versus 20 deg zenith for the `South_z40_50h` and `South_z20_50h` configurations."
   ]
  },
  {
   "cell_type": "code",
   "execution_count": null,
   "id": "2dc29e4b",
   "metadata": {},
   "outputs": [],
   "source": [
    "# start typing here ..."
   ]
  },
  {
   "cell_type": "markdown",
   "id": "9c303ad5",
   "metadata": {},
   "source": [
    "## Next steps\n",
    "\n",
    "* Learn how to analyse data with [analysis_1.ipynb](../starting/analysis_1.ipynb) and [analysis_2.ipynb](../starting/analysis_2.ipynb) or any other Gammapy analysis tutorial.\n",
    "* Learn how to evaluate CTA observability and sensitivity with [simulate_3d.ipynb](../analysis/3D/simulate_3d.ipynb), [spectrum_simulation.ipynb](../analysis/1D/spectrum_simulation.ipynb) or [cta_sensitivity.ipynb](../analysis/1D/cta_sensitivity.ipynb)"
   ]
  },
  {
   "cell_type": "code",
   "execution_count": null,
   "id": "4a4ed5de",
   "metadata": {},
   "outputs": [],
   "source": []
  }
 ],
 "metadata": {
  "kernelspec": {
   "display_name": "Python 3 (ipykernel)",
   "language": "python",
   "name": "python3"
  },
  "language_info": {
   "codemirror_mode": {
    "name": "ipython",
    "version": 3
   },
   "file_extension": ".py",
   "mimetype": "text/x-python",
   "name": "python",
   "nbconvert_exporter": "python",
   "pygments_lexer": "ipython3",
   "version": "3.8.13"
  }
 },
 "nbformat": 4,
 "nbformat_minor": 5
}
