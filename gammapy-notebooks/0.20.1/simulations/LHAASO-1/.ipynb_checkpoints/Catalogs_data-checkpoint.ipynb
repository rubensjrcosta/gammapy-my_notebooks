{
 "cells": [
  {
   "cell_type": "code",
   "execution_count": 1,
   "id": "5ce110db",
   "metadata": {},
   "outputs": [],
   "source": [
    "# !pip install dataframe-image"
   ]
  },
  {
   "cell_type": "code",
   "execution_count": 2,
   "id": "fa05df50",
   "metadata": {},
   "outputs": [],
   "source": [
    "# !pip install tabulate"
   ]
  },
  {
   "cell_type": "markdown",
   "id": "b43d98b9",
   "metadata": {},
   "source": [
    "Carrega os catalogos do gammapy\n",
    "\n",
    "Verifica a existencia da fonte em cada um dos catalgos\n",
    "\n",
    "Guarda a tabela dos pontos de fluxos"
   ]
  },
  {
   "cell_type": "code",
   "execution_count": 3,
   "id": "c6e3efbf",
   "metadata": {},
   "outputs": [],
   "source": [
    "%matplotlib inline\n",
    "import matplotlib.pyplot as plt"
   ]
  },
  {
   "cell_type": "code",
   "execution_count": 4,
   "id": "3ac8a12e",
   "metadata": {},
   "outputs": [],
   "source": [
    "from gammapy.datasets import FluxPointsDataset, Datasets\n",
    "from gammapy.catalog import CATALOG_REGISTRY"
   ]
  },
  {
   "cell_type": "code",
   "execution_count": 5,
   "id": "eff6f5ad",
   "metadata": {},
   "outputs": [],
   "source": [
    "import os\n",
    "import sys\n",
    "import importlib\n",
    "\n",
    "module_path = os.path.abspath('modules/spectral_models')\n",
    "if module_path not in sys.path:\n",
    "    sys.path.append(module_path)\n",
    "# print(module_path)\n",
    "import spectral_models\n",
    "importlib.reload(spectral_models)\n",
    "from spectral_models import pwl_model, get_source_data\n",
    "\n",
    "module_path = os.path.abspath('modules/utilities')\n",
    "if module_path not in sys.path:\n",
    "    sys.path.append(module_path)\n",
    "# print(module_path)\n",
    "import utilities\n",
    "importlib.reload(utilities)\n",
    "from utilities import mkdir_child_dir"
   ]
  },
  {
   "cell_type": "code",
   "execution_count": 6,
   "id": "a1236f88",
   "metadata": {},
   "outputs": [],
   "source": [
    "from astropy import units as u\n",
    "\n",
    "from gammapy.modeling import Fit\n",
    "from gammapy.modeling.models import (\n",
    "    Models,\n",
    "    ExpCutoffPowerLawSpectralModel,\n",
    "    LogParabolaSpectralModel,\n",
    "    PowerLawSpectralModel,\n",
    "    SkyModel,\n",
    ")"
   ]
  },
  {
   "cell_type": "code",
   "execution_count": 7,
   "id": "1a65a2e8",
   "metadata": {},
   "outputs": [],
   "source": [
    "def print_SED(spec_model = None, sed_type = \"e2dnde\", yaxis_units=\"TeV cm-2 s-1\", energy_bounds= [1e-5, 1e2] * u.TeV, ylim = [1e-13, 1e-9]):\n",
    "    '''Returns a spectral energy distribution\n",
    "    \n",
    "    print_SED(spec_model, yaxis_units, sed_type, reference)\n",
    "    >>> model \n",
    "    ----------\n",
    "    '''\n",
    "    path, path_name=mkdir_child_dir(\"catalogs_data\", \"flux_points_images\")\n",
    "    ax = plt.subplot()\n",
    "    ax.yaxis.set_units(u.Unit(yaxis_units))\n",
    "    ax.xaxis.set_units(u.Unit(\"TeV\"))\n",
    "\n",
    "    #label = f\"{sky_model}\"\n",
    "    \n",
    "    kwargs = {\n",
    "        \"ax\": ax, \n",
    "        \"sed_type\": sed_type\n",
    "    }    \n",
    "    for d in datasets:\n",
    "        d.data.plot(label=d.name, **kwargs)\n",
    "\n",
    "    try:   \n",
    "        kwargs_fit = {\"label\":sky_model.name}\n",
    "        spec_model.plot(energy_bounds=energy_bounds, color=\"k\", **kwargs, **kwargs_fit)\n",
    "        spec_model.plot_error(energy_bounds=energy_bounds, **kwargs)\n",
    "        file = path_name / f'{LHAASO_id}_{source_id}_{sky_model.name}.png'\n",
    "    except:\n",
    "        file = path_name / f'{LHAASO_id}_{source_id}.png'\n",
    "    \n",
    "    ax.set_ylim(ylim)\n",
    "    ax.set_xlim(energy_bounds)\n",
    "    ax.legend()\n",
    "    \n",
    "    plt.title(f\"{LHAASO_name}: {source_name}\")\n",
    "        \n",
    "    plt.savefig(file, bbox_inches='tight')\n",
    "    plt.show()\n",
    "    \n",
    "    return "
   ]
  },
  {
   "cell_type": "code",
   "execution_count": 8,
   "id": "38fbf074",
   "metadata": {},
   "outputs": [
    {
     "name": "stdout",
     "output_type": "stream",
     "text": [
      "Registry\n",
      "--------\n",
      "\n",
      "SourceCatalogGammaCat: gamma-cat \n",
      "SourceCatalogHGPS    : hgps \n",
      "SourceCatalog2HWC    : 2hwc \n",
      "SourceCatalog3FGL    : 3fgl \n",
      "SourceCatalog4FGL    : 4fgl \n",
      "SourceCatalog2FHL    : 2fhl \n",
      "SourceCatalog3FHL    : 3fhl \n",
      "SourceCatalog3HWC    : 3hwc \n",
      "\n"
     ]
    }
   ],
   "source": [
    "print(CATALOG_REGISTRY)"
   ]
  },
  {
   "cell_type": "code",
   "execution_count": 9,
   "id": "3eabef72",
   "metadata": {},
   "outputs": [],
   "source": [
    "catalog_tags = [\"gamma-cat\", \"hgps\", \"2hwc\", \"3fgl\", \"4fgl\", \"2fhl\", \"3fhl\", \"3hwc\"] "
   ]
  },
  {
   "cell_type": "code",
   "execution_count": 10,
   "id": "69c7e6ef",
   "metadata": {},
   "outputs": [],
   "source": [
    "# Loading the source catalogs\n",
    "catalog_gammacat = CATALOG_REGISTRY.get_cls(\"gamma-cat\")()\n",
    "catalog_hgps = CATALOG_REGISTRY.get_cls(\"hgps\")()\n",
    "catalog_2hwc = CATALOG_REGISTRY.get_cls(\"2hwc\")()\n",
    "catalog_3fgl = CATALOG_REGISTRY.get_cls(\"3fgl\")()\n",
    "catalog_4fgl = CATALOG_REGISTRY.get_cls(\"4fgl\")()\n",
    "catalog_2fhl = CATALOG_REGISTRY.get_cls(\"2fhl\")()\n",
    "catalog_3fhl = CATALOG_REGISTRY.get_cls(\"3fhl\")()\n",
    "catalog_3hwc = CATALOG_REGISTRY.get_cls(\"3hwc\")()"
   ]
  },
  {
   "cell_type": "code",
   "execution_count": 11,
   "id": "aabe07e7",
   "metadata": {},
   "outputs": [],
   "source": [
    "# Creating a dictionary of the Potential TeV Counterparts (dict values) of the three most significant (excluding Crab)LHASSO observations (dict keys)# see https://www.nature.com/articles/s41586-021-03498-z\n",
    "dict_lhaaso_tevc = {\n",
    "    \"LHAASO J1825-1326\": [\"HESS J1825-137\", \"HESS J1826-130\", \"2HWC J1825-134\"], \n",
    "    \"LHAASO J1908+0621\": [\"MGRO J1908+06\" , \"HESS J1908+063\", \"ARGO J1907+0627\", \"VER J1907+062\", \"2HWC J1908+063\"], \n",
    "    \"LHAASO J2226+6057\": [\"VER J2227+608\"  , \"Boomerang\"]\n",
    "}"
   ]
  },
  {
   "cell_type": "code",
   "execution_count": 12,
   "id": "e9cc6126",
   "metadata": {},
   "outputs": [
    {
     "name": "stdout",
     "output_type": "stream",
     "text": [
      "Directory 'catalogs_data/flux_points_table' created\n"
     ]
    }
   ],
   "source": [
    "path_par, path_dir = mkdir_child_dir(\"catalogs_data\", \"flux_points_table\")\n",
    "\n",
    "df, ds_lst = get_source_data(dict_lhaaso_tevc, catalog_tags, path_dir)"
   ]
  },
  {
   "cell_type": "code",
   "execution_count": 13,
   "id": "b72861db",
   "metadata": {
    "scrolled": true
   },
   "outputs": [
    {
     "data": {
      "text/html": [
       "<div>\n",
       "<style scoped>\n",
       "    .dataframe tbody tr th:only-of-type {\n",
       "        vertical-align: middle;\n",
       "    }\n",
       "\n",
       "    .dataframe tbody tr th {\n",
       "        vertical-align: top;\n",
       "    }\n",
       "\n",
       "    .dataframe thead th {\n",
       "        text-align: right;\n",
       "    }\n",
       "</style>\n",
       "<table border=\"1\" class=\"dataframe\">\n",
       "  <thead>\n",
       "    <tr style=\"text-align: right;\">\n",
       "      <th></th>\n",
       "      <th>LHAASO</th>\n",
       "      <th>TeV Conterpart</th>\n",
       "      <th>Catalog</th>\n",
       "      <th>Flux Points</th>\n",
       "      <th>ds</th>\n",
       "      <th>src</th>\n",
       "    </tr>\n",
       "  </thead>\n",
       "  <tbody>\n",
       "    <tr>\n",
       "      <th>0</th>\n",
       "      <td>LHAASO J1825-1326</td>\n",
       "      <td>HESS J1825-137</td>\n",
       "      <td>[gamma-cat, hgps, 3fgl, 4fgl, 2fhl, 3fhl]</td>\n",
       "      <td>[gamma-cat, hgps, 3fgl, 4fgl, 2fhl, 3fhl]</td>\n",
       "      <td>[FluxPointsDataset\\n-----------------\\n\\n  Nam...</td>\n",
       "      <td>[{'source_id': 118, 'common_name': 'HESS J1825...</td>\n",
       "    </tr>\n",
       "    <tr>\n",
       "      <th>1</th>\n",
       "      <td>LHAASO J1825-1326</td>\n",
       "      <td>HESS J1826-130</td>\n",
       "      <td>[gamma-cat, hgps, 4fgl, 3fhl]</td>\n",
       "      <td>[gamma-cat, hgps, 4fgl, 3fhl]</td>\n",
       "      <td>[FluxPointsDataset\\n-----------------\\n\\n  Nam...</td>\n",
       "      <td>[{'source_id': 161, 'common_name': 'HESS J1826...</td>\n",
       "    </tr>\n",
       "    <tr>\n",
       "      <th>2</th>\n",
       "      <td>LHAASO J1825-1326</td>\n",
       "      <td>2HWC J1825-134</td>\n",
       "      <td>[2hwc]</td>\n",
       "      <td>[]</td>\n",
       "      <td>[]</td>\n",
       "      <td>[{'source_name': '2HWC J1825-134', 'ra': 276.4...</td>\n",
       "    </tr>\n",
       "    <tr>\n",
       "      <th>3</th>\n",
       "      <td>LHAASO J1908+0621</td>\n",
       "      <td>MGRO J1908+06</td>\n",
       "      <td>[gamma-cat, 3fgl, 4fgl]</td>\n",
       "      <td>[gamma-cat, 3fgl, 4fgl]</td>\n",
       "      <td>[FluxPointsDataset\\n-----------------\\n\\n  Nam...</td>\n",
       "      <td>[{'source_id': 132, 'common_name': 'MGRO J1908...</td>\n",
       "    </tr>\n",
       "    <tr>\n",
       "      <th>4</th>\n",
       "      <td>LHAASO J1908+0621</td>\n",
       "      <td>HESS J1908+063</td>\n",
       "      <td>[gamma-cat, hgps]</td>\n",
       "      <td>[gamma-cat, hgps]</td>\n",
       "      <td>[FluxPointsDataset\\n-----------------\\n\\n  Nam...</td>\n",
       "      <td>[{'source_id': 132, 'common_name': 'MGRO J1908...</td>\n",
       "    </tr>\n",
       "    <tr>\n",
       "      <th>5</th>\n",
       "      <td>LHAASO J1908+0621</td>\n",
       "      <td>ARGO J1907+0627</td>\n",
       "      <td>[gamma-cat]</td>\n",
       "      <td>[gamma-cat]</td>\n",
       "      <td>[FluxPointsDataset\\n-----------------\\n\\n  Nam...</td>\n",
       "      <td>[{'source_id': 132, 'common_name': 'MGRO J1908...</td>\n",
       "    </tr>\n",
       "    <tr>\n",
       "      <th>6</th>\n",
       "      <td>LHAASO J1908+0621</td>\n",
       "      <td>VER J1907+062</td>\n",
       "      <td>[gamma-cat]</td>\n",
       "      <td>[gamma-cat]</td>\n",
       "      <td>[FluxPointsDataset\\n-----------------\\n\\n  Nam...</td>\n",
       "      <td>[{'source_id': 132, 'common_name': 'MGRO J1908...</td>\n",
       "    </tr>\n",
       "    <tr>\n",
       "      <th>7</th>\n",
       "      <td>LHAASO J1908+0621</td>\n",
       "      <td>2HWC J1908+063</td>\n",
       "      <td>[2hwc]</td>\n",
       "      <td>[]</td>\n",
       "      <td>[]</td>\n",
       "      <td>[{'source_name': '2HWC J1908+063', 'ra': 287.0...</td>\n",
       "    </tr>\n",
       "    <tr>\n",
       "      <th>8</th>\n",
       "      <td>LHAASO J2226+6057</td>\n",
       "      <td>VER J2227+608</td>\n",
       "      <td>[]</td>\n",
       "      <td>[]</td>\n",
       "      <td>[]</td>\n",
       "      <td>[]</td>\n",
       "    </tr>\n",
       "    <tr>\n",
       "      <th>9</th>\n",
       "      <td>LHAASO J2226+6057</td>\n",
       "      <td>Boomerang</td>\n",
       "      <td>[3fgl, 4fgl]</td>\n",
       "      <td>[3fgl, 4fgl]</td>\n",
       "      <td>[FluxPointsDataset\\n-----------------\\n\\n  Nam...</td>\n",
       "      <td>[{'Source_Name': '3FGL J2229.0+6114 ', 'RAJ200...</td>\n",
       "    </tr>\n",
       "  </tbody>\n",
       "</table>\n",
       "</div>"
      ],
      "text/plain": [
       "              LHAASO   TeV Conterpart  \\\n",
       "0  LHAASO J1825-1326   HESS J1825-137   \n",
       "1  LHAASO J1825-1326   HESS J1826-130   \n",
       "2  LHAASO J1825-1326   2HWC J1825-134   \n",
       "3  LHAASO J1908+0621    MGRO J1908+06   \n",
       "4  LHAASO J1908+0621   HESS J1908+063   \n",
       "5  LHAASO J1908+0621  ARGO J1907+0627   \n",
       "6  LHAASO J1908+0621    VER J1907+062   \n",
       "7  LHAASO J1908+0621   2HWC J1908+063   \n",
       "8  LHAASO J2226+6057    VER J2227+608   \n",
       "9  LHAASO J2226+6057        Boomerang   \n",
       "\n",
       "                                     Catalog  \\\n",
       "0  [gamma-cat, hgps, 3fgl, 4fgl, 2fhl, 3fhl]   \n",
       "1              [gamma-cat, hgps, 4fgl, 3fhl]   \n",
       "2                                     [2hwc]   \n",
       "3                    [gamma-cat, 3fgl, 4fgl]   \n",
       "4                          [gamma-cat, hgps]   \n",
       "5                                [gamma-cat]   \n",
       "6                                [gamma-cat]   \n",
       "7                                     [2hwc]   \n",
       "8                                         []   \n",
       "9                               [3fgl, 4fgl]   \n",
       "\n",
       "                                 Flux Points  \\\n",
       "0  [gamma-cat, hgps, 3fgl, 4fgl, 2fhl, 3fhl]   \n",
       "1              [gamma-cat, hgps, 4fgl, 3fhl]   \n",
       "2                                         []   \n",
       "3                    [gamma-cat, 3fgl, 4fgl]   \n",
       "4                          [gamma-cat, hgps]   \n",
       "5                                [gamma-cat]   \n",
       "6                                [gamma-cat]   \n",
       "7                                         []   \n",
       "8                                         []   \n",
       "9                               [3fgl, 4fgl]   \n",
       "\n",
       "                                                  ds  \\\n",
       "0  [FluxPointsDataset\\n-----------------\\n\\n  Nam...   \n",
       "1  [FluxPointsDataset\\n-----------------\\n\\n  Nam...   \n",
       "2                                                 []   \n",
       "3  [FluxPointsDataset\\n-----------------\\n\\n  Nam...   \n",
       "4  [FluxPointsDataset\\n-----------------\\n\\n  Nam...   \n",
       "5  [FluxPointsDataset\\n-----------------\\n\\n  Nam...   \n",
       "6  [FluxPointsDataset\\n-----------------\\n\\n  Nam...   \n",
       "7                                                 []   \n",
       "8                                                 []   \n",
       "9  [FluxPointsDataset\\n-----------------\\n\\n  Nam...   \n",
       "\n",
       "                                                 src  \n",
       "0  [{'source_id': 118, 'common_name': 'HESS J1825...  \n",
       "1  [{'source_id': 161, 'common_name': 'HESS J1826...  \n",
       "2  [{'source_name': '2HWC J1825-134', 'ra': 276.4...  \n",
       "3  [{'source_id': 132, 'common_name': 'MGRO J1908...  \n",
       "4  [{'source_id': 132, 'common_name': 'MGRO J1908...  \n",
       "5  [{'source_id': 132, 'common_name': 'MGRO J1908...  \n",
       "6  [{'source_id': 132, 'common_name': 'MGRO J1908...  \n",
       "7  [{'source_name': '2HWC J1908+063', 'ra': 287.0...  \n",
       "8                                                 []  \n",
       "9  [{'Source_Name': '3FGL J2229.0+6114 ', 'RAJ200...  "
      ]
     },
     "execution_count": 13,
     "metadata": {},
     "output_type": "execute_result"
    }
   ],
   "source": [
    "df"
   ]
  },
  {
   "cell_type": "code",
   "execution_count": null,
   "id": "4d254073",
   "metadata": {},
   "outputs": [],
   "source": []
  },
  {
   "cell_type": "code",
   "execution_count": null,
   "id": "d610d96e",
   "metadata": {},
   "outputs": [],
   "source": []
  },
  {
   "cell_type": "code",
   "execution_count": null,
   "id": "c198a222",
   "metadata": {},
   "outputs": [],
   "source": []
  },
  {
   "cell_type": "code",
   "execution_count": null,
   "id": "b368b4e6",
   "metadata": {},
   "outputs": [],
   "source": []
  },
  {
   "cell_type": "markdown",
   "id": "d44d2ef0",
   "metadata": {},
   "source": [
    "####### \n"
   ]
  },
  {
   "cell_type": "code",
   "execution_count": null,
   "id": "bd1241c6",
   "metadata": {},
   "outputs": [],
   "source": []
  },
  {
   "cell_type": "code",
   "execution_count": 14,
   "id": "c98bb461",
   "metadata": {},
   "outputs": [],
   "source": [
    "# to select a source object index\n",
    "src_index = 0"
   ]
  },
  {
   "cell_type": "code",
   "execution_count": 15,
   "id": "8f39eca8",
   "metadata": {},
   "outputs": [],
   "source": [
    "LHAASO_id = df[\"LHAASO\"][src_index].replace(\" \", \"\")"
   ]
  },
  {
   "cell_type": "code",
   "execution_count": 16,
   "id": "934f10e6",
   "metadata": {},
   "outputs": [],
   "source": [
    "source_id = df[\"TeV Conterpart\"][src_index].replace(\" \", \"\")"
   ]
  },
  {
   "cell_type": "code",
   "execution_count": 17,
   "id": "39e23f16",
   "metadata": {},
   "outputs": [
    {
     "data": {
      "text/plain": [
       "[<gammapy.datasets.flux_points.FluxPointsDataset at 0x7f561f888790>,\n",
       " <gammapy.datasets.flux_points.FluxPointsDataset at 0x7f561f9ef0a0>,\n",
       " <gammapy.datasets.flux_points.FluxPointsDataset at 0x7f562170a700>,\n",
       " <gammapy.datasets.flux_points.FluxPointsDataset at 0x7f562eccdf10>,\n",
       " <gammapy.datasets.flux_points.FluxPointsDataset at 0x7f561f83bc10>,\n",
       " <gammapy.datasets.flux_points.FluxPointsDataset at 0x7f562eccd7f0>]"
      ]
     },
     "execution_count": 17,
     "metadata": {},
     "output_type": "execute_result"
    }
   ],
   "source": [
    "ds_lst[src_index]"
   ]
  },
  {
   "cell_type": "code",
   "execution_count": 18,
   "id": "0f66ee3f",
   "metadata": {},
   "outputs": [],
   "source": [
    "catalog_tag = catalog_tags[0]"
   ]
  },
  {
   "cell_type": "code",
   "execution_count": 19,
   "id": "1b9aa2b1",
   "metadata": {},
   "outputs": [],
   "source": [
    "file_name = f'{LHAASO_id}_{source_id}_{catalog_tag}.fits'"
   ]
  },
  {
   "cell_type": "code",
   "execution_count": 20,
   "id": "785abde1",
   "metadata": {},
   "outputs": [
    {
     "data": {
      "text/plain": [
       "'LHAASOJ1825-1326_HESSJ1825-137_gamma-cat.fits'"
      ]
     },
     "execution_count": 20,
     "metadata": {},
     "output_type": "execute_result"
    }
   ],
   "source": [
    "file_name"
   ]
  },
  {
   "cell_type": "code",
   "execution_count": 21,
   "id": "4d2eb8d1",
   "metadata": {},
   "outputs": [
    {
     "data": {
      "text/plain": [
       "PosixPath('catalogs_data/flux_points_table/LHAASOJ1825-1326_HESSJ1825-137_gamma-cat.fits')"
      ]
     },
     "execution_count": 21,
     "metadata": {},
     "output_type": "execute_result"
    }
   ],
   "source": [
    "# from astropy import units as u\n",
    "from astropy.table import Table\n",
    "from gammapy.estimators import FluxPoints\n",
    "from gammapy.utils.scripts import make_path\n",
    "# path_flux_points = '/home/gamma/Documents/GitHub/gammapy/gammapy-notebooks/0.20.1/simulations/LHAASO/catalogs_data/flux_points'\n",
    "filename = make_path(f'{path_dir}/{file_name}')\n",
    "\n",
    "# table.write(filename,format=format_type, overwrite=True)\n",
    "filename"
   ]
  },
  {
   "cell_type": "code",
   "execution_count": 22,
   "id": "c03bec9d",
   "metadata": {},
   "outputs": [],
   "source": [
    "flux_unit = u.erg / (u.cm**2 * u.s)\n",
    "energy_unit = u.TeV"
   ]
  },
  {
   "cell_type": "code",
   "execution_count": 71,
   "id": "049f2d62",
   "metadata": {},
   "outputs": [
    {
     "name": "stderr",
     "output_type": "stream",
     "text": [
      "No reference model set for FluxMaps. Assuming point source with E^-2 spectrum.\n"
     ]
    },
    {
     "data": {
      "text/html": [
       "<div><i>Table length=11</i>\n",
       "<table id=\"table140007814863840\" class=\"table-striped table-bordered table-condensed\">\n",
       "<thead><tr><th>e_ref</th><th>e2dnde</th><th>e2dnde_errp</th><th>e2dnde_errn</th><th>is_ul</th></tr></thead>\n",
       "<thead><tr><th>TeV</th><th>TeV / (cm2 s)</th><th>TeV / (cm2 s)</th><th>TeV / (cm2 s)</th><th></th></tr></thead>\n",
       "<thead><tr><th>float64</th><th>float64</th><th>float64</th><th>float64</th><th>bool</th></tr></thead>\n",
       "<tr><td>0.27761900424957275</td><td>2.6479734514473474e-11</td><td>1.736030761165361e-12</td><td>1.7353678807888707e-12</td><td>False</td></tr>\n",
       "<tr><td>0.4302450120449066</td><td>2.4009052019210835e-11</td><td>9.936153475961044e-13</td><td>9.9308229503768e-13</td><td>False</td></tr>\n",
       "<tr><td>0.6917189955711365</td><td>2.3759736432297907e-11</td><td>8.061445508076921e-13</td><td>8.054028741777694e-13</td><td>False</td></tr>\n",
       "<tr><td>1.114240050315857</td><td>1.9967293021000508e-11</td><td>7.488380592888212e-13</td><td>7.47777759565541e-13</td><td>False</td></tr>\n",
       "<tr><td>1.79312002658844</td><td>1.6199348761020104e-11</td><td>7.621691458852759e-13</td><td>7.60780144028183e-13</td><td>False</td></tr>\n",
       "<tr><td>2.888400077819824</td><td>1.5246567170533285e-11</td><td>8.220431818929284e-13</td><td>8.199641666765424e-13</td><td>False</td></tr>\n",
       "<tr><td>4.652699947357178</td><td>1.0900050755492023e-11</td><td>9.098255369876038e-13</td><td>9.073014428927898e-13</td><td>False</td></tr>\n",
       "<tr><td>7.501949787139891</td><td>8.25903664302632e-12</td><td>9.91398403859822e-13</td><td>9.876333019451728e-13</td><td>False</td></tr>\n",
       "<tr><td>12.084300041198729</td><td>7.360350812019913e-12</td><td>1.0512985204965873e-12</td><td>1.0445430556064622e-12</td><td>False</td></tr>\n",
       "<tr><td>19.46570014953613</td><td>5.067702742796993e-12</td><td>1.1693762752942223e-12</td><td>1.1591304378581962e-12</td><td>False</td></tr>\n",
       "<tr><td>31.386100769042965</td><td>2.289530110936902e-12</td><td>1.0915456814760415e-12</td><td>1.0766117735109943e-12</td><td>False</td></tr>\n",
       "</table></div>"
      ],
      "text/plain": [
       "<Table length=11>\n",
       "       e_ref                e2dnde         ...      e2dnde_errn       is_ul\n",
       "        TeV             TeV / (cm2 s)      ...     TeV / (cm2 s)           \n",
       "      float64              float64         ...        float64          bool\n",
       "------------------- ---------------------- ... ---------------------- -----\n",
       "0.27761900424957275 2.6479734514473474e-11 ... 1.7353678807888707e-12 False\n",
       " 0.4302450120449066 2.4009052019210835e-11 ...    9.9308229503768e-13 False\n",
       " 0.6917189955711365 2.3759736432297907e-11 ...  8.054028741777694e-13 False\n",
       "  1.114240050315857 1.9967293021000508e-11 ...   7.47777759565541e-13 False\n",
       "   1.79312002658844 1.6199348761020104e-11 ...   7.60780144028183e-13 False\n",
       "  2.888400077819824 1.5246567170533285e-11 ...  8.199641666765424e-13 False\n",
       "  4.652699947357178 1.0900050755492023e-11 ...  9.073014428927898e-13 False\n",
       "  7.501949787139891   8.25903664302632e-12 ...  9.876333019451728e-13 False\n",
       " 12.084300041198729  7.360350812019913e-12 ... 1.0445430556064622e-12 False\n",
       "  19.46570014953613  5.067702742796993e-12 ... 1.1591304378581962e-12 False\n",
       " 31.386100769042965  2.289530110936902e-12 ... 1.0766117735109943e-12 False"
      ]
     },
     "execution_count": 71,
     "metadata": {},
     "output_type": "execute_result"
    }
   ],
   "source": [
    "flux_points = FluxPoints.read(filename)\n",
    "flux_points.to_table()"
   ]
  },
  {
   "cell_type": "code",
   "execution_count": 65,
   "id": "e2e0d865",
   "metadata": {},
   "outputs": [
    {
     "data": {
      "text/latex": [
       "$[0.277619,~0.43024501,~0.691719,~1.1142401,~1.79312,~2.8884001,~4.6526999,~7.5019498,~12.0843,~19.4657,~31.386101] \\; \\mathrm{TeV}$"
      ],
      "text/plain": [
       "<Quantity [ 0.277619  ,  0.43024501,  0.691719  ,  1.11424005,  1.79312003,\n",
       "            2.88840008,  4.65269995,  7.50194979, 12.08430004, 19.46570015,\n",
       "           31.38610077] TeV>"
      ]
     },
     "execution_count": 65,
     "metadata": {},
     "output_type": "execute_result"
    }
   ],
   "source": [
    "flux_points.energy_ref"
   ]
  },
  {
   "cell_type": "code",
   "execution_count": 68,
   "id": "bbefc556",
   "metadata": {},
   "outputs": [
    {
     "name": "stdout",
     "output_type": "stream",
     "text": [
      "19.46570014953613 TeV\n",
      "31.386100769042965 TeV\n"
     ]
    }
   ],
   "source": [
    "import numpy as np\n",
    "flux_points_new = np.zeros(len(flux_points.to_table()), dtype=bool)\n",
    "for k, e_ref in enumerate(flux_points.energy_ref):\n",
    "    if e_ref > 15 * u.Unit(\"TeV\"):\n",
    "        flux_points_new[k] = True\n",
    "        print(f\"{e_ref}\")"
   ]
  },
  {
   "cell_type": "code",
   "execution_count": 72,
   "id": "4966044e",
   "metadata": {},
   "outputs": [
    {
     "ename": "TypeError",
     "evalue": "getattr(): attribute name must be string",
     "output_type": "error",
     "traceback": [
      "\u001b[0;31m---------------------------------------------------------------------------\u001b[0m",
      "\u001b[0;31mTypeError\u001b[0m                                 Traceback (most recent call last)",
      "Input \u001b[0;32mIn [72]\u001b[0m, in \u001b[0;36m<cell line: 1>\u001b[0;34m()\u001b[0m\n\u001b[0;32m----> 1\u001b[0m catalog_3fhl_bright \u001b[38;5;241m=\u001b[39m \u001b[43mflux_points\u001b[49m\u001b[43m[\u001b[49m\u001b[43mflux_points_new\u001b[49m\u001b[43m]\u001b[49m\n\u001b[1;32m      2\u001b[0m \u001b[38;5;28mprint\u001b[39m(catalog_3fhl_bright)\n",
      "File \u001b[0;32m~/anaconda3/envs/gammapy-1.0/lib/python3.9/site-packages/gammapy/estimators/map/core.py:1090\u001b[0m, in \u001b[0;36mFluxMaps.__getitem__\u001b[0;34m(self, item)\u001b[0m\n\u001b[1;32m   1089\u001b[0m \u001b[38;5;28;01mdef\u001b[39;00m \u001b[38;5;21m__getitem__\u001b[39m(\u001b[38;5;28mself\u001b[39m, item):\n\u001b[0;32m-> 1090\u001b[0m     \u001b[38;5;28;01mreturn\u001b[39;00m \u001b[38;5;28;43mgetattr\u001b[39;49m\u001b[43m(\u001b[49m\u001b[38;5;28;43mself\u001b[39;49m\u001b[43m,\u001b[49m\u001b[43m \u001b[49m\u001b[43mitem\u001b[49m\u001b[43m)\u001b[49m\n",
      "\u001b[0;31mTypeError\u001b[0m: getattr(): attribute name must be string"
     ]
    }
   ],
   "source": [
    "catalog_3fhl_bright = flux_points[flux_points_new]\n",
    "print(catalog_3fhl_bright)"
   ]
  },
  {
   "cell_type": "code",
   "execution_count": 24,
   "id": "f8be6c7f",
   "metadata": {},
   "outputs": [
    {
     "data": {
      "text/plain": [
       "<AxesSubplot: xlabel='Energy [TeV]', ylabel='e2dnde [erg / (cm2 s)]'>"
      ]
     },
     "execution_count": 24,
     "metadata": {},
     "output_type": "execute_result"
    },
    {
     "data": {
      "image/png": "[encoded data removed]",
      "text/plain": [
       "<Figure size 640x480 with 1 Axes>"
      ]
     },
     "metadata": {},
     "output_type": "display_data"
    }
   ],
   "source": [
    "flux_points.plot(sed_type=\"e2dnde\") \n"
   ]
  },
  {
   "cell_type": "code",
   "execution_count": 25,
   "id": "7a08b797",
   "metadata": {},
   "outputs": [
    {
     "data": {
      "text/plain": [
       "<AxesSubplot: xlabel='Energy [TeV]', ylabel='e2dnde [erg / (cm2 s)]'>"
      ]
     },
     "execution_count": 25,
     "metadata": {},
     "output_type": "execute_result"
    },
    {
     "data": {
      "image/png": "[encoded data removed]",
      "text/plain": [
       "<Figure size 640x480 with 1 Axes>"
      ]
     },
     "metadata": {},
     "output_type": "display_data"
    }
   ],
   "source": [
    "flux_points.plot() \n"
   ]
  },
  {
   "cell_type": "code",
   "execution_count": 26,
   "id": "50442816",
   "metadata": {},
   "outputs": [
    {
     "data": {
      "image/png": "[encoded data removed]",
      "text/plain": [
       "<Figure size 640x480 with 1 Axes>"
      ]
     },
     "metadata": {},
     "output_type": "display_data"
    }
   ],
   "source": [
    "sed_type=\"e2dnde\"\n",
    "\n",
    "\n",
    "energy_bounds = [1e-7, 1e2] * energy_unit\n",
    "ylim = [1e-20, 1e-9]\n",
    "yaxis_units= flux_unit\n",
    "\n",
    "# flux_points = FluxPoints.read(filename)\n",
    "flux_points = ds_lst[4][0].data\n",
    "\n",
    "ax = plt.subplot()\n",
    "ax.yaxis.set_units(u.Unit(yaxis_units))\n",
    "ax.xaxis.set_units(u.Unit(energy_unit))\n",
    "\n",
    "kwargs = {\n",
    "    \"ax\": ax, \n",
    "    \"sed_type\": sed_type\n",
    "}    \n",
    "\n",
    "flux_points.plot(label=catalog_tag, **kwargs) \n",
    "\n",
    "ax.set_ylim(ylim)\n",
    "ax.set_xlim(energy_bounds)\n",
    "ax.legend()\n",
    "\n",
    "plt.title(f\"{LHAASO_id}: {source_id}\")\n",
    "\n",
    "# plt.savefig(file, bbox_inches='tight')\n",
    "plt.show()"
   ]
  },
  {
   "cell_type": "code",
   "execution_count": 27,
   "id": "45167d19",
   "metadata": {},
   "outputs": [],
   "source": [
    "# Setting the source to analasis {}\n",
    "src_index = 3\n",
    "\n",
    "LHAASO_name = list(dict(df[\"LHAASO\"]).values())[src_index]\n",
    "LHAASO_id = LHAASO_id.replace(\" \", \"\")\n",
    "\n",
    "source_name = list(dict(df[\"TeV Conterpart\"]).values())[src_index]\n",
    "source_id = source_name.replace(\" \", \"\")\n",
    "\n",
    "ds_src = ds_lst[src_index]\n",
    "datasets = Datasets(ds_src)"
   ]
  },
  {
   "cell_type": "code",
   "execution_count": 28,
   "id": "6f7eba96",
   "metadata": {
    "scrolled": true
   },
   "outputs": [
    {
     "name": "stdout",
     "output_type": "stream",
     "text": [
      "Directory 'catalogs_data/flux_points_images' created\n"
     ]
    },
    {
     "data": {
      "image/png": "[encoded data removed]",
      "text/plain": [
       "<Figure size 640x480 with 1 Axes>"
      ]
     },
     "metadata": {},
     "output_type": "display_data"
    }
   ],
   "source": [
    "energy_bounds = [1e-5, 1e3] * u.TeV\n",
    "ylim = [1e-13, 1e-9]\n",
    "print_SED(sed_type = \"e2dnde\", yaxis_units=\"erg cm-2 s-1\", energy_bounds=energy_bounds, ylim=ylim)"
   ]
  },
  {
   "cell_type": "code",
   "execution_count": null,
   "id": "a5ebf75d",
   "metadata": {},
   "outputs": [],
   "source": []
  },
  {
   "cell_type": "markdown",
   "id": "15dc8083",
   "metadata": {},
   "source": [
    "#########"
   ]
  },
  {
   "cell_type": "code",
   "execution_count": null,
   "id": "85a99ea1",
   "metadata": {},
   "outputs": [],
   "source": []
  },
  {
   "cell_type": "code",
   "execution_count": 29,
   "id": "50bcda23",
   "metadata": {},
   "outputs": [],
   "source": [
    "import pandas as pd \n",
    "from gammapy.datasets import FluxPointsDataset\n",
    "from gammapy.catalog import CATALOG_REGISTRY\n",
    "import os\n",
    "import sys\n",
    "\n",
    "# format_csv = \".csv\"\n",
    "format_fits = \".fits\"\n",
    "\n",
    "sed_type=\"e2dnde\"\n",
    "\n",
    "lst=[]\n",
    "ds_lst = []\n",
    "\n",
    "def get_source_data2(dict_lhaaso_tevc = dict_lhaaso_tevc, catalog_tags = catalog_tags):\n",
    "    '''To write Docstring!!!!'''\n",
    "    \n",
    "    i_range = range(len(dict_lhaaso_tevc.keys()))\n",
    "    for i in i_range:\n",
    "\n",
    "        LHAASO_name = list(dict_lhaaso_tevc.keys())[i]\n",
    "        LHAASO_id = LHAASO_name.replace(\" \", \"\")\n",
    "        \n",
    "        j_range = range(len(dict_lhaaso_tevc[LHAASO_name]))\n",
    "        for j in j_range:\n",
    "\n",
    "            catalog_src = []\n",
    "\n",
    "            pf_on = []\n",
    "            src_on = []\n",
    "\n",
    "            ds_j=[]\n",
    "\n",
    "            source_name = dict_lhaaso_tevc[LHAASO_name][j]\n",
    "            source_id = source_name.replace(\" \", \"\")\n",
    "            \n",
    "            k_range = range(len(catalog_tags))\n",
    "            for k in k_range: \n",
    "                \n",
    "                catalog_tag = catalog_tags[k]\n",
    "                catalog = CATALOG_REGISTRY.get_cls(catalog_tag)()\n",
    "                \n",
    "                try:\n",
    "                    \n",
    "                    src = catalog[source_name]\n",
    "                    src_on.append(src.data)\n",
    "                    catalog_src.append(catalog_tag)\n",
    "                    \n",
    "                    ds = FluxPointsDataset(\n",
    "                        data=src.flux_points, \n",
    "                        name=catalog_tag\n",
    "                    )\n",
    "                    \n",
    "                    ds_j.append(ds)\n",
    "                    pf_on.append(catalog_tag)\n",
    "\n",
    "                    table = ds.data.to_table(\n",
    "                        sed_type = sed_type, \n",
    "                        formatted = True\n",
    "                    )\n",
    "\n",
    "                    file_name = f'{LHAASO_id}_{source_id}_{catalog_tag}{format_fits}'\n",
    "                    path_os = os.path.abspath(\n",
    "                        os.path.join(\n",
    "                            f\"{path_dir}/{file_name}\"\n",
    "                        )\n",
    "                    )\n",
    "                    \n",
    "                    \n",
    "                    if path_os not in sys.path:\n",
    "                        sys.path.append(path_os)\n",
    "\n",
    "                    #table.write(f\"{path_os}{format_csv}\",format='ascii.ecsv', overwrite=True)\n",
    "                    table.write(f\"{path_os}\",format='fits', overwrite=True)\n",
    "                    \n",
    "                except:\n",
    "                    pass\n",
    "\n",
    "                lst_k = [LHAASO_name, LHAASO_id, source_name, source_id, catalog_src, pf_on, ds_j, src_on]\n",
    "            lst.append(lst_k)\n",
    "            ds_lst.append(ds_j)\n",
    "\n",
    "    df = pd.DataFrame(lst, columns =['LHAASO', \"LHAASO_id\",'SOURCE', \"SOURCE_id\", 'CATOLOG', 'FLUXPOINTS', 'DATASET', 'SOURCE_data']) \n",
    "    df.index.name='source_index'\n",
    "    df.to_csv(f\"{path_dir}/data_frame_flux_points.csv\", index = \"True\" )\n",
    "    return df, ds_lst"
   ]
  },
  {
   "cell_type": "code",
   "execution_count": 30,
   "id": "3e249b3d",
   "metadata": {},
   "outputs": [],
   "source": [
    "df, ds_lst = get_source_data2(dict_lhaaso_tevc, catalog_tags)"
   ]
  },
  {
   "cell_type": "code",
   "execution_count": 31,
   "id": "3c13bc19",
   "metadata": {},
   "outputs": [
    {
     "data": {
      "text/html": [
       "<div>\n",
       "<style scoped>\n",
       "    .dataframe tbody tr th:only-of-type {\n",
       "        vertical-align: middle;\n",
       "    }\n",
       "\n",
       "    .dataframe tbody tr th {\n",
       "        vertical-align: top;\n",
       "    }\n",
       "\n",
       "    .dataframe thead th {\n",
       "        text-align: right;\n",
       "    }\n",
       "</style>\n",
       "<table border=\"1\" class=\"dataframe\">\n",
       "  <thead>\n",
       "    <tr style=\"text-align: right;\">\n",
       "      <th></th>\n",
       "      <th>LHAASO</th>\n",
       "      <th>LHAASO_id</th>\n",
       "      <th>SOURCE</th>\n",
       "      <th>SOURCE_id</th>\n",
       "      <th>CATOLOG</th>\n",
       "      <th>FLUXPOINTS</th>\n",
       "      <th>DATASET</th>\n",
       "      <th>SOURCE_data</th>\n",
       "    </tr>\n",
       "    <tr>\n",
       "      <th>source_index</th>\n",
       "      <th></th>\n",
       "      <th></th>\n",
       "      <th></th>\n",
       "      <th></th>\n",
       "      <th></th>\n",
       "      <th></th>\n",
       "      <th></th>\n",
       "      <th></th>\n",
       "    </tr>\n",
       "  </thead>\n",
       "  <tbody>\n",
       "    <tr>\n",
       "      <th>0</th>\n",
       "      <td>LHAASO J1825-1326</td>\n",
       "      <td>LHAASOJ1825-1326</td>\n",
       "      <td>HESS J1825-137</td>\n",
       "      <td>HESSJ1825-137</td>\n",
       "      <td>[gamma-cat, hgps, 3fgl, 4fgl, 2fhl, 3fhl]</td>\n",
       "      <td>[gamma-cat, hgps, 3fgl, 4fgl, 2fhl, 3fhl]</td>\n",
       "      <td>[FluxPointsDataset\\n-----------------\\n\\n  Nam...</td>\n",
       "      <td>[{'source_id': 118, 'common_name': 'HESS J1825...</td>\n",
       "    </tr>\n",
       "    <tr>\n",
       "      <th>1</th>\n",
       "      <td>LHAASO J1825-1326</td>\n",
       "      <td>LHAASOJ1825-1326</td>\n",
       "      <td>HESS J1826-130</td>\n",
       "      <td>HESSJ1826-130</td>\n",
       "      <td>[gamma-cat, hgps, 4fgl, 3fhl]</td>\n",
       "      <td>[gamma-cat, hgps, 4fgl, 3fhl]</td>\n",
       "      <td>[FluxPointsDataset\\n-----------------\\n\\n  Nam...</td>\n",
       "      <td>[{'source_id': 161, 'common_name': 'HESS J1826...</td>\n",
       "    </tr>\n",
       "    <tr>\n",
       "      <th>2</th>\n",
       "      <td>LHAASO J1825-1326</td>\n",
       "      <td>LHAASOJ1825-1326</td>\n",
       "      <td>2HWC J1825-134</td>\n",
       "      <td>2HWCJ1825-134</td>\n",
       "      <td>[2hwc]</td>\n",
       "      <td>[]</td>\n",
       "      <td>[]</td>\n",
       "      <td>[{'source_name': '2HWC J1825-134', 'ra': 276.4...</td>\n",
       "    </tr>\n",
       "    <tr>\n",
       "      <th>3</th>\n",
       "      <td>LHAASO J1908+0621</td>\n",
       "      <td>LHAASOJ1908+0621</td>\n",
       "      <td>MGRO J1908+06</td>\n",
       "      <td>MGROJ1908+06</td>\n",
       "      <td>[gamma-cat, 3fgl, 4fgl]</td>\n",
       "      <td>[gamma-cat, 3fgl, 4fgl]</td>\n",
       "      <td>[FluxPointsDataset\\n-----------------\\n\\n  Nam...</td>\n",
       "      <td>[{'source_id': 132, 'common_name': 'MGRO J1908...</td>\n",
       "    </tr>\n",
       "    <tr>\n",
       "      <th>4</th>\n",
       "      <td>LHAASO J1908+0621</td>\n",
       "      <td>LHAASOJ1908+0621</td>\n",
       "      <td>HESS J1908+063</td>\n",
       "      <td>HESSJ1908+063</td>\n",
       "      <td>[gamma-cat, hgps]</td>\n",
       "      <td>[gamma-cat, hgps]</td>\n",
       "      <td>[FluxPointsDataset\\n-----------------\\n\\n  Nam...</td>\n",
       "      <td>[{'source_id': 132, 'common_name': 'MGRO J1908...</td>\n",
       "    </tr>\n",
       "    <tr>\n",
       "      <th>5</th>\n",
       "      <td>LHAASO J1908+0621</td>\n",
       "      <td>LHAASOJ1908+0621</td>\n",
       "      <td>ARGO J1907+0627</td>\n",
       "      <td>ARGOJ1907+0627</td>\n",
       "      <td>[gamma-cat]</td>\n",
       "      <td>[gamma-cat]</td>\n",
       "      <td>[FluxPointsDataset\\n-----------------\\n\\n  Nam...</td>\n",
       "      <td>[{'source_id': 132, 'common_name': 'MGRO J1908...</td>\n",
       "    </tr>\n",
       "    <tr>\n",
       "      <th>6</th>\n",
       "      <td>LHAASO J1908+0621</td>\n",
       "      <td>LHAASOJ1908+0621</td>\n",
       "      <td>VER J1907+062</td>\n",
       "      <td>VERJ1907+062</td>\n",
       "      <td>[gamma-cat]</td>\n",
       "      <td>[gamma-cat]</td>\n",
       "      <td>[FluxPointsDataset\\n-----------------\\n\\n  Nam...</td>\n",
       "      <td>[{'source_id': 132, 'common_name': 'MGRO J1908...</td>\n",
       "    </tr>\n",
       "    <tr>\n",
       "      <th>7</th>\n",
       "      <td>LHAASO J1908+0621</td>\n",
       "      <td>LHAASOJ1908+0621</td>\n",
       "      <td>2HWC J1908+063</td>\n",
       "      <td>2HWCJ1908+063</td>\n",
       "      <td>[2hwc]</td>\n",
       "      <td>[]</td>\n",
       "      <td>[]</td>\n",
       "      <td>[{'source_name': '2HWC J1908+063', 'ra': 287.0...</td>\n",
       "    </tr>\n",
       "    <tr>\n",
       "      <th>8</th>\n",
       "      <td>LHAASO J2226+6057</td>\n",
       "      <td>LHAASOJ2226+6057</td>\n",
       "      <td>VER J2227+608</td>\n",
       "      <td>VERJ2227+608</td>\n",
       "      <td>[]</td>\n",
       "      <td>[]</td>\n",
       "      <td>[]</td>\n",
       "      <td>[]</td>\n",
       "    </tr>\n",
       "    <tr>\n",
       "      <th>9</th>\n",
       "      <td>LHAASO J2226+6057</td>\n",
       "      <td>LHAASOJ2226+6057</td>\n",
       "      <td>Boomerang</td>\n",
       "      <td>Boomerang</td>\n",
       "      <td>[3fgl, 4fgl]</td>\n",
       "      <td>[3fgl, 4fgl]</td>\n",
       "      <td>[FluxPointsDataset\\n-----------------\\n\\n  Nam...</td>\n",
       "      <td>[{'Source_Name': '3FGL J2229.0+6114 ', 'RAJ200...</td>\n",
       "    </tr>\n",
       "  </tbody>\n",
       "</table>\n",
       "</div>"
      ],
      "text/plain": [
       "                         LHAASO         LHAASO_id           SOURCE  \\\n",
       "source_index                                                         \n",
       "0             LHAASO J1825-1326  LHAASOJ1825-1326   HESS J1825-137   \n",
       "1             LHAASO J1825-1326  LHAASOJ1825-1326   HESS J1826-130   \n",
       "2             LHAASO J1825-1326  LHAASOJ1825-1326   2HWC J1825-134   \n",
       "3             LHAASO J1908+0621  LHAASOJ1908+0621    MGRO J1908+06   \n",
       "4             LHAASO J1908+0621  LHAASOJ1908+0621   HESS J1908+063   \n",
       "5             LHAASO J1908+0621  LHAASOJ1908+0621  ARGO J1907+0627   \n",
       "6             LHAASO J1908+0621  LHAASOJ1908+0621    VER J1907+062   \n",
       "7             LHAASO J1908+0621  LHAASOJ1908+0621   2HWC J1908+063   \n",
       "8             LHAASO J2226+6057  LHAASOJ2226+6057    VER J2227+608   \n",
       "9             LHAASO J2226+6057  LHAASOJ2226+6057        Boomerang   \n",
       "\n",
       "                   SOURCE_id                                    CATOLOG  \\\n",
       "source_index                                                              \n",
       "0              HESSJ1825-137  [gamma-cat, hgps, 3fgl, 4fgl, 2fhl, 3fhl]   \n",
       "1              HESSJ1826-130              [gamma-cat, hgps, 4fgl, 3fhl]   \n",
       "2              2HWCJ1825-134                                     [2hwc]   \n",
       "3               MGROJ1908+06                    [gamma-cat, 3fgl, 4fgl]   \n",
       "4              HESSJ1908+063                          [gamma-cat, hgps]   \n",
       "5             ARGOJ1907+0627                                [gamma-cat]   \n",
       "6               VERJ1907+062                                [gamma-cat]   \n",
       "7              2HWCJ1908+063                                     [2hwc]   \n",
       "8               VERJ2227+608                                         []   \n",
       "9                  Boomerang                               [3fgl, 4fgl]   \n",
       "\n",
       "                                             FLUXPOINTS  \\\n",
       "source_index                                              \n",
       "0             [gamma-cat, hgps, 3fgl, 4fgl, 2fhl, 3fhl]   \n",
       "1                         [gamma-cat, hgps, 4fgl, 3fhl]   \n",
       "2                                                    []   \n",
       "3                               [gamma-cat, 3fgl, 4fgl]   \n",
       "4                                     [gamma-cat, hgps]   \n",
       "5                                           [gamma-cat]   \n",
       "6                                           [gamma-cat]   \n",
       "7                                                    []   \n",
       "8                                                    []   \n",
       "9                                          [3fgl, 4fgl]   \n",
       "\n",
       "                                                        DATASET  \\\n",
       "source_index                                                      \n",
       "0             [FluxPointsDataset\\n-----------------\\n\\n  Nam...   \n",
       "1             [FluxPointsDataset\\n-----------------\\n\\n  Nam...   \n",
       "2                                                            []   \n",
       "3             [FluxPointsDataset\\n-----------------\\n\\n  Nam...   \n",
       "4             [FluxPointsDataset\\n-----------------\\n\\n  Nam...   \n",
       "5             [FluxPointsDataset\\n-----------------\\n\\n  Nam...   \n",
       "6             [FluxPointsDataset\\n-----------------\\n\\n  Nam...   \n",
       "7                                                            []   \n",
       "8                                                            []   \n",
       "9             [FluxPointsDataset\\n-----------------\\n\\n  Nam...   \n",
       "\n",
       "                                                    SOURCE_data  \n",
       "source_index                                                     \n",
       "0             [{'source_id': 118, 'common_name': 'HESS J1825...  \n",
       "1             [{'source_id': 161, 'common_name': 'HESS J1826...  \n",
       "2             [{'source_name': '2HWC J1825-134', 'ra': 276.4...  \n",
       "3             [{'source_id': 132, 'common_name': 'MGRO J1908...  \n",
       "4             [{'source_id': 132, 'common_name': 'MGRO J1908...  \n",
       "5             [{'source_id': 132, 'common_name': 'MGRO J1908...  \n",
       "6             [{'source_id': 132, 'common_name': 'MGRO J1908...  \n",
       "7             [{'source_name': '2HWC J1908+063', 'ra': 287.0...  \n",
       "8                                                            []  \n",
       "9             [{'Source_Name': '3FGL J2229.0+6114 ', 'RAJ200...  "
      ]
     },
     "execution_count": 31,
     "metadata": {},
     "output_type": "execute_result"
    }
   ],
   "source": [
    "df"
   ]
  },
  {
   "cell_type": "code",
   "execution_count": 56,
   "id": "8d83dba9",
   "metadata": {},
   "outputs": [],
   "source": [
    "df_n = df.drop(labels=[2,7,8], axis=0)\n",
    "df_n=df_n.reset_index(drop=True)\n",
    "df_n.index.name='source_index'"
   ]
  },
  {
   "cell_type": "code",
   "execution_count": 57,
   "id": "fb71fb12",
   "metadata": {},
   "outputs": [
    {
     "data": {
      "text/html": [
       "<div>\n",
       "<style scoped>\n",
       "    .dataframe tbody tr th:only-of-type {\n",
       "        vertical-align: middle;\n",
       "    }\n",
       "\n",
       "    .dataframe tbody tr th {\n",
       "        vertical-align: top;\n",
       "    }\n",
       "\n",
       "    .dataframe thead th {\n",
       "        text-align: right;\n",
       "    }\n",
       "</style>\n",
       "<table border=\"1\" class=\"dataframe\">\n",
       "  <thead>\n",
       "    <tr style=\"text-align: right;\">\n",
       "      <th></th>\n",
       "      <th>LHAASO</th>\n",
       "      <th>LHAASO_id</th>\n",
       "      <th>SOURCE</th>\n",
       "      <th>SOURCE_id</th>\n",
       "      <th>CATOLOG</th>\n",
       "      <th>FLUXPOINTS</th>\n",
       "      <th>DATASET</th>\n",
       "      <th>SOURCE_data</th>\n",
       "    </tr>\n",
       "    <tr>\n",
       "      <th>source_index</th>\n",
       "      <th></th>\n",
       "      <th></th>\n",
       "      <th></th>\n",
       "      <th></th>\n",
       "      <th></th>\n",
       "      <th></th>\n",
       "      <th></th>\n",
       "      <th></th>\n",
       "    </tr>\n",
       "  </thead>\n",
       "  <tbody>\n",
       "    <tr>\n",
       "      <th>0</th>\n",
       "      <td>LHAASO J1825-1326</td>\n",
       "      <td>LHAASOJ1825-1326</td>\n",
       "      <td>HESS J1825-137</td>\n",
       "      <td>HESSJ1825-137</td>\n",
       "      <td>[gamma-cat, hgps, 3fgl, 4fgl, 2fhl, 3fhl]</td>\n",
       "      <td>[gamma-cat, hgps, 3fgl, 4fgl, 2fhl, 3fhl]</td>\n",
       "      <td>[FluxPointsDataset\\n-----------------\\n\\n  Nam...</td>\n",
       "      <td>[{'source_id': 118, 'common_name': 'HESS J1825...</td>\n",
       "    </tr>\n",
       "    <tr>\n",
       "      <th>1</th>\n",
       "      <td>LHAASO J1825-1326</td>\n",
       "      <td>LHAASOJ1825-1326</td>\n",
       "      <td>HESS J1826-130</td>\n",
       "      <td>HESSJ1826-130</td>\n",
       "      <td>[gamma-cat, hgps, 4fgl, 3fhl]</td>\n",
       "      <td>[gamma-cat, hgps, 4fgl, 3fhl]</td>\n",
       "      <td>[FluxPointsDataset\\n-----------------\\n\\n  Nam...</td>\n",
       "      <td>[{'source_id': 161, 'common_name': 'HESS J1826...</td>\n",
       "    </tr>\n",
       "    <tr>\n",
       "      <th>2</th>\n",
       "      <td>LHAASO J1908+0621</td>\n",
       "      <td>LHAASOJ1908+0621</td>\n",
       "      <td>MGRO J1908+06</td>\n",
       "      <td>MGROJ1908+06</td>\n",
       "      <td>[gamma-cat, 3fgl, 4fgl]</td>\n",
       "      <td>[gamma-cat, 3fgl, 4fgl]</td>\n",
       "      <td>[FluxPointsDataset\\n-----------------\\n\\n  Nam...</td>\n",
       "      <td>[{'source_id': 132, 'common_name': 'MGRO J1908...</td>\n",
       "    </tr>\n",
       "    <tr>\n",
       "      <th>3</th>\n",
       "      <td>LHAASO J1908+0621</td>\n",
       "      <td>LHAASOJ1908+0621</td>\n",
       "      <td>HESS J1908+063</td>\n",
       "      <td>HESSJ1908+063</td>\n",
       "      <td>[gamma-cat, hgps]</td>\n",
       "      <td>[gamma-cat, hgps]</td>\n",
       "      <td>[FluxPointsDataset\\n-----------------\\n\\n  Nam...</td>\n",
       "      <td>[{'source_id': 132, 'common_name': 'MGRO J1908...</td>\n",
       "    </tr>\n",
       "    <tr>\n",
       "      <th>4</th>\n",
       "      <td>LHAASO J1908+0621</td>\n",
       "      <td>LHAASOJ1908+0621</td>\n",
       "      <td>ARGO J1907+0627</td>\n",
       "      <td>ARGOJ1907+0627</td>\n",
       "      <td>[gamma-cat]</td>\n",
       "      <td>[gamma-cat]</td>\n",
       "      <td>[FluxPointsDataset\\n-----------------\\n\\n  Nam...</td>\n",
       "      <td>[{'source_id': 132, 'common_name': 'MGRO J1908...</td>\n",
       "    </tr>\n",
       "    <tr>\n",
       "      <th>5</th>\n",
       "      <td>LHAASO J1908+0621</td>\n",
       "      <td>LHAASOJ1908+0621</td>\n",
       "      <td>VER J1907+062</td>\n",
       "      <td>VERJ1907+062</td>\n",
       "      <td>[gamma-cat]</td>\n",
       "      <td>[gamma-cat]</td>\n",
       "      <td>[FluxPointsDataset\\n-----------------\\n\\n  Nam...</td>\n",
       "      <td>[{'source_id': 132, 'common_name': 'MGRO J1908...</td>\n",
       "    </tr>\n",
       "    <tr>\n",
       "      <th>6</th>\n",
       "      <td>LHAASO J2226+6057</td>\n",
       "      <td>LHAASOJ2226+6057</td>\n",
       "      <td>Boomerang</td>\n",
       "      <td>Boomerang</td>\n",
       "      <td>[3fgl, 4fgl]</td>\n",
       "      <td>[3fgl, 4fgl]</td>\n",
       "      <td>[FluxPointsDataset\\n-----------------\\n\\n  Nam...</td>\n",
       "      <td>[{'Source_Name': '3FGL J2229.0+6114 ', 'RAJ200...</td>\n",
       "    </tr>\n",
       "  </tbody>\n",
       "</table>\n",
       "</div>"
      ],
      "text/plain": [
       "                         LHAASO         LHAASO_id           SOURCE  \\\n",
       "source_index                                                         \n",
       "0             LHAASO J1825-1326  LHAASOJ1825-1326   HESS J1825-137   \n",
       "1             LHAASO J1825-1326  LHAASOJ1825-1326   HESS J1826-130   \n",
       "2             LHAASO J1908+0621  LHAASOJ1908+0621    MGRO J1908+06   \n",
       "3             LHAASO J1908+0621  LHAASOJ1908+0621   HESS J1908+063   \n",
       "4             LHAASO J1908+0621  LHAASOJ1908+0621  ARGO J1907+0627   \n",
       "5             LHAASO J1908+0621  LHAASOJ1908+0621    VER J1907+062   \n",
       "6             LHAASO J2226+6057  LHAASOJ2226+6057        Boomerang   \n",
       "\n",
       "                   SOURCE_id                                    CATOLOG  \\\n",
       "source_index                                                              \n",
       "0              HESSJ1825-137  [gamma-cat, hgps, 3fgl, 4fgl, 2fhl, 3fhl]   \n",
       "1              HESSJ1826-130              [gamma-cat, hgps, 4fgl, 3fhl]   \n",
       "2               MGROJ1908+06                    [gamma-cat, 3fgl, 4fgl]   \n",
       "3              HESSJ1908+063                          [gamma-cat, hgps]   \n",
       "4             ARGOJ1907+0627                                [gamma-cat]   \n",
       "5               VERJ1907+062                                [gamma-cat]   \n",
       "6                  Boomerang                               [3fgl, 4fgl]   \n",
       "\n",
       "                                             FLUXPOINTS  \\\n",
       "source_index                                              \n",
       "0             [gamma-cat, hgps, 3fgl, 4fgl, 2fhl, 3fhl]   \n",
       "1                         [gamma-cat, hgps, 4fgl, 3fhl]   \n",
       "2                               [gamma-cat, 3fgl, 4fgl]   \n",
       "3                                     [gamma-cat, hgps]   \n",
       "4                                           [gamma-cat]   \n",
       "5                                           [gamma-cat]   \n",
       "6                                          [3fgl, 4fgl]   \n",
       "\n",
       "                                                        DATASET  \\\n",
       "source_index                                                      \n",
       "0             [FluxPointsDataset\\n-----------------\\n\\n  Nam...   \n",
       "1             [FluxPointsDataset\\n-----------------\\n\\n  Nam...   \n",
       "2             [FluxPointsDataset\\n-----------------\\n\\n  Nam...   \n",
       "3             [FluxPointsDataset\\n-----------------\\n\\n  Nam...   \n",
       "4             [FluxPointsDataset\\n-----------------\\n\\n  Nam...   \n",
       "5             [FluxPointsDataset\\n-----------------\\n\\n  Nam...   \n",
       "6             [FluxPointsDataset\\n-----------------\\n\\n  Nam...   \n",
       "\n",
       "                                                    SOURCE_data  \n",
       "source_index                                                     \n",
       "0             [{'source_id': 118, 'common_name': 'HESS J1825...  \n",
       "1             [{'source_id': 161, 'common_name': 'HESS J1826...  \n",
       "2             [{'source_id': 132, 'common_name': 'MGRO J1908...  \n",
       "3             [{'source_id': 132, 'common_name': 'MGRO J1908...  \n",
       "4             [{'source_id': 132, 'common_name': 'MGRO J1908...  \n",
       "5             [{'source_id': 132, 'common_name': 'MGRO J1908...  \n",
       "6             [{'Source_Name': '3FGL J2229.0+6114 ', 'RAJ200...  "
      ]
     },
     "execution_count": 57,
     "metadata": {},
     "output_type": "execute_result"
    }
   ],
   "source": [
    "df_n"
   ]
  },
  {
   "cell_type": "code",
   "execution_count": 47,
   "id": "2548758a",
   "metadata": {},
   "outputs": [
    {
     "data": {
      "text/html": [
       "<div>\n",
       "<style scoped>\n",
       "    .dataframe tbody tr th:only-of-type {\n",
       "        vertical-align: middle;\n",
       "    }\n",
       "\n",
       "    .dataframe tbody tr th {\n",
       "        vertical-align: top;\n",
       "    }\n",
       "\n",
       "    .dataframe thead th {\n",
       "        text-align: right;\n",
       "    }\n",
       "</style>\n",
       "<table border=\"1\" class=\"dataframe\">\n",
       "  <thead>\n",
       "    <tr style=\"text-align: right;\">\n",
       "      <th></th>\n",
       "      <th>LHAASO</th>\n",
       "      <th>LHAASO_id</th>\n",
       "      <th>SOURCE</th>\n",
       "      <th>SOURCE_id</th>\n",
       "      <th>CATOLOG</th>\n",
       "      <th>FLUXPOINTS</th>\n",
       "      <th>DATASET</th>\n",
       "      <th>SOURCE_data</th>\n",
       "    </tr>\n",
       "    <tr>\n",
       "      <th>source_index</th>\n",
       "      <th></th>\n",
       "      <th></th>\n",
       "      <th></th>\n",
       "      <th></th>\n",
       "      <th></th>\n",
       "      <th></th>\n",
       "      <th></th>\n",
       "      <th></th>\n",
       "    </tr>\n",
       "  </thead>\n",
       "  <tbody>\n",
       "    <tr>\n",
       "      <th>0</th>\n",
       "      <td>LHAASO J1825-1326</td>\n",
       "      <td>LHAASOJ1825-1326</td>\n",
       "      <td>HESS J1825-137</td>\n",
       "      <td>HESSJ1825-137</td>\n",
       "      <td>[gamma-cat, hgps, 3fgl, 4fgl, 2fhl, 3fhl]</td>\n",
       "      <td>[gamma-cat, hgps, 3fgl, 4fgl, 2fhl, 3fhl]</td>\n",
       "      <td>[FluxPointsDataset\\n-----------------\\n\\n  Nam...</td>\n",
       "      <td>[{'source_id': 118, 'common_name': 'HESS J1825...</td>\n",
       "    </tr>\n",
       "    <tr>\n",
       "      <th>1</th>\n",
       "      <td>LHAASO J1825-1326</td>\n",
       "      <td>LHAASOJ1825-1326</td>\n",
       "      <td>HESS J1826-130</td>\n",
       "      <td>HESSJ1826-130</td>\n",
       "      <td>[gamma-cat, hgps, 4fgl, 3fhl]</td>\n",
       "      <td>[gamma-cat, hgps, 4fgl, 3fhl]</td>\n",
       "      <td>[FluxPointsDataset\\n-----------------\\n\\n  Nam...</td>\n",
       "      <td>[{'source_id': 161, 'common_name': 'HESS J1826...</td>\n",
       "    </tr>\n",
       "    <tr>\n",
       "      <th>3</th>\n",
       "      <td>LHAASO J1908+0621</td>\n",
       "      <td>LHAASOJ1908+0621</td>\n",
       "      <td>MGRO J1908+06</td>\n",
       "      <td>MGROJ1908+06</td>\n",
       "      <td>[gamma-cat, 3fgl, 4fgl]</td>\n",
       "      <td>[gamma-cat, 3fgl, 4fgl]</td>\n",
       "      <td>[FluxPointsDataset\\n-----------------\\n\\n  Nam...</td>\n",
       "      <td>[{'source_id': 132, 'common_name': 'MGRO J1908...</td>\n",
       "    </tr>\n",
       "    <tr>\n",
       "      <th>4</th>\n",
       "      <td>LHAASO J1908+0621</td>\n",
       "      <td>LHAASOJ1908+0621</td>\n",
       "      <td>HESS J1908+063</td>\n",
       "      <td>HESSJ1908+063</td>\n",
       "      <td>[gamma-cat, hgps]</td>\n",
       "      <td>[gamma-cat, hgps]</td>\n",
       "      <td>[FluxPointsDataset\\n-----------------\\n\\n  Nam...</td>\n",
       "      <td>[{'source_id': 132, 'common_name': 'MGRO J1908...</td>\n",
       "    </tr>\n",
       "    <tr>\n",
       "      <th>5</th>\n",
       "      <td>LHAASO J1908+0621</td>\n",
       "      <td>LHAASOJ1908+0621</td>\n",
       "      <td>ARGO J1907+0627</td>\n",
       "      <td>ARGOJ1907+0627</td>\n",
       "      <td>[gamma-cat]</td>\n",
       "      <td>[gamma-cat]</td>\n",
       "      <td>[FluxPointsDataset\\n-----------------\\n\\n  Nam...</td>\n",
       "      <td>[{'source_id': 132, 'common_name': 'MGRO J1908...</td>\n",
       "    </tr>\n",
       "    <tr>\n",
       "      <th>6</th>\n",
       "      <td>LHAASO J1908+0621</td>\n",
       "      <td>LHAASOJ1908+0621</td>\n",
       "      <td>VER J1907+062</td>\n",
       "      <td>VERJ1907+062</td>\n",
       "      <td>[gamma-cat]</td>\n",
       "      <td>[gamma-cat]</td>\n",
       "      <td>[FluxPointsDataset\\n-----------------\\n\\n  Nam...</td>\n",
       "      <td>[{'source_id': 132, 'common_name': 'MGRO J1908...</td>\n",
       "    </tr>\n",
       "    <tr>\n",
       "      <th>9</th>\n",
       "      <td>LHAASO J2226+6057</td>\n",
       "      <td>LHAASOJ2226+6057</td>\n",
       "      <td>Boomerang</td>\n",
       "      <td>Boomerang</td>\n",
       "      <td>[3fgl, 4fgl]</td>\n",
       "      <td>[3fgl, 4fgl]</td>\n",
       "      <td>[FluxPointsDataset\\n-----------------\\n\\n  Nam...</td>\n",
       "      <td>[{'Source_Name': '3FGL J2229.0+6114 ', 'RAJ200...</td>\n",
       "    </tr>\n",
       "  </tbody>\n",
       "</table>\n",
       "</div>"
      ],
      "text/plain": [
       "                         LHAASO         LHAASO_id           SOURCE  \\\n",
       "source_index                                                         \n",
       "0             LHAASO J1825-1326  LHAASOJ1825-1326   HESS J1825-137   \n",
       "1             LHAASO J1825-1326  LHAASOJ1825-1326   HESS J1826-130   \n",
       "3             LHAASO J1908+0621  LHAASOJ1908+0621    MGRO J1908+06   \n",
       "4             LHAASO J1908+0621  LHAASOJ1908+0621   HESS J1908+063   \n",
       "5             LHAASO J1908+0621  LHAASOJ1908+0621  ARGO J1907+0627   \n",
       "6             LHAASO J1908+0621  LHAASOJ1908+0621    VER J1907+062   \n",
       "9             LHAASO J2226+6057  LHAASOJ2226+6057        Boomerang   \n",
       "\n",
       "                   SOURCE_id                                    CATOLOG  \\\n",
       "source_index                                                              \n",
       "0              HESSJ1825-137  [gamma-cat, hgps, 3fgl, 4fgl, 2fhl, 3fhl]   \n",
       "1              HESSJ1826-130              [gamma-cat, hgps, 4fgl, 3fhl]   \n",
       "3               MGROJ1908+06                    [gamma-cat, 3fgl, 4fgl]   \n",
       "4              HESSJ1908+063                          [gamma-cat, hgps]   \n",
       "5             ARGOJ1907+0627                                [gamma-cat]   \n",
       "6               VERJ1907+062                                [gamma-cat]   \n",
       "9                  Boomerang                               [3fgl, 4fgl]   \n",
       "\n",
       "                                             FLUXPOINTS  \\\n",
       "source_index                                              \n",
       "0             [gamma-cat, hgps, 3fgl, 4fgl, 2fhl, 3fhl]   \n",
       "1                         [gamma-cat, hgps, 4fgl, 3fhl]   \n",
       "3                               [gamma-cat, 3fgl, 4fgl]   \n",
       "4                                     [gamma-cat, hgps]   \n",
       "5                                           [gamma-cat]   \n",
       "6                                           [gamma-cat]   \n",
       "9                                          [3fgl, 4fgl]   \n",
       "\n",
       "                                                        DATASET  \\\n",
       "source_index                                                      \n",
       "0             [FluxPointsDataset\\n-----------------\\n\\n  Nam...   \n",
       "1             [FluxPointsDataset\\n-----------------\\n\\n  Nam...   \n",
       "3             [FluxPointsDataset\\n-----------------\\n\\n  Nam...   \n",
       "4             [FluxPointsDataset\\n-----------------\\n\\n  Nam...   \n",
       "5             [FluxPointsDataset\\n-----------------\\n\\n  Nam...   \n",
       "6             [FluxPointsDataset\\n-----------------\\n\\n  Nam...   \n",
       "9             [FluxPointsDataset\\n-----------------\\n\\n  Nam...   \n",
       "\n",
       "                                                    SOURCE_data  \n",
       "source_index                                                     \n",
       "0             [{'source_id': 118, 'common_name': 'HESS J1825...  \n",
       "1             [{'source_id': 161, 'common_name': 'HESS J1826...  \n",
       "3             [{'source_id': 132, 'common_name': 'MGRO J1908...  \n",
       "4             [{'source_id': 132, 'common_name': 'MGRO J1908...  \n",
       "5             [{'source_id': 132, 'common_name': 'MGRO J1908...  \n",
       "6             [{'source_id': 132, 'common_name': 'MGRO J1908...  \n",
       "9             [{'Source_Name': '3FGL J2229.0+6114 ', 'RAJ200...  "
      ]
     },
     "execution_count": 47,
     "metadata": {},
     "output_type": "execute_result"
    }
   ],
   "source": [
    "df_new"
   ]
  },
  {
   "cell_type": "code",
   "execution_count": 35,
   "id": "0cb87a50",
   "metadata": {},
   "outputs": [
    {
     "ename": "KeyError",
     "evalue": "'Source'",
     "output_type": "error",
     "traceback": [
      "\u001b[0;31m---------------------------------------------------------------------------\u001b[0m",
      "\u001b[0;31mKeyError\u001b[0m                                  Traceback (most recent call last)",
      "File \u001b[0;32m~/anaconda3/envs/gammapy-1.0/lib/python3.9/site-packages/pandas/core/indexes/base.py:3800\u001b[0m, in \u001b[0;36mIndex.get_loc\u001b[0;34m(self, key, method, tolerance)\u001b[0m\n\u001b[1;32m   3799\u001b[0m \u001b[38;5;28;01mtry\u001b[39;00m:\n\u001b[0;32m-> 3800\u001b[0m     \u001b[38;5;28;01mreturn\u001b[39;00m \u001b[38;5;28;43mself\u001b[39;49m\u001b[38;5;241;43m.\u001b[39;49m\u001b[43m_engine\u001b[49m\u001b[38;5;241;43m.\u001b[39;49m\u001b[43mget_loc\u001b[49m\u001b[43m(\u001b[49m\u001b[43mcasted_key\u001b[49m\u001b[43m)\u001b[49m\n\u001b[1;32m   3801\u001b[0m \u001b[38;5;28;01mexcept\u001b[39;00m \u001b[38;5;167;01mKeyError\u001b[39;00m \u001b[38;5;28;01mas\u001b[39;00m err:\n",
      "File \u001b[0;32m~/anaconda3/envs/gammapy-1.0/lib/python3.9/site-packages/pandas/_libs/index.pyx:138\u001b[0m, in \u001b[0;36mpandas._libs.index.IndexEngine.get_loc\u001b[0;34m()\u001b[0m\n",
      "File \u001b[0;32m~/anaconda3/envs/gammapy-1.0/lib/python3.9/site-packages/pandas/_libs/index.pyx:165\u001b[0m, in \u001b[0;36mpandas._libs.index.IndexEngine.get_loc\u001b[0;34m()\u001b[0m\n",
      "File \u001b[0;32mpandas/_libs/hashtable_class_helper.pxi:5745\u001b[0m, in \u001b[0;36mpandas._libs.hashtable.PyObjectHashTable.get_item\u001b[0;34m()\u001b[0m\n",
      "File \u001b[0;32mpandas/_libs/hashtable_class_helper.pxi:5753\u001b[0m, in \u001b[0;36mpandas._libs.hashtable.PyObjectHashTable.get_item\u001b[0;34m()\u001b[0m\n",
      "\u001b[0;31mKeyError\u001b[0m: 'Source'",
      "\nThe above exception was the direct cause of the following exception:\n",
      "\u001b[0;31mKeyError\u001b[0m                                  Traceback (most recent call last)",
      "Input \u001b[0;32mIn [35]\u001b[0m, in \u001b[0;36m<cell line: 7>\u001b[0;34m()\u001b[0m\n\u001b[1;32m      4\u001b[0m LHAASO_obs \u001b[38;5;241m=\u001b[39m \u001b[38;5;28mlist\u001b[39m(\u001b[38;5;28mdict\u001b[39m(df[\u001b[38;5;124m\"\u001b[39m\u001b[38;5;124mLHAASO\u001b[39m\u001b[38;5;124m\"\u001b[39m])\u001b[38;5;241m.\u001b[39mvalues())[src_index]\n\u001b[1;32m      5\u001b[0m LHAASO_id \u001b[38;5;241m=\u001b[39m LHAASO_obs\u001b[38;5;241m.\u001b[39mreplace(\u001b[38;5;124m\"\u001b[39m\u001b[38;5;124m \u001b[39m\u001b[38;5;124m\"\u001b[39m, \u001b[38;5;124m\"\u001b[39m\u001b[38;5;124m\"\u001b[39m)\n\u001b[0;32m----> 7\u001b[0m TeVCount_src \u001b[38;5;241m=\u001b[39m \u001b[38;5;28mlist\u001b[39m(\u001b[38;5;28mdict\u001b[39m(\u001b[43mdf\u001b[49m\u001b[43m[\u001b[49m\u001b[38;5;124;43m\"\u001b[39;49m\u001b[38;5;124;43mSource\u001b[39;49m\u001b[38;5;124;43m\"\u001b[39;49m\u001b[43m]\u001b[49m)\u001b[38;5;241m.\u001b[39mvalues())[src_index]\n\u001b[1;32m      8\u001b[0m TeVCount_id \u001b[38;5;241m=\u001b[39m TeVCount_src\u001b[38;5;241m.\u001b[39mreplace(\u001b[38;5;124m\"\u001b[39m\u001b[38;5;124m \u001b[39m\u001b[38;5;124m\"\u001b[39m, \u001b[38;5;124m\"\u001b[39m\u001b[38;5;124m\"\u001b[39m)\n\u001b[1;32m     10\u001b[0m ds_src \u001b[38;5;241m=\u001b[39m ds_lst[src_index]\n",
      "File \u001b[0;32m~/anaconda3/envs/gammapy-1.0/lib/python3.9/site-packages/pandas/core/frame.py:3805\u001b[0m, in \u001b[0;36mDataFrame.__getitem__\u001b[0;34m(self, key)\u001b[0m\n\u001b[1;32m   3803\u001b[0m \u001b[38;5;28;01mif\u001b[39;00m \u001b[38;5;28mself\u001b[39m\u001b[38;5;241m.\u001b[39mcolumns\u001b[38;5;241m.\u001b[39mnlevels \u001b[38;5;241m>\u001b[39m \u001b[38;5;241m1\u001b[39m:\n\u001b[1;32m   3804\u001b[0m     \u001b[38;5;28;01mreturn\u001b[39;00m \u001b[38;5;28mself\u001b[39m\u001b[38;5;241m.\u001b[39m_getitem_multilevel(key)\n\u001b[0;32m-> 3805\u001b[0m indexer \u001b[38;5;241m=\u001b[39m \u001b[38;5;28;43mself\u001b[39;49m\u001b[38;5;241;43m.\u001b[39;49m\u001b[43mcolumns\u001b[49m\u001b[38;5;241;43m.\u001b[39;49m\u001b[43mget_loc\u001b[49m\u001b[43m(\u001b[49m\u001b[43mkey\u001b[49m\u001b[43m)\u001b[49m\n\u001b[1;32m   3806\u001b[0m \u001b[38;5;28;01mif\u001b[39;00m is_integer(indexer):\n\u001b[1;32m   3807\u001b[0m     indexer \u001b[38;5;241m=\u001b[39m [indexer]\n",
      "File \u001b[0;32m~/anaconda3/envs/gammapy-1.0/lib/python3.9/site-packages/pandas/core/indexes/base.py:3802\u001b[0m, in \u001b[0;36mIndex.get_loc\u001b[0;34m(self, key, method, tolerance)\u001b[0m\n\u001b[1;32m   3800\u001b[0m     \u001b[38;5;28;01mreturn\u001b[39;00m \u001b[38;5;28mself\u001b[39m\u001b[38;5;241m.\u001b[39m_engine\u001b[38;5;241m.\u001b[39mget_loc(casted_key)\n\u001b[1;32m   3801\u001b[0m \u001b[38;5;28;01mexcept\u001b[39;00m \u001b[38;5;167;01mKeyError\u001b[39;00m \u001b[38;5;28;01mas\u001b[39;00m err:\n\u001b[0;32m-> 3802\u001b[0m     \u001b[38;5;28;01mraise\u001b[39;00m \u001b[38;5;167;01mKeyError\u001b[39;00m(key) \u001b[38;5;28;01mfrom\u001b[39;00m \u001b[38;5;21;01merr\u001b[39;00m\n\u001b[1;32m   3803\u001b[0m \u001b[38;5;28;01mexcept\u001b[39;00m \u001b[38;5;167;01mTypeError\u001b[39;00m:\n\u001b[1;32m   3804\u001b[0m     \u001b[38;5;66;03m# If we have a listlike key, _check_indexing_error will raise\u001b[39;00m\n\u001b[1;32m   3805\u001b[0m     \u001b[38;5;66;03m#  InvalidIndexError. Otherwise we fall through and re-raise\u001b[39;00m\n\u001b[1;32m   3806\u001b[0m     \u001b[38;5;66;03m#  the TypeError.\u001b[39;00m\n\u001b[1;32m   3807\u001b[0m     \u001b[38;5;28mself\u001b[39m\u001b[38;5;241m.\u001b[39m_check_indexing_error(key)\n",
      "\u001b[0;31mKeyError\u001b[0m: 'Source'"
     ]
    }
   ],
   "source": [
    "# Setting the source to analasis {}\n",
    "src_index = 0\n",
    "\n",
    "LHAASO_obs = list(dict(df[\"LHAASO\"]).values())[src_index]\n",
    "LHAASO_id = LHAASO_obs.replace(\" \", \"\")\n",
    "\n",
    "TeVCount_src = list(dict(df[\"Source\"]).values())[src_index]\n",
    "TeVCount_id = TeVCount_src.replace(\" \", \"\")\n",
    "\n",
    "ds_src = ds_lst[src_index]\n",
    "datasets = Datasets(ds_src)"
   ]
  },
  {
   "cell_type": "code",
   "execution_count": null,
   "id": "e1f40fbc",
   "metadata": {},
   "outputs": [],
   "source": [
    "datasets[1]"
   ]
  },
  {
   "cell_type": "code",
   "execution_count": null,
   "id": "60c7241d",
   "metadata": {},
   "outputs": [],
   "source": [
    "type()"
   ]
  },
  {
   "cell_type": "code",
   "execution_count": null,
   "id": "d54cf8fb",
   "metadata": {
    "scrolled": true
   },
   "outputs": [],
   "source": [
    "ds_lst[1][1].data.to_table()"
   ]
  },
  {
   "cell_type": "code",
   "execution_count": null,
   "id": "24a0726c",
   "metadata": {},
   "outputs": [],
   "source": [
    "print(ds_lst[1][1].data.plot())"
   ]
  },
  {
   "cell_type": "code",
   "execution_count": null,
   "id": "3484a3c5",
   "metadata": {},
   "outputs": [],
   "source": []
  },
  {
   "cell_type": "code",
   "execution_count": null,
   "id": "5fb472d5",
   "metadata": {},
   "outputs": [],
   "source": [
    "df['src'][1]"
   ]
  },
  {
   "cell_type": "code",
   "execution_count": null,
   "id": "01734c21",
   "metadata": {},
   "outputs": [],
   "source": [
    "\n",
    "catalog_tag = catalog_tags[0]\n",
    "catalog = CATALOG_REGISTRY.get_cls(catalog_tag)()\n",
    "\n",
    "\n",
    "source = catalog[source_name]\n"
   ]
  },
  {
   "cell_type": "code",
   "execution_count": null,
   "id": "b98ee371",
   "metadata": {},
   "outputs": [],
   "source": [
    "print(source.spectral_model())"
   ]
  },
  {
   "cell_type": "code",
   "execution_count": null,
   "id": "40cc2679",
   "metadata": {},
   "outputs": [],
   "source": [
    "print(source)"
   ]
  },
  {
   "cell_type": "code",
   "execution_count": null,
   "id": "03fc0fd7",
   "metadata": {},
   "outputs": [],
   "source": [
    "# Gammapy spectral model object:\n",
    "spectral_model = source.spectral_model()\n",
    "print(spectral_model)"
   ]
  },
  {
   "cell_type": "code",
   "execution_count": null,
   "id": "07bcd36e",
   "metadata": {},
   "outputs": [],
   "source": [
    "\n",
    "# Let's plot the spectrum\n",
    "source.spectral_model().plot(energy_bounds=(0.01, 1000) * u.TeV)\n",
    "source.spectral_model().plot_error(energy_bounds=(0.01, 1000) * u.TeV)\n",
    "source.flux_points.plot();\n"
   ]
  },
  {
   "cell_type": "code",
   "execution_count": null,
   "id": "7a0fb641",
   "metadata": {},
   "outputs": [],
   "source": []
  }
 ],
 "metadata": {
  "kernelspec": {
   "display_name": "Python 3 (ipykernel)",
   "language": "python",
   "name": "python3"
  },
  "language_info": {
   "codemirror_mode": {
    "name": "ipython",
    "version": 3
   },
   "file_extension": ".py",
   "mimetype": "text/x-python",
   "name": "python",
   "nbconvert_exporter": "python",
   "pygments_lexer": "ipython3",
   "version": "3.9.15"
  }
 },
 "nbformat": 4,
 "nbformat_minor": 5
}
