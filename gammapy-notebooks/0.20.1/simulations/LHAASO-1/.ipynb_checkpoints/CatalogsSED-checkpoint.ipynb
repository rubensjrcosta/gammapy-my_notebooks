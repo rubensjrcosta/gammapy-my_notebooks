{
 "cells": [
  {
   "cell_type": "code",
   "execution_count": 1,
   "id": "5ce110db",
   "metadata": {},
   "outputs": [],
   "source": [
    "# !pip install dataframe-image"
   ]
  },
  {
   "cell_type": "code",
   "execution_count": 2,
   "id": "fa05df50",
   "metadata": {},
   "outputs": [],
   "source": [
    "# !pip install tabulate"
   ]
  },
  {
   "cell_type": "markdown",
   "id": "b43d98b9",
   "metadata": {},
   "source": [
    "Carrega os catalogos do gammapy\n",
    "\n",
    "Verifica a existencia da fonte em cada um dos catalgos\n",
    "\n",
    "Guarda a tabela dos pontos de fluxos"
   ]
  },
  {
   "cell_type": "code",
   "execution_count": 3,
   "id": "c6e3efbf",
   "metadata": {},
   "outputs": [],
   "source": [
    "%matplotlib inline\n",
    "import matplotlib.pyplot as plt"
   ]
  },
  {
   "cell_type": "code",
   "execution_count": 4,
   "id": "3ac8a12e",
   "metadata": {},
   "outputs": [],
   "source": [
    "from gammapy.datasets import FluxPointsDataset, Datasets\n",
    "from gammapy.catalog import CATALOG_REGISTRY"
   ]
  },
  {
   "cell_type": "code",
   "execution_count": 5,
   "id": "eff6f5ad",
   "metadata": {},
   "outputs": [],
   "source": [
    "import os\n",
    "import sys\n",
    "import importlib\n",
    "\n",
    "module_path = os.path.abspath('modules/spectral_models')\n",
    "if module_path not in sys.path:\n",
    "    sys.path.append(module_path)\n",
    "# print(module_path)\n",
    "import spectral_models\n",
    "importlib.reload(spectral_models)\n",
    "from spectral_models import pwl_model, get_source_data\n",
    "\n",
    "module_path = os.path.abspath('modules/utilities')\n",
    "if module_path not in sys.path:\n",
    "    sys.path.append(module_path)\n",
    "# print(module_path)\n",
    "import utilities\n",
    "importlib.reload(utilities)\n",
    "from utilities import mkdir_child_dir"
   ]
  },
  {
   "cell_type": "code",
   "execution_count": 6,
   "id": "a1236f88",
   "metadata": {},
   "outputs": [],
   "source": [
    "from astropy import units as u\n",
    "\n",
    "from gammapy.modeling import Fit\n",
    "from gammapy.modeling.models import (\n",
    "    Models,\n",
    "    SuperExpCutoffPowerLaw4FGLDR3SpectralModel,\n",
    "    ExpCutoffPowerLawSpectralModel,\n",
    "    LogParabolaSpectralModel,\n",
    "    PowerLawSpectralModel,\n",
    "    SkyModel,\n",
    ")\n"
   ]
  },
  {
   "cell_type": "code",
   "execution_count": 109,
   "id": "23cd7344",
   "metadata": {},
   "outputs": [],
   "source": [
    "def print_SED(spec_model = None, sed_type = \"e2dnde\", yaxis_units=\"TeV cm-2 s-1\", energy_bounds= [1e-5, 1e2] * u.TeV, ylim = [1e-13, 1e-9]):\n",
    "    '''Returns a spectral energy distribution\n",
    "    \n",
    "    >>> print_SED(spec_model, yaxis_units, sed_type, reference)\n",
    "    '''\n",
    "    path, path_name=mkdir_child_dir(\"catalogs_data\", \"flux_points_images\")\n",
    "    ax = plt.subplot()\n",
    "    ax.yaxis.set_units(u.Unit(yaxis_units))\n",
    "    ax.xaxis.set_units(u.Unit(\"TeV\"))\n",
    "\n",
    "    #label = f\"{sky_model}\"\n",
    "    \n",
    "    kwargs = {\n",
    "        \"ax\": ax, \n",
    "        \"sed_type\": sed_type\n",
    "    }    \n",
    "    \n",
    "    \n",
    "#     plot_kwargs = {\n",
    "#     \"energy_bounds\": [0.1, 30] * u.TeV,\n",
    "#     \"sed_type\": \"e2dnde\",\n",
    "#     \"yunits\": u.Unit(\"erg cm-2 s-1\"),\n",
    "#     \"ax\": ax,\n",
    "# }\n",
    "    \n",
    "    for d in datasets:\n",
    "        d.data.plot(label=d.name, **kwargs)\n",
    "\n",
    "    try:   \n",
    "        kwargs_fit = {\"label\":sky_model.name}\n",
    "        spec_model.plot(energy_bounds=energy_bounds, color=\"k\", **kwargs, **kwargs_fit)\n",
    "        spec_model.plot_error(energy_bounds=energy_bounds, **kwargs)\n",
    "        \n",
    "        file = path_name / f'{LHAASO_txt}_{src_txt}_{sky_model.name}.png'\n",
    "    except:\n",
    "        file = path_name / f'{LHAASO_txt}_{src_txt}.png'\n",
    "    \n",
    "    ax.set_ylim(ylim)\n",
    "    ax.set_xlim(energy_bounds)\n",
    "    ax.legend()\n",
    "    \n",
    "    plt.title(f\"{LHAASO_name}: {src_name}\")\n",
    "    \n",
    "#     plt.xlabel(\"Energy (TeV)\")   \n",
    "#     plt.ylabel(r\"$E^{2}$dN/dE (erg $cm^{-2}$ $s^{-1}$)\")\n",
    "    \n",
    "    plt.savefig(file, bbox_inches='tight')\n",
    "    plt.show()\n",
    "    \n",
    "    return "
   ]
  },
  {
   "cell_type": "code",
   "execution_count": 8,
   "id": "38fbf074",
   "metadata": {},
   "outputs": [],
   "source": [
    "# print(CATALOG_REGISTRY)"
   ]
  },
  {
   "cell_type": "code",
   "execution_count": 9,
   "id": "d14fa85b",
   "metadata": {},
   "outputs": [],
   "source": [
    "catalog_tags = [\"gamma-cat\", \"hgps\", \"2hwc\", \"3fgl\", \"4fgl\", \"2fhl\", \"3fhl\", \"3hwc\"] "
   ]
  },
  {
   "cell_type": "code",
   "execution_count": 10,
   "id": "1aa56fc1",
   "metadata": {},
   "outputs": [],
   "source": [
    "# Loading the source catalogs\n",
    "catalog_gammacat = CATALOG_REGISTRY.get_cls(\"gamma-cat\")()\n",
    "catalog_hgps = CATALOG_REGISTRY.get_cls(\"hgps\")()\n",
    "catalog_2hwc = CATALOG_REGISTRY.get_cls(\"2hwc\")()\n",
    "catalog_3fgl = CATALOG_REGISTRY.get_cls(\"3fgl\")()\n",
    "catalog_4fgl = CATALOG_REGISTRY.get_cls(\"4fgl\")()\n",
    "catalog_2fhl = CATALOG_REGISTRY.get_cls(\"2fhl\")()\n",
    "catalog_3fhl = CATALOG_REGISTRY.get_cls(\"3fhl\")()\n",
    "catalog_3hwc = CATALOG_REGISTRY.get_cls(\"3hwc\")()"
   ]
  },
  {
   "cell_type": "code",
   "execution_count": 11,
   "id": "aabe07e7",
   "metadata": {},
   "outputs": [],
   "source": [
    "# Creating a dictionary of the Potential TeV Counterparts (dict values) of the three most significant (excluding Crab)LHASSO observations (dict keys)# see https://www.nature.com/articles/s41586-021-03498-z\n",
    "dict_lhaaso_tevc = {\n",
    "    \"LHAASO J1825-1326\": [\"HESS J1825-137\", \"HESS J1826-130\", \"2HWC J1825-134\"], \n",
    "    \"LHAASO J1908+0621\": [\"MGRO J1908+06\" , \"HESS J1908+063\", \"ARGO J1907+0627\", \"VER J1907+062\", \"2HWC J1908+063\"], \n",
    "    \"LHAASO J2226+6057\": [\"VER J2227+608\"  , \"Boomerang\"]\n",
    "}"
   ]
  },
  {
   "cell_type": "code",
   "execution_count": 47,
   "id": "c8f069b3",
   "metadata": {},
   "outputs": [],
   "source": [
    "import pandas as pd \n",
    "from gammapy.datasets import FluxPointsDataset\n",
    "from gammapy.catalog import CATALOG_REGISTRY\n",
    "import os\n",
    "import sys\n",
    "\n",
    "format_csv = \".csv\"\n",
    "format_fits = \".fits\"\n",
    "\n",
    "sed_type=\"e2dnde\"\n",
    "# sed_type=\"dnde\"\n",
    "\n",
    "df_columns=[]\n",
    "ds_fp = []\n",
    "source_cat = []\n",
    "\n",
    "\n",
    "def get_source_data2(dict_lhaaso_tevc = None, catalog_tags = None):\n",
    "    '''To write Docstring!!!!'''\n",
    "    \n",
    "    LHAASO_range = range(len(dict_lhaaso_tevc.keys()))\n",
    "    for i in LHAASO_range:\n",
    "\n",
    "        LHAASO_name = list(dict_lhaaso_tevc.keys())[i]\n",
    "        LHAASO_txt = LHAASO_name.replace(\" \", \"\")\n",
    "        \n",
    "        source_range = range(len(dict_lhaaso_tevc[LHAASO_name]))\n",
    "        for j in source_range:\n",
    "\n",
    "            cat_src = []\n",
    "\n",
    "            cat_src_fp = []\n",
    "            \n",
    "            src_cat = []\n",
    "\n",
    "            src_ds = []\n",
    "\n",
    "            src_name = dict_lhaaso_tevc[LHAASO_name][j]\n",
    "            src_txt = src_name.replace(\" \", \"\")\n",
    "            \n",
    "            catalog_range = range(len(catalog_tags))\n",
    "            for k in catalog_range: \n",
    "                \n",
    "                cat_tag = catalog_tags[k]\n",
    "                catalog = CATALOG_REGISTRY.get_cls(cat_tag)()\n",
    "                \n",
    "                try:\n",
    "                    \n",
    "                    src = catalog[src_name]\n",
    "                    \n",
    "                    cat_src.append(cat_tag)\n",
    "                    \n",
    "                    ds = FluxPointsDataset(\n",
    "                        models = src.sky_model(),\n",
    "                        data=src.flux_points, \n",
    "                        name=cat_tag       \n",
    "                    )\n",
    "                    \n",
    "                    src_cat.append(src)\n",
    "                    src_ds.append(ds)\n",
    "                    cat_src_fp.append(cat_tag)\n",
    "\n",
    "                    table = ds.data.to_table(\n",
    "                        sed_type = sed_type, \n",
    "                        formatted = True\n",
    "                    )\n",
    "\n",
    "                    file_name = f'{LHAASO_txt}_{src_txt}_{cat_tag}{format_fits}'\n",
    "                    path_os = os.path.abspath(\n",
    "                        os.path.join(\n",
    "                            f\"{path_dir}/{file_name}\"\n",
    "                        )\n",
    "                    )      \n",
    "                    \n",
    "                    if path_os not in sys.path:\n",
    "                        sys.path.append(path_os)\n",
    "\n",
    "                    table.write(\n",
    "                        f\"{path_os}\",\n",
    "                        format = 'fits', \n",
    "                        overwrite = True\n",
    "                    )\n",
    "                    \n",
    "                    file_name = f'{LHAASO_txt}_{src_txt}_{cat_tag}{format_csv}'\n",
    "                    path_os = os.path.abspath(\n",
    "                        os.path.join(\n",
    "                            f\"{path_dir}/{file_name}\"\n",
    "                        )\n",
    "                    )\n",
    "                     \n",
    "                    if path_os not in sys.path:\n",
    "                        sys.path.append(path_os)\n",
    "\n",
    "                    table.write(\n",
    "                        f\"{path_os}{format_csv}\",\n",
    "                        format = 'ascii.ecsv', \n",
    "                        overwrite = True\n",
    "                    )   \n",
    "                    \n",
    "                except:\n",
    "                    pass\n",
    "\n",
    "                df_columns_k = [LHAASO_name, LHAASO_txt, src_name, src_txt, cat_src, cat_src_fp]\n",
    "            df_columns.append(df_columns_k)\n",
    "            ds_fp.append(src_ds)\n",
    "            source_cat.append(src_cat)\n",
    "\n",
    "    df = pd.DataFrame(df_columns, columns = ['LHAASO_name', \"LHAASO_txt\",'source_name', \"source_txt\", 'catalog', 'flux_points']) \n",
    "    df_fp = df[df[\"flux_points\"].str.len() != 0]\n",
    "    df_fp = df_fp.reset_index(drop = True)\n",
    "    df_fp.index.name = 'source_index'\n",
    "    df_fp.to_csv(f\"{path_dir}/data_frame_flux_points.csv\", index = \"True\" )\n",
    "    \n",
    "    df_no_fp = df[df[\"flux_points\"].str.len() == 0]\n",
    "    df_no_fp = df_no_fp.reset_index(drop = True)\n",
    "    df_no_fp.index.name = 'source_index'\n",
    "    df_no_fp.to_csv(f\"{path_dir}/data_frame_no_flux_points.csv\", index = \"True\" )\n",
    "    print(f\"Sources without flux points table: {list(df_no_fp['source_name'])}\")\n",
    "    \n",
    "    source_cat[:] = list(filter(None, source_cat))\n",
    "    ds_fp[:] = list(filter(None, ds_fp))\n",
    "    \n",
    "    return df_fp, ds_fp, source_cat"
   ]
  },
  {
   "cell_type": "code",
   "execution_count": 54,
   "id": "cd2f6ea1",
   "metadata": {},
   "outputs": [
    {
     "name": "stdout",
     "output_type": "stream",
     "text": [
      "FluxPoints\n",
      "----------\n",
      "\n",
      "  geom                   : RegionGeom\n",
      "  axes                   : ['lon', 'lat', 'energy']\n",
      "  shape                  : (1, 1, 8)\n",
      "  quantities             : ['norm', 'norm_errp', 'norm_errn', 'norm_ul', 'sqrt_ts', 'is_ul']\n",
      "  ref. model             : secpl-4fgl-dr3\n",
      "  n_sigma                : 1\n",
      "  n_sigma_ul             : 2\n",
      "  sqrt_ts_threshold_ul   : 1\n",
      "  sed type init          : flux\n",
      "\n"
     ]
    }
   ],
   "source": [
    "print(source_cat[1][2].flux_points)"
   ]
  },
  {
   "cell_type": "code",
   "execution_count": 13,
   "id": "887e913f",
   "metadata": {},
   "outputs": [],
   "source": [
    "import numpy as np\n",
    "# from astropy import units as u\n",
    "from astropy.table import Table\n",
    "from gammapy.estimators import FluxPoints\n",
    "from gammapy.utils.scripts import make_path\n",
    "\n",
    "# format_csv = \".csv\"\n",
    "format_fits = \".fits\"\n",
    "\n",
    "sed_type=\"e2dnde\"\n",
    "# sed_type=\"dnde\"\n",
    "\n",
    "e_ref_min = 10 * u.Unit(\"GeV\")\n",
    "\n",
    "ds_fp_cut = []\n",
    "def flux_points_cut_energy(df_fp = None, ds_fp = None, e_ref_min=None):\n",
    "     '''To write Docstring!!!!'''\n",
    "    e_ref_min_name = str(e_ref_min).replace(\" \", \"\")\n",
    "    \n",
    "    source_range = range(len(df_fp))\n",
    "    for src_index in source_range:\n",
    "        src_ds = []\n",
    "        \n",
    "        LHAASO_txt = df_fp[\"LHAASO_txt\"][src_index]\n",
    "\n",
    "        src_txt = df_fp[\"source_txt\"][src_index]\n",
    "        \n",
    "        k_range = range(len(ds_fp[src_index]))\n",
    "        for k in k_range: \n",
    "            \n",
    "            cat_tag = df_fp[\"catalog\"][src_index][k]\n",
    "            ds_name = ds_fp[src_index][k].name\n",
    "            \n",
    "            flux_points = ds_fp[src_index][k].data\n",
    "\n",
    "            mask_energy = np.zeros(len(flux_points.to_table()), dtype=bool)\n",
    "\n",
    "            for m, e_ref in enumerate(flux_points.energy_ref):\n",
    "                if e_ref > e_ref_min:\n",
    "                    mask_energy[m] = True\n",
    "            print(ds_name, src_txt)        \n",
    "            flux_points_mask = flux_points.to_table()[mask_energy]\n",
    "            flux_points_energy = FluxPoints.from_table(flux_points_mask)\n",
    "\n",
    "            ds = FluxPointsDataset(\n",
    "                                data=flux_points_energy, \n",
    "                                name=ds_name\n",
    "                            )\n",
    "\n",
    "            table = ds.data.to_table(\n",
    "                                sed_type = sed_type, \n",
    "                                formatted = True\n",
    "                            )\n",
    "            src_ds.append(ds)\n",
    "            \n",
    "            file_name = f'{LHAASO_txt}_{src_txt}_{cat_tag}_cut_{e_ref_min_name}{format_fits}'\n",
    "            path_os = os.path.abspath(\n",
    "                os.path.join(\n",
    "                    f\"{path_dir}/{file_name}\"\n",
    "                )\n",
    "            )\n",
    "\n",
    "            if path_os not in sys.path:\n",
    "                sys.path.append(path_os)\n",
    "\n",
    "            #table.write(f\"{path_os}{format_csv}\",format='ascii.ecsv', overwrite=True)\n",
    "            table.write(f\"{path_os}\",format='fits', overwrite=True)\n",
    "    #         print(f\"{file_name}\")\n",
    "        ds_fp_cut.append(src_ds)\n",
    "    return ds_fp_cut"
   ]
  },
  {
   "cell_type": "code",
   "execution_count": 74,
   "id": "ef79bbf4",
   "metadata": {},
   "outputs": [],
   "source": [
    "# Table.write.help()"
   ]
  },
  {
   "cell_type": "code",
   "execution_count": 48,
   "id": "d610d96e",
   "metadata": {},
   "outputs": [
    {
     "name": "stdout",
     "output_type": "stream",
     "text": [
      "Directory 'catalogs_data/flux_points_table' created\n",
      "Sources without flux points table: ['2HWC J1825-134', '2HWC J1908+063', 'VER J2227+608']\n"
     ]
    }
   ],
   "source": [
    "path_par, path_dir = mkdir_child_dir(\"catalogs_data\", \"flux_points_table\")\n",
    "\n",
    "df_fp, ds_fp, source_cat = get_source_data2(dict_lhaaso_tevc, catalog_tags)"
   ]
  },
  {
   "cell_type": "code",
   "execution_count": 18,
   "id": "11e43555",
   "metadata": {},
   "outputs": [
    {
     "data": {
      "text/html": [
       "<div>\n",
       "<style scoped>\n",
       "    .dataframe tbody tr th:only-of-type {\n",
       "        vertical-align: middle;\n",
       "    }\n",
       "\n",
       "    .dataframe tbody tr th {\n",
       "        vertical-align: top;\n",
       "    }\n",
       "\n",
       "    .dataframe thead th {\n",
       "        text-align: right;\n",
       "    }\n",
       "</style>\n",
       "<table border=\"1\" class=\"dataframe\">\n",
       "  <thead>\n",
       "    <tr style=\"text-align: right;\">\n",
       "      <th></th>\n",
       "      <th>LHAASO_name</th>\n",
       "      <th>LHAASO_txt</th>\n",
       "      <th>source_name</th>\n",
       "      <th>source_txt</th>\n",
       "      <th>catalog</th>\n",
       "      <th>flux_points</th>\n",
       "    </tr>\n",
       "    <tr>\n",
       "      <th>source_index</th>\n",
       "      <th></th>\n",
       "      <th></th>\n",
       "      <th></th>\n",
       "      <th></th>\n",
       "      <th></th>\n",
       "      <th></th>\n",
       "    </tr>\n",
       "  </thead>\n",
       "  <tbody>\n",
       "    <tr>\n",
       "      <th>0</th>\n",
       "      <td>LHAASO J1825-1326</td>\n",
       "      <td>LHAASOJ1825-1326</td>\n",
       "      <td>HESS J1825-137</td>\n",
       "      <td>HESSJ1825-137</td>\n",
       "      <td>[gamma-cat, hgps, 3fgl, 4fgl, 2fhl, 3fhl]</td>\n",
       "      <td>[gamma-cat, hgps, 3fgl, 4fgl, 2fhl, 3fhl]</td>\n",
       "    </tr>\n",
       "    <tr>\n",
       "      <th>1</th>\n",
       "      <td>LHAASO J1825-1326</td>\n",
       "      <td>LHAASOJ1825-1326</td>\n",
       "      <td>HESS J1826-130</td>\n",
       "      <td>HESSJ1826-130</td>\n",
       "      <td>[gamma-cat, hgps, 4fgl, 3fhl]</td>\n",
       "      <td>[gamma-cat, hgps, 4fgl, 3fhl]</td>\n",
       "    </tr>\n",
       "    <tr>\n",
       "      <th>2</th>\n",
       "      <td>LHAASO J1908+0621</td>\n",
       "      <td>LHAASOJ1908+0621</td>\n",
       "      <td>MGRO J1908+06</td>\n",
       "      <td>MGROJ1908+06</td>\n",
       "      <td>[gamma-cat, 3fgl, 4fgl]</td>\n",
       "      <td>[gamma-cat, 3fgl, 4fgl]</td>\n",
       "    </tr>\n",
       "    <tr>\n",
       "      <th>3</th>\n",
       "      <td>LHAASO J1908+0621</td>\n",
       "      <td>LHAASOJ1908+0621</td>\n",
       "      <td>HESS J1908+063</td>\n",
       "      <td>HESSJ1908+063</td>\n",
       "      <td>[gamma-cat, hgps]</td>\n",
       "      <td>[gamma-cat, hgps]</td>\n",
       "    </tr>\n",
       "    <tr>\n",
       "      <th>4</th>\n",
       "      <td>LHAASO J1908+0621</td>\n",
       "      <td>LHAASOJ1908+0621</td>\n",
       "      <td>ARGO J1907+0627</td>\n",
       "      <td>ARGOJ1907+0627</td>\n",
       "      <td>[gamma-cat]</td>\n",
       "      <td>[gamma-cat]</td>\n",
       "    </tr>\n",
       "    <tr>\n",
       "      <th>5</th>\n",
       "      <td>LHAASO J1908+0621</td>\n",
       "      <td>LHAASOJ1908+0621</td>\n",
       "      <td>VER J1907+062</td>\n",
       "      <td>VERJ1907+062</td>\n",
       "      <td>[gamma-cat]</td>\n",
       "      <td>[gamma-cat]</td>\n",
       "    </tr>\n",
       "    <tr>\n",
       "      <th>6</th>\n",
       "      <td>LHAASO J2226+6057</td>\n",
       "      <td>LHAASOJ2226+6057</td>\n",
       "      <td>Boomerang</td>\n",
       "      <td>Boomerang</td>\n",
       "      <td>[3fgl, 4fgl]</td>\n",
       "      <td>[3fgl, 4fgl]</td>\n",
       "    </tr>\n",
       "  </tbody>\n",
       "</table>\n",
       "</div>"
      ],
      "text/plain": [
       "                    LHAASO_name        LHAASO_txt      source_name  \\\n",
       "source_index                                                         \n",
       "0             LHAASO J1825-1326  LHAASOJ1825-1326   HESS J1825-137   \n",
       "1             LHAASO J1825-1326  LHAASOJ1825-1326   HESS J1826-130   \n",
       "2             LHAASO J1908+0621  LHAASOJ1908+0621    MGRO J1908+06   \n",
       "3             LHAASO J1908+0621  LHAASOJ1908+0621   HESS J1908+063   \n",
       "4             LHAASO J1908+0621  LHAASOJ1908+0621  ARGO J1907+0627   \n",
       "5             LHAASO J1908+0621  LHAASOJ1908+0621    VER J1907+062   \n",
       "6             LHAASO J2226+6057  LHAASOJ2226+6057        Boomerang   \n",
       "\n",
       "                  source_txt                                    catalog  \\\n",
       "source_index                                                              \n",
       "0              HESSJ1825-137  [gamma-cat, hgps, 3fgl, 4fgl, 2fhl, 3fhl]   \n",
       "1              HESSJ1826-130              [gamma-cat, hgps, 4fgl, 3fhl]   \n",
       "2               MGROJ1908+06                    [gamma-cat, 3fgl, 4fgl]   \n",
       "3              HESSJ1908+063                          [gamma-cat, hgps]   \n",
       "4             ARGOJ1907+0627                                [gamma-cat]   \n",
       "5               VERJ1907+062                                [gamma-cat]   \n",
       "6                  Boomerang                               [3fgl, 4fgl]   \n",
       "\n",
       "                                            flux_points  \n",
       "source_index                                             \n",
       "0             [gamma-cat, hgps, 3fgl, 4fgl, 2fhl, 3fhl]  \n",
       "1                         [gamma-cat, hgps, 4fgl, 3fhl]  \n",
       "2                               [gamma-cat, 3fgl, 4fgl]  \n",
       "3                                     [gamma-cat, hgps]  \n",
       "4                                           [gamma-cat]  \n",
       "5                                           [gamma-cat]  \n",
       "6                                          [3fgl, 4fgl]  "
      ]
     },
     "execution_count": 18,
     "metadata": {},
     "output_type": "execute_result"
    }
   ],
   "source": [
    "df_fp"
   ]
  },
  {
   "cell_type": "code",
   "execution_count": 23,
   "id": "0b1ca626",
   "metadata": {},
   "outputs": [
    {
     "name": "stdout",
     "output_type": "stream",
     "text": [
      "lp\n"
     ]
    }
   ],
   "source": [
    "print(ds_fp[0][5].data.reference_spectral_model.tag[1])"
   ]
  },
  {
   "cell_type": "code",
   "execution_count": 24,
   "id": "0d7950de",
   "metadata": {
    "scrolled": true
   },
   "outputs": [
    {
     "name": "stderr",
     "output_type": "stream",
     "text": [
      "No reference model set for FluxMaps. Assuming point source with E^-2 spectrum.\n",
      "No reference model set for FluxMaps. Assuming point source with E^-2 spectrum.\n",
      "No reference model set for FluxMaps. Assuming point source with E^-2 spectrum.\n",
      "No reference model set for FluxMaps. Assuming point source with E^-2 spectrum.\n"
     ]
    },
    {
     "name": "stdout",
     "output_type": "stream",
     "text": [
      "gamma-cat HESSJ1825-137\n",
      "hgps HESSJ1825-137\n",
      "3fgl HESSJ1825-137\n",
      "4fgl HESSJ1825-137\n"
     ]
    },
    {
     "name": "stderr",
     "output_type": "stream",
     "text": [
      "No reference model set for FluxMaps. Assuming point source with E^-2 spectrum.\n",
      "No reference model set for FluxMaps. Assuming point source with E^-2 spectrum.\n",
      "No reference model set for FluxMaps. Assuming point source with E^-2 spectrum.\n",
      "No reference model set for FluxMaps. Assuming point source with E^-2 spectrum.\n"
     ]
    },
    {
     "name": "stdout",
     "output_type": "stream",
     "text": [
      "2fhl HESSJ1825-137\n",
      "3fhl HESSJ1825-137\n",
      "gamma-cat HESSJ1826-130\n",
      "hgps HESSJ1826-130\n"
     ]
    },
    {
     "name": "stderr",
     "output_type": "stream",
     "text": [
      "No reference model set for FluxMaps. Assuming point source with E^-2 spectrum.\n",
      "No reference model set for FluxMaps. Assuming point source with E^-2 spectrum.\n",
      "No reference model set for FluxMaps. Assuming point source with E^-2 spectrum.\n",
      "No reference model set for FluxMaps. Assuming point source with E^-2 spectrum.\n"
     ]
    },
    {
     "name": "stdout",
     "output_type": "stream",
     "text": [
      "4fgl HESSJ1826-130\n",
      "3fhl HESSJ1826-130\n",
      "gamma-cat MGROJ1908+06\n",
      "3fgl MGROJ1908+06\n"
     ]
    },
    {
     "name": "stderr",
     "output_type": "stream",
     "text": [
      "No reference model set for FluxMaps. Assuming point source with E^-2 spectrum.\n",
      "No reference model set for FluxMaps. Assuming point source with E^-2 spectrum.\n",
      "No reference model set for FluxMaps. Assuming point source with E^-2 spectrum.\n"
     ]
    },
    {
     "name": "stdout",
     "output_type": "stream",
     "text": [
      "4fgl MGROJ1908+06\n",
      "gamma-cat HESSJ1908+063\n",
      "hgps HESSJ1908+063\n",
      "gamma-cat ARGOJ1907+0627\n"
     ]
    },
    {
     "name": "stderr",
     "output_type": "stream",
     "text": [
      "No reference model set for FluxMaps. Assuming point source with E^-2 spectrum.\n",
      "No reference model set for FluxMaps. Assuming point source with E^-2 spectrum.\n",
      "No reference model set for FluxMaps. Assuming point source with E^-2 spectrum.\n"
     ]
    },
    {
     "name": "stdout",
     "output_type": "stream",
     "text": [
      "gamma-cat VERJ1907+062\n",
      "3fgl Boomerang\n",
      "4fgl Boomerang\n"
     ]
    },
    {
     "name": "stderr",
     "output_type": "stream",
     "text": [
      "No reference model set for FluxMaps. Assuming point source with E^-2 spectrum.\n"
     ]
    }
   ],
   "source": [
    "ds_fp_cut = flux_points_cut_energy(df_fp = df_fp, ds_fp = ds_fp, e_ref_min=e_ref_min)"
   ]
  },
  {
   "cell_type": "code",
   "execution_count": 25,
   "id": "cf56db58",
   "metadata": {},
   "outputs": [],
   "source": [
    "# to select a source object index: [0-6]\n",
    "src_index = 0"
   ]
  },
  {
   "cell_type": "code",
   "execution_count": 45,
   "id": "09348195",
   "metadata": {},
   "outputs": [
    {
     "name": "stdout",
     "output_type": "stream",
     "text": [
      "      e_ref              e_min              e_max        ...  sqrt_ts  is_ul\n",
      "       MeV                MeV                MeV         ...                \n",
      "------------------ ------------------ ------------------ ... --------- -----\n",
      "173.20508075688775 100.00000000000004 299.99999999999994 ...       0.0  True\n",
      "  547.722557505166 299.99999999999994  999.9999999999998 ...       0.0  True\n",
      "1732.0508075688763  999.9999999999998 2999.9999999999977 ... 0.7911637  True\n",
      " 5477.225575051666 2999.9999999999977  10000.00000000001 ... 7.0210295 False\n",
      " 31622.77660168378  10000.00000000001 100000.00000000001 ... 11.702868 False\n"
     ]
    }
   ],
   "source": [
    "print(ds_fp[src_index][2].data.to_table())"
   ]
  },
  {
   "cell_type": "code",
   "execution_count": 46,
   "id": "08a0a80e",
   "metadata": {},
   "outputs": [
    {
     "name": "stdout",
     "output_type": "stream",
     "text": [
      "      e_ref             e_min             e_max        ...  sqrt_ts  is_ul\n",
      "       MeV               MeV               MeV         ...                \n",
      "----------------- ----------------- ------------------ ... --------- -----\n",
      "31622.77660168378 10000.00000000001 100000.00000000001 ... 11.702868 False\n"
     ]
    }
   ],
   "source": [
    "print(ds_fp_cut[src_index][2].data.to_table())"
   ]
  },
  {
   "cell_type": "code",
   "execution_count": 26,
   "id": "f8c20646",
   "metadata": {},
   "outputs": [],
   "source": [
    "LHAASO_txt = df_fp[\"LHAASO_txt\"][src_index]\n",
    "\n",
    "src_txt = df_fp[\"source_txt\"][src_index]\n",
    "\n",
    "cat_tag = df_fp[\"catalog\"][src_index][4]\n",
    "\n",
    "file_name = f'{LHAASO_txt}_{src_txt}_{cat_tag}_cut_{e_ref_min_name}{format_fits}'"
   ]
  },
  {
   "cell_type": "code",
   "execution_count": 27,
   "id": "a59fd4cc",
   "metadata": {},
   "outputs": [
    {
     "data": {
      "text/plain": [
       "'LHAASOJ1825-1326_HESSJ1825-137_2fhl_cut_10.0GeV.fits'"
      ]
     },
     "execution_count": 27,
     "metadata": {},
     "output_type": "execute_result"
    }
   ],
   "source": [
    "file_name"
   ]
  },
  {
   "cell_type": "code",
   "execution_count": 31,
   "id": "8e288c3a",
   "metadata": {
    "scrolled": false
   },
   "outputs": [
    {
     "name": "stdout",
     "output_type": "stream",
     "text": [
      " e_ref         dnde         dnde_errn       dnde_errp   \n",
      "  TeV    1 / (cm2 s TeV) 1 / (cm2 s TeV) 1 / (cm2 s TeV)\n",
      "-------- --------------- --------------- ---------------\n",
      "0.277619      3.4357e-10     2.25161e-11     2.25247e-11\n",
      "0.430245     1.29701e-10      5.3648e-12     5.36768e-12\n",
      "0.691719     4.96572e-11     1.68327e-12     1.68482e-12\n",
      " 1.11424     1.60828e-11     6.02303e-13     6.03157e-13\n",
      " 1.79312     5.03824e-12     2.36614e-13     2.37046e-13\n",
      "  2.8884      1.8275e-12     9.82834e-14     9.85326e-14\n",
      "  4.6527     5.03522e-13     4.19123e-14     4.20289e-14\n",
      " 7.50195     1.46751e-13     1.75488e-14     1.76157e-14\n",
      " 12.0843     5.04029e-14     7.15292e-15     7.19918e-15\n",
      " 19.4657     1.33743e-14     3.05909e-15     3.08613e-15\n",
      " 31.3861     2.32419e-15     1.09291e-15     1.10807e-15\n"
     ]
    }
   ],
   "source": [
    "print(source_cat[src_index][0].flux_points_table)"
   ]
  },
  {
   "cell_type": "code",
   "execution_count": 56,
   "id": "867b4e77",
   "metadata": {},
   "outputs": [
    {
     "data": {
      "text/plain": [
       "PosixPath('catalogs_data/flux_points_table/LHAASOJ1825-1326_HESSJ1825-137_2fhl_cut_10.0GeV.fits')"
      ]
     },
     "execution_count": 56,
     "metadata": {},
     "output_type": "execute_result"
    }
   ],
   "source": [
    "filename = make_path(f'{path_dir}/{file_name}')\n",
    "\n",
    "# table.write(filename,format=format_type, overwrite=True)\n",
    "filename"
   ]
  },
  {
   "cell_type": "code",
   "execution_count": 67,
   "id": "65830464",
   "metadata": {},
   "outputs": [
    {
     "name": "stderr",
     "output_type": "stream",
     "text": [
      "No reference model set for FluxMaps. Assuming point source with E^-2 spectrum.\n"
     ]
    },
    {
     "data": {
      "image/png": "[encoded data removed]",
      "text/plain": [
       "<Figure size 640x480 with 1 Axes>"
      ]
     },
     "metadata": {},
     "output_type": "display_data"
    }
   ],
   "source": [
    "flux_points = FluxPoints.from_table(flux_points.to_table(), sed_type=\"e2dnde\")\n",
    "flux_points.plot()\n",
    "\n",
    "ds = FluxPointsDataset(\n",
    "                                data=flux_points, \n",
    "                                name=\"ds_name\"\n",
    "                            )"
   ]
  },
  {
   "cell_type": "code",
   "execution_count": 73,
   "id": "b85c3172",
   "metadata": {},
   "outputs": [
    {
     "data": {
      "text/plain": [
       "<AxesSubplot: xlabel='Energy [GeV]', ylabel='e2dnde [erg / (cm2 s)]'>"
      ]
     },
     "execution_count": 73,
     "metadata": {},
     "output_type": "execute_result"
    },
    {
     "data": {
      "image/png": "[encoded data removed]",
      "text/plain": [
       "<Figure size 640x480 with 1 Axes>"
      ]
     },
     "metadata": {},
     "output_type": "display_data"
    }
   ],
   "source": [
    "flux_points.plot(sed_type=\"e2dnde\") "
   ]
  },
  {
   "cell_type": "code",
   "execution_count": 70,
   "id": "0aa07185",
   "metadata": {},
   "outputs": [
    {
     "name": "stdout",
     "output_type": "stream",
     "text": [
      "Directory 'catalogs_data/flux_points_images' created\n"
     ]
    },
    {
     "ename": "NameError",
     "evalue": "name 'LHAASO_name' is not defined",
     "output_type": "error",
     "traceback": [
      "\u001b[0;31m---------------------------------------------------------------------------\u001b[0m",
      "\u001b[0;31mNameError\u001b[0m                                 Traceback (most recent call last)",
      "Input \u001b[0;32mIn [70]\u001b[0m, in \u001b[0;36m<cell line: 18>\u001b[0;34m()\u001b[0m\n\u001b[1;32m     16\u001b[0m energy_bounds \u001b[38;5;241m=\u001b[39m [\u001b[38;5;241m1e-3\u001b[39m, \u001b[38;5;241m1e3\u001b[39m] \u001b[38;5;241m*\u001b[39m u\u001b[38;5;241m.\u001b[39mTeV\n\u001b[1;32m     17\u001b[0m ylim \u001b[38;5;241m=\u001b[39m [\u001b[38;5;241m1e-13\u001b[39m, \u001b[38;5;241m1e-9\u001b[39m]\n\u001b[0;32m---> 18\u001b[0m \u001b[43mprint_SED\u001b[49m\u001b[43m(\u001b[49m\u001b[43mspec_model\u001b[49m\u001b[38;5;241;43m=\u001b[39;49m\u001b[43mspec_model\u001b[49m\u001b[43m,\u001b[49m\u001b[43m \u001b[49m\u001b[43msed_type\u001b[49m\u001b[43m \u001b[49m\u001b[38;5;241;43m=\u001b[39;49m\u001b[43m \u001b[49m\u001b[38;5;124;43m\"\u001b[39;49m\u001b[38;5;124;43me2dnde\u001b[39;49m\u001b[38;5;124;43m\"\u001b[39;49m\u001b[43m,\u001b[49m\u001b[43m \u001b[49m\u001b[43myaxis_units\u001b[49m\u001b[38;5;241;43m=\u001b[39;49m\u001b[38;5;124;43m\"\u001b[39;49m\u001b[38;5;124;43merg cm-2 s-1\u001b[39;49m\u001b[38;5;124;43m\"\u001b[39;49m\u001b[43m,\u001b[49m\u001b[43m \u001b[49m\u001b[43menergy_bounds\u001b[49m\u001b[38;5;241;43m=\u001b[39;49m\u001b[43menergy_bounds\u001b[49m\u001b[43m,\u001b[49m\u001b[43m \u001b[49m\u001b[43mylim\u001b[49m\u001b[38;5;241;43m=\u001b[39;49m\u001b[43mylim\u001b[49m\u001b[43m)\u001b[49m\n",
      "Input \u001b[0;32mIn [7]\u001b[0m, in \u001b[0;36mprint_SED\u001b[0;34m(spec_model, sed_type, yaxis_units, energy_bounds, ylim)\u001b[0m\n\u001b[1;32m     31\u001b[0m ax\u001b[38;5;241m.\u001b[39mset_xlim(energy_bounds)\n\u001b[1;32m     32\u001b[0m ax\u001b[38;5;241m.\u001b[39mlegend()\n\u001b[0;32m---> 34\u001b[0m plt\u001b[38;5;241m.\u001b[39mtitle(\u001b[38;5;124mf\u001b[39m\u001b[38;5;124m\"\u001b[39m\u001b[38;5;132;01m{\u001b[39;00m\u001b[43mLHAASO_name\u001b[49m\u001b[38;5;132;01m}\u001b[39;00m\u001b[38;5;124m: \u001b[39m\u001b[38;5;132;01m{\u001b[39;00msrc_name\u001b[38;5;132;01m}\u001b[39;00m\u001b[38;5;124m\"\u001b[39m)\n\u001b[1;32m     36\u001b[0m plt\u001b[38;5;241m.\u001b[39msavefig(file, bbox_inches\u001b[38;5;241m=\u001b[39m\u001b[38;5;124m'\u001b[39m\u001b[38;5;124mtight\u001b[39m\u001b[38;5;124m'\u001b[39m)\n\u001b[1;32m     37\u001b[0m plt\u001b[38;5;241m.\u001b[39mshow()\n",
      "\u001b[0;31mNameError\u001b[0m: name 'LHAASO_name' is not defined"
     ]
    },
    {
     "data": {
      "image/png": "[encoded data removed]",
      "text/plain": [
       "<Figure size 640x480 with 1 Axes>"
      ]
     },
     "metadata": {},
     "output_type": "display_data"
    }
   ],
   "source": [
    "spec_model = LogParabolaSpectralModel(\n",
    "    alpha=2, \n",
    "    amplitude=\"1e-12 cm-2 s-1 TeV-1\", \n",
    "    reference=\"1 TeV\", \n",
    "    beta=0.1\n",
    ")\n",
    "\n",
    "sky_model = SkyModel(spectral_model=spec_model, name=\"logparabola\")\n",
    "\n",
    "datasets = Datasets(ds)\n",
    "datasets.models = sky_model\n",
    "\n",
    "fitter = Fit()\n",
    "\n",
    "result_log_parabola = fitter.run(datasets=datasets)\n",
    "\n",
    "# opts = dict(sed_type=\"e2dnde\", yunits=u.Unit(\"TeV cm-2 s-1\"))\n",
    "energy_bounds = [1e-3, 1e3] * u.TeV\n",
    "ylim = [1e-13, 1e-9]\n",
    "print_SED(spec_model=spec_model, sed_type = \"e2dnde\", yaxis_units=\"erg cm-2 s-1\", energy_bounds=energy_bounds, ylim=ylim)"
   ]
  },
  {
   "cell_type": "code",
   "execution_count": 113,
   "id": "2ba69ef0",
   "metadata": {},
   "outputs": [
    {
     "name": "stdout",
     "output_type": "stream",
     "text": [
      "Datasets\n",
      "--------\n",
      "\n",
      "Dataset 0: \n",
      "\n",
      "  Type       : FluxPointsDataset\n",
      "  Name       : gamma-cat\n",
      "  Instrument : \n",
      "  Models     : \n",
      "\n",
      "Dataset 1: \n",
      "\n",
      "  Type       : FluxPointsDataset\n",
      "  Name       : hgps\n",
      "  Instrument : \n",
      "  Models     : \n",
      "\n",
      "Dataset 2: \n",
      "\n",
      "  Type       : FluxPointsDataset\n",
      "  Name       : 4fgl\n",
      "  Instrument : \n",
      "  Models     : \n",
      "\n",
      "Dataset 3: \n",
      "\n",
      "  Type       : FluxPointsDataset\n",
      "  Name       : 3fhl\n",
      "  Instrument : \n",
      "  Models     : \n",
      "\n",
      "\n"
     ]
    }
   ],
   "source": [
    "print(datasets)"
   ]
  },
  {
   "cell_type": "code",
   "execution_count": 116,
   "id": "17dd66ec",
   "metadata": {},
   "outputs": [
    {
     "ename": "NameError",
     "evalue": "name 'slice_by_energy' is not defined",
     "output_type": "error",
     "traceback": [
      "\u001b[0;31m---------------------------------------------------------------------------\u001b[0m",
      "\u001b[0;31mNameError\u001b[0m                                 Traceback (most recent call last)",
      "Input \u001b[0;32mIn [116]\u001b[0m, in \u001b[0;36m<cell line: 1>\u001b[0;34m()\u001b[0m\n\u001b[0;32m----> 1\u001b[0m help(\u001b[43mslice_by_energy\u001b[49m())\n",
      "\u001b[0;31mNameError\u001b[0m: name 'slice_by_energy' is not defined"
     ]
    }
   ],
   "source": [
    "help(slice_by_energy())"
   ]
  },
  {
   "cell_type": "code",
   "execution_count": 124,
   "id": "acf4d69c",
   "metadata": {
    "scrolled": true
   },
   "outputs": [
    {
     "ename": "AttributeError",
     "evalue": "'Datasets' object has no attribute 'energy_range'",
     "output_type": "error",
     "traceback": [
      "\u001b[0;31m---------------------------------------------------------------------------\u001b[0m",
      "\u001b[0;31mAttributeError\u001b[0m                            Traceback (most recent call last)",
      "Input \u001b[0;32mIn [124]\u001b[0m, in \u001b[0;36m<cell line: 1>\u001b[0;34m()\u001b[0m\n\u001b[0;32m----> 1\u001b[0m \u001b[43mdatasets\u001b[49m\u001b[38;5;241;43m.\u001b[39;49m\u001b[43menergy_range\u001b[49m\n",
      "\u001b[0;31mAttributeError\u001b[0m: 'Datasets' object has no attribute 'energy_range'"
     ]
    }
   ],
   "source": [
    "datasets.energy_range"
   ]
  },
  {
   "cell_type": "code",
   "execution_count": 57,
   "id": "37deacfa",
   "metadata": {},
   "outputs": [
    {
     "name": "stderr",
     "output_type": "stream",
     "text": [
      "No reference model set for FluxMaps. Assuming point source with E^-2 spectrum.\n"
     ]
    },
    {
     "data": {
      "text/html": [
       "<div><i>Table length=3</i>\n",
       "<table id=\"table139893113507312\" class=\"table-striped table-bordered table-condensed\">\n",
       "<thead><tr><th>e_ref</th><th>e_min</th><th>e_max</th><th>e2dnde</th><th>e2dnde_errp</th><th>e2dnde_errn</th><th>e2dnde_ul</th><th>is_ul</th></tr></thead>\n",
       "<thead><tr><th>GeV</th><th>GeV</th><th>GeV</th><th>GeV2 / (cm2 s TeV)</th><th>GeV2 / (cm2 s TeV)</th><th>GeV2 / (cm2 s TeV)</th><th>GeV2 / (cm2 s TeV)</th><th></th></tr></thead>\n",
       "<thead><tr><th>float64</th><th>float64</th><th>float64</th><th>float64</th><th>float64</th><th>float64</th><th>float64</th><th>bool</th></tr></thead>\n",
       "<tr><td>92.46621004453468</td><td>49.99999999999999</td><td>171.00000000000009</td><td>3.582724220602357e-05</td><td>4.042603287248224e-06</td><td>3.873243500206649e-06</td><td>nan</td><td>False</td></tr>\n",
       "<tr><td>316.2831010345007</td><td>171.00000000000009</td><td>585.0000000000002</td><td>4.1028085059781424e-05</td><td>7.248461786633249e-06</td><td>6.625950486312987e-06</td><td>nan</td><td>False</td></tr>\n",
       "<tr><td>1081.6653826391964</td><td>585.0000000000002</td><td>1999.9999999999998</td><td>4.2741635540042925e-05</td><td>1.5656208661662883e-05</td><td>1.3290404333602845e-05</td><td>nan</td><td>False</td></tr>\n",
       "</table></div>"
      ],
      "text/plain": [
       "<Table length=3>\n",
       "      e_ref              e_min        ...     e2dnde_ul      is_ul\n",
       "       GeV                GeV         ... GeV2 / (cm2 s TeV)      \n",
       "     float64            float64       ...      float64        bool\n",
       "------------------ ------------------ ... ------------------ -----\n",
       " 92.46621004453468  49.99999999999999 ...                nan False\n",
       " 316.2831010345007 171.00000000000009 ...                nan False\n",
       "1081.6653826391964  585.0000000000002 ...                nan False"
      ]
     },
     "execution_count": 57,
     "metadata": {},
     "output_type": "execute_result"
    }
   ],
   "source": [
    "flux_points_energy = FluxPoints.read(filename)\n",
    "flux_points_energy.to_table()"
   ]
  },
  {
   "cell_type": "code",
   "execution_count": 58,
   "id": "f82367d4",
   "metadata": {},
   "outputs": [
    {
     "data": {
      "text/plain": [
       "<AxesSubplot: xlabel='Energy [GeV]', ylabel='e2dnde [erg / (cm2 s)]'>"
      ]
     },
     "execution_count": 58,
     "metadata": {},
     "output_type": "execute_result"
    },
    {
     "data": {
      "image/png": "[encoded data removed]",
      "text/plain": [
       "<Figure size 640x480 with 1 Axes>"
      ]
     },
     "metadata": {},
     "output_type": "display_data"
    }
   ],
   "source": [
    "flux_points_energy.plot() "
   ]
  },
  {
   "cell_type": "markdown",
   "id": "2d045d29",
   "metadata": {},
   "source": [
    "### LHAASOJ1825-1326: HESSJ1825-137"
   ]
  },
  {
   "cell_type": "code",
   "execution_count": null,
   "id": "62f066a7",
   "metadata": {},
   "outputs": [],
   "source": [
    "# to select a source object index: [0-6]\n",
    "src_index = 0\n",
    "\n",
    "LHAASO_txt = df_fp[\"LHAASO_txt\"][src_index]\n",
    "LHAASO_name = df_fp[\"LHAASO_name\"][src_index]\n",
    "\n",
    "src_txt = df_fp[\"source_txt\"][src_index]\n",
    "src_name = df_fp[\"source_name\"][src_index]\n",
    "\n",
    "ds_src = ds_fp_cut[src_index]"
   ]
  },
  {
   "cell_type": "code",
   "execution_count": null,
   "id": "cbdc319a",
   "metadata": {},
   "outputs": [],
   "source": [
    "print(source_cat[src_index][2].spectral_model())"
   ]
  },
  {
   "cell_type": "code",
   "execution_count": null,
   "id": "49c756f5",
   "metadata": {},
   "outputs": [],
   "source": [
    "spec_model = LogParabolaSpectralModel(\n",
    "    alpha=2, \n",
    "    amplitude=\"1e-12 cm-2 s-1 TeV-1\", \n",
    "    reference=\"1 TeV\", \n",
    "    beta=0.1\n",
    ")\n",
    "\n",
    "sky_model = SkyModel(spectral_model=spec_model, name=\"logparabola\")"
   ]
  },
  {
   "cell_type": "code",
   "execution_count": null,
   "id": "fa0c1bf5",
   "metadata": {},
   "outputs": [],
   "source": [
    "datasets = Datasets(ds_src)\n",
    "datasets.models = sky_model\n",
    "\n",
    "fitter = Fit()\n",
    "\n",
    "result_log_parabola = fitter.run(datasets=datasets)"
   ]
  },
  {
   "cell_type": "code",
   "execution_count": null,
   "id": "f34a23c5",
   "metadata": {},
   "outputs": [],
   "source": [
    "print(result_log_parabola.models)"
   ]
  },
  {
   "cell_type": "code",
   "execution_count": null,
   "id": "01764bb7",
   "metadata": {},
   "outputs": [],
   "source": [
    "energy_bounds = [1e-3, 1e3] * u.TeV\n",
    "ylim = [1e-13, 1e-9]\n",
    "print_SED(spec_model=spec_model, sed_type = \"e2dnde\", yaxis_units=\"erg cm-2 s-1\", energy_bounds=energy_bounds, ylim=ylim)"
   ]
  },
  {
   "cell_type": "code",
   "execution_count": null,
   "id": "b50b334c",
   "metadata": {},
   "outputs": [],
   "source": []
  },
  {
   "cell_type": "markdown",
   "id": "1a7e8c58",
   "metadata": {},
   "source": [
    "### LHAASOJ1825-1326: HESSJ1826-130"
   ]
  },
  {
   "cell_type": "code",
   "execution_count": null,
   "id": "72e4f64f",
   "metadata": {},
   "outputs": [],
   "source": []
  },
  {
   "cell_type": "code",
   "execution_count": null,
   "id": "d62b8d97",
   "metadata": {},
   "outputs": [],
   "source": [
    "# to select a source object index: [0-6]\n",
    "src_index = 6\n",
    "cat_index = 1\n",
    "# src = source_cat[src_index][0]\n",
    "\n",
    "LHAASO_txt = df_fp[\"LHAASO_txt\"][src_index]\n",
    "LHAASO_name = df_fp[\"LHAASO_name\"][src_index]\n",
    "\n",
    "src_txt = df_fp[\"source_txt\"][src_index]\n",
    "src_name = df_fp[\"source_name\"][src_index]\n",
    "\n",
    "ds_src = ds_fp_cut[src_index]\n"
   ]
  },
  {
   "cell_type": "code",
   "execution_count": null,
   "id": "b73f37f3",
   "metadata": {
    "scrolled": true
   },
   "outputs": [],
   "source": [
    "print(source_cat[src_index][cat_index].spectral_model())"
   ]
  },
  {
   "cell_type": "code",
   "execution_count": null,
   "id": "ac7f29ee",
   "metadata": {},
   "outputs": [],
   "source": [
    "# help(SuperExpCutoffPowerLaw4FGLDR3SpectralModel())"
   ]
  },
  {
   "cell_type": "code",
   "execution_count": null,
   "id": "63ed7454",
   "metadata": {},
   "outputs": [],
   "source": [
    "spec_model = source_cat[src_index][cat_index].spectral_model()\n",
    "\n",
    "sky_model = SkyModel(spectral_model=spec_model, name=spec_model.tag[1])"
   ]
  },
  {
   "cell_type": "code",
   "execution_count": null,
   "id": "52c3f8ae",
   "metadata": {},
   "outputs": [],
   "source": [
    "datasets = Datasets(ds_src)\n",
    "datasets.models = sky_model\n",
    "\n",
    "fitter = Fit()\n",
    "\n",
    "result_log_parabola = fitter.run(datasets=datasets)"
   ]
  },
  {
   "cell_type": "code",
   "execution_count": null,
   "id": "fd9bf186",
   "metadata": {},
   "outputs": [],
   "source": [
    "print(result_log_parabola.models)"
   ]
  },
  {
   "cell_type": "code",
   "execution_count": null,
   "id": "6eea68e4",
   "metadata": {},
   "outputs": [],
   "source": [
    "energy_bounds = [1e-3, 1e3] * u.TeV\n",
    "ylim = [1e-16, 1e-9]\n",
    "print_SED(spec_model=spec_model, sed_type = \"e2dnde\", yaxis_units=\"erg cm-2 s-1\", energy_bounds=energy_bounds, ylim=ylim)"
   ]
  },
  {
   "cell_type": "code",
   "execution_count": 141,
   "id": "767f0c78",
   "metadata": {},
   "outputs": [
    {
     "ename": "AttributeError",
     "evalue": "'FluxPointsDataset' object has no attribute 'slice_by_energy'",
     "output_type": "error",
     "traceback": [
      "\u001b[0;31m---------------------------------------------------------------------------\u001b[0m",
      "\u001b[0;31mAttributeError\u001b[0m                            Traceback (most recent call last)",
      "Input \u001b[0;32mIn [141]\u001b[0m, in \u001b[0;36m<cell line: 1>\u001b[0;34m()\u001b[0m\n\u001b[0;32m----> 1\u001b[0m \u001b[43mdatasets\u001b[49m\u001b[38;5;241;43m.\u001b[39;49m\u001b[43mslice_by_energy\u001b[49m\u001b[43m(\u001b[49m\u001b[38;5;241;43m1e3\u001b[39;49m\u001b[43m \u001b[49m\u001b[38;5;241;43m*\u001b[39;49m\u001b[43m \u001b[49m\u001b[43mu\u001b[49m\u001b[38;5;241;43m.\u001b[39;49m\u001b[43mTeV\u001b[49m\u001b[43m,\u001b[49m\u001b[43m \u001b[49m\u001b[38;5;241;43m1e4\u001b[39;49m\u001b[43m \u001b[49m\u001b[38;5;241;43m*\u001b[39;49m\u001b[43m \u001b[49m\u001b[43mu\u001b[49m\u001b[38;5;241;43m.\u001b[39;49m\u001b[43mTeV\u001b[49m\u001b[43m)\u001b[49m\n",
      "File \u001b[0;32m~/anaconda3/envs/gammapy-1.0/lib/python3.9/site-packages/gammapy/datasets/core.py:277\u001b[0m, in \u001b[0;36mDatasets.slice_by_energy\u001b[0;34m(self, energy_min, energy_max)\u001b[0m\n\u001b[1;32m    275\u001b[0m \u001b[38;5;28;01mfor\u001b[39;00m dataset \u001b[38;5;129;01min\u001b[39;00m \u001b[38;5;28mself\u001b[39m:\n\u001b[1;32m    276\u001b[0m     \u001b[38;5;28;01mtry\u001b[39;00m:\n\u001b[0;32m--> 277\u001b[0m         dataset_sliced \u001b[38;5;241m=\u001b[39m \u001b[43mdataset\u001b[49m\u001b[38;5;241;43m.\u001b[39;49m\u001b[43mslice_by_energy\u001b[49m(\n\u001b[1;32m    278\u001b[0m             energy_min\u001b[38;5;241m=\u001b[39menergy_min,\n\u001b[1;32m    279\u001b[0m             energy_max\u001b[38;5;241m=\u001b[39menergy_max,\n\u001b[1;32m    280\u001b[0m             name\u001b[38;5;241m=\u001b[39mdataset\u001b[38;5;241m.\u001b[39mname,\n\u001b[1;32m    281\u001b[0m         )\n\u001b[1;32m    282\u001b[0m     \u001b[38;5;28;01mexcept\u001b[39;00m \u001b[38;5;167;01mValueError\u001b[39;00m:\n\u001b[1;32m    283\u001b[0m         log\u001b[38;5;241m.\u001b[39minfo(\n\u001b[1;32m    284\u001b[0m             \u001b[38;5;124mf\u001b[39m\u001b[38;5;124m\"\u001b[39m\u001b[38;5;124mDataset \u001b[39m\u001b[38;5;132;01m{\u001b[39;00mdataset\u001b[38;5;241m.\u001b[39mname\u001b[38;5;132;01m}\u001b[39;00m\u001b[38;5;124m does not contribute in the energy range\u001b[39m\u001b[38;5;124m\"\u001b[39m\n\u001b[1;32m    285\u001b[0m         )\n",
      "\u001b[0;31mAttributeError\u001b[0m: 'FluxPointsDataset' object has no attribute 'slice_by_energy'"
     ]
    }
   ],
   "source": [
    "datasets.slice_by_energy(1e3 * u.TeV, 1e4 * u.TeV)\n"
   ]
  },
  {
   "cell_type": "code",
   "execution_count": 139,
   "id": "a05ccb93",
   "metadata": {},
   "outputs": [
    {
     "ename": "AttributeError",
     "evalue": "'FluxPointsDataset' object has no attribute 'counts'",
     "output_type": "error",
     "traceback": [
      "\u001b[0;31m---------------------------------------------------------------------------\u001b[0m",
      "\u001b[0;31mAttributeError\u001b[0m                            Traceback (most recent call last)",
      "Input \u001b[0;32mIn [139]\u001b[0m, in \u001b[0;36m<cell line: 1>\u001b[0;34m()\u001b[0m\n\u001b[0;32m----> 1\u001b[0m \u001b[38;5;28mprint\u001b[39m(\u001b[43mds_src\u001b[49m\u001b[43m[\u001b[49m\u001b[38;5;241;43m1\u001b[39;49m\u001b[43m]\u001b[49m\u001b[38;5;241;43m.\u001b[39;49m\u001b[43mcounts\u001b[49m\u001b[38;5;241m.\u001b[39mgeom\u001b[38;5;241m.\u001b[39menergy_mask(\u001b[38;5;241m10\u001b[39m \u001b[38;5;241m*\u001b[39m u\u001b[38;5;241m.\u001b[39mGeV, \u001b[38;5;241m700\u001b[39m \u001b[38;5;241m*\u001b[39m u\u001b[38;5;241m.\u001b[39mGeV))\n",
      "\u001b[0;31mAttributeError\u001b[0m: 'FluxPointsDataset' object has no attribute 'counts'"
     ]
    }
   ],
   "source": [
    "#load precomputed flux points\n",
    "filename = \"$GAMMAPY_DATA/tests/spectrum/flux_points/diff_flux_points.fits\"\n",
    "flux_points = FluxPoints.read(filename)\n",
    "model = SkyModel(spectral_model=PowerLawSpectralModel())\n",
    "dataset = FluxPointsDataset(model, flux_points)\n",
    "#configuring optional parameters\n",
    "kwargs_spectrum = {\"kwargs_model\": {\"color\":\"red\", \"ls\":\"--\"}, \"kwargs_fp\":{\"color\":\"green\", \"marker\":\"o\"}}  # noqa: E501\n",
    "kwargs_residuals = {\"color\": \"blue\", \"markersize\":4, \"marker\":'s', }\n",
    "dataset.plot_fit(kwargs_residuals=kwargs_residuals, kwargs_spectrum=kwargs_spectrum) "
   ]
  },
  {
   "cell_type": "code",
   "execution_count": null,
   "id": "72d8387c",
   "metadata": {},
   "outputs": [],
   "source": []
  },
  {
   "cell_type": "code",
   "execution_count": 60,
   "id": "36fb9615",
   "metadata": {},
   "outputs": [
    {
     "name": "stderr",
     "output_type": "stream",
     "text": [
      "No reference model set for FluxMaps. Assuming point source with E^-2 spectrum.\n"
     ]
    },
    {
     "data": {
      "text/html": [
       "<div><i>Table length=3</i>\n",
       "<table id=\"table139893089211872\" class=\"table-striped table-bordered table-condensed\">\n",
       "<thead><tr><th>e_ref</th><th>e_min</th><th>e_max</th><th>e2dnde</th><th>e2dnde_errp</th><th>e2dnde_errn</th><th>e2dnde_ul</th><th>is_ul</th></tr></thead>\n",
       "<thead><tr><th>GeV</th><th>GeV</th><th>GeV</th><th>GeV2 / (cm2 s TeV)</th><th>GeV2 / (cm2 s TeV)</th><th>GeV2 / (cm2 s TeV)</th><th>GeV2 / (cm2 s TeV)</th><th></th></tr></thead>\n",
       "<thead><tr><th>float64</th><th>float64</th><th>float64</th><th>float64</th><th>float64</th><th>float64</th><th>float64</th><th>bool</th></tr></thead>\n",
       "<tr><td>92.46621004453468</td><td>49.99999999999999</td><td>171.00000000000009</td><td>3.582724220602357e-05</td><td>4.042603287248224e-06</td><td>3.873243500206649e-06</td><td>nan</td><td>False</td></tr>\n",
       "<tr><td>316.2831010345007</td><td>171.00000000000009</td><td>585.0000000000002</td><td>4.1028085059781424e-05</td><td>7.248461786633249e-06</td><td>6.625950486312987e-06</td><td>nan</td><td>False</td></tr>\n",
       "<tr><td>1081.6653826391964</td><td>585.0000000000002</td><td>1999.9999999999998</td><td>4.2741635540042925e-05</td><td>1.5656208661662883e-05</td><td>1.3290404333602845e-05</td><td>nan</td><td>False</td></tr>\n",
       "</table></div>"
      ],
      "text/plain": [
       "<Table length=3>\n",
       "      e_ref              e_min        ...     e2dnde_ul      is_ul\n",
       "       GeV                GeV         ... GeV2 / (cm2 s TeV)      \n",
       "     float64            float64       ...      float64        bool\n",
       "------------------ ------------------ ... ------------------ -----\n",
       " 92.46621004453468  49.99999999999999 ...                nan False\n",
       " 316.2831010345007 171.00000000000009 ...                nan False\n",
       "1081.6653826391964  585.0000000000002 ...                nan False"
      ]
     },
     "execution_count": 60,
     "metadata": {},
     "output_type": "execute_result"
    }
   ],
   "source": [
    "flux_points = FluxPoints.read(filename)\n",
    "flux_points.to_table()"
   ]
  },
  {
   "cell_type": "code",
   "execution_count": null,
   "id": "384db9c1",
   "metadata": {},
   "outputs": [],
   "source": [
    "flux_points.energy_ref.to(u.TeV)"
   ]
  },
  {
   "cell_type": "markdown",
   "id": "11d0fa56",
   "metadata": {},
   "source": [
    "\"QQQQQQQQQQQQQQQQQQQQQQQQQQQQQQQQQQQQQQQQQQQQQQQQQQQQQQQQ"
   ]
  },
  {
   "cell_type": "code",
   "execution_count": null,
   "id": "e84dad1f",
   "metadata": {},
   "outputs": [],
   "source": [
    "flux_points.plot() \n"
   ]
  },
  {
   "cell_type": "code",
   "execution_count": null,
   "id": "80da1a83",
   "metadata": {},
   "outputs": [],
   "source": [
    "flux_points_energy = FluxPoints.from_table(flux_points_mask)\n"
   ]
  },
  {
   "cell_type": "code",
   "execution_count": null,
   "id": "bf1e9fd2",
   "metadata": {},
   "outputs": [],
   "source": [
    "flux_points_energy.plot() \n"
   ]
  },
  {
   "cell_type": "code",
   "execution_count": null,
   "id": "597930dc",
   "metadata": {},
   "outputs": [],
   "source": []
  },
  {
   "cell_type": "code",
   "execution_count": null,
   "id": "0aecc562",
   "metadata": {},
   "outputs": [],
   "source": [
    "flux_points_cut_energy()"
   ]
  },
  {
   "cell_type": "code",
   "execution_count": null,
   "id": "d0cf223f",
   "metadata": {
    "scrolled": true
   },
   "outputs": [],
   "source": [
    "type(catalog_3fhl_bright)"
   ]
  },
  {
   "cell_type": "code",
   "execution_count": null,
   "id": "3d5dab3e",
   "metadata": {},
   "outputs": [],
   "source": [
    "type(flux_points1.dnde)"
   ]
  },
  {
   "cell_type": "code",
   "execution_count": null,
   "id": "6b8214d0",
   "metadata": {},
   "outputs": [],
   "source": [
    "type(flux_points.dnde)"
   ]
  },
  {
   "cell_type": "code",
   "execution_count": null,
   "id": "cca35eda",
   "metadata": {},
   "outputs": [],
   "source": [
    "flux_points1 = FluxPoints.from_table(catalog_3fhl_bright)\n"
   ]
  },
  {
   "cell_type": "code",
   "execution_count": null,
   "id": "5980ed72",
   "metadata": {},
   "outputs": [],
   "source": [
    "flux_points1.plot(sed_type=\"e2dnde\") \n"
   ]
  },
  {
   "cell_type": "code",
   "execution_count": null,
   "id": "d0a5bf1e",
   "metadata": {},
   "outputs": [],
   "source": []
  },
  {
   "cell_type": "code",
   "execution_count": null,
   "id": "f79f98a3",
   "metadata": {},
   "outputs": [],
   "source": [
    "sed_type=\"e2dnde\"\n",
    "\n",
    "\n",
    "energy_bounds = [1e-7, 1e2] * energy_unit\n",
    "ylim = [1e-20, 1e-9]\n",
    "yaxis_units= flux_unit\n",
    "\n",
    "# flux_points = FluxPoints.read(filename)\n",
    "flux_points = ds_fp[4][0].data\n",
    "\n",
    "ax = plt.subplot()\n",
    "ax.yaxis.set_units(u.Unit(yaxis_units))\n",
    "ax.xaxis.set_units(u.Unit(energy_unit))\n",
    "\n",
    "kwargs = {\n",
    "    \"ax\": ax, \n",
    "    \"sed_type\": sed_type\n",
    "}    \n",
    "\n",
    "flux_points.plot(label=cat_tag, **kwargs) \n",
    "\n",
    "ax.set_ylim(ylim)\n",
    "ax.set_xlim(energy_bounds)\n",
    "ax.legend()\n",
    "\n",
    "plt.title(f\"{LHAASO_txt}: {src_txt}\")\n",
    "\n",
    "# plt.savefig(file, bbox_inches='tight')\n",
    "plt.show()"
   ]
  },
  {
   "cell_type": "code",
   "execution_count": null,
   "id": "5d363b3a",
   "metadata": {},
   "outputs": [],
   "source": [
    "# Setting the source to analasis {}\n",
    "src_index = 3\n",
    "\n",
    "LHAASO_name = list(dict(df[\"LHAASO\"]).values())[src_index]\n",
    "LHAASO_txt = LHAASO_txt.replace(\" \", \"\")\n",
    "\n",
    "src_name = list(dict(df[\"TeV Conterpart\"]).values())[src_index]\n",
    "src_txt = src_name.replace(\" \", \"\")\n"
   ]
  },
  {
   "cell_type": "code",
   "execution_count": null,
   "id": "0cf0c06b",
   "metadata": {
    "scrolled": true
   },
   "outputs": [],
   "source": [
    "\n"
   ]
  },
  {
   "cell_type": "code",
   "execution_count": null,
   "id": "a480fab8",
   "metadata": {},
   "outputs": [],
   "source": [
    "table = Table.read('J1825_KM2A_201209.dat' ,format='ascii', delimiter=' ', comment='#')\n"
   ]
  },
  {
   "cell_type": "code",
   "execution_count": null,
   "id": "b400b15c",
   "metadata": {},
   "outputs": [],
   "source": []
  },
  {
   "cell_type": "markdown",
   "id": "88523201",
   "metadata": {},
   "source": [
    "#########"
   ]
  },
  {
   "cell_type": "code",
   "execution_count": null,
   "id": "833896fa",
   "metadata": {},
   "outputs": [],
   "source": []
  },
  {
   "cell_type": "code",
   "execution_count": null,
   "id": "f17fa810",
   "metadata": {},
   "outputs": [],
   "source": []
  },
  {
   "cell_type": "code",
   "execution_count": null,
   "id": "88aa049d",
   "metadata": {},
   "outputs": [],
   "source": [
    "\n",
    "cat_tag = catalog_tags[0]\n",
    "catalog = CATALOG_REGISTRY.get_cls(cat_tag)()\n",
    "\n",
    "\n",
    "source = catalog[\"HESS J1826-130\"]\n"
   ]
  },
  {
   "cell_type": "code",
   "execution_count": null,
   "id": "59c6d183",
   "metadata": {},
   "outputs": [],
   "source": [
    "print(source.spectral_model())"
   ]
  },
  {
   "cell_type": "code",
   "execution_count": null,
   "id": "968c345d",
   "metadata": {},
   "outputs": [],
   "source": [
    "print(source)"
   ]
  },
  {
   "cell_type": "code",
   "execution_count": null,
   "id": "b1bbe1a0",
   "metadata": {},
   "outputs": [],
   "source": [
    "# Gammapy spectral model object:\n",
    "spectral_model = source.spectral_model()\n",
    "print(spectral_model)"
   ]
  },
  {
   "cell_type": "code",
   "execution_count": null,
   "id": "074a33de",
   "metadata": {},
   "outputs": [],
   "source": [
    "\n",
    "# Let's plot the spectrum\n",
    "source.spectral_model().plot(energy_bounds=(0.01, 1000) * u.TeV)\n",
    "source.spectral_model().plot_error(energy_bounds=(0.01, 1000) * u.TeV)\n",
    "source.flux_points.plot();\n"
   ]
  },
  {
   "cell_type": "code",
   "execution_count": 76,
   "id": "78c2aba5",
   "metadata": {},
   "outputs": [
    {
     "data": {
      "text/plain": [
       "[[<gammapy.datasets.flux_points.FluxPointsDataset at 0x7f3b67c621f0>,\n",
       "  <gammapy.datasets.flux_points.FluxPointsDataset at 0x7f3b67e8b850>,\n",
       "  <gammapy.datasets.flux_points.FluxPointsDataset at 0x7f3b66c986a0>,\n",
       "  <gammapy.datasets.flux_points.FluxPointsDataset at 0x7f3b67482df0>,\n",
       "  <gammapy.datasets.flux_points.FluxPointsDataset at 0x7f3b67408e50>,\n",
       "  <gammapy.datasets.flux_points.FluxPointsDataset at 0x7f3b66d07670>],\n",
       " [<gammapy.datasets.flux_points.FluxPointsDataset at 0x7f3b67bee610>,\n",
       "  <gammapy.datasets.flux_points.FluxPointsDataset at 0x7f3b66d07dc0>,\n",
       "  <gammapy.datasets.flux_points.FluxPointsDataset at 0x7f3b674e57c0>,\n",
       "  <gammapy.datasets.flux_points.FluxPointsDataset at 0x7f3b6766b6d0>],\n",
       " [<gammapy.datasets.flux_points.FluxPointsDataset at 0x7f3b67376940>,\n",
       "  <gammapy.datasets.flux_points.FluxPointsDataset at 0x7f3b6735ff40>,\n",
       "  <gammapy.datasets.flux_points.FluxPointsDataset at 0x7f3b6766b550>],\n",
       " [<gammapy.datasets.flux_points.FluxPointsDataset at 0x7f3b67387400>,\n",
       "  <gammapy.datasets.flux_points.FluxPointsDataset at 0x7f3b676d0e80>],\n",
       " [<gammapy.datasets.flux_points.FluxPointsDataset at 0x7f3b6743ed90>],\n",
       " [<gammapy.datasets.flux_points.FluxPointsDataset at 0x7f3b6741b1f0>],\n",
       " [<gammapy.datasets.flux_points.FluxPointsDataset at 0x7f3b673876d0>,\n",
       "  <gammapy.datasets.flux_points.FluxPointsDataset at 0x7f3b6743d3d0>]]"
      ]
     },
     "execution_count": 76,
     "metadata": {},
     "output_type": "execute_result"
    }
   ],
   "source": [
    "ds_fp_cut"
   ]
  },
  {
   "cell_type": "code",
   "execution_count": 85,
   "id": "5c524c09",
   "metadata": {},
   "outputs": [],
   "source": [
    "# to select a source object index: [0-6]\n",
    "src_index = 1\n",
    "\n",
    "LHAASO_txt = df_fp[\"LHAASO_txt\"][src_index]\n",
    "LHAASO_name = df_fp[\"LHAASO_name\"][src_index]\n",
    "\n",
    "src_txt = df_fp[\"source_txt\"][src_index]\n",
    "src_name = df_fp[\"source_name\"][src_index]\n",
    "\n"
   ]
  },
  {
   "cell_type": "code",
   "execution_count": 86,
   "id": "cd043ed7",
   "metadata": {},
   "outputs": [
    {
     "name": "stderr",
     "output_type": "stream",
     "text": [
      "No reference model set for FluxMaps. Assuming point source with E^-2 spectrum.\n",
      "No reference model set for FluxMaps. Assuming point source with E^-2 spectrum.\n",
      "No reference model set for FluxMaps. Assuming point source with E^-2 spectrum.\n",
      "No reference model set for FluxMaps. Assuming point source with E^-2 spectrum.\n",
      "No reference model set for FluxMaps. Assuming point source with E^-2 spectrum.\n",
      "No reference model set for FluxMaps. Assuming point source with E^-2 spectrum.\n",
      "No reference model set for FluxMaps. Assuming point source with E^-2 spectrum.\n",
      "No reference model set for FluxMaps. Assuming point source with E^-2 spectrum.\n"
     ]
    }
   ],
   "source": [
    "ds_src = []\n",
    "k_range = range(len(ds_fp_cut[src_index]))\n",
    "for k in k_range: \n",
    "\n",
    "    cat_tag = df_fp[\"catalog\"][src_index][k]\n",
    "    \n",
    "    file_name = f'{LHAASO_txt}_{src_txt}_{cat_tag}_cut_{e_ref_min_name}{format_fits}'\n",
    "    \n",
    "    path_file = make_path(f'{path_dir}/{file_name}')\n",
    "    \n",
    "    flux_points_energy = FluxPoints.read(path_file)\n",
    "    \n",
    "    flux_points = FluxPoints.from_table(flux_points_energy.to_table(), sed_type=\"e2dnde\")\n",
    "\n",
    "    ds = FluxPointsDataset(\n",
    "        data=flux_points, \n",
    "        name=cat_tag\n",
    "    )\n",
    "    ds_src.append(ds)\n",
    "    \n",
    "datasets = Datasets(ds_src)\n"
   ]
  },
  {
   "cell_type": "code",
   "execution_count": 103,
   "id": "31bd3249",
   "metadata": {
    "scrolled": false
   },
   "outputs": [
    {
     "name": "stdout",
     "output_type": "stream",
     "text": [
      "Directory 'catalogs_data/flux_points_images' created\n"
     ]
    },
    {
     "data": {
      "image/png": "[encoded data removed]",
      "text/plain": [
       "<Figure size 640x480 with 1 Axes>"
      ]
     },
     "metadata": {},
     "output_type": "display_data"
    }
   ],
   "source": [
    "energy_bounds = [1e-3, 1e3] * u.TeV\n",
    "ylim = [1e-16, 1e-9]\n",
    "print_SED(sed_type = sed_type, yaxis_units=\"erg cm-2 s-1\", energy_bounds=energy_bounds, ylim=ylim)"
   ]
  },
  {
   "cell_type": "code",
   "execution_count": 97,
   "id": "16deedff",
   "metadata": {
    "scrolled": true
   },
   "outputs": [
    {
     "name": "stdout",
     "output_type": "stream",
     "text": [
      "Directory 'catalogs_data/flux_points_images' created\n"
     ]
    },
    {
     "data": {
      "image/png": "[encoded data removed]",
      "text/plain": [
       "<Figure size 640x480 with 1 Axes>"
      ]
     },
     "metadata": {},
     "output_type": "display_data"
    }
   ],
   "source": [
    "energy_bounds = [1e-3, 1e3] * u.TeV\n",
    "ylim = [1e-16, 1e-9]\n",
    "print_SED(sed_type = \"e2dnde\", yaxis_units=\"TeV cm-2 s-1\", energy_bounds=energy_bounds, ylim=ylim)"
   ]
  },
  {
   "cell_type": "code",
   "execution_count": 26,
   "id": "31831b52",
   "metadata": {},
   "outputs": [],
   "source": [
    "LHAASO_txt = df_fp[\"LHAASO_txt\"][src_index]\n",
    "\n",
    "src_txt = df_fp[\"source_txt\"][src_index]\n",
    "\n",
    "cat_tag = df_fp[\"catalog\"][src_index][4]\n",
    "\n",
    "file_name = f'{LHAASO_txt}_{src_txt}_{cat_tag}_cut_{e_ref_min_name}{format_fits}'"
   ]
  },
  {
   "cell_type": "code",
   "execution_count": 27,
   "id": "1ac50fa6",
   "metadata": {},
   "outputs": [
    {
     "data": {
      "text/plain": [
       "'LHAASOJ1825-1326_HESSJ1825-137_2fhl_cut_10.0GeV.fits'"
      ]
     },
     "execution_count": 27,
     "metadata": {},
     "output_type": "execute_result"
    }
   ],
   "source": [
    "file_name"
   ]
  },
  {
   "cell_type": "code",
   "execution_count": 31,
   "id": "adc4b9d1",
   "metadata": {
    "scrolled": false
   },
   "outputs": [
    {
     "name": "stdout",
     "output_type": "stream",
     "text": [
      " e_ref         dnde         dnde_errn       dnde_errp   \n",
      "  TeV    1 / (cm2 s TeV) 1 / (cm2 s TeV) 1 / (cm2 s TeV)\n",
      "-------- --------------- --------------- ---------------\n",
      "0.277619      3.4357e-10     2.25161e-11     2.25247e-11\n",
      "0.430245     1.29701e-10      5.3648e-12     5.36768e-12\n",
      "0.691719     4.96572e-11     1.68327e-12     1.68482e-12\n",
      " 1.11424     1.60828e-11     6.02303e-13     6.03157e-13\n",
      " 1.79312     5.03824e-12     2.36614e-13     2.37046e-13\n",
      "  2.8884      1.8275e-12     9.82834e-14     9.85326e-14\n",
      "  4.6527     5.03522e-13     4.19123e-14     4.20289e-14\n",
      " 7.50195     1.46751e-13     1.75488e-14     1.76157e-14\n",
      " 12.0843     5.04029e-14     7.15292e-15     7.19918e-15\n",
      " 19.4657     1.33743e-14     3.05909e-15     3.08613e-15\n",
      " 31.3861     2.32419e-15     1.09291e-15     1.10807e-15\n"
     ]
    }
   ],
   "source": [
    "print(source_cat[src_index][0].flux_points_table)"
   ]
  },
  {
   "cell_type": "code",
   "execution_count": 56,
   "id": "9d4297a0",
   "metadata": {},
   "outputs": [
    {
     "data": {
      "text/plain": [
       "PosixPath('catalogs_data/flux_points_table/LHAASOJ1825-1326_HESSJ1825-137_2fhl_cut_10.0GeV.fits')"
      ]
     },
     "execution_count": 56,
     "metadata": {},
     "output_type": "execute_result"
    }
   ],
   "source": [
    "filename = make_path(f'{path_dir}/{file_name}')\n",
    "\n",
    "# table.write(filename,format=format_type, overwrite=True)\n",
    "filename"
   ]
  },
  {
   "cell_type": "code",
   "execution_count": 67,
   "id": "1dca4582",
   "metadata": {},
   "outputs": [
    {
     "name": "stderr",
     "output_type": "stream",
     "text": [
      "No reference model set for FluxMaps. Assuming point source with E^-2 spectrum.\n"
     ]
    },
    {
     "data": {
      "image/png": "[encoded data removed]",
      "text/plain": [
       "<Figure size 640x480 with 1 Axes>"
      ]
     },
     "metadata": {},
     "output_type": "display_data"
    }
   ],
   "source": [
    "flux_points = FluxPoints.from_table(flux_points.to_table(), sed_type=\"e2dnde\")\n",
    "flux_points.plot()\n",
    "\n",
    "ds = FluxPointsDataset(\n",
    "                                data=flux_points, \n",
    "                                name=\"ds_name\"\n",
    "                            )"
   ]
  },
  {
   "cell_type": "code",
   "execution_count": 73,
   "id": "f31d3663",
   "metadata": {},
   "outputs": [
    {
     "data": {
      "text/plain": [
       "<AxesSubplot: xlabel='Energy [GeV]', ylabel='e2dnde [erg / (cm2 s)]'>"
      ]
     },
     "execution_count": 73,
     "metadata": {},
     "output_type": "execute_result"
    },
    {
     "data": {
      "image/png": "[encoded data removed]",
      "text/plain": [
       "<Figure size 640x480 with 1 Axes>"
      ]
     },
     "metadata": {},
     "output_type": "display_data"
    }
   ],
   "source": [
    "flux_points.plot(sed_type=\"e2dnde\") "
   ]
  }
 ],
 "metadata": {
  "kernelspec": {
   "display_name": "Python 3 (ipykernel)",
   "language": "python",
   "name": "python3"
  },
  "language_info": {
   "codemirror_mode": {
    "name": "ipython",
    "version": 3
   },
   "file_extension": ".py",
   "mimetype": "text/x-python",
   "name": "python",
   "nbconvert_exporter": "python",
   "pygments_lexer": "ipython3",
   "version": "3.9.15"
  }
 },
 "nbformat": 4,
 "nbformat_minor": 5
}
