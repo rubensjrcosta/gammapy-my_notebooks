{
 "cells": [
  {
   "cell_type": "markdown",
   "id": "a9d785de",
   "metadata": {},
   "source": [
    "/home/gamma/Documents/GitHub/gammapy/gammapy-notebooks/0.20.1/simulations/LHAASO/data_access_and_selection(DL3)/data_frame_flux_points.csv'"
   ]
  },
  {
   "cell_type": "markdown",
   "id": "06e0490c",
   "metadata": {},
   "source": [
    "'/home/gamma/Documents/GitHub/gammapy/gammapy-notebooks/0.20.1/simulations/LHAASO/data_access_and_selection(DL3)/data_frame_no_flux_points.csv'"
   ]
  },
  {
   "cell_type": "code",
   "execution_count": 1,
   "id": "5ce110db",
   "metadata": {},
   "outputs": [],
   "source": [
    "# !pip install dataframe-image"
   ]
  },
  {
   "cell_type": "code",
   "execution_count": 2,
   "id": "fa05df50",
   "metadata": {},
   "outputs": [],
   "source": [
    "# !pip install tabulate"
   ]
  },
  {
   "cell_type": "markdown",
   "id": "b43d98b9",
   "metadata": {},
   "source": [
    "Carrega os catalogos do gammapy\n",
    "\n",
    "Verifica a existencia da fonte em cada um dos catalgos\n",
    "\n",
    "Guarda a tabela dos pontos de fluxos"
   ]
  },
  {
   "cell_type": "code",
   "execution_count": 3,
   "id": "c6e3efbf",
   "metadata": {},
   "outputs": [],
   "source": [
    "%matplotlib inline\n",
    "import matplotlib.pyplot as plt"
   ]
  },
  {
   "cell_type": "code",
   "execution_count": 4,
   "id": "3ac8a12e",
   "metadata": {},
   "outputs": [],
   "source": [
    "from gammapy.datasets import FluxPointsDataset, Datasets\n",
    "from gammapy.catalog import CATALOG_REGISTRY"
   ]
  },
  {
   "cell_type": "code",
   "execution_count": 5,
   "id": "eff6f5ad",
   "metadata": {},
   "outputs": [],
   "source": [
    "import os\n",
    "import sys\n",
    "import importlib\n",
    "\n",
    "module_path = os.path.abspath('modules/spectral_models')\n",
    "if module_path not in sys.path:\n",
    "    sys.path.append(module_path)\n",
    "# print(module_path)\n",
    "import spectral_models\n",
    "importlib.reload(spectral_models)\n",
    "from spectral_models import pwl_model, get_source_data\n",
    "\n",
    "module_path = os.path.abspath('modules/utilities')\n",
    "if module_path not in sys.path:\n",
    "    sys.path.append(module_path)\n",
    "# print(module_path)\n",
    "import utilities\n",
    "importlib.reload(utilities)\n",
    "from utilities import mkdir_sub_directory"
   ]
  },
  {
   "cell_type": "code",
   "execution_count": 6,
   "id": "a1236f88",
   "metadata": {},
   "outputs": [],
   "source": [
    "from astropy import units as u\n",
    "\n",
    "from gammapy.modeling import Fit\n",
    "from gammapy.modeling.models import (\n",
    "    Models,\n",
    "    SuperExpCutoffPowerLaw4FGLDR3SpectralModel,\n",
    "    ExpCutoffPowerLawSpectralModel,\n",
    "    LogParabolaSpectralModel,\n",
    "    PowerLawSpectralModel,\n",
    "    SkyModel,\n",
    ")\n"
   ]
  },
  {
   "cell_type": "code",
   "execution_count": 7,
   "id": "9b0c4e4f",
   "metadata": {},
   "outputs": [],
   "source": [
    "def source_identification(src_index = None):\n",
    "    '''\n",
    "    To write Docstring!!!!\n",
    "    '''\n",
    "    try: \n",
    "        \n",
    "        global LHAASO_name, LHAASO_txt \n",
    "        \n",
    "        LHAASO_name = df_fp[\"LHAASO_name\"][src_index]\n",
    "        LHAASO_txt = df_fp[\"LHAASO_txt\"][src_index]\n",
    "        \n",
    "        global src_name, src_txt\n",
    "        \n",
    "        src_name = df_fp[\"source_name\"][src_index]\n",
    "        src_txt = df_fp[\"source_txt\"][src_index] \n",
    "    \n",
    "    except:\n",
    "        print(\"Oops!  That was no valid index.  Try again...\")\n"
   ]
  },
  {
   "cell_type": "code",
   "execution_count": 8,
   "id": "23cd7344",
   "metadata": {},
   "outputs": [],
   "source": [
    "def plotting_SED_flux_pointing(spec_model = None, sed_type = \"e2dnde\", yaxis_units=\"TeV cm-2 s-1\", energy_bounds= [1e-5, 1e2] * u.TeV, ylim = [1e-13, 1e-9]):\n",
    "    '''Returns a spectral energy distribution\n",
    "    \n",
    "    >>> plotting_SED_flux_pointing(spec_model, yaxis_units, sed_type, reference)\n",
    "    '''\n",
    "    \n",
    "    ax = plt.subplot()\n",
    "    ax.yaxis.set_units(u.Unit(yaxis_units))\n",
    "    ax.xaxis.set_units(u.Unit(\"TeV\"))\n",
    "\n",
    "    #label = f\"{sky_model}\"\n",
    "    \n",
    "    kwargs = {\n",
    "        \"ax\": ax, \n",
    "        \"sed_type\": sed_type\n",
    "    }    \n",
    "    \n",
    "    \n",
    "#     plot_kwargs = {\n",
    "#     \"energy_bounds\": [0.1, 30] * u.TeV,\n",
    "#     \"sed_type\": \"e2dnde\",\n",
    "#     \"yunits\": u.Unit(\"erg cm-2 s-1\"),\n",
    "#     \"ax\": ax,\n",
    "# }\n",
    "    \n",
    "    for d in datasets:\n",
    "        d.data.plot(label=d.name, **kwargs)\n",
    "\n",
    "    try:   \n",
    "\n",
    "        kwargs_fit = {\"label\":sky_model.name}\n",
    "        spec_model.plot(energy_bounds=energy_bounds, color=\"k\", **kwargs, **kwargs_fit)\n",
    "        spec_model.plot_error(energy_bounds=energy_bounds, **kwargs)\n",
    "        \n",
    "        file = path_flux_points_figures_analysis / f'{LHAASO_txt}_{src_txt}_{sky_model.name}.png'\n",
    "    \n",
    "    except:\n",
    "        file = path_flux_points_figures_analysis / f'{LHAASO_txt}_{src_txt}.png'\n",
    "    \n",
    "    ax.set_ylim(ylim)\n",
    "    ax.set_xlim(energy_bounds)\n",
    "    ax.legend()\n",
    "    \n",
    "    plt.title(f\"{LHAASO_name}: {src_name}\")\n",
    "    \n",
    "    plt.xlabel(\"Energy (TeV)\")   \n",
    "    plt.ylabel(r\"$E^{2}$dN/dE (erg $cm^{-2}$ $s^{-1}$)\")\n",
    "    \n",
    "    plt.savefig(file, bbox_inches='tight')\n",
    "    plt.show()\n",
    "    \n",
    "    return "
   ]
  },
  {
   "cell_type": "code",
   "execution_count": null,
   "id": "0e28f3bd",
   "metadata": {
    "scrolled": true
   },
   "outputs": [],
   "source": []
  },
  {
   "cell_type": "code",
   "execution_count": 9,
   "id": "c8f069b3",
   "metadata": {},
   "outputs": [],
   "source": [
    "# import pandas library as pd\n",
    "\n",
    "import pandas as pd \n",
    "from gammapy.datasets import FluxPointsDataset\n",
    "from gammapy.catalog import CATALOG_REGISTRY\n",
    "import os\n",
    "import sys\n",
    "\n",
    "format_csv = \".csv\"\n",
    "format_fits = \".fits\"\n",
    "\n",
    "sed_type=\"e2dnde\"\n",
    "# sed_type=\"dnde\"\n",
    "\n",
    "df_columns=[]\n",
    "ds_fp = []\n",
    "source_cat = []\n",
    "  \n",
    "# create an Empty DataFrame object\n",
    "df = pd.DataFrame()\n",
    "\n",
    "\n",
    "def getting_source_data(dict_lhaaso_tevc = None, catalog_tags = None):\n",
    "    '''\n",
    "    To write Docstring!!!!\n",
    "    '''\n",
    "    \n",
    "    LHAASO_range = range(len(dict_lhaaso_tevc.keys()))\n",
    "    for i in LHAASO_range:\n",
    "\n",
    "        LHAASO_name = list(dict_lhaaso_tevc.keys())[i]\n",
    "        LHAASO_txt = LHAASO_name.replace(\" \", \"\")\n",
    "        \n",
    "        source_range = range(len(dict_lhaaso_tevc[LHAASO_name]))\n",
    "        for j in source_range:\n",
    "\n",
    "            cat_src = []\n",
    "\n",
    "            cat_src_fp = []\n",
    "            \n",
    "            src_cat = []\n",
    "\n",
    "            src_ds = []\n",
    "\n",
    "            src_name = dict_lhaaso_tevc[LHAASO_name][j]\n",
    "            src_txt = src_name.replace(\" \", \"\")\n",
    "            \n",
    "            catalog_range = range(len(catalog_tags))\n",
    "            for k in catalog_range: \n",
    "                \n",
    "                catalog_tag = catalog_tags[k]\n",
    "                catalog = CATALOG_REGISTRY.get_cls(catalog_tag)()\n",
    "                \n",
    "                try:\n",
    "                    \n",
    "                    src = catalog[src_name]\n",
    "                    \n",
    "                    cat_src.append(catalog_tag)\n",
    "                    \n",
    "                    ds = FluxPointsDataset(\n",
    "                        models = src.sky_model(),\n",
    "                        data=src.flux_points, \n",
    "                        name=catalog_tag       \n",
    "                    )\n",
    "                    \n",
    "                    src_cat.append(src)\n",
    "                    src_ds.append(ds)\n",
    "                    cat_src_fp.append(catalog_tag)\n",
    "\n",
    "                    table = ds.data.to_table(\n",
    "                        sed_type = sed_type, \n",
    "                        formatted = True\n",
    "                    )\n",
    "                    \n",
    "                    # Setting the units\n",
    "\n",
    "#                     try:\n",
    "#                         table['e_ref'] = table['e_ref'].to(e_ref_unit)\n",
    "#                         table['e2dnde'] = table['e2dnde'].to(dnde_unit)\n",
    "#                         table['e2dnde_errp'] = table['e2dnde_errp'].to(dnde_unit)\n",
    "#                         table['e2dnde_errn'] = table['e2dnde_errn'].to(dnde_unit)\n",
    "\n",
    "#                     except:\n",
    "#                         table['e_ref'] = table['e_ref'].to(e_ref_unit)\n",
    "#                         table['e_min'] = table['e_min'].to(e_ref_unit)\n",
    "#                         table['e_max'] = table['e_max'].to(e_ref_unit)\n",
    "\n",
    "#                         table['e2dnde'] = table['e2dnde'].to(dnde_unit)\n",
    "#                         table['e2dnde_errp'] = table['e2dnde_errp'].to(dnde_unit)\n",
    "#                         table['e2dnde_errn'] = table['e2dnde_errn'].to(dnde_unit)    \n",
    "#                         table['e2dnde_ul'] = table['e2dnde_ul'].to(dnde_unit)\n",
    "                    \n",
    "                    #########################\n",
    "                    \n",
    "                    # Writes the flux points table in the fits format\n",
    "                    file_name = f'{LHAASO_txt}_{src_txt}_{catalog_tag}{format_fits}'\n",
    "                    path_os = os.path.abspath(\n",
    "                        os.path.join(\n",
    "                            f\"{path_flux_points_tables}/{file_name}\"\n",
    "                        )\n",
    "                    )      \n",
    "                    \n",
    "                    if path_os not in sys.path:\n",
    "                        sys.path.append(path_os)\n",
    "\n",
    "                    table.write(\n",
    "                        f\"{path_os}\",\n",
    "                        format = 'fits', \n",
    "                        overwrite = True\n",
    "                    )\n",
    "                    \n",
    "                    # Writes the flux points table in the csv format\n",
    "                    file_name = f'{LHAASO_txt}_{src_txt}_{catalog_tag}{format_csv}'\n",
    "                    path_os = os.path.abspath(\n",
    "                        os.path.join(\n",
    "                            f\"{path_flux_points_tables}/{file_name}\"\n",
    "                        )\n",
    "                    )\n",
    "                     \n",
    "                    if path_os not in sys.path:\n",
    "                        sys.path.append(path_os)\n",
    "\n",
    "                    table.write(\n",
    "                        f\"{path_os}\",\n",
    "                        format = 'ascii.ecsv', \n",
    "                        overwrite = True\n",
    "                    )   \n",
    "                    \n",
    "                except:\n",
    "                    pass\n",
    "\n",
    "                df_columns_k = [LHAASO_name, LHAASO_txt, src_name, src_txt, cat_src, cat_src_fp]\n",
    "            df_columns.append(df_columns_k)\n",
    "            ds_fp.append(src_ds)\n",
    "            source_cat.append(src_cat)\n",
    "\n",
    "    df = pd.DataFrame(df_columns, columns = ['LHAASO_name', \"LHAASO_txt\",'source_name', \"source_txt\", 'catalog', 'flux_points']) \n",
    "    df_fp = df[df[\"flux_points\"].str.len() != 0]\n",
    "    df_fp = df_fp.reset_index(drop = True)\n",
    "    df_fp.index.name = 'source_index'\n",
    "    df_fp.to_csv(f\"{path_catalogs_data}/data_frame_flux_points.csv\", index = \"True\" )\n",
    "    \n",
    "    df_no_fp = df[df[\"flux_points\"].str.len() == 0]\n",
    "    df_no_fp = df_no_fp.reset_index(drop = True)\n",
    "    df_no_fp.index.name = 'source_index'\n",
    "    df_no_fp.to_csv(f\"{path_catalogs_data}/data_frame_no_flux_points.csv\", index = \"True\" )\n",
    "    print(f\"Sources without flux points table: {list(df_no_fp['source_name'])}\")\n",
    "    \n",
    "    source_cat[:] = list(filter(None, source_cat))\n",
    "    ds_fp[:] = list(filter(None, ds_fp))\n",
    "    \n",
    "    return df_fp, ds_fp, source_cat"
   ]
  },
  {
   "cell_type": "code",
   "execution_count": 67,
   "id": "fdc6e984",
   "metadata": {},
   "outputs": [],
   "source": [
    "import numpy as np\n",
    "# from astropy import units as u\n",
    "from astropy.table import Table\n",
    "from gammapy.estimators import FluxPoints\n",
    "from gammapy.utils.scripts import make_path\n",
    "\n",
    "# format_csv = \".csv\"\n",
    "format_fits = \".fits\"\n",
    "\n",
    "sed_type=\"e2dnde\"\n",
    "# sed_type=\"dnde\"\n",
    "\n",
    "\n",
    "\n",
    "ds_fp_cut = []\n",
    "def flux_points_cut_energy(df_fp = None, ds_fp = None, e_ref_min=None):\n",
    "    '''To write Docstring!!!!'''\n",
    "    \n",
    "    source_range = range(len(df_fp))\n",
    "    for src_index in source_range:\n",
    "        src_ds = []\n",
    "        \n",
    "        LHAASO_txt = df_fp[\"LHAASO_txt\"][src_index]\n",
    "\n",
    "        src_txt = df_fp[\"source_txt\"][src_index]\n",
    "        \n",
    "        k_range = range(len(ds_fp[src_index]))\n",
    "        for k in k_range: \n",
    "            \n",
    "            catalog_tag = df_fp[\"catalog\"][src_index][k]\n",
    "            ds_name = ds_fp[src_index][k].name\n",
    "            \n",
    "            flux_points = ds_fp[src_index][k].data\n",
    "\n",
    "            mask_energy = np.zeros(len(flux_points.to_table()), dtype=bool)\n",
    "\n",
    "            for m, e_ref in enumerate(flux_points.energy_ref):\n",
    "                if e_ref > e_ref_min:\n",
    "                    mask_energy[m] = True\n",
    "            print(ds_name, src_txt)  \n",
    "            \n",
    "            try:\n",
    "                flux_points_mask = flux_points.to_table()[mask_energy]\n",
    "                flux_points_energy = FluxPoints.from_table(flux_points_mask)\n",
    "\n",
    "                ds = FluxPointsDataset(\n",
    "                                    data=flux_points_energy, \n",
    "                                    name=ds_name\n",
    "                                )\n",
    "\n",
    "                table = ds.data.to_table(\n",
    "                                    sed_type = sed_type, \n",
    "                                    formatted = True\n",
    "                                )\n",
    "                src_ds.append(ds)\n",
    "\n",
    "                file_name = f'{LHAASO_txt}_{src_txt}_{catalog_tag}_e_ref_min_{e_ref_min_name}{format_fits}'\n",
    "                path_os = os.path.abspath(\n",
    "                    os.path.join(\n",
    "                        f\"{path_flux_points_tables_analysis}/{file_name}\"\n",
    "                    )\n",
    "                )\n",
    "\n",
    "                if path_os not in sys.path:\n",
    "                    sys.path.append(path_os)\n",
    "\n",
    "                # table.write(f\"{path_os}{format_csv}\",format='ascii.ecsv', overwrite=True)\n",
    "                table.write(f\"{path_os}\",format='fits', overwrite=True)\n",
    "\n",
    "            except:\n",
    "                print(f\"{src_name} out\")    \n",
    "            \n",
    "    #         print(f\"{file_name}\")\n",
    "        ds_fp_cut.append(src_ds)\n",
    "    return ds_fp_cut"
   ]
  },
  {
   "cell_type": "markdown",
   "id": "e7e7cf8c",
   "metadata": {},
   "source": [
    "#### Catalogs\n",
    "Loading the catalogs and sources to be studied"
   ]
  },
  {
   "cell_type": "code",
   "execution_count": 11,
   "id": "775064cb",
   "metadata": {},
   "outputs": [],
   "source": [
    "# print(CATALOG_REGISTRY)"
   ]
  },
  {
   "cell_type": "code",
   "execution_count": 12,
   "id": "f2534bfd",
   "metadata": {},
   "outputs": [],
   "source": [
    "catalog_tags = [\"gamma-cat\", \"hgps\", \"2hwc\", \"3fgl\", \"4fgl\", \"2fhl\", \"3fhl\", \"3hwc\"] "
   ]
  },
  {
   "cell_type": "code",
   "execution_count": 13,
   "id": "c284a206",
   "metadata": {},
   "outputs": [],
   "source": [
    "# Loading the source catalogs\n",
    "catalog_gammacat = CATALOG_REGISTRY.get_cls(\"gamma-cat\")()\n",
    "catalog_hgps = CATALOG_REGISTRY.get_cls(\"hgps\")()\n",
    "catalog_2hwc = CATALOG_REGISTRY.get_cls(\"2hwc\")()\n",
    "catalog_3fgl = CATALOG_REGISTRY.get_cls(\"3fgl\")()\n",
    "catalog_4fgl = CATALOG_REGISTRY.get_cls(\"4fgl\")()\n",
    "catalog_2fhl = CATALOG_REGISTRY.get_cls(\"2fhl\")()\n",
    "catalog_3fhl = CATALOG_REGISTRY.get_cls(\"3fhl\")()\n",
    "catalog_3hwc = CATALOG_REGISTRY.get_cls(\"3hwc\")()"
   ]
  },
  {
   "cell_type": "code",
   "execution_count": 14,
   "id": "f41d1454",
   "metadata": {},
   "outputs": [],
   "source": [
    "# Creating a dictionary of the Potential TeV Counterparts (dict values) \n",
    "# of the three most significant (excluding Crab) LHASSO observations (dict keys)\n",
    "# see https://www.nature.com/articles/s41586-021-03498-z\n",
    "dict_lhaaso_tevc = {\n",
    "    \"LHAASO J1825-1326\": [\"HESS J1825-137\", \"HESS J1826-130\", \"2HWC J1825-134\"], \n",
    "    \"LHAASO J1908+0621\": [\"MGRO J1908+06\" , \"HESS J1908+063\", \"ARGO J1907+0627\", \"VER J1907+062\", \"2HWC J1908+063\"], \n",
    "    \"LHAASO J2226+6057\": [\"VER J2227+608\"  , \"Boomerang\"]\n",
    "}"
   ]
  },
  {
   "cell_type": "code",
   "execution_count": 15,
   "id": "45eea7dc",
   "metadata": {},
   "outputs": [
    {
     "name": "stdout",
     "output_type": "stream",
     "text": [
      "Directory 'catalogs_data/flux_points_tables' created\n"
     ]
    }
   ],
   "source": [
    "# Creating the directories to save the flux points tables from Gammapy catalogs\n",
    "dir_catalogs_data = \"catalogs_data\"\n",
    "dir_flux_points_tables = \"flux_points_tables\"\n",
    "\n",
    "path_catalogs_data, path_flux_points_tables = mkdir_sub_directory(\n",
    "    dir_catalogs_data, \n",
    "    dir_flux_points_tables\n",
    ")"
   ]
  },
  {
   "cell_type": "code",
   "execution_count": 16,
   "id": "2a04ce97",
   "metadata": {},
   "outputs": [
    {
     "name": "stderr",
     "output_type": "stream",
     "text": [
      "WARNING: AstropyDeprecationWarning: The truth value of a Quantity is ambiguous. In the future this will raise a ValueError. [astropy.units.quantity]\n",
      "WARNING: AstropyDeprecationWarning: The truth value of a Quantity is ambiguous. In the future this will raise a ValueError. [astropy.units.quantity]\n",
      "WARNING: AstropyDeprecationWarning: The truth value of a Quantity is ambiguous. In the future this will raise a ValueError. [astropy.units.quantity]\n",
      "WARNING: AstropyDeprecationWarning: The truth value of a Quantity is ambiguous. In the future this will raise a ValueError. [astropy.units.quantity]\n"
     ]
    },
    {
     "name": "stdout",
     "output_type": "stream",
     "text": [
      "Sources without flux points table: ['2HWC J1825-134', '2HWC J1908+063', 'VER J2227+608']\n"
     ]
    }
   ],
   "source": [
    "# Getting the data of the sources from the catalogs of the Gammapy package\n",
    "df_fp, ds_fp, source_cat = getting_source_data(dict_lhaaso_tevc, catalog_tags)"
   ]
  },
  {
   "cell_type": "code",
   "execution_count": 17,
   "id": "2940556b",
   "metadata": {},
   "outputs": [
    {
     "data": {
      "text/html": [
       "<div>\n",
       "<style scoped>\n",
       "    .dataframe tbody tr th:only-of-type {\n",
       "        vertical-align: middle;\n",
       "    }\n",
       "\n",
       "    .dataframe tbody tr th {\n",
       "        vertical-align: top;\n",
       "    }\n",
       "\n",
       "    .dataframe thead th {\n",
       "        text-align: right;\n",
       "    }\n",
       "</style>\n",
       "<table border=\"1\" class=\"dataframe\">\n",
       "  <thead>\n",
       "    <tr style=\"text-align: right;\">\n",
       "      <th></th>\n",
       "      <th>LHAASO_name</th>\n",
       "      <th>LHAASO_txt</th>\n",
       "      <th>source_name</th>\n",
       "      <th>source_txt</th>\n",
       "      <th>catalog</th>\n",
       "      <th>flux_points</th>\n",
       "    </tr>\n",
       "    <tr>\n",
       "      <th>source_index</th>\n",
       "      <th></th>\n",
       "      <th></th>\n",
       "      <th></th>\n",
       "      <th></th>\n",
       "      <th></th>\n",
       "      <th></th>\n",
       "    </tr>\n",
       "  </thead>\n",
       "  <tbody>\n",
       "    <tr>\n",
       "      <th>0</th>\n",
       "      <td>LHAASO J1825-1326</td>\n",
       "      <td>LHAASOJ1825-1326</td>\n",
       "      <td>HESS J1825-137</td>\n",
       "      <td>HESSJ1825-137</td>\n",
       "      <td>[gamma-cat, hgps, 3fgl, 4fgl, 2fhl, 3fhl]</td>\n",
       "      <td>[gamma-cat, hgps, 3fgl, 4fgl, 2fhl, 3fhl]</td>\n",
       "    </tr>\n",
       "    <tr>\n",
       "      <th>1</th>\n",
       "      <td>LHAASO J1825-1326</td>\n",
       "      <td>LHAASOJ1825-1326</td>\n",
       "      <td>HESS J1826-130</td>\n",
       "      <td>HESSJ1826-130</td>\n",
       "      <td>[gamma-cat, hgps, 4fgl, 3fhl]</td>\n",
       "      <td>[gamma-cat, hgps, 4fgl, 3fhl]</td>\n",
       "    </tr>\n",
       "    <tr>\n",
       "      <th>2</th>\n",
       "      <td>LHAASO J1908+0621</td>\n",
       "      <td>LHAASOJ1908+0621</td>\n",
       "      <td>MGRO J1908+06</td>\n",
       "      <td>MGROJ1908+06</td>\n",
       "      <td>[gamma-cat, 3fgl, 4fgl]</td>\n",
       "      <td>[gamma-cat, 3fgl, 4fgl]</td>\n",
       "    </tr>\n",
       "    <tr>\n",
       "      <th>3</th>\n",
       "      <td>LHAASO J1908+0621</td>\n",
       "      <td>LHAASOJ1908+0621</td>\n",
       "      <td>HESS J1908+063</td>\n",
       "      <td>HESSJ1908+063</td>\n",
       "      <td>[gamma-cat, hgps]</td>\n",
       "      <td>[gamma-cat, hgps]</td>\n",
       "    </tr>\n",
       "    <tr>\n",
       "      <th>4</th>\n",
       "      <td>LHAASO J1908+0621</td>\n",
       "      <td>LHAASOJ1908+0621</td>\n",
       "      <td>ARGO J1907+0627</td>\n",
       "      <td>ARGOJ1907+0627</td>\n",
       "      <td>[gamma-cat]</td>\n",
       "      <td>[gamma-cat]</td>\n",
       "    </tr>\n",
       "    <tr>\n",
       "      <th>5</th>\n",
       "      <td>LHAASO J1908+0621</td>\n",
       "      <td>LHAASOJ1908+0621</td>\n",
       "      <td>VER J1907+062</td>\n",
       "      <td>VERJ1907+062</td>\n",
       "      <td>[gamma-cat]</td>\n",
       "      <td>[gamma-cat]</td>\n",
       "    </tr>\n",
       "    <tr>\n",
       "      <th>6</th>\n",
       "      <td>LHAASO J2226+6057</td>\n",
       "      <td>LHAASOJ2226+6057</td>\n",
       "      <td>Boomerang</td>\n",
       "      <td>Boomerang</td>\n",
       "      <td>[3fgl, 4fgl]</td>\n",
       "      <td>[3fgl, 4fgl]</td>\n",
       "    </tr>\n",
       "  </tbody>\n",
       "</table>\n",
       "</div>"
      ],
      "text/plain": [
       "                    LHAASO_name        LHAASO_txt      source_name  \\\n",
       "source_index                                                         \n",
       "0             LHAASO J1825-1326  LHAASOJ1825-1326   HESS J1825-137   \n",
       "1             LHAASO J1825-1326  LHAASOJ1825-1326   HESS J1826-130   \n",
       "2             LHAASO J1908+0621  LHAASOJ1908+0621    MGRO J1908+06   \n",
       "3             LHAASO J1908+0621  LHAASOJ1908+0621   HESS J1908+063   \n",
       "4             LHAASO J1908+0621  LHAASOJ1908+0621  ARGO J1907+0627   \n",
       "5             LHAASO J1908+0621  LHAASOJ1908+0621    VER J1907+062   \n",
       "6             LHAASO J2226+6057  LHAASOJ2226+6057        Boomerang   \n",
       "\n",
       "                  source_txt                                    catalog  \\\n",
       "source_index                                                              \n",
       "0              HESSJ1825-137  [gamma-cat, hgps, 3fgl, 4fgl, 2fhl, 3fhl]   \n",
       "1              HESSJ1826-130              [gamma-cat, hgps, 4fgl, 3fhl]   \n",
       "2               MGROJ1908+06                    [gamma-cat, 3fgl, 4fgl]   \n",
       "3              HESSJ1908+063                          [gamma-cat, hgps]   \n",
       "4             ARGOJ1907+0627                                [gamma-cat]   \n",
       "5               VERJ1907+062                                [gamma-cat]   \n",
       "6                  Boomerang                               [3fgl, 4fgl]   \n",
       "\n",
       "                                            flux_points  \n",
       "source_index                                             \n",
       "0             [gamma-cat, hgps, 3fgl, 4fgl, 2fhl, 3fhl]  \n",
       "1                         [gamma-cat, hgps, 4fgl, 3fhl]  \n",
       "2                               [gamma-cat, 3fgl, 4fgl]  \n",
       "3                                     [gamma-cat, hgps]  \n",
       "4                                           [gamma-cat]  \n",
       "5                                           [gamma-cat]  \n",
       "6                                          [3fgl, 4fgl]  "
      ]
     },
     "execution_count": 17,
     "metadata": {},
     "output_type": "execute_result"
    }
   ],
   "source": [
    "df_fp"
   ]
  },
  {
   "cell_type": "code",
   "execution_count": null,
   "id": "a9309dc4",
   "metadata": {},
   "outputs": [],
   "source": []
  },
  {
   "cell_type": "markdown",
   "id": "7ca319ee",
   "metadata": {},
   "source": [
    "#### Analysis"
   ]
  },
  {
   "cell_type": "code",
   "execution_count": 18,
   "id": "37ad6d43",
   "metadata": {},
   "outputs": [],
   "source": [
    "# Units of the flux point figures\n",
    "e_ref_unit = u.TeV\n",
    "dnde_unit  = u.erg / (u.cm**2 * u.s)"
   ]
  },
  {
   "cell_type": "code",
   "execution_count": 19,
   "id": "6237ce7e",
   "metadata": {},
   "outputs": [
    {
     "name": "stdout",
     "output_type": "stream",
     "text": [
      "Directory 'analysis/flux_points_figures' created\n"
     ]
    }
   ],
   "source": [
    "# Creating the directories to save the flux points figures\n",
    "dir_analysis = \"analysis\"\n",
    "dir_flux_points_figures = \"flux_points_figures\"\n",
    "\n",
    "path_analysis, path_flux_points_figures_analysis = mkdir_sub_directory(\n",
    "    dir_analysis, \n",
    "    dir_flux_points_figures\n",
    ")"
   ]
  },
  {
   "cell_type": "code",
   "execution_count": 20,
   "id": "8a8a5332",
   "metadata": {},
   "outputs": [],
   "source": [
    "# ds_fp[0][0].plot_spectrum()\n",
    "# plt.grid(True)"
   ]
  },
  {
   "cell_type": "code",
   "execution_count": 21,
   "id": "80055943",
   "metadata": {
    "scrolled": true
   },
   "outputs": [
    {
     "data": {
      "image/png": "[encoded data removed]",
      "text/plain": [
       "<Figure size 640x480 with 1 Axes>"
      ]
     },
     "metadata": {},
     "output_type": "display_data"
    }
   ],
   "source": [
    "# to select a source object index: [0-6]\n",
    "src_index = 6\n",
    "\n",
    "source_identification(src_index)\n",
    "\n",
    "ds_src = ds_fp[src_index]\n",
    "datasets = Datasets(ds_src)\n",
    "\n",
    "energy_bounds = [1e-5, 1e3] * u.TeV\n",
    "ylim = [1e-15, 1e-9]\n",
    "\n",
    "plotting_SED_flux_pointing(\n",
    "    sed_type = sed_type, \n",
    "    yaxis_units=\"erg cm-2 s-1\", \n",
    "    energy_bounds=energy_bounds, \n",
    "    ylim=ylim)"
   ]
  },
  {
   "cell_type": "markdown",
   "id": "fc8d49ad",
   "metadata": {},
   "source": [
    "##### Cutting energy"
   ]
  },
  {
   "cell_type": "code",
   "execution_count": null,
   "id": "b7a7a000",
   "metadata": {},
   "outputs": [],
   "source": []
  },
  {
   "cell_type": "code",
   "execution_count": 63,
   "id": "bb5a5c9c",
   "metadata": {},
   "outputs": [],
   "source": [
    "# Defining the minimum value of the reference energy  \n",
    "e_ref_min = 100 * u.Unit(\"GeV\")\n",
    "e_ref_min_name = str(e_ref_min).replace(\" \", \"\")"
   ]
  },
  {
   "cell_type": "code",
   "execution_count": null,
   "id": "9f2bf989",
   "metadata": {},
   "outputs": [],
   "source": []
  },
  {
   "cell_type": "code",
   "execution_count": 64,
   "id": "cf26fcc7",
   "metadata": {},
   "outputs": [
    {
     "name": "stdout",
     "output_type": "stream",
     "text": [
      "Directory 'analysis/flux_points_table_e_ref_min_100.0GeV' created\n"
     ]
    }
   ],
   "source": [
    "# Creating the directories to save the tables\n",
    "dir_analysis = \"analysis\"\n",
    "dir_flux_points_tables = f\"flux_points_table_e_ref_min_{e_ref_min_name}\"\n",
    "\n",
    "path_catalogs_data, path_flux_points_tables_analysis = mkdir_sub_directory(\n",
    "    dir_analysis, \n",
    "    dir_flux_points_tables\n",
    ")"
   ]
  },
  {
   "cell_type": "code",
   "execution_count": null,
   "id": "c1337a5e",
   "metadata": {},
   "outputs": [],
   "source": []
  },
  {
   "cell_type": "code",
   "execution_count": 68,
   "id": "2d0b3e9c",
   "metadata": {
    "scrolled": true
   },
   "outputs": [
    {
     "name": "stderr",
     "output_type": "stream",
     "text": [
      "No reference model set for FluxMaps. Assuming point source with E^-2 spectrum.\n",
      "No reference model set for FluxMaps. Assuming point source with E^-2 spectrum.\n",
      "No reference model set for FluxMaps. Assuming point source with E^-2 spectrum.\n"
     ]
    },
    {
     "name": "stdout",
     "output_type": "stream",
     "text": [
      "gamma-cat HESSJ1825-137\n",
      "hgps HESSJ1825-137\n",
      "3fgl HESSJ1825-137\n",
      "Boomerang out\n",
      "4fgl HESSJ1825-137\n",
      "2fhl HESSJ1825-137\n"
     ]
    },
    {
     "name": "stderr",
     "output_type": "stream",
     "text": [
      "No reference model set for FluxMaps. Assuming point source with E^-2 spectrum.\n",
      "No reference model set for FluxMaps. Assuming point source with E^-2 spectrum.\n",
      "No reference model set for FluxMaps. Assuming point source with E^-2 spectrum.\n",
      "No reference model set for FluxMaps. Assuming point source with E^-2 spectrum.\n",
      "No reference model set for FluxMaps. Assuming point source with E^-2 spectrum.\n"
     ]
    },
    {
     "name": "stdout",
     "output_type": "stream",
     "text": [
      "3fhl HESSJ1825-137\n",
      "gamma-cat HESSJ1826-130\n",
      "hgps HESSJ1826-130\n",
      "4fgl HESSJ1826-130\n"
     ]
    },
    {
     "name": "stderr",
     "output_type": "stream",
     "text": [
      "No reference model set for FluxMaps. Assuming point source with E^-2 spectrum.\n",
      "No reference model set for FluxMaps. Assuming point source with E^-2 spectrum.\n",
      "No reference model set for FluxMaps. Assuming point source with E^-2 spectrum.\n"
     ]
    },
    {
     "name": "stdout",
     "output_type": "stream",
     "text": [
      "3fhl HESSJ1826-130\n",
      "gamma-cat MGROJ1908+06\n",
      "3fgl MGROJ1908+06\n",
      "Boomerang out\n",
      "4fgl MGROJ1908+06\n",
      "gamma-cat HESSJ1908+063\n"
     ]
    },
    {
     "name": "stderr",
     "output_type": "stream",
     "text": [
      "No reference model set for FluxMaps. Assuming point source with E^-2 spectrum.\n",
      "No reference model set for FluxMaps. Assuming point source with E^-2 spectrum.\n",
      "No reference model set for FluxMaps. Assuming point source with E^-2 spectrum.\n",
      "No reference model set for FluxMaps. Assuming point source with E^-2 spectrum.\n"
     ]
    },
    {
     "name": "stdout",
     "output_type": "stream",
     "text": [
      "hgps HESSJ1908+063\n",
      "gamma-cat ARGOJ1907+0627\n",
      "gamma-cat VERJ1907+062\n",
      "3fgl Boomerang\n",
      "Boomerang out\n",
      "4fgl Boomerang\n"
     ]
    },
    {
     "name": "stderr",
     "output_type": "stream",
     "text": [
      "No reference model set for FluxMaps. Assuming point source with E^-2 spectrum.\n"
     ]
    }
   ],
   "source": [
    "ds_fp_cut = flux_points_cut_energy(df_fp = df_fp, ds_fp = ds_fp, e_ref_min=e_ref_min)"
   ]
  },
  {
   "cell_type": "code",
   "execution_count": 70,
   "id": "8b5a736a",
   "metadata": {},
   "outputs": [
    {
     "name": "stdout",
     "output_type": "stream",
     "text": [
      "Directory 'analysis/flux_points_figures_e_ref_min_100.0GeV' created\n"
     ]
    }
   ],
   "source": [
    "# Creating the directories to save the tables\n",
    "dir_analysis = \"analysis\"\n",
    "dir_flux_points_figures = f\"flux_points_figures_e_ref_min_{e_ref_min_name}\"\n",
    "\n",
    "path_analysis, path_flux_points_figures_analysis = mkdir_sub_directory(\n",
    "    dir_analysis, \n",
    "    dir_flux_points_figures\n",
    ")"
   ]
  },
  {
   "cell_type": "code",
   "execution_count": 79,
   "id": "3517133f",
   "metadata": {},
   "outputs": [
    {
     "data": {
      "image/png": "[encoded data removed]",
      "text/plain": [
       "<Figure size 640x480 with 1 Axes>"
      ]
     },
     "metadata": {},
     "output_type": "display_data"
    }
   ],
   "source": [
    "# to select a source object index: [0-6]\n",
    "src_index = 6\n",
    "\n",
    "source_identification(src_index)\n",
    "\n",
    "ds_src = ds_fp_cut[src_index]\n",
    "datasets = Datasets(ds_src)\n",
    "\n",
    "energy_bounds = [1e-2, 1e3] * u.TeV\n",
    "ylim = [1e-15, 1e-9]\n",
    "\n",
    "plotting_SED_flux_pointing(\n",
    "    sed_type = sed_type, \n",
    "    yaxis_units=\"erg cm-2 s-1\", \n",
    "    energy_bounds=energy_bounds, \n",
    "    ylim=ylim)"
   ]
  },
  {
   "cell_type": "markdown",
   "id": "dfebf644",
   "metadata": {},
   "source": []
  },
  {
   "cell_type": "code",
   "execution_count": null,
   "id": "dcb2b28a",
   "metadata": {},
   "outputs": [],
   "source": []
  },
  {
   "cell_type": "markdown",
   "id": "b3fee9ae",
   "metadata": {},
   "source": [
    "#### SED cutting energy"
   ]
  },
  {
   "cell_type": "code",
   "execution_count": 80,
   "id": "8e64c593",
   "metadata": {},
   "outputs": [
    {
     "name": "stdout",
     "output_type": "stream",
     "text": [
      "Directory 'analysis/SED_figures_e_ref_min_100.0GeV' created\n"
     ]
    }
   ],
   "source": [
    "# Creating the directories to save the tables\n",
    "dir_analysis = \"analysis\"\n",
    "dir_flux_points_figures = f\"SED_figures_e_ref_min_{e_ref_min_name}\"\n",
    "\n",
    "path_analysis, path_flux_points_figures_analysis = mkdir_sub_directory(\n",
    "    dir_analysis, \n",
    "    dir_flux_points_figures\n",
    ")"
   ]
  },
  {
   "cell_type": "code",
   "execution_count": 103,
   "id": "6ebfb79c",
   "metadata": {},
   "outputs": [
    {
     "data": {
      "text/plain": [
       "[<gammapy.datasets.flux_points.FluxPointsDataset at 0x7ff035ab2340>]"
      ]
     },
     "execution_count": 103,
     "metadata": {},
     "output_type": "execute_result"
    }
   ],
   "source": [
    "ds_fp_cut[5]"
   ]
  },
  {
   "cell_type": "code",
   "execution_count": 105,
   "id": "8a4de3cf",
   "metadata": {},
   "outputs": [
    {
     "data": {
      "image/png": "[encoded data removed]",
      "text/plain": [
       "<Figure size 640x480 with 1 Axes>"
      ]
     },
     "metadata": {},
     "output_type": "display_data"
    }
   ],
   "source": [
    "# to select a source object index: [0-6]\n",
    "src_index = 6\n",
    "cat_index = 0\n",
    "# src = source_cat[src_index][0]\n",
    "source_identification(src_index)\n",
    "\n",
    "catalog_tag = df_fp[\"catalog\"][src_index][cat_index]\n",
    "\n",
    "ds_src = ds_fp_cut[src_index]\n",
    "\n",
    "spec_model = source_cat[src_index][cat_index].spectral_model()\n",
    "\n",
    "name = f\"{spec_model.tag[1]}_{df_fp['catalog'][src_index][cat_index]}\"\n",
    "    \n",
    "sky_model = SkyModel(spectral_model=spec_model, name=name)\n",
    "\n",
    "datasets = Datasets(ds_src)\n",
    "datasets.models = sky_model\n",
    "\n",
    "fitter = Fit()\n",
    "\n",
    "result_fit = fitter.run(datasets=datasets)\n",
    "\n",
    "plotting_SED_flux_pointing(spec_model=spec_model, sed_type = \"e2dnde\", yaxis_units=\"erg cm-2 s-1\", energy_bounds=energy_bounds, ylim=ylim)"
   ]
  },
  {
   "cell_type": "code",
   "execution_count": null,
   "id": "6416454c",
   "metadata": {},
   "outputs": [],
   "source": []
  },
  {
   "cell_type": "markdown",
   "id": "6fdf3751",
   "metadata": {},
   "source": [
    "#### Analysis II"
   ]
  },
  {
   "cell_type": "code",
   "execution_count": 106,
   "id": "30967965",
   "metadata": {},
   "outputs": [
    {
     "data": {
      "text/plain": [
       "[<gammapy.datasets.flux_points.FluxPointsDataset at 0x7ff035b0f460>,\n",
       " <gammapy.datasets.flux_points.FluxPointsDataset at 0x7ff03581cc10>]"
      ]
     },
     "execution_count": 106,
     "metadata": {},
     "output_type": "execute_result"
    }
   ],
   "source": [
    "ds3 = ds_fp_cut[2]\n",
    "ds3"
   ]
  },
  {
   "cell_type": "code",
   "execution_count": 107,
   "id": "bd51efbc",
   "metadata": {},
   "outputs": [
    {
     "data": {
      "text/plain": [
       "<gammapy.datasets.flux_points.FluxPointsDataset at 0x7ff035a47610>"
      ]
     },
     "execution_count": 107,
     "metadata": {},
     "output_type": "execute_result"
    }
   ],
   "source": [
    "ds_fp_cut[3][1]"
   ]
  },
  {
   "cell_type": "code",
   "execution_count": 108,
   "id": "1f134453",
   "metadata": {},
   "outputs": [
    {
     "data": {
      "text/plain": [
       "[<gammapy.datasets.flux_points.FluxPointsDataset at 0x7ff035b0f460>,\n",
       " <gammapy.datasets.flux_points.FluxPointsDataset at 0x7ff03581cc10>,\n",
       " <gammapy.datasets.flux_points.FluxPointsDataset at 0x7ff035a47610>]"
      ]
     },
     "execution_count": 108,
     "metadata": {},
     "output_type": "execute_result"
    }
   ],
   "source": [
    "ds3.append(ds_fp_cut[3][1])\n",
    "ds3"
   ]
  },
  {
   "cell_type": "code",
   "execution_count": 109,
   "id": "537f25c4",
   "metadata": {},
   "outputs": [
    {
     "data": {
      "text/plain": [
       "[<gammapy.datasets.flux_points.FluxPointsDataset at 0x7ff035b0f460>,\n",
       " <gammapy.datasets.flux_points.FluxPointsDataset at 0x7ff03581cc10>,\n",
       " <gammapy.datasets.flux_points.FluxPointsDataset at 0x7ff035a47610>]"
      ]
     },
     "execution_count": 109,
     "metadata": {},
     "output_type": "execute_result"
    }
   ],
   "source": [
    "ds_src = ds3\n",
    "ds_src"
   ]
  },
  {
   "cell_type": "code",
   "execution_count": 112,
   "id": "604d9861",
   "metadata": {
    "scrolled": true
   },
   "outputs": [
    {
     "data": {
      "image/png": "[encoded data removed]",
      "text/plain": [
       "<Figure size 640x480 with 1 Axes>"
      ]
     },
     "metadata": {},
     "output_type": "display_data"
    }
   ],
   "source": [
    "# to select a source object index: [0-6]\n",
    "src_index = 2\n",
    "cat_index = 1\n",
    "# src = source_cat[src_index][0]\n",
    "source_identification(src_index)\n",
    "\n",
    "catalog_tag = df_fp[\"catalog\"][src_index][cat_index]\n",
    "\n",
    "\n",
    "spec_model = source_cat[src_index][cat_index].spectral_model()\n",
    "\n",
    "name = f\"{spec_model.tag[1]}_{df_fp['catalog'][src_index][cat_index]}_add\"\n",
    "    \n",
    "sky_model = SkyModel(spectral_model=spec_model, name=name)\n",
    "\n",
    "datasets = Datasets(ds_src)\n",
    "datasets.models = sky_model\n",
    "\n",
    "fitter = Fit()\n",
    "\n",
    "result_fit = fitter.run(datasets=datasets)\n",
    "\n",
    "plotting_SED_flux_pointing(spec_model=spec_model, sed_type = \"e2dnde\", yaxis_units=\"erg cm-2 s-1\", energy_bounds=energy_bounds, ylim=ylim)"
   ]
  },
  {
   "cell_type": "code",
   "execution_count": null,
   "id": "b8c73d5f",
   "metadata": {},
   "outputs": [],
   "source": []
  },
  {
   "cell_type": "code",
   "execution_count": null,
   "id": "df070f74",
   "metadata": {},
   "outputs": [],
   "source": []
  },
  {
   "cell_type": "code",
   "execution_count": null,
   "id": "1c1bcd85",
   "metadata": {},
   "outputs": [],
   "source": []
  }
 ],
 "metadata": {
  "kernelspec": {
   "display_name": "Python 3 (ipykernel)",
   "language": "python",
   "name": "python3"
  },
  "language_info": {
   "codemirror_mode": {
    "name": "ipython",
    "version": 3
   },
   "file_extension": ".py",
   "mimetype": "text/x-python",
   "name": "python",
   "nbconvert_exporter": "python",
   "pygments_lexer": "ipython3",
   "version": "3.9.15"
  }
 },
 "nbformat": 4,
 "nbformat_minor": 5
}
