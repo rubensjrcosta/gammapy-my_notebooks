{
 "cells": [
  {
   "cell_type": "code",
   "execution_count": 1,
   "id": "5ce110db",
   "metadata": {},
   "outputs": [],
   "source": [
    "# !pip install dataframe-image"
   ]
  },
  {
   "cell_type": "code",
   "execution_count": 2,
   "id": "fa05df50",
   "metadata": {},
   "outputs": [],
   "source": [
    "# !pip install tabulate"
   ]
  },
  {
   "cell_type": "markdown",
   "id": "b43d98b9",
   "metadata": {},
   "source": [
    "Carrega os catalogos do gammapy\n",
    "\n",
    "Verifica a existencia da fonte em cada um dos catalgos\n",
    "\n",
    "Guarda a tabela dos pontos de fluxos"
   ]
  },
  {
   "cell_type": "code",
   "execution_count": 3,
   "id": "c6e3efbf",
   "metadata": {},
   "outputs": [],
   "source": [
    "%matplotlib inline\n",
    "import matplotlib.pyplot as plt"
   ]
  },
  {
   "cell_type": "code",
   "execution_count": 4,
   "id": "3ac8a12e",
   "metadata": {},
   "outputs": [],
   "source": [
    "from gammapy.datasets import FluxPointsDataset, Datasets\n",
    "from gammapy.catalog import CATALOG_REGISTRY"
   ]
  },
  {
   "cell_type": "code",
   "execution_count": 5,
   "id": "eff6f5ad",
   "metadata": {},
   "outputs": [],
   "source": [
    "import os\n",
    "import sys\n",
    "import importlib\n",
    "\n",
    "modules_path = '/home/gamma/Documents/GitHub/gammapy/gammapy-notebooks/0.20.1/simulations/LHAASO/modules'\n",
    "\n",
    "module_path = os.path.abspath(f'{modules_path}/spectral_models')\n",
    "if module_path not in sys.path:\n",
    "    sys.path.append(module_path)\n",
    "# print(module_path)\n",
    "import spectral_models\n",
    "importlib.reload(spectral_models)\n",
    "from spectral_models import pwl_model, get_source_data\n",
    "\n",
    "module_path = os.path.abspath(f'{modules_path}/utilities')\n",
    "if module_path not in sys.path:\n",
    "    sys.path.append(module_path)\n",
    "# print(module_path)\n",
    "import utilities\n",
    "importlib.reload(utilities)\n",
    "from utilities import mkdir_sub_directory"
   ]
  },
  {
   "cell_type": "code",
   "execution_count": 6,
   "id": "a1236f88",
   "metadata": {},
   "outputs": [],
   "source": [
    "from astropy import units as u\n",
    "\n",
    "from gammapy.modeling import Fit\n",
    "from gammapy.modeling.models import (\n",
    "    Models,\n",
    "    SuperExpCutoffPowerLaw4FGLDR3SpectralModel,\n",
    "    ExpCutoffPowerLawSpectralModel,\n",
    "    LogParabolaSpectralModel,\n",
    "    PowerLawSpectralModel,\n",
    "    SkyModel,\n",
    ")\n"
   ]
  },
  {
   "cell_type": "code",
   "execution_count": null,
   "id": "0e28f3bd",
   "metadata": {
    "scrolled": true
   },
   "outputs": [],
   "source": []
  },
  {
   "cell_type": "code",
   "execution_count": 7,
   "id": "c8f069b3",
   "metadata": {},
   "outputs": [],
   "source": [
    "# import pandas library as pd\n",
    "\n",
    "import pandas as pd \n",
    "from gammapy.datasets import FluxPointsDataset\n",
    "from gammapy.catalog import CATALOG_REGISTRY\n",
    "import os\n",
    "import sys\n",
    "\n",
    "format_csv = \".csv\"\n",
    "format_fits = \".fits\"\n",
    "\n",
    "sed_type=\"e2dnde\"\n",
    "# sed_type=\"dnde\"\n",
    "\n",
    "df_columns=[]\n",
    "ds_fp = []\n",
    "source_cat = []\n",
    "  \n",
    "# create an Empty DataFrame object\n",
    "df = pd.DataFrame()\n",
    "\n",
    "\n",
    "def getting_source_data(dict_lhaaso_tevc = None, catalog_tags = None):\n",
    "    '''\n",
    "    To write Docstring!!!!\n",
    "    '''\n",
    "    \n",
    "    LHAASO_range = range(len(dict_lhaaso_tevc.keys()))\n",
    "    for i in LHAASO_range:\n",
    "\n",
    "        LHAASO_name = list(dict_lhaaso_tevc.keys())[i]\n",
    "        LHAASO_txt = LHAASO_name.replace(\" \", \"\")\n",
    "        \n",
    "        source_range = range(len(dict_lhaaso_tevc[LHAASO_name]))\n",
    "        for j in source_range:\n",
    "\n",
    "            cat_src = []\n",
    "\n",
    "            cat_src_fp = []\n",
    "            \n",
    "            src_cat = []\n",
    "\n",
    "            src_ds = []\n",
    "\n",
    "            src_name = dict_lhaaso_tevc[LHAASO_name][j]\n",
    "            src_txt = src_name.replace(\" \", \"\")\n",
    "            \n",
    "            catalog_range = range(len(catalog_tags))\n",
    "            for k in catalog_range: \n",
    "                \n",
    "                catalog_tag = catalog_tags[k]\n",
    "                catalog = CATALOG_REGISTRY.get_cls(catalog_tag)()\n",
    "                \n",
    "                try:\n",
    "                    \n",
    "                    src = catalog[src_name]\n",
    "                    \n",
    "                    cat_src.append(catalog_tag)\n",
    "                    \n",
    "                    ds = FluxPointsDataset(\n",
    "                        models = src.sky_model(),\n",
    "                        data=src.flux_points, \n",
    "                        name=catalog_tag       \n",
    "                    )\n",
    "                    \n",
    "                    src_cat.append(src)\n",
    "                    src_ds.append(ds)\n",
    "                    cat_src_fp.append(catalog_tag)\n",
    "\n",
    "                    table = ds.data.to_table(\n",
    "                        sed_type = sed_type, \n",
    "                        formatted = True\n",
    "                    )\n",
    "                    \n",
    "                    # Setting the units\n",
    "\n",
    "                    \n",
    "                    # Writes the flux points table in the fits format\n",
    "                    file_name = f'{LHAASO_txt}_{src_txt}_{catalog_tag}{format_fits}'\n",
    "                    path_os = os.path.abspath(\n",
    "                        os.path.join(\n",
    "                            f\"{path_flux_points_tables}/{file_name}\"\n",
    "                        )\n",
    "                    )      \n",
    "                    \n",
    "                    if path_os not in sys.path:\n",
    "                        sys.path.append(path_os)\n",
    "\n",
    "                    table.write(\n",
    "                        f\"{path_os}\",\n",
    "                        format = 'fits', \n",
    "                        overwrite = True\n",
    "                    )\n",
    "                    \n",
    "                    # Writes the flux points table in the csv format\n",
    "                    file_name = f'{LHAASO_txt}_{src_txt}_{catalog_tag}{format_csv}'\n",
    "                    path_os = os.path.abspath(\n",
    "                        os.path.join(\n",
    "                            f\"{path_flux_points_tables}/{file_name}\"\n",
    "                        )\n",
    "                    )\n",
    "                     \n",
    "                    if path_os not in sys.path:\n",
    "                        sys.path.append(path_os)\n",
    "\n",
    "                    table.write(\n",
    "                        f\"{path_os}\",\n",
    "                        format = 'ascii.ecsv', \n",
    "                        overwrite = True\n",
    "                    )   \n",
    "                    \n",
    "                except:\n",
    "                    pass\n",
    "\n",
    "                df_columns_k = [LHAASO_name, LHAASO_txt, src_name, src_txt, cat_src, cat_src_fp]\n",
    "            df_columns.append(df_columns_k)\n",
    "            ds_fp.append(src_ds)\n",
    "            source_cat.append(src_cat)\n",
    "\n",
    "    df = pd.DataFrame(df_columns, columns = ['LHAASO_name', \"LHAASO_txt\",'source_name', \"source_txt\", 'catalog', 'flux_points']) \n",
    "    df_fp = df[df[\"flux_points\"].str.len() != 0]\n",
    "    df_fp = df_fp.reset_index(drop = True)\n",
    "    df_fp.index.name = 'source_index'\n",
    "    df_fp.to_csv(f\"{os.getcwd()}/data_frame_flux_points.csv\", index = \"True\" )\n",
    "    \n",
    "    df_no_fp = df[df[\"flux_points\"].str.len() == 0]\n",
    "    df_no_fp = df_no_fp.reset_index(drop = True)\n",
    "    df_no_fp.index.name = 'source_index'\n",
    "    df_no_fp.to_csv(f\"{os.getcwd()}/data_frame_no_flux_points.csv\", index = \"True\" )\n",
    "    print(f\"Sources without flux points table: {list(df_no_fp['source_name'])}\")\n",
    "    \n",
    "    source_cat[:] = list(filter(None, source_cat))\n",
    "    ds_fp[:] = list(filter(None, ds_fp))\n",
    "    \n",
    "    return df_fp, ds_fp, source_cat"
   ]
  },
  {
   "cell_type": "code",
   "execution_count": 8,
   "id": "b78b6de0",
   "metadata": {},
   "outputs": [
    {
     "data": {
      "text/html": [
       "<div>\n",
       "<style scoped>\n",
       "    .dataframe tbody tr th:only-of-type {\n",
       "        vertical-align: middle;\n",
       "    }\n",
       "\n",
       "    .dataframe tbody tr th {\n",
       "        vertical-align: top;\n",
       "    }\n",
       "\n",
       "    .dataframe thead th {\n",
       "        text-align: right;\n",
       "    }\n",
       "</style>\n",
       "<table border=\"1\" class=\"dataframe\">\n",
       "  <thead>\n",
       "    <tr style=\"text-align: right;\">\n",
       "      <th></th>\n",
       "      <th>source_index</th>\n",
       "      <th>LHAASO_name</th>\n",
       "      <th>LHAASO_txt</th>\n",
       "      <th>source_name</th>\n",
       "      <th>source_txt</th>\n",
       "      <th>catalog</th>\n",
       "      <th>flux_points</th>\n",
       "    </tr>\n",
       "  </thead>\n",
       "  <tbody>\n",
       "    <tr>\n",
       "      <th>0</th>\n",
       "      <td>0</td>\n",
       "      <td>LHAASO J1825-1326</td>\n",
       "      <td>LHAASOJ1825-1326</td>\n",
       "      <td>HESS J1825-137</td>\n",
       "      <td>HESSJ1825-137</td>\n",
       "      <td>['gamma-cat', 'hgps', '3fgl', '4fgl', '2fhl', ...</td>\n",
       "      <td>['gamma-cat', 'hgps', '3fgl', '4fgl', '2fhl', ...</td>\n",
       "    </tr>\n",
       "    <tr>\n",
       "      <th>1</th>\n",
       "      <td>1</td>\n",
       "      <td>LHAASO J1825-1326</td>\n",
       "      <td>LHAASOJ1825-1326</td>\n",
       "      <td>HESS J1826-130</td>\n",
       "      <td>HESSJ1826-130</td>\n",
       "      <td>['gamma-cat', 'hgps', '4fgl', '3fhl']</td>\n",
       "      <td>['gamma-cat', 'hgps', '4fgl', '3fhl']</td>\n",
       "    </tr>\n",
       "    <tr>\n",
       "      <th>2</th>\n",
       "      <td>2</td>\n",
       "      <td>LHAASO J1908+0621</td>\n",
       "      <td>LHAASOJ1908+0621</td>\n",
       "      <td>MGRO J1908+06</td>\n",
       "      <td>MGROJ1908+06</td>\n",
       "      <td>['gamma-cat', '3fgl', '4fgl']</td>\n",
       "      <td>['gamma-cat', '3fgl', '4fgl']</td>\n",
       "    </tr>\n",
       "    <tr>\n",
       "      <th>3</th>\n",
       "      <td>3</td>\n",
       "      <td>LHAASO J1908+0621</td>\n",
       "      <td>LHAASOJ1908+0621</td>\n",
       "      <td>HESS J1908+063</td>\n",
       "      <td>HESSJ1908+063</td>\n",
       "      <td>['gamma-cat', 'hgps']</td>\n",
       "      <td>['gamma-cat', 'hgps']</td>\n",
       "    </tr>\n",
       "    <tr>\n",
       "      <th>4</th>\n",
       "      <td>4</td>\n",
       "      <td>LHAASO J1908+0621</td>\n",
       "      <td>LHAASOJ1908+0621</td>\n",
       "      <td>ARGO J1907+0627</td>\n",
       "      <td>ARGOJ1907+0627</td>\n",
       "      <td>['gamma-cat']</td>\n",
       "      <td>['gamma-cat']</td>\n",
       "    </tr>\n",
       "    <tr>\n",
       "      <th>5</th>\n",
       "      <td>5</td>\n",
       "      <td>LHAASO J1908+0621</td>\n",
       "      <td>LHAASOJ1908+0621</td>\n",
       "      <td>VER J1907+062</td>\n",
       "      <td>VERJ1907+062</td>\n",
       "      <td>['gamma-cat']</td>\n",
       "      <td>['gamma-cat']</td>\n",
       "    </tr>\n",
       "    <tr>\n",
       "      <th>6</th>\n",
       "      <td>6</td>\n",
       "      <td>LHAASO J2226+6057</td>\n",
       "      <td>LHAASOJ2226+6057</td>\n",
       "      <td>Boomerang</td>\n",
       "      <td>Boomerang</td>\n",
       "      <td>['3fgl', '4fgl']</td>\n",
       "      <td>['3fgl', '4fgl']</td>\n",
       "    </tr>\n",
       "  </tbody>\n",
       "</table>\n",
       "</div>"
      ],
      "text/plain": [
       "   source_index        LHAASO_name        LHAASO_txt      source_name  \\\n",
       "0             0  LHAASO J1825-1326  LHAASOJ1825-1326   HESS J1825-137   \n",
       "1             1  LHAASO J1825-1326  LHAASOJ1825-1326   HESS J1826-130   \n",
       "2             2  LHAASO J1908+0621  LHAASOJ1908+0621    MGRO J1908+06   \n",
       "3             3  LHAASO J1908+0621  LHAASOJ1908+0621   HESS J1908+063   \n",
       "4             4  LHAASO J1908+0621  LHAASOJ1908+0621  ARGO J1907+0627   \n",
       "5             5  LHAASO J1908+0621  LHAASOJ1908+0621    VER J1907+062   \n",
       "6             6  LHAASO J2226+6057  LHAASOJ2226+6057        Boomerang   \n",
       "\n",
       "       source_txt                                            catalog  \\\n",
       "0   HESSJ1825-137  ['gamma-cat', 'hgps', '3fgl', '4fgl', '2fhl', ...   \n",
       "1   HESSJ1826-130              ['gamma-cat', 'hgps', '4fgl', '3fhl']   \n",
       "2    MGROJ1908+06                      ['gamma-cat', '3fgl', '4fgl']   \n",
       "3   HESSJ1908+063                              ['gamma-cat', 'hgps']   \n",
       "4  ARGOJ1907+0627                                      ['gamma-cat']   \n",
       "5    VERJ1907+062                                      ['gamma-cat']   \n",
       "6       Boomerang                                   ['3fgl', '4fgl']   \n",
       "\n",
       "                                         flux_points  \n",
       "0  ['gamma-cat', 'hgps', '3fgl', '4fgl', '2fhl', ...  \n",
       "1              ['gamma-cat', 'hgps', '4fgl', '3fhl']  \n",
       "2                      ['gamma-cat', '3fgl', '4fgl']  \n",
       "3                              ['gamma-cat', 'hgps']  \n",
       "4                                      ['gamma-cat']  \n",
       "5                                      ['gamma-cat']  \n",
       "6                                   ['3fgl', '4fgl']  "
      ]
     },
     "execution_count": 8,
     "metadata": {},
     "output_type": "execute_result"
    }
   ],
   "source": [
    "from pandas import read_csv\n",
    "\n",
    "myData = read_csv(f\"{os.getcwd()}/data_frame_flux_points.csv\", index_col = None)\n",
    "myData"
   ]
  },
  {
   "cell_type": "code",
   "execution_count": 9,
   "id": "59ede0e1",
   "metadata": {},
   "outputs": [
    {
     "name": "stdout",
     "output_type": "stream",
     "text": [
      "/home/gamma/Documents/GitHub/gammapy/gammapy-notebooks/0.20.1/simulations/LHAASO/data_access_and_selection(DL3)\n"
     ]
    }
   ],
   "source": [
    "#to get the current working directory\n",
    "directory = os.getcwd()\n",
    "\n",
    "print(directory)"
   ]
  },
  {
   "cell_type": "code",
   "execution_count": null,
   "id": "23bdf1f0",
   "metadata": {},
   "outputs": [],
   "source": []
  },
  {
   "cell_type": "code",
   "execution_count": 10,
   "id": "2bf6ef6c",
   "metadata": {},
   "outputs": [],
   "source": [
    "path_DL3 = os.getcwd()\n",
    "os.chdir('../')\n",
    "path_LHAASO = os.getcwd()\n",
    "os.chdir(path_DL3)\n",
    "\n",
    "path_file = path_LHAASO + \"/paths.txt\"\n",
    "\n",
    "with open(path_file, \"w\") as my_file:\n",
    "    \n",
    "    my_file.write(f\"{path_LHAASO} \\n\")\n",
    "    my_file.write(f\"{path_DL3} \\n\")\n",
    "    \n",
    "#     my_file.write(\"I hope you're doing well today \\n\")\n",
    "#     my_file.write(\"This is a text file \\n\")\n",
    "#     my_file.write(\"Have a nice time \\n\")\n",
    "\n",
    "\n",
    "\n"
   ]
  },
  {
   "cell_type": "code",
   "execution_count": null,
   "id": "df00eff8",
   "metadata": {},
   "outputs": [],
   "source": []
  },
  {
   "cell_type": "code",
   "execution_count": 11,
   "id": "f384770e",
   "metadata": {
    "scrolled": true
   },
   "outputs": [
    {
     "name": "stdout",
     "output_type": "stream",
     "text": [
      "File location using os.getcwd(): /home/gamma/Documents/GitHub/gammapy/gammapy-notebooks/0.20.1/simulations/LHAASO/data_access_and_selection(DL3)\n",
      "File location using __file__ variable: /home/gamma/Documents/GitHub/gammapy/gammapy-notebooks/0.20.1/simulations/LHAASO/data_access_and_selection(DL3)\n"
     ]
    }
   ],
   "source": [
    "import os\n",
    " \n",
    "print(\"File location using os.getcwd():\", os.getcwd())\n",
    " \n",
    "print(f\"File location using __file__ variable: {os.path.realpath(os.path.dirname('__file__'))}\")"
   ]
  },
  {
   "cell_type": "code",
   "execution_count": 12,
   "id": "771cd60b",
   "metadata": {},
   "outputs": [
    {
     "name": "stdout",
     "output_type": "stream",
     "text": [
      "None\n"
     ]
    }
   ],
   "source": [
    "\n",
    "\n",
    "print(os.chdir(os.path.dirname(os.path.abspath('__file__')))\n",
    ")\n"
   ]
  },
  {
   "cell_type": "code",
   "execution_count": 13,
   "id": "8b84dfb9",
   "metadata": {},
   "outputs": [
    {
     "data": {
      "text/plain": [
       "'/home/gamma/Documents/GitHub/gammapy/gammapy-notebooks/0.20.1/simulations/LHAASO/data_access_and_selection(DL3)'"
      ]
     },
     "execution_count": 13,
     "metadata": {},
     "output_type": "execute_result"
    }
   ],
   "source": [
    "os.getcwd()"
   ]
  },
  {
   "cell_type": "code",
   "execution_count": 14,
   "id": "1612cc35",
   "metadata": {
    "scrolled": false
   },
   "outputs": [
    {
     "data": {
      "text/plain": [
       "'/home/gamma/Documents/GitHub/gammapy/gammapy-notebooks/0.20.1/simulations/LHAASO/data_access_and_selection(DL3)/data_frame_no_flux_points.csv'"
      ]
     },
     "execution_count": 14,
     "metadata": {},
     "output_type": "execute_result"
    }
   ],
   "source": [
    "f\"{os.getcwd()}/data_frame_no_flux_points.csv\""
   ]
  },
  {
   "cell_type": "markdown",
   "id": "e7e7cf8c",
   "metadata": {},
   "source": [
    "#### Catalogs\n",
    "Loading the catalogs and sources to be studied"
   ]
  },
  {
   "cell_type": "code",
   "execution_count": 15,
   "id": "775064cb",
   "metadata": {},
   "outputs": [
    {
     "name": "stdout",
     "output_type": "stream",
     "text": [
      "Registry\n",
      "--------\n",
      "\n",
      "SourceCatalogGammaCat: gamma-cat \n",
      "SourceCatalogHGPS    : hgps \n",
      "SourceCatalog2HWC    : 2hwc \n",
      "SourceCatalog3FGL    : 3fgl \n",
      "SourceCatalog4FGL    : 4fgl \n",
      "SourceCatalog2FHL    : 2fhl \n",
      "SourceCatalog3FHL    : 3fhl \n",
      "SourceCatalog3HWC    : 3hwc \n",
      "\n"
     ]
    }
   ],
   "source": [
    "print(CATALOG_REGISTRY)"
   ]
  },
  {
   "cell_type": "code",
   "execution_count": 16,
   "id": "f2534bfd",
   "metadata": {},
   "outputs": [],
   "source": [
    "catalog_tags = [\"gamma-cat\", \"hgps\", \"2hwc\", \"3fgl\", \"4fgl\", \"2fhl\", \"3fhl\", \"3hwc\"] "
   ]
  },
  {
   "cell_type": "code",
   "execution_count": 17,
   "id": "c284a206",
   "metadata": {},
   "outputs": [],
   "source": [
    "# Loading the source catalogs\n",
    "catalog_gammacat = CATALOG_REGISTRY.get_cls(\"gamma-cat\")()\n",
    "catalog_hgps = CATALOG_REGISTRY.get_cls(\"hgps\")()\n",
    "catalog_2hwc = CATALOG_REGISTRY.get_cls(\"2hwc\")()\n",
    "catalog_3fgl = CATALOG_REGISTRY.get_cls(\"3fgl\")()\n",
    "catalog_4fgl = CATALOG_REGISTRY.get_cls(\"4fgl\")()\n",
    "catalog_2fhl = CATALOG_REGISTRY.get_cls(\"2fhl\")()\n",
    "catalog_3fhl = CATALOG_REGISTRY.get_cls(\"3fhl\")()\n",
    "catalog_3hwc = CATALOG_REGISTRY.get_cls(\"3hwc\")()"
   ]
  },
  {
   "cell_type": "code",
   "execution_count": 18,
   "id": "f41d1454",
   "metadata": {},
   "outputs": [],
   "source": [
    "# Creating a dictionary of the Potential TeV Counterparts (dict values) \n",
    "# of the three most significant (excluding Crab) LHASSO observations (dict keys)\n",
    "# see https://www.nature.com/articles/s41586-021-03498-z\n",
    "dict_lhaaso_tevc = {\n",
    "    \"LHAASO J1825-1326\": [\"HESS J1825-137\", \"HESS J1826-130\", \"2HWC J1825-134\"], \n",
    "    \"LHAASO J1908+0621\": [\"MGRO J1908+06\" , \"HESS J1908+063\", \"ARGO J1907+0627\", \"VER J1907+062\", \"2HWC J1908+063\"], \n",
    "    \"LHAASO J2226+6057\": [\"VER J2227+608\"  , \"Boomerang\"]\n",
    "}"
   ]
  },
  {
   "cell_type": "code",
   "execution_count": 19,
   "id": "45eea7dc",
   "metadata": {
    "scrolled": true
   },
   "outputs": [
    {
     "name": "stdout",
     "output_type": "stream",
     "text": [
      "Directory 'flux_points_tables' created\n"
     ]
    }
   ],
   "source": [
    "# Creating the directories to save the flux points tables from Gammapy catalogs\n",
    "dir_catalogs_data = \"catalogs_data\"\n",
    "dir_flux_points_tables = \"flux_points_tables\"\n",
    "\n",
    "path_flux_points_tables = mkdir_sub_directory(\n",
    "    dir_flux_points_tables\n",
    ")"
   ]
  },
  {
   "cell_type": "code",
   "execution_count": 20,
   "id": "2a04ce97",
   "metadata": {},
   "outputs": [
    {
     "name": "stderr",
     "output_type": "stream",
     "text": [
      "WARNING: AstropyDeprecationWarning: The truth value of a Quantity is ambiguous. In the future this will raise a ValueError. [astropy.units.quantity]\n",
      "WARNING: AstropyDeprecationWarning: The truth value of a Quantity is ambiguous. In the future this will raise a ValueError. [astropy.units.quantity]\n",
      "WARNING: AstropyDeprecationWarning: The truth value of a Quantity is ambiguous. In the future this will raise a ValueError. [astropy.units.quantity]\n",
      "WARNING: AstropyDeprecationWarning: The truth value of a Quantity is ambiguous. In the future this will raise a ValueError. [astropy.units.quantity]\n"
     ]
    },
    {
     "name": "stdout",
     "output_type": "stream",
     "text": [
      "Sources without flux points table: ['2HWC J1825-134', '2HWC J1908+063', 'VER J2227+608']\n"
     ]
    }
   ],
   "source": [
    "# Getting the data of the sources from the catalogs of the Gammapy package\n",
    "df_fp, ds_fp, source_cat = getting_source_data(dict_lhaaso_tevc, catalog_tags)"
   ]
  },
  {
   "cell_type": "code",
   "execution_count": 21,
   "id": "fd93b6b6",
   "metadata": {
    "scrolled": false
   },
   "outputs": [
    {
     "data": {
      "text/html": [
       "<div>\n",
       "<style scoped>\n",
       "    .dataframe tbody tr th:only-of-type {\n",
       "        vertical-align: middle;\n",
       "    }\n",
       "\n",
       "    .dataframe tbody tr th {\n",
       "        vertical-align: top;\n",
       "    }\n",
       "\n",
       "    .dataframe thead th {\n",
       "        text-align: right;\n",
       "    }\n",
       "</style>\n",
       "<table border=\"1\" class=\"dataframe\">\n",
       "  <thead>\n",
       "    <tr style=\"text-align: right;\">\n",
       "      <th></th>\n",
       "      <th>LHAASO_name</th>\n",
       "      <th>LHAASO_txt</th>\n",
       "      <th>source_name</th>\n",
       "      <th>source_txt</th>\n",
       "      <th>catalog</th>\n",
       "      <th>flux_points</th>\n",
       "    </tr>\n",
       "    <tr>\n",
       "      <th>source_index</th>\n",
       "      <th></th>\n",
       "      <th></th>\n",
       "      <th></th>\n",
       "      <th></th>\n",
       "      <th></th>\n",
       "      <th></th>\n",
       "    </tr>\n",
       "  </thead>\n",
       "  <tbody>\n",
       "    <tr>\n",
       "      <th>0</th>\n",
       "      <td>LHAASO J1825-1326</td>\n",
       "      <td>LHAASOJ1825-1326</td>\n",
       "      <td>HESS J1825-137</td>\n",
       "      <td>HESSJ1825-137</td>\n",
       "      <td>[gamma-cat, hgps, 3fgl, 4fgl, 2fhl, 3fhl]</td>\n",
       "      <td>[gamma-cat, hgps, 3fgl, 4fgl, 2fhl, 3fhl]</td>\n",
       "    </tr>\n",
       "    <tr>\n",
       "      <th>1</th>\n",
       "      <td>LHAASO J1825-1326</td>\n",
       "      <td>LHAASOJ1825-1326</td>\n",
       "      <td>HESS J1826-130</td>\n",
       "      <td>HESSJ1826-130</td>\n",
       "      <td>[gamma-cat, hgps, 4fgl, 3fhl]</td>\n",
       "      <td>[gamma-cat, hgps, 4fgl, 3fhl]</td>\n",
       "    </tr>\n",
       "    <tr>\n",
       "      <th>2</th>\n",
       "      <td>LHAASO J1908+0621</td>\n",
       "      <td>LHAASOJ1908+0621</td>\n",
       "      <td>MGRO J1908+06</td>\n",
       "      <td>MGROJ1908+06</td>\n",
       "      <td>[gamma-cat, 3fgl, 4fgl]</td>\n",
       "      <td>[gamma-cat, 3fgl, 4fgl]</td>\n",
       "    </tr>\n",
       "    <tr>\n",
       "      <th>3</th>\n",
       "      <td>LHAASO J1908+0621</td>\n",
       "      <td>LHAASOJ1908+0621</td>\n",
       "      <td>HESS J1908+063</td>\n",
       "      <td>HESSJ1908+063</td>\n",
       "      <td>[gamma-cat, hgps]</td>\n",
       "      <td>[gamma-cat, hgps]</td>\n",
       "    </tr>\n",
       "    <tr>\n",
       "      <th>4</th>\n",
       "      <td>LHAASO J1908+0621</td>\n",
       "      <td>LHAASOJ1908+0621</td>\n",
       "      <td>ARGO J1907+0627</td>\n",
       "      <td>ARGOJ1907+0627</td>\n",
       "      <td>[gamma-cat]</td>\n",
       "      <td>[gamma-cat]</td>\n",
       "    </tr>\n",
       "    <tr>\n",
       "      <th>5</th>\n",
       "      <td>LHAASO J1908+0621</td>\n",
       "      <td>LHAASOJ1908+0621</td>\n",
       "      <td>VER J1907+062</td>\n",
       "      <td>VERJ1907+062</td>\n",
       "      <td>[gamma-cat]</td>\n",
       "      <td>[gamma-cat]</td>\n",
       "    </tr>\n",
       "    <tr>\n",
       "      <th>6</th>\n",
       "      <td>LHAASO J2226+6057</td>\n",
       "      <td>LHAASOJ2226+6057</td>\n",
       "      <td>Boomerang</td>\n",
       "      <td>Boomerang</td>\n",
       "      <td>[3fgl, 4fgl]</td>\n",
       "      <td>[3fgl, 4fgl]</td>\n",
       "    </tr>\n",
       "  </tbody>\n",
       "</table>\n",
       "</div>"
      ],
      "text/plain": [
       "                    LHAASO_name        LHAASO_txt      source_name  \\\n",
       "source_index                                                         \n",
       "0             LHAASO J1825-1326  LHAASOJ1825-1326   HESS J1825-137   \n",
       "1             LHAASO J1825-1326  LHAASOJ1825-1326   HESS J1826-130   \n",
       "2             LHAASO J1908+0621  LHAASOJ1908+0621    MGRO J1908+06   \n",
       "3             LHAASO J1908+0621  LHAASOJ1908+0621   HESS J1908+063   \n",
       "4             LHAASO J1908+0621  LHAASOJ1908+0621  ARGO J1907+0627   \n",
       "5             LHAASO J1908+0621  LHAASOJ1908+0621    VER J1907+062   \n",
       "6             LHAASO J2226+6057  LHAASOJ2226+6057        Boomerang   \n",
       "\n",
       "                  source_txt                                    catalog  \\\n",
       "source_index                                                              \n",
       "0              HESSJ1825-137  [gamma-cat, hgps, 3fgl, 4fgl, 2fhl, 3fhl]   \n",
       "1              HESSJ1826-130              [gamma-cat, hgps, 4fgl, 3fhl]   \n",
       "2               MGROJ1908+06                    [gamma-cat, 3fgl, 4fgl]   \n",
       "3              HESSJ1908+063                          [gamma-cat, hgps]   \n",
       "4             ARGOJ1907+0627                                [gamma-cat]   \n",
       "5               VERJ1907+062                                [gamma-cat]   \n",
       "6                  Boomerang                               [3fgl, 4fgl]   \n",
       "\n",
       "                                            flux_points  \n",
       "source_index                                             \n",
       "0             [gamma-cat, hgps, 3fgl, 4fgl, 2fhl, 3fhl]  \n",
       "1                         [gamma-cat, hgps, 4fgl, 3fhl]  \n",
       "2                               [gamma-cat, 3fgl, 4fgl]  \n",
       "3                                     [gamma-cat, hgps]  \n",
       "4                                           [gamma-cat]  \n",
       "5                                           [gamma-cat]  \n",
       "6                                          [3fgl, 4fgl]  "
      ]
     },
     "execution_count": 21,
     "metadata": {},
     "output_type": "execute_result"
    }
   ],
   "source": [
    "df_fp"
   ]
  },
  {
   "cell_type": "code",
   "execution_count": 22,
   "id": "1c568572",
   "metadata": {},
   "outputs": [],
   "source": [
    "def source_identification(src_index = None):\n",
    "    '''\n",
    "    To write Docstring!!!!\n",
    "    '''\n",
    "    try: \n",
    "        \n",
    "        global LHAASO_name, LHAASO_txt \n",
    "        \n",
    "        LHAASO_name = df_fp[\"LHAASO_name\"][src_index]\n",
    "        LHAASO_txt = df_fp[\"LHAASO_txt\"][src_index]\n",
    "        \n",
    "        global src_name, src_txt\n",
    "        \n",
    "        src_name = df_fp[\"source_name\"][src_index]\n",
    "        src_txt = df_fp[\"source_txt\"][src_index] \n",
    "    \n",
    "    except:\n",
    "        print(\"Oops!  That was no valid index.  Try again...\")"
   ]
  },
  {
   "cell_type": "code",
   "execution_count": 30,
   "id": "39836630",
   "metadata": {},
   "outputs": [],
   "source": [
    "# to select a source object index: [0-6]\n",
    "src_index = 6\n",
    "\n",
    "source_identification(src_index)"
   ]
  },
  {
   "cell_type": "code",
   "execution_count": null,
   "id": "0ca483c5",
   "metadata": {},
   "outputs": [],
   "source": []
  },
  {
   "cell_type": "code",
   "execution_count": 31,
   "id": "d1b9e3dd",
   "metadata": {},
   "outputs": [
    {
     "data": {
      "text/plain": [
       "['3fgl', '4fgl']"
      ]
     },
     "execution_count": 31,
     "metadata": {},
     "output_type": "execute_result"
    }
   ],
   "source": [
    "df_fp['catalog'][src_index]"
   ]
  },
  {
   "cell_type": "code",
   "execution_count": 46,
   "id": "bf106cdc",
   "metadata": {},
   "outputs": [],
   "source": [
    "cat_index = 1\n",
    "cat_tag = df_fp[\"catalog\"][src_index][cat_index]"
   ]
  },
  {
   "cell_type": "code",
   "execution_count": 47,
   "id": "dd8bf03f",
   "metadata": {},
   "outputs": [
    {
     "name": "stdout",
     "output_type": "stream",
     "text": [
      "SourceCatalog4FGL:\n",
      "    name: 4fgl\n",
      "    description: LAT 8-year point source catalog\n",
      "    sources: 6659\n",
      "\n"
     ]
    }
   ],
   "source": [
    "catalog = CATALOG_REGISTRY.get_cls(cat_tag)()\n",
    "print(catalog)"
   ]
  },
  {
   "cell_type": "code",
   "execution_count": 48,
   "id": "7bd876a9",
   "metadata": {},
   "outputs": [
    {
     "name": "stdout",
     "output_type": "stream",
     "text": [
      "SuperExpCutoffPowerLaw4FGLDR3SpectralModel\n",
      "\n",
      "  type      name     value         unit      ... max frozen is_norm link\n",
      "-------- --------- ---------- -------------- ... --- ------ ------- ----\n",
      "spectral amplitude 1.3376e-11 cm-2 MeV-1 s-1 ... nan  False    True     \n",
      "spectral reference 1.6719e+03            MeV ... nan   True   False     \n",
      "spectral expfactor 4.3581e-01                ... nan  False   False     \n",
      "spectral   index_1 2.3069e+00                ... nan  False   False     \n",
      "spectral   index_2 3.0797e-01                ... nan  False   False     \n"
     ]
    },
    {
     "name": "stderr",
     "output_type": "stream",
     "text": [
      "WARNING: AstropyDeprecationWarning: The truth value of a Quantity is ambiguous. In the future this will raise a ValueError. [astropy.units.quantity]\n"
     ]
    }
   ],
   "source": [
    "source  = catalog[src_name]\n",
    "\n",
    "# Gammapy spectral model object:\n",
    "print(source.spectral_model())"
   ]
  },
  {
   "cell_type": "code",
   "execution_count": 49,
   "id": "def1f910",
   "metadata": {},
   "outputs": [
    {
     "data": {
      "text/plain": [
       "<gammapy.modeling.models.spectral.SuperExpCutoffPowerLaw4FGLDR3SpectralModel at 0x7ff0904313d0>"
      ]
     },
     "execution_count": 49,
     "metadata": {},
     "output_type": "execute_result"
    }
   ],
   "source": [
    "# Let's plot the spectrum\n",
    "source.spectral_model()"
   ]
  },
  {
   "cell_type": "code",
   "execution_count": 52,
   "id": "352f4dab",
   "metadata": {},
   "outputs": [
    {
     "data": {
      "image/png": "[encoded data removed]",
      "text/plain": [
       "<Figure size 640x480 with 1 Axes>"
      ]
     },
     "metadata": {},
     "output_type": "display_data"
    }
   ],
   "source": [
    "ds_fp[src_index][cat_index].plot_spectrum()\n",
    "plt.title(f\"{LHAASO_name}: {src_name}\")\n",
    "plt.grid(True)"
   ]
  },
  {
   "cell_type": "code",
   "execution_count": null,
   "id": "8d625c87",
   "metadata": {},
   "outputs": [],
   "source": []
  }
 ],
 "metadata": {
  "kernelspec": {
   "display_name": "Python 3 (ipykernel)",
   "language": "python",
   "name": "python3"
  },
  "language_info": {
   "codemirror_mode": {
    "name": "ipython",
    "version": 3
   },
   "file_extension": ".py",
   "mimetype": "text/x-python",
   "name": "python",
   "nbconvert_exporter": "python",
   "pygments_lexer": "ipython3",
   "version": "3.9.13"
  }
 },
 "nbformat": 4,
 "nbformat_minor": 5
}
