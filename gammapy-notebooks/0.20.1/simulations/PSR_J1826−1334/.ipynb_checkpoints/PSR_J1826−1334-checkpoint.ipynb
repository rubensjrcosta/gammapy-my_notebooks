{
 "cells": [
  {
   "cell_type": "markdown",
   "id": "c0b5edd3",
   "metadata": {},
   "source": [
    "<a id='intro'></a>\n",
    "## Simulation of a Single Spectrum\n",
    "\n",
    "We will simulate the energy spectrum of 3FHL J1230.8+1223 from the Fermi-LAT 3FHL source catalog considering the Dominguez EBL absorption spectral model. To do a simulation, we need to define the observational parameters like\n",
    "the livetime, the offset, the assumed integration radius, the energy\n",
    "range to perform the simulation for and the choice of spectral model. We\n",
    "then use an in-memory observation which is convolved with the IRFs to\n",
    "get the predicted number of counts. This is Poission fluctuated using\n",
    "the `fake()` to get the simulated counts for each observation."
   ]
  },
  {
   "cell_type": "markdown",
   "id": "44805999",
   "metadata": {},
   "source": [
    "<a id='indice'></a>\n",
    "### Indice\n",
    "[Step 0.0:  Setting the Engine Tools](#step0)<br>\n",
    "$\\;\\;\\;\\;\\;$[Step 0.1:  Importing the Python Necessary Tools](#step0.1)<br>\n",
    "$\\;\\;\\;\\;\\;$[Step 0.2:  Defining Functions](#step0.2)<br>\n",
    "[Step 1.0: Source Information](#step1)<br>\n",
    "[Step 2.0: Creates the Observation](#step2)<br>\n",
    "[Step 3.0: Defining the Skymodel](#step3)<br>\n",
    "[Step 4.0: Simulating the Spectrum](#step4)<br>\n",
    "$\\;\\;\\;\\;\\;$[Step 4.1: Defines the geometry](#step4.1)<br> \n",
    "$\\;\\;\\;\\;\\;$[Step 4.2: Setting the Model on the Dataset](#step4.2)<br> \n",
    "[Step 5.0: On-Off Analysis](#step5)<br>\n",
    "$\\;\\;\\;\\;\\;$[Step 5.1: Simulating the Observations](#step5.1)<br>\n",
    "$\\;\\;\\;\\;\\;$[Step 5.2: Plotting Counts, Excess and Significance](#step5.2)<br>\n",
    "$\\;\\;\\;\\;\\;$[Step 5.3: Computing the Sensitivity](#step5.3)<br>\n",
    "$\\;\\;\\;\\;\\;$[Step 5.4 Computing the Flux Points](#step5.4)<br>"
   ]
  },
  {
   "cell_type": "markdown",
   "id": "3bdb2877",
   "metadata": {},
   "source": [
    "<a id='step0'></a>\n",
    "## Step 0.0:  Setting the Engine Tools\n",
    "\n",
    "<a id='step0.1'></a>\n",
    "### Step 0.1: Importing the Python Necessary Tools"
   ]
  },
  {
   "cell_type": "code",
   "execution_count": 1,
   "id": "59ef12b1",
   "metadata": {},
   "outputs": [],
   "source": [
    "import gammapy\n",
    "from astropy import units as u\n",
    "import numpy as np\n",
    "from astropy.io import ascii\n",
    "import collections\n",
    "import sys, os\n",
    "import matplotlib.pyplot as plt\n",
    "\n",
    "from gammapy.catalog import SourceCatalog3FHL\n",
    "from gammapy.makers import SpectrumDatasetMaker, SafeMaskMaker, ReflectedRegionsBackgroundMaker\n",
    "from gammapy.modeling import Fit\n",
    "from gammapy.data import Observation, Observations, observatory_locations\n",
    "from gammapy.datasets import SpectrumDatasetOnOff, SpectrumDataset, Datasets\n",
    "from gammapy.irf import load_cta_irfs\n",
    "from gammapy.maps import MapAxis, RegionGeom\n",
    "\n",
    "from gammapy.modeling.models import (\n",
    "    EBLAbsorptionNormSpectralModel,\n",
    "    Models,\n",
    "    PowerLawSpectralModel,\n",
    "    SkyModel,\n",
    ")\n",
    "\n",
    "from gammapy.irf import EffectiveAreaTable2D\n",
    "\n",
    "from numpy.random import RandomState\n",
    "\n",
    "from scipy.stats import chi2, norm\n",
    "\n",
    "from gammapy.estimators import FluxPointsEstimator\n",
    "from gammapy.estimators import FluxPoints\n",
    "from gammapy.datasets import FluxPointsDataset\n",
    "\n",
    "# astropy imports\n",
    "from astropy.coordinates import SkyCoord, Angle\n",
    "from astropy import units as u\n",
    "from astropy.io import fits\n",
    "from astropy.table import Table, Column\n",
    "\n",
    "from gammapy.estimators import SensitivityEstimator\n",
    "\n",
    "# astropy affiliated packages imports\n",
    "from regions import CircleSkyRegion\n",
    "\n",
    "from gammapy.stats import WStatCountsStatistic\n",
    "from gammapy.stats import CashCountsStatistic\n",
    "from scipy.stats import sem\n",
    "from gammapy.maps import Map\n",
    "from regions import PointSkyRegion\n",
    "\n",
    "import math\n",
    "\n",
    "from pathlib import Path"
   ]
  },
  {
   "cell_type": "markdown",
   "id": "d6e287e3",
   "metadata": {},
   "source": [
    "<a id='step0.2'></a>\n",
    "### Step 0.2: Defining Functions"
   ]
  },
  {
   "cell_type": "code",
   "execution_count": 2,
   "id": "6e973926",
   "metadata": {},
   "outputs": [],
   "source": [
    "def mkdir_base_child(base_dir, child_dir):\n",
    "    '''Creates a directory: base_dir/child_dir and returs the path \n",
    "    mkdir_base_child(base_dir, child_dir)\n",
    "    >>> path_child\n",
    "    '''\n",
    "    path_base = Path(f\"{base_dir}\")\n",
    "    path_base.mkdir(exist_ok=True)\n",
    "\n",
    "    path_child = Path(f\"{path_base}/{child_dir}\")\n",
    "    path_child.mkdir(exist_ok=True)\n",
    "    \n",
    "    return path_child"
   ]
  },
  {
   "cell_type": "code",
   "execution_count": 3,
   "id": "486cbaac",
   "metadata": {},
   "outputs": [],
   "source": [
    "def plt_savefig(path_child, child_name):\n",
    "    ''' Saves figures (.png and .pdf) in the path_child directoty    \n",
    "    plt_savefig(path_child, child_name)\n",
    "    >>> plt.savefig(file, bbox_inches='tight')\n",
    "    '''\n",
    "    formats_file = [\".png\", \".pdf\"]\n",
    "    for format_file in formats_file: \n",
    "        file = path_child / f'{src_id}_{child_name}_{ebl_ref}{format_file}'\n",
    "        plt.savefig(file, bbox_inches='tight')\n"
   ]
  },
  {
   "cell_type": "markdown",
   "id": "19987720",
   "metadata": {},
   "source": [
    "___"
   ]
  },
  {
   "cell_type": "markdown",
   "id": "32463b2e",
   "metadata": {},
   "source": [
    "🔝 [Back to Top](#intro)<br>"
   ]
  },
  {
   "cell_type": "markdown",
   "id": "a784cfbd",
   "metadata": {},
   "source": [
    "<a id='step1'></a>\n",
    "## Step 1.0:  Source Information"
   ]
  },
  {
   "cell_type": "code",
   "execution_count": 4,
   "id": "234a2819",
   "metadata": {},
   "outputs": [],
   "source": [
    "from astropy import units as u\n",
    "from astropy import cosmology\n",
    "from astropy.cosmology import WMAP5, WMAP7\n",
    "from astropy.coordinates import Distance"
   ]
  },
  {
   "cell_type": "code",
   "execution_count": 5,
   "id": "2341abe6",
   "metadata": {},
   "outputs": [
    {
     "data": {
      "text/plain": [
       "FlatLambdaCDM(name=\"WMAP7\", H0=70.4 km / (Mpc s), Om0=0.272, Tcmb0=2.725 K, Neff=3.04, m_nu=[0. 0. 0.] eV, Ob0=0.0455)"
      ]
     },
     "execution_count": 5,
     "metadata": {},
     "output_type": "execute_result"
    }
   ],
   "source": [
    "cosmology.default_cosmology.set(WMAP7)\n",
    "cosmology.default_cosmology.get()"
   ]
  },
  {
   "cell_type": "markdown",
   "id": "59a8ac62",
   "metadata": {},
   "source": [
    "[source](https://docs.astropy.org/en/stable/api/astropy.cosmology.FlatLambdaCDM.html#astropy.cosmology.FlatLambdaCDM)\n",
    "+ H0 = Hubble constant at z = 0. If a float, must be in [km/sec/Mpc].\n",
    "Om0 = Omega matter: density of non-relativistic matter in units of the critical density at z=0.\n",
    "+ Tcmb0 = Temperature of the CMB z=0. If a float, must be in [K]. Default: 0 [K]. Setting  this to zero will turn off both photons and neutrinos (even massive ones).\n",
    "+ Neff = Effective number of Neutrino species. Default 3.04.\n",
    "+ m_nu = Mass of each neutrino species in [eV] (mass-energy equivalency enabled). If this is a scalar Quantity, then all neutrino species are assumed to have that mass. Otherwise, the mass of each species. The actual number of neutrino species (and hence the number of elements of m_nu if it is not scalar) must be the floor of Neff. Typically this means you should provide three neutrino masses unless you are considering something like a sterile neutrino.\n",
    "+ Ob0 = Omega baryons: density of baryonic matter in units of the critical density at z=0. If this is set to None (the default), any computation that requires its value will raise an exception.\n",
    "\n"
   ]
  },
  {
   "cell_type": "code",
   "execution_count": 6,
   "id": "b0a8eee3",
   "metadata": {},
   "outputs": [],
   "source": [
    "src_name = \" \"  # Official source name \n",
    "src_id  = src_name.replace(\" \", \"\") # Name of identified or likely associated source"
   ]
  },
  {
   "cell_type": "markdown",
   "id": "11708e48",
   "metadata": {},
   "source": [
    "[ATNF Pulsar Catalogue: PSR J1826-1334](https://www.atnf.csiro.au/research/pulsar/psrcat/proc_form.php?version=1.69&Name=Name&JName=JName&RaJ=RaJ&DecJ=DecJ&Dist=Dist&Dist_DM=Dist_DM&Assoc=Assoc&startUserDefined=true&c1_val=&c2_val=&c3_val=&c4_val=&sort_attr=jname&sort_order=asc&condition=&pulsar_names=J1826-1334&ephemeris=short&coords_unit=raj%2Fdecj&radius=&coords_1=&coords_2=&style=Long+with+last+digit+error&no_value=*&fsize=3&x_axis=&x_scale=linear&y_axis=&y_scale=linear&state=query&table_bottom.x=50&table_bottom.y=14)"
   ]
  },
  {
   "cell_type": "code",
   "execution_count": 7,
   "id": "0edb966b",
   "metadata": {},
   "outputs": [
    {
     "data": {
      "text/plain": [
       "(<Distance 3.606 kpc>, 8.467890787929234e-07)"
      ]
     },
     "execution_count": 7,
     "metadata": {},
     "output_type": "execute_result"
    }
   ],
   "source": [
    "src_dist = Distance(value = 3.606, unit = u.kpc) # The source distance.\n",
    "src_red = src_dist.compute_z() # The source redshift for this distance assuming its physical distance is a luminosity distance.\n",
    "src_red = float(src_red)\n",
    "src_dist, src_red"
   ]
  },
  {
   "cell_type": "code",
   "execution_count": 8,
   "id": "85a6b57a",
   "metadata": {},
   "outputs": [],
   "source": [
    "src_ra =Angle('18h26m13.175s').degree    # Right ascension (deg)\n",
    "src_de  = Angle(\"-13d34m46.8s\").degree   # Declination (deg)"
   ]
  },
  {
   "cell_type": "code",
   "execution_count": 9,
   "id": "acf15bdd",
   "metadata": {},
   "outputs": [
    {
     "name": "stdout",
     "output_type": "stream",
     "text": [
      " Source Information:\n",
      "(RAJ2000, DEJ2000) = (276.555, -13.580); Redshift = 0.00000085\n"
     ]
    }
   ],
   "source": [
    "print(f\"{src_id} Source Information:\")\n",
    "print(f\"(RAJ2000, DEJ2000) = ({src_ra:.3f}, {src_de:.3f}); Redshift = {src_red:.8f}\" )"
   ]
  },
  {
   "cell_type": "markdown",
   "id": "3528d87a",
   "metadata": {},
   "source": [
    "___"
   ]
  },
  {
   "cell_type": "markdown",
   "id": "dbd6b4ba",
   "metadata": {},
   "source": [
    "🔝 [Back to Top](#intro)<br>"
   ]
  },
  {
   "cell_type": "markdown",
   "id": "cb47a787",
   "metadata": {},
   "source": [
    "<a id='step2'></a>\n",
    "## Step 2.0:  Creates the Observation"
   ]
  },
  {
   "cell_type": "markdown",
   "id": "7ad701bb",
   "metadata": {},
   "source": [
    "Define the source position:"
   ]
  },
  {
   "cell_type": "code",
   "execution_count": 10,
   "id": "9e294533",
   "metadata": {},
   "outputs": [],
   "source": [
    "# frame  = \"icrs\" # International Celestial Reference System (ICRS)\n",
    "\n",
    "frame  = \"galactic\" \n",
    "\n",
    "unit   = \"deg\"  # Degrees units"
   ]
  },
  {
   "cell_type": "code",
   "execution_count": 11,
   "id": "c6834e14",
   "metadata": {},
   "outputs": [],
   "source": [
    "src_pos = SkyCoord(src_ra, src_de, unit=unit, frame=frame) # Source Position"
   ]
  },
  {
   "cell_type": "markdown",
   "id": "e991ac82",
   "metadata": {},
   "source": [
    "Define the observation parameters (typically the observation duration and the pointing position):\n"
   ]
  },
  {
   "cell_type": "code",
   "execution_count": 12,
   "id": "2d8151b9",
   "metadata": {},
   "outputs": [
    {
     "ename": "AttributeError",
     "evalue": "'SkyCoord' object has no attribute 'ra'",
     "output_type": "error",
     "traceback": [
      "\u001b[0;31m---------------------------------------------------------------------------\u001b[0m",
      "\u001b[0;31mAttributeError\u001b[0m                            Traceback (most recent call last)",
      "Input \u001b[0;32mIn [12]\u001b[0m, in \u001b[0;36m<cell line: 4>\u001b[0;34m()\u001b[0m\n\u001b[1;32m      1\u001b[0m livetime \u001b[38;5;241m=\u001b[39m \u001b[38;5;241m50\u001b[39m \u001b[38;5;241m*\u001b[39m u\u001b[38;5;241m.\u001b[39mh \u001b[38;5;66;03m# Livetime exposure of the simulated observation\u001b[39;00m\n\u001b[1;32m      3\u001b[0m offset \u001b[38;5;241m=\u001b[39m \u001b[38;5;241m0.5\u001b[39m \u001b[38;5;241m*\u001b[39m u\u001b[38;5;241m.\u001b[39mdeg \u001b[38;5;66;03m# Pointing position  offset\u001b[39;00m\n\u001b[0;32m----> 4\u001b[0m pointing \u001b[38;5;241m=\u001b[39m SkyCoord(\u001b[43msrc_pos\u001b[49m\u001b[38;5;241;43m.\u001b[39;49m\u001b[43mra\u001b[49m, src_pos\u001b[38;5;241m.\u001b[39mdec \u001b[38;5;241m+\u001b[39m offset, unit\u001b[38;5;241m=\u001b[39munit, frame\u001b[38;5;241m=\u001b[39mframe)\n\u001b[1;32m      5\u001b[0m \u001b[38;5;66;03m# print(pointing)\u001b[39;00m\n",
      "File \u001b[0;32m~/anaconda3/envs/gammapy-1.0/lib/python3.9/site-packages/astropy/coordinates/sky_coordinate.py:858\u001b[0m, in \u001b[0;36mSkyCoord.__getattr__\u001b[0;34m(self, attr)\u001b[0m\n\u001b[1;32m    855\u001b[0m         \u001b[38;5;28;01mreturn\u001b[39;00m \u001b[38;5;28mself\u001b[39m\u001b[38;5;241m.\u001b[39mtransform_to(attr)\n\u001b[1;32m    857\u001b[0m \u001b[38;5;66;03m# Fail\u001b[39;00m\n\u001b[0;32m--> 858\u001b[0m \u001b[38;5;28;01mraise\u001b[39;00m \u001b[38;5;167;01mAttributeError\u001b[39;00m(\u001b[38;5;124m\"\u001b[39m\u001b[38;5;124m'\u001b[39m\u001b[38;5;132;01m{}\u001b[39;00m\u001b[38;5;124m'\u001b[39m\u001b[38;5;124m object has no attribute \u001b[39m\u001b[38;5;124m'\u001b[39m\u001b[38;5;132;01m{}\u001b[39;00m\u001b[38;5;124m'\u001b[39m\u001b[38;5;124m\"\u001b[39m\n\u001b[1;32m    859\u001b[0m                      \u001b[38;5;241m.\u001b[39mformat(\u001b[38;5;28mself\u001b[39m\u001b[38;5;241m.\u001b[39m\u001b[38;5;18m__class__\u001b[39m\u001b[38;5;241m.\u001b[39m\u001b[38;5;18m__name__\u001b[39m, attr))\n",
      "\u001b[0;31mAttributeError\u001b[0m: 'SkyCoord' object has no attribute 'ra'"
     ]
    }
   ],
   "source": [
    "livetime = 50 * u.h # Livetime exposure of the simulated observation\n",
    "\n",
    "offset = 0.5 * u.deg # Pointing position  offset\n",
    "pointing = SkyCoord(src_pos.ra, src_pos.dec + offset, unit=unit, frame=frame)\n",
    "# print(pointing)"
   ]
  },
  {
   "cell_type": "markdown",
   "id": "91751de7",
   "metadata": {},
   "source": [
    "Load the IRFs:"
   ]
  },
  {
   "cell_type": "code",
   "execution_count": null,
   "id": "b9fe17ab",
   "metadata": {},
   "outputs": [],
   "source": [
    "# In this simulation, we use the CTA-1DC irfs shipped with gammapy\n",
    "base_name = '/home/gamma/Documents/GitHub/gammapy/gammapy-notebooks/0.20.1/tutorials/data/caldb/data/cta/prod3b-v2/bcf'\n",
    "irfs = load_cta_irfs(base_name + '/North_z20_N_50h/irf_file.fits')"
   ]
  },
  {
   "cell_type": "markdown",
   "id": "1ba185c7",
   "metadata": {},
   "source": [
    "Creates a observation:"
   ]
  },
  {
   "cell_type": "code",
   "execution_count": null,
   "id": "1f2296ae",
   "metadata": {},
   "outputs": [],
   "source": [
    "help(Observation)"
   ]
  },
  {
   "cell_type": "code",
   "execution_count": null,
   "id": "ae83bd1a",
   "metadata": {},
   "outputs": [],
   "source": [
    "location = observatory_locations[\"cta_north\"]\n",
    "obs = Observation.create(\n",
    "    pointing=pointing,\n",
    "    livetime=livetime,\n",
    "    irfs=irfs,\n",
    "    location=location,\n",
    ")\n",
    "print(obs)"
   ]
  },
  {
   "cell_type": "code",
   "execution_count": null,
   "id": "5152f214",
   "metadata": {},
   "outputs": [],
   "source": [
    "# help(obs)"
   ]
  },
  {
   "cell_type": "markdown",
   "id": "4ce16ebf",
   "metadata": {},
   "source": [
    "___"
   ]
  },
  {
   "cell_type": "markdown",
   "id": "74e31167",
   "metadata": {},
   "source": [
    "🔝 [Back to Top](#intro)<br>"
   ]
  },
  {
   "cell_type": "markdown",
   "id": "fc40f6bf",
   "metadata": {},
   "source": [
    "<a id='step3'></a>\n",
    "## Step 3.0:  Defining the Skymodel\n",
    "Define spectral model:"
   ]
  },
  {
   "cell_type": "code",
   "execution_count": null,
   "id": "0728d768",
   "metadata": {},
   "outputs": [],
   "source": [
    "# A simple Power Law\n",
    "# index=2.24\n",
    "# amplitude=6.47e-13 * u.Unit(\"cm-2 s-1 TeV-1\")\n",
    "# reference=0.1 * u.TeV\n",
    "    \n",
    "# model = PowerLawSpectralModel(\n",
    "#     index=index,\n",
    "#     amplitude=amplitude,\n",
    "#     reference=reference,\n",
    "# )\n",
    "# # print(pwl)"
   ]
  },
  {
   "cell_type": "code",
   "execution_count": null,
   "id": "f2b5daa6",
   "metadata": {},
   "outputs": [],
   "source": [
    "from gammapy.modeling.models import LogParabolaSpectralModel, Models, SkyModel\n",
    "\n",
    "energy_bounds = [0.1, 100] * u.TeV\n",
    "model = LogParabolaSpectralModel(\n",
    "    alpha=2.3,\n",
    "    amplitude=\"1e-12 cm-2 s-1 TeV-1\",\n",
    "    reference=1 * u.TeV,\n",
    "    beta=0.5,\n",
    ")\n",
    "model.plot(energy_bounds)\n",
    "plt.grid(which=\"both\")"
   ]
  },
  {
   "cell_type": "markdown",
   "id": "44d70888",
   "metadata": {},
   "source": [
    "Define absorption model:"
   ]
  },
  {
   "cell_type": "code",
   "execution_count": null,
   "id": "66b1fa56",
   "metadata": {},
   "outputs": [],
   "source": [
    "type(src_red)"
   ]
  },
  {
   "cell_type": "code",
   "execution_count": null,
   "id": "f04f4df6",
   "metadata": {
    "scrolled": true
   },
   "outputs": [],
   "source": [
    "ebl_models = ['franceschini', 'dominguez', 'finke'] # Available models in gammapy-data:{'franceschini', 'dominguez', 'finke'}\n",
    "\n",
    "ebl_ref = ebl_models[1] # dominguez\n",
    "\n",
    "import astropy.cosmology.units as cu\n",
    "# cosmo.age([0.5, 1, 1.5] * cu.redshift)  \n",
    "\n",
    "absorption = EBLAbsorptionNormSpectralModel.read_builtin(\n",
    "    reference = ebl_ref, \n",
    "    redshift=src_red\n",
    ")\n",
    "print(absorption)"
   ]
  },
  {
   "cell_type": "code",
   "execution_count": null,
   "id": "54d543ce",
   "metadata": {},
   "outputs": [],
   "source": [
    "\n"
   ]
  },
  {
   "cell_type": "markdown",
   "id": "5dc48eb3",
   "metadata": {},
   "source": [
    "The compound spectral model:"
   ]
  },
  {
   "cell_type": "code",
   "execution_count": null,
   "id": "4758a3f5",
   "metadata": {
    "scrolled": true
   },
   "outputs": [],
   "source": [
    "absspecmodel = model * absorption # CompoundSpectralModel\n",
    "print(absspecmodel)"
   ]
  },
  {
   "cell_type": "markdown",
   "id": "3d21f4b0",
   "metadata": {},
   "source": [
    "Setting the sky model used in the dataset:"
   ]
  },
  {
   "cell_type": "code",
   "execution_count": null,
   "id": "81ef12a6",
   "metadata": {},
   "outputs": [],
   "source": [
    "skymodel = SkyModel(\n",
    "    spectral_model=absspecmodel, \n",
    "    name=\"model_simu\"\n",
    ")\n",
    "# print(skymodel)"
   ]
  },
  {
   "cell_type": "markdown",
   "id": "644e3b64",
   "metadata": {},
   "source": [
    "___"
   ]
  },
  {
   "cell_type": "markdown",
   "id": "c2986b6a",
   "metadata": {},
   "source": [
    "🔝 [Back to Top](#intro)<br>"
   ]
  },
  {
   "cell_type": "markdown",
   "id": "38344d22",
   "metadata": {},
   "source": [
    "<a id='step4'></a>\n",
    "## Step 4.0:  Simulating the Spectrum\n",
    "<a id='step4.1'></a>\n",
    "### Step 4.1: Defines the geometry"
   ]
  },
  {
   "cell_type": "code",
   "execution_count": null,
   "id": "465303cf",
   "metadata": {},
   "outputs": [],
   "source": [
    "# Defines the energy range\n",
    "emin = 0.1 * u.TeV   # Minimum energy\n",
    "emax = 40. * u.TeV # Maximum energy"
   ]
  },
  {
   "cell_type": "code",
   "execution_count": null,
   "id": "2d570029",
   "metadata": {},
   "outputs": [],
   "source": [
    "# Reconstructed energy axis\n",
    "energy_reco = MapAxis.from_energy_bounds(\n",
    "    emin, \n",
    "    emax, \n",
    "    nbin=5, \n",
    "    per_decade=True, \n",
    "    name=\"energy\"\n",
    ")\n",
    "# print(energy_reco)"
   ]
  },
  {
   "cell_type": "code",
   "execution_count": null,
   "id": "8f4df87d",
   "metadata": {},
   "outputs": [],
   "source": [
    "# Defines the on region:\n",
    "# on_region_radius = Angle(\"0.11 deg\")\n",
    "on_region_radius = Angle(\"0.11 deg\")\n",
    "\n",
    "on_region = CircleSkyRegion(\n",
    "    center=src_pos, \n",
    "    radius=on_region_radius\n",
    ")\n",
    "# print(on_region)"
   ]
  },
  {
   "cell_type": "code",
   "execution_count": null,
   "id": "11618e5c",
   "metadata": {},
   "outputs": [],
   "source": [
    "#Defines the geometry:\n",
    "geom = RegionGeom.create(\n",
    "    region=on_region, \n",
    "    axes=[energy_reco]\n",
    ")"
   ]
  },
  {
   "cell_type": "markdown",
   "id": "aacadc10",
   "metadata": {},
   "source": [
    "<a id='step4.2'></a>\n",
    "### Step 4.2: Setting the Model on the Dataset"
   ]
  },
  {
   "cell_type": "code",
   "execution_count": null,
   "id": "53aabe70",
   "metadata": {},
   "outputs": [],
   "source": [
    "# Defines the true energy axis:\n",
    "# true energy axis should be wider than reco energy axis\n",
    "energy_true = MapAxis.from_energy_bounds(\n",
    "    0.3*emin, \n",
    "    3*emax, \n",
    "    nbin=8, \n",
    "    per_decade=True, \n",
    "    name=\"energy_true\"\n",
    ")\n",
    "# print(energy_true)"
   ]
  },
  {
   "cell_type": "code",
   "execution_count": null,
   "id": "d54d2ed2",
   "metadata": {},
   "outputs": [],
   "source": [
    "# Create a MapDataset object with zero filled maps.\n",
    "dataset_empty = SpectrumDataset.create(\n",
    "    geom=geom, \n",
    "    energy_axis_true=energy_true,\n",
    "    name=\"obs-0\"\n",
    ")"
   ]
  },
  {
   "cell_type": "code",
   "execution_count": null,
   "id": "d59c8e31",
   "metadata": {},
   "outputs": [],
   "source": [
    "# Make spectrum for a single IACT observation:\n",
    "# The irfs and background are computed at a single fixed offset, which is recommended only for point-sources.\n",
    "maker = SpectrumDatasetMaker(\n",
    "#     containment_correction=True, # Apply containment correction for point sources and circular on regions.\n",
    "    selection=[\"edisp\", \"background\", \"exposure\"], # Selecting which maps to make\n",
    "    use_region_center=False\n",
    ")\n",
    "safe_maker = SafeMaskMaker(methods=[\"bkg-peak\"], aeff_percent=10) # Make safe data range mask for a given observation."
   ]
  },
  {
   "cell_type": "code",
   "execution_count": null,
   "id": "a2b7bd2e",
   "metadata": {},
   "outputs": [],
   "source": [
    "# help(SpectrumDatasetMaker)"
   ]
  },
  {
   "cell_type": "code",
   "execution_count": null,
   "id": "dc9b92e8",
   "metadata": {},
   "outputs": [],
   "source": [
    "# Make map dataset:\n",
    "dataset = maker.run(dataset_empty, obs) \n",
    "dataset = safe_maker.run(dataset, obs)"
   ]
  },
  {
   "cell_type": "code",
   "execution_count": null,
   "id": "15fa2605",
   "metadata": {},
   "outputs": [],
   "source": [
    "# Set the model on the dataset, and fake\n",
    "dataset.models = skymodel\n",
    "dataset.fake(random_state=42)\n",
    "# print(dataset)"
   ]
  },
  {
   "cell_type": "markdown",
   "id": "a16aaedc",
   "metadata": {},
   "source": [
    "You can see that background counts are now simulated."
   ]
  },
  {
   "cell_type": "markdown",
   "id": "f5833551",
   "metadata": {},
   "source": [
    "___"
   ]
  },
  {
   "cell_type": "markdown",
   "id": "3091a851",
   "metadata": {},
   "source": [
    "🔝 [Back to Top](#intro)<br>"
   ]
  },
  {
   "cell_type": "markdown",
   "id": "e9184705",
   "metadata": {},
   "source": [
    "<a id='step5'></a>\n",
    "### Step 5.0: On-Off Analysis\n",
    "\n",
    "To do an on off spectral analysis, which is the usual science case, the\n",
    "standard would be to use `SpectrumDatasetOnOff`, which uses the\n",
    "acceptance to fake off-counts"
   ]
  },
  {
   "cell_type": "markdown",
   "id": "bc2e9496",
   "metadata": {},
   "source": [
    "<a id='step5.1'></a>\n",
    "### Step 5.1: Simulating the Observations"
   ]
  },
  {
   "cell_type": "code",
   "execution_count": null,
   "id": "cec597d4",
   "metadata": {},
   "outputs": [],
   "source": [
    "# Spectrum dataset for on-off likelihood fitting.\n",
    "dataset_onoff = SpectrumDatasetOnOff.from_spectrum_dataset(\n",
    "    dataset=dataset, \n",
    "    acceptance=1, \n",
    "    acceptance_off=5\n",
    ")\n",
    "\n",
    "# Simulate fake counts (on and off) for the current model and reduced IRFs.\n",
    "dataset_onoff.fake(\n",
    "    random_state='random-seed', \n",
    "    npred_background=dataset.npred_background()\n",
    ")\n",
    "\n",
    "# print(dataset_onoff)"
   ]
  },
  {
   "cell_type": "code",
   "execution_count": null,
   "id": "68a76332",
   "metadata": {},
   "outputs": [],
   "source": [
    "# Class to compute statistics for Poisson distributed variable with unknown background.\n",
    "significance = WStatCountsStatistic(\n",
    "    n_on=sum(dataset_onoff.counts.data), \n",
    "    n_off=sum(dataset_onoff.counts_off.data), \n",
    "    alpha=0.2).sqrt_ts\n",
    "# print(significance)"
   ]
  },
  {
   "cell_type": "code",
   "execution_count": null,
   "id": "2c521f88",
   "metadata": {},
   "outputs": [],
   "source": [
    "n_obs = 10 # We simulate each observation n_obs times, to randomize the renortets"
   ]
  },
  {
   "cell_type": "code",
   "execution_count": null,
   "id": "c9fb961f",
   "metadata": {},
   "outputs": [],
   "source": [
    "datasets = Datasets()\n",
    "\n",
    "for idx in range(n_obs):\n",
    "    dataset_onoff.fake(\n",
    "        random_state=idx, \n",
    "        npred_background=dataset.npred_background()\n",
    "    )\n",
    "    dataset_fake = dataset_onoff.copy(name=f\"obs-{idx}\")\n",
    "    dataset_fake.meta_table[\"OBS_ID\"] = [idx]\n",
    "    datasets.append(dataset_fake)\n",
    "\n",
    "table = datasets.info_table()\n",
    "# print(table)"
   ]
  },
  {
   "cell_type": "markdown",
   "id": "ea41dc95",
   "metadata": {},
   "source": [
    "<a id='step5.2'></a>\n",
    "### Step 5.2: Plotting Counts, Excess and Significance"
   ]
  },
  {
   "cell_type": "code",
   "execution_count": null,
   "id": "8029e147",
   "metadata": {},
   "outputs": [],
   "source": [
    "fix, axes = plt.subplots(1, 4, figsize=(12, 4))\n",
    "axes[0].hist(table[\"counts\"])\n",
    "axes[0].set_xlabel(\"Counts\")\n",
    "axes[0].set_ylabel(\"Frequency\");\n",
    "\n",
    "axes[1].hist(table[\"counts_off\"])\n",
    "axes[1].set_xlabel(\"Counts Off\");\n",
    "\n",
    "axes[2].hist(table[\"excess\"])\n",
    "axes[2].set_xlabel(\"excess\");\n",
    "\n",
    "axes[3].hist(table[\"sqrt_ts\"])\n",
    "axes[3].set_xlabel(r\"significance ($\\sigma$)\");\n",
    "\n",
    "path_counts = mkdir_base_child(\"analysis\", \"counts\")\n",
    "\n",
    "plt_savefig(path_counts, \"counts\")"
   ]
  },
  {
   "cell_type": "code",
   "execution_count": null,
   "id": "d94e879d",
   "metadata": {},
   "outputs": [],
   "source": []
  },
  {
   "cell_type": "markdown",
   "id": "5714f61c",
   "metadata": {},
   "source": [
    "<a id='step5.3'></a>\n",
    "### Step 5.3: Computing the Sensitivity"
   ]
  },
  {
   "cell_type": "code",
   "execution_count": null,
   "id": "43c839f9",
   "metadata": {},
   "outputs": [],
   "source": [
    "import scienceplots\n",
    "\n",
    "plt.style.use(['science', 'notebook', 'grid'])\n",
    "\n",
    "sensitivity_estimator = SensitivityEstimator(\n",
    "    gamma_min=5, \n",
    "    n_sigma=3, \n",
    "    bkg_syst_fraction=0.10\n",
    ")\n",
    "sensitivity_table = sensitivity_estimator.run(dataset_onoff)\n",
    "print(sensitivity_table)\n",
    "\n",
    "# Plot the sensitivity curve\n",
    "t = sensitivity_table\n",
    "\n",
    "fix, axes = plt.subplots(figsize=(5, 3))\n",
    "\n",
    "axes.plot(t[\"energy\"], t[\"e2dnde\"], \"s-\", color=\"red\")\n",
    "axes.loglog()\n",
    "\n",
    "axes.set_xlabel(f\"Energy ({t['energy'].unit})\", size=13)\n",
    "axes.set_ylabel(f\"Sensitivity ({t['e2dnde'].unit})\", size=13)\n",
    "\n",
    "path_sens = mkdir_base_child(\"analysis\", \"sensitivity\")\n",
    "\n",
    "plt.savefig(f'./sensitivity.png', bbox_inches='tight')\n"
   ]
  },
  {
   "cell_type": "code",
   "execution_count": null,
   "id": "28239817",
   "metadata": {},
   "outputs": [],
   "source": [
    "t"
   ]
  },
  {
   "cell_type": "code",
   "execution_count": null,
   "id": "e1653e2d",
   "metadata": {},
   "outputs": [],
   "source": [
    "# help(SensitivityEstimator)"
   ]
  },
  {
   "cell_type": "markdown",
   "id": "013ea681",
   "metadata": {},
   "source": [
    "<a id='step5.4'></a>\n",
    "### Step 5.4:  Computing the Flux Points\n",
    "\n",
    "We can now compute some flux points using the `~gammapy.estimators.FluxPointsEstimator`. \n",
    "\n",
    "Besides the list of datasets to use, we must provide it the energy intervals on which to compute flux points as well as the model component name. "
   ]
  },
  {
   "cell_type": "code",
   "execution_count": null,
   "id": "0b6306e7",
   "metadata": {
    "scrolled": true
   },
   "outputs": [],
   "source": [
    "#Compute flux points\n",
    "datasets.models = [skymodel]\n",
    "\n",
    "fit_joint = Fit()\n",
    "result_joint = fit_joint.run(datasets=datasets)\n",
    "\n",
    "# we make a copy here to compare it later\n",
    "model_best_joint = skymodel.copy()\n",
    "\n",
    "energy_edges = MapAxis.from_energy_bounds(\"0.1 TeV\", \"30 TeV\", nbin=12).edges\n",
    "\n",
    "fpe = FluxPointsEstimator(energy_edges=energy_edges, source=\"model_simu\", selection_optional=\"all\")\n",
    "flux_points = fpe.run(datasets=datasets)\n",
    "\n",
    "display(flux_points.to_table(sed_type=\"e2dnde\", formatted=True))"
   ]
  },
  {
   "cell_type": "code",
   "execution_count": null,
   "id": "4f158996",
   "metadata": {},
   "outputs": [],
   "source": [
    "display(flux_points.to_table(sed_type=\"dnde\", formatted=True))"
   ]
  },
  {
   "cell_type": "code",
   "execution_count": null,
   "id": "5b7cca55",
   "metadata": {
    "scrolled": true
   },
   "outputs": [],
   "source": [
    "e_ref = []\n",
    "e_min = []\n",
    "e_max = []\n",
    "dnde = []\n",
    "dnde_err = []\n",
    "subtract_emin = []\n",
    "subtract_emax = []\n",
    "\n",
    "for j in range(len(flux_points[\"energy_max\"].value)):\n",
    "    if flux_points[\"dnde\"].data[j] > 0:\n",
    "        e_ref.append(flux_points[\"energy_ref\"].value[j])\n",
    "        e_min.append(flux_points[\"energy_min\"].value[j])\n",
    "        e_max.append(flux_points[\"energy_max\"].value[j])\n",
    "        dnde.append(flux_points[\"dnde\"].data[j][0])\n",
    "        dnde_err.append(flux_points[\"dnde_err\"].data[j][0])\n",
    "flux_TEV = np.hstack((dnde))#*1e+06\n",
    "flux_err_TEV = np.hstack((dnde_err))#*1e+06  \n",
    "energy = np.hstack((e_ref))\n"
   ]
  },
  {
   "cell_type": "code",
   "execution_count": null,
   "id": "e23a1c33",
   "metadata": {},
   "outputs": [],
   "source": [
    "flux_points[\"dnde\"].data"
   ]
  },
  {
   "cell_type": "code",
   "execution_count": null,
   "id": "782dd907",
   "metadata": {},
   "outputs": [],
   "source": [
    "CTA_table = flux_points.to_table(sed_type=\"e2dnde\", formatted=True)\n",
    "CTA_table"
   ]
  },
  {
   "cell_type": "code",
   "execution_count": null,
   "id": "90c47304",
   "metadata": {},
   "outputs": [],
   "source": [
    "CTA_table[\"e2dnde\"][:] = CTA_table[\"e2dnde\"].to(u.Unit(\"erg cm-2 s-1\")) \n",
    "CTA_table[\"e2dnde\"].unit = u.Unit(\"erg cm-2 s-1\")\n",
    "\n",
    "CTA_table[\"e2dnde_err\"][:] = CTA_table[\"e2dnde_err\"].to(u.Unit(\"erg cm-2 s-1\")) \n",
    "CTA_table[\"e2dnde_err\"].unit = u.Unit(\"erg cm-2 s-1\")\n",
    "\n",
    "CTA_table[\"e2dnde_errp\"][:] = CTA_table[\"e2dnde_errp\"].to(u.Unit(\"erg cm-2 s-1\")) \n",
    "CTA_table[\"e2dnde_errp\"].unit = u.Unit(\"erg cm-2 s-1\")\n",
    "\n",
    "CTA_table[\"e2dnde_errn\"][:] = CTA_table[\"e2dnde_errn\"].to(u.Unit(\"erg cm-2 s-1\")) \n",
    "CTA_table[\"e2dnde_errn\"].unit = u.Unit(\"erg cm-2 s-1\")\n",
    "\n",
    "CTA_table[\"e2dnde_ul\"][:] = CTA_table[\"e2dnde_ul\"].to(u.Unit(\"erg cm-2 s-1\")) \n",
    "CTA_table[\"e2dnde_ul\"].unit = u.Unit(\"erg cm-2 s-1\")"
   ]
  },
  {
   "cell_type": "code",
   "execution_count": null,
   "id": "c6fc1ab7",
   "metadata": {},
   "outputs": [],
   "source": [
    "CTA_table"
   ]
  },
  {
   "cell_type": "code",
   "execution_count": null,
   "id": "58b285cd",
   "metadata": {},
   "outputs": [],
   "source": [
    "# if path_os not in sys.path:\n",
    "#     sys.path.append(path_os)\n",
    "\n",
    "CTA_table.write(\n",
    "    \"CTA_table.csv\",\n",
    "    format = 'ascii.ecsv', \n",
    "    overwrite = True\n",
    ")   "
   ]
  },
  {
   "cell_type": "code",
   "execution_count": null,
   "id": "a4cecae2",
   "metadata": {},
   "outputs": [],
   "source": [
    "table_CTA = Table.read('CTA_table.csv',format='ascii', delimiter=' ', comment='#')\n",
    "table_CTA"
   ]
  },
  {
   "cell_type": "code",
   "execution_count": null,
   "id": "9b8a5858",
   "metadata": {},
   "outputs": [],
   "source": [
    "fix, axes = plt.subplots(figsize=(5, 3))\n",
    "axes.plot(t[\"energy\"], t[\"e2dnde\"], \"s-\", color=\"red\")\n",
    "\n",
    "FluxPoints.from_table(table = CTA_table, sed_type='e2dnde').plot()\n"
   ]
  },
  {
   "cell_type": "code",
   "execution_count": null,
   "id": "8e06a989",
   "metadata": {},
   "outputs": [],
   "source": [
    "# table = Table([energy, flux_TEV], names=('e_ref', 'dnde'))\n",
    "# table['e_ref'].unit = u.TeV\n",
    "# # table['dnde'].unit = u.Unit(\"cm-2 s-1 TeV-1\")\n",
    "# # table[\"dnde\"][:] = table[\"dnde\"].to(u.Unit(\"erg-1 cm-2 s-1\")) \n",
    "# table[\"dnde\"][:] = table[\"dnde\"][:]*((table['e_ref'][:])**2)\n",
    "# table['dnde'].unit = u.Unit(\"cm-2 s-1 TeV\")\n",
    "\n",
    "# table.rename_column('dnde', 'e2dnde')\n",
    "\n",
    "# table.meta[\"SED_TYPE\"] = \"e2dnde\"\n",
    "# table.meta[\"name\"] = \"table\"\n",
    "    \n",
    "# # # table.rename_column('dnde', 'e2dnde')\n",
    "# # table[\"dnde\"][:] = table[\"dnde\"].to(u.Unit(\"TeV cm-2 s-1\")) \n",
    "\n",
    "# print(table)"
   ]
  },
  {
   "cell_type": "code",
   "execution_count": null,
   "id": "a7edc84c",
   "metadata": {},
   "outputs": [],
   "source": [
    "# table[\"dnde\"][:] = table[\"dnde\"].to(u.Unit(\"erg-1 cm-2 s-1\")) \n",
    "# table[\"dnde\"][:] = table[\"dnde\"][:]*((table['e_ref'][:])**2)\n",
    "# table.rename_column('dnde', 'e2dnde')\n",
    "# table.meta[\"SED_TYPE\"] = \"e2dnde\"\n",
    "# table.meta[\"name\"] = \"table\""
   ]
  },
  {
   "cell_type": "code",
   "execution_count": null,
   "id": "c70feee2",
   "metadata": {},
   "outputs": [],
   "source": [
    "# table[\"dnde\"]"
   ]
  },
  {
   "cell_type": "code",
   "execution_count": null,
   "id": "f8746b80",
   "metadata": {},
   "outputs": [],
   "source": [
    "# FluxPoints.from_table(table = table, sed_type='e2dnde').plot()\n",
    "# plt.xlim(.1, 1000)\n",
    "# plt.ylim(1e-18, 1e-10)\n",
    "# plt.grid(which=\"both\")"
   ]
  },
  {
   "cell_type": "code",
   "execution_count": null,
   "id": "d677b3ee",
   "metadata": {},
   "outputs": [],
   "source": [
    "energy_bounds = [0.1, 100] * u.TeV"
   ]
  },
  {
   "cell_type": "code",
   "execution_count": null,
   "id": "4df7556d",
   "metadata": {},
   "outputs": [],
   "source": [
    "plt.style.use(['default'])\n",
    "\n",
    "plt.figure(figsize=(8,5))\n",
    "absspecmodel.plot(\n",
    "    energy_bounds, \n",
    "    label='logparabola'\n",
    ")\n",
    "\n",
    "xerr = [np.hstack((e_ref))-np.hstack((e_min)), np.hstack((e_max))-np.hstack((e_ref))]\n",
    "\n",
    "plt.errorbar(\n",
    "    e_ref, \n",
    "    flux_TEV, \n",
    "    color='red', \n",
    "    marker='o', \n",
    "    xerr = xerr, \n",
    "    yerr = flux_err_TEV, \n",
    "    linestyle='', \n",
    "    label='CTA')\n",
    "# plt.grid(which=\"both\")\n",
    "plt.ylim(1e-67, 1e-8)\n",
    "plt.legend(loc=\"best\")\n",
    "plt.title(src_name)\n",
    "\n",
    "# path_flux = mkdir_base_child(\"analysis\", \"flux_point\")\n",
    "\n",
    "# plt_savefig(path_flux, \"flux_point\")\n",
    "\n",
    "# plt.savefig('./spectrum_srcM87.png', bbox_inches='tight')\n",
    "\n",
    "# plt.savefig('./M87_gammapy_flux_point.png', bbox_inches='tight')\n",
    "# plt.savefig('./M87_gammapy_flux_point.pdf', bbox_inches='tight')\n",
    "plt.savefig(f'./{src_name}_gammapy_flux_point.png', bbox_inches='tight')\n",
    "plt.show()\n"
   ]
  },
  {
   "cell_type": "code",
   "execution_count": null,
   "id": "ef285fae",
   "metadata": {},
   "outputs": [],
   "source": [
    "fix, axes = plt.subplots(figsize=(5, 3))\n",
    "\n",
    "axes.plot(t[\"energy\"], t[\"e2dnde\"], \"s-\", color=\"red\")\n",
    "axes.loglog()"
   ]
  },
  {
   "cell_type": "code",
   "execution_count": null,
   "id": "3aed238b",
   "metadata": {},
   "outputs": [],
   "source": [
    "plt.style.use(['default'])\n",
    "\n",
    "fix, axes = plt.subplots(figsize=(5, 3))\n",
    "axes.plot(t[\"energy\"], t[\"e2dnde\"], \"s-\", color=\"red\")\n",
    "\n",
    "absspecmodel.plot(\n",
    "    energy_bounds, \n",
    "    label='logparabola'\n",
    ")\n",
    "\n",
    "xerr = [np.hstack((e_ref))-np.hstack((e_min)), np.hstack((e_max))-np.hstack((e_ref))]\n",
    "\n",
    "plt.errorbar(\n",
    "    e_ref, \n",
    "    flux_TEV, \n",
    "    color='red', \n",
    "    marker='o', \n",
    "    xerr = xerr, \n",
    "    yerr = flux_err_TEV, \n",
    "    linestyle='', \n",
    "    label='CTA')\n",
    "# plt.grid(which=\"both\")\n",
    "plt.ylim(1e-30, 1e-5)\n",
    "plt.legend(loc=\"best\")\n",
    "plt.title(src_name)\n",
    "\n",
    "# path_flux = mkdir_base_child(\"analysis\", \"flux_point\")\n",
    "\n",
    "# plt_savefig(path_flux, \"flux_point\")\n",
    "\n",
    "# plt.savefig('./spectrum_srcM87.png', bbox_inches='tight')\n",
    "\n",
    "# plt.savefig('./M87_gammapy_flux_point.png', bbox_inches='tight')\n",
    "# plt.savefig('./M87_gammapy_flux_point.pdf', bbox_inches='tight')\n",
    "plt.savefig(f'./{src_name}_gammapy_flux_point.png', bbox_inches='tight')\n",
    "plt.show()"
   ]
  },
  {
   "cell_type": "markdown",
   "id": "e63ae483",
   "metadata": {},
   "source": [
    "___"
   ]
  },
  {
   "cell_type": "markdown",
   "id": "6803c7ef",
   "metadata": {},
   "source": [
    "🔝 [Back to Top](#intro)<br>"
   ]
  },
  {
   "cell_type": "code",
   "execution_count": null,
   "id": "855fd034",
   "metadata": {},
   "outputs": [],
   "source": []
  },
  {
   "cell_type": "code",
   "execution_count": null,
   "id": "2c17a90b",
   "metadata": {},
   "outputs": [],
   "source": [
    "from astropy import units as u\n",
    "import matplotlib.pyplot as plt\n",
    "import naima\n",
    "from gammapy.modeling.models import Models, NaimaSpectralModel, SkyModel\n",
    "\n",
    "particle_distribution = naima.models.ExponentialCutoffPowerLaw(\n",
    "    1e30 / u.eV, 10 * u.TeV, 3.0, 30 * u.TeV\n",
    ")\n",
    "# radiative_model = naima.radiative.InverseCompton(\n",
    "#     particle_distribution,\n",
    "#     seed_photon_fields=[\"CMB\", [\"FIR\", 26.5 * u.K, 0.415 * u.eV / u.cm**3]],\n",
    "#     Eemin=100 * u.GeV,\n",
    "# )\n",
    "\n",
    "radiative_model = naima.radiative.PionDecay(\n",
    "    particle_distribution,\n",
    "    seed_photon_fields=[\"CMB\", [\"FIR\", 26.5 * u.K, 0.415 * u.eV / u.cm**3]],\n",
    "    Eemin=100 * u.GeV,\n",
    ")\n",
    "\n",
    "\n",
    "model = NaimaSpectralModel(radiative_model, distance=1.5 * u.kpc)\n",
    "\n",
    "opts = {\n",
    "    \"energy_bounds\": [10 * u.GeV, 80 * u.TeV],\n",
    "    \"sed_type\": \"e2dnde\",\n",
    "}\n",
    "\n",
    "# Plot the total inverse Compton emission\n",
    "model.plot(label=\"IC (total)\", **opts)\n",
    "\n",
    "# # Plot the separate contributions from each seed photon field\n",
    "# for seed, ls in zip([\"CMB\", \"FIR\"], [\"-\", \"--\"]):\n",
    "#     model = NaimaSpectralModel(radiative_model, distance=1.5 * u.kpc)\n",
    "#     model.plot(label=f\"IC ({seed})\", ls=ls, color=\"gray\", **opts)\n",
    "\n",
    "plt.legend(loc=\"best\")\n",
    "plt.grid(which=\"both\")"
   ]
  },
  {
   "cell_type": "code",
   "execution_count": null,
   "id": "716b7611",
   "metadata": {},
   "outputs": [],
   "source": []
  },
  {
   "cell_type": "code",
   "execution_count": null,
   "id": "0ffd1593",
   "metadata": {},
   "outputs": [],
   "source": []
  }
 ],
 "metadata": {
  "kernelspec": {
   "display_name": "Python 3 (ipykernel)",
   "language": "python",
   "name": "python3"
  },
  "language_info": {
   "codemirror_mode": {
    "name": "ipython",
    "version": 3
   },
   "file_extension": ".py",
   "mimetype": "text/x-python",
   "name": "python",
   "nbconvert_exporter": "python",
   "pygments_lexer": "ipython3",
   "version": "3.9.15"
  }
 },
 "nbformat": 4,
 "nbformat_minor": 5
}
