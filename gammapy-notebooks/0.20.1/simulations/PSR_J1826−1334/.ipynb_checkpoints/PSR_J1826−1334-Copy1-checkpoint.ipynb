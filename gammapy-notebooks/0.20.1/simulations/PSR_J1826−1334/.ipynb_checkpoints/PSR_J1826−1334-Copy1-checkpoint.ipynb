{
 "cells": [
  {
   "cell_type": "markdown",
   "id": "c0b5edd3",
   "metadata": {},
   "source": [
    "<a id='intro'></a>\n",
    "## Simulation of a Single Spectrum\n",
    "\n",
    "We will simulate the energy spectrum of 3FHL J1230.8+1223 from the Fermi-LAT 3FHL source catalog considering the Dominguez EBL absorption spectral model. To do a simulation, we need to define the observational parameters like\n",
    "the livetime, the offset, the assumed integration radius, the energy\n",
    "range to perform the simulation for and the choice of spectral model. We\n",
    "then use an in-memory observation which is convolved with the IRFs to\n",
    "get the predicted number of counts. This is Poission fluctuated using\n",
    "the `fake()` to get the simulated counts for each observation."
   ]
  },
  {
   "cell_type": "markdown",
   "id": "44805999",
   "metadata": {},
   "source": [
    "<a id='indice'></a>\n",
    "### Indice\n",
    "[Step 0.0:  Setting the Engine Tools](#step0)<br>\n",
    "$\\;\\;\\;\\;\\;$[Step 0.1:  Importing the Python Necessary Tools](#step0.1)<br>\n",
    "$\\;\\;\\;\\;\\;$[Step 0.2:  Defining Functions](#step0.2)<br>\n",
    "[Step 1.0: Source Information](#step1)<br>\n",
    "[Step 2.0: Creates the Observation](#step2)<br>\n",
    "[Step 3.0: Defining the Skymodel](#step3)<br>\n",
    "[Step 4.0: Simulating the Spectrum](#step4)<br>\n",
    "$\\;\\;\\;\\;\\;$[Step 4.1: Defines the geometry](#step4.1)<br> \n",
    "$\\;\\;\\;\\;\\;$[Step 4.2: Setting the Model on the Dataset](#step4.2)<br> \n",
    "[Step 5.0: On-Off Analysis](#step5)<br>\n",
    "$\\;\\;\\;\\;\\;$[Step 5.1: Simulating the Observations](#step5.1)<br>\n",
    "$\\;\\;\\;\\;\\;$[Step 5.2: Plotting Counts, Excess and Significance](#step5.2)<br>\n",
    "$\\;\\;\\;\\;\\;$[Step 5.3: Computing the Sensitivity](#step5.3)<br>\n",
    "$\\;\\;\\;\\;\\;$[Step 5.4 Computing the Flux Points](#step5.4)<br>"
   ]
  },
  {
   "cell_type": "markdown",
   "id": "3bdb2877",
   "metadata": {},
   "source": [
    "<a id='step0'></a>\n",
    "## Step 0.0:  Setting the Engine Tools\n",
    "\n",
    "<a id='step0.1'></a>\n",
    "### Step 0.1: Importing the Python Necessary Tools"
   ]
  },
  {
   "cell_type": "code",
   "execution_count": 1,
   "id": "59ef12b1",
   "metadata": {},
   "outputs": [],
   "source": [
    "import gammapy\n",
    "from astropy import units as u\n",
    "import numpy as np\n",
    "from astropy.io import ascii\n",
    "import collections\n",
    "import sys, os\n",
    "import matplotlib.pyplot as plt\n",
    "\n",
    "from gammapy.catalog import SourceCatalog3FHL\n",
    "from gammapy.makers import SpectrumDatasetMaker, SafeMaskMaker, ReflectedRegionsBackgroundMaker\n",
    "from gammapy.modeling import Fit\n",
    "from gammapy.data import Observation, Observations, observatory_locations\n",
    "from gammapy.datasets import SpectrumDatasetOnOff, SpectrumDataset, Datasets\n",
    "from gammapy.irf import load_cta_irfs\n",
    "from gammapy.maps import MapAxis, RegionGeom\n",
    "\n",
    "from gammapy.modeling.models import (\n",
    "    EBLAbsorptionNormSpectralModel,\n",
    "    Models,\n",
    "    PowerLawSpectralModel,\n",
    "    SkyModel,\n",
    ")\n",
    "\n",
    "from gammapy.irf import EffectiveAreaTable2D\n",
    "\n",
    "from numpy.random import RandomState\n",
    "\n",
    "from scipy.stats import chi2, norm\n",
    "\n",
    "from gammapy.estimators import FluxPointsEstimator\n",
    "from gammapy.estimators import FluxPoints\n",
    "from gammapy.datasets import FluxPointsDataset\n",
    "\n",
    "# astropy imports\n",
    "from astropy.coordinates import SkyCoord, Angle\n",
    "from astropy import units as u\n",
    "from astropy.io import fits\n",
    "from astropy.table import Table, Column\n",
    "\n",
    "from gammapy.estimators import SensitivityEstimator\n",
    "\n",
    "# astropy affiliated packages imports\n",
    "from regions import CircleSkyRegion\n",
    "\n",
    "from gammapy.stats import WStatCountsStatistic\n",
    "from gammapy.stats import CashCountsStatistic\n",
    "from scipy.stats import sem\n",
    "from gammapy.maps import Map\n",
    "from regions import PointSkyRegion\n",
    "\n",
    "import math\n",
    "\n",
    "from pathlib import Path"
   ]
  },
  {
   "cell_type": "markdown",
   "id": "d6e287e3",
   "metadata": {},
   "source": [
    "<a id='step0.2'></a>\n",
    "### Step 0.2: Defining Functions"
   ]
  },
  {
   "cell_type": "code",
   "execution_count": 2,
   "id": "6e973926",
   "metadata": {},
   "outputs": [],
   "source": [
    "def mkdir_base_child(base_dir, child_dir):\n",
    "    '''Creates a directory: base_dir/child_dir and returs the path \n",
    "    mkdir_base_child(base_dir, child_dir)\n",
    "    >>> path_child\n",
    "    '''\n",
    "    path_base = Path(f\"{base_dir}\")\n",
    "    path_base.mkdir(exist_ok=True)\n",
    "\n",
    "    path_child = Path(f\"{path_base}/{child_dir}\")\n",
    "    path_child.mkdir(exist_ok=True)\n",
    "    \n",
    "    return path_child"
   ]
  },
  {
   "cell_type": "code",
   "execution_count": 3,
   "id": "486cbaac",
   "metadata": {},
   "outputs": [],
   "source": [
    "def plt_savefig(path_child, child_name):\n",
    "    ''' Saves figures (.png and .pdf) in the path_child directoty    \n",
    "    plt_savefig(path_child, child_name)\n",
    "    >>> plt.savefig(file, bbox_inches='tight')\n",
    "    '''\n",
    "    formats_file = [\".png\", \".pdf\"]\n",
    "    for format_file in formats_file: \n",
    "        file = path_child / f'{src_id}_{child_name}_{ebl_ref}{format_file}'\n",
    "        plt.savefig(file, bbox_inches='tight')\n"
   ]
  },
  {
   "cell_type": "markdown",
   "id": "19987720",
   "metadata": {},
   "source": [
    "___"
   ]
  },
  {
   "cell_type": "markdown",
   "id": "32463b2e",
   "metadata": {},
   "source": [
    "🔝 [Back to Top](#intro)<br>"
   ]
  },
  {
   "cell_type": "markdown",
   "id": "a784cfbd",
   "metadata": {},
   "source": [
    "<a id='step1'></a>\n",
    "## Step 1.0:  Source Information"
   ]
  },
  {
   "cell_type": "code",
   "execution_count": 4,
   "id": "dc1fe762",
   "metadata": {},
   "outputs": [],
   "source": [
    "from astropy import units as u\n",
    "from astropy import cosmology\n",
    "from astropy.cosmology import WMAP5, WMAP7\n",
    "from astropy.coordinates import Distance"
   ]
  },
  {
   "cell_type": "code",
   "execution_count": 5,
   "id": "82aee734",
   "metadata": {},
   "outputs": [
    {
     "data": {
      "text/plain": [
       "FlatLambdaCDM(name=\"WMAP7\", H0=70.4 km / (Mpc s), Om0=0.272, Tcmb0=2.725 K, Neff=3.04, m_nu=[0. 0. 0.] eV, Ob0=0.0455)"
      ]
     },
     "execution_count": 5,
     "metadata": {},
     "output_type": "execute_result"
    }
   ],
   "source": [
    "cosmology.default_cosmology.set(WMAP7)\n",
    "cosmology.default_cosmology.get()"
   ]
  },
  {
   "cell_type": "markdown",
   "id": "6e329157",
   "metadata": {},
   "source": [
    "[source](https://docs.astropy.org/en/stable/api/astropy.cosmology.FlatLambdaCDM.html#astropy.cosmology.FlatLambdaCDM)\n",
    "+ H0 = Hubble constant at z = 0. If a float, must be in [km/sec/Mpc].\n",
    "Om0 = Omega matter: density of non-relativistic matter in units of the critical density at z=0.\n",
    "+ Tcmb0 = Temperature of the CMB z=0. If a float, must be in [K]. Default: 0 [K]. Setting  this to zero will turn off both photons and neutrinos (even massive ones).\n",
    "+ Neff = Effective number of Neutrino species. Default 3.04.\n",
    "+ m_nu = Mass of each neutrino species in [eV] (mass-energy equivalency enabled). If this is a scalar Quantity, then all neutrino species are assumed to have that mass. Otherwise, the mass of each species. The actual number of neutrino species (and hence the number of elements of m_nu if it is not scalar) must be the floor of Neff. Typically this means you should provide three neutrino masses unless you are considering something like a sterile neutrino.\n",
    "+ Ob0 = Omega baryons: density of baryonic matter in units of the critical density at z=0. If this is set to None (the default), any computation that requires its value will raise an exception.\n",
    "\n"
   ]
  },
  {
   "cell_type": "code",
   "execution_count": 6,
   "id": "5ed637f5",
   "metadata": {},
   "outputs": [],
   "source": [
    "src_name = \"PSR J1826-1334\"  # Official source name 3FHL JHHMM.m+DDMM\n",
    "src_id  = src_name.replace(\" \", \"\") # Name of identified or likely associated source"
   ]
  },
  {
   "cell_type": "markdown",
   "id": "e9544cda",
   "metadata": {},
   "source": [
    "[ATNF Pulsar Catalogue: PSR J1826-1334](https://www.atnf.csiro.au/research/pulsar/psrcat/proc_form.php?version=1.69&Name=Name&JName=JName&RaJ=RaJ&DecJ=DecJ&Dist=Dist&Dist_DM=Dist_DM&Assoc=Assoc&startUserDefined=true&c1_val=&c2_val=&c3_val=&c4_val=&sort_attr=jname&sort_order=asc&condition=&pulsar_names=J1826-1334&ephemeris=short&coords_unit=raj%2Fdecj&radius=&coords_1=&coords_2=&style=Long+with+last+digit+error&no_value=*&fsize=3&x_axis=&x_scale=linear&y_axis=&y_scale=linear&state=query&table_bottom.x=50&table_bottom.y=14)"
   ]
  },
  {
   "cell_type": "code",
   "execution_count": 7,
   "id": "05c67430",
   "metadata": {},
   "outputs": [
    {
     "data": {
      "text/plain": [
       "(<Distance 3.606 kpc>, <Quantity 8.46789079e-07 redshift>)"
      ]
     },
     "execution_count": 7,
     "metadata": {},
     "output_type": "execute_result"
    }
   ],
   "source": [
    "src_dist = Distance(value = 3.606, unit = u.kpc) # The source distance.\n",
    "src_red = src_dist.compute_z() # The source redshift for this distance assuming its physical distance is a luminosity distance.\n",
    "src_dist, src_red"
   ]
  },
  {
   "cell_type": "code",
   "execution_count": 8,
   "id": "37147fcd",
   "metadata": {},
   "outputs": [],
   "source": [
    "# src_red = float(redshift) # Redshift of counterpart, if known"
   ]
  },
  {
   "cell_type": "code",
   "execution_count": 9,
   "id": "fadd79dd",
   "metadata": {},
   "outputs": [],
   "source": [
    "src_ra =Angle('18h26m13.175s').degree   \n",
    "src_de  = Angle(\"-13d34m46.8s\").degree   # Declination (deg)"
   ]
  },
  {
   "cell_type": "code",
   "execution_count": 10,
   "id": "993457bb",
   "metadata": {},
   "outputs": [
    {
     "name": "stdout",
     "output_type": "stream",
     "text": [
      "PSRJ1826-1334 Source Information:\n",
      "(RAJ2000, DEJ2000) = (276.555, -13.580); Redshift = 0.00000085 redshift\n"
     ]
    }
   ],
   "source": [
    "print(f\"{src_id} Source Information:\")\n",
    "print(f\"(RAJ2000, DEJ2000) = ({src_ra:.3f}, {src_de:.3f}); Redshift = {src_red:.8f}\" )"
   ]
  },
  {
   "cell_type": "markdown",
   "id": "3528d87a",
   "metadata": {},
   "source": [
    "___"
   ]
  },
  {
   "cell_type": "markdown",
   "id": "dbd6b4ba",
   "metadata": {},
   "source": [
    "🔝 [Back to Top](#intro)<br>"
   ]
  },
  {
   "cell_type": "markdown",
   "id": "cb47a787",
   "metadata": {},
   "source": [
    "<a id='step2'></a>\n",
    "## Step 2.0:  Creates the Observation"
   ]
  },
  {
   "cell_type": "markdown",
   "id": "7ad701bb",
   "metadata": {},
   "source": [
    "Define the source position:"
   ]
  },
  {
   "cell_type": "code",
   "execution_count": 11,
   "id": "9e294533",
   "metadata": {},
   "outputs": [],
   "source": [
    "frame  = \"icrs\" # International Celestial Reference System (ICRS)\n",
    "unit   = \"deg\"  # Degrees units"
   ]
  },
  {
   "cell_type": "code",
   "execution_count": 12,
   "id": "c6834e14",
   "metadata": {},
   "outputs": [],
   "source": [
    "src_pos = SkyCoord(src_ra, src_de, unit=unit, frame=frame) # Source Position"
   ]
  },
  {
   "cell_type": "markdown",
   "id": "e991ac82",
   "metadata": {},
   "source": [
    "Define the observation parameters (typically the observation duration and the pointing position):\n"
   ]
  },
  {
   "cell_type": "code",
   "execution_count": 13,
   "id": "2d8151b9",
   "metadata": {},
   "outputs": [],
   "source": [
    "livetime = 50 * u.h # Livetime exposure of the simulated observation\n",
    "\n",
    "offset = 0.5 * u.deg # Pointing position  offset\n",
    "pointing = SkyCoord(src_pos.ra, src_pos.dec + offset, unit=unit, frame=frame)\n",
    "# print(pointing)"
   ]
  },
  {
   "cell_type": "markdown",
   "id": "91751de7",
   "metadata": {},
   "source": [
    "Load the IRFs:"
   ]
  },
  {
   "cell_type": "code",
   "execution_count": 14,
   "id": "b9fe17ab",
   "metadata": {},
   "outputs": [
    {
     "name": "stderr",
     "output_type": "stream",
     "text": [
      "WARNING: UnitsWarning: '1/(MeV s sr)' did not parse as fits unit: Numeric factor not supported by FITS If this is meant to be a custom unit, define it with 'u.def_unit'. To have it recognized inside a file reader or other code, enable it with 'u.add_enabled_units'. For details, see https://docs.astropy.org/en/latest/units/combining_and_defining.html [astropy.units.core]\n",
      "Invalid unit found in background table! Assuming (s-1 MeV-1 sr-1)\n"
     ]
    }
   ],
   "source": [
    "# In this simulation, we use the CTA-1DC irfs shipped with gammapy\n",
    "base_name = '/home/gamma/Documents/GitHub/gammapy/gammapy-notebooks/0.20.1/tutorials/data/caldb/data/cta/prod3b-v2/bcf'\n",
    "irfs = load_cta_irfs(base_name + '/South_z20_N_5h/irf_file.fits')"
   ]
  },
  {
   "cell_type": "markdown",
   "id": "1ba185c7",
   "metadata": {},
   "source": [
    "Creates a observation:"
   ]
  },
  {
   "cell_type": "code",
   "execution_count": 15,
   "id": "ae83bd1a",
   "metadata": {},
   "outputs": [
    {
     "name": "stdout",
     "output_type": "stream",
     "text": [
      "Observation\n",
      "\n",
      "\tobs id            : 0 \n",
      " \ttstart            : 51544.00\n",
      "\ttstop             : 51546.08\n",
      "\tduration          : 180000.00 s\n",
      "\tpointing (icrs)   : 276.6 deg, -13.1 deg\n",
      "\n",
      "\tdeadtime fraction : 0.0%\n",
      "\n"
     ]
    }
   ],
   "source": [
    "location = observatory_locations[\"cta_north\"]\n",
    "obs = Observation.create(\n",
    "    pointing=pointing,\n",
    "    livetime=livetime,\n",
    "    irfs=irfs,\n",
    "    location=location,\n",
    ")\n",
    "print(obs)"
   ]
  },
  {
   "cell_type": "code",
   "execution_count": 16,
   "id": "5152f214",
   "metadata": {},
   "outputs": [
    {
     "name": "stdout",
     "output_type": "stream",
     "text": [
      "Help on Observation in module gammapy.data.observations object:\n",
      "\n",
      "class Observation(builtins.object)\n",
      " |  Observation(obs_id=None, obs_info=None, gti=None, aeff=None, edisp=None, psf=None, bkg=None, rad_max=None, events=None, obs_filter=None)\n",
      " |  \n",
      " |  In-memory observation.\n",
      " |  \n",
      " |  Parameters\n",
      " |  ----------\n",
      " |  obs_id : int\n",
      " |      Observation id\n",
      " |  obs_info : dict\n",
      " |      Observation info dict\n",
      " |  aeff : `~gammapy.irf.EffectiveAreaTable2D`\n",
      " |      Effective area\n",
      " |  edisp : `~gammapy.irf.EnergyDispersion2D`\n",
      " |      Energy dispersion\n",
      " |  psf : `~gammapy.irf.PSF3D`\n",
      " |      Point spread function\n",
      " |  bkg : `~gammapy.irf.Background3D`\n",
      " |      Background rate model\n",
      " |  rad_max: `~gammapy.irf.RadMax2D`\n",
      " |      Only for point-like IRFs: RAD_MAX table (energy dependent RAD_MAX)\n",
      " |      For a fixed RAD_MAX, create a RadMax2D with a single bin.\n",
      " |  gti : `~gammapy.data.GTI`\n",
      " |      Table with GTI start and stop time\n",
      " |  events : `~gammapy.data.EventList`\n",
      " |      Event list\n",
      " |  obs_filter : `ObservationFilter`\n",
      " |      Observation filter.\n",
      " |  \n",
      " |  Methods defined here:\n",
      " |  \n",
      " |  __init__(self, obs_id=None, obs_info=None, gti=None, aeff=None, edisp=None, psf=None, bkg=None, rad_max=None, events=None, obs_filter=None)\n",
      " |      Initialize self.  See help(type(self)) for accurate signature.\n",
      " |  \n",
      " |  __str__(self)\n",
      " |      Return str(self).\n",
      " |  \n",
      " |  check(self, checks='all')\n",
      " |      Run checks.\n",
      " |      \n",
      " |      This is a generator that yields a list of dicts.\n",
      " |  \n",
      " |  copy(self, in_memory=False, **kwargs)\n",
      " |      Copy observation\n",
      " |      \n",
      " |      Overwriting arguments requires the 'in_memory` argument to be true.\n",
      " |      \n",
      " |      Parameters\n",
      " |      ----------\n",
      " |      in_memory : bool\n",
      " |          Copy observation in memory.\n",
      " |      **kwargs : dict\n",
      " |          Keyword arguments passed to `Observation`\n",
      " |      \n",
      " |      Examples\n",
      " |      --------\n",
      " |      \n",
      " |      .. code::\n",
      " |      \n",
      " |          from gammapy.data import Observation\n",
      " |      \n",
      " |          obs = Observation.read(\n",
      " |              \"$GAMMAPY_DATA/hess-dl3-dr1/data/hess_dl3_dr1_obs_id_020136.fits.gz\"\n",
      " |          )\n",
      " |      \n",
      " |          obs_copy = obs.copy(obs_id=1234)\n",
      " |          print(obs_copy)\n",
      " |      \n",
      " |      \n",
      " |      Returns\n",
      " |      -------\n",
      " |      obs : `Observation`\n",
      " |          Copied observation\n",
      " |  \n",
      " |  peek(self, figsize=(15, 10))\n",
      " |      Quick-look plots in a few panels.\n",
      " |      \n",
      " |      Parameters\n",
      " |      ----------\n",
      " |      figsize : tuple\n",
      " |          Figure size\n",
      " |  \n",
      " |  select_time(self, time_interval)\n",
      " |      Select a time interval of the observation.\n",
      " |      \n",
      " |      Parameters\n",
      " |      ----------\n",
      " |      time_interval : `astropy.time.Time`\n",
      " |          Start and stop time of the selected time interval.\n",
      " |          For now we only support a single time interval.\n",
      " |      \n",
      " |      Returns\n",
      " |      -------\n",
      " |      new_obs : `~gammapy.data.Observation`\n",
      " |          A new observation instance of the specified time interval\n",
      " |  \n",
      " |  write(self, path, overwrite=False, format='gadf', include_irfs=True)\n",
      " |      Write this observation into `path` using the specified format\n",
      " |      \n",
      " |      Parameters\n",
      " |      ----------\n",
      " |      path: str or `~pathlib.Path`\n",
      " |          Path for the output file\n",
      " |      overwrite: bool\n",
      " |          If true, existing files are overwritten.\n",
      " |      format: str\n",
      " |          Output format, currently only \"gadf\" is supported\n",
      " |      include_irfs: bool\n",
      " |          Whether to include irf components in the output file\n",
      " |  \n",
      " |  ----------------------------------------------------------------------\n",
      " |  Class methods defined here:\n",
      " |  \n",
      " |  create(pointing, location=None, obs_id=0, livetime=None, tstart=None, tstop=None, irfs=None, deadtime_fraction=0.0, reference_time=<Time object: scale='utc' format='iso' value=2000-01-01 00:00:00.000>) from builtins.type\n",
      " |      Create an observation.\n",
      " |      \n",
      " |      User must either provide the livetime, or the start and stop times.\n",
      " |      \n",
      " |      Parameters\n",
      " |      ----------\n",
      " |      pointing : `~astropy.coordinates.SkyCoord`\n",
      " |          Pointing position\n",
      " |      obs_id : int\n",
      " |          Observation ID as identifier\n",
      " |      livetime : ~astropy.units.Quantity`\n",
      " |          Livetime exposure of the simulated observation\n",
      " |      tstart: `~astropy.time.Time` or `~astropy.units.Quantity`\n",
      " |          Start time of observation as `~astropy.time.Time` or duration\n",
      " |          relative to `reference_time`\n",
      " |      tstop: `astropy.time.Time` or `~astropy.units.Quantity`\n",
      " |          Stop time of observation as `~astropy.time.Time` or duration\n",
      " |          relative to `reference_time`\n",
      " |      irfs: dict\n",
      " |          IRFs used for simulating the observation: `bkg`, `aeff`, `psf`, `edisp`, `rad_max`\n",
      " |      deadtime_fraction : float, optional\n",
      " |          Deadtime fraction, defaults to 0\n",
      " |      reference_time : `~astropy.time.Time`\n",
      " |          the reference time to use in GTI definition\n",
      " |      \n",
      " |      Returns\n",
      " |      -------\n",
      " |      obs : `gammapy.data.MemoryObservation`\n",
      " |  \n",
      " |  read(event_file, irf_file=None) from builtins.type\n",
      " |      Create an Observation from a Event List and an (optional) IRF file.\n",
      " |      \n",
      " |      Parameters\n",
      " |      ----------\n",
      " |      event_file : str, Path\n",
      " |          path to the .fits file containing the event list and the GTI\n",
      " |      irf_file : str, Path\n",
      " |          (optional) path to the .fits file containing the IRF components,\n",
      " |          if not provided the IRF will be read from the event file\n",
      " |      \n",
      " |      Returns\n",
      " |      -------\n",
      " |      observation : `~gammapy.data.Observation`\n",
      " |          observation with the events and the irf read from the file\n",
      " |  \n",
      " |  ----------------------------------------------------------------------\n",
      " |  Readonly properties defined here:\n",
      " |  \n",
      " |  available_hdus\n",
      " |      Which HDUs are available\n",
      " |  \n",
      " |  available_irfs\n",
      " |      Which IRFs are available\n",
      " |  \n",
      " |  events\n",
      " |  \n",
      " |  fixed_pointing_info\n",
      " |      Fixed pointing info for this observation (`FixedPointingInfo`).\n",
      " |  \n",
      " |  gti\n",
      " |  \n",
      " |  muoneff\n",
      " |      Observation muon efficiency.\n",
      " |  \n",
      " |  obs_info\n",
      " |      Observation info dictionary.\n",
      " |  \n",
      " |  observation_dead_time_fraction\n",
      " |      Dead-time fraction (float).\n",
      " |      \n",
      " |      Defined as dead-time over observation time.\n",
      " |      \n",
      " |      Dead-time is defined as the time during the observation\n",
      " |      where the detector didn't record events:\n",
      " |      https://en.wikipedia.org/wiki/Dead_time\n",
      " |      https://ui.adsabs.harvard.edu/abs/2004APh....22..285F\n",
      " |      \n",
      " |      The dead-time fraction is used in the live-time computation,\n",
      " |      which in turn is used in the exposure and flux computation.\n",
      " |  \n",
      " |  observation_live_time_duration\n",
      " |      Live-time duration in seconds (`~astropy.units.Quantity`).\n",
      " |      \n",
      " |      The dead-time-corrected observation time.\n",
      " |      \n",
      " |      Computed as ``t_live = t_observation * (1 - f_dead)``\n",
      " |      where ``f_dead`` is the dead-time fraction.\n",
      " |  \n",
      " |  observation_time_duration\n",
      " |      Observation time duration in seconds (`~astropy.units.Quantity`).\n",
      " |      \n",
      " |      The wall time, including dead-time.\n",
      " |  \n",
      " |  observatory_earth_location\n",
      " |      Observatory location (`~astropy.coordinates.EarthLocation`).\n",
      " |  \n",
      " |  pointing_altaz\n",
      " |  \n",
      " |  pointing_radec\n",
      " |      Pointing RA / DEC sky coordinates (`~astropy.coordinates.SkyCoord`).\n",
      " |  \n",
      " |  pointing_zen\n",
      " |      Pointing zenith angle sky (`~astropy.units.Quantity`).\n",
      " |  \n",
      " |  rad_max\n",
      " |  \n",
      " |  target_radec\n",
      " |      Target RA / DEC sky coordinates (`~astropy.coordinates.SkyCoord`).\n",
      " |  \n",
      " |  tstart\n",
      " |      Observation start time (`~astropy.time.Time`).\n",
      " |  \n",
      " |  tstop\n",
      " |      Observation stop time (`~astropy.time.Time`).\n",
      " |  \n",
      " |  ----------------------------------------------------------------------\n",
      " |  Data descriptors defined here:\n",
      " |  \n",
      " |  __dict__\n",
      " |      dictionary for instance variables (if defined)\n",
      " |  \n",
      " |  __weakref__\n",
      " |      list of weak references to the object (if defined)\n",
      " |  \n",
      " |  aeff\n",
      " |  \n",
      " |  bkg\n",
      " |  \n",
      " |  edisp\n",
      " |  \n",
      " |  psf\n",
      "\n"
     ]
    }
   ],
   "source": [
    "help(obs)"
   ]
  },
  {
   "cell_type": "markdown",
   "id": "4ce16ebf",
   "metadata": {},
   "source": [
    "___"
   ]
  },
  {
   "cell_type": "markdown",
   "id": "74e31167",
   "metadata": {},
   "source": [
    "🔝 [Back to Top](#intro)<br>"
   ]
  },
  {
   "cell_type": "markdown",
   "id": "fc40f6bf",
   "metadata": {},
   "source": [
    "<a id='step3'></a>\n",
    "## Step 3.0:  Defining the Skymodel\n",
    "Define spectral model:"
   ]
  },
  {
   "cell_type": "code",
   "execution_count": 17,
   "id": "0728d768",
   "metadata": {},
   "outputs": [],
   "source": [
    "# A simple Power Law\n",
    "index=2.24\n",
    "amplitude=6.47e-13 * u.Unit(\"cm-2 s-1 TeV-1\")\n",
    "reference=0.1 * u.TeV\n",
    "    \n",
    "pwl = PowerLawSpectralModel(\n",
    "    index=index,\n",
    "    amplitude=amplitude,\n",
    "    reference=reference,\n",
    ")\n",
    "# print(pwl)"
   ]
  },
  {
   "cell_type": "markdown",
   "id": "44d70888",
   "metadata": {},
   "source": [
    "Define absorption model:"
   ]
  },
  {
   "cell_type": "code",
   "execution_count": 18,
   "id": "f04f4df6",
   "metadata": {
    "scrolled": true
   },
   "outputs": [],
   "source": [
    "ebl_models = ['franceschini', 'dominguez', 'finke'] # Available models in gammapy-data:{'franceschini', 'dominguez', 'finke'}\n",
    "\n",
    "ebl_ref = ebl_models[1] # dominguez\n",
    "\n",
    "absorption = EBLAbsorptionNormSpectralModel.read_builtin(\n",
    "    reference = ebl_ref, \n",
    "    redshift=src_red\n",
    ")\n",
    "# print(absorption)"
   ]
  },
  {
   "cell_type": "markdown",
   "id": "5dc48eb3",
   "metadata": {},
   "source": [
    "The compound spectral model:"
   ]
  },
  {
   "cell_type": "code",
   "execution_count": 19,
   "id": "4758a3f5",
   "metadata": {},
   "outputs": [],
   "source": [
    "absspecmodel = pwl * absorption # CompoundSpectralModel\n",
    "# print(absspecmodel)"
   ]
  },
  {
   "cell_type": "markdown",
   "id": "3d21f4b0",
   "metadata": {},
   "source": [
    "Setting the sky model used in the dataset:"
   ]
  },
  {
   "cell_type": "code",
   "execution_count": 20,
   "id": "81ef12a6",
   "metadata": {},
   "outputs": [],
   "source": [
    "skymodel = SkyModel(\n",
    "    spectral_model=absspecmodel, \n",
    "    name=\"model_simu\"\n",
    ")\n",
    "# print(skymodel)"
   ]
  },
  {
   "cell_type": "markdown",
   "id": "644e3b64",
   "metadata": {},
   "source": [
    "___"
   ]
  },
  {
   "cell_type": "markdown",
   "id": "c2986b6a",
   "metadata": {},
   "source": [
    "🔝 [Back to Top](#intro)<br>"
   ]
  },
  {
   "cell_type": "markdown",
   "id": "38344d22",
   "metadata": {},
   "source": [
    "<a id='step4'></a>\n",
    "## Step 4.0:  Simulating the Spectrum\n",
    "<a id='step4.1'></a>\n",
    "### Step 4.1: Defines the geometry"
   ]
  },
  {
   "cell_type": "code",
   "execution_count": 21,
   "id": "465303cf",
   "metadata": {},
   "outputs": [],
   "source": [
    "# Defines the energy range\n",
    "emin = 25 * u.GeV   # Minimum energy\n",
    "emax = 100. * u.TeV # Maximum energy"
   ]
  },
  {
   "cell_type": "code",
   "execution_count": 22,
   "id": "2d570029",
   "metadata": {},
   "outputs": [],
   "source": [
    "# Reconstructed energy axis\n",
    "energy_reco = MapAxis.from_energy_bounds(\n",
    "    emin, \n",
    "    emax, \n",
    "    nbin=5, \n",
    "    per_decade=True, \n",
    "    name=\"energy\"\n",
    ")\n",
    "# print(energy_reco)"
   ]
  },
  {
   "cell_type": "code",
   "execution_count": 23,
   "id": "8f4df87d",
   "metadata": {},
   "outputs": [],
   "source": [
    "# Defines the on region:\n",
    "on_region_radius = Angle(\"0.11 deg\")\n",
    "\n",
    "on_region = CircleSkyRegion(\n",
    "    center=src_pos, \n",
    "    radius=on_region_radius\n",
    ")\n",
    "# print(on_region)"
   ]
  },
  {
   "cell_type": "code",
   "execution_count": 24,
   "id": "11618e5c",
   "metadata": {},
   "outputs": [],
   "source": [
    "#Defines the geometry:\n",
    "geom = RegionGeom.create(\n",
    "    region=on_region, \n",
    "    axes=[energy_reco]\n",
    ")"
   ]
  },
  {
   "cell_type": "markdown",
   "id": "aacadc10",
   "metadata": {},
   "source": [
    "<a id='step4.2'></a>\n",
    "### Step 4.2: Setting the Model on the Dataset"
   ]
  },
  {
   "cell_type": "code",
   "execution_count": 25,
   "id": "53aabe70",
   "metadata": {},
   "outputs": [],
   "source": [
    "# Defines the true energy axis:\n",
    "# true energy axis should be wider than reco energy axis\n",
    "energy_true = MapAxis.from_energy_bounds(\n",
    "    0.3*emin, \n",
    "    3*emax, \n",
    "    nbin=8, \n",
    "    per_decade=True, \n",
    "    name=\"energy_true\"\n",
    ")\n",
    "# print(energy_true)"
   ]
  },
  {
   "cell_type": "code",
   "execution_count": 26,
   "id": "d54d2ed2",
   "metadata": {},
   "outputs": [],
   "source": [
    "# Create a MapDataset object with zero filled maps.\n",
    "dataset_empty = SpectrumDataset.create(\n",
    "    geom=geom, \n",
    "    energy_axis_true=energy_true,\n",
    "    name=\"obs-0\"\n",
    ")"
   ]
  },
  {
   "cell_type": "code",
   "execution_count": 27,
   "id": "d59c8e31",
   "metadata": {},
   "outputs": [],
   "source": [
    "# Make spectrum for a single IACT observation:\n",
    "# The irfs and background are computed at a single fixed offset, which is recommended only for point-sources.\n",
    "maker = SpectrumDatasetMaker(\n",
    "    containment_correction=True, # Apply containment correction for point sources and circular on regions.\n",
    "    selection=[\"edisp\", \"background\", \"exposure\"] # Selecting which maps to make\n",
    ")\n",
    "safe_maker = SafeMaskMaker(methods=[\"bkg-peak\"]) # Make safe data range mask for a given observation."
   ]
  },
  {
   "cell_type": "code",
   "execution_count": 28,
   "id": "dc9b92e8",
   "metadata": {},
   "outputs": [],
   "source": [
    "# Make map dataset:\n",
    "dataset = maker.run(dataset_empty, obs) \n",
    "dataset = safe_maker.run(dataset, obs)"
   ]
  },
  {
   "cell_type": "code",
   "execution_count": 29,
   "id": "15fa2605",
   "metadata": {},
   "outputs": [],
   "source": [
    "# Set the model on the dataset, and fake\n",
    "dataset.models = skymodel\n",
    "dataset.fake(random_state=42)\n",
    "# print(dataset)"
   ]
  },
  {
   "cell_type": "markdown",
   "id": "a16aaedc",
   "metadata": {},
   "source": [
    "You can see that background counts are now simulated."
   ]
  },
  {
   "cell_type": "markdown",
   "id": "f5833551",
   "metadata": {},
   "source": [
    "___"
   ]
  },
  {
   "cell_type": "markdown",
   "id": "3091a851",
   "metadata": {},
   "source": [
    "🔝 [Back to Top](#intro)<br>"
   ]
  },
  {
   "cell_type": "markdown",
   "id": "e9184705",
   "metadata": {},
   "source": [
    "<a id='step5'></a>\n",
    "### Step 5.0: On-Off Analysis\n",
    "\n",
    "To do an on off spectral analysis, which is the usual science case, the\n",
    "standard would be to use `SpectrumDatasetOnOff`, which uses the\n",
    "acceptance to fake off-counts"
   ]
  },
  {
   "cell_type": "markdown",
   "id": "bc2e9496",
   "metadata": {},
   "source": [
    "<a id='step5.1'></a>\n",
    "### Step 5.1: Simulating the Observations"
   ]
  },
  {
   "cell_type": "code",
   "execution_count": 30,
   "id": "cec597d4",
   "metadata": {},
   "outputs": [],
   "source": [
    "# Spectrum dataset for on-off likelihood fitting.\n",
    "dataset_onoff = SpectrumDatasetOnOff.from_spectrum_dataset(\n",
    "    dataset=dataset, \n",
    "    acceptance=1, \n",
    "    acceptance_off=5\n",
    ")\n",
    "\n",
    "# Simulate fake counts (on and off) for the current model and reduced IRFs.\n",
    "dataset_onoff.fake(\n",
    "    random_state='random-seed', \n",
    "    npred_background=dataset.npred_background()\n",
    ")\n",
    "\n",
    "# print(dataset_onoff)"
   ]
  },
  {
   "cell_type": "code",
   "execution_count": 31,
   "id": "68a76332",
   "metadata": {},
   "outputs": [],
   "source": [
    "# Class to compute statistics for Poisson distributed variable with unknown background.\n",
    "significance = WStatCountsStatistic(\n",
    "    n_on=sum(dataset_onoff.counts.data), \n",
    "    n_off=sum(dataset_onoff.counts_off.data), \n",
    "    alpha=0.2).sqrt_ts\n",
    "# print(significance)"
   ]
  },
  {
   "cell_type": "code",
   "execution_count": 32,
   "id": "2c521f88",
   "metadata": {},
   "outputs": [],
   "source": [
    "n_obs = 10 # We simulate each observation n_obs times, to randomize the renortets"
   ]
  },
  {
   "cell_type": "code",
   "execution_count": 33,
   "id": "c9fb961f",
   "metadata": {},
   "outputs": [],
   "source": [
    "datasets = Datasets()\n",
    "\n",
    "for idx in range(n_obs):\n",
    "    dataset_onoff.fake(\n",
    "        random_state=idx, \n",
    "        npred_background=dataset.npred_background()\n",
    "    )\n",
    "    dataset_fake = dataset_onoff.copy(name=f\"obs-{idx}\")\n",
    "    dataset_fake.meta_table[\"OBS_ID\"] = [idx]\n",
    "    datasets.append(dataset_fake)\n",
    "\n",
    "table = datasets.info_table()\n",
    "# print(table)"
   ]
  },
  {
   "cell_type": "markdown",
   "id": "ea41dc95",
   "metadata": {},
   "source": [
    "<a id='step5.2'></a>\n",
    "### Step 5.2: Plotting Counts, Excess and Significance"
   ]
  },
  {
   "cell_type": "code",
   "execution_count": 34,
   "id": "8029e147",
   "metadata": {},
   "outputs": [
    {
     "data": {
      "image/png": "[encoded data removed]",
      "text/plain": [
       "<Figure size 1200x400 with 4 Axes>"
      ]
     },
     "metadata": {},
     "output_type": "display_data"
    }
   ],
   "source": [
    "fix, axes = plt.subplots(1, 4, figsize=(12, 4))\n",
    "axes[0].hist(table[\"counts\"])\n",
    "axes[0].set_xlabel(\"Counts\")\n",
    "axes[0].set_ylabel(\"Frequency\");\n",
    "\n",
    "axes[1].hist(table[\"counts_off\"])\n",
    "axes[1].set_xlabel(\"Counts Off\");\n",
    "\n",
    "axes[2].hist(table[\"excess\"])\n",
    "axes[2].set_xlabel(\"excess\");\n",
    "\n",
    "axes[3].hist(table[\"sqrt_ts\"])\n",
    "axes[3].set_xlabel(r\"significance ($\\sigma$)\");\n",
    "\n",
    "path_counts = mkdir_base_child(\"analysis\", \"counts\")\n",
    "\n",
    "plt_savefig(path_counts, \"counts\")"
   ]
  },
  {
   "cell_type": "code",
   "execution_count": null,
   "id": "01037861",
   "metadata": {},
   "outputs": [],
   "source": []
  },
  {
   "cell_type": "markdown",
   "id": "5714f61c",
   "metadata": {},
   "source": [
    "<a id='step5.3'></a>\n",
    "### Step 5.3: Computing the Sensitivity"
   ]
  },
  {
   "cell_type": "code",
   "execution_count": 43,
   "id": "43c839f9",
   "metadata": {},
   "outputs": [
    {
     "name": "stdout",
     "output_type": "stream",
     "text": [
      "  energy      e2dnde     excess background  criterion  \n",
      "   TeV    erg / (cm2 s)                                \n",
      "--------- ------------- ------- ---------- ------------\n",
      "0.0310979   1.23242e-11 1039.74    10397.4          bkg\n",
      "0.0481186   5.81456e-12  704.24     7042.4          bkg\n",
      "0.0744552   1.67769e-12  496.38     4963.8          bkg\n",
      " 0.115207   6.85799e-13  368.32     3683.2          bkg\n",
      " 0.178262   3.44262e-13  207.56     2075.6          bkg\n",
      "  0.27583   1.66467e-13  112.38     1123.8          bkg\n",
      "      ...           ...     ...        ...          ...\n",
      "  5.85755   7.04059e-14 22.3362         38 significance\n",
      "  9.06355   8.24292e-14 19.0242       26.6 significance\n",
      "  14.0243   9.81809e-14   15.05       15.6 significance\n",
      "  21.7001   1.08622e-13 13.0652       11.2 significance\n",
      "  33.5772   1.25414e-13 9.69775        5.4 significance\n",
      "  51.9549   1.29441e-13 6.93177        2.2 significance\n",
      "  80.3913   2.60438e-13 6.70497          2 significance\n",
      "Length = 19 rows\n"
     ]
    },
    {
     "data": {
      "image/png": "[encoded data removed]",
      "text/plain": [
       "<Figure size 500x300 with 1 Axes>"
      ]
     },
     "metadata": {},
     "output_type": "display_data"
    }
   ],
   "source": [
    "sensitivity_estimator = SensitivityEstimator(\n",
    "    gamma_min=5, \n",
    "    n_sigma=3, \n",
    "    bkg_syst_fraction=0.10\n",
    ")\n",
    "sensitivity_table = sensitivity_estimator.run(dataset_onoff)\n",
    "print(sensitivity_table)\n",
    "\n",
    "# Plot the sensitivity curve\n",
    "t = sensitivity_table\n",
    "\n",
    "fix, axes = plt.subplots(figsize=(5, 3))\n",
    "\n",
    "axes.plot(t[\"energy\"], t[\"e2dnde\"], \"s-\", color=\"red\")\n",
    "axes.loglog()\n",
    "\n",
    "axes.set_xlabel(f\"Energy ({t['energy'].unit})\", size=13)\n",
    "axes.set_ylabel(f\"Sensitivity ({t['e2dnde'].unit})\", size=13)\n",
    "\n",
    "path_sens = mkdir_base_child(\"analysis\", \"sensitivity\")\n",
    "\n",
    "plt_savefig(path_sens, \"sensitivity\")"
   ]
  },
  {
   "cell_type": "code",
   "execution_count": 42,
   "id": "3072274f",
   "metadata": {},
   "outputs": [
    {
     "name": "stdout",
     "output_type": "stream",
     "text": [
      "Help on class SensitivityEstimator in module gammapy.estimators.points.sensitivity:\n",
      "\n",
      "class SensitivityEstimator(gammapy.estimators.core.Estimator)\n",
      " |  SensitivityEstimator(spectrum=None, n_sigma=5.0, gamma_min=10, bkg_syst_fraction=0.05)\n",
      " |  \n",
      " |  Estimate differential sensitivity.\n",
      " |  \n",
      " |  This class allows to determine for each reconstructed energy bin the flux\n",
      " |  associated to the number of gamma-ray events for which the significance is\n",
      " |  ``n_sigma``, and being larger than ``gamma_min`` and ``bkg_sys`` percent\n",
      " |  larger than the number of background events in the ON region.\n",
      " |  \n",
      " |  \n",
      " |  Parameters\n",
      " |  ----------\n",
      " |  spectrum : `SpectralModel`\n",
      " |      Spectral model assumption\n",
      " |  n_sigma : float, optional\n",
      " |      Minimum significance. Default is 5.\n",
      " |  gamma_min : float, optional\n",
      " |      Minimum number of gamma-rays. Default is 10.\n",
      " |  bkg_syst_fraction : float, optional\n",
      " |      Fraction of background counts above which the number of gamma-rays is. Default is 0.05\n",
      " |  \n",
      " |  Examples\n",
      " |  --------\n",
      " |  For a usage example see :doc:`/tutorials/analysis-1d/cta_sensitivity` tutorial.\n",
      " |  \n",
      " |  Method resolution order:\n",
      " |      SensitivityEstimator\n",
      " |      gammapy.estimators.core.Estimator\n",
      " |      abc.ABC\n",
      " |      builtins.object\n",
      " |  \n",
      " |  Methods defined here:\n",
      " |  \n",
      " |  __init__(self, spectrum=None, n_sigma=5.0, gamma_min=10, bkg_syst_fraction=0.05)\n",
      " |      Initialize self.  See help(type(self)) for accurate signature.\n",
      " |  \n",
      " |  estimate_min_e2dnde(self, excess, dataset)\n",
      " |      Estimate dnde from given min. excess\n",
      " |      \n",
      " |      Parameters\n",
      " |      ----------\n",
      " |      excess : `RegionNDMap`\n",
      " |          Minimal excess\n",
      " |      dataset : `SpectrumDataset`\n",
      " |          Spectrum dataset\n",
      " |      \n",
      " |      Returns\n",
      " |      -------\n",
      " |      e2dnde : `~astropy.units.Quantity`\n",
      " |          Minimal differential flux.\n",
      " |  \n",
      " |  estimate_min_excess(self, dataset)\n",
      " |      Estimate minimum excess to reach the given significance.\n",
      " |      \n",
      " |      Parameters\n",
      " |      ----------\n",
      " |      dataset : `SpectrumDataset`\n",
      " |          Spectrum dataset\n",
      " |      \n",
      " |      Returns\n",
      " |      -------\n",
      " |      excess : `RegionNDMap`\n",
      " |          Minimal excess\n",
      " |  \n",
      " |  run(self, dataset)\n",
      " |      Run the sensitivity estimation\n",
      " |      \n",
      " |      Parameters\n",
      " |      ----------\n",
      " |      dataset : `SpectrumDatasetOnOff`\n",
      " |          Dataset to compute sensitivity for.\n",
      " |      \n",
      " |      Returns\n",
      " |      -------\n",
      " |      sensitivity : `~astropy.table.Table`\n",
      " |          Sensitivity table\n",
      " |  \n",
      " |  ----------------------------------------------------------------------\n",
      " |  Data and other attributes defined here:\n",
      " |  \n",
      " |  __abstractmethods__ = frozenset()\n",
      " |  \n",
      " |  tag = 'SensitivityEstimator'\n",
      " |  \n",
      " |  ----------------------------------------------------------------------\n",
      " |  Methods inherited from gammapy.estimators.core.Estimator:\n",
      " |  \n",
      " |  __str__(self)\n",
      " |      Return str(self).\n",
      " |  \n",
      " |  copy(self)\n",
      " |      Copy estimator\n",
      " |  \n",
      " |  ----------------------------------------------------------------------\n",
      " |  Readonly properties inherited from gammapy.estimators.core.Estimator:\n",
      " |  \n",
      " |  config_parameters\n",
      " |      Config parameters\n",
      " |  \n",
      " |  ----------------------------------------------------------------------\n",
      " |  Data descriptors inherited from gammapy.estimators.core.Estimator:\n",
      " |  \n",
      " |  __dict__\n",
      " |      dictionary for instance variables (if defined)\n",
      " |  \n",
      " |  __weakref__\n",
      " |      list of weak references to the object (if defined)\n",
      " |  \n",
      " |  selection_optional\n",
      "\n"
     ]
    }
   ],
   "source": [
    "help(SensitivityEstimator)"
   ]
  },
  {
   "cell_type": "markdown",
   "id": "013ea681",
   "metadata": {},
   "source": [
    "<a id='step5.4'></a>\n",
    "### Step 5.4:  Computing the Flux Points\n",
    "\n",
    "We can now compute some flux points using the `~gammapy.estimators.FluxPointsEstimator`. \n",
    "\n",
    "Besides the list of datasets to use, we must provide it the energy intervals on which to compute flux points as well as the model component name. "
   ]
  },
  {
   "cell_type": "code",
   "execution_count": 44,
   "id": "0b6306e7",
   "metadata": {
    "scrolled": true
   },
   "outputs": [
    {
     "data": {
      "text/html": [
       "<div><i>Table length=12</i>\n",
       "<table id=\"table140489515253424\" class=\"table-striped table-bordered table-condensed\">\n",
       "<thead><tr><th>e_ref</th><th>e_min</th><th>e_max</th><th>dnde</th><th>dnde_err</th><th>dnde_errp</th><th>dnde_errn</th><th>dnde_ul</th><th>ts</th><th>sqrt_ts</th><th>npred</th><th>npred_excess</th><th>stat</th><th>is_ul</th><th>counts</th><th>success</th><th>norm_scan</th><th>stat_scan</th></tr></thead>\n",
       "<thead><tr><th>TeV</th><th>TeV</th><th>TeV</th><th>1 / (cm2 s TeV)</th><th>1 / (cm2 s TeV)</th><th>1 / (cm2 s TeV)</th><th>1 / (cm2 s TeV)</th><th>1 / (cm2 s TeV)</th><th></th><th></th><th></th><th></th><th></th><th></th><th></th><th></th><th></th><th></th></tr></thead>\n",
       "<thead><tr><th>float64</th><th>float64</th><th>float64</th><th>float64</th><th>float64</th><th>float64</th><th>float64</th><th>float64</th><th>float64</th><th>float64</th><th>float64[10]</th><th>float32[10]</th><th>float64</th><th>bool</th><th>float64[10]</th><th>bool</th><th>float64[11]</th><th>float64[11]</th></tr></thead>\n",
       "<tr><td>0.115</td><td>0.093</td><td>0.143</td><td>2.962e-13</td><td>1.819e-12</td><td>nan</td><td>nan</td><td>nan</td><td>0.027</td><td>0.163</td><td>3646.0092469624583 .. 3679.011062627888</td><td>3.4062366 .. 3.4062366</td><td>6.096</td><td>True</td><td>3620.0 .. 3641.0</td><td>True</td><td>0.200 .. 5.000</td><td>6.120 .. 6.097</td></tr>\n",
       "<tr><td>0.178</td><td>0.143</td><td>0.222</td><td>-2.206e-13</td><td>5.103e-13</td><td>nan</td><td>nan</td><td>nan</td><td>0.185</td><td>-0.431</td><td>2066.319688551587 .. 2064.808965712989</td><td>-6.816163 .. -6.816163</td><td>4.606</td><td>True</td><td>2066.0 .. 2045.0</td><td>True</td><td>0.200 .. 5.000</td><td>4.803 .. 5.194</td></tr>\n",
       "<tr><td>0.276</td><td>0.222</td><td>0.343</td><td>4.578e-14</td><td>1.403e-13</td><td>nan</td><td>nan</td><td>nan</td><td>0.107</td><td>0.327</td><td>1122.8498504579802 .. 1130.6355216939367</td><td>3.77288 .. 3.77288</td><td>12.845</td><td>True</td><td>1053.0 .. 1146.0</td><td>True</td><td>0.200 .. 5.000</td><td>12.938 .. 12.910</td></tr>\n",
       "<tr><td>0.531</td><td>0.343</td><td>0.821</td><td>1.640e-14</td><td>1.924e-14</td><td>nan</td><td>nan</td><td>nan</td><td>0.735</td><td>0.857</td><td>908.707423288902 .. 904.1928402643919</td><td>8.421898 .. 8.421898</td><td>7.466</td><td>True</td><td>899.0 .. 897.0</td><td>True</td><td>0.200 .. 5.000</td><td>8.108 .. 7.747</td></tr>\n",
       "<tr><td>1.022</td><td>0.821</td><td>1.271</td><td>5.664e-15</td><td>5.508e-15</td><td>nan</td><td>nan</td><td>nan</td><td>1.071</td><td>1.035</td><td>166.0840394129521 .. 162.74043805240603</td><td>4.4734597 .. 4.4734597</td><td>11.993</td><td>True</td><td>161.0 .. 160.0</td><td>True</td><td>0.200 .. 5.000</td><td>12.935 .. 12.300</td></tr>\n",
       "<tr><td>1.581</td><td>1.271</td><td>1.967</td><td>-6.492e-17</td><td>1.761e-15</td><td>1.775e-15</td><td>nan</td><td>3.525e-15</td><td>0.001</td><td>-0.030</td><td>94.7287053115299 .. 104.90056318738884</td><td>-0.12457294 .. -0.12457294</td><td>12.158</td><td>True</td><td>91.0 .. 127.0</td><td>True</td><td>0.200 .. 5.000</td><td>12.173 .. 17.629</td></tr>\n",
       "<tr><td>2.447</td><td>1.967</td><td>3.043</td><td>-3.176e-16</td><td>5.794e-16</td><td>5.850e-16</td><td>nan</td><td>8.631e-16</td><td>0.299</td><td>-0.547</td><td>63.38198307397929 .. 61.89515393662178</td><td>-1.4972936 .. -1.4972936</td><td>13.808</td><td>True</td><td>54.0 .. 56.0</td><td>True</td><td>0.200 .. 5.000</td><td>14.272 .. 28.253</td></tr>\n",
       "<tr><td>3.786</td><td>3.043</td><td>4.709</td><td>3.955e-16</td><td>2.646e-16</td><td>2.677e-16</td><td>2.616e-16</td><td>nan</td><td>2.314</td><td>1.521</td><td>46.50776784360855 .. 47.4811119239516</td><td>3.511062 .. 3.511062</td><td>7.199</td><td>True</td><td>40.0 .. 43.0</td><td>True</td><td>0.200 .. 5.000</td><td>9.090 .. 11.152</td></tr>\n",
       "<tr><td>5.858</td><td>4.709</td><td>7.286</td><td>-2.625e-17</td><td>1.167e-16</td><td>1.183e-16</td><td>nan</td><td>2.133e-16</td><td>0.051</td><td>-0.226</td><td>30.970789430098755 .. 35.602419856449366</td><td>-0.4526776 .. -0.4526776</td><td>12.473</td><td>True</td><td>37.0 .. 26.0</td><td>True</td><td>0.200 .. 5.000</td><td>12.614 .. 27.101</td></tr>\n",
       "<tr><td>9.064</td><td>7.286</td><td>11.274</td><td>1.539e-16</td><td>6.142e-17</td><td>nan</td><td>6.053e-17</td><td>nan</td><td>6.766</td><td>2.601</td><td>29.685919839931014 .. 30.06977525607715</td><td>4.6643987 .. 4.6643987</td><td>12.510</td><td>False</td><td>31.0 .. 23.0</td><td>True</td><td>0.200 .. 5.000</td><td>18.530 .. 13.340</td></tr>\n",
       "<tr><td>14.024</td><td>11.274</td><td>17.445</td><td>-1.730e-17</td><td>2.898e-17</td><td>2.956e-17</td><td>nan</td><td>4.300e-17</td><td>0.348</td><td>-0.590</td><td>17.82350649113225 .. 14.990357544659616</td><td>-0.8226525 .. -0.8226525</td><td>2.327</td><td>True</td><td>19.0 .. 16.0</td><td>True</td><td>0.200 .. 5.000</td><td>2.852 .. 16.426</td></tr>\n",
       "<tr><td>21.700</td><td>17.445</td><td>26.993</td><td>9.245e-18</td><td>1.214e-17</td><td>1.244e-17</td><td>nan</td><td>3.477e-17</td><td>0.603</td><td>0.776</td><td>10.626180984258735 .. 11.093949334529116</td><td>0.8359697 .. 0.8359697</td><td>11.529</td><td>True</td><td>16.0 .. 6.0</td><td>True</td><td>0.200 .. 5.000</td><td>11.906 .. 20.088</td></tr>\n",
       "</table></div>"
      ],
      "text/plain": [
       "<Table length=12>\n",
       " e_ref   e_min   e_max  ... success   norm_scan       stat_scan    \n",
       "  TeV     TeV     TeV   ...                                        \n",
       "float64 float64 float64 ...   bool   float64[11]     float64[11]   \n",
       "------- ------- ------- ... ------- -------------- ----------------\n",
       "  0.115   0.093   0.143 ...    True 0.200 .. 5.000   6.120 .. 6.097\n",
       "  0.178   0.143   0.222 ...    True 0.200 .. 5.000   4.803 .. 5.194\n",
       "  0.276   0.222   0.343 ...    True 0.200 .. 5.000 12.938 .. 12.910\n",
       "  0.531   0.343   0.821 ...    True 0.200 .. 5.000   8.108 .. 7.747\n",
       "  1.022   0.821   1.271 ...    True 0.200 .. 5.000 12.935 .. 12.300\n",
       "  1.581   1.271   1.967 ...    True 0.200 .. 5.000 12.173 .. 17.629\n",
       "  2.447   1.967   3.043 ...    True 0.200 .. 5.000 14.272 .. 28.253\n",
       "  3.786   3.043   4.709 ...    True 0.200 .. 5.000  9.090 .. 11.152\n",
       "  5.858   4.709   7.286 ...    True 0.200 .. 5.000 12.614 .. 27.101\n",
       "  9.064   7.286  11.274 ...    True 0.200 .. 5.000 18.530 .. 13.340\n",
       " 14.024  11.274  17.445 ...    True 0.200 .. 5.000  2.852 .. 16.426\n",
       " 21.700  17.445  26.993 ...    True 0.200 .. 5.000 11.906 .. 20.088"
      ]
     },
     "metadata": {},
     "output_type": "display_data"
    }
   ],
   "source": [
    "#Compute flux points\n",
    "datasets.models = [skymodel]\n",
    "\n",
    "fit_joint = Fit()\n",
    "result_joint = fit_joint.run(datasets=datasets)\n",
    "\n",
    "# we make a copy here to compare it later\n",
    "model_best_joint = skymodel.copy()\n",
    "\n",
    "energy_edges = MapAxis.from_energy_bounds(\"0.1 TeV\", \"30 TeV\", nbin=12).edges\n",
    "\n",
    "fpe = FluxPointsEstimator(energy_edges=energy_edges, source=\"model_simu\", selection_optional=\"all\")\n",
    "flux_points = fpe.run(datasets=datasets)\n",
    "\n",
    "display(flux_points.to_table(sed_type=\"dnde\", formatted=True))"
   ]
  },
  {
   "cell_type": "code",
   "execution_count": 39,
   "id": "4f158996",
   "metadata": {},
   "outputs": [
    {
     "data": {
      "text/plain": [
       "[array([0.02259054, 0.05408674, 0.18779305, 0.20037204, 0.74230681,\n",
       "        1.77724644, 4.25512049]),\n",
       " array([0.02810073, 0.06727936, 0.29057726, 0.24924599, 0.92336731,\n",
       "        2.21074527, 5.29301244])]"
      ]
     },
     "execution_count": 39,
     "metadata": {},
     "output_type": "execute_result"
    }
   ],
   "source": [
    "xerr"
   ]
  },
  {
   "cell_type": "code",
   "execution_count": 38,
   "id": "5b7cca55",
   "metadata": {
    "scrolled": true
   },
   "outputs": [
    {
     "data": {
      "image/png": "[encoded data removed]",
      "text/plain": [
       "<Figure size 640x480 with 1 Axes>"
      ]
     },
     "metadata": {},
     "output_type": "display_data"
    }
   ],
   "source": [
    "e_ref = []\n",
    "e_min = []\n",
    "e_max = []\n",
    "dnde = []\n",
    "dnde_err = []\n",
    "subtract_emin = []\n",
    "subtract_emax = []\n",
    "\n",
    "for j in range(len(flux_points[\"energy_max\"].value)):\n",
    "    if flux_points[\"dnde\"].data[j] > 0:\n",
    "        e_ref.append(flux_points[\"energy_ref\"].value[j])\n",
    "        e_min.append(flux_points[\"energy_min\"].value[j])\n",
    "        e_max.append(flux_points[\"energy_max\"].value[j])\n",
    "        dnde.append(flux_points[\"dnde\"].data[j][0])\n",
    "        dnde_err.append(flux_points[\"dnde_err\"].data[j][0])\n",
    "flux_TEV = np.hstack((dnde))#*1e+06\n",
    "flux_err_TEV = np.hstack((dnde_err))#*1e+06  \n",
    "energy = np.hstack((e_ref))\n",
    "\n",
    "#print(len(energy), len(flux_TEV))\n",
    "#print(energy)\n",
    "#print(np.asarray(flux_TEV))\n",
    "#print(np.hstack((e_ref))-np.hstack((e_min)), np.hstack((e_max))-np.hstack((e_ref)))\n",
    "\n",
    "energy_bounds = [0.1, 50] * u.TeV\n",
    "plt.figure()\n",
    "absspecmodel.plot(\n",
    "    energy_bounds, \n",
    "    label='intrinsic spectrum + EBL'\n",
    ")\n",
    "\n",
    "xerr = [np.hstack((e_ref))-np.hstack((e_min)), np.hstack((e_max))-np.hstack((e_ref))]\n",
    "\n",
    "plt.errorbar(\n",
    "    e_ref, \n",
    "    flux_TEV, \n",
    "    color='red', \n",
    "    marker='o', \n",
    "    xerr = xerr, \n",
    "    yerr = flux_err_TEV, \n",
    "    linestyle='', \n",
    "    label='measured spectrum')\n",
    "plt.grid(which=\"both\")\n",
    "plt.ylim(1e-24, 1e-8)\n",
    "plt.legend(loc=\"best\")\n",
    "plt.title(\"M87\")\n",
    "\n",
    "path_flux = mkdir_base_child(\"analysis\", \"flux_point\")\n",
    "\n",
    "plt_savefig(path_flux, \"flux_point\")\n",
    "\n",
    "plt.savefig('./spectrum_srcM87.png', bbox_inches='tight')\n",
    "\n",
    "plt.savefig('./M87_gammapy_flux_point.png', bbox_inches='tight')\n",
    "plt.savefig('./M87_gammapy_flux_point.pdf', bbox_inches='tight')\n",
    "\n",
    "plt.show()\n"
   ]
  },
  {
   "cell_type": "markdown",
   "id": "e63ae483",
   "metadata": {},
   "source": [
    "___"
   ]
  },
  {
   "cell_type": "markdown",
   "id": "6803c7ef",
   "metadata": {},
   "source": [
    "🔝 [Back to Top](#intro)<br>"
   ]
  }
 ],
 "metadata": {
  "kernelspec": {
   "display_name": "Python 3 (ipykernel)",
   "language": "python",
   "name": "python3"
  },
  "language_info": {
   "codemirror_mode": {
    "name": "ipython",
    "version": 3
   },
   "file_extension": ".py",
   "mimetype": "text/x-python",
   "name": "python",
   "nbconvert_exporter": "python",
   "pygments_lexer": "ipython3",
   "version": "3.9.15"
  }
 },
 "nbformat": 4,
 "nbformat_minor": 5
}
