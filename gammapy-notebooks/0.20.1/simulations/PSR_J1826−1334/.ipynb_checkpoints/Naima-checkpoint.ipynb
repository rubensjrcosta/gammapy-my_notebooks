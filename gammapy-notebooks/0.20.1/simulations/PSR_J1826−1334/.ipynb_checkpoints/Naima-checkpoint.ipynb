{
 "cells": [
  {
   "cell_type": "markdown",
   "id": "c0b5edd3",
   "metadata": {},
   "source": [
    "<a id='intro'></a>\n",
    "## Simulation of a Single Spectrum\n",
    "\n",
    "We will simulate the energy spectrum of 3FHL J1230.8+1223 from the Fermi-LAT 3FHL source catalog considering the Dominguez EBL absorption spectral model. To do a simulation, we need to define the observational parameters like\n",
    "the livetime, the offset, the assumed integration radius, the energy\n",
    "range to perform the simulation for and the choice of spectral model. We\n",
    "then use an in-memory observation which is convolved with the IRFs to\n",
    "get the predicted number of counts. This is Poission fluctuated using\n",
    "the `fake()` to get the simulated counts for each observation."
   ]
  },
  {
   "cell_type": "markdown",
   "id": "44805999",
   "metadata": {},
   "source": [
    "<a id='indice'></a>\n",
    "### Indice\n",
    "[Step 0.0:  Setting the Engine Tools](#step0)<br>\n",
    "$\\;\\;\\;\\;\\;$[Step 0.1:  Importing the Python Necessary Tools](#step0.1)<br>\n",
    "$\\;\\;\\;\\;\\;$[Step 0.2:  Defining Functions](#step0.2)<br>\n",
    "[Step 1.0: Source Information](#step1)<br>\n",
    "[Step 2.0: Creates the Observation](#step2)<br>\n",
    "[Step 3.0: Defining the Skymodel](#step3)<br>\n",
    "[Step 4.0: Simulating the Spectrum](#step4)<br>\n",
    "$\\;\\;\\;\\;\\;$[Step 4.1: Defines the geometry](#step4.1)<br> \n",
    "$\\;\\;\\;\\;\\;$[Step 4.2: Setting the Model on the Dataset](#step4.2)<br> \n",
    "[Step 5.0: On-Off Analysis](#step5)<br>\n",
    "$\\;\\;\\;\\;\\;$[Step 5.1: Simulating the Observations](#step5.1)<br>\n",
    "$\\;\\;\\;\\;\\;$[Step 5.2: Plotting Counts, Excess and Significance](#step5.2)<br>\n",
    "$\\;\\;\\;\\;\\;$[Step 5.3: Computing the Sensitivity](#step5.3)<br>\n",
    "$\\;\\;\\;\\;\\;$[Step 5.4 Computing the Flux Points](#step5.4)<br>"
   ]
  },
  {
   "cell_type": "markdown",
   "id": "3bdb2877",
   "metadata": {},
   "source": [
    "<a id='step0'></a>\n",
    "## Step 0.0:  Setting the Engine Tools\n",
    "\n",
    "<a id='step0.1'></a>\n",
    "### Step 0.1: Importing the Python Necessary Tools"
   ]
  },
  {
   "cell_type": "code",
   "execution_count": 1,
   "id": "59ef12b1",
   "metadata": {},
   "outputs": [],
   "source": [
    "import gammapy\n",
    "from astropy import units as u\n",
    "import numpy as np\n",
    "from astropy.io import ascii\n",
    "import collections\n",
    "import sys, os\n",
    "import matplotlib.pyplot as plt\n",
    "\n",
    "from gammapy.catalog import SourceCatalog3FHL\n",
    "from gammapy.makers import SpectrumDatasetMaker, SafeMaskMaker, ReflectedRegionsBackgroundMaker\n",
    "from gammapy.modeling import Fit\n",
    "from gammapy.data import Observation, Observations, observatory_locations\n",
    "from gammapy.datasets import SpectrumDatasetOnOff, SpectrumDataset, Datasets\n",
    "from gammapy.irf import load_cta_irfs\n",
    "from gammapy.maps import MapAxis, RegionGeom\n",
    "\n",
    "from gammapy.modeling.models import (\n",
    "    EBLAbsorptionNormSpectralModel,\n",
    "    Models,\n",
    "    PowerLawSpectralModel,\n",
    "    SkyModel,\n",
    ")\n",
    "\n",
    "from gammapy.irf import EffectiveAreaTable2D\n",
    "\n",
    "from numpy.random import RandomState\n",
    "\n",
    "from scipy.stats import chi2, norm\n",
    "\n",
    "from gammapy.estimators import FluxPointsEstimator\n",
    "from gammapy.estimators import FluxPoints\n",
    "from gammapy.datasets import FluxPointsDataset\n",
    "\n",
    "# astropy imports\n",
    "from astropy.coordinates import SkyCoord, Angle\n",
    "from astropy import units as u\n",
    "from astropy.io import fits\n",
    "from astropy.table import Table, Column\n",
    "\n",
    "from gammapy.estimators import SensitivityEstimator\n",
    "\n",
    "# astropy affiliated packages imports\n",
    "from regions import CircleSkyRegion\n",
    "\n",
    "from gammapy.stats import WStatCountsStatistic\n",
    "from gammapy.stats import CashCountsStatistic\n",
    "from scipy.stats import sem\n",
    "from gammapy.maps import Map\n",
    "from regions import PointSkyRegion\n",
    "\n",
    "import math\n",
    "\n",
    "from pathlib import Path"
   ]
  },
  {
   "cell_type": "markdown",
   "id": "d6e287e3",
   "metadata": {},
   "source": [
    "<a id='step0.2'></a>\n",
    "### Step 0.2: Defining Functions"
   ]
  },
  {
   "cell_type": "code",
   "execution_count": 2,
   "id": "6e973926",
   "metadata": {},
   "outputs": [],
   "source": [
    "def mkdir_base_child(base_dir, child_dir):\n",
    "    '''Creates a directory: base_dir/child_dir and returs the path \n",
    "    mkdir_base_child(base_dir, child_dir)\n",
    "    >>> path_child\n",
    "    '''\n",
    "    path_base = Path(f\"{base_dir}\")\n",
    "    path_base.mkdir(exist_ok=True)\n",
    "\n",
    "    path_child = Path(f\"{path_base}/{child_dir}\")\n",
    "    path_child.mkdir(exist_ok=True)\n",
    "    \n",
    "    return path_child"
   ]
  },
  {
   "cell_type": "code",
   "execution_count": 3,
   "id": "486cbaac",
   "metadata": {},
   "outputs": [],
   "source": [
    "def plt_savefig(path_child, child_name):\n",
    "    ''' Saves figures (.png and .pdf) in the path_child directoty    \n",
    "    plt_savefig(path_child, child_name)\n",
    "    >>> plt.savefig(file, bbox_inches='tight')\n",
    "    '''\n",
    "    formats_file = [\".png\", \".pdf\"]\n",
    "    for format_file in formats_file: \n",
    "        file = path_child / f'{src_id}_{child_name}_{ebl_ref}{format_file}'\n",
    "        plt.savefig(file, bbox_inches='tight')\n"
   ]
  },
  {
   "cell_type": "markdown",
   "id": "19987720",
   "metadata": {},
   "source": [
    "___"
   ]
  },
  {
   "cell_type": "markdown",
   "id": "32463b2e",
   "metadata": {},
   "source": [
    "🔝 [Back to Top](#intro)<br>"
   ]
  },
  {
   "cell_type": "markdown",
   "id": "a784cfbd",
   "metadata": {},
   "source": [
    "<a id='step1'></a>\n",
    "## Step 1.0:  Source Information"
   ]
  },
  {
   "cell_type": "code",
   "execution_count": 4,
   "id": "e92b40ec",
   "metadata": {},
   "outputs": [],
   "source": [
    "from astropy import units as u\n",
    "from astropy import cosmology\n",
    "from astropy.cosmology import WMAP5, WMAP7\n",
    "from astropy.coordinates import Distance"
   ]
  },
  {
   "cell_type": "code",
   "execution_count": 5,
   "id": "0d626f2a",
   "metadata": {},
   "outputs": [
    {
     "data": {
      "text/plain": [
       "FlatLambdaCDM(name=\"WMAP7\", H0=70.4 km / (Mpc s), Om0=0.272, Tcmb0=2.725 K, Neff=3.04, m_nu=[0. 0. 0.] eV, Ob0=0.0455)"
      ]
     },
     "execution_count": 5,
     "metadata": {},
     "output_type": "execute_result"
    }
   ],
   "source": [
    "cosmology.default_cosmology.set(WMAP7)\n",
    "cosmology.default_cosmology.get()"
   ]
  },
  {
   "cell_type": "markdown",
   "id": "89e39d14",
   "metadata": {},
   "source": [
    "[source](https://docs.astropy.org/en/stable/api/astropy.cosmology.FlatLambdaCDM.html#astropy.cosmology.FlatLambdaCDM)\n",
    "+ H0 = Hubble constant at z = 0. If a float, must be in [km/sec/Mpc].\n",
    "Om0 = Omega matter: density of non-relativistic matter in units of the critical density at z=0.\n",
    "+ Tcmb0 = Temperature of the CMB z=0. If a float, must be in [K]. Default: 0 [K]. Setting  this to zero will turn off both photons and neutrinos (even massive ones).\n",
    "+ Neff = Effective number of Neutrino species. Default 3.04.\n",
    "+ m_nu = Mass of each neutrino species in [eV] (mass-energy equivalency enabled). If this is a scalar Quantity, then all neutrino species are assumed to have that mass. Otherwise, the mass of each species. The actual number of neutrino species (and hence the number of elements of m_nu if it is not scalar) must be the floor of Neff. Typically this means you should provide three neutrino masses unless you are considering something like a sterile neutrino.\n",
    "+ Ob0 = Omega baryons: density of baryonic matter in units of the critical density at z=0. If this is set to None (the default), any computation that requires its value will raise an exception.\n",
    "\n"
   ]
  },
  {
   "cell_type": "code",
   "execution_count": 6,
   "id": "abcc7ecc",
   "metadata": {},
   "outputs": [],
   "source": [
    "# Pulsar name: B1823-13\n",
    "src_jname = \"PSR J1826-1334\"  # Pulsar name based on J2000 coordinates;  \n",
    "src_id  = src_jname.replace(\" \", \"\") # Name of identified or likely associated source"
   ]
  },
  {
   "cell_type": "markdown",
   "id": "aeeb7b46",
   "metadata": {},
   "source": [
    "[ATNF Pulsar Catalogue: PSR J1826-1334](https://www.atnf.csiro.au/research/pulsar/psrcat/proc_form.php?version=1.69&Name=Name&JName=JName&RaJ=RaJ&DecJ=DecJ&Dist=Dist&Dist_DM=Dist_DM&Assoc=Assoc&startUserDefined=true&c1_val=&c2_val=&c3_val=&c4_val=&sort_attr=jname&sort_order=asc&condition=&pulsar_names=J1826-1334&ephemeris=short&coords_unit=raj%2Fdecj&radius=&coords_1=&coords_2=&style=Long+with+last+digit+error&no_value=*&fsize=3&x_axis=&x_scale=linear&y_axis=&y_scale=linear&state=query&table_bottom.x=50&table_bottom.y=14)"
   ]
  },
  {
   "cell_type": "code",
   "execution_count": 7,
   "id": "879182b8",
   "metadata": {},
   "outputs": [
    {
     "data": {
      "text/plain": [
       "(<Distance 3.606 kpc>, 8.467890787929234e-07)"
      ]
     },
     "execution_count": 7,
     "metadata": {},
     "output_type": "execute_result"
    }
   ],
   "source": [
    "src_dist = Distance(value = 3.606, unit = u.kpc) # Best estimate of the pulsar distance using the YMW16 DM-based distance as default (kpc)\n",
    "src_red = float(src_dist.compute_z()) # The source redshift for this distance assuming its physical distance is a luminosity distance.\n",
    "# src_red = float(src_red) Explicar o float\n",
    "src_dist, src_red"
   ]
  },
  {
   "cell_type": "code",
   "execution_count": 8,
   "id": "e618fce7",
   "metadata": {},
   "outputs": [],
   "source": [
    "# src_rajd =Angle('18h26m13.175s').degree    # Right ascension (deg)\n",
    "# src_decjd  = Angle(\"-13d34m46.8s\").degree   # Declination (deg)\n",
    "# # RAJ: Right ascension (J2000) (hh:mm:ss.s) \n",
    "# # DecJ: Declination (J2000) (+dd:mm:ss)"
   ]
  },
  {
   "cell_type": "code",
   "execution_count": 9,
   "id": "56891bfd",
   "metadata": {},
   "outputs": [
    {
     "name": "stdout",
     "output_type": "stream",
     "text": [
      "PSRJ1826-1334 Source Information:\n",
      "(RAJ2000, DEJ2000) = (276.555, -13.580); Redshift = 0.00000085\n"
     ]
    }
   ],
   "source": [
    "src_rajd = 276.554896 # Right ascension (J2000) (degrees)\n",
    "src_decjd = -13.57967 # Declination (J2000) (degrees)\n",
    "print(f\"{src_id} Source Information:\")\n",
    "print(f\"(RAJ2000, DEJ2000) = ({src_rajd:.3f}, {src_decjd:.3f}); Redshift = {src_red:.8f}\" )"
   ]
  },
  {
   "cell_type": "markdown",
   "id": "3528d87a",
   "metadata": {},
   "source": [
    "___"
   ]
  },
  {
   "cell_type": "markdown",
   "id": "dbd6b4ba",
   "metadata": {},
   "source": [
    "🔝 [Back to Top](#intro)<br>"
   ]
  },
  {
   "cell_type": "markdown",
   "id": "cb47a787",
   "metadata": {},
   "source": [
    "<a id='step2'></a>\n",
    "## Step 2.0:  Creates the Observation"
   ]
  },
  {
   "cell_type": "markdown",
   "id": "7ad701bb",
   "metadata": {},
   "source": [
    "Define the source position:"
   ]
  },
  {
   "cell_type": "code",
   "execution_count": 10,
   "id": "ab916221",
   "metadata": {},
   "outputs": [
    {
     "name": "stdout",
     "output_type": "stream",
     "text": [
      "Help on class SkyCoord in module astropy.coordinates.sky_coordinate:\n",
      "\n",
      "class SkyCoord(astropy.utils.shapes.ShapedLikeNDArray)\n",
      " |  SkyCoord(*args, copy=True, **kwargs)\n",
      " |  \n",
      " |  High-level object providing a flexible interface for celestial coordinate\n",
      " |  representation, manipulation, and transformation between systems.\n",
      " |  \n",
      " |  The `SkyCoord` class accepts a wide variety of inputs for initialization. At\n",
      " |  a minimum these must provide one or more celestial coordinate values with\n",
      " |  unambiguous units.  Inputs may be scalars or lists/tuples/arrays, yielding\n",
      " |  scalar or array coordinates (can be checked via ``SkyCoord.isscalar``).\n",
      " |  Typically one also specifies the coordinate frame, though this is not\n",
      " |  required. The general pattern for spherical representations is::\n",
      " |  \n",
      " |    SkyCoord(COORD, [FRAME], keyword_args ...)\n",
      " |    SkyCoord(LON, LAT, [FRAME], keyword_args ...)\n",
      " |    SkyCoord(LON, LAT, [DISTANCE], frame=FRAME, unit=UNIT, keyword_args ...)\n",
      " |    SkyCoord([FRAME], <lon_attr>=LON, <lat_attr>=LAT, keyword_args ...)\n",
      " |  \n",
      " |  It is also possible to input coordinate values in other representations\n",
      " |  such as cartesian or cylindrical.  In this case one includes the keyword\n",
      " |  argument ``representation_type='cartesian'`` (for example) along with data\n",
      " |  in ``x``, ``y``, and ``z``.\n",
      " |  \n",
      " |  See also: https://docs.astropy.org/en/stable/coordinates/\n",
      " |  \n",
      " |  Examples\n",
      " |  --------\n",
      " |  The examples below illustrate common ways of initializing a `SkyCoord`\n",
      " |  object.  For a complete description of the allowed syntax see the\n",
      " |  full coordinates documentation.  First some imports::\n",
      " |  \n",
      " |    >>> from astropy.coordinates import SkyCoord  # High-level coordinates\n",
      " |    >>> from astropy.coordinates import ICRS, Galactic, FK4, FK5  # Low-level frames\n",
      " |    >>> from astropy.coordinates import Angle, Latitude, Longitude  # Angles\n",
      " |    >>> import astropy.units as u\n",
      " |  \n",
      " |  The coordinate values and frame specification can now be provided using\n",
      " |  positional and keyword arguments::\n",
      " |  \n",
      " |    >>> c = SkyCoord(10, 20, unit=\"deg\")  # defaults to ICRS frame\n",
      " |    >>> c = SkyCoord([1, 2, 3], [-30, 45, 8], frame=\"icrs\", unit=\"deg\")  # 3 coords\n",
      " |  \n",
      " |    >>> coords = [\"1:12:43.2 +31:12:43\", \"1 12 43.2 +31 12 43\"]\n",
      " |    >>> c = SkyCoord(coords, frame=FK4, unit=(u.hourangle, u.deg), obstime=\"J1992.21\")\n",
      " |  \n",
      " |    >>> c = SkyCoord(\"1h12m43.2s +1d12m43s\", frame=Galactic)  # Units from string\n",
      " |    >>> c = SkyCoord(frame=\"galactic\", l=\"1h12m43.2s\", b=\"+1d12m43s\")\n",
      " |  \n",
      " |    >>> ra = Longitude([1, 2, 3], unit=u.deg)  # Could also use Angle\n",
      " |    >>> dec = np.array([4.5, 5.2, 6.3]) * u.deg  # Astropy Quantity\n",
      " |    >>> c = SkyCoord(ra, dec, frame='icrs')\n",
      " |    >>> c = SkyCoord(frame=ICRS, ra=ra, dec=dec, obstime='2001-01-02T12:34:56')\n",
      " |  \n",
      " |    >>> c = FK4(1 * u.deg, 2 * u.deg)  # Uses defaults for obstime, equinox\n",
      " |    >>> c = SkyCoord(c, obstime='J2010.11', equinox='B1965')  # Override defaults\n",
      " |  \n",
      " |    >>> c = SkyCoord(w=0, u=1, v=2, unit='kpc', frame='galactic',\n",
      " |    ...              representation_type='cartesian')\n",
      " |  \n",
      " |    >>> c = SkyCoord([ICRS(ra=1*u.deg, dec=2*u.deg), ICRS(ra=3*u.deg, dec=4*u.deg)])\n",
      " |  \n",
      " |  Velocity components (proper motions or radial velocities) can also be\n",
      " |  provided in a similar manner::\n",
      " |  \n",
      " |    >>> c = SkyCoord(ra=1*u.deg, dec=2*u.deg, radial_velocity=10*u.km/u.s)\n",
      " |  \n",
      " |    >>> c = SkyCoord(ra=1*u.deg, dec=2*u.deg, pm_ra_cosdec=2*u.mas/u.yr, pm_dec=1*u.mas/u.yr)\n",
      " |  \n",
      " |  As shown, the frame can be a `~astropy.coordinates.BaseCoordinateFrame`\n",
      " |  class or the corresponding string alias.  The frame classes that are built in\n",
      " |  to astropy are `ICRS`, `FK5`, `FK4`, `FK4NoETerms`, and `Galactic`.\n",
      " |  The string aliases are simply lower-case versions of the class name, and\n",
      " |  allow for creating a `SkyCoord` object and transforming frames without\n",
      " |  explicitly importing the frame classes.\n",
      " |  \n",
      " |  Parameters\n",
      " |  ----------\n",
      " |  frame : `~astropy.coordinates.BaseCoordinateFrame` class or string, optional\n",
      " |      Type of coordinate frame this `SkyCoord` should represent. Defaults to\n",
      " |      to ICRS if not given or given as None.\n",
      " |  unit : `~astropy.units.Unit`, string, or tuple of :class:`~astropy.units.Unit` or str, optional\n",
      " |      Units for supplied coordinate values.\n",
      " |      If only one unit is supplied then it applies to all values.\n",
      " |      Note that passing only one unit might lead to unit conversion errors\n",
      " |      if the coordinate values are expected to have mixed physical meanings\n",
      " |      (e.g., angles and distances).\n",
      " |  obstime : time-like, optional\n",
      " |      Time(s) of observation.\n",
      " |  equinox : time-like, optional\n",
      " |      Coordinate frame equinox time.\n",
      " |  representation_type : str or Representation class\n",
      " |      Specifies the representation, e.g. 'spherical', 'cartesian', or\n",
      " |      'cylindrical'.  This affects the positional args and other keyword args\n",
      " |      which must correspond to the given representation.\n",
      " |  copy : bool, optional\n",
      " |      If `True` (default), a copy of any coordinate data is made.  This\n",
      " |      argument can only be passed in as a keyword argument.\n",
      " |  **keyword_args\n",
      " |      Other keyword arguments as applicable for user-defined coordinate frames.\n",
      " |      Common options include:\n",
      " |  \n",
      " |      ra, dec : angle-like, optional\n",
      " |          RA and Dec for frames where ``ra`` and ``dec`` are keys in the\n",
      " |          frame's ``representation_component_names``, including `ICRS`,\n",
      " |          `FK5`, `FK4`, and `FK4NoETerms`.\n",
      " |      pm_ra_cosdec, pm_dec  : `~astropy.units.Quantity` ['angular speed'], optional\n",
      " |          Proper motion components, in angle per time units.\n",
      " |      l, b : angle-like, optional\n",
      " |          Galactic ``l`` and ``b`` for for frames where ``l`` and ``b`` are\n",
      " |          keys in the frame's ``representation_component_names``, including\n",
      " |          the `Galactic` frame.\n",
      " |      pm_l_cosb, pm_b : `~astropy.units.Quantity` ['angular speed'], optional\n",
      " |          Proper motion components in the `Galactic` frame, in angle per time\n",
      " |          units.\n",
      " |      x, y, z : float or `~astropy.units.Quantity` ['length'], optional\n",
      " |          Cartesian coordinates values\n",
      " |      u, v, w : float or `~astropy.units.Quantity` ['length'], optional\n",
      " |          Cartesian coordinates values for the Galactic frame.\n",
      " |      radial_velocity : `~astropy.units.Quantity` ['speed'], optional\n",
      " |          The component of the velocity along the line-of-sight (i.e., the\n",
      " |          radial direction), in velocity units.\n",
      " |  \n",
      " |  Method resolution order:\n",
      " |      SkyCoord\n",
      " |      astropy.utils.shapes.ShapedLikeNDArray\n",
      " |      astropy.utils.shapes.NDArrayShapeMethods\n",
      " |      builtins.object\n",
      " |  \n",
      " |  Methods defined here:\n",
      " |  \n",
      " |  __delattr__(self, attr)\n",
      " |      Implement delattr(self, name).\n",
      " |  \n",
      " |  __dir__(self)\n",
      " |      Override the builtin `dir` behavior to include:\n",
      " |      - Transforms available by aliases\n",
      " |      - Attribute / methods of the underlying self.frame object\n",
      " |  \n",
      " |  __eq__(self, value)\n",
      " |      Equality operator for SkyCoord\n",
      " |      \n",
      " |      This implements strict equality and requires that the frames are\n",
      " |      equivalent, extra frame attributes are equivalent, and that the\n",
      " |      representation data are exactly equal.\n",
      " |  \n",
      " |  __getattr__(self, attr)\n",
      " |      Overrides getattr to return coordinates that this can be transformed\n",
      " |      to, based on the alias attr in the primary transform graph.\n",
      " |  \n",
      " |  __init__(self, *args, copy=True, **kwargs)\n",
      " |      Initialize self.  See help(type(self)) for accurate signature.\n",
      " |  \n",
      " |  __ne__(self, value)\n",
      " |      Return self!=value.\n",
      " |  \n",
      " |  __repr__(self)\n",
      " |      Return repr(self).\n",
      " |  \n",
      " |  __setattr__(self, attr, val)\n",
      " |      Implement setattr(self, name, value).\n",
      " |  \n",
      " |  __setitem__(self, item, value)\n",
      " |      Implement self[item] = value for SkyCoord\n",
      " |      \n",
      " |      The right hand ``value`` must be strictly consistent with self:\n",
      " |      - Identical class\n",
      " |      - Equivalent frames\n",
      " |      - Identical representation_types\n",
      " |      - Identical representation differentials keys\n",
      " |      - Identical frame attributes\n",
      " |      - Identical \"extra\" frame attributes (e.g. obstime for an ICRS coord)\n",
      " |      \n",
      " |      With these caveats the setitem ends up as effectively a setitem on\n",
      " |      the representation data.\n",
      " |      \n",
      " |        self.frame.data[item] = value.frame.data\n",
      " |  \n",
      " |  apply_space_motion(self, new_obstime=None, dt=None)\n",
      " |      Compute the position of the source represented by this coordinate object\n",
      " |      to a new time using the velocities stored in this object and assuming\n",
      " |      linear space motion (including relativistic corrections). This is\n",
      " |      sometimes referred to as an \"epoch transformation.\"\n",
      " |      \n",
      " |      The initial time before the evolution is taken from the ``obstime``\n",
      " |      attribute of this coordinate.  Note that this method currently does not\n",
      " |      support evolving coordinates where the *frame* has an ``obstime`` frame\n",
      " |      attribute, so the ``obstime`` is only used for storing the before and\n",
      " |      after times, not actually as an attribute of the frame. Alternatively,\n",
      " |      if ``dt`` is given, an ``obstime`` need not be provided at all.\n",
      " |      \n",
      " |      Parameters\n",
      " |      ----------\n",
      " |      new_obstime : `~astropy.time.Time`, optional\n",
      " |          The time at which to evolve the position to. Requires that the\n",
      " |          ``obstime`` attribute be present on this frame.\n",
      " |      dt : `~astropy.units.Quantity`, `~astropy.time.TimeDelta`, optional\n",
      " |          An amount of time to evolve the position of the source. Cannot be\n",
      " |          given at the same time as ``new_obstime``.\n",
      " |      \n",
      " |      Returns\n",
      " |      -------\n",
      " |      new_coord : `SkyCoord`\n",
      " |          A new coordinate object with the evolved location of this coordinate\n",
      " |          at the new time.  ``obstime`` will be set on this object to the new\n",
      " |          time only if ``self`` also has ``obstime``.\n",
      " |  \n",
      " |  contained_by(self, wcs, image=None, **kwargs)\n",
      " |      Determines if the SkyCoord is contained in the given wcs footprint.\n",
      " |      \n",
      " |      Parameters\n",
      " |      ----------\n",
      " |      wcs : `~astropy.wcs.WCS`\n",
      " |          The coordinate to check if it is within the wcs coordinate.\n",
      " |      image : array\n",
      " |          Optional.  The image associated with the wcs object that the cooordinate\n",
      " |          is being checked against. If not given the naxis keywords will be used\n",
      " |          to determine if the coordinate falls within the wcs footprint.\n",
      " |      **kwargs\n",
      " |          Additional arguments to pass to `~astropy.coordinates.SkyCoord.to_pixel`\n",
      " |      \n",
      " |      Returns\n",
      " |      -------\n",
      " |      response : bool\n",
      " |          True means the WCS footprint contains the coordinate, False means it does not.\n",
      " |  \n",
      " |  directional_offset_by(self, position_angle, separation)\n",
      " |      Computes coordinates at the given offset from this coordinate.\n",
      " |      \n",
      " |      Parameters\n",
      " |      ----------\n",
      " |      position_angle : `~astropy.coordinates.Angle`\n",
      " |          position_angle of offset\n",
      " |      separation : `~astropy.coordinates.Angle`\n",
      " |          offset angular separation\n",
      " |      \n",
      " |      Returns\n",
      " |      -------\n",
      " |      newpoints : `~astropy.coordinates.SkyCoord`\n",
      " |          The coordinates for the location that corresponds to offsetting by\n",
      " |          the given `position_angle` and `separation`.\n",
      " |      \n",
      " |      Notes\n",
      " |      -----\n",
      " |      Returned SkyCoord frame retains only the frame attributes that are for\n",
      " |      the resulting frame type.  (e.g. if the input frame is\n",
      " |      `~astropy.coordinates.ICRS`, an ``equinox`` value will be retained, but\n",
      " |      an ``obstime`` will not.)\n",
      " |      \n",
      " |      For a more complete set of transform offsets, use `~astropy.wcs.WCS`.\n",
      " |      `~astropy.coordinates.SkyCoord.skyoffset_frame()` can also be used to\n",
      " |      create a spherical frame with (lat=0, lon=0) at a reference point,\n",
      " |      approximating an xy cartesian system for small offsets. This method\n",
      " |      is distinct in that it is accurate on the sphere.\n",
      " |      \n",
      " |      See Also\n",
      " |      --------\n",
      " |      position_angle : inverse operation for the ``position_angle`` component\n",
      " |      separation : inverse operation for the ``separation`` component\n",
      " |  \n",
      " |  get_constellation(self, short_name=False, constellation_list='iau')\n",
      " |      Determines the constellation(s) of the coordinates this `SkyCoord`\n",
      " |      contains.\n",
      " |      \n",
      " |      Parameters\n",
      " |      ----------\n",
      " |      short_name : bool\n",
      " |          If True, the returned names are the IAU-sanctioned abbreviated\n",
      " |          names.  Otherwise, full names for the constellations are used.\n",
      " |      constellation_list : str\n",
      " |          The set of constellations to use.  Currently only ``'iau'`` is\n",
      " |          supported, meaning the 88 \"modern\" constellations endorsed by the IAU.\n",
      " |      \n",
      " |      Returns\n",
      " |      -------\n",
      " |      constellation : str or string array\n",
      " |          If this is a scalar coordinate, returns the name of the\n",
      " |          constellation.  If it is an array `SkyCoord`, it returns an array of\n",
      " |          names.\n",
      " |      \n",
      " |      Notes\n",
      " |      -----\n",
      " |      To determine which constellation a point on the sky is in, this first\n",
      " |      precesses to B1875, and then uses the Delporte boundaries of the 88\n",
      " |      modern constellations, as tabulated by\n",
      " |      `Roman 1987 <http://cdsarc.u-strasbg.fr/viz-bin/Cat?VI/42>`_.\n",
      " |      \n",
      " |      See Also\n",
      " |      --------\n",
      " |      astropy.coordinates.get_constellation\n",
      " |  \n",
      " |  insert(self, obj, values, axis=0)\n",
      " |      Insert coordinate values before the given indices in the object and\n",
      " |      return a new Frame object.\n",
      " |      \n",
      " |      The values to be inserted must conform to the rules for in-place setting\n",
      " |      of ``SkyCoord`` objects.\n",
      " |      \n",
      " |      The API signature matches the ``np.insert`` API, but is more limited.\n",
      " |      The specification of insert index ``obj`` must be a single integer,\n",
      " |      and the ``axis`` must be ``0`` for simple insertion before the index.\n",
      " |      \n",
      " |      Parameters\n",
      " |      ----------\n",
      " |      obj : int\n",
      " |          Integer index before which ``values`` is inserted.\n",
      " |      values : array-like\n",
      " |          Value(s) to insert.  If the type of ``values`` is different\n",
      " |          from that of quantity, ``values`` is converted to the matching type.\n",
      " |      axis : int, optional\n",
      " |          Axis along which to insert ``values``.  Default is 0, which is the\n",
      " |          only allowed value and will insert a row.\n",
      " |      \n",
      " |      Returns\n",
      " |      -------\n",
      " |      out : `~astropy.coordinates.SkyCoord` instance\n",
      " |          New coordinate object with inserted value(s)\n",
      " |  \n",
      " |  is_equivalent_frame(self, other)\n",
      " |      Checks if this object's frame as the same as that of the ``other``\n",
      " |      object.\n",
      " |      \n",
      " |      To be the same frame, two objects must be the same frame class and have\n",
      " |      the same frame attributes. For two `SkyCoord` objects, *all* of the\n",
      " |      frame attributes have to match, not just those relevant for the object's\n",
      " |      frame.\n",
      " |      \n",
      " |      Parameters\n",
      " |      ----------\n",
      " |      other : SkyCoord or BaseCoordinateFrame\n",
      " |          The other object to check.\n",
      " |      \n",
      " |      Returns\n",
      " |      -------\n",
      " |      isequiv : bool\n",
      " |          True if the frames are the same, False if not.\n",
      " |      \n",
      " |      Raises\n",
      " |      ------\n",
      " |      TypeError\n",
      " |          If ``other`` isn't a `SkyCoord` or a `BaseCoordinateFrame` or subclass.\n",
      " |  \n",
      " |  is_transformable_to(self, new_frame)\n",
      " |      Determines if this coordinate frame can be transformed to another\n",
      " |      given frame.\n",
      " |      \n",
      " |      Parameters\n",
      " |      ----------\n",
      " |      new_frame : frame class, frame object, or str\n",
      " |          The proposed frame to transform into.\n",
      " |      \n",
      " |      Returns\n",
      " |      -------\n",
      " |      transformable : bool or str\n",
      " |          `True` if this can be transformed to ``new_frame``, `False` if\n",
      " |          not, or the string 'same' if ``new_frame`` is the same system as\n",
      " |          this object but no transformation is defined.\n",
      " |      \n",
      " |      Notes\n",
      " |      -----\n",
      " |      A return value of 'same' means the transformation will work, but it will\n",
      " |      just give back a copy of this object.  The intended usage is::\n",
      " |      \n",
      " |          if coord.is_transformable_to(some_unknown_frame):\n",
      " |              coord2 = coord.transform_to(some_unknown_frame)\n",
      " |      \n",
      " |      This will work even if ``some_unknown_frame``  turns out to be the same\n",
      " |      frame class as ``coord``.  This is intended for cases where the frame\n",
      " |      is the same regardless of the frame attributes (e.g. ICRS), but be\n",
      " |      aware that it *might* also indicate that someone forgot to define the\n",
      " |      transformation between two objects of the same frame class but with\n",
      " |      different attributes.\n",
      " |  \n",
      " |  match_to_catalog_3d(self, catalogcoord, nthneighbor=1)\n",
      " |      Finds the nearest 3-dimensional matches of this coordinate to a set\n",
      " |      of catalog coordinates.\n",
      " |      \n",
      " |      This finds the 3-dimensional closest neighbor, which is only different\n",
      " |      from the on-sky distance if ``distance`` is set in this object or the\n",
      " |      ``catalogcoord`` object.\n",
      " |      \n",
      " |      For more on how to use this (and related) functionality, see the\n",
      " |      examples in :doc:`astropy:/coordinates/matchsep`.\n",
      " |      \n",
      " |      Parameters\n",
      " |      ----------\n",
      " |      catalogcoord : `~astropy.coordinates.SkyCoord` or `~astropy.coordinates.BaseCoordinateFrame`\n",
      " |          The base catalog in which to search for matches. Typically this\n",
      " |          will be a coordinate object that is an array (i.e.,\n",
      " |          ``catalogcoord.isscalar == False``)\n",
      " |      nthneighbor : int, optional\n",
      " |          Which closest neighbor to search for.  Typically ``1`` is\n",
      " |          desired here, as that is correct for matching one set of\n",
      " |          coordinates to another.  The next likely use case is\n",
      " |          ``2``, for matching a coordinate catalog against *itself*\n",
      " |          (``1`` is inappropriate because each point will find\n",
      " |          itself as the closest match).\n",
      " |      \n",
      " |      Returns\n",
      " |      -------\n",
      " |      idx : int array\n",
      " |          Indices into ``catalogcoord`` to get the matched points for\n",
      " |          each of this object's coordinates. Shape matches this\n",
      " |          object.\n",
      " |      sep2d : `~astropy.coordinates.Angle`\n",
      " |          The on-sky separation between the closest match for each\n",
      " |          element in this object in ``catalogcoord``. Shape matches\n",
      " |          this object.\n",
      " |      dist3d : `~astropy.units.Quantity` ['length']\n",
      " |          The 3D distance between the closest match for each element\n",
      " |          in this object in ``catalogcoord``. Shape matches this\n",
      " |          object.\n",
      " |      \n",
      " |      Notes\n",
      " |      -----\n",
      " |      This method requires `SciPy <https://www.scipy.org/>`_ to be\n",
      " |      installed or it will fail.\n",
      " |      \n",
      " |      See Also\n",
      " |      --------\n",
      " |      astropy.coordinates.match_coordinates_3d\n",
      " |      SkyCoord.match_to_catalog_sky\n",
      " |  \n",
      " |  match_to_catalog_sky(self, catalogcoord, nthneighbor=1)\n",
      " |      Finds the nearest on-sky matches of this coordinate in a set of\n",
      " |      catalog coordinates.\n",
      " |      \n",
      " |      For more on how to use this (and related) functionality, see the\n",
      " |      examples in :doc:`astropy:/coordinates/matchsep`.\n",
      " |      \n",
      " |      Parameters\n",
      " |      ----------\n",
      " |      catalogcoord : `~astropy.coordinates.SkyCoord` or `~astropy.coordinates.BaseCoordinateFrame`\n",
      " |          The base catalog in which to search for matches. Typically this\n",
      " |          will be a coordinate object that is an array (i.e.,\n",
      " |          ``catalogcoord.isscalar == False``)\n",
      " |      nthneighbor : int, optional\n",
      " |          Which closest neighbor to search for.  Typically ``1`` is\n",
      " |          desired here, as that is correct for matching one set of\n",
      " |          coordinates to another. The next likely use case is ``2``,\n",
      " |          for matching a coordinate catalog against *itself* (``1``\n",
      " |          is inappropriate because each point will find itself as the\n",
      " |          closest match).\n",
      " |      \n",
      " |      Returns\n",
      " |      -------\n",
      " |      idx : int array\n",
      " |          Indices into ``catalogcoord`` to get the matched points for\n",
      " |          each of this object's coordinates. Shape matches this\n",
      " |          object.\n",
      " |      sep2d : `~astropy.coordinates.Angle`\n",
      " |          The on-sky separation between the closest match for each\n",
      " |          element in this object in ``catalogcoord``. Shape matches\n",
      " |          this object.\n",
      " |      dist3d : `~astropy.units.Quantity` ['length']\n",
      " |          The 3D distance between the closest match for each element\n",
      " |          in this object in ``catalogcoord``. Shape matches this\n",
      " |          object. Unless both this and ``catalogcoord`` have associated\n",
      " |          distances, this quantity assumes that all sources are at a\n",
      " |          distance of 1 (dimensionless).\n",
      " |      \n",
      " |      Notes\n",
      " |      -----\n",
      " |      This method requires `SciPy <https://www.scipy.org/>`_ to be\n",
      " |      installed or it will fail.\n",
      " |      \n",
      " |      See Also\n",
      " |      --------\n",
      " |      astropy.coordinates.match_coordinates_sky\n",
      " |      SkyCoord.match_to_catalog_3d\n",
      " |  \n",
      " |  position_angle(self, other)\n",
      " |      Computes the on-sky position angle (East of North) between this\n",
      " |      `SkyCoord` and another.\n",
      " |      \n",
      " |      Parameters\n",
      " |      ----------\n",
      " |      other : `SkyCoord`\n",
      " |          The other coordinate to compute the position angle to.  It is\n",
      " |          treated as the \"head\" of the vector of the position angle.\n",
      " |      \n",
      " |      Returns\n",
      " |      -------\n",
      " |      pa : `~astropy.coordinates.Angle`\n",
      " |          The (positive) position angle of the vector pointing from ``self``\n",
      " |          to ``other``.  If either ``self`` or ``other`` contain arrays, this\n",
      " |          will be an array following the appropriate `numpy` broadcasting\n",
      " |          rules.\n",
      " |      \n",
      " |      Examples\n",
      " |      --------\n",
      " |      >>> c1 = SkyCoord(0*u.deg, 0*u.deg)\n",
      " |      >>> c2 = SkyCoord(1*u.deg, 0*u.deg)\n",
      " |      >>> c1.position_angle(c2).degree\n",
      " |      90.0\n",
      " |      >>> c3 = SkyCoord(1*u.deg, 1*u.deg)\n",
      " |      >>> c1.position_angle(c3).degree  # doctest: +FLOAT_CMP\n",
      " |      44.995636455344844\n",
      " |  \n",
      " |  radial_velocity_correction(self, kind='barycentric', obstime=None, location=None)\n",
      " |      Compute the correction required to convert a radial velocity at a given\n",
      " |      time and place on the Earth's Surface to a barycentric or heliocentric\n",
      " |      velocity.\n",
      " |      \n",
      " |      Parameters\n",
      " |      ----------\n",
      " |      kind : str\n",
      " |          The kind of velocity correction.  Must be 'barycentric' or\n",
      " |          'heliocentric'.\n",
      " |      obstime : `~astropy.time.Time` or None, optional\n",
      " |          The time at which to compute the correction.  If `None`, the\n",
      " |          ``obstime`` frame attribute on the `SkyCoord` will be used.\n",
      " |      location : `~astropy.coordinates.EarthLocation` or None, optional\n",
      " |          The observer location at which to compute the correction.  If\n",
      " |          `None`, the  ``location`` frame attribute on the passed-in\n",
      " |          ``obstime`` will be used, and if that is None, the ``location``\n",
      " |          frame attribute on the `SkyCoord` will be used.\n",
      " |      \n",
      " |      Raises\n",
      " |      ------\n",
      " |      ValueError\n",
      " |          If either ``obstime`` or ``location`` are passed in (not ``None``)\n",
      " |          when the frame attribute is already set on this `SkyCoord`.\n",
      " |      TypeError\n",
      " |          If ``obstime`` or ``location`` aren't provided, either as arguments\n",
      " |          or as frame attributes.\n",
      " |      \n",
      " |      Returns\n",
      " |      -------\n",
      " |      vcorr : `~astropy.units.Quantity` ['speed']\n",
      " |          The  correction with a positive sign.  I.e., *add* this\n",
      " |          to an observed radial velocity to get the barycentric (or\n",
      " |          heliocentric) velocity. If m/s precision or better is needed,\n",
      " |          see the notes below.\n",
      " |      \n",
      " |      Notes\n",
      " |      -----\n",
      " |      The barycentric correction is calculated to higher precision than the\n",
      " |      heliocentric correction and includes additional physics (e.g time dilation).\n",
      " |      Use barycentric corrections if m/s precision is required.\n",
      " |      \n",
      " |      The algorithm here is sufficient to perform corrections at the mm/s level, but\n",
      " |      care is needed in application. The barycentric correction returned uses the optical\n",
      " |      approximation v = z * c. Strictly speaking, the barycentric correction is\n",
      " |      multiplicative and should be applied as::\n",
      " |      \n",
      " |        >>> from astropy.time import Time\n",
      " |        >>> from astropy.coordinates import SkyCoord, EarthLocation\n",
      " |        >>> from astropy.constants import c\n",
      " |        >>> t = Time(56370.5, format='mjd', scale='utc')\n",
      " |        >>> loc = EarthLocation('149d33m00.5s','-30d18m46.385s',236.87*u.m)\n",
      " |        >>> sc = SkyCoord(1*u.deg, 2*u.deg)\n",
      " |        >>> vcorr = sc.radial_velocity_correction(kind='barycentric', obstime=t, location=loc)  # doctest: +REMOTE_DATA\n",
      " |        >>> rv = rv + vcorr + rv * vcorr / c  # doctest: +SKIP\n",
      " |      \n",
      " |      Also note that this method returns the correction velocity in the so-called\n",
      " |      *optical convention*::\n",
      " |      \n",
      " |        >>> vcorr = zb * c  # doctest: +SKIP\n",
      " |      \n",
      " |      where ``zb`` is the barycentric correction redshift as defined in section 3\n",
      " |      of Wright & Eastman (2014). The application formula given above follows from their\n",
      " |      equation (11) under assumption that the radial velocity ``rv`` has also been defined\n",
      " |      using the same optical convention. Note, this can be regarded as a matter of\n",
      " |      velocity definition and does not by itself imply any loss of accuracy, provided\n",
      " |      sufficient care has been taken during interpretation of the results. If you need\n",
      " |      the barycentric correction expressed as the full relativistic velocity (e.g., to provide\n",
      " |      it as the input to another software which performs the application), the\n",
      " |      following recipe can be used::\n",
      " |      \n",
      " |        >>> zb = vcorr / c  # doctest: +REMOTE_DATA\n",
      " |        >>> zb_plus_one_squared = (zb + 1) ** 2  # doctest: +REMOTE_DATA\n",
      " |        >>> vcorr_rel = c * (zb_plus_one_squared - 1) / (zb_plus_one_squared + 1)  # doctest: +REMOTE_DATA\n",
      " |      \n",
      " |      or alternatively using just equivalencies::\n",
      " |      \n",
      " |        >>> vcorr_rel = vcorr.to(u.Hz, u.doppler_optical(1*u.Hz)).to(vcorr.unit, u.doppler_relativistic(1*u.Hz))  # doctest: +REMOTE_DATA\n",
      " |      \n",
      " |      See also `~astropy.units.equivalencies.doppler_optical`,\n",
      " |      `~astropy.units.equivalencies.doppler_radio`, and\n",
      " |      `~astropy.units.equivalencies.doppler_relativistic` for more information on\n",
      " |      the velocity conventions.\n",
      " |      \n",
      " |      The default is for this method to use the builtin ephemeris for\n",
      " |      computing the sun and earth location.  Other ephemerides can be chosen\n",
      " |      by setting the `~astropy.coordinates.solar_system_ephemeris` variable,\n",
      " |      either directly or via ``with`` statement.  For example, to use the JPL\n",
      " |      ephemeris, do::\n",
      " |      \n",
      " |        >>> from astropy.coordinates import solar_system_ephemeris\n",
      " |        >>> sc = SkyCoord(1*u.deg, 2*u.deg)\n",
      " |        >>> with solar_system_ephemeris.set('jpl'):  # doctest: +REMOTE_DATA\n",
      " |        ...     rv += sc.radial_velocity_correction(obstime=t, location=loc)  # doctest: +SKIP\n",
      " |  \n",
      " |  search_around_3d(self, searcharoundcoords, distlimit)\n",
      " |      Searches for all coordinates in this object around a supplied set of\n",
      " |      points within a given 3D radius.\n",
      " |      \n",
      " |      This is intended for use on `~astropy.coordinates.SkyCoord` objects\n",
      " |      with coordinate arrays, rather than a scalar coordinate.  For a scalar\n",
      " |      coordinate, it is better to use\n",
      " |      `~astropy.coordinates.SkyCoord.separation_3d`.\n",
      " |      \n",
      " |      For more on how to use this (and related) functionality, see the\n",
      " |      examples in :doc:`astropy:/coordinates/matchsep`.\n",
      " |      \n",
      " |      Parameters\n",
      " |      ----------\n",
      " |      searcharoundcoords : `~astropy.coordinates.SkyCoord` or `~astropy.coordinates.BaseCoordinateFrame`\n",
      " |          The coordinates to search around to try to find matching points in\n",
      " |          this `SkyCoord`. This should be an object with array coordinates,\n",
      " |          not a scalar coordinate object.\n",
      " |      distlimit : `~astropy.units.Quantity` ['length']\n",
      " |          The physical radius to search within.\n",
      " |      \n",
      " |      Returns\n",
      " |      -------\n",
      " |      idxsearcharound : int array\n",
      " |          Indices into ``searcharoundcoords`` that match the\n",
      " |          corresponding elements of ``idxself``. Shape matches\n",
      " |          ``idxself``.\n",
      " |      idxself : int array\n",
      " |          Indices into ``self`` that match the\n",
      " |          corresponding elements of ``idxsearcharound``. Shape matches\n",
      " |          ``idxsearcharound``.\n",
      " |      sep2d : `~astropy.coordinates.Angle`\n",
      " |          The on-sky separation between the coordinates. Shape matches\n",
      " |          ``idxsearcharound`` and ``idxself``.\n",
      " |      dist3d : `~astropy.units.Quantity` ['length']\n",
      " |          The 3D distance between the coordinates. Shape matches\n",
      " |          ``idxsearcharound`` and ``idxself``.\n",
      " |      \n",
      " |      Notes\n",
      " |      -----\n",
      " |      This method requires `SciPy <https://www.scipy.org/>`_ to be\n",
      " |      installed or it will fail.\n",
      " |      \n",
      " |      In the current implementation, the return values are always sorted in\n",
      " |      the same order as the ``searcharoundcoords`` (so ``idxsearcharound`` is\n",
      " |      in ascending order).  This is considered an implementation detail,\n",
      " |      though, so it could change in a future release.\n",
      " |      \n",
      " |      See Also\n",
      " |      --------\n",
      " |      astropy.coordinates.search_around_3d\n",
      " |      SkyCoord.search_around_sky\n",
      " |  \n",
      " |  search_around_sky(self, searcharoundcoords, seplimit)\n",
      " |      Searches for all coordinates in this object around a supplied set of\n",
      " |      points within a given on-sky separation.\n",
      " |      \n",
      " |      This is intended for use on `~astropy.coordinates.SkyCoord` objects\n",
      " |      with coordinate arrays, rather than a scalar coordinate.  For a scalar\n",
      " |      coordinate, it is better to use\n",
      " |      `~astropy.coordinates.SkyCoord.separation`.\n",
      " |      \n",
      " |      For more on how to use this (and related) functionality, see the\n",
      " |      examples in :doc:`astropy:/coordinates/matchsep`.\n",
      " |      \n",
      " |      Parameters\n",
      " |      ----------\n",
      " |      searcharoundcoords : coordinate-like\n",
      " |          The coordinates to search around to try to find matching points in\n",
      " |          this `SkyCoord`. This should be an object with array coordinates,\n",
      " |          not a scalar coordinate object.\n",
      " |      seplimit : `~astropy.units.Quantity` ['angle']\n",
      " |          The on-sky separation to search within.\n",
      " |      \n",
      " |      Returns\n",
      " |      -------\n",
      " |      idxsearcharound : int array\n",
      " |          Indices into ``searcharoundcoords`` that match the\n",
      " |          corresponding elements of ``idxself``. Shape matches\n",
      " |          ``idxself``.\n",
      " |      idxself : int array\n",
      " |          Indices into ``self`` that match the\n",
      " |          corresponding elements of ``idxsearcharound``. Shape matches\n",
      " |          ``idxsearcharound``.\n",
      " |      sep2d : `~astropy.coordinates.Angle`\n",
      " |          The on-sky separation between the coordinates. Shape matches\n",
      " |          ``idxsearcharound`` and ``idxself``.\n",
      " |      dist3d : `~astropy.units.Quantity` ['length']\n",
      " |          The 3D distance between the coordinates. Shape matches\n",
      " |          ``idxsearcharound`` and ``idxself``.\n",
      " |      \n",
      " |      Notes\n",
      " |      -----\n",
      " |      This method requires `SciPy <https://www.scipy.org/>`_ to be\n",
      " |      installed or it will fail.\n",
      " |      \n",
      " |      In the current implementation, the return values are always sorted in\n",
      " |      the same order as the ``searcharoundcoords`` (so ``idxsearcharound`` is\n",
      " |      in ascending order).  This is considered an implementation detail,\n",
      " |      though, so it could change in a future release.\n",
      " |      \n",
      " |      See Also\n",
      " |      --------\n",
      " |      astropy.coordinates.search_around_sky\n",
      " |      SkyCoord.search_around_3d\n",
      " |  \n",
      " |  separation(self, other)\n",
      " |      Computes on-sky separation between this coordinate and another.\n",
      " |      \n",
      " |      .. note::\n",
      " |      \n",
      " |          If the ``other`` coordinate object is in a different frame, it is\n",
      " |          first transformed to the frame of this object. This can lead to\n",
      " |          unintuitive behavior if not accounted for. Particularly of note is\n",
      " |          that ``self.separation(other)`` and ``other.separation(self)`` may\n",
      " |          not give the same answer in this case.\n",
      " |      \n",
      " |      For more on how to use this (and related) functionality, see the\n",
      " |      examples in :doc:`astropy:/coordinates/matchsep`.\n",
      " |      \n",
      " |      Parameters\n",
      " |      ----------\n",
      " |      other : `~astropy.coordinates.SkyCoord` or `~astropy.coordinates.BaseCoordinateFrame`\n",
      " |          The coordinate to get the separation to.\n",
      " |      \n",
      " |      Returns\n",
      " |      -------\n",
      " |      sep : `~astropy.coordinates.Angle`\n",
      " |          The on-sky separation between this and the ``other`` coordinate.\n",
      " |      \n",
      " |      Notes\n",
      " |      -----\n",
      " |      The separation is calculated using the Vincenty formula, which\n",
      " |      is stable at all locations, including poles and antipodes [1]_.\n",
      " |      \n",
      " |      .. [1] https://en.wikipedia.org/wiki/Great-circle_distance\n",
      " |  \n",
      " |  separation_3d(self, other)\n",
      " |      Computes three dimensional separation between this coordinate\n",
      " |      and another.\n",
      " |      \n",
      " |      For more on how to use this (and related) functionality, see the\n",
      " |      examples in :doc:`astropy:/coordinates/matchsep`.\n",
      " |      \n",
      " |      Parameters\n",
      " |      ----------\n",
      " |      other : `~astropy.coordinates.SkyCoord` or `~astropy.coordinates.BaseCoordinateFrame`\n",
      " |          The coordinate to get the separation to.\n",
      " |      \n",
      " |      Returns\n",
      " |      -------\n",
      " |      sep : `~astropy.coordinates.Distance`\n",
      " |          The real-space distance between these two coordinates.\n",
      " |      \n",
      " |      Raises\n",
      " |      ------\n",
      " |      ValueError\n",
      " |          If this or the other coordinate do not have distances.\n",
      " |  \n",
      " |  skyoffset_frame(self, rotation=None)\n",
      " |      Returns the sky offset frame with this `SkyCoord` at the origin.\n",
      " |      \n",
      " |      Returns\n",
      " |      -------\n",
      " |      astrframe : `~astropy.coordinates.SkyOffsetFrame`\n",
      " |          A sky offset frame of the same type as this `SkyCoord` (e.g., if\n",
      " |          this object has an ICRS coordinate, the resulting frame is\n",
      " |          SkyOffsetICRS, with the origin set to this object)\n",
      " |      rotation : angle-like\n",
      " |          The final rotation of the frame about the ``origin``. The sign of\n",
      " |          the rotation is the left-hand rule. That is, an object at a\n",
      " |          particular position angle in the un-rotated system will be sent to\n",
      " |          the positive latitude (z) direction in the final frame.\n",
      " |  \n",
      " |  spherical_offsets_by(self, d_lon, d_lat)\n",
      " |      Computes the coordinate that is a specified pair of angular offsets away\n",
      " |      from this coordinate.\n",
      " |      \n",
      " |      Parameters\n",
      " |      ----------\n",
      " |      d_lon : angle-like\n",
      " |          The angular offset in the longitude direction. The definition of\n",
      " |          \"longitude\" depends on this coordinate's frame (e.g., RA for\n",
      " |          equatorial coordinates).\n",
      " |      d_lat : angle-like\n",
      " |          The angular offset in the latitude direction. The definition of\n",
      " |          \"latitude\" depends on this coordinate's frame (e.g., Dec for\n",
      " |          equatorial coordinates).\n",
      " |      \n",
      " |      Returns\n",
      " |      -------\n",
      " |      newcoord : `~astropy.coordinates.SkyCoord`\n",
      " |          The coordinates for the location that corresponds to offsetting by\n",
      " |          ``d_lat`` in the latitude direction and ``d_lon`` in the longitude\n",
      " |          direction.\n",
      " |      \n",
      " |      Notes\n",
      " |      -----\n",
      " |      This internally uses `~astropy.coordinates.SkyOffsetFrame` to do the\n",
      " |      transformation. For a more complete set of transform offsets, use\n",
      " |      `~astropy.coordinates.SkyOffsetFrame` or `~astropy.wcs.WCS` manually.\n",
      " |      This specific method can be reproduced by doing\n",
      " |      ``SkyCoord(SkyOffsetFrame(d_lon, d_lat, origin=self.frame).transform_to(self))``.\n",
      " |      \n",
      " |      See Also\n",
      " |      --------\n",
      " |      spherical_offsets_to : compute the angular offsets to another coordinate\n",
      " |      directional_offset_by : offset a coordinate by an angle in a direction\n",
      " |  \n",
      " |  spherical_offsets_to(self, tocoord)\n",
      " |      Computes angular offsets to go *from* this coordinate *to* another.\n",
      " |      \n",
      " |      Parameters\n",
      " |      ----------\n",
      " |      tocoord : `~astropy.coordinates.BaseCoordinateFrame`\n",
      " |          The coordinate to find the offset to.\n",
      " |      \n",
      " |      Returns\n",
      " |      -------\n",
      " |      lon_offset : `~astropy.coordinates.Angle`\n",
      " |          The angular offset in the longitude direction. The definition of\n",
      " |          \"longitude\" depends on this coordinate's frame (e.g., RA for\n",
      " |          equatorial coordinates).\n",
      " |      lat_offset : `~astropy.coordinates.Angle`\n",
      " |          The angular offset in the latitude direction. The definition of\n",
      " |          \"latitude\" depends on this coordinate's frame (e.g., Dec for\n",
      " |          equatorial coordinates).\n",
      " |      \n",
      " |      Raises\n",
      " |      ------\n",
      " |      ValueError\n",
      " |          If the ``tocoord`` is not in the same frame as this one. This is\n",
      " |          different from the behavior of the `separation`/`separation_3d`\n",
      " |          methods because the offset components depend critically on the\n",
      " |          specific choice of frame.\n",
      " |      \n",
      " |      Notes\n",
      " |      -----\n",
      " |      This uses the sky offset frame machinery, and hence will produce a new\n",
      " |      sky offset frame if one does not already exist for this object's frame\n",
      " |      class.\n",
      " |      \n",
      " |      See Also\n",
      " |      --------\n",
      " |      separation :\n",
      " |          for the *total* angular offset (not broken out into components).\n",
      " |      position_angle :\n",
      " |          for the direction of the offset.\n",
      " |  \n",
      " |  to_pixel(self, wcs, origin=0, mode='all')\n",
      " |      Convert this coordinate to pixel coordinates using a `~astropy.wcs.WCS`\n",
      " |      object.\n",
      " |      \n",
      " |      Parameters\n",
      " |      ----------\n",
      " |      wcs : `~astropy.wcs.WCS`\n",
      " |          The WCS to use for convert\n",
      " |      origin : int\n",
      " |          Whether to return 0 or 1-based pixel coordinates.\n",
      " |      mode : 'all' or 'wcs'\n",
      " |          Whether to do the transformation including distortions (``'all'``) or\n",
      " |          only including only the core WCS transformation (``'wcs'``).\n",
      " |      \n",
      " |      Returns\n",
      " |      -------\n",
      " |      xp, yp : `numpy.ndarray`\n",
      " |          The pixel coordinates\n",
      " |      \n",
      " |      See Also\n",
      " |      --------\n",
      " |      astropy.wcs.utils.skycoord_to_pixel : the implementation of this method\n",
      " |  \n",
      " |  to_string(self, style='decimal', **kwargs)\n",
      " |      A string representation of the coordinates.\n",
      " |      \n",
      " |      The default styles definitions are::\n",
      " |      \n",
      " |        'decimal': 'lat': {'decimal': True, 'unit': \"deg\"}\n",
      " |                   'lon': {'decimal': True, 'unit': \"deg\"}\n",
      " |        'dms': 'lat': {'unit': \"deg\"}\n",
      " |               'lon': {'unit': \"deg\"}\n",
      " |        'hmsdms': 'lat': {'alwayssign': True, 'pad': True, 'unit': \"deg\"}\n",
      " |                  'lon': {'pad': True, 'unit': \"hour\"}\n",
      " |      \n",
      " |      See :meth:`~astropy.coordinates.Angle.to_string` for details and\n",
      " |      keyword arguments (the two angles forming the coordinates are are\n",
      " |      both :class:`~astropy.coordinates.Angle` instances). Keyword\n",
      " |      arguments have precedence over the style defaults and are passed\n",
      " |      to :meth:`~astropy.coordinates.Angle.to_string`.\n",
      " |      \n",
      " |      Parameters\n",
      " |      ----------\n",
      " |      style : {'hmsdms', 'dms', 'decimal'}\n",
      " |          The formatting specification to use. These encode the three most\n",
      " |          common ways to represent coordinates. The default is `decimal`.\n",
      " |      **kwargs\n",
      " |          Keyword args passed to :meth:`~astropy.coordinates.Angle.to_string`.\n",
      " |  \n",
      " |  to_table(self)\n",
      " |      Convert this |SkyCoord| to a |QTable|.\n",
      " |      \n",
      " |      Any attributes that have the same length as the |SkyCoord| will be\n",
      " |      converted to columns of the |QTable|. All other attributes will be\n",
      " |      recorded as metadata.\n",
      " |      \n",
      " |      Returns\n",
      " |      -------\n",
      " |      `~astropy.table.QTable`\n",
      " |          A |QTable| containing the data of this |SkyCoord|.\n",
      " |      \n",
      " |      Examples\n",
      " |      --------\n",
      " |      >>> sc = SkyCoord(ra=[40, 70]*u.deg, dec=[0, -20]*u.deg,\n",
      " |      ...               obstime=Time([2000, 2010], format='jyear'))\n",
      " |      >>> t =  sc.to_table()\n",
      " |      >>> t\n",
      " |      <QTable length=2>\n",
      " |         ra     dec   obstime\n",
      " |        deg     deg\n",
      " |      float64 float64   Time\n",
      " |      ------- ------- -------\n",
      " |         40.0     0.0  2000.0\n",
      " |         70.0   -20.0  2010.0\n",
      " |      >>> t.meta\n",
      " |      {'representation_type': 'spherical', 'frame': 'icrs'}\n",
      " |  \n",
      " |  transform_to(self, frame, merge_attributes=True)\n",
      " |      Transform this coordinate to a new frame.\n",
      " |      \n",
      " |      The precise frame transformed to depends on ``merge_attributes``.\n",
      " |      If `False`, the destination frame is used exactly as passed in.\n",
      " |      But this is often not quite what one wants.  E.g., suppose one wants to\n",
      " |      transform an ICRS coordinate that has an obstime attribute to FK4; in\n",
      " |      this case, one likely would want to use this information. Thus, the\n",
      " |      default for ``merge_attributes`` is `True`, in which the precedence is\n",
      " |      as follows: (1) explicitly set (i.e., non-default) values in the\n",
      " |      destination frame; (2) explicitly set values in the source; (3) default\n",
      " |      value in the destination frame.\n",
      " |      \n",
      " |      Note that in either case, any explicitly set attributes on the source\n",
      " |      `SkyCoord` that are not part of the destination frame's definition are\n",
      " |      kept (stored on the resulting `SkyCoord`), and thus one can round-trip\n",
      " |      (e.g., from FK4 to ICRS to FK4 without losing obstime).\n",
      " |      \n",
      " |      Parameters\n",
      " |      ----------\n",
      " |      frame : str, `BaseCoordinateFrame` class or instance, or `SkyCoord` instance\n",
      " |          The frame to transform this coordinate into.  If a `SkyCoord`, the\n",
      " |          underlying frame is extracted, and all other information ignored.\n",
      " |      merge_attributes : bool, optional\n",
      " |          Whether the default attributes in the destination frame are allowed\n",
      " |          to be overridden by explicitly set attributes in the source\n",
      " |          (see note above; default: `True`).\n",
      " |      \n",
      " |      Returns\n",
      " |      -------\n",
      " |      coord : `SkyCoord`\n",
      " |          A new object with this coordinate represented in the `frame` frame.\n",
      " |      \n",
      " |      Raises\n",
      " |      ------\n",
      " |      ValueError\n",
      " |          If there is no possible transformation route.\n",
      " |  \n",
      " |  ----------------------------------------------------------------------\n",
      " |  Class methods defined here:\n",
      " |  \n",
      " |  from_name(name, frame='icrs', parse=False, cache=True) from abc.ABCMeta\n",
      " |      Given a name, query the CDS name resolver to attempt to retrieve\n",
      " |      coordinate information for that object. The search database, sesame\n",
      " |      url, and  query timeout can be set through configuration items in\n",
      " |      ``astropy.coordinates.name_resolve`` -- see docstring for\n",
      " |      `~astropy.coordinates.get_icrs_coordinates` for more\n",
      " |      information.\n",
      " |      \n",
      " |      Parameters\n",
      " |      ----------\n",
      " |      name : str\n",
      " |          The name of the object to get coordinates for, e.g. ``'M42'``.\n",
      " |      frame : str or `BaseCoordinateFrame` class or instance\n",
      " |          The frame to transform the object to.\n",
      " |      parse : bool\n",
      " |          Whether to attempt extracting the coordinates from the name by\n",
      " |          parsing with a regex. For objects catalog names that have\n",
      " |          J-coordinates embedded in their names, e.g.,\n",
      " |          'CRTS SSS100805 J194428-420209', this may be much faster than a\n",
      " |          Sesame query for the same object name. The coordinates extracted\n",
      " |          in this way may differ from the database coordinates by a few\n",
      " |          deci-arcseconds, so only use this option if you do not need\n",
      " |          sub-arcsecond accuracy for coordinates.\n",
      " |      cache : bool, optional\n",
      " |          Determines whether to cache the results or not. To update or\n",
      " |          overwrite an existing value, pass ``cache='update'``.\n",
      " |      \n",
      " |      Returns\n",
      " |      -------\n",
      " |      coord : SkyCoord\n",
      " |          Instance of the SkyCoord class.\n",
      " |  \n",
      " |  from_pixel(xp, yp, wcs, origin=0, mode='all') from abc.ABCMeta\n",
      " |      Create a new `SkyCoord` from pixel coordinates using an\n",
      " |      `~astropy.wcs.WCS` object.\n",
      " |      \n",
      " |      Parameters\n",
      " |      ----------\n",
      " |      xp, yp : float or ndarray\n",
      " |          The coordinates to convert.\n",
      " |      wcs : `~astropy.wcs.WCS`\n",
      " |          The WCS to use for convert\n",
      " |      origin : int\n",
      " |          Whether to return 0 or 1-based pixel coordinates.\n",
      " |      mode : 'all' or 'wcs'\n",
      " |          Whether to do the transformation including distortions (``'all'``) or\n",
      " |          only including only the core WCS transformation (``'wcs'``).\n",
      " |      \n",
      " |      Returns\n",
      " |      -------\n",
      " |      coord : `~astropy.coordinates.SkyCoord`\n",
      " |          A new object with sky coordinates corresponding to the input ``xp``\n",
      " |          and ``yp``.\n",
      " |      \n",
      " |      See Also\n",
      " |      --------\n",
      " |      to_pixel : to do the inverse operation\n",
      " |      astropy.wcs.utils.pixel_to_skycoord : the implementation of this method\n",
      " |  \n",
      " |  guess_from_table(table, **coord_kwargs) from abc.ABCMeta\n",
      " |      A convenience method to create and return a new `SkyCoord` from the data\n",
      " |      in an astropy Table.\n",
      " |      \n",
      " |      This method matches table columns that start with the case-insensitive\n",
      " |      names of the the components of the requested frames (including\n",
      " |      differentials), if they are also followed by a non-alphanumeric\n",
      " |      character. It will also match columns that *end* with the component name\n",
      " |      if a non-alphanumeric character is *before* it.\n",
      " |      \n",
      " |      For example, the first rule means columns with names like\n",
      " |      ``'RA[J2000]'`` or ``'ra'`` will be interpreted as ``ra`` attributes for\n",
      " |      `~astropy.coordinates.ICRS` frames, but ``'RAJ2000'`` or ``'radius'``\n",
      " |      are *not*. Similarly, the second rule applied to the\n",
      " |      `~astropy.coordinates.Galactic` frame means that a column named\n",
      " |      ``'gal_l'`` will be used as the the ``l`` component, but ``gall`` or\n",
      " |      ``'fill'`` will not.\n",
      " |      \n",
      " |      The definition of alphanumeric here is based on Unicode's definition\n",
      " |      of alphanumeric, except without ``_`` (which is normally considered\n",
      " |      alphanumeric).  So for ASCII, this means the non-alphanumeric characters\n",
      " |      are ``<space>_!\"#$%&'()*+,-./\\:;<=>?@[]^`{|}~``).\n",
      " |      \n",
      " |      Parameters\n",
      " |      ----------\n",
      " |      table : `~astropy.table.Table` or subclass\n",
      " |          The table to load data from.\n",
      " |      **coord_kwargs\n",
      " |          Any additional keyword arguments are passed directly to this class's\n",
      " |          constructor.\n",
      " |      \n",
      " |      Returns\n",
      " |      -------\n",
      " |      newsc : `~astropy.coordinates.SkyCoord` or subclass\n",
      " |          The new `SkyCoord` (or subclass) object.\n",
      " |      \n",
      " |      Raises\n",
      " |      ------\n",
      " |      ValueError\n",
      " |          If more than one match is found in the table for a component,\n",
      " |          unless the additional matches are also valid frame component names.\n",
      " |          If a \"coord_kwargs\" is provided for a value also found in the table.\n",
      " |  \n",
      " |  ----------------------------------------------------------------------\n",
      " |  Readonly properties defined here:\n",
      " |  \n",
      " |  frame\n",
      " |  \n",
      " |  shape\n",
      " |      The shape of the underlying data.\n",
      " |  \n",
      " |  ----------------------------------------------------------------------\n",
      " |  Data descriptors defined here:\n",
      " |  \n",
      " |  info\n",
      " |  \n",
      " |  representation\n",
      " |  \n",
      " |  representation_type\n",
      " |  \n",
      " |  ----------------------------------------------------------------------\n",
      " |  Data and other attributes defined here:\n",
      " |  \n",
      " |  __abstractmethods__ = frozenset()\n",
      " |  \n",
      " |  __hash__ = None\n",
      " |  \n",
      " |  ----------------------------------------------------------------------\n",
      " |  Methods inherited from astropy.utils.shapes.ShapedLikeNDArray:\n",
      " |  \n",
      " |  __array_function__(self, function, types, args, kwargs)\n",
      " |      Wrap numpy functions that make sense.\n",
      " |  \n",
      " |  __bool__(self)\n",
      " |      Any instance should evaluate to True, except when it is empty.\n",
      " |  \n",
      " |  __getitem__(self, item)\n",
      " |  \n",
      " |  __iter__(self)\n",
      " |  \n",
      " |  __len__(self)\n",
      " |  \n",
      " |  ----------------------------------------------------------------------\n",
      " |  Readonly properties inherited from astropy.utils.shapes.ShapedLikeNDArray:\n",
      " |  \n",
      " |  isscalar\n",
      " |  \n",
      " |  ndim\n",
      " |      The number of dimensions of the instance and underlying arrays.\n",
      " |  \n",
      " |  size\n",
      " |      The size of the object, as calculated from its shape.\n",
      " |  \n",
      " |  ----------------------------------------------------------------------\n",
      " |  Methods inherited from astropy.utils.shapes.NDArrayShapeMethods:\n",
      " |  \n",
      " |  copy(self, *args, **kwargs)\n",
      " |      Return an instance containing copies of the internal data.\n",
      " |      \n",
      " |      Parameters are as for :meth:`~numpy.ndarray.copy`.\n",
      " |  \n",
      " |  diagonal(self, *args, **kwargs)\n",
      " |      Return an instance with the specified diagonals.\n",
      " |      \n",
      " |      Parameters are as for :meth:`~numpy.ndarray.diagonal`.  All internal\n",
      " |      data are views of the data of the original.\n",
      " |  \n",
      " |  flatten(self, *args, **kwargs)\n",
      " |      Return a copy with the array collapsed into one dimension.\n",
      " |      \n",
      " |      Parameters are as for :meth:`~numpy.ndarray.flatten`.\n",
      " |  \n",
      " |  ravel(self, *args, **kwargs)\n",
      " |      Return an instance with the array collapsed into one dimension.\n",
      " |      \n",
      " |      Parameters are as for :meth:`~numpy.ndarray.ravel`. Note that it is\n",
      " |      not always possible to unravel an array without copying the data.\n",
      " |      If you want an error to be raise if the data is copied, you should\n",
      " |      should assign shape ``(-1,)`` to the shape attribute.\n",
      " |  \n",
      " |  reshape(self, *args, **kwargs)\n",
      " |      Returns an instance containing the same data with a new shape.\n",
      " |      \n",
      " |      Parameters are as for :meth:`~numpy.ndarray.reshape`.  Note that it is\n",
      " |      not always possible to change the shape of an array without copying the\n",
      " |      data (see :func:`~numpy.reshape` documentation). If you want an error\n",
      " |      to be raise if the data is copied, you should assign the new shape to\n",
      " |      the shape attribute (note: this may not be implemented for all classes\n",
      " |      using ``NDArrayShapeMethods``).\n",
      " |  \n",
      " |  squeeze(self, *args, **kwargs)\n",
      " |      Return an instance with single-dimensional shape entries removed\n",
      " |      \n",
      " |      Parameters are as for :meth:`~numpy.ndarray.squeeze`.  All internal\n",
      " |      data are views of the data of the original.\n",
      " |  \n",
      " |  swapaxes(self, *args, **kwargs)\n",
      " |      Return an instance with the given axes interchanged.\n",
      " |      \n",
      " |      Parameters are as for :meth:`~numpy.ndarray.swapaxes`:\n",
      " |      ``axis1, axis2``.  All internal data are views of the data of the\n",
      " |      original.\n",
      " |  \n",
      " |  take(self, indices, axis=None, out=None, mode='raise')\n",
      " |      Return a new instance formed from the elements at the given indices.\n",
      " |      \n",
      " |      Parameters are as for :meth:`~numpy.ndarray.take`, except that,\n",
      " |      obviously, no output array can be given.\n",
      " |  \n",
      " |  transpose(self, *args, **kwargs)\n",
      " |      Return an instance with the data transposed.\n",
      " |      \n",
      " |      Parameters are as for :meth:`~numpy.ndarray.transpose`.  All internal\n",
      " |      data are views of the data of the original.\n",
      " |  \n",
      " |  ----------------------------------------------------------------------\n",
      " |  Readonly properties inherited from astropy.utils.shapes.NDArrayShapeMethods:\n",
      " |  \n",
      " |  T\n",
      " |      Return an instance with the data transposed.\n",
      " |      \n",
      " |      Parameters are as for :attr:`~numpy.ndarray.T`.  All internal\n",
      " |      data are views of the data of the original.\n",
      " |  \n",
      " |  ----------------------------------------------------------------------\n",
      " |  Data descriptors inherited from astropy.utils.shapes.NDArrayShapeMethods:\n",
      " |  \n",
      " |  __dict__\n",
      " |      dictionary for instance variables (if defined)\n",
      " |  \n",
      " |  __weakref__\n",
      " |      list of weak references to the object (if defined)\n",
      "\n"
     ]
    }
   ],
   "source": [
    "help(SkyCoord)"
   ]
  },
  {
   "cell_type": "code",
   "execution_count": 11,
   "id": "9e294533",
   "metadata": {},
   "outputs": [],
   "source": [
    "frame  = \"icrs\" # International Celestial Reference System (ICRS)\n",
    "unit   = \"deg\"  # Degrees units"
   ]
  },
  {
   "cell_type": "code",
   "execution_count": 12,
   "id": "c6834e14",
   "metadata": {},
   "outputs": [],
   "source": [
    "src_pos = SkyCoord(src_rajd, src_decjd, unit=unit, frame=frame) # Source Position"
   ]
  },
  {
   "cell_type": "code",
   "execution_count": 13,
   "id": "4445a089",
   "metadata": {},
   "outputs": [
    {
     "data": {
      "text/plain": [
       "<SkyCoord (ICRS): (ra, dec) in deg\n",
       "    (276.554896, -13.57967)>"
      ]
     },
     "execution_count": 13,
     "metadata": {},
     "output_type": "execute_result"
    }
   ],
   "source": [
    "src_pos"
   ]
  },
  {
   "cell_type": "markdown",
   "id": "e991ac82",
   "metadata": {},
   "source": [
    "Define the observation parameters (typically the observation duration and the pointing position):\n"
   ]
  },
  {
   "cell_type": "code",
   "execution_count": 14,
   "id": "2d8151b9",
   "metadata": {},
   "outputs": [],
   "source": [
    "livetime = 1 * u.h # Livetime exposure of the simulated observation\n",
    "\n",
    "offset = 0.4 * u.deg # Pointing position  offset\n",
    "pointing = SkyCoord(src_pos.ra, src_pos.dec + offset, unit=unit, frame=frame)\n",
    "# print(pointing)"
   ]
  },
  {
   "cell_type": "markdown",
   "id": "91751de7",
   "metadata": {},
   "source": [
    "Load the IRFs:"
   ]
  },
  {
   "cell_type": "code",
   "execution_count": 15,
   "id": "b9fe17ab",
   "metadata": {},
   "outputs": [
    {
     "name": "stderr",
     "output_type": "stream",
     "text": [
      "WARNING: UnitsWarning: '1/(MeV s sr)' did not parse as fits unit: Numeric factor not supported by FITS If this is meant to be a custom unit, define it with 'u.def_unit'. To have it recognized inside a file reader or other code, enable it with 'u.add_enabled_units'. For details, see https://docs.astropy.org/en/latest/units/combining_and_defining.html [astropy.units.core]\n",
      "Invalid unit found in background table! Assuming (s-1 MeV-1 sr-1)\n"
     ]
    }
   ],
   "source": [
    "# In this simulation, we use the CTA-1DC irfs shipped with gammapy\n",
    "base_name = '/home/gamma/Documents/GitHub/gammapy/gammapy-notebooks/0.20.1/tutorials/data/caldb/data/cta/prod3b-v2/bcf'\n",
    "irfs = load_cta_irfs(base_name + '/North_z20_N_50h/irf_file.fits')"
   ]
  },
  {
   "cell_type": "code",
   "execution_count": 16,
   "id": "c93ca6e8",
   "metadata": {},
   "outputs": [
    {
     "data": {
      "text/plain": [
       "<AxesSubplot: xlabel='True Energy [TeV]', ylabel='Effective Area [m2]'>"
      ]
     },
     "execution_count": 16,
     "metadata": {},
     "output_type": "execute_result"
    },
    {
     "data": {
      "image/png": "[encoded data removed]",
      "text/plain": [
       "<Figure size 640x480 with 1 Axes>"
      ]
     },
     "metadata": {},
     "output_type": "display_data"
    }
   ],
   "source": [
    "irfs[\"aeff\"].plot_energy_dependence()"
   ]
  },
  {
   "cell_type": "markdown",
   "id": "1ba185c7",
   "metadata": {},
   "source": [
    "Creates a observation:"
   ]
  },
  {
   "cell_type": "code",
   "execution_count": 17,
   "id": "917a0959",
   "metadata": {},
   "outputs": [],
   "source": [
    "# help(Observation)"
   ]
  },
  {
   "cell_type": "code",
   "execution_count": 18,
   "id": "ae83bd1a",
   "metadata": {},
   "outputs": [
    {
     "name": "stdout",
     "output_type": "stream",
     "text": [
      "Observation\n",
      "\n",
      "\tobs id            : 0 \n",
      " \ttstart            : 51544.00\n",
      "\ttstop             : 51544.04\n",
      "\tduration          : 3600.00 s\n",
      "\tpointing (icrs)   : 276.6 deg, -13.2 deg\n",
      "\n",
      "\tdeadtime fraction : 0.0%\n",
      "\n"
     ]
    }
   ],
   "source": [
    "location = observatory_locations[\"cta_north\"]\n",
    "obs = Observation.create(\n",
    "    pointing=pointing,\n",
    "    livetime=livetime,\n",
    "    irfs=irfs,\n",
    "    location=location,\n",
    ")\n",
    "print(obs)"
   ]
  },
  {
   "cell_type": "code",
   "execution_count": 19,
   "id": "5152f214",
   "metadata": {},
   "outputs": [],
   "source": [
    "# help(obs)"
   ]
  },
  {
   "cell_type": "markdown",
   "id": "4ce16ebf",
   "metadata": {},
   "source": [
    "___"
   ]
  },
  {
   "cell_type": "markdown",
   "id": "74e31167",
   "metadata": {},
   "source": [
    "🔝 [Back to Top](#intro)<br>"
   ]
  },
  {
   "cell_type": "markdown",
   "id": "fc40f6bf",
   "metadata": {},
   "source": [
    "<a id='step3'></a>\n",
    "## Step 3.0:  Defining the Skymodel\n",
    "Define spectral model:"
   ]
  },
  {
   "cell_type": "code",
   "execution_count": 20,
   "id": "0728d768",
   "metadata": {},
   "outputs": [],
   "source": [
    "# A simple Power Law\n",
    "# index=2.24\n",
    "# amplitude=6.47e-13 * u.Unit(\"cm-2 s-1 TeV-1\")\n",
    "# reference=0.1 * u.TeV\n",
    "    \n",
    "# model = PowerLawSpectralModel(\n",
    "#     index=index,\n",
    "#     amplitude=amplitude,\n",
    "#     reference=reference,\n",
    "# )\n",
    "# # print(pwl)"
   ]
  },
  {
   "cell_type": "code",
   "execution_count": 21,
   "id": "8d48b442",
   "metadata": {},
   "outputs": [],
   "source": [
    "from gammapy.modeling.models import LogParabolaSpectralModel, Models, SkyModel\n",
    "\n",
    "energy_bounds = [0.1, 100] * u.TeV\n",
    "model = LogParabolaSpectralModel(\n",
    "    alpha=2.3,\n",
    "    amplitude=\"1e-12 cm-2 s-1 TeV-1\",\n",
    "    reference=1 * u.TeV,\n",
    "    beta=0.5,\n",
    ")\n",
    "# model.plot(energy_bounds)\n",
    "# plt.grid(which=\"both\")"
   ]
  },
  {
   "cell_type": "code",
   "execution_count": 22,
   "id": "c2d4d340",
   "metadata": {},
   "outputs": [
    {
     "name": "stdout",
     "output_type": "stream",
     "text": [
      "LogParabolaSpectralModel\n",
      "\n",
      "  type      name     value         unit      ... max frozen is_norm link\n",
      "-------- --------- ---------- -------------- ... --- ------ ------- ----\n",
      "spectral amplitude 1.0000e-12 cm-2 s-1 TeV-1 ... nan  False    True     \n",
      "spectral reference 1.0000e+00            TeV ... nan   True   False     \n",
      "spectral     alpha 2.3000e+00                ... nan  False   False     \n",
      "spectral      beta 5.0000e-01                ... nan  False   False     \n"
     ]
    }
   ],
   "source": [
    "print(model)"
   ]
  },
  {
   "cell_type": "markdown",
   "id": "44d70888",
   "metadata": {},
   "source": [
    "Define absorption model:"
   ]
  },
  {
   "cell_type": "code",
   "execution_count": null,
   "id": "07a1997f",
   "metadata": {},
   "outputs": [],
   "source": []
  },
  {
   "cell_type": "code",
   "execution_count": 23,
   "id": "f04f4df6",
   "metadata": {
    "scrolled": true
   },
   "outputs": [
    {
     "name": "stdout",
     "output_type": "stream",
     "text": [
      "EBLAbsorptionNormSpectralModel\n",
      "\n",
      "  type      name      value    unit   error   min max frozen is_norm link\n",
      "-------- ---------- ---------- ---- --------- --- --- ------ ------- ----\n",
      "spectral alpha_norm 1.0000e+00      0.000e+00 nan nan   True   False     \n",
      "spectral   redshift 8.4679e-07      0.000e+00 nan nan   True   False     \n"
     ]
    }
   ],
   "source": [
    "ebl_models = ['franceschini', 'dominguez', 'finke'] # Available models in gammapy-data:{'franceschini', 'dominguez', 'finke'}\n",
    "\n",
    "ebl_ref = ebl_models[1] # dominguez\n",
    "\n",
    "import astropy.cosmology.units as cu\n",
    "# cosmo.age([0.5, 1, 1.5] * cu.redshift)  \n",
    "\n",
    "absorption = EBLAbsorptionNormSpectralModel.read_builtin(\n",
    "    reference = ebl_ref, \n",
    "    redshift=src_red\n",
    ")\n",
    "print(absorption)"
   ]
  },
  {
   "cell_type": "code",
   "execution_count": null,
   "id": "7e6af6fd",
   "metadata": {},
   "outputs": [],
   "source": [
    "\n"
   ]
  },
  {
   "cell_type": "markdown",
   "id": "5dc48eb3",
   "metadata": {},
   "source": [
    "The compound spectral model:"
   ]
  },
  {
   "cell_type": "code",
   "execution_count": 24,
   "id": "4758a3f5",
   "metadata": {
    "scrolled": true
   },
   "outputs": [
    {
     "name": "stdout",
     "output_type": "stream",
     "text": [
      "CompoundSpectralModel\n",
      "    Component 1 : LogParabolaSpectralModel\n",
      "\n",
      "  type      name     value         unit      ... max frozen is_norm link\n",
      "-------- --------- ---------- -------------- ... --- ------ ------- ----\n",
      "spectral amplitude 1.0000e-12 cm-2 s-1 TeV-1 ... nan  False    True     \n",
      "spectral reference 1.0000e+00            TeV ... nan   True   False     \n",
      "spectral     alpha 2.3000e+00                ... nan  False   False     \n",
      "spectral      beta 5.0000e-01                ... nan  False   False     \n",
      "    Component 2 : EBLAbsorptionNormSpectralModel\n",
      "\n",
      "  type      name      value    unit   error   min max frozen is_norm link\n",
      "-------- ---------- ---------- ---- --------- --- --- ------ ------- ----\n",
      "spectral alpha_norm 1.0000e+00      0.000e+00 nan nan   True   False     \n",
      "spectral   redshift 8.4679e-07      0.000e+00 nan nan   True   False     \n",
      "    Operator : mul\n",
      "\n"
     ]
    }
   ],
   "source": [
    "absspecmodel = model * absorption # CompoundSpectralModel\n",
    "print(absspecmodel)"
   ]
  },
  {
   "cell_type": "markdown",
   "id": "3d21f4b0",
   "metadata": {},
   "source": [
    "Setting the sky model used in the dataset:"
   ]
  },
  {
   "cell_type": "code",
   "execution_count": 25,
   "id": "81ef12a6",
   "metadata": {},
   "outputs": [
    {
     "name": "stdout",
     "output_type": "stream",
     "text": [
      "SkyModel\n",
      "\n",
      "  Name                      : model_simu\n",
      "  Datasets names            : None\n",
      "  Spectral model type       : CompoundSpectralModel\n",
      "  Spatial  model type       : \n",
      "  Temporal model type       : \n",
      "  Parameters:\n",
      "    amplitude                     :   1.00e-12   +/- 0.0e+00 1 / (cm2 s TeV)\n",
      "    reference             (frozen):      1.000       TeV         \n",
      "    alpha                         :      2.300   +/-    0.00             \n",
      "    beta                          :      0.500   +/-    0.00             \n",
      "    alpha_norm            (frozen):      1.000                   \n",
      "    redshift              (frozen):      0.000                   \n",
      "\n",
      "\n"
     ]
    }
   ],
   "source": [
    "skymodel = SkyModel(\n",
    "#     spectral_model=model, \n",
    "  \n",
    "    spectral_model=absspecmodel, \n",
    "    name=\"model_simu\"\n",
    ")\n",
    "print(skymodel)"
   ]
  },
  {
   "cell_type": "markdown",
   "id": "644e3b64",
   "metadata": {},
   "source": [
    "___"
   ]
  },
  {
   "cell_type": "markdown",
   "id": "c2986b6a",
   "metadata": {},
   "source": [
    "🔝 [Back to Top](#intro)<br>"
   ]
  },
  {
   "cell_type": "markdown",
   "id": "38344d22",
   "metadata": {},
   "source": [
    "<a id='step4'></a>\n",
    "## Step 4.0:  Simulating the Spectrum\n",
    "<a id='step4.1'></a>\n",
    "### Step 4.1: Defines the geometry"
   ]
  },
  {
   "cell_type": "code",
   "execution_count": 26,
   "id": "465303cf",
   "metadata": {},
   "outputs": [],
   "source": [
    "# Defines the energy range\n",
    "emin = 0.1 * u.TeV   # Minimum energy\n",
    "emax = 100. * u.TeV # Maximum energy"
   ]
  },
  {
   "cell_type": "code",
   "execution_count": 27,
   "id": "2d570029",
   "metadata": {},
   "outputs": [],
   "source": [
    "# Reconstructed energy axis\n",
    "energy_reco = MapAxis.from_energy_bounds(\n",
    "    emin, \n",
    "    emax, \n",
    "    nbin=5, \n",
    "    per_decade=True, \n",
    "    name=\"energy\"\n",
    ")\n",
    "# print(energy_reco)"
   ]
  },
  {
   "cell_type": "code",
   "execution_count": 28,
   "id": "8f4df87d",
   "metadata": {},
   "outputs": [
    {
     "name": "stdout",
     "output_type": "stream",
     "text": [
      "Region: CircleSkyRegion\n",
      "center: <SkyCoord (ICRS): (ra, dec) in deg\n",
      "    (276.554896, -13.57967)>\n",
      "radius: 0.2 deg\n"
     ]
    }
   ],
   "source": [
    "# Defines the on region:\n",
    "# on_region_radius = Angle(\"0.11 deg\")\n",
    "on_region_radius = Angle(\"0.2 deg\")\n",
    "\n",
    "on_region = CircleSkyRegion(\n",
    "    center=src_pos, \n",
    "    radius=on_region_radius\n",
    ")\n",
    "print(on_region)"
   ]
  },
  {
   "cell_type": "code",
   "execution_count": 29,
   "id": "11618e5c",
   "metadata": {},
   "outputs": [],
   "source": [
    "#Defines the geometry:\n",
    "geom = RegionGeom.create(\n",
    "    region=on_region, \n",
    "    axes=[energy_reco]\n",
    ")"
   ]
  },
  {
   "cell_type": "markdown",
   "id": "aacadc10",
   "metadata": {},
   "source": [
    "<a id='step4.2'></a>\n",
    "### Step 4.2: Setting the Model on the Dataset"
   ]
  },
  {
   "cell_type": "code",
   "execution_count": 30,
   "id": "53aabe70",
   "metadata": {},
   "outputs": [],
   "source": [
    "# Defines the true energy axis:\n",
    "# true energy axis should be wider than reco energy axis\n",
    "energy_true = MapAxis.from_energy_bounds(\n",
    "    0.3*emin, \n",
    "    3*emax, \n",
    "    nbin=8, \n",
    "    per_decade=True, \n",
    "    name=\"energy_true\"\n",
    ")\n",
    "# print(energy_true)"
   ]
  },
  {
   "cell_type": "code",
   "execution_count": 31,
   "id": "d54d2ed2",
   "metadata": {},
   "outputs": [],
   "source": [
    "# Create a MapDataset object with zero filled maps.\n",
    "dataset_empty = SpectrumDataset.create(\n",
    "    geom=geom, \n",
    "    energy_axis_true=energy_true,\n",
    "    name=\"obs-0\"\n",
    ")"
   ]
  },
  {
   "cell_type": "code",
   "execution_count": 32,
   "id": "d59c8e31",
   "metadata": {},
   "outputs": [],
   "source": [
    "# Make spectrum for a single IACT observation:\n",
    "# The irfs and background are computed at a single fixed offset, which is recommended only for point-sources.\n",
    "maker = SpectrumDatasetMaker(\n",
    "#     containment_correction=True, # Apply containment correction for point sources and circular on regions.\n",
    "    selection=[\"edisp\", \"background\", \"exposure\"], # Selecting which maps to make\n",
    "    use_region_center=False\n",
    ")\n",
    "safe_maker = SafeMaskMaker(methods=[\"bkg-peak\"], aeff_percent=10) # Make safe data range mask for a given observation."
   ]
  },
  {
   "cell_type": "code",
   "execution_count": 33,
   "id": "155f7dcb",
   "metadata": {},
   "outputs": [],
   "source": [
    "# help(SpectrumDatasetMaker)"
   ]
  },
  {
   "cell_type": "code",
   "execution_count": 34,
   "id": "dc9b92e8",
   "metadata": {},
   "outputs": [],
   "source": [
    "# Make map dataset:\n",
    "dataset = maker.run(dataset_empty, obs) \n",
    "dataset = safe_maker.run(dataset, obs)"
   ]
  },
  {
   "cell_type": "code",
   "execution_count": 35,
   "id": "15fa2605",
   "metadata": {},
   "outputs": [
    {
     "name": "stdout",
     "output_type": "stream",
     "text": [
      "SpectrumDataset\n",
      "---------------\n",
      "\n",
      "  Name                            : obs-0 \n",
      "\n",
      "  Total counts                    : 427 \n",
      "  Total background counts         : 370.54\n",
      "  Total excess counts             : 56.46\n",
      "\n",
      "  Predicted counts                : 432.87\n",
      "  Predicted background counts     : 370.54\n",
      "  Predicted excess counts         : 62.34\n",
      "\n",
      "  Exposure min                    : 8.10e+07 m2 s\n",
      "  Exposure max                    : 5.34e+09 m2 s\n",
      "\n",
      "  Number of total bins            : 15 \n",
      "  Number of fit bins              : 15 \n",
      "\n",
      "  Fit statistic type              : cash\n",
      "  Fit statistic value (-2 log(L)) : -3036.02\n",
      "\n",
      "  Number of models                : 1 \n",
      "  Number of parameters            : 6\n",
      "  Number of free parameters       : 3\n",
      "\n",
      "  Component 0: SkyModel\n",
      "  \n",
      "    Name                      : model_simu\n",
      "    Datasets names            : None\n",
      "    Spectral model type       : CompoundSpectralModel\n",
      "    Spatial  model type       : \n",
      "    Temporal model type       : \n",
      "    Parameters:\n",
      "      amplitude                     :   1.00e-12   +/- 0.0e+00 1 / (cm2 s TeV)\n",
      "      reference             (frozen):      1.000       TeV         \n",
      "      alpha                         :      2.300   +/-    0.00             \n",
      "      beta                          :      0.500   +/-    0.00             \n",
      "      alpha_norm            (frozen):      1.000                   \n",
      "      redshift              (frozen):      0.000                   \n",
      "  \n",
      "  \n"
     ]
    }
   ],
   "source": [
    "# Set the model on the dataset, and fake\n",
    "dataset.models = skymodel\n",
    "dataset.fake(random_state=42)\n",
    "print(dataset)"
   ]
  },
  {
   "cell_type": "markdown",
   "id": "a16aaedc",
   "metadata": {},
   "source": [
    "You can see that background counts are now simulated."
   ]
  },
  {
   "cell_type": "markdown",
   "id": "f5833551",
   "metadata": {},
   "source": [
    "___"
   ]
  },
  {
   "cell_type": "markdown",
   "id": "3091a851",
   "metadata": {},
   "source": [
    "🔝 [Back to Top](#intro)<br>"
   ]
  },
  {
   "cell_type": "markdown",
   "id": "e9184705",
   "metadata": {},
   "source": [
    "<a id='step5'></a>\n",
    "### Step 5.0: On-Off Analysis\n",
    "\n",
    "To do an on off spectral analysis, which is the usual science case, the\n",
    "standard would be to use `SpectrumDatasetOnOff`, which uses the\n",
    "acceptance to fake off-counts"
   ]
  },
  {
   "cell_type": "markdown",
   "id": "bc2e9496",
   "metadata": {},
   "source": [
    "<a id='step5.1'></a>\n",
    "### Step 5.1: Simulating the Observations"
   ]
  },
  {
   "cell_type": "code",
   "execution_count": 36,
   "id": "cec597d4",
   "metadata": {},
   "outputs": [
    {
     "name": "stdout",
     "output_type": "stream",
     "text": [
      "SpectrumDatasetOnOff\n",
      "--------------------\n",
      "\n",
      "  Name                            : TiWMlhk0 \n",
      "\n",
      "  Total counts                    : 466 \n",
      "  Total background counts         : 369.80\n",
      "  Total excess counts             : 96.20\n",
      "\n",
      "  Predicted counts                : 436.87\n",
      "  Predicted background counts     : 374.54\n",
      "  Predicted excess counts         : 62.34\n",
      "\n",
      "  Exposure min                    : 8.10e+07 m2 s\n",
      "  Exposure max                    : 5.34e+09 m2 s\n",
      "\n",
      "  Number of total bins            : 15 \n",
      "  Number of fit bins              : 15 \n",
      "\n",
      "  Fit statistic type              : wstat\n",
      "  Fit statistic value (-2 log(L)) : 7.36\n",
      "\n",
      "  Number of models                : 1 \n",
      "  Number of parameters            : 6\n",
      "  Number of free parameters       : 3\n",
      "\n",
      "  Component 0: SkyModel\n",
      "  \n",
      "    Name                      : model_simu\n",
      "    Datasets names            : None\n",
      "    Spectral model type       : CompoundSpectralModel\n",
      "    Spatial  model type       : \n",
      "    Temporal model type       : \n",
      "    Parameters:\n",
      "      amplitude                     :   1.00e-12   +/- 0.0e+00 1 / (cm2 s TeV)\n",
      "      reference             (frozen):      1.000       TeV         \n",
      "      alpha                         :      2.300   +/-    0.00             \n",
      "      beta                          :      0.500   +/-    0.00             \n",
      "      alpha_norm            (frozen):      1.000                   \n",
      "      redshift              (frozen):      0.000                   \n",
      "  \n",
      "    Total counts_off                : 1849 \n",
      "  Acceptance                      : 15 \n",
      "  Acceptance off                  : 75 \n",
      "\n"
     ]
    }
   ],
   "source": [
    "# Spectrum dataset for on-off likelihood fitting.\n",
    "dataset_onoff = SpectrumDatasetOnOff.from_spectrum_dataset(\n",
    "    dataset=dataset, \n",
    "    acceptance=1, \n",
    "    acceptance_off=5\n",
    ")\n",
    "\n",
    "# Simulate fake counts (on and off) for the current model and reduced IRFs.\n",
    "dataset_onoff.fake(\n",
    "    random_state='random-seed', \n",
    "    npred_background=dataset.npred_background()\n",
    ")\n",
    "\n",
    "print(dataset_onoff)"
   ]
  },
  {
   "cell_type": "code",
   "execution_count": 37,
   "id": "68a76332",
   "metadata": {},
   "outputs": [
    {
     "name": "stdout",
     "output_type": "stream",
     "text": [
      "[[4.35754679]]\n"
     ]
    }
   ],
   "source": [
    "# Class to compute statistics for Poisson distributed variable with unknown background.\n",
    "significance = WStatCountsStatistic(\n",
    "    n_on=sum(dataset_onoff.counts.data), \n",
    "    n_off=sum(dataset_onoff.counts_off.data), \n",
    "    alpha=0.2).sqrt_ts\n",
    "print(significance)"
   ]
  },
  {
   "cell_type": "code",
   "execution_count": 38,
   "id": "2c521f88",
   "metadata": {},
   "outputs": [],
   "source": [
    "n_obs = 10 # We simulate each observation n_obs times, to randomize the renortets"
   ]
  },
  {
   "cell_type": "code",
   "execution_count": 39,
   "id": "c9fb961f",
   "metadata": {},
   "outputs": [
    {
     "name": "stdout",
     "output_type": "stream",
     "text": [
      " name counts       excess      ...   acceptance_off         alpha       \n",
      "                               ...                                      \n",
      "----- ------ ----------------- ... ----------------- -------------------\n",
      "obs-0    425   58.199951171875 ... 74.99998474121094 0.20000003278255463\n",
      "obs-1    439 69.19999999999999 ...              75.0                 0.2\n",
      "obs-2    418 50.60000000000002 ...              75.0 0.19999999999999998\n",
      "obs-3    422 50.19999999999999 ...              75.0                 0.2\n",
      "obs-4    481             110.0 ...              75.0                 0.2\n",
      "obs-5    456 90.99999999999994 ... 74.99999999999999 0.20000000000000004\n",
      "obs-6    444 90.59999999999997 ...              75.0                 0.2\n",
      "obs-7    423              44.0 ...              75.0                 0.2\n",
      "obs-8    431 48.00000000000006 ...              75.0 0.19999999999999998\n",
      "obs-9    410 48.00000000000006 ... 75.00000000000001 0.19999999999999996\n"
     ]
    }
   ],
   "source": [
    "datasets = Datasets()\n",
    "\n",
    "for idx in range(n_obs):\n",
    "    dataset_onoff.fake(\n",
    "        random_state=idx, \n",
    "        npred_background=dataset.npred_background()\n",
    "    )\n",
    "    dataset_fake = dataset_onoff.copy(name=f\"obs-{idx}\")\n",
    "    dataset_fake.meta_table[\"OBS_ID\"] = [idx]\n",
    "    datasets.append(dataset_fake)\n",
    "\n",
    "table = datasets.info_table()\n",
    "print(table)"
   ]
  },
  {
   "cell_type": "markdown",
   "id": "ea41dc95",
   "metadata": {},
   "source": [
    "<a id='step5.2'></a>\n",
    "### Step 5.2: Plotting Counts, Excess and Significance"
   ]
  },
  {
   "cell_type": "code",
   "execution_count": 40,
   "id": "8029e147",
   "metadata": {},
   "outputs": [
    {
     "data": {
      "image/png": "[encoded data removed]",
      "text/plain": [
       "<Figure size 1200x400 with 4 Axes>"
      ]
     },
     "metadata": {},
     "output_type": "display_data"
    }
   ],
   "source": [
    "fix, axes = plt.subplots(1, 4, figsize=(12, 4))\n",
    "axes[0].hist(table[\"counts\"])\n",
    "axes[0].set_xlabel(\"Counts\")\n",
    "axes[0].set_ylabel(\"Frequency\");\n",
    "\n",
    "axes[1].hist(table[\"counts_off\"])\n",
    "axes[1].set_xlabel(\"Counts Off\");\n",
    "\n",
    "axes[2].hist(table[\"excess\"])\n",
    "axes[2].set_xlabel(\"excess\");\n",
    "\n",
    "axes[3].hist(table[\"sqrt_ts\"])\n",
    "axes[3].set_xlabel(r\"significance ($\\sigma$)\");\n",
    "\n",
    "path_counts = mkdir_base_child(\"analysis\", \"counts\")\n",
    "\n",
    "plt_savefig(path_counts, \"counts\")"
   ]
  },
  {
   "cell_type": "code",
   "execution_count": null,
   "id": "944585ca",
   "metadata": {},
   "outputs": [],
   "source": []
  },
  {
   "cell_type": "markdown",
   "id": "5714f61c",
   "metadata": {},
   "source": [
    "<a id='step5.3'></a>\n",
    "### Step 5.3: Computing the Sensitivity"
   ]
  },
  {
   "cell_type": "code",
   "execution_count": 41,
   "id": "43c839f9",
   "metadata": {},
   "outputs": [
    {
     "name": "stdout",
     "output_type": "stream",
     "text": [
      " energy      e2dnde     excess background  criterion  \n",
      "  TeV    erg / (cm2 s)                                \n",
      "-------- ------------- ------- ---------- ------------\n",
      "0.125893   4.27965e-12 47.2682        189 significance\n",
      "0.199526    2.9241e-12 34.1159         95 significance\n",
      "0.316228   2.44531e-12 23.8285       43.8 significance\n",
      "0.501187   1.97762e-12 16.9157       20.4 significance\n",
      "0.794328   1.63214e-12 10.6325        6.8 significance\n",
      " 1.25893   1.53077e-12 8.95313        4.4 significance\n",
      " 1.99526   1.50073e-12 5.94707        1.4 significance\n",
      " 3.16228   1.63803e-12       5        0.2        gamma\n",
      " 5.01187   2.28298e-12       5        0.4        gamma\n",
      " 7.94328   3.78979e-12       5        0.2        gamma\n",
      " 12.5893   3.90923e-12       5        0.2        gamma\n",
      " 19.9526   9.55284e-12       5        0.2        gamma\n",
      " 31.6228   1.42202e-11       5          0        gamma\n",
      " 50.1187   2.09359e-11       5          0        gamma\n",
      " 79.4328   3.07318e-11       5          0        gamma\n"
     ]
    },
    {
     "data": {
      "image/png": "[encoded data removed]",
      "text/plain": [
       "<Figure size 500x300 with 1 Axes>"
      ]
     },
     "metadata": {},
     "output_type": "display_data"
    }
   ],
   "source": [
    "import scienceplots\n",
    "\n",
    "plt.style.use(['science', 'notebook', 'grid'])\n",
    "\n",
    "sensitivity_estimator = SensitivityEstimator(\n",
    "    gamma_min=5, \n",
    "    n_sigma=3, \n",
    "    bkg_syst_fraction=0.10\n",
    ")\n",
    "sensitivity_table = sensitivity_estimator.run(dataset_onoff)\n",
    "print(sensitivity_table)\n",
    "\n",
    "# Plot the sensitivity curve\n",
    "t = sensitivity_table\n",
    "\n",
    "fix, axes = plt.subplots(figsize=(5, 3))\n",
    "\n",
    "axes.plot(t[\"energy\"], t[\"e2dnde\"], \"s-\", color=\"red\")\n",
    "axes.loglog()\n",
    "\n",
    "axes.set_xlabel(f\"Energy ({t['energy'].unit})\", size=13)\n",
    "axes.set_ylabel(f\"Sensitivity ({t['e2dnde'].unit})\", size=13)\n",
    "\n",
    "path_sens = mkdir_base_child(\"analysis\", \"sensitivity\")\n",
    "\n",
    "plt.savefig(f'./sensitivity.png', bbox_inches='tight')\n"
   ]
  },
  {
   "cell_type": "code",
   "execution_count": 42,
   "id": "f6225d92",
   "metadata": {},
   "outputs": [],
   "source": [
    "sensitivity_table.write(\n",
    "    \"CTA_sensitivity.csv\",\n",
    "    format = 'ascii.ecsv', \n",
    "    overwrite = True\n",
    ")  "
   ]
  },
  {
   "cell_type": "code",
   "execution_count": 43,
   "id": "276fba1b",
   "metadata": {},
   "outputs": [
    {
     "data": {
      "text/html": [
       "<div><i>Table length=15</i>\n",
       "<table id=\"table140496101041296\" class=\"table-striped table-bordered table-condensed\">\n",
       "<thead><tr><th>energy</th><th>e2dnde</th><th>excess</th><th>background</th><th>criterion</th></tr></thead>\n",
       "<thead><tr><th>TeV</th><th>erg / (cm2 s)</th><th></th><th></th><th></th></tr></thead>\n",
       "<thead><tr><th>float64</th><th>float64</th><th>float64</th><th>float64</th><th>bytes12</th></tr></thead>\n",
       "<tr><td>0.125893</td><td>4.27965e-12</td><td>47.2682</td><td>189</td><td>significance</td></tr>\n",
       "<tr><td>0.199526</td><td>2.9241e-12</td><td>34.1159</td><td>95</td><td>significance</td></tr>\n",
       "<tr><td>0.316228</td><td>2.44531e-12</td><td>23.8285</td><td>43.8</td><td>significance</td></tr>\n",
       "<tr><td>0.501187</td><td>1.97762e-12</td><td>16.9157</td><td>20.4</td><td>significance</td></tr>\n",
       "<tr><td>0.794328</td><td>1.63214e-12</td><td>10.6325</td><td>6.8</td><td>significance</td></tr>\n",
       "<tr><td>1.25893</td><td>1.53077e-12</td><td>8.95313</td><td>4.4</td><td>significance</td></tr>\n",
       "<tr><td>...</td><td>...</td><td>...</td><td>...</td><td>...</td></tr>\n",
       "<tr><td>7.94328</td><td>3.78979e-12</td><td>5</td><td>0.2</td><td>gamma</td></tr>\n",
       "<tr><td>12.5893</td><td>3.90923e-12</td><td>5</td><td>0.2</td><td>gamma</td></tr>\n",
       "<tr><td>19.9526</td><td>9.55284e-12</td><td>5</td><td>0.2</td><td>gamma</td></tr>\n",
       "<tr><td>31.6228</td><td>1.42202e-11</td><td>5</td><td>0</td><td>gamma</td></tr>\n",
       "<tr><td>50.1187</td><td>2.09359e-11</td><td>5</td><td>0</td><td>gamma</td></tr>\n",
       "<tr><td>79.4328</td><td>3.07318e-11</td><td>5</td><td>0</td><td>gamma</td></tr>\n",
       "</table></div>"
      ],
      "text/plain": [
       "<Table length=15>\n",
       " energy      e2dnde     excess background  criterion  \n",
       "  TeV    erg / (cm2 s)                                \n",
       "float64     float64    float64  float64     bytes12   \n",
       "-------- ------------- ------- ---------- ------------\n",
       "0.125893   4.27965e-12 47.2682        189 significance\n",
       "0.199526    2.9241e-12 34.1159         95 significance\n",
       "0.316228   2.44531e-12 23.8285       43.8 significance\n",
       "0.501187   1.97762e-12 16.9157       20.4 significance\n",
       "0.794328   1.63214e-12 10.6325        6.8 significance\n",
       " 1.25893   1.53077e-12 8.95313        4.4 significance\n",
       "     ...           ...     ...        ...          ...\n",
       " 7.94328   3.78979e-12       5        0.2        gamma\n",
       " 12.5893   3.90923e-12       5        0.2        gamma\n",
       " 19.9526   9.55284e-12       5        0.2        gamma\n",
       " 31.6228   1.42202e-11       5          0        gamma\n",
       " 50.1187   2.09359e-11       5          0        gamma\n",
       " 79.4328   3.07318e-11       5          0        gamma"
      ]
     },
     "execution_count": 43,
     "metadata": {},
     "output_type": "execute_result"
    }
   ],
   "source": [
    "t"
   ]
  },
  {
   "cell_type": "code",
   "execution_count": 44,
   "id": "4738dccf",
   "metadata": {},
   "outputs": [],
   "source": [
    "# help(SensitivityEstimator)"
   ]
  },
  {
   "cell_type": "markdown",
   "id": "013ea681",
   "metadata": {},
   "source": [
    "<a id='step5.4'></a>\n",
    "### Step 5.4:  Computing the Flux Points\n",
    "\n",
    "We can now compute some flux points using the `~gammapy.estimators.FluxPointsEstimator`. \n",
    "\n",
    "Besides the list of datasets to use, we must provide it the energy intervals on which to compute flux points as well as the model component name. "
   ]
  },
  {
   "cell_type": "code",
   "execution_count": 45,
   "id": "0b6306e7",
   "metadata": {
    "scrolled": true
   },
   "outputs": [
    {
     "data": {
      "text/html": [
       "<div><i>Table length=12</i>\n",
       "<table id=\"table140496100432576\" class=\"table-striped table-bordered table-condensed\">\n",
       "<thead><tr><th>e_ref</th><th>e_min</th><th>e_max</th><th>e2dnde</th><th>e2dnde_err</th><th>e2dnde_errp</th><th>e2dnde_errn</th><th>e2dnde_ul</th><th>ts</th><th>sqrt_ts</th><th>npred</th><th>npred_excess</th><th>stat</th><th>is_ul</th><th>counts</th><th>success</th><th>norm_scan</th><th>stat_scan</th></tr></thead>\n",
       "<thead><tr><th>TeV</th><th>TeV</th><th>TeV</th><th>TeV / (cm2 s)</th><th>TeV / (cm2 s)</th><th>TeV / (cm2 s)</th><th>TeV / (cm2 s)</th><th>TeV / (cm2 s)</th><th></th><th></th><th></th><th></th><th></th><th></th><th></th><th></th><th></th><th></th></tr></thead>\n",
       "<thead><tr><th>float64</th><th>float64</th><th>float64</th><th>float64</th><th>float64</th><th>float64</th><th>float64</th><th>float64</th><th>float64</th><th>float64</th><th>float64[10]</th><th>float32[10]</th><th>float64</th><th>bool</th><th>float64[10]</th><th>bool</th><th>float64[11]</th><th>float64[11]</th></tr></thead>\n",
       "<tr><td>0.126</td><td>0.100</td><td>0.158</td><td>3.625e-13</td><td>2.559e-13</td><td>2.573e-13</td><td>2.545e-13</td><td>nan</td><td>2.039</td><td>1.428</td><td>199.33911506694895 .. 195.44883037370107</td><td>6.9212527 .. 6.9212527</td><td>10.189</td><td>True</td><td>187.0 .. 193.0</td><td>True</td><td>0.200 .. 5.000</td><td>11.915 .. 12.093</td></tr>\n",
       "<tr><td>0.200</td><td>0.158</td><td>0.251</td><td>3.181e-13</td><td>1.805e-13</td><td>1.819e-13</td><td>1.791e-13</td><td>6.852e-13</td><td>3.203</td><td>1.790</td><td>101.51195753860394 .. 96.80546720529716</td><td>6.0800905 .. 6.0800905</td><td>8.383</td><td>True</td><td>107.0 .. 74.0</td><td>True</td><td>0.200 .. 5.000</td><td>10.237 .. 74.450</td></tr>\n",
       "<tr><td>0.316</td><td>0.251</td><td>0.398</td><td>8.994e-13</td><td>1.725e-13</td><td>1.744e-13</td><td>1.707e-13</td><td>1.252e-12</td><td>30.515</td><td>5.524</td><td>58.962456825048264 .. 57.48191726057273</td><td>13.602821 .. 13.602821</td><td>6.583</td><td>False</td><td>60.0 .. 58.0</td><td>True</td><td>0.200 .. 5.000</td><td>27.495 .. 199.532</td></tr>\n",
       "<tr><td>0.501</td><td>0.398</td><td>0.631</td><td>9.729e-13</td><td>1.437e-13</td><td>1.459e-13</td><td>1.416e-13</td><td>1.269e-12</td><td>57.082</td><td>7.555</td><td>30.509848790258886 .. 33.62232105917677</td><td>13.0537615 .. 13.0537615</td><td>9.947</td><td>False</td><td>31.0 .. 35.0</td><td>True</td><td>0.200 .. 5.000</td><td>42.789 .. 501.358</td></tr>\n",
       "<tr><td>0.794</td><td>0.631</td><td>1.000</td><td>1.091e-12</td><td>1.456e-13</td><td>1.486e-13</td><td>1.427e-13</td><td>1.394e-12</td><td>79.116</td><td>8.895</td><td>19.105648002777922 .. 18.063480929228888</td><td>11.114486 .. 11.114486</td><td>10.938</td><td>False</td><td>19.0 .. 20.0</td><td>True</td><td>0.200 .. 5.000</td><td>55.843 .. 483.677</td></tr>\n",
       "<tr><td>1.259</td><td>1.000</td><td>1.585</td><td>1.054e-12</td><td>1.288e-13</td><td>1.322e-13</td><td>1.255e-13</td><td>1.325e-12</td><td>113.409</td><td>10.649</td><td>13.937964467393684 .. 14.667440599036816</td><td>9.8516 .. 9.8516</td><td>11.786</td><td>False</td><td>12.0 .. 21.0</td><td>True</td><td>0.200 .. 5.000</td><td>79.842 .. 360.716</td></tr>\n",
       "<tr><td>1.995</td><td>1.585</td><td>2.512</td><td>6.588e-13</td><td>1.235e-13</td><td>1.284e-13</td><td>1.187e-13</td><td>9.257e-13</td><td>47.374</td><td>6.883</td><td>5.536337307221059 .. 5.637350964003103</td><td>4.219104 .. 4.219104</td><td>9.984</td><td>False</td><td>8.0 .. 6.0</td><td>True</td><td>0.200 .. 5.000</td><td>39.024 .. 151.876</td></tr>\n",
       "<tr><td>3.162</td><td>2.512</td><td>3.981</td><td>1.950e-13</td><td>7.936e-14</td><td>8.512e-14</td><td>7.403e-14</td><td>3.775e-13</td><td>8.845</td><td>2.974</td><td>1.5569471622911393 .. 1.2821653477825623</td><td>1.0569471 .. 1.0569471</td><td>11.597</td><td>False</td><td>0.0 .. 2.0</td><td>True</td><td>0.200 .. 5.000</td><td>15.820 .. 81.573</td></tr>\n",
       "<tr><td>5.012</td><td>3.981</td><td>6.310</td><td>1.031e-13</td><td>6.961e-14</td><td>8.008e-14</td><td>5.903e-14</td><td>2.843e-13</td><td>3.196</td><td>1.788</td><td>0.9807526773956126 .. 0.7995090712659856</td><td>0.3783884 .. 0.3783884</td><td>6.401</td><td>True</td><td>1.0 .. 1.0</td><td>True</td><td>0.200 .. 5.000</td><td>8.617 .. 17.446</td></tr>\n",
       "<tr><td>7.943</td><td>6.310</td><td>10.000</td><td>7.009e-21</td><td>2.348e-17</td><td>2.568e-14</td><td>nan</td><td>9.729e-14</td><td>-0.000</td><td>0.000</td><td>1.906824350392781e-08 .. 0.1666666857349102</td><td>1.9068244e-08 .. 1.9068244e-08</td><td>3.363</td><td>True</td><td>0.0 .. 0.0</td><td>True</td><td>0.200 .. 5.000</td><td>3.538 .. 8.106</td></tr>\n",
       "<tr><td>12.589</td><td>10.000</td><td>15.849</td><td>5.475e-21</td><td>1.866e-17</td><td>nan</td><td>nan</td><td>nan</td><td>-0.000</td><td>0.000</td><td>0.16666667961588566 .. 0.16666667961588566</td><td>1.2949219e-08 .. 1.2949219e-08</td><td>1.952</td><td>True</td><td>0.0 .. 0.0</td><td>True</td><td>0.200 .. 5.000</td><td>1.985 .. 2.776</td></tr>\n",
       "<tr><td>19.953</td><td>15.849</td><td>25.119</td><td>-1.353e-31</td><td>1.314e-15</td><td>nan</td><td>nan</td><td>nan</td><td>0.000</td><td>-0.000</td><td>0.0 .. 0.16666666666666669</td><td>-1.1369038e-19 .. -1.1369038e-19</td><td>4.313</td><td>True</td><td>0.0 .. 0.0</td><td>True</td><td>0.200 .. 5.000</td><td>4.314 .. 4.333</td></tr>\n",
       "</table></div>"
      ],
      "text/plain": [
       "<Table length=12>\n",
       " e_ref   e_min   e_max  ... success   norm_scan        stat_scan    \n",
       "  TeV     TeV     TeV   ...                                         \n",
       "float64 float64 float64 ...   bool   float64[11]      float64[11]   \n",
       "------- ------- ------- ... ------- -------------- -----------------\n",
       "  0.126   0.100   0.158 ...    True 0.200 .. 5.000  11.915 .. 12.093\n",
       "  0.200   0.158   0.251 ...    True 0.200 .. 5.000  10.237 .. 74.450\n",
       "  0.316   0.251   0.398 ...    True 0.200 .. 5.000 27.495 .. 199.532\n",
       "  0.501   0.398   0.631 ...    True 0.200 .. 5.000 42.789 .. 501.358\n",
       "  0.794   0.631   1.000 ...    True 0.200 .. 5.000 55.843 .. 483.677\n",
       "  1.259   1.000   1.585 ...    True 0.200 .. 5.000 79.842 .. 360.716\n",
       "  1.995   1.585   2.512 ...    True 0.200 .. 5.000 39.024 .. 151.876\n",
       "  3.162   2.512   3.981 ...    True 0.200 .. 5.000  15.820 .. 81.573\n",
       "  5.012   3.981   6.310 ...    True 0.200 .. 5.000   8.617 .. 17.446\n",
       "  7.943   6.310  10.000 ...    True 0.200 .. 5.000    3.538 .. 8.106\n",
       " 12.589  10.000  15.849 ...    True 0.200 .. 5.000    1.985 .. 2.776\n",
       " 19.953  15.849  25.119 ...    True 0.200 .. 5.000    4.314 .. 4.333"
      ]
     },
     "metadata": {},
     "output_type": "display_data"
    }
   ],
   "source": [
    "#Compute flux points\n",
    "datasets.models = [skymodel]\n",
    "\n",
    "fit_joint = Fit()\n",
    "result_joint = fit_joint.run(datasets=datasets)\n",
    "\n",
    "# we make a copy here to compare it later\n",
    "model_best_joint = skymodel.copy()\n",
    "\n",
    "energy_edges = MapAxis.from_energy_bounds(\"0.1 TeV\", \"30 TeV\", nbin=12).edges\n",
    "\n",
    "fpe = FluxPointsEstimator(energy_edges=energy_edges, source=\"model_simu\", selection_optional=\"all\")\n",
    "flux_points = fpe.run(datasets=datasets)\n",
    "\n",
    "display(flux_points.to_table(sed_type=\"e2dnde\", formatted=True))"
   ]
  },
  {
   "cell_type": "code",
   "execution_count": 46,
   "id": "4f158996",
   "metadata": {},
   "outputs": [
    {
     "data": {
      "text/html": [
       "<div><i>Table length=12</i>\n",
       "<table id=\"table140496013607360\" class=\"table-striped table-bordered table-condensed\">\n",
       "<thead><tr><th>e_ref</th><th>e_min</th><th>e_max</th><th>dnde</th><th>dnde_err</th><th>dnde_errp</th><th>dnde_errn</th><th>dnde_ul</th><th>ts</th><th>sqrt_ts</th><th>npred</th><th>npred_excess</th><th>stat</th><th>is_ul</th><th>counts</th><th>success</th><th>norm_scan</th><th>stat_scan</th></tr></thead>\n",
       "<thead><tr><th>TeV</th><th>TeV</th><th>TeV</th><th>1 / (cm2 s TeV)</th><th>1 / (cm2 s TeV)</th><th>1 / (cm2 s TeV)</th><th>1 / (cm2 s TeV)</th><th>1 / (cm2 s TeV)</th><th></th><th></th><th></th><th></th><th></th><th></th><th></th><th></th><th></th><th></th></tr></thead>\n",
       "<thead><tr><th>float64</th><th>float64</th><th>float64</th><th>float64</th><th>float64</th><th>float64</th><th>float64</th><th>float64</th><th>float64</th><th>float64</th><th>float64[10]</th><th>float32[10]</th><th>float64</th><th>bool</th><th>float64[10]</th><th>bool</th><th>float64[11]</th><th>float64[11]</th></tr></thead>\n",
       "<tr><td>0.126</td><td>0.100</td><td>0.158</td><td>2.287e-11</td><td>1.614e-11</td><td>1.623e-11</td><td>1.606e-11</td><td>nan</td><td>2.039</td><td>1.428</td><td>199.33911506694895 .. 195.44883037370107</td><td>6.9212527 .. 6.9212527</td><td>10.189</td><td>True</td><td>187.0 .. 193.0</td><td>True</td><td>0.200 .. 5.000</td><td>11.915 .. 12.093</td></tr>\n",
       "<tr><td>0.200</td><td>0.158</td><td>0.251</td><td>7.990e-12</td><td>4.533e-12</td><td>4.569e-12</td><td>4.498e-12</td><td>1.721e-11</td><td>3.203</td><td>1.790</td><td>101.51195753860394 .. 96.80546720529716</td><td>6.0800905 .. 6.0800905</td><td>8.383</td><td>True</td><td>107.0 .. 74.0</td><td>True</td><td>0.200 .. 5.000</td><td>10.237 .. 74.450</td></tr>\n",
       "<tr><td>0.316</td><td>0.251</td><td>0.398</td><td>8.994e-12</td><td>1.725e-12</td><td>1.744e-12</td><td>1.707e-12</td><td>1.252e-11</td><td>30.515</td><td>5.524</td><td>58.962456825048264 .. 57.48191726057273</td><td>13.602821 .. 13.602821</td><td>6.583</td><td>False</td><td>60.0 .. 58.0</td><td>True</td><td>0.200 .. 5.000</td><td>27.495 .. 199.532</td></tr>\n",
       "<tr><td>0.501</td><td>0.398</td><td>0.631</td><td>3.873e-12</td><td>5.722e-13</td><td>5.808e-13</td><td>5.636e-13</td><td>5.052e-12</td><td>57.082</td><td>7.555</td><td>30.509848790258886 .. 33.62232105917677</td><td>13.0537615 .. 13.0537615</td><td>9.947</td><td>False</td><td>31.0 .. 35.0</td><td>True</td><td>0.200 .. 5.000</td><td>42.789 .. 501.358</td></tr>\n",
       "<tr><td>0.794</td><td>0.631</td><td>1.000</td><td>1.729e-12</td><td>2.308e-13</td><td>2.355e-13</td><td>2.262e-13</td><td>2.210e-12</td><td>79.116</td><td>8.895</td><td>19.105648002777922 .. 18.063480929228888</td><td>11.114486 .. 11.114486</td><td>10.938</td><td>False</td><td>19.0 .. 20.0</td><td>True</td><td>0.200 .. 5.000</td><td>55.843 .. 483.677</td></tr>\n",
       "<tr><td>1.259</td><td>1.000</td><td>1.585</td><td>6.651e-13</td><td>8.127e-14</td><td>8.340e-14</td><td>7.919e-14</td><td>8.363e-13</td><td>113.409</td><td>10.649</td><td>13.937964467393684 .. 14.667440599036816</td><td>9.8516 .. 9.8516</td><td>11.786</td><td>False</td><td>12.0 .. 21.0</td><td>True</td><td>0.200 .. 5.000</td><td>79.842 .. 360.716</td></tr>\n",
       "<tr><td>1.995</td><td>1.585</td><td>2.512</td><td>1.655e-13</td><td>3.101e-14</td><td>3.225e-14</td><td>2.982e-14</td><td>2.325e-13</td><td>47.374</td><td>6.883</td><td>5.536337307221059 .. 5.637350964003103</td><td>4.219104 .. 4.219104</td><td>9.984</td><td>False</td><td>8.0 .. 6.0</td><td>True</td><td>0.200 .. 5.000</td><td>39.024 .. 151.876</td></tr>\n",
       "<tr><td>3.162</td><td>2.512</td><td>3.981</td><td>1.950e-14</td><td>7.936e-15</td><td>8.512e-15</td><td>7.403e-15</td><td>3.775e-14</td><td>8.845</td><td>2.974</td><td>1.5569471622911393 .. 1.2821653477825623</td><td>1.0569471 .. 1.0569471</td><td>11.597</td><td>False</td><td>0.0 .. 2.0</td><td>True</td><td>0.200 .. 5.000</td><td>15.820 .. 81.573</td></tr>\n",
       "<tr><td>5.012</td><td>3.981</td><td>6.310</td><td>4.103e-15</td><td>2.771e-15</td><td>3.188e-15</td><td>2.350e-15</td><td>1.132e-14</td><td>3.196</td><td>1.788</td><td>0.9807526773956126 .. 0.7995090712659856</td><td>0.3783884 .. 0.3783884</td><td>6.401</td><td>True</td><td>1.0 .. 1.0</td><td>True</td><td>0.200 .. 5.000</td><td>8.617 .. 17.446</td></tr>\n",
       "<tr><td>7.943</td><td>6.310</td><td>10.000</td><td>1.111e-22</td><td>3.721e-19</td><td>4.070e-16</td><td>nan</td><td>1.542e-15</td><td>-0.000</td><td>0.000</td><td>1.906824350392781e-08 .. 0.1666666857349102</td><td>1.9068244e-08 .. 1.9068244e-08</td><td>3.363</td><td>True</td><td>0.0 .. 0.0</td><td>True</td><td>0.200 .. 5.000</td><td>3.538 .. 8.106</td></tr>\n",
       "<tr><td>12.589</td><td>10.000</td><td>15.849</td><td>3.454e-23</td><td>1.178e-19</td><td>nan</td><td>nan</td><td>nan</td><td>-0.000</td><td>0.000</td><td>0.16666667961588566 .. 0.16666667961588566</td><td>1.2949219e-08 .. 1.2949219e-08</td><td>1.952</td><td>True</td><td>0.0 .. 0.0</td><td>True</td><td>0.200 .. 5.000</td><td>1.985 .. 2.776</td></tr>\n",
       "<tr><td>19.953</td><td>15.849</td><td>25.119</td><td>-3.400e-34</td><td>3.302e-18</td><td>nan</td><td>nan</td><td>nan</td><td>0.000</td><td>-0.000</td><td>0.0 .. 0.16666666666666669</td><td>-1.1369038e-19 .. -1.1369038e-19</td><td>4.313</td><td>True</td><td>0.0 .. 0.0</td><td>True</td><td>0.200 .. 5.000</td><td>4.314 .. 4.333</td></tr>\n",
       "</table></div>"
      ],
      "text/plain": [
       "<Table length=12>\n",
       " e_ref   e_min   e_max  ... success   norm_scan        stat_scan    \n",
       "  TeV     TeV     TeV   ...                                         \n",
       "float64 float64 float64 ...   bool   float64[11]      float64[11]   \n",
       "------- ------- ------- ... ------- -------------- -----------------\n",
       "  0.126   0.100   0.158 ...    True 0.200 .. 5.000  11.915 .. 12.093\n",
       "  0.200   0.158   0.251 ...    True 0.200 .. 5.000  10.237 .. 74.450\n",
       "  0.316   0.251   0.398 ...    True 0.200 .. 5.000 27.495 .. 199.532\n",
       "  0.501   0.398   0.631 ...    True 0.200 .. 5.000 42.789 .. 501.358\n",
       "  0.794   0.631   1.000 ...    True 0.200 .. 5.000 55.843 .. 483.677\n",
       "  1.259   1.000   1.585 ...    True 0.200 .. 5.000 79.842 .. 360.716\n",
       "  1.995   1.585   2.512 ...    True 0.200 .. 5.000 39.024 .. 151.876\n",
       "  3.162   2.512   3.981 ...    True 0.200 .. 5.000  15.820 .. 81.573\n",
       "  5.012   3.981   6.310 ...    True 0.200 .. 5.000   8.617 .. 17.446\n",
       "  7.943   6.310  10.000 ...    True 0.200 .. 5.000    3.538 .. 8.106\n",
       " 12.589  10.000  15.849 ...    True 0.200 .. 5.000    1.985 .. 2.776\n",
       " 19.953  15.849  25.119 ...    True 0.200 .. 5.000    4.314 .. 4.333"
      ]
     },
     "metadata": {},
     "output_type": "display_data"
    }
   ],
   "source": [
    "display(flux_points.to_table(sed_type=\"dnde\", formatted=True))"
   ]
  },
  {
   "cell_type": "code",
   "execution_count": 47,
   "id": "5b7cca55",
   "metadata": {
    "scrolled": true
   },
   "outputs": [],
   "source": [
    "e_ref = []\n",
    "e_min = []\n",
    "e_max = []\n",
    "dnde = []\n",
    "dnde_err = []\n",
    "subtract_emin = []\n",
    "subtract_emax = []\n",
    "\n",
    "for j in range(len(flux_points[\"energy_max\"].value)):\n",
    "    if flux_points[\"dnde\"].data[j] > 0:\n",
    "        e_ref.append(flux_points[\"energy_ref\"].value[j])\n",
    "        e_min.append(flux_points[\"energy_min\"].value[j])\n",
    "        e_max.append(flux_points[\"energy_max\"].value[j])\n",
    "        dnde.append(flux_points[\"dnde\"].data[j][0])\n",
    "        dnde_err.append(flux_points[\"dnde_err\"].data[j][0])\n",
    "flux_TEV = np.hstack((dnde))#*1e+06\n",
    "flux_err_TEV = np.hstack((dnde_err))#*1e+06  \n",
    "energy = np.hstack((e_ref))\n"
   ]
  },
  {
   "cell_type": "code",
   "execution_count": 48,
   "id": "dc7cd1b5",
   "metadata": {},
   "outputs": [
    {
     "data": {
      "text/plain": [
       "[0.12589254117941673,\n",
       " 0.19952623149688797,\n",
       " 0.31622776601683805,\n",
       " 0.5011872336272724,\n",
       " 0.7943282347242816,\n",
       " 1.2589254117941675,\n",
       " 1.9952623149688802,\n",
       " 3.1622776601683795,\n",
       " 5.011872336272723,\n",
       " 7.943282347242814,\n",
       " 12.58925411794167]"
      ]
     },
     "execution_count": 48,
     "metadata": {},
     "output_type": "execute_result"
    }
   ],
   "source": [
    "e_ref\n"
   ]
  },
  {
   "cell_type": "code",
   "execution_count": 49,
   "id": "99dbe55b",
   "metadata": {},
   "outputs": [
    {
     "data": {
      "text/plain": [
       "array([ 0.12589254,  0.19952623,  0.31622777,  0.50118723,  0.79432823,\n",
       "        1.25892541,  1.99526231,  3.16227766,  5.01187234,  7.94328235,\n",
       "       12.58925412])"
      ]
     },
     "execution_count": 49,
     "metadata": {},
     "output_type": "execute_result"
    }
   ],
   "source": [
    "energy"
   ]
  },
  {
   "cell_type": "code",
   "execution_count": 50,
   "id": "2659284b",
   "metadata": {},
   "outputs": [
    {
     "data": {
      "image/png": "[encoded data removed]",
      "text/plain": [
       "<Figure size 800x600 with 1 Axes>"
      ]
     },
     "metadata": {},
     "output_type": "display_data"
    }
   ],
   "source": [
    "energy_bounds = [0.1, 50] * u.TeV\n",
    "plt.figure()\n",
    "absspecmodel.plot(\n",
    "    energy_bounds, \n",
    "    label='intrinsic spectrum + EBL'\n",
    ")\n",
    "\n",
    "xerr = [np.hstack((e_ref))-np.hstack((e_min)), np.hstack((e_max))-np.hstack((e_ref))]\n",
    "plt.errorbar(\n",
    "    energy, \n",
    "    flux_TEV, \n",
    "    color='red', \n",
    "    marker='o', \n",
    "    xerr = xerr, \n",
    "    yerr = flux_err_TEV, \n",
    "    linestyle='', \n",
    "    label='measured spectrum')\n",
    "plt.grid(which=\"both\")\n",
    "plt.ylim(1e-18, 1e-8)\n",
    "plt.legend(loc=\"best\")\n",
    "plt.title(\"M87\")\n",
    "\n",
    "path_flux = mkdir_base_child(\"analysis\", \"flux_point\")\n",
    "\n",
    "plt_savefig(path_flux, \"flux_point\")\n",
    "\n",
    "plt.savefig('./spectrum_srcM87.png', bbox_inches='tight')\n",
    "\n",
    "plt.savefig('./M87_gammapy_flux_point.png', bbox_inches='tight')\n",
    "plt.savefig('./M87_gammapy_flux_point.pdf', bbox_inches='tight')\n",
    "\n",
    "plt.show()"
   ]
  },
  {
   "cell_type": "code",
   "execution_count": 51,
   "id": "6c4c70f1",
   "metadata": {},
   "outputs": [
    {
     "data": {
      "text/html": [
       "<div><i>Table length=12</i>\n",
       "<table id=\"table140496099682192\" class=\"table-striped table-bordered table-condensed\">\n",
       "<thead><tr><th>e_ref</th><th>e_min</th><th>e_max</th><th>e2dnde</th><th>e2dnde_err</th><th>e2dnde_errp</th><th>e2dnde_errn</th><th>e2dnde_ul</th><th>ts</th><th>sqrt_ts</th><th>npred</th><th>npred_excess</th><th>stat</th><th>is_ul</th><th>counts</th><th>success</th><th>norm_scan</th><th>stat_scan</th></tr></thead>\n",
       "<thead><tr><th>TeV</th><th>TeV</th><th>TeV</th><th>TeV / (cm2 s)</th><th>TeV / (cm2 s)</th><th>TeV / (cm2 s)</th><th>TeV / (cm2 s)</th><th>TeV / (cm2 s)</th><th></th><th></th><th></th><th></th><th></th><th></th><th></th><th></th><th></th><th></th></tr></thead>\n",
       "<thead><tr><th>float64</th><th>float64</th><th>float64</th><th>float64</th><th>float64</th><th>float64</th><th>float64</th><th>float64</th><th>float64</th><th>float64</th><th>float64[10]</th><th>float32[10]</th><th>float64</th><th>bool</th><th>float64[10]</th><th>bool</th><th>float64[11]</th><th>float64[11]</th></tr></thead>\n",
       "<tr><td>0.126</td><td>0.100</td><td>0.158</td><td>3.625e-13</td><td>2.559e-13</td><td>2.573e-13</td><td>2.545e-13</td><td>nan</td><td>2.039</td><td>1.428</td><td>199.33911506694895 .. 195.44883037370107</td><td>6.9212527 .. 6.9212527</td><td>10.189</td><td>True</td><td>187.0 .. 193.0</td><td>True</td><td>0.200 .. 5.000</td><td>11.915 .. 12.093</td></tr>\n",
       "<tr><td>0.200</td><td>0.158</td><td>0.251</td><td>3.181e-13</td><td>1.805e-13</td><td>1.819e-13</td><td>1.791e-13</td><td>6.852e-13</td><td>3.203</td><td>1.790</td><td>101.51195753860394 .. 96.80546720529716</td><td>6.0800905 .. 6.0800905</td><td>8.383</td><td>True</td><td>107.0 .. 74.0</td><td>True</td><td>0.200 .. 5.000</td><td>10.237 .. 74.450</td></tr>\n",
       "<tr><td>0.316</td><td>0.251</td><td>0.398</td><td>8.994e-13</td><td>1.725e-13</td><td>1.744e-13</td><td>1.707e-13</td><td>1.252e-12</td><td>30.515</td><td>5.524</td><td>58.962456825048264 .. 57.48191726057273</td><td>13.602821 .. 13.602821</td><td>6.583</td><td>False</td><td>60.0 .. 58.0</td><td>True</td><td>0.200 .. 5.000</td><td>27.495 .. 199.532</td></tr>\n",
       "<tr><td>0.501</td><td>0.398</td><td>0.631</td><td>9.729e-13</td><td>1.437e-13</td><td>1.459e-13</td><td>1.416e-13</td><td>1.269e-12</td><td>57.082</td><td>7.555</td><td>30.509848790258886 .. 33.62232105917677</td><td>13.0537615 .. 13.0537615</td><td>9.947</td><td>False</td><td>31.0 .. 35.0</td><td>True</td><td>0.200 .. 5.000</td><td>42.789 .. 501.358</td></tr>\n",
       "<tr><td>0.794</td><td>0.631</td><td>1.000</td><td>1.091e-12</td><td>1.456e-13</td><td>1.486e-13</td><td>1.427e-13</td><td>1.394e-12</td><td>79.116</td><td>8.895</td><td>19.105648002777922 .. 18.063480929228888</td><td>11.114486 .. 11.114486</td><td>10.938</td><td>False</td><td>19.0 .. 20.0</td><td>True</td><td>0.200 .. 5.000</td><td>55.843 .. 483.677</td></tr>\n",
       "<tr><td>1.259</td><td>1.000</td><td>1.585</td><td>1.054e-12</td><td>1.288e-13</td><td>1.322e-13</td><td>1.255e-13</td><td>1.325e-12</td><td>113.409</td><td>10.649</td><td>13.937964467393684 .. 14.667440599036816</td><td>9.8516 .. 9.8516</td><td>11.786</td><td>False</td><td>12.0 .. 21.0</td><td>True</td><td>0.200 .. 5.000</td><td>79.842 .. 360.716</td></tr>\n",
       "<tr><td>1.995</td><td>1.585</td><td>2.512</td><td>6.588e-13</td><td>1.235e-13</td><td>1.284e-13</td><td>1.187e-13</td><td>9.257e-13</td><td>47.374</td><td>6.883</td><td>5.536337307221059 .. 5.637350964003103</td><td>4.219104 .. 4.219104</td><td>9.984</td><td>False</td><td>8.0 .. 6.0</td><td>True</td><td>0.200 .. 5.000</td><td>39.024 .. 151.876</td></tr>\n",
       "<tr><td>3.162</td><td>2.512</td><td>3.981</td><td>1.950e-13</td><td>7.936e-14</td><td>8.512e-14</td><td>7.403e-14</td><td>3.775e-13</td><td>8.845</td><td>2.974</td><td>1.5569471622911393 .. 1.2821653477825623</td><td>1.0569471 .. 1.0569471</td><td>11.597</td><td>False</td><td>0.0 .. 2.0</td><td>True</td><td>0.200 .. 5.000</td><td>15.820 .. 81.573</td></tr>\n",
       "<tr><td>5.012</td><td>3.981</td><td>6.310</td><td>1.031e-13</td><td>6.961e-14</td><td>8.008e-14</td><td>5.903e-14</td><td>2.843e-13</td><td>3.196</td><td>1.788</td><td>0.9807526773956126 .. 0.7995090712659856</td><td>0.3783884 .. 0.3783884</td><td>6.401</td><td>True</td><td>1.0 .. 1.0</td><td>True</td><td>0.200 .. 5.000</td><td>8.617 .. 17.446</td></tr>\n",
       "<tr><td>7.943</td><td>6.310</td><td>10.000</td><td>7.009e-21</td><td>2.348e-17</td><td>2.568e-14</td><td>nan</td><td>9.729e-14</td><td>-0.000</td><td>0.000</td><td>1.906824350392781e-08 .. 0.1666666857349102</td><td>1.9068244e-08 .. 1.9068244e-08</td><td>3.363</td><td>True</td><td>0.0 .. 0.0</td><td>True</td><td>0.200 .. 5.000</td><td>3.538 .. 8.106</td></tr>\n",
       "<tr><td>12.589</td><td>10.000</td><td>15.849</td><td>5.475e-21</td><td>1.866e-17</td><td>nan</td><td>nan</td><td>nan</td><td>-0.000</td><td>0.000</td><td>0.16666667961588566 .. 0.16666667961588566</td><td>1.2949219e-08 .. 1.2949219e-08</td><td>1.952</td><td>True</td><td>0.0 .. 0.0</td><td>True</td><td>0.200 .. 5.000</td><td>1.985 .. 2.776</td></tr>\n",
       "<tr><td>19.953</td><td>15.849</td><td>25.119</td><td>-1.353e-31</td><td>1.314e-15</td><td>nan</td><td>nan</td><td>nan</td><td>0.000</td><td>-0.000</td><td>0.0 .. 0.16666666666666669</td><td>-1.1369038e-19 .. -1.1369038e-19</td><td>4.313</td><td>True</td><td>0.0 .. 0.0</td><td>True</td><td>0.200 .. 5.000</td><td>4.314 .. 4.333</td></tr>\n",
       "</table></div>"
      ],
      "text/plain": [
       "<Table length=12>\n",
       " e_ref   e_min   e_max  ... success   norm_scan        stat_scan    \n",
       "  TeV     TeV     TeV   ...                                         \n",
       "float64 float64 float64 ...   bool   float64[11]      float64[11]   \n",
       "------- ------- ------- ... ------- -------------- -----------------\n",
       "  0.126   0.100   0.158 ...    True 0.200 .. 5.000  11.915 .. 12.093\n",
       "  0.200   0.158   0.251 ...    True 0.200 .. 5.000  10.237 .. 74.450\n",
       "  0.316   0.251   0.398 ...    True 0.200 .. 5.000 27.495 .. 199.532\n",
       "  0.501   0.398   0.631 ...    True 0.200 .. 5.000 42.789 .. 501.358\n",
       "  0.794   0.631   1.000 ...    True 0.200 .. 5.000 55.843 .. 483.677\n",
       "  1.259   1.000   1.585 ...    True 0.200 .. 5.000 79.842 .. 360.716\n",
       "  1.995   1.585   2.512 ...    True 0.200 .. 5.000 39.024 .. 151.876\n",
       "  3.162   2.512   3.981 ...    True 0.200 .. 5.000  15.820 .. 81.573\n",
       "  5.012   3.981   6.310 ...    True 0.200 .. 5.000   8.617 .. 17.446\n",
       "  7.943   6.310  10.000 ...    True 0.200 .. 5.000    3.538 .. 8.106\n",
       " 12.589  10.000  15.849 ...    True 0.200 .. 5.000    1.985 .. 2.776\n",
       " 19.953  15.849  25.119 ...    True 0.200 .. 5.000    4.314 .. 4.333"
      ]
     },
     "execution_count": 51,
     "metadata": {},
     "output_type": "execute_result"
    }
   ],
   "source": [
    "CTA_table = flux_points.to_table(sed_type=\"e2dnde\", formatted=True)\n",
    "CTA_table"
   ]
  },
  {
   "cell_type": "code",
   "execution_count": 52,
   "id": "4bbf7378",
   "metadata": {},
   "outputs": [],
   "source": [
    "CTA_table[\"e2dnde\"][:] = CTA_table[\"e2dnde\"].to(u.Unit(\"erg cm-2 s-1\")) \n",
    "CTA_table[\"e2dnde\"].unit = u.Unit(\"erg cm-2 s-1\")\n",
    "\n",
    "CTA_table[\"e2dnde_err\"][:] = CTA_table[\"e2dnde_err\"].to(u.Unit(\"erg cm-2 s-1\")) \n",
    "CTA_table[\"e2dnde_err\"].unit = u.Unit(\"erg cm-2 s-1\")\n",
    "\n",
    "CTA_table[\"e2dnde_errp\"][:] = CTA_table[\"e2dnde_errp\"].to(u.Unit(\"erg cm-2 s-1\")) \n",
    "CTA_table[\"e2dnde_errp\"].unit = u.Unit(\"erg cm-2 s-1\")\n",
    "\n",
    "CTA_table[\"e2dnde_errn\"][:] = CTA_table[\"e2dnde_errn\"].to(u.Unit(\"erg cm-2 s-1\")) \n",
    "CTA_table[\"e2dnde_errn\"].unit = u.Unit(\"erg cm-2 s-1\")\n",
    "\n",
    "CTA_table[\"e2dnde_ul\"][:] = CTA_table[\"e2dnde_ul\"].to(u.Unit(\"erg cm-2 s-1\")) \n",
    "CTA_table[\"e2dnde_ul\"].unit = u.Unit(\"erg cm-2 s-1\")"
   ]
  },
  {
   "cell_type": "code",
   "execution_count": 53,
   "id": "171598c0",
   "metadata": {},
   "outputs": [
    {
     "data": {
      "text/html": [
       "<div><i>Table length=12</i>\n",
       "<table id=\"table140496099682192\" class=\"table-striped table-bordered table-condensed\">\n",
       "<thead><tr><th>e_ref</th><th>e_min</th><th>e_max</th><th>e2dnde</th><th>e2dnde_err</th><th>e2dnde_errp</th><th>e2dnde_errn</th><th>e2dnde_ul</th><th>ts</th><th>sqrt_ts</th><th>npred</th><th>npred_excess</th><th>stat</th><th>is_ul</th><th>counts</th><th>success</th><th>norm_scan</th><th>stat_scan</th></tr></thead>\n",
       "<thead><tr><th>TeV</th><th>TeV</th><th>TeV</th><th>erg / (cm2 s)</th><th>erg / (cm2 s)</th><th>erg / (cm2 s)</th><th>erg / (cm2 s)</th><th>erg / (cm2 s)</th><th></th><th></th><th></th><th></th><th></th><th></th><th></th><th></th><th></th><th></th></tr></thead>\n",
       "<thead><tr><th>float64</th><th>float64</th><th>float64</th><th>float64</th><th>float64</th><th>float64</th><th>float64</th><th>float64</th><th>float64</th><th>float64</th><th>float64[10]</th><th>float32[10]</th><th>float64</th><th>bool</th><th>float64[10]</th><th>bool</th><th>float64[11]</th><th>float64[11]</th></tr></thead>\n",
       "<tr><td>0.126</td><td>0.100</td><td>0.158</td><td>5.807e-13</td><td>4.099e-13</td><td>4.122e-13</td><td>4.077e-13</td><td>nan</td><td>2.039</td><td>1.428</td><td>199.33911506694895 .. 195.44883037370107</td><td>6.9212527 .. 6.9212527</td><td>10.189</td><td>True</td><td>187.0 .. 193.0</td><td>True</td><td>0.200 .. 5.000</td><td>11.915 .. 12.093</td></tr>\n",
       "<tr><td>0.200</td><td>0.158</td><td>0.251</td><td>5.096e-13</td><td>2.892e-13</td><td>2.915e-13</td><td>2.869e-13</td><td>1.098e-12</td><td>3.203</td><td>1.790</td><td>101.51195753860394 .. 96.80546720529716</td><td>6.0800905 .. 6.0800905</td><td>8.383</td><td>True</td><td>107.0 .. 74.0</td><td>True</td><td>0.200 .. 5.000</td><td>10.237 .. 74.450</td></tr>\n",
       "<tr><td>0.316</td><td>0.251</td><td>0.398</td><td>1.441e-12</td><td>2.764e-13</td><td>2.794e-13</td><td>2.735e-13</td><td>2.006e-12</td><td>30.515</td><td>5.524</td><td>58.962456825048264 .. 57.48191726057273</td><td>13.602821 .. 13.602821</td><td>6.583</td><td>False</td><td>60.0 .. 58.0</td><td>True</td><td>0.200 .. 5.000</td><td>27.495 .. 199.532</td></tr>\n",
       "<tr><td>0.501</td><td>0.398</td><td>0.631</td><td>1.559e-12</td><td>2.303e-13</td><td>2.337e-13</td><td>2.268e-13</td><td>2.033e-12</td><td>57.082</td><td>7.555</td><td>30.509848790258886 .. 33.62232105917677</td><td>13.0537615 .. 13.0537615</td><td>9.947</td><td>False</td><td>31.0 .. 35.0</td><td>True</td><td>0.200 .. 5.000</td><td>42.789 .. 501.358</td></tr>\n",
       "<tr><td>0.794</td><td>0.631</td><td>1.000</td><td>1.748e-12</td><td>2.333e-13</td><td>2.381e-13</td><td>2.287e-13</td><td>2.234e-12</td><td>79.116</td><td>8.895</td><td>19.105648002777922 .. 18.063480929228888</td><td>11.114486 .. 11.114486</td><td>10.938</td><td>False</td><td>19.0 .. 20.0</td><td>True</td><td>0.200 .. 5.000</td><td>55.843 .. 483.677</td></tr>\n",
       "<tr><td>1.259</td><td>1.000</td><td>1.585</td><td>1.689e-12</td><td>2.064e-13</td><td>2.118e-13</td><td>2.011e-13</td><td>2.124e-12</td><td>113.409</td><td>10.649</td><td>13.937964467393684 .. 14.667440599036816</td><td>9.8516 .. 9.8516</td><td>11.786</td><td>False</td><td>12.0 .. 21.0</td><td>True</td><td>0.200 .. 5.000</td><td>79.842 .. 360.716</td></tr>\n",
       "<tr><td>1.995</td><td>1.585</td><td>2.512</td><td>1.055e-12</td><td>1.978e-13</td><td>2.057e-13</td><td>1.902e-13</td><td>1.483e-12</td><td>47.374</td><td>6.883</td><td>5.536337307221059 .. 5.637350964003103</td><td>4.219104 .. 4.219104</td><td>9.984</td><td>False</td><td>8.0 .. 6.0</td><td>True</td><td>0.200 .. 5.000</td><td>39.024 .. 151.876</td></tr>\n",
       "<tr><td>3.162</td><td>2.512</td><td>3.981</td><td>3.124e-13</td><td>1.272e-13</td><td>1.364e-13</td><td>1.186e-13</td><td>6.047e-13</td><td>8.845</td><td>2.974</td><td>1.5569471622911393 .. 1.2821653477825623</td><td>1.0569471 .. 1.0569471</td><td>11.597</td><td>False</td><td>0.0 .. 2.0</td><td>True</td><td>0.200 .. 5.000</td><td>15.820 .. 81.573</td></tr>\n",
       "<tr><td>5.012</td><td>3.981</td><td>6.310</td><td>1.651e-13</td><td>1.115e-13</td><td>1.283e-13</td><td>9.458e-14</td><td>4.555e-13</td><td>3.196</td><td>1.788</td><td>0.9807526773956126 .. 0.7995090712659856</td><td>0.3783884 .. 0.3783884</td><td>6.401</td><td>True</td><td>1.0 .. 1.0</td><td>True</td><td>0.200 .. 5.000</td><td>8.617 .. 17.446</td></tr>\n",
       "<tr><td>7.943</td><td>6.310</td><td>10.000</td><td>1.123e-20</td><td>3.761e-17</td><td>4.115e-14</td><td>nan</td><td>1.559e-13</td><td>-0.000</td><td>0.000</td><td>1.906824350392781e-08 .. 0.1666666857349102</td><td>1.9068244e-08 .. 1.9068244e-08</td><td>3.363</td><td>True</td><td>0.0 .. 0.0</td><td>True</td><td>0.200 .. 5.000</td><td>3.538 .. 8.106</td></tr>\n",
       "<tr><td>12.589</td><td>10.000</td><td>15.849</td><td>8.772e-21</td><td>2.990e-17</td><td>nan</td><td>nan</td><td>nan</td><td>-0.000</td><td>0.000</td><td>0.16666667961588566 .. 0.16666667961588566</td><td>1.2949219e-08 .. 1.2949219e-08</td><td>1.952</td><td>True</td><td>0.0 .. 0.0</td><td>True</td><td>0.200 .. 5.000</td><td>1.985 .. 2.776</td></tr>\n",
       "<tr><td>19.953</td><td>15.849</td><td>25.119</td><td>-2.168e-31</td><td>2.106e-15</td><td>nan</td><td>nan</td><td>nan</td><td>0.000</td><td>-0.000</td><td>0.0 .. 0.16666666666666669</td><td>-1.1369038e-19 .. -1.1369038e-19</td><td>4.313</td><td>True</td><td>0.0 .. 0.0</td><td>True</td><td>0.200 .. 5.000</td><td>4.314 .. 4.333</td></tr>\n",
       "</table></div>"
      ],
      "text/plain": [
       "<Table length=12>\n",
       " e_ref   e_min   e_max  ... success   norm_scan        stat_scan    \n",
       "  TeV     TeV     TeV   ...                                         \n",
       "float64 float64 float64 ...   bool   float64[11]      float64[11]   \n",
       "------- ------- ------- ... ------- -------------- -----------------\n",
       "  0.126   0.100   0.158 ...    True 0.200 .. 5.000  11.915 .. 12.093\n",
       "  0.200   0.158   0.251 ...    True 0.200 .. 5.000  10.237 .. 74.450\n",
       "  0.316   0.251   0.398 ...    True 0.200 .. 5.000 27.495 .. 199.532\n",
       "  0.501   0.398   0.631 ...    True 0.200 .. 5.000 42.789 .. 501.358\n",
       "  0.794   0.631   1.000 ...    True 0.200 .. 5.000 55.843 .. 483.677\n",
       "  1.259   1.000   1.585 ...    True 0.200 .. 5.000 79.842 .. 360.716\n",
       "  1.995   1.585   2.512 ...    True 0.200 .. 5.000 39.024 .. 151.876\n",
       "  3.162   2.512   3.981 ...    True 0.200 .. 5.000  15.820 .. 81.573\n",
       "  5.012   3.981   6.310 ...    True 0.200 .. 5.000   8.617 .. 17.446\n",
       "  7.943   6.310  10.000 ...    True 0.200 .. 5.000    3.538 .. 8.106\n",
       " 12.589  10.000  15.849 ...    True 0.200 .. 5.000    1.985 .. 2.776\n",
       " 19.953  15.849  25.119 ...    True 0.200 .. 5.000    4.314 .. 4.333"
      ]
     },
     "execution_count": 53,
     "metadata": {},
     "output_type": "execute_result"
    }
   ],
   "source": [
    "CTA_table"
   ]
  },
  {
   "cell_type": "code",
   "execution_count": 54,
   "id": "0def1152",
   "metadata": {},
   "outputs": [],
   "source": [
    "# if path_os not in sys.path:\n",
    "#     sys.path.append(path_os)\n",
    "\n",
    "CTA_table.write(\n",
    "    \"CTA_table.csv\",\n",
    "    format = 'ascii.ecsv', \n",
    "    overwrite = True\n",
    ")   "
   ]
  },
  {
   "cell_type": "code",
   "execution_count": 55,
   "id": "2383b5df",
   "metadata": {},
   "outputs": [
    {
     "data": {
      "text/html": [
       "<div><i>Table length=12</i>\n",
       "<table id=\"table140496007814064\" class=\"table-striped table-bordered table-condensed\">\n",
       "<thead><tr><th>e_ref</th><th>e_min</th><th>e_max</th><th>e2dnde</th><th>e2dnde_err</th><th>e2dnde_errp</th><th>e2dnde_errn</th><th>e2dnde_ul</th><th>ts</th><th>sqrt_ts</th><th>npred</th><th>npred_excess</th><th>stat</th><th>is_ul</th><th>counts</th><th>success</th><th>norm_scan</th><th>stat_scan</th></tr></thead>\n",
       "<thead><tr><th>TeV</th><th>TeV</th><th>TeV</th><th>erg / (cm2 s)</th><th>erg / (cm2 s)</th><th>erg / (cm2 s)</th><th>erg / (cm2 s)</th><th>erg / (cm2 s)</th><th></th><th></th><th></th><th></th><th></th><th></th><th></th><th></th><th></th><th></th></tr></thead>\n",
       "<thead><tr><th>float64</th><th>float64</th><th>float64</th><th>float64</th><th>float64</th><th>float64</th><th>float64</th><th>float64</th><th>float64</th><th>float64</th><th>float64[10]</th><th>float32[10]</th><th>float64</th><th>bool</th><th>float64[10]</th><th>bool</th><th>float64[11]</th><th>float64[11]</th></tr></thead>\n",
       "<tr><td>0.126</td><td>0.100</td><td>0.158</td><td>5.807e-13</td><td>4.099e-13</td><td>4.122e-13</td><td>4.077e-13</td><td>nan</td><td>2.039</td><td>1.428</td><td>199.33911506694895 .. 195.44883037370107</td><td>6.9212527 .. 6.9212527</td><td>10.189</td><td>True</td><td>187.0 .. 193.0</td><td>True</td><td>0.200 .. 5.000</td><td>11.915 .. 12.093</td></tr>\n",
       "<tr><td>0.200</td><td>0.158</td><td>0.251</td><td>5.096e-13</td><td>2.892e-13</td><td>2.915e-13</td><td>2.869e-13</td><td>1.098e-12</td><td>3.203</td><td>1.790</td><td>101.51195753860394 .. 96.80546720529716</td><td>6.0800905 .. 6.0800905</td><td>8.383</td><td>True</td><td>107.0 .. 74.0</td><td>True</td><td>0.200 .. 5.000</td><td>10.237 .. 74.450</td></tr>\n",
       "<tr><td>0.316</td><td>0.251</td><td>0.398</td><td>1.441e-12</td><td>2.764e-13</td><td>2.794e-13</td><td>2.735e-13</td><td>2.006e-12</td><td>30.515</td><td>5.524</td><td>58.962456825048264 .. 57.48191726057273</td><td>13.602821 .. 13.602821</td><td>6.583</td><td>False</td><td>60.0 .. 58.0</td><td>True</td><td>0.200 .. 5.000</td><td>27.495 .. 199.532</td></tr>\n",
       "<tr><td>0.501</td><td>0.398</td><td>0.631</td><td>1.559e-12</td><td>2.303e-13</td><td>2.337e-13</td><td>2.268e-13</td><td>2.033e-12</td><td>57.082</td><td>7.555</td><td>30.509848790258886 .. 33.62232105917677</td><td>13.0537615 .. 13.0537615</td><td>9.947</td><td>False</td><td>31.0 .. 35.0</td><td>True</td><td>0.200 .. 5.000</td><td>42.789 .. 501.358</td></tr>\n",
       "<tr><td>0.794</td><td>0.631</td><td>1.000</td><td>1.748e-12</td><td>2.333e-13</td><td>2.381e-13</td><td>2.287e-13</td><td>2.234e-12</td><td>79.116</td><td>8.895</td><td>19.105648002777922 .. 18.063480929228888</td><td>11.114486 .. 11.114486</td><td>10.938</td><td>False</td><td>19.0 .. 20.0</td><td>True</td><td>0.200 .. 5.000</td><td>55.843 .. 483.677</td></tr>\n",
       "<tr><td>1.259</td><td>1.000</td><td>1.585</td><td>1.689e-12</td><td>2.064e-13</td><td>2.118e-13</td><td>2.011e-13</td><td>2.124e-12</td><td>113.409</td><td>10.649</td><td>13.937964467393684 .. 14.667440599036816</td><td>9.8516 .. 9.8516</td><td>11.786</td><td>False</td><td>12.0 .. 21.0</td><td>True</td><td>0.200 .. 5.000</td><td>79.842 .. 360.716</td></tr>\n",
       "<tr><td>1.995</td><td>1.585</td><td>2.512</td><td>1.055e-12</td><td>1.978e-13</td><td>2.057e-13</td><td>1.902e-13</td><td>1.483e-12</td><td>47.374</td><td>6.883</td><td>5.536337307221059 .. 5.637350964003103</td><td>4.219104 .. 4.219104</td><td>9.984</td><td>False</td><td>8.0 .. 6.0</td><td>True</td><td>0.200 .. 5.000</td><td>39.024 .. 151.876</td></tr>\n",
       "<tr><td>3.162</td><td>2.512</td><td>3.981</td><td>3.124e-13</td><td>1.272e-13</td><td>1.364e-13</td><td>1.186e-13</td><td>6.047e-13</td><td>8.845</td><td>2.974</td><td>1.5569471622911393 .. 1.2821653477825623</td><td>1.0569471 .. 1.0569471</td><td>11.597</td><td>False</td><td>0.0 .. 2.0</td><td>True</td><td>0.200 .. 5.000</td><td>15.820 .. 81.573</td></tr>\n",
       "<tr><td>5.012</td><td>3.981</td><td>6.310</td><td>1.651e-13</td><td>1.115e-13</td><td>1.283e-13</td><td>9.458e-14</td><td>4.555e-13</td><td>3.196</td><td>1.788</td><td>0.9807526773956126 .. 0.7995090712659856</td><td>0.3783884 .. 0.3783884</td><td>6.401</td><td>True</td><td>1.0 .. 1.0</td><td>True</td><td>0.200 .. 5.000</td><td>8.617 .. 17.446</td></tr>\n",
       "<tr><td>7.943</td><td>6.310</td><td>10.000</td><td>1.123e-20</td><td>3.761e-17</td><td>4.115e-14</td><td>nan</td><td>1.559e-13</td><td>-0.000</td><td>0.000</td><td>1.906824350392781e-08 .. 0.1666666857349102</td><td>1.9068244e-08 .. 1.9068244e-08</td><td>3.363</td><td>True</td><td>0.0 .. 0.0</td><td>True</td><td>0.200 .. 5.000</td><td>3.538 .. 8.106</td></tr>\n",
       "<tr><td>12.589</td><td>10.000</td><td>15.849</td><td>8.772e-21</td><td>2.990e-17</td><td>nan</td><td>nan</td><td>nan</td><td>-0.000</td><td>0.000</td><td>0.16666667961588566 .. 0.16666667961588566</td><td>1.2949219e-08 .. 1.2949219e-08</td><td>1.952</td><td>True</td><td>0.0 .. 0.0</td><td>True</td><td>0.200 .. 5.000</td><td>1.985 .. 2.776</td></tr>\n",
       "<tr><td>19.953</td><td>15.849</td><td>25.119</td><td>-2.168e-31</td><td>2.106e-15</td><td>nan</td><td>nan</td><td>nan</td><td>0.000</td><td>-0.000</td><td>0.0 .. 0.16666666666666669</td><td>-1.1369038e-19 .. -1.1369038e-19</td><td>4.313</td><td>True</td><td>0.0 .. 0.0</td><td>True</td><td>0.200 .. 5.000</td><td>4.314 .. 4.333</td></tr>\n",
       "</table></div>"
      ],
      "text/plain": [
       "<Table length=12>\n",
       " e_ref   e_min   e_max  ... success   norm_scan        stat_scan    \n",
       "  TeV     TeV     TeV   ...                                         \n",
       "float64 float64 float64 ...   bool   float64[11]      float64[11]   \n",
       "------- ------- ------- ... ------- -------------- -----------------\n",
       "  0.126   0.100   0.158 ...    True 0.200 .. 5.000  11.915 .. 12.093\n",
       "  0.200   0.158   0.251 ...    True 0.200 .. 5.000  10.237 .. 74.450\n",
       "  0.316   0.251   0.398 ...    True 0.200 .. 5.000 27.495 .. 199.532\n",
       "  0.501   0.398   0.631 ...    True 0.200 .. 5.000 42.789 .. 501.358\n",
       "  0.794   0.631   1.000 ...    True 0.200 .. 5.000 55.843 .. 483.677\n",
       "  1.259   1.000   1.585 ...    True 0.200 .. 5.000 79.842 .. 360.716\n",
       "  1.995   1.585   2.512 ...    True 0.200 .. 5.000 39.024 .. 151.876\n",
       "  3.162   2.512   3.981 ...    True 0.200 .. 5.000  15.820 .. 81.573\n",
       "  5.012   3.981   6.310 ...    True 0.200 .. 5.000   8.617 .. 17.446\n",
       "  7.943   6.310  10.000 ...    True 0.200 .. 5.000    3.538 .. 8.106\n",
       " 12.589  10.000  15.849 ...    True 0.200 .. 5.000    1.985 .. 2.776\n",
       " 19.953  15.849  25.119 ...    True 0.200 .. 5.000    4.314 .. 4.333"
      ]
     },
     "execution_count": 55,
     "metadata": {},
     "output_type": "execute_result"
    }
   ],
   "source": [
    "table_CTA = Table.read('CTA_table.csv',format='ascii', delimiter=' ', comment='#')\n",
    "table_CTA"
   ]
  },
  {
   "cell_type": "code",
   "execution_count": 56,
   "id": "ad56ed61",
   "metadata": {},
   "outputs": [
    {
     "name": "stderr",
     "output_type": "stream",
     "text": [
      "No reference model set for FluxMaps. Assuming point source with E^-2 spectrum.\n"
     ]
    },
    {
     "data": {
      "text/plain": [
       "(0.01, 100)"
      ]
     },
     "execution_count": 56,
     "metadata": {},
     "output_type": "execute_result"
    },
    {
     "data": {
      "image/png": "[encoded data removed]",
      "text/plain": [
       "<Figure size 500x300 with 1 Axes>"
      ]
     },
     "metadata": {},
     "output_type": "display_data"
    }
   ],
   "source": [
    "fix, axes = plt.subplots(figsize=(5, 3))\n",
    "axes.plot(t[\"energy\"], t[\"e2dnde\"], \"s-\", color=\"red\", label = \"CTA - Sensitivity\")\n",
    "FluxPoints.from_table(table = CTA_table, sed_type='e2dnde').plot(label = \"CTA - PSR_J1826−1334\")\n",
    "plt.legend()\n",
    "plt.xlim(1e-2, 100)\n"
   ]
  },
  {
   "cell_type": "code",
   "execution_count": 57,
   "id": "87146301",
   "metadata": {},
   "outputs": [],
   "source": [
    "# table = Table([energy, flux_TEV], names=('e_ref', 'dnde'))\n",
    "# table['e_ref'].unit = u.TeV\n",
    "# # table['dnde'].unit = u.Unit(\"cm-2 s-1 TeV-1\")\n",
    "# # table[\"dnde\"][:] = table[\"dnde\"].to(u.Unit(\"erg-1 cm-2 s-1\")) \n",
    "# table[\"dnde\"][:] = table[\"dnde\"][:]*((table['e_ref'][:])**2)\n",
    "# table['dnde'].unit = u.Unit(\"cm-2 s-1 TeV\")\n",
    "\n",
    "# table.rename_column('dnde', 'e2dnde')\n",
    "\n",
    "# table.meta[\"SED_TYPE\"] = \"e2dnde\"\n",
    "# table.meta[\"name\"] = \"table\"\n",
    "    \n",
    "# # # table.rename_column('dnde', 'e2dnde')\n",
    "# # table[\"dnde\"][:] = table[\"dnde\"].to(u.Unit(\"TeV cm-2 s-1\")) \n",
    "\n",
    "# print(table)"
   ]
  },
  {
   "cell_type": "code",
   "execution_count": 58,
   "id": "6064b90f",
   "metadata": {},
   "outputs": [],
   "source": [
    "# table[\"dnde\"][:] = table[\"dnde\"].to(u.Unit(\"erg-1 cm-2 s-1\")) \n",
    "# table[\"dnde\"][:] = table[\"dnde\"][:]*((table['e_ref'][:])**2)\n",
    "# table.rename_column('dnde', 'e2dnde')\n",
    "# table.meta[\"SED_TYPE\"] = \"e2dnde\"\n",
    "# table.meta[\"name\"] = \"table\""
   ]
  },
  {
   "cell_type": "code",
   "execution_count": 59,
   "id": "f5653ba5",
   "metadata": {},
   "outputs": [],
   "source": [
    "# table[\"dnde\"]"
   ]
  },
  {
   "cell_type": "code",
   "execution_count": 60,
   "id": "e3e8992c",
   "metadata": {},
   "outputs": [],
   "source": [
    "# FluxPoints.from_table(table = table, sed_type='e2dnde').plot()\n",
    "# plt.xlim(.1, 1000)\n",
    "# plt.ylim(1e-18, 1e-10)\n",
    "# plt.grid(which=\"both\")"
   ]
  },
  {
   "cell_type": "code",
   "execution_count": 61,
   "id": "ed1e79c3",
   "metadata": {},
   "outputs": [],
   "source": [
    "energy_bounds = [0.1, 100] * u.TeV"
   ]
  },
  {
   "cell_type": "code",
   "execution_count": 62,
   "id": "ba9c10c4",
   "metadata": {},
   "outputs": [
    {
     "data": {
      "image/png": "[encoded data removed]",
      "text/plain": [
       "<Figure size 800x500 with 1 Axes>"
      ]
     },
     "metadata": {},
     "output_type": "display_data"
    }
   ],
   "source": [
    "plt.style.use(['default'])\n",
    "\n",
    "plt.figure(figsize=(8,5))\n",
    "absspecmodel.plot(\n",
    "    energy_bounds, \n",
    "    label='logparabola'\n",
    ")\n",
    "\n",
    "xerr = [np.hstack((e_ref))-np.hstack((e_min)), np.hstack((e_max))-np.hstack((e_ref))]\n",
    "\n",
    "plt.errorbar(\n",
    "    e_ref, \n",
    "    flux_TEV, \n",
    "    color='red', \n",
    "    marker='o', \n",
    "    xerr = xerr, \n",
    "    yerr = flux_err_TEV, \n",
    "    linestyle='', \n",
    "    label='CTA')\n",
    "# plt.grid(which=\"both\")\n",
    "plt.ylim(1e-67, 1e-8)\n",
    "plt.legend(loc=\"best\")\n",
    "plt.title(src_jname)\n",
    "\n",
    "# path_flux = mkdir_base_child(\"analysis\", \"flux_point\")\n",
    "\n",
    "# plt_savefig(path_flux, \"flux_point\")\n",
    "\n",
    "# plt.savefig('./spectrum_srcM87.png', bbox_inches='tight')\n",
    "\n",
    "# plt.savefig('./M87_gammapy_flux_point.png', bbox_inches='tight')\n",
    "# plt.savefig('./M87_gammapy_flux_point.pdf', bbox_inches='tight')\n",
    "plt.savefig(f'./{src_jname}_gammapy_flux_point.png', bbox_inches='tight')\n",
    "plt.show()\n"
   ]
  },
  {
   "cell_type": "code",
   "execution_count": 63,
   "id": "440bd3a0",
   "metadata": {},
   "outputs": [
    {
     "data": {
      "text/plain": [
       "[]"
      ]
     },
     "execution_count": 63,
     "metadata": {},
     "output_type": "execute_result"
    },
    {
     "data": {
      "image/png": "[encoded data removed]",
      "text/plain": [
       "<Figure size 500x300 with 1 Axes>"
      ]
     },
     "metadata": {},
     "output_type": "display_data"
    }
   ],
   "source": [
    "fix, axes = plt.subplots(figsize=(5, 3))\n",
    "\n",
    "axes.plot(t[\"energy\"], t[\"e2dnde\"], \"s-\", color=\"red\")\n",
    "axes.loglog()"
   ]
  },
  {
   "cell_type": "code",
   "execution_count": 64,
   "id": "35c947e5",
   "metadata": {},
   "outputs": [
    {
     "data": {
      "image/png": "[encoded data removed]",
      "text/plain": [
       "<Figure size 500x300 with 1 Axes>"
      ]
     },
     "metadata": {},
     "output_type": "display_data"
    }
   ],
   "source": [
    "plt.style.use(['default'])\n",
    "\n",
    "fix, axes = plt.subplots(figsize=(5, 3))\n",
    "axes.plot(t[\"energy\"], t[\"e2dnde\"], \"s-\", color=\"red\")\n",
    "\n",
    "absspecmodel.plot(\n",
    "    energy_bounds, \n",
    "    label='logparabola'\n",
    ")\n",
    "\n",
    "xerr = [np.hstack((e_ref))-np.hstack((e_min)), np.hstack((e_max))-np.hstack((e_ref))]\n",
    "\n",
    "plt.errorbar(\n",
    "    energy, \n",
    "    flux_TEV, \n",
    "    color='red', \n",
    "    marker='o', \n",
    "    xerr = xerr, \n",
    "    yerr = flux_err_TEV, \n",
    "    linestyle='', \n",
    "    label='CTA')\n",
    "# plt.grid(which=\"both\")\n",
    "plt.ylim(1e-30, 1e-5)\n",
    "plt.legend(loc=\"best\")\n",
    "plt.title(src_jname)\n",
    "\n",
    "# path_flux = mkdir_base_child(\"analysis\", \"flux_point\")\n",
    "\n",
    "# plt_savefig(path_flux, \"flux_point\")\n",
    "\n",
    "# plt.savefig('./spectrum_srcM87.png', bbox_inches='tight')\n",
    "\n",
    "# plt.savefig('./M87_gammapy_flux_point.png', bbox_inches='tight')\n",
    "# plt.savefig('./M87_gammapy_flux_point.pdf', bbox_inches='tight')\n",
    "plt.savefig(f'./{src_jname}_gammapy_flux_point.png', bbox_inches='tight')\n",
    "plt.show()"
   ]
  },
  {
   "cell_type": "markdown",
   "id": "e63ae483",
   "metadata": {},
   "source": [
    "___"
   ]
  },
  {
   "cell_type": "markdown",
   "id": "6803c7ef",
   "metadata": {},
   "source": [
    "🔝 [Back to Top](#intro)<br>"
   ]
  },
  {
   "cell_type": "code",
   "execution_count": null,
   "id": "d9f3fcce",
   "metadata": {},
   "outputs": [],
   "source": []
  },
  {
   "cell_type": "code",
   "execution_count": 65,
   "id": "8700a61a",
   "metadata": {},
   "outputs": [
    {
     "data": {
      "image/png": "[encoded data removed]",
      "text/plain": [
       "<Figure size 640x480 with 1 Axes>"
      ]
     },
     "metadata": {},
     "output_type": "display_data"
    }
   ],
   "source": [
    "from astropy import units as u\n",
    "import matplotlib.pyplot as plt\n",
    "import naima\n",
    "from gammapy.modeling.models import Models, NaimaSpectralModel, SkyModel\n",
    "\n",
    "particle_distribution = naima.models.ExponentialCutoffPowerLaw(\n",
    "    1e30 / u.eV, 10 * u.TeV, 3.0, 30 * u.TeV\n",
    ")\n",
    "# radiative_model = naima.radiative.InverseCompton(\n",
    "#     particle_distribution,\n",
    "#     seed_photon_fields=[\"CMB\", [\"FIR\", 26.5 * u.K, 0.415 * u.eV / u.cm**3]],\n",
    "#     Eemin=100 * u.GeV,\n",
    "# )\n",
    "\n",
    "radiative_model = naima.radiative.PionDecay(\n",
    "    particle_distribution,\n",
    "    seed_photon_fields=[\"CMB\", [\"FIR\", 26.5 * u.K, 0.415 * u.eV / u.cm**3]],\n",
    "    Eemin=100 * u.GeV,\n",
    ")\n",
    "\n",
    "\n",
    "model = NaimaSpectralModel(radiative_model, distance=1.5 * u.kpc)\n",
    "\n",
    "opts = {\n",
    "    \"energy_bounds\": [10 * u.GeV, 80 * u.TeV],\n",
    "    \"sed_type\": \"e2dnde\",\n",
    "}\n",
    "\n",
    "# Plot the total inverse Compton emission\n",
    "model.plot(label=\"IC (total)\", **opts)\n",
    "\n",
    "# # Plot the separate contributions from each seed photon field\n",
    "# for seed, ls in zip([\"CMB\", \"FIR\"], [\"-\", \"--\"]):\n",
    "#     model = NaimaSpectralModel(radiative_model, distance=1.5 * u.kpc)\n",
    "#     model.plot(label=f\"IC ({seed})\", ls=ls, color=\"gray\", **opts)\n",
    "\n",
    "plt.legend(loc=\"best\")\n",
    "plt.grid(which=\"both\")"
   ]
  },
  {
   "cell_type": "code",
   "execution_count": null,
   "id": "c89f588f",
   "metadata": {},
   "outputs": [],
   "source": []
  },
  {
   "cell_type": "code",
   "execution_count": null,
   "id": "bca78e18",
   "metadata": {},
   "outputs": [],
   "source": []
  },
  {
   "cell_type": "code",
   "execution_count": null,
   "id": "8cd79ab8",
   "metadata": {},
   "outputs": [],
   "source": []
  },
  {
   "cell_type": "code",
   "execution_count": null,
   "id": "2e8ca336",
   "metadata": {},
   "outputs": [],
   "source": []
  }
 ],
 "metadata": {
  "kernelspec": {
   "display_name": "Python 3 (ipykernel)",
   "language": "python",
   "name": "python3"
  },
  "language_info": {
   "codemirror_mode": {
    "name": "ipython",
    "version": 3
   },
   "file_extension": ".py",
   "mimetype": "text/x-python",
   "name": "python",
   "nbconvert_exporter": "python",
   "pygments_lexer": "ipython3",
   "version": "3.9.15"
  }
 },
 "nbformat": 4,
 "nbformat_minor": 5
}
