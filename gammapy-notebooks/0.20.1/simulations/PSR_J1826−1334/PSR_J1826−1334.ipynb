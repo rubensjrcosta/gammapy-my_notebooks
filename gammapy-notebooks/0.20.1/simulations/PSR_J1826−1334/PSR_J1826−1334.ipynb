{
 "cells": [
  {
   "cell_type": "markdown",
   "id": "c0b5edd3",
   "metadata": {},
   "source": [
    "<a id='intro'></a>\n",
    "## Simulation of a Single Spectrum\n",
    "\n",
    "We will simulate the energy spectrum of 3FHL J1230.8+1223 from the Fermi-LAT 3FHL source catalog considering the Dominguez EBL absorption spectral model. To do a simulation, we need to define the observational parameters like\n",
    "the livetime, the offset, the assumed integration radius, the energy\n",
    "range to perform the simulation for and the choice of spectral model. We\n",
    "then use an in-memory observation which is convolved with the IRFs to\n",
    "get the predicted number of counts. This is Poission fluctuated using\n",
    "the `fake()` to get the simulated counts for each observation."
   ]
  },
  {
   "cell_type": "markdown",
   "id": "44805999",
   "metadata": {},
   "source": [
    "<a id='indice'></a>\n",
    "### Indice\n",
    "[Step 0.0:  Setting the Engine Tools](#step0)<br>\n",
    "$\\;\\;\\;\\;\\;$[Step 0.1:  Importing the Python Necessary Tools](#step0.1)<br>\n",
    "$\\;\\;\\;\\;\\;$[Step 0.2:  Defining Functions](#step0.2)<br>\n",
    "[Step 1.0: Source Information](#step1)<br>\n",
    "[Step 2.0: Creates the Observation](#step2)<br>\n",
    "[Step 3.0: Defining the Skymodel](#step3)<br>\n",
    "[Step 4.0: Simulating the Spectrum](#step4)<br>\n",
    "$\\;\\;\\;\\;\\;$[Step 4.1: Defines the geometry](#step4.1)<br> \n",
    "$\\;\\;\\;\\;\\;$[Step 4.2: Setting the Model on the Dataset](#step4.2)<br> \n",
    "[Step 5.0: On-Off Analysis](#step5)<br>\n",
    "$\\;\\;\\;\\;\\;$[Step 5.1: Simulating the Observations](#step5.1)<br>\n",
    "$\\;\\;\\;\\;\\;$[Step 5.2: Plotting Counts, Excess and Significance](#step5.2)<br>\n",
    "$\\;\\;\\;\\;\\;$[Step 5.3: Computing the Sensitivity](#step5.3)<br>\n",
    "$\\;\\;\\;\\;\\;$[Step 5.4 Computing the Flux Points](#step5.4)<br>"
   ]
  },
  {
   "cell_type": "markdown",
   "id": "3bdb2877",
   "metadata": {},
   "source": [
    "<a id='step0'></a>\n",
    "## Step 0.0:  Setting the Engine Tools\n",
    "\n",
    "<a id='step0.1'></a>\n",
    "### Step 0.1: Importing the Python Necessary Tools"
   ]
  },
  {
   "cell_type": "code",
   "execution_count": 1,
   "id": "59ef12b1",
   "metadata": {},
   "outputs": [],
   "source": [
    "import gammapy\n",
    "from astropy import units as u\n",
    "import numpy as np\n",
    "from astropy.io import ascii\n",
    "import collections\n",
    "import sys, os\n",
    "import matplotlib.pyplot as plt\n",
    "\n",
    "from gammapy.catalog import SourceCatalog3FHL\n",
    "from gammapy.makers import SpectrumDatasetMaker, SafeMaskMaker, ReflectedRegionsBackgroundMaker\n",
    "from gammapy.modeling import Fit\n",
    "from gammapy.data import Observation, Observations, observatory_locations\n",
    "from gammapy.datasets import SpectrumDatasetOnOff, SpectrumDataset, Datasets\n",
    "from gammapy.irf import load_cta_irfs\n",
    "from gammapy.maps import MapAxis, RegionGeom\n",
    "\n",
    "from gammapy.modeling.models import (\n",
    "    EBLAbsorptionNormSpectralModel,\n",
    "    Models,\n",
    "    PowerLawSpectralModel,\n",
    "    SkyModel,\n",
    ")\n",
    "\n",
    "from gammapy.irf import EffectiveAreaTable2D\n",
    "\n",
    "from numpy.random import RandomState\n",
    "\n",
    "from scipy.stats import chi2, norm\n",
    "\n",
    "from gammapy.estimators import FluxPointsEstimator\n",
    "from gammapy.estimators import FluxPoints\n",
    "from gammapy.datasets import FluxPointsDataset\n",
    "\n",
    "# astropy imports\n",
    "from astropy.coordinates import SkyCoord, Angle\n",
    "from astropy import units as u\n",
    "from astropy.io import fits\n",
    "from astropy.table import Table, Column\n",
    "\n",
    "from gammapy.estimators import SensitivityEstimator\n",
    "\n",
    "# astropy affiliated packages imports\n",
    "from regions import CircleSkyRegion\n",
    "\n",
    "from gammapy.stats import WStatCountsStatistic\n",
    "from gammapy.stats import CashCountsStatistic\n",
    "from scipy.stats import sem\n",
    "from gammapy.maps import Map\n",
    "from regions import PointSkyRegion\n",
    "\n",
    "import math\n",
    "\n",
    "from pathlib import Path"
   ]
  },
  {
   "cell_type": "markdown",
   "id": "d6e287e3",
   "metadata": {},
   "source": [
    "<a id='step0.2'></a>\n",
    "### Step 0.2: Defining Functions"
   ]
  },
  {
   "cell_type": "code",
   "execution_count": 2,
   "id": "6e973926",
   "metadata": {},
   "outputs": [],
   "source": [
    "def mkdir_base_child(base_dir, child_dir):\n",
    "    '''Creates a directory: base_dir/child_dir and returs the path \n",
    "    mkdir_base_child(base_dir, child_dir)\n",
    "    >>> path_child\n",
    "    '''\n",
    "    path_base = Path(f\"{base_dir}\")\n",
    "    path_base.mkdir(exist_ok=True)\n",
    "\n",
    "    path_child = Path(f\"{path_base}/{child_dir}\")\n",
    "    path_child.mkdir(exist_ok=True)\n",
    "    \n",
    "    return path_child"
   ]
  },
  {
   "cell_type": "code",
   "execution_count": 3,
   "id": "486cbaac",
   "metadata": {},
   "outputs": [],
   "source": [
    "def plt_savefig(path_child, child_name):\n",
    "    ''' Saves figures (.png and .pdf) in the path_child directoty    \n",
    "    plt_savefig(path_child, child_name)\n",
    "    >>> plt.savefig(file, bbox_inches='tight')\n",
    "    '''\n",
    "    formats_file = [\".png\", \".pdf\"]\n",
    "    for format_file in formats_file: \n",
    "        file = path_child / f'{src_id}_{child_name}_{ebl_ref}{format_file}'\n",
    "        plt.savefig(file, bbox_inches='tight')\n"
   ]
  },
  {
   "cell_type": "markdown",
   "id": "19987720",
   "metadata": {},
   "source": [
    "___"
   ]
  },
  {
   "cell_type": "markdown",
   "id": "32463b2e",
   "metadata": {},
   "source": [
    "🔝 [Back to Top](#intro)<br>"
   ]
  },
  {
   "cell_type": "markdown",
   "id": "a784cfbd",
   "metadata": {},
   "source": [
    "<a id='step1'></a>\n",
    "## Step 1.0:  Source Information"
   ]
  },
  {
   "cell_type": "code",
   "execution_count": 4,
   "id": "e92b40ec",
   "metadata": {},
   "outputs": [],
   "source": [
    "from astropy import units as u\n",
    "from astropy import cosmology\n",
    "from astropy.cosmology import WMAP5, WMAP7\n",
    "from astropy.coordinates import Distance"
   ]
  },
  {
   "cell_type": "code",
   "execution_count": 5,
   "id": "0d626f2a",
   "metadata": {},
   "outputs": [
    {
     "data": {
      "text/plain": [
       "FlatLambdaCDM(name=\"WMAP7\", H0=70.4 km / (Mpc s), Om0=0.272, Tcmb0=2.725 K, Neff=3.04, m_nu=[0. 0. 0.] eV, Ob0=0.0455)"
      ]
     },
     "execution_count": 5,
     "metadata": {},
     "output_type": "execute_result"
    }
   ],
   "source": [
    "cosmology.default_cosmology.set(WMAP7)\n",
    "cosmology.default_cosmology.get()"
   ]
  },
  {
   "cell_type": "markdown",
   "id": "89e39d14",
   "metadata": {},
   "source": [
    "[source](https://docs.astropy.org/en/stable/api/astropy.cosmology.FlatLambdaCDM.html#astropy.cosmology.FlatLambdaCDM)\n",
    "+ H0 = Hubble constant at z = 0. If a float, must be in [km/sec/Mpc].\n",
    "Om0 = Omega matter: density of non-relativistic matter in units of the critical density at z=0.\n",
    "+ Tcmb0 = Temperature of the CMB z=0. If a float, must be in [K]. Default: 0 [K]. Setting  this to zero will turn off both photons and neutrinos (even massive ones).\n",
    "+ Neff = Effective number of Neutrino species. Default 3.04.\n",
    "+ m_nu = Mass of each neutrino species in [eV] (mass-energy equivalency enabled). If this is a scalar Quantity, then all neutrino species are assumed to have that mass. Otherwise, the mass of each species. The actual number of neutrino species (and hence the number of elements of m_nu if it is not scalar) must be the floor of Neff. Typically this means you should provide three neutrino masses unless you are considering something like a sterile neutrino.\n",
    "+ Ob0 = Omega baryons: density of baryonic matter in units of the critical density at z=0. If this is set to None (the default), any computation that requires its value will raise an exception.\n",
    "\n"
   ]
  },
  {
   "cell_type": "code",
   "execution_count": 6,
   "id": "abcc7ecc",
   "metadata": {},
   "outputs": [],
   "source": [
    "# Pulsar name: B1823-13\n",
    "src_jname = \"PSR J2229+6114\"  # Pulsar name based on J2000 coordinates;  \n",
    "src_id  = src_jname.replace(\" \", \"\") # Name of identified or likely associated source"
   ]
  },
  {
   "cell_type": "markdown",
   "id": "aeeb7b46",
   "metadata": {},
   "source": [
    "[ATNF Pulsar Catalogue: PSR J1826-1334](https://www.atnf.csiro.au/research/pulsar/psrcat/proc_form.php?version=1.69&Name=Name&JName=JName&RaJ=RaJ&DecJ=DecJ&Dist=Dist&Dist_DM=Dist_DM&Assoc=Assoc&startUserDefined=true&c1_val=&c2_val=&c3_val=&c4_val=&sort_attr=jname&sort_order=asc&condition=&pulsar_names=J1826-1334&ephemeris=short&coords_unit=raj%2Fdecj&radius=&coords_1=&coords_2=&style=Long+with+last+digit+error&no_value=*&fsize=3&x_axis=&x_scale=linear&y_axis=&y_scale=linear&state=query&table_bottom.x=50&table_bottom.y=14)"
   ]
  },
  {
   "cell_type": "markdown",
   "id": "3341a4e1",
   "metadata": {},
   "source": [
    "[ATNF Pulsar Catalogue: PSR J1826-1256  ](https://www.atnf.csiro.au/research/pulsar/psrcat/proc_form.php?version=1.70&Name=Name&JName=JName&RaJD=RaJD&DecJD=DecJD&Dist=Dist&Dist_DM=Dist_DM&Assoc=Assoc&startUserDefined=true&c1_val=&c2_val=&c3_val=&c4_val=&sort_attr=jname&sort_order=asc&condition=&pulsar_names=J1826-1256&ephemeris=short&coords_unit=raj%2Fdecj&radius=&coords_1=&coords_2=&style=Long+with+last+digit+error&no_value=*&fsize=3&x_axis=&x_scale=linear&y_axis=&y_scale=linear&state=query&table_bottom.x=65&table_bottom.y=26)"
   ]
  },
  {
   "cell_type": "markdown",
   "id": "57352cea",
   "metadata": {},
   "source": [
    "[ATNF Pulsar Catalogue: PSR J1907+0602  ](https://www.atnf.csiro.au/research/pulsar/psrcat/proc_form.php?version=1.70&Name=Name&JName=JName&RaJD=RaJD&DecJD=DecJD&Dist=Dist&Dist_DM=Dist_DM&Assoc=Assoc&startUserDefined=true&c1_val=&c2_val=&c3_val=&c4_val=&sort_attr=jname&sort_order=asc&condition=&pulsar_names=J1907%2B0602&ephemeris=short&coords_unit=raj%2Fdecj&radius=&coords_1=&coords_2=&style=Long+with+last+digit+error&no_value=*&fsize=3&x_axis=&x_scale=linear&y_axis=&y_scale=linear&state=query&table_bottom.x=56&table_bottom.y=16)"
   ]
  },
  {
   "cell_type": "markdown",
   "id": "6a07016a",
   "metadata": {},
   "source": [
    "[ATNF Pulsar Catalogue: PSR J1907+0631](https://www.atnf.csiro.au/research/pulsar/psrcat/proc_form.php?version=1.70&Name=Name&JName=JName&RaJD=RaJD&DecJD=DecJD&Dist=Dist&Dist_DM=Dist_DM&Assoc=Assoc&startUserDefined=true&c1_val=&c2_val=&c3_val=&c4_val=&sort_attr=jname&sort_order=asc&condition=&pulsar_names=J1907%2B0631&ephemeris=short&coords_unit=raj%2Fdecj&radius=&coords_1=&coords_2=&style=Long+with+last+digit+error&no_value=*&fsize=3&x_axis=&x_scale=linear&y_axis=&y_scale=linear&state=query&table_bottom.x=48&table_bottom.y=23)"
   ]
  },
  {
   "cell_type": "markdown",
   "id": "7f469057",
   "metadata": {},
   "source": [
    "[ATNF Pulsar Catalogue: PSR J2229+6114](https://www.atnf.csiro.au/research/pulsar/psrcat/proc_form.php?version=1.70&Name=Name&JName=JName&RaJD=RaJD&DecJD=DecJD&Dist=Dist&Dist_DM=Dist_DM&Assoc=Assoc&startUserDefined=true&c1_val=&c2_val=&c3_val=&c4_val=&sort_attr=jname&sort_order=asc&condition=&pulsar_names=J2229%2B6114&ephemeris=short&coords_unit=raj%2Fdecj&radius=&coords_1=&coords_2=&style=Long+with+last+digit+error&no_value=*&fsize=3&x_axis=&x_scale=linear&y_axis=&y_scale=linear&state=query&table_bottom.x=58&table_bottom.y=38)"
   ]
  },
  {
   "cell_type": "code",
   "execution_count": null,
   "id": "1add943d",
   "metadata": {},
   "outputs": [],
   "source": []
  },
  {
   "cell_type": "code",
   "execution_count": 7,
   "id": "879182b8",
   "metadata": {},
   "outputs": [
    {
     "data": {
      "text/plain": [
       "(<Distance 3. kpc>, 7.044855459063171e-07)"
      ]
     },
     "execution_count": 7,
     "metadata": {},
     "output_type": "execute_result"
    }
   ],
   "source": [
    "src_dist = Distance(value = 3.000, unit = u.kpc) # The source distance.\n",
    "src_red = float(src_dist.compute_z()) # The source redshift for this distance assuming its physical distance is a luminosity distance.\n",
    "src_dist, src_red"
   ]
  },
  {
   "cell_type": "code",
   "execution_count": 8,
   "id": "e618fce7",
   "metadata": {},
   "outputs": [],
   "source": [
    "# src_rajd =Angle('18h26m13.175s').degree    # Right ascension (deg)\n",
    "# src_decjd  = Angle(\"-13d34m46.8s\").degree   # Declination (deg)\n",
    "# # RAJ: Right ascension (J2000) (hh:mm:ss.s) \n",
    "# # DecJ: Declination (J2000) (+dd:mm:ss)"
   ]
  },
  {
   "cell_type": "code",
   "execution_count": 9,
   "id": "56891bfd",
   "metadata": {},
   "outputs": [
    {
     "name": "stdout",
     "output_type": "stream",
     "text": [
      "PSRJ2229+6114 Source Information:\n",
      "(RAJ2000, DEJ2000) = (337.272, 61.236); Redshift = 0.00000070\n"
     ]
    }
   ],
   "source": [
    "src_rajd = 337.2720 # Right ascension (J2000) (degrees)\n",
    "src_decjd = 61.23592 # Declination (J2000) (degrees)\n",
    "print(f\"{src_id} Source Information:\")\n",
    "print(f\"(RAJ2000, DEJ2000) = ({src_rajd:.3f}, {src_decjd:.3f}); Redshift = {src_red:.8f}\" )"
   ]
  },
  {
   "cell_type": "markdown",
   "id": "3528d87a",
   "metadata": {},
   "source": [
    "___"
   ]
  },
  {
   "cell_type": "markdown",
   "id": "dbd6b4ba",
   "metadata": {},
   "source": [
    "🔝 [Back to Top](#intro)<br>"
   ]
  },
  {
   "cell_type": "markdown",
   "id": "cb47a787",
   "metadata": {},
   "source": [
    "<a id='step2'></a>\n",
    "## Step 2.0:  Creates the Observation"
   ]
  },
  {
   "cell_type": "markdown",
   "id": "7ad701bb",
   "metadata": {},
   "source": [
    "Define the source position:"
   ]
  },
  {
   "cell_type": "code",
   "execution_count": 10,
   "id": "ab916221",
   "metadata": {},
   "outputs": [],
   "source": [
    "# help(SkyCoord)"
   ]
  },
  {
   "cell_type": "code",
   "execution_count": 11,
   "id": "9e294533",
   "metadata": {},
   "outputs": [],
   "source": [
    "frame  = \"icrs\" # International Celestial Reference System (ICRS)\n",
    "unit   = \"deg\"  # Degrees units"
   ]
  },
  {
   "cell_type": "code",
   "execution_count": 12,
   "id": "c6834e14",
   "metadata": {},
   "outputs": [],
   "source": [
    "src_pos = SkyCoord(src_rajd, src_decjd, unit=unit, frame=frame) # Source Position"
   ]
  },
  {
   "cell_type": "code",
   "execution_count": 13,
   "id": "4445a089",
   "metadata": {},
   "outputs": [
    {
     "data": {
      "text/plain": [
       "<SkyCoord (ICRS): (ra, dec) in deg\n",
       "    (337.272, 61.23592)>"
      ]
     },
     "execution_count": 13,
     "metadata": {},
     "output_type": "execute_result"
    }
   ],
   "source": [
    "src_pos"
   ]
  },
  {
   "cell_type": "markdown",
   "id": "e991ac82",
   "metadata": {},
   "source": [
    "Define the observation parameters (typically the observation duration and the pointing position):\n"
   ]
  },
  {
   "cell_type": "code",
   "execution_count": 14,
   "id": "2d8151b9",
   "metadata": {},
   "outputs": [],
   "source": [
    "livetime = 5 * u.h # Livetime exposure of the simulated observation\n",
    "\n",
    "offset = 0.11 * u.deg # Pointing position  offset\n",
    "pointing = SkyCoord(src_pos.ra, src_pos.dec + offset, unit=unit, frame=frame)\n",
    "# print(pointing)"
   ]
  },
  {
   "cell_type": "markdown",
   "id": "91751de7",
   "metadata": {},
   "source": [
    "Load the IRFs:"
   ]
  },
  {
   "cell_type": "code",
   "execution_count": 15,
   "id": "b9fe17ab",
   "metadata": {},
   "outputs": [],
   "source": [
    "# # In this simulation, we use the CTA-1DC irfs shipped with gammapy\n",
    "# base_name = '/home/gamma/Documents/GitHub/gammapy/gammapy-notebooks/0.20.1/tutorials/data/caldb/data/cta/prod3b-v2/bcf'\n",
    "# irfs = load_cta_irfs(base_name + '/North_z20_N_50h/irf_file.fits')"
   ]
  },
  {
   "cell_type": "code",
   "execution_count": 16,
   "id": "b79ef9b2",
   "metadata": {},
   "outputs": [
    {
     "name": "stderr",
     "output_type": "stream",
     "text": [
      "WARNING: UnitsWarning: '1/(MeV s sr)' did not parse as fits unit: Numeric factor not supported by FITS If this is meant to be a custom unit, define it with 'u.def_unit'. To have it recognized inside a file reader or other code, enable it with 'u.add_enabled_units'. For details, see https://docs.astropy.org/en/latest/units/combining_and_defining.html [astropy.units.core]\n",
      "Invalid unit found in background table! Assuming (s-1 MeV-1 sr-1)\n"
     ]
    }
   ],
   "source": [
    "# In this simulation, we use the CTA-1DC irfs shipped with gammapy\n",
    "base_name = '/home/gamma/Documents/GitHub/gammapy/gammapy-notebooks/0.20.1/tutorials/data/caldb/data/cta/prod3b-v2/bcf'\n",
    "irf_name = 'South_z20_N_5h'\n",
    "irf_file = 'irf_file'\n",
    "format_dat = '.fits'\n",
    "irfs = load_cta_irfs(f\"{base_name}/{irf_name}/{irf_file}{format_dat}\")"
   ]
  },
  {
   "cell_type": "code",
   "execution_count": 17,
   "id": "c93ca6e8",
   "metadata": {},
   "outputs": [
    {
     "data": {
      "text/plain": [
       "<AxesSubplot: xlabel='True Energy [TeV]', ylabel='Effective Area [m2]'>"
      ]
     },
     "execution_count": 17,
     "metadata": {},
     "output_type": "execute_result"
    },
    {
     "data": {
      "image/png": "[encoded data removed]",
      "text/plain": [
       "<Figure size 640x480 with 1 Axes>"
      ]
     },
     "metadata": {},
     "output_type": "display_data"
    }
   ],
   "source": [
    "irfs[\"aeff\"].plot_energy_dependence()"
   ]
  },
  {
   "cell_type": "markdown",
   "id": "1ba185c7",
   "metadata": {},
   "source": [
    "Creates a observation:"
   ]
  },
  {
   "cell_type": "code",
   "execution_count": 18,
   "id": "917a0959",
   "metadata": {},
   "outputs": [],
   "source": [
    "# help(Observation)"
   ]
  },
  {
   "cell_type": "code",
   "execution_count": 19,
   "id": "ae83bd1a",
   "metadata": {},
   "outputs": [
    {
     "name": "stdout",
     "output_type": "stream",
     "text": [
      "Observation\n",
      "\n",
      "\tobs id            : 0 \n",
      " \ttstart            : 51544.00\n",
      "\ttstop             : 51544.21\n",
      "\tduration          : 18000.00 s\n",
      "\tpointing (icrs)   : 337.3 deg, 61.3 deg\n",
      "\n",
      "\tdeadtime fraction : 0.0%\n",
      "\n"
     ]
    }
   ],
   "source": [
    "location = observatory_locations[\"cta_north\"]\n",
    "obs = Observation.create(\n",
    "    pointing=pointing,\n",
    "    livetime=livetime,\n",
    "    irfs=irfs,\n",
    "    location=location,\n",
    ")\n",
    "print(obs)"
   ]
  },
  {
   "cell_type": "code",
   "execution_count": 20,
   "id": "5152f214",
   "metadata": {},
   "outputs": [],
   "source": [
    "# help(obs)"
   ]
  },
  {
   "cell_type": "markdown",
   "id": "4ce16ebf",
   "metadata": {},
   "source": [
    "___"
   ]
  },
  {
   "cell_type": "markdown",
   "id": "74e31167",
   "metadata": {},
   "source": [
    "🔝 [Back to Top](#intro)<br>"
   ]
  },
  {
   "cell_type": "markdown",
   "id": "fc40f6bf",
   "metadata": {},
   "source": [
    "<a id='step3'></a>\n",
    "## Step 3.0:  Defining the Skymodel\n",
    "Define spectral model:"
   ]
  },
  {
   "cell_type": "code",
   "execution_count": 21,
   "id": "0728d768",
   "metadata": {},
   "outputs": [],
   "source": [
    "# A simple Power Law\n",
    "# index=2.24\n",
    "# amplitude=6.47e-13 * u.Unit(\"cm-2 s-1 TeV-1\")\n",
    "# reference=0.1 * u.TeV\n",
    "    \n",
    "# model = PowerLawSpectralModel(\n",
    "#     index=index,\n",
    "#     amplitude=amplitude,\n",
    "#     reference=reference,\n",
    "# )\n",
    "# # print(pwl)"
   ]
  },
  {
   "cell_type": "code",
   "execution_count": 22,
   "id": "8d48b442",
   "metadata": {},
   "outputs": [],
   "source": [
    "from gammapy.modeling.models import LogParabolaSpectralModel, Models, SkyModel\n",
    "\n",
    "energy_bounds = [0.1, 100] * u.TeV\n",
    "model = LogParabolaSpectralModel(\n",
    "    alpha=2.3,\n",
    "    amplitude=\"1e-12 cm-2 s-1 TeV-1\",\n",
    "    reference=1 * u.TeV,\n",
    "    beta=0.5,\n",
    ")\n",
    "# model.plot(energy_bounds)\n",
    "# plt.grid(which=\"both\")"
   ]
  },
  {
   "cell_type": "code",
   "execution_count": 23,
   "id": "c2d4d340",
   "metadata": {},
   "outputs": [
    {
     "name": "stdout",
     "output_type": "stream",
     "text": [
      "LogParabolaSpectralModel\n",
      "\n",
      "  type      name     value         unit      ... max frozen is_norm link\n",
      "-------- --------- ---------- -------------- ... --- ------ ------- ----\n",
      "spectral amplitude 1.0000e-12 cm-2 s-1 TeV-1 ... nan  False    True     \n",
      "spectral reference 1.0000e+00            TeV ... nan   True   False     \n",
      "spectral     alpha 2.3000e+00                ... nan  False   False     \n",
      "spectral      beta 5.0000e-01                ... nan  False   False     \n"
     ]
    }
   ],
   "source": [
    "print(model)"
   ]
  },
  {
   "cell_type": "markdown",
   "id": "44d70888",
   "metadata": {},
   "source": [
    "Define absorption model:"
   ]
  },
  {
   "cell_type": "code",
   "execution_count": null,
   "id": "07a1997f",
   "metadata": {},
   "outputs": [],
   "source": []
  },
  {
   "cell_type": "code",
   "execution_count": 24,
   "id": "f04f4df6",
   "metadata": {
    "scrolled": true
   },
   "outputs": [
    {
     "name": "stdout",
     "output_type": "stream",
     "text": [
      "EBLAbsorptionNormSpectralModel\n",
      "\n",
      "  type      name      value    unit   error   min max frozen is_norm link\n",
      "-------- ---------- ---------- ---- --------- --- --- ------ ------- ----\n",
      "spectral alpha_norm 1.0000e+00      0.000e+00 nan nan   True   False     \n",
      "spectral   redshift 7.0449e-07      0.000e+00 nan nan   True   False     \n"
     ]
    }
   ],
   "source": [
    "ebl_models = ['franceschini', 'dominguez', 'finke'] # Available models in gammapy-data:{'franceschini', 'dominguez', 'finke'}\n",
    "\n",
    "ebl_ref = ebl_models[1] # dominguez\n",
    "\n",
    "import astropy.cosmology.units as cu\n",
    "# cosmo.age([0.5, 1, 1.5] * cu.redshift)  \n",
    "\n",
    "absorption = EBLAbsorptionNormSpectralModel.read_builtin(\n",
    "    reference = ebl_ref, \n",
    "    redshift=src_red\n",
    ")\n",
    "print(absorption)"
   ]
  },
  {
   "cell_type": "code",
   "execution_count": null,
   "id": "1b93c94d",
   "metadata": {},
   "outputs": [],
   "source": []
  },
  {
   "cell_type": "code",
   "execution_count": 25,
   "id": "d16c092d",
   "metadata": {},
   "outputs": [],
   "source": [
    "# from astropy import units as u\n",
    "# import matplotlib.pyplot as plt\n",
    "# import naima\n",
    "# from gammapy.modeling.models import Models, NaimaSpectralModel, SkyModel\n",
    "\n",
    "# particle_distribution = naima.models.ExponentialCutoffPowerLaw(\n",
    "#     1e30 / u.eV, 10 * u.TeV, 3.0, 30 * u.TeV\n",
    "# )\n",
    "# radiative_model = naima.radiative.InverseCompton(\n",
    "#     particle_distribution,\n",
    "#     seed_photon_fields=[\"CMB\", [\"FIR\", 26.5 * u.K, 0.415 * u.eV / u.cm**3]],\n",
    "#     Eemin=100 * u.GeV,\n",
    "# )\n",
    "\n",
    "# Naima_model = NaimaSpectralModel(radiative_model, distance=3.606 * u.kpc)"
   ]
  },
  {
   "cell_type": "code",
   "execution_count": null,
   "id": "f38ce918",
   "metadata": {},
   "outputs": [],
   "source": []
  },
  {
   "cell_type": "code",
   "execution_count": null,
   "id": "7e6af6fd",
   "metadata": {},
   "outputs": [],
   "source": [
    "\n"
   ]
  },
  {
   "cell_type": "markdown",
   "id": "5dc48eb3",
   "metadata": {},
   "source": [
    "The compound spectral model:"
   ]
  },
  {
   "cell_type": "code",
   "execution_count": 26,
   "id": "4758a3f5",
   "metadata": {
    "scrolled": true
   },
   "outputs": [
    {
     "name": "stdout",
     "output_type": "stream",
     "text": [
      "CompoundSpectralModel\n",
      "    Component 1 : LogParabolaSpectralModel\n",
      "\n",
      "  type      name     value         unit      ... max frozen is_norm link\n",
      "-------- --------- ---------- -------------- ... --- ------ ------- ----\n",
      "spectral amplitude 1.0000e-12 cm-2 s-1 TeV-1 ... nan  False    True     \n",
      "spectral reference 1.0000e+00            TeV ... nan   True   False     \n",
      "spectral     alpha 2.3000e+00                ... nan  False   False     \n",
      "spectral      beta 5.0000e-01                ... nan  False   False     \n",
      "    Component 2 : EBLAbsorptionNormSpectralModel\n",
      "\n",
      "  type      name      value    unit   error   min max frozen is_norm link\n",
      "-------- ---------- ---------- ---- --------- --- --- ------ ------- ----\n",
      "spectral alpha_norm 1.0000e+00      0.000e+00 nan nan   True   False     \n",
      "spectral   redshift 7.0449e-07      0.000e+00 nan nan   True   False     \n",
      "    Operator : mul\n",
      "\n"
     ]
    }
   ],
   "source": [
    "absspecmodel =  model * absorption # CompoundSpectralModel\n",
    "print(absspecmodel)"
   ]
  },
  {
   "cell_type": "markdown",
   "id": "3d21f4b0",
   "metadata": {},
   "source": [
    "Setting the sky model used in the dataset:"
   ]
  },
  {
   "cell_type": "code",
   "execution_count": 27,
   "id": "81ef12a6",
   "metadata": {},
   "outputs": [
    {
     "name": "stdout",
     "output_type": "stream",
     "text": [
      "SkyModel\n",
      "\n",
      "  Name                      : model_simu\n",
      "  Datasets names            : None\n",
      "  Spectral model type       : CompoundSpectralModel\n",
      "  Spatial  model type       : \n",
      "  Temporal model type       : \n",
      "  Parameters:\n",
      "    amplitude                     :   1.00e-12   +/- 0.0e+00 1 / (cm2 s TeV)\n",
      "    reference             (frozen):      1.000       TeV         \n",
      "    alpha                         :      2.300   +/-    0.00             \n",
      "    beta                          :      0.500   +/-    0.00             \n",
      "    alpha_norm            (frozen):      1.000                   \n",
      "    redshift              (frozen):      0.000                   \n",
      "\n",
      "\n"
     ]
    }
   ],
   "source": [
    "skymodel = SkyModel(\n",
    "#     spectral_model=model, \n",
    "  \n",
    "    spectral_model=absspecmodel, \n",
    "    name=\"model_simu\"\n",
    ")\n",
    "print(skymodel)"
   ]
  },
  {
   "cell_type": "markdown",
   "id": "644e3b64",
   "metadata": {},
   "source": [
    "___"
   ]
  },
  {
   "cell_type": "markdown",
   "id": "c2986b6a",
   "metadata": {},
   "source": [
    "🔝 [Back to Top](#intro)<br>"
   ]
  },
  {
   "cell_type": "markdown",
   "id": "38344d22",
   "metadata": {},
   "source": [
    "<a id='step4'></a>\n",
    "## Step 4.0:  Simulating the Spectrum\n",
    "<a id='step4.1'></a>\n",
    "### Step 4.1: Defines the geometry"
   ]
  },
  {
   "cell_type": "code",
   "execution_count": 28,
   "id": "465303cf",
   "metadata": {},
   "outputs": [],
   "source": [
    "# Defines the energy range\n",
    "emin = 0.1 * u.TeV   # Minimum energy\n",
    "emax = 100. * u.TeV # Maximum energy"
   ]
  },
  {
   "cell_type": "code",
   "execution_count": 29,
   "id": "2d570029",
   "metadata": {},
   "outputs": [],
   "source": [
    "# Reconstructed energy axis\n",
    "energy_reco = MapAxis.from_energy_bounds(\n",
    "    emin, \n",
    "    emax, \n",
    "    nbin=5, \n",
    "    per_decade=True, \n",
    "    name=\"energy\"\n",
    ")\n",
    "# print(energy_reco)"
   ]
  },
  {
   "cell_type": "code",
   "execution_count": 30,
   "id": "8f4df87d",
   "metadata": {},
   "outputs": [
    {
     "name": "stdout",
     "output_type": "stream",
     "text": [
      "Region: CircleSkyRegion\n",
      "center: <SkyCoord (ICRS): (ra, dec) in deg\n",
      "    (337.272, 61.23592)>\n",
      "radius: 0.11 deg\n"
     ]
    }
   ],
   "source": [
    "# Defines the on region:\n",
    "# on_region_radius = Angle(\"0.11 deg\")\n",
    "on_region_radius = Angle(\"0.11 deg\")\n",
    "\n",
    "on_region = CircleSkyRegion(\n",
    "    center=src_pos, \n",
    "    radius=on_region_radius\n",
    ")\n",
    "print(on_region)"
   ]
  },
  {
   "cell_type": "code",
   "execution_count": 31,
   "id": "11618e5c",
   "metadata": {},
   "outputs": [],
   "source": [
    "#Defines the geometry:\n",
    "geom = RegionGeom.create(\n",
    "    region=on_region, \n",
    "    axes=[energy_reco]\n",
    ")"
   ]
  },
  {
   "cell_type": "markdown",
   "id": "aacadc10",
   "metadata": {},
   "source": [
    "<a id='step4.2'></a>\n",
    "### Step 4.2: Setting the Model on the Dataset"
   ]
  },
  {
   "cell_type": "code",
   "execution_count": 32,
   "id": "53aabe70",
   "metadata": {},
   "outputs": [],
   "source": [
    "# Defines the true energy axis:\n",
    "# true energy axis should be wider than reco energy axis\n",
    "energy_true = MapAxis.from_energy_bounds(\n",
    "    0.3*emin, \n",
    "    3*emax, \n",
    "    nbin=8, \n",
    "    per_decade=True, \n",
    "    name=\"energy_true\"\n",
    ")\n",
    "# print(energy_true)"
   ]
  },
  {
   "cell_type": "code",
   "execution_count": 33,
   "id": "d54d2ed2",
   "metadata": {},
   "outputs": [],
   "source": [
    "# Create a MapDataset object with zero filled maps.\n",
    "dataset_empty = SpectrumDataset.create(\n",
    "    geom=geom, \n",
    "    energy_axis_true=energy_true,\n",
    "    name=\"obs-0\"\n",
    ")"
   ]
  },
  {
   "cell_type": "code",
   "execution_count": 34,
   "id": "d59c8e31",
   "metadata": {},
   "outputs": [],
   "source": [
    "# Make spectrum for a single IACT observation:\n",
    "# The irfs and background are computed at a single fixed offset, which is recommended only for point-sources.\n",
    "maker = SpectrumDatasetMaker(\n",
    "#     containment_correction=True, # Apply containment correction for point sources and circular on regions.\n",
    "    selection=[\"edisp\", \"background\", \"exposure\"], # Selecting which maps to make\n",
    "    use_region_center=False\n",
    ")\n",
    "safe_maker = SafeMaskMaker(methods=[\"bkg-peak\"], aeff_percent=10) # Make safe data range mask for a given observation."
   ]
  },
  {
   "cell_type": "code",
   "execution_count": 35,
   "id": "155f7dcb",
   "metadata": {},
   "outputs": [],
   "source": [
    "# help(SpectrumDatasetMaker)"
   ]
  },
  {
   "cell_type": "code",
   "execution_count": 36,
   "id": "dc9b92e8",
   "metadata": {},
   "outputs": [],
   "source": [
    "# Make map dataset:\n",
    "dataset = maker.run(dataset_empty, obs) \n",
    "dataset = safe_maker.run(dataset, obs)"
   ]
  },
  {
   "cell_type": "code",
   "execution_count": null,
   "id": "c21f248d",
   "metadata": {},
   "outputs": [],
   "source": []
  },
  {
   "cell_type": "code",
   "execution_count": 37,
   "id": "15fa2605",
   "metadata": {},
   "outputs": [
    {
     "name": "stdout",
     "output_type": "stream",
     "text": [
      "SpectrumDataset\n",
      "---------------\n",
      "\n",
      "  Name                            : obs-0 \n",
      "\n",
      "  Total counts                    : 1281 \n",
      "  Total background counts         : 760.89\n",
      "  Total excess counts             : 520.11\n",
      "\n",
      "  Predicted counts                : 1291.49\n",
      "  Predicted background counts     : 760.89\n",
      "  Predicted excess counts         : 530.60\n",
      "\n",
      "  Exposure min                    : 6.16e+08 m2 s\n",
      "  Exposure max                    : 1.10e+11 m2 s\n",
      "\n",
      "  Number of total bins            : 15 \n",
      "  Number of fit bins              : 15 \n",
      "\n",
      "  Fit statistic type              : cash\n",
      "  Fit statistic value (-2 log(L)) : -10820.41\n",
      "\n",
      "  Number of models                : 1 \n",
      "  Number of parameters            : 6\n",
      "  Number of free parameters       : 3\n",
      "\n",
      "  Component 0: SkyModel\n",
      "  \n",
      "    Name                      : model_simu\n",
      "    Datasets names            : None\n",
      "    Spectral model type       : CompoundSpectralModel\n",
      "    Spatial  model type       : \n",
      "    Temporal model type       : \n",
      "    Parameters:\n",
      "      amplitude                     :   1.00e-12   +/- 0.0e+00 1 / (cm2 s TeV)\n",
      "      reference             (frozen):      1.000       TeV         \n",
      "      alpha                         :      2.300   +/-    0.00             \n",
      "      beta                          :      0.500   +/-    0.00             \n",
      "      alpha_norm            (frozen):      1.000                   \n",
      "      redshift              (frozen):      0.000                   \n",
      "  \n",
      "  \n"
     ]
    }
   ],
   "source": [
    "# Set the model on the dataset, and fake\n",
    "dataset.models = skymodel\n",
    "dataset.fake(random_state=42)\n",
    "print(dataset)"
   ]
  },
  {
   "cell_type": "markdown",
   "id": "a16aaedc",
   "metadata": {},
   "source": [
    "You can see that background counts are now simulated."
   ]
  },
  {
   "cell_type": "markdown",
   "id": "f5833551",
   "metadata": {},
   "source": [
    "___"
   ]
  },
  {
   "cell_type": "markdown",
   "id": "3091a851",
   "metadata": {},
   "source": [
    "🔝 [Back to Top](#intro)<br>"
   ]
  },
  {
   "cell_type": "markdown",
   "id": "e9184705",
   "metadata": {},
   "source": [
    "<a id='step5'></a>\n",
    "### Step 5.0: On-Off Analysis\n",
    "\n",
    "To do an on off spectral analysis, which is the usual science case, the\n",
    "standard would be to use `SpectrumDatasetOnOff`, which uses the\n",
    "acceptance to fake off-counts"
   ]
  },
  {
   "cell_type": "markdown",
   "id": "bc2e9496",
   "metadata": {},
   "source": [
    "<a id='step5.1'></a>\n",
    "### Step 5.1: Simulating the Observations"
   ]
  },
  {
   "cell_type": "code",
   "execution_count": 38,
   "id": "cec597d4",
   "metadata": {},
   "outputs": [
    {
     "name": "stdout",
     "output_type": "stream",
     "text": [
      "SpectrumDatasetOnOff\n",
      "--------------------\n",
      "\n",
      "  Name                            : u3fQj497 \n",
      "\n",
      "  Total counts                    : 1302 \n",
      "  Total background counts         : 763.00\n",
      "  Total excess counts             : 539.00\n",
      "\n",
      "  Predicted counts                : 1296.35\n",
      "  Predicted background counts     : 765.75\n",
      "  Predicted excess counts         : 530.60\n",
      "\n",
      "  Exposure min                    : 6.16e+08 m2 s\n",
      "  Exposure max                    : 1.10e+11 m2 s\n",
      "\n",
      "  Number of total bins            : 15 \n",
      "  Number of fit bins              : 15 \n",
      "\n",
      "  Fit statistic type              : wstat\n",
      "  Fit statistic value (-2 log(L)) : 9.81\n",
      "\n",
      "  Number of models                : 1 \n",
      "  Number of parameters            : 6\n",
      "  Number of free parameters       : 3\n",
      "\n",
      "  Component 0: SkyModel\n",
      "  \n",
      "    Name                      : model_simu\n",
      "    Datasets names            : None\n",
      "    Spectral model type       : CompoundSpectralModel\n",
      "    Spatial  model type       : \n",
      "    Temporal model type       : \n",
      "    Parameters:\n",
      "      amplitude                     :   1.00e-12   +/- 0.0e+00 1 / (cm2 s TeV)\n",
      "      reference             (frozen):      1.000       TeV         \n",
      "      alpha                         :      2.300   +/-    0.00             \n",
      "      beta                          :      0.500   +/-    0.00             \n",
      "      alpha_norm            (frozen):      1.000                   \n",
      "      redshift              (frozen):      0.000                   \n",
      "  \n",
      "    Total counts_off                : 3815 \n",
      "  Acceptance                      : 15 \n",
      "  Acceptance off                  : 75 \n",
      "\n"
     ]
    }
   ],
   "source": [
    "# Spectrum dataset for on-off likelihood fitting.\n",
    "dataset_onoff = SpectrumDatasetOnOff.from_spectrum_dataset(\n",
    "    dataset=dataset, \n",
    "    acceptance=1, \n",
    "    acceptance_off=5\n",
    ")\n",
    "\n",
    "# Simulate fake counts (on and off) for the current model and reduced IRFs.\n",
    "dataset_onoff.fake(\n",
    "    random_state='random-seed', \n",
    "    npred_background=dataset.npred_background()\n",
    ")\n",
    "\n",
    "print(dataset_onoff)"
   ]
  },
  {
   "cell_type": "code",
   "execution_count": 39,
   "id": "68a76332",
   "metadata": {},
   "outputs": [
    {
     "name": "stdout",
     "output_type": "stream",
     "text": [
      "[[15.88923349]]\n"
     ]
    }
   ],
   "source": [
    "# Class to compute statistics for Poisson distributed variable with unknown background.\n",
    "significance = WStatCountsStatistic(\n",
    "    n_on=sum(dataset_onoff.counts.data), \n",
    "    n_off=sum(dataset_onoff.counts_off.data), \n",
    "    alpha=0.2).sqrt_ts\n",
    "print(significance)"
   ]
  },
  {
   "cell_type": "code",
   "execution_count": 40,
   "id": "2c521f88",
   "metadata": {},
   "outputs": [],
   "source": [
    "n_obs = 10 # We simulate each observation n_obs times, to randomize the renortets"
   ]
  },
  {
   "cell_type": "code",
   "execution_count": 41,
   "id": "c9fb961f",
   "metadata": {},
   "outputs": [
    {
     "name": "stdout",
     "output_type": "stream",
     "text": [
      " name counts       excess      ...   acceptance_off         alpha       \n",
      "                               ...                                      \n",
      "----- ------ ----------------- ... ----------------- -------------------\n",
      "obs-0   1298 552.7999267578125 ... 74.99999237060547 0.20000001788139343\n",
      "obs-1   1265 488.1999999999998 ... 74.99999999999999 0.20000000000000004\n",
      "obs-2   1285             534.4 ...              75.0                 0.2\n",
      "obs-3   1248             484.0 ...              75.0                 0.2\n",
      "obs-4   1292 537.5999999999999 ...              75.0                 0.2\n",
      "obs-5   1291 508.5999999999999 ...              75.0                 0.2\n",
      "obs-6   1274 541.1999999999998 ... 74.99999999999999 0.20000000000000004\n",
      "obs-7   1270 501.9999999999999 ... 74.99999999999999 0.20000000000000004\n",
      "obs-8   1286             519.4 ...              75.0                 0.2\n",
      "obs-9   1327 571.7999999999998 ... 74.99999999999999 0.20000000000000004\n"
     ]
    }
   ],
   "source": [
    "datasets = Datasets()\n",
    "\n",
    "for idx in range(n_obs):\n",
    "    dataset_onoff.fake(\n",
    "        random_state=idx, \n",
    "        npred_background=dataset.npred_background()\n",
    "    )\n",
    "    dataset_fake = dataset_onoff.copy(name=f\"obs-{idx}\")\n",
    "    dataset_fake.meta_table[\"OBS_ID\"] = [idx]\n",
    "    datasets.append(dataset_fake)\n",
    "\n",
    "table = datasets.info_table()\n",
    "print(table)"
   ]
  },
  {
   "cell_type": "markdown",
   "id": "ea41dc95",
   "metadata": {},
   "source": [
    "<a id='step5.2'></a>\n",
    "### Step 5.2: Plotting Counts, Excess and Significance"
   ]
  },
  {
   "cell_type": "code",
   "execution_count": 42,
   "id": "8029e147",
   "metadata": {},
   "outputs": [
    {
     "data": {
      "image/png": "[encoded data removed]",
      "text/plain": [
       "<Figure size 1200x400 with 4 Axes>"
      ]
     },
     "metadata": {},
     "output_type": "display_data"
    }
   ],
   "source": [
    "fix, axes = plt.subplots(1, 4, figsize=(12, 4))\n",
    "axes[0].hist(table[\"counts\"])\n",
    "axes[0].set_xlabel(\"Counts\")\n",
    "axes[0].set_ylabel(\"Frequency\");\n",
    "\n",
    "axes[1].hist(table[\"counts_off\"])\n",
    "axes[1].set_xlabel(\"Counts Off\");\n",
    "\n",
    "axes[2].hist(table[\"excess\"])\n",
    "axes[2].set_xlabel(\"excess\");\n",
    "\n",
    "axes[3].hist(table[\"sqrt_ts\"])\n",
    "axes[3].set_xlabel(r\"significance ($\\sigma$)\");\n",
    "\n",
    "path_counts = mkdir_base_child(\"analysis\", \"counts\")\n",
    "\n",
    "plt_savefig(path_counts, \"counts\")"
   ]
  },
  {
   "cell_type": "code",
   "execution_count": null,
   "id": "944585ca",
   "metadata": {},
   "outputs": [],
   "source": []
  },
  {
   "cell_type": "markdown",
   "id": "5714f61c",
   "metadata": {},
   "source": [
    "<a id='step5.3'></a>\n",
    "### Step 5.3: Computing the Sensitivity"
   ]
  },
  {
   "cell_type": "code",
   "execution_count": 43,
   "id": "43c839f9",
   "metadata": {},
   "outputs": [
    {
     "name": "stdout",
     "output_type": "stream",
     "text": [
      " energy      e2dnde     excess background  criterion  \n",
      "  TeV    erg / (cm2 s)                                \n",
      "-------- ------------- ------- ---------- ------------\n",
      "0.125893   8.53545e-13 64.3239      358.6 significance\n",
      "0.199526   4.87966e-13 47.3399      189.6 significance\n",
      "0.316228   4.96438e-13 33.2265       89.8 significance\n",
      "0.501187    4.2643e-13 25.6871       51.6 significance\n",
      "0.794328   3.59041e-13 18.2407       24.2 significance\n",
      " 1.25893   2.22385e-13 13.7334       12.6 significance\n",
      " 1.99526    2.5049e-13 11.5892        8.4 significance\n",
      " 3.16228   1.98714e-13 10.2449        6.2 significance\n",
      " 5.01187   3.00768e-13 9.69775        5.4 significance\n",
      " 7.94328   2.84218e-13 7.93686        3.2 significance\n",
      " 12.5893   3.46071e-13 6.93177        2.2 significance\n",
      " 19.9526   5.19867e-13 6.93177        2.2 significance\n",
      " 31.6228   6.52427e-13       5        0.6        gamma\n",
      " 50.1187   7.94814e-13       5        0.2        gamma\n",
      " 79.4328   1.98024e-12       5        0.4        gamma\n"
     ]
    },
    {
     "data": {
      "image/png": "[encoded data removed]",
      "text/plain": [
       "<Figure size 500x300 with 1 Axes>"
      ]
     },
     "metadata": {},
     "output_type": "display_data"
    }
   ],
   "source": [
    "import scienceplots\n",
    "\n",
    "plt.style.use(['science', 'notebook', 'grid'])\n",
    "\n",
    "sensitivity_estimator = SensitivityEstimator(\n",
    "    gamma_min=5, \n",
    "    n_sigma=3, \n",
    "    bkg_syst_fraction=0.10\n",
    ")\n",
    "sensitivity_table = sensitivity_estimator.run(dataset_onoff)\n",
    "print(sensitivity_table)\n",
    "\n",
    "# Plot the sensitivity curve\n",
    "t = sensitivity_table\n",
    "\n",
    "fix, axes = plt.subplots(figsize=(5, 3))\n",
    "\n",
    "axes.plot(t[\"energy\"], t[\"e2dnde\"], \"s-\", color=\"red\")\n",
    "axes.loglog()\n",
    "\n",
    "axes.set_xlabel(f\"Energy ({t['energy'].unit})\", size=13)\n",
    "axes.set_ylabel(f\"Sensitivity ({t['e2dnde'].unit})\", size=13)\n",
    "\n",
    "path_sens = mkdir_base_child(\"analysis\", \"sensitivity\")\n",
    "\n",
    "name = f'sensitivity_{irf_name}'\n",
    "plt_savefig(path_sens,  name)\n",
    "\n"
   ]
  },
  {
   "cell_type": "code",
   "execution_count": null,
   "id": "612f95ca",
   "metadata": {},
   "outputs": [],
   "source": []
  },
  {
   "cell_type": "code",
   "execution_count": 44,
   "id": "f6225d92",
   "metadata": {},
   "outputs": [],
   "source": [
    "sens_table_name = f\"{src_id}_{name}.csv\"\n",
    "sensitivity_table.write(\n",
    "    sens_table_name,\n",
    "    format = 'ascii.ecsv', \n",
    "    overwrite = True\n",
    ")  "
   ]
  },
  {
   "cell_type": "code",
   "execution_count": 45,
   "id": "276fba1b",
   "metadata": {},
   "outputs": [
    {
     "data": {
      "text/html": [
       "<div><i>Table length=15</i>\n",
       "<table id=\"table140517663835712\" class=\"table-striped table-bordered table-condensed\">\n",
       "<thead><tr><th>energy</th><th>e2dnde</th><th>excess</th><th>background</th><th>criterion</th></tr></thead>\n",
       "<thead><tr><th>TeV</th><th>erg / (cm2 s)</th><th></th><th></th><th></th></tr></thead>\n",
       "<thead><tr><th>float64</th><th>float64</th><th>float64</th><th>float64</th><th>bytes12</th></tr></thead>\n",
       "<tr><td>0.125893</td><td>8.53545e-13</td><td>64.3239</td><td>358.6</td><td>significance</td></tr>\n",
       "<tr><td>0.199526</td><td>4.87966e-13</td><td>47.3399</td><td>189.6</td><td>significance</td></tr>\n",
       "<tr><td>0.316228</td><td>4.96438e-13</td><td>33.2265</td><td>89.8</td><td>significance</td></tr>\n",
       "<tr><td>0.501187</td><td>4.2643e-13</td><td>25.6871</td><td>51.6</td><td>significance</td></tr>\n",
       "<tr><td>0.794328</td><td>3.59041e-13</td><td>18.2407</td><td>24.2</td><td>significance</td></tr>\n",
       "<tr><td>1.25893</td><td>2.22385e-13</td><td>13.7334</td><td>12.6</td><td>significance</td></tr>\n",
       "<tr><td>...</td><td>...</td><td>...</td><td>...</td><td>...</td></tr>\n",
       "<tr><td>7.94328</td><td>2.84218e-13</td><td>7.93686</td><td>3.2</td><td>significance</td></tr>\n",
       "<tr><td>12.5893</td><td>3.46071e-13</td><td>6.93177</td><td>2.2</td><td>significance</td></tr>\n",
       "<tr><td>19.9526</td><td>5.19867e-13</td><td>6.93177</td><td>2.2</td><td>significance</td></tr>\n",
       "<tr><td>31.6228</td><td>6.52427e-13</td><td>5</td><td>0.6</td><td>gamma</td></tr>\n",
       "<tr><td>50.1187</td><td>7.94814e-13</td><td>5</td><td>0.2</td><td>gamma</td></tr>\n",
       "<tr><td>79.4328</td><td>1.98024e-12</td><td>5</td><td>0.4</td><td>gamma</td></tr>\n",
       "</table></div>"
      ],
      "text/plain": [
       "<Table length=15>\n",
       " energy      e2dnde     excess background  criterion  \n",
       "  TeV    erg / (cm2 s)                                \n",
       "float64     float64    float64  float64     bytes12   \n",
       "-------- ------------- ------- ---------- ------------\n",
       "0.125893   8.53545e-13 64.3239      358.6 significance\n",
       "0.199526   4.87966e-13 47.3399      189.6 significance\n",
       "0.316228   4.96438e-13 33.2265       89.8 significance\n",
       "0.501187    4.2643e-13 25.6871       51.6 significance\n",
       "0.794328   3.59041e-13 18.2407       24.2 significance\n",
       " 1.25893   2.22385e-13 13.7334       12.6 significance\n",
       "     ...           ...     ...        ...          ...\n",
       " 7.94328   2.84218e-13 7.93686        3.2 significance\n",
       " 12.5893   3.46071e-13 6.93177        2.2 significance\n",
       " 19.9526   5.19867e-13 6.93177        2.2 significance\n",
       " 31.6228   6.52427e-13       5        0.6        gamma\n",
       " 50.1187   7.94814e-13       5        0.2        gamma\n",
       " 79.4328   1.98024e-12       5        0.4        gamma"
      ]
     },
     "execution_count": 45,
     "metadata": {},
     "output_type": "execute_result"
    }
   ],
   "source": [
    "t"
   ]
  },
  {
   "cell_type": "code",
   "execution_count": 46,
   "id": "4738dccf",
   "metadata": {},
   "outputs": [],
   "source": [
    "# help(SensitivityEstimator)"
   ]
  },
  {
   "cell_type": "markdown",
   "id": "013ea681",
   "metadata": {},
   "source": [
    "<a id='step5.4'></a>\n",
    "### Step 5.4:  Computing the Flux Points\n",
    "\n",
    "We can now compute some flux points using the `~gammapy.estimators.FluxPointsEstimator`. \n",
    "\n",
    "Besides the list of datasets to use, we must provide it the energy intervals on which to compute flux points as well as the model component name. "
   ]
  },
  {
   "cell_type": "code",
   "execution_count": 47,
   "id": "0b6306e7",
   "metadata": {
    "scrolled": true
   },
   "outputs": [
    {
     "data": {
      "text/html": [
       "<div><i>Table length=12</i>\n",
       "<table id=\"table140517663965088\" class=\"table-striped table-bordered table-condensed\">\n",
       "<thead><tr><th>e_ref</th><th>e_min</th><th>e_max</th><th>e2dnde</th><th>e2dnde_err</th><th>e2dnde_errp</th><th>e2dnde_errn</th><th>e2dnde_ul</th><th>ts</th><th>sqrt_ts</th><th>npred</th><th>npred_excess</th><th>stat</th><th>is_ul</th><th>counts</th><th>success</th><th>norm_scan</th><th>stat_scan</th></tr></thead>\n",
       "<thead><tr><th>TeV</th><th>TeV</th><th>TeV</th><th>TeV / (cm2 s)</th><th>TeV / (cm2 s)</th><th>TeV / (cm2 s)</th><th>TeV / (cm2 s)</th><th>TeV / (cm2 s)</th><th></th><th></th><th></th><th></th><th></th><th></th><th></th><th></th><th></th><th></th></tr></thead>\n",
       "<thead><tr><th>float64</th><th>float64</th><th>float64</th><th>float64</th><th>float64</th><th>float64</th><th>float64</th><th>float64</th><th>float64</th><th>float64</th><th>float64[10]</th><th>float32[10]</th><th>float64</th><th>bool</th><th>float64[10]</th><th>bool</th><th>float64[11]</th><th>float64[11]</th></tr></thead>\n",
       "<tr><td>0.126</td><td>0.100</td><td>0.158</td><td>2.875e-13</td><td>5.171e-14</td><td>5.191e-14</td><td>5.151e-14</td><td>3.918e-13</td><td>32.326</td><td>5.686</td><td>398.7130287369073 .. 401.55944793491324</td><td>38.357357 .. 38.357357</td><td>5.982</td><td>False</td><td>404.0 .. 427.0</td><td>True</td><td>0.200 .. 5.000</td><td>29.532 .. 192.321</td></tr>\n",
       "<tr><td>0.200</td><td>0.158</td><td>0.251</td><td>4.479e-13</td><td>3.406e-14</td><td>3.424e-14</td><td>3.389e-14</td><td>5.170e-13</td><td>199.720</td><td>14.132</td><td>250.57772491176232 .. 260.5693342197809</td><td>71.63197 .. 71.63197</td><td>3.354</td><td>False</td><td>260.0 .. 256.0</td><td>True</td><td>0.200 .. 5.000</td><td>130.990 .. 1589.883</td></tr>\n",
       "<tr><td>0.316</td><td>0.251</td><td>0.398</td><td>6.568e-13</td><td>4.021e-14</td><td>4.048e-14</td><td>3.994e-14</td><td>7.383e-13</td><td>339.377</td><td>18.422</td><td>166.84676656211283 .. 161.4374947993223</td><td>70.44683 .. 70.44683</td><td>9.033</td><td>False</td><td>153.0 .. 172.0</td><td>True</td><td>0.200 .. 5.000</td><td>207.532 .. 2589.227</td></tr>\n",
       "<tr><td>0.501</td><td>0.398</td><td>0.631</td><td>8.937e-13</td><td>4.007e-14</td><td>4.039e-14</td><td>3.974e-14</td><td>9.751e-13</td><td>760.919</td><td>27.585</td><td>134.37033070070243 .. 134.12424823308316</td><td>84.53015 .. 84.53015</td><td>15.348</td><td>False</td><td>143.0 .. 107.0</td><td>True</td><td>0.200 .. 5.000</td><td>444.974 .. 3683.760</td></tr>\n",
       "<tr><td>0.794</td><td>0.631</td><td>1.000</td><td>1.073e-12</td><td>4.214e-14</td><td>4.254e-14</td><td>4.175e-14</td><td>1.159e-12</td><td>1210.363</td><td>34.790</td><td>111.28857052135692 .. 111.16342917956526</td><td>85.97379 .. 85.97379</td><td>10.708</td><td>False</td><td>127.0 .. 133.0</td><td>True</td><td>0.200 .. 5.000</td><td>703.942 .. 3420.671</td></tr>\n",
       "<tr><td>1.259</td><td>1.000</td><td>1.585</td><td>8.904e-13</td><td>3.303e-14</td><td>3.336e-14</td><td>3.269e-14</td><td>9.577e-13</td><td>1569.522</td><td>39.617</td><td>97.81718303561587 .. 98.85546030232888</td><td>86.17479 .. 86.17479</td><td>5.800</td><td>False</td><td>108.0 .. 102.0</td><td>True</td><td>0.200 .. 5.000</td><td>844.123 .. 3888.275</td></tr>\n",
       "<tr><td>1.995</td><td>1.585</td><td>2.512</td><td>6.315e-13</td><td>3.280e-14</td><td>3.326e-14</td><td>3.235e-14</td><td>6.990e-13</td><td>782.796</td><td>27.978</td><td>51.195919583992385 .. 53.2601603719624</td><td>44.575123 .. 44.575123</td><td>5.430</td><td>False</td><td>52.0 .. 62.0</td><td>True</td><td>0.200 .. 5.000</td><td>428.083 .. 1981.248</td></tr>\n",
       "<tr><td>3.162</td><td>2.512</td><td>3.981</td><td>3.456e-13</td><td>2.221e-14</td><td>2.259e-14</td><td>2.183e-14</td><td>3.915e-13</td><td>502.432</td><td>22.415</td><td>33.69373734324272 .. 35.77586068732066</td><td>29.53314 .. 29.53314</td><td>13.444</td><td>False</td><td>24.0 .. 37.0</td><td>True</td><td>0.200 .. 5.000</td><td>278.404 .. 1406.070</td></tr>\n",
       "<tr><td>5.012</td><td>3.981</td><td>6.310</td><td>1.690e-13</td><td>2.247e-14</td><td>2.306e-14</td><td>2.191e-14</td><td>2.164e-13</td><td>89.913</td><td>9.482</td><td>13.461723093344517 .. 15.04218401891142</td><td>9.091701 .. 9.091701</td><td>8.393</td><td>False</td><td>13.0 .. 22.0</td><td>True</td><td>0.200 .. 5.000</td><td>61.368 .. 354.686</td></tr>\n",
       "<tr><td>7.943</td><td>6.310</td><td>10.000</td><td>5.492e-14</td><td>1.585e-14</td><td>1.641e-14</td><td>1.531e-14</td><td>8.890e-14</td><td>15.630</td><td>3.953</td><td>7.033109380264586 .. 6.30224518135147</td><td>2.9200182 .. 2.9200182</td><td>6.181</td><td>False</td><td>8.0 .. 8.0</td><td>True</td><td>0.200 .. 5.000</td><td>15.107 .. 124.015</td></tr>\n",
       "<tr><td>12.589</td><td>10.000</td><td>15.849</td><td>1.298e-14</td><td>1.511e-14</td><td>1.585e-14</td><td>nan</td><td>4.625e-14</td><td>0.801</td><td>0.895</td><td>3.8669302461938195 .. 2.3282507346666828</td><td>0.4949174 .. 0.4949174</td><td>16.965</td><td>True</td><td>6.0 .. 0.0</td><td>True</td><td>0.200 .. 5.000</td><td>17.371 .. 34.589</td></tr>\n",
       "<tr><td>19.953</td><td>15.849</td><td>25.119</td><td>2.513e-15</td><td>1.491e-14</td><td>1.608e-14</td><td>nan</td><td>nan</td><td>0.030</td><td>0.173</td><td>1.7220467844592 .. 2.0508796002433836</td><td>0.055380117 .. 0.055380117</td><td>9.351</td><td>True</td><td>0.0 .. 1.0</td><td>True</td><td>0.200 .. 5.000</td><td>9.364 .. 10.757</td></tr>\n",
       "</table></div>"
      ],
      "text/plain": [
       "<Table length=12>\n",
       " e_ref   e_min   e_max  ... success   norm_scan         stat_scan     \n",
       "  TeV     TeV     TeV   ...                                           \n",
       "float64 float64 float64 ...   bool   float64[11]       float64[11]    \n",
       "------- ------- ------- ... ------- -------------- -------------------\n",
       "  0.126   0.100   0.158 ...    True 0.200 .. 5.000   29.532 .. 192.321\n",
       "  0.200   0.158   0.251 ...    True 0.200 .. 5.000 130.990 .. 1589.883\n",
       "  0.316   0.251   0.398 ...    True 0.200 .. 5.000 207.532 .. 2589.227\n",
       "  0.501   0.398   0.631 ...    True 0.200 .. 5.000 444.974 .. 3683.760\n",
       "  0.794   0.631   1.000 ...    True 0.200 .. 5.000 703.942 .. 3420.671\n",
       "  1.259   1.000   1.585 ...    True 0.200 .. 5.000 844.123 .. 3888.275\n",
       "  1.995   1.585   2.512 ...    True 0.200 .. 5.000 428.083 .. 1981.248\n",
       "  3.162   2.512   3.981 ...    True 0.200 .. 5.000 278.404 .. 1406.070\n",
       "  5.012   3.981   6.310 ...    True 0.200 .. 5.000   61.368 .. 354.686\n",
       "  7.943   6.310  10.000 ...    True 0.200 .. 5.000   15.107 .. 124.015\n",
       " 12.589  10.000  15.849 ...    True 0.200 .. 5.000    17.371 .. 34.589\n",
       " 19.953  15.849  25.119 ...    True 0.200 .. 5.000     9.364 .. 10.757"
      ]
     },
     "metadata": {},
     "output_type": "display_data"
    }
   ],
   "source": [
    "#Compute flux points\n",
    "datasets.models = [skymodel]\n",
    "\n",
    "fit_joint = Fit()\n",
    "result_joint = fit_joint.run(datasets=datasets)\n",
    "\n",
    "# we make a copy here to compare it later\n",
    "model_best_joint = skymodel.copy()\n",
    "\n",
    "energy_edges = MapAxis.from_energy_bounds(\"0.1 TeV\", \"30 TeV\", nbin=12).edges\n",
    "\n",
    "fpe = FluxPointsEstimator(energy_edges=energy_edges, source=\"model_simu\", selection_optional=\"all\")\n",
    "flux_points = fpe.run(datasets=datasets)\n",
    "\n",
    "display(flux_points.to_table(sed_type=\"e2dnde\", formatted=True))"
   ]
  },
  {
   "cell_type": "code",
   "execution_count": 48,
   "id": "4f158996",
   "metadata": {},
   "outputs": [
    {
     "data": {
      "text/html": [
       "<div><i>Table length=12</i>\n",
       "<table id=\"table140517655602800\" class=\"table-striped table-bordered table-condensed\">\n",
       "<thead><tr><th>e_ref</th><th>e_min</th><th>e_max</th><th>dnde</th><th>dnde_err</th><th>dnde_errp</th><th>dnde_errn</th><th>dnde_ul</th><th>ts</th><th>sqrt_ts</th><th>npred</th><th>npred_excess</th><th>stat</th><th>is_ul</th><th>counts</th><th>success</th><th>norm_scan</th><th>stat_scan</th></tr></thead>\n",
       "<thead><tr><th>TeV</th><th>TeV</th><th>TeV</th><th>1 / (cm2 s TeV)</th><th>1 / (cm2 s TeV)</th><th>1 / (cm2 s TeV)</th><th>1 / (cm2 s TeV)</th><th>1 / (cm2 s TeV)</th><th></th><th></th><th></th><th></th><th></th><th></th><th></th><th></th><th></th><th></th></tr></thead>\n",
       "<thead><tr><th>float64</th><th>float64</th><th>float64</th><th>float64</th><th>float64</th><th>float64</th><th>float64</th><th>float64</th><th>float64</th><th>float64</th><th>float64[10]</th><th>float32[10]</th><th>float64</th><th>bool</th><th>float64[10]</th><th>bool</th><th>float64[11]</th><th>float64[11]</th></tr></thead>\n",
       "<tr><td>0.126</td><td>0.100</td><td>0.158</td><td>1.814e-11</td><td>3.263e-12</td><td>3.276e-12</td><td>3.250e-12</td><td>2.472e-11</td><td>32.326</td><td>5.686</td><td>398.7130287369073 .. 401.55944793491324</td><td>38.357357 .. 38.357357</td><td>5.982</td><td>False</td><td>404.0 .. 427.0</td><td>True</td><td>0.200 .. 5.000</td><td>29.532 .. 192.321</td></tr>\n",
       "<tr><td>0.200</td><td>0.158</td><td>0.251</td><td>1.125e-11</td><td>8.555e-13</td><td>8.601e-13</td><td>8.512e-13</td><td>1.299e-11</td><td>199.720</td><td>14.132</td><td>250.57772491176232 .. 260.5693342197809</td><td>71.63197 .. 71.63197</td><td>3.354</td><td>False</td><td>260.0 .. 256.0</td><td>True</td><td>0.200 .. 5.000</td><td>130.990 .. 1589.883</td></tr>\n",
       "<tr><td>0.316</td><td>0.251</td><td>0.398</td><td>6.568e-12</td><td>4.021e-13</td><td>4.048e-13</td><td>3.994e-13</td><td>7.383e-12</td><td>339.377</td><td>18.422</td><td>166.84676656211283 .. 161.4374947993223</td><td>70.44683 .. 70.44683</td><td>9.033</td><td>False</td><td>153.0 .. 172.0</td><td>True</td><td>0.200 .. 5.000</td><td>207.532 .. 2589.227</td></tr>\n",
       "<tr><td>0.501</td><td>0.398</td><td>0.631</td><td>3.558e-12</td><td>1.595e-13</td><td>1.608e-13</td><td>1.582e-13</td><td>3.882e-12</td><td>760.919</td><td>27.585</td><td>134.37033070070243 .. 134.12424823308316</td><td>84.53015 .. 84.53015</td><td>15.348</td><td>False</td><td>143.0 .. 107.0</td><td>True</td><td>0.200 .. 5.000</td><td>444.974 .. 3683.760</td></tr>\n",
       "<tr><td>0.794</td><td>0.631</td><td>1.000</td><td>1.700e-12</td><td>6.679e-14</td><td>6.742e-14</td><td>6.617e-14</td><td>1.836e-12</td><td>1210.363</td><td>34.790</td><td>111.28857052135692 .. 111.16342917956526</td><td>85.97379 .. 85.97379</td><td>10.708</td><td>False</td><td>127.0 .. 133.0</td><td>True</td><td>0.200 .. 5.000</td><td>703.942 .. 3420.671</td></tr>\n",
       "<tr><td>1.259</td><td>1.000</td><td>1.585</td><td>5.618e-13</td><td>2.084e-14</td><td>2.105e-14</td><td>2.063e-14</td><td>6.043e-13</td><td>1569.522</td><td>39.617</td><td>97.81718303561587 .. 98.85546030232888</td><td>86.17479 .. 86.17479</td><td>5.800</td><td>False</td><td>108.0 .. 102.0</td><td>True</td><td>0.200 .. 5.000</td><td>844.123 .. 3888.275</td></tr>\n",
       "<tr><td>1.995</td><td>1.585</td><td>2.512</td><td>1.586e-13</td><td>8.239e-15</td><td>8.355e-15</td><td>8.126e-15</td><td>1.756e-13</td><td>782.796</td><td>27.978</td><td>51.195919583992385 .. 53.2601603719624</td><td>44.575123 .. 44.575123</td><td>5.430</td><td>False</td><td>52.0 .. 62.0</td><td>True</td><td>0.200 .. 5.000</td><td>428.083 .. 1981.248</td></tr>\n",
       "<tr><td>3.162</td><td>2.512</td><td>3.981</td><td>3.456e-14</td><td>2.221e-15</td><td>2.259e-15</td><td>2.183e-15</td><td>3.915e-14</td><td>502.432</td><td>22.415</td><td>33.69373734324272 .. 35.77586068732066</td><td>29.53314 .. 29.53314</td><td>13.444</td><td>False</td><td>24.0 .. 37.0</td><td>True</td><td>0.200 .. 5.000</td><td>278.404 .. 1406.070</td></tr>\n",
       "<tr><td>5.012</td><td>3.981</td><td>6.310</td><td>6.727e-15</td><td>8.944e-16</td><td>9.178e-16</td><td>8.722e-16</td><td>8.615e-15</td><td>89.913</td><td>9.482</td><td>13.461723093344517 .. 15.04218401891142</td><td>9.091701 .. 9.091701</td><td>8.393</td><td>False</td><td>13.0 .. 22.0</td><td>True</td><td>0.200 .. 5.000</td><td>61.368 .. 354.686</td></tr>\n",
       "<tr><td>7.943</td><td>6.310</td><td>10.000</td><td>8.704e-16</td><td>2.512e-16</td><td>2.601e-16</td><td>2.426e-16</td><td>1.409e-15</td><td>15.630</td><td>3.953</td><td>7.033109380264586 .. 6.30224518135147</td><td>2.9200182 .. 2.9200182</td><td>6.181</td><td>False</td><td>8.0 .. 8.0</td><td>True</td><td>0.200 .. 5.000</td><td>15.107 .. 124.015</td></tr>\n",
       "<tr><td>12.589</td><td>10.000</td><td>15.849</td><td>8.193e-17</td><td>9.532e-17</td><td>9.998e-17</td><td>nan</td><td>2.918e-16</td><td>0.801</td><td>0.895</td><td>3.8669302461938195 .. 2.3282507346666828</td><td>0.4949174 .. 0.4949174</td><td>16.965</td><td>True</td><td>6.0 .. 0.0</td><td>True</td><td>0.200 .. 5.000</td><td>17.371 .. 34.589</td></tr>\n",
       "<tr><td>19.953</td><td>15.849</td><td>25.119</td><td>6.313e-18</td><td>3.746e-17</td><td>4.038e-17</td><td>nan</td><td>nan</td><td>0.030</td><td>0.173</td><td>1.7220467844592 .. 2.0508796002433836</td><td>0.055380117 .. 0.055380117</td><td>9.351</td><td>True</td><td>0.0 .. 1.0</td><td>True</td><td>0.200 .. 5.000</td><td>9.364 .. 10.757</td></tr>\n",
       "</table></div>"
      ],
      "text/plain": [
       "<Table length=12>\n",
       " e_ref   e_min   e_max  ... success   norm_scan         stat_scan     \n",
       "  TeV     TeV     TeV   ...                                           \n",
       "float64 float64 float64 ...   bool   float64[11]       float64[11]    \n",
       "------- ------- ------- ... ------- -------------- -------------------\n",
       "  0.126   0.100   0.158 ...    True 0.200 .. 5.000   29.532 .. 192.321\n",
       "  0.200   0.158   0.251 ...    True 0.200 .. 5.000 130.990 .. 1589.883\n",
       "  0.316   0.251   0.398 ...    True 0.200 .. 5.000 207.532 .. 2589.227\n",
       "  0.501   0.398   0.631 ...    True 0.200 .. 5.000 444.974 .. 3683.760\n",
       "  0.794   0.631   1.000 ...    True 0.200 .. 5.000 703.942 .. 3420.671\n",
       "  1.259   1.000   1.585 ...    True 0.200 .. 5.000 844.123 .. 3888.275\n",
       "  1.995   1.585   2.512 ...    True 0.200 .. 5.000 428.083 .. 1981.248\n",
       "  3.162   2.512   3.981 ...    True 0.200 .. 5.000 278.404 .. 1406.070\n",
       "  5.012   3.981   6.310 ...    True 0.200 .. 5.000   61.368 .. 354.686\n",
       "  7.943   6.310  10.000 ...    True 0.200 .. 5.000   15.107 .. 124.015\n",
       " 12.589  10.000  15.849 ...    True 0.200 .. 5.000    17.371 .. 34.589\n",
       " 19.953  15.849  25.119 ...    True 0.200 .. 5.000     9.364 .. 10.757"
      ]
     },
     "metadata": {},
     "output_type": "display_data"
    }
   ],
   "source": [
    "display(flux_points.to_table(sed_type=\"dnde\", formatted=True))"
   ]
  },
  {
   "cell_type": "code",
   "execution_count": 49,
   "id": "5b7cca55",
   "metadata": {
    "scrolled": true
   },
   "outputs": [],
   "source": [
    "e_ref = []\n",
    "e_min = []\n",
    "e_max = []\n",
    "dnde = []\n",
    "dnde_err = []\n",
    "subtract_emin = []\n",
    "subtract_emax = []\n",
    "\n",
    "for j in range(len(flux_points[\"energy_max\"].value)):\n",
    "    if flux_points[\"dnde\"].data[j] > 0:\n",
    "        e_ref.append(flux_points[\"energy_ref\"].value[j])\n",
    "        e_min.append(flux_points[\"energy_min\"].value[j])\n",
    "        e_max.append(flux_points[\"energy_max\"].value[j])\n",
    "        dnde.append(flux_points[\"dnde\"].data[j][0])\n",
    "        dnde_err.append(flux_points[\"dnde_err\"].data[j][0])\n",
    "flux_TEV = np.hstack((dnde))#*1e+06\n",
    "flux_err_TEV = np.hstack((dnde_err))#*1e+06  \n",
    "energy = np.hstack((e_ref))\n"
   ]
  },
  {
   "cell_type": "code",
   "execution_count": 50,
   "id": "dc7cd1b5",
   "metadata": {},
   "outputs": [
    {
     "data": {
      "text/plain": [
       "[0.12589254117941673,\n",
       " 0.19952623149688797,\n",
       " 0.31622776601683805,\n",
       " 0.5011872336272724,\n",
       " 0.7943282347242816,\n",
       " 1.2589254117941675,\n",
       " 1.9952623149688802,\n",
       " 3.1622776601683795,\n",
       " 5.011872336272723,\n",
       " 7.943282347242814,\n",
       " 12.58925411794167,\n",
       " 19.952623149688797]"
      ]
     },
     "execution_count": 50,
     "metadata": {},
     "output_type": "execute_result"
    }
   ],
   "source": [
    "e_ref\n"
   ]
  },
  {
   "cell_type": "code",
   "execution_count": 51,
   "id": "99dbe55b",
   "metadata": {},
   "outputs": [
    {
     "data": {
      "text/plain": [
       "array([ 0.12589254,  0.19952623,  0.31622777,  0.50118723,  0.79432823,\n",
       "        1.25892541,  1.99526231,  3.16227766,  5.01187234,  7.94328235,\n",
       "       12.58925412, 19.95262315])"
      ]
     },
     "execution_count": 51,
     "metadata": {},
     "output_type": "execute_result"
    }
   ],
   "source": [
    "energy"
   ]
  },
  {
   "cell_type": "code",
   "execution_count": 52,
   "id": "2659284b",
   "metadata": {},
   "outputs": [
    {
     "data": {
      "image/png": "[encoded data removed]",
      "text/plain": [
       "<Figure size 800x600 with 1 Axes>"
      ]
     },
     "metadata": {},
     "output_type": "display_data"
    }
   ],
   "source": [
    "energy_bounds = [0.1, 50] * u.TeV\n",
    "plt.figure()\n",
    "absspecmodel.plot(\n",
    "    energy_bounds, \n",
    "    label='intrinsic spectrum + EBL'\n",
    ")\n",
    "\n",
    "xerr = [np.hstack((e_ref))-np.hstack((e_min)), np.hstack((e_max))-np.hstack((e_ref))]\n",
    "plt.errorbar(\n",
    "    energy, \n",
    "    flux_TEV, \n",
    "    color='red', \n",
    "    marker='o', \n",
    "    xerr = xerr, \n",
    "    yerr = flux_err_TEV, \n",
    "    linestyle='', \n",
    "    label='measured spectrum')\n",
    "plt.grid(which=\"both\")\n",
    "plt.ylim(1e-18, 1e-8)\n",
    "plt.legend(loc=\"best\")\n",
    "plt.title(\"M87\")\n",
    "\n",
    "path_flux = mkdir_base_child(\"analysis\", \"flux_point\")\n",
    "\n",
    "plt_savefig(path_flux, \"flux_point\")\n",
    "\n",
    "plt.savefig('./spectrum_srcM87.png', bbox_inches='tight')\n",
    "\n",
    "plt.savefig('./M87_gammapy_flux_point.png', bbox_inches='tight')\n",
    "plt.savefig('./M87_gammapy_flux_point.pdf', bbox_inches='tight')\n",
    "\n",
    "plt.show()"
   ]
  },
  {
   "cell_type": "code",
   "execution_count": 53,
   "id": "6c4c70f1",
   "metadata": {},
   "outputs": [
    {
     "data": {
      "text/html": [
       "<div><i>Table length=12</i>\n",
       "<table id=\"table140517646449488\" class=\"table-striped table-bordered table-condensed\">\n",
       "<thead><tr><th>e_ref</th><th>e_min</th><th>e_max</th><th>e2dnde</th><th>e2dnde_err</th><th>e2dnde_errp</th><th>e2dnde_errn</th><th>e2dnde_ul</th><th>ts</th><th>sqrt_ts</th><th>npred</th><th>npred_excess</th><th>stat</th><th>is_ul</th><th>counts</th><th>success</th><th>norm_scan</th><th>stat_scan</th></tr></thead>\n",
       "<thead><tr><th>TeV</th><th>TeV</th><th>TeV</th><th>TeV / (cm2 s)</th><th>TeV / (cm2 s)</th><th>TeV / (cm2 s)</th><th>TeV / (cm2 s)</th><th>TeV / (cm2 s)</th><th></th><th></th><th></th><th></th><th></th><th></th><th></th><th></th><th></th><th></th></tr></thead>\n",
       "<thead><tr><th>float64</th><th>float64</th><th>float64</th><th>float64</th><th>float64</th><th>float64</th><th>float64</th><th>float64</th><th>float64</th><th>float64</th><th>float64[10]</th><th>float32[10]</th><th>float64</th><th>bool</th><th>float64[10]</th><th>bool</th><th>float64[11]</th><th>float64[11]</th></tr></thead>\n",
       "<tr><td>0.126</td><td>0.100</td><td>0.158</td><td>2.875e-13</td><td>5.171e-14</td><td>5.191e-14</td><td>5.151e-14</td><td>3.918e-13</td><td>32.326</td><td>5.686</td><td>398.7130287369073 .. 401.55944793491324</td><td>38.357357 .. 38.357357</td><td>5.982</td><td>False</td><td>404.0 .. 427.0</td><td>True</td><td>0.200 .. 5.000</td><td>29.532 .. 192.321</td></tr>\n",
       "<tr><td>0.200</td><td>0.158</td><td>0.251</td><td>4.479e-13</td><td>3.406e-14</td><td>3.424e-14</td><td>3.389e-14</td><td>5.170e-13</td><td>199.720</td><td>14.132</td><td>250.57772491176232 .. 260.5693342197809</td><td>71.63197 .. 71.63197</td><td>3.354</td><td>False</td><td>260.0 .. 256.0</td><td>True</td><td>0.200 .. 5.000</td><td>130.990 .. 1589.883</td></tr>\n",
       "<tr><td>0.316</td><td>0.251</td><td>0.398</td><td>6.568e-13</td><td>4.021e-14</td><td>4.048e-14</td><td>3.994e-14</td><td>7.383e-13</td><td>339.377</td><td>18.422</td><td>166.84676656211283 .. 161.4374947993223</td><td>70.44683 .. 70.44683</td><td>9.033</td><td>False</td><td>153.0 .. 172.0</td><td>True</td><td>0.200 .. 5.000</td><td>207.532 .. 2589.227</td></tr>\n",
       "<tr><td>0.501</td><td>0.398</td><td>0.631</td><td>8.937e-13</td><td>4.007e-14</td><td>4.039e-14</td><td>3.974e-14</td><td>9.751e-13</td><td>760.919</td><td>27.585</td><td>134.37033070070243 .. 134.12424823308316</td><td>84.53015 .. 84.53015</td><td>15.348</td><td>False</td><td>143.0 .. 107.0</td><td>True</td><td>0.200 .. 5.000</td><td>444.974 .. 3683.760</td></tr>\n",
       "<tr><td>0.794</td><td>0.631</td><td>1.000</td><td>1.073e-12</td><td>4.214e-14</td><td>4.254e-14</td><td>4.175e-14</td><td>1.159e-12</td><td>1210.363</td><td>34.790</td><td>111.28857052135692 .. 111.16342917956526</td><td>85.97379 .. 85.97379</td><td>10.708</td><td>False</td><td>127.0 .. 133.0</td><td>True</td><td>0.200 .. 5.000</td><td>703.942 .. 3420.671</td></tr>\n",
       "<tr><td>1.259</td><td>1.000</td><td>1.585</td><td>8.904e-13</td><td>3.303e-14</td><td>3.336e-14</td><td>3.269e-14</td><td>9.577e-13</td><td>1569.522</td><td>39.617</td><td>97.81718303561587 .. 98.85546030232888</td><td>86.17479 .. 86.17479</td><td>5.800</td><td>False</td><td>108.0 .. 102.0</td><td>True</td><td>0.200 .. 5.000</td><td>844.123 .. 3888.275</td></tr>\n",
       "<tr><td>1.995</td><td>1.585</td><td>2.512</td><td>6.315e-13</td><td>3.280e-14</td><td>3.326e-14</td><td>3.235e-14</td><td>6.990e-13</td><td>782.796</td><td>27.978</td><td>51.195919583992385 .. 53.2601603719624</td><td>44.575123 .. 44.575123</td><td>5.430</td><td>False</td><td>52.0 .. 62.0</td><td>True</td><td>0.200 .. 5.000</td><td>428.083 .. 1981.248</td></tr>\n",
       "<tr><td>3.162</td><td>2.512</td><td>3.981</td><td>3.456e-13</td><td>2.221e-14</td><td>2.259e-14</td><td>2.183e-14</td><td>3.915e-13</td><td>502.432</td><td>22.415</td><td>33.69373734324272 .. 35.77586068732066</td><td>29.53314 .. 29.53314</td><td>13.444</td><td>False</td><td>24.0 .. 37.0</td><td>True</td><td>0.200 .. 5.000</td><td>278.404 .. 1406.070</td></tr>\n",
       "<tr><td>5.012</td><td>3.981</td><td>6.310</td><td>1.690e-13</td><td>2.247e-14</td><td>2.306e-14</td><td>2.191e-14</td><td>2.164e-13</td><td>89.913</td><td>9.482</td><td>13.461723093344517 .. 15.04218401891142</td><td>9.091701 .. 9.091701</td><td>8.393</td><td>False</td><td>13.0 .. 22.0</td><td>True</td><td>0.200 .. 5.000</td><td>61.368 .. 354.686</td></tr>\n",
       "<tr><td>7.943</td><td>6.310</td><td>10.000</td><td>5.492e-14</td><td>1.585e-14</td><td>1.641e-14</td><td>1.531e-14</td><td>8.890e-14</td><td>15.630</td><td>3.953</td><td>7.033109380264586 .. 6.30224518135147</td><td>2.9200182 .. 2.9200182</td><td>6.181</td><td>False</td><td>8.0 .. 8.0</td><td>True</td><td>0.200 .. 5.000</td><td>15.107 .. 124.015</td></tr>\n",
       "<tr><td>12.589</td><td>10.000</td><td>15.849</td><td>1.298e-14</td><td>1.511e-14</td><td>1.585e-14</td><td>nan</td><td>4.625e-14</td><td>0.801</td><td>0.895</td><td>3.8669302461938195 .. 2.3282507346666828</td><td>0.4949174 .. 0.4949174</td><td>16.965</td><td>True</td><td>6.0 .. 0.0</td><td>True</td><td>0.200 .. 5.000</td><td>17.371 .. 34.589</td></tr>\n",
       "<tr><td>19.953</td><td>15.849</td><td>25.119</td><td>2.513e-15</td><td>1.491e-14</td><td>1.608e-14</td><td>nan</td><td>nan</td><td>0.030</td><td>0.173</td><td>1.7220467844592 .. 2.0508796002433836</td><td>0.055380117 .. 0.055380117</td><td>9.351</td><td>True</td><td>0.0 .. 1.0</td><td>True</td><td>0.200 .. 5.000</td><td>9.364 .. 10.757</td></tr>\n",
       "</table></div>"
      ],
      "text/plain": [
       "<Table length=12>\n",
       " e_ref   e_min   e_max  ... success   norm_scan         stat_scan     \n",
       "  TeV     TeV     TeV   ...                                           \n",
       "float64 float64 float64 ...   bool   float64[11]       float64[11]    \n",
       "------- ------- ------- ... ------- -------------- -------------------\n",
       "  0.126   0.100   0.158 ...    True 0.200 .. 5.000   29.532 .. 192.321\n",
       "  0.200   0.158   0.251 ...    True 0.200 .. 5.000 130.990 .. 1589.883\n",
       "  0.316   0.251   0.398 ...    True 0.200 .. 5.000 207.532 .. 2589.227\n",
       "  0.501   0.398   0.631 ...    True 0.200 .. 5.000 444.974 .. 3683.760\n",
       "  0.794   0.631   1.000 ...    True 0.200 .. 5.000 703.942 .. 3420.671\n",
       "  1.259   1.000   1.585 ...    True 0.200 .. 5.000 844.123 .. 3888.275\n",
       "  1.995   1.585   2.512 ...    True 0.200 .. 5.000 428.083 .. 1981.248\n",
       "  3.162   2.512   3.981 ...    True 0.200 .. 5.000 278.404 .. 1406.070\n",
       "  5.012   3.981   6.310 ...    True 0.200 .. 5.000   61.368 .. 354.686\n",
       "  7.943   6.310  10.000 ...    True 0.200 .. 5.000   15.107 .. 124.015\n",
       " 12.589  10.000  15.849 ...    True 0.200 .. 5.000    17.371 .. 34.589\n",
       " 19.953  15.849  25.119 ...    True 0.200 .. 5.000     9.364 .. 10.757"
      ]
     },
     "execution_count": 53,
     "metadata": {},
     "output_type": "execute_result"
    }
   ],
   "source": [
    "CTA_table = flux_points.to_table(sed_type=\"e2dnde\", formatted=True)\n",
    "CTA_table"
   ]
  },
  {
   "cell_type": "code",
   "execution_count": 54,
   "id": "4bbf7378",
   "metadata": {},
   "outputs": [],
   "source": [
    "CTA_table[\"e2dnde\"][:] = CTA_table[\"e2dnde\"].to(u.Unit(\"erg cm-2 s-1\")) \n",
    "CTA_table[\"e2dnde\"].unit = u.Unit(\"erg cm-2 s-1\")\n",
    "\n",
    "CTA_table[\"e2dnde_err\"][:] = CTA_table[\"e2dnde_err\"].to(u.Unit(\"erg cm-2 s-1\")) \n",
    "CTA_table[\"e2dnde_err\"].unit = u.Unit(\"erg cm-2 s-1\")\n",
    "\n",
    "CTA_table[\"e2dnde_errp\"][:] = CTA_table[\"e2dnde_errp\"].to(u.Unit(\"erg cm-2 s-1\")) \n",
    "CTA_table[\"e2dnde_errp\"].unit = u.Unit(\"erg cm-2 s-1\")\n",
    "\n",
    "CTA_table[\"e2dnde_errn\"][:] = CTA_table[\"e2dnde_errn\"].to(u.Unit(\"erg cm-2 s-1\")) \n",
    "CTA_table[\"e2dnde_errn\"].unit = u.Unit(\"erg cm-2 s-1\")\n",
    "\n",
    "CTA_table[\"e2dnde_ul\"][:] = CTA_table[\"e2dnde_ul\"].to(u.Unit(\"erg cm-2 s-1\")) \n",
    "CTA_table[\"e2dnde_ul\"].unit = u.Unit(\"erg cm-2 s-1\")"
   ]
  },
  {
   "cell_type": "code",
   "execution_count": 55,
   "id": "171598c0",
   "metadata": {},
   "outputs": [
    {
     "data": {
      "text/html": [
       "<div><i>Table length=12</i>\n",
       "<table id=\"table140517646449488\" class=\"table-striped table-bordered table-condensed\">\n",
       "<thead><tr><th>e_ref</th><th>e_min</th><th>e_max</th><th>e2dnde</th><th>e2dnde_err</th><th>e2dnde_errp</th><th>e2dnde_errn</th><th>e2dnde_ul</th><th>ts</th><th>sqrt_ts</th><th>npred</th><th>npred_excess</th><th>stat</th><th>is_ul</th><th>counts</th><th>success</th><th>norm_scan</th><th>stat_scan</th></tr></thead>\n",
       "<thead><tr><th>TeV</th><th>TeV</th><th>TeV</th><th>erg / (cm2 s)</th><th>erg / (cm2 s)</th><th>erg / (cm2 s)</th><th>erg / (cm2 s)</th><th>erg / (cm2 s)</th><th></th><th></th><th></th><th></th><th></th><th></th><th></th><th></th><th></th><th></th></tr></thead>\n",
       "<thead><tr><th>float64</th><th>float64</th><th>float64</th><th>float64</th><th>float64</th><th>float64</th><th>float64</th><th>float64</th><th>float64</th><th>float64</th><th>float64[10]</th><th>float32[10]</th><th>float64</th><th>bool</th><th>float64[10]</th><th>bool</th><th>float64[11]</th><th>float64[11]</th></tr></thead>\n",
       "<tr><td>0.126</td><td>0.100</td><td>0.158</td><td>4.606e-13</td><td>8.285e-14</td><td>8.318e-14</td><td>8.252e-14</td><td>6.277e-13</td><td>32.326</td><td>5.686</td><td>398.7130287369073 .. 401.55944793491324</td><td>38.357357 .. 38.357357</td><td>5.982</td><td>False</td><td>404.0 .. 427.0</td><td>True</td><td>0.200 .. 5.000</td><td>29.532 .. 192.321</td></tr>\n",
       "<tr><td>0.200</td><td>0.158</td><td>0.251</td><td>7.176e-13</td><td>5.457e-14</td><td>5.486e-14</td><td>5.429e-14</td><td>8.283e-13</td><td>199.720</td><td>14.132</td><td>250.57772491176232 .. 260.5693342197809</td><td>71.63197 .. 71.63197</td><td>3.354</td><td>False</td><td>260.0 .. 256.0</td><td>True</td><td>0.200 .. 5.000</td><td>130.990 .. 1589.883</td></tr>\n",
       "<tr><td>0.316</td><td>0.251</td><td>0.398</td><td>1.052e-12</td><td>6.442e-14</td><td>6.486e-14</td><td>6.399e-14</td><td>1.183e-12</td><td>339.377</td><td>18.422</td><td>166.84676656211283 .. 161.4374947993223</td><td>70.44683 .. 70.44683</td><td>9.033</td><td>False</td><td>153.0 .. 172.0</td><td>True</td><td>0.200 .. 5.000</td><td>207.532 .. 2589.227</td></tr>\n",
       "<tr><td>0.501</td><td>0.398</td><td>0.631</td><td>1.432e-12</td><td>6.420e-14</td><td>6.471e-14</td><td>6.368e-14</td><td>1.562e-12</td><td>760.919</td><td>27.585</td><td>134.37033070070243 .. 134.12424823308316</td><td>84.53015 .. 84.53015</td><td>15.348</td><td>False</td><td>143.0 .. 107.0</td><td>True</td><td>0.200 .. 5.000</td><td>444.974 .. 3683.760</td></tr>\n",
       "<tr><td>0.794</td><td>0.631</td><td>1.000</td><td>1.719e-12</td><td>6.752e-14</td><td>6.816e-14</td><td>6.689e-14</td><td>1.856e-12</td><td>1210.363</td><td>34.790</td><td>111.28857052135692 .. 111.16342917956526</td><td>85.97379 .. 85.97379</td><td>10.708</td><td>False</td><td>127.0 .. 133.0</td><td>True</td><td>0.200 .. 5.000</td><td>703.942 .. 3420.671</td></tr>\n",
       "<tr><td>1.259</td><td>1.000</td><td>1.585</td><td>1.426e-12</td><td>5.291e-14</td><td>5.345e-14</td><td>5.238e-14</td><td>1.534e-12</td><td>1569.522</td><td>39.617</td><td>97.81718303561587 .. 98.85546030232888</td><td>86.17479 .. 86.17479</td><td>5.800</td><td>False</td><td>108.0 .. 102.0</td><td>True</td><td>0.200 .. 5.000</td><td>844.123 .. 3888.275</td></tr>\n",
       "<tr><td>1.995</td><td>1.585</td><td>2.512</td><td>1.012e-12</td><td>5.255e-14</td><td>5.329e-14</td><td>5.183e-14</td><td>1.120e-12</td><td>782.796</td><td>27.978</td><td>51.195919583992385 .. 53.2601603719624</td><td>44.575123 .. 44.575123</td><td>5.430</td><td>False</td><td>52.0 .. 62.0</td><td>True</td><td>0.200 .. 5.000</td><td>428.083 .. 1981.248</td></tr>\n",
       "<tr><td>3.162</td><td>2.512</td><td>3.981</td><td>5.537e-13</td><td>3.558e-14</td><td>3.619e-14</td><td>3.498e-14</td><td>6.273e-13</td><td>502.432</td><td>22.415</td><td>33.69373734324272 .. 35.77586068732066</td><td>29.53314 .. 29.53314</td><td>13.444</td><td>False</td><td>24.0 .. 37.0</td><td>True</td><td>0.200 .. 5.000</td><td>278.404 .. 1406.070</td></tr>\n",
       "<tr><td>5.012</td><td>3.981</td><td>6.310</td><td>2.707e-13</td><td>3.600e-14</td><td>3.694e-14</td><td>3.510e-14</td><td>3.467e-13</td><td>89.913</td><td>9.482</td><td>13.461723093344517 .. 15.04218401891142</td><td>9.091701 .. 9.091701</td><td>8.393</td><td>False</td><td>13.0 .. 22.0</td><td>True</td><td>0.200 .. 5.000</td><td>61.368 .. 354.686</td></tr>\n",
       "<tr><td>7.943</td><td>6.310</td><td>10.000</td><td>8.799e-14</td><td>2.539e-14</td><td>2.629e-14</td><td>2.452e-14</td><td>1.424e-13</td><td>15.630</td><td>3.953</td><td>7.033109380264586 .. 6.30224518135147</td><td>2.9200182 .. 2.9200182</td><td>6.181</td><td>False</td><td>8.0 .. 8.0</td><td>True</td><td>0.200 .. 5.000</td><td>15.107 .. 124.015</td></tr>\n",
       "<tr><td>12.589</td><td>10.000</td><td>15.849</td><td>2.080e-14</td><td>2.420e-14</td><td>2.539e-14</td><td>nan</td><td>7.410e-14</td><td>0.801</td><td>0.895</td><td>3.8669302461938195 .. 2.3282507346666828</td><td>0.4949174 .. 0.4949174</td><td>16.965</td><td>True</td><td>6.0 .. 0.0</td><td>True</td><td>0.200 .. 5.000</td><td>17.371 .. 34.589</td></tr>\n",
       "<tr><td>19.953</td><td>15.849</td><td>25.119</td><td>4.027e-15</td><td>2.389e-14</td><td>2.576e-14</td><td>nan</td><td>nan</td><td>0.030</td><td>0.173</td><td>1.7220467844592 .. 2.0508796002433836</td><td>0.055380117 .. 0.055380117</td><td>9.351</td><td>True</td><td>0.0 .. 1.0</td><td>True</td><td>0.200 .. 5.000</td><td>9.364 .. 10.757</td></tr>\n",
       "</table></div>"
      ],
      "text/plain": [
       "<Table length=12>\n",
       " e_ref   e_min   e_max  ... success   norm_scan         stat_scan     \n",
       "  TeV     TeV     TeV   ...                                           \n",
       "float64 float64 float64 ...   bool   float64[11]       float64[11]    \n",
       "------- ------- ------- ... ------- -------------- -------------------\n",
       "  0.126   0.100   0.158 ...    True 0.200 .. 5.000   29.532 .. 192.321\n",
       "  0.200   0.158   0.251 ...    True 0.200 .. 5.000 130.990 .. 1589.883\n",
       "  0.316   0.251   0.398 ...    True 0.200 .. 5.000 207.532 .. 2589.227\n",
       "  0.501   0.398   0.631 ...    True 0.200 .. 5.000 444.974 .. 3683.760\n",
       "  0.794   0.631   1.000 ...    True 0.200 .. 5.000 703.942 .. 3420.671\n",
       "  1.259   1.000   1.585 ...    True 0.200 .. 5.000 844.123 .. 3888.275\n",
       "  1.995   1.585   2.512 ...    True 0.200 .. 5.000 428.083 .. 1981.248\n",
       "  3.162   2.512   3.981 ...    True 0.200 .. 5.000 278.404 .. 1406.070\n",
       "  5.012   3.981   6.310 ...    True 0.200 .. 5.000   61.368 .. 354.686\n",
       "  7.943   6.310  10.000 ...    True 0.200 .. 5.000   15.107 .. 124.015\n",
       " 12.589  10.000  15.849 ...    True 0.200 .. 5.000    17.371 .. 34.589\n",
       " 19.953  15.849  25.119 ...    True 0.200 .. 5.000     9.364 .. 10.757"
      ]
     },
     "execution_count": 55,
     "metadata": {},
     "output_type": "execute_result"
    }
   ],
   "source": [
    "CTA_table"
   ]
  },
  {
   "cell_type": "code",
   "execution_count": 56,
   "id": "0def1152",
   "metadata": {},
   "outputs": [],
   "source": [
    "# if path_os not in sys.path:\n",
    "#     sys.path.append(path_os)\n",
    "CTA_table_name = f\"CTA_{src_id}.csv\"\n",
    "CTA_table.write(\n",
    "    CTA_table_name,\n",
    "    format = 'ascii.ecsv', \n",
    "    overwrite = True\n",
    ")   "
   ]
  },
  {
   "cell_type": "code",
   "execution_count": 57,
   "id": "2383b5df",
   "metadata": {},
   "outputs": [
    {
     "data": {
      "text/html": [
       "<div><i>Table length=12</i>\n",
       "<table id=\"table140517652203792\" class=\"table-striped table-bordered table-condensed\">\n",
       "<thead><tr><th>e_ref</th><th>e_min</th><th>e_max</th><th>e2dnde</th><th>e2dnde_err</th><th>e2dnde_errp</th><th>e2dnde_errn</th><th>e2dnde_ul</th><th>ts</th><th>sqrt_ts</th><th>npred</th><th>npred_excess</th><th>stat</th><th>is_ul</th><th>counts</th><th>success</th><th>norm_scan</th><th>stat_scan</th></tr></thead>\n",
       "<thead><tr><th>TeV</th><th>TeV</th><th>TeV</th><th>erg / (cm2 s)</th><th>erg / (cm2 s)</th><th>erg / (cm2 s)</th><th>erg / (cm2 s)</th><th>erg / (cm2 s)</th><th></th><th></th><th></th><th></th><th></th><th></th><th></th><th></th><th></th><th></th></tr></thead>\n",
       "<thead><tr><th>float64</th><th>float64</th><th>float64</th><th>float64</th><th>float64</th><th>float64</th><th>float64</th><th>float64</th><th>float64</th><th>float64</th><th>float64[10]</th><th>float32[10]</th><th>float64</th><th>bool</th><th>float64[10]</th><th>bool</th><th>float64[11]</th><th>float64[11]</th></tr></thead>\n",
       "<tr><td>0.126</td><td>0.100</td><td>0.158</td><td>4.606e-13</td><td>8.285e-14</td><td>8.318e-14</td><td>8.252e-14</td><td>6.277e-13</td><td>32.326</td><td>5.686</td><td>398.713028749211 .. 401.55944794710183</td><td>38.357357 .. 38.357357</td><td>5.982</td><td>False</td><td>404.0 .. 427.0</td><td>True</td><td>0.200 .. 5.000</td><td>29.532 .. 192.321</td></tr>\n",
       "<tr><td>0.200</td><td>0.158</td><td>0.251</td><td>7.176e-13</td><td>5.457e-14</td><td>5.486e-14</td><td>5.429e-14</td><td>8.283e-13</td><td>199.720</td><td>14.132</td><td>250.5777249668169 .. 260.5693342751895</td><td>71.63197 .. 71.63197</td><td>3.354</td><td>False</td><td>260.0 .. 256.0</td><td>True</td><td>0.200 .. 5.000</td><td>130.990 .. 1589.883</td></tr>\n",
       "<tr><td>0.316</td><td>0.251</td><td>0.398</td><td>1.052e-12</td><td>6.442e-14</td><td>6.486e-14</td><td>6.399e-14</td><td>1.183e-12</td><td>339.377</td><td>18.422</td><td>166.84676656487542 .. 161.4374948020419</td><td>70.44683 .. 70.44683</td><td>9.033</td><td>False</td><td>153.0 .. 172.0</td><td>True</td><td>0.200 .. 5.000</td><td>207.532 .. 2589.227</td></tr>\n",
       "<tr><td>0.501</td><td>0.398</td><td>0.631</td><td>1.432e-12</td><td>6.420e-14</td><td>6.471e-14</td><td>6.368e-14</td><td>1.562e-12</td><td>760.919</td><td>27.585</td><td>134.37033070196938 .. 134.12424823437806</td><td>84.53015 .. 84.53015</td><td>15.348</td><td>False</td><td>143.0 .. 107.0</td><td>True</td><td>0.200 .. 5.000</td><td>444.974 .. 3683.760</td></tr>\n",
       "<tr><td>0.794</td><td>0.631</td><td>1.000</td><td>1.719e-12</td><td>6.752e-14</td><td>6.816e-14</td><td>6.689e-14</td><td>1.856e-12</td><td>1210.363</td><td>34.790</td><td>111.28857052090571 .. 111.16342917911534</td><td>85.97379 .. 85.97379</td><td>10.708</td><td>False</td><td>127.0 .. 133.0</td><td>True</td><td>0.200 .. 5.000</td><td>703.942 .. 3420.671</td></tr>\n",
       "<tr><td>1.259</td><td>1.000</td><td>1.585</td><td>1.426e-12</td><td>5.291e-14</td><td>5.345e-14</td><td>5.238e-14</td><td>1.534e-12</td><td>1569.522</td><td>39.617</td><td>97.81718303546334 .. 98.85546030217634</td><td>86.17479 .. 86.17479</td><td>5.800</td><td>False</td><td>108.0 .. 102.0</td><td>True</td><td>0.200 .. 5.000</td><td>844.123 .. 3888.275</td></tr>\n",
       "<tr><td>1.995</td><td>1.585</td><td>2.512</td><td>1.012e-12</td><td>5.255e-14</td><td>5.329e-14</td><td>5.183e-14</td><td>1.120e-12</td><td>782.796</td><td>27.978</td><td>51.19591958426301 .. 53.26016037222967</td><td>44.575123 .. 44.575123</td><td>5.430</td><td>False</td><td>52.0 .. 62.0</td><td>True</td><td>0.200 .. 5.000</td><td>428.083 .. 1981.248</td></tr>\n",
       "<tr><td>3.162</td><td>2.512</td><td>3.981</td><td>5.537e-13</td><td>3.558e-14</td><td>3.619e-14</td><td>3.498e-14</td><td>6.273e-13</td><td>502.432</td><td>22.415</td><td>33.693737343262896 .. 35.775860687340455</td><td>29.53314 .. 29.53314</td><td>13.444</td><td>False</td><td>24.0 .. 37.0</td><td>True</td><td>0.200 .. 5.000</td><td>278.404 .. 1406.070</td></tr>\n",
       "<tr><td>5.012</td><td>3.981</td><td>6.310</td><td>2.707e-13</td><td>3.600e-14</td><td>3.694e-14</td><td>3.510e-14</td><td>3.467e-13</td><td>89.913</td><td>9.482</td><td>13.461723092406567 .. 15.042184018027744</td><td>9.091701 .. 9.091701</td><td>8.393</td><td>False</td><td>13.0 .. 22.0</td><td>True</td><td>0.200 .. 5.000</td><td>61.368 .. 354.686</td></tr>\n",
       "<tr><td>7.943</td><td>6.310</td><td>10.000</td><td>8.799e-14</td><td>2.539e-14</td><td>2.629e-14</td><td>2.452e-14</td><td>1.424e-13</td><td>15.630</td><td>3.953</td><td>7.0331093801704085 .. 6.302245181257884</td><td>2.9200182 .. 2.9200182</td><td>6.181</td><td>False</td><td>8.0 .. 8.0</td><td>True</td><td>0.200 .. 5.000</td><td>15.107 .. 124.015</td></tr>\n",
       "<tr><td>12.589</td><td>10.000</td><td>15.849</td><td>2.080e-14</td><td>2.420e-14</td><td>2.539e-14</td><td>nan</td><td>7.410e-14</td><td>0.801</td><td>0.895</td><td>3.8669302461736774 .. 2.328250734640413</td><td>0.4949174 .. 0.4949174</td><td>16.965</td><td>True</td><td>6.0 .. 0.0</td><td>True</td><td>0.200 .. 5.000</td><td>17.371 .. 34.589</td></tr>\n",
       "<tr><td>19.953</td><td>15.849</td><td>25.119</td><td>4.027e-15</td><td>2.389e-14</td><td>2.576e-14</td><td>nan</td><td>nan</td><td>0.030</td><td>0.173</td><td>1.7220467846137626 .. 2.050879600385698</td><td>0.055380117 .. 0.055380117</td><td>9.351</td><td>True</td><td>0.0 .. 1.0</td><td>True</td><td>0.200 .. 5.000</td><td>9.364 .. 10.757</td></tr>\n",
       "</table></div>"
      ],
      "text/plain": [
       "<Table length=12>\n",
       " e_ref   e_min   e_max  ... success   norm_scan         stat_scan     \n",
       "  TeV     TeV     TeV   ...                                           \n",
       "float64 float64 float64 ...   bool   float64[11]       float64[11]    \n",
       "------- ------- ------- ... ------- -------------- -------------------\n",
       "  0.126   0.100   0.158 ...    True 0.200 .. 5.000   29.532 .. 192.321\n",
       "  0.200   0.158   0.251 ...    True 0.200 .. 5.000 130.990 .. 1589.883\n",
       "  0.316   0.251   0.398 ...    True 0.200 .. 5.000 207.532 .. 2589.227\n",
       "  0.501   0.398   0.631 ...    True 0.200 .. 5.000 444.974 .. 3683.760\n",
       "  0.794   0.631   1.000 ...    True 0.200 .. 5.000 703.942 .. 3420.671\n",
       "  1.259   1.000   1.585 ...    True 0.200 .. 5.000 844.123 .. 3888.275\n",
       "  1.995   1.585   2.512 ...    True 0.200 .. 5.000 428.083 .. 1981.248\n",
       "  3.162   2.512   3.981 ...    True 0.200 .. 5.000 278.404 .. 1406.070\n",
       "  5.012   3.981   6.310 ...    True 0.200 .. 5.000   61.368 .. 354.686\n",
       "  7.943   6.310  10.000 ...    True 0.200 .. 5.000   15.107 .. 124.015\n",
       " 12.589  10.000  15.849 ...    True 0.200 .. 5.000    17.371 .. 34.589\n",
       " 19.953  15.849  25.119 ...    True 0.200 .. 5.000     9.364 .. 10.757"
      ]
     },
     "execution_count": 57,
     "metadata": {},
     "output_type": "execute_result"
    }
   ],
   "source": [
    "table_CTA = Table.read('CTA_table.csv',format='ascii', delimiter=' ', comment='#')\n",
    "table_CTA"
   ]
  },
  {
   "cell_type": "code",
   "execution_count": 58,
   "id": "ad56ed61",
   "metadata": {},
   "outputs": [
    {
     "name": "stderr",
     "output_type": "stream",
     "text": [
      "No reference model set for FluxMaps. Assuming point source with E^-2 spectrum.\n"
     ]
    },
    {
     "data": {
      "text/plain": [
       "(0.01, 100)"
      ]
     },
     "execution_count": 58,
     "metadata": {},
     "output_type": "execute_result"
    },
    {
     "data": {
      "image/png": "[encoded data removed]",
      "text/plain": [
       "<Figure size 500x300 with 1 Axes>"
      ]
     },
     "metadata": {},
     "output_type": "display_data"
    }
   ],
   "source": [
    "fix, axes = plt.subplots(figsize=(5, 3))\n",
    "axes.plot(t[\"energy\"], t[\"e2dnde\"], \"s-\", color=\"red\", label = \"CTA - Sensitivity\")\n",
    "FluxPoints.from_table(table = CTA_table, sed_type='e2dnde').plot(label = \"CTA - PSR_J1826−1334\")\n",
    "plt.legend()\n",
    "plt.xlim(1e-2, 100)\n"
   ]
  },
  {
   "cell_type": "code",
   "execution_count": 59,
   "id": "87146301",
   "metadata": {},
   "outputs": [],
   "source": [
    "# table = Table([energy, flux_TEV], names=('e_ref', 'dnde'))\n",
    "# table['e_ref'].unit = u.TeV\n",
    "# # table['dnde'].unit = u.Unit(\"cm-2 s-1 TeV-1\")\n",
    "# # table[\"dnde\"][:] = table[\"dnde\"].to(u.Unit(\"erg-1 cm-2 s-1\")) \n",
    "# table[\"dnde\"][:] = table[\"dnde\"][:]*((table['e_ref'][:])**2)\n",
    "# table['dnde'].unit = u.Unit(\"cm-2 s-1 TeV\")\n",
    "\n",
    "# table.rename_column('dnde', 'e2dnde')\n",
    "\n",
    "# table.meta[\"SED_TYPE\"] = \"e2dnde\"\n",
    "# table.meta[\"name\"] = \"table\"\n",
    "    \n",
    "# # # table.rename_column('dnde', 'e2dnde')\n",
    "# # table[\"dnde\"][:] = table[\"dnde\"].to(u.Unit(\"TeV cm-2 s-1\")) \n",
    "\n",
    "# print(table)"
   ]
  },
  {
   "cell_type": "code",
   "execution_count": 60,
   "id": "6064b90f",
   "metadata": {},
   "outputs": [],
   "source": [
    "# table[\"dnde\"][:] = table[\"dnde\"].to(u.Unit(\"erg-1 cm-2 s-1\")) \n",
    "# table[\"dnde\"][:] = table[\"dnde\"][:]*((table['e_ref'][:])**2)\n",
    "# table.rename_column('dnde', 'e2dnde')\n",
    "# table.meta[\"SED_TYPE\"] = \"e2dnde\"\n",
    "# table.meta[\"name\"] = \"table\""
   ]
  },
  {
   "cell_type": "code",
   "execution_count": 61,
   "id": "f5653ba5",
   "metadata": {},
   "outputs": [],
   "source": [
    "# table[\"dnde\"]"
   ]
  },
  {
   "cell_type": "code",
   "execution_count": 62,
   "id": "e3e8992c",
   "metadata": {},
   "outputs": [],
   "source": [
    "# FluxPoints.from_table(table = table, sed_type='e2dnde').plot()\n",
    "# plt.xlim(.1, 1000)\n",
    "# plt.ylim(1e-18, 1e-10)\n",
    "# plt.grid(which=\"both\")"
   ]
  },
  {
   "cell_type": "code",
   "execution_count": 63,
   "id": "ed1e79c3",
   "metadata": {},
   "outputs": [],
   "source": [
    "energy_bounds = [0.1, 100] * u.TeV"
   ]
  },
  {
   "cell_type": "code",
   "execution_count": 64,
   "id": "ba9c10c4",
   "metadata": {},
   "outputs": [
    {
     "data": {
      "image/png": "[encoded data removed]",
      "text/plain": [
       "<Figure size 800x500 with 1 Axes>"
      ]
     },
     "metadata": {},
     "output_type": "display_data"
    }
   ],
   "source": [
    "plt.style.use(['default'])\n",
    "\n",
    "plt.figure(figsize=(8,5))\n",
    "absspecmodel.plot(\n",
    "    energy_bounds, \n",
    "    label='logparabola'\n",
    ")\n",
    "\n",
    "xerr = [np.hstack((e_ref))-np.hstack((e_min)), np.hstack((e_max))-np.hstack((e_ref))]\n",
    "\n",
    "plt.errorbar(\n",
    "    e_ref, \n",
    "    flux_TEV, \n",
    "    color='red', \n",
    "    marker='o', \n",
    "    xerr = xerr, \n",
    "    yerr = flux_err_TEV, \n",
    "    linestyle='', \n",
    "    label='CTA')\n",
    "# plt.grid(which=\"both\")\n",
    "plt.ylim(1e-67, 1e-8)\n",
    "plt.legend(loc=\"best\")\n",
    "plt.title(src_jname)\n",
    "\n",
    "# path_flux = mkdir_base_child(\"analysis\", \"flux_point\")\n",
    "\n",
    "# plt_savefig(path_flux, \"flux_point\")\n",
    "\n",
    "# plt.savefig('./spectrum_srcM87.png', bbox_inches='tight')\n",
    "\n",
    "# plt.savefig('./M87_gammapy_flux_point.png', bbox_inches='tight')\n",
    "# plt.savefig('./M87_gammapy_flux_point.pdf', bbox_inches='tight')\n",
    "plt.savefig(f'./{src_jname}_gammapy_flux_point.png', bbox_inches='tight')\n",
    "plt.show()\n"
   ]
  },
  {
   "cell_type": "code",
   "execution_count": 65,
   "id": "440bd3a0",
   "metadata": {},
   "outputs": [
    {
     "data": {
      "text/plain": [
       "[]"
      ]
     },
     "execution_count": 65,
     "metadata": {},
     "output_type": "execute_result"
    },
    {
     "data": {
      "image/png": "[encoded data removed]",
      "text/plain": [
       "<Figure size 500x300 with 1 Axes>"
      ]
     },
     "metadata": {},
     "output_type": "display_data"
    }
   ],
   "source": [
    "fix, axes = plt.subplots(figsize=(5, 3))\n",
    "\n",
    "axes.plot(t[\"energy\"], t[\"e2dnde\"], \"s-\", color=\"red\")\n",
    "axes.loglog()"
   ]
  },
  {
   "cell_type": "code",
   "execution_count": 66,
   "id": "35c947e5",
   "metadata": {},
   "outputs": [
    {
     "data": {
      "image/png": "[encoded data removed]",
      "text/plain": [
       "<Figure size 500x300 with 1 Axes>"
      ]
     },
     "metadata": {},
     "output_type": "display_data"
    }
   ],
   "source": [
    "plt.style.use(['default'])\n",
    "\n",
    "fix, axes = plt.subplots(figsize=(5, 3))\n",
    "axes.plot(t[\"energy\"], t[\"e2dnde\"], \"s-\", color=\"red\")\n",
    "\n",
    "absspecmodel.plot(\n",
    "    energy_bounds, \n",
    "    label='logparabola'\n",
    ")\n",
    "\n",
    "xerr = [np.hstack((e_ref))-np.hstack((e_min)), np.hstack((e_max))-np.hstack((e_ref))]\n",
    "\n",
    "plt.errorbar(\n",
    "    energy, \n",
    "    flux_TEV, \n",
    "    color='red', \n",
    "    marker='o', \n",
    "    xerr = xerr, \n",
    "    yerr = flux_err_TEV, \n",
    "    linestyle='', \n",
    "    label='CTA')\n",
    "# plt.grid(which=\"both\")\n",
    "plt.ylim(1e-30, 1e-5)\n",
    "plt.legend(loc=\"best\")\n",
    "plt.title(src_jname)\n",
    "\n",
    "# path_flux = mkdir_base_child(\"analysis\", \"flux_point\")\n",
    "\n",
    "# plt_savefig(path_flux, \"flux_point\")\n",
    "\n",
    "# plt.savefig('./spectrum_srcM87.png', bbox_inches='tight')\n",
    "\n",
    "# plt.savefig('./M87_gammapy_flux_point.png', bbox_inches='tight')\n",
    "# plt.savefig('./M87_gammapy_flux_point.pdf', bbox_inches='tight')\n",
    "plt.savefig(f'./{src_jname}_gammapy_flux_point.png', bbox_inches='tight')\n",
    "plt.show()"
   ]
  },
  {
   "cell_type": "markdown",
   "id": "e63ae483",
   "metadata": {},
   "source": [
    "___"
   ]
  },
  {
   "cell_type": "markdown",
   "id": "6803c7ef",
   "metadata": {},
   "source": [
    "🔝 [Back to Top](#intro)<br>"
   ]
  },
  {
   "cell_type": "code",
   "execution_count": null,
   "id": "d9f3fcce",
   "metadata": {},
   "outputs": [],
   "source": []
  },
  {
   "cell_type": "code",
   "execution_count": 67,
   "id": "8700a61a",
   "metadata": {},
   "outputs": [
    {
     "data": {
      "image/png": "[encoded data removed]",
      "text/plain": [
       "<Figure size 640x480 with 1 Axes>"
      ]
     },
     "metadata": {},
     "output_type": "display_data"
    }
   ],
   "source": [
    "from astropy import units as u\n",
    "import matplotlib.pyplot as plt\n",
    "import naima\n",
    "from gammapy.modeling.models import Models, NaimaSpectralModel, SkyModel\n",
    "\n",
    "particle_distribution = naima.models.ExponentialCutoffPowerLaw(\n",
    "    1e30 / u.eV, 10 * u.TeV, 3.0, 30 * u.TeV\n",
    ")\n",
    "# radiative_model = naima.radiative.InverseCompton(\n",
    "#     particle_distribution,\n",
    "#     seed_photon_fields=[\"CMB\", [\"FIR\", 26.5 * u.K, 0.415 * u.eV / u.cm**3]],\n",
    "#     Eemin=100 * u.GeV,\n",
    "# )\n",
    "\n",
    "radiative_model = naima.radiative.PionDecay(\n",
    "    particle_distribution,\n",
    "    seed_photon_fields=[\"CMB\", [\"FIR\", 26.5 * u.K, 0.415 * u.eV / u.cm**3]],\n",
    "    Eemin=100 * u.GeV,\n",
    ")\n",
    "\n",
    "\n",
    "model = NaimaSpectralModel(radiative_model, distance=1.5 * u.kpc)\n",
    "\n",
    "opts = {\n",
    "    \"energy_bounds\": [10 * u.GeV, 80 * u.TeV],\n",
    "    \"sed_type\": \"e2dnde\",\n",
    "}\n",
    "\n",
    "# Plot the total inverse Compton emission\n",
    "model.plot(label=\"IC (total)\", **opts)\n",
    "\n",
    "# # Plot the separate contributions from each seed photon field\n",
    "# for seed, ls in zip([\"CMB\", \"FIR\"], [\"-\", \"--\"]):\n",
    "#     model = NaimaSpectralModel(radiative_model, distance=1.5 * u.kpc)\n",
    "#     model.plot(label=f\"IC ({seed})\", ls=ls, color=\"gray\", **opts)\n",
    "\n",
    "plt.legend(loc=\"best\")\n",
    "plt.grid(which=\"both\")"
   ]
  },
  {
   "cell_type": "code",
   "execution_count": null,
   "id": "c89f588f",
   "metadata": {},
   "outputs": [],
   "source": []
  },
  {
   "cell_type": "code",
   "execution_count": null,
   "id": "bca78e18",
   "metadata": {},
   "outputs": [],
   "source": []
  },
  {
   "cell_type": "code",
   "execution_count": null,
   "id": "8cd79ab8",
   "metadata": {},
   "outputs": [],
   "source": []
  },
  {
   "cell_type": "code",
   "execution_count": null,
   "id": "2e8ca336",
   "metadata": {},
   "outputs": [],
   "source": []
  },
  {
   "cell_type": "code",
   "execution_count": null,
   "id": "bb091cf4",
   "metadata": {},
   "outputs": [],
   "source": []
  }
 ],
 "metadata": {
  "kernelspec": {
   "display_name": "Python 3 (ipykernel)",
   "language": "python",
   "name": "python3"
  },
  "language_info": {
   "codemirror_mode": {
    "name": "ipython",
    "version": 3
   },
   "file_extension": ".py",
   "mimetype": "text/x-python",
   "name": "python",
   "nbconvert_exporter": "python",
   "pygments_lexer": "ipython3",
   "version": "3.9.15"
  }
 },
 "nbformat": 4,
 "nbformat_minor": 5
}
