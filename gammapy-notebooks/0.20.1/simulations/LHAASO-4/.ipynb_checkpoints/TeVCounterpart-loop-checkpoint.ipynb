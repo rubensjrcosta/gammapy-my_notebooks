{
 "cells": [
  {
   "cell_type": "code",
   "execution_count": 1,
   "id": "c6e3efbf",
   "metadata": {},
   "outputs": [],
   "source": [
    "%matplotlib inline\n",
    "import matplotlib.pyplot as plt"
   ]
  },
  {
   "cell_type": "code",
   "execution_count": 2,
   "id": "3ac8a12e",
   "metadata": {},
   "outputs": [],
   "source": [
    "from astropy import units as u\n",
    "from gammapy.modeling.models import (\n",
    "    PowerLawSpectralModel,\n",
    "    ExpCutoffPowerLawSpectralModel,\n",
    "    LogParabolaSpectralModel,\n",
    "    SkyModel,\n",
    ")\n",
    "from gammapy.estimators import FluxPoints\n",
    "from gammapy.datasets import FluxPointsDataset, Datasets\n",
    "from gammapy.catalog import CATALOG_REGISTRY\n",
    "from gammapy.modeling import Fit"
   ]
  },
  {
   "cell_type": "code",
   "execution_count": 3,
   "id": "78a7fb45",
   "metadata": {},
   "outputs": [],
   "source": [
    "from astropy.io import ascii\n",
    "# from astropy.table import Table"
   ]
  },
  {
   "cell_type": "code",
   "execution_count": 28,
   "id": "00ddcfae",
   "metadata": {
    "scrolled": true
   },
   "outputs": [
    {
     "name": "stdout",
     "output_type": "stream",
     "text": [
      "/home/gamma/Documents/GitHub/gammapy/gammapy-notebooks/0.20.1/simulations/LHAASO/modules/spectral_models\n"
     ]
    }
   ],
   "source": [
    "import os\n",
    "import sys\n",
    "import importlib\n",
    "\n",
    "module_path = os.path.abspath('modules/spectral_models')\n",
    "if module_path not in sys.path:\n",
    "    sys.path.append(module_path)\n",
    "print(module_path)\n",
    "import spectral_models\n",
    "importlib.reload(spectral_models)\n",
    "from spectral_models import ecpl_model, pwl_model, logp_model\n",
    "\n",
    "module_path = os.path.abspath('modules/utilities')\n",
    "if module_path not in sys.path:\n",
    "    sys.path.append(module_path)\n",
    "# print(module_path)\n",
    "import utilities\n",
    "importlib.reload(utilities)\n",
    "from utilities import mkdir_base_child, plt_savefig"
   ]
  },
  {
   "cell_type": "code",
   "execution_count": 5,
   "id": "b7b09021",
   "metadata": {},
   "outputs": [],
   "source": [
    "dict_model = {\n",
    "    \"pwl\": pwl_model(),\n",
    "  \"logp\": logp_model(),\n",
    "  \"ecpl\": ecpl_model()    \n",
    "}"
   ]
  },
  {
   "cell_type": "code",
   "execution_count": 6,
   "id": "d8334d7c",
   "metadata": {},
   "outputs": [
    {
     "data": {
      "text/plain": [
       "<gammapy.catalog.hawc.SourceCatalog3HWC at 0x7ff80e227d90>"
      ]
     },
     "execution_count": 6,
     "metadata": {},
     "output_type": "execute_result"
    }
   ],
   "source": [
    "catalog_gammacat = CATALOG_REGISTRY.get_cls(\"gamma-cat\")()\n",
    "catalog_hgps = CATALOG_REGISTRY.get_cls(\"hgps\")()\n",
    "catalog_2hwc = CATALOG_REGISTRY.get_cls(\"2hwc\")()\n",
    "catalog_3fgl = CATALOG_REGISTRY.get_cls(\"3fgl\")()\n",
    "catalog_4fgl = CATALOG_REGISTRY.get_cls(\"4fgl\")()\n",
    "catalog_2fhl = CATALOG_REGISTRY.get_cls(\"2fhl\")()\n",
    "catalog_3fhl = CATALOG_REGISTRY.get_cls(\"3fhl\")()\n",
    "catalog_3hwc = CATALOG_REGISTRY.get_cls(\"3hwc\")()\n",
    "catalog_3hwc"
   ]
  },
  {
   "cell_type": "code",
   "execution_count": 7,
   "id": "b232107f",
   "metadata": {},
   "outputs": [],
   "source": [
    "# help(cosmology)"
   ]
  },
  {
   "cell_type": "code",
   "execution_count": 8,
   "id": "408a321d",
   "metadata": {
    "scrolled": true
   },
   "outputs": [],
   "source": [
    "# from gammapy.modeling.models import SPECTRAL_MODEL_REGISTRY\n",
    "# # list(SPECTRAL_MODEL_REGISTRY)"
   ]
  },
  {
   "cell_type": "code",
   "execution_count": 9,
   "id": "205f834b",
   "metadata": {},
   "outputs": [],
   "source": [
    "# spec_model = SPECTRAL_MODEL_REGISTRY[0](  index=2,\n",
    "# amplitude=\"1e-12 cm-2 s-1 TeV-1\",\n",
    "# reference=\"1 TeV\")\n",
    "# spec_model\n",
    "# spec_model"
   ]
  },
  {
   "cell_type": "code",
   "execution_count": 10,
   "id": "4fef5d1d",
   "metadata": {},
   "outputs": [],
   "source": [
    "# for x, y in dict_model.items():\n",
    "#     print(x, y)\n",
    "#     print(x)"
   ]
  },
  {
   "cell_type": "code",
   "execution_count": 11,
   "id": "315a1f18",
   "metadata": {},
   "outputs": [],
   "source": [
    "# list(dict_model.keys())"
   ]
  },
  {
   "cell_type": "code",
   "execution_count": 12,
   "id": "6c6d6c07",
   "metadata": {},
   "outputs": [],
   "source": [
    "# list(dict_model.values())[1]"
   ]
  },
  {
   "cell_type": "code",
   "execution_count": 13,
   "id": "88f5a7fa",
   "metadata": {},
   "outputs": [],
   "source": [
    "# for x in dict_model.keys():\n",
    "#     print(x)"
   ]
  },
  {
   "cell_type": "code",
   "execution_count": 14,
   "id": "bd5e33ec",
   "metadata": {},
   "outputs": [],
   "source": [
    "# print(CATALOG_REGISTRY)"
   ]
  },
  {
   "cell_type": "code",
   "execution_count": 15,
   "id": "c54b07b7",
   "metadata": {},
   "outputs": [],
   "source": [
    "# help(CATALOG_REGISTRY)"
   ]
  },
  {
   "cell_type": "code",
   "execution_count": 16,
   "id": "3d85fd0a",
   "metadata": {},
   "outputs": [],
   "source": [
    "src_name = \"HESS J1825-137\""
   ]
  },
  {
   "cell_type": "code",
   "execution_count": 17,
   "id": "94502071",
   "metadata": {},
   "outputs": [
    {
     "name": "stdout",
     "output_type": "stream",
     "text": [
      "********An exception occurred: 2hwc********\n",
      "********An exception occurred: 3hwc********\n"
     ]
    }
   ],
   "source": [
    "catalog_tag = [\"gamma-cat\", \"hgps\", \"2hwc\", \"3fgl\", \"4fgl\", \"2fhl\", \"3fhl\", \"3hwc\"] \n",
    "\n",
    "catalog = []\n",
    "catalog_name = []\n",
    "source = []\n",
    "spatial_model = []\n",
    "spectral_model = []\n",
    "sky_model = []\n",
    "dataset = []\n",
    "for i  in range(len(catalog_tag)): \n",
    "    try:\n",
    "        cat_name = catalog_tag[i]\n",
    "        cat=CATALOG_REGISTRY.get_cls(cat_name)()\n",
    "        src=cat[src_name]\n",
    "\n",
    "        ds = FluxPointsDataset(\n",
    "#             spectral_model=src.spectral_model,\n",
    "            data=src.flux_points, \n",
    "            name=cat_name\n",
    "        )\n",
    "        catalog.append(cat)\n",
    "        source.append(src)\n",
    "        spectral_model.append(src.spectral_model)\n",
    "        spatial_model.append(src.spatial_model)\n",
    "        sky_model.append(src.sky_model)\n",
    "        catalog_name.append(cat_name)\n",
    "        dataset.append(ds)\n",
    "\n",
    "        \n",
    "    except:\n",
    "        print(f\"********An exception occurred: {catalog_tag[i]}********\")"
   ]
  },
  {
   "cell_type": "code",
   "execution_count": 18,
   "id": "8c8d0018",
   "metadata": {},
   "outputs": [],
   "source": [
    "dataset = Datasets(dataset)\n",
    "# print(dataset)"
   ]
  },
  {
   "cell_type": "code",
   "execution_count": 19,
   "id": "5685dc7b",
   "metadata": {},
   "outputs": [
    {
     "data": {
      "text/plain": [
       "<matplotlib.legend.Legend at 0x7ff80e0c74c0>"
      ]
     },
     "execution_count": 19,
     "metadata": {},
     "output_type": "execute_result"
    },
    {
     "data": {
      "image/png": "[encoded data removed]",
      "text/plain": [
       "<Figure size 640x480 with 1 Axes>"
      ]
     },
     "metadata": {},
     "output_type": "display_data"
    }
   ],
   "source": [
    "ax = plt.subplot()\n",
    "ax.yaxis.set_units(u.Unit(\"TeV cm-2 s-1\"))\n",
    "\n",
    "kwargs = {\"ax\": ax, \"sed_type\": \"e2dnde\"}\n",
    "\n",
    "for d in dataset:\n",
    "    d.data.plot(label=d.name, **kwargs)\n",
    "#     d.plot_spectrum(ax=ax)\n",
    "energy_bounds = [1e-5, 1e3] * u.TeV\n",
    "# pwl.plot(energy_bounds=energy_bounds, color=\"k\", **kwargs)\n",
    "# pwl.plot_error(energy_bounds=energy_bounds, **kwargs)\n",
    "# ax.grid(which=\"both\")\n",
    "# ax.ylim(1e-24, 1e-8)\n",
    "ax.set_title(f\"Flux Points: {src_name}\")\n",
    "ax.legend(loc=\"best\")\n",
    "ax.set_ylim(1e-13, 1e-9)\n",
    "ax.set_xlim(energy_bounds)\n",
    "ax.legend()"
   ]
  },
  {
   "cell_type": "code",
   "execution_count": 20,
   "id": "1b9fe63a",
   "metadata": {},
   "outputs": [],
   "source": [
    "TeVCount_dict = {\n",
    "    \"LHAASOJ1825-1326\": [\"HESS J1825-137\", \"HESS J1826-130\"], \n",
    "    \"LHAASOJ1908+0621\": [\"HESS J1908+063\", \"2HWC J1908+063\"], \n",
    "#     \"LHAASOJ2226+6057\": [\"HESS J1825-137\", \"HESS J1826-130\"]\n",
    "}"
   ]
  },
  {
   "cell_type": "code",
   "execution_count": 21,
   "id": "47bafe4f",
   "metadata": {},
   "outputs": [
    {
     "name": "stdout",
     "output_type": "stream",
     "text": [
      "['LHAASOJ1825-1326', 'LHAASOJ1908+0621'] [['HESS J1825-137', 'HESS J1826-130'], ['HESS J1908+063', '2HWC J1908+063']]\n"
     ]
    }
   ],
   "source": [
    "LHAASO = []\n",
    "TeVCount = []\n",
    "\n",
    "for key, value in TeVCount_dict.items():\n",
    "    LHAASO.append(key)\n",
    "    TeVCount.append(value)\n",
    "print(LHAASO, TeVCount)"
   ]
  },
  {
   "cell_type": "code",
   "execution_count": 22,
   "id": "d6769439",
   "metadata": {},
   "outputs": [],
   "source": [
    "# TeVCount[i][j]"
   ]
  },
  {
   "cell_type": "code",
   "execution_count": 23,
   "id": "b52d6e69",
   "metadata": {},
   "outputs": [
    {
     "name": "stdout",
     "output_type": "stream",
     "text": [
      "********An exception occurred: 2hwc********\n"
     ]
    },
    {
     "name": "stderr",
     "output_type": "stream",
     "text": [
      "No artists with labels found to put in legend.  Note that artists whose label start with an underscore are ignored when legend() is called with no argument.\n"
     ]
    },
    {
     "name": "stdout",
     "output_type": "stream",
     "text": [
      "********An exception occurred: 3hwc********\n"
     ]
    },
    {
     "ename": "TypeError",
     "evalue": "only dimensionless scalar quantities can be converted to Python scalars",
     "output_type": "error",
     "traceback": [
      "\u001b[0;31m---------------------------------------------------------------------------\u001b[0m",
      "\u001b[0;31mUnitConversionError\u001b[0m                       Traceback (most recent call last)",
      "File \u001b[0;32m~/anaconda3/envs/gammapy-1.0/lib/python3.9/site-packages/astropy/units/quantity.py:899\u001b[0m, in \u001b[0;36mQuantity.to_value\u001b[0;34m(self, unit, equivalencies)\u001b[0m\n\u001b[1;32m    898\u001b[0m \u001b[38;5;28;01mtry\u001b[39;00m:\n\u001b[0;32m--> 899\u001b[0m     scale \u001b[38;5;241m=\u001b[39m \u001b[38;5;28;43mself\u001b[39;49m\u001b[38;5;241;43m.\u001b[39;49m\u001b[43munit\u001b[49m\u001b[38;5;241;43m.\u001b[39;49m\u001b[43m_to\u001b[49m\u001b[43m(\u001b[49m\u001b[43munit\u001b[49m\u001b[43m)\u001b[49m\n\u001b[1;32m    900\u001b[0m \u001b[38;5;28;01mexcept\u001b[39;00m \u001b[38;5;167;01mException\u001b[39;00m:\n\u001b[1;32m    901\u001b[0m     \u001b[38;5;66;03m# Short-cut failed; try default (maybe equivalencies help).\u001b[39;00m\n",
      "File \u001b[0;32m~/anaconda3/envs/gammapy-1.0/lib/python3.9/site-packages/astropy/units/core.py:1093\u001b[0m, in \u001b[0;36mUnitBase._to\u001b[0;34m(self, other)\u001b[0m\n\u001b[1;32m   1091\u001b[0m         \u001b[38;5;28;01mreturn\u001b[39;00m self_decomposed\u001b[38;5;241m.\u001b[39mscale \u001b[38;5;241m/\u001b[39m other_decomposed\u001b[38;5;241m.\u001b[39mscale\n\u001b[0;32m-> 1093\u001b[0m \u001b[38;5;28;01mraise\u001b[39;00m UnitConversionError(\n\u001b[1;32m   1094\u001b[0m     \u001b[38;5;124mf\u001b[39m\u001b[38;5;124m\"\u001b[39m\u001b[38;5;124m'\u001b[39m\u001b[38;5;132;01m{\u001b[39;00m\u001b[38;5;28mself\u001b[39m\u001b[38;5;132;01m!r}\u001b[39;00m\u001b[38;5;124m'\u001b[39m\u001b[38;5;124m is not a scaled version of \u001b[39m\u001b[38;5;124m'\u001b[39m\u001b[38;5;132;01m{\u001b[39;00mother\u001b[38;5;132;01m!r}\u001b[39;00m\u001b[38;5;124m'\u001b[39m\u001b[38;5;124m\"\u001b[39m)\n",
      "\u001b[0;31mUnitConversionError\u001b[0m: 'Unit(\"TeV\")' is not a scaled version of 'Unit(dimensionless)'",
      "\nDuring handling of the above exception, another exception occurred:\n",
      "\u001b[0;31mUnitConversionError\u001b[0m                       Traceback (most recent call last)",
      "File \u001b[0;32m~/anaconda3/envs/gammapy-1.0/lib/python3.9/site-packages/astropy/units/quantity.py:1257\u001b[0m, in \u001b[0;36mQuantity.__float__\u001b[0;34m(self)\u001b[0m\n\u001b[1;32m   1256\u001b[0m \u001b[38;5;28;01mtry\u001b[39;00m:\n\u001b[0;32m-> 1257\u001b[0m     \u001b[38;5;28;01mreturn\u001b[39;00m \u001b[38;5;28mfloat\u001b[39m(\u001b[38;5;28;43mself\u001b[39;49m\u001b[38;5;241;43m.\u001b[39;49m\u001b[43mto_value\u001b[49m\u001b[43m(\u001b[49m\u001b[43mdimensionless_unscaled\u001b[49m\u001b[43m)\u001b[49m)\n\u001b[1;32m   1258\u001b[0m \u001b[38;5;28;01mexcept\u001b[39;00m (UnitsError, \u001b[38;5;167;01mTypeError\u001b[39;00m):\n",
      "File \u001b[0;32m~/anaconda3/envs/gammapy-1.0/lib/python3.9/site-packages/astropy/units/quantity.py:902\u001b[0m, in \u001b[0;36mQuantity.to_value\u001b[0;34m(self, unit, equivalencies)\u001b[0m\n\u001b[1;32m    900\u001b[0m \u001b[38;5;28;01mexcept\u001b[39;00m \u001b[38;5;167;01mException\u001b[39;00m:\n\u001b[1;32m    901\u001b[0m     \u001b[38;5;66;03m# Short-cut failed; try default (maybe equivalencies help).\u001b[39;00m\n\u001b[0;32m--> 902\u001b[0m     value \u001b[38;5;241m=\u001b[39m \u001b[38;5;28;43mself\u001b[39;49m\u001b[38;5;241;43m.\u001b[39;49m\u001b[43m_to_value\u001b[49m\u001b[43m(\u001b[49m\u001b[43munit\u001b[49m\u001b[43m,\u001b[49m\u001b[43m \u001b[49m\u001b[43mequivalencies\u001b[49m\u001b[43m)\u001b[49m\n\u001b[1;32m    903\u001b[0m \u001b[38;5;28;01melse\u001b[39;00m:\n",
      "File \u001b[0;32m~/anaconda3/envs/gammapy-1.0/lib/python3.9/site-packages/astropy/units/quantity.py:809\u001b[0m, in \u001b[0;36mQuantity._to_value\u001b[0;34m(self, unit, equivalencies)\u001b[0m\n\u001b[1;32m    807\u001b[0m \u001b[38;5;28;01mif\u001b[39;00m \u001b[38;5;129;01mnot\u001b[39;00m \u001b[38;5;28mself\u001b[39m\u001b[38;5;241m.\u001b[39mdtype\u001b[38;5;241m.\u001b[39mnames \u001b[38;5;129;01mor\u001b[39;00m \u001b[38;5;28misinstance\u001b[39m(\u001b[38;5;28mself\u001b[39m\u001b[38;5;241m.\u001b[39munit, StructuredUnit):\n\u001b[1;32m    808\u001b[0m     \u001b[38;5;66;03m# Standard path, let unit to do work.\u001b[39;00m\n\u001b[0;32m--> 809\u001b[0m     \u001b[38;5;28;01mreturn\u001b[39;00m \u001b[38;5;28;43mself\u001b[39;49m\u001b[38;5;241;43m.\u001b[39;49m\u001b[43munit\u001b[49m\u001b[38;5;241;43m.\u001b[39;49m\u001b[43mto\u001b[49m\u001b[43m(\u001b[49m\u001b[43munit\u001b[49m\u001b[43m,\u001b[49m\u001b[43m \u001b[49m\u001b[38;5;28;43mself\u001b[39;49m\u001b[38;5;241;43m.\u001b[39;49m\u001b[43mview\u001b[49m\u001b[43m(\u001b[49m\u001b[43mnp\u001b[49m\u001b[38;5;241;43m.\u001b[39;49m\u001b[43mndarray\u001b[49m\u001b[43m)\u001b[49m\u001b[43m,\u001b[49m\n\u001b[1;32m    810\u001b[0m \u001b[43m                        \u001b[49m\u001b[43mequivalencies\u001b[49m\u001b[38;5;241;43m=\u001b[39;49m\u001b[43mequivalencies\u001b[49m\u001b[43m)\u001b[49m\n\u001b[1;32m    812\u001b[0m \u001b[38;5;28;01melse\u001b[39;00m:\n\u001b[1;32m    813\u001b[0m     \u001b[38;5;66;03m# The .to() method of a simple unit cannot convert a structured\u001b[39;00m\n\u001b[1;32m    814\u001b[0m     \u001b[38;5;66;03m# dtype, so we work around it, by recursing.\u001b[39;00m\n\u001b[1;32m    815\u001b[0m     \u001b[38;5;66;03m# TODO: deprecate this?\u001b[39;00m\n\u001b[1;32m    816\u001b[0m     \u001b[38;5;66;03m# Convert simple to Structured on initialization?\u001b[39;00m\n",
      "File \u001b[0;32m~/anaconda3/envs/gammapy-1.0/lib/python3.9/site-packages/astropy/units/core.py:1130\u001b[0m, in \u001b[0;36mUnitBase.to\u001b[0;34m(self, other, value, equivalencies)\u001b[0m\n\u001b[1;32m   1129\u001b[0m \u001b[38;5;28;01melse\u001b[39;00m:\n\u001b[0;32m-> 1130\u001b[0m     \u001b[38;5;28;01mreturn\u001b[39;00m \u001b[38;5;28;43mself\u001b[39;49m\u001b[38;5;241;43m.\u001b[39;49m\u001b[43m_get_converter\u001b[49m\u001b[43m(\u001b[49m\u001b[43mUnit\u001b[49m\u001b[43m(\u001b[49m\u001b[43mother\u001b[49m\u001b[43m)\u001b[49m\u001b[43m,\u001b[49m\n\u001b[1;32m   1131\u001b[0m \u001b[43m                               \u001b[49m\u001b[43mequivalencies\u001b[49m\u001b[38;5;241;43m=\u001b[39;49m\u001b[43mequivalencies\u001b[49m\u001b[43m)\u001b[49m(value)\n",
      "File \u001b[0;32m~/anaconda3/envs/gammapy-1.0/lib/python3.9/site-packages/astropy/units/core.py:1061\u001b[0m, in \u001b[0;36mUnitBase._get_converter\u001b[0;34m(self, other, equivalencies)\u001b[0m\n\u001b[1;32m   1059\u001b[0m                 \u001b[38;5;28;01mpass\u001b[39;00m\n\u001b[0;32m-> 1061\u001b[0m \u001b[38;5;28;01mraise\u001b[39;00m exc\n",
      "File \u001b[0;32m~/anaconda3/envs/gammapy-1.0/lib/python3.9/site-packages/astropy/units/core.py:1046\u001b[0m, in \u001b[0;36mUnitBase._get_converter\u001b[0;34m(self, other, equivalencies)\u001b[0m\n\u001b[1;32m   1045\u001b[0m \u001b[38;5;28;01mtry\u001b[39;00m:\n\u001b[0;32m-> 1046\u001b[0m     \u001b[38;5;28;01mreturn\u001b[39;00m \u001b[38;5;28;43mself\u001b[39;49m\u001b[38;5;241;43m.\u001b[39;49m\u001b[43m_apply_equivalencies\u001b[49m\u001b[43m(\u001b[49m\n\u001b[1;32m   1047\u001b[0m \u001b[43m        \u001b[49m\u001b[38;5;28;43mself\u001b[39;49m\u001b[43m,\u001b[49m\u001b[43m \u001b[49m\u001b[43mother\u001b[49m\u001b[43m,\u001b[49m\u001b[43m \u001b[49m\u001b[38;5;28;43mself\u001b[39;49m\u001b[38;5;241;43m.\u001b[39;49m\u001b[43m_normalize_equivalencies\u001b[49m\u001b[43m(\u001b[49m\u001b[43mequivalencies\u001b[49m\u001b[43m)\u001b[49m\u001b[43m)\u001b[49m\n\u001b[1;32m   1048\u001b[0m \u001b[38;5;28;01mexcept\u001b[39;00m UnitsError \u001b[38;5;28;01mas\u001b[39;00m exc:\n\u001b[1;32m   1049\u001b[0m     \u001b[38;5;66;03m# Last hope: maybe other knows how to do it?\u001b[39;00m\n\u001b[1;32m   1050\u001b[0m     \u001b[38;5;66;03m# We assume the equivalencies have the unit itself as first item.\u001b[39;00m\n\u001b[1;32m   1051\u001b[0m     \u001b[38;5;66;03m# TODO: maybe better for other to have a `_back_converter` method?\u001b[39;00m\n",
      "File \u001b[0;32m~/anaconda3/envs/gammapy-1.0/lib/python3.9/site-packages/astropy/units/core.py:1022\u001b[0m, in \u001b[0;36mUnitBase._apply_equivalencies\u001b[0;34m(self, unit, other, equivalencies)\u001b[0m\n\u001b[1;32m   1020\u001b[0m other_str \u001b[38;5;241m=\u001b[39m get_err_str(other)\n\u001b[0;32m-> 1022\u001b[0m \u001b[38;5;28;01mraise\u001b[39;00m UnitConversionError(\n\u001b[1;32m   1023\u001b[0m     \u001b[38;5;124mf\u001b[39m\u001b[38;5;124m\"\u001b[39m\u001b[38;5;132;01m{\u001b[39;00munit_str\u001b[38;5;132;01m}\u001b[39;00m\u001b[38;5;124m and \u001b[39m\u001b[38;5;132;01m{\u001b[39;00mother_str\u001b[38;5;132;01m}\u001b[39;00m\u001b[38;5;124m are not convertible\u001b[39m\u001b[38;5;124m\"\u001b[39m)\n",
      "\u001b[0;31mUnitConversionError\u001b[0m: 'TeV' (energy/torque/work) and '' (dimensionless) are not convertible",
      "\nDuring handling of the above exception, another exception occurred:\n",
      "\u001b[0;31mTypeError\u001b[0m                                 Traceback (most recent call last)",
      "Input \u001b[0;32mIn [23]\u001b[0m, in \u001b[0;36m<cell line: 56>\u001b[0;34m()\u001b[0m\n\u001b[1;32m     54\u001b[0m ax\u001b[38;5;241m.\u001b[39mlegend(loc\u001b[38;5;241m=\u001b[39m\u001b[38;5;124m\"\u001b[39m\u001b[38;5;124mbest\u001b[39m\u001b[38;5;124m\"\u001b[39m)\n\u001b[1;32m     55\u001b[0m ax\u001b[38;5;241m.\u001b[39mset_ylim(\u001b[38;5;241m1e-13\u001b[39m, \u001b[38;5;241m1e-9\u001b[39m)\n\u001b[0;32m---> 56\u001b[0m \u001b[43max\u001b[49m\u001b[38;5;241;43m.\u001b[39;49m\u001b[43mset_xlim\u001b[49m\u001b[43m(\u001b[49m\u001b[43menergy_bounds\u001b[49m\u001b[43m)\u001b[49m\n\u001b[1;32m     57\u001b[0m ax\u001b[38;5;241m.\u001b[39mlegend()\n\u001b[1;32m     60\u001b[0m \u001b[38;5;66;03m#     for item in TeVCount[TeVC_name]:\u001b[39;00m\n\u001b[1;32m     61\u001b[0m \n\u001b[1;32m     62\u001b[0m \u001b[38;5;66;03m#         print(item)\u001b[39;00m\n",
      "File \u001b[0;32m~/anaconda3/envs/gammapy-1.0/lib/python3.9/site-packages/matplotlib/_api/deprecation.py:454\u001b[0m, in \u001b[0;36mmake_keyword_only.<locals>.wrapper\u001b[0;34m(*args, **kwargs)\u001b[0m\n\u001b[1;32m    448\u001b[0m \u001b[38;5;28;01mif\u001b[39;00m \u001b[38;5;28mlen\u001b[39m(args) \u001b[38;5;241m>\u001b[39m name_idx:\n\u001b[1;32m    449\u001b[0m     warn_deprecated(\n\u001b[1;32m    450\u001b[0m         since, message\u001b[38;5;241m=\u001b[39m\u001b[38;5;124m\"\u001b[39m\u001b[38;5;124mPassing the \u001b[39m\u001b[38;5;132;01m%(name)s\u001b[39;00m\u001b[38;5;124m \u001b[39m\u001b[38;5;132;01m%(obj_type)s\u001b[39;00m\u001b[38;5;124m \u001b[39m\u001b[38;5;124m\"\u001b[39m\n\u001b[1;32m    451\u001b[0m         \u001b[38;5;124m\"\u001b[39m\u001b[38;5;124mpositionally is deprecated since Matplotlib \u001b[39m\u001b[38;5;132;01m%(since)s\u001b[39;00m\u001b[38;5;124m; the \u001b[39m\u001b[38;5;124m\"\u001b[39m\n\u001b[1;32m    452\u001b[0m         \u001b[38;5;124m\"\u001b[39m\u001b[38;5;124mparameter will become keyword-only \u001b[39m\u001b[38;5;132;01m%(removal)s\u001b[39;00m\u001b[38;5;124m.\u001b[39m\u001b[38;5;124m\"\u001b[39m,\n\u001b[1;32m    453\u001b[0m         name\u001b[38;5;241m=\u001b[39mname, obj_type\u001b[38;5;241m=\u001b[39m\u001b[38;5;124mf\u001b[39m\u001b[38;5;124m\"\u001b[39m\u001b[38;5;124mparameter of \u001b[39m\u001b[38;5;132;01m{\u001b[39;00mfunc\u001b[38;5;241m.\u001b[39m\u001b[38;5;18m__name__\u001b[39m\u001b[38;5;132;01m}\u001b[39;00m\u001b[38;5;124m()\u001b[39m\u001b[38;5;124m\"\u001b[39m)\n\u001b[0;32m--> 454\u001b[0m \u001b[38;5;28;01mreturn\u001b[39;00m \u001b[43mfunc\u001b[49m\u001b[43m(\u001b[49m\u001b[38;5;241;43m*\u001b[39;49m\u001b[43margs\u001b[49m\u001b[43m,\u001b[49m\u001b[43m \u001b[49m\u001b[38;5;241;43m*\u001b[39;49m\u001b[38;5;241;43m*\u001b[39;49m\u001b[43mkwargs\u001b[49m\u001b[43m)\u001b[49m\n",
      "File \u001b[0;32m~/anaconda3/envs/gammapy-1.0/lib/python3.9/site-packages/matplotlib/axes/_base.py:3693\u001b[0m, in \u001b[0;36m_AxesBase.set_xlim\u001b[0;34m(self, left, right, emit, auto, xmin, xmax)\u001b[0m\n\u001b[1;32m   3691\u001b[0m         \u001b[38;5;28;01mraise\u001b[39;00m \u001b[38;5;167;01mTypeError\u001b[39;00m(\u001b[38;5;124m\"\u001b[39m\u001b[38;5;124mCannot pass both \u001b[39m\u001b[38;5;124m'\u001b[39m\u001b[38;5;124mright\u001b[39m\u001b[38;5;124m'\u001b[39m\u001b[38;5;124m and \u001b[39m\u001b[38;5;124m'\u001b[39m\u001b[38;5;124mxmax\u001b[39m\u001b[38;5;124m'\u001b[39m\u001b[38;5;124m\"\u001b[39m)\n\u001b[1;32m   3692\u001b[0m     right \u001b[38;5;241m=\u001b[39m xmax\n\u001b[0;32m-> 3693\u001b[0m \u001b[38;5;28;01mreturn\u001b[39;00m \u001b[38;5;28;43mself\u001b[39;49m\u001b[38;5;241;43m.\u001b[39;49m\u001b[43mxaxis\u001b[49m\u001b[38;5;241;43m.\u001b[39;49m\u001b[43m_set_lim\u001b[49m\u001b[43m(\u001b[49m\u001b[43mleft\u001b[49m\u001b[43m,\u001b[49m\u001b[43m \u001b[49m\u001b[43mright\u001b[49m\u001b[43m,\u001b[49m\u001b[43m \u001b[49m\u001b[43memit\u001b[49m\u001b[38;5;241;43m=\u001b[39;49m\u001b[43memit\u001b[49m\u001b[43m,\u001b[49m\u001b[43m \u001b[49m\u001b[43mauto\u001b[49m\u001b[38;5;241;43m=\u001b[39;49m\u001b[43mauto\u001b[49m\u001b[43m)\u001b[49m\n",
      "File \u001b[0;32m~/anaconda3/envs/gammapy-1.0/lib/python3.9/site-packages/matplotlib/axis.py:1141\u001b[0m, in \u001b[0;36mAxis._set_lim\u001b[0;34m(self, v0, v1, emit, auto)\u001b[0m\n\u001b[1;32m   1137\u001b[0m     _api\u001b[38;5;241m.\u001b[39mwarn_external(\n\u001b[1;32m   1138\u001b[0m         \u001b[38;5;124mf\u001b[39m\u001b[38;5;124m\"\u001b[39m\u001b[38;5;124mAttempting to set identical low and high \u001b[39m\u001b[38;5;132;01m{\u001b[39;00mname\u001b[38;5;132;01m}\u001b[39;00m\u001b[38;5;124mlims \u001b[39m\u001b[38;5;124m\"\u001b[39m\n\u001b[1;32m   1139\u001b[0m         \u001b[38;5;124mf\u001b[39m\u001b[38;5;124m\"\u001b[39m\u001b[38;5;124mmakes transformation singular; automatically expanding.\u001b[39m\u001b[38;5;124m\"\u001b[39m)\n\u001b[1;32m   1140\u001b[0m reverse \u001b[38;5;241m=\u001b[39m \u001b[38;5;28mbool\u001b[39m(v0 \u001b[38;5;241m>\u001b[39m v1)  \u001b[38;5;66;03m# explicit cast needed for python3.8+np.bool_.\u001b[39;00m\n\u001b[0;32m-> 1141\u001b[0m v0, v1 \u001b[38;5;241m=\u001b[39m \u001b[38;5;28;43mself\u001b[39;49m\u001b[38;5;241;43m.\u001b[39;49m\u001b[43mget_major_locator\u001b[49m\u001b[43m(\u001b[49m\u001b[43m)\u001b[49m\u001b[38;5;241;43m.\u001b[39;49m\u001b[43mnonsingular\u001b[49m\u001b[43m(\u001b[49m\u001b[43mv0\u001b[49m\u001b[43m,\u001b[49m\u001b[43m \u001b[49m\u001b[43mv1\u001b[49m\u001b[43m)\u001b[49m\n\u001b[1;32m   1142\u001b[0m v0, v1 \u001b[38;5;241m=\u001b[39m \u001b[38;5;28mself\u001b[39m\u001b[38;5;241m.\u001b[39mlimit_range_for_scale(v0, v1)\n\u001b[1;32m   1143\u001b[0m v0, v1 \u001b[38;5;241m=\u001b[39m \u001b[38;5;28msorted\u001b[39m([v0, v1], reverse\u001b[38;5;241m=\u001b[39m\u001b[38;5;28mbool\u001b[39m(reverse))\n",
      "File \u001b[0;32m~/anaconda3/envs/gammapy-1.0/lib/python3.9/site-packages/matplotlib/ticker.py:1683\u001b[0m, in \u001b[0;36mLocator.nonsingular\u001b[0;34m(self, v0, v1)\u001b[0m\n\u001b[1;32m   1669\u001b[0m \u001b[38;5;28;01mdef\u001b[39;00m \u001b[38;5;21mnonsingular\u001b[39m(\u001b[38;5;28mself\u001b[39m, v0, v1):\n\u001b[1;32m   1670\u001b[0m     \u001b[38;5;124;03m\"\"\"\u001b[39;00m\n\u001b[1;32m   1671\u001b[0m \u001b[38;5;124;03m    Adjust a range as needed to avoid singularities.\u001b[39;00m\n\u001b[1;32m   1672\u001b[0m \n\u001b[0;32m   (...)\u001b[0m\n\u001b[1;32m   1681\u001b[0m \u001b[38;5;124;03m    - Otherwise, ``(v0, v1)`` is returned without modification.\u001b[39;00m\n\u001b[1;32m   1682\u001b[0m \u001b[38;5;124;03m    \"\"\"\u001b[39;00m\n\u001b[0;32m-> 1683\u001b[0m     \u001b[38;5;28;01mreturn\u001b[39;00m \u001b[43mmtransforms\u001b[49m\u001b[38;5;241;43m.\u001b[39;49m\u001b[43mnonsingular\u001b[49m\u001b[43m(\u001b[49m\u001b[43mv0\u001b[49m\u001b[43m,\u001b[49m\u001b[43m \u001b[49m\u001b[43mv1\u001b[49m\u001b[43m,\u001b[49m\u001b[43m \u001b[49m\u001b[43mexpander\u001b[49m\u001b[38;5;241;43m=\u001b[39;49m\u001b[38;5;241;43m.05\u001b[39;49m\u001b[43m)\u001b[49m\n",
      "File \u001b[0;32m~/anaconda3/envs/gammapy-1.0/lib/python3.9/site-packages/matplotlib/transforms.py:2865\u001b[0m, in \u001b[0;36mnonsingular\u001b[0;34m(vmin, vmax, expander, tiny, increasing)\u001b[0m\n\u001b[1;32m   2861\u001b[0m     swapped \u001b[38;5;241m=\u001b[39m \u001b[38;5;28;01mTrue\u001b[39;00m\n\u001b[1;32m   2863\u001b[0m \u001b[38;5;66;03m# Expand vmin, vmax to float: if they were integer types, they can wrap\u001b[39;00m\n\u001b[1;32m   2864\u001b[0m \u001b[38;5;66;03m# around in abs (abs(np.int8(-128)) == -128) and vmax - vmin can overflow.\u001b[39;00m\n\u001b[0;32m-> 2865\u001b[0m vmin, vmax \u001b[38;5;241m=\u001b[39m \u001b[38;5;28mmap\u001b[39m(\u001b[38;5;28mfloat\u001b[39m, [vmin, vmax])\n\u001b[1;32m   2867\u001b[0m maxabsvalue \u001b[38;5;241m=\u001b[39m \u001b[38;5;28mmax\u001b[39m(\u001b[38;5;28mabs\u001b[39m(vmin), \u001b[38;5;28mabs\u001b[39m(vmax))\n\u001b[1;32m   2868\u001b[0m \u001b[38;5;28;01mif\u001b[39;00m maxabsvalue \u001b[38;5;241m<\u001b[39m (\u001b[38;5;241m1e6\u001b[39m \u001b[38;5;241m/\u001b[39m tiny) \u001b[38;5;241m*\u001b[39m np\u001b[38;5;241m.\u001b[39mfinfo(\u001b[38;5;28mfloat\u001b[39m)\u001b[38;5;241m.\u001b[39mtiny:\n",
      "File \u001b[0;32m~/anaconda3/envs/gammapy-1.0/lib/python3.9/site-packages/astropy/units/quantity.py:1259\u001b[0m, in \u001b[0;36mQuantity.__float__\u001b[0;34m(self)\u001b[0m\n\u001b[1;32m   1257\u001b[0m     \u001b[38;5;28;01mreturn\u001b[39;00m \u001b[38;5;28mfloat\u001b[39m(\u001b[38;5;28mself\u001b[39m\u001b[38;5;241m.\u001b[39mto_value(dimensionless_unscaled))\n\u001b[1;32m   1258\u001b[0m \u001b[38;5;28;01mexcept\u001b[39;00m (UnitsError, \u001b[38;5;167;01mTypeError\u001b[39;00m):\n\u001b[0;32m-> 1259\u001b[0m     \u001b[38;5;28;01mraise\u001b[39;00m \u001b[38;5;167;01mTypeError\u001b[39;00m(\u001b[38;5;124m'\u001b[39m\u001b[38;5;124monly dimensionless scalar quantities can be \u001b[39m\u001b[38;5;124m'\u001b[39m\n\u001b[1;32m   1260\u001b[0m                     \u001b[38;5;124m'\u001b[39m\u001b[38;5;124mconverted to Python scalars\u001b[39m\u001b[38;5;124m'\u001b[39m)\n",
      "\u001b[0;31mTypeError\u001b[0m: only dimensionless scalar quantities can be converted to Python scalars"
     ]
    },
    {
     "data": {
      "image/png": "[encoded data removed]",
      "text/plain": [
       "<Figure size 640x480 with 1 Axes>"
      ]
     },
     "metadata": {},
     "output_type": "display_data"
    }
   ],
   "source": [
    "catalog = []\n",
    "catalog_name = []\n",
    "source = []\n",
    "spatial_model = []\n",
    "spectral_model = []\n",
    "sky_model = []\n",
    "dataset = []\n",
    "catalog_tag = [\"gamma-cat\", \"hgps\", \"2hwc\", \"3fgl\", \"4fgl\", \"2fhl\", \"3fhl\", \"3hwc\"] \n",
    "\n",
    "# for key in range(len(LHAASO)):\n",
    "#     TeVCount_name = LHAASO[key]\n",
    "\n",
    "#     for value in range(len(TeVCount[key])): \n",
    "#         src_name = TeVCount[key][value]\n",
    "             \n",
    "for i  in range(len(catalog_tag)): \n",
    "    try:\n",
    "        cat_name = catalog_tag[i]\n",
    "        cat=CATALOG_REGISTRY.get_cls(cat_name)()\n",
    "        src=cat[src_name]\n",
    "\n",
    "        ds = FluxPointsDataset(\n",
    "#             spectral_model=src.spectral_model,\n",
    "            data=src.flux_points, \n",
    "            name=cat_name\n",
    "        )\n",
    "#                 catalog.append(cat)\n",
    "#                 source.append(src)\n",
    "#                 spectral_model.append(src.spectral_model)\n",
    "#                 spatial_model.append(src.spatial_model)\n",
    "#                 sky_model.append(src.sky_model)\n",
    "#                 catalog_name.append(cat_name)\n",
    "#                 dataset.append(ds)\n",
    "\n",
    "\n",
    "    except:\n",
    "        print(f\"********An exception occurred: {catalog_tag[i]}********\")\n",
    "\n",
    "dataset = Datasets(dataset)\n",
    "ax = plt.subplot()\n",
    "ax.yaxis.set_units(u.Unit(\"TeV cm-2 s-1\"))\n",
    "\n",
    "kwargs = {\"ax\": ax, \"sed_type\": \"e2dnde\"}\n",
    "\n",
    "for d in dataset:\n",
    "    d.data.plot(label=d.name, **kwargs)\n",
    "#     d.plot_spectrum(ax=ax)\n",
    "energy_bounds = [1e-5, 1e3] * u.TeV\n",
    "# pwl.plot(energy_bounds=energy_bounds, color=\"k\", **kwargs)\n",
    "# pwl.plot_error(energy_bounds=energy_bounds, **kwargs)\n",
    "# ax.grid(which=\"both\")\n",
    "# ax.ylim(1e-24, 1e-8)\n",
    "ax.set_title(f\"Flux Points: {src_name}\")\n",
    "ax.legend(loc=\"best\")\n",
    "ax.set_ylim(1e-13, 1e-9)\n",
    "ax.set_xlim(energy_bounds)\n",
    "ax.legend()\n",
    "\n",
    "\n",
    "#     for item in TeVCount[TeVC_name]:\n",
    "\n",
    "#         print(item)"
   ]
  },
  {
   "cell_type": "code",
   "execution_count": 34,
   "id": "dff281ca",
   "metadata": {},
   "outputs": [],
   "source": [
    "src_name = \"HESS J1825-137\"\n",
    "src_id = src_name.replace(\" \", \"\")"
   ]
  },
  {
   "cell_type": "code",
   "execution_count": 35,
   "id": "22ff7abb",
   "metadata": {},
   "outputs": [
    {
     "name": "stdout",
     "output_type": "stream",
     "text": [
      "********An exception occurred: 2hwc********\n",
      "********An exception occurred: 3hwc********\n"
     ]
    }
   ],
   "source": [
    "catalog_tag = [\"gamma-cat\", \"hgps\", \"2hwc\", \"3fgl\", \"4fgl\", \"2fhl\", \"3fhl\", \"3hwc\"] \n",
    "\n",
    "catalog = []\n",
    "catalog_name = []\n",
    "source = []\n",
    "spatial_model = []\n",
    "spectral_model = []\n",
    "sky_model = []\n",
    "dataset = []\n",
    "for i  in range(len(catalog_tag)): \n",
    "    try:\n",
    "        cat_name = catalog_tag[i]\n",
    "        cat=CATALOG_REGISTRY.get_cls(cat_name)()\n",
    "        src=cat[src_name]\n",
    "\n",
    "        ds = FluxPointsDataset(\n",
    "#             spectral_model=src.spectral_model,\n",
    "            data=src.flux_points, \n",
    "            name=cat_name\n",
    "        )\n",
    "        catalog.append(cat)\n",
    "        source.append(src)\n",
    "        spectral_model.append(src.spectral_model)\n",
    "        spatial_model.append(src.spatial_model)\n",
    "        sky_model.append(src.sky_model)\n",
    "        catalog_name.append(cat_name)\n",
    "        dataset.append(ds)\n",
    "\n",
    "        \n",
    "    except:\n",
    "        print(f\"********An exception occurred: {catalog_tag[i]}********\")"
   ]
  },
  {
   "cell_type": "code",
   "execution_count": 36,
   "id": "63c33b6a",
   "metadata": {},
   "outputs": [],
   "source": [
    "dataset = Datasets(dataset)"
   ]
  },
  {
   "cell_type": "code",
   "execution_count": 33,
   "id": "5c833598",
   "metadata": {
    "scrolled": true
   },
   "outputs": [
    {
     "ename": "NameError",
     "evalue": "name 'src_id' is not defined",
     "output_type": "error",
     "traceback": [
      "\u001b[0;31m---------------------------------------------------------------------------\u001b[0m",
      "\u001b[0;31mNameError\u001b[0m                                 Traceback (most recent call last)",
      "Input \u001b[0;32mIn [33]\u001b[0m, in \u001b[0;36m<cell line: 22>\u001b[0;34m()\u001b[0m\n\u001b[1;32m     18\u001b[0m ax\u001b[38;5;241m.\u001b[39mlegend()\n\u001b[1;32m     20\u001b[0m path_flux \u001b[38;5;241m=\u001b[39m mkdir_base_child(\u001b[38;5;124m\"\u001b[39m\u001b[38;5;124manalysis\u001b[39m\u001b[38;5;124m\"\u001b[39m, \u001b[38;5;124m\"\u001b[39m\u001b[38;5;124mflux_points\u001b[39m\u001b[38;5;124m\"\u001b[39m)\n\u001b[0;32m---> 22\u001b[0m \u001b[43mplt_savefig\u001b[49m\u001b[43m(\u001b[49m\u001b[43mpath_flux\u001b[49m\u001b[43m,\u001b[49m\u001b[43m \u001b[49m\u001b[38;5;124;43m\"\u001b[39;49m\u001b[38;5;124;43mflux_points\u001b[39;49m\u001b[38;5;124;43m\"\u001b[39;49m\u001b[43m)\u001b[49m\n",
      "File \u001b[0;32m~/Documents/GitHub/gammapy/gammapy-notebooks/0.20.1/simulations/LHAASO/modules/utilities/utilities.py:47\u001b[0m, in \u001b[0;36mplt_savefig\u001b[0;34m(path_child, child_name)\u001b[0m\n\u001b[1;32m     45\u001b[0m formats_file \u001b[38;5;241m=\u001b[39m [\u001b[38;5;124m\"\u001b[39m\u001b[38;5;124m.png\u001b[39m\u001b[38;5;124m\"\u001b[39m, \u001b[38;5;124m\"\u001b[39m\u001b[38;5;124m.pdf\u001b[39m\u001b[38;5;124m\"\u001b[39m]\n\u001b[1;32m     46\u001b[0m \u001b[38;5;28;01mfor\u001b[39;00m format_file \u001b[38;5;129;01min\u001b[39;00m formats_file: \n\u001b[0;32m---> 47\u001b[0m     file \u001b[38;5;241m=\u001b[39m path_child \u001b[38;5;241m/\u001b[39m \u001b[38;5;124mf\u001b[39m\u001b[38;5;124m'\u001b[39m\u001b[38;5;132;01m{\u001b[39;00m\u001b[43msrc_id\u001b[49m\u001b[38;5;132;01m}\u001b[39;00m\u001b[38;5;124m_\u001b[39m\u001b[38;5;132;01m{\u001b[39;00mchild_name\u001b[38;5;132;01m}\u001b[39;00m\u001b[38;5;124m_\u001b[39m\u001b[38;5;132;01m{\u001b[39;00mebl_ref\u001b[38;5;132;01m}\u001b[39;00m\u001b[38;5;132;01m{\u001b[39;00mformat_file\u001b[38;5;132;01m}\u001b[39;00m\u001b[38;5;124m'\u001b[39m\n\u001b[1;32m     48\u001b[0m     plt\u001b[38;5;241m.\u001b[39msavefig(file, bbox_inches\u001b[38;5;241m=\u001b[39m\u001b[38;5;124m'\u001b[39m\u001b[38;5;124mtight\u001b[39m\u001b[38;5;124m'\u001b[39m)\n",
      "\u001b[0;31mNameError\u001b[0m: name 'src_id' is not defined"
     ]
    },
    {
     "data": {
      "image/png": "[encoded data removed]",
      "text/plain": [
       "<Figure size 640x480 with 1 Axes>"
      ]
     },
     "metadata": {},
     "output_type": "display_data"
    }
   ],
   "source": [
    "ax = plt.subplot()\n",
    "ax.yaxis.set_units(u.Unit(\"TeV cm-2 s-1\"))\n",
    "\n",
    "kwargs = {\"ax\": ax, \"sed_type\": \"e2dnde\"}\n",
    "\n",
    "for d in dataset:\n",
    "    d.data.plot(label=d.name, **kwargs)\n",
    "#     d.plot_spectrum(ax=ax)\n",
    "energy_bounds = [1e-5, 1e3] * u.TeV\n",
    "# pwl.plot(energy_bounds=energy_bounds, color=\"k\", **kwargs)\n",
    "# pwl.plot_error(energy_bounds=energy_bounds, **kwargs)\n",
    "# ax.grid(which=\"both\")\n",
    "# ax.ylim(1e-24, 1e-8)\n",
    "ax.set_title(f\"Flux Points: {src_name}\")\n",
    "ax.legend(loc=\"best\")\n",
    "ax.set_ylim(1e-13, 1e-9)\n",
    "ax.set_xlim(energy_bounds)\n",
    "ax.legend()\n",
    "\n",
    "path_flux = mkdir_base_child(\"analysis\", \"flux_points\")\n",
    "\n",
    "plt_savefig(path_flux, \"flux_points\")"
   ]
  },
  {
   "cell_type": "code",
   "execution_count": null,
   "id": "2358f67c",
   "metadata": {},
   "outputs": [],
   "source": []
  },
  {
   "cell_type": "code",
   "execution_count": null,
   "id": "60b056d8",
   "metadata": {},
   "outputs": [],
   "source": [
    "#load precomputed flux points\n",
    "filename = \"$GAMMAPY_DATA/tests/spectrum/flux_points/diff_flux_points.fits\"\n",
    "flux_points = FluxPoints.read(filename)\n",
    "model = SkyModel(spectral_model=PowerLawSpectralModel())\n",
    "dataset = FluxPointsDataset(model, flux_points)\n",
    "#configuring optional parameters\n",
    "kwargs_spectrum = {\"kwargs_model\": {\"color\":\"red\", \"ls\":\"--\"}, \"kwargs_fp\":{\"color\":\"green\", \"marker\":\"o\"}}  # noqa: E501\n",
    "kwargs_residuals = {\"color\": \"blue\", \"markersize\":4, \"marker\":'s', }\n",
    "dataset.plot_fit(kwargs_residuals=kwargs_residuals, kwargs_spectrum=kwargs_spectrum) "
   ]
  },
  {
   "cell_type": "code",
   "execution_count": null,
   "id": "c7c17297",
   "metadata": {
    "scrolled": true
   },
   "outputs": [],
   "source": [
    "source[0], spatial_model[0], spectral_model[0], catalog_name[0]"
   ]
  },
  {
   "cell_type": "code",
   "execution_count": null,
   "id": "aa330702",
   "metadata": {},
   "outputs": [],
   "source": []
  },
  {
   "cell_type": "code",
   "execution_count": null,
   "id": "cfb990bb",
   "metadata": {},
   "outputs": [],
   "source": [
    "ax = plt.subplot()\n",
    "ax.yaxis.set_units(u.Unit(\"TeV cm-2 s-1\"))\n",
    "\n",
    "kwargs = {\"ax\": ax, \"sed_type\": \"e2dnde\"}\n",
    "dataset = Datasets(dataset)\n",
    "\n",
    "for d in dataset:\n",
    "    d.data.plot(label=d.name, **kwargs)\n",
    "\n",
    "energy_bounds = [1e-5, 1e3] * u.TeV\n",
    "# pwl.plot(energy_bounds=energy_bounds, color=\"k\", **kwargs)\n",
    "# pwl.plot_error(energy_bounds=energy_bounds, **kwargs)\n",
    "ax.set_ylim(1e-13, 1e-9)\n",
    "ax.set_xlim(energy_bounds)\n",
    "ax.legend()"
   ]
  },
  {
   "cell_type": "code",
   "execution_count": null,
   "id": "2b025b01",
   "metadata": {
    "scrolled": true
   },
   "outputs": [],
   "source": [
    "# spectral_model"
   ]
  },
  {
   "cell_type": "code",
   "execution_count": null,
   "id": "a2d7fc21",
   "metadata": {},
   "outputs": [],
   "source": [
    "# list(source), list(catalog)"
   ]
  },
  {
   "cell_type": "code",
   "execution_count": null,
   "id": "26033e3c",
   "metadata": {},
   "outputs": [],
   "source": [
    "# catalog"
   ]
  },
  {
   "cell_type": "markdown",
   "id": "0645d75e",
   "metadata": {},
   "source": [
    "### Analysis"
   ]
  },
  {
   "cell_type": "code",
   "execution_count": null,
   "id": "d4192117",
   "metadata": {},
   "outputs": [],
   "source": [
    "src_name = \"HESS J1825-137\"\n",
    "\n",
    "source = catalog_gammacat[src_name]\n",
    "model = source.sky_model()\n",
    "print(model)"
   ]
  },
  {
   "cell_type": "code",
   "execution_count": null,
   "id": "1533e1f0",
   "metadata": {},
   "outputs": [],
   "source": [
    "print(source[1].spectral_model())"
   ]
  },
  {
   "cell_type": "code",
   "execution_count": null,
   "id": "e33d2f16",
   "metadata": {},
   "outputs": [],
   "source": [
    "# catalog_3hwc = CATALOG_REGISTRY.get_cls(\"3hwc\")()\n",
    "# catalog_3hwc.table\n",
    "\n",
    "# # source_2hwc = catalog_2hwc[\"2HWC J0534+220\"]\n",
    "# # source_2hwc.data."
   ]
  },
  {
   "cell_type": "code",
   "execution_count": null,
   "id": "0e7b6a6d",
   "metadata": {},
   "outputs": [],
   "source": [
    "catalog_2hwc = CATALOG_REGISTRY.get_cls(\"2hwc\")()\n",
    "catalog_2hwc.table[\"source_name\"]\n",
    "\n",
    "source_2hwc = catalog_2hwc[\"2HWC J1825-134\"]\n",
    "source_2hwc.info()"
   ]
  },
  {
   "cell_type": "code",
   "execution_count": null,
   "id": "89d18777",
   "metadata": {},
   "outputs": [],
   "source": [
    "model = source_2hwc.sky_model()\n",
    "print(model)"
   ]
  },
  {
   "cell_type": "code",
   "execution_count": null,
   "id": "aa110fd2",
   "metadata": {},
   "outputs": [],
   "source": [
    "\n",
    "catalog_gammacat = CATALOG_REGISTRY.get_cls(\"gamma-cat\")()\n",
    "\n",
    "source_gammacat = catalog_gammacat[\"HESS J1825-137\"]\n",
    "\n",
    "dataset = FluxPointsDataset(\n",
    "    data=source_gammacat.flux_points, name=src_name\n",
    ")\n",
    "table = dataset.data.to_table(sed_type=\"dnde\", formatted=True)\n",
    "table\n",
    "\n",
    "# src_name = \"HESS J1825-137\"\n",
    "# src_id = src_name.replace(\" \", \"\")\n",
    "\n",
    "# source = catalog[src_name]\n",
    "# src_data = source.data\n",
    "# display(source_gammacat.data)\n"
   ]
  },
  {
   "cell_type": "code",
   "execution_count": null,
   "id": "c3bad527",
   "metadata": {},
   "outputs": [],
   "source": [
    "CATALOG = \"hgps\"\n",
    "catalog = CATALOG_REGISTRY.get_cls(CATALOG)()\n",
    "\n",
    "src_name = \"HESS J1825-137\"\n",
    "src_id = src_name.replace(\" \", \"\")\n",
    "\n",
    "source = catalog[src_name]\n",
    "src_data = source.data\n",
    "display(src_data)"
   ]
  },
  {
   "cell_type": "code",
   "execution_count": null,
   "id": "1b8a2d55",
   "metadata": {},
   "outputs": [],
   "source": [
    "print(source.info(\"associations\"))"
   ]
  },
  {
   "cell_type": "code",
   "execution_count": null,
   "id": "07b9231f",
   "metadata": {},
   "outputs": [],
   "source": [
    "model = source.sky_model()\n",
    "print(model)"
   ]
  },
  {
   "cell_type": "code",
   "execution_count": null,
   "id": "9fffa837",
   "metadata": {},
   "outputs": [],
   "source": [
    "source.flux_points_table"
   ]
  },
  {
   "cell_type": "code",
   "execution_count": null,
   "id": "e41d8b7b",
   "metadata": {},
   "outputs": [],
   "source": [
    "dataset1 = FluxPointsDataset(\n",
    "    data=source.flux_points, name=src_name\n",
    ")\n",
    "table = dataset1.data.to_table(sed_type=\"dnde\", formatted=True)\n",
    "table"
   ]
  },
  {
   "cell_type": "code",
   "execution_count": null,
   "id": "d5bf4a32",
   "metadata": {},
   "outputs": [],
   "source": [
    "# # importing os module \n",
    "# import os\n",
    "  \n",
    "# # Directory\n",
    "# directory = \"GeeksForGeeks/Docum\"\n",
    "  \n",
    "# # Parent Directory path\n",
    "# parent_dir = \".\"\n",
    "  \n",
    "# # Path\n",
    "# path = os.path.join(parent_dir, directory)\n",
    "  \n",
    "# # Create the directory\n",
    "# # 'GeeksForGeeks' in\n",
    "# # '/home / User / Documents'\n",
    "# os.makedirs(path,exist_ok=True)\n",
    "# parent_dir"
   ]
  },
  {
   "cell_type": "code",
   "execution_count": null,
   "id": "42ea4707",
   "metadata": {},
   "outputs": [],
   "source": [
    "base_dir  = \"flux_points\"\n",
    "child_dir = \"catalog\"\n",
    "format_file = \".dat\"\n",
    "\n",
    "\n",
    "file_name = f'{base_dir}_{child_dir}_{src_id}{format_file}'\n",
    "mkdir_base_child(base_dir, child_dir)\n",
    "\n",
    "path_name = os.path.abspath(os.path.join(f\"{base_dir}/{child_dir}/{file_name}\"))\n",
    "# print(path_name)\n",
    "if path_name not in sys.path:\n",
    "    sys.path.append(path_name)\n",
    "\n",
    "table.write(f\"{path_name}\",format='ascii.ecsv', overwrite=True)"
   ]
  },
  {
   "cell_type": "code",
   "execution_count": null,
   "id": "3d17b479",
   "metadata": {},
   "outputs": [],
   "source": [
    "# e_min = min(table[\"e_min\"]) - min(table[\"e_min\"])*0.5\n",
    "# e_max = max(table[\"e_max\"]) + max(table[\"e_max\"])*0.5\n",
    "e_min = (min(table[\"e_min\"]-table[\"e_min\"]*0.1))\n",
    "e_max = (max(table[\"e_max\"]+table[\"e_max\"]*2))\n",
    "energy_bounds = [e_min, e_max] * u.TeV\n",
    "# e_min, e_max, dnde_min, dnde_max\n",
    "\n",
    "dnde_min = min(table[\"dnde\"])+ min(table[\"dnde\"])*0.5\n",
    "dnde_max = max(table[\"dnde\"]) + max(table[\"dnde\"])*0.5"
   ]
  },
  {
   "cell_type": "code",
   "execution_count": null,
   "id": "aa0f6b77",
   "metadata": {},
   "outputs": [],
   "source": [
    "energy_bounds = [e_min, e_max] * u.TeV\n",
    "e_min=0.1\n",
    "e_max=100"
   ]
  },
  {
   "cell_type": "code",
   "execution_count": null,
   "id": "945c2aac",
   "metadata": {},
   "outputs": [],
   "source": [
    "e_min, e_max"
   ]
  },
  {
   "cell_type": "code",
   "execution_count": null,
   "id": "0f0a2a8f",
   "metadata": {},
   "outputs": [],
   "source": []
  },
  {
   "cell_type": "code",
   "execution_count": null,
   "id": "7c5ebf69",
   "metadata": {},
   "outputs": [],
   "source": [
    "def plt_savefig(path_child, child_name):\n",
    "    ''' Saves figures (.png and .pdf) in the path_child directoty    \n",
    "    plt_savefig(path_child, child_name)\n",
    "    >>> plt.savefig(file, bbox_inches='tight')\n",
    "    '''\n",
    "    formats_file = [\".png\", \".pdf\"]\n",
    "    for format_file in formats_file: \n",
    "        file = path_child / f'{src_id}_{child_name}_{ebl_ref}{format_file}'\n",
    "        plt.savefig(file, bbox_inches='tight')"
   ]
  },
  {
   "cell_type": "code",
   "execution_count": null,
   "id": "97389bef",
   "metadata": {
    "scrolled": false
   },
   "outputs": [],
   "source": [
    "for i in range(len(list(dict_model.values()))):\n",
    "    # fitting a simple\n",
    "    spec_model, sky_model = list(dict_model.values())[i] # pwl, model = pwl_model()\n",
    "    \n",
    "    data_sets = Datasets(dataset)\n",
    "    data_sets.models = sky_model\n",
    "    # print(data_sets)\n",
    "\n",
    "    fitter = Fit()\n",
    "    result_pwl = fitter.run(datasets=dataset)\n",
    "    # print(result_pwl)\n",
    "\n",
    "    # plot the data points and the best fit model\n",
    "    ax = plt.subplot()\n",
    "    ax.yaxis.set_units(u.Unit(\"TeV cm-2 s-1\"))\n",
    "\n",
    "    kwargs = {\"ax\": ax, \"sed_type\": \"e2dnde\"}\n",
    "\n",
    "    for d in data_sets:\n",
    "        d.data.plot(label=d.name, **kwargs)\n",
    "\n",
    "\n",
    "    spec_model.plot(label = sky_model.name, energy_bounds=energy_bounds, color=\"k\", **kwargs)\n",
    "    spec_model.plot_error(label = \"error band\", energy_bounds=energy_bounds, **kwargs)\n",
    "    ax.set_ylim(dnde_min, dnde_max)\n",
    "    ax.set_xlim(energy_bounds)\n",
    "    ax.legend()\n",
    "    \n",
    "    ebl_ref = list(dict_model.keys())[i]\n",
    "    \n",
    "    path_flux = mkdir_base_child(\"analysis\", \"TeVCounterparts\")\n",
    "\n",
    "    plt_savefig(path_flux, \"TeVCounterparts\")\n",
    "\n",
    "    plt.show()\n",
    "\n",
    "    print(spec_model, sky_model)"
   ]
  },
  {
   "cell_type": "code",
   "execution_count": null,
   "id": "7768fd6f",
   "metadata": {},
   "outputs": [],
   "source": []
  },
  {
   "cell_type": "code",
   "execution_count": null,
   "id": "9d4235d4",
   "metadata": {},
   "outputs": [],
   "source": []
  },
  {
   "cell_type": "code",
   "execution_count": null,
   "id": "ff25893f",
   "metadata": {},
   "outputs": [],
   "source": []
  }
 ],
 "metadata": {
  "kernelspec": {
   "display_name": "Python 3 (ipykernel)",
   "language": "python",
   "name": "python3"
  },
  "language_info": {
   "codemirror_mode": {
    "name": "ipython",
    "version": 3
   },
   "file_extension": ".py",
   "mimetype": "text/x-python",
   "name": "python",
   "nbconvert_exporter": "python",
   "pygments_lexer": "ipython3",
   "version": "3.9.15"
  }
 },
 "nbformat": 4,
 "nbformat_minor": 5
}
