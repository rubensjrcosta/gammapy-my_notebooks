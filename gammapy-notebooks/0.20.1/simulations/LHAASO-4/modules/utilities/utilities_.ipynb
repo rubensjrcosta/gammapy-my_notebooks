{
 "cells": [
  {
   "cell_type": "code",
   "execution_count": null,
   "id": "8ab8aafe",
   "metadata": {},
   "outputs": [],
   "source": [
    "from pathlib import Path"
   ]
  },
  {
   "cell_type": "code",
   "execution_count": null,
   "id": "eb2a5a77",
   "metadata": {},
   "outputs": [],
   "source": [
    "def mkdir_sub_directory(parent_directory = None, child_directory = None):\n",
    "    '''Creates a directory: parent_directory/child_directory and returs the path \n",
    "    >>>mkdir_sub_directory(parent_directory, directory)\n",
    "    path_parent, path_child\n",
    "    '''\n",
    "    if child_directory is None:\n",
    "\n",
    "        path_parent = Path(f\"{parent_directory}\")\n",
    "        path_parent.mkdir(exist_ok=True)\n",
    "        print(\"Directory '% s' created\" % path_parent)\n",
    "        \n",
    "        return path_parent\n",
    "    \n",
    "    else:\n",
    "        \n",
    "        path_parent = Path(f\"{parent_directory}\")\n",
    "        path_parent.mkdir(exist_ok=True)\n",
    "\n",
    "        path_child = Path(f\"{path_parent}/{child_directory}\")\n",
    "        path_child.mkdir(parents=True, exist_ok=True)\n",
    "        print(\"Directory '% s' created\" % path_child)\n",
    "\n",
    "        return (path_parent, path_child)"
   ]
  }
 ],
 "metadata": {
  "kernelspec": {
   "display_name": "Python 3 (ipykernel)",
   "language": "python",
   "name": "python3"
  },
  "language_info": {
   "codemirror_mode": {
    "name": "ipython",
    "version": 3
   },
   "file_extension": ".py",
   "mimetype": "text/x-python",
   "name": "python",
   "nbconvert_exporter": "python",
   "pygments_lexer": "ipython3",
   "version": "3.9.15"
  }
 },
 "nbformat": 4,
 "nbformat_minor": 5
}
