{
 "cells": [
  {
   "cell_type": "code",
   "execution_count": 5,
   "id": "570bef37",
   "metadata": {},
   "outputs": [],
   "source": [
    "# !pip install dataframe-image"
   ]
  },
  {
   "cell_type": "markdown",
   "id": "d7413890",
   "metadata": {},
   "source": [
    "Carrega os catalogos do gammapy\n",
    "\n",
    "Verifica a existencia da fonte em cada um dos catalgos\n",
    "\n",
    "Guarda a tabela dos pontos de fluxos"
   ]
  },
  {
   "cell_type": "code",
   "execution_count": 6,
   "id": "c6e3efbf",
   "metadata": {},
   "outputs": [],
   "source": [
    "%matplotlib inline\n",
    "import matplotlib.pyplot as plt"
   ]
  },
  {
   "cell_type": "code",
   "execution_count": 7,
   "id": "3ac8a12e",
   "metadata": {},
   "outputs": [],
   "source": [
    "from gammapy.datasets import FluxPointsDataset"
   ]
  },
  {
   "cell_type": "code",
   "execution_count": 8,
   "id": "047ec182",
   "metadata": {},
   "outputs": [],
   "source": [
    "from gammapy.catalog import CATALOG_REGISTRY"
   ]
  },
  {
   "cell_type": "code",
   "execution_count": 22,
   "id": "dfa4f16b",
   "metadata": {},
   "outputs": [],
   "source": [
    "import os\n",
    "import sys\n",
    "import importlib\n",
    "\n",
    "# module_path = os.path.abspath('modules/spectral_models')\n",
    "# if module_path not in sys.path:\n",
    "#     sys.path.append(module_path)\n",
    "# print(module_path)\n",
    "# import spectral_models\n",
    "# importlib.reload(spectral_models)\n",
    "# from spectral_models import pwl_model\n",
    "\n",
    "module_path = os.path.abspath('modules/utilities')\n",
    "if module_path not in sys.path:\n",
    "    sys.path.append(module_path)\n",
    "# print(module_path)\n",
    "import utilities\n",
    "importlib.reload(utilities)\n",
    "from utilities import mkdir_base_child"
   ]
  },
  {
   "cell_type": "code",
   "execution_count": 23,
   "id": "cbf1c860",
   "metadata": {},
   "outputs": [],
   "source": [
    "path_counts = mkdir_base_child(\"analysis\", \"counts\")"
   ]
  },
  {
   "cell_type": "code",
   "execution_count": 9,
   "id": "1754fa6f",
   "metadata": {},
   "outputs": [],
   "source": [
    "catalog_gammacat = CATALOG_REGISTRY.get_cls(\"gamma-cat\")()\n",
    "catalog_hgps     = CATALOG_REGISTRY.get_cls(\"hgps\")()\n",
    "catalog_2hwc     = CATALOG_REGISTRY.get_cls(\"2hwc\")()\n",
    "catalog_3fgl     = CATALOG_REGISTRY.get_cls(\"3fgl\")()\n",
    "catalog_4fgl     = CATALOG_REGISTRY.get_cls(\"4fgl\")()\n",
    "catalog_2fhl     = CATALOG_REGISTRY.get_cls(\"2fhl\")()\n",
    "catalog_3fhl     = CATALOG_REGISTRY.get_cls(\"3fhl\")()\n",
    "catalog_3hwc     = CATALOG_REGISTRY.get_cls(\"3hwc\")()"
   ]
  },
  {
   "cell_type": "code",
   "execution_count": 10,
   "id": "8744ea29",
   "metadata": {},
   "outputs": [],
   "source": [
    "TeVCount_dict = {\n",
    "    \"LHAASO J1825-1326\":[\"HESS J1825-137\", \"HESS J1826-130\", \"2HWC J1825-134\"], \n",
    "    \"LHAASO J1908+0621\": [\"MGRO J1908+06\" , \"HESS J1908+063\", \"ARGO J1907+0627\", \"VER J1907+062\", \"2HWC J1908+063\"], \n",
    "    \"LHAASO J2226+6057\": [\"VER 2226+608\"  , \"Boomerang\"]\n",
    "}"
   ]
  },
  {
   "cell_type": "code",
   "execution_count": 11,
   "id": "d6774f8c",
   "metadata": {},
   "outputs": [],
   "source": [
    "catalog_tag = [\"gamma-cat\", \"hgps\", \"2hwc\", \"3fgl\", \"4fgl\", \"2fhl\", \"3fhl\", \"3hwc\"] "
   ]
  },
  {
   "cell_type": "code",
   "execution_count": 12,
   "id": "0d58f9e6",
   "metadata": {},
   "outputs": [
    {
     "data": {
      "text/html": [
       "<div>\n",
       "<style scoped>\n",
       "    .dataframe tbody tr th:only-of-type {\n",
       "        vertical-align: middle;\n",
       "    }\n",
       "\n",
       "    .dataframe tbody tr th {\n",
       "        vertical-align: top;\n",
       "    }\n",
       "\n",
       "    .dataframe thead th {\n",
       "        text-align: right;\n",
       "    }\n",
       "</style>\n",
       "<table border=\"1\" class=\"dataframe\">\n",
       "  <thead>\n",
       "    <tr style=\"text-align: right;\">\n",
       "      <th></th>\n",
       "      <th>LHAASO</th>\n",
       "      <th>Conterpart</th>\n",
       "      <th>Catalog</th>\n",
       "    </tr>\n",
       "  </thead>\n",
       "  <tbody>\n",
       "    <tr>\n",
       "      <th>0</th>\n",
       "      <td>LHAASO J1825-1326</td>\n",
       "      <td>HESS J1825-137</td>\n",
       "      <td>[gamma-cat, hgps, 3fgl, 4fgl, 2fhl, 3fhl]</td>\n",
       "    </tr>\n",
       "    <tr>\n",
       "      <th>1</th>\n",
       "      <td>LHAASO J1825-1326</td>\n",
       "      <td>HESS J1826-130</td>\n",
       "      <td>[gamma-cat, hgps, 4fgl, 3fhl]</td>\n",
       "    </tr>\n",
       "    <tr>\n",
       "      <th>2</th>\n",
       "      <td>LHAASO J1825-1326</td>\n",
       "      <td>2HWC J1825-134</td>\n",
       "      <td>[2hwc]</td>\n",
       "    </tr>\n",
       "    <tr>\n",
       "      <th>3</th>\n",
       "      <td>LHAASO J1908+0621</td>\n",
       "      <td>MGRO J1908+06</td>\n",
       "      <td>[gamma-cat, 3fgl, 4fgl]</td>\n",
       "    </tr>\n",
       "    <tr>\n",
       "      <th>4</th>\n",
       "      <td>LHAASO J1908+0621</td>\n",
       "      <td>HESS J1908+063</td>\n",
       "      <td>[gamma-cat, hgps]</td>\n",
       "    </tr>\n",
       "    <tr>\n",
       "      <th>5</th>\n",
       "      <td>LHAASO J1908+0621</td>\n",
       "      <td>ARGO J1907+0627</td>\n",
       "      <td>[gamma-cat]</td>\n",
       "    </tr>\n",
       "    <tr>\n",
       "      <th>6</th>\n",
       "      <td>LHAASO J1908+0621</td>\n",
       "      <td>VER J1907+062</td>\n",
       "      <td>[gamma-cat]</td>\n",
       "    </tr>\n",
       "    <tr>\n",
       "      <th>7</th>\n",
       "      <td>LHAASO J1908+0621</td>\n",
       "      <td>2HWC J1908+063</td>\n",
       "      <td>[2hwc]</td>\n",
       "    </tr>\n",
       "    <tr>\n",
       "      <th>8</th>\n",
       "      <td>LHAASO J2226+6057</td>\n",
       "      <td>VER 2226+608</td>\n",
       "      <td>[]</td>\n",
       "    </tr>\n",
       "    <tr>\n",
       "      <th>9</th>\n",
       "      <td>LHAASO J2226+6057</td>\n",
       "      <td>Boomerang</td>\n",
       "      <td>[3fgl, 4fgl]</td>\n",
       "    </tr>\n",
       "  </tbody>\n",
       "</table>\n",
       "</div>"
      ],
      "text/plain": [
       "              LHAASO       Conterpart  \\\n",
       "0  LHAASO J1825-1326   HESS J1825-137   \n",
       "1  LHAASO J1825-1326   HESS J1826-130   \n",
       "2  LHAASO J1825-1326   2HWC J1825-134   \n",
       "3  LHAASO J1908+0621    MGRO J1908+06   \n",
       "4  LHAASO J1908+0621   HESS J1908+063   \n",
       "5  LHAASO J1908+0621  ARGO J1907+0627   \n",
       "6  LHAASO J1908+0621    VER J1907+062   \n",
       "7  LHAASO J1908+0621   2HWC J1908+063   \n",
       "8  LHAASO J2226+6057     VER 2226+608   \n",
       "9  LHAASO J2226+6057        Boomerang   \n",
       "\n",
       "                                     Catalog  \n",
       "0  [gamma-cat, hgps, 3fgl, 4fgl, 2fhl, 3fhl]  \n",
       "1              [gamma-cat, hgps, 4fgl, 3fhl]  \n",
       "2                                     [2hwc]  \n",
       "3                    [gamma-cat, 3fgl, 4fgl]  \n",
       "4                          [gamma-cat, hgps]  \n",
       "5                                [gamma-cat]  \n",
       "6                                [gamma-cat]  \n",
       "7                                     [2hwc]  \n",
       "8                                         []  \n",
       "9                               [3fgl, 4fgl]  "
      ]
     },
     "metadata": {},
     "output_type": "display_data"
    }
   ],
   "source": [
    "lst=[]\n",
    "for i in range(len(TeVCount_dict.keys())):\n",
    "    LHAASO = list(TeVCount_dict.keys())[i]\n",
    "\n",
    "    for j in range(len(TeVCount_dict[LHAASO])):\n",
    "        cat_off = []\n",
    "        cat_on = []\n",
    "        \n",
    "        TeVCount=TeVCount_dict[LHAASO][j]\n",
    "\n",
    "        for k in range(len(catalog_tag)): \n",
    "            try:\n",
    "                cat_name = catalog_tag[k]\n",
    "                cat=CATALOG_REGISTRY.get_cls(cat_name)()\n",
    "                src=cat[TeVCount]\n",
    "                cat_on.append(catalog_tag[k])\n",
    "            except:\n",
    "                cat_off.append(catalog_tag[k])\n",
    "\n",
    "            lst_k=[LHAASO, TeVCount, cat_on]\n",
    "        \n",
    "        lst.append(lst_k)\n",
    "    \n",
    "import pandas as pd \n",
    "# List1 \n",
    "# lst = [['apple', 'red', 11], ['grape', 'green', 22], ['orange', 'orange', 33], ['mango', 'yellow', 44]] \n",
    "df = pd.DataFrame(lst, columns =['LHAASO', 'Conterpart', 'Catalog']) \n",
    "display(df) "
   ]
  },
  {
   "cell_type": "code",
   "execution_count": 13,
   "id": "540145b3",
   "metadata": {},
   "outputs": [],
   "source": [
    "import pandas as pd\n",
    "import dataframe_image as dfi"
   ]
  },
  {
   "cell_type": "code",
   "execution_count": 14,
   "id": "df344c78",
   "metadata": {},
   "outputs": [
    {
     "name": "stderr",
     "output_type": "stream",
     "text": [
      "[0127/141406.303927:WARNING:bluez_dbus_manager.cc(247)] Floss manager not present, cannot set Floss enable/disable.\n",
      "MESA-INTEL: warning: Performance support disabled, consider sysctl dev.i915.perf_stream_paranoid=0\n",
      "\n",
      "[0127/141406.357853:WARNING:sandbox_linux.cc(385)] InitializeSandbox() called with multiple threads in process gpu-process.\n",
      "[0127/141406.502909:INFO:headless_shell.cc(223)] 77326 bytes written to file /tmp/tmpidk9zqn7/temp.png\n"
     ]
    }
   ],
   "source": [
    "dfi.export(df, 'TeVCounterpart/flux_points/flux_points.png')"
   ]
  },
  {
   "cell_type": "code",
   "execution_count": 16,
   "id": "f58fd516",
   "metadata": {},
   "outputs": [
    {
     "data": {
      "text/html": [
       "<div>\n",
       "<style scoped>\n",
       "    .dataframe tbody tr th:only-of-type {\n",
       "        vertical-align: middle;\n",
       "    }\n",
       "\n",
       "    .dataframe tbody tr th {\n",
       "        vertical-align: top;\n",
       "    }\n",
       "\n",
       "    .dataframe thead th {\n",
       "        text-align: right;\n",
       "    }\n",
       "</style>\n",
       "<table border=\"1\" class=\"dataframe\">\n",
       "  <thead>\n",
       "    <tr style=\"text-align: right;\">\n",
       "      <th></th>\n",
       "      <th>LHAASO</th>\n",
       "      <th>Conterpart</th>\n",
       "      <th>Catalog</th>\n",
       "      <th>Flux Points</th>\n",
       "    </tr>\n",
       "  </thead>\n",
       "  <tbody>\n",
       "    <tr>\n",
       "      <th>0</th>\n",
       "      <td>LHAASO J1825-1326</td>\n",
       "      <td>HESS J1825-137</td>\n",
       "      <td>[gamma-cat, hgps, 3fgl, 4fgl, 2fhl, 3fhl]</td>\n",
       "      <td>[ok, ok, ok, ok, ok, ok]</td>\n",
       "    </tr>\n",
       "    <tr>\n",
       "      <th>1</th>\n",
       "      <td>LHAASO J1825-1326</td>\n",
       "      <td>HESS J1826-130</td>\n",
       "      <td>[gamma-cat, hgps, 4fgl, 3fhl]</td>\n",
       "      <td>[ok, ok, ok, ok]</td>\n",
       "    </tr>\n",
       "    <tr>\n",
       "      <th>2</th>\n",
       "      <td>LHAASO J1825-1326</td>\n",
       "      <td>2HWC J1825-134</td>\n",
       "      <td>[2hwc]</td>\n",
       "      <td>[]</td>\n",
       "    </tr>\n",
       "    <tr>\n",
       "      <th>3</th>\n",
       "      <td>LHAASO J1908+0621</td>\n",
       "      <td>MGRO J1908+06</td>\n",
       "      <td>[gamma-cat, 3fgl, 4fgl]</td>\n",
       "      <td>[ok, ok, ok]</td>\n",
       "    </tr>\n",
       "    <tr>\n",
       "      <th>4</th>\n",
       "      <td>LHAASO J1908+0621</td>\n",
       "      <td>HESS J1908+063</td>\n",
       "      <td>[gamma-cat, hgps]</td>\n",
       "      <td>[ok, ok]</td>\n",
       "    </tr>\n",
       "    <tr>\n",
       "      <th>5</th>\n",
       "      <td>LHAASO J1908+0621</td>\n",
       "      <td>ARGO J1907+0627</td>\n",
       "      <td>[gamma-cat]</td>\n",
       "      <td>[ok]</td>\n",
       "    </tr>\n",
       "    <tr>\n",
       "      <th>6</th>\n",
       "      <td>LHAASO J1908+0621</td>\n",
       "      <td>VER J1907+062</td>\n",
       "      <td>[gamma-cat]</td>\n",
       "      <td>[ok]</td>\n",
       "    </tr>\n",
       "    <tr>\n",
       "      <th>7</th>\n",
       "      <td>LHAASO J1908+0621</td>\n",
       "      <td>2HWC J1908+063</td>\n",
       "      <td>[2hwc]</td>\n",
       "      <td>[]</td>\n",
       "    </tr>\n",
       "    <tr>\n",
       "      <th>8</th>\n",
       "      <td>LHAASO J2226+6057</td>\n",
       "      <td>VER 2226+608</td>\n",
       "      <td>[]</td>\n",
       "      <td>[]</td>\n",
       "    </tr>\n",
       "    <tr>\n",
       "      <th>9</th>\n",
       "      <td>LHAASO J2226+6057</td>\n",
       "      <td>Boomerang</td>\n",
       "      <td>[3fgl, 4fgl]</td>\n",
       "      <td>[ok, ok]</td>\n",
       "    </tr>\n",
       "  </tbody>\n",
       "</table>\n",
       "</div>"
      ],
      "text/plain": [
       "              LHAASO       Conterpart  \\\n",
       "0  LHAASO J1825-1326   HESS J1825-137   \n",
       "1  LHAASO J1825-1326   HESS J1826-130   \n",
       "2  LHAASO J1825-1326   2HWC J1825-134   \n",
       "3  LHAASO J1908+0621    MGRO J1908+06   \n",
       "4  LHAASO J1908+0621   HESS J1908+063   \n",
       "5  LHAASO J1908+0621  ARGO J1907+0627   \n",
       "6  LHAASO J1908+0621    VER J1907+062   \n",
       "7  LHAASO J1908+0621   2HWC J1908+063   \n",
       "8  LHAASO J2226+6057     VER 2226+608   \n",
       "9  LHAASO J2226+6057        Boomerang   \n",
       "\n",
       "                                     Catalog               Flux Points  \n",
       "0  [gamma-cat, hgps, 3fgl, 4fgl, 2fhl, 3fhl]  [ok, ok, ok, ok, ok, ok]  \n",
       "1              [gamma-cat, hgps, 4fgl, 3fhl]          [ok, ok, ok, ok]  \n",
       "2                                     [2hwc]                        []  \n",
       "3                    [gamma-cat, 3fgl, 4fgl]              [ok, ok, ok]  \n",
       "4                          [gamma-cat, hgps]                  [ok, ok]  \n",
       "5                                [gamma-cat]                      [ok]  \n",
       "6                                [gamma-cat]                      [ok]  \n",
       "7                                     [2hwc]                        []  \n",
       "8                                         []                        []  \n",
       "9                               [3fgl, 4fgl]                  [ok, ok]  "
      ]
     },
     "metadata": {},
     "output_type": "display_data"
    }
   ],
   "source": [
    "catalog_tag = [\"gamma-cat\", \"hgps\", \"2hwc\", \"3fgl\", \"4fgl\", \"2fhl\", \"3fhl\", \"3hwc\"] \n",
    "lst=[]\n",
    "for i in range(len(TeVCount_dict.keys())):\n",
    "    LHAASO = list(TeVCount_dict.keys())[i]\n",
    "\n",
    "    for j in range(len(TeVCount_dict[LHAASO])):\n",
    "        cat_off = []\n",
    "        cat_on = []\n",
    "        \n",
    "        pf_off = []\n",
    "        pf_on = []\n",
    "        \n",
    "        TeVCount=TeVCount_dict[LHAASO][j]\n",
    "\n",
    "        for k in range(len(catalog_tag)): \n",
    "            cat_name = catalog_tag[k]\n",
    "            \n",
    "            try:\n",
    "                cat=CATALOG_REGISTRY.get_cls(cat_name)()\n",
    "                src=cat[TeVCount]\n",
    "                cat_on.append(catalog_tag[k])\n",
    "                \n",
    "                ds = FluxPointsDataset(\n",
    "                    data=src.flux_points, \n",
    "                    name=cat_name\n",
    "                )\n",
    "                pf_on.append(\"ok\")\n",
    "            except:\n",
    "                cat_off.append(catalog_tag[k])\n",
    "#                 pf_on.append(\"no\")\n",
    "#             try:\n",
    "#                 ds = FluxPointsDataset(\n",
    "#                     data=src.flux_points, \n",
    "#                     name=cat_name\n",
    "#                 )\n",
    "#                 pf_on.append(\"ok\")\n",
    "#             except:\n",
    "#                 pf_on.append(\"no\")\n",
    "            lst_k=[LHAASO, TeVCount, cat_on, pf_on]\n",
    "        lst.append(lst_k)\n",
    "    \n",
    "import pandas as pd \n",
    "# List1 \n",
    "# lst = [['apple', 'red', 11], ['grape', 'green', 22], ['orange', 'orange', 33], ['mango', 'yellow', 44]] \n",
    "df = pd.DataFrame(lst, columns =['LHAASO', 'Conterpart', 'Catalog', 'Flux Points']) \n",
    "display(df) "
   ]
  },
  {
   "cell_type": "code",
   "execution_count": 36,
   "id": "587a5175",
   "metadata": {},
   "outputs": [
    {
     "data": {
      "text/html": [
       "<div><i>Table length=8</i>\n",
       "<table id=\"table139672559601216\" class=\"table-striped table-bordered table-condensed\">\n",
       "<thead><tr><th>e_ref</th><th>e_min</th><th>e_max</th><th>flux</th><th>flux_errp</th><th>flux_errn</th><th>flux_ul</th><th>sqrt_ts</th><th>is_ul</th></tr></thead>\n",
       "<thead><tr><th>MeV</th><th>MeV</th><th>MeV</th><th>1 / (cm2 s)</th><th>1 / (cm2 s)</th><th>1 / (cm2 s)</th><th>1 / (cm2 s)</th><th></th><th></th></tr></thead>\n",
       "<thead><tr><th>float64</th><th>float64</th><th>float64</th><th>float64</th><th>float64</th><th>float64</th><th>float64</th><th>float32</th><th>bool</th></tr></thead>\n",
       "<tr><td>70.71067811865478</td><td>49.99999999999999</td><td>100.00000000000004</td><td>2.078468241961673e-07</td><td>5.751192233560687e-08</td><td>1.6331901520061365e-07</td><td>nan</td><td>1.1935638</td><td>False</td></tr>\n",
       "<tr><td>173.20508075688775</td><td>100.00000000000004</td><td>299.99999999999994</td><td>1.671608202968855e-07</td><td>2.8877554569817218e-08</td><td>2.9259556555416566e-08</td><td>nan</td><td>5.9036613</td><td>False</td></tr>\n",
       "<tr><td>547.722557505166</td><td>299.99999999999994</td><td>999.9999999999998</td><td>9.220097041406916e-08</td><td>2.281774325041397e-09</td><td>2.281774325041397e-09</td><td>nan</td><td>48.995678</td><td>False</td></tr>\n",
       "<tr><td>1732.0508075688763</td><td>999.9999999999998</td><td>2999.9999999999977</td><td>2.4721000357885714e-08</td><td>3.585990393517591e-10</td><td>3.585990393517591e-10</td><td>nan</td><td>105.55699</td><td>False</td></tr>\n",
       "<tr><td>5477.225575051666</td><td>2999.9999999999977</td><td>10000.00000000001</td><td>4.9213859654173575e-09</td><td>1.0209709466746374e-10</td><td>1.0209709466746374e-10</td><td>nan</td><td>98.235115</td><td>False</td></tr>\n",
       "<tr><td>17320.50807568877</td><td>10000.00000000001</td><td>30000.000000000007</td><td>3.1521132926037865e-10</td><td>2.3106764765468135e-11</td><td>2.3106764765468135e-11</td><td>nan</td><td>31.711508</td><td>False</td></tr>\n",
       "<tr><td>54772.255750516626</td><td>30000.000000000007</td><td>100000.00000000001</td><td>5.588716121829318e-12</td><td>4.0723561675615194e-12</td><td>2.8857216095856675e-12</td><td>nan</td><td>3.4524047</td><td>False</td></tr>\n",
       "<tr><td>316227.7660168382</td><td>100000.00000000001</td><td>999999.9999999995</td><td>1.6136274396239175e-18</td><td>2.1285132944387497e-12</td><td>nan</td><td>4.2570283236009746e-12</td><td>0.0</td><td>True</td></tr>\n",
       "</table></div>"
      ],
      "text/plain": [
       "<Table length=8>\n",
       "      e_ref              e_min              e_max        ...  sqrt_ts  is_ul\n",
       "       MeV                MeV                MeV         ...                \n",
       "     float64            float64            float64       ...  float32   bool\n",
       "------------------ ------------------ ------------------ ... --------- -----\n",
       " 70.71067811865478  49.99999999999999 100.00000000000004 ... 1.1935638 False\n",
       "173.20508075688775 100.00000000000004 299.99999999999994 ... 5.9036613 False\n",
       "  547.722557505166 299.99999999999994  999.9999999999998 ... 48.995678 False\n",
       "1732.0508075688763  999.9999999999998 2999.9999999999977 ... 105.55699 False\n",
       " 5477.225575051666 2999.9999999999977  10000.00000000001 ... 98.235115 False\n",
       " 17320.50807568877  10000.00000000001 30000.000000000007 ... 31.711508 False\n",
       "54772.255750516626 30000.000000000007 100000.00000000001 ... 3.4524047 False\n",
       " 316227.7660168382 100000.00000000001  999999.9999999995 ...       0.0  True"
      ]
     },
     "execution_count": 36,
     "metadata": {},
     "output_type": "execute_result"
    }
   ],
   "source": [
    "src.flux_points.to_table()"
   ]
  },
  {
   "cell_type": "code",
   "execution_count": 15,
   "id": "10dad975",
   "metadata": {},
   "outputs": [
    {
     "ename": "NameError",
     "evalue": "name 'pf_on' is not defined",
     "output_type": "error",
     "traceback": [
      "\u001b[0;31m---------------------------------------------------------------------------\u001b[0m",
      "\u001b[0;31mNameError\u001b[0m                                 Traceback (most recent call last)",
      "Input \u001b[0;32mIn [15]\u001b[0m, in \u001b[0;36m<cell line: 1>\u001b[0;34m()\u001b[0m\n\u001b[0;32m----> 1\u001b[0m \u001b[43mpf_on\u001b[49m\n",
      "\u001b[0;31mNameError\u001b[0m: name 'pf_on' is not defined"
     ]
    }
   ],
   "source": [
    "pf_on"
   ]
  },
  {
   "cell_type": "code",
   "execution_count": 17,
   "id": "515c9c3d",
   "metadata": {},
   "outputs": [
    {
     "data": {
      "text/plain": [
       "['VER 2226+608', 'Boomerang']"
      ]
     },
     "execution_count": 17,
     "metadata": {},
     "output_type": "execute_result"
    }
   ],
   "source": [
    "TeVCount_dict[LHAASO]"
   ]
  },
  {
   "cell_type": "code",
   "execution_count": 19,
   "id": "54d61c3e",
   "metadata": {},
   "outputs": [
    {
     "name": "stdout",
     "output_type": "stream",
     "text": [
      "LHAASO J1825-1326\n",
      "HESS J1825-137\n",
      "gamma-cat (an exception occurred)\n",
      "hgps (an exception occurred)\n",
      "2hwc (an exception occurred)\n",
      "3fgl (an exception occurred)\n",
      "4fgl (an exception occurred)\n",
      "2fhl (an exception occurred)\n",
      "3fhl (an exception occurred)\n",
      "3hwc (an exception occurred)\n",
      "HESS J1826-130\n",
      "gamma-cat (an exception occurred)\n",
      "hgps (an exception occurred)\n",
      "2hwc (an exception occurred)\n",
      "3fgl (an exception occurred)\n",
      "4fgl (an exception occurred)\n",
      "2fhl (an exception occurred)\n",
      "3fhl (an exception occurred)\n",
      "3hwc (an exception occurred)\n",
      "2HWC J1825-134\n",
      "gamma-cat (an exception occurred)\n",
      "hgps (an exception occurred)\n",
      "2hwc (an exception occurred)\n",
      "3fgl (an exception occurred)\n",
      "4fgl (an exception occurred)\n",
      "2fhl (an exception occurred)\n",
      "3fhl (an exception occurred)\n",
      "3hwc (an exception occurred)\n",
      " \n",
      "***\n",
      "LHAASO J1908+0621\n",
      "MGRO J1908+06\n",
      "gamma-cat (an exception occurred)\n",
      "hgps (an exception occurred)\n",
      "2hwc (an exception occurred)\n",
      "3fgl (an exception occurred)\n",
      "4fgl (an exception occurred)\n",
      "2fhl (an exception occurred)\n",
      "3fhl (an exception occurred)\n",
      "3hwc (an exception occurred)\n",
      "HESS J1908+063\n",
      "gamma-cat (an exception occurred)\n",
      "hgps (an exception occurred)\n",
      "2hwc (an exception occurred)\n",
      "3fgl (an exception occurred)\n",
      "4fgl (an exception occurred)\n",
      "2fhl (an exception occurred)\n",
      "3fhl (an exception occurred)\n",
      "3hwc (an exception occurred)\n",
      "ARGO J1907+0627\n",
      "gamma-cat (an exception occurred)\n",
      "hgps (an exception occurred)\n",
      "2hwc (an exception occurred)\n",
      "3fgl (an exception occurred)\n",
      "4fgl (an exception occurred)\n",
      "2fhl (an exception occurred)\n",
      "3fhl (an exception occurred)\n",
      "3hwc (an exception occurred)\n",
      "VER J1907+062\n",
      "gamma-cat (an exception occurred)\n",
      "hgps (an exception occurred)\n",
      "2hwc (an exception occurred)\n",
      "3fgl (an exception occurred)\n",
      "4fgl (an exception occurred)\n",
      "2fhl (an exception occurred)\n",
      "3fhl (an exception occurred)\n",
      "3hwc (an exception occurred)\n",
      "2HWC J1908+063\n",
      "gamma-cat (an exception occurred)\n",
      "hgps (an exception occurred)\n",
      "2hwc (an exception occurred)\n",
      "3fgl (an exception occurred)\n",
      "4fgl (an exception occurred)\n",
      "2fhl (an exception occurred)\n",
      "3fhl (an exception occurred)\n",
      "3hwc (an exception occurred)\n",
      " \n",
      "***\n",
      "LHAASO J2226+6057\n",
      "VER 2226+608\n",
      "gamma-cat (an exception occurred)\n",
      "hgps (an exception occurred)\n",
      "2hwc (an exception occurred)\n",
      "3fgl (an exception occurred)\n",
      "4fgl (an exception occurred)\n",
      "2fhl (an exception occurred)\n",
      "3fhl (an exception occurred)\n",
      "3hwc (an exception occurred)\n",
      "Boomerang\n",
      "gamma-cat (an exception occurred)\n",
      "hgps (an exception occurred)\n",
      "2hwc (an exception occurred)\n",
      "3fgl (an exception occurred)\n",
      "4fgl (an exception occurred)\n",
      "2fhl (an exception occurred)\n",
      "3fhl (an exception occurred)\n",
      "3hwc (an exception occurred)\n",
      " \n",
      "***\n"
     ]
    }
   ],
   "source": [
    "base_dir  = \"flux_points\"\n",
    "child_dir = \"catalog\"\n",
    "format_file = \".dat\"\n",
    "\n",
    "LHAASO_name = list(TeVCount_dict.keys())[0]\n",
    "src_name =  list(TeVCount_dict.values())[0][2]\n",
    "\n",
    "\n",
    "\n",
    "for i in range(len(TeVCount_dict.keys())):\n",
    "    LHAASO_name = list(TeVCount_dict.keys())[i]\n",
    "    print(f\"{LHAASO_name}\")\n",
    "\n",
    "    for j in range(len(TeVCount_dict[LHAASO_name])):\n",
    "        src_name=TeVCount_dict[LHAASO_name][j]\n",
    "        \n",
    "        LHAASO_id = LHAASO_name.replace(\" \", \"\")\n",
    "        src_id = src_name.replace(\" \", \"\")\n",
    "\n",
    "        print(f\"{src_name}\")\n",
    "        for k in range(len(catalog_tag)): \n",
    "            \n",
    "            try:\n",
    "                cat_name = catalog_tag[k]\n",
    "                cat=CATALOG_REGISTRY.get_cls(cat_name)()\n",
    "                src=cat[src_name]\n",
    "  \n",
    "                ds = FluxPointsDataset(\n",
    "            #             spectral_model=src.spectral_model,\n",
    "                    data=src.flux_points, \n",
    "                    name=cat_name\n",
    "                )\n",
    "                table = ds.data.to_table(sed_type=\"dnde\", formatted=True)\n",
    "\n",
    "\n",
    "\n",
    "#                 file_name = f'{src_id}_{base_dir}_{cat_name}{format_file}'\n",
    "#                 mkdir_base_child(base_dir, child_dir)\n",
    "\n",
    "                path_name = os.path.abspath(os.path.join(f\"{base_dir}/{child_dir}/{file_name}\"))\n",
    "                # print(path_name)\n",
    "                if path_name not in sys.path:\n",
    "                    sys.path.append(path_name)\n",
    "\n",
    "                table.write(f\"{path_name}\",format='ascii.ecsv', overwrite=True)\n",
    "\n",
    "        \n",
    "                print(f\"{catalog_tag[k]}\")\n",
    "\n",
    "            except:\n",
    "                 print(f\"{catalog_tag[k]} (an exception occurred)\")\n",
    "    print(\" \")\n",
    "    print(\"***\")\n"
   ]
  },
  {
   "cell_type": "code",
   "execution_count": 20,
   "id": "0ad2bf8e",
   "metadata": {},
   "outputs": [
    {
     "name": "stdout",
     "output_type": "stream",
     "text": [
      "********An exception occurred: gamma-cat********\n",
      "********An exception occurred: hgps********\n",
      "********An exception occurred: 2hwc********\n",
      "********An exception occurred: 2fhl********\n",
      "********An exception occurred: 3fhl********\n",
      "********An exception occurred: 3hwc********\n"
     ]
    }
   ],
   "source": [
    "    for i  in range(len(catalog_tag)): \n",
    "        try:\n",
    "            cat_name = catalog_tag[i]\n",
    "            cat=CATALOG_REGISTRY.get_cls(cat_name)()\n",
    "            src=cat[src_name]\n",
    "\n",
    "        except:\n",
    "            print(f\"********An exception occurred: {catalog_tag[i]}********\")\n",
    "\n",
    "# for key, value in TeVCount_dict.items():\n",
    "#     LHAASO.append(key)\n",
    "#     TeVCount.append(value)\n",
    "# print(LHAASO, TeVCount)\n",
    "\n",
    "# cat=CATALOG_REGISTRY.get_cls(cat_name)()\n",
    "#         src=cat[src_name]\n",
    "    "
   ]
  },
  {
   "cell_type": "code",
   "execution_count": 21,
   "id": "90e0f7c7",
   "metadata": {},
   "outputs": [
    {
     "name": "stdout",
     "output_type": "stream",
     "text": [
      "['LHAASO J1825-1326', 'LHAASO J1908+0621', 'LHAASO J2226+6057'] [['HESS J1825-137', 'HESS J1826-130', '2HWC J1825-134'], ['MGRO J1908+06', 'HESS J1908+063', 'ARGO J1907+0627', 'VER J1907+062', '2HWC J1908+063'], ['VER 2226+608', 'Boomerang']]\n"
     ]
    }
   ],
   "source": [
    "LHAASO = []\n",
    "TeVCount = []\n",
    "\n",
    "for key, value in TeVCount_dict.items():\n",
    "    LHAASO.append(key)\n",
    "    TeVCount.append(value)\n",
    "print(LHAASO, TeVCount)"
   ]
  },
  {
   "cell_type": "code",
   "execution_count": 22,
   "id": "de20331a",
   "metadata": {},
   "outputs": [],
   "source": [
    "LHAASO_name = list(TeVCount_dict.keys())[0]\n",
    "src_name =  list(TeVCount_dict.values())[0][1]\n",
    "\n",
    "LHAASO_id = LHAASO_name.replace(\" \", \"\")\n",
    "src_id = src_name.replace(\" \", \"\")"
   ]
  },
  {
   "cell_type": "code",
   "execution_count": 23,
   "id": "918ebb8a",
   "metadata": {},
   "outputs": [
    {
     "data": {
      "text/plain": [
       "('LHAASO J1825-1326', 'LHAASOJ1825-1326')"
      ]
     },
     "execution_count": 23,
     "metadata": {},
     "output_type": "execute_result"
    }
   ],
   "source": [
    "LHAASO_name, LHAASO_id"
   ]
  },
  {
   "cell_type": "code",
   "execution_count": 24,
   "id": "57955919",
   "metadata": {},
   "outputs": [
    {
     "data": {
      "text/plain": [
       "('HESS J1826-130', 'HESSJ1826-130')"
      ]
     },
     "execution_count": 24,
     "metadata": {},
     "output_type": "execute_result"
    }
   ],
   "source": [
    "src_name, src_id"
   ]
  },
  {
   "cell_type": "code",
   "execution_count": 25,
   "id": "785454df",
   "metadata": {},
   "outputs": [],
   "source": [
    "# CATALOG_REGISTRY.get_cls(\"2hwc\")()[\"HESS J1908+063\"]"
   ]
  },
  {
   "cell_type": "code",
   "execution_count": 26,
   "id": "80f5b1e2",
   "metadata": {},
   "outputs": [
    {
     "name": "stdout",
     "output_type": "stream",
     "text": [
      "********An exception occurred: gamma-cat********\n",
      "********An exception occurred: hgps********\n",
      "********An exception occurred: 2hwc********\n",
      "********An exception occurred: 3fgl********\n",
      "********An exception occurred: 4fgl********\n",
      "********An exception occurred: 2fhl********\n",
      "********An exception occurred: 3fhl********\n",
      "********An exception occurred: 3hwc********\n"
     ]
    }
   ],
   "source": [
    "catalog_tag = [\"gamma-cat\", \"hgps\", \"2hwc\", \"3fgl\", \"4fgl\", \"2fhl\", \"3fhl\", \"3hwc\"] \n",
    "\n",
    "catalog = []\n",
    "catalog_name = []\n",
    "source = []\n",
    "spatial_model = []\n",
    "spectral_model = []\n",
    "sky_model = []\n",
    "dataset = []\n",
    "for i  in range(len(catalog_tag)): \n",
    "    try:\n",
    "        cat_name = catalog_tag[i]\n",
    "        cat=CATALOG_REGISTRY.get_cls(cat_name)()\n",
    "        src=cat[src_name]\n",
    "\n",
    "        ds = FluxPointsDataset(\n",
    "#             spectral_model=src.spectral_model,\n",
    "            data=src.flux_points, \n",
    "            name=cat_name\n",
    "        )\n",
    "        table = ds.data.to_table(sed_type=\"dnde\", formatted=True)\n",
    "        (table)\n",
    "        \n",
    "        base_dir  = \"flux_points\"\n",
    "        child_dir = \"catalog\"\n",
    "        format_file = \".dat\"\n",
    "\n",
    "\n",
    "#         file_name = f'{src_id}_{base_dir}_{cat_name}{format_file}'\n",
    "#         mkdir_base_child(base_dir, child_dir)\n",
    "\n",
    "        path_name = os.path.abspath(os.path.join(f\"{base_dir}/{child_dir}/{file_name}\"))\n",
    "        # print(path_name)\n",
    "        if path_name not in sys.path:\n",
    "            sys.path.append(path_name)\n",
    "\n",
    "        table.write(f\"{path_name}\",format='ascii.ecsv', overwrite=True)\n",
    "\n",
    "        \n",
    "        \n",
    "        catalog.append(cat)\n",
    "        source.append(src)\n",
    "        spectral_model.append(src.spectral_model)\n",
    "        spatial_model.append(src.spatial_model)\n",
    "        sky_model.append(src.sky_model)\n",
    "        catalog_name.append(cat_name)\n",
    "        dataset.append(ds)\n",
    "\n",
    "        \n",
    "    except:\n",
    "        print(f\"********An exception occurred: {catalog_tag[i]}********\")"
   ]
  },
  {
   "cell_type": "code",
   "execution_count": 27,
   "id": "64a4effe",
   "metadata": {},
   "outputs": [
    {
     "data": {
      "text/plain": [
       "[]"
      ]
     },
     "execution_count": 27,
     "metadata": {},
     "output_type": "execute_result"
    }
   ],
   "source": [
    "spectral_model"
   ]
  },
  {
   "cell_type": "code",
   "execution_count": 28,
   "id": "548adf6f",
   "metadata": {},
   "outputs": [
    {
     "ename": "NameError",
     "evalue": "name 'Datasets' is not defined",
     "output_type": "error",
     "traceback": [
      "\u001b[0;31m---------------------------------------------------------------------------\u001b[0m",
      "\u001b[0;31mNameError\u001b[0m                                 Traceback (most recent call last)",
      "Input \u001b[0;32mIn [28]\u001b[0m, in \u001b[0;36m<cell line: 1>\u001b[0;34m()\u001b[0m\n\u001b[0;32m----> 1\u001b[0m dataset \u001b[38;5;241m=\u001b[39m \u001b[43mDatasets\u001b[49m(dataset)\n",
      "\u001b[0;31mNameError\u001b[0m: name 'Datasets' is not defined"
     ]
    }
   ],
   "source": [
    "dataset = Datasets(dataset)"
   ]
  },
  {
   "cell_type": "code",
   "execution_count": null,
   "id": "642bd51a",
   "metadata": {},
   "outputs": [],
   "source": [
    "print_flux()"
   ]
  },
  {
   "cell_type": "code",
   "execution_count": null,
   "id": "129bb366",
   "metadata": {
    "scrolled": true
   },
   "outputs": [],
   "source": [
    "# ax = plt.subplot()\n",
    "# ax.yaxis.set_units(u.Unit(\"TeV cm-2 s-1\"))\n",
    "\n",
    "# kwargs = {\"ax\": ax, \"sed_type\": \"e2dnde\"}\n",
    "\n",
    "# for d in dataset:\n",
    "#     d.data.plot(label=d.name, **kwargs)\n",
    "# energy_bounds = [1e-5, 1e3] * u.TeV\n",
    "# title = f\"{LHAASO_name}:  {src_name}\"\n",
    "# ax.set_title(title)\n",
    "# ax.legend(loc=\"best\")\n",
    "# ax.set_ylim(1e-13, 1e-9)\n",
    "# ax.set_xlim(energy_bounds)\n",
    "# ax.legend()\n",
    "\n",
    "# file_name = LHAASO_id+\"_\"+src_id\n",
    "# plt.savefig(file_name, bbox_inches='tight')\n",
    "# # path_flux = mkdir_base_child(\"analysis\", \"flux_points\")\n",
    "\n",
    "# # plt_savefig(path_flux, \"flux_points\")"
   ]
  },
  {
   "cell_type": "code",
   "execution_count": null,
   "id": "c4070b95",
   "metadata": {},
   "outputs": [],
   "source": []
  },
  {
   "cell_type": "code",
   "execution_count": null,
   "id": "964dfa3e",
   "metadata": {},
   "outputs": [],
   "source": []
  },
  {
   "cell_type": "code",
   "execution_count": null,
   "id": "824a3427",
   "metadata": {},
   "outputs": [],
   "source": [
    "# print_flux()"
   ]
  },
  {
   "cell_type": "code",
   "execution_count": null,
   "id": "7f7fc9c5",
   "metadata": {},
   "outputs": [],
   "source": []
  },
  {
   "cell_type": "code",
   "execution_count": null,
   "id": "fa851025",
   "metadata": {},
   "outputs": [],
   "source": []
  },
  {
   "cell_type": "code",
   "execution_count": null,
   "id": "a60cbbd5",
   "metadata": {},
   "outputs": [],
   "source": []
  },
  {
   "cell_type": "code",
   "execution_count": null,
   "id": "f1afd2f0",
   "metadata": {},
   "outputs": [],
   "source": []
  },
  {
   "cell_type": "code",
   "execution_count": null,
   "id": "3c26976a",
   "metadata": {},
   "outputs": [],
   "source": []
  }
 ],
 "metadata": {
  "kernelspec": {
   "display_name": "Python 3 (ipykernel)",
   "language": "python",
   "name": "python3"
  },
  "language_info": {
   "codemirror_mode": {
    "name": "ipython",
    "version": 3
   },
   "file_extension": ".py",
   "mimetype": "text/x-python",
   "name": "python",
   "nbconvert_exporter": "python",
   "pygments_lexer": "ipython3",
   "version": "3.9.15"
  }
 },
 "nbformat": 4,
 "nbformat_minor": 5
}
