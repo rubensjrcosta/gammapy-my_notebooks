{
 "cells": [
  {
   "cell_type": "code",
   "execution_count": 1,
   "id": "5ce110db",
   "metadata": {},
   "outputs": [],
   "source": [
    "# !pip install dataframe-image"
   ]
  },
  {
   "cell_type": "code",
   "execution_count": 2,
   "id": "fa05df50",
   "metadata": {},
   "outputs": [],
   "source": [
    "# !pip install tabulate"
   ]
  },
  {
   "cell_type": "markdown",
   "id": "b43d98b9",
   "metadata": {},
   "source": [
    "Carrega os catalogos do gammapy\n",
    "\n",
    "Verifica a existencia da fonte em cada um dos catalgos\n",
    "\n",
    "Guarda a tabela dos pontos de fluxos"
   ]
  },
  {
   "cell_type": "code",
   "execution_count": 3,
   "id": "c6e3efbf",
   "metadata": {},
   "outputs": [],
   "source": [
    "%matplotlib inline\n",
    "import matplotlib.pyplot as plt"
   ]
  },
  {
   "cell_type": "code",
   "execution_count": 4,
   "id": "3ac8a12e",
   "metadata": {},
   "outputs": [],
   "source": [
    "from gammapy.datasets import FluxPointsDataset, Datasets\n",
    "from gammapy.catalog import CATALOG_REGISTRY"
   ]
  },
  {
   "cell_type": "code",
   "execution_count": 5,
   "id": "eff6f5ad",
   "metadata": {},
   "outputs": [],
   "source": [
    "import os\n",
    "import sys\n",
    "import importlib\n",
    "\n",
    "module_path = os.path.abspath('modules/spectral_models')\n",
    "if module_path not in sys.path:\n",
    "    sys.path.append(module_path)\n",
    "# print(module_path)\n",
    "import spectral_models\n",
    "importlib.reload(spectral_models)\n",
    "from spectral_models import pwl_model\n",
    "\n",
    "module_path = os.path.abspath('modules/utilities')\n",
    "if module_path not in sys.path:\n",
    "    sys.path.append(module_path)\n",
    "# print(module_path)\n",
    "import utilities\n",
    "importlib.reload(utilities)\n",
    "from utilities import mkdir_child_dir"
   ]
  },
  {
   "cell_type": "code",
   "execution_count": 6,
   "id": "a1236f88",
   "metadata": {},
   "outputs": [],
   "source": [
    "from astropy import units as u\n",
    "\n",
    "from gammapy.modeling import Fit\n",
    "from gammapy.modeling.models import (\n",
    "    Models,\n",
    "    ExpCutoffPowerLawSpectralModel,\n",
    "    LogParabolaSpectralModel,\n",
    "    PowerLawSpectralModel,\n",
    "    SkyModel,\n",
    ")"
   ]
  },
  {
   "cell_type": "code",
   "execution_count": 7,
   "id": "613f85ba",
   "metadata": {},
   "outputs": [],
   "source": [
    "def print_SED(spec_model = None, sed_type = \"e2dnde\", yaxis_units=\"TeV cm-2 s-1\", energy_bounds= [1e-5, 1e2] * u.TeV, ylim = [1e-13, 1e-9]):\n",
    "    '''Returns a spectral energy distribution\n",
    "    \n",
    "    print_SED(spec_model, yaxis_units, sed_type, reference)\n",
    "    >>> model \n",
    "    ----------\n",
    "    '''\n",
    "    path_name=mkdir_child_dir(\"catalogs_data\", \"flux_points\")\n",
    "    ax = plt.subplot()\n",
    "    ax.yaxis.set_units(u.Unit(yaxis_units))\n",
    "    ax.xaxis.set_units(u.Unit(\"TeV\"))\n",
    "\n",
    "    #label = f\"{sky_model}\"\n",
    "    \n",
    "    kwargs = {\n",
    "        \"ax\": ax, \n",
    "        \"sed_type\": sed_type\n",
    "    }    \n",
    "    for d in datasets:\n",
    "        d.data.plot(label=d.name, **kwargs)\n",
    "\n",
    "    try:   \n",
    "        kwargs_fit = {\"label\":sky_model.name}\n",
    "        spec_model.plot(energy_bounds=energy_bounds, color=\"k\", **kwargs, **kwargs_fit)\n",
    "        spec_model.plot_error(energy_bounds=energy_bounds, **kwargs)\n",
    "        file = path_name / f'{LHAASO_id}_{TeVCount_id}_{sky_model.name}.png'\n",
    "    except:\n",
    "        file = path_name / f'{LHAASO_id}_{TeVCount_id}.png'\n",
    "    \n",
    "    ax.set_ylim(ylim)\n",
    "    ax.set_xlim(energy_bounds)\n",
    "    ax.legend()\n",
    "    \n",
    "    plt.title(f\"{LHAASO_obs}: {TeVCount_src}\")\n",
    "        \n",
    "    plt.savefig(file, bbox_inches='tight')\n",
    "    plt.show()\n",
    "    \n",
    "    return "
   ]
  },
  {
   "cell_type": "code",
   "execution_count": 8,
   "id": "1754fa6f",
   "metadata": {},
   "outputs": [],
   "source": [
    "# Loading the source catalogs\n",
    "catalog_gammacat = CATALOG_REGISTRY.get_cls(\"gamma-cat\")()\n",
    "catalog_hgps = CATALOG_REGISTRY.get_cls(\"hgps\")()\n",
    "catalog_2hwc = CATALOG_REGISTRY.get_cls(\"2hwc\")()\n",
    "catalog_3fgl = CATALOG_REGISTRY.get_cls(\"3fgl\")()\n",
    "catalog_4fgl = CATALOG_REGISTRY.get_cls(\"4fgl\")()\n",
    "catalog_2fhl = CATALOG_REGISTRY.get_cls(\"2fhl\")()\n",
    "catalog_3fhl = CATALOG_REGISTRY.get_cls(\"3fhl\")()\n",
    "catalog_3hwc = CATALOG_REGISTRY.get_cls(\"3hwc\")()"
   ]
  },
  {
   "cell_type": "code",
   "execution_count": 9,
   "id": "38fbf074",
   "metadata": {},
   "outputs": [
    {
     "name": "stdout",
     "output_type": "stream",
     "text": [
      "gamma-cat\n"
     ]
    }
   ],
   "source": [
    "print(CATALOG_REGISTRY[0].tag)"
   ]
  },
  {
   "cell_type": "code",
   "execution_count": 10,
   "id": "d610d96e",
   "metadata": {},
   "outputs": [],
   "source": [
    "catalog_tag = [\"gamma-cat\", \"hgps\", \"2hwc\", \"3hwc\", \"3fgl\", \"4fgl\", \"2fhl\", \"3fhl\"] "
   ]
  },
  {
   "cell_type": "code",
   "execution_count": 11,
   "id": "39d2acf3",
   "metadata": {},
   "outputs": [
    {
     "name": "stdout",
     "output_type": "stream",
     "text": [
      "SourceCatalogGammaCat:\n",
      "    name: gamma-cat\n",
      "    description: An open catalog of gamma-ray sources\n",
      "    sources: 162\n",
      "\n",
      "SourceCatalogHGPS:\n",
      "    name: hgps\n",
      "    description: H.E.S.S. Galactic plane survey (HGPS) source catalog\n",
      "    sources: 78\n",
      "\n",
      "SourceCatalog2HWC:\n",
      "    name: 2hwc\n",
      "    description: 2HWC catalog from the HAWC observatory\n",
      "    sources: 40\n",
      "\n",
      "SourceCatalog3HWC:\n",
      "    name: 3hwc\n",
      "    description: 3HWC catalog from the HAWC observatory\n",
      "    sources: 65\n",
      "\n",
      "SourceCatalog3FGL:\n",
      "    name: 3fgl\n",
      "    description: LAT 4-year point source catalog\n",
      "    sources: 3034\n",
      "\n",
      "SourceCatalog4FGL:\n",
      "    name: 4fgl\n",
      "    description: LAT 8-year point source catalog\n",
      "    sources: 6659\n",
      "\n",
      "SourceCatalog2FHL:\n",
      "    name: 2fhl\n",
      "    description: LAT second high-energy source catalog\n",
      "    sources: 360\n",
      "\n",
      "SourceCatalog3FHL:\n",
      "    name: 3fhl\n",
      "    description: LAT third high-energy source catalog\n",
      "    sources: 1556\n",
      "\n"
     ]
    }
   ],
   "source": [
    "catalogs = []\n",
    "for i in range(len(catalog_tag)):\n",
    "    catalog = CATALOG_REGISTRY.get_cls(catalog_tag[i])()\n",
    "    catalogs.append(catalog)\n",
    "    print(f\"{catalog}\")"
   ]
  },
  {
   "cell_type": "code",
   "execution_count": null,
   "id": "11015ee8",
   "metadata": {},
   "outputs": [],
   "source": []
  },
  {
   "cell_type": "code",
   "execution_count": 12,
   "id": "aabe07e7",
   "metadata": {},
   "outputs": [],
   "source": [
    "# Creating a dictionary of the Potential TeV Counterparts (dict values) of the three most significant (excluding Crab)LHASSO observations (dict keys)# see https://www.nature.com/articles/s41586-021-03498-z\n",
    "TeVCount_dict = {\n",
    "    \"LHAASO J1825-1326\": [\"HESS J1825-137\", \"HESS J1826-130\", \"2HWC J1825-134\"], \n",
    "    \"LHAASO J1908+0621\": [\"MGRO J1908+06\" , \"HESS J1908+063\", \"ARGO J1907+0627\", \"VER J1907+062\", \"2HWC J1908+063\"], \n",
    "    \"LHAASO J2226+6057\": [\"VER J2227+608\"  , \"Boomerang\"]\n",
    "}"
   ]
  },
  {
   "cell_type": "code",
   "execution_count": 13,
   "id": "8f710425",
   "metadata": {},
   "outputs": [
    {
     "ename": "NameError",
     "evalue": "name 'mkdir_base_child' is not defined",
     "output_type": "error",
     "traceback": [
      "\u001b[0;31m---------------------------------------------------------------------------\u001b[0m",
      "\u001b[0;31mNameError\u001b[0m                                 Traceback (most recent call last)",
      "Input \u001b[0;32mIn [13]\u001b[0m, in \u001b[0;36m<cell line: 1>\u001b[0;34m()\u001b[0m\n\u001b[0;32m----> 1\u001b[0m path_name\u001b[38;5;241m=\u001b[39m\u001b[43mmkdir_base_child\u001b[49m(\u001b[38;5;124m\"\u001b[39m\u001b[38;5;124mcatalogs_data\u001b[39m\u001b[38;5;124m\"\u001b[39m, \u001b[38;5;124m\"\u001b[39m\u001b[38;5;124mflux_points/images\u001b[39m\u001b[38;5;124m\"\u001b[39m)\n\u001b[1;32m      2\u001b[0m path_name\n",
      "\u001b[0;31mNameError\u001b[0m: name 'mkdir_base_child' is not defined"
     ]
    }
   ],
   "source": [
    "path_name=mkdir_base_child(\"catalogs_data\", \"flux_points/images\")\n",
    "path_name"
   ]
  },
  {
   "cell_type": "code",
   "execution_count": null,
   "id": "6cb6f05b",
   "metadata": {},
   "outputs": [],
   "source": [
    "import pandas as pd \n",
    "from pandas import read_csv\n",
    "\n",
    "path_name=mkdir_base_child(\"catalogs_data\", \"flux_points\")\n",
    "\n",
    "format_file = \".csv\"\n",
    "sed_type=\"e2dnde\"\n",
    "lst=[]\n",
    "ds_lst = []\n",
    "\n",
    "for i in range(len(TeVCount_dict.keys())):\n",
    "    LHAASO_obs = list(TeVCount_dict.keys())[i]\n",
    "    LHAASO_id = LHAASO_obs.replace(\" \", \"\")\n",
    "\n",
    "    for j in range(len(TeVCount_dict[LHAASO_obs])):\n",
    "        cat_off = []\n",
    "        cat_on = []\n",
    "\n",
    "        pf_off = []\n",
    "        pf_on = []\n",
    "        src_on = []\n",
    "        \n",
    "        ds_j=[]\n",
    "\n",
    "        TeVCount_src=TeVCount_dict[LHAASO_obs][j]\n",
    "        TeVCount_id = TeVCount_src.replace(\" \", \"\")\n",
    "        for k in range(len(catalog_tag)): \n",
    "            cat_name = catalog_tag[k]\n",
    "\n",
    "            try:\n",
    "                cat=CATALOG_REGISTRY.get_cls(cat_name)()\n",
    "                src=cat[TeVCount_src]\n",
    "                cat_on.append(catalog_tag[k])\n",
    "\n",
    "                ds = FluxPointsDataset(\n",
    "                    data=src.flux_points, \n",
    "                    name=cat_name\n",
    "                )\n",
    "                \n",
    "                ds_j.append(ds)\n",
    "                pf_on.append(catalog_tag[k])\n",
    "\n",
    "                table = ds.data.to_table(\n",
    "                    sed_type=sed_type, \n",
    "                    formatted=True\n",
    "                )\n",
    "                file_name = f'{LHAASO_id}_{TeVCount_id}_{cat_name}'\n",
    "                path_os = os.path.abspath(\n",
    "                    os.path.join(\n",
    "                        f\"{path_name}/{file_name}\"\n",
    "                    )\n",
    "                )\n",
    "                src_on.append(src.data)\n",
    "                \n",
    "                if path_os not in sys.path:\n",
    "                    sys.path.append(path_os)\n",
    "\n",
    "                table.write(f\"{path_os}{format_file}\",format='ascii.ecsv', overwrite=True)\n",
    "                table.write(f\"{path_os}.fits\",format='fits', overwrite=True)\n",
    "\n",
    "\n",
    "            except:\n",
    "                cat_off.append(catalog_tag[k])\n",
    "\n",
    "            lst_k=[LHAASO_obs, TeVCount_src, cat_on, pf_on, ds_j, src_on]\n",
    "        lst.append(lst_k)\n",
    "        ds_lst.append(ds_j)\n",
    "\n",
    "df = pd.DataFrame(lst, columns =['LHAASO', 'TeV Conterpart', 'Catalog', 'Flux Points', 'ds', 'src']) \n",
    "df.to_csv(f\"{path_name}/flux_points.csv\", index = True )"
   ]
  },
  {
   "cell_type": "code",
   "execution_count": null,
   "id": "8a28c7ff",
   "metadata": {},
   "outputs": [],
   "source": [
    "df"
   ]
  },
  {
   "cell_type": "code",
   "execution_count": null,
   "id": "dff7a350",
   "metadata": {},
   "outputs": [],
   "source": [
    "# table.replace_column(\"e_ref\", table[\"e_ref\"].to(energy_unit))\n",
    "# table.replace_column(\"e_min\", table[\"e_min\"].to(energy_unit))\n",
    "# table.replace_column(\"e_max\", table[\"e_max\"].to(energy_unit))\n",
    "\n",
    "# table.replace_column(\"e2dnde\", table[\"e2dnde\"].to(flux_unit))\n",
    "# table.replace_column(\"e2dnde_errp\", table[\"e2dnde_errp\"].to(flux_unit))\n",
    "# table.replace_column(\"e2dnde_errn\", table[\"e2dnde_errn\"].to(flux_unit))\n",
    "# table.replace_column(\"e2dnde_ul\", table[\"e2dnde_ul\"].to(flux_unit))\n"
   ]
  },
  {
   "cell_type": "code",
   "execution_count": null,
   "id": "66fff734",
   "metadata": {},
   "outputs": [],
   "source": [
    "# from astropy import units as u\n",
    "from astropy.table import Table\n",
    "from gammapy.estimators import FluxPoints\n",
    "from gammapy.utils.scripts import make_path\n",
    "path_flux_points = '/home/gamma/Documents/GitHub/gammapy/gammapy-notebooks/0.20.1/simulations/LHAASO/catalogs_data/flux_points'\n",
    "filename = make_path(f'{path_flux_points}/LHAASOJ1908+0621_HESSJ1908+063_gamma-cat.fits')\n",
    "\n",
    "# table.write(filename,format=format_type, overwrite=True)\n",
    "filename"
   ]
  },
  {
   "cell_type": "code",
   "execution_count": null,
   "id": "54f46b35",
   "metadata": {},
   "outputs": [],
   "source": [
    "path_par, path_dir=mkdir_child_dir(\"catalogs_data\", \"flux_points_table\")\n"
   ]
  },
  {
   "cell_type": "code",
   "execution_count": null,
   "id": "8e8fe923",
   "metadata": {},
   "outputs": [],
   "source": [
    "flux_unit = u.erg / (u.cm**2 * u.s)\n",
    "energy_unit = u.TeV"
   ]
  },
  {
   "cell_type": "code",
   "execution_count": null,
   "id": "51eb42a6",
   "metadata": {},
   "outputs": [],
   "source": [
    "FluxPoints.read(filename)"
   ]
  },
  {
   "cell_type": "code",
   "execution_count": null,
   "id": "aba3df0b",
   "metadata": {},
   "outputs": [],
   "source": [
    "# Table.read.list_formats()\n"
   ]
  },
  {
   "cell_type": "code",
   "execution_count": null,
   "id": "95a0e165",
   "metadata": {},
   "outputs": [],
   "source": [
    "flux_points = FluxPoints.read(filename)\n",
    "flux_points.to_table()"
   ]
  },
  {
   "cell_type": "code",
   "execution_count": null,
   "id": "e9a20bed",
   "metadata": {},
   "outputs": [],
   "source": [
    "flux_points"
   ]
  },
  {
   "cell_type": "code",
   "execution_count": null,
   "id": "6e6b58ac",
   "metadata": {},
   "outputs": [],
   "source": [
    "ds_lst[4][0].data"
   ]
  },
  {
   "cell_type": "code",
   "execution_count": null,
   "id": "203af8ac",
   "metadata": {},
   "outputs": [],
   "source": [
    "# ds_lst[4][0].data.to_table(sed_type=sed_type)\n",
    "# ds_lst[4][0].data.reference_spectral_model"
   ]
  },
  {
   "cell_type": "code",
   "execution_count": null,
   "id": "42d9a096",
   "metadata": {},
   "outputs": [],
   "source": [
    "energy_bounds = [1e-7, 1e2] * energy_unit\n",
    "ylim = [1e-20, 1e-9]\n",
    "yaxis_units= flux_unit\n",
    "\n",
    "# flux_points = FluxPoints.read(filename)\n",
    "flux_points = ds_lst[4][0].data\n",
    "\n",
    "ax = plt.subplot()\n",
    "ax.yaxis.set_units(u.Unit(yaxis_units))\n",
    "ax.xaxis.set_units(u.Unit(energy_unit))\n",
    "\n",
    "kwargs = {\n",
    "    \"ax\": ax, \n",
    "    \"sed_type\": sed_type\n",
    "}    \n",
    "\n",
    "flux_points.plot(label=\"ss\", **kwargs) \n",
    "\n",
    "ax.set_ylim(ylim)\n",
    "ax.set_xlim(energy_bounds)\n",
    "ax.legend()\n",
    "\n",
    "plt.title(f\"{LHAASO_obs}: {TeVCount_src}\")\n",
    "\n",
    "# plt.savefig(file, bbox_inches='tight')\n",
    "plt.show()\n",
    "\n",
    "    "
   ]
  },
  {
   "cell_type": "code",
   "execution_count": null,
   "id": "eb0bff2b",
   "metadata": {},
   "outputs": [],
   "source": [
    "ds_src = ds_lst[0]\n",
    "datasets = Datasets(ds_src)\n",
    "\n",
    "flux_unit = u.TeV / (u.cm**2 * u.s)\n",
    "energy_unit = u.TeV\n",
    "\n",
    "energy_bounds = [1e-7, 1e2] * energy_unit\n",
    "ylim = [1e-22, 1e-9]\n",
    "yaxis_units= flux_unit\n",
    "\n",
    "flux_points = FluxPoints.read(filename)\n",
    "ax = plt.subplot()\n",
    "ax.yaxis.set_units(u.Unit(yaxis_units))\n",
    "ax.xaxis.set_units(u.Unit(energy_unit))\n",
    "\n",
    "kwargs = {\n",
    "    \"ax\": ax, \n",
    "    \"sed_type\": sed_type\n",
    "}    \n",
    "\n",
    "flux_points.plot(label=\"ss\", **kwargs) \n",
    "\n",
    "ax.set_ylim(ylim)\n",
    "ax.set_xlim(energy_bounds)\n",
    "ax.legend()\n",
    "\n",
    "plt.title(f\"{LHAASO_obs}: {TeVCount_src}\")\n",
    "\n",
    "# plt.savefig(file, bbox_inches='tight')\n",
    "plt.show()"
   ]
  },
  {
   "cell_type": "code",
   "execution_count": null,
   "id": "713134e0",
   "metadata": {},
   "outputs": [],
   "source": [
    "flux_points.to_table()"
   ]
  },
  {
   "cell_type": "code",
   "execution_count": null,
   "id": "ea2b03bc",
   "metadata": {},
   "outputs": [],
   "source": [
    "!pwd"
   ]
  },
  {
   "cell_type": "code",
   "execution_count": null,
   "id": "6c656674",
   "metadata": {},
   "outputs": [],
   "source": [
    "from astropy import units as u\n",
    "from astropy.table import Table\n",
    "from gammapy.estimators import FluxPoints\n",
    "from gammapy.utils.scripts import make_path"
   ]
  },
  {
   "cell_type": "code",
   "execution_count": null,
   "id": "0b534493",
   "metadata": {},
   "outputs": [],
   "source": [
    "table.write(f\"{path_os}aaaaaa\",format='fits', overwrite=True)\n",
    "filename = make_path('/home/gamma/Documents/GitHub/gammapy/gammapy-notebooks/0.20.1/simulations/LHAASO/catalogs_data/flux_points/test')\n",
    "table_src = Table.read(filename ,format='fits')\n",
    "flux_points = FluxPoints.read(filename)\n",
    "flux_points.plot() "
   ]
  },
  {
   "cell_type": "code",
   "execution_count": null,
   "id": "2dfe5a3a",
   "metadata": {},
   "outputs": [],
   "source": [
    "cat=CATALOG_REGISTRY.get_cls(\"3fgl\")()\n",
    "src=cat[\"Boomerang\"]\n",
    "    \n",
    "filename = make_path('/home/gamma/Documents/GitHub/gammapy/gammapy-notebooks/0.20.1/simulations/LHAASO/catalogs_data/flux_points/LHAASOJ2226+6057_Boomerang_3fgl.csv')\n",
    "table_src = Table.read(filename ,format='ascii.csv', delimiter=' ', comment='#')\n",
    "#table.rename_column('Differential_Flux', 'dnde')\n",
    "# table['dnde'].unit = 'cm-2 s-1 TeV-1'"
   ]
  },
  {
   "cell_type": "code",
   "execution_count": null,
   "id": "756986ef",
   "metadata": {},
   "outputs": [],
   "source": [
    "table_src.info()"
   ]
  },
  {
   "cell_type": "code",
   "execution_count": null,
   "id": "f96062e1",
   "metadata": {},
   "outputs": [],
   "source": [
    "from gammapy.estimators import FluxPoints\n",
    "filename = '$GAMMAPY_DATA/hawc_crab/HAWC19_flux_points.fits'\n",
    "flux_points = FluxPoints.read(filename)\n",
    "flux_points.plot() "
   ]
  },
  {
   "cell_type": "code",
   "execution_count": null,
   "id": "a046418a",
   "metadata": {},
   "outputs": [],
   "source": [
    "cat=CATALOG_REGISTRY.get_cls(\"3fgl\")()\n",
    "src=cat[\"Boomerang\"]\n",
    "data = src.flux_points\n",
    "data"
   ]
  },
  {
   "cell_type": "code",
   "execution_count": null,
   "id": "9644c423",
   "metadata": {},
   "outputs": [],
   "source": []
  },
  {
   "cell_type": "markdown",
   "id": "e253883a",
   "metadata": {},
   "source": [
    "### Plot of the flux points"
   ]
  },
  {
   "cell_type": "code",
   "execution_count": null,
   "id": "a4faf7cc",
   "metadata": {},
   "outputs": [],
   "source": [
    "# Setting the source to analasis {}\n",
    "src_index = 0\n",
    "\n",
    "LHAASO_obs = list(dict(df[\"LHAASO\"]).values())[src_index]\n",
    "LHAASO_id = LHAASO_obs.replace(\" \", \"\")\n",
    "\n",
    "TeVCount_src = list(dict(df[\"TeV Conterpart\"]).values())[src_index]\n",
    "TeVCount_id = TeVCount_src.replace(\" \", \"\")\n",
    "\n",
    "ds_src = ds_lst[src_index]\n",
    "datasets = Datasets(ds_src)"
   ]
  },
  {
   "cell_type": "code",
   "execution_count": null,
   "id": "4bf9f53a",
   "metadata": {},
   "outputs": [],
   "source": []
  },
  {
   "cell_type": "code",
   "execution_count": null,
   "id": "48664f2e",
   "metadata": {},
   "outputs": [],
   "source": [
    "energy_bounds = [1e-5, 1e3] * u.TeV\n",
    "ylim = [1e-13, 1e-9]\n",
    "print_SED(sed_type = \"e2dnde\", yaxis_units=\"erg cm-2 s-1\", energy_bounds=energy_bounds, ylim=ylim)"
   ]
  },
  {
   "cell_type": "code",
   "execution_count": null,
   "id": "4e8e071d",
   "metadata": {},
   "outputs": [],
   "source": [
    "spec_model = LogParabolaSpectralModel(\n",
    "    alpha=2, amplitude=\"1e-12 cm-2 s-1 TeV-1\", reference=\"1 TeV\", beta=0.1\n",
    ")\n",
    "sky_model = SkyModel(spectral_model=spec_model, name=\"logparabola\")\n",
    "\n",
    "datasets = Datasets(ds_src)\n",
    "datasets.models = sky_model"
   ]
  },
  {
   "cell_type": "code",
   "execution_count": null,
   "id": "eba5df88",
   "metadata": {},
   "outputs": [],
   "source": [
    "energy_bounds = [1e-5, 1e3] * u.TeV\n",
    "ylim = [1e-13, 1e-9]\n",
    "print_SED(spec_model=spec_model, sed_type = \"e2dnde\", yaxis_units=\"TeV cm-2 s-1\", energy_bounds=energy_bounds, ylim=ylim)"
   ]
  },
  {
   "cell_type": "code",
   "execution_count": null,
   "id": "7dbcd826",
   "metadata": {},
   "outputs": [],
   "source": []
  },
  {
   "cell_type": "code",
   "execution_count": null,
   "id": "621d50b1",
   "metadata": {},
   "outputs": [],
   "source": [
    "# LHAASO_id, TeVCount_id, ds_src"
   ]
  },
  {
   "cell_type": "code",
   "execution_count": null,
   "id": "b4587515",
   "metadata": {},
   "outputs": [],
   "source": [
    "df[\"Catalog\"][src_index]"
   ]
  },
  {
   "cell_type": "code",
   "execution_count": null,
   "id": "f56a6a1b",
   "metadata": {},
   "outputs": [],
   "source": [
    "cat_index = 0\n",
    "cat_tag = df[\"Catalog\"][src_index][cat_index]"
   ]
  },
  {
   "cell_type": "code",
   "execution_count": null,
   "id": "f39650e0",
   "metadata": {},
   "outputs": [],
   "source": [
    "catalog = CATALOG_REGISTRY.get_cls(cat_tag)()\n",
    "print(catalog)"
   ]
  },
  {
   "cell_type": "code",
   "execution_count": null,
   "id": "e4805893",
   "metadata": {},
   "outputs": [],
   "source": [
    "source  = catalog[TeVCount_src]\n",
    "print(source.spectral_model())"
   ]
  },
  {
   "cell_type": "code",
   "execution_count": null,
   "id": "b2580a41",
   "metadata": {},
   "outputs": [],
   "source": [
    "# source.sky_model()"
   ]
  },
  {
   "cell_type": "code",
   "execution_count": null,
   "id": "40374432",
   "metadata": {},
   "outputs": [],
   "source": [
    "source.data"
   ]
  },
  {
   "cell_type": "code",
   "execution_count": null,
   "id": "7d2a4cf6",
   "metadata": {
    "scrolled": true
   },
   "outputs": [],
   "source": [
    "# myData = read_csv(f\"{path_name}/flux_points.csv\", index_col = None)\n",
    "# list(dict.fromkeys(myData[\"LHAASO\"]))"
   ]
  },
  {
   "cell_type": "code",
   "execution_count": null,
   "id": "a55547ca",
   "metadata": {},
   "outputs": [],
   "source": [
    "spec_model, sky_model = pwl_model()\n",
    "\n",
    "datasets = Datasets(ds_src)\n",
    "\n",
    "datasets.models = sky_model\n",
    "\n",
    "fitter = Fit()\n",
    "result_pwl = fitter.run(datasets=datasets)\n"
   ]
  },
  {
   "cell_type": "code",
   "execution_count": null,
   "id": "5295c258",
   "metadata": {},
   "outputs": [],
   "source": [
    "sky_model.name"
   ]
  },
  {
   "cell_type": "markdown",
   "id": "709c75de",
   "metadata": {},
   "source": [
    "### Individual Source Analysis"
   ]
  },
  {
   "cell_type": "code",
   "execution_count": null,
   "id": "cc4fb3b3",
   "metadata": {},
   "outputs": [],
   "source": [
    "src_index = 4\n",
    "\n",
    "LHAASO_obs = list(dict(df[\"LHAASO\"]).values())[src_index]\n",
    "LHAASO_id = LHAASO_obs.replace(\" \", \"\")\n",
    "\n",
    "TeVCount_src = list(dict(df[\"TeV Conterpart\"]).values())[src_index]\n",
    "TeVCount_id = TeVCount_src.replace(\" \", \"\")\n",
    "\n",
    "ds_src = ds_lst[src_index]"
   ]
  },
  {
   "cell_type": "code",
   "execution_count": null,
   "id": "71e426f8",
   "metadata": {},
   "outputs": [],
   "source": [
    "ds_src"
   ]
  },
  {
   "cell_type": "code",
   "execution_count": null,
   "id": "fd5ba0fe",
   "metadata": {},
   "outputs": [],
   "source": [
    "spec_model2=spec_model\n",
    "spec_model2.parameters.to_table()"
   ]
  },
  {
   "cell_type": "code",
   "execution_count": null,
   "id": "97f21c9f",
   "metadata": {},
   "outputs": [],
   "source": [
    "spec_model"
   ]
  },
  {
   "cell_type": "code",
   "execution_count": null,
   "id": "fe78ce75",
   "metadata": {},
   "outputs": [],
   "source": [
    "cat_index = 0\n",
    "cat_tag = df[\"Catalog\"][src_index][cat_index]\n",
    "\n",
    "catalog = CATALOG_REGISTRY.get_cls(cat_tag)()\n",
    "source  = catalog[TeVCount_src]"
   ]
  },
  {
   "cell_type": "code",
   "execution_count": null,
   "id": "4a5e0792",
   "metadata": {},
   "outputs": [],
   "source": [
    "cat_tag"
   ]
  },
  {
   "cell_type": "code",
   "execution_count": null,
   "id": "827295a1",
   "metadata": {},
   "outputs": [],
   "source": [
    "print(source.flux_points.energy_axis)"
   ]
  },
  {
   "cell_type": "code",
   "execution_count": null,
   "id": "2cdd7fe0",
   "metadata": {},
   "outputs": [],
   "source": [
    "name_mod= source.data.spec_type"
   ]
  },
  {
   "cell_type": "code",
   "execution_count": null,
   "id": "2728e803",
   "metadata": {},
   "outputs": [],
   "source": [
    "spec_model = source.spectral_model()"
   ]
  },
  {
   "cell_type": "code",
   "execution_count": null,
   "id": "8701bd47",
   "metadata": {},
   "outputs": [],
   "source": []
  },
  {
   "cell_type": "code",
   "execution_count": null,
   "id": "c0ee20ac",
   "metadata": {},
   "outputs": [],
   "source": [
    "sky_model = SkyModel(spectral_model=spec_model, name=name_mod)"
   ]
  },
  {
   "cell_type": "code",
   "execution_count": null,
   "id": "c0a11267",
   "metadata": {},
   "outputs": [],
   "source": [
    "datasets = Datasets(ds_src)\n",
    "datasets.models = sky_model"
   ]
  },
  {
   "cell_type": "code",
   "execution_count": null,
   "id": "9017adbb",
   "metadata": {},
   "outputs": [],
   "source": [
    "ax = plt.subplot()\n",
    "ax.yaxis.set_units(u.Unit(\"erg cm-2 s-1\"))\n",
    "ax.xaxis.set_units(u.Unit(\"TeV\"))\n",
    "\n",
    "kwargs = {\"ax\": ax, \"sed_type\": \"e2dnde\"}\n",
    "kwargs_fit = {\"label\":sky_model.name}\n",
    "for d in datasets:\n",
    "    d.data.plot(label=d.name, **kwargs)\n",
    "\n",
    "energy_bounds = [1e-2, 1e2] * u.TeV\n",
    "spec_model2.plot(energy_bounds=energy_bounds, color=\"k\", **kwargs, **kwargs_fit)\n",
    "\n",
    "spec_model.plot(energy_bounds=energy_bounds, color=\"k\", **kwargs, **kwargs_fit)\n",
    "spec_model.plot_error(energy_bounds=energy_bounds, **kwargs)\n",
    "ax.set_ylim(1e-16, 1e-7)\n",
    "ax.set_xlim(energy_bounds)\n",
    "\n",
    "plt.title(f\"{LHAASO_obs}: {TeVCount_src}\")\n",
    "file = path_name / f'{LHAASO_id}_{TeVCount_id}_{sky_model.name}_{cat_tag}.png'\n",
    "ax.legend()\n",
    "plt.savefig(file, bbox_inches='tight')\n",
    "plt.show()"
   ]
  },
  {
   "cell_type": "code",
   "execution_count": null,
   "id": "d9813389",
   "metadata": {},
   "outputs": [],
   "source": []
  },
  {
   "cell_type": "code",
   "execution_count": null,
   "id": "98e5d342",
   "metadata": {},
   "outputs": [],
   "source": []
  },
  {
   "cell_type": "code",
   "execution_count": null,
   "id": "f8a1e859",
   "metadata": {},
   "outputs": [],
   "source": []
  },
  {
   "cell_type": "code",
   "execution_count": null,
   "id": "848180de",
   "metadata": {},
   "outputs": [],
   "source": [
    "import operator\n",
    "\n",
    "from gammapy.modeling.models import (\n",
    "    Models,\n",
    "    SkyModel,\n",
    "    CompoundSpectralModel,\n",
    "    SuperExpCutoffPowerLaw4FGLDR3SpectralModel,\n",
    ")\n",
    "\n",
    "\n",
    "\n",
    "secpl=model = SuperExpCutoffPowerLaw4FGLDR3SpectralModel(\n",
    "    index_1=2.4649e+00,\n",
    "    index_2=6.8682e-01,\n",
    "    amplitude=\"1.2156e-11 MeV-1 cm-2 s-1\",\n",
    "    reference=\"2.2472e+03 MeV\",\n",
    "    expfactor=6.6507e-01,\n",
    ")\n",
    "\n",
    "\n",
    "pwl = PowerLawSpectralModel(\n",
    "    index=2.0365e+00,\n",
    "    amplitude=\"2.7277e-13 cm-2 s-1 TeV-1\", \n",
    "    reference=\"2.0559e+00 TeV\"\n",
    ")\n",
    "\n",
    "spec_model= CompoundSpectralModel(pwl, secpl, operator.add)\n",
    "\n",
    "\n",
    "model = SkyModel(spectral_model=spec_model, name=\"j1507-pl\")\n",
    "\n",
    "\n",
    "datasets = Datasets([ds_src[0], ds_src[1]])\n",
    "datasets.models = model\n",
    "\n",
    "ax = plt.subplot()\n",
    "ax.yaxis.set_units(u.Unit(\"TeV cm-2 s-1\"))\n",
    "\n",
    "kwargs = {\"ax\": ax, \"sed_type\": \"e2dnde\"}\n",
    "\n",
    "for d in datasets:\n",
    "    d.data.plot(label=d.name, **kwargs)\n",
    "\n",
    "energy_bounds = [1e-10, 1e7] * u.TeV\n",
    "spec_model.plot(energy_bounds=energy_bounds, color=\"k\", **kwargs)\n",
    "spec_model.plot_error(energy_bounds=energy_bounds, **kwargs)\n",
    "ax.set_ylim(1e-26, 1e-8)\n",
    "ax.set_xlim(energy_bounds)\n",
    "ax.legend()\n",
    "plt.show()"
   ]
  },
  {
   "cell_type": "code",
   "execution_count": null,
   "id": "dd0b6363",
   "metadata": {},
   "outputs": [],
   "source": []
  },
  {
   "cell_type": "code",
   "execution_count": null,
   "id": "d413768c",
   "metadata": {},
   "outputs": [],
   "source": [
    "df[\"Catalog\"][src_index]"
   ]
  },
  {
   "cell_type": "code",
   "execution_count": null,
   "id": "585722da",
   "metadata": {},
   "outputs": [],
   "source": [
    "cat_index = 1\n",
    "cat_tag = df[\"Catalog\"][src_index][cat_index]"
   ]
  },
  {
   "cell_type": "code",
   "execution_count": null,
   "id": "16c10c6f",
   "metadata": {},
   "outputs": [],
   "source": [
    "catalog = CATALOG_REGISTRY.get_cls(cat_tag)()"
   ]
  },
  {
   "cell_type": "code",
   "execution_count": null,
   "id": "1d00b7b5",
   "metadata": {},
   "outputs": [],
   "source": [
    "source  = catalog[TeVCount_src]\n",
    "# print(f\"{catalog}\\n{source}\")"
   ]
  },
  {
   "cell_type": "code",
   "execution_count": null,
   "id": "efd9f1ba",
   "metadata": {},
   "outputs": [],
   "source": [
    "source.data[\"SpectrumType\"]"
   ]
  },
  {
   "cell_type": "code",
   "execution_count": null,
   "id": "3b84d956",
   "metadata": {},
   "outputs": [],
   "source": [
    "\n",
    "def secpwl_model(index_1=2, index_2=1, amplitude=\"1e-12 TeV-1 cm-2 s-1\",reference=\"1 TeV\", expfactor=1e-2, name = \"secpwl\"):\n",
    "    \n",
    "    '''Returns a Super Exponential Cutoff Power Law Model used for 4FGL-DR3\n",
    "    \n",
    "    Default function parameters\n",
    "    ----------\n",
    "    index=2\n",
    "    amplitude=\"1e-12 cm-2 s-1 TeV-1\" \n",
    "    reference=\"1 TeV\"\n",
    "    name = None\n",
    "    ----------\n",
    "    \n",
    "    pwl_model(index, amplitude, reference)\n",
    "    >>> model \n",
    "     '''\n",
    "    spec_model = SuperExpCutoffPowerLaw4FGLDR3SpectralModel(\n",
    "        index_1=index_1,\n",
    "        index_2=index_2,\n",
    "        amplitude=amplitude,\n",
    "        reference=reference,\n",
    "        expfactor=expfactor,\n",
    "    )\n",
    "    \n",
    "    sky_model = SkyModel(\n",
    "    spectral_model=spec_model, \n",
    "    name= name\n",
    "    )\n",
    "    return spec_model, sky_model"
   ]
  },
  {
   "cell_type": "code",
   "execution_count": null,
   "id": "6a0073a3",
   "metadata": {},
   "outputs": [],
   "source": [
    "spec_model, sky_model = secpwl_model()\n"
   ]
  },
  {
   "cell_type": "code",
   "execution_count": null,
   "id": "d07231b3",
   "metadata": {},
   "outputs": [],
   "source": [
    "spec_model, sky_model = secpwl_model()\n",
    "# print(sky_model, asterisks())\n",
    "\n",
    "datasets = Datasets(ds_src)\n",
    "\n",
    "datasets.models = sky_model\n",
    "\n",
    "fitter = Fit()\n",
    "result_pwl = fitter.run(datasets=datasets)\n",
    "# print(datasets, asterisks())\n",
    "# print(result_pwl, asterisks())\n",
    "# print(sky_model, asterisks())\n",
    "# ## nomear os datasets!"
   ]
  },
  {
   "cell_type": "code",
   "execution_count": null,
   "id": "8d834aa9",
   "metadata": {},
   "outputs": [],
   "source": []
  },
  {
   "cell_type": "code",
   "execution_count": null,
   "id": "69067b25",
   "metadata": {},
   "outputs": [],
   "source": [
    "# model.spectral_model.amplitude"
   ]
  },
  {
   "cell_type": "code",
   "execution_count": null,
   "id": "96739106",
   "metadata": {},
   "outputs": [],
   "source": [
    "ds_lst[0][1].data.to_table(sed_type=\"dnde\", formatted=True)"
   ]
  },
  {
   "cell_type": "code",
   "execution_count": null,
   "id": "ee3cec3c",
   "metadata": {},
   "outputs": [],
   "source": [
    "# ds_lst[2]"
   ]
  },
  {
   "cell_type": "code",
   "execution_count": null,
   "id": "109cbb2b",
   "metadata": {},
   "outputs": [],
   "source": [
    "log_parabola = LogParabolaSpectralModel(\n",
    "    alpha=2, amplitude=\"1e-12 cm-2 s-1 TeV-1\", reference=\"1 TeV\", beta=0.1\n",
    ")\n",
    "model = SkyModel(spectral_model=log_parabola, name=\"j1507-lp\")\n",
    "\n",
    "datasets.models = model\n",
    "result_log_parabola = fitter.run(datasets=datasets)\n",
    "# print(model)\n",
    "# print(result_log_parabola)\n",
    "ax = plt.subplot()\n",
    "\n",
    "kwargs = {\"ax\": ax, \"sed_type\": \"e2dnde\"}\n",
    "\n",
    "ax.yaxis.set_units(u.Unit(\"erg cm-2 s-1\"))\n",
    "ax.xaxis.set_units(u.Unit(\"TeV\"))\n",
    "\n",
    "for d in datasets:\n",
    "    d.data.plot(label=d.name, **kwargs)\n",
    "energy_bounds = [1e-7, 1e2] * u.TeV\n",
    "\n",
    "log_parabola.plot(energy_bounds=energy_bounds, color=\"k\", **kwargs, label=\"LogParabola\")\n",
    "log_parabola.plot_error(energy_bounds=energy_bounds, **kwargs)\n",
    "ax.set_ylim(1e-20, 1e-9)\n",
    "ax.set_xlim(energy_bounds)\n",
    "ax.legend(loc=1)\n",
    "plt.title(f\"{LHAASO_id}: {TeVCount_id}\")\n",
    "file = path_name / f'{LHAASO_id}_{TeVCount_id}_fit.png'\n",
    "plt.savefig(file, bbox_inches='tight')\n",
    "plt.show()"
   ]
  },
  {
   "cell_type": "code",
   "execution_count": null,
   "id": "ff4545d1",
   "metadata": {},
   "outputs": [],
   "source": [
    "print(result_log_parabola)"
   ]
  },
  {
   "cell_type": "code",
   "execution_count": null,
   "id": "83c01054",
   "metadata": {},
   "outputs": [],
   "source": [
    "models = Models([model])\n",
    "\n",
    "type(models.to_yaml())"
   ]
  },
  {
   "cell_type": "code",
   "execution_count": null,
   "id": "740be55c",
   "metadata": {},
   "outputs": [],
   "source": [
    "print(models.to_parameters_table())"
   ]
  },
  {
   "cell_type": "code",
   "execution_count": null,
   "id": "b947440d",
   "metadata": {},
   "outputs": [],
   "source": [
    "from tabulate import tabulate"
   ]
  },
  {
   "cell_type": "code",
   "execution_count": null,
   "id": "ed38f578",
   "metadata": {},
   "outputs": [],
   "source": [
    "Texttable = models.to_parameters_table()[\"name\",\"value\", \"error\", \"unit\"]"
   ]
  },
  {
   "cell_type": "code",
   "execution_count": null,
   "id": "5928c2ac",
   "metadata": {
    "scrolled": false
   },
   "outputs": [],
   "source": [
    "headers=Texttable.colnames"
   ]
  },
  {
   "cell_type": "code",
   "execution_count": null,
   "id": "68ab1e94",
   "metadata": {},
   "outputs": [],
   "source": [
    "print(tabulate(Texttable,headers=headers,tablefmt=\"latex\", floatfmt=\".3e\"))"
   ]
  },
  {
   "cell_type": "code",
   "execution_count": null,
   "id": "09bfabfa",
   "metadata": {},
   "outputs": [],
   "source": [
    "# help(tabulate)"
   ]
  },
  {
   "cell_type": "code",
   "execution_count": null,
   "id": "55fb27c5",
   "metadata": {},
   "outputs": [],
   "source": [
    "# table=Texttable\n",
    "# df = pd.DataFrame(table.to_pandas)\n",
    "# print(df)"
   ]
  },
  {
   "cell_type": "code",
   "execution_count": null,
   "id": "6ae4d6bb",
   "metadata": {},
   "outputs": [],
   "source": [
    "print(df.to_latex(index=False))"
   ]
  },
  {
   "cell_type": "code",
   "execution_count": null,
   "id": "37444d49",
   "metadata": {},
   "outputs": [],
   "source": [
    "models.write(\"models.yaml\", overwrite=True)"
   ]
  },
  {
   "cell_type": "code",
   "execution_count": null,
   "id": "7131aa2f",
   "metadata": {},
   "outputs": [],
   "source": [
    "models_read = Models.read(\"models.yaml\")"
   ]
  },
  {
   "cell_type": "code",
   "execution_count": null,
   "id": "17b7620c",
   "metadata": {},
   "outputs": [],
   "source": [
    "type(models_read)"
   ]
  },
  {
   "cell_type": "code",
   "execution_count": null,
   "id": "5d22e824",
   "metadata": {},
   "outputs": [],
   "source": [
    "models.write(\"models.yaml\", overwrite=True)\n",
    "\n",
    "models_read = Models.read(\"models.yaml\")"
   ]
  },
  {
   "cell_type": "code",
   "execution_count": null,
   "id": "5773a922",
   "metadata": {},
   "outputs": [],
   "source": [
    "print(models_read)"
   ]
  },
  {
   "cell_type": "code",
   "execution_count": null,
   "id": "caaaa558",
   "metadata": {},
   "outputs": [],
   "source": [
    "import yaml\n",
    "from pprint import pprint\n",
    "# convert yaml document to dict\n",
    "data = yaml.load(models.to_yaml(), Loader=yaml.Loader)\n",
    "print(data)\n"
   ]
  },
  {
   "cell_type": "code",
   "execution_count": null,
   "id": "ebf028e2",
   "metadata": {},
   "outputs": [],
   "source": [
    "df = pd.DataFrame(data) \n",
    "display(df) "
   ]
  },
  {
   "cell_type": "code",
   "execution_count": null,
   "id": "9ae15e96",
   "metadata": {},
   "outputs": [],
   "source": [
    "# dfi.export(ff, 'TeVCounterpart/flux_points/flux_pointss.png')"
   ]
  },
  {
   "cell_type": "code",
   "execution_count": null,
   "id": "c1b7c256",
   "metadata": {},
   "outputs": [],
   "source": [
    "help(FluxPointsDataset)"
   ]
  },
  {
   "cell_type": "code",
   "execution_count": null,
   "id": "570eea74",
   "metadata": {},
   "outputs": [],
   "source": [
    "catalog_tag = [\"gamma-cat\", \"hgps\", \"2hwc\", \"3fgl\", \"4fgl\", \"2fhl\", \"3fhl\", \"3hwc\"] \n",
    "lst=[]\n",
    "ds_lst = []\n",
    "for i in range(len(TeVCount_dict.keys())):\n",
    "    LHAASO = list(TeVCount_dict.keys())[i]\n",
    "\n",
    "    for j in range(len(TeVCount_dict[LHAASO])):\n",
    "        cat_off = []\n",
    "        cat_on = []\n",
    "        \n",
    "        pf_off = []\n",
    "        pf_on = []\n",
    "        ds_j=[]\n",
    "        TeVCount=TeVCount_dict[LHAASO][j]\n",
    "\n",
    "        for k in range(len(catalog_tag)): \n",
    "            cat_name = catalog_tag[k]\n",
    "            \n",
    "            try:\n",
    "                cat=CATALOG_REGISTRY.get_cls(cat_name)()\n",
    "                src=cat[TeVCount]\n",
    "                cat_on.append(catalog_tag[k])\n",
    "                \n",
    "                ds = FluxPointsDataset(\n",
    "                    data=src.flux_points, \n",
    "                    name=cat_name\n",
    "                )\n",
    "                ds_j.append(ds)\n",
    "                pf_on.append(catalog_tag[k])\n",
    "            except:\n",
    "                cat_off.append(catalog_tag[k])\n",
    "\n",
    "            lst_k=[LHAASO, TeVCount, cat_on, pf_on]\n",
    "        lst.append(lst_k)\n",
    "        ds_lst.append(ds_j)\n",
    "import pandas as pd \n",
    "# List1 \n",
    "# lst = [['apple', 'red', 11], ['grape', 'green', 22], ['orange', 'orange', 33], ['mango', 'yellow', 44]] \n",
    "df = pd.DataFrame(lst, columns =['LHAASO', 'Conterpart', 'Catalog', 'Flux Points']) \n",
    "display(df) "
   ]
  },
  {
   "cell_type": "code",
   "execution_count": null,
   "id": "f0f740be",
   "metadata": {},
   "outputs": [],
   "source": [
    "type(src.flux_points)"
   ]
  },
  {
   "cell_type": "code",
   "execution_count": null,
   "id": "3eacd0e2",
   "metadata": {},
   "outputs": [],
   "source": [
    "(ds_lst[1])"
   ]
  },
  {
   "cell_type": "code",
   "execution_count": null,
   "id": "f8f5feb4",
   "metadata": {},
   "outputs": [],
   "source": [
    "print(ds_lst[1][0].data.iter_by_axis)"
   ]
  },
  {
   "cell_type": "code",
   "execution_count": null,
   "id": "7f754988",
   "metadata": {},
   "outputs": [],
   "source": [
    "ds_lst[0][0].data.sqrt_ts_threshold_ul"
   ]
  },
  {
   "cell_type": "code",
   "execution_count": null,
   "id": "6920e241",
   "metadata": {},
   "outputs": [],
   "source": [
    "print(ds_lst[1][0].data.energy_max)"
   ]
  },
  {
   "cell_type": "code",
   "execution_count": null,
   "id": "45d77b85",
   "metadata": {},
   "outputs": [],
   "source": [
    "datasets = Datasets(ds_lst[1])\n",
    "datasets.models = model\n",
    "print(datasets)\n",
    "\n",
    "fitter = Fit()\n",
    "result_pwl = fitter.run(datasets=datasets)"
   ]
  },
  {
   "cell_type": "code",
   "execution_count": null,
   "id": "36674404",
   "metadata": {},
   "outputs": [],
   "source": [
    "ecpl = ExpCutoffPowerLawSpectralModel(\n",
    "    index=1.8,\n",
    "    amplitude=\"2e-12 cm-2 s-1 TeV-1\",\n",
    "    reference=\"1 TeV\",\n",
    "    lambda_=\"0.1 TeV-1\",\n",
    ")\n",
    "model = SkyModel(spectral_model=ecpl, name=\"j1507-ecpl\")\n",
    "\n",
    "datasets.models = model\n",
    "result_log_parabola = fitter.run(datasets=datasets)\n",
    "# print(model)\n",
    "# print(result_log_parabola)\n",
    "ax = plt.subplot()\n",
    "\n",
    "kwargs = {\"ax\": ax, \"sed_type\": \"e2dnde\"}\n",
    "\n",
    "ax.yaxis.set_units(u.Unit(\"TeV cm-2 s-1\"))\n",
    "\n",
    "for d in datasets:\n",
    "    d.data.plot(label=d.name, **kwargs)\n",
    "energy_bounds = [1e-5, 1e3] * u.TeV\n",
    "\n",
    "ecpl.plot(energy_bounds=energy_bounds, color=\"k\", **kwargs, label=\"LogParabola\")\n",
    "ecpl.plot_error(energy_bounds=energy_bounds, **kwargs)\n",
    "ax.set_ylim(1e-13, 1e-9)\n",
    "ax.set_xlim(energy_bounds)\n",
    "ax.legend(loc=1)\n",
    "plt.title(\"LHAASOJ1825-1326: HESSJ1825-137\")\n",
    "\n",
    "plt.savefig(\"LHAASOJ1825-1326_HESSJ1825-137_fit\", bbox_inches='tight')\n",
    "plt.show()\n"
   ]
  },
  {
   "cell_type": "code",
   "execution_count": null,
   "id": "ee734c10",
   "metadata": {},
   "outputs": [],
   "source": []
  },
  {
   "cell_type": "code",
   "execution_count": null,
   "id": "747d8c21",
   "metadata": {},
   "outputs": [],
   "source": []
  },
  {
   "cell_type": "code",
   "execution_count": null,
   "id": "e8bdadc0",
   "metadata": {},
   "outputs": [],
   "source": []
  }
 ],
 "metadata": {
  "kernelspec": {
   "display_name": "Python 3 (ipykernel)",
   "language": "python",
   "name": "python3"
  },
  "language_info": {
   "codemirror_mode": {
    "name": "ipython",
    "version": 3
   },
   "file_extension": ".py",
   "mimetype": "text/x-python",
   "name": "python",
   "nbconvert_exporter": "python",
   "pygments_lexer": "ipython3",
   "version": "3.9.15"
  }
 },
 "nbformat": 4,
 "nbformat_minor": 5
}
