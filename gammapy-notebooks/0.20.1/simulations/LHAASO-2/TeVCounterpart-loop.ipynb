{
 "cells": [
  {
   "cell_type": "code",
   "execution_count": 1,
   "id": "c6e3efbf",
   "metadata": {},
   "outputs": [],
   "source": [
    "%matplotlib inline\n",
    "import matplotlib.pyplot as plt"
   ]
  },
  {
   "cell_type": "code",
   "execution_count": 2,
   "id": "3ac8a12e",
   "metadata": {},
   "outputs": [],
   "source": [
    "from astropy import units as u\n",
    "from gammapy.modeling.models import (\n",
    "    PowerLawSpectralModel,\n",
    "    ExpCutoffPowerLawSpectralModel,\n",
    "    LogParabolaSpectralModel,\n",
    "    SkyModel,\n",
    ")\n",
    "from gammapy.estimators import FluxPoints\n",
    "from gammapy.datasets import FluxPointsDataset, Datasets\n",
    "from gammapy.catalog import CATALOG_REGISTRY\n",
    "from gammapy.modeling import Fit"
   ]
  },
  {
   "cell_type": "code",
   "execution_count": 3,
   "id": "78a7fb45",
   "metadata": {},
   "outputs": [],
   "source": [
    "from astropy.io import ascii\n",
    "# from astropy.table import Table"
   ]
  },
  {
   "cell_type": "code",
   "execution_count": 4,
   "id": "00ddcfae",
   "metadata": {
    "scrolled": true
   },
   "outputs": [
    {
     "name": "stdout",
     "output_type": "stream",
     "text": [
      "/home/gamma/Documents/GitHub/gammapy/gammapy-notebooks/0.20.1/simulations/LHAASO/modules/spectral_models\n"
     ]
    },
    {
     "ename": "ImportError",
     "evalue": "cannot import name 'ecpl_model' from 'spectral_models' (/home/gamma/Documents/GitHub/gammapy/gammapy-notebooks/0.20.1/simulations/LHAASO/modules/spectral_models/spectral_models.py)",
     "output_type": "error",
     "traceback": [
      "\u001b[0;31m---------------------------------------------------------------------------\u001b[0m",
      "\u001b[0;31mImportError\u001b[0m                               Traceback (most recent call last)",
      "Input \u001b[0;32mIn [4]\u001b[0m, in \u001b[0;36m<cell line: 11>\u001b[0;34m()\u001b[0m\n\u001b[1;32m      9\u001b[0m \u001b[38;5;28;01mimport\u001b[39;00m \u001b[38;5;21;01mspectral_models\u001b[39;00m\n\u001b[1;32m     10\u001b[0m importlib\u001b[38;5;241m.\u001b[39mreload(spectral_models)\n\u001b[0;32m---> 11\u001b[0m \u001b[38;5;28;01mfrom\u001b[39;00m \u001b[38;5;21;01mspectral_models\u001b[39;00m \u001b[38;5;28;01mimport\u001b[39;00m ecpl_model, pwl_model, logp_model\n\u001b[1;32m     13\u001b[0m module_path \u001b[38;5;241m=\u001b[39m os\u001b[38;5;241m.\u001b[39mpath\u001b[38;5;241m.\u001b[39mabspath(\u001b[38;5;124m'\u001b[39m\u001b[38;5;124mmodules/utilities\u001b[39m\u001b[38;5;124m'\u001b[39m)\n\u001b[1;32m     14\u001b[0m \u001b[38;5;28;01mif\u001b[39;00m module_path \u001b[38;5;129;01mnot\u001b[39;00m \u001b[38;5;129;01min\u001b[39;00m sys\u001b[38;5;241m.\u001b[39mpath:\n",
      "\u001b[0;31mImportError\u001b[0m: cannot import name 'ecpl_model' from 'spectral_models' (/home/gamma/Documents/GitHub/gammapy/gammapy-notebooks/0.20.1/simulations/LHAASO/modules/spectral_models/spectral_models.py)"
     ]
    }
   ],
   "source": [
    "import os\n",
    "import sys\n",
    "import importlib\n",
    "\n",
    "module_path = os.path.abspath('modules/spectral_models')\n",
    "if module_path not in sys.path:\n",
    "    sys.path.append(module_path)\n",
    "print(module_path)\n",
    "import spectral_models\n",
    "importlib.reload(spectral_models)\n",
    "from spectral_models import ecpl_model, pwl_model, logp_model\n",
    "\n",
    "module_path = os.path.abspath('modules/utilities')\n",
    "if module_path not in sys.path:\n",
    "    sys.path.append(module_path)\n",
    "# print(module_path)\n",
    "import utilities\n",
    "importlib.reload(utilities)\n",
    "from utilities import mkdir_base_child, plt_savefig"
   ]
  },
  {
   "cell_type": "code",
   "execution_count": null,
   "id": "b7b09021",
   "metadata": {},
   "outputs": [],
   "source": [
    "dict_model = {\n",
    "    \"pwl\": pwl_model(),\n",
    "  \"logp\": logp_model(),\n",
    "  \"ecpl\": ecpl_model()    \n",
    "}"
   ]
  },
  {
   "cell_type": "code",
   "execution_count": null,
   "id": "d8334d7c",
   "metadata": {},
   "outputs": [],
   "source": [
    "catalog_gammacat = CATALOG_REGISTRY.get_cls(\"gamma-cat\")()\n",
    "catalog_hgps = CATALOG_REGISTRY.get_cls(\"hgps\")()\n",
    "catalog_2hwc = CATALOG_REGISTRY.get_cls(\"2hwc\")()\n",
    "catalog_3fgl = CATALOG_REGISTRY.get_cls(\"3fgl\")()\n",
    "catalog_4fgl = CATALOG_REGISTRY.get_cls(\"4fgl\")()\n",
    "catalog_2fhl = CATALOG_REGISTRY.get_cls(\"2fhl\")()\n",
    "catalog_3fhl = CATALOG_REGISTRY.get_cls(\"3fhl\")()\n",
    "catalog_3hwc = CATALOG_REGISTRY.get_cls(\"3hwc\")()\n",
    "catalog_3hwc"
   ]
  },
  {
   "cell_type": "code",
   "execution_count": null,
   "id": "b232107f",
   "metadata": {},
   "outputs": [],
   "source": [
    "# help(cosmology)"
   ]
  },
  {
   "cell_type": "code",
   "execution_count": null,
   "id": "408a321d",
   "metadata": {
    "scrolled": true
   },
   "outputs": [],
   "source": [
    "# from gammapy.modeling.models import SPECTRAL_MODEL_REGISTRY\n",
    "# # list(SPECTRAL_MODEL_REGISTRY)"
   ]
  },
  {
   "cell_type": "code",
   "execution_count": null,
   "id": "205f834b",
   "metadata": {},
   "outputs": [],
   "source": [
    "# spec_model = SPECTRAL_MODEL_REGISTRY[0](  index=2,\n",
    "# amplitude=\"1e-12 cm-2 s-1 TeV-1\",\n",
    "# reference=\"1 TeV\")\n",
    "# spec_model\n",
    "# spec_model"
   ]
  },
  {
   "cell_type": "code",
   "execution_count": null,
   "id": "4fef5d1d",
   "metadata": {},
   "outputs": [],
   "source": [
    "# for x, y in dict_model.items():\n",
    "#     print(x, y)\n",
    "#     print(x)"
   ]
  },
  {
   "cell_type": "code",
   "execution_count": null,
   "id": "315a1f18",
   "metadata": {},
   "outputs": [],
   "source": [
    "# list(dict_model.keys())"
   ]
  },
  {
   "cell_type": "code",
   "execution_count": null,
   "id": "6c6d6c07",
   "metadata": {},
   "outputs": [],
   "source": [
    "# list(dict_model.values())[1]"
   ]
  },
  {
   "cell_type": "code",
   "execution_count": null,
   "id": "88f5a7fa",
   "metadata": {},
   "outputs": [],
   "source": [
    "# for x in dict_model.keys():\n",
    "#     print(x)"
   ]
  },
  {
   "cell_type": "code",
   "execution_count": null,
   "id": "bd5e33ec",
   "metadata": {},
   "outputs": [],
   "source": [
    "# print(CATALOG_REGISTRY)"
   ]
  },
  {
   "cell_type": "code",
   "execution_count": null,
   "id": "c54b07b7",
   "metadata": {},
   "outputs": [],
   "source": [
    "# help(CATALOG_REGISTRY)"
   ]
  },
  {
   "cell_type": "code",
   "execution_count": null,
   "id": "3d85fd0a",
   "metadata": {},
   "outputs": [],
   "source": [
    "src_name = \"HESS J1825-137\""
   ]
  },
  {
   "cell_type": "code",
   "execution_count": null,
   "id": "94502071",
   "metadata": {},
   "outputs": [],
   "source": [
    "catalog_tag = [\"gamma-cat\", \"hgps\", \"2hwc\", \"3fgl\", \"4fgl\", \"2fhl\", \"3fhl\", \"3hwc\"] \n",
    "\n",
    "catalog = []\n",
    "catalog_name = []\n",
    "source = []\n",
    "spatial_model = []\n",
    "spectral_model = []\n",
    "sky_model = []\n",
    "dataset = []\n",
    "for i  in range(len(catalog_tag)): \n",
    "    try:\n",
    "        cat_name = catalog_tag[i]\n",
    "        cat=CATALOG_REGISTRY.get_cls(cat_name)()\n",
    "        src=cat[src_name]\n",
    "\n",
    "        ds = FluxPointsDataset(\n",
    "#             spectral_model=src.spectral_model,\n",
    "            data=src.flux_points, \n",
    "            name=cat_name\n",
    "        )\n",
    "        catalog.append(cat)\n",
    "        source.append(src)\n",
    "        spectral_model.append(src.spectral_model)\n",
    "        spatial_model.append(src.spatial_model)\n",
    "        sky_model.append(src.sky_model)\n",
    "        catalog_name.append(cat_name)\n",
    "        dataset.append(ds)\n",
    "\n",
    "        \n",
    "    except:\n",
    "        print(f\"********An exception occurred: {catalog_tag[i]}********\")"
   ]
  },
  {
   "cell_type": "code",
   "execution_count": null,
   "id": "8c8d0018",
   "metadata": {},
   "outputs": [],
   "source": [
    "dataset = Datasets(dataset)\n",
    "# print(dataset)"
   ]
  },
  {
   "cell_type": "code",
   "execution_count": null,
   "id": "5685dc7b",
   "metadata": {},
   "outputs": [],
   "source": [
    "ax = plt.subplot()\n",
    "ax.yaxis.set_units(u.Unit(\"TeV cm-2 s-1\"))\n",
    "\n",
    "kwargs = {\"ax\": ax, \"sed_type\": \"e2dnde\"}\n",
    "\n",
    "for d in dataset:\n",
    "    d.data.plot(label=d.name, **kwargs)\n",
    "#     d.plot_spectrum(ax=ax)\n",
    "energy_bounds = [1e-5, 1e3] * u.TeV\n",
    "# pwl.plot(energy_bounds=energy_bounds, color=\"k\", **kwargs)\n",
    "# pwl.plot_error(energy_bounds=energy_bounds, **kwargs)\n",
    "# ax.grid(which=\"both\")\n",
    "# ax.ylim(1e-24, 1e-8)\n",
    "ax.set_title(f\"Flux Points: {src_name}\")\n",
    "ax.legend(loc=\"best\")\n",
    "ax.set_ylim(1e-13, 1e-9)\n",
    "ax.set_xlim(energy_bounds)\n",
    "ax.legend()"
   ]
  },
  {
   "cell_type": "code",
   "execution_count": null,
   "id": "1b9fe63a",
   "metadata": {},
   "outputs": [],
   "source": [
    "TeVCount_dict = {\n",
    "    \"LHAASOJ1825-1326\": [\"HESS J1825-137\", \"HESS J1826-130\"], \n",
    "    \"LHAASOJ1908+0621\": [\"HESS J1908+063\", \"2HWC J1908+063\"], \n",
    "#     \"LHAASOJ2226+6057\": [\"HESS J1825-137\", \"HESS J1826-130\"]\n",
    "}"
   ]
  },
  {
   "cell_type": "code",
   "execution_count": null,
   "id": "47bafe4f",
   "metadata": {},
   "outputs": [],
   "source": [
    "LHAASO = []\n",
    "TeVCount = []\n",
    "\n",
    "for key, value in TeVCount_dict.items():\n",
    "    LHAASO.append(key)\n",
    "    TeVCount.append(value)\n",
    "print(LHAASO, TeVCount)"
   ]
  },
  {
   "cell_type": "code",
   "execution_count": null,
   "id": "d6769439",
   "metadata": {},
   "outputs": [],
   "source": [
    "# TeVCount[i][j]"
   ]
  },
  {
   "cell_type": "code",
   "execution_count": null,
   "id": "b52d6e69",
   "metadata": {},
   "outputs": [],
   "source": [
    "catalog = []\n",
    "catalog_name = []\n",
    "source = []\n",
    "spatial_model = []\n",
    "spectral_model = []\n",
    "sky_model = []\n",
    "dataset = []\n",
    "catalog_tag = [\"gamma-cat\", \"hgps\", \"2hwc\", \"3fgl\", \"4fgl\", \"2fhl\", \"3fhl\", \"3hwc\"] \n",
    "\n",
    "# for key in range(len(LHAASO)):\n",
    "#     TeVCount_name = LHAASO[key]\n",
    "\n",
    "#     for value in range(len(TeVCount[key])): \n",
    "#         src_name = TeVCount[key][value]\n",
    "             \n",
    "for i  in range(len(catalog_tag)): \n",
    "    try:\n",
    "        cat_name = catalog_tag[i]\n",
    "        cat=CATALOG_REGISTRY.get_cls(cat_name)()\n",
    "        src=cat[src_name]\n",
    "\n",
    "        ds = FluxPointsDataset(\n",
    "#             spectral_model=src.spectral_model,\n",
    "            data=src.flux_points, \n",
    "            name=cat_name\n",
    "        )\n",
    "#                 catalog.append(cat)\n",
    "#                 source.append(src)\n",
    "#                 spectral_model.append(src.spectral_model)\n",
    "#                 spatial_model.append(src.spatial_model)\n",
    "#                 sky_model.append(src.sky_model)\n",
    "#                 catalog_name.append(cat_name)\n",
    "#                 dataset.append(ds)\n",
    "\n",
    "\n",
    "    except:\n",
    "        print(f\"********An exception occurred: {catalog_tag[i]}********\")\n",
    "\n",
    "dataset = Datasets(dataset)\n",
    "ax = plt.subplot()\n",
    "ax.yaxis.set_units(u.Unit(\"TeV cm-2 s-1\"))\n",
    "\n",
    "kwargs = {\"ax\": ax, \"sed_type\": \"e2dnde\"}\n",
    "\n",
    "for d in dataset:\n",
    "    d.data.plot(label=d.name, **kwargs)\n",
    "#     d.plot_spectrum(ax=ax)\n",
    "energy_bounds = [1e-5, 1e3] * u.TeV\n",
    "# pwl.plot(energy_bounds=energy_bounds, color=\"k\", **kwargs)\n",
    "# pwl.plot_error(energy_bounds=energy_bounds, **kwargs)\n",
    "# ax.grid(which=\"both\")\n",
    "# ax.ylim(1e-24, 1e-8)\n",
    "ax.set_title(f\"Flux Points: {src_name}\")\n",
    "ax.legend(loc=\"best\")\n",
    "ax.set_ylim(1e-13, 1e-9)\n",
    "ax.set_xlim(energy_bounds)\n",
    "ax.legend()\n",
    "\n",
    "\n",
    "#     for item in TeVCount[TeVC_name]:\n",
    "\n",
    "#         print(item)"
   ]
  },
  {
   "cell_type": "code",
   "execution_count": null,
   "id": "dff281ca",
   "metadata": {},
   "outputs": [],
   "source": [
    "src_name = \"HESS J1825-137\"\n",
    "src_id = src_name.replace(\" \", \"\")"
   ]
  },
  {
   "cell_type": "code",
   "execution_count": null,
   "id": "22ff7abb",
   "metadata": {},
   "outputs": [],
   "source": [
    "catalog_tag = [\"gamma-cat\", \"hgps\", \"2hwc\", \"3fgl\", \"4fgl\", \"2fhl\", \"3fhl\", \"3hwc\"] \n",
    "\n",
    "catalog = []\n",
    "catalog_name = []\n",
    "source = []\n",
    "spatial_model = []\n",
    "spectral_model = []\n",
    "sky_model = []\n",
    "dataset = []\n",
    "for i  in range(len(catalog_tag)): \n",
    "    try:\n",
    "        cat_name = catalog_tag[i]\n",
    "        cat=CATALOG_REGISTRY.get_cls(cat_name)()\n",
    "        src=cat[src_name]\n",
    "\n",
    "        ds = FluxPointsDataset(\n",
    "#             spectral_model=src.spectral_model,\n",
    "            data=src.flux_points, \n",
    "            name=cat_name\n",
    "        )\n",
    "        catalog.append(cat)\n",
    "        source.append(src)\n",
    "        spectral_model.append(src.spectral_model)\n",
    "        spatial_model.append(src.spatial_model)\n",
    "        sky_model.append(src.sky_model)\n",
    "        catalog_name.append(cat_name)\n",
    "        dataset.append(ds)\n",
    "\n",
    "        \n",
    "    except:\n",
    "        print(f\"********An exception occurred: {catalog_tag[i]}********\")"
   ]
  },
  {
   "cell_type": "code",
   "execution_count": null,
   "id": "63c33b6a",
   "metadata": {},
   "outputs": [],
   "source": [
    "dataset = Datasets(dataset)"
   ]
  },
  {
   "cell_type": "code",
   "execution_count": null,
   "id": "5c833598",
   "metadata": {
    "scrolled": true
   },
   "outputs": [],
   "source": [
    "ax = plt.subplot()\n",
    "ax.yaxis.set_units(u.Unit(\"TeV cm-2 s-1\"))\n",
    "\n",
    "kwargs = {\"ax\": ax, \"sed_type\": \"e2dnde\"}\n",
    "\n",
    "for d in dataset:\n",
    "    d.data.plot(label=d.name, **kwargs)\n",
    "#     d.plot_spectrum(ax=ax)\n",
    "energy_bounds = [1e-5, 1e3] * u.TeV\n",
    "# pwl.plot(energy_bounds=energy_bounds, color=\"k\", **kwargs)\n",
    "# pwl.plot_error(energy_bounds=energy_bounds, **kwargs)\n",
    "# ax.grid(which=\"both\")\n",
    "# ax.ylim(1e-24, 1e-8)\n",
    "ax.set_title(f\"Flux Points: {src_name}\")\n",
    "ax.legend(loc=\"best\")\n",
    "ax.set_ylim(1e-13, 1e-9)\n",
    "ax.set_xlim(energy_bounds)\n",
    "ax.legend()\n",
    "\n",
    "path_flux = mkdir_base_child(\"analysis\", \"flux_points\")\n",
    "\n",
    "plt_savefig(path_flux, \"flux_points\")"
   ]
  },
  {
   "cell_type": "code",
   "execution_count": null,
   "id": "2358f67c",
   "metadata": {},
   "outputs": [],
   "source": []
  },
  {
   "cell_type": "code",
   "execution_count": null,
   "id": "60b056d8",
   "metadata": {},
   "outputs": [],
   "source": [
    "#load precomputed flux points\n",
    "filename = \"$GAMMAPY_DATA/tests/spectrum/flux_points/diff_flux_points.fits\"\n",
    "flux_points = FluxPoints.read(filename)\n",
    "model = SkyModel(spectral_model=PowerLawSpectralModel())\n",
    "dataset = FluxPointsDataset(model, flux_points)\n",
    "#configuring optional parameters\n",
    "kwargs_spectrum = {\"kwargs_model\": {\"color\":\"red\", \"ls\":\"--\"}, \"kwargs_fp\":{\"color\":\"green\", \"marker\":\"o\"}}  # noqa: E501\n",
    "kwargs_residuals = {\"color\": \"blue\", \"markersize\":4, \"marker\":'s', }\n",
    "dataset.plot_fit(kwargs_residuals=kwargs_residuals, kwargs_spectrum=kwargs_spectrum) "
   ]
  },
  {
   "cell_type": "code",
   "execution_count": null,
   "id": "c7c17297",
   "metadata": {
    "scrolled": true
   },
   "outputs": [],
   "source": [
    "source[0], spatial_model[0], spectral_model[0], catalog_name[0]"
   ]
  },
  {
   "cell_type": "code",
   "execution_count": null,
   "id": "aa330702",
   "metadata": {},
   "outputs": [],
   "source": []
  },
  {
   "cell_type": "code",
   "execution_count": null,
   "id": "cfb990bb",
   "metadata": {},
   "outputs": [],
   "source": [
    "ax = plt.subplot()\n",
    "ax.yaxis.set_units(u.Unit(\"TeV cm-2 s-1\"))\n",
    "\n",
    "kwargs = {\"ax\": ax, \"sed_type\": \"e2dnde\"}\n",
    "dataset = Datasets(dataset)\n",
    "\n",
    "for d in dataset:\n",
    "    d.data.plot(label=d.name, **kwargs)\n",
    "\n",
    "energy_bounds = [1e-5, 1e3] * u.TeV\n",
    "# pwl.plot(energy_bounds=energy_bounds, color=\"k\", **kwargs)\n",
    "# pwl.plot_error(energy_bounds=energy_bounds, **kwargs)\n",
    "ax.set_ylim(1e-13, 1e-9)\n",
    "ax.set_xlim(energy_bounds)\n",
    "ax.legend()"
   ]
  },
  {
   "cell_type": "code",
   "execution_count": null,
   "id": "2b025b01",
   "metadata": {
    "scrolled": true
   },
   "outputs": [],
   "source": [
    "# spectral_model"
   ]
  },
  {
   "cell_type": "code",
   "execution_count": null,
   "id": "a2d7fc21",
   "metadata": {},
   "outputs": [],
   "source": [
    "# list(source), list(catalog)"
   ]
  },
  {
   "cell_type": "code",
   "execution_count": null,
   "id": "26033e3c",
   "metadata": {},
   "outputs": [],
   "source": [
    "# catalog"
   ]
  },
  {
   "cell_type": "markdown",
   "id": "0645d75e",
   "metadata": {},
   "source": [
    "### Analysis"
   ]
  },
  {
   "cell_type": "code",
   "execution_count": null,
   "id": "d4192117",
   "metadata": {},
   "outputs": [],
   "source": [
    "src_name = \"HESS J1825-137\"\n",
    "\n",
    "source = catalog_gammacat[src_name]\n",
    "model = source.sky_model()\n",
    "print(model)"
   ]
  },
  {
   "cell_type": "code",
   "execution_count": null,
   "id": "1533e1f0",
   "metadata": {},
   "outputs": [],
   "source": [
    "print(source[1].spectral_model())"
   ]
  },
  {
   "cell_type": "code",
   "execution_count": null,
   "id": "e33d2f16",
   "metadata": {},
   "outputs": [],
   "source": [
    "# catalog_3hwc = CATALOG_REGISTRY.get_cls(\"3hwc\")()\n",
    "# catalog_3hwc.table\n",
    "\n",
    "# # source_2hwc = catalog_2hwc[\"2HWC J0534+220\"]\n",
    "# # source_2hwc.data."
   ]
  },
  {
   "cell_type": "code",
   "execution_count": null,
   "id": "0e7b6a6d",
   "metadata": {},
   "outputs": [],
   "source": [
    "catalog_2hwc = CATALOG_REGISTRY.get_cls(\"2hwc\")()\n",
    "catalog_2hwc.table[\"source_name\"]\n",
    "\n",
    "source_2hwc = catalog_2hwc[\"2HWC J1825-134\"]\n",
    "source_2hwc.info()"
   ]
  },
  {
   "cell_type": "code",
   "execution_count": null,
   "id": "89d18777",
   "metadata": {},
   "outputs": [],
   "source": [
    "model = source_2hwc.sky_model()\n",
    "print(model)"
   ]
  },
  {
   "cell_type": "code",
   "execution_count": null,
   "id": "aa110fd2",
   "metadata": {},
   "outputs": [],
   "source": [
    "\n",
    "catalog_gammacat = CATALOG_REGISTRY.get_cls(\"gamma-cat\")()\n",
    "\n",
    "source_gammacat = catalog_gammacat[\"HESS J1825-137\"]\n",
    "\n",
    "dataset = FluxPointsDataset(\n",
    "    data=source_gammacat.flux_points, name=src_name\n",
    ")\n",
    "table = dataset.data.to_table(sed_type=\"dnde\", formatted=True)\n",
    "table\n",
    "\n",
    "# src_name = \"HESS J1825-137\"\n",
    "# src_id = src_name.replace(\" \", \"\")\n",
    "\n",
    "# source = catalog[src_name]\n",
    "# src_data = source.data\n",
    "# display(source_gammacat.data)\n"
   ]
  },
  {
   "cell_type": "code",
   "execution_count": null,
   "id": "c3bad527",
   "metadata": {},
   "outputs": [],
   "source": [
    "CATALOG = \"hgps\"\n",
    "catalog = CATALOG_REGISTRY.get_cls(CATALOG)()\n",
    "\n",
    "src_name = \"HESS J1825-137\"\n",
    "src_id = src_name.replace(\" \", \"\")\n",
    "\n",
    "source = catalog[src_name]\n",
    "src_data = source.data\n",
    "display(src_data)"
   ]
  },
  {
   "cell_type": "code",
   "execution_count": null,
   "id": "1b8a2d55",
   "metadata": {},
   "outputs": [],
   "source": [
    "print(source.info(\"associations\"))"
   ]
  },
  {
   "cell_type": "code",
   "execution_count": null,
   "id": "07b9231f",
   "metadata": {},
   "outputs": [],
   "source": [
    "model = source.sky_model()\n",
    "print(model)"
   ]
  },
  {
   "cell_type": "code",
   "execution_count": null,
   "id": "9fffa837",
   "metadata": {},
   "outputs": [],
   "source": [
    "source.flux_points_table"
   ]
  },
  {
   "cell_type": "code",
   "execution_count": null,
   "id": "e41d8b7b",
   "metadata": {},
   "outputs": [],
   "source": [
    "dataset1 = FluxPointsDataset(\n",
    "    data=source.flux_points, name=src_name\n",
    ")\n",
    "table = dataset1.data.to_table(sed_type=\"dnde\", formatted=True)\n",
    "table"
   ]
  },
  {
   "cell_type": "code",
   "execution_count": null,
   "id": "d5bf4a32",
   "metadata": {},
   "outputs": [],
   "source": [
    "# # importing os module \n",
    "# import os\n",
    "  \n",
    "# # Directory\n",
    "# directory = \"GeeksForGeeks/Docum\"\n",
    "  \n",
    "# # Parent Directory path\n",
    "# parent_dir = \".\"\n",
    "  \n",
    "# # Path\n",
    "# path = os.path.join(parent_dir, directory)\n",
    "  \n",
    "# # Create the directory\n",
    "# # 'GeeksForGeeks' in\n",
    "# # '/home / User / Documents'\n",
    "# os.makedirs(path,exist_ok=True)\n",
    "# parent_dir"
   ]
  },
  {
   "cell_type": "code",
   "execution_count": null,
   "id": "42ea4707",
   "metadata": {},
   "outputs": [],
   "source": [
    "base_dir  = \"flux_points\"\n",
    "child_dir = \"catalog\"\n",
    "format_file = \".dat\"\n",
    "\n",
    "\n",
    "file_name = f'{base_dir}_{child_dir}_{src_id}{format_file}'\n",
    "mkdir_base_child(base_dir, child_dir)\n",
    "\n",
    "path_name = os.path.abspath(os.path.join(f\"{base_dir}/{child_dir}/{file_name}\"))\n",
    "# print(path_name)\n",
    "if path_name not in sys.path:\n",
    "    sys.path.append(path_name)\n",
    "\n",
    "table.write(f\"{path_name}\",format='ascii.ecsv', overwrite=True)"
   ]
  },
  {
   "cell_type": "code",
   "execution_count": null,
   "id": "3d17b479",
   "metadata": {},
   "outputs": [],
   "source": [
    "# e_min = min(table[\"e_min\"]) - min(table[\"e_min\"])*0.5\n",
    "# e_max = max(table[\"e_max\"]) + max(table[\"e_max\"])*0.5\n",
    "e_min = (min(table[\"e_min\"]-table[\"e_min\"]*0.1))\n",
    "e_max = (max(table[\"e_max\"]+table[\"e_max\"]*2))\n",
    "energy_bounds = [e_min, e_max] * u.TeV\n",
    "# e_min, e_max, dnde_min, dnde_max\n",
    "\n",
    "dnde_min = min(table[\"dnde\"])+ min(table[\"dnde\"])*0.5\n",
    "dnde_max = max(table[\"dnde\"]) + max(table[\"dnde\"])*0.5"
   ]
  },
  {
   "cell_type": "code",
   "execution_count": null,
   "id": "aa0f6b77",
   "metadata": {},
   "outputs": [],
   "source": [
    "energy_bounds = [e_min, e_max] * u.TeV\n",
    "e_min=0.1\n",
    "e_max=100"
   ]
  },
  {
   "cell_type": "code",
   "execution_count": null,
   "id": "945c2aac",
   "metadata": {},
   "outputs": [],
   "source": [
    "e_min, e_max"
   ]
  },
  {
   "cell_type": "code",
   "execution_count": null,
   "id": "0f0a2a8f",
   "metadata": {},
   "outputs": [],
   "source": []
  },
  {
   "cell_type": "code",
   "execution_count": null,
   "id": "7c5ebf69",
   "metadata": {},
   "outputs": [],
   "source": [
    "def plt_savefig(path_child, child_name):\n",
    "    ''' Saves figures (.png and .pdf) in the path_child directoty    \n",
    "    plt_savefig(path_child, child_name)\n",
    "    >>> plt.savefig(file, bbox_inches='tight')\n",
    "    '''\n",
    "    formats_file = [\".png\", \".pdf\"]\n",
    "    for format_file in formats_file: \n",
    "        file = path_child / f'{src_id}_{child_name}_{ebl_ref}{format_file}'\n",
    "        plt.savefig(file, bbox_inches='tight')"
   ]
  },
  {
   "cell_type": "code",
   "execution_count": null,
   "id": "97389bef",
   "metadata": {
    "scrolled": false
   },
   "outputs": [],
   "source": [
    "for i in range(len(list(dict_model.values()))):\n",
    "    # fitting a simple\n",
    "    spec_model, sky_model = list(dict_model.values())[i] # pwl, model = pwl_model()\n",
    "    \n",
    "    data_sets = Datasets(dataset)\n",
    "    data_sets.models = sky_model\n",
    "    # print(data_sets)\n",
    "\n",
    "    fitter = Fit()\n",
    "    result_pwl = fitter.run(datasets=dataset)\n",
    "    # print(result_pwl)\n",
    "\n",
    "    # plot the data points and the best fit model\n",
    "    ax = plt.subplot()\n",
    "    ax.yaxis.set_units(u.Unit(\"TeV cm-2 s-1\"))\n",
    "\n",
    "    kwargs = {\"ax\": ax, \"sed_type\": \"e2dnde\"}\n",
    "\n",
    "    for d in data_sets:\n",
    "        d.data.plot(label=d.name, **kwargs)\n",
    "\n",
    "\n",
    "    spec_model.plot(label = sky_model.name, energy_bounds=energy_bounds, color=\"k\", **kwargs)\n",
    "    spec_model.plot_error(label = \"error band\", energy_bounds=energy_bounds, **kwargs)\n",
    "    ax.set_ylim(dnde_min, dnde_max)\n",
    "    ax.set_xlim(energy_bounds)\n",
    "    ax.legend()\n",
    "    \n",
    "    ebl_ref = list(dict_model.keys())[i]\n",
    "    \n",
    "    path_flux = mkdir_base_child(\"analysis\", \"TeVCounterparts\")\n",
    "\n",
    "    plt_savefig(path_flux, \"TeVCounterparts\")\n",
    "\n",
    "    plt.show()\n",
    "\n",
    "    print(spec_model, sky_model)"
   ]
  },
  {
   "cell_type": "code",
   "execution_count": null,
   "id": "7768fd6f",
   "metadata": {},
   "outputs": [],
   "source": []
  },
  {
   "cell_type": "code",
   "execution_count": null,
   "id": "9d4235d4",
   "metadata": {},
   "outputs": [],
   "source": []
  },
  {
   "cell_type": "code",
   "execution_count": null,
   "id": "ff25893f",
   "metadata": {},
   "outputs": [],
   "source": []
  }
 ],
 "metadata": {
  "kernelspec": {
   "display_name": "Python 3 (ipykernel)",
   "language": "python",
   "name": "python3"
  },
  "language_info": {
   "codemirror_mode": {
    "name": "ipython",
    "version": 3
   },
   "file_extension": ".py",
   "mimetype": "text/x-python",
   "name": "python",
   "nbconvert_exporter": "python",
   "pygments_lexer": "ipython3",
   "version": "3.9.15"
  }
 },
 "nbformat": 4,
 "nbformat_minor": 5
}
