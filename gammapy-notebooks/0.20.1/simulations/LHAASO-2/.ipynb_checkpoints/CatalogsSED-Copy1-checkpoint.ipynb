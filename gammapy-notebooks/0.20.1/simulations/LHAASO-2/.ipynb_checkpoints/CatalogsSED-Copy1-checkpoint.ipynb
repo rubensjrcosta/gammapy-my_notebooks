{
 "cells": [
  {
   "cell_type": "code",
   "execution_count": 1,
   "id": "5ce110db",
   "metadata": {},
   "outputs": [],
   "source": [
    "# !pip install dataframe-image"
   ]
  },
  {
   "cell_type": "code",
   "execution_count": 2,
   "id": "fa05df50",
   "metadata": {},
   "outputs": [],
   "source": [
    "# !pip install tabulate"
   ]
  },
  {
   "cell_type": "markdown",
   "id": "b43d98b9",
   "metadata": {},
   "source": [
    "Carrega os catalogos do gammapy\n",
    "\n",
    "Verifica a existencia da fonte em cada um dos catalgos\n",
    "\n",
    "Guarda a tabela dos pontos de fluxos"
   ]
  },
  {
   "cell_type": "code",
   "execution_count": 3,
   "id": "c6e3efbf",
   "metadata": {},
   "outputs": [],
   "source": [
    "%matplotlib inline\n",
    "import matplotlib.pyplot as plt"
   ]
  },
  {
   "cell_type": "code",
   "execution_count": 4,
   "id": "3ac8a12e",
   "metadata": {},
   "outputs": [],
   "source": [
    "from gammapy.datasets import FluxPointsDataset, Datasets\n",
    "from gammapy.catalog import CATALOG_REGISTRY"
   ]
  },
  {
   "cell_type": "code",
   "execution_count": 5,
   "id": "eff6f5ad",
   "metadata": {},
   "outputs": [],
   "source": [
    "import os\n",
    "import sys\n",
    "import importlib\n",
    "\n",
    "module_path = os.path.abspath('modules/spectral_models')\n",
    "if module_path not in sys.path:\n",
    "    sys.path.append(module_path)\n",
    "# print(module_path)\n",
    "import spectral_models\n",
    "importlib.reload(spectral_models)\n",
    "from spectral_models import pwl_model, get_source_data\n",
    "\n",
    "module_path = os.path.abspath('modules/utilities')\n",
    "if module_path not in sys.path:\n",
    "    sys.path.append(module_path)\n",
    "# print(module_path)\n",
    "import utilities\n",
    "importlib.reload(utilities)\n",
    "from utilities import mkdir_sub_directory"
   ]
  },
  {
   "cell_type": "code",
   "execution_count": 6,
   "id": "a1236f88",
   "metadata": {},
   "outputs": [],
   "source": [
    "from astropy import units as u\n",
    "\n",
    "from gammapy.modeling import Fit\n",
    "from gammapy.modeling.models import (\n",
    "    Models,\n",
    "    SuperExpCutoffPowerLaw4FGLDR3SpectralModel,\n",
    "    ExpCutoffPowerLawSpectralModel,\n",
    "    LogParabolaSpectralModel,\n",
    "    PowerLawSpectralModel,\n",
    "    SkyModel,\n",
    ")\n"
   ]
  },
  {
   "cell_type": "code",
   "execution_count": 7,
   "id": "9b0c4e4f",
   "metadata": {},
   "outputs": [],
   "source": [
    "def source_identification(src_index = None):\n",
    "    '''\n",
    "    To write Docstring!!!!\n",
    "    '''\n",
    "    try: \n",
    "        \n",
    "        global LHAASO_name, LHAASO_txt \n",
    "        \n",
    "        LHAASO_name = df_fp[\"LHAASO_name\"][src_index]\n",
    "        LHAASO_txt = df_fp[\"LHAASO_txt\"][src_index]\n",
    "        \n",
    "        global src_name, src_txt\n",
    "        \n",
    "        src_name = df_fp[\"source_name\"][src_index]\n",
    "        src_txt = df_fp[\"source_txt\"][src_index] \n",
    "    \n",
    "    except:\n",
    "        print(\"Oops!  That was no valid index.  Try again...\")"
   ]
  },
  {
   "cell_type": "code",
   "execution_count": 8,
   "id": "23cd7344",
   "metadata": {},
   "outputs": [],
   "source": [
    "def plotting_SED_flux_pointing(spec_model = None, sed_type = \"e2dnde\", yaxis_units=\"TeV cm-2 s-1\", energy_bounds= [1e-5, 1e2] * u.TeV, ylim = [1e-13, 1e-9]):\n",
    "    '''Returns a spectral energy distribution\n",
    "    \n",
    "    >>> plotting_SED_flux_pointing(spec_model, yaxis_units, sed_type, reference)\n",
    "    '''\n",
    "    path, path_name = mkdir_sub_directory(\"catalogs_data\", \"flux_points_figures\")\n",
    "    \n",
    "    ax = plt.subplot()\n",
    "    ax.yaxis.set_units(u.Unit(yaxis_units))\n",
    "    ax.xaxis.set_units(u.Unit(\"TeV\"))\n",
    "\n",
    "    #label = f\"{sky_model}\"\n",
    "    \n",
    "    kwargs = {\n",
    "        \"ax\": ax, \n",
    "        \"sed_type\": sed_type\n",
    "    }    \n",
    "    \n",
    "    \n",
    "#     plot_kwargs = {\n",
    "#     \"energy_bounds\": [0.1, 30] * u.TeV,\n",
    "#     \"sed_type\": \"e2dnde\",\n",
    "#     \"yunits\": u.Unit(\"erg cm-2 s-1\"),\n",
    "#     \"ax\": ax,\n",
    "# }\n",
    "    \n",
    "    for d in datasets:\n",
    "        d.data.plot(label=d.name, **kwargs)\n",
    "\n",
    "    try:   \n",
    "        kwargs_fit = {\"label\":sky_model.name}\n",
    "        spec_model.plot(energy_bounds=energy_bounds, color=\"k\", **kwargs, **kwargs_fit)\n",
    "        spec_model.plot_error(energy_bounds=energy_bounds, **kwargs)\n",
    "        \n",
    "        file = path_name / f'{LHAASO_txt}_{src_txt}_{sky_model.name}_{catalog_tag}.png'\n",
    "    \n",
    "    except:\n",
    "        file = path_name / f'{LHAASO_txt}_{src_txt}.png'\n",
    "    \n",
    "    ax.set_ylim(ylim)\n",
    "    ax.set_xlim(energy_bounds)\n",
    "    ax.legend()\n",
    "    \n",
    "    plt.title(f\"{LHAASO_name}: {src_name}\")\n",
    "    \n",
    "#     plt.xlabel(\"Energy (TeV)\")   \n",
    "#     plt.ylabel(r\"$E^{2}$dN/dE (erg $cm^{-2}$ $s^{-1}$)\")\n",
    "    \n",
    "    plt.savefig(file, bbox_inches='tight')\n",
    "    plt.show()\n",
    "    \n",
    "    return "
   ]
  },
  {
   "cell_type": "code",
   "execution_count": null,
   "id": "0e28f3bd",
   "metadata": {
    "scrolled": true
   },
   "outputs": [],
   "source": []
  },
  {
   "cell_type": "code",
   "execution_count": 9,
   "id": "c8f069b3",
   "metadata": {},
   "outputs": [],
   "source": [
    "# import pandas library as pd\n",
    "\n",
    "import pandas as pd \n",
    "from gammapy.datasets import FluxPointsDataset\n",
    "from gammapy.catalog import CATALOG_REGISTRY\n",
    "import os\n",
    "import sys\n",
    "\n",
    "format_csv = \".csv\"\n",
    "format_fits = \".fits\"\n",
    "\n",
    "sed_type=\"e2dnde\"\n",
    "# sed_type=\"dnde\"\n",
    "\n",
    "df_columns=[]\n",
    "ds_fp = []\n",
    "source_cat = []\n",
    "  \n",
    "# create an Empty DataFrame object\n",
    "df = pd.DataFrame()\n",
    "\n",
    "\n",
    "def getting_source_data(dict_lhaaso_tevc = None, catalog_tags = None):\n",
    "    '''\n",
    "    To write Docstring!!!!\n",
    "    '''\n",
    "    \n",
    "    LHAASO_range = range(len(dict_lhaaso_tevc.keys()))\n",
    "    for i in LHAASO_range:\n",
    "\n",
    "        LHAASO_name = list(dict_lhaaso_tevc.keys())[i]\n",
    "        LHAASO_txt = LHAASO_name.replace(\" \", \"\")\n",
    "        \n",
    "        source_range = range(len(dict_lhaaso_tevc[LHAASO_name]))\n",
    "        for j in source_range:\n",
    "\n",
    "            cat_src = []\n",
    "\n",
    "            cat_src_fp = []\n",
    "            \n",
    "            src_cat = []\n",
    "\n",
    "            src_ds = []\n",
    "\n",
    "            src_name = dict_lhaaso_tevc[LHAASO_name][j]\n",
    "            src_txt = src_name.replace(\" \", \"\")\n",
    "            \n",
    "            catalog_range = range(len(catalog_tags))\n",
    "            for k in catalog_range: \n",
    "                \n",
    "                catalog_tag = catalog_tags[k]\n",
    "                catalog = CATALOG_REGISTRY.get_cls(catalog_tag)()\n",
    "                \n",
    "                try:\n",
    "                    \n",
    "                    src = catalog[src_name]\n",
    "                    \n",
    "                    cat_src.append(catalog_tag)\n",
    "                    \n",
    "                    ds = FluxPointsDataset(\n",
    "                        models = src.sky_model(),\n",
    "                        data=src.flux_points, \n",
    "                        name=catalog_tag       \n",
    "                    )\n",
    "                    \n",
    "                    src_cat.append(src)\n",
    "                    src_ds.append(ds)\n",
    "                    cat_src_fp.append(catalog_tag)\n",
    "\n",
    "                    table = ds.data.to_table(\n",
    "                        sed_type = sed_type, \n",
    "                        formatted = True\n",
    "                    )\n",
    "                    \n",
    "                    # Setting the units\n",
    "\n",
    "#                     try:\n",
    "#                         table['e_ref'] = table['e_ref'].to(e_ref_unit)\n",
    "#                         table['e2dnde'] = table['e2dnde'].to(dnde_unit)\n",
    "#                         table['e2dnde_errp'] = table['e2dnde_errp'].to(dnde_unit)\n",
    "#                         table['e2dnde_errn'] = table['e2dnde_errn'].to(dnde_unit)\n",
    "\n",
    "#                     except:\n",
    "#                         table['e_ref'] = table['e_ref'].to(e_ref_unit)\n",
    "#                         table['e_min'] = table['e_min'].to(e_ref_unit)\n",
    "#                         table['e_max'] = table['e_max'].to(e_ref_unit)\n",
    "\n",
    "#                         table['e2dnde'] = table['e2dnde'].to(dnde_unit)\n",
    "#                         table['e2dnde_errp'] = table['e2dnde_errp'].to(dnde_unit)\n",
    "#                         table['e2dnde_errn'] = table['e2dnde_errn'].to(dnde_unit)    \n",
    "#                         table['e2dnde_ul'] = table['e2dnde_ul'].to(dnde_unit)\n",
    "                    \n",
    "                    #########################\n",
    "                    \n",
    "                    # Writes the flux points table in the fits format\n",
    "                    file_name = f'{LHAASO_txt}_{src_txt}_{catalog_tag}{format_fits}'\n",
    "                    path_os = os.path.abspath(\n",
    "                        os.path.join(\n",
    "                            f\"{path_flux_points_tables}/{file_name}\"\n",
    "                        )\n",
    "                    )      \n",
    "                    \n",
    "                    if path_os not in sys.path:\n",
    "                        sys.path.append(path_os)\n",
    "\n",
    "                    table.write(\n",
    "                        f\"{path_os}\",\n",
    "                        format = 'fits', \n",
    "                        overwrite = True\n",
    "                    )\n",
    "                    \n",
    "#                     # Writes the flux points table in the csv format\n",
    "#                     file_name = f'{LHAASO_txt}_{src_txt}_{catalog_tag}{format_csv}'\n",
    "#                     path_os = os.path.abspath(\n",
    "#                         os.path.join(\n",
    "#                             f\"{path_flux_points_tables}/{file_name}\"\n",
    "#                         )\n",
    "#                     )\n",
    "                     \n",
    "#                     if path_os not in sys.path:\n",
    "#                         sys.path.append(path_os)\n",
    "\n",
    "#                     table.write(\n",
    "#                         f\"{path_os}\",\n",
    "#                         format = 'ascii.ecsv', \n",
    "#                         overwrite = True\n",
    "#                     )   \n",
    "                    \n",
    "                except:\n",
    "                    pass\n",
    "\n",
    "                df_columns_k = [LHAASO_name, LHAASO_txt, src_name, src_txt, cat_src, cat_src_fp]\n",
    "            df_columns.append(df_columns_k)\n",
    "            ds_fp.append(src_ds)\n",
    "            source_cat.append(src_cat)\n",
    "\n",
    "    df = pd.DataFrame(df_columns, columns = ['LHAASO_name', \"LHAASO_txt\",'source_name', \"source_txt\", 'catalog', 'flux_points']) \n",
    "    df_fp = df[df[\"flux_points\"].str.len() != 0]\n",
    "    df_fp = df_fp.reset_index(drop = True)\n",
    "    df_fp.index.name = 'source_index'\n",
    "    df_fp.to_csv(f\"{path_catalogs_data}/data_frame_flux_points.csv\", index = \"True\" )\n",
    "    \n",
    "    df_no_fp = df[df[\"flux_points\"].str.len() == 0]\n",
    "    df_no_fp = df_no_fp.reset_index(drop = True)\n",
    "    df_no_fp.index.name = 'source_index'\n",
    "    df_no_fp.to_csv(f\"{path_catalogs_data}/data_frame_no_flux_points.csv\", index = \"True\" )\n",
    "    print(f\"Sources without flux points table: {list(df_no_fp['source_name'])}\")\n",
    "    \n",
    "    source_cat[:] = list(filter(None, source_cat))\n",
    "    ds_fp[:] = list(filter(None, ds_fp))\n",
    "    \n",
    "    return df_fp, ds_fp, source_cat"
   ]
  },
  {
   "cell_type": "code",
   "execution_count": 10,
   "id": "fdc6e984",
   "metadata": {},
   "outputs": [],
   "source": [
    "import numpy as np\n",
    "# from astropy import units as u\n",
    "from astropy.table import Table\n",
    "from gammapy.estimators import FluxPoints\n",
    "from gammapy.utils.scripts import make_path\n",
    "\n",
    "# format_csv = \".csv\"\n",
    "format_fits = \".fits\"\n",
    "\n",
    "sed_type=\"e2dnde\"\n",
    "# sed_type=\"dnde\"\n",
    "\n",
    "\n",
    "\n",
    "ds_fp_cut = []\n",
    "def flux_points_cut_energy(df_fp = None, ds_fp = None, e_ref_min=None):\n",
    "    '''To write Docstring!!!!'''\n",
    "    \n",
    "    source_range = range(len(df_fp))\n",
    "    for src_index in source_range:\n",
    "        src_ds = []\n",
    "        \n",
    "        LHAASO_txt = df_fp[\"LHAASO_txt\"][src_index]\n",
    "\n",
    "        src_txt = df_fp[\"source_txt\"][src_index]\n",
    "        \n",
    "        k_range = range(len(ds_fp[src_index]))\n",
    "        for k in k_range: \n",
    "            \n",
    "            catalog_tag = df_fp[\"catalog\"][src_index][k]\n",
    "            ds_name = ds_fp[src_index][k].name\n",
    "            \n",
    "            flux_points = ds_fp[src_index][k].data\n",
    "\n",
    "            mask_energy = np.zeros(len(flux_points.to_table()), dtype=bool)\n",
    "\n",
    "            for m, e_ref in enumerate(flux_points.energy_ref):\n",
    "                if e_ref > e_ref_min:\n",
    "                    mask_energy[m] = True\n",
    "            print(ds_name, src_txt)        \n",
    "            flux_points_mask = flux_points.to_table()[mask_energy]\n",
    "            flux_points_energy = FluxPoints.from_table(flux_points_mask)\n",
    "\n",
    "            ds = FluxPointsDataset(\n",
    "                                data=flux_points_energy, \n",
    "                                name=ds_name\n",
    "                            )\n",
    "\n",
    "            table = ds.data.to_table(\n",
    "                                sed_type = sed_type, \n",
    "                                formatted = True\n",
    "                            )\n",
    "            src_ds.append(ds)\n",
    "            \n",
    "            file_name = f'{LHAASO_txt}_{src_txt}_{catalog_tag}_e_ref_min_{e_ref_min_name}{format_fits}'\n",
    "            path_os = os.path.abspath(\n",
    "                os.path.join(\n",
    "                    f\"{path_flux_points_figures}/{file_name}\"\n",
    "                )\n",
    "            )\n",
    "\n",
    "            if path_os not in sys.path:\n",
    "                sys.path.append(path_os)\n",
    "\n",
    "            # table.write(f\"{path_os}{format_csv}\",format='ascii.ecsv', overwrite=True)\n",
    "            table.write(f\"{path_os}\",format='fits', overwrite=True)\n",
    "    #         print(f\"{file_name}\")\n",
    "        ds_fp_cut.append(src_ds)\n",
    "    return ds_fp_cut"
   ]
  },
  {
   "cell_type": "markdown",
   "id": "e7e7cf8c",
   "metadata": {},
   "source": [
    "Loading the catalogs and sources to be studied"
   ]
  },
  {
   "cell_type": "code",
   "execution_count": 11,
   "id": "775064cb",
   "metadata": {},
   "outputs": [],
   "source": [
    "# print(CATALOG_REGISTRY)"
   ]
  },
  {
   "cell_type": "code",
   "execution_count": 12,
   "id": "f2534bfd",
   "metadata": {},
   "outputs": [],
   "source": [
    "catalog_tags = [\"gamma-cat\", \"hgps\", \"2hwc\", \"3fgl\", \"4fgl\", \"2fhl\", \"3fhl\", \"3hwc\"] "
   ]
  },
  {
   "cell_type": "code",
   "execution_count": 13,
   "id": "c284a206",
   "metadata": {},
   "outputs": [],
   "source": [
    "# Loading the source catalogs\n",
    "catalog_gammacat = CATALOG_REGISTRY.get_cls(\"gamma-cat\")()\n",
    "catalog_hgps = CATALOG_REGISTRY.get_cls(\"hgps\")()\n",
    "catalog_2hwc = CATALOG_REGISTRY.get_cls(\"2hwc\")()\n",
    "catalog_3fgl = CATALOG_REGISTRY.get_cls(\"3fgl\")()\n",
    "catalog_4fgl = CATALOG_REGISTRY.get_cls(\"4fgl\")()\n",
    "catalog_2fhl = CATALOG_REGISTRY.get_cls(\"2fhl\")()\n",
    "catalog_3fhl = CATALOG_REGISTRY.get_cls(\"3fhl\")()\n",
    "catalog_3hwc = CATALOG_REGISTRY.get_cls(\"3hwc\")()"
   ]
  },
  {
   "cell_type": "code",
   "execution_count": 14,
   "id": "f41d1454",
   "metadata": {},
   "outputs": [],
   "source": [
    "# Creating a dictionary of the Potential TeV Counterparts (dict values) \n",
    "# of the three most significant (excluding Crab) LHASSO observations (dict keys)\n",
    "# see https://www.nature.com/articles/s41586-021-03498-z\n",
    "dict_lhaaso_tevc = {\n",
    "    \"LHAASO J1825-1326\": [\"HESS J1825-137\", \"HESS J1826-130\", \"2HWC J1825-134\"], \n",
    "    \"LHAASO J1908+0621\": [\"MGRO J1908+06\" , \"HESS J1908+063\", \"ARGO J1907+0627\", \"VER J1907+062\", \"2HWC J1908+063\"], \n",
    "    \"LHAASO J2226+6057\": [\"VER J2227+608\"  , \"Boomerang\"]\n",
    "}"
   ]
  },
  {
   "cell_type": "code",
   "execution_count": 15,
   "id": "4f6be1f3",
   "metadata": {},
   "outputs": [
    {
     "name": "stdout",
     "output_type": "stream",
     "text": [
      "Directory 'catalogs_data/flux_points_tables' created\n"
     ]
    }
   ],
   "source": [
    "# Creating the directories to save the flux points tables from Gammapy catalogs\n",
    "dir_catalogs_data = \"catalogs_data\"\n",
    "dir_flux_points_tables = \"flux_points_tables\"\n",
    "\n",
    "path_catalogs_data, path_flux_points_tables = mkdir_sub_directory(\n",
    "    dir_catalogs_data, \n",
    "    dir_flux_points_tables\n",
    ")"
   ]
  },
  {
   "cell_type": "code",
   "execution_count": 16,
   "id": "2379fd2d",
   "metadata": {},
   "outputs": [
    {
     "name": "stdout",
     "output_type": "stream",
     "text": [
      "Sources without flux points table: ['2HWC J1825-134', '2HWC J1908+063', 'VER J2227+608']\n"
     ]
    }
   ],
   "source": [
    "# Getting the data of the sources from the catalogs of the Gammapy package\n",
    "df_fp, ds_fp, source_cat = getting_source_data(dict_lhaaso_tevc, catalog_tags)"
   ]
  },
  {
   "cell_type": "code",
   "execution_count": 17,
   "id": "f9346c30",
   "metadata": {},
   "outputs": [
    {
     "data": {
      "text/html": [
       "<div>\n",
       "<style scoped>\n",
       "    .dataframe tbody tr th:only-of-type {\n",
       "        vertical-align: middle;\n",
       "    }\n",
       "\n",
       "    .dataframe tbody tr th {\n",
       "        vertical-align: top;\n",
       "    }\n",
       "\n",
       "    .dataframe thead th {\n",
       "        text-align: right;\n",
       "    }\n",
       "</style>\n",
       "<table border=\"1\" class=\"dataframe\">\n",
       "  <thead>\n",
       "    <tr style=\"text-align: right;\">\n",
       "      <th></th>\n",
       "      <th>LHAASO_name</th>\n",
       "      <th>LHAASO_txt</th>\n",
       "      <th>source_name</th>\n",
       "      <th>source_txt</th>\n",
       "      <th>catalog</th>\n",
       "      <th>flux_points</th>\n",
       "    </tr>\n",
       "    <tr>\n",
       "      <th>source_index</th>\n",
       "      <th></th>\n",
       "      <th></th>\n",
       "      <th></th>\n",
       "      <th></th>\n",
       "      <th></th>\n",
       "      <th></th>\n",
       "    </tr>\n",
       "  </thead>\n",
       "  <tbody>\n",
       "    <tr>\n",
       "      <th>0</th>\n",
       "      <td>LHAASO J1825-1326</td>\n",
       "      <td>LHAASOJ1825-1326</td>\n",
       "      <td>HESS J1825-137</td>\n",
       "      <td>HESSJ1825-137</td>\n",
       "      <td>[gamma-cat, hgps, 3fgl, 4fgl, 2fhl, 3fhl]</td>\n",
       "      <td>[gamma-cat, hgps, 3fgl, 4fgl, 2fhl, 3fhl]</td>\n",
       "    </tr>\n",
       "    <tr>\n",
       "      <th>1</th>\n",
       "      <td>LHAASO J1825-1326</td>\n",
       "      <td>LHAASOJ1825-1326</td>\n",
       "      <td>HESS J1826-130</td>\n",
       "      <td>HESSJ1826-130</td>\n",
       "      <td>[gamma-cat, hgps, 4fgl, 3fhl]</td>\n",
       "      <td>[gamma-cat, hgps, 4fgl, 3fhl]</td>\n",
       "    </tr>\n",
       "    <tr>\n",
       "      <th>2</th>\n",
       "      <td>LHAASO J1908+0621</td>\n",
       "      <td>LHAASOJ1908+0621</td>\n",
       "      <td>MGRO J1908+06</td>\n",
       "      <td>MGROJ1908+06</td>\n",
       "      <td>[gamma-cat, 3fgl, 4fgl]</td>\n",
       "      <td>[gamma-cat, 3fgl, 4fgl]</td>\n",
       "    </tr>\n",
       "    <tr>\n",
       "      <th>3</th>\n",
       "      <td>LHAASO J1908+0621</td>\n",
       "      <td>LHAASOJ1908+0621</td>\n",
       "      <td>HESS J1908+063</td>\n",
       "      <td>HESSJ1908+063</td>\n",
       "      <td>[gamma-cat, hgps]</td>\n",
       "      <td>[gamma-cat, hgps]</td>\n",
       "    </tr>\n",
       "    <tr>\n",
       "      <th>4</th>\n",
       "      <td>LHAASO J1908+0621</td>\n",
       "      <td>LHAASOJ1908+0621</td>\n",
       "      <td>ARGO J1907+0627</td>\n",
       "      <td>ARGOJ1907+0627</td>\n",
       "      <td>[gamma-cat]</td>\n",
       "      <td>[gamma-cat]</td>\n",
       "    </tr>\n",
       "    <tr>\n",
       "      <th>5</th>\n",
       "      <td>LHAASO J1908+0621</td>\n",
       "      <td>LHAASOJ1908+0621</td>\n",
       "      <td>VER J1907+062</td>\n",
       "      <td>VERJ1907+062</td>\n",
       "      <td>[gamma-cat]</td>\n",
       "      <td>[gamma-cat]</td>\n",
       "    </tr>\n",
       "    <tr>\n",
       "      <th>6</th>\n",
       "      <td>LHAASO J2226+6057</td>\n",
       "      <td>LHAASOJ2226+6057</td>\n",
       "      <td>Boomerang</td>\n",
       "      <td>Boomerang</td>\n",
       "      <td>[3fgl, 4fgl]</td>\n",
       "      <td>[3fgl, 4fgl]</td>\n",
       "    </tr>\n",
       "  </tbody>\n",
       "</table>\n",
       "</div>"
      ],
      "text/plain": [
       "                    LHAASO_name        LHAASO_txt      source_name  \\\n",
       "source_index                                                         \n",
       "0             LHAASO J1825-1326  LHAASOJ1825-1326   HESS J1825-137   \n",
       "1             LHAASO J1825-1326  LHAASOJ1825-1326   HESS J1826-130   \n",
       "2             LHAASO J1908+0621  LHAASOJ1908+0621    MGRO J1908+06   \n",
       "3             LHAASO J1908+0621  LHAASOJ1908+0621   HESS J1908+063   \n",
       "4             LHAASO J1908+0621  LHAASOJ1908+0621  ARGO J1907+0627   \n",
       "5             LHAASO J1908+0621  LHAASOJ1908+0621    VER J1907+062   \n",
       "6             LHAASO J2226+6057  LHAASOJ2226+6057        Boomerang   \n",
       "\n",
       "                  source_txt                                    catalog  \\\n",
       "source_index                                                              \n",
       "0              HESSJ1825-137  [gamma-cat, hgps, 3fgl, 4fgl, 2fhl, 3fhl]   \n",
       "1              HESSJ1826-130              [gamma-cat, hgps, 4fgl, 3fhl]   \n",
       "2               MGROJ1908+06                    [gamma-cat, 3fgl, 4fgl]   \n",
       "3              HESSJ1908+063                          [gamma-cat, hgps]   \n",
       "4             ARGOJ1907+0627                                [gamma-cat]   \n",
       "5               VERJ1907+062                                [gamma-cat]   \n",
       "6                  Boomerang                               [3fgl, 4fgl]   \n",
       "\n",
       "                                            flux_points  \n",
       "source_index                                             \n",
       "0             [gamma-cat, hgps, 3fgl, 4fgl, 2fhl, 3fhl]  \n",
       "1                         [gamma-cat, hgps, 4fgl, 3fhl]  \n",
       "2                               [gamma-cat, 3fgl, 4fgl]  \n",
       "3                                     [gamma-cat, hgps]  \n",
       "4                                           [gamma-cat]  \n",
       "5                                           [gamma-cat]  \n",
       "6                                          [3fgl, 4fgl]  "
      ]
     },
     "execution_count": 17,
     "metadata": {},
     "output_type": "execute_result"
    }
   ],
   "source": [
    "df_fp"
   ]
  },
  {
   "cell_type": "code",
   "execution_count": 18,
   "id": "34edfd43",
   "metadata": {},
   "outputs": [
    {
     "name": "stderr",
     "output_type": "stream",
     "text": [
      "No reference model set for FluxMaps. Assuming point source with E^-2 spectrum.\n"
     ]
    },
    {
     "data": {
      "text/html": [
       "<div><i>Table length=8</i>\n",
       "<table id=\"table140038286673472\" class=\"table-striped table-bordered table-condensed\">\n",
       "<thead><tr><th>e_ref</th><th>e_min</th><th>e_max</th><th>e2dnde</th><th>e2dnde_errp</th><th>e2dnde_errn</th><th>e2dnde_ul</th><th>sqrt_ts</th><th>is_ul</th></tr></thead>\n",
       "<thead><tr><th>MeV</th><th>MeV</th><th>MeV</th><th>MeV2 / (cm2 s TeV)</th><th>MeV2 / (cm2 s TeV)</th><th>MeV2 / (cm2 s TeV)</th><th>MeV2 / (cm2 s TeV)</th><th></th><th></th></tr></thead>\n",
       "<thead><tr><th>float64</th><th>float64</th><th>float64</th><th>float64</th><th>float64</th><th>float64</th><th>float64</th><th>float32</th><th>bool</th></tr></thead>\n",
       "<tr><td>70.71067811865478</td><td>49.99999999999999</td><td>100.00000000000004</td><td>0.032818595015253166</td><td>39.504709932181726</td><td>nan</td><td>79.04223861809604</td><td>0.0</td><td>True</td></tr>\n",
       "<tr><td>173.20508075688775</td><td>100.00000000000004</td><td>299.99999999999994</td><td>0.2081885124546636</td><td>15.344609464122158</td><td>nan</td><td>30.897408543825577</td><td>0.0</td><td>True</td></tr>\n",
       "<tr><td>547.722557505166</td><td>299.99999999999994</td><td>999.9999999999998</td><td>4.32498564437942</td><td>3.5155869846878236</td><td>3.572627865089459</td><td>nan</td><td>1.2146629</td><td>False</td></tr>\n",
       "<tr><td>1732.0508075688763</td><td>999.9999999999998</td><td>2999.9999999999977</td><td>7.990703631890637</td><td>1.5610843217601464</td><td>1.5443028406399781</td><td>nan</td><td>5.217925</td><td>False</td></tr>\n",
       "<tr><td>5477.225575051666</td><td>2999.9999999999977</td><td>10000.00000000001</td><td>15.401721896861199</td><td>1.3937241742379425</td><td>1.3937241742379425</td><td>nan</td><td>11.553127</td><td>False</td></tr>\n",
       "<tr><td>17320.50807568877</td><td>10000.00000000001</td><td>30000.000000000007</td><td>21.23645547550675</td><td>1.902212544807774</td><td>1.902212544807774</td><td>nan</td><td>12.197048</td><td>False</td></tr>\n",
       "<tr><td>54772.255750516626</td><td>30000.000000000007</td><td>100000.00000000001</td><td>29.92269676576556</td><td>2.7781173891170416</td><td>2.7781173891170416</td><td>nan</td><td>12.737162</td><td>False</td></tr>\n",
       "<tr><td>316227.7660168382</td><td>100000.00000000001</td><td>999999.9999999995</td><td>36.47185846402396</td><td>4.030735591367832</td><td>3.856327331918009</td><td>nan</td><td>12.315137</td><td>False</td></tr>\n",
       "</table></div>"
      ],
      "text/plain": [
       "<Table length=8>\n",
       "      e_ref              e_min              e_max        ...  sqrt_ts  is_ul\n",
       "       MeV                MeV                MeV         ...                \n",
       "     float64            float64            float64       ...  float32   bool\n",
       "------------------ ------------------ ------------------ ... --------- -----\n",
       " 70.71067811865478  49.99999999999999 100.00000000000004 ...       0.0  True\n",
       "173.20508075688775 100.00000000000004 299.99999999999994 ...       0.0  True\n",
       "  547.722557505166 299.99999999999994  999.9999999999998 ... 1.2146629 False\n",
       "1732.0508075688763  999.9999999999998 2999.9999999999977 ...  5.217925 False\n",
       " 5477.225575051666 2999.9999999999977  10000.00000000001 ... 11.553127 False\n",
       " 17320.50807568877  10000.00000000001 30000.000000000007 ... 12.197048 False\n",
       "54772.255750516626 30000.000000000007 100000.00000000001 ... 12.737162 False\n",
       " 316227.7660168382 100000.00000000001  999999.9999999995 ... 12.315137 False"
      ]
     },
     "execution_count": 18,
     "metadata": {},
     "output_type": "execute_result"
    }
   ],
   "source": [
    "src_index = 0\n",
    "source_identification(src_index)\n",
    "catalog_tag = df_fp[\"catalog\"][src_index][3]\n",
    "\n",
    "file_name = f'{LHAASO_txt}_{src_txt}_{catalog_tag}{format_fits}'\n",
    "file_path = make_path(f\"{path_flux_points_tables}/{file_name}\")\n",
    "flux_points = FluxPoints.read(file_path)\n",
    "table = flux_points.to_table()\n",
    "table"
   ]
  },
  {
   "cell_type": "code",
   "execution_count": 45,
   "id": "4f91696b",
   "metadata": {},
   "outputs": [],
   "source": [
    "src_index = 0\n",
    "source_identification(src_index)\n",
    "catalog_tag = df_fp[\"catalog\"][src_index][0]\n",
    "\n",
    "cat=CATALOG_REGISTRY.get_cls(catalog_tag)()\n",
    "src=cat[src_name]\n"
   ]
  },
  {
   "cell_type": "code",
   "execution_count": null,
   "id": "552d3dcf",
   "metadata": {},
   "outputs": [],
   "source": []
  },
  {
   "cell_type": "code",
   "execution_count": 46,
   "id": "01d1cbc2",
   "metadata": {},
   "outputs": [
    {
     "ename": "TypeError",
     "evalue": "'Table' object is not callable",
     "output_type": "error",
     "traceback": [
      "\u001b[0;31m---------------------------------------------------------------------------\u001b[0m",
      "\u001b[0;31mTypeError\u001b[0m                                 Traceback (most recent call last)",
      "Input \u001b[0;32mIn [46]\u001b[0m, in \u001b[0;36m<cell line: 1>\u001b[0;34m()\u001b[0m\n\u001b[0;32m----> 1\u001b[0m \u001b[43msrc\u001b[49m\u001b[38;5;241;43m.\u001b[39;49m\u001b[43mflux_points_table\u001b[49m\u001b[43m(\u001b[49m\u001b[43m)\u001b[49m\n",
      "\u001b[0;31mTypeError\u001b[0m: 'Table' object is not callable"
     ]
    }
   ],
   "source": [
    "src.flux_points_table()"
   ]
  },
  {
   "cell_type": "code",
   "execution_count": 21,
   "id": "350201da",
   "metadata": {
    "scrolled": true
   },
   "outputs": [
    {
     "data": {
      "text/html": [
       "<div><i>Table length=8</i>\n",
       "<table id=\"table140038286673472\" class=\"table-striped table-bordered table-condensed\">\n",
       "<thead><tr><th>e_ref</th><th>e_min</th><th>e_max</th><th>e2dnde</th><th>e2dnde_errp</th><th>e2dnde_errn</th><th>e2dnde_ul</th><th>sqrt_ts</th><th>is_ul</th></tr></thead>\n",
       "<thead><tr><th>MeV</th><th>MeV</th><th>MeV</th><th>MeV2 / (cm2 s TeV)</th><th>MeV2 / (cm2 s TeV)</th><th>MeV2 / (cm2 s TeV)</th><th>MeV2 / (cm2 s TeV)</th><th></th><th></th></tr></thead>\n",
       "<thead><tr><th>float64</th><th>float64</th><th>float64</th><th>float64</th><th>float64</th><th>float64</th><th>float64</th><th>float32</th><th>bool</th></tr></thead>\n",
       "<tr><td>70.71067811865478</td><td>49.99999999999999</td><td>100.00000000000004</td><td>0.032818595015253166</td><td>39.504709932181726</td><td>nan</td><td>79.04223861809604</td><td>0.0</td><td>True</td></tr>\n",
       "<tr><td>173.20508075688775</td><td>100.00000000000004</td><td>299.99999999999994</td><td>0.2081885124546636</td><td>15.344609464122158</td><td>nan</td><td>30.897408543825577</td><td>0.0</td><td>True</td></tr>\n",
       "<tr><td>547.722557505166</td><td>299.99999999999994</td><td>999.9999999999998</td><td>4.32498564437942</td><td>3.5155869846878236</td><td>3.572627865089459</td><td>nan</td><td>1.2146629</td><td>False</td></tr>\n",
       "<tr><td>1732.0508075688763</td><td>999.9999999999998</td><td>2999.9999999999977</td><td>7.990703631890637</td><td>1.5610843217601464</td><td>1.5443028406399781</td><td>nan</td><td>5.217925</td><td>False</td></tr>\n",
       "<tr><td>5477.225575051666</td><td>2999.9999999999977</td><td>10000.00000000001</td><td>15.401721896861199</td><td>1.3937241742379425</td><td>1.3937241742379425</td><td>nan</td><td>11.553127</td><td>False</td></tr>\n",
       "<tr><td>17320.50807568877</td><td>10000.00000000001</td><td>30000.000000000007</td><td>21.23645547550675</td><td>1.902212544807774</td><td>1.902212544807774</td><td>nan</td><td>12.197048</td><td>False</td></tr>\n",
       "<tr><td>54772.255750516626</td><td>30000.000000000007</td><td>100000.00000000001</td><td>29.92269676576556</td><td>2.7781173891170416</td><td>2.7781173891170416</td><td>nan</td><td>12.737162</td><td>False</td></tr>\n",
       "<tr><td>316227.7660168382</td><td>100000.00000000001</td><td>999999.9999999995</td><td>36.47185846402396</td><td>4.030735591367832</td><td>3.856327331918009</td><td>nan</td><td>12.315137</td><td>False</td></tr>\n",
       "</table></div>"
      ],
      "text/plain": [
       "<Table length=8>\n",
       "      e_ref              e_min              e_max        ...  sqrt_ts  is_ul\n",
       "       MeV                MeV                MeV         ...                \n",
       "     float64            float64            float64       ...  float32   bool\n",
       "------------------ ------------------ ------------------ ... --------- -----\n",
       " 70.71067811865478  49.99999999999999 100.00000000000004 ...       0.0  True\n",
       "173.20508075688775 100.00000000000004 299.99999999999994 ...       0.0  True\n",
       "  547.722557505166 299.99999999999994  999.9999999999998 ... 1.2146629 False\n",
       "1732.0508075688763  999.9999999999998 2999.9999999999977 ...  5.217925 False\n",
       " 5477.225575051666 2999.9999999999977  10000.00000000001 ... 11.553127 False\n",
       " 17320.50807568877  10000.00000000001 30000.000000000007 ... 12.197048 False\n",
       "54772.255750516626 30000.000000000007 100000.00000000001 ... 12.737162 False\n",
       " 316227.7660168382 100000.00000000001  999999.9999999995 ... 12.315137 False"
      ]
     },
     "metadata": {},
     "output_type": "display_data"
    }
   ],
   "source": [
    "display(table)"
   ]
  },
  {
   "cell_type": "code",
   "execution_count": 22,
   "id": "0408f2fa",
   "metadata": {},
   "outputs": [],
   "source": [
    "# Units of the flux point tables\n",
    "e_ref_unit = u.TeV\n",
    "dnde_unit  = u.erg / (u.cm**2 * u.s)\n",
    "\n",
    "table['e_ref'] = table['e_ref'].to(e_ref_unit)\n",
    "table['e2dnde'] = table['e2dnde'].to(dnde_unit)\n",
    "table['e2dnde_errp'] = table['e2dnde_errp'].to(dnde_unit)\n",
    "table['e2dnde_errn'] = table['e2dnde_errn'].to(dnde_unit)\n",
    "\n",
    "if catalog_tag != \"gamma-cat\":\n",
    "    table['e_min'] = table['e_min'].to(e_ref_unit)\n",
    "    table['e_max'] = table['e_max'].to(e_ref_unit)\n",
    "    table['e2dnde_ul'] = table['e2dnde_ul'].to(dnde_unit)"
   ]
  },
  {
   "cell_type": "code",
   "execution_count": 23,
   "id": "84344ace",
   "metadata": {},
   "outputs": [
    {
     "data": {
      "text/html": [
       "<div><i>Table length=8</i>\n",
       "<table id=\"table140038286673472\" class=\"table-striped table-bordered table-condensed\">\n",
       "<thead><tr><th>e_ref</th><th>e_min</th><th>e_max</th><th>e2dnde</th><th>e2dnde_errp</th><th>e2dnde_errn</th><th>e2dnde_ul</th><th>sqrt_ts</th><th>is_ul</th></tr></thead>\n",
       "<thead><tr><th>TeV</th><th>TeV</th><th>TeV</th><th>erg / (cm2 s)</th><th>erg / (cm2 s)</th><th>erg / (cm2 s)</th><th>erg / (cm2 s)</th><th></th><th></th></tr></thead>\n",
       "<thead><tr><th>float64</th><th>float64</th><th>float64</th><th>float64</th><th>float64</th><th>float64</th><th>float64</th><th>float32</th><th>bool</th></tr></thead>\n",
       "<tr><td>7.071067811865478e-05</td><td>4.999999999999999e-05</td><td>0.00010000000000000003</td><td>5.2581186094147485e-14</td><td>6.329352318628927e-11</td><td>nan</td><td>1.266396278129659e-10</td><td>0.0</td><td>True</td></tr>\n",
       "<tr><td>0.00017320508075688776</td><td>0.00010000000000000003</td><td>0.0002999999999999999</td><td>3.3355477012207994e-13</td><td>2.4584774741271777e-11</td><td>nan</td><td>4.9503106020069295e-11</td><td>0.0</td><td>True</td></tr>\n",
       "<tr><td>0.000547722557505166</td><td>0.0002999999999999999</td><td>0.0009999999999999998</td><td>6.9293909418101384e-12</td><td>5.6325913216613455e-12</td><td>5.7239808874236345e-12</td><td>nan</td><td>1.2146629</td><td>False</td></tr>\n",
       "<tr><td>0.0017320508075688763</td><td>0.0009999999999999998</td><td>0.0029999999999999975</td><td>1.2802518648234113e-11</td><td>2.501132824027844e-12</td><td>2.4742459270931983e-12</td><td>nan</td><td>5.217925</td><td>False</td></tr>\n",
       "<tr><td>0.005477225575051666</td><td>0.0029999999999999975</td><td>0.010000000000000009</td><td>2.4676278946517167e-11</td><td>2.2329923062049757e-12</td><td>2.2329923062049757e-12</td><td>nan</td><td>11.553127</td><td>False</td></tr>\n",
       "<tr><td>0.01732050807568877</td><td>0.010000000000000009</td><td>0.030000000000000006</td><td>3.402455275183827e-11</td><td>3.047680492192693e-12</td><td>3.047680492192693e-12</td><td>nan</td><td>12.197048</td><td>False</td></tr>\n",
       "<tr><td>0.05477225575051663</td><td>0.030000000000000006</td><td>0.1</td><td>4.794144558437695e-11</td><td>4.451034767352409e-12</td><td>4.451034767352409e-12</td><td>nan</td><td>12.737162</td><td>False</td></tr>\n",
       "<tr><td>0.31622776601683816</td><td>0.1</td><td>0.9999999999999994</td><td>5.843435942961431e-11</td><td>6.4579503823217114e-12</td><td>6.178517544254595e-12</td><td>nan</td><td>12.315137</td><td>False</td></tr>\n",
       "</table></div>"
      ],
      "text/plain": [
       "<Table length=8>\n",
       "        e_ref                  e_min          ...  sqrt_ts  is_ul\n",
       "         TeV                    TeV           ...                \n",
       "       float64                float64         ...  float32   bool\n",
       "---------------------- ---------------------- ... --------- -----\n",
       " 7.071067811865478e-05  4.999999999999999e-05 ...       0.0  True\n",
       "0.00017320508075688776 0.00010000000000000003 ...       0.0  True\n",
       "  0.000547722557505166  0.0002999999999999999 ... 1.2146629 False\n",
       " 0.0017320508075688763  0.0009999999999999998 ...  5.217925 False\n",
       "  0.005477225575051666  0.0029999999999999975 ... 11.553127 False\n",
       "   0.01732050807568877   0.010000000000000009 ... 12.197048 False\n",
       "   0.05477225575051663   0.030000000000000006 ... 12.737162 False\n",
       "   0.31622776601683816                    0.1 ... 12.315137 False"
      ]
     },
     "metadata": {},
     "output_type": "display_data"
    }
   ],
   "source": [
    "display(table)"
   ]
  },
  {
   "cell_type": "code",
   "execution_count": null,
   "id": "576eef47",
   "metadata": {},
   "outputs": [],
   "source": []
  },
  {
   "cell_type": "code",
   "execution_count": null,
   "id": "027a8082",
   "metadata": {},
   "outputs": [],
   "source": []
  },
  {
   "cell_type": "code",
   "execution_count": 24,
   "id": "a41e11f8",
   "metadata": {},
   "outputs": [
    {
     "name": "stdout",
     "output_type": "stream",
     "text": [
      "Directory 'analysis/flux_points_tables' created\n"
     ]
    }
   ],
   "source": [
    "# Creating the directories to save the flux points tables with \n",
    "dir_analysis = \"analysis\"\n",
    "dir_flux_points_tables = \"flux_points_tables\"\n",
    "\n",
    "path_analysis, path_flux_points_tables_analysis = mkdir_sub_directory(\n",
    "    dir_analysis, \n",
    "    dir_flux_points_tables\n",
    ")"
   ]
  },
  {
   "cell_type": "code",
   "execution_count": null,
   "id": "81977062",
   "metadata": {},
   "outputs": [],
   "source": []
  },
  {
   "cell_type": "code",
   "execution_count": 25,
   "id": "29dde1ed",
   "metadata": {},
   "outputs": [
    {
     "data": {
      "text/plain": [
       "PosixPath('analysis/flux_points_tables')"
      ]
     },
     "execution_count": 25,
     "metadata": {},
     "output_type": "execute_result"
    }
   ],
   "source": [
    "path_flux_points_tables_analysis"
   ]
  },
  {
   "cell_type": "code",
   "execution_count": 26,
   "id": "227268b6",
   "metadata": {},
   "outputs": [],
   "source": [
    "\n",
    "    \n",
    "# source_range = range(len(df_fp))\n",
    "# for src_index in source_range:\n",
    "# #     src_ds = []\n",
    "\n",
    "#     LHAASO_txt = df_fp[\"LHAASO_txt\"][src_index]\n",
    "\n",
    "#     src_txt = df_fp[\"source_txt\"][src_index]\n",
    "\n",
    "#     k_range = range(len(ds_fp[src_index]))\n",
    "#     for k in k_range: \n",
    "\n",
    "#         catalog_tag = df_fp[\"catalog\"][src_index][k]\n",
    "# #         ds_name = ds_fp[src_index][k].name\n",
    "\n",
    "#         file_name = f'{LHAASO_txt}_{src_txt}_{catalog_tag}{format_fits}'\n",
    "#         file_path = make_path(f\"{path_flux_points_tables}/{file_name}\")\n",
    "#         flux_points = FluxPoints.read(file_path)\n",
    "        \n",
    "#         ds = FluxPointsDataset(data=flux_points_energy, \n",
    "#                     name=None\n",
    "#                 )\n",
    "\n",
    "\n",
    "\n",
    "#         for m, e_ref in enumerate(flux_points.energy_ref):\n",
    "#             if e_ref > e_ref_min:\n",
    "#                 mask_energy[m] = True\n",
    "#         print(ds_name, src_txt)        \n",
    "#         flux_points_mask = flux_points.to_table()[mask_energy]\n",
    "#         flux_points_energy = FluxPoints.from_table(flux_points_mask)\n",
    "\n",
    "#         ds = FluxPointsDataset(\n",
    "#                             data=flux_points_energy, \n",
    "#                             name=None\n",
    "#                         )\n",
    "\n",
    "#         table = ds.data.to_table(\n",
    "#                             sed_type = sed_type, \n",
    "#                             formatted = True\n",
    "#                         )\n",
    "#         src_ds.append(ds)\n",
    "\n",
    "#         file_name = f'{LHAASO_txt}_{src_txt}_{catalog_tag}_e_ref_min_{e_ref_min_name}{format_fits}'\n",
    "#         path_os = os.path.abspath(\n",
    "#             os.path.join(\n",
    "#                 f\"{path_flux_points_figures}/{file_name}\"\n",
    "#             )\n",
    "#         )\n",
    "\n",
    "#         if path_os not in sys.path:\n",
    "#             sys.path.append(path_os)\n",
    "\n",
    "#         # table.write(f\"{path_os}{format_csv}\",format='ascii.ecsv', overwrite=True)\n",
    "#         table.write(f\"{path_os}\",format='fits', overwrite=True)\n",
    "# #         print(f\"{file_name}\")\n",
    "#         ds_fp_cut.append(src_ds)\n",
    "#     return ds_fp_cut"
   ]
  },
  {
   "cell_type": "code",
   "execution_count": null,
   "id": "353b0755",
   "metadata": {},
   "outputs": [],
   "source": []
  },
  {
   "cell_type": "code",
   "execution_count": 27,
   "id": "357b337d",
   "metadata": {},
   "outputs": [
    {
     "name": "stderr",
     "output_type": "stream",
     "text": [
      "No reference model set for FluxMaps. Assuming point source with E^-2 spectrum.\n",
      "No reference model set for FluxMaps. Assuming point source with E^-2 spectrum.\n",
      "No reference model set for FluxMaps. Assuming point source with E^-2 spectrum.\n",
      "No reference model set for FluxMaps. Assuming point source with E^-2 spectrum.\n",
      "No reference model set for FluxMaps. Assuming point source with E^-2 spectrum.\n",
      "No reference model set for FluxMaps. Assuming point source with E^-2 spectrum.\n",
      "No reference model set for FluxMaps. Assuming point source with E^-2 spectrum.\n",
      "No reference model set for FluxMaps. Assuming point source with E^-2 spectrum.\n",
      "No reference model set for FluxMaps. Assuming point source with E^-2 spectrum.\n",
      "No reference model set for FluxMaps. Assuming point source with E^-2 spectrum.\n",
      "No reference model set for FluxMaps. Assuming point source with E^-2 spectrum.\n",
      "No reference model set for FluxMaps. Assuming point source with E^-2 spectrum.\n",
      "No reference model set for FluxMaps. Assuming point source with E^-2 spectrum.\n",
      "No reference model set for FluxMaps. Assuming point source with E^-2 spectrum.\n",
      "No reference model set for FluxMaps. Assuming point source with E^-2 spectrum.\n",
      "No reference model set for FluxMaps. Assuming point source with E^-2 spectrum.\n",
      "No reference model set for FluxMaps. Assuming point source with E^-2 spectrum.\n",
      "No reference model set for FluxMaps. Assuming point source with E^-2 spectrum.\n",
      "No reference model set for FluxMaps. Assuming point source with E^-2 spectrum.\n"
     ]
    }
   ],
   "source": [
    "source_range = range(len(df_fp))\n",
    "for src_index in source_range:\n",
    "    source_identification(src_index)\n",
    "\n",
    "    k_range = range(len(ds_fp[src_index]))\n",
    "    for k in k_range: \n",
    "\n",
    "        catalog_tag = df_fp[\"catalog\"][src_index][k]\n",
    "\n",
    "        file_name = f'{LHAASO_txt}_{src_txt}_{catalog_tag}{format_fits}'\n",
    "        file_path = make_path(f\"{path_flux_points_tables}/{file_name}\")\n",
    "        flux_points = FluxPoints.read(file_path)\n",
    "#         print(type(flux_points))\n",
    "        \n",
    "        table = flux_points.to_table(sed_type = sed_type, formatted = True)\n",
    "#         print(file_path)\n",
    "        \n",
    "        table['e_ref'] = table['e_ref'].to(e_ref_unit)\n",
    "        table['e2dnde'] = table['e2dnde'].to(dnde_unit)\n",
    "        table['e2dnde_errp'] = table['e2dnde_errp'].to(dnde_unit)\n",
    "        table['e2dnde_errn'] = table['e2dnde_errn'].to(dnde_unit)\n",
    "\n",
    "        if catalog_tag != \"gamma-cat\":\n",
    "            table['e_min'] = table['e_min'].to(e_ref_unit)\n",
    "            table['e_max'] = table['e_max'].to(e_ref_unit)\n",
    "            table['e2dnde_ul'] = table['e2dnde_ul'].to(dnde_unit)\n",
    "            \n",
    "        # Writes the flux points table in the fits format\n",
    "        file_name = f'{LHAASO_txt}_{src_txt}_{catalog_tag}{format_fits}'\n",
    "        path_os = os.path.abspath(\n",
    "            os.path.join(\n",
    "                f\"{path_flux_points_tables_analysis}/{file_name}\"\n",
    "            )\n",
    "        )      \n",
    "\n",
    "        if path_os not in sys.path:\n",
    "            sys.path.append(path_os)\n",
    "\n",
    "        table.write(\n",
    "            f\"{path_os}\",\n",
    "            format = 'fits', \n",
    "            overwrite = True\n",
    "        )"
   ]
  },
  {
   "cell_type": "code",
   "execution_count": null,
   "id": "94a00cfd",
   "metadata": {},
   "outputs": [],
   "source": []
  },
  {
   "cell_type": "code",
   "execution_count": 28,
   "id": "3d8ea0b7",
   "metadata": {
    "scrolled": true
   },
   "outputs": [
    {
     "name": "stderr",
     "output_type": "stream",
     "text": [
      "No reference model set for FluxMaps. Assuming point source with E^-2 spectrum.\n"
     ]
    }
   ],
   "source": [
    "src_index = 0\n",
    "source_identification(src_index)\n",
    "catalog_tag = df_fp[\"catalog\"][src_index][0]\n",
    "\n",
    "file_name = f'{LHAASO_txt}_{src_txt}_{catalog_tag}{format_fits}'\n",
    "file_path = make_path(f\"{path_flux_points_tables}/{file_name}\")\n",
    "flux_points = FluxPoints.read(file_path)\n",
    "table = flux_points.to_table()"
   ]
  },
  {
   "cell_type": "code",
   "execution_count": 29,
   "id": "ed90a29e",
   "metadata": {},
   "outputs": [
    {
     "data": {
      "text/html": [
       "&lt;Column name=&apos;e2dnde&apos; dtype=&apos;float64&apos; unit=&apos;TeV / (cm2 s)&apos; length=11&gt;\n",
       "<table>\n",
       "<tr><td>2.6479734514473474e-11</td></tr>\n",
       "<tr><td>2.4009052019210835e-11</td></tr>\n",
       "<tr><td>2.3759736432297907e-11</td></tr>\n",
       "<tr><td>1.9967293021000508e-11</td></tr>\n",
       "<tr><td>1.6199348761020104e-11</td></tr>\n",
       "<tr><td>1.5246567170533285e-11</td></tr>\n",
       "<tr><td>1.0900050755492023e-11</td></tr>\n",
       "<tr><td>8.25903664302632e-12</td></tr>\n",
       "<tr><td>7.360350812019913e-12</td></tr>\n",
       "<tr><td>5.067702742796993e-12</td></tr>\n",
       "<tr><td>2.289530110936902e-12</td></tr>\n",
       "</table>"
      ],
      "text/plain": [
       "<Column name='e2dnde' dtype='float64' unit='TeV / (cm2 s)' length=11>\n",
       "2.6479734514473474e-11\n",
       "2.4009052019210835e-11\n",
       "2.3759736432297907e-11\n",
       "1.9967293021000508e-11\n",
       "1.6199348761020104e-11\n",
       "1.5246567170533285e-11\n",
       "1.0900050755492023e-11\n",
       "  8.25903664302632e-12\n",
       " 7.360350812019913e-12\n",
       " 5.067702742796993e-12\n",
       " 2.289530110936902e-12"
      ]
     },
     "execution_count": 29,
     "metadata": {},
     "output_type": "execute_result"
    }
   ],
   "source": [
    "table['e2dnde']"
   ]
  },
  {
   "cell_type": "code",
   "execution_count": 30,
   "id": "bbddbc67",
   "metadata": {},
   "outputs": [
    {
     "name": "stderr",
     "output_type": "stream",
     "text": [
      "No reference model set for FluxMaps. Assuming point source with E^-2 spectrum.\n"
     ]
    }
   ],
   "source": [
    "src_index = 0\n",
    "source_identification(src_index)\n",
    "catalog_tag = df_fp[\"catalog\"][src_index][0]\n",
    "\n",
    "file_name = f'{LHAASO_txt}_{src_txt}_{catalog_tag}{format_fits}'\n",
    "file_path = make_path(f\"{path_flux_points_tables_analysis}/{file_name}\")\n",
    "flux_points = FluxPoints.read(file_path)\n",
    "table2 = flux_points.to_table()"
   ]
  },
  {
   "cell_type": "code",
   "execution_count": 31,
   "id": "2e6bf3ea",
   "metadata": {
    "scrolled": true
   },
   "outputs": [
    {
     "data": {
      "text/html": [
       "<div><i>Table length=11</i>\n",
       "<table id=\"table140038281074768\" class=\"table-striped table-bordered table-condensed\">\n",
       "<thead><tr><th>e_ref</th><th>e2dnde</th><th>e2dnde_errp</th><th>e2dnde_errn</th><th>is_ul</th></tr></thead>\n",
       "<thead><tr><th>TeV</th><th>TeV / (cm2 s)</th><th>TeV / (cm2 s)</th><th>TeV / (cm2 s)</th><th></th></tr></thead>\n",
       "<thead><tr><th>float64</th><th>float64</th><th>float64</th><th>float64</th><th>bool</th></tr></thead>\n",
       "<tr><td>0.27761900424957275</td><td>2.6479734514473474e-11</td><td>1.736030761165361e-12</td><td>1.7353678807888705e-12</td><td>False</td></tr>\n",
       "<tr><td>0.4302450120449066</td><td>2.4009052019210835e-11</td><td>9.936153475961044e-13</td><td>9.9308229503768e-13</td><td>False</td></tr>\n",
       "<tr><td>0.6917189955711365</td><td>2.3759736432297907e-11</td><td>8.061445508076921e-13</td><td>8.054028741777694e-13</td><td>False</td></tr>\n",
       "<tr><td>1.114240050315857</td><td>1.996729302100051e-11</td><td>7.488380592888212e-13</td><td>7.47777759565541e-13</td><td>False</td></tr>\n",
       "<tr><td>1.79312002658844</td><td>1.6199348761020104e-11</td><td>7.621691458852759e-13</td><td>7.607801440281829e-13</td><td>False</td></tr>\n",
       "<tr><td>2.888400077819824</td><td>1.5246567170533285e-11</td><td>8.220431818929283e-13</td><td>8.199641666765424e-13</td><td>False</td></tr>\n",
       "<tr><td>4.652699947357178</td><td>1.0900050755492023e-11</td><td>9.098255369876038e-13</td><td>9.073014428927898e-13</td><td>False</td></tr>\n",
       "<tr><td>7.501949787139891</td><td>8.25903664302632e-12</td><td>9.91398403859822e-13</td><td>9.876333019451728e-13</td><td>False</td></tr>\n",
       "<tr><td>12.084300041198729</td><td>7.360350812019913e-12</td><td>1.0512985204965873e-12</td><td>1.0445430556064622e-12</td><td>False</td></tr>\n",
       "<tr><td>19.46570014953613</td><td>5.067702742796992e-12</td><td>1.1693762752942225e-12</td><td>1.159130437858196e-12</td><td>False</td></tr>\n",
       "<tr><td>31.386100769042965</td><td>2.289530110936902e-12</td><td>1.0915456814760415e-12</td><td>1.0766117735109943e-12</td><td>False</td></tr>\n",
       "</table></div>"
      ],
      "text/plain": [
       "<Table length=11>\n",
       "       e_ref                e2dnde         ...      e2dnde_errn       is_ul\n",
       "        TeV             TeV / (cm2 s)      ...     TeV / (cm2 s)           \n",
       "      float64              float64         ...        float64          bool\n",
       "------------------- ---------------------- ... ---------------------- -----\n",
       "0.27761900424957275 2.6479734514473474e-11 ... 1.7353678807888705e-12 False\n",
       " 0.4302450120449066 2.4009052019210835e-11 ...    9.9308229503768e-13 False\n",
       " 0.6917189955711365 2.3759736432297907e-11 ...  8.054028741777694e-13 False\n",
       "  1.114240050315857  1.996729302100051e-11 ...   7.47777759565541e-13 False\n",
       "   1.79312002658844 1.6199348761020104e-11 ...  7.607801440281829e-13 False\n",
       "  2.888400077819824 1.5246567170533285e-11 ...  8.199641666765424e-13 False\n",
       "  4.652699947357178 1.0900050755492023e-11 ...  9.073014428927898e-13 False\n",
       "  7.501949787139891   8.25903664302632e-12 ...  9.876333019451728e-13 False\n",
       " 12.084300041198729  7.360350812019913e-12 ... 1.0445430556064622e-12 False\n",
       "  19.46570014953613  5.067702742796992e-12 ...  1.159130437858196e-12 False\n",
       " 31.386100769042965  2.289530110936902e-12 ... 1.0766117735109943e-12 False"
      ]
     },
     "metadata": {},
     "output_type": "display_data"
    }
   ],
   "source": [
    "display(table2)"
   ]
  },
  {
   "cell_type": "code",
   "execution_count": 32,
   "id": "2226597e",
   "metadata": {},
   "outputs": [
    {
     "name": "stderr",
     "output_type": "stream",
     "text": [
      "No reference model set for FluxMaps. Assuming point source with E^-2 spectrum.\n"
     ]
    }
   ],
   "source": [
    "flux_points = FluxPoints.from_table(table)"
   ]
  },
  {
   "cell_type": "code",
   "execution_count": 33,
   "id": "b1914b1b",
   "metadata": {},
   "outputs": [
    {
     "data": {
      "text/plain": [
       "<AxesSubplot: xlabel='Energy [TeV]', ylabel='e2dnde [erg / (cm2 s)]'>"
      ]
     },
     "execution_count": 33,
     "metadata": {},
     "output_type": "execute_result"
    },
    {
     "data": {
      "image/png": "[encoded data removed]",
      "text/plain": [
       "<Figure size 640x480 with 1 Axes>"
      ]
     },
     "metadata": {},
     "output_type": "display_data"
    }
   ],
   "source": [
    "flux_points.plot()"
   ]
  },
  {
   "cell_type": "code",
   "execution_count": 34,
   "id": "38a02cac",
   "metadata": {},
   "outputs": [
    {
     "data": {
      "text/latex": [
       "$[0.277619,~0.43024501,~0.691719,~1.1142401,~1.79312,~2.8884001,~4.6526999,~7.5019498,~12.0843,~19.4657,~31.386101] \\; \\mathrm{TeV}$"
      ],
      "text/plain": [
       "<Quantity [ 0.277619  ,  0.43024501,  0.691719  ,  1.11424005,  1.79312003,\n",
       "            2.88840008,  4.65269995,  7.50194979, 12.08430004, 19.46570015,\n",
       "           31.38610077] TeV>"
      ]
     },
     "execution_count": 34,
     "metadata": {},
     "output_type": "execute_result"
    }
   ],
   "source": [
    "table[\"e_ref\"].to(u.TeV)"
   ]
  },
  {
   "cell_type": "code",
   "execution_count": 35,
   "id": "fe88157c",
   "metadata": {},
   "outputs": [
    {
     "data": {
      "text/html": [
       "<div><i>Table length=11</i>\n",
       "<table id=\"table140038281680064\" class=\"table-striped table-bordered table-condensed\">\n",
       "<thead><tr><th>e_ref</th><th>e2dnde</th><th>e2dnde_errp</th><th>e2dnde_errn</th><th>is_ul</th></tr></thead>\n",
       "<thead><tr><th>TeV</th><th>TeV / (cm2 s)</th><th>TeV / (cm2 s)</th><th>TeV / (cm2 s)</th><th></th></tr></thead>\n",
       "<thead><tr><th>float64</th><th>float64</th><th>float64</th><th>float64</th><th>bool</th></tr></thead>\n",
       "<tr><td>0.27761900424957275</td><td>2.6479734514473474e-11</td><td>1.736030761165361e-12</td><td>1.7353678807888707e-12</td><td>False</td></tr>\n",
       "<tr><td>0.4302450120449066</td><td>2.4009052019210835e-11</td><td>9.936153475961044e-13</td><td>9.9308229503768e-13</td><td>False</td></tr>\n",
       "<tr><td>0.6917189955711365</td><td>2.3759736432297907e-11</td><td>8.061445508076921e-13</td><td>8.054028741777694e-13</td><td>False</td></tr>\n",
       "<tr><td>1.114240050315857</td><td>1.9967293021000508e-11</td><td>7.488380592888212e-13</td><td>7.47777759565541e-13</td><td>False</td></tr>\n",
       "<tr><td>1.79312002658844</td><td>1.6199348761020104e-11</td><td>7.621691458852759e-13</td><td>7.60780144028183e-13</td><td>False</td></tr>\n",
       "<tr><td>2.888400077819824</td><td>1.5246567170533285e-11</td><td>8.220431818929284e-13</td><td>8.199641666765424e-13</td><td>False</td></tr>\n",
       "<tr><td>4.652699947357178</td><td>1.0900050755492023e-11</td><td>9.098255369876038e-13</td><td>9.073014428927898e-13</td><td>False</td></tr>\n",
       "<tr><td>7.501949787139891</td><td>8.25903664302632e-12</td><td>9.91398403859822e-13</td><td>9.876333019451728e-13</td><td>False</td></tr>\n",
       "<tr><td>12.084300041198729</td><td>7.360350812019913e-12</td><td>1.0512985204965873e-12</td><td>1.0445430556064622e-12</td><td>False</td></tr>\n",
       "<tr><td>19.46570014953613</td><td>5.067702742796993e-12</td><td>1.1693762752942223e-12</td><td>1.1591304378581962e-12</td><td>False</td></tr>\n",
       "<tr><td>31.386100769042965</td><td>2.289530110936902e-12</td><td>1.0915456814760415e-12</td><td>1.0766117735109943e-12</td><td>False</td></tr>\n",
       "</table></div>"
      ],
      "text/plain": [
       "<Table length=11>\n",
       "       e_ref                e2dnde         ...      e2dnde_errn       is_ul\n",
       "        TeV             TeV / (cm2 s)      ...     TeV / (cm2 s)           \n",
       "      float64              float64         ...        float64          bool\n",
       "------------------- ---------------------- ... ---------------------- -----\n",
       "0.27761900424957275 2.6479734514473474e-11 ... 1.7353678807888707e-12 False\n",
       " 0.4302450120449066 2.4009052019210835e-11 ...    9.9308229503768e-13 False\n",
       " 0.6917189955711365 2.3759736432297907e-11 ...  8.054028741777694e-13 False\n",
       "  1.114240050315857 1.9967293021000508e-11 ...   7.47777759565541e-13 False\n",
       "   1.79312002658844 1.6199348761020104e-11 ...   7.60780144028183e-13 False\n",
       "  2.888400077819824 1.5246567170533285e-11 ...  8.199641666765424e-13 False\n",
       "  4.652699947357178 1.0900050755492023e-11 ...  9.073014428927898e-13 False\n",
       "  7.501949787139891   8.25903664302632e-12 ...  9.876333019451728e-13 False\n",
       " 12.084300041198729  7.360350812019913e-12 ... 1.0445430556064622e-12 False\n",
       "  19.46570014953613  5.067702742796993e-12 ... 1.1591304378581962e-12 False\n",
       " 31.386100769042965  2.289530110936902e-12 ... 1.0766117735109943e-12 False"
      ]
     },
     "execution_count": 35,
     "metadata": {},
     "output_type": "execute_result"
    }
   ],
   "source": [
    "table"
   ]
  },
  {
   "cell_type": "code",
   "execution_count": 36,
   "id": "6cf419cb",
   "metadata": {},
   "outputs": [],
   "source": [
    "table['e_ref'] = table['e_ref'].to(e_ref_unit)"
   ]
  },
  {
   "cell_type": "code",
   "execution_count": 37,
   "id": "6ecbd60f",
   "metadata": {},
   "outputs": [
    {
     "data": {
      "text/html": [
       "&lt;Column name=&apos;e_ref&apos; dtype=&apos;float64&apos; unit=&apos;TeV&apos; length=11&gt;\n",
       "<table>\n",
       "<tr><td>0.27761900424957275</td></tr>\n",
       "<tr><td>0.4302450120449066</td></tr>\n",
       "<tr><td>0.6917189955711365</td></tr>\n",
       "<tr><td>1.114240050315857</td></tr>\n",
       "<tr><td>1.79312002658844</td></tr>\n",
       "<tr><td>2.888400077819824</td></tr>\n",
       "<tr><td>4.652699947357178</td></tr>\n",
       "<tr><td>7.501949787139891</td></tr>\n",
       "<tr><td>12.084300041198729</td></tr>\n",
       "<tr><td>19.46570014953613</td></tr>\n",
       "<tr><td>31.386100769042965</td></tr>\n",
       "</table>"
      ],
      "text/plain": [
       "<Column name='e_ref' dtype='float64' unit='TeV' length=11>\n",
       "0.27761900424957275\n",
       " 0.4302450120449066\n",
       " 0.6917189955711365\n",
       "  1.114240050315857\n",
       "   1.79312002658844\n",
       "  2.888400077819824\n",
       "  4.652699947357178\n",
       "  7.501949787139891\n",
       " 12.084300041198729\n",
       "  19.46570014953613\n",
       " 31.386100769042965"
      ]
     },
     "execution_count": 37,
     "metadata": {},
     "output_type": "execute_result"
    }
   ],
   "source": [
    "table['e_ref']"
   ]
  },
  {
   "cell_type": "code",
   "execution_count": 38,
   "id": "6f0de507",
   "metadata": {},
   "outputs": [
    {
     "data": {
      "text/html": [
       "<div><i>Table length=11</i>\n",
       "<table id=\"table140038281680064\" class=\"table-striped table-bordered table-condensed\">\n",
       "<thead><tr><th>e_ref</th><th>e2dnde</th><th>e2dnde_errp</th><th>e2dnde_errn</th><th>is_ul</th></tr></thead>\n",
       "<thead><tr><th>TeV</th><th>TeV / (cm2 s)</th><th>TeV / (cm2 s)</th><th>TeV / (cm2 s)</th><th></th></tr></thead>\n",
       "<thead><tr><th>float64</th><th>float64</th><th>float64</th><th>float64</th><th>bool</th></tr></thead>\n",
       "<tr><td>0.27761900424957275</td><td>2.6479734514473474e-11</td><td>1.736030761165361e-12</td><td>1.7353678807888707e-12</td><td>False</td></tr>\n",
       "<tr><td>0.4302450120449066</td><td>2.4009052019210835e-11</td><td>9.936153475961044e-13</td><td>9.9308229503768e-13</td><td>False</td></tr>\n",
       "<tr><td>0.6917189955711365</td><td>2.3759736432297907e-11</td><td>8.061445508076921e-13</td><td>8.054028741777694e-13</td><td>False</td></tr>\n",
       "<tr><td>1.114240050315857</td><td>1.9967293021000508e-11</td><td>7.488380592888212e-13</td><td>7.47777759565541e-13</td><td>False</td></tr>\n",
       "<tr><td>1.79312002658844</td><td>1.6199348761020104e-11</td><td>7.621691458852759e-13</td><td>7.60780144028183e-13</td><td>False</td></tr>\n",
       "<tr><td>2.888400077819824</td><td>1.5246567170533285e-11</td><td>8.220431818929284e-13</td><td>8.199641666765424e-13</td><td>False</td></tr>\n",
       "<tr><td>4.652699947357178</td><td>1.0900050755492023e-11</td><td>9.098255369876038e-13</td><td>9.073014428927898e-13</td><td>False</td></tr>\n",
       "<tr><td>7.501949787139891</td><td>8.25903664302632e-12</td><td>9.91398403859822e-13</td><td>9.876333019451728e-13</td><td>False</td></tr>\n",
       "<tr><td>12.084300041198729</td><td>7.360350812019913e-12</td><td>1.0512985204965873e-12</td><td>1.0445430556064622e-12</td><td>False</td></tr>\n",
       "<tr><td>19.46570014953613</td><td>5.067702742796993e-12</td><td>1.1693762752942223e-12</td><td>1.1591304378581962e-12</td><td>False</td></tr>\n",
       "<tr><td>31.386100769042965</td><td>2.289530110936902e-12</td><td>1.0915456814760415e-12</td><td>1.0766117735109943e-12</td><td>False</td></tr>\n",
       "</table></div>"
      ],
      "text/plain": [
       "<Table length=11>\n",
       "       e_ref                e2dnde         ...      e2dnde_errn       is_ul\n",
       "        TeV             TeV / (cm2 s)      ...     TeV / (cm2 s)           \n",
       "      float64              float64         ...        float64          bool\n",
       "------------------- ---------------------- ... ---------------------- -----\n",
       "0.27761900424957275 2.6479734514473474e-11 ... 1.7353678807888707e-12 False\n",
       " 0.4302450120449066 2.4009052019210835e-11 ...    9.9308229503768e-13 False\n",
       " 0.6917189955711365 2.3759736432297907e-11 ...  8.054028741777694e-13 False\n",
       "  1.114240050315857 1.9967293021000508e-11 ...   7.47777759565541e-13 False\n",
       "   1.79312002658844 1.6199348761020104e-11 ...   7.60780144028183e-13 False\n",
       "  2.888400077819824 1.5246567170533285e-11 ...  8.199641666765424e-13 False\n",
       "  4.652699947357178 1.0900050755492023e-11 ...  9.073014428927898e-13 False\n",
       "  7.501949787139891   8.25903664302632e-12 ...  9.876333019451728e-13 False\n",
       " 12.084300041198729  7.360350812019913e-12 ... 1.0445430556064622e-12 False\n",
       "  19.46570014953613  5.067702742796993e-12 ... 1.1591304378581962e-12 False\n",
       " 31.386100769042965  2.289530110936902e-12 ... 1.0766117735109943e-12 False"
      ]
     },
     "metadata": {},
     "output_type": "display_data"
    }
   ],
   "source": [
    "display(table)"
   ]
  },
  {
   "cell_type": "code",
   "execution_count": 39,
   "id": "fb0302fd",
   "metadata": {},
   "outputs": [],
   "source": [
    "catalog_tag = catalog_tags[4]\n",
    "catalog = CATALOG_REGISTRY.get_cls(catalog_tag)()\n",
    "src = catalog[\"HESS J1825-137\"]\n",
    "table = src.flux_points.to_table(sed_type = sed_type)"
   ]
  },
  {
   "cell_type": "code",
   "execution_count": 40,
   "id": "040f5e1d",
   "metadata": {
    "scrolled": true
   },
   "outputs": [
    {
     "name": "stderr",
     "output_type": "stream",
     "text": [
      "No reference model set for FluxMaps. Assuming point source with E^-2 spectrum.\n"
     ]
    },
    {
     "data": {
      "text/plain": [
       "<TableColumns names=('e_ref','e_min','e_max','e2dnde','e2dnde_errp','e2dnde_errn','e2dnde_ul','sqrt_ts','is_ul')>"
      ]
     },
     "metadata": {},
     "output_type": "display_data"
    },
    {
     "data": {
      "text/plain": [
       "'3fhl'"
      ]
     },
     "metadata": {},
     "output_type": "display_data"
    }
   ],
   "source": [
    "src_index = 0\n",
    "source_identification(src_index)\n",
    "catalog_tag = df_fp[\"catalog\"][src_index][5]\n",
    "catalog = CATALOG_REGISTRY.get_cls(catalog_tag)()\n",
    "src = catalog[src_name]\n",
    "\n",
    "\n",
    "file_name = f'{LHAASO_txt}_{src_txt}_{catalog_tag}{format_fits}'\n",
    "file_path = make_path(f\"{path_flux_points_tables}/{file_name}\")\n",
    "flux_points = FluxPoints.read(file_path)\n",
    "table = flux_points.to_table()\n",
    "table = src.flux_points.to_table(sed_type = sed_type)\n",
    "display(table.columns, catalog_tag)"
   ]
  },
  {
   "cell_type": "markdown",
   "id": "4f324f66",
   "metadata": {},
   "source": [
    "<TableColumns names=('e_ref','e2dnde','e2dnde_errp','e2dnde_errn','is_ul')>\n",
    "'gamma-cat'\n",
    "    \n",
    "<TableColumns names=('e_ref','e_min','e_max','e2dnde','e2dnde_errp','e2dnde_errn','e2dnde_ul','is_ul')>\n",
    "'hgps'\n",
    "    \n",
    "<TableColumns names=('e_ref','e_min','e_max','e2dnde','e2dnde_errp','e2dnde_errn','e2dnde_ul','sqrt_ts','is_ul')>\n",
    "'3fgl'\n",
    "    \n",
    "<TableColumns names=('e_ref','e_min','e_max','e2dnde','e2dnde_errp','e2dnde_errn','e2dnde_ul','sqrt_ts','is_ul')>\n",
    "'4fgl'\n",
    "    \n",
    "<TableColumns names=('e_ref','e_min','e_max','e2dnde','e2dnde_errp','e2dnde_errn','e2dnde_ul','is_ul')>\n",
    "'2fhl'\n",
    "    \n",
    "<TableColumns names=('e_ref','e_min','e_max','e2dnde','e2dnde_errp','e2dnde_errn','e2dnde_ul','sqrt_ts','is_ul')>\n",
    "'3fhl'"
   ]
  },
  {
   "cell_type": "code",
   "execution_count": null,
   "id": "552bc9f5",
   "metadata": {},
   "outputs": [],
   "source": [
    "\n",
    "\n",
    "    "
   ]
  },
  {
   "cell_type": "code",
   "execution_count": 41,
   "id": "86a42e7c",
   "metadata": {},
   "outputs": [
    {
     "data": {
      "text/html": [
       "<div><i>Table length=5</i>\n",
       "<table id=\"table140038286946656\" class=\"table-striped table-bordered table-condensed\">\n",
       "<thead><tr><th>e_ref</th><th>e_min</th><th>e_max</th><th>e2dnde</th><th>e2dnde_errp</th><th>e2dnde_errn</th><th>e2dnde_ul</th><th>sqrt_ts</th><th>is_ul</th></tr></thead>\n",
       "<thead><tr><th>GeV</th><th>GeV</th><th>GeV</th><th>GeV / (cm2 s)</th><th>GeV / (cm2 s)</th><th>GeV / (cm2 s)</th><th>GeV / (cm2 s)</th><th></th><th></th></tr></thead>\n",
       "<thead><tr><th>float64</th><th>float64</th><th>float64</th><th>float64</th><th>float64</th><th>float64</th><th>float64</th><th>float32</th><th>bool</th></tr></thead>\n",
       "<tr><td>14.142135623730955</td><td>10.000000000000002</td><td>19.999999999999996</td><td>1.655960126409686e-08</td><td>2.49181902800831e-09</td><td>2.4065416328604926e-09</td><td>nan</td><td>7.4071417</td><td>False</td></tr>\n",
       "<tr><td>31.62277660168379</td><td>19.999999999999996</td><td>49.99999999999999</td><td>2.3449786806637767e-08</td><td>2.9306777695878095e-09</td><td>2.892018583973119e-09</td><td>nan</td><td>9.3439455</td><td>False</td></tr>\n",
       "<tr><td>86.60254037844388</td><td>49.99999999999999</td><td>149.99999999999997</td><td>2.867526880212117e-08</td><td>4.151607522676215e-09</td><td>3.958107408618686e-09</td><td>nan</td><td>8.718214</td><td>False</td></tr>\n",
       "<tr><td>273.86127875258296</td><td>149.99999999999997</td><td>499.99999999999983</td><td>3.700340793810991e-08</td><td>6.515169080125563e-09</td><td>6.053904272845292e-09</td><td>nan</td><td>8.078102</td><td>False</td></tr>\n",
       "<tr><td>999.9999999999998</td><td>499.99999999999983</td><td>1999.9999999999998</td><td>2.9364044933936206e-08</td><td>1.1213107658151257e-08</td><td>1.0480254855578688e-08</td><td>nan</td><td>3.513798</td><td>False</td></tr>\n",
       "</table></div>"
      ],
      "text/plain": [
       "<Table length=5>\n",
       "      e_ref              e_min              e_max        ...  sqrt_ts  is_ul\n",
       "       GeV                GeV                GeV         ...                \n",
       "     float64            float64            float64       ...  float32   bool\n",
       "------------------ ------------------ ------------------ ... --------- -----\n",
       "14.142135623730955 10.000000000000002 19.999999999999996 ... 7.4071417 False\n",
       " 31.62277660168379 19.999999999999996  49.99999999999999 ... 9.3439455 False\n",
       " 86.60254037844388  49.99999999999999 149.99999999999997 ...  8.718214 False\n",
       "273.86127875258296 149.99999999999997 499.99999999999983 ...  8.078102 False\n",
       " 999.9999999999998 499.99999999999983 1999.9999999999998 ...  3.513798 False"
      ]
     },
     "metadata": {},
     "output_type": "display_data"
    }
   ],
   "source": [
    "display(table)"
   ]
  },
  {
   "cell_type": "code",
   "execution_count": 42,
   "id": "a7202412",
   "metadata": {},
   "outputs": [
    {
     "ename": "ValueError",
     "evalue": "Data type <class 'pathlib.PosixPath'> not allowed to init Table",
     "output_type": "error",
     "traceback": [
      "\u001b[0;31m---------------------------------------------------------------------------\u001b[0m",
      "\u001b[0;31mValueError\u001b[0m                                Traceback (most recent call last)",
      "Input \u001b[0;32mIn [42]\u001b[0m, in \u001b[0;36m<cell line: 7>\u001b[0;34m()\u001b[0m\n\u001b[1;32m      5\u001b[0m file_name \u001b[38;5;241m=\u001b[39m \u001b[38;5;124mf\u001b[39m\u001b[38;5;124m'\u001b[39m\u001b[38;5;132;01m{\u001b[39;00mLHAASO_txt\u001b[38;5;132;01m}\u001b[39;00m\u001b[38;5;124m_\u001b[39m\u001b[38;5;132;01m{\u001b[39;00msrc_txt\u001b[38;5;132;01m}\u001b[39;00m\u001b[38;5;124m_\u001b[39m\u001b[38;5;132;01m{\u001b[39;00mcatalog_tag\u001b[38;5;132;01m}\u001b[39;00m\u001b[38;5;132;01m{\u001b[39;00mformat_fits\u001b[38;5;132;01m}\u001b[39;00m\u001b[38;5;124m'\u001b[39m\n\u001b[1;32m      6\u001b[0m file_path \u001b[38;5;241m=\u001b[39m make_path(\u001b[38;5;124mf\u001b[39m\u001b[38;5;124m\"\u001b[39m\u001b[38;5;132;01m{\u001b[39;00mpath_flux_points_tables\u001b[38;5;132;01m}\u001b[39;00m\u001b[38;5;124m/\u001b[39m\u001b[38;5;132;01m{\u001b[39;00mfile_name\u001b[38;5;132;01m}\u001b[39;00m\u001b[38;5;124m\"\u001b[39m)\n\u001b[0;32m----> 7\u001b[0m flux_points \u001b[38;5;241m=\u001b[39m \u001b[43mFluxPoints\u001b[49m\u001b[38;5;241;43m.\u001b[39;49m\u001b[43mfrom_table\u001b[49m\u001b[43m(\u001b[49m\u001b[43mfile_path\u001b[49m\u001b[43m)\u001b[49m\n\u001b[1;32m      8\u001b[0m display(flux_points\u001b[38;5;241m.\u001b[39mto_table())\n",
      "File \u001b[0;32m~/anaconda3/envs/gammapy-1.0/lib/python3.9/site-packages/gammapy/estimators/points/core.py:225\u001b[0m, in \u001b[0;36mFluxPoints.from_table\u001b[0;34m(cls, table, sed_type, format, reference_model, gti)\u001b[0m\n\u001b[1;32m    198\u001b[0m \u001b[38;5;129m@classmethod\u001b[39m\n\u001b[1;32m    199\u001b[0m \u001b[38;5;28;01mdef\u001b[39;00m \u001b[38;5;21mfrom_table\u001b[39m(\n\u001b[1;32m    200\u001b[0m     \u001b[38;5;28mcls\u001b[39m, table, sed_type\u001b[38;5;241m=\u001b[39m\u001b[38;5;28;01mNone\u001b[39;00m, \u001b[38;5;28mformat\u001b[39m\u001b[38;5;241m=\u001b[39m\u001b[38;5;124m\"\u001b[39m\u001b[38;5;124mgadf-sed\u001b[39m\u001b[38;5;124m\"\u001b[39m, reference_model\u001b[38;5;241m=\u001b[39m\u001b[38;5;28;01mNone\u001b[39;00m, gti\u001b[38;5;241m=\u001b[39m\u001b[38;5;28;01mNone\u001b[39;00m\n\u001b[1;32m    201\u001b[0m ):\n\u001b[1;32m    202\u001b[0m     \u001b[38;5;124;03m\"\"\"Create flux points from a table. The table column names must be consistent with the\u001b[39;00m\n\u001b[1;32m    203\u001b[0m \u001b[38;5;124;03m    sed_type\u001b[39;00m\n\u001b[1;32m    204\u001b[0m \n\u001b[0;32m   (...)\u001b[0m\n\u001b[1;32m    223\u001b[0m \u001b[38;5;124;03m        Flux points\u001b[39;00m\n\u001b[1;32m    224\u001b[0m \u001b[38;5;124;03m    \"\"\"\u001b[39;00m\n\u001b[0;32m--> 225\u001b[0m     table \u001b[38;5;241m=\u001b[39m \u001b[43mtable_standardise_units_copy\u001b[49m\u001b[43m(\u001b[49m\u001b[43mtable\u001b[49m\u001b[43m)\u001b[49m\n\u001b[1;32m    227\u001b[0m     \u001b[38;5;28;01mif\u001b[39;00m sed_type \u001b[38;5;129;01mis\u001b[39;00m \u001b[38;5;28;01mNone\u001b[39;00m:\n\u001b[1;32m    228\u001b[0m         sed_type \u001b[38;5;241m=\u001b[39m table\u001b[38;5;241m.\u001b[39mmeta\u001b[38;5;241m.\u001b[39mget(\u001b[38;5;124m\"\u001b[39m\u001b[38;5;124mSED_TYPE\u001b[39m\u001b[38;5;124m\"\u001b[39m, \u001b[38;5;28;01mNone\u001b[39;00m)\n",
      "File \u001b[0;32m~/anaconda3/envs/gammapy-1.0/lib/python3.9/site-packages/gammapy/utils/table.py:57\u001b[0m, in \u001b[0;36mtable_standardise_units_copy\u001b[0;34m(table)\u001b[0m\n\u001b[1;32m     41\u001b[0m \u001b[38;5;124;03m\"\"\"Standardise units for all columns in a table in a copy.\u001b[39;00m\n\u001b[1;32m     42\u001b[0m \n\u001b[1;32m     43\u001b[0m \u001b[38;5;124;03mCalls `~gammapy.utils.units.standardise_unit`.\u001b[39;00m\n\u001b[0;32m   (...)\u001b[0m\n\u001b[1;32m     53\u001b[0m \u001b[38;5;124;03m    Copy of the input table with standardised column units\u001b[39;00m\n\u001b[1;32m     54\u001b[0m \u001b[38;5;124;03m\"\"\"\u001b[39;00m\n\u001b[1;32m     55\u001b[0m \u001b[38;5;66;03m# Note: we could add an `inplace` option (or variant of this function)\u001b[39;00m\n\u001b[1;32m     56\u001b[0m \u001b[38;5;66;03m# See https://github.com/astropy/astropy/issues/6098\u001b[39;00m\n\u001b[0;32m---> 57\u001b[0m table \u001b[38;5;241m=\u001b[39m \u001b[43mTable\u001b[49m\u001b[43m(\u001b[49m\u001b[43mtable\u001b[49m\u001b[43m)\u001b[49m\n\u001b[1;32m     58\u001b[0m \u001b[38;5;28;01mreturn\u001b[39;00m table_standardise_units_inplace(table)\n",
      "File \u001b[0;32m~/anaconda3/envs/gammapy-1.0/lib/python3.9/site-packages/astropy/table/table.py:812\u001b[0m, in \u001b[0;36mTable.__init__\u001b[0;34m(self, data, masked, names, dtype, meta, copy, rows, copy_indices, units, descriptions, **kwargs)\u001b[0m\n\u001b[1;32m    809\u001b[0m     data \u001b[38;5;241m=\u001b[39m [[]] \u001b[38;5;241m*\u001b[39m n_cols\n\u001b[1;32m    811\u001b[0m \u001b[38;5;28;01melse\u001b[39;00m:\n\u001b[0;32m--> 812\u001b[0m     \u001b[38;5;28;01mraise\u001b[39;00m \u001b[38;5;167;01mValueError\u001b[39;00m(\u001b[38;5;124mf\u001b[39m\u001b[38;5;124m'\u001b[39m\u001b[38;5;124mData type \u001b[39m\u001b[38;5;132;01m{\u001b[39;00m\u001b[38;5;28mtype\u001b[39m(data)\u001b[38;5;132;01m}\u001b[39;00m\u001b[38;5;124m not allowed to init Table\u001b[39m\u001b[38;5;124m'\u001b[39m)\n\u001b[1;32m    814\u001b[0m \u001b[38;5;66;03m# Set up defaults if names and/or dtype are not specified.\u001b[39;00m\n\u001b[1;32m    815\u001b[0m \u001b[38;5;66;03m# A value of None means the actual value will be inferred\u001b[39;00m\n\u001b[1;32m    816\u001b[0m \u001b[38;5;66;03m# within the appropriate initialization routine, either from\u001b[39;00m\n\u001b[1;32m    817\u001b[0m \u001b[38;5;66;03m# existing specification or auto-generated.\u001b[39;00m\n\u001b[1;32m    819\u001b[0m \u001b[38;5;28;01mif\u001b[39;00m dtype \u001b[38;5;129;01mis\u001b[39;00m \u001b[38;5;28;01mNone\u001b[39;00m:\n",
      "\u001b[0;31mValueError\u001b[0m: Data type <class 'pathlib.PosixPath'> not allowed to init Table"
     ]
    }
   ],
   "source": [
    "src_index = 1\n",
    "source_identification(src_index)\n",
    "catalog_tag = df_fp[\"catalog\"][src_index][1]\n",
    "\n",
    "file_name = f'{LHAASO_txt}_{src_txt}_{catalog_tag}{format_fits}'\n",
    "file_path = make_path(f\"{path_flux_points_tables}/{file_name}\")\n",
    "flux_points = FluxPoints.from_table(file_path)\n",
    "display(flux_points.to_table())"
   ]
  },
  {
   "cell_type": "code",
   "execution_count": null,
   "id": "03ebff55",
   "metadata": {},
   "outputs": [],
   "source": [
    "catalog_tag = catalog_tags[4]\n",
    "catalog = CATALOG_REGISTRY.get_cls(catalog_tag)()\n",
    "src = catalog[\"HESS J1825-137\"]\n",
    "table = src.flux_points.to_table(sed_type = sed_type)"
   ]
  },
  {
   "cell_type": "code",
   "execution_count": null,
   "id": "805c19ab",
   "metadata": {},
   "outputs": [],
   "source": [
    "display(table)"
   ]
  },
  {
   "cell_type": "code",
   "execution_count": null,
   "id": "ed41696b",
   "metadata": {},
   "outputs": [],
   "source": [
    "table[\"e_ref\"].to(u.TeV)"
   ]
  },
  {
   "cell_type": "code",
   "execution_count": null,
   "id": "00265b27",
   "metadata": {},
   "outputs": [],
   "source": [
    "table[\"e_ref\"]"
   ]
  },
  {
   "cell_type": "code",
   "execution_count": null,
   "id": "b027b48c",
   "metadata": {},
   "outputs": [],
   "source": [
    "table['e_ref'] = table['e_ref'].to(e_ref_unit)\n",
    "table['e_ref']"
   ]
  },
  {
   "cell_type": "code",
   "execution_count": null,
   "id": "32bfb2b4",
   "metadata": {
    "scrolled": true
   },
   "outputs": [],
   "source": []
  },
  {
   "cell_type": "code",
   "execution_count": null,
   "id": "f23af3f7",
   "metadata": {},
   "outputs": [],
   "source": [
    "table = src.flux_points.to_table(sed_type = sed_type)\n",
    "table['e_ref']"
   ]
  },
  {
   "cell_type": "code",
   "execution_count": null,
   "id": "a130309a",
   "metadata": {},
   "outputs": [],
   "source": [
    "table"
   ]
  },
  {
   "cell_type": "code",
   "execution_count": null,
   "id": "2ba26ba0",
   "metadata": {},
   "outputs": [],
   "source": [
    "\n"
   ]
  },
  {
   "cell_type": "code",
   "execution_count": null,
   "id": "320a3ea3",
   "metadata": {},
   "outputs": [],
   "source": []
  },
  {
   "cell_type": "code",
   "execution_count": null,
   "id": "d9754ca9",
   "metadata": {},
   "outputs": [],
   "source": [
    "import numpy as np\n",
    "from astropy import units as u\n",
    "from astropy.table import Table\n",
    "from gammapy.estimators import FluxPoints\n",
    "from gammapy.modeling.models import PowerLawSpectralModel\n",
    "table = Table()\n",
    "pwl = PowerLawSpectralModel()\n",
    "e_ref = np.geomspace(1, 100, 7) * u.TeV\n",
    "table[\"e_ref\"] = e_ref\n",
    "table[\"dnde\"] = pwl(e_ref)\n",
    "table[\"dnde_err\"] = pwl.evaluate_error(e_ref)[0]\n",
    "table.meta[\"SED_TYPE\"] = \"dnde\"\n",
    "flux_points = FluxPoints.from_table(table)\n",
    "flux_points.plot(sed_type=\"dnde\") "
   ]
  },
  {
   "cell_type": "code",
   "execution_count": null,
   "id": "b227de28",
   "metadata": {},
   "outputs": [],
   "source": [
    "\n"
   ]
  },
  {
   "cell_type": "code",
   "execution_count": null,
   "id": "5a67b37f",
   "metadata": {},
   "outputs": [],
   "source": [
    "table[\"e_ref\"].to(u.GeV)"
   ]
  },
  {
   "cell_type": "code",
   "execution_count": null,
   "id": "8087fe18",
   "metadata": {},
   "outputs": [],
   "source": [
    "table2 = table\n",
    "table2[\"e_ref\"] = table[\"e_ref\"].to(u.MeV)"
   ]
  },
  {
   "cell_type": "code",
   "execution_count": null,
   "id": "73536acd",
   "metadata": {},
   "outputs": [],
   "source": [
    "table2[\"e_ref\"].unit = 'PeV'\n",
    "table2.meta[\"SED_TYPE\"] = \"2dnde\"\n",
    "table2[\"e_ref\"]"
   ]
  },
  {
   "cell_type": "code",
   "execution_count": null,
   "id": "03263f7c",
   "metadata": {},
   "outputs": [],
   "source": []
  },
  {
   "cell_type": "code",
   "execution_count": null,
   "id": "777628d6",
   "metadata": {},
   "outputs": [],
   "source": []
  },
  {
   "cell_type": "code",
   "execution_count": null,
   "id": "c52506ba",
   "metadata": {},
   "outputs": [],
   "source": [
    "\n"
   ]
  },
  {
   "cell_type": "code",
   "execution_count": null,
   "id": "ae867b95",
   "metadata": {},
   "outputs": [],
   "source": [
    "path_catalogs_data"
   ]
  },
  {
   "cell_type": "code",
   "execution_count": null,
   "id": "d610d96e",
   "metadata": {},
   "outputs": [],
   "source": []
  },
  {
   "cell_type": "code",
   "execution_count": null,
   "id": "70adb8c6",
   "metadata": {},
   "outputs": [],
   "source": [
    "src_index = 6\n",
    "source_identification(src_index)\n",
    "catalog_tag = df_fp[\"catalog\"][src_index][1]\n",
    "\n",
    "file_name = f'{LHAASO_txt}_{src_txt}_{catalog_tag}{format_fits}'\n",
    "file_path = make_path(f\"{path_flux_points_tables}/{file_name}\")\n",
    "flux_points = FluxPoints.read(file_path)\n",
    "table = flux_points.to_table()\n",
    "\n",
    "table1 = table\n",
    "try:\n",
    "    table1['e_ref'] = table['e_ref'].to(e_ref_unit)\n",
    "    table1['e_min'] = table['e_min'].to(e_ref_unit)\n",
    "    table1['e_max'] = table['e_max'].to(e_ref_unit)\n",
    "\n",
    "    table1['e2dnde'] = table['e2dnde'].to(dnde_unit)\n",
    "    table1['e2dnde_errp'] = table['e2dnde_errp'].to(dnde_unit)\n",
    "    table1['e2dnde_errn'] = table['e2dnde_errn'].to(dnde_unit)    \n",
    "    table1['e2dnde_ul'] = table['e2dnde_ul'].to(dnde_unit)\n",
    "    \n",
    "except:\n",
    "\n",
    "    table1['e_ref'] = table['e_ref'].to(e_ref_unit)\n",
    "    table1['e2dnde'] = table['e2dnde'].to(dnde_unit)\n",
    "    table1['e2dnde_errp'] = table['e2dnde_errp'].to(dnde_unit)\n",
    "    table1['e2dnde_errn'] = table['e2dnde_errn'].to(dnde_unit)\n",
    "    \n",
    "########################"
   ]
  },
  {
   "cell_type": "code",
   "execution_count": null,
   "id": "abfe2770",
   "metadata": {},
   "outputs": [],
   "source": [
    "display(table1)\n"
   ]
  },
  {
   "cell_type": "code",
   "execution_count": null,
   "id": "b1440a1c",
   "metadata": {},
   "outputs": [],
   "source": [
    "display(table)"
   ]
  },
  {
   "cell_type": "code",
   "execution_count": null,
   "id": "e8a1c7a8",
   "metadata": {
    "scrolled": true
   },
   "outputs": [],
   "source": [
    "display(ds_fp[0][0].data.to_table(sed_type = sed_type))"
   ]
  },
  {
   "cell_type": "markdown",
   "id": "7ca319ee",
   "metadata": {},
   "source": [
    "### LHAASOJ1825-1326: HESSJ1825-137"
   ]
  },
  {
   "cell_type": "code",
   "execution_count": null,
   "id": "6237ce7e",
   "metadata": {},
   "outputs": [],
   "source": []
  },
  {
   "cell_type": "code",
   "execution_count": null,
   "id": "e4bf0107",
   "metadata": {},
   "outputs": [],
   "source": [
    "# Creating the directories to save the figures\n",
    "dir_flux_points_figures = \"flux_points_figures\"\n",
    "\n",
    "# Figures\n",
    "path_catalogs_data, path_flux_points_figures = mkdir_sub_directory(\n",
    "    dir_catalogs_data, \n",
    "    dir_flux_points_figures\n",
    ")"
   ]
  },
  {
   "cell_type": "code",
   "execution_count": null,
   "id": "d364d62c",
   "metadata": {},
   "outputs": [],
   "source": [
    "path_catalogs_data, path_flux_points_figures = mkdir_sub_directory(\n",
    "    dir_catalogs_data, \n",
    "    dir_flux_points_figures\n",
    ")"
   ]
  },
  {
   "cell_type": "code",
   "execution_count": null,
   "id": "8fc9f974",
   "metadata": {
    "scrolled": true
   },
   "outputs": [],
   "source": [
    "ds_fp[0][0].data.to_table(sed_type = sed_type)"
   ]
  },
  {
   "cell_type": "code",
   "execution_count": null,
   "id": "7ea78372",
   "metadata": {},
   "outputs": [],
   "source": [
    "ee = 7.360350812019913e-12 * u.TeV \n",
    "ee.to(u.erg)"
   ]
  },
  {
   "cell_type": "code",
   "execution_count": null,
   "id": "8a8a5332",
   "metadata": {},
   "outputs": [],
   "source": [
    "ds_fp[0][0].plot_spectrum()\n",
    "plt.grid(True)\n"
   ]
  },
  {
   "cell_type": "code",
   "execution_count": null,
   "id": "3fefae80",
   "metadata": {},
   "outputs": [],
   "source": [
    "ds_fp[0][5].data.to_table(sed_type = sed_type)"
   ]
  },
  {
   "cell_type": "code",
   "execution_count": null,
   "id": "80055943",
   "metadata": {},
   "outputs": [],
   "source": [
    "# to select a source object index: [0-6]\n",
    "src_index = 6\n",
    "\n",
    "source_identification(src_index)\n",
    "\n",
    "ds_src = ds_fp[src_index]\n",
    "datasets = Datasets(ds_src)\n",
    "\n",
    "energy_bounds = [1e-5, 1e3] * u.TeV\n",
    "ylim = [1e-15, 1e-9]\n",
    "\n",
    "plotting_SED_flux_pointing(\n",
    "    sed_type = sed_type, \n",
    "    yaxis_units=\"erg cm-2 s-1\", \n",
    "    energy_bounds=energy_bounds, \n",
    "    ylim=ylim)"
   ]
  },
  {
   "cell_type": "code",
   "execution_count": null,
   "id": "bb5a5c9c",
   "metadata": {},
   "outputs": [],
   "source": [
    "e_ref_min = 10 * u.Unit(\"GeV\")\n",
    "e_ref_min_name = str(e_ref_min).replace(\" \", \"\")"
   ]
  },
  {
   "cell_type": "code",
   "execution_count": null,
   "id": "9f2bf989",
   "metadata": {},
   "outputs": [],
   "source": [
    "dir_flux_points_cut = f\"flux_points_table_e_ref_min_{e_ref_min_name}\"\n",
    "dir_flux_points_cut"
   ]
  },
  {
   "cell_type": "code",
   "execution_count": null,
   "id": "cf26fcc7",
   "metadata": {},
   "outputs": [],
   "source": [
    "# Creating the directories to save the figures\n",
    "dir_analysis = \"analysis\"\n",
    "dir_flux_points_cut = \"flux_points_figures\"\n",
    "\n",
    "# Figures\n",
    "path_catalogs_data, path_flux_points_figures = mkdir_sub_directory(\n",
    "    dir_analysis, \n",
    "    dir_flux_points_figures\n",
    ")"
   ]
  },
  {
   "cell_type": "code",
   "execution_count": null,
   "id": "c1337a5e",
   "metadata": {},
   "outputs": [],
   "source": [
    "# Defining the minimum value of the reference energy  \n",
    "e_ref_min = 10 * u.Unit(\"GeV\")\n",
    "e_ref_min_name = str(e_ref_min).replace(\" \", \"\")"
   ]
  },
  {
   "cell_type": "code",
   "execution_count": null,
   "id": "2d0b3e9c",
   "metadata": {},
   "outputs": [],
   "source": [
    "ds_fp_cut = flux_points_cut_energy(df_fp = df_fp, ds_fp = ds_fp, e_ref_min=e_ref_min)"
   ]
  },
  {
   "cell_type": "code",
   "execution_count": null,
   "id": "44095677",
   "metadata": {},
   "outputs": [],
   "source": []
  },
  {
   "cell_type": "code",
   "execution_count": null,
   "id": "8b5a736a",
   "metadata": {},
   "outputs": [],
   "source": []
  },
  {
   "cell_type": "code",
   "execution_count": null,
   "id": "3517133f",
   "metadata": {},
   "outputs": [],
   "source": []
  },
  {
   "cell_type": "code",
   "execution_count": null,
   "id": "a18b929e",
   "metadata": {},
   "outputs": [],
   "source": []
  },
  {
   "cell_type": "code",
   "execution_count": null,
   "id": "bff345f4",
   "metadata": {},
   "outputs": [],
   "source": [
    "# print(source_cat[src_index][2].spectral_model())"
   ]
  },
  {
   "cell_type": "code",
   "execution_count": null,
   "id": "1cfac46b",
   "metadata": {},
   "outputs": [],
   "source": [
    "spec_model = LogParabolaSpectralModel(\n",
    "    alpha=2, \n",
    "    amplitude=\"1e-12 cm-2 s-1 TeV-1\", \n",
    "    reference=\"1 TeV\", \n",
    "    beta=0.1\n",
    ")\n",
    "\n",
    "sky_model = SkyModel(spectral_model=spec_model, name=\"logparabola\")"
   ]
  },
  {
   "cell_type": "code",
   "execution_count": null,
   "id": "501302c6",
   "metadata": {},
   "outputs": [],
   "source": [
    "datasets = Datasets(ds_src)\n",
    "datasets.models = sky_model\n",
    "\n",
    "fitter = Fit()\n",
    "\n",
    "result_log_parabola = fitter.run(datasets=datasets)"
   ]
  },
  {
   "cell_type": "code",
   "execution_count": null,
   "id": "7a4e932a",
   "metadata": {},
   "outputs": [],
   "source": [
    "print(result_log_parabola.models)"
   ]
  },
  {
   "cell_type": "code",
   "execution_count": null,
   "id": "c527fbeb",
   "metadata": {},
   "outputs": [],
   "source": [
    "energy_bounds = [1e-3, 1e3] * u.TeV\n",
    "ylim = [1e-13, 1e-9]\n",
    "plotting_SED_flux_pointing(sed_type = \"e2dnde\", yaxis_units=\"erg cm-2 s-1\", energy_bounds=energy_bounds, ylim=ylim)"
   ]
  },
  {
   "cell_type": "code",
   "execution_count": null,
   "id": "559faf82",
   "metadata": {},
   "outputs": [],
   "source": []
  },
  {
   "cell_type": "code",
   "execution_count": null,
   "id": "35cd1168",
   "metadata": {},
   "outputs": [],
   "source": [
    "ds_fp"
   ]
  },
  {
   "cell_type": "code",
   "execution_count": null,
   "id": "215fb25c",
   "metadata": {},
   "outputs": [],
   "source": [
    "print(ds_fp[0][5].data.reference_spectral_model.tag[1])"
   ]
  },
  {
   "cell_type": "code",
   "execution_count": null,
   "id": "bfa96723",
   "metadata": {
    "scrolled": true
   },
   "outputs": [],
   "source": [
    "\n"
   ]
  },
  {
   "cell_type": "code",
   "execution_count": null,
   "id": "b63bb6ef",
   "metadata": {},
   "outputs": [],
   "source": [
    "from pandas import read_csv\n",
    "\n",
    "myData = read_csv(f\"{path_flux_points_tables}/data_frame_flux_points.csv\", index_col = \"source_index\")"
   ]
  },
  {
   "cell_type": "code",
   "execution_count": null,
   "id": "f4b8380c",
   "metadata": {},
   "outputs": [],
   "source": [
    "file_name"
   ]
  },
  {
   "cell_type": "code",
   "execution_count": null,
   "id": "a693f5aa",
   "metadata": {},
   "outputs": [],
   "source": [
    "src_index = 1\n",
    "source_identification(src_index)\n",
    "catalog_tag = df_fp[\"catalog\"][src_index][1]\n",
    "\n",
    "file_name = f'{LHAASO_txt}_{src_txt}_{catalog_tag}{format_fits}'\n",
    "file_path = make_path(f\"{path_flux_points_tables}/{file_name}\")\n",
    "flux_points = FluxPoints.from_table(file_path)\n",
    "display(flux_points.to_table())"
   ]
  },
  {
   "cell_type": "code",
   "execution_count": null,
   "id": "5dc5a8fb",
   "metadata": {},
   "outputs": [],
   "source": [
    "src_index = 0\n",
    "source_identification(src_index)\n",
    "catalog_tag = df_fp[\"catalog\"][src_index][0]\n",
    "\n",
    "file_name = f'{LHAASO_txt}_{src_txt}_{catalog_tag}{format_fits}'\n",
    "file_path = make_path(f\"{path_flux_points_tables}/{file_name}\")\n",
    "flux_points = FluxPoints.read(file_path, sed_type=sed_type)\n",
    "ds = FluxPointsDataset(\n",
    "    data = flux_points, \n",
    "    name = \"ds_name\"\n",
    ")\n",
    "datasets = Datasets(ds)\n",
    "\n",
    "\n",
    "# opts = dict(sed_type=\"e2dnde\", yunits=u.Unit(\"TeV cm-2 s-1\"))\n",
    "energy_bounds = [1e-3, 1e3] * u.TeV\n",
    "ylim = [1e-13, 1e-9]\n",
    "plotting_SED_flux_pointing(sed_type = \"e2dnde\", yaxis_units=\"erg cm-2 s-1\", energy_bounds=energy_bounds, ylim=ylim)\n"
   ]
  },
  {
   "cell_type": "code",
   "execution_count": null,
   "id": "64d2d1ca",
   "metadata": {},
   "outputs": [],
   "source": [
    "print(ds_fp[src_index][2].data.to_table())"
   ]
  },
  {
   "cell_type": "code",
   "execution_count": null,
   "id": "1eccc640",
   "metadata": {},
   "outputs": [],
   "source": [
    "print(ds_fp_cut[src_index][2].data.to_table())"
   ]
  },
  {
   "cell_type": "code",
   "execution_count": null,
   "id": "725fc1c3",
   "metadata": {},
   "outputs": [],
   "source": [
    "\n",
    "src_index = 0\n",
    "source_identification(src_index)\n",
    "catalog_tag = df_fp[\"catalog\"][src_index][0]\n",
    "\n",
    "# file_name = f'{LHAASO_txt}_{src_txt}_{catalog_tag}_cut_{e_ref_min_name}{format_fits}'\n",
    "file_name = f'{LHAASO_txt}_{src_txt}_{catalog_tag}{format_fits}'\n",
    "\n",
    "file_path = make_path(f\"{path_flux_points_tables}/{file_name}\")\n",
    "file_path"
   ]
  },
  {
   "cell_type": "code",
   "execution_count": null,
   "id": "a59fd4cc",
   "metadata": {},
   "outputs": [],
   "source": [
    "flux_points_energy = FluxPoints.read(file_path, sed_type=sed_type)\n",
    "flux_points_energy.to_table()"
   ]
  },
  {
   "cell_type": "code",
   "execution_count": null,
   "id": "c2094888",
   "metadata": {
    "scrolled": false
   },
   "outputs": [],
   "source": [
    "print(source_cat[src_index][0].flux_points_table)"
   ]
  },
  {
   "cell_type": "code",
   "execution_count": null,
   "id": "d7d9b024",
   "metadata": {},
   "outputs": [],
   "source": [
    "flux_points = FluxPoints.from_table(flux_points.to_table(), sed_type=\"e2dnde\")\n",
    "flux_points.plot()\n",
    "\n",
    "ds = FluxPointsDataset(\n",
    "    data = flux_points, \n",
    "    name = \"ds_name\"\n",
    ")"
   ]
  },
  {
   "cell_type": "code",
   "execution_count": null,
   "id": "f5396ffd",
   "metadata": {},
   "outputs": [],
   "source": [
    "flux_points.plot(sed_type=\"e2dnde\") "
   ]
  },
  {
   "cell_type": "code",
   "execution_count": null,
   "id": "73a0f9fa",
   "metadata": {},
   "outputs": [],
   "source": [
    "spec_model = LogParabolaSpectralModel(\n",
    "    alpha=2, \n",
    "    amplitude=\"1e-12 cm-2 s-1 TeV-1\", \n",
    "    reference=\"1 TeV\", \n",
    "    beta=0.1\n",
    ")\n",
    "\n",
    "sky_model = SkyModel(spectral_model=spec_model, name=\"logparabola\")\n",
    "\n",
    "datasets = Datasets(ds)\n",
    "datasets.models = sky_model\n",
    "\n",
    "fitter = Fit()\n",
    "\n",
    "result_log_parabola = fitter.run(datasets=datasets)\n",
    "\n",
    "# opts = dict(sed_type=\"e2dnde\", yunits=u.Unit(\"TeV cm-2 s-1\"))\n",
    "energy_bounds = [1e-3, 1e3] * u.TeV\n",
    "ylim = [1e-13, 1e-9]\n",
    "plotting_SED_flux_pointing(spec_model=spec_model, sed_type = \"e2dnde\", yaxis_units=\"erg cm-2 s-1\", energy_bounds=energy_bounds, ylim=ylim)"
   ]
  },
  {
   "cell_type": "code",
   "execution_count": null,
   "id": "5a97344b",
   "metadata": {},
   "outputs": [],
   "source": [
    "print(datasets)"
   ]
  },
  {
   "cell_type": "code",
   "execution_count": null,
   "id": "f82367d4",
   "metadata": {},
   "outputs": [],
   "source": [
    "flux_points_energy.plot() "
   ]
  },
  {
   "cell_type": "markdown",
   "id": "7145d4c5",
   "metadata": {},
   "source": [
    "### LHAASOJ1825-1326: HESSJ1826-130"
   ]
  },
  {
   "cell_type": "code",
   "execution_count": null,
   "id": "4971ae40",
   "metadata": {},
   "outputs": [],
   "source": []
  },
  {
   "cell_type": "code",
   "execution_count": null,
   "id": "450c9a75",
   "metadata": {},
   "outputs": [],
   "source": [
    "# to select a source object index: [0-6]\n",
    "src_index = 6\n",
    "cat_index = 1\n",
    "# src = source_cat[src_index][0]\n",
    "\n",
    "LHAASO_txt = df_fp[\"LHAASO_txt\"][src_index]\n",
    "LHAASO_name = df_fp[\"LHAASO_name\"][src_index]\n",
    "\n",
    "src_txt = df_fp[\"source_txt\"][src_index]\n",
    "src_name = df_fp[\"source_name\"][src_index]\n",
    "\n",
    "ds_src = ds_fp_cut[src_index]\n"
   ]
  },
  {
   "cell_type": "code",
   "execution_count": null,
   "id": "b5352c5f",
   "metadata": {
    "scrolled": true
   },
   "outputs": [],
   "source": [
    "print(source_cat[src_index][cat_index].spectral_model())"
   ]
  },
  {
   "cell_type": "code",
   "execution_count": null,
   "id": "9a79a387",
   "metadata": {},
   "outputs": [],
   "source": [
    "# help(SuperExpCutoffPowerLaw4FGLDR3SpectralModel())"
   ]
  },
  {
   "cell_type": "code",
   "execution_count": null,
   "id": "84407975",
   "metadata": {},
   "outputs": [],
   "source": [
    "spec_model = source_cat[src_index][cat_index].spectral_model()\n",
    "\n",
    "sky_model = SkyModel(spectral_model=spec_model, name=spec_model.tag[1])"
   ]
  },
  {
   "cell_type": "code",
   "execution_count": null,
   "id": "c079a08b",
   "metadata": {},
   "outputs": [],
   "source": [
    "datasets = Datasets(ds_src)\n",
    "datasets.models = sky_model\n",
    "\n",
    "fitter = Fit()\n",
    "\n",
    "result_log_parabola = fitter.run(datasets=datasets)"
   ]
  },
  {
   "cell_type": "code",
   "execution_count": null,
   "id": "19081646",
   "metadata": {},
   "outputs": [],
   "source": [
    "print(result_log_parabola.models)"
   ]
  },
  {
   "cell_type": "code",
   "execution_count": null,
   "id": "bafe201e",
   "metadata": {},
   "outputs": [],
   "source": [
    "energy_bounds = [1e-3, 1e3] * u.TeV\n",
    "ylim = [1e-16, 1e-9]\n",
    "plotting_SED_flux_pointing(spec_model=spec_model, sed_type = \"e2dnde\", yaxis_units=\"erg cm-2 s-1\", energy_bounds=energy_bounds, ylim=ylim)"
   ]
  },
  {
   "cell_type": "code",
   "execution_count": null,
   "id": "1037ad23",
   "metadata": {},
   "outputs": [],
   "source": [
    "datasets.names"
   ]
  },
  {
   "cell_type": "code",
   "execution_count": null,
   "id": "fd2174ce",
   "metadata": {},
   "outputs": [],
   "source": [
    "ds_src[1].mask_safe"
   ]
  },
  {
   "cell_type": "code",
   "execution_count": null,
   "id": "a05ccb93",
   "metadata": {},
   "outputs": [],
   "source": [
    "#load precomputed flux points\n",
    "filename = \"$GAMMAPY_DATA/tests/spectrum/flux_points/diff_flux_points.fits\"\n",
    "flux_points = FluxPoints.read(filename)\n",
    "model = SkyModel(spectral_model=PowerLawSpectralModel())\n",
    "dataset = FluxPointsDataset(model, flux_points)\n",
    "#configuring optional parameters\n",
    "kwargs_spectrum = {\"kwargs_model\": {\"color\":\"red\", \"ls\":\"--\"}, \"kwargs_fp\":{\"color\":\"green\", \"marker\":\"o\"}}  # noqa: E501\n",
    "kwargs_residuals = {\"color\": \"blue\", \"markersize\":4, \"marker\":'s', }\n",
    "dataset.plot_fit(kwargs_residuals=kwargs_residuals, kwargs_spectrum=kwargs_spectrum) "
   ]
  },
  {
   "cell_type": "code",
   "execution_count": null,
   "id": "72d8387c",
   "metadata": {},
   "outputs": [],
   "source": []
  },
  {
   "cell_type": "code",
   "execution_count": null,
   "id": "36fb9615",
   "metadata": {},
   "outputs": [],
   "source": [
    "flux_points = FluxPoints.read(filename)\n",
    "flux_points.to_table()"
   ]
  },
  {
   "cell_type": "code",
   "execution_count": null,
   "id": "384db9c1",
   "metadata": {},
   "outputs": [],
   "source": [
    "flux_points.energy_ref.to(u.TeV)"
   ]
  },
  {
   "cell_type": "markdown",
   "id": "11d0fa56",
   "metadata": {},
   "source": [
    "\"QQQQQQQQQQQQQQQQQQQQQQQQQQQQQQQQQQQQQQQQQQQQQQQQQQQQQQQQ"
   ]
  },
  {
   "cell_type": "code",
   "execution_count": null,
   "id": "e84dad1f",
   "metadata": {},
   "outputs": [],
   "source": [
    "flux_points.plot() \n"
   ]
  },
  {
   "cell_type": "code",
   "execution_count": null,
   "id": "4b473dbe",
   "metadata": {},
   "outputs": [],
   "source": [
    "flux_points_energy = FluxPoints.from_table(flux_points_mask)\n"
   ]
  },
  {
   "cell_type": "code",
   "execution_count": null,
   "id": "55dc807a",
   "metadata": {},
   "outputs": [],
   "source": [
    "flux_points_energy.plot() \n"
   ]
  },
  {
   "cell_type": "code",
   "execution_count": null,
   "id": "13b4ba56",
   "metadata": {},
   "outputs": [],
   "source": []
  },
  {
   "cell_type": "code",
   "execution_count": null,
   "id": "ce8342a7",
   "metadata": {},
   "outputs": [],
   "source": [
    "flux_points_cut_energy()"
   ]
  },
  {
   "cell_type": "code",
   "execution_count": null,
   "id": "d0cf223f",
   "metadata": {
    "scrolled": true
   },
   "outputs": [],
   "source": [
    "type(catalog_3fhl_bright)"
   ]
  },
  {
   "cell_type": "code",
   "execution_count": null,
   "id": "3d5dab3e",
   "metadata": {},
   "outputs": [],
   "source": [
    "type(flux_points1.dnde)"
   ]
  },
  {
   "cell_type": "code",
   "execution_count": null,
   "id": "6b8214d0",
   "metadata": {},
   "outputs": [],
   "source": [
    "type(flux_points.dnde)"
   ]
  },
  {
   "cell_type": "code",
   "execution_count": null,
   "id": "cca35eda",
   "metadata": {},
   "outputs": [],
   "source": [
    "flux_points1 = FluxPoints.from_table(catalog_3fhl_bright)\n"
   ]
  },
  {
   "cell_type": "code",
   "execution_count": null,
   "id": "5980ed72",
   "metadata": {},
   "outputs": [],
   "source": [
    "flux_points1.plot(sed_type=\"e2dnde\") \n"
   ]
  },
  {
   "cell_type": "code",
   "execution_count": null,
   "id": "d0a5bf1e",
   "metadata": {},
   "outputs": [],
   "source": []
  },
  {
   "cell_type": "code",
   "execution_count": null,
   "id": "f79f98a3",
   "metadata": {},
   "outputs": [],
   "source": [
    "sed_type=\"e2dnde\"\n",
    "\n",
    "\n",
    "energy_bounds = [1e-7, 1e2] * energy_unit\n",
    "ylim = [1e-20, 1e-9]\n",
    "yaxis_units= flux_unit\n",
    "\n",
    "# flux_points = FluxPoints.read(filename)\n",
    "flux_points = ds_fp[4][0].data\n",
    "\n",
    "ax = plt.subplot()\n",
    "ax.yaxis.set_units(u.Unit(yaxis_units))\n",
    "ax.xaxis.set_units(u.Unit(energy_unit))\n",
    "\n",
    "kwargs = {\n",
    "    \"ax\": ax, \n",
    "    \"sed_type\": sed_type\n",
    "}    \n",
    "\n",
    "flux_points.plot(label=catalog_tag, **kwargs) \n",
    "\n",
    "ax.set_ylim(ylim)\n",
    "ax.set_xlim(energy_bounds)\n",
    "ax.legend()\n",
    "\n",
    "plt.title(f\"{LHAASO_txt}: {src_txt}\")\n",
    "\n",
    "# plt.savefig(file, bbox_inches='tight')\n",
    "plt.show()"
   ]
  },
  {
   "cell_type": "code",
   "execution_count": null,
   "id": "5d363b3a",
   "metadata": {},
   "outputs": [],
   "source": [
    "# Setting the source to analasis {}\n",
    "src_index = 3\n",
    "\n",
    "LHAASO_name = list(dict(df[\"LHAASO\"]).values())[src_index]\n",
    "LHAASO_txt = LHAASO_txt.replace(\" \", \"\")\n",
    "\n",
    "src_name = list(dict(df[\"TeV Conterpart\"]).values())[src_index]\n",
    "src_txt = src_name.replace(\" \", \"\")\n"
   ]
  },
  {
   "cell_type": "code",
   "execution_count": null,
   "id": "0cf0c06b",
   "metadata": {
    "scrolled": true
   },
   "outputs": [],
   "source": [
    "\n"
   ]
  },
  {
   "cell_type": "code",
   "execution_count": null,
   "id": "a480fab8",
   "metadata": {},
   "outputs": [],
   "source": [
    "table = Table.read('J1825_KM2A_201209.dat' ,format='ascii', delimiter=' ', comment='#')\n"
   ]
  },
  {
   "cell_type": "code",
   "execution_count": null,
   "id": "b400b15c",
   "metadata": {},
   "outputs": [],
   "source": []
  },
  {
   "cell_type": "markdown",
   "id": "88523201",
   "metadata": {},
   "source": [
    "#########"
   ]
  },
  {
   "cell_type": "code",
   "execution_count": null,
   "id": "833896fa",
   "metadata": {},
   "outputs": [],
   "source": []
  },
  {
   "cell_type": "code",
   "execution_count": null,
   "id": "f17fa810",
   "metadata": {},
   "outputs": [],
   "source": []
  },
  {
   "cell_type": "code",
   "execution_count": null,
   "id": "88aa049d",
   "metadata": {},
   "outputs": [],
   "source": [
    "\n",
    "catalog_tag = catalog_tags[0]\n",
    "catalog = CATALOG_REGISTRY.get_cls(catalog_tag)()\n",
    "\n",
    "\n",
    "source = catalog[\"HESS J1826-130\"]\n"
   ]
  },
  {
   "cell_type": "code",
   "execution_count": null,
   "id": "59c6d183",
   "metadata": {},
   "outputs": [],
   "source": [
    "print(source.spectral_model())"
   ]
  },
  {
   "cell_type": "code",
   "execution_count": null,
   "id": "968c345d",
   "metadata": {},
   "outputs": [],
   "source": [
    "print(source)"
   ]
  },
  {
   "cell_type": "code",
   "execution_count": null,
   "id": "b1bbe1a0",
   "metadata": {},
   "outputs": [],
   "source": [
    "# Gammapy spectral model object:\n",
    "spectral_model = source.spectral_model()\n",
    "print(spectral_model)"
   ]
  },
  {
   "cell_type": "code",
   "execution_count": null,
   "id": "074a33de",
   "metadata": {},
   "outputs": [],
   "source": [
    "\n",
    "# Let's plot the spectrum\n",
    "source.spectral_model().plot(energy_bounds=(0.01, 1000) * u.TeV)\n",
    "source.spectral_model().plot_error(energy_bounds=(0.01, 1000) * u.TeV)\n",
    "source.flux_points.plot();\n"
   ]
  },
  {
   "cell_type": "code",
   "execution_count": null,
   "id": "83f8a5fd",
   "metadata": {},
   "outputs": [],
   "source": [
    "ds_fp_cut"
   ]
  },
  {
   "cell_type": "code",
   "execution_count": null,
   "id": "dd19ad24",
   "metadata": {},
   "outputs": [],
   "source": [
    "# to select a source object index: [0-6]\n",
    "src_index = 1\n",
    "\n",
    "LHAASO_txt = df_fp[\"LHAASO_txt\"][src_index]\n",
    "LHAASO_name = df_fp[\"LHAASO_name\"][src_index]\n",
    "\n",
    "src_txt = df_fp[\"source_txt\"][src_index]\n",
    "src_name = df_fp[\"source_name\"][src_index]\n",
    "\n"
   ]
  },
  {
   "cell_type": "code",
   "execution_count": null,
   "id": "cd043ed7",
   "metadata": {},
   "outputs": [],
   "source": [
    "ds_src = []\n",
    "k_range = range(len(ds_fp_cut[src_index]))\n",
    "for k in k_range: \n",
    "\n",
    "    catalog_tag = df_fp[\"catalog\"][src_index][k]\n",
    "    \n",
    "    file_name = f'{LHAASO_txt}_{src_txt}_{catalog_tag}_cut_{e_ref_min_name}{format_fits}'\n",
    "    \n",
    "    path_file = make_path(f'{path_dir}/{file_name}')\n",
    "    \n",
    "    flux_points_energy = FluxPoints.read(path_file)\n",
    "    \n",
    "    flux_points = FluxPoints.from_table(flux_points_energy.to_table(), sed_type=\"e2dnde\")\n",
    "\n",
    "    ds = FluxPointsDataset(\n",
    "        data=flux_points, \n",
    "        name=catalog_tag\n",
    "    )\n",
    "    ds_src.append(ds)\n",
    "    \n",
    "datasets = Datasets(ds_src)\n"
   ]
  },
  {
   "cell_type": "code",
   "execution_count": null,
   "id": "266d411d",
   "metadata": {
    "scrolled": false
   },
   "outputs": [],
   "source": [
    "energy_bounds = [1e-3, 1e3] * u.TeV\n",
    "ylim = [1e-16, 1e-9]\n",
    "plotting_SED_flux_pointing(sed_type = sed_type, yaxis_units=\"erg cm-2 s-1\", energy_bounds=energy_bounds, ylim=ylim)"
   ]
  },
  {
   "cell_type": "code",
   "execution_count": null,
   "id": "8b4809eb",
   "metadata": {
    "scrolled": true
   },
   "outputs": [],
   "source": [
    "energy_bounds = [1e-3, 1e3] * u.TeV\n",
    "ylim = [1e-16, 1e-9]\n",
    "plotting_SED_flux_pointing(sed_type = \"e2dnde\", yaxis_units=\"TeV cm-2 s-1\", energy_bounds=energy_bounds, ylim=ylim)"
   ]
  },
  {
   "cell_type": "code",
   "execution_count": null,
   "id": "938588e1",
   "metadata": {},
   "outputs": [],
   "source": [
    "LHAASO_txt = df_fp[\"LHAASO_txt\"][src_index]\n",
    "\n",
    "src_txt = df_fp[\"source_txt\"][src_index]\n",
    "\n",
    "catalog_tag = df_fp[\"catalog\"][src_index][4]\n",
    "\n",
    "file_name = f'{LHAASO_txt}_{src_txt}_{catalog_tag}_cut_{e_ref_min_name}{format_fits}'"
   ]
  },
  {
   "cell_type": "code",
   "execution_count": null,
   "id": "0e0819c3",
   "metadata": {},
   "outputs": [],
   "source": [
    "file_name"
   ]
  },
  {
   "cell_type": "code",
   "execution_count": null,
   "id": "800c4ad0",
   "metadata": {
    "scrolled": false
   },
   "outputs": [],
   "source": [
    "print(source_cat[src_index][0].flux_points_table)"
   ]
  },
  {
   "cell_type": "code",
   "execution_count": null,
   "id": "31abdccf",
   "metadata": {},
   "outputs": [],
   "source": [
    "filename = make_path(f'{path_dir}/{file_name}')\n",
    "\n",
    "# table.write(filename,format=format_type, overwrite=True)\n",
    "filename"
   ]
  },
  {
   "cell_type": "code",
   "execution_count": null,
   "id": "c048db89",
   "metadata": {},
   "outputs": [],
   "source": [
    "flux_points = FluxPoints.from_table(flux_points.to_table(), sed_type=\"e2dnde\")\n",
    "flux_points.plot()\n",
    "\n",
    "ds = FluxPointsDataset(\n",
    "                                data=flux_points, \n",
    "                                name=\"ds_name\"\n",
    "                            )"
   ]
  },
  {
   "cell_type": "code",
   "execution_count": null,
   "id": "4d7f518a",
   "metadata": {},
   "outputs": [],
   "source": [
    "flux_points.plot(sed_type=\"e2dnde\") "
   ]
  }
 ],
 "metadata": {
  "kernelspec": {
   "display_name": "Python 3 (ipykernel)",
   "language": "python",
   "name": "python3"
  },
  "language_info": {
   "codemirror_mode": {
    "name": "ipython",
    "version": 3
   },
   "file_extension": ".py",
   "mimetype": "text/x-python",
   "name": "python",
   "nbconvert_exporter": "python",
   "pygments_lexer": "ipython3",
   "version": "3.9.15"
  }
 },
 "nbformat": 4,
 "nbformat_minor": 5
}
