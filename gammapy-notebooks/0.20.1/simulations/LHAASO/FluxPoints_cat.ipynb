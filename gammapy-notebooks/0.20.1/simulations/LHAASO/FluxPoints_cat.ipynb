{
 "cells": [
  {
   "cell_type": "code",
   "execution_count": 1,
   "id": "5ce110db",
   "metadata": {},
   "outputs": [],
   "source": [
    "# !pip install dataframe-image"
   ]
  },
  {
   "cell_type": "code",
   "execution_count": 2,
   "id": "fa05df50",
   "metadata": {},
   "outputs": [],
   "source": [
    "# !pip install tabulate"
   ]
  },
  {
   "cell_type": "markdown",
   "id": "b43d98b9",
   "metadata": {},
   "source": [
    "Carrega os catalogos do gammapy\n",
    "\n",
    "Verifica a existencia da fonte em cada um dos catalgos\n",
    "\n",
    "Guarda a tabela dos pontos de fluxos"
   ]
  },
  {
   "cell_type": "code",
   "execution_count": 3,
   "id": "c6e3efbf",
   "metadata": {},
   "outputs": [],
   "source": [
    "%matplotlib inline\n",
    "import matplotlib.pyplot as plt"
   ]
  },
  {
   "cell_type": "code",
   "execution_count": 4,
   "id": "3ac8a12e",
   "metadata": {},
   "outputs": [],
   "source": [
    "from gammapy.datasets import FluxPointsDataset, Datasets\n",
    "from gammapy.catalog import CATALOG_REGISTRY"
   ]
  },
  {
   "cell_type": "code",
   "execution_count": 5,
   "id": "eff6f5ad",
   "metadata": {},
   "outputs": [
    {
     "name": "stdout",
     "output_type": "stream",
     "text": [
      "/home/gamma/Documents/GitHub/gammapy/gammapy-notebooks/0.20.1/simulations/LHAASO/modules/spectral_models\n"
     ]
    }
   ],
   "source": [
    "import os\n",
    "import sys\n",
    "import importlib\n",
    "\n",
    "module_path = os.path.abspath('modules/spectral_models')\n",
    "if module_path not in sys.path:\n",
    "    sys.path.append(module_path)\n",
    "print(module_path)\n",
    "import spectral_models\n",
    "importlib.reload(spectral_models)\n",
    "from spectral_models import pwl_model"
   ]
  },
  {
   "cell_type": "code",
   "execution_count": 6,
   "id": "a1236f88",
   "metadata": {},
   "outputs": [],
   "source": [
    "from astropy import units as u\n",
    "\n",
    "from gammapy.modeling import Fit\n",
    "from gammapy.modeling.models import (\n",
    "    Models,\n",
    "    ExpCutoffPowerLawSpectralModel,\n",
    "    LogParabolaSpectralModel,\n",
    "    PowerLawSpectralModel,\n",
    "    SkyModel,\n",
    ")"
   ]
  },
  {
   "cell_type": "code",
   "execution_count": 7,
   "id": "9ed67461",
   "metadata": {},
   "outputs": [],
   "source": [
    "from pathlib import Path\n",
    "def mkdir_base_child(base_dir, child_dir):\n",
    "    '''Creates a directory: base_dir/child_dir and returs the path \n",
    "    mkdir_base_child(base_dir, child_dir)\n",
    "    >>> path_child\n",
    "    '''\n",
    "    path_base = Path(f\"{base_dir}\")\n",
    "    path_base.mkdir(exist_ok=True)\n",
    "\n",
    "    path_child = Path(f\"{path_base}/{child_dir}\")\n",
    "    path_child.mkdir(exist_ok=True)\n",
    "    \n",
    "    return path_child"
   ]
  },
  {
   "cell_type": "code",
   "execution_count": 29,
   "id": "d8670344",
   "metadata": {},
   "outputs": [],
   "source": [
    "def print_SED(spec_model = None, sed_type = \"e2dnde\", yaxis_units=\"TeV cm-2 s-1\", energy_bounds= [1e-5, 1e2] * u.TeV, ylim = [1e-13, 1e-9]):\n",
    "    '''Returns a spectral energy distribution\n",
    "    \n",
    "    print_SED(spec_model, yaxis_units, sed_type, reference)\n",
    "    >>> model \n",
    "    \n",
    "    Default function parameters\n",
    "    ----------\n",
    "    sed_type = \"e2dnde\"\n",
    "    yaxis_units=\"TeV cm-2 s-1\"\n",
    "    ----------\n",
    "    '''\n",
    "    path_name=mkdir_base_child(\"catalogs_data\", \"flux_points\")\n",
    "    ax = plt.subplot()\n",
    "    ax.yaxis.set_units(u.Unit(yaxis_units))\n",
    "    ax.xaxis.set_units(u.Unit(\"TeV\"))\n",
    "\n",
    "    #label = f\"{sky_model}\"\n",
    "    \n",
    "    kwargs = {\n",
    "        \"ax\": ax, \n",
    "        \"sed_type\": sed_type\n",
    "    }    \n",
    "    for d in datasets:\n",
    "        d.data.plot(label=d.name, **kwargs)\n",
    "\n",
    "    try:   \n",
    "        kwargs_fit = {\"label\":sky_model.name}\n",
    "        spec_model.plot(energy_bounds=energy_bounds, color=\"k\", **kwargs, **kwargs_fit)\n",
    "        spec_model.plot_error(energy_bounds=energy_bounds, **kwargs)\n",
    "        file = path_name / f'{LHAASO_id}_{TeVCount_id}_{sky_model.name}.png'\n",
    "    except:\n",
    "        file = path_name / f'{LHAASO_id}_{TeVCount_id}.png'\n",
    "    \n",
    "    ax.set_ylim(ylim)\n",
    "    ax.set_xlim(energy_bounds)\n",
    "    ax.legend()\n",
    "    \n",
    "    plt.title(f\"{LHAASO_src}: {TeVCount_src}\")\n",
    "        \n",
    "    plt.savefig(file, bbox_inches='tight')\n",
    "    plt.show()\n",
    "    \n",
    "    return "
   ]
  },
  {
   "cell_type": "code",
   "execution_count": 9,
   "id": "1754fa6f",
   "metadata": {},
   "outputs": [],
   "source": [
    "catalog_gammacat = CATALOG_REGISTRY.get_cls(\"gamma-cat\")()\n",
    "catalog_hgps = CATALOG_REGISTRY.get_cls(\"hgps\")()\n",
    "catalog_2hwc = CATALOG_REGISTRY.get_cls(\"2hwc\")()\n",
    "catalog_3fgl = CATALOG_REGISTRY.get_cls(\"3fgl\")()\n",
    "catalog_4fgl = CATALOG_REGISTRY.get_cls(\"4fgl\")()\n",
    "catalog_2fhl = CATALOG_REGISTRY.get_cls(\"2fhl\")()\n",
    "catalog_3fhl = CATALOG_REGISTRY.get_cls(\"3fhl\")()\n",
    "catalog_3hwc = CATALOG_REGISTRY.get_cls(\"3hwc\")()"
   ]
  },
  {
   "cell_type": "code",
   "execution_count": 10,
   "id": "95660e55",
   "metadata": {},
   "outputs": [
    {
     "name": "stdout",
     "output_type": "stream",
     "text": [
      "Registry\n",
      "--------\n",
      "\n",
      "SourceCatalogGammaCat: gamma-cat \n",
      "SourceCatalogHGPS    : hgps \n",
      "SourceCatalog2HWC    : 2hwc \n",
      "SourceCatalog3FGL    : 3fgl \n",
      "SourceCatalog4FGL    : 4fgl \n",
      "SourceCatalog2FHL    : 2fhl \n",
      "SourceCatalog3FHL    : 3fhl \n",
      "SourceCatalog3HWC    : 3hwc \n",
      "\n"
     ]
    }
   ],
   "source": [
    "print(CATALOG_REGISTRY)"
   ]
  },
  {
   "cell_type": "code",
   "execution_count": 11,
   "id": "d610d96e",
   "metadata": {},
   "outputs": [],
   "source": [
    "catalog_tag = [\"gamma-cat\", \"hgps\", \"2hwc\", \"3hwc\", \"3fgl\", \"4fgl\", \"2fhl\", \"3fhl\"] "
   ]
  },
  {
   "cell_type": "code",
   "execution_count": 12,
   "id": "6590f4e8",
   "metadata": {},
   "outputs": [],
   "source": [
    "# catalogs = []\n",
    "# for i in range(len(catalog_tag)):\n",
    "#     catalog = CATALOG_REGISTRY.get_cls(catalog_tag[i])()\n",
    "#     catalogs.append(catalog)\n",
    "#     print(f\"{catalog}  tag: {catalog.tag}\")"
   ]
  },
  {
   "cell_type": "code",
   "execution_count": null,
   "id": "f119a751",
   "metadata": {},
   "outputs": [],
   "source": []
  },
  {
   "cell_type": "code",
   "execution_count": 13,
   "id": "6cba288d",
   "metadata": {},
   "outputs": [],
   "source": [
    "TeVCount_dict = {\n",
    "    \"LHAASO J1825-1326\": [\"HESS J1825-137\", \"HESS J1826-130\", \"2HWC J1825-134\"], \n",
    "    \"LHAASO J1908+0621\": [\"MGRO J1908+06\" , \"HESS J1908+063\", \"ARGO J1907+0627\", \"VER J1907+062\", \"2HWC J1908+063\"], \n",
    "    \"LHAASO J2226+6057\": [\"VER J2227+608\"  , \"Boomerang\"]\n",
    "}"
   ]
  },
  {
   "cell_type": "code",
   "execution_count": null,
   "id": "a0a15f1c",
   "metadata": {},
   "outputs": [],
   "source": []
  },
  {
   "cell_type": "code",
   "execution_count": 14,
   "id": "6cb6f05b",
   "metadata": {},
   "outputs": [],
   "source": [
    "import pandas as pd \n",
    "from pandas import read_csv\n",
    "\n",
    "path_name=mkdir_base_child(\"catalogs_data\", \"flux_points\")\n",
    "\n",
    "format_file = \".csv\"\n",
    "sed_type=\"dnde\"\n",
    "lst=[]\n",
    "ds_lst = []\n",
    "\n",
    "for i in range(len(TeVCount_dict.keys())):\n",
    "    LHAASO_src = list(TeVCount_dict.keys())[i]\n",
    "    LHAASO_id = LHAASO_src.replace(\" \", \"\")\n",
    "\n",
    "    for j in range(len(TeVCount_dict[LHAASO_src])):\n",
    "        cat_off = []\n",
    "        cat_on = []\n",
    "\n",
    "        pf_off = []\n",
    "        pf_on = []\n",
    "        src_on = []\n",
    "        \n",
    "        ds_j=[]\n",
    "\n",
    "        TeVCount_src=TeVCount_dict[LHAASO_src][j]\n",
    "        TeVCount_id = TeVCount_src.replace(\" \", \"\")\n",
    "        for k in range(len(catalog_tag)): \n",
    "            cat_name = catalog_tag[k]\n",
    "\n",
    "            try:\n",
    "                cat=CATALOG_REGISTRY.get_cls(cat_name)()\n",
    "                src=cat[TeVCount_src]\n",
    "                cat_on.append(catalog_tag[k])\n",
    "\n",
    "                ds = FluxPointsDataset(\n",
    "                    data=src.flux_points, \n",
    "                    name=cat_name\n",
    "                )\n",
    "                \n",
    "                ds_j.append(ds)\n",
    "                pf_on.append(catalog_tag[k])\n",
    "\n",
    "                table = ds.data.to_table(\n",
    "                    sed_type=sed_type, \n",
    "                    formatted=True\n",
    "                )\n",
    "                file_name = f'{LHAASO_id}_{TeVCount_id}_{cat_name}{format_file}'\n",
    "                path_os = os.path.abspath(\n",
    "                    os.path.join(\n",
    "                        f\"{path_name}/{file_name}\"\n",
    "                    )\n",
    "                )\n",
    "                src_on.append(src.data)\n",
    "                \n",
    "                if path_os not in sys.path:\n",
    "                    sys.path.append(path_os)\n",
    "\n",
    "                table.write(f\"{path_os}\",format='ascii.ecsv', overwrite=True)\n",
    "                \n",
    "\n",
    "            except:\n",
    "                cat_off.append(catalog_tag[k])\n",
    "\n",
    "            lst_k=[LHAASO_src, TeVCount_src, cat_on, pf_on, ds_j, src_on]\n",
    "        lst.append(lst_k)\n",
    "        ds_lst.append(ds_j)\n",
    "\n",
    "df = pd.DataFrame(lst, columns =['LHAASO', 'TeV Conterpart', 'Catalog', 'Flux Points', 'ds', 'src']) \n",
    "df.to_csv(f\"{path_name}/flux_points.csv\", index = True )"
   ]
  },
  {
   "cell_type": "code",
   "execution_count": 15,
   "id": "e7b3b955",
   "metadata": {
    "scrolled": true
   },
   "outputs": [
    {
     "data": {
      "text/html": [
       "<div>\n",
       "<style scoped>\n",
       "    .dataframe tbody tr th:only-of-type {\n",
       "        vertical-align: middle;\n",
       "    }\n",
       "\n",
       "    .dataframe tbody tr th {\n",
       "        vertical-align: top;\n",
       "    }\n",
       "\n",
       "    .dataframe thead th {\n",
       "        text-align: right;\n",
       "    }\n",
       "</style>\n",
       "<table border=\"1\" class=\"dataframe\">\n",
       "  <thead>\n",
       "    <tr style=\"text-align: right;\">\n",
       "      <th></th>\n",
       "      <th>LHAASO</th>\n",
       "      <th>TeV Conterpart</th>\n",
       "      <th>Catalog</th>\n",
       "      <th>Flux Points</th>\n",
       "      <th>ds</th>\n",
       "      <th>src</th>\n",
       "    </tr>\n",
       "  </thead>\n",
       "  <tbody>\n",
       "    <tr>\n",
       "      <th>0</th>\n",
       "      <td>LHAASO J1825-1326</td>\n",
       "      <td>HESS J1825-137</td>\n",
       "      <td>[gamma-cat, hgps, 3fgl, 4fgl, 2fhl, 3fhl]</td>\n",
       "      <td>[gamma-cat, hgps, 3fgl, 4fgl, 2fhl, 3fhl]</td>\n",
       "      <td>[FluxPointsDataset\\n-----------------\\n\\n  Nam...</td>\n",
       "      <td>[{'source_id': 118, 'common_name': 'HESS J1825...</td>\n",
       "    </tr>\n",
       "    <tr>\n",
       "      <th>1</th>\n",
       "      <td>LHAASO J1825-1326</td>\n",
       "      <td>HESS J1826-130</td>\n",
       "      <td>[gamma-cat, hgps, 4fgl, 3fhl]</td>\n",
       "      <td>[gamma-cat, hgps, 4fgl, 3fhl]</td>\n",
       "      <td>[FluxPointsDataset\\n-----------------\\n\\n  Nam...</td>\n",
       "      <td>[{'source_id': 161, 'common_name': 'HESS J1826...</td>\n",
       "    </tr>\n",
       "    <tr>\n",
       "      <th>2</th>\n",
       "      <td>LHAASO J1825-1326</td>\n",
       "      <td>2HWC J1825-134</td>\n",
       "      <td>[2hwc]</td>\n",
       "      <td>[]</td>\n",
       "      <td>[]</td>\n",
       "      <td>[]</td>\n",
       "    </tr>\n",
       "    <tr>\n",
       "      <th>3</th>\n",
       "      <td>LHAASO J1908+0621</td>\n",
       "      <td>MGRO J1908+06</td>\n",
       "      <td>[gamma-cat, 3fgl, 4fgl]</td>\n",
       "      <td>[gamma-cat, 3fgl, 4fgl]</td>\n",
       "      <td>[FluxPointsDataset\\n-----------------\\n\\n  Nam...</td>\n",
       "      <td>[{'source_id': 132, 'common_name': 'MGRO J1908...</td>\n",
       "    </tr>\n",
       "    <tr>\n",
       "      <th>4</th>\n",
       "      <td>LHAASO J1908+0621</td>\n",
       "      <td>HESS J1908+063</td>\n",
       "      <td>[gamma-cat, hgps]</td>\n",
       "      <td>[gamma-cat, hgps]</td>\n",
       "      <td>[FluxPointsDataset\\n-----------------\\n\\n  Nam...</td>\n",
       "      <td>[{'source_id': 132, 'common_name': 'MGRO J1908...</td>\n",
       "    </tr>\n",
       "    <tr>\n",
       "      <th>5</th>\n",
       "      <td>LHAASO J1908+0621</td>\n",
       "      <td>ARGO J1907+0627</td>\n",
       "      <td>[gamma-cat]</td>\n",
       "      <td>[gamma-cat]</td>\n",
       "      <td>[FluxPointsDataset\\n-----------------\\n\\n  Nam...</td>\n",
       "      <td>[{'source_id': 132, 'common_name': 'MGRO J1908...</td>\n",
       "    </tr>\n",
       "    <tr>\n",
       "      <th>6</th>\n",
       "      <td>LHAASO J1908+0621</td>\n",
       "      <td>VER J1907+062</td>\n",
       "      <td>[gamma-cat]</td>\n",
       "      <td>[gamma-cat]</td>\n",
       "      <td>[FluxPointsDataset\\n-----------------\\n\\n  Nam...</td>\n",
       "      <td>[{'source_id': 132, 'common_name': 'MGRO J1908...</td>\n",
       "    </tr>\n",
       "    <tr>\n",
       "      <th>7</th>\n",
       "      <td>LHAASO J1908+0621</td>\n",
       "      <td>2HWC J1908+063</td>\n",
       "      <td>[2hwc]</td>\n",
       "      <td>[]</td>\n",
       "      <td>[]</td>\n",
       "      <td>[]</td>\n",
       "    </tr>\n",
       "    <tr>\n",
       "      <th>8</th>\n",
       "      <td>LHAASO J2226+6057</td>\n",
       "      <td>VER J2227+608</td>\n",
       "      <td>[]</td>\n",
       "      <td>[]</td>\n",
       "      <td>[]</td>\n",
       "      <td>[]</td>\n",
       "    </tr>\n",
       "    <tr>\n",
       "      <th>9</th>\n",
       "      <td>LHAASO J2226+6057</td>\n",
       "      <td>Boomerang</td>\n",
       "      <td>[3fgl, 4fgl]</td>\n",
       "      <td>[3fgl, 4fgl]</td>\n",
       "      <td>[FluxPointsDataset\\n-----------------\\n\\n  Nam...</td>\n",
       "      <td>[{'Source_Name': '3FGL J2229.0+6114 ', 'RAJ200...</td>\n",
       "    </tr>\n",
       "  </tbody>\n",
       "</table>\n",
       "</div>"
      ],
      "text/plain": [
       "              LHAASO   TeV Conterpart  \\\n",
       "0  LHAASO J1825-1326   HESS J1825-137   \n",
       "1  LHAASO J1825-1326   HESS J1826-130   \n",
       "2  LHAASO J1825-1326   2HWC J1825-134   \n",
       "3  LHAASO J1908+0621    MGRO J1908+06   \n",
       "4  LHAASO J1908+0621   HESS J1908+063   \n",
       "5  LHAASO J1908+0621  ARGO J1907+0627   \n",
       "6  LHAASO J1908+0621    VER J1907+062   \n",
       "7  LHAASO J1908+0621   2HWC J1908+063   \n",
       "8  LHAASO J2226+6057    VER J2227+608   \n",
       "9  LHAASO J2226+6057        Boomerang   \n",
       "\n",
       "                                     Catalog  \\\n",
       "0  [gamma-cat, hgps, 3fgl, 4fgl, 2fhl, 3fhl]   \n",
       "1              [gamma-cat, hgps, 4fgl, 3fhl]   \n",
       "2                                     [2hwc]   \n",
       "3                    [gamma-cat, 3fgl, 4fgl]   \n",
       "4                          [gamma-cat, hgps]   \n",
       "5                                [gamma-cat]   \n",
       "6                                [gamma-cat]   \n",
       "7                                     [2hwc]   \n",
       "8                                         []   \n",
       "9                               [3fgl, 4fgl]   \n",
       "\n",
       "                                 Flux Points  \\\n",
       "0  [gamma-cat, hgps, 3fgl, 4fgl, 2fhl, 3fhl]   \n",
       "1              [gamma-cat, hgps, 4fgl, 3fhl]   \n",
       "2                                         []   \n",
       "3                    [gamma-cat, 3fgl, 4fgl]   \n",
       "4                          [gamma-cat, hgps]   \n",
       "5                                [gamma-cat]   \n",
       "6                                [gamma-cat]   \n",
       "7                                         []   \n",
       "8                                         []   \n",
       "9                               [3fgl, 4fgl]   \n",
       "\n",
       "                                                  ds  \\\n",
       "0  [FluxPointsDataset\\n-----------------\\n\\n  Nam...   \n",
       "1  [FluxPointsDataset\\n-----------------\\n\\n  Nam...   \n",
       "2                                                 []   \n",
       "3  [FluxPointsDataset\\n-----------------\\n\\n  Nam...   \n",
       "4  [FluxPointsDataset\\n-----------------\\n\\n  Nam...   \n",
       "5  [FluxPointsDataset\\n-----------------\\n\\n  Nam...   \n",
       "6  [FluxPointsDataset\\n-----------------\\n\\n  Nam...   \n",
       "7                                                 []   \n",
       "8                                                 []   \n",
       "9  [FluxPointsDataset\\n-----------------\\n\\n  Nam...   \n",
       "\n",
       "                                                 src  \n",
       "0  [{'source_id': 118, 'common_name': 'HESS J1825...  \n",
       "1  [{'source_id': 161, 'common_name': 'HESS J1826...  \n",
       "2                                                 []  \n",
       "3  [{'source_id': 132, 'common_name': 'MGRO J1908...  \n",
       "4  [{'source_id': 132, 'common_name': 'MGRO J1908...  \n",
       "5  [{'source_id': 132, 'common_name': 'MGRO J1908...  \n",
       "6  [{'source_id': 132, 'common_name': 'MGRO J1908...  \n",
       "7                                                 []  \n",
       "8                                                 []  \n",
       "9  [{'Source_Name': '3FGL J2229.0+6114 ', 'RAJ200...  "
      ]
     },
     "execution_count": 15,
     "metadata": {},
     "output_type": "execute_result"
    }
   ],
   "source": [
    "df"
   ]
  },
  {
   "cell_type": "code",
   "execution_count": 19,
   "id": "ed33a2ff",
   "metadata": {},
   "outputs": [],
   "source": [
    "src_index = 0\n",
    "\n",
    "LHAASO_src = list(dict(df[\"LHAASO\"]).values())[src_index]\n",
    "LHAASO_id = LHAASO_src.replace(\" \", \"\")\n",
    "\n",
    "TeVCount_src = list(dict(df[\"TeV Conterpart\"]).values())[src_index]\n",
    "TeVCount_id = TeVCount_src.replace(\" \", \"\")\n",
    "\n",
    "ds_src = ds_lst[src_index]\n",
    "datasets = Datasets(ds_src)\n"
   ]
  },
  {
   "cell_type": "code",
   "execution_count": null,
   "id": "494277b6",
   "metadata": {},
   "outputs": [],
   "source": []
  },
  {
   "cell_type": "code",
   "execution_count": 24,
   "id": "9b3754cf",
   "metadata": {},
   "outputs": [
    {
     "data": {
      "image/png": "[encoded data removed]",
      "text/plain": [
       "<Figure size 640x480 with 1 Axes>"
      ]
     },
     "metadata": {},
     "output_type": "display_data"
    }
   ],
   "source": [
    "energy_bounds = [1e-5, 1e3] * u.TeV\n",
    "ylim = [1e-13, 1e-9]\n",
    "print_SED(sed_type = \"e2dnde\", yaxis_units=\"erg cm-2 s-1\", energy_bounds=energy_bounds, ylim=ylim)"
   ]
  },
  {
   "cell_type": "code",
   "execution_count": 35,
   "id": "7f6f29db",
   "metadata": {},
   "outputs": [],
   "source": [
    "spec_model = LogParabolaSpectralModel(\n",
    "    alpha=2, amplitude=\"1e-12 cm-2 s-1 TeV-1\", reference=\"1 TeV\", beta=0.1\n",
    ")\n",
    "sky_model = SkyModel(spectral_model=spec_model, name=\"logparabola\")\n",
    "\n",
    "datasets = Datasets(ds_src)\n",
    "datasets.models = sky_model"
   ]
  },
  {
   "cell_type": "code",
   "execution_count": 36,
   "id": "32649292",
   "metadata": {},
   "outputs": [
    {
     "data": {
      "image/png": "[encoded data removed]",
      "text/plain": [
       "<Figure size 640x480 with 1 Axes>"
      ]
     },
     "metadata": {},
     "output_type": "display_data"
    }
   ],
   "source": [
    "energy_bounds = [1e-5, 1e3] * u.TeV\n",
    "ylim = [1e-13, 1e-9]\n",
    "print_SED(spec_model=spec_model, sed_type = \"e2dnde\", yaxis_units=\"TeV cm-2 s-1\", energy_bounds=energy_bounds, ylim=ylim)"
   ]
  },
  {
   "cell_type": "code",
   "execution_count": null,
   "id": "2b6a4d1f",
   "metadata": {},
   "outputs": [],
   "source": []
  },
  {
   "cell_type": "code",
   "execution_count": null,
   "id": "69004d24",
   "metadata": {},
   "outputs": [],
   "source": [
    "# LHAASO_id, TeVCount_id, ds_src"
   ]
  },
  {
   "cell_type": "code",
   "execution_count": null,
   "id": "7d01a2db",
   "metadata": {},
   "outputs": [],
   "source": [
    "df[\"Catalog\"][src_index]"
   ]
  },
  {
   "cell_type": "code",
   "execution_count": null,
   "id": "98b0c404",
   "metadata": {},
   "outputs": [],
   "source": [
    "cat_index = 0\n",
    "cat_tag = df[\"Catalog\"][src_index][cat_index]"
   ]
  },
  {
   "cell_type": "code",
   "execution_count": null,
   "id": "8a55a1c3",
   "metadata": {},
   "outputs": [],
   "source": [
    "catalog = CATALOG_REGISTRY.get_cls(cat_tag)()\n",
    "print(catalog)"
   ]
  },
  {
   "cell_type": "code",
   "execution_count": null,
   "id": "be843dfb",
   "metadata": {},
   "outputs": [],
   "source": [
    "source  = catalog[TeVCount_src]\n",
    "print(source.spectral_model())"
   ]
  },
  {
   "cell_type": "code",
   "execution_count": null,
   "id": "86c992fa",
   "metadata": {},
   "outputs": [],
   "source": [
    "# source.sky_model()"
   ]
  },
  {
   "cell_type": "code",
   "execution_count": null,
   "id": "72c224be",
   "metadata": {},
   "outputs": [],
   "source": [
    "source.data"
   ]
  },
  {
   "cell_type": "code",
   "execution_count": null,
   "id": "7eee7613",
   "metadata": {
    "scrolled": true
   },
   "outputs": [],
   "source": [
    "# myData = read_csv(f\"{path_name}/flux_points.csv\", index_col = None)\n",
    "# list(dict.fromkeys(myData[\"LHAASO\"]))"
   ]
  },
  {
   "cell_type": "code",
   "execution_count": null,
   "id": "f709687a",
   "metadata": {},
   "outputs": [],
   "source": [
    "spec_model, sky_model = pwl_model()\n",
    "\n",
    "datasets = Datasets(ds_src)\n",
    "\n",
    "datasets.models = sky_model\n",
    "\n",
    "fitter = Fit()\n",
    "result_pwl = fitter.run(datasets=datasets)\n"
   ]
  },
  {
   "cell_type": "code",
   "execution_count": null,
   "id": "71c00f0c",
   "metadata": {},
   "outputs": [],
   "source": [
    "sky_model.name"
   ]
  },
  {
   "cell_type": "markdown",
   "id": "a3fbfc6d",
   "metadata": {},
   "source": [
    "### Individual Source Analysis"
   ]
  },
  {
   "cell_type": "code",
   "execution_count": null,
   "id": "8e0fe06f",
   "metadata": {},
   "outputs": [],
   "source": [
    "src_index = 0\n",
    "\n",
    "LHAASO_src = list(dict(df[\"LHAASO\"]).values())[src_index]\n",
    "LHAASO_id = LHAASO_src.replace(\" \", \"\")\n",
    "\n",
    "TeVCount_src = list(dict(df[\"TeV Conterpart\"]).values())[src_index]\n",
    "TeVCount_id = TeVCount_src.replace(\" \", \"\")\n",
    "\n",
    "ds_src = ds_lst[src_index]"
   ]
  },
  {
   "cell_type": "code",
   "execution_count": null,
   "id": "3ab09386",
   "metadata": {},
   "outputs": [],
   "source": [
    "cat_index = 1\n",
    "cat_tag = df[\"Catalog\"][src_index][cat_index]\n",
    "source  = catalog[TeVCount_src]"
   ]
  },
  {
   "cell_type": "code",
   "execution_count": null,
   "id": "738eccd1",
   "metadata": {},
   "outputs": [],
   "source": [
    "cat_tag"
   ]
  },
  {
   "cell_type": "code",
   "execution_count": null,
   "id": "29b4fe0e",
   "metadata": {},
   "outputs": [],
   "source": [
    "source.data"
   ]
  },
  {
   "cell_type": "code",
   "execution_count": null,
   "id": "2d2d942f",
   "metadata": {},
   "outputs": [],
   "source": [
    "source.data.spec_type"
   ]
  },
  {
   "cell_type": "code",
   "execution_count": null,
   "id": "08c72301",
   "metadata": {},
   "outputs": [],
   "source": [
    "spec_model = source.spectral_model()"
   ]
  },
  {
   "cell_type": "code",
   "execution_count": null,
   "id": "62952600",
   "metadata": {},
   "outputs": [],
   "source": [
    "sky_model = SkyModel(spectral_model=spec_model, name=source.data.spec_type)"
   ]
  },
  {
   "cell_type": "code",
   "execution_count": null,
   "id": "a843c238",
   "metadata": {},
   "outputs": [],
   "source": [
    "datasets = Datasets([ds_src[cat_index]])\n",
    "datasets.models = sky_model"
   ]
  },
  {
   "cell_type": "code",
   "execution_count": null,
   "id": "b79c9df6",
   "metadata": {},
   "outputs": [],
   "source": [
    "ax = plt.subplot()\n",
    "ax.yaxis.set_units(u.Unit(\"erg cm-2 s-1\"))\n",
    "ax.xaxis.set_units(u.Unit(\"TeV\"))\n",
    "\n",
    "kwargs = {\"ax\": ax, \"sed_type\": \"e2dnde\"}\n",
    "kwargs_fit = {\"label\":sky_model.name}\n",
    "for d in datasets:\n",
    "    d.data.plot(label=d.name, **kwargs)\n",
    "\n",
    "energy_bounds = [1e-2, 1e3] * u.TeV\n",
    "spec_model.plot(energy_bounds=energy_bounds, color=\"k\", **kwargs, **kwargs_fit)\n",
    "spec_model.plot_error(energy_bounds=energy_bounds, **kwargs)\n",
    "ax.set_ylim(1e-16, 1e-7)\n",
    "ax.set_xlim(energy_bounds)\n",
    "\n",
    "plt.title(f\"{LHAASO_src}: {TeVCount_src}\")\n",
    "file = path_name / f'{LHAASO_id}_{TeVCount_id}_{sky_model.name}_{cat_tag}.png'\n",
    "ax.legend()\n",
    "plt.savefig(file, bbox_inches='tight')\n",
    "plt.show()"
   ]
  },
  {
   "cell_type": "code",
   "execution_count": null,
   "id": "8fc1f6d1",
   "metadata": {},
   "outputs": [],
   "source": []
  },
  {
   "cell_type": "code",
   "execution_count": null,
   "id": "b98b41a8",
   "metadata": {},
   "outputs": [],
   "source": []
  },
  {
   "cell_type": "code",
   "execution_count": null,
   "id": "89c9ae03",
   "metadata": {},
   "outputs": [],
   "source": []
  },
  {
   "cell_type": "code",
   "execution_count": null,
   "id": "cf1d8ed0",
   "metadata": {},
   "outputs": [],
   "source": [
    "import operator\n",
    "\n",
    "from gammapy.modeling.models import (\n",
    "    Models,\n",
    "    SkyModel,\n",
    "    CompoundSpectralModel,\n",
    "    SuperExpCutoffPowerLaw4FGLDR3SpectralModel,\n",
    ")\n",
    "\n",
    "\n",
    "\n",
    "secpl=model = SuperExpCutoffPowerLaw4FGLDR3SpectralModel(\n",
    "    index_1=2.4649e+00,\n",
    "    index_2=6.8682e-01,\n",
    "    amplitude=\"1.2156e-11 MeV-1 cm-2 s-1\",\n",
    "    reference=\"2.2472e+03 MeV\",\n",
    "    expfactor=6.6507e-01,\n",
    ")\n",
    "\n",
    "\n",
    "pwl = PowerLawSpectralModel(\n",
    "    index=2.0365e+00,\n",
    "    amplitude=\"2.7277e-13 cm-2 s-1 TeV-1\", \n",
    "    reference=\"2.0559e+00 TeV\"\n",
    ")\n",
    "\n",
    "spec_model= CompoundSpectralModel(pwl, secpl, operator.add)\n",
    "\n",
    "\n",
    "model = SkyModel(spectral_model=spec_model, name=\"j1507-pl\")\n",
    "\n",
    "\n",
    "datasets = Datasets([ds_src[2], ds_src[1]])\n",
    "datasets.models = model\n",
    "\n",
    "ax = plt.subplot()\n",
    "ax.yaxis.set_units(u.Unit(\"TeV cm-2 s-1\"))\n",
    "\n",
    "kwargs = {\"ax\": ax, \"sed_type\": \"e2dnde\"}\n",
    "\n",
    "for d in datasets:\n",
    "    d.data.plot(label=d.name, **kwargs)\n",
    "\n",
    "energy_bounds = [1e-10, 1e7] * u.TeV\n",
    "spec_model.plot(energy_bounds=energy_bounds, color=\"k\", **kwargs)\n",
    "spec_model.plot_error(energy_bounds=energy_bounds, **kwargs)\n",
    "ax.set_ylim(1e-26, 1e-8)\n",
    "ax.set_xlim(energy_bounds)\n",
    "ax.legend()\n",
    "plt.show()"
   ]
  },
  {
   "cell_type": "code",
   "execution_count": null,
   "id": "e0ed7abe",
   "metadata": {},
   "outputs": [],
   "source": []
  },
  {
   "cell_type": "code",
   "execution_count": null,
   "id": "05230f1d",
   "metadata": {},
   "outputs": [],
   "source": [
    "df[\"Catalog\"][src_index]"
   ]
  },
  {
   "cell_type": "code",
   "execution_count": null,
   "id": "09624605",
   "metadata": {},
   "outputs": [],
   "source": [
    "cat_index = 1\n",
    "cat_tag = df[\"Catalog\"][src_index][cat_index]"
   ]
  },
  {
   "cell_type": "code",
   "execution_count": null,
   "id": "48ec6df0",
   "metadata": {},
   "outputs": [],
   "source": [
    "catalog = CATALOG_REGISTRY.get_cls(cat_tag)()"
   ]
  },
  {
   "cell_type": "code",
   "execution_count": null,
   "id": "4735bf95",
   "metadata": {},
   "outputs": [],
   "source": [
    "source  = catalog[TeVCount_src]\n",
    "# print(f\"{catalog}\\n{source}\")"
   ]
  },
  {
   "cell_type": "code",
   "execution_count": null,
   "id": "3fa24c0a",
   "metadata": {},
   "outputs": [],
   "source": [
    "source.data[\"SpectrumType\"]"
   ]
  },
  {
   "cell_type": "code",
   "execution_count": null,
   "id": "9b24b7b3",
   "metadata": {},
   "outputs": [],
   "source": [
    "\n",
    "def secpwl_model(index_1=2, index_2=1, amplitude=\"1e-12 TeV-1 cm-2 s-1\",reference=\"1 TeV\", expfactor=1e-2, name = \"secpwl\"):\n",
    "    \n",
    "    '''Returns a Super Exponential Cutoff Power Law Model used for 4FGL-DR3\n",
    "    \n",
    "    Default function parameters\n",
    "    ----------\n",
    "    index=2\n",
    "    amplitude=\"1e-12 cm-2 s-1 TeV-1\" \n",
    "    reference=\"1 TeV\"\n",
    "    name = None\n",
    "    ----------\n",
    "    \n",
    "    pwl_model(index, amplitude, reference)\n",
    "    >>> model \n",
    "     '''\n",
    "    spec_model = SuperExpCutoffPowerLaw4FGLDR3SpectralModel(\n",
    "        index_1=index_1,\n",
    "        index_2=index_2,\n",
    "        amplitude=amplitude,\n",
    "        reference=reference,\n",
    "        expfactor=expfactor,\n",
    "    )\n",
    "    \n",
    "    sky_model = SkyModel(\n",
    "    spectral_model=spec_model, \n",
    "    name= name\n",
    "    )\n",
    "    return spec_model, sky_model"
   ]
  },
  {
   "cell_type": "code",
   "execution_count": null,
   "id": "9944b102",
   "metadata": {},
   "outputs": [],
   "source": [
    "spec_model, sky_model = secpwl_model()\n"
   ]
  },
  {
   "cell_type": "code",
   "execution_count": null,
   "id": "c42af692",
   "metadata": {},
   "outputs": [],
   "source": [
    "spec_model, sky_model = secpwl_model()\n",
    "# print(sky_model, asterisks())\n",
    "\n",
    "datasets = Datasets(ds_src)\n",
    "\n",
    "datasets.models = sky_model\n",
    "\n",
    "fitter = Fit()\n",
    "result_pwl = fitter.run(datasets=datasets)\n",
    "# print(datasets, asterisks())\n",
    "# print(result_pwl, asterisks())\n",
    "# print(sky_model, asterisks())\n",
    "# ## nomear os datasets!"
   ]
  },
  {
   "cell_type": "code",
   "execution_count": null,
   "id": "46d972c6",
   "metadata": {},
   "outputs": [],
   "source": []
  },
  {
   "cell_type": "code",
   "execution_count": null,
   "id": "69067b25",
   "metadata": {},
   "outputs": [],
   "source": [
    "# model.spectral_model.amplitude"
   ]
  },
  {
   "cell_type": "code",
   "execution_count": null,
   "id": "96739106",
   "metadata": {},
   "outputs": [],
   "source": [
    "ds_lst[0][1].data.to_table(sed_type=\"dnde\", formatted=True)"
   ]
  },
  {
   "cell_type": "code",
   "execution_count": null,
   "id": "ee3cec3c",
   "metadata": {},
   "outputs": [],
   "source": [
    "# ds_lst[2]"
   ]
  },
  {
   "cell_type": "code",
   "execution_count": null,
   "id": "109cbb2b",
   "metadata": {},
   "outputs": [],
   "source": [
    "log_parabola = LogParabolaSpectralModel(\n",
    "    alpha=2, amplitude=\"1e-12 cm-2 s-1 TeV-1\", reference=\"1 TeV\", beta=0.1\n",
    ")\n",
    "model = SkyModel(spectral_model=log_parabola, name=\"j1507-lp\")\n",
    "\n",
    "datasets.models = model\n",
    "result_log_parabola = fitter.run(datasets=datasets)\n",
    "# print(model)\n",
    "# print(result_log_parabola)\n",
    "ax = plt.subplot()\n",
    "\n",
    "kwargs = {\"ax\": ax, \"sed_type\": \"e2dnde\"}\n",
    "\n",
    "ax.yaxis.set_units(u.Unit(\"erg cm-2 s-1\"))\n",
    "ax.xaxis.set_units(u.Unit(\"TeV\"))\n",
    "\n",
    "for d in datasets:\n",
    "    d.data.plot(label=d.name, **kwargs)\n",
    "energy_bounds = [1e-7, 1e2] * u.TeV\n",
    "\n",
    "log_parabola.plot(energy_bounds=energy_bounds, color=\"k\", **kwargs, label=\"LogParabola\")\n",
    "log_parabola.plot_error(energy_bounds=energy_bounds, **kwargs)\n",
    "ax.set_ylim(1e-20, 1e-9)\n",
    "ax.set_xlim(energy_bounds)\n",
    "ax.legend(loc=1)\n",
    "plt.title(f\"{LHAASO_id}: {TeVCount_id}\")\n",
    "file = path_name / f'{LHAASO_id}_{TeVCount_id}_fit.png'\n",
    "plt.savefig(file, bbox_inches='tight')\n",
    "plt.show()"
   ]
  },
  {
   "cell_type": "code",
   "execution_count": null,
   "id": "ff4545d1",
   "metadata": {},
   "outputs": [],
   "source": [
    "print(result_log_parabola)"
   ]
  },
  {
   "cell_type": "code",
   "execution_count": null,
   "id": "83c01054",
   "metadata": {},
   "outputs": [],
   "source": [
    "models = Models([model])\n",
    "\n",
    "type(models.to_yaml())"
   ]
  },
  {
   "cell_type": "code",
   "execution_count": null,
   "id": "740be55c",
   "metadata": {},
   "outputs": [],
   "source": [
    "print(models.to_parameters_table())"
   ]
  },
  {
   "cell_type": "code",
   "execution_count": null,
   "id": "b947440d",
   "metadata": {},
   "outputs": [],
   "source": [
    "from tabulate import tabulate"
   ]
  },
  {
   "cell_type": "code",
   "execution_count": null,
   "id": "ed38f578",
   "metadata": {},
   "outputs": [],
   "source": [
    "Texttable = models.to_parameters_table()[\"name\",\"value\", \"error\", \"unit\"]"
   ]
  },
  {
   "cell_type": "code",
   "execution_count": null,
   "id": "5928c2ac",
   "metadata": {
    "scrolled": false
   },
   "outputs": [],
   "source": [
    "headers=Texttable.colnames"
   ]
  },
  {
   "cell_type": "code",
   "execution_count": null,
   "id": "68ab1e94",
   "metadata": {},
   "outputs": [],
   "source": [
    "print(tabulate(Texttable,headers=headers,tablefmt=\"latex\", floatfmt=\".3e\"))"
   ]
  },
  {
   "cell_type": "code",
   "execution_count": null,
   "id": "09bfabfa",
   "metadata": {},
   "outputs": [],
   "source": [
    "# help(tabulate)"
   ]
  },
  {
   "cell_type": "code",
   "execution_count": null,
   "id": "55fb27c5",
   "metadata": {},
   "outputs": [],
   "source": [
    "# table=Texttable\n",
    "# df = pd.DataFrame(table.to_pandas)\n",
    "# print(df)"
   ]
  },
  {
   "cell_type": "code",
   "execution_count": null,
   "id": "6ae4d6bb",
   "metadata": {},
   "outputs": [],
   "source": [
    "print(df.to_latex(index=False))"
   ]
  },
  {
   "cell_type": "code",
   "execution_count": null,
   "id": "37444d49",
   "metadata": {},
   "outputs": [],
   "source": [
    "models.write(\"models.yaml\", overwrite=True)"
   ]
  },
  {
   "cell_type": "code",
   "execution_count": null,
   "id": "7131aa2f",
   "metadata": {},
   "outputs": [],
   "source": [
    "models_read = Models.read(\"models.yaml\")"
   ]
  },
  {
   "cell_type": "code",
   "execution_count": null,
   "id": "17b7620c",
   "metadata": {},
   "outputs": [],
   "source": [
    "type(models_read)"
   ]
  },
  {
   "cell_type": "code",
   "execution_count": null,
   "id": "5d22e824",
   "metadata": {},
   "outputs": [],
   "source": [
    "models.write(\"models.yaml\", overwrite=True)\n",
    "\n",
    "models_read = Models.read(\"models.yaml\")"
   ]
  },
  {
   "cell_type": "code",
   "execution_count": null,
   "id": "5773a922",
   "metadata": {},
   "outputs": [],
   "source": [
    "print(models_read)"
   ]
  },
  {
   "cell_type": "code",
   "execution_count": null,
   "id": "caaaa558",
   "metadata": {},
   "outputs": [],
   "source": [
    "import yaml\n",
    "from pprint import pprint\n",
    "# convert yaml document to dict\n",
    "data = yaml.load(models.to_yaml(), Loader=yaml.Loader)\n",
    "print(data)\n"
   ]
  },
  {
   "cell_type": "code",
   "execution_count": null,
   "id": "ebf028e2",
   "metadata": {},
   "outputs": [],
   "source": [
    "df = pd.DataFrame(data) \n",
    "display(df) "
   ]
  },
  {
   "cell_type": "code",
   "execution_count": null,
   "id": "9ae15e96",
   "metadata": {},
   "outputs": [],
   "source": [
    "# dfi.export(ff, 'TeVCounterpart/flux_points/flux_pointss.png')"
   ]
  },
  {
   "cell_type": "code",
   "execution_count": null,
   "id": "c1b7c256",
   "metadata": {},
   "outputs": [],
   "source": [
    "help(FluxPointsDataset)"
   ]
  },
  {
   "cell_type": "code",
   "execution_count": null,
   "id": "570eea74",
   "metadata": {},
   "outputs": [],
   "source": [
    "catalog_tag = [\"gamma-cat\", \"hgps\", \"2hwc\", \"3fgl\", \"4fgl\", \"2fhl\", \"3fhl\", \"3hwc\"] \n",
    "lst=[]\n",
    "ds_lst = []\n",
    "for i in range(len(TeVCount_dict.keys())):\n",
    "    LHAASO = list(TeVCount_dict.keys())[i]\n",
    "\n",
    "    for j in range(len(TeVCount_dict[LHAASO])):\n",
    "        cat_off = []\n",
    "        cat_on = []\n",
    "        \n",
    "        pf_off = []\n",
    "        pf_on = []\n",
    "        ds_j=[]\n",
    "        TeVCount=TeVCount_dict[LHAASO][j]\n",
    "\n",
    "        for k in range(len(catalog_tag)): \n",
    "            cat_name = catalog_tag[k]\n",
    "            \n",
    "            try:\n",
    "                cat=CATALOG_REGISTRY.get_cls(cat_name)()\n",
    "                src=cat[TeVCount]\n",
    "                cat_on.append(catalog_tag[k])\n",
    "                \n",
    "                ds = FluxPointsDataset(\n",
    "                    data=src.flux_points, \n",
    "                    name=cat_name\n",
    "                )\n",
    "                ds_j.append(ds)\n",
    "                pf_on.append(catalog_tag[k])\n",
    "            except:\n",
    "                cat_off.append(catalog_tag[k])\n",
    "\n",
    "            lst_k=[LHAASO, TeVCount, cat_on, pf_on]\n",
    "        lst.append(lst_k)\n",
    "        ds_lst.append(ds_j)\n",
    "import pandas as pd \n",
    "# List1 \n",
    "# lst = [['apple', 'red', 11], ['grape', 'green', 22], ['orange', 'orange', 33], ['mango', 'yellow', 44]] \n",
    "df = pd.DataFrame(lst, columns =['LHAASO', 'Conterpart', 'Catalog', 'Flux Points']) \n",
    "display(df) "
   ]
  },
  {
   "cell_type": "code",
   "execution_count": null,
   "id": "f0f740be",
   "metadata": {},
   "outputs": [],
   "source": [
    "type(src.flux_points)"
   ]
  },
  {
   "cell_type": "code",
   "execution_count": null,
   "id": "3eacd0e2",
   "metadata": {},
   "outputs": [],
   "source": [
    "(ds_lst[1])"
   ]
  },
  {
   "cell_type": "code",
   "execution_count": null,
   "id": "f8f5feb4",
   "metadata": {},
   "outputs": [],
   "source": [
    "print(ds_lst[1][0].data.iter_by_axis)"
   ]
  },
  {
   "cell_type": "code",
   "execution_count": null,
   "id": "7f754988",
   "metadata": {},
   "outputs": [],
   "source": [
    "ds_lst[0][0].data.sqrt_ts_threshold_ul"
   ]
  },
  {
   "cell_type": "code",
   "execution_count": null,
   "id": "6920e241",
   "metadata": {},
   "outputs": [],
   "source": [
    "print(ds_lst[1][0].data.energy_max)"
   ]
  },
  {
   "cell_type": "code",
   "execution_count": null,
   "id": "45d77b85",
   "metadata": {},
   "outputs": [],
   "source": [
    "datasets = Datasets(ds_lst[1])\n",
    "datasets.models = model\n",
    "print(datasets)\n",
    "\n",
    "fitter = Fit()\n",
    "result_pwl = fitter.run(datasets=datasets)"
   ]
  },
  {
   "cell_type": "code",
   "execution_count": null,
   "id": "36674404",
   "metadata": {},
   "outputs": [],
   "source": [
    "ecpl = ExpCutoffPowerLawSpectralModel(\n",
    "    index=1.8,\n",
    "    amplitude=\"2e-12 cm-2 s-1 TeV-1\",\n",
    "    reference=\"1 TeV\",\n",
    "    lambda_=\"0.1 TeV-1\",\n",
    ")\n",
    "model = SkyModel(spectral_model=ecpl, name=\"j1507-ecpl\")\n",
    "\n",
    "datasets.models = model\n",
    "result_log_parabola = fitter.run(datasets=datasets)\n",
    "# print(model)\n",
    "# print(result_log_parabola)\n",
    "ax = plt.subplot()\n",
    "\n",
    "kwargs = {\"ax\": ax, \"sed_type\": \"e2dnde\"}\n",
    "\n",
    "ax.yaxis.set_units(u.Unit(\"TeV cm-2 s-1\"))\n",
    "\n",
    "for d in datasets:\n",
    "    d.data.plot(label=d.name, **kwargs)\n",
    "energy_bounds = [1e-5, 1e3] * u.TeV\n",
    "\n",
    "ecpl.plot(energy_bounds=energy_bounds, color=\"k\", **kwargs, label=\"LogParabola\")\n",
    "ecpl.plot_error(energy_bounds=energy_bounds, **kwargs)\n",
    "ax.set_ylim(1e-13, 1e-9)\n",
    "ax.set_xlim(energy_bounds)\n",
    "ax.legend(loc=1)\n",
    "plt.title(\"LHAASOJ1825-1326: HESSJ1825-137\")\n",
    "\n",
    "plt.savefig(\"LHAASOJ1825-1326_HESSJ1825-137_fit\", bbox_inches='tight')\n",
    "plt.show()\n"
   ]
  },
  {
   "cell_type": "code",
   "execution_count": null,
   "id": "ee734c10",
   "metadata": {},
   "outputs": [],
   "source": []
  },
  {
   "cell_type": "code",
   "execution_count": null,
   "id": "747d8c21",
   "metadata": {},
   "outputs": [],
   "source": []
  },
  {
   "cell_type": "code",
   "execution_count": null,
   "id": "e8bdadc0",
   "metadata": {},
   "outputs": [],
   "source": []
  }
 ],
 "metadata": {
  "kernelspec": {
   "display_name": "Python 3 (ipykernel)",
   "language": "python",
   "name": "python3"
  },
  "language_info": {
   "codemirror_mode": {
    "name": "ipython",
    "version": 3
   },
   "file_extension": ".py",
   "mimetype": "text/x-python",
   "name": "python",
   "nbconvert_exporter": "python",
   "pygments_lexer": "ipython3",
   "version": "3.9.15"
  }
 },
 "nbformat": 4,
 "nbformat_minor": 5
}
