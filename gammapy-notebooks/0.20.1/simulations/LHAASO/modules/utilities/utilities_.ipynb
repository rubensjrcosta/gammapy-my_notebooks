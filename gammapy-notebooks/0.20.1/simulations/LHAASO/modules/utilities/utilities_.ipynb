{
 "cells": [
  {
   "cell_type": "code",
   "execution_count": null,
   "id": "8ab8aafe",
   "metadata": {},
   "outputs": [],
   "source": [
    "from pathlib import Path"
   ]
  },
  {
   "cell_type": "code",
   "execution_count": null,
   "id": "eb2a5a77",
   "metadata": {},
   "outputs": [],
   "source": [
    "def mkdir_base_child(base_dir, child_dir):\n",
    "    '''Creates a directory: base_dir/child_dir and returs the path \n",
    "    mkdir_base_child(base_dir, child_dir)\n",
    "    >>> path_child\n",
    "    '''\n",
    "    path_base = Path(f\"{base_dir}\")\n",
    "    path_base.mkdir(exist_ok=True)\n",
    "\n",
    "    path_child = Path(f\"{path_base}/{child_dir}\")\n",
    "    path_child.mkdir(exist_ok=True)\n",
    "    \n",
    "    return path_child"
   ]
  }
 ],
 "metadata": {
  "kernelspec": {
   "display_name": "Python 3 (ipykernel)",
   "language": "python",
   "name": "python3"
  },
  "language_info": {
   "codemirror_mode": {
    "name": "ipython",
    "version": 3
   },
   "file_extension": ".py",
   "mimetype": "text/x-python",
   "name": "python",
   "nbconvert_exporter": "python",
   "pygments_lexer": "ipython3",
   "version": "3.9.15"
  }
 },
 "nbformat": 4,
 "nbformat_minor": 5
}
