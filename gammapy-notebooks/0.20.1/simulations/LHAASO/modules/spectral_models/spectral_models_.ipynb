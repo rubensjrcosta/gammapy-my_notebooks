{
 "cells": [
  {
   "cell_type": "markdown",
   "id": "7a0acf40",
   "metadata": {},
   "source": [
    "[gammapy.modeling.models.SpectralModel](https://docs.gammapy.org/1.0/api/gammapy.modeling.models.SpectralModel.html#gammapy.modeling.models.SpectralModel)"
   ]
  },
  {
   "cell_type": "code",
   "execution_count": null,
   "id": "75e5c0af",
   "metadata": {},
   "outputs": [],
   "source": [
    "from gammapy.modeling.models import (\n",
    "    PowerLawSpectralModel,\n",
    "    ExpCutoffPowerLawSpectralModel,\n",
    "    LogParabolaSpectralModel,\n",
    "    SkyModel,\n",
    ")"
   ]
  },
  {
   "cell_type": "code",
   "execution_count": null,
   "id": "ed6f6aad",
   "metadata": {},
   "outputs": [],
   "source": [
    "def pwl_model(index=2,amplitude=\"1e-12 cm-2 s-1 TeV-1\", reference=\"1 TeV\", name = \"pwl\"):\n",
    "    \n",
    "    '''Returns a spectral power-law model\n",
    "    \n",
    "    Default function parameters\n",
    "    ----------\n",
    "    index=2\n",
    "    amplitude=\"1e-12 cm-2 s-1 TeV-1\" \n",
    "    reference=\"1 TeV\"\n",
    "    name = None\n",
    "    ----------\n",
    "    \n",
    "    pwl_model(index, amplitude, reference)\n",
    "    >>> model \n",
    "     '''\n",
    "    spec_model = PowerLawSpectralModel(\n",
    "        index=index, \n",
    "        amplitude=amplitude, \n",
    "        reference=reference\n",
    "    )\n",
    "    sky_model = SkyModel(\n",
    "    spectral_model=spec_model, \n",
    "    name= name\n",
    "    )\n",
    "    return spec_model, sky_model"
   ]
  },
  {
   "cell_type": "code",
   "execution_count": null,
   "id": "c3efd1e9",
   "metadata": {},
   "outputs": [],
   "source": [
    "def _model(index=2,amplitude=\"1e-12 cm-2 s-1 TeV-1\", reference=\"1 TeV\", name = \"pwl\"):\n",
    "\n",
    "    log_parabola = LogParabolaSpectralModel(\n",
    "    alpha=2, amplitude=\"1e-12 cm-2 s-1 TeV-1\", reference=\"1 TeV\", beta=0.1\n",
    "    )\n",
    "    model = SkyModel(spectral_model=log_parabola, name=\"j1507-lp\")"
   ]
  }
 ],
 "metadata": {
  "kernelspec": {
   "display_name": "Python 3 (ipykernel)",
   "language": "python",
   "name": "python3"
  },
  "language_info": {
   "codemirror_mode": {
    "name": "ipython",
    "version": 3
   },
   "file_extension": ".py",
   "mimetype": "text/x-python",
   "name": "python",
   "nbconvert_exporter": "python",
   "pygments_lexer": "ipython3",
   "version": "3.9.15"
  }
 },
 "nbformat": 4,
 "nbformat_minor": 5
}
