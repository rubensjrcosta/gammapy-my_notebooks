{
 "cells": [
  {
   "cell_type": "code",
   "execution_count": 1,
   "id": "5ce110db",
   "metadata": {},
   "outputs": [],
   "source": [
    "# !pip install dataframe-image"
   ]
  },
  {
   "cell_type": "code",
   "execution_count": 2,
   "id": "fa05df50",
   "metadata": {},
   "outputs": [],
   "source": [
    "# !pip install tabulate"
   ]
  },
  {
   "cell_type": "markdown",
   "id": "b43d98b9",
   "metadata": {},
   "source": [
    "Carrega os catalogos do gammapy\n",
    "\n",
    "Verifica a existencia da fonte em cada um dos catalgos\n",
    "\n",
    "Guarda a tabela dos pontos de fluxos"
   ]
  },
  {
   "cell_type": "code",
   "execution_count": 3,
   "id": "c6e3efbf",
   "metadata": {},
   "outputs": [],
   "source": [
    "%matplotlib inline\n",
    "import matplotlib.pyplot as plt"
   ]
  },
  {
   "cell_type": "code",
   "execution_count": 4,
   "id": "3ac8a12e",
   "metadata": {},
   "outputs": [],
   "source": [
    "from gammapy.datasets import FluxPointsDataset, Datasets\n",
    "from gammapy.catalog import CATALOG_REGISTRY"
   ]
  },
  {
   "cell_type": "code",
   "execution_count": 5,
   "id": "eff6f5ad",
   "metadata": {},
   "outputs": [
    {
     "name": "stdout",
     "output_type": "stream",
     "text": [
      "/home/gamma/Documents/GitHub/gammapy/gammapy-notebooks/0.20.1/simulations/LHAASO/modules/spectral_models\n"
     ]
    }
   ],
   "source": [
    "import os\n",
    "import sys\n",
    "import importlib\n",
    "\n",
    "module_path = os.path.abspath('modules/spectral_models')\n",
    "if module_path not in sys.path:\n",
    "    sys.path.append(module_path)\n",
    "print(module_path)\n",
    "import spectral_models\n",
    "importlib.reload(spectral_models)\n",
    "from spectral_models import pwl_model"
   ]
  },
  {
   "cell_type": "code",
   "execution_count": 6,
   "id": "a1236f88",
   "metadata": {},
   "outputs": [],
   "source": [
    "from astropy import units as u\n",
    "\n",
    "from gammapy.modeling import Fit\n",
    "from gammapy.modeling.models import (\n",
    "    Models,\n",
    "    ExpCutoffPowerLawSpectralModel,\n",
    "    LogParabolaSpectralModel,\n",
    "    PowerLawSpectralModel,\n",
    "    SkyModel,\n",
    ")"
   ]
  },
  {
   "cell_type": "code",
   "execution_count": 7,
   "id": "9ed67461",
   "metadata": {},
   "outputs": [],
   "source": [
    "from pathlib import Path\n",
    "def mkdir_base_child(base_dir, child_dir):\n",
    "    '''Creates a directory: base_dir/child_dir and returs the path \n",
    "    mkdir_base_child(base_dir, child_dir)\n",
    "    >>> path_child\n",
    "    '''\n",
    "    path_base = Path(f\"{base_dir}\")\n",
    "    path_base.mkdir(exist_ok=True)\n",
    "\n",
    "    path_child = Path(f\"{path_base}/{child_dir}\")\n",
    "    path_child.mkdir(exist_ok=True)\n",
    "    \n",
    "    return path_child"
   ]
  },
  {
   "cell_type": "code",
   "execution_count": 8,
   "id": "b3e20dfe",
   "metadata": {},
   "outputs": [],
   "source": [
    "def asterisks(): \n",
    "    print(\"******************\")"
   ]
  },
  {
   "cell_type": "code",
   "execution_count": 9,
   "id": "3c0b7d3a",
   "metadata": {},
   "outputs": [],
   "source": [
    "# # Python program to store list to file using pickle module\n",
    "# import pickle\n",
    "\n",
    "# # write list to binary file\n",
    "# def write_list(lst, name):\n",
    "#     # store list in binary file so 'wb' mode\n",
    "#     with open(name, 'wb') as fp:\n",
    "#         pickle.dump(lst, fp)\n",
    "#         print('Done writing list into a binary file')\n",
    "\n",
    "# # Read list to memory\n",
    "# def read_list(name):\n",
    "#     # for reading also binary mode is important\n",
    "#     with open(name, 'rb') as fp:\n",
    "#         n_list = pickle.load(fp)\n",
    "#         return n_list\n",
    "    \n",
    "# write_list(ds_lst, \"ds_fp\")\n",
    "# ds_lst = read_list(\"ds_fp\")"
   ]
  },
  {
   "cell_type": "code",
   "execution_count": 10,
   "id": "1754fa6f",
   "metadata": {},
   "outputs": [],
   "source": [
    "catalog_gammacat = CATALOG_REGISTRY.get_cls(\"gamma-cat\")()\n",
    "catalog_hgps = CATALOG_REGISTRY.get_cls(\"hgps\")()\n",
    "catalog_2hwc = CATALOG_REGISTRY.get_cls(\"2hwc\")()\n",
    "catalog_3fgl = CATALOG_REGISTRY.get_cls(\"3fgl\")()\n",
    "catalog_4fgl = CATALOG_REGISTRY.get_cls(\"4fgl\")()\n",
    "catalog_2fhl = CATALOG_REGISTRY.get_cls(\"2fhl\")()\n",
    "catalog_3fhl = CATALOG_REGISTRY.get_cls(\"3fhl\")()\n",
    "catalog_3hwc = CATALOG_REGISTRY.get_cls(\"3hwc\")()"
   ]
  },
  {
   "cell_type": "code",
   "execution_count": 11,
   "id": "a02e6e1d",
   "metadata": {},
   "outputs": [],
   "source": [
    "# print(CATALOG_REGISTRY)"
   ]
  },
  {
   "cell_type": "code",
   "execution_count": 12,
   "id": "d610d96e",
   "metadata": {},
   "outputs": [],
   "source": [
    "catalog_tag = [\"gamma-cat\", \"hgps\", \"2hwc\", \"3hwc\", \"3fgl\", \"4fgl\", \"2fhl\", \"3fhl\"] "
   ]
  },
  {
   "cell_type": "code",
   "execution_count": 25,
   "id": "6899726e",
   "metadata": {},
   "outputs": [],
   "source": [
    "# catalogs = []\n",
    "# for i in range(len(catalog_tag)):\n",
    "#     catalog = CATALOG_REGISTRY.get_cls(catalog_tag[i])()\n",
    "#     catalogs.append(catalog)\n",
    "#     print(f\"{catalog}  tag: {catalog.tag}\")"
   ]
  },
  {
   "cell_type": "code",
   "execution_count": null,
   "id": "1554a765",
   "metadata": {},
   "outputs": [],
   "source": []
  },
  {
   "cell_type": "code",
   "execution_count": 14,
   "id": "1f45a8a0",
   "metadata": {},
   "outputs": [],
   "source": [
    "TeVCount_dict = {\n",
    "    \"LHAASO J1825-1326\": [\"HESS J1825-137\", \"HESS J1826-130\", \"2HWC J1825-134\"], \n",
    "    \"LHAASO J1908+0621\": [\"MGRO J1908+06\" , \"HESS J1908+063\", \"ARGO J1907+0627\", \"VER J1907+062\", \"2HWC J1908+063\"], \n",
    "    \"LHAASO J2226+6057\": [\"VER J2227+608\"  , \"Boomerang\"]\n",
    "}"
   ]
  },
  {
   "cell_type": "code",
   "execution_count": null,
   "id": "34280420",
   "metadata": {},
   "outputs": [],
   "source": []
  },
  {
   "cell_type": "code",
   "execution_count": 15,
   "id": "6cb6f05b",
   "metadata": {},
   "outputs": [],
   "source": [
    "import pandas as pd \n",
    "from pandas import read_csv\n",
    "path_name=mkdir_base_child(\"catalogs_data\", \"flux_points\")\n",
    "\n",
    "format_file = \".csv\"\n",
    "sed_type=\"dnde\"\n",
    "lst=[]\n",
    "ds_lst = []\n",
    "\n",
    "for i in range(len(TeVCount_dict.keys())):\n",
    "    LHAASO_src = list(TeVCount_dict.keys())[i]\n",
    "    LHAASO_id = LHAASO_src.replace(\" \", \"\")\n",
    "\n",
    "    for j in range(len(TeVCount_dict[LHAASO_src])):\n",
    "        cat_off = []\n",
    "        cat_on = []\n",
    "\n",
    "        pf_off = []\n",
    "        pf_on = []\n",
    "        src_on = []\n",
    "        \n",
    "        ds_j=[]\n",
    "\n",
    "        TeVCount_src=TeVCount_dict[LHAASO_src][j]\n",
    "        TeVCount_id = TeVCount_src.replace(\" \", \"\")\n",
    "        for k in range(len(catalog_tag)): \n",
    "            cat_name = catalog_tag[k]\n",
    "\n",
    "            try:\n",
    "                cat=CATALOG_REGISTRY.get_cls(cat_name)()\n",
    "                src=cat[TeVCount_src]\n",
    "                cat_on.append(catalog_tag[k])\n",
    "\n",
    "                ds = FluxPointsDataset(\n",
    "                    data=src.flux_points, \n",
    "                    name=cat_name\n",
    "                )\n",
    "                \n",
    "                ds_j.append(ds)\n",
    "                pf_on.append(catalog_tag[k])\n",
    "\n",
    "                table = ds.data.to_table(\n",
    "                    sed_type=sed_type, \n",
    "                    formatted=True\n",
    "                )\n",
    "                file_name = f'{LHAASO_id}_{TeVCount_id}_{cat_name}{format_file}'\n",
    "                path_os = os.path.abspath(\n",
    "                    os.path.join(\n",
    "                        f\"{path_name}/{file_name}\"\n",
    "                    )\n",
    "                )\n",
    "                src_on.append(src.data)\n",
    "                \n",
    "                if path_os not in sys.path:\n",
    "                    sys.path.append(path_os)\n",
    "\n",
    "                table.write(f\"{path_os}\",format='ascii.ecsv', overwrite=True)\n",
    "                \n",
    "\n",
    "            except:\n",
    "                cat_off.append(catalog_tag[k])\n",
    "\n",
    "            lst_k=[LHAASO_src, TeVCount_src, cat_on, pf_on, ds_j, src_on]\n",
    "        lst.append(lst_k)\n",
    "        ds_lst.append(ds_j)\n",
    "\n",
    "df = pd.DataFrame(lst, columns =['LHAASO', 'TeV Conterpart', 'Catalog', 'Flux Points', 'ds', 'src']) \n",
    "df.to_csv(f\"{path_name}/flux_points.csv\", index = True )"
   ]
  },
  {
   "cell_type": "code",
   "execution_count": 282,
   "id": "f25ef9ba",
   "metadata": {
    "scrolled": true
   },
   "outputs": [
    {
     "data": {
      "text/html": [
       "<div>\n",
       "<style scoped>\n",
       "    .dataframe tbody tr th:only-of-type {\n",
       "        vertical-align: middle;\n",
       "    }\n",
       "\n",
       "    .dataframe tbody tr th {\n",
       "        vertical-align: top;\n",
       "    }\n",
       "\n",
       "    .dataframe thead th {\n",
       "        text-align: right;\n",
       "    }\n",
       "</style>\n",
       "<table border=\"1\" class=\"dataframe\">\n",
       "  <thead>\n",
       "    <tr style=\"text-align: right;\">\n",
       "      <th></th>\n",
       "      <th>LHAASO</th>\n",
       "      <th>TeV Conterpart</th>\n",
       "      <th>Catalog</th>\n",
       "      <th>Flux Points</th>\n",
       "      <th>ds</th>\n",
       "      <th>src</th>\n",
       "    </tr>\n",
       "  </thead>\n",
       "  <tbody>\n",
       "    <tr>\n",
       "      <th>0</th>\n",
       "      <td>LHAASO J1825-1326</td>\n",
       "      <td>HESS J1825-137</td>\n",
       "      <td>[gamma-cat, hgps, 3fgl, 4fgl, 2fhl, 3fhl]</td>\n",
       "      <td>[gamma-cat, hgps, 3fgl, 4fgl, 2fhl, 3fhl]</td>\n",
       "      <td>[FluxPointsDataset\\n-----------------\\n\\n  Nam...</td>\n",
       "      <td>[{'source_id': 118, 'common_name': 'HESS J1825...</td>\n",
       "    </tr>\n",
       "    <tr>\n",
       "      <th>1</th>\n",
       "      <td>LHAASO J1825-1326</td>\n",
       "      <td>HESS J1826-130</td>\n",
       "      <td>[gamma-cat, hgps, 4fgl, 3fhl]</td>\n",
       "      <td>[gamma-cat, hgps, 4fgl, 3fhl]</td>\n",
       "      <td>[FluxPointsDataset\\n-----------------\\n\\n  Nam...</td>\n",
       "      <td>[{'source_id': 161, 'common_name': 'HESS J1826...</td>\n",
       "    </tr>\n",
       "    <tr>\n",
       "      <th>2</th>\n",
       "      <td>LHAASO J1825-1326</td>\n",
       "      <td>2HWC J1825-134</td>\n",
       "      <td>[2hwc]</td>\n",
       "      <td>[]</td>\n",
       "      <td>[]</td>\n",
       "      <td>[]</td>\n",
       "    </tr>\n",
       "    <tr>\n",
       "      <th>3</th>\n",
       "      <td>LHAASO J1908+0621</td>\n",
       "      <td>MGRO J1908+06</td>\n",
       "      <td>[gamma-cat, 3fgl, 4fgl]</td>\n",
       "      <td>[gamma-cat, 3fgl, 4fgl]</td>\n",
       "      <td>[FluxPointsDataset\\n-----------------\\n\\n  Nam...</td>\n",
       "      <td>[{'source_id': 132, 'common_name': 'MGRO J1908...</td>\n",
       "    </tr>\n",
       "    <tr>\n",
       "      <th>4</th>\n",
       "      <td>LHAASO J1908+0621</td>\n",
       "      <td>HESS J1908+063</td>\n",
       "      <td>[gamma-cat, hgps]</td>\n",
       "      <td>[gamma-cat, hgps]</td>\n",
       "      <td>[FluxPointsDataset\\n-----------------\\n\\n  Nam...</td>\n",
       "      <td>[{'source_id': 132, 'common_name': 'MGRO J1908...</td>\n",
       "    </tr>\n",
       "    <tr>\n",
       "      <th>5</th>\n",
       "      <td>LHAASO J1908+0621</td>\n",
       "      <td>ARGO J1907+0627</td>\n",
       "      <td>[gamma-cat]</td>\n",
       "      <td>[gamma-cat]</td>\n",
       "      <td>[FluxPointsDataset\\n-----------------\\n\\n  Nam...</td>\n",
       "      <td>[{'source_id': 132, 'common_name': 'MGRO J1908...</td>\n",
       "    </tr>\n",
       "    <tr>\n",
       "      <th>6</th>\n",
       "      <td>LHAASO J1908+0621</td>\n",
       "      <td>VER J1907+062</td>\n",
       "      <td>[gamma-cat]</td>\n",
       "      <td>[gamma-cat]</td>\n",
       "      <td>[FluxPointsDataset\\n-----------------\\n\\n  Nam...</td>\n",
       "      <td>[{'source_id': 132, 'common_name': 'MGRO J1908...</td>\n",
       "    </tr>\n",
       "    <tr>\n",
       "      <th>7</th>\n",
       "      <td>LHAASO J1908+0621</td>\n",
       "      <td>2HWC J1908+063</td>\n",
       "      <td>[2hwc]</td>\n",
       "      <td>[]</td>\n",
       "      <td>[]</td>\n",
       "      <td>[]</td>\n",
       "    </tr>\n",
       "    <tr>\n",
       "      <th>8</th>\n",
       "      <td>LHAASO J2226+6057</td>\n",
       "      <td>VER J2227+608</td>\n",
       "      <td>[]</td>\n",
       "      <td>[]</td>\n",
       "      <td>[]</td>\n",
       "      <td>[]</td>\n",
       "    </tr>\n",
       "    <tr>\n",
       "      <th>9</th>\n",
       "      <td>LHAASO J2226+6057</td>\n",
       "      <td>Boomerang</td>\n",
       "      <td>[3fgl, 4fgl]</td>\n",
       "      <td>[3fgl, 4fgl]</td>\n",
       "      <td>[FluxPointsDataset\\n-----------------\\n\\n  Nam...</td>\n",
       "      <td>[{'Source_Name': '3FGL J2229.0+6114 ', 'RAJ200...</td>\n",
       "    </tr>\n",
       "  </tbody>\n",
       "</table>\n",
       "</div>"
      ],
      "text/plain": [
       "              LHAASO   TeV Conterpart  \\\n",
       "0  LHAASO J1825-1326   HESS J1825-137   \n",
       "1  LHAASO J1825-1326   HESS J1826-130   \n",
       "2  LHAASO J1825-1326   2HWC J1825-134   \n",
       "3  LHAASO J1908+0621    MGRO J1908+06   \n",
       "4  LHAASO J1908+0621   HESS J1908+063   \n",
       "5  LHAASO J1908+0621  ARGO J1907+0627   \n",
       "6  LHAASO J1908+0621    VER J1907+062   \n",
       "7  LHAASO J1908+0621   2HWC J1908+063   \n",
       "8  LHAASO J2226+6057    VER J2227+608   \n",
       "9  LHAASO J2226+6057        Boomerang   \n",
       "\n",
       "                                     Catalog  \\\n",
       "0  [gamma-cat, hgps, 3fgl, 4fgl, 2fhl, 3fhl]   \n",
       "1              [gamma-cat, hgps, 4fgl, 3fhl]   \n",
       "2                                     [2hwc]   \n",
       "3                    [gamma-cat, 3fgl, 4fgl]   \n",
       "4                          [gamma-cat, hgps]   \n",
       "5                                [gamma-cat]   \n",
       "6                                [gamma-cat]   \n",
       "7                                     [2hwc]   \n",
       "8                                         []   \n",
       "9                               [3fgl, 4fgl]   \n",
       "\n",
       "                                 Flux Points  \\\n",
       "0  [gamma-cat, hgps, 3fgl, 4fgl, 2fhl, 3fhl]   \n",
       "1              [gamma-cat, hgps, 4fgl, 3fhl]   \n",
       "2                                         []   \n",
       "3                    [gamma-cat, 3fgl, 4fgl]   \n",
       "4                          [gamma-cat, hgps]   \n",
       "5                                [gamma-cat]   \n",
       "6                                [gamma-cat]   \n",
       "7                                         []   \n",
       "8                                         []   \n",
       "9                               [3fgl, 4fgl]   \n",
       "\n",
       "                                                  ds  \\\n",
       "0  [FluxPointsDataset\\n-----------------\\n\\n  Nam...   \n",
       "1  [FluxPointsDataset\\n-----------------\\n\\n  Nam...   \n",
       "2                                                 []   \n",
       "3  [FluxPointsDataset\\n-----------------\\n\\n  Nam...   \n",
       "4  [FluxPointsDataset\\n-----------------\\n\\n  Nam...   \n",
       "5  [FluxPointsDataset\\n-----------------\\n\\n  Nam...   \n",
       "6  [FluxPointsDataset\\n-----------------\\n\\n  Nam...   \n",
       "7                                                 []   \n",
       "8                                                 []   \n",
       "9  [FluxPointsDataset\\n-----------------\\n\\n  Nam...   \n",
       "\n",
       "                                                 src  \n",
       "0  [{'source_id': 118, 'common_name': 'HESS J1825...  \n",
       "1  [{'source_id': 161, 'common_name': 'HESS J1826...  \n",
       "2                                                 []  \n",
       "3  [{'source_id': 132, 'common_name': 'MGRO J1908...  \n",
       "4  [{'source_id': 132, 'common_name': 'MGRO J1908...  \n",
       "5  [{'source_id': 132, 'common_name': 'MGRO J1908...  \n",
       "6  [{'source_id': 132, 'common_name': 'MGRO J1908...  \n",
       "7                                                 []  \n",
       "8                                                 []  \n",
       "9  [{'Source_Name': '3FGL J2229.0+6114 ', 'RAJ200...  "
      ]
     },
     "execution_count": 282,
     "metadata": {},
     "output_type": "execute_result"
    }
   ],
   "source": [
    "df"
   ]
  },
  {
   "cell_type": "code",
   "execution_count": 17,
   "id": "1da1afe2",
   "metadata": {},
   "outputs": [],
   "source": [
    "src_index = 0\n",
    "\n",
    "LHAASO_src = list(dict(df[\"LHAASO\"]).values())[src_index]\n",
    "LHAASO_id = LHAASO_src.replace(\" \", \"\")\n",
    "\n",
    "TeVCount_src = list(dict(df[\"TeV Conterpart\"]).values())[src_index]\n",
    "TeVCount_id = TeVCount_src.replace(\" \", \"\")\n",
    "\n",
    "ds_src = ds_lst[src_index]"
   ]
  },
  {
   "cell_type": "code",
   "execution_count": 18,
   "id": "078a0acb",
   "metadata": {},
   "outputs": [
    {
     "data": {
      "text/plain": [
       "('LHAASOJ1825-1326',\n",
       " 'HESSJ1825-137',\n",
       " [<gammapy.datasets.flux_points.FluxPointsDataset at 0x7f6df6d12f40>,\n",
       "  <gammapy.datasets.flux_points.FluxPointsDataset at 0x7f6df6d59b80>,\n",
       "  <gammapy.datasets.flux_points.FluxPointsDataset at 0x7f6df958aca0>,\n",
       "  <gammapy.datasets.flux_points.FluxPointsDataset at 0x7f6df6c43d00>,\n",
       "  <gammapy.datasets.flux_points.FluxPointsDataset at 0x7f6df6d3f6d0>,\n",
       "  <gammapy.datasets.flux_points.FluxPointsDataset at 0x7f6e4c1483d0>])"
      ]
     },
     "execution_count": 18,
     "metadata": {},
     "output_type": "execute_result"
    }
   ],
   "source": [
    "# LHAASO_id, TeVCount_id, ds_src"
   ]
  },
  {
   "cell_type": "code",
   "execution_count": 19,
   "id": "cd73b982",
   "metadata": {},
   "outputs": [
    {
     "data": {
      "text/plain": [
       "['gamma-cat', 'hgps', '3fgl', '4fgl', '2fhl', '3fhl']"
      ]
     },
     "execution_count": 19,
     "metadata": {},
     "output_type": "execute_result"
    }
   ],
   "source": [
    "df[\"Catalog\"][src_index]"
   ]
  },
  {
   "cell_type": "code",
   "execution_count": 20,
   "id": "b7ce3ace",
   "metadata": {},
   "outputs": [],
   "source": [
    "cat_index = 0\n",
    "cat_tag = df[\"Catalog\"][src_index][cat_index]"
   ]
  },
  {
   "cell_type": "code",
   "execution_count": 21,
   "id": "056e9d07",
   "metadata": {},
   "outputs": [
    {
     "name": "stdout",
     "output_type": "stream",
     "text": [
      "SourceCatalogGammaCat:\n",
      "    name: gamma-cat\n",
      "    description: An open catalog of gamma-ray sources\n",
      "    sources: 162\n",
      "\n"
     ]
    }
   ],
   "source": [
    "catalog = CATALOG_REGISTRY.get_cls(cat_tag)()\n",
    "print(catalog)"
   ]
  },
  {
   "cell_type": "code",
   "execution_count": 22,
   "id": "0e1e9c7a",
   "metadata": {},
   "outputs": [
    {
     "name": "stdout",
     "output_type": "stream",
     "text": [
      "ExpCutoffPowerLawSpectralModel\n",
      "\n",
      "  type      name     value         unit      ... max frozen is_norm link\n",
      "-------- --------- ---------- -------------- ... --- ------ ------- ----\n",
      "spectral     index 2.2600e+00                ... nan  False   False     \n",
      "spectral amplitude 2.1000e-11 cm-2 s-1 TeV-1 ... nan  False    True     \n",
      "spectral reference 1.0000e+00            TeV ... nan   True   False     \n",
      "spectral   lambda_ 4.0323e-02          TeV-1 ... nan  False   False     \n",
      "spectral     alpha 1.0000e+00                ... nan   True   False     \n"
     ]
    }
   ],
   "source": [
    "source  = catalog[TeVCount_src]\n",
    "print(source.spectral_model())"
   ]
  },
  {
   "cell_type": "code",
   "execution_count": 23,
   "id": "14143903",
   "metadata": {},
   "outputs": [
    {
     "data": {
      "text/plain": [
       "SkyModel(spatial_model=<gammapy.modeling.models.spatial.GaussianSpatialModel object at 0x7f6df6a53b80>, spectral_model=<gammapy.modeling.models.spectral.ExpCutoffPowerLawSpectralModel object at 0x7f6df6c57ac0>)temporal_model=None)"
      ]
     },
     "execution_count": 23,
     "metadata": {},
     "output_type": "execute_result"
    }
   ],
   "source": [
    "# source.sky_model()"
   ]
  },
  {
   "cell_type": "code",
   "execution_count": 24,
   "id": "80c6cf47",
   "metadata": {},
   "outputs": [
    {
     "data": {
      "text/plain": [
       "{'source_id': 118,\n",
       " 'common_name': 'HESS J1825-137',\n",
       " 'gamma_names': 'HESS J1825-137,1HWC J1825-133',\n",
       " 'fermi_names': masked,\n",
       " 'other_names': 'PSR J1826-1334,PSR B1823-13',\n",
       " 'where': 'gal',\n",
       " 'classes': 'pwn',\n",
       " 'discoverer': 'hess',\n",
       " 'seen_by': 'hess,hawc',\n",
       " 'discovery_date': '2005-03',\n",
       " 'tevcat_id': 115,\n",
       " 'tevcat2_id': 'xnwQAv',\n",
       " 'tevcat_name': 'TeV J1826-137',\n",
       " 'tgevcat_id': 118,\n",
       " 'tgevcat_name': 'TeV J1825-1350',\n",
       " 'reference_id': '2006A&A...460..365A',\n",
       " 'significance': 33.8,\n",
       " 'livetime': <Quantity 52.1 h>,\n",
       " 'ra': <Quantity 276.5544 deg>,\n",
       " 'dec': <Quantity -13.58004 deg>,\n",
       " 'glon': <Quantity 18.00018 deg>,\n",
       " 'glat': <Quantity -0.69092745 deg>,\n",
       " 'pos_ra': <Quantity 276.42084 deg>,\n",
       " 'pos_dec': <Quantity -13.839167 deg>,\n",
       " 'pos_glon': <Quantity 17.710417 deg>,\n",
       " 'pos_glat': <Quantity -0.697004 deg>,\n",
       " 'pos_err': <Quantity 0.01102396 deg>,\n",
       " 'morph_type': 'gauss',\n",
       " 'morph_sigma': <Quantity 0.24 deg>,\n",
       " 'morph_sigma_err': <Quantity 0.02 deg>,\n",
       " 'morph_sigma2': <Quantity 0. deg>,\n",
       " 'morph_sigma2_err': <Quantity 0. deg>,\n",
       " 'morph_pa': <Quantity 0. deg>,\n",
       " 'morph_pa_err': <Quantity 0. deg>,\n",
       " 'morph_pa_frame': masked,\n",
       " 'spec_type': 'ecpl',\n",
       " 'spec_pl_norm': <Quantity 0. 1 / (cm2 s TeV)>,\n",
       " 'spec_pl_norm_err': <Quantity 0. 1 / (cm2 s TeV)>,\n",
       " 'spec_pl_norm_err_sys': <Quantity 0. 1 / (cm2 s TeV)>,\n",
       " 'spec_pl_index': masked,\n",
       " 'spec_pl_index_err': masked,\n",
       " 'spec_pl_index_err_sys': masked,\n",
       " 'spec_pl_e_ref': <Quantity 0. TeV>,\n",
       " 'spec_pl2_flux': <Quantity 0. 1 / (cm2 s)>,\n",
       " 'spec_pl2_flux_err': <Quantity 0. 1 / (cm2 s)>,\n",
       " 'spec_pl2_flux_err_sys': <Quantity 0. 1 / (cm2 s)>,\n",
       " 'spec_pl2_index': masked,\n",
       " 'spec_pl2_index_err': masked,\n",
       " 'spec_pl2_index_err_sys': masked,\n",
       " 'spec_pl2_e_min': <Quantity 0. TeV>,\n",
       " 'spec_pl2_e_max': <Quantity 0. TeV>,\n",
       " 'spec_ecpl_norm': <Quantity 2.1e-11 1 / (cm2 s TeV)>,\n",
       " 'spec_ecpl_norm_err': <Quantity 5.e-13 1 / (cm2 s TeV)>,\n",
       " 'spec_ecpl_norm_err_sys': <Quantity 0. 1 / (cm2 s TeV)>,\n",
       " 'spec_ecpl_index': 2.26,\n",
       " 'spec_ecpl_index_err': 0.03,\n",
       " 'spec_ecpl_index_err_sys': masked,\n",
       " 'spec_ecpl_e_cut': <Quantity 24.8 TeV>,\n",
       " 'spec_ecpl_e_cut_err': <Quantity 7.2 TeV>,\n",
       " 'spec_ecpl_e_cut_err_sys': <Quantity 0. TeV>,\n",
       " 'spec_ecpl_e_ref': <Quantity 1. TeV>,\n",
       " 'spec_erange_min': <Quantity 0.27 TeV>,\n",
       " 'spec_erange_max': <Quantity 0. TeV>,\n",
       " 'spec_theta': <Quantity 0.8 deg>,\n",
       " 'spec_dnde_1TeV': <Quantity 2.017007e-11 1 / (cm2 s TeV)>,\n",
       " 'spec_dnde_1TeV_err': <Quantity 5.351485e-13 1 / (cm2 s TeV)>,\n",
       " 'spec_flux_1TeV': <Quantity 1.4776536e-11 1 / (cm2 s)>,\n",
       " 'spec_flux_1TeV_err': <Quantity 6.4688684e-13 1 / (cm2 s)>,\n",
       " 'spec_flux_1TeV_crab': 71.23132,\n",
       " 'spec_flux_1TeV_crab_err': 3.1183634,\n",
       " 'spec_eflux_1TeV_10TeV': <Quantity 5.0830055e-11 erg / (cm2 s)>,\n",
       " 'spec_eflux_1TeV_10TeV_err': <Quantity 2.7439834e-12 erg / (cm2 s)>,\n",
       " 'sed_reference_id': '2006A&A...460..365A',\n",
       " 'sed_n_points': 11,\n",
       " 'sed_n_ul': 0,\n",
       " 'sed_e_ref': <Quantity [ 0.277619,  0.430245,  0.691719,  1.11424 ,  1.79312 ,\n",
       "             2.8884  ,  4.6527  ,  7.50195 , 12.0843  , 19.4657  ,\n",
       "            31.3861  ,       nan,       nan,       nan,       nan,\n",
       "                  nan,       nan,       nan,       nan,       nan,\n",
       "                  nan,       nan,       nan,       nan,       nan,\n",
       "                  nan,       nan,       nan,       nan,       nan,\n",
       "                  nan,       nan,       nan,       nan,       nan,\n",
       "                  nan,       nan,       nan,       nan,       nan] TeV>,\n",
       " 'sed_e_min': <Quantity [nan, nan, nan, nan, nan, nan, nan, nan, nan, nan, nan, nan, nan,\n",
       "            nan, nan, nan, nan, nan, nan, nan, nan, nan, nan, nan, nan, nan,\n",
       "            nan, nan, nan, nan, nan, nan, nan, nan, nan, nan, nan, nan, nan,\n",
       "            nan] TeV>,\n",
       " 'sed_e_max': <Quantity [nan, nan, nan, nan, nan, nan, nan, nan, nan, nan, nan, nan, nan,\n",
       "            nan, nan, nan, nan, nan, nan, nan, nan, nan, nan, nan, nan, nan,\n",
       "            nan, nan, nan, nan, nan, nan, nan, nan, nan, nan, nan, nan, nan,\n",
       "            nan] TeV>,\n",
       " 'sed_dnde': <Quantity [3.43570e-10, 1.29701e-10, 4.96572e-11, 1.60828e-11, 5.03824e-12,\n",
       "            1.82750e-12, 5.03522e-13, 1.46751e-13, 5.04029e-14, 1.33743e-14,\n",
       "            2.32419e-15,         nan,         nan,         nan,         nan,\n",
       "                    nan,         nan,         nan,         nan,         nan,\n",
       "                    nan,         nan,         nan,         nan,         nan,\n",
       "                    nan,         nan,         nan,         nan,         nan,\n",
       "                    nan,         nan,         nan,         nan,         nan,\n",
       "                    nan,         nan,         nan,         nan,         nan] 1 / (cm2 s TeV)>,\n",
       " 'sed_dnde_err': <Quantity [nan, nan, nan, nan, nan, nan, nan, nan, nan, nan, nan, nan, nan,\n",
       "            nan, nan, nan, nan, nan, nan, nan, nan, nan, nan, nan, nan, nan,\n",
       "            nan, nan, nan, nan, nan, nan, nan, nan, nan, nan, nan, nan, nan,\n",
       "            nan] 1 / (cm2 s TeV)>,\n",
       " 'sed_dnde_errp': <Quantity [2.25247e-11, 5.36768e-12, 1.68482e-12, 6.03157e-13, 2.37046e-13,\n",
       "            9.85326e-14, 4.20289e-14, 1.76157e-14, 7.19918e-15, 3.08613e-15,\n",
       "            1.10807e-15,         nan,         nan,         nan,         nan,\n",
       "                    nan,         nan,         nan,         nan,         nan,\n",
       "                    nan,         nan,         nan,         nan,         nan,\n",
       "                    nan,         nan,         nan,         nan,         nan,\n",
       "                    nan,         nan,         nan,         nan,         nan,\n",
       "                    nan,         nan,         nan,         nan,         nan] 1 / (cm2 s TeV)>,\n",
       " 'sed_dnde_errn': <Quantity [2.25161e-11, 5.36480e-12, 1.68327e-12, 6.02303e-13, 2.36614e-13,\n",
       "            9.82834e-14, 4.19123e-14, 1.75488e-14, 7.15292e-15, 3.05909e-15,\n",
       "            1.09291e-15,         nan,         nan,         nan,         nan,\n",
       "                    nan,         nan,         nan,         nan,         nan,\n",
       "                    nan,         nan,         nan,         nan,         nan,\n",
       "                    nan,         nan,         nan,         nan,         nan,\n",
       "                    nan,         nan,         nan,         nan,         nan,\n",
       "                    nan,         nan,         nan,         nan,         nan] 1 / (cm2 s TeV)>,\n",
       " 'sed_dnde_ul': <Quantity [nan, nan, nan, nan, nan, nan, nan, nan, nan, nan, nan, nan, nan,\n",
       "            nan, nan, nan, nan, nan, nan, nan, nan, nan, nan, nan, nan, nan,\n",
       "            nan, nan, nan, nan, nan, nan, nan, nan, nan, nan, nan, nan, nan,\n",
       "            nan] 1 / (cm2 s TeV)>,\n",
       " '_row_index': 121}"
      ]
     },
     "execution_count": 24,
     "metadata": {},
     "output_type": "execute_result"
    }
   ],
   "source": [
    "source.data"
   ]
  },
  {
   "cell_type": "code",
   "execution_count": null,
   "id": "dfb14935",
   "metadata": {
    "scrolled": true
   },
   "outputs": [],
   "source": [
    "# myData = read_csv(f\"{path_name}/flux_points.csv\", index_col = None)\n",
    "# list(dict.fromkeys(myData[\"LHAASO\"]))"
   ]
  },
  {
   "cell_type": "code",
   "execution_count": null,
   "id": "1c932e6b",
   "metadata": {},
   "outputs": [],
   "source": [
    "spec_model, sky_model = pwl_model()\n",
    "# print(sky_model, asterisks())\n",
    "\n",
    "datasets = Datasets(ds_src)\n",
    "\n",
    "datasets.models = sky_model\n",
    "\n",
    "fitter = Fit()\n",
    "result_pwl = fitter.run(datasets=datasets)\n",
    "# print(datasets, asterisks())\n",
    "# print(result_pwl, asterisks())\n",
    "# print(sky_model, asterisks())\n",
    "# ## nomear os datasets!"
   ]
  },
  {
   "cell_type": "code",
   "execution_count": null,
   "id": "bfef66b7",
   "metadata": {},
   "outputs": [],
   "source": [
    "sky_model.name"
   ]
  },
  {
   "cell_type": "code",
   "execution_count": null,
   "id": "5f871920",
   "metadata": {},
   "outputs": [],
   "source": [
    "def print_SED(spec_model = None, sed_type = \"e2dnde\", yaxis_units=\"TeV cm-2 s-1\", energy_bounds= [1e-5, 1e2] * u.TeV, ylim = [1e-13, 1e-9]):\n",
    "    '''Returns a spectral energy distribution\n",
    "    \n",
    "    print_SED(spec_model, yaxis_units, sed_type, reference)\n",
    "    >>> model \n",
    "    \n",
    "    Default function parameters\n",
    "    ----------\n",
    "    sed_type = \"e2dnde\"\n",
    "    yaxis_units=\"TeV cm-2 s-1\"\n",
    "    ----------\n",
    "    '''\n",
    "    path_name=mkdir_base_child(\"catalogs_data\", \"flux_points\")\n",
    "    ax = plt.subplot()\n",
    "    ax.yaxis.set_units(u.Unit(yaxis_units))\n",
    "    ax.xaxis.set_units(u.Unit(\"TeV\"))\n",
    "\n",
    "    label = f\"{sky_model}\"\n",
    "    \n",
    "    kwargs = {\n",
    "        \"ax\": ax, \n",
    "        \"sed_type\": sed_type\n",
    "    }    \n",
    "    for d in datasets:\n",
    "        d.data.plot(label=d.name, **kwargs)\n",
    "\n",
    "    try:   \n",
    "        kwargs_fit = {\"label\":sky_model.name}\n",
    "        spec_model.plot(energy_bounds=energy_bounds, color=\"k\", **kwargs, **kwargs_fit)\n",
    "        spec_model.plot_error(energy_bounds=energy_bounds, **kwargs)\n",
    "        file = path_name / f'{LHAASO_id}_{TeVCount_id}_{sky_model.name}.png'\n",
    "    except:\n",
    "        file = path_name / f'{LHAASO_id}_{TeVCount_id}.png'\n",
    "    \n",
    "    ax.set_ylim(ylim)\n",
    "    ax.set_xlim(energy_bounds)\n",
    "    ax.legend()\n",
    "    \n",
    "    plt.title(f\"{LHAASO_src}: {TeVCount_src}\")\n",
    "        \n",
    "    plt.savefig(file, bbox_inches='tight')\n",
    "    plt.show()\n",
    "    \n",
    "    return "
   ]
  },
  {
   "cell_type": "code",
   "execution_count": null,
   "id": "46bafdda",
   "metadata": {},
   "outputs": [],
   "source": []
  },
  {
   "cell_type": "code",
   "execution_count": null,
   "id": "3033663e",
   "metadata": {},
   "outputs": [],
   "source": [
    "energy_bounds = [1e-6, 1e2] * u.TeV\n",
    "ylim = [1e-16, 1e-9]\n",
    "print_SED(sed_type = \"e2dnde\", yaxis_units=\"erg cm-2 s-1\", energy_bounds=energy_bounds, ylim=ylim)"
   ]
  },
  {
   "cell_type": "code",
   "execution_count": null,
   "id": "fe3924aa",
   "metadata": {},
   "outputs": [],
   "source": [
    "print(sky_model.spectral_model)"
   ]
  },
  {
   "cell_type": "code",
   "execution_count": null,
   "id": "2e7358be",
   "metadata": {},
   "outputs": [],
   "source": [
    "energy_bounds = [1e-5, 1e3] * u.TeV\n",
    "ylim = [1e-16, 1e-8]\n",
    "print_SED(spec_model=spec_model, sed_type = \"e2dnde\", yaxis_units=\"TeV cm-2 s-1\", energy_bounds=energy_bounds, ylim=ylim)"
   ]
  },
  {
   "cell_type": "code",
   "execution_count": null,
   "id": "e154bd19",
   "metadata": {},
   "outputs": [],
   "source": []
  },
  {
   "cell_type": "markdown",
   "id": "62b51ddb",
   "metadata": {},
   "source": [
    "### Individual Source Analysis"
   ]
  },
  {
   "cell_type": "code",
   "execution_count": 361,
   "id": "1769028a",
   "metadata": {},
   "outputs": [],
   "source": [
    "src_index = 0\n",
    "\n",
    "LHAASO_src = list(dict(df[\"LHAASO\"]).values())[src_index]\n",
    "LHAASO_id = LHAASO_src.replace(\" \", \"\")\n",
    "\n",
    "TeVCount_src = list(dict(df[\"TeV Conterpart\"]).values())[src_index]\n",
    "TeVCount_id = TeVCount_src.replace(\" \", \"\")\n",
    "\n",
    "ds_src = ds_lst[src_index]"
   ]
  },
  {
   "cell_type": "code",
   "execution_count": 362,
   "id": "132656f4",
   "metadata": {},
   "outputs": [
    {
     "data": {
      "text/plain": [
       "[<gammapy.datasets.flux_points.FluxPointsDataset at 0x7f6df6d12f40>,\n",
       " <gammapy.datasets.flux_points.FluxPointsDataset at 0x7f6df6d59b80>,\n",
       " <gammapy.datasets.flux_points.FluxPointsDataset at 0x7f6df958aca0>,\n",
       " <gammapy.datasets.flux_points.FluxPointsDataset at 0x7f6df6c43d00>,\n",
       " <gammapy.datasets.flux_points.FluxPointsDataset at 0x7f6df6d3f6d0>,\n",
       " <gammapy.datasets.flux_points.FluxPointsDataset at 0x7f6e4c1483d0>]"
      ]
     },
     "execution_count": 362,
     "metadata": {},
     "output_type": "execute_result"
    }
   ],
   "source": [
    "ds_src"
   ]
  },
  {
   "cell_type": "code",
   "execution_count": 363,
   "id": "cf3ed544",
   "metadata": {},
   "outputs": [],
   "source": [
    "cat_index = 1\n",
    "cat_tag = df[\"Catalog\"][src_index][cat_index]\n",
    "source  = catalog[TeVCount_src]"
   ]
  },
  {
   "cell_type": "code",
   "execution_count": 364,
   "id": "705a53c2",
   "metadata": {},
   "outputs": [
    {
     "data": {
      "text/plain": [
       "'hgps'"
      ]
     },
     "execution_count": 364,
     "metadata": {},
     "output_type": "execute_result"
    }
   ],
   "source": [
    "cat_tag"
   ]
  },
  {
   "cell_type": "code",
   "execution_count": 365,
   "id": "7ba8c578",
   "metadata": {},
   "outputs": [
    {
     "data": {
      "text/plain": [
       "{'source_id': 118,\n",
       " 'common_name': 'HESS J1825-137',\n",
       " 'gamma_names': 'HESS J1825-137,1HWC J1825-133',\n",
       " 'fermi_names': masked,\n",
       " 'other_names': 'PSR J1826-1334,PSR B1823-13',\n",
       " 'where': 'gal',\n",
       " 'classes': 'pwn',\n",
       " 'discoverer': 'hess',\n",
       " 'seen_by': 'hess,hawc',\n",
       " 'discovery_date': '2005-03',\n",
       " 'tevcat_id': 115,\n",
       " 'tevcat2_id': 'xnwQAv',\n",
       " 'tevcat_name': 'TeV J1826-137',\n",
       " 'tgevcat_id': 118,\n",
       " 'tgevcat_name': 'TeV J1825-1350',\n",
       " 'reference_id': '2006A&A...460..365A',\n",
       " 'significance': 33.8,\n",
       " 'livetime': <Quantity 52.1 h>,\n",
       " 'ra': <Quantity 276.5544 deg>,\n",
       " 'dec': <Quantity -13.58004 deg>,\n",
       " 'glon': <Quantity 18.00018 deg>,\n",
       " 'glat': <Quantity -0.69092745 deg>,\n",
       " 'pos_ra': <Quantity 276.42084 deg>,\n",
       " 'pos_dec': <Quantity -13.839167 deg>,\n",
       " 'pos_glon': <Quantity 17.710417 deg>,\n",
       " 'pos_glat': <Quantity -0.697004 deg>,\n",
       " 'pos_err': <Quantity 0.01102396 deg>,\n",
       " 'morph_type': 'gauss',\n",
       " 'morph_sigma': <Quantity 0.24 deg>,\n",
       " 'morph_sigma_err': <Quantity 0.02 deg>,\n",
       " 'morph_sigma2': <Quantity 0. deg>,\n",
       " 'morph_sigma2_err': <Quantity 0. deg>,\n",
       " 'morph_pa': <Quantity 0. deg>,\n",
       " 'morph_pa_err': <Quantity 0. deg>,\n",
       " 'morph_pa_frame': masked,\n",
       " 'spec_type': 'ecpl',\n",
       " 'spec_pl_norm': <Quantity 0. 1 / (cm2 s TeV)>,\n",
       " 'spec_pl_norm_err': <Quantity 0. 1 / (cm2 s TeV)>,\n",
       " 'spec_pl_norm_err_sys': <Quantity 0. 1 / (cm2 s TeV)>,\n",
       " 'spec_pl_index': masked,\n",
       " 'spec_pl_index_err': masked,\n",
       " 'spec_pl_index_err_sys': masked,\n",
       " 'spec_pl_e_ref': <Quantity 0. TeV>,\n",
       " 'spec_pl2_flux': <Quantity 0. 1 / (cm2 s)>,\n",
       " 'spec_pl2_flux_err': <Quantity 0. 1 / (cm2 s)>,\n",
       " 'spec_pl2_flux_err_sys': <Quantity 0. 1 / (cm2 s)>,\n",
       " 'spec_pl2_index': masked,\n",
       " 'spec_pl2_index_err': masked,\n",
       " 'spec_pl2_index_err_sys': masked,\n",
       " 'spec_pl2_e_min': <Quantity 0. TeV>,\n",
       " 'spec_pl2_e_max': <Quantity 0. TeV>,\n",
       " 'spec_ecpl_norm': <Quantity 2.1e-11 1 / (cm2 s TeV)>,\n",
       " 'spec_ecpl_norm_err': <Quantity 5.e-13 1 / (cm2 s TeV)>,\n",
       " 'spec_ecpl_norm_err_sys': <Quantity 0. 1 / (cm2 s TeV)>,\n",
       " 'spec_ecpl_index': 2.26,\n",
       " 'spec_ecpl_index_err': 0.03,\n",
       " 'spec_ecpl_index_err_sys': masked,\n",
       " 'spec_ecpl_e_cut': <Quantity 24.8 TeV>,\n",
       " 'spec_ecpl_e_cut_err': <Quantity 7.2 TeV>,\n",
       " 'spec_ecpl_e_cut_err_sys': <Quantity 0. TeV>,\n",
       " 'spec_ecpl_e_ref': <Quantity 1. TeV>,\n",
       " 'spec_erange_min': <Quantity 0.27 TeV>,\n",
       " 'spec_erange_max': <Quantity 0. TeV>,\n",
       " 'spec_theta': <Quantity 0.8 deg>,\n",
       " 'spec_dnde_1TeV': <Quantity 2.017007e-11 1 / (cm2 s TeV)>,\n",
       " 'spec_dnde_1TeV_err': <Quantity 5.351485e-13 1 / (cm2 s TeV)>,\n",
       " 'spec_flux_1TeV': <Quantity 1.4776536e-11 1 / (cm2 s)>,\n",
       " 'spec_flux_1TeV_err': <Quantity 6.4688684e-13 1 / (cm2 s)>,\n",
       " 'spec_flux_1TeV_crab': 71.23132,\n",
       " 'spec_flux_1TeV_crab_err': 3.1183634,\n",
       " 'spec_eflux_1TeV_10TeV': <Quantity 5.0830055e-11 erg / (cm2 s)>,\n",
       " 'spec_eflux_1TeV_10TeV_err': <Quantity 2.7439834e-12 erg / (cm2 s)>,\n",
       " 'sed_reference_id': '2006A&A...460..365A',\n",
       " 'sed_n_points': 11,\n",
       " 'sed_n_ul': 0,\n",
       " 'sed_e_ref': <Quantity [ 0.277619,  0.430245,  0.691719,  1.11424 ,  1.79312 ,\n",
       "             2.8884  ,  4.6527  ,  7.50195 , 12.0843  , 19.4657  ,\n",
       "            31.3861  ,       nan,       nan,       nan,       nan,\n",
       "                  nan,       nan,       nan,       nan,       nan,\n",
       "                  nan,       nan,       nan,       nan,       nan,\n",
       "                  nan,       nan,       nan,       nan,       nan,\n",
       "                  nan,       nan,       nan,       nan,       nan,\n",
       "                  nan,       nan,       nan,       nan,       nan] TeV>,\n",
       " 'sed_e_min': <Quantity [nan, nan, nan, nan, nan, nan, nan, nan, nan, nan, nan, nan, nan,\n",
       "            nan, nan, nan, nan, nan, nan, nan, nan, nan, nan, nan, nan, nan,\n",
       "            nan, nan, nan, nan, nan, nan, nan, nan, nan, nan, nan, nan, nan,\n",
       "            nan] TeV>,\n",
       " 'sed_e_max': <Quantity [nan, nan, nan, nan, nan, nan, nan, nan, nan, nan, nan, nan, nan,\n",
       "            nan, nan, nan, nan, nan, nan, nan, nan, nan, nan, nan, nan, nan,\n",
       "            nan, nan, nan, nan, nan, nan, nan, nan, nan, nan, nan, nan, nan,\n",
       "            nan] TeV>,\n",
       " 'sed_dnde': <Quantity [3.43570e-10, 1.29701e-10, 4.96572e-11, 1.60828e-11, 5.03824e-12,\n",
       "            1.82750e-12, 5.03522e-13, 1.46751e-13, 5.04029e-14, 1.33743e-14,\n",
       "            2.32419e-15,         nan,         nan,         nan,         nan,\n",
       "                    nan,         nan,         nan,         nan,         nan,\n",
       "                    nan,         nan,         nan,         nan,         nan,\n",
       "                    nan,         nan,         nan,         nan,         nan,\n",
       "                    nan,         nan,         nan,         nan,         nan,\n",
       "                    nan,         nan,         nan,         nan,         nan] 1 / (cm2 s TeV)>,\n",
       " 'sed_dnde_err': <Quantity [nan, nan, nan, nan, nan, nan, nan, nan, nan, nan, nan, nan, nan,\n",
       "            nan, nan, nan, nan, nan, nan, nan, nan, nan, nan, nan, nan, nan,\n",
       "            nan, nan, nan, nan, nan, nan, nan, nan, nan, nan, nan, nan, nan,\n",
       "            nan] 1 / (cm2 s TeV)>,\n",
       " 'sed_dnde_errp': <Quantity [2.25247e-11, 5.36768e-12, 1.68482e-12, 6.03157e-13, 2.37046e-13,\n",
       "            9.85326e-14, 4.20289e-14, 1.76157e-14, 7.19918e-15, 3.08613e-15,\n",
       "            1.10807e-15,         nan,         nan,         nan,         nan,\n",
       "                    nan,         nan,         nan,         nan,         nan,\n",
       "                    nan,         nan,         nan,         nan,         nan,\n",
       "                    nan,         nan,         nan,         nan,         nan,\n",
       "                    nan,         nan,         nan,         nan,         nan,\n",
       "                    nan,         nan,         nan,         nan,         nan] 1 / (cm2 s TeV)>,\n",
       " 'sed_dnde_errn': <Quantity [2.25161e-11, 5.36480e-12, 1.68327e-12, 6.02303e-13, 2.36614e-13,\n",
       "            9.82834e-14, 4.19123e-14, 1.75488e-14, 7.15292e-15, 3.05909e-15,\n",
       "            1.09291e-15,         nan,         nan,         nan,         nan,\n",
       "                    nan,         nan,         nan,         nan,         nan,\n",
       "                    nan,         nan,         nan,         nan,         nan,\n",
       "                    nan,         nan,         nan,         nan,         nan,\n",
       "                    nan,         nan,         nan,         nan,         nan,\n",
       "                    nan,         nan,         nan,         nan,         nan] 1 / (cm2 s TeV)>,\n",
       " 'sed_dnde_ul': <Quantity [nan, nan, nan, nan, nan, nan, nan, nan, nan, nan, nan, nan, nan,\n",
       "            nan, nan, nan, nan, nan, nan, nan, nan, nan, nan, nan, nan, nan,\n",
       "            nan, nan, nan, nan, nan, nan, nan, nan, nan, nan, nan, nan, nan,\n",
       "            nan] 1 / (cm2 s TeV)>,\n",
       " '_row_index': 121}"
      ]
     },
     "execution_count": 365,
     "metadata": {},
     "output_type": "execute_result"
    }
   ],
   "source": [
    "source.data"
   ]
  },
  {
   "cell_type": "code",
   "execution_count": 366,
   "id": "3f369a8f",
   "metadata": {},
   "outputs": [
    {
     "data": {
      "text/plain": [
       "'ecpl'"
      ]
     },
     "execution_count": 366,
     "metadata": {},
     "output_type": "execute_result"
    }
   ],
   "source": [
    "source.data.spec_type"
   ]
  },
  {
   "cell_type": "code",
   "execution_count": 367,
   "id": "bb3fa7b6",
   "metadata": {},
   "outputs": [],
   "source": [
    "spec_model = source.spectral_model()"
   ]
  },
  {
   "cell_type": "code",
   "execution_count": 368,
   "id": "a77b192b",
   "metadata": {},
   "outputs": [],
   "source": [
    "sky_model = SkyModel(spectral_model=spec_model, name=source.data.spec_type)"
   ]
  },
  {
   "cell_type": "code",
   "execution_count": 369,
   "id": "d07d49ca",
   "metadata": {},
   "outputs": [],
   "source": [
    "datasets = Datasets([ds_src[cat_index]])\n",
    "datasets.models = sky_model"
   ]
  },
  {
   "cell_type": "code",
   "execution_count": 370,
   "id": "c2fc6ede",
   "metadata": {},
   "outputs": [
    {
     "data": {
      "image/png": "[encoded data removed]",
      "text/plain": [
       "<Figure size 640x480 with 1 Axes>"
      ]
     },
     "metadata": {},
     "output_type": "display_data"
    }
   ],
   "source": [
    "ax = plt.subplot()\n",
    "ax.yaxis.set_units(u.Unit(\"erg cm-2 s-1\"))\n",
    "ax.xaxis.set_units(u.Unit(\"TeV\"))\n",
    "\n",
    "kwargs = {\"ax\": ax, \"sed_type\": \"e2dnde\"}\n",
    "kwargs_fit = {\"label\":sky_model.name}\n",
    "for d in datasets:\n",
    "    d.data.plot(label=d.name, **kwargs)\n",
    "\n",
    "energy_bounds = [1e-2, 1e3] * u.TeV\n",
    "spec_model.plot(energy_bounds=energy_bounds, color=\"k\", **kwargs, **kwargs_fit)\n",
    "spec_model.plot_error(energy_bounds=energy_bounds, **kwargs)\n",
    "ax.set_ylim(1e-16, 1e-7)\n",
    "ax.set_xlim(energy_bounds)\n",
    "\n",
    "plt.title(f\"{LHAASO_src}: {TeVCount_src}\")\n",
    "file = path_name / f'{LHAASO_id}_{TeVCount_id}_{sky_model.name}_{cat_tag}.png'\n",
    "ax.legend()\n",
    "plt.savefig(file, bbox_inches='tight')\n",
    "plt.show()"
   ]
  },
  {
   "cell_type": "code",
   "execution_count": null,
   "id": "536780dc",
   "metadata": {},
   "outputs": [],
   "source": []
  },
  {
   "cell_type": "code",
   "execution_count": null,
   "id": "2ed46e97",
   "metadata": {},
   "outputs": [],
   "source": []
  },
  {
   "cell_type": "code",
   "execution_count": null,
   "id": "1818141a",
   "metadata": {},
   "outputs": [],
   "source": []
  },
  {
   "cell_type": "code",
   "execution_count": 162,
   "id": "ebd870a0",
   "metadata": {},
   "outputs": [
    {
     "data": {
      "image/png": "[encoded data removed]",
      "text/plain": [
       "<Figure size 640x480 with 1 Axes>"
      ]
     },
     "metadata": {},
     "output_type": "display_data"
    }
   ],
   "source": [
    "import operator\n",
    "\n",
    "from gammapy.modeling.models import (\n",
    "    Models,\n",
    "    SkyModel,\n",
    "    CompoundSpectralModel,\n",
    "    SuperExpCutoffPowerLaw4FGLDR3SpectralModel,\n",
    ")\n",
    "\n",
    "\n",
    "\n",
    "secpl=model = SuperExpCutoffPowerLaw4FGLDR3SpectralModel(\n",
    "    index_1=2.4649e+00,\n",
    "    index_2=6.8682e-01,\n",
    "    amplitude=\"1.2156e-11 MeV-1 cm-2 s-1\",\n",
    "    reference=\"2.2472e+03 MeV\",\n",
    "    expfactor=6.6507e-01,\n",
    ")\n",
    "\n",
    "\n",
    "pwl = PowerLawSpectralModel(\n",
    "    index=2.0365e+00,\n",
    "    amplitude=\"2.7277e-13 cm-2 s-1 TeV-1\", \n",
    "    reference=\"2.0559e+00 TeV\"\n",
    ")\n",
    "\n",
    "spec_model= CompoundSpectralModel(pwl, secpl, operator.add)\n",
    "\n",
    "\n",
    "model = SkyModel(spectral_model=spec_model, name=\"j1507-pl\")\n",
    "\n",
    "\n",
    "datasets = Datasets([ds_src[2], ds_src[1]])\n",
    "datasets.models = model\n",
    "\n",
    "ax = plt.subplot()\n",
    "ax.yaxis.set_units(u.Unit(\"TeV cm-2 s-1\"))\n",
    "\n",
    "kwargs = {\"ax\": ax, \"sed_type\": \"e2dnde\"}\n",
    "\n",
    "for d in datasets:\n",
    "    d.data.plot(label=d.name, **kwargs)\n",
    "\n",
    "energy_bounds = [1e-10, 1e7] * u.TeV\n",
    "spec_model.plot(energy_bounds=energy_bounds, color=\"k\", **kwargs)\n",
    "spec_model.plot_error(energy_bounds=energy_bounds, **kwargs)\n",
    "ax.set_ylim(1e-26, 1e-8)\n",
    "ax.set_xlim(energy_bounds)\n",
    "ax.legend()\n",
    "plt.show()"
   ]
  },
  {
   "cell_type": "code",
   "execution_count": null,
   "id": "a3966acf",
   "metadata": {},
   "outputs": [],
   "source": []
  },
  {
   "cell_type": "code",
   "execution_count": null,
   "id": "c2e195c5",
   "metadata": {},
   "outputs": [],
   "source": [
    "df[\"Catalog\"][src_index]"
   ]
  },
  {
   "cell_type": "code",
   "execution_count": null,
   "id": "def0604b",
   "metadata": {},
   "outputs": [],
   "source": [
    "cat_index = 1\n",
    "cat_tag = df[\"Catalog\"][src_index][cat_index]"
   ]
  },
  {
   "cell_type": "code",
   "execution_count": null,
   "id": "e7b205a9",
   "metadata": {},
   "outputs": [],
   "source": [
    "catalog = CATALOG_REGISTRY.get_cls(cat_tag)()"
   ]
  },
  {
   "cell_type": "code",
   "execution_count": null,
   "id": "ca3c2e1b",
   "metadata": {},
   "outputs": [],
   "source": [
    "source  = catalog[TeVCount_src]\n",
    "# print(f\"{catalog}\\n{source}\")"
   ]
  },
  {
   "cell_type": "code",
   "execution_count": null,
   "id": "f957328d",
   "metadata": {},
   "outputs": [],
   "source": [
    "source.data[\"SpectrumType\"]"
   ]
  },
  {
   "cell_type": "code",
   "execution_count": null,
   "id": "d5129c3a",
   "metadata": {},
   "outputs": [],
   "source": [
    "\n",
    "def secpwl_model(index_1=2, index_2=1, amplitude=\"1e-12 TeV-1 cm-2 s-1\",reference=\"1 TeV\", expfactor=1e-2, name = \"secpwl\"):\n",
    "    \n",
    "    '''Returns a Super Exponential Cutoff Power Law Model used for 4FGL-DR3\n",
    "    \n",
    "    Default function parameters\n",
    "    ----------\n",
    "    index=2\n",
    "    amplitude=\"1e-12 cm-2 s-1 TeV-1\" \n",
    "    reference=\"1 TeV\"\n",
    "    name = None\n",
    "    ----------\n",
    "    \n",
    "    pwl_model(index, amplitude, reference)\n",
    "    >>> model \n",
    "     '''\n",
    "    spec_model = SuperExpCutoffPowerLaw4FGLDR3SpectralModel(\n",
    "        index_1=index_1,\n",
    "        index_2=index_2,\n",
    "        amplitude=amplitude,\n",
    "        reference=reference,\n",
    "        expfactor=expfactor,\n",
    "    )\n",
    "    \n",
    "    sky_model = SkyModel(\n",
    "    spectral_model=spec_model, \n",
    "    name= name\n",
    "    )\n",
    "    return spec_model, sky_model"
   ]
  },
  {
   "cell_type": "code",
   "execution_count": null,
   "id": "e1a63e18",
   "metadata": {},
   "outputs": [],
   "source": [
    "spec_model, sky_model = secpwl_model()\n"
   ]
  },
  {
   "cell_type": "code",
   "execution_count": null,
   "id": "ae33d61e",
   "metadata": {},
   "outputs": [],
   "source": [
    "spec_model, sky_model = secpwl_model()\n",
    "# print(sky_model, asterisks())\n",
    "\n",
    "datasets = Datasets(ds_src)\n",
    "\n",
    "datasets.models = sky_model\n",
    "\n",
    "fitter = Fit()\n",
    "result_pwl = fitter.run(datasets=datasets)\n",
    "# print(datasets, asterisks())\n",
    "# print(result_pwl, asterisks())\n",
    "# print(sky_model, asterisks())\n",
    "# ## nomear os datasets!"
   ]
  },
  {
   "cell_type": "code",
   "execution_count": null,
   "id": "7c8011d5",
   "metadata": {},
   "outputs": [],
   "source": []
  },
  {
   "cell_type": "code",
   "execution_count": null,
   "id": "69067b25",
   "metadata": {},
   "outputs": [],
   "source": [
    "# model.spectral_model.amplitude"
   ]
  },
  {
   "cell_type": "code",
   "execution_count": null,
   "id": "96739106",
   "metadata": {},
   "outputs": [],
   "source": [
    "ds_lst[0][1].data.to_table(sed_type=\"dnde\", formatted=True)"
   ]
  },
  {
   "cell_type": "code",
   "execution_count": null,
   "id": "ee3cec3c",
   "metadata": {},
   "outputs": [],
   "source": [
    "# ds_lst[2]"
   ]
  },
  {
   "cell_type": "code",
   "execution_count": null,
   "id": "109cbb2b",
   "metadata": {},
   "outputs": [],
   "source": [
    "log_parabola = LogParabolaSpectralModel(\n",
    "    alpha=2, amplitude=\"1e-12 cm-2 s-1 TeV-1\", reference=\"1 TeV\", beta=0.1\n",
    ")\n",
    "model = SkyModel(spectral_model=log_parabola, name=\"j1507-lp\")\n",
    "\n",
    "datasets.models = model\n",
    "result_log_parabola = fitter.run(datasets=datasets)\n",
    "# print(model)\n",
    "# print(result_log_parabola)\n",
    "ax = plt.subplot()\n",
    "\n",
    "kwargs = {\"ax\": ax, \"sed_type\": \"e2dnde\"}\n",
    "\n",
    "ax.yaxis.set_units(u.Unit(\"erg cm-2 s-1\"))\n",
    "ax.xaxis.set_units(u.Unit(\"TeV\"))\n",
    "\n",
    "for d in datasets:\n",
    "    d.data.plot(label=d.name, **kwargs)\n",
    "energy_bounds = [1e-7, 1e2] * u.TeV\n",
    "\n",
    "log_parabola.plot(energy_bounds=energy_bounds, color=\"k\", **kwargs, label=\"LogParabola\")\n",
    "log_parabola.plot_error(energy_bounds=energy_bounds, **kwargs)\n",
    "ax.set_ylim(1e-20, 1e-9)\n",
    "ax.set_xlim(energy_bounds)\n",
    "ax.legend(loc=1)\n",
    "plt.title(f\"{LHAASO_id}: {TeVCount_id}\")\n",
    "file = path_name / f'{LHAASO_id}_{TeVCount_id}_fit.png'\n",
    "plt.savefig(file, bbox_inches='tight')\n",
    "plt.show()"
   ]
  },
  {
   "cell_type": "code",
   "execution_count": null,
   "id": "ff4545d1",
   "metadata": {},
   "outputs": [],
   "source": [
    "print(result_log_parabola)"
   ]
  },
  {
   "cell_type": "code",
   "execution_count": null,
   "id": "83c01054",
   "metadata": {},
   "outputs": [],
   "source": [
    "models = Models([model])\n",
    "\n",
    "type(models.to_yaml())"
   ]
  },
  {
   "cell_type": "code",
   "execution_count": null,
   "id": "740be55c",
   "metadata": {},
   "outputs": [],
   "source": [
    "print(models.to_parameters_table())"
   ]
  },
  {
   "cell_type": "code",
   "execution_count": null,
   "id": "b947440d",
   "metadata": {},
   "outputs": [],
   "source": [
    "from tabulate import tabulate"
   ]
  },
  {
   "cell_type": "code",
   "execution_count": null,
   "id": "ed38f578",
   "metadata": {},
   "outputs": [],
   "source": [
    "Texttable = models.to_parameters_table()[\"name\",\"value\", \"error\", \"unit\"]"
   ]
  },
  {
   "cell_type": "code",
   "execution_count": null,
   "id": "5928c2ac",
   "metadata": {
    "scrolled": false
   },
   "outputs": [],
   "source": [
    "headers=Texttable.colnames"
   ]
  },
  {
   "cell_type": "code",
   "execution_count": null,
   "id": "68ab1e94",
   "metadata": {},
   "outputs": [],
   "source": [
    "print(tabulate(Texttable,headers=headers,tablefmt=\"latex\", floatfmt=\".3e\"))"
   ]
  },
  {
   "cell_type": "code",
   "execution_count": null,
   "id": "09bfabfa",
   "metadata": {},
   "outputs": [],
   "source": [
    "# help(tabulate)"
   ]
  },
  {
   "cell_type": "code",
   "execution_count": null,
   "id": "55fb27c5",
   "metadata": {},
   "outputs": [],
   "source": [
    "# table=Texttable\n",
    "# df = pd.DataFrame(table.to_pandas)\n",
    "# print(df)"
   ]
  },
  {
   "cell_type": "code",
   "execution_count": null,
   "id": "6ae4d6bb",
   "metadata": {},
   "outputs": [],
   "source": [
    "print(df.to_latex(index=False))"
   ]
  },
  {
   "cell_type": "code",
   "execution_count": null,
   "id": "37444d49",
   "metadata": {},
   "outputs": [],
   "source": [
    "models.write(\"models.yaml\", overwrite=True)"
   ]
  },
  {
   "cell_type": "code",
   "execution_count": null,
   "id": "7131aa2f",
   "metadata": {},
   "outputs": [],
   "source": [
    "models_read = Models.read(\"models.yaml\")"
   ]
  },
  {
   "cell_type": "code",
   "execution_count": null,
   "id": "17b7620c",
   "metadata": {},
   "outputs": [],
   "source": [
    "type(models_read)"
   ]
  },
  {
   "cell_type": "code",
   "execution_count": null,
   "id": "5d22e824",
   "metadata": {},
   "outputs": [],
   "source": [
    "models.write(\"models.yaml\", overwrite=True)\n",
    "\n",
    "models_read = Models.read(\"models.yaml\")"
   ]
  },
  {
   "cell_type": "code",
   "execution_count": null,
   "id": "5773a922",
   "metadata": {},
   "outputs": [],
   "source": [
    "print(models_read)"
   ]
  },
  {
   "cell_type": "code",
   "execution_count": null,
   "id": "caaaa558",
   "metadata": {},
   "outputs": [],
   "source": [
    "import yaml\n",
    "from pprint import pprint\n",
    "# convert yaml document to dict\n",
    "data = yaml.load(models.to_yaml(), Loader=yaml.Loader)\n",
    "print(data)\n"
   ]
  },
  {
   "cell_type": "code",
   "execution_count": null,
   "id": "ebf028e2",
   "metadata": {},
   "outputs": [],
   "source": [
    "df = pd.DataFrame(data) \n",
    "display(df) "
   ]
  },
  {
   "cell_type": "code",
   "execution_count": null,
   "id": "9ae15e96",
   "metadata": {},
   "outputs": [],
   "source": [
    "# dfi.export(ff, 'TeVCounterpart/flux_points/flux_pointss.png')"
   ]
  },
  {
   "cell_type": "code",
   "execution_count": null,
   "id": "c1b7c256",
   "metadata": {},
   "outputs": [],
   "source": [
    "help(FluxPointsDataset)"
   ]
  },
  {
   "cell_type": "code",
   "execution_count": null,
   "id": "570eea74",
   "metadata": {},
   "outputs": [],
   "source": [
    "catalog_tag = [\"gamma-cat\", \"hgps\", \"2hwc\", \"3fgl\", \"4fgl\", \"2fhl\", \"3fhl\", \"3hwc\"] \n",
    "lst=[]\n",
    "ds_lst = []\n",
    "for i in range(len(TeVCount_dict.keys())):\n",
    "    LHAASO = list(TeVCount_dict.keys())[i]\n",
    "\n",
    "    for j in range(len(TeVCount_dict[LHAASO])):\n",
    "        cat_off = []\n",
    "        cat_on = []\n",
    "        \n",
    "        pf_off = []\n",
    "        pf_on = []\n",
    "        ds_j=[]\n",
    "        TeVCount=TeVCount_dict[LHAASO][j]\n",
    "\n",
    "        for k in range(len(catalog_tag)): \n",
    "            cat_name = catalog_tag[k]\n",
    "            \n",
    "            try:\n",
    "                cat=CATALOG_REGISTRY.get_cls(cat_name)()\n",
    "                src=cat[TeVCount]\n",
    "                cat_on.append(catalog_tag[k])\n",
    "                \n",
    "                ds = FluxPointsDataset(\n",
    "                    data=src.flux_points, \n",
    "                    name=cat_name\n",
    "                )\n",
    "                ds_j.append(ds)\n",
    "                pf_on.append(catalog_tag[k])\n",
    "            except:\n",
    "                cat_off.append(catalog_tag[k])\n",
    "\n",
    "            lst_k=[LHAASO, TeVCount, cat_on, pf_on]\n",
    "        lst.append(lst_k)\n",
    "        ds_lst.append(ds_j)\n",
    "import pandas as pd \n",
    "# List1 \n",
    "# lst = [['apple', 'red', 11], ['grape', 'green', 22], ['orange', 'orange', 33], ['mango', 'yellow', 44]] \n",
    "df = pd.DataFrame(lst, columns =['LHAASO', 'Conterpart', 'Catalog', 'Flux Points']) \n",
    "display(df) "
   ]
  },
  {
   "cell_type": "code",
   "execution_count": null,
   "id": "f0f740be",
   "metadata": {},
   "outputs": [],
   "source": [
    "type(src.flux_points)"
   ]
  },
  {
   "cell_type": "code",
   "execution_count": null,
   "id": "3eacd0e2",
   "metadata": {},
   "outputs": [],
   "source": [
    "(ds_lst[1])"
   ]
  },
  {
   "cell_type": "code",
   "execution_count": null,
   "id": "f8f5feb4",
   "metadata": {},
   "outputs": [],
   "source": [
    "print(ds_lst[1][0].data.iter_by_axis)"
   ]
  },
  {
   "cell_type": "code",
   "execution_count": null,
   "id": "7f754988",
   "metadata": {},
   "outputs": [],
   "source": [
    "ds_lst[0][0].data.sqrt_ts_threshold_ul"
   ]
  },
  {
   "cell_type": "code",
   "execution_count": null,
   "id": "6920e241",
   "metadata": {},
   "outputs": [],
   "source": [
    "print(ds_lst[1][0].data.energy_max)"
   ]
  },
  {
   "cell_type": "code",
   "execution_count": null,
   "id": "45d77b85",
   "metadata": {},
   "outputs": [],
   "source": [
    "datasets = Datasets(ds_lst[1])\n",
    "datasets.models = model\n",
    "print(datasets)\n",
    "\n",
    "fitter = Fit()\n",
    "result_pwl = fitter.run(datasets=datasets)"
   ]
  },
  {
   "cell_type": "code",
   "execution_count": null,
   "id": "36674404",
   "metadata": {},
   "outputs": [],
   "source": [
    "ecpl = ExpCutoffPowerLawSpectralModel(\n",
    "    index=1.8,\n",
    "    amplitude=\"2e-12 cm-2 s-1 TeV-1\",\n",
    "    reference=\"1 TeV\",\n",
    "    lambda_=\"0.1 TeV-1\",\n",
    ")\n",
    "model = SkyModel(spectral_model=ecpl, name=\"j1507-ecpl\")\n",
    "\n",
    "datasets.models = model\n",
    "result_log_parabola = fitter.run(datasets=datasets)\n",
    "# print(model)\n",
    "# print(result_log_parabola)\n",
    "ax = plt.subplot()\n",
    "\n",
    "kwargs = {\"ax\": ax, \"sed_type\": \"e2dnde\"}\n",
    "\n",
    "ax.yaxis.set_units(u.Unit(\"TeV cm-2 s-1\"))\n",
    "\n",
    "for d in datasets:\n",
    "    d.data.plot(label=d.name, **kwargs)\n",
    "energy_bounds = [1e-5, 1e3] * u.TeV\n",
    "\n",
    "ecpl.plot(energy_bounds=energy_bounds, color=\"k\", **kwargs, label=\"LogParabola\")\n",
    "ecpl.plot_error(energy_bounds=energy_bounds, **kwargs)\n",
    "ax.set_ylim(1e-13, 1e-9)\n",
    "ax.set_xlim(energy_bounds)\n",
    "ax.legend(loc=1)\n",
    "plt.title(\"LHAASOJ1825-1326: HESSJ1825-137\")\n",
    "\n",
    "plt.savefig(\"LHAASOJ1825-1326_HESSJ1825-137_fit\", bbox_inches='tight')\n",
    "plt.show()\n"
   ]
  },
  {
   "cell_type": "code",
   "execution_count": null,
   "id": "ee734c10",
   "metadata": {},
   "outputs": [],
   "source": []
  },
  {
   "cell_type": "code",
   "execution_count": null,
   "id": "747d8c21",
   "metadata": {},
   "outputs": [],
   "source": []
  },
  {
   "cell_type": "code",
   "execution_count": null,
   "id": "e8bdadc0",
   "metadata": {},
   "outputs": [],
   "source": []
  }
 ],
 "metadata": {
  "kernelspec": {
   "display_name": "Python 3 (ipykernel)",
   "language": "python",
   "name": "python3"
  },
  "language_info": {
   "codemirror_mode": {
    "name": "ipython",
    "version": 3
   },
   "file_extension": ".py",
   "mimetype": "text/x-python",
   "name": "python",
   "nbconvert_exporter": "python",
   "pygments_lexer": "ipython3",
   "version": "3.9.15"
  }
 },
 "nbformat": 4,
 "nbformat_minor": 5
}
