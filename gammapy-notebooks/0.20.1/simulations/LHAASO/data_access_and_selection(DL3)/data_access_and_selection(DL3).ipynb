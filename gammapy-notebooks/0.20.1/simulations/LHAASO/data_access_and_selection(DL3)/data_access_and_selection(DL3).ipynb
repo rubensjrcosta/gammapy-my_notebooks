{
 "cells": [
  {
   "cell_type": "code",
   "execution_count": null,
   "id": "5ce110db",
   "metadata": {},
   "outputs": [],
   "source": [
    "# !pip install dataframe-image"
   ]
  },
  {
   "cell_type": "code",
   "execution_count": null,
   "id": "fa05df50",
   "metadata": {},
   "outputs": [],
   "source": [
    "# !pip install tabulate"
   ]
  },
  {
   "cell_type": "code",
   "execution_count": null,
   "id": "7612898a",
   "metadata": {},
   "outputs": [],
   "source": [
    "# # to install the latest commit (from GitHub)\n",
    "# !pip install git+https://github.com/garrettj403/SciencePlots"
   ]
  },
  {
   "cell_type": "markdown",
   "id": "b43d98b9",
   "metadata": {},
   "source": [
    "Carrega os catalogos do gammapy\n",
    "\n",
    "Verifica a existencia da fonte em cada um dos catalgos\n",
    "\n",
    "Guarda a tabela dos pontos de fluxos"
   ]
  },
  {
   "cell_type": "code",
   "execution_count": null,
   "id": "c6e3efbf",
   "metadata": {},
   "outputs": [],
   "source": [
    "%matplotlib inline\n",
    "import matplotlib.pyplot as plt"
   ]
  },
  {
   "cell_type": "code",
   "execution_count": null,
   "id": "65560660",
   "metadata": {},
   "outputs": [],
   "source": [
    "import scienceplots"
   ]
  },
  {
   "cell_type": "code",
   "execution_count": null,
   "id": "27b35d1f",
   "metadata": {},
   "outputs": [],
   "source": [
    "# Making plots actually look nice\n",
    "plt.style.use(['science', 'notebook', 'grid'])"
   ]
  },
  {
   "cell_type": "code",
   "execution_count": null,
   "id": "8667dee8",
   "metadata": {},
   "outputs": [],
   "source": [
    "# plt.style.available"
   ]
  },
  {
   "cell_type": "code",
   "execution_count": null,
   "id": "3ac8a12e",
   "metadata": {},
   "outputs": [],
   "source": [
    "from gammapy.datasets import FluxPointsDataset, Datasets\n",
    "from gammapy.catalog import CATALOG_REGISTRY"
   ]
  },
  {
   "cell_type": "code",
   "execution_count": null,
   "id": "eff6f5ad",
   "metadata": {},
   "outputs": [],
   "source": [
    "import os\n",
    "import sys\n",
    "import importlib\n",
    "\n",
    "modules_path = '/home/gamma/Documents/GitHub/gammapy/gammapy-notebooks/0.20.1/simulations/LHAASO/modules'\n",
    "\n",
    "module_path = os.path.abspath(f'{modules_path}/spectral_models')\n",
    "if module_path not in sys.path:\n",
    "    sys.path.append(module_path)\n",
    "# print(module_path)\n",
    "import spectral_models\n",
    "importlib.reload(spectral_models)\n",
    "from spectral_models import pwl_model, get_source_data\n",
    "\n",
    "module_path = os.path.abspath(f'{modules_path}/utilities')\n",
    "if module_path not in sys.path:\n",
    "    sys.path.append(module_path)\n",
    "# print(module_path)\n",
    "import utilities\n",
    "importlib.reload(utilities)\n",
    "from utilities import mkdir_sub_directory"
   ]
  },
  {
   "cell_type": "code",
   "execution_count": null,
   "id": "5c00ecbc",
   "metadata": {},
   "outputs": [],
   "source": []
  },
  {
   "cell_type": "code",
   "execution_count": null,
   "id": "a1236f88",
   "metadata": {},
   "outputs": [],
   "source": [
    "from astropy import units as u\n",
    "\n",
    "from gammapy.modeling import Fit\n",
    "from gammapy.modeling.models import (\n",
    "    Models,\n",
    "    SuperExpCutoffPowerLaw4FGLDR3SpectralModel,\n",
    "    ExpCutoffPowerLawSpectralModel,\n",
    "    LogParabolaSpectralModel,\n",
    "    PowerLawSpectralModel,\n",
    "    SkyModel,\n",
    ")"
   ]
  },
  {
   "cell_type": "code",
   "execution_count": null,
   "id": "0e28f3bd",
   "metadata": {
    "scrolled": true
   },
   "outputs": [],
   "source": []
  },
  {
   "cell_type": "code",
   "execution_count": null,
   "id": "8c2dc95a",
   "metadata": {},
   "outputs": [],
   "source": [
    "def source_identification(src_index = None):\n",
    "    '''\n",
    "    To write Docstring!!!!\n",
    "    '''\n",
    "    try: \n",
    "        \n",
    "        global LHAASO_name, LHAASO_txt \n",
    "        \n",
    "        LHAASO_name = df_fp[\"LHAASO_name\"][src_index]\n",
    "        LHAASO_txt = df_fp[\"LHAASO_txt\"][src_index]\n",
    "        \n",
    "        global src_name, src_txt\n",
    "        \n",
    "        src_name = df_fp[\"source_name\"][src_index]\n",
    "        src_txt = df_fp[\"source_txt\"][src_index] \n",
    "    \n",
    "    except:\n",
    "        print(\"Oops!  That was no valid index.  Try again...\")"
   ]
  },
  {
   "cell_type": "code",
   "execution_count": null,
   "id": "1bb3921b",
   "metadata": {},
   "outputs": [],
   "source": []
  },
  {
   "cell_type": "code",
   "execution_count": null,
   "id": "c8f069b3",
   "metadata": {},
   "outputs": [],
   "source": [
    "# import pandas library as pd\n",
    "\n",
    "import pandas as pd \n",
    "from gammapy.datasets import FluxPointsDataset\n",
    "from gammapy.catalog import CATALOG_REGISTRY\n",
    "import os\n",
    "import sys\n",
    "\n",
    "format_csv = \".csv\"\n",
    "format_fits = \".fits\"\n",
    "\n",
    "sed_type=\"e2dnde\"\n",
    "# sed_type=\"dnde\"\n",
    "\n",
    "df_columns=[]\n",
    "ds_fp = []\n",
    "source_cat = []\n",
    "  \n",
    "# create an Empty DataFrame object\n",
    "df = pd.DataFrame()\n",
    "\n",
    "\n",
    "def getting_source_data(dict_lhaaso_tevc = None, catalog_tags = None):\n",
    "    '''\n",
    "    To write Docstring!!!!\n",
    "    '''\n",
    "    \n",
    "    LHAASO_range = range(len(dict_lhaaso_tevc.keys()))\n",
    "    for i in LHAASO_range:\n",
    "\n",
    "        LHAASO_name = list(dict_lhaaso_tevc.keys())[i]\n",
    "        LHAASO_txt = LHAASO_name.replace(\" \", \"\")\n",
    "        \n",
    "        source_range = range(len(dict_lhaaso_tevc[LHAASO_name]))\n",
    "        for j in source_range:\n",
    "\n",
    "            cat_src = []\n",
    "\n",
    "            cat_src_fp = []\n",
    "            \n",
    "            src_cat = []\n",
    "\n",
    "            src_ds = []\n",
    "\n",
    "            src_name = dict_lhaaso_tevc[LHAASO_name][j]\n",
    "            src_txt = src_name.replace(\" \", \"\")\n",
    "            \n",
    "            catalog_range = range(len(catalog_tags))\n",
    "            for k in catalog_range: \n",
    "                \n",
    "                catalog_tag = catalog_tags[k]\n",
    "                catalog = CATALOG_REGISTRY.get_cls(catalog_tag)()\n",
    "                \n",
    "                try:\n",
    "                    \n",
    "                    src = catalog[src_name]\n",
    "                    \n",
    "                    cat_src.append(catalog_tag)\n",
    "                    \n",
    "                    ds_name = f\"{src_name}: {catalog_tag}\"\n",
    "                    ds = FluxPointsDataset(\n",
    "                        models = src.sky_model(),\n",
    "                        data=src.flux_points, \n",
    "                        name=  ds_name     \n",
    "                    )\n",
    "                    \n",
    "                    src_cat.append(src)\n",
    "                    src_ds.append(ds)\n",
    "                    cat_src_fp.append(catalog_tag)\n",
    "\n",
    "                    table = ds.data.to_table(\n",
    "                        sed_type = sed_type, \n",
    "                        formatted = True\n",
    "                    )\n",
    "                    \n",
    "                    # Setting the units\n",
    "\n",
    "                    \n",
    "                    # Writes the flux points table in the fits format\n",
    "                    file_name = f'{LHAASO_txt}_{src_txt}_{catalog_tag}{format_fits}'\n",
    "                    path_os = os.path.abspath(\n",
    "                        os.path.join(\n",
    "                            f\"{path_flux_points_tables}/{file_name}\"\n",
    "                        )\n",
    "                    )      \n",
    "                    \n",
    "                    if path_os not in sys.path:\n",
    "                        sys.path.append(path_os)\n",
    "\n",
    "                    table.write(\n",
    "                        f\"{path_os}\",\n",
    "                        format = 'fits', \n",
    "                        overwrite = True\n",
    "                    )\n",
    "                    \n",
    "                    # Writes the flux points table in the csv format\n",
    "                    file_name = f'{LHAASO_txt}_{src_txt}_{catalog_tag}{format_csv}'\n",
    "                    path_os = os.path.abspath(\n",
    "                        os.path.join(\n",
    "                            f\"{path_flux_points_tables}/{file_name}\"\n",
    "                        )\n",
    "                    )\n",
    "                     \n",
    "                    if path_os not in sys.path:\n",
    "                        sys.path.append(path_os)\n",
    "\n",
    "                    table.write(\n",
    "                        f\"{path_os}\",\n",
    "                        format = 'ascii.ecsv', \n",
    "                        overwrite = True\n",
    "                    )   \n",
    "                    \n",
    "                except:\n",
    "                    pass\n",
    "\n",
    "                df_columns_k = [LHAASO_name, LHAASO_txt, src_name, src_txt, cat_src, cat_src_fp]\n",
    "            df_columns.append(df_columns_k)\n",
    "            ds_fp.append(src_ds)\n",
    "            source_cat.append(src_cat)\n",
    "\n",
    "    df = pd.DataFrame(df_columns, columns = ['LHAASO_name', \"LHAASO_txt\",'source_name', \"source_txt\", 'catalog', 'flux_points']) \n",
    "    df_fp = df[df[\"flux_points\"].str.len() != 0]\n",
    "    df_fp = df_fp.reset_index(drop = True)\n",
    "    df_fp.index.name = 'source_index'\n",
    "    \n",
    "    file_name = \"data_frame_flux_points.csv\"\n",
    "    path_file = f\"{os.getcwd()}/{file_name}\"\n",
    "    df_fp.to_csv(path_file, index = \"True\" )\n",
    "    \n",
    "    df_no_fp = df[df[\"flux_points\"].str.len() == 0]\n",
    "    df_no_fp = df_no_fp.reset_index(drop = True)\n",
    "    df_no_fp.index.name = 'source_index'\n",
    "    \n",
    "    file_name = \"data_frame_no_flux_points.csv\"\n",
    "    path_file = f\"{os.getcwd()}/{file_name}\"\n",
    "    df_no_fp.to_csv(path_file, index = \"True\")\n",
    "    print(f\"Sources without flux points table: {list(df_no_fp['source_name'])}\")\n",
    "    \n",
    "    source_cat[:] = list(filter(None, source_cat))\n",
    "    ds_fp[:] = list(filter(None, ds_fp))\n",
    "    \n",
    "    return df_fp, ds_fp, source_cat"
   ]
  },
  {
   "cell_type": "code",
   "execution_count": null,
   "id": "b78b6de0",
   "metadata": {},
   "outputs": [],
   "source": [
    "# from pandas import read_csv\n",
    "\n",
    "# myData = read_csv(f\"{os.getcwd()}/data_frame_flux_points.csv\", index_col = None)\n",
    "# myData"
   ]
  },
  {
   "cell_type": "code",
   "execution_count": null,
   "id": "59ede0e1",
   "metadata": {},
   "outputs": [],
   "source": [
    "#to get the current working directory\n",
    "directory = os.getcwd()\n",
    "\n",
    "print(directory)"
   ]
  },
  {
   "cell_type": "code",
   "execution_count": null,
   "id": "23bdf1f0",
   "metadata": {},
   "outputs": [],
   "source": [
    "import os"
   ]
  },
  {
   "cell_type": "code",
   "execution_count": null,
   "id": "2bf6ef6c",
   "metadata": {},
   "outputs": [],
   "source": [
    "path_DL3 = os.getcwd()\n",
    "os.chdir('../')\n",
    "path_LHAASO = os.getcwd()\n",
    "os.chdir(path_DL3)\n",
    "\n",
    "file_name = \"paths.dat\"\n",
    "path_file = f\"{path_LHAASO}/{file_name}\"\n",
    "    \n",
    "with open(path_file, \"w\") as my_file: \n",
    "    my_file.write(f\"{path_LHAASO} \\n\")\n",
    "    my_file.write(f\"{path_file} \\n\")\n",
    "    my_file.write(f\"{path_DL3} \\n\")"
   ]
  },
  {
   "cell_type": "code",
   "execution_count": null,
   "id": "df00eff8",
   "metadata": {},
   "outputs": [],
   "source": [
    "path_file"
   ]
  },
  {
   "cell_type": "code",
   "execution_count": null,
   "id": "771cd60b",
   "metadata": {},
   "outputs": [],
   "source": []
  },
  {
   "cell_type": "code",
   "execution_count": null,
   "id": "1612cc35",
   "metadata": {
    "scrolled": false
   },
   "outputs": [],
   "source": [
    "f\"{os.getcwd()}/data_frame_no_flux_points.csv\""
   ]
  },
  {
   "cell_type": "code",
   "execution_count": null,
   "id": "ab773f8a",
   "metadata": {},
   "outputs": [],
   "source": []
  },
  {
   "cell_type": "markdown",
   "id": "a06c1f11",
   "metadata": {},
   "source": [
    "## Data Access and Selection (DL3)"
   ]
  },
  {
   "cell_type": "code",
   "execution_count": null,
   "id": "3b66c474",
   "metadata": {},
   "outputs": [],
   "source": []
  },
  {
   "cell_type": "markdown",
   "id": "e7e7cf8c",
   "metadata": {},
   "source": [
    "#### Catalogs\n",
    "Loading the catalogs and sources to be studied"
   ]
  },
  {
   "cell_type": "code",
   "execution_count": null,
   "id": "775064cb",
   "metadata": {},
   "outputs": [],
   "source": [
    "print(CATALOG_REGISTRY)"
   ]
  },
  {
   "cell_type": "code",
   "execution_count": null,
   "id": "f2534bfd",
   "metadata": {},
   "outputs": [],
   "source": [
    "catalog_tags = [\"gamma-cat\", \"hgps\", \"2hwc\", \"3fgl\", \"4fgl\", \"2fhl\", \"3fhl\", \"3hwc\"] "
   ]
  },
  {
   "cell_type": "code",
   "execution_count": null,
   "id": "afa84cd7",
   "metadata": {},
   "outputs": [],
   "source": [
    "catalogs_cls = []"
   ]
  },
  {
   "cell_type": "code",
   "execution_count": null,
   "id": "c284a206",
   "metadata": {},
   "outputs": [],
   "source": [
    "# Loading the source catalogs\n",
    "catalog_gammacat = CATALOG_REGISTRY.get_cls(\"gamma-cat\")()\n",
    "catalogs_cls.append(catalog_gammacat)\n",
    "\n",
    "catalog_hgps = CATALOG_REGISTRY.get_cls(\"hgps\")()\n",
    "catalogs_cls.append(catalog_hgps)\n",
    "\n",
    "catalog_2hwc = CATALOG_REGISTRY.get_cls(\"2hwc\")()\n",
    "catalogs_cls.append(catalog_2hwc)\n",
    "\n",
    "catalog_3fgl = CATALOG_REGISTRY.get_cls(\"3fgl\")()\n",
    "catalogs_cls.append(catalog_3fgl)\n",
    "\n",
    "catalog_4fgl = CATALOG_REGISTRY.get_cls(\"4fgl\")()\n",
    "catalogs_cls.append(catalog_4fgl)\n",
    "\n",
    "catalog_2fhl = CATALOG_REGISTRY.get_cls(\"2fhl\")()\n",
    "catalogs_cls.append(catalog_2fhl)\n",
    "\n",
    "catalog_3fhl = CATALOG_REGISTRY.get_cls(\"3fhl\")()\n",
    "catalogs_cls.append(catalog_3fhl)\n",
    "\n",
    "catalog_3hwc = CATALOG_REGISTRY.get_cls(\"3hwc\")()\n",
    "catalogs_cls.append(catalog_3hwc)"
   ]
  },
  {
   "cell_type": "code",
   "execution_count": null,
   "id": "4a6b0710",
   "metadata": {},
   "outputs": [],
   "source": [
    "for catalog in catalogs_cls:\n",
    "    print(f\"{catalog.tag}: {catalog.description}\")"
   ]
  },
  {
   "cell_type": "code",
   "execution_count": null,
   "id": "f41d1454",
   "metadata": {},
   "outputs": [],
   "source": [
    "# Creating a dictionary of the Potential TeV Counterparts (dict values) \n",
    "# of the three most significant (excluding Crab) LHASSO observations (dict keys)\n",
    "# see https://www.nature.com/articles/s41586-021-03498-z\n",
    "dict_lhaaso_tevc = {\n",
    "    \"LHAASO J1825-1326\": [\"HESS J1825-137\", \"HESS J1826-130\", \"2HWC J1825-134\"], \n",
    "    \"LHAASO J1908+0621\": [\"MGRO J1908+06\" , \"HESS J1908+063\", \"ARGO J1907+0627\", \"VER J1907+062\", \"2HWC J1908+063\"], \n",
    "    \"LHAASO J2226+6057\": [\"VER J2227+608\"  , \"Boomerang\"]\n",
    "}"
   ]
  },
  {
   "cell_type": "code",
   "execution_count": null,
   "id": "45eea7dc",
   "metadata": {
    "scrolled": true
   },
   "outputs": [],
   "source": [
    "# Creating the directories to save the flux points tables from Gammapy catalogs\n",
    "dir_flux_points_tables = \"flux_points_tables\"\n",
    "\n",
    "path_flux_points_tables = mkdir_sub_directory(\n",
    "    dir_flux_points_tables\n",
    ")"
   ]
  },
  {
   "cell_type": "code",
   "execution_count": null,
   "id": "2a04ce97",
   "metadata": {},
   "outputs": [],
   "source": [
    "# Getting the data of the sources from the catalogs of the Gammapy package\n",
    "df_fp, ds_fp, source_cat = getting_source_data(dict_lhaaso_tevc, catalog_tags)"
   ]
  },
  {
   "cell_type": "code",
   "execution_count": null,
   "id": "fd93b6b6",
   "metadata": {
    "scrolled": false
   },
   "outputs": [],
   "source": [
    "df_fp"
   ]
  },
  {
   "cell_type": "code",
   "execution_count": null,
   "id": "25c60bff",
   "metadata": {},
   "outputs": [],
   "source": []
  },
  {
   "cell_type": "code",
   "execution_count": null,
   "id": "e137e351",
   "metadata": {},
   "outputs": [],
   "source": [
    "dir_plot_spectrum = \"SED_from_catalogs\"\n",
    "\n",
    "path_plot_spectrum = mkdir_sub_directory(\n",
    "    dir_plot_spectrum\n",
    ")"
   ]
  },
  {
   "cell_type": "code",
   "execution_count": null,
   "id": "f8ac2f74",
   "metadata": {},
   "outputs": [],
   "source": []
  },
  {
   "cell_type": "code",
   "execution_count": null,
   "id": "61dfe9dd",
   "metadata": {},
   "outputs": [],
   "source": [
    "def plot_SED():\n",
    "    plt.style.use(['science', 'notebook', 'grid'])\n",
    "\n",
    "    plt.figure(figsize=(8,6))\n",
    "\n",
    "    ax = spectral_model.plot(energy_bounds, sed_type=\"e2dnde\")\n",
    "    ax = spectral_model.plot_error(energy_bounds, sed_type=\"e2dnde\")\n",
    "    flux_points.plot(\n",
    "        ax=ax,\n",
    "        color=colors_tag, \n",
    "        sed_type=\"e2dnde\"\n",
    "    )\n",
    "    ax.text(0.02, .94, LHAASO_name, transform=ax.transAxes, bbox=dict(facecolor='white', edgecolor='black'), size=13)\n",
    "\n",
    "    ax.set_ylim(ylim)\n",
    "    ax.set_xlim(energy_bounds)\n",
    "\n",
    "    # plt.title(f\"{LHAASO_name}: {src_name}\")\n",
    "    plt.legend([spectral_model_tag, \"Error\", f\"{src_name} - {catalog_tag}\"], facecolor='white', edgecolor='black',  loc='upper right', prop={'size': 8})\n",
    "    plt.xlabel(\"Energy (TeV)\")   \n",
    "    plt.ylabel(r\"$E^{2}$dN/dE (erg $cm^{-2}$ $s^{-1}$)\")\n",
    "    plt.savefig(file_path, bbox_inches='tight')\n",
    "    \n",
    "    plt.show()"
   ]
  },
  {
   "cell_type": "code",
   "execution_count": null,
   "id": "4f0ac6ac",
   "metadata": {},
   "outputs": [],
   "source": [
    "energy_bounds = [1e-5, 1e3] * u.TeV\n",
    "ylim = [1e-16, 1e-6]"
   ]
  },
  {
   "cell_type": "code",
   "execution_count": null,
   "id": "77fbe993",
   "metadata": {},
   "outputs": [],
   "source": [
    "colors_tags = [\"b\", \"g\", \"r\", \"c\", \"m\", \"y\", \"k\", \"m\"]"
   ]
  },
  {
   "cell_type": "code",
   "execution_count": null,
   "id": "96f6990f",
   "metadata": {},
   "outputs": [],
   "source": [
    "# to select a source object index: [0-6]\n",
    "src_index = 1\n",
    "colors_tag = colors_tags[src_index]\n",
    "source_identification(src_index)\n",
    "# LHAASO_name, src_name\n",
    "\n",
    "# List of catalogs with flux points table of the source\n",
    "# print(df_fp['catalog'][src_index])\n",
    "\n",
    "k_range = range(len(ds_fp[src_index]))\n",
    "for k in k_range: \n",
    "            \n",
    "    # to select a catalog:\n",
    "    cat_index = k\n",
    "    catalog_tag = df_fp[\"catalog\"][src_index][cat_index]\n",
    "    catalog = CATALOG_REGISTRY.get_cls(catalog_tag)()\n",
    "    # print(catalog)\n",
    "\n",
    "    source  = catalog[src_name]\n",
    "    # source.data\n",
    "\n",
    "    flux_points = source.flux_points\n",
    "\n",
    "    # Gammapy sky model object:\n",
    "    sky_model = source.sky_model()\n",
    "\n",
    "    # Gammapy spatial model object:\n",
    "    spatial_model = source.spatial_model\n",
    "\n",
    "    # Gammapy spectral model object:\n",
    "    spectral_model = source.spectral_model()\n",
    "    spectral_model_tag = spectral_model.tag[0]\n",
    "    spectral_model_tag_short = spectral_model.tag[0]\n",
    "\n",
    "    file_name = f'{LHAASO_txt}_{src_txt}_{catalog_tag}_{spectral_model_tag_short}.png'\n",
    "    file_path = path_plot_spectrum / file_name \n",
    "    \n",
    "    plot_SED()\n",
    "    \n",
    "    print(f'{LHAASO_txt}_{src_txt}_{catalog_tag}_{spectral_model_tag_short}:')\n",
    "    \n",
    "    print(spectral_model.parameters.to_table())\n",
    "    "
   ]
  },
  {
   "cell_type": "code",
   "execution_count": null,
   "id": "75943d35",
   "metadata": {},
   "outputs": [],
   "source": []
  },
  {
   "cell_type": "code",
   "execution_count": null,
   "id": "bb5d5369",
   "metadata": {},
   "outputs": [],
   "source": []
  },
  {
   "cell_type": "code",
   "execution_count": null,
   "id": "97c14139",
   "metadata": {},
   "outputs": [],
   "source": []
  },
  {
   "cell_type": "code",
   "execution_count": null,
   "id": "747683c7",
   "metadata": {},
   "outputs": [],
   "source": []
  },
  {
   "cell_type": "code",
   "execution_count": null,
   "id": "7772f098",
   "metadata": {},
   "outputs": [],
   "source": []
  },
  {
   "cell_type": "code",
   "execution_count": null,
   "id": "70d5c48c",
   "metadata": {},
   "outputs": [],
   "source": []
  },
  {
   "cell_type": "code",
   "execution_count": null,
   "id": "7d37f996",
   "metadata": {},
   "outputs": [],
   "source": [
    "# Creating the directories to save the flux points figures\n",
    "# dir_analysis = \"analysis\"\n",
    "dir_flux_points_figures = \"flux_points_figures\"\n",
    "\n",
    "path_flux_points_figures_analysis = mkdir_sub_directory(\n",
    "#     dir_analysis, \n",
    "    dir_flux_points_figures\n",
    ")"
   ]
  },
  {
   "cell_type": "code",
   "execution_count": null,
   "id": "8806f239",
   "metadata": {},
   "outputs": [],
   "source": [
    "def plotting_SED_flux_pointing(datasets = None, spectral_model = None, sed_type = \"e2dnde\", yaxis_units=\"TeV cm-2 s-1\", energy_bounds= [1e-5, 1e2] * u.TeV, ylim = [1e-13, 1e-9]):\n",
    "    '''Returns a spectral energy distribution\n",
    "    \n",
    "    >>> plotting_SED_flux_pointing(spec_model, yaxis_units, sed_type, reference)\n",
    "    '''\n",
    "    \n",
    "    ax = plt.subplot()\n",
    "    ax.yaxis.set_units(u.Unit(yaxis_units))\n",
    "    ax.xaxis.set_units(u.Unit(\"TeV\"))\n",
    "\n",
    "    #label = f\"{sky_model}\"\n",
    "    \n",
    "    kwargs = {\n",
    "        \"ax\": ax, \n",
    "        \"sed_type\": sed_type\n",
    "    }    \n",
    "    \n",
    "    \n",
    "#     plot_kwargs = {\n",
    "#     \"energy_bounds\": [0.1, 30] * u.TeV,\n",
    "#     \"sed_type\": \"e2dnde\",\n",
    "#     \"yunits\": u.Unit(\"erg cm-2 s-1\"),\n",
    "#     \"ax\": ax,\n",
    "# }\n",
    "    \n",
    "    ax.loglog(J1825['e_ref'],J1825['e2dnde'], 'o', color='red', lw=2, ms=4)\n",
    "    ax.errorbar(J1825['e_ref'],J1825['e2dnde'], yerr=[J1825['e2dnde_errn'], J1825['e2dnde_errp']],fmt='.', color='red', label=LHAASO_name)\n",
    "\n",
    "    \n",
    "    for d in datasets:\n",
    "        d.data.plot(label=d.name, **kwargs)\n",
    "\n",
    "    try:   \n",
    "\n",
    "        kwargs_fit = {\"label\":sky_model.name}\n",
    "        spectral_model.plot(energy_bounds=energy_bounds, color=\"k\", **kwargs, **kwargs_fit)\n",
    "        spectral_model.plot_error(energy_bounds=energy_bounds, **kwargs)\n",
    "        \n",
    "        if combined_ds == False:\n",
    "            file = path_flux_points_figures_analysis / f'{LHAASO_txt}_{src_txt}_{sky_model.name}.png'\n",
    "        else:\n",
    "            file = path_flux_points_figures_analysis / f'{LHAASO_txt}_{sky_model.name}.png'\n",
    "            \n",
    "    except:\n",
    "        \n",
    "        if combined_ds == False:\n",
    "            file = path_flux_points_figures_analysis / f'{LHAASO_txt}_{src_txt}.png'\n",
    "        else:\n",
    "            file = path_flux_points_figures_analysis / f'{LHAASO_txt}.png'\n",
    "    \n",
    "\n",
    "    \n",
    "    ax.set_ylim(ylim)\n",
    "    ax.set_xlim(energy_bounds)\n",
    "    ax.legend(facecolor='white', edgecolor='black',  loc='upper right', prop={'size': 8})\n",
    "    \n",
    "    ax.text(0.02, .94, LHAASO_name, transform=ax.transAxes, bbox=dict(facecolor='white', edgecolor='black'), size=15)\n",
    "\n",
    "        \n",
    "#     plt.title(f\"{LHAASO_name}: {src_name}\")\n",
    "    \n",
    "    plt.xlabel(\"Energy (TeV)\")   \n",
    "    plt.ylabel(r\"$E^{2}$dN/dE (erg $cm^{-2}$ $s^{-1}$)\")\n",
    "    \n",
    "    plt.savefig(file, bbox_inches='tight')\n",
    "    plt.show()\n",
    "    \n",
    "    return "
   ]
  },
  {
   "cell_type": "code",
   "execution_count": null,
   "id": "9ffc0c8f",
   "metadata": {},
   "outputs": [],
   "source": [
    "import scienceplots\n",
    "plt.style.use(['science', 'notebook', 'grid'])\n",
    "\n",
    "# to select a source object index: [0-6]\n",
    "src_index = 0\n",
    "\n",
    "source_identification(src_index)\n",
    "\n",
    "ds_src = ds_fp[src_index]\n",
    "\n",
    "datasets = Datasets(ds_src)\n",
    "\n",
    "# energy_bounds = [1e-5, 1e2] * u.TeV\n",
    "# ylim = [1e-16, 1e-7]\n",
    "\n",
    "combined_ds = False\n",
    "plotting_SED_flux_pointing(\n",
    "    datasets = datasets,\n",
    "    sed_type = sed_type, \n",
    "    yaxis_units=\"erg cm-2 s-1\", \n",
    "    energy_bounds=energy_bounds, \n",
    "    ylim=ylim)"
   ]
  },
  {
   "cell_type": "markdown",
   "id": "b7938662",
   "metadata": {},
   "source": [
    "## "
   ]
  },
  {
   "cell_type": "code",
   "execution_count": null,
   "id": "5b5bb65a",
   "metadata": {},
   "outputs": [],
   "source": [
    "import scienceplots\n",
    "plt.style.use(['science', 'notebook', 'grid'])\n",
    "\n",
    "# to select a source object index: [0-6]\n",
    "src_index = 6\n",
    "\n",
    "source_identification(src_index)\n",
    "\n",
    "LHAASO_name"
   ]
  },
  {
   "cell_type": "code",
   "execution_count": null,
   "id": "c76f2743",
   "metadata": {
    "scrolled": true
   },
   "outputs": [],
   "source": [
    "ds_src_combined = list(ds_fp[src_index])"
   ]
  },
  {
   "cell_type": "code",
   "execution_count": null,
   "id": "5c7cb8a8",
   "metadata": {},
   "outputs": [],
   "source": [
    "ds_src_combined"
   ]
  },
  {
   "cell_type": "code",
   "execution_count": null,
   "id": "8c8d2d39",
   "metadata": {},
   "outputs": [],
   "source": [
    "for item in ds_fp[5]:\n",
    "    ds_src_combined.append(item)"
   ]
  },
  {
   "cell_type": "code",
   "execution_count": null,
   "id": "5a0c53eb",
   "metadata": {},
   "outputs": [],
   "source": [
    "ds_src_combined"
   ]
  },
  {
   "cell_type": "code",
   "execution_count": null,
   "id": "965fe61f",
   "metadata": {},
   "outputs": [],
   "source": [
    "ds_src_combined_3 = list(ds_src_combined)"
   ]
  },
  {
   "cell_type": "code",
   "execution_count": null,
   "id": "de046ebc",
   "metadata": {},
   "outputs": [],
   "source": [
    "ds_src_combined_2 = list(ds_src_combined)"
   ]
  },
  {
   "cell_type": "code",
   "execution_count": null,
   "id": "c8f9aee0",
   "metadata": {
    "scrolled": false
   },
   "outputs": [],
   "source": [
    "ds_src_combined_1 = list(ds_src_combined)"
   ]
  },
  {
   "cell_type": "code",
   "execution_count": null,
   "id": "f6a72a40",
   "metadata": {
    "scrolled": true
   },
   "outputs": [],
   "source": [
    "datasets_combined = Datasets(ds_src_combined_3)\n",
    "\n",
    "# energy_bounds = [1e-5, 1e2] * u.TeV\n",
    "ylim = [1e-16, 1e-6]\n",
    "\n",
    "combined_ds = True\n",
    "plotting_SED_flux_pointing(\n",
    "    datasets = datasets_combined,\n",
    "    sed_type = sed_type, \n",
    "    yaxis_units=\"erg cm-2 s-1\", \n",
    "    energy_bounds=energy_bounds, \n",
    "    ylim=ylim)"
   ]
  },
  {
   "cell_type": "code",
   "execution_count": null,
   "id": "393fa7e7",
   "metadata": {},
   "outputs": [],
   "source": []
  },
  {
   "cell_type": "markdown",
   "id": "8b604f7b",
   "metadata": {},
   "source": [
    "## Data Reduction (DL3toDL4)"
   ]
  },
  {
   "cell_type": "code",
   "execution_count": null,
   "id": "0fff7b52",
   "metadata": {},
   "outputs": [],
   "source": []
  },
  {
   "cell_type": "code",
   "execution_count": null,
   "id": "2e4c6d65",
   "metadata": {},
   "outputs": [],
   "source": [
    "import numpy as np\n",
    "# from astropy import units as u\n",
    "from astropy.table import Table\n",
    "from gammapy.estimators import FluxPoints\n",
    "from gammapy.utils.scripts import make_path\n",
    "\n",
    "# format_csv = \".csv\"\n",
    "format_fits = \".fits\"\n",
    "\n",
    "sed_type=\"e2dnde\"\n",
    "# sed_type=\"dnde\"\n",
    "\n",
    "ds_fp_cut = []\n",
    "def flux_points_cut_energy(df_fp = None, ds_fp = None, e_ref_min=None):\n",
    "    '''To write Docstring!!!!'''\n",
    "    \n",
    "    source_range = range(len(df_fp))\n",
    "    for src_index in source_range:\n",
    "        src_ds = []\n",
    "        \n",
    "        source_identification(src_index)\n",
    "        \n",
    "        k_range = range(len(ds_fp[src_index]))\n",
    "        for k in k_range: \n",
    "            \n",
    "            catalog_tag = df_fp[\"catalog\"][src_index][k]\n",
    "\n",
    "            ds_name = f\"{src_name}: {catalog_tag}\"\n",
    "            flux_points = ds_fp[src_index][k].data\n",
    "\n",
    "            mask_energy = np.zeros(len(flux_points.to_table()), dtype=bool)\n",
    "\n",
    "            for m, e_ref in enumerate(flux_points.energy_ref):\n",
    "                if e_ref > e_ref_min:\n",
    "                    mask_energy[m] = True\n",
    "            print(ds_name, src_txt)  \n",
    "            \n",
    "            try:\n",
    "                flux_points_mask = flux_points.to_table()[mask_energy]\n",
    "                flux_points_energy = FluxPoints.from_table(flux_points_mask)\n",
    "\n",
    "                ds = FluxPointsDataset(\n",
    "                                    data=flux_points_energy, \n",
    "                                    name=ds_name\n",
    "                                )\n",
    "\n",
    "                table = ds.data.to_table(\n",
    "                                    sed_type = sed_type, \n",
    "                                    formatted = True\n",
    "                                )\n",
    "                src_ds.append(ds)\n",
    "\n",
    "                file_name = f'{LHAASO_txt}_{src_txt}_{catalog_tag}_e_ref_min_{e_ref_min_name}{format_fits}'\n",
    "                path_os = os.path.abspath(\n",
    "                    os.path.join(\n",
    "                        f\"{path_flux_points_tables_analysis}/{file_name}\"\n",
    "                    )\n",
    "                )\n",
    "\n",
    "                if path_os not in sys.path:\n",
    "                    sys.path.append(path_os)\n",
    "\n",
    "                table.write(f\"{path_os}\",format='fits', overwrite=True)\n",
    "\n",
    "            except:\n",
    "                print(f\"{src_name} out\")    \n",
    "            \n",
    "        ds_fp_cut.append(src_ds)\n",
    "    return ds_fp_cut"
   ]
  },
  {
   "cell_type": "markdown",
   "id": "c0d02db6",
   "metadata": {},
   "source": [
    "### Cutting energy"
   ]
  },
  {
   "cell_type": "code",
   "execution_count": null,
   "id": "7c8b4d93",
   "metadata": {},
   "outputs": [],
   "source": [
    "# Defining the minimum value of the reference energy  \n",
    "e_ref_min = 100 * u.Unit(\"GeV\")\n",
    "e_ref_min_name = str(e_ref_min).replace(\" \", \"\")"
   ]
  },
  {
   "cell_type": "code",
   "execution_count": null,
   "id": "85455e86",
   "metadata": {},
   "outputs": [],
   "source": [
    "# Creating the directories to save the tables\n",
    "dir_analysis = \"analysis\"\n",
    "dir_flux_points_tables = f\"flux_points_table_e_ref_min_{e_ref_min_name}\"\n",
    "\n",
    "path_catalogs_data, path_flux_points_tables_analysis = mkdir_sub_directory(\n",
    "    dir_analysis, \n",
    "    dir_flux_points_tables\n",
    ")"
   ]
  },
  {
   "cell_type": "code",
   "execution_count": null,
   "id": "32df51a2",
   "metadata": {
    "scrolled": true
   },
   "outputs": [],
   "source": [
    "ds_fp_cut = flux_points_cut_energy(df_fp = df_fp, ds_fp = ds_fp, e_ref_min=e_ref_min)"
   ]
  },
  {
   "cell_type": "code",
   "execution_count": null,
   "id": "1a80140a",
   "metadata": {},
   "outputs": [],
   "source": [
    "# Creating the directories to save the tables\n",
    "dir_analysis = \"analysis\"\n",
    "dir_flux_points_figures = f\"flux_points_figures_e_ref_min_{e_ref_min_name}\"\n",
    "\n",
    "path_analysis, path_flux_points_figures_analysis = mkdir_sub_directory(\n",
    "    dir_analysis, \n",
    "    dir_flux_points_figures\n",
    ")"
   ]
  },
  {
   "cell_type": "code",
   "execution_count": null,
   "id": "07552f02",
   "metadata": {},
   "outputs": [],
   "source": [
    "# to select a source object index: [0-6]\n",
    "src_index = 6\n",
    "\n",
    "source_identification(src_index)\n",
    "\n",
    "LHAASO_name"
   ]
  },
  {
   "cell_type": "code",
   "execution_count": null,
   "id": "d6380f30",
   "metadata": {},
   "outputs": [],
   "source": [
    "ds_src_combined_cut = list(ds_fp_cut[src_index])"
   ]
  },
  {
   "cell_type": "code",
   "execution_count": null,
   "id": "82235fb1",
   "metadata": {},
   "outputs": [],
   "source": [
    "ds_src_combined_cut"
   ]
  },
  {
   "cell_type": "code",
   "execution_count": null,
   "id": "2ff81e91",
   "metadata": {},
   "outputs": [],
   "source": [
    "for item in ds_fp_cut[5]:\n",
    "    ds_src_combined_cut.append(item)"
   ]
  },
  {
   "cell_type": "code",
   "execution_count": null,
   "id": "949b09a8",
   "metadata": {},
   "outputs": [],
   "source": [
    "ds_src_combined_cut"
   ]
  },
  {
   "cell_type": "code",
   "execution_count": null,
   "id": "b3e7481d",
   "metadata": {},
   "outputs": [],
   "source": [
    "ds_src_combined_cut_3 = list(ds_src_combined_cut)"
   ]
  },
  {
   "cell_type": "code",
   "execution_count": null,
   "id": "c0be1c69",
   "metadata": {},
   "outputs": [],
   "source": [
    "ds_src_combined_cut_2 = list(ds_src_combined_cut)"
   ]
  },
  {
   "cell_type": "code",
   "execution_count": null,
   "id": "3f2e53ef",
   "metadata": {},
   "outputs": [],
   "source": [
    "ds_src_combined_cut_1 = list(ds_src_combined_cut)"
   ]
  },
  {
   "cell_type": "code",
   "execution_count": null,
   "id": "7bc437c6",
   "metadata": {},
   "outputs": [],
   "source": [
    "datasets_combined = Datasets(ds_src_combined_cut_3)\n",
    "\n",
    "energy_bounds = [1e-1, 1e2] * u.TeV\n",
    "# ylim = [1e-16, 1e-6]\n",
    "\n",
    "combined_ds = True\n",
    "plotting_SED_flux_pointing(\n",
    "    datasets = datasets_combined,\n",
    "    sed_type = sed_type, \n",
    "    yaxis_units=\"erg cm-2 s-1\", \n",
    "    energy_bounds=energy_bounds, \n",
    "    ylim=ylim)"
   ]
  },
  {
   "cell_type": "code",
   "execution_count": null,
   "id": "ddd5d642",
   "metadata": {},
   "outputs": [],
   "source": []
  },
  {
   "cell_type": "markdown",
   "id": "386bd79f",
   "metadata": {},
   "source": [
    "### SED cutting energy"
   ]
  },
  {
   "cell_type": "code",
   "execution_count": null,
   "id": "625a10d6",
   "metadata": {},
   "outputs": [],
   "source": [
    "# Creating the directories to save the tables\n",
    "dir_analysis = \"analysis\"\n",
    "dir_flux_points_figures = f\"SED_figures_e_ref_min_{e_ref_min_name}\"\n",
    "\n",
    "path_analysis, path_flux_points_figures_analysis = mkdir_sub_directory(\n",
    "    dir_analysis, \n",
    "    dir_flux_points_figures\n",
    ")"
   ]
  },
  {
   "cell_type": "code",
   "execution_count": null,
   "id": "088b4b2d",
   "metadata": {},
   "outputs": [],
   "source": [
    "# to select a source object index: [0-6]\n",
    "src_index = 6\n",
    "cat_index = 0\n",
    "# src = source_cat[src_index][0]\n",
    "source_identification(src_index)\n",
    "\n",
    "catalog_tag = df_fp[\"catalog\"][src_index][cat_index]\n",
    "\n",
    "ds_src = ds_fp_cut[src_index]\n",
    "# ds_src = ds_src_combined_cut_1\n",
    "\n",
    "spectral_model = source_cat[src_index][cat_index].spectral_model()\n",
    "# spectral_model = PowerLawSpectralModel(\n",
    "#     index=2,\n",
    "#     amplitude=\"1e-10 TeV-1 cm-2 s-1\",\n",
    "#     reference=1 * u.TeV,\n",
    "# )\n",
    "\n",
    "name = f\"{spectral_model.tag[0]}_{df_fp['catalog'][src_index][cat_index]}\"\n",
    "    \n",
    "sky_model = SkyModel(spectral_model=spectral_model, name=name)\n",
    "\n",
    "datasets = Datasets(ds_src)\n",
    "datasets.models = sky_model\n",
    "\n",
    "fitter = Fit()\n",
    "\n",
    "result_fit = fitter.run(datasets=datasets)\n",
    "\n",
    "plotting_SED_flux_pointing(\n",
    "    datasets = datasets,\n",
    "    spectral_model=spectral_model, \n",
    "    sed_type = \"e2dnde\", \n",
    "    yaxis_units=\"erg cm-2 s-1\", \n",
    "    energy_bounds=energy_bounds, \n",
    "    ylim=ylim\n",
    ")"
   ]
  },
  {
   "cell_type": "code",
   "execution_count": null,
   "id": "5f2f6b97",
   "metadata": {
    "scrolled": true
   },
   "outputs": [],
   "source": [
    "src_name"
   ]
  },
  {
   "cell_type": "code",
   "execution_count": null,
   "id": "58b49c90",
   "metadata": {},
   "outputs": [],
   "source": [
    "J1825_flux_points = FluxPoints.from_table(table = J1825)"
   ]
  },
  {
   "cell_type": "code",
   "execution_count": null,
   "id": "5262ccb9",
   "metadata": {},
   "outputs": [],
   "source": [
    "J1825_ds = FluxPointsDataset(\n",
    "    data = J1825_flux_points, \n",
    "    name = f\"{LHAASO_name}\"\n",
    ")\n",
    "ds_fp_cut[src_index].append(J1825_ds)\n",
    "\n"
   ]
  },
  {
   "cell_type": "code",
   "execution_count": null,
   "id": "2a86f0b1",
   "metadata": {},
   "outputs": [],
   "source": [
    "print(ds_fp_cut[src_index][3])"
   ]
  },
  {
   "cell_type": "code",
   "execution_count": null,
   "id": "c18188a7",
   "metadata": {},
   "outputs": [],
   "source": []
  },
  {
   "cell_type": "code",
   "execution_count": null,
   "id": "6da0a1e7",
   "metadata": {},
   "outputs": [],
   "source": [
    "# to select a source object index: [0-6]\n",
    "src_index = 0\n",
    "cat_index = 3\n",
    "# src = source_cat[src_index][0]\n",
    "source_identification(src_index)\n",
    "\n",
    "catalog_tag = df_fp[\"catalog\"][src_index][cat_index]\n",
    "\n",
    "ds_src = ds_fp_cut[src_index]\n",
    "# ds_src = ds_src_combined_cut_3\n",
    "\n",
    "# spectral_model = source_cat[src_index][cat_index].spectral_model()\n",
    "\n",
    "# spectral_model = PowerLawSpectralModel(\n",
    "#     index=2,\n",
    "#     amplitude=\"1e-10 TeV-1 cm-2 s-1\",\n",
    "#     reference=1 * u.TeV,\n",
    "# )\n",
    "\n",
    "\n",
    "spectral_model = LogParabolaSpectralModel(\n",
    "    alpha=0.92,\n",
    "    amplitude=\"1e-12 cm-2 s-1 erg-1\",\n",
    "    reference=1 * u.TeV,\n",
    "    beta=1.19,\n",
    ")\n",
    "\n",
    "\n",
    "name = f\"{spectral_model.tag[0]}_{df_fp['catalog'][src_index][cat_index]}\"\n",
    "    \n",
    "sky_model = SkyModel(spectral_model=spectral_model, name=name)\n",
    "\n",
    "datasets = Datasets(ds_src)\n",
    "datasets.models = sky_model\n",
    "\n",
    "fitter = Fit()\n",
    "\n",
    "result_fit = fitter.run(datasets=datasets)\n",
    "\n",
    "energy_bounds = [1e-3, 1e4] * u.TeV\n",
    "# ylim = [1e-16, 1e-6]\n",
    "\n",
    "plotting_SED_flux_pointing(\n",
    "    datasets = datasets,\n",
    "    spectral_model=spectral_model, \n",
    "    sed_type = \"e2dnde\", \n",
    "    yaxis_units=\"erg cm-2 s-1\", \n",
    "    energy_bounds=energy_bounds, \n",
    "    ylim=ylim\n",
    ")"
   ]
  },
  {
   "cell_type": "code",
   "execution_count": null,
   "id": "5f7b0d03",
   "metadata": {},
   "outputs": [],
   "source": [
    "print(result_fit.models.parameters.to_table())"
   ]
  },
  {
   "cell_type": "code",
   "execution_count": null,
   "id": "caa74409",
   "metadata": {},
   "outputs": [],
   "source": [
    "spectral_model.reference"
   ]
  },
  {
   "cell_type": "code",
   "execution_count": null,
   "id": "636366aa",
   "metadata": {},
   "outputs": [],
   "source": [
    "import matplotlib.pyplot as plt\n",
    "import numpy as np\n",
    "\n",
    "# Generate dataset for the plot\n",
    "x = np.linspace(-10, 10, 1000)\n",
    "y = np.sin(x)\n",
    "\n",
    "# Plot the data\n",
    "plt.plot(x, y, color='red')\n",
    "\n",
    "# Use the rdbu colormap to color the background\n",
    "plt.imshow(np.outer(np.ones(10), np.arange(100)),\n",
    "           cmap='RdBu',\n",
    "           extent=(-10, 10, -1, 1),\n",
    "           alpha=0.2)\n",
    "\n",
    "# Add text to the plot using an rgba color\n",
    "plt.text(5, 0.5, 'Text in RGBA color', color=(0, 1, 0, 0.5), fontsize=16)\n",
    "\n",
    "# Show the plot\n",
    "plt.show()"
   ]
  },
  {
   "cell_type": "code",
   "execution_count": null,
   "id": "725899bf",
   "metadata": {},
   "outputs": [],
   "source": []
  },
  {
   "cell_type": "code",
   "execution_count": null,
   "id": "7d448f6a",
   "metadata": {},
   "outputs": [],
   "source": []
  },
  {
   "cell_type": "code",
   "execution_count": null,
   "id": "c5367d5e",
   "metadata": {},
   "outputs": [],
   "source": []
  },
  {
   "cell_type": "code",
   "execution_count": null,
   "id": "747287ce",
   "metadata": {},
   "outputs": [],
   "source": []
  },
  {
   "cell_type": "code",
   "execution_count": null,
   "id": "5c85aaea",
   "metadata": {},
   "outputs": [],
   "source": [
    "# to select a source object index: [0-6]\n",
    "src_index = 0\n",
    "source_identification(src_index)\n",
    "LHAASO_name, src_name"
   ]
  },
  {
   "cell_type": "code",
   "execution_count": null,
   "id": "4d50a908",
   "metadata": {},
   "outputs": [],
   "source": [
    "# List of catalogs with flux points table of the source\n",
    "df_fp['catalog'][src_index]"
   ]
  },
  {
   "cell_type": "code",
   "execution_count": null,
   "id": "144e7f84",
   "metadata": {},
   "outputs": [],
   "source": [
    "# to select a catalog:\n",
    "cat_index = 4\n",
    "catalog_tag = df_fp[\"catalog\"][src_index][cat_index]\n",
    "catalog = CATALOG_REGISTRY.get_cls(catalog_tag)()\n",
    "# print(catalog)"
   ]
  },
  {
   "cell_type": "code",
   "execution_count": null,
   "id": "b31f37c5",
   "metadata": {},
   "outputs": [],
   "source": [
    "source  = catalog[src_name]\n",
    "# source.data"
   ]
  },
  {
   "cell_type": "code",
   "execution_count": null,
   "id": "bbf8c466",
   "metadata": {
    "scrolled": true
   },
   "outputs": [],
   "source": [
    "flux_points = source.flux_points\n",
    "flux_points.to_table(sed_type=\"e2dnde\", formatted=True)"
   ]
  },
  {
   "cell_type": "code",
   "execution_count": null,
   "id": "1d1d6170",
   "metadata": {},
   "outputs": [],
   "source": [
    "# Gammapy sky model object:\n",
    "sky_model = source.sky_model()\n",
    "\n",
    "# Gammapy spatial model object:\n",
    "spatial_model = source.spatial_model\n",
    "\n",
    "# Gammapy spectral model object:\n",
    "spectral_model = source.spectral_model()\n",
    "spectral_model_tag = spectral_model.tag[0]\n",
    "spectral_model_tag_short = spectral_model.tag[0]"
   ]
  },
  {
   "cell_type": "code",
   "execution_count": null,
   "id": "ca4d9b8a",
   "metadata": {},
   "outputs": [],
   "source": [
    "# energy_bounds = [1e-5, 1e3] * u.TeV\n",
    "# ylim = [1e-20, 1e-7]"
   ]
  },
  {
   "cell_type": "code",
   "execution_count": null,
   "id": "cfa9953d",
   "metadata": {},
   "outputs": [],
   "source": [
    "file_name = f'{LHAASO_txt}_{src_txt}_{spectral_model_tag_short}.png'\n",
    "file_path = path_plot_spectrum / file_name"
   ]
  },
  {
   "cell_type": "code",
   "execution_count": null,
   "id": "c656ee5b",
   "metadata": {},
   "outputs": [],
   "source": [
    "plt.style.use(['science', 'notebook', 'grid'])\n",
    "\n",
    "plt.figure()\n",
    "\n",
    "ax = spectral_model.plot(energy_bounds, sed_type=\"e2dnde\")\n",
    "ax = spectral_model.plot_error(energy_bounds, sed_type=\"e2dnde\")\n",
    "flux_points.plot(ax=ax, sed_type=\"e2dnde\")\n",
    "ax.text(0.08, 0.1, LHAASO_name, transform=ax.transAxes, fontsize = \"x-large\")\n",
    "\n",
    "ax.set_ylim(ylim)\n",
    "ax.set_xlim(energy_bounds)\n",
    "\n",
    "# plt.title(f\"{LHAASO_name}: {src_name}\")\n",
    "plt.legend([spectral_model_tag, \"Error\", f\"{src_name} - {catalog_tag}\"], loc='upper left', prop={'size': 10})\n",
    "plt.savefig(file_path, bbox_inches='tight')\n",
    "plt.show()"
   ]
  },
  {
   "cell_type": "code",
   "execution_count": null,
   "id": "de037824",
   "metadata": {},
   "outputs": [],
   "source": []
  },
  {
   "cell_type": "code",
   "execution_count": null,
   "id": "1a95ec9d",
   "metadata": {},
   "outputs": [],
   "source": [
    "file_name"
   ]
  },
  {
   "cell_type": "code",
   "execution_count": null,
   "id": "8718987c",
   "metadata": {},
   "outputs": [],
   "source": [
    "src_index = 1\n",
    "source_identification(src_index)\n",
    "catalog_tag = df_fp[\"catalog\"][src_index][3]\n",
    "\n",
    "file_name = f'{LHAASO_txt}_{src_txt}_{catalog_tag}{format_fits}'\n",
    "file_path = make_path(f\"{path_flux_points_tables}/{file_name}\")\n",
    "flux_points = FluxPoints.read(file_path, sed_type=sed_type)\n",
    "ds = FluxPointsDataset(\n",
    "    data = flux_points, \n",
    "    name = f\"{src_name}: {catalog_tag}\"\n",
    ")\n",
    "datasets = Datasets(ds)\n",
    "\n",
    "\n",
    "# opts = dict(sed_type=\"e2dnde\", yunits=u.Unit(\"TeV cm-2 s-1\"))\n",
    "energy_bounds = [1e-3, 1e3] * u.TeV\n",
    "ylim = [1e-13, 1e-9]\n",
    "plotting_SED_flux_pointing(\n",
    "    datasets = datasets,\n",
    "#     spectral_model=spectral_model, \n",
    "    sed_type = \"e2dnde\", \n",
    "    yaxis_units=\"erg cm-2 s-1\", \n",
    "    energy_bounds=energy_bounds, \n",
    "    ylim=ylim)\n"
   ]
  },
  {
   "cell_type": "code",
   "execution_count": null,
   "id": "9e8f9799",
   "metadata": {},
   "outputs": [],
   "source": []
  },
  {
   "cell_type": "code",
   "execution_count": null,
   "id": "1736a7fa",
   "metadata": {},
   "outputs": [],
   "source": [
    "source_identification(src_index)\n",
    "catalog_tag = df_fp[\"catalog\"][src_index][3]\n",
    "\n",
    "file_name = f'{LHAASO_txt}_{src_txt}_{catalog_tag}_e_ref_min_{e_ref_min_name}{format_fits}'\n",
    "file_path = make_path(f\"{path_flux_points_tables_analysis}/{file_name}\")\n",
    "flux_points = FluxPoints.read(file_path, sed_type=sed_type)\n",
    "ds = FluxPointsDataset(\n",
    "    data = flux_points, \n",
    "    name = f\"{src_name}: {catalog_tag}\"\n",
    ")\n",
    "datasets = Datasets(ds)\n",
    "\n",
    "\n",
    "# opts = dict(sed_type=\"e2dnde\", yunits=u.Unit(\"TeV cm-2 s-1\"))\n",
    "energy_bounds = [1e-3, 1e3] * u.TeV\n",
    "ylim = [1e-13, 1e-9]\n",
    "plotting_SED_flux_pointing(\n",
    "    datasets = datasets,\n",
    "#     spectral_model=spectral_model, \n",
    "    sed_type = \"e2dnde\", \n",
    "    yaxis_units=\"erg cm-2 s-1\", \n",
    "    energy_bounds=energy_bounds, \n",
    "    ylim=ylim)\n"
   ]
  },
  {
   "cell_type": "code",
   "execution_count": null,
   "id": "87fb15e8",
   "metadata": {},
   "outputs": [],
   "source": []
  },
  {
   "cell_type": "code",
   "execution_count": null,
   "id": "7f06e012",
   "metadata": {},
   "outputs": [],
   "source": []
  },
  {
   "cell_type": "code",
   "execution_count": null,
   "id": "4f3f8c90",
   "metadata": {},
   "outputs": [],
   "source": []
  },
  {
   "cell_type": "markdown",
   "id": "5e8303da",
   "metadata": {},
   "source": [
    "## Table LHAASO"
   ]
  },
  {
   "cell_type": "code",
   "execution_count": null,
   "id": "96b9f8ee",
   "metadata": {},
   "outputs": [],
   "source": []
  },
  {
   "cell_type": "code",
   "execution_count": null,
   "id": "2f093e7d",
   "metadata": {},
   "outputs": [],
   "source": [
    "from pathlib import Path"
   ]
  },
  {
   "cell_type": "code",
   "execution_count": null,
   "id": "29c7f685",
   "metadata": {},
   "outputs": [],
   "source": [
    "directory_path = '../publishNature'\n",
    "format_dat = '.dat'\n",
    "file_name = \"J1825_KM2A_201209\"\n",
    "file_abs_name = f'{file_name}{format_dat}'\n",
    "\n",
    "file_path = Path(f'{directory_path}/{file_abs_name}') \n",
    "J1825 = Table.read(file_path,format='ascii', delimiter=' ', comment='#')\n",
    "J1825"
   ]
  },
  {
   "cell_type": "code",
   "execution_count": null,
   "id": "2dddd19f",
   "metadata": {},
   "outputs": [],
   "source": []
  },
  {
   "cell_type": "code",
   "execution_count": null,
   "id": "a747e640",
   "metadata": {},
   "outputs": [],
   "source": [
    "# Table.read.list_formats()"
   ]
  },
  {
   "cell_type": "code",
   "execution_count": null,
   "id": "d2be4d19",
   "metadata": {},
   "outputs": [],
   "source": []
  },
  {
   "cell_type": "code",
   "execution_count": null,
   "id": "fa1f4a73",
   "metadata": {},
   "outputs": [],
   "source": [
    "J1825"
   ]
  },
  {
   "cell_type": "code",
   "execution_count": null,
   "id": "64392add",
   "metadata": {},
   "outputs": [],
   "source": []
  },
  {
   "cell_type": "code",
   "execution_count": null,
   "id": "86d9b921",
   "metadata": {},
   "outputs": [],
   "source": [
    "from astropy.table import QTable\n",
    "import astropy.units as u\n",
    "\n",
    "J1825['col1'] = J1825['col1']/1e12\n",
    "J1825.rename_column('col1', 'e_ref')\n",
    "J1825['e_ref'].unit = u.TeV\n",
    "\n",
    "J1825['col5'] = J1825['col5']/1e12\n",
    "J1825.rename_column('col5', 'e_min')\n",
    "J1825['e_min'].unit = u.TeV\n",
    "\n",
    "J1825['col6'] = J1825['col6']/1e12\n",
    "J1825.rename_column('col6', 'e_max')\n",
    "J1825['e_max'].unit = u.TeV\n",
    "\n",
    "\n",
    "\n",
    "J1825.rename_column('col2', 'e2dnde')\n",
    "J1825['e2dnde'].unit = u.Unit(\"erg cm-2 s-1\")\n",
    "\n",
    "J1825.rename_column('col3', 'e2dnde_errp')\n",
    "J1825['e2dnde_errp'].unit = u.Unit(\"erg cm-2 s-1\")\n",
    "\n",
    "J1825.rename_column('col4', 'e2dnde_errn')\n",
    "J1825['e2dnde_errn'].unit = u.Unit(\"erg cm-2 s-1\")\n",
    "\n",
    "J1825.meta[\"SED_TYPE\"] = \"e2dnde\"\n",
    "J1825.meta[\"name\"] = \"J1825\"\n",
    "\n",
    "\n",
    "\n",
    "\n",
    "\n",
    "# # Writes the flux points table in the csv format\n",
    "# file_abs_name = f'{file_name}{format_fits}'\n",
    "# path_os = os.path.abspath(\n",
    "#     os.path.join(\n",
    "#         f\"{directory_path}/{file_abs_name}\"\n",
    "#     )\n",
    "# )\n",
    "\n",
    "# if path_os not in sys.path:\n",
    "#     sys.path.append(path_os)\n",
    "\n",
    "# J1825.write(\n",
    "#     f\"{path_os}\",\n",
    "#     format = 'fits', \n",
    "#     overwrite = True\n",
    "# )   \n",
    "\n",
    "# # Writes the flux points table in the csv format\n",
    "# file_abs_name = f'{file_name}{format_csv}'\n",
    "# path_os = os.path.abspath(\n",
    "#     os.path.join(\n",
    "#         f\"{directory_path}/{file_abs_name}\"\n",
    "#     )\n",
    "# )\n",
    "\n",
    "# if path_os not in sys.path:\n",
    "#     sys.path.append(path_os)\n",
    "\n",
    "# J1825.write(\n",
    "#     f\"{path_os}\",\n",
    "#     format = 'ascii.ecsv', \n",
    "#     overwrite = True\n",
    "# )  "
   ]
  },
  {
   "cell_type": "code",
   "execution_count": null,
   "id": "209f785b",
   "metadata": {},
   "outputs": [],
   "source": [
    "energy_bounds = [10, 1000] * u.TeV\n",
    "model = PowerLawSpectralModel(\n",
    "    index=3.36,\n",
    "    ampliude=\"1.5e-12 TeV-1 cm-2 s-1\",\n",
    "    reference=10 * u.TeV,\n",
    ")\n",
    "{}\n",
    "model.plot(energy_bounds)"
   ]
  },
  {
   "cell_type": "code",
   "execution_count": null,
   "id": "1ef2bb2e",
   "metadata": {},
   "outputs": [],
   "source": [
    "J1825['e_ref'],J1825['e2dnde']"
   ]
  },
  {
   "cell_type": "code",
   "execution_count": null,
   "id": "8374d078",
   "metadata": {},
   "outputs": [],
   "source": [
    "def power_law(x,index=2, amplitude=\"1e-12 cm-2 s-1 erg-1\", reference=\"1 TeV\"):  \n",
    "    return amplitude*(x/reference)**(-index)"
   ]
  },
  {
   "cell_type": "code",
   "execution_count": null,
   "id": "ac798e6c",
   "metadata": {},
   "outputs": [],
   "source": [
    "lp = LogParabolaSpectralModel(\n",
    "    alpha=1.56,\n",
    "    amplitude=\"1e-11 cm-2 s-1 erg-1\",\n",
    "    reference=1 * u.TeV,\n",
    "    beta=0.88,\n",
    ")"
   ]
  },
  {
   "cell_type": "code",
   "execution_count": null,
   "id": "99b266d7",
   "metadata": {
    "scrolled": true
   },
   "outputs": [],
   "source": [
    "from scipy.optimize import curve_fit\n",
    "curve_fit(power_law, J1825['e_ref'], J1825['e2dnde'])"
   ]
  },
  {
   "cell_type": "code",
   "execution_count": null,
   "id": "6c3bc2e0",
   "metadata": {},
   "outputs": [],
   "source": [
    "pwl = PowerLawSpectralModel(\n",
    "    index=2, amplitude=\"1e-12 cm-2 s-1 erg-1\", reference=\"1 TeV\"\n",
    ")\n",
    "\n",
    "\n",
    "plt.figure(figsize=(4,6))\n",
    "plt.loglog(J1825['e_ref'],J1825['e2dnde'], 'o', color='red', lw=2, ms=4)\n",
    "plt.errorbar(J1825['e_ref'],J1825['e2dnde'], yerr=[J1825['e2dnde_errn'], J1825['e2dnde_errp']],fmt='.', color='red')\n",
    "# lp.plot(energy_bounds=[10, 1000]* u.TeV, color=\"k\")\n",
    "# # lp.plot_error(energy_bounds=[10, 1000]* u.TeV)\n",
    "\n",
    "# # pwl.plot(energy_bounds=[10, 1000]* u.TeV, color=\"k\")\n",
    "# # pwl.plot_error(energy_bounds=[10, 1000]* u.TeV)\n",
    "# model = PowerLawSpectralModel(\n",
    "#     index=3.36,\n",
    "#     amplitude=\"1.5e-11 erg-1 cm-2 s-1\",\n",
    "#     reference=1* u.TeV,\n",
    "# )\n",
    "# model.plot(energy_bounds, sed_type=sed_type)\n",
    "\n",
    "\n",
    "plt.xlim(10, 1000)\n",
    "plt.ylim(1e-14, 3e-11)\n",
    "plt.grid(which=\"both\")"
   ]
  },
  {
   "cell_type": "code",
   "execution_count": null,
   "id": "6e7312ab",
   "metadata": {},
   "outputs": [],
   "source": [
    "ax = plt.subplot()\n",
    "ax.loglog(J1825['e_ref'],J1825['e2dnde'], 'o', color='red', lw=2, ms=4)\n",
    "ax.errorbar(J1825['e_ref'],J1825['e2dnde'], yerr=[J1825['e2dnde_errn'], J1825['e2dnde_errp']],fmt='.', color='red')\n",
    "\n"
   ]
  },
  {
   "cell_type": "code",
   "execution_count": null,
   "id": "7ac7e46e",
   "metadata": {},
   "outputs": [],
   "source": [
    "plt.loglog(J1825['e_ref'],J1825['e2dnde'], 'o', color='red', lw=2, ms=4)\n",
    "plt.errorbar(J1825['e_ref'],J1825['e2dnde'], yerr=[J1825['e2dnde_errn'], J1825['e2dnde_errp']],fmt='.', color='red')\n"
   ]
  },
  {
   "cell_type": "code",
   "execution_count": null,
   "id": "9134feaf",
   "metadata": {},
   "outputs": [],
   "source": []
  },
  {
   "cell_type": "code",
   "execution_count": null,
   "id": "6ae71f3c",
   "metadata": {},
   "outputs": [],
   "source": []
  },
  {
   "cell_type": "code",
   "execution_count": null,
   "id": "a4d017a9",
   "metadata": {},
   "outputs": [],
   "source": []
  },
  {
   "cell_type": "code",
   "execution_count": null,
   "id": "c38be00b",
   "metadata": {},
   "outputs": [],
   "source": [
    "# file_name = \"J1825_KM2A_201209\"\n",
    "# file_abs_name = f'{file_name}{format_fits}'\n",
    "\n",
    "# file_path = Path(f'{directory_path}/{file_abs_name}') \n",
    "# J1825_t = Table.read(file_path,format='fits')\n",
    "# J1825_t"
   ]
  },
  {
   "cell_type": "code",
   "execution_count": null,
   "id": "c7f71e55",
   "metadata": {},
   "outputs": [],
   "source": [
    "J1825.meta"
   ]
  },
  {
   "cell_type": "code",
   "execution_count": null,
   "id": "e66a1c5b",
   "metadata": {},
   "outputs": [],
   "source": [
    "FluxPoints.from_table(table = J1825, sed_type='e2dnde').e2dnde."
   ]
  },
  {
   "cell_type": "code",
   "execution_count": null,
   "id": "2b2edd60",
   "metadata": {},
   "outputs": [],
   "source": [
    "J1825."
   ]
  },
  {
   "cell_type": "code",
   "execution_count": null,
   "id": "c98db70c",
   "metadata": {},
   "outputs": [],
   "source": []
  },
  {
   "cell_type": "code",
   "execution_count": null,
   "id": "b435aaa8",
   "metadata": {},
   "outputs": [],
   "source": []
  },
  {
   "cell_type": "code",
   "execution_count": null,
   "id": "18878f7c",
   "metadata": {},
   "outputs": [],
   "source": []
  },
  {
   "cell_type": "code",
   "execution_count": null,
   "id": "4d65a9f5",
   "metadata": {},
   "outputs": [],
   "source": [
    "file_path = Path(f'../publishNature/J1908_KM2A_201209.dat') \n",
    "J1908 = Table.read(file_path ,format='ascii', delimiter=' ', comment='#')\n",
    "J1908"
   ]
  },
  {
   "cell_type": "code",
   "execution_count": null,
   "id": "4644f8a7",
   "metadata": {
    "scrolled": true
   },
   "outputs": [],
   "source": [
    "file_path = Path(f'../publishNature/J2228_KM2A_201209.dat') \n",
    "J2228 = Table.read(file_path,format='ascii', delimiter=' ', comment='#')\n",
    "J2228"
   ]
  },
  {
   "cell_type": "code",
   "execution_count": null,
   "id": "e0815e43",
   "metadata": {},
   "outputs": [],
   "source": []
  },
  {
   "cell_type": "code",
   "execution_count": null,
   "id": "a44a53c9",
   "metadata": {
    "scrolled": true
   },
   "outputs": [],
   "source": [
    "J1825"
   ]
  },
  {
   "cell_type": "code",
   "execution_count": null,
   "id": "43f115c0",
   "metadata": {},
   "outputs": [],
   "source": [
    "flux_points_ = FluxPoints.from_table(J1825, sed_type=\"e2dnde\")"
   ]
  },
  {
   "cell_type": "code",
   "execution_count": null,
   "id": "3cd651d5",
   "metadata": {},
   "outputs": [],
   "source": [
    "flux_points_.plot()"
   ]
  },
  {
   "cell_type": "code",
   "execution_count": null,
   "id": "587a0a00",
   "metadata": {},
   "outputs": [],
   "source": [
    "e_ref = J1825['col1']/1e12\n",
    "e_min = J1825['col5']/1e12\n",
    "e_max = J1825['col6']/1e12\n",
    "\n",
    "e2dnde = J1825['col2']\n",
    "e2dnde_errp = J1825['col3']\n",
    "e2dnde_errn = J1825['col4']\n",
    "\n",
    "J1825_table = Table(\n",
    "    [e_ref, e2dnde, e2dnde_errp, e2dnde_errn, e_min, e_max],\n",
    "    names=('e_ref', 'e2dnde', 'e2dnde_errp', 'e2dnde_errn', 'e_min', 'e_max'),\n",
    "    meta={'name': 'J1825','SED_TYPE': 'e2dnde' }\n",
    ")\n",
    "\n",
    "J1825_table['e_ref'].unit = u.TeV\n",
    "J1825_table['e_min'].unit = u.TeV\n",
    "J1825_table['e_max'].unit = u.TeV\n",
    "\n",
    "J1825_table['e2dnde'].unit = u.Unit(\"erg cm-2 s-1\")\n",
    "J1825_table['e2dnde_errp'].unit = u.Unit(\"erg cm-2 s-1\")\n",
    "J1825_table['e2dnde_errn'].unit = u.Unit(\"erg cm-2 s-1\")"
   ]
  },
  {
   "cell_type": "code",
   "execution_count": null,
   "id": "947a066e",
   "metadata": {
    "scrolled": false
   },
   "outputs": [],
   "source": [
    "J1825_table.meta"
   ]
  },
  {
   "cell_type": "code",
   "execution_count": null,
   "id": "aedd1e48",
   "metadata": {
    "scrolled": true
   },
   "outputs": [],
   "source": [
    "flux_points2 = FluxPoints.from_table(J1825_table, sed_type=\"e2dnde\")\n",
    "flux_points2.to_table()"
   ]
  },
  {
   "cell_type": "code",
   "execution_count": null,
   "id": "b19c51c4",
   "metadata": {},
   "outputs": [],
   "source": []
  },
  {
   "cell_type": "code",
   "execution_count": null,
   "id": "056fd94c",
   "metadata": {},
   "outputs": [],
   "source": []
  },
  {
   "cell_type": "code",
   "execution_count": null,
   "id": "d4c69af7",
   "metadata": {},
   "outputs": [],
   "source": [
    "e_ref = J1908['col1']\n",
    "e2dnde = J1908['col2']\n",
    "e2dnde_errp = J1908['col2']\n",
    "e2dnde_errn = J1908['col3']\n",
    "J1908_table = QTable([e_ref, e2dnde, e2dnde_errp, e2dnde_errn],\n",
    "           names=('e_ref', 'e2dnde', 'e2dnde_errp', 'e2dnde_errn'),\n",
    "           meta={'name': 'J1908'})\n",
    "\n",
    "J1908_table['e_ref'] = J1908['col1']/1e12\n",
    "J1908_table['e_ref'].unit = u.TeV\n",
    "J1908_table['e2dnde'].unit = u.Unit(\"erg cm-2 s-1\")\n",
    "J1908_table['e2dnde_errp'].unit = u.Unit(\"erg cm-2 s-1\")\n",
    "J1908_table['e2dnde_errn'].unit = u.Unit(\"erg cm-2 s-1\")"
   ]
  },
  {
   "cell_type": "code",
   "execution_count": null,
   "id": "c28e5a1a",
   "metadata": {
    "scrolled": true
   },
   "outputs": [],
   "source": [
    "J1908_table"
   ]
  },
  {
   "cell_type": "code",
   "execution_count": null,
   "id": "9cf121b3",
   "metadata": {},
   "outputs": [],
   "source": [
    "e_ref = J2228['col1']\n",
    "e2dnde = J2228['col2']\n",
    "e2dnde_errp = J2228['col3']\n",
    "e2dnde_errn = J2228['col4']\n",
    "J2228_table = QTable([e_ref, e2dnde, e2dnde_errp, e2dnde_errn],\n",
    "           names=('e_ref', 'e2dnde', 'e2dnde_errp', 'e2dnde_errn'),\n",
    "           meta={'name': 'J2228'})\n",
    "\n",
    "J2228_table['e_ref'] = J2228['col1']/1e12\n",
    "J2228_table['e_ref'].unit = u.TeV\n",
    "J2228_table['e2dnde'].unit = u.Unit(\"erg cm-2 s-1\")\n",
    "J2228_table['e2dnde_errp'].unit = u.Unit(\"erg cm-2 s-1\")\n",
    "J2228_table['e2dnde_errn'].unit = u.Unit(\"erg cm-2 s-1\")"
   ]
  },
  {
   "cell_type": "code",
   "execution_count": null,
   "id": "5230810a",
   "metadata": {
    "scrolled": true
   },
   "outputs": [],
   "source": []
  },
  {
   "cell_type": "code",
   "execution_count": null,
   "id": "81a192c2",
   "metadata": {
    "scrolled": true
   },
   "outputs": [],
   "source": [
    "flux_points_ = FluxPoints.from_table(J1825_table)\n",
    "flux_points_.to_table()"
   ]
  },
  {
   "cell_type": "code",
   "execution_count": null,
   "id": "a47d0bda",
   "metadata": {},
   "outputs": [],
   "source": [
    "flux_points_.plot()"
   ]
  },
  {
   "cell_type": "code",
   "execution_count": null,
   "id": "708e52f3",
   "metadata": {},
   "outputs": [],
   "source": [
    "flux_points_.to_table()"
   ]
  },
  {
   "cell_type": "code",
   "execution_count": null,
   "id": "b151f6d2",
   "metadata": {},
   "outputs": [],
   "source": [
    "ds = FluxPointsDataset(\n",
    "    data = flux_points_, \n",
    "    name = f\"{src_name}: {catalog_tag}\"\n",
    ")\n",
    "datasets = Datasets(ds)\n",
    "\n",
    "\n",
    "# opts = dict(sed_type=\"e2dnde\", yunits=u.Unit(\"TeV cm-2 s-1\"))\n",
    "energy_bounds = [10, 1e3] * u.TeV\n",
    "ylim = [1e-14, 3e-11]\n",
    "plotting_SED_flux_pointing(\n",
    "    datasets = datasets,\n",
    "#     spectral_model=spectral_model, \n",
    "    sed_type = \"e2dnde\", \n",
    "    yaxis_units=\"erg cm-2 s-1\", \n",
    "    energy_bounds=energy_bounds, \n",
    "    ylim=ylim)\n"
   ]
  },
  {
   "cell_type": "code",
   "execution_count": null,
   "id": "9d1bde43",
   "metadata": {},
   "outputs": [],
   "source": [
    "# table.rename_column('col2', 'e_ref')  \n",
    "# table[\"e_ref\"].unit = u.eV\n",
    "# table[\"e_ref\"]"
   ]
  },
  {
   "cell_type": "code",
   "execution_count": null,
   "id": "5e9fecbb",
   "metadata": {},
   "outputs": [],
   "source": [
    "flux_points_.plot()"
   ]
  },
  {
   "cell_type": "code",
   "execution_count": null,
   "id": "e7a7cfde",
   "metadata": {},
   "outputs": [],
   "source": []
  },
  {
   "cell_type": "code",
   "execution_count": null,
   "id": "2ebabd87",
   "metadata": {},
   "outputs": [],
   "source": []
  },
  {
   "cell_type": "markdown",
   "id": "b5f86771",
   "metadata": {},
   "source": [
    "#### Let's plot the spectrum"
   ]
  },
  {
   "cell_type": "markdown",
   "id": "71a0d645",
   "metadata": {},
   "source": [
    "    TF1 *f=new TF1(\"f\",\"[0]*pow(x/20.0,[1])*pow(x,2)\",10,2000);\n",
    "          f->SetParameters(1.5e-11,-2.4);"
   ]
  },
  {
   "cell_type": "markdown",
   "id": "fc683b47",
   "metadata": {},
   "source": [
    "      TF1 *f2=new TF1(\"f2\",\"[0]*pow(x/20.,[1]+[2]*log10(x/20.))*pow(x,2)\");\n",
    "          f2->SetParameters(2.e-14,-2.6,-0.2,1000);"
   ]
  },
  {
   "cell_type": "code",
   "execution_count": null,
   "id": "e60c4700",
   "metadata": {},
   "outputs": [],
   "source": []
  },
  {
   "cell_type": "code",
   "execution_count": null,
   "id": "630f52f6",
   "metadata": {
    "scrolled": true
   },
   "outputs": [],
   "source": []
  },
  {
   "cell_type": "code",
   "execution_count": null,
   "id": "f082256b",
   "metadata": {},
   "outputs": [],
   "source": [
    "source  = catalog[src_name]\n",
    "# Gammapy sky model object:\n",
    "sky_model = source.sky_model()\n",
    "\n",
    "# Gammapy spatial model object:\n",
    "spatial_model = sky_model.spatial_model\n",
    "\n",
    "# Gammapy spectral model object:\n",
    "spectral_model = sky_model.spectral_model\n",
    "spectral_model_tag = spectral_model.tag[0]"
   ]
  },
  {
   "cell_type": "code",
   "execution_count": null,
   "id": "158b5c98",
   "metadata": {},
   "outputs": [],
   "source": [
    "source.data"
   ]
  },
  {
   "cell_type": "code",
   "execution_count": null,
   "id": "ce492a97",
   "metadata": {},
   "outputs": [],
   "source": [
    "print(sky_model)"
   ]
  },
  {
   "cell_type": "code",
   "execution_count": null,
   "id": "fc91067b",
   "metadata": {},
   "outputs": [],
   "source": [
    "print(spatial_model)"
   ]
  },
  {
   "cell_type": "code",
   "execution_count": null,
   "id": "f6f5af7c",
   "metadata": {
    "scrolled": true
   },
   "outputs": [],
   "source": [
    "print(spectral_model)"
   ]
  },
  {
   "cell_type": "code",
   "execution_count": null,
   "id": "ed8d6244",
   "metadata": {},
   "outputs": [],
   "source": [
    "ds_fp[src_index][cat_index]"
   ]
  },
  {
   "cell_type": "code",
   "execution_count": null,
   "id": "95d5dfe8",
   "metadata": {},
   "outputs": [],
   "source": []
  },
  {
   "cell_type": "code",
   "execution_count": null,
   "id": "8df60a8c",
   "metadata": {},
   "outputs": [],
   "source": [
    "def plot_spectrum(data = None):\n",
    "    plt.style.use(['science', 'notebook', 'grid'])\n",
    "    fig, ax = plt.subplots(1, 1, figsize=(6,5))\n",
    "\n",
    "    kwargs_model = {\n",
    "        \"color\":\"black\",\n",
    "        \"ls\":\"--\"\n",
    "    }\n",
    "    kwargs_fp = {\n",
    "        \"color\":\"blue\", \n",
    "        \"marker\":\"o\"\n",
    "    }\n",
    "\n",
    "    data = data\n",
    "    data.plot_spectrum(\n",
    "        ax = ax,  \n",
    "        kwargs_fp = kwargs_fp, \n",
    "        kwargs_model = kwargs_model\n",
    "    )\n",
    "\n",
    "    title = f\"{LHAASO_name}: {src_name}\\n{catalog_tag}: {spectral_model_tag}\"\n",
    "\n",
    "    ax.text(\n",
    "        0.1, 0.1, \n",
    "        title,\n",
    "        transform = ax.transAxes,\n",
    "        bbox = dict(\n",
    "                facecolor = 'white', \n",
    "                edgecolor = 'black'\n",
    "        ), \n",
    "        size = 10\n",
    "    )\n",
    "    ax.tick_params(axis='both', which='both', labelsize=10)\n",
    "\n",
    "    file = path_plot_spectrum / f'{title}.png'\n",
    "\n",
    "    plt.savefig(file, bbox_inches='tight')\n",
    "    plt.show()"
   ]
  },
  {
   "cell_type": "code",
   "execution_count": null,
   "id": "5ed5a715",
   "metadata": {},
   "outputs": [],
   "source": [
    "data = ds_fp[src_index][cat_index]\n",
    "plot_spectrum(data)"
   ]
  },
  {
   "cell_type": "code",
   "execution_count": null,
   "id": "7243017d",
   "metadata": {},
   "outputs": [],
   "source": []
  },
  {
   "cell_type": "code",
   "execution_count": null,
   "id": "c8435a3e",
   "metadata": {},
   "outputs": [],
   "source": [
    "# kwargs = {\n",
    "#         \"ax\": ax, \n",
    "# #         \"sed_type\": sed_type\n",
    "#     }    \n",
    "# kwargs_fit = {\"label\": spectral_model_tag}\n",
    "# spec_model.plot(energy_bounds=energy_bounds, color=\"k\", **kwargs, **kwargs_fit)\n",
    "# spec_model.plot_error(energy_bounds=energy_bounds, **kwargs)\n",
    "\n",
    "# plt.show()\n"
   ]
  },
  {
   "cell_type": "code",
   "execution_count": null,
   "id": "1c7c7ee2",
   "metadata": {},
   "outputs": [],
   "source": [
    "def plot_flux_points(spectral_model, ax, label, color):\n",
    "    \n",
    "    energy_bounds = (100 * u.MeV, 100 * u.GeV)\n",
    "    spectral_model.plot(\n",
    "        ax=ax, label=label, color=color\n",
    "    )\n",
    "    spec.plot_error(ax=ax, energy_bounds=energy_bounds, color=color)\n"
   ]
  },
  {
   "cell_type": "code",
   "execution_count": null,
   "id": "18390d7a",
   "metadata": {},
   "outputs": [],
   "source": [
    "plt.style.use(['science', 'notebook', 'grid'])\n",
    "\n",
    "def plot_spectrum(spectral_model, ax, label, color):\n",
    "    \n",
    "    energy_bounds = (100 * u.MeV, 100 * u.GeV)\n",
    "    spectral_model.plot(\n",
    "        ax=ax, energy_bounds=energy_bounds,label=label, color=color\n",
    "    )\n",
    "    spectral_model.plot_error(ax=ax, energy_bounds=energy_bounds, color=color)\n",
    "\n",
    "fig, ax = plt.subplots()\n",
    "plot_spectrum(spectral_model, ax=ax, label=spectral_model_tag, color=\"tab:blue\")\n",
    "# dataset.data.plot(label=d.name, **kwargs)\n",
    "#plot_spectrum(model_joint, ax=ax, label=\"joint\", color=\"tab:orange\")\n",
    "ax.legend()\n",
    "plt.show()"
   ]
  },
  {
   "cell_type": "code",
   "execution_count": null,
   "id": "fbadaaa9",
   "metadata": {},
   "outputs": [],
   "source": [
    "dataset_fp = FluxPointsDataset(data=source.flux_points,models=sky_model, name=spectral_model_tag)\n",
    "dataset_fp.data.to_table(sed_type=sed_type, formatted=True)\n",
    "\n"
   ]
  },
  {
   "cell_type": "code",
   "execution_count": null,
   "id": "800c66da",
   "metadata": {},
   "outputs": [],
   "source": [
    "\n",
    "datasets = Datasets([dataset_fp])\n",
    "datasets.models = sky_model\n",
    "print(datasets)\n",
    "\n",
    "fitter = Fit()\n",
    "result_pwl = fitter.run(datasets=datasets)"
   ]
  },
  {
   "cell_type": "code",
   "execution_count": null,
   "id": "ec7b5dd5",
   "metadata": {},
   "outputs": [],
   "source": [
    "plt.style.use(['default'])\n",
    "\n",
    "ax = plt.subplot()\n",
    "ax.yaxis.set_units(u.Unit(\"erg cm-2 s-1\"))\n",
    "\n",
    "kwargs = {\"ax\": ax, \"sed_type\": \"e2dnde\"}\n",
    "\n",
    "for d in datasets:\n",
    "    d.data.plot(label=d.name, **kwargs)\n",
    "\n",
    "# energy_bounds = (100 * u.MeV, 100 * u.GeV)\n",
    "spectral_model.plot(energy_bounds=energy_bounds, color=\"k\", **kwargs)\n",
    "# ax.set_ylim(1e-13, 1e-8)\n",
    "ax.set_xlim(energy_bounds)\n",
    "ax.legend()\n",
    "plt.show()"
   ]
  },
  {
   "cell_type": "code",
   "execution_count": null,
   "id": "9bcc0a26",
   "metadata": {},
   "outputs": [],
   "source": [
    "# fig, ax = plt.subplots(1, 1, figsize=(12,4))\n",
    "\n",
    "# ax.plot(x, y, 'o--', color='r', lw=0.4, ms=3)\n",
    "\n",
    "\n",
    "# ax.text(0.1, 0.1, 'text here', transform=ax.transAxes)\n",
    "# ax.set_xlabel('Time [s]')\n",
    "# ax.set_ylabel(r'$\\frac{d}{dx} f(x)$', fontsize=15)\n",
    "# plt.show()\n"
   ]
  },
  {
   "cell_type": "code",
   "execution_count": null,
   "id": "0a40b2eb",
   "metadata": {},
   "outputs": [],
   "source": [
    "# #load precomputed flux points\n",
    "# flux_points = source.flux_points\n",
    "# model = SkyModel(spectral_model=spectral_model)\n",
    "# dataset = FluxPointsDataset(model, flux_points)\n",
    "# dataset.plot_spectrum()"
   ]
  },
  {
   "cell_type": "code",
   "execution_count": null,
   "id": "a7eaaca0",
   "metadata": {},
   "outputs": [],
   "source": []
  },
  {
   "cell_type": "code",
   "execution_count": null,
   "id": "0a473de7",
   "metadata": {},
   "outputs": [],
   "source": [
    "# #load precomputed flux points\n",
    "# flux_points = source.flux_points\n",
    "# model = SkyModel(spectral_model=spectral_model)\n",
    "# dataset = FluxPointsDataset(model, flux_points)\n",
    "# #configuring optional parameters\n",
    "# kwargs_spectrum = {\"kwargs_model\": {\"color\":\"red\", \"ls\":\"--\"}, \"kwargs_fp\":{\"color\":\"green\", \"marker\":\"o\"}}  # noqa: E501\n",
    "# kwargs_residuals = {\"color\": \"blue\", \"markersize\":4, \"marker\":'s', }\n",
    "# dataset.plot_fit(kwargs_residuals=kwargs_residuals, kwargs_spectrum=kwargs_spectrum) \n"
   ]
  },
  {
   "cell_type": "code",
   "execution_count": null,
   "id": "4a07fd0d",
   "metadata": {},
   "outputs": [],
   "source": [
    "# plt.style.use(['science', 'notebook', 'grid'])\n",
    "\n",
    "\n",
    "# fig, axes = plt.subplots(1, 2, figsize=(10,3.5))\n",
    "# data = ds_fp[src_index][cat_index]\n",
    "# data.plot_spectrum(kwargs_fp=kwargs_fp, kwargs_model=kwargs_model)\n",
    "# ax = axes[0]\n",
    "# ax.text(0.1, 0.1, 'text here', transform=ax.transAxes)\n",
    "\n",
    "\n",
    "\n",
    "\n",
    "\n",
    "\n",
    "\n",
    "# fig, ax = plt.subplots(1, 1, figsize=(5,4))\n",
    "# data = ds_fp[src_index][cat_index]\n",
    "# data.plot_residuals()\n",
    "# ax = axes[1]\n",
    "# ax.text(0.1, 0.1, 'text here', transform=ax.transAxes)\n",
    "# # ax.set_xlabel('Time [s]')\n",
    "# # ax.set_ylabel(r'$\\frac{d}{dx} f(x)$', fontsize=15)\n",
    "# plt.show()\n"
   ]
  },
  {
   "cell_type": "code",
   "execution_count": null,
   "id": "e78b92d9",
   "metadata": {},
   "outputs": [],
   "source": [
    "# plt.style.use(['science', 'notebook', 'grid'])\n",
    "\n",
    "\n",
    "# fig, ax = plt.subplots(1, 1, figsize=(5,4))\n",
    "# data = ds_fp[src_index][cat_index]\n",
    "# data.plot_residuals()\n",
    "# ax.text(0.1, 0.1, 'text here', transform=ax.transAxes)\n",
    "# # ax.set_xlabel('Time [s]')\n",
    "# # ax.set_ylabel(r'$\\frac{d}{dx} f(x)$', fontsize=15)\n",
    "# plt.show()"
   ]
  },
  {
   "cell_type": "code",
   "execution_count": null,
   "id": "6b8fb8b9",
   "metadata": {},
   "outputs": [],
   "source": [
    "# energy_bounds = (100 * u.MeV, 100 * u.GeV)\n",
    "\n",
    "# flux_points.plot()\n",
    "\n",
    "# spectral_model.plot(energy_bounds=energy_bounds)\n",
    "# # ax.set_yscale('linear')\n"
   ]
  },
  {
   "cell_type": "code",
   "execution_count": null,
   "id": "5434650d",
   "metadata": {},
   "outputs": [],
   "source": [
    "# fig, axes = plt.subplots(1, 2, figsize=(10,3.5))\n",
    "# ax = axes[0]\n",
    "\n",
    "# data = ds_fp[src_index][cat_index]\n",
    "# ax.plot_spectrum(data=data, kwargs_fp=kwargs_fp, kwargs_model=kwargs_model)\n",
    "\n",
    "# ax.text(0.05, 0.81, textstr1, transform=ax.transAxes,\n",
    "#        bbox=dict(facecolor='white', edgecolor='black'), size=12)\n",
    "\n",
    "# ax.legend(fontsize=10, fancybox=False, edgecolor='black')\n",
    "# ax.set_ylabel('Frequency')\n",
    "# ax.set_title('Trial 1')\n",
    "# ax = axes[1]\n",
    "# ax.hist(res_a2, bins=30, density=True, histtype='step', label='Method 1', color='blue')\n",
    "# ax.hist(res_b2, bins=30, density=True, histtype='step', label='Method 2', color='red')\n",
    "# ax.text(0.05, 0.81, textstr2, transform=ax.transAxes,\n",
    "#        bbox=dict(facecolor='white', edgecolor='black'), size=12)\n",
    "# ax.set_title('Trial 2')\n",
    "# fig.text(0.5, -0.04, '$\\Delta E$ [Joules]', ha='center', size=20)\n",
    "# plt.savefig('trial.png', dpi=200)\n",
    "# plt.show()"
   ]
  },
  {
   "cell_type": "code",
   "execution_count": null,
   "id": "d30224f0",
   "metadata": {},
   "outputs": [],
   "source": []
  },
  {
   "cell_type": "code",
   "execution_count": null,
   "id": "00192e6d",
   "metadata": {},
   "outputs": [],
   "source": []
  },
  {
   "cell_type": "code",
   "execution_count": null,
   "id": "44742dd2",
   "metadata": {},
   "outputs": [],
   "source": []
  },
  {
   "cell_type": "code",
   "execution_count": null,
   "id": "a790661a",
   "metadata": {},
   "outputs": [],
   "source": []
  },
  {
   "cell_type": "code",
   "execution_count": null,
   "id": "0cd501b0",
   "metadata": {},
   "outputs": [],
   "source": []
  },
  {
   "cell_type": "code",
   "execution_count": null,
   "id": "43a449c8",
   "metadata": {},
   "outputs": [],
   "source": [
    "file_name = title.replace(\" \", \"\").replace(\":\", \"_\").replace(\"\\n\", \"_\")"
   ]
  },
  {
   "cell_type": "code",
   "execution_count": null,
   "id": "4b46daf4",
   "metadata": {},
   "outputs": [],
   "source": [
    "fig, ax = plt.subplots(1, 1, figsize=(7,6))\n",
    "\n",
    "#configuring optional parameters\n",
    "kwargs_model = {\"color\":\"black\", \"ls\":\"--\"}\n",
    "kwargs_fp = {\"color\":\"blue\", \"marker\":\"o\"}\n",
    "data = ds_fp[src_index][cat_index]\n",
    "data.plot_residuals(ax = ax)\n",
    "ax.text(0.1, 0.1, f\"spectral model: {spectral_model_tag}\\ncatalog: {catalog_tag}\", transform=ax.transAxes)\n",
    "ax.legend()\n",
    "\n",
    "# ax.set_xlabel('Time [s]')\n",
    "# ax.set_ylabel(r'$\\frac{d}{dx} f(x)$', fontsize=15)\n",
    "\n",
    "plt.title(f\"{LHAASO_name}: {src_name}\")\n",
    "# plt.grid(True)"
   ]
  },
  {
   "cell_type": "code",
   "execution_count": null,
   "id": "352f4dab",
   "metadata": {},
   "outputs": [],
   "source": [
    "plt.style.use(['science', 'notebook', 'grid'])\n",
    "#plt.figure(figsize=(5,4))\n",
    "\n",
    "\n",
    "#configuring optional parameters\n",
    "kwargs_model = {\"color\":\"black\", \"ls\":\"--\"}\n",
    "kwargs_fp = {\"color\":\"blue\", \"marker\":\"o\"}\n",
    "data = ds_fp[src_index][cat_index]\n",
    "data.plot_spectrum(kwargs_fp=kwargs_fp, kwargs_model=kwargs_model)\n",
    "# fig = plt.figure()\n",
    "# fig.set_label('s')\n",
    "plt.title(f\"{LHAASO_name}: {src_name}\")\n",
    "plt.grid(True)"
   ]
  },
  {
   "cell_type": "code",
   "execution_count": null,
   "id": "12bba62b",
   "metadata": {},
   "outputs": [],
   "source": [
    "print(ds_fp[src_index][cat_index].plot_fit)"
   ]
  },
  {
   "cell_type": "code",
   "execution_count": null,
   "id": "7d4839af",
   "metadata": {},
   "outputs": [],
   "source": [
    "ds_fp[src_index][cat_index].plot_fit()"
   ]
  },
  {
   "cell_type": "code",
   "execution_count": null,
   "id": "5ee9106e",
   "metadata": {},
   "outputs": [],
   "source": [
    "ds_fp[src_index][cat_index].plot_residuals()"
   ]
  },
  {
   "cell_type": "code",
   "execution_count": null,
   "id": "5cf05dbd",
   "metadata": {},
   "outputs": [],
   "source": []
  },
  {
   "cell_type": "code",
   "execution_count": null,
   "id": "7ac28225",
   "metadata": {},
   "outputs": [],
   "source": []
  },
  {
   "cell_type": "code",
   "execution_count": null,
   "id": "6e851c95",
   "metadata": {},
   "outputs": [],
   "source": []
  },
  {
   "cell_type": "code",
   "execution_count": null,
   "id": "452f9251",
   "metadata": {},
   "outputs": [],
   "source": []
  }
 ],
 "metadata": {
  "kernelspec": {
   "display_name": "Python 3 (ipykernel)",
   "language": "python",
   "name": "python3"
  },
  "language_info": {
   "codemirror_mode": {
    "name": "ipython",
    "version": 3
   },
   "file_extension": ".py",
   "mimetype": "text/x-python",
   "name": "python",
   "nbconvert_exporter": "python",
   "pygments_lexer": "ipython3",
   "version": "3.9.16"
  }
 },
 "nbformat": 4,
 "nbformat_minor": 5
}
