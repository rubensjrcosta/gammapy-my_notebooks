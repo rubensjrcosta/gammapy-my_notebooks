{
 "cells": [
  {
   "cell_type": "code",
   "execution_count": null,
   "id": "5ce110db",
   "metadata": {},
   "outputs": [],
   "source": [
    "# !pip install dataframe-image"
   ]
  },
  {
   "cell_type": "code",
   "execution_count": null,
   "id": "fa05df50",
   "metadata": {},
   "outputs": [],
   "source": [
    "# !pip install tabulate"
   ]
  },
  {
   "cell_type": "code",
   "execution_count": null,
   "id": "7612898a",
   "metadata": {},
   "outputs": [],
   "source": [
    "# # to install the latest commit (from GitHub)\n",
    "# !pip install git+https://github.com/garrettj403/SciencePlots"
   ]
  },
  {
   "cell_type": "markdown",
   "id": "b43d98b9",
   "metadata": {},
   "source": [
    "Carrega os catalogos do gammapy\n",
    "\n",
    "Verifica a existencia da fonte em cada um dos catalgos\n",
    "\n",
    "Guarda a tabela dos pontos de fluxos"
   ]
  },
  {
   "cell_type": "code",
   "execution_count": 1,
   "id": "c6e3efbf",
   "metadata": {},
   "outputs": [],
   "source": [
    "%matplotlib inline\n",
    "import matplotlib.pyplot as plt"
   ]
  },
  {
   "cell_type": "code",
   "execution_count": 2,
   "id": "65560660",
   "metadata": {},
   "outputs": [],
   "source": [
    "import scienceplots"
   ]
  },
  {
   "cell_type": "code",
   "execution_count": 3,
   "id": "27b35d1f",
   "metadata": {},
   "outputs": [],
   "source": [
    "# Making plots actually look nice\n",
    "plt.style.use(['science', 'notebook', 'grid'])"
   ]
  },
  {
   "cell_type": "code",
   "execution_count": 4,
   "id": "8667dee8",
   "metadata": {},
   "outputs": [],
   "source": [
    "# plt.style.available"
   ]
  },
  {
   "cell_type": "code",
   "execution_count": 5,
   "id": "3ac8a12e",
   "metadata": {},
   "outputs": [],
   "source": [
    "from gammapy.datasets import FluxPointsDataset, Datasets\n",
    "from gammapy.catalog import CATALOG_REGISTRY"
   ]
  },
  {
   "cell_type": "code",
   "execution_count": 6,
   "id": "eff6f5ad",
   "metadata": {},
   "outputs": [],
   "source": [
    "import os\n",
    "import sys\n",
    "import importlib\n",
    "\n",
    "modules_path = '/home/gamma/Documents/GitHub/gammapy/gammapy-notebooks/0.20.1/simulations/LHAASO/modules'\n",
    "\n",
    "module_path = os.path.abspath(f'{modules_path}/spectral_models')\n",
    "if module_path not in sys.path:\n",
    "    sys.path.append(module_path)\n",
    "# print(module_path)\n",
    "import spectral_models\n",
    "importlib.reload(spectral_models)\n",
    "from spectral_models import pwl_model, get_source_data\n",
    "\n",
    "module_path = os.path.abspath(f'{modules_path}/utilities')\n",
    "if module_path not in sys.path:\n",
    "    sys.path.append(module_path)\n",
    "# print(module_path)\n",
    "import utilities\n",
    "importlib.reload(utilities)\n",
    "from utilities import mkdir_sub_directory"
   ]
  },
  {
   "cell_type": "code",
   "execution_count": null,
   "id": "5c00ecbc",
   "metadata": {},
   "outputs": [],
   "source": []
  },
  {
   "cell_type": "code",
   "execution_count": 7,
   "id": "a1236f88",
   "metadata": {},
   "outputs": [],
   "source": [
    "from astropy import units as u\n",
    "\n",
    "from gammapy.modeling import Fit\n",
    "from gammapy.modeling.models import (\n",
    "    Models,\n",
    "    SuperExpCutoffPowerLaw4FGLDR3SpectralModel,\n",
    "    ExpCutoffPowerLawSpectralModel,\n",
    "    LogParabolaSpectralModel,\n",
    "    PowerLawSpectralModel,\n",
    "    SkyModel,\n",
    ")"
   ]
  },
  {
   "cell_type": "code",
   "execution_count": null,
   "id": "0e28f3bd",
   "metadata": {
    "scrolled": true
   },
   "outputs": [],
   "source": []
  },
  {
   "cell_type": "code",
   "execution_count": 8,
   "id": "8c2dc95a",
   "metadata": {},
   "outputs": [],
   "source": [
    "def source_identification(src_index = None):\n",
    "    '''\n",
    "    To write Docstring!!!!\n",
    "    '''\n",
    "    try: \n",
    "        \n",
    "        global LHAASO_name, LHAASO_txt \n",
    "        \n",
    "        LHAASO_name = df_fp[\"LHAASO_name\"][src_index]\n",
    "        LHAASO_txt = df_fp[\"LHAASO_txt\"][src_index]\n",
    "        \n",
    "        global src_name, src_txt\n",
    "        \n",
    "        src_name = df_fp[\"source_name\"][src_index]\n",
    "        src_txt = df_fp[\"source_txt\"][src_index] \n",
    "    \n",
    "    except:\n",
    "        print(\"Oops!  That was no valid index.  Try again...\")"
   ]
  },
  {
   "cell_type": "code",
   "execution_count": null,
   "id": "1bb3921b",
   "metadata": {},
   "outputs": [],
   "source": []
  },
  {
   "cell_type": "code",
   "execution_count": 9,
   "id": "c8f069b3",
   "metadata": {},
   "outputs": [],
   "source": [
    "# import pandas library as pd\n",
    "\n",
    "import pandas as pd \n",
    "from gammapy.datasets import FluxPointsDataset\n",
    "from gammapy.catalog import CATALOG_REGISTRY\n",
    "import os\n",
    "import sys\n",
    "\n",
    "format_csv = \".csv\"\n",
    "format_fits = \".fits\"\n",
    "\n",
    "sed_type=\"e2dnde\"\n",
    "# sed_type=\"dnde\"\n",
    "\n",
    "df_columns=[]\n",
    "ds_fp = []\n",
    "source_cat = []\n",
    "  \n",
    "# create an Empty DataFrame object\n",
    "df = pd.DataFrame()\n",
    "\n",
    "\n",
    "def getting_source_data(dict_lhaaso_tevc = None, catalog_tags = None):\n",
    "    '''\n",
    "    To write Docstring!!!!\n",
    "    '''\n",
    "    \n",
    "    LHAASO_range = range(len(dict_lhaaso_tevc.keys()))\n",
    "    for i in LHAASO_range:\n",
    "\n",
    "        LHAASO_name = list(dict_lhaaso_tevc.keys())[i]\n",
    "        LHAASO_txt = LHAASO_name.replace(\" \", \"\")\n",
    "        \n",
    "        source_range = range(len(dict_lhaaso_tevc[LHAASO_name]))\n",
    "        for j in source_range:\n",
    "\n",
    "            cat_src = []\n",
    "\n",
    "            cat_src_fp = []\n",
    "            \n",
    "            src_cat = []\n",
    "\n",
    "            src_ds = []\n",
    "\n",
    "            src_name = dict_lhaaso_tevc[LHAASO_name][j]\n",
    "            src_txt = src_name.replace(\" \", \"\")\n",
    "            \n",
    "            catalog_range = range(len(catalog_tags))\n",
    "            for k in catalog_range: \n",
    "                \n",
    "                catalog_tag = catalog_tags[k]\n",
    "                catalog = CATALOG_REGISTRY.get_cls(catalog_tag)()\n",
    "                \n",
    "                try:\n",
    "                    \n",
    "                    src = catalog[src_name]\n",
    "                    \n",
    "                    cat_src.append(catalog_tag)\n",
    "                    \n",
    "                    ds_name = f\"{src_name}: {catalog_tag}\"\n",
    "                    ds = FluxPointsDataset(\n",
    "                        models = src.sky_model(),\n",
    "                        data=src.flux_points, \n",
    "                        name=  ds_name     \n",
    "                    )\n",
    "                    \n",
    "                    src_cat.append(src)\n",
    "                    src_ds.append(ds)\n",
    "                    cat_src_fp.append(catalog_tag)\n",
    "\n",
    "                    table = ds.data.to_table(\n",
    "                        sed_type = sed_type, \n",
    "                        formatted = True\n",
    "                    )\n",
    "                    \n",
    "                    # Setting the units\n",
    "\n",
    "                    \n",
    "                    # Writes the flux points table in the fits format\n",
    "                    file_name = f'{LHAASO_txt}_{src_txt}_{catalog_tag}{format_fits}'\n",
    "                    path_os = os.path.abspath(\n",
    "                        os.path.join(\n",
    "                            f\"{path_flux_points_tables}/{file_name}\"\n",
    "                        )\n",
    "                    )      \n",
    "                    \n",
    "                    if path_os not in sys.path:\n",
    "                        sys.path.append(path_os)\n",
    "\n",
    "                    table.write(\n",
    "                        f\"{path_os}\",\n",
    "                        format = 'fits', \n",
    "                        overwrite = True\n",
    "                    )\n",
    "                    \n",
    "                    # Writes the flux points table in the csv format\n",
    "                    file_name = f'{LHAASO_txt}_{src_txt}_{catalog_tag}{format_csv}'\n",
    "                    path_os = os.path.abspath(\n",
    "                        os.path.join(\n",
    "                            f\"{path_flux_points_tables}/{file_name}\"\n",
    "                        )\n",
    "                    )\n",
    "                     \n",
    "                    if path_os not in sys.path:\n",
    "                        sys.path.append(path_os)\n",
    "\n",
    "                    table.write(\n",
    "                        f\"{path_os}\",\n",
    "                        format = 'ascii.ecsv', \n",
    "                        overwrite = True\n",
    "                    )   \n",
    "                    \n",
    "                except:\n",
    "                    pass\n",
    "\n",
    "                df_columns_k = [LHAASO_name, LHAASO_txt, src_name, src_txt, cat_src, cat_src_fp]\n",
    "            df_columns.append(df_columns_k)\n",
    "            ds_fp.append(src_ds)\n",
    "            source_cat.append(src_cat)\n",
    "\n",
    "    df = pd.DataFrame(df_columns, columns = ['LHAASO_name', \"LHAASO_txt\",'source_name', \"source_txt\", 'catalog', 'flux_points']) \n",
    "    df_fp = df[df[\"flux_points\"].str.len() != 0]\n",
    "    df_fp = df_fp.reset_index(drop = True)\n",
    "    df_fp.index.name = 'source_index'\n",
    "    \n",
    "    file_name = \"data_frame_flux_points.csv\"\n",
    "    path_file = f\"{os.getcwd()}/{file_name}\"\n",
    "    df_fp.to_csv(path_file, index = \"True\" )\n",
    "    \n",
    "    df_no_fp = df[df[\"flux_points\"].str.len() == 0]\n",
    "    df_no_fp = df_no_fp.reset_index(drop = True)\n",
    "    df_no_fp.index.name = 'source_index'\n",
    "    \n",
    "    file_name = \"data_frame_no_flux_points.csv\"\n",
    "    path_file = f\"{os.getcwd()}/{file_name}\"\n",
    "    df_no_fp.to_csv(path_file, index = \"True\")\n",
    "    print(f\"Sources without flux points table: {list(df_no_fp['source_name'])}\")\n",
    "    \n",
    "    source_cat[:] = list(filter(None, source_cat))\n",
    "    ds_fp[:] = list(filter(None, ds_fp))\n",
    "    \n",
    "    return df_fp, ds_fp, source_cat"
   ]
  },
  {
   "cell_type": "code",
   "execution_count": 10,
   "id": "b78b6de0",
   "metadata": {},
   "outputs": [],
   "source": [
    "# from pandas import read_csv\n",
    "\n",
    "# myData = read_csv(f\"{os.getcwd()}/data_frame_flux_points.csv\", index_col = None)\n",
    "# myData"
   ]
  },
  {
   "cell_type": "code",
   "execution_count": 11,
   "id": "59ede0e1",
   "metadata": {},
   "outputs": [
    {
     "name": "stdout",
     "output_type": "stream",
     "text": [
      "/home/gamma/Documents/GitHub/gammapy/gammapy-notebooks/0.20.1/simulations/LHAASO/data_access_and_selection(DL3)\n"
     ]
    }
   ],
   "source": [
    "#to get the current working directory\n",
    "directory = os.getcwd()\n",
    "\n",
    "print(directory)"
   ]
  },
  {
   "cell_type": "code",
   "execution_count": 12,
   "id": "23bdf1f0",
   "metadata": {},
   "outputs": [],
   "source": [
    "import os"
   ]
  },
  {
   "cell_type": "code",
   "execution_count": 13,
   "id": "2bf6ef6c",
   "metadata": {},
   "outputs": [],
   "source": [
    "path_DL3 = os.getcwd()\n",
    "os.chdir('../')\n",
    "path_LHAASO = os.getcwd()\n",
    "os.chdir(path_DL3)\n",
    "\n",
    "file_name = \"paths.dat\"\n",
    "path_file = f\"{path_LHAASO}/{file_name}\"\n",
    "    \n",
    "with open(path_file, \"w\") as my_file: \n",
    "    my_file.write(f\"{path_LHAASO} \\n\")\n",
    "    my_file.write(f\"{path_file} \\n\")\n",
    "    my_file.write(f\"{path_DL3} \\n\")"
   ]
  },
  {
   "cell_type": "code",
   "execution_count": 14,
   "id": "df00eff8",
   "metadata": {},
   "outputs": [
    {
     "data": {
      "text/plain": [
       "'/home/gamma/Documents/GitHub/gammapy/gammapy-notebooks/0.20.1/simulations/LHAASO/paths.dat'"
      ]
     },
     "execution_count": 14,
     "metadata": {},
     "output_type": "execute_result"
    }
   ],
   "source": [
    "path_file"
   ]
  },
  {
   "cell_type": "code",
   "execution_count": null,
   "id": "771cd60b",
   "metadata": {},
   "outputs": [],
   "source": []
  },
  {
   "cell_type": "code",
   "execution_count": 15,
   "id": "1612cc35",
   "metadata": {
    "scrolled": false
   },
   "outputs": [
    {
     "data": {
      "text/plain": [
       "'/home/gamma/Documents/GitHub/gammapy/gammapy-notebooks/0.20.1/simulations/LHAASO/data_access_and_selection(DL3)/data_frame_no_flux_points.csv'"
      ]
     },
     "execution_count": 15,
     "metadata": {},
     "output_type": "execute_result"
    }
   ],
   "source": [
    "f\"{os.getcwd()}/data_frame_no_flux_points.csv\""
   ]
  },
  {
   "cell_type": "code",
   "execution_count": null,
   "id": "0794ae31",
   "metadata": {},
   "outputs": [],
   "source": []
  },
  {
   "cell_type": "markdown",
   "id": "76bae2df",
   "metadata": {},
   "source": [
    "## Data Access and Selection (DL3)"
   ]
  },
  {
   "cell_type": "code",
   "execution_count": null,
   "id": "a61c6bcf",
   "metadata": {},
   "outputs": [],
   "source": []
  },
  {
   "cell_type": "markdown",
   "id": "e7e7cf8c",
   "metadata": {},
   "source": [
    "#### Catalogs\n",
    "Loading the catalogs and sources to be studied"
   ]
  },
  {
   "cell_type": "code",
   "execution_count": 16,
   "id": "775064cb",
   "metadata": {},
   "outputs": [
    {
     "name": "stdout",
     "output_type": "stream",
     "text": [
      "Registry\n",
      "--------\n",
      "\n",
      "SourceCatalogGammaCat: gamma-cat \n",
      "SourceCatalogHGPS    : hgps \n",
      "SourceCatalog2HWC    : 2hwc \n",
      "SourceCatalog3FGL    : 3fgl \n",
      "SourceCatalog4FGL    : 4fgl \n",
      "SourceCatalog2FHL    : 2fhl \n",
      "SourceCatalog3FHL    : 3fhl \n",
      "SourceCatalog3HWC    : 3hwc \n",
      "\n"
     ]
    }
   ],
   "source": [
    "print(CATALOG_REGISTRY)"
   ]
  },
  {
   "cell_type": "code",
   "execution_count": 17,
   "id": "f2534bfd",
   "metadata": {},
   "outputs": [],
   "source": [
    "catalog_tags = [\"gamma-cat\", \"hgps\", \"2hwc\", \"3fgl\", \"4fgl\", \"2fhl\", \"3fhl\", \"3hwc\"] "
   ]
  },
  {
   "cell_type": "code",
   "execution_count": 18,
   "id": "afa84cd7",
   "metadata": {},
   "outputs": [],
   "source": [
    "catalogs_cls = []"
   ]
  },
  {
   "cell_type": "code",
   "execution_count": 19,
   "id": "c284a206",
   "metadata": {},
   "outputs": [],
   "source": [
    "# Loading the source catalogs\n",
    "catalog_gammacat = CATALOG_REGISTRY.get_cls(\"gamma-cat\")()\n",
    "catalogs_cls.append(catalog_gammacat)\n",
    "\n",
    "catalog_hgps = CATALOG_REGISTRY.get_cls(\"hgps\")()\n",
    "catalogs_cls.append(catalog_hgps)\n",
    "\n",
    "catalog_2hwc = CATALOG_REGISTRY.get_cls(\"2hwc\")()\n",
    "catalogs_cls.append(catalog_2hwc)\n",
    "\n",
    "catalog_3fgl = CATALOG_REGISTRY.get_cls(\"3fgl\")()\n",
    "catalogs_cls.append(catalog_3fgl)\n",
    "\n",
    "catalog_4fgl = CATALOG_REGISTRY.get_cls(\"4fgl\")()\n",
    "catalogs_cls.append(catalog_4fgl)\n",
    "\n",
    "catalog_2fhl = CATALOG_REGISTRY.get_cls(\"2fhl\")()\n",
    "catalogs_cls.append(catalog_2fhl)\n",
    "\n",
    "catalog_3fhl = CATALOG_REGISTRY.get_cls(\"3fhl\")()\n",
    "catalogs_cls.append(catalog_3fhl)\n",
    "\n",
    "catalog_3hwc = CATALOG_REGISTRY.get_cls(\"3hwc\")()\n",
    "catalogs_cls.append(catalog_3hwc)"
   ]
  },
  {
   "cell_type": "code",
   "execution_count": 20,
   "id": "4a6b0710",
   "metadata": {},
   "outputs": [
    {
     "name": "stdout",
     "output_type": "stream",
     "text": [
      "gamma-cat: An open catalog of gamma-ray sources\n",
      "hgps: H.E.S.S. Galactic plane survey (HGPS) source catalog\n",
      "2hwc: 2HWC catalog from the HAWC observatory\n",
      "3fgl: LAT 4-year point source catalog\n",
      "4fgl: LAT 8-year point source catalog\n",
      "2fhl: LAT second high-energy source catalog\n",
      "3fhl: LAT third high-energy source catalog\n",
      "3hwc: 3HWC catalog from the HAWC observatory\n"
     ]
    }
   ],
   "source": [
    "for catalog in catalogs_cls:\n",
    "    print(f\"{catalog.tag}: {catalog.description}\")"
   ]
  },
  {
   "cell_type": "code",
   "execution_count": 21,
   "id": "f41d1454",
   "metadata": {},
   "outputs": [],
   "source": [
    "# Creating a dictionary of the Potential TeV Counterparts (dict values) \n",
    "# of the three most significant (excluding Crab) LHASSO observations (dict keys)\n",
    "# see https://www.nature.com/articles/s41586-021-03498-z\n",
    "dict_lhaaso_tevc = {\n",
    "    \"LHAASO J1825-1326\": [\"HESS J1825-137\", \"HESS J1826-130\", \"2HWC J1825-134\"], \n",
    "    \"LHAASO J1908+0621\": [\"MGRO J1908+06\" , \"HESS J1908+063\", \"ARGO J1907+0627\", \"VER J1907+062\", \"2HWC J1908+063\"], \n",
    "    \"LHAASO J2226+6057\": [\"VER J2227+608\"  , \"Boomerang\"]\n",
    "}"
   ]
  },
  {
   "cell_type": "code",
   "execution_count": 22,
   "id": "45eea7dc",
   "metadata": {
    "scrolled": true
   },
   "outputs": [
    {
     "name": "stdout",
     "output_type": "stream",
     "text": [
      "Directory 'flux_points_tables' created\n"
     ]
    }
   ],
   "source": [
    "# Creating the directories to save the flux points tables from Gammapy catalogs\n",
    "dir_flux_points_tables = \"flux_points_tables\"\n",
    "\n",
    "path_flux_points_tables = mkdir_sub_directory(\n",
    "    dir_flux_points_tables\n",
    ")"
   ]
  },
  {
   "cell_type": "code",
   "execution_count": 23,
   "id": "2a04ce97",
   "metadata": {},
   "outputs": [
    {
     "name": "stdout",
     "output_type": "stream",
     "text": [
      "Sources without flux points table: ['2HWC J1825-134', '2HWC J1908+063', 'VER J2227+608']\n"
     ]
    }
   ],
   "source": [
    "# Getting the data of the sources from the catalogs of the Gammapy package\n",
    "df_fp, ds_fp, source_cat = getting_source_data(dict_lhaaso_tevc, catalog_tags)"
   ]
  },
  {
   "cell_type": "code",
   "execution_count": 24,
   "id": "fd93b6b6",
   "metadata": {
    "scrolled": false
   },
   "outputs": [
    {
     "data": {
      "text/html": [
       "<div>\n",
       "<style scoped>\n",
       "    .dataframe tbody tr th:only-of-type {\n",
       "        vertical-align: middle;\n",
       "    }\n",
       "\n",
       "    .dataframe tbody tr th {\n",
       "        vertical-align: top;\n",
       "    }\n",
       "\n",
       "    .dataframe thead th {\n",
       "        text-align: right;\n",
       "    }\n",
       "</style>\n",
       "<table border=\"1\" class=\"dataframe\">\n",
       "  <thead>\n",
       "    <tr style=\"text-align: right;\">\n",
       "      <th></th>\n",
       "      <th>LHAASO_name</th>\n",
       "      <th>LHAASO_txt</th>\n",
       "      <th>source_name</th>\n",
       "      <th>source_txt</th>\n",
       "      <th>catalog</th>\n",
       "      <th>flux_points</th>\n",
       "    </tr>\n",
       "    <tr>\n",
       "      <th>source_index</th>\n",
       "      <th></th>\n",
       "      <th></th>\n",
       "      <th></th>\n",
       "      <th></th>\n",
       "      <th></th>\n",
       "      <th></th>\n",
       "    </tr>\n",
       "  </thead>\n",
       "  <tbody>\n",
       "    <tr>\n",
       "      <th>0</th>\n",
       "      <td>LHAASO J1825-1326</td>\n",
       "      <td>LHAASOJ1825-1326</td>\n",
       "      <td>HESS J1825-137</td>\n",
       "      <td>HESSJ1825-137</td>\n",
       "      <td>[gamma-cat, hgps, 3fgl, 4fgl, 2fhl, 3fhl]</td>\n",
       "      <td>[gamma-cat, hgps, 3fgl, 4fgl, 2fhl, 3fhl]</td>\n",
       "    </tr>\n",
       "    <tr>\n",
       "      <th>1</th>\n",
       "      <td>LHAASO J1825-1326</td>\n",
       "      <td>LHAASOJ1825-1326</td>\n",
       "      <td>HESS J1826-130</td>\n",
       "      <td>HESSJ1826-130</td>\n",
       "      <td>[gamma-cat, hgps, 4fgl, 3fhl]</td>\n",
       "      <td>[gamma-cat, hgps, 4fgl, 3fhl]</td>\n",
       "    </tr>\n",
       "    <tr>\n",
       "      <th>2</th>\n",
       "      <td>LHAASO J1908+0621</td>\n",
       "      <td>LHAASOJ1908+0621</td>\n",
       "      <td>MGRO J1908+06</td>\n",
       "      <td>MGROJ1908+06</td>\n",
       "      <td>[gamma-cat, 3fgl, 4fgl]</td>\n",
       "      <td>[gamma-cat, 3fgl, 4fgl]</td>\n",
       "    </tr>\n",
       "    <tr>\n",
       "      <th>3</th>\n",
       "      <td>LHAASO J1908+0621</td>\n",
       "      <td>LHAASOJ1908+0621</td>\n",
       "      <td>HESS J1908+063</td>\n",
       "      <td>HESSJ1908+063</td>\n",
       "      <td>[gamma-cat, hgps]</td>\n",
       "      <td>[gamma-cat, hgps]</td>\n",
       "    </tr>\n",
       "    <tr>\n",
       "      <th>4</th>\n",
       "      <td>LHAASO J1908+0621</td>\n",
       "      <td>LHAASOJ1908+0621</td>\n",
       "      <td>ARGO J1907+0627</td>\n",
       "      <td>ARGOJ1907+0627</td>\n",
       "      <td>[gamma-cat]</td>\n",
       "      <td>[gamma-cat]</td>\n",
       "    </tr>\n",
       "    <tr>\n",
       "      <th>5</th>\n",
       "      <td>LHAASO J1908+0621</td>\n",
       "      <td>LHAASOJ1908+0621</td>\n",
       "      <td>VER J1907+062</td>\n",
       "      <td>VERJ1907+062</td>\n",
       "      <td>[gamma-cat]</td>\n",
       "      <td>[gamma-cat]</td>\n",
       "    </tr>\n",
       "    <tr>\n",
       "      <th>6</th>\n",
       "      <td>LHAASO J2226+6057</td>\n",
       "      <td>LHAASOJ2226+6057</td>\n",
       "      <td>Boomerang</td>\n",
       "      <td>Boomerang</td>\n",
       "      <td>[3fgl, 4fgl]</td>\n",
       "      <td>[3fgl, 4fgl]</td>\n",
       "    </tr>\n",
       "  </tbody>\n",
       "</table>\n",
       "</div>"
      ],
      "text/plain": [
       "                    LHAASO_name        LHAASO_txt      source_name  \\\n",
       "source_index                                                         \n",
       "0             LHAASO J1825-1326  LHAASOJ1825-1326   HESS J1825-137   \n",
       "1             LHAASO J1825-1326  LHAASOJ1825-1326   HESS J1826-130   \n",
       "2             LHAASO J1908+0621  LHAASOJ1908+0621    MGRO J1908+06   \n",
       "3             LHAASO J1908+0621  LHAASOJ1908+0621   HESS J1908+063   \n",
       "4             LHAASO J1908+0621  LHAASOJ1908+0621  ARGO J1907+0627   \n",
       "5             LHAASO J1908+0621  LHAASOJ1908+0621    VER J1907+062   \n",
       "6             LHAASO J2226+6057  LHAASOJ2226+6057        Boomerang   \n",
       "\n",
       "                  source_txt                                    catalog  \\\n",
       "source_index                                                              \n",
       "0              HESSJ1825-137  [gamma-cat, hgps, 3fgl, 4fgl, 2fhl, 3fhl]   \n",
       "1              HESSJ1826-130              [gamma-cat, hgps, 4fgl, 3fhl]   \n",
       "2               MGROJ1908+06                    [gamma-cat, 3fgl, 4fgl]   \n",
       "3              HESSJ1908+063                          [gamma-cat, hgps]   \n",
       "4             ARGOJ1907+0627                                [gamma-cat]   \n",
       "5               VERJ1907+062                                [gamma-cat]   \n",
       "6                  Boomerang                               [3fgl, 4fgl]   \n",
       "\n",
       "                                            flux_points  \n",
       "source_index                                             \n",
       "0             [gamma-cat, hgps, 3fgl, 4fgl, 2fhl, 3fhl]  \n",
       "1                         [gamma-cat, hgps, 4fgl, 3fhl]  \n",
       "2                               [gamma-cat, 3fgl, 4fgl]  \n",
       "3                                     [gamma-cat, hgps]  \n",
       "4                                           [gamma-cat]  \n",
       "5                                           [gamma-cat]  \n",
       "6                                          [3fgl, 4fgl]  "
      ]
     },
     "execution_count": 24,
     "metadata": {},
     "output_type": "execute_result"
    }
   ],
   "source": [
    "df_fp"
   ]
  },
  {
   "cell_type": "code",
   "execution_count": null,
   "id": "25c60bff",
   "metadata": {},
   "outputs": [],
   "source": []
  },
  {
   "cell_type": "code",
   "execution_count": 25,
   "id": "3fafcbf5",
   "metadata": {},
   "outputs": [
    {
     "name": "stdout",
     "output_type": "stream",
     "text": [
      "Directory 'SED_from_catalogs' created\n"
     ]
    }
   ],
   "source": [
    "dir_plot_spectrum = \"SED_from_catalogs\"\n",
    "\n",
    "path_plot_spectrum = mkdir_sub_directory(\n",
    "    dir_plot_spectrum\n",
    ")"
   ]
  },
  {
   "cell_type": "code",
   "execution_count": null,
   "id": "da9d249d",
   "metadata": {},
   "outputs": [],
   "source": []
  },
  {
   "cell_type": "code",
   "execution_count": 26,
   "id": "97d7423f",
   "metadata": {},
   "outputs": [],
   "source": [
    "def plot_SED():\n",
    "    plt.style.use(['science', 'notebook', 'grid'])\n",
    "\n",
    "    plt.figure(figsize=(8,6))\n",
    "\n",
    "    ax = spectral_model.plot(energy_bounds, sed_type=\"e2dnde\")\n",
    "    ax = spectral_model.plot_error(energy_bounds, sed_type=\"e2dnde\")\n",
    "    flux_points.plot(\n",
    "        ax=ax,\n",
    "        color=colors_tag, \n",
    "        sed_type=\"e2dnde\"\n",
    "    )\n",
    "    ax.text(0.02, .94, LHAASO_name, transform=ax.transAxes, bbox=dict(facecolor='white', edgecolor='black'), size=13)\n",
    "\n",
    "    ax.set_ylim(ylim)\n",
    "    ax.set_xlim(energy_bounds)\n",
    "\n",
    "    # plt.title(f\"{LHAASO_name}: {src_name}\")\n",
    "    plt.legend([spectral_model_tag, \"Error\", f\"{src_name} - {catalog_tag}\"], facecolor='white', edgecolor='black',  loc='upper right', prop={'size': 8})\n",
    "    plt.xlabel(\"Energy (TeV)\")   \n",
    "    plt.ylabel(r\"$E^{2}$dN/dE (erg $cm^{-2}$ $s^{-1}$)\")\n",
    "    plt.savefig(file_path, bbox_inches='tight')\n",
    "    \n",
    "    plt.show()"
   ]
  },
  {
   "cell_type": "code",
   "execution_count": 27,
   "id": "8291cc06",
   "metadata": {},
   "outputs": [],
   "source": [
    "colors_tags = [\"b\", \"g\", \"r\", \"c\", \"m\", \"y\", \"k\", \"m\"]"
   ]
  },
  {
   "cell_type": "code",
   "execution_count": 35,
   "id": "30a5539a",
   "metadata": {},
   "outputs": [
    {
     "data": {
      "image/png": "[encoded data removed]",
      "text/plain": [
       "<Figure size 800x600 with 1 Axes>"
      ]
     },
     "metadata": {},
     "output_type": "display_data"
    },
    {
     "name": "stdout",
     "output_type": "stream",
     "text": [
      "LHAASOJ2226+6057_Boomerang_3fgl_ExpCutoffPowerLaw3FGLSpectralModel:\n",
      "  type      name     value         unit      ... max frozen is_norm link\n",
      "-------- --------- ---------- -------------- ... --- ------ ------- ----\n",
      "spectral     index 1.8062e+00                ... nan  False   False     \n",
      "spectral amplitude 8.8700e-11 cm-2 MeV-1 s-1 ... nan  False    True     \n",
      "spectral reference 6.5553e+02            MeV ... nan   True   False     \n",
      "spectral      ecut 4.4979e+03            MeV ... nan  False   False     \n"
     ]
    },
    {
     "data": {
      "image/png": "[encoded data removed]",
      "text/plain": [
       "<Figure size 800x600 with 1 Axes>"
      ]
     },
     "metadata": {},
     "output_type": "display_data"
    },
    {
     "name": "stdout",
     "output_type": "stream",
     "text": [
      "LHAASOJ2226+6057_Boomerang_4fgl_SuperExpCutoffPowerLaw4FGLDR3SpectralModel:\n",
      "  type      name     value         unit      ... max frozen is_norm link\n",
      "-------- --------- ---------- -------------- ... --- ------ ------- ----\n",
      "spectral amplitude 1.3376e-11 cm-2 MeV-1 s-1 ... nan  False    True     \n",
      "spectral reference 1.6719e+03            MeV ... nan   True   False     \n",
      "spectral expfactor 4.3581e-01                ... nan  False   False     \n",
      "spectral   index_1 2.3069e+00                ... nan  False   False     \n",
      "spectral   index_2 3.0797e-01                ... nan  False   False     \n"
     ]
    }
   ],
   "source": [
    "# to select a source object index: [0-6]\n",
    "src_index = 6\n",
    "colors_tag = colors_tags[src_index]\n",
    "source_identification(src_index)\n",
    "# LHAASO_name, src_name\n",
    "\n",
    "# List of catalogs with flux points table of the source\n",
    "# print(df_fp['catalog'][src_index])\n",
    "\n",
    "k_range = range(len(ds_fp[src_index]))\n",
    "for k in k_range: \n",
    "            \n",
    "    # to select a catalog:\n",
    "    cat_index = k\n",
    "    catalog_tag = df_fp[\"catalog\"][src_index][cat_index]\n",
    "    catalog = CATALOG_REGISTRY.get_cls(catalog_tag)()\n",
    "    # print(catalog)\n",
    "\n",
    "    source  = catalog[src_name]\n",
    "    # source.data\n",
    "\n",
    "    flux_points = source.flux_points\n",
    "\n",
    "\n",
    "    # Gammapy sky model object:\n",
    "    sky_model = source.sky_model()\n",
    "\n",
    "    # Gammapy spatial model object:\n",
    "    spatial_model = source.spatial_model\n",
    "\n",
    "    # Gammapy spectral model object:\n",
    "    spectral_model = source.spectral_model()\n",
    "    spectral_model_tag = spectral_model.tag[0]\n",
    "    spectral_model_tag_short = spectral_model.tag[0]\n",
    "\n",
    "    energy_bounds = [1e-5, 1e2] * u.TeV\n",
    "    ylim = [1e-16, 1e-6]\n",
    "\n",
    "    file_name = f'{LHAASO_txt}_{src_txt}_{catalog_tag}_{spectral_model_tag_short}.png'\n",
    "    file_path = path_plot_spectrum / file_name \n",
    "    \n",
    "    plot_SED()\n",
    "    \n",
    "    print(f'{LHAASO_txt}_{src_txt}_{catalog_tag}_{spectral_model_tag_short}:')\n",
    "    print(spectral_model.parameters.to_table())\n",
    "    "
   ]
  },
  {
   "cell_type": "code",
   "execution_count": null,
   "id": "9b2694fa",
   "metadata": {},
   "outputs": [],
   "source": []
  },
  {
   "cell_type": "code",
   "execution_count": 36,
   "id": "9e997c61",
   "metadata": {},
   "outputs": [
    {
     "name": "stdout",
     "output_type": "stream",
     "text": [
      "Directory 'flux_points_figures' created\n"
     ]
    }
   ],
   "source": [
    "# Creating the directories to save the flux points figures\n",
    "# dir_analysis = \"analysis\"\n",
    "dir_flux_points_figures = \"flux_points_figures\"\n",
    "\n",
    "path_flux_points_figures_analysis = mkdir_sub_directory(\n",
    "#     dir_analysis, \n",
    "    dir_flux_points_figures\n",
    ")"
   ]
  },
  {
   "cell_type": "code",
   "execution_count": 37,
   "id": "ea4ded40",
   "metadata": {},
   "outputs": [],
   "source": [
    "def plotting_SED_flux_pointing(datasets = None, spectral_model = None, sed_type = \"e2dnde\", yaxis_units=\"TeV cm-2 s-1\", energy_bounds= [1e-5, 1e2] * u.TeV, ylim = [1e-13, 1e-9]):\n",
    "    '''Returns a spectral energy distribution\n",
    "    \n",
    "    >>> plotting_SED_flux_pointing(spec_model, yaxis_units, sed_type, reference)\n",
    "    '''\n",
    "    \n",
    "    ax = plt.subplot()\n",
    "    ax.yaxis.set_units(u.Unit(yaxis_units))\n",
    "    ax.xaxis.set_units(u.Unit(\"TeV\"))\n",
    "\n",
    "    #label = f\"{sky_model}\"\n",
    "    \n",
    "    kwargs = {\n",
    "        \"ax\": ax, \n",
    "        \"sed_type\": sed_type\n",
    "    }    \n",
    "    \n",
    "    \n",
    "#     plot_kwargs = {\n",
    "#     \"energy_bounds\": [0.1, 30] * u.TeV,\n",
    "#     \"sed_type\": \"e2dnde\",\n",
    "#     \"yunits\": u.Unit(\"erg cm-2 s-1\"),\n",
    "#     \"ax\": ax,\n",
    "# }\n",
    "    \n",
    "    for d in datasets:\n",
    "        d.data.plot(label=d.name, **kwargs)\n",
    "\n",
    "    try:   \n",
    "\n",
    "        kwargs_fit = {\"label\":sky_model.name}\n",
    "        spectral_model.plot(energy_bounds=energy_bounds, color=\"k\", **kwargs, **kwargs_fit)\n",
    "        spectral_model.plot_error(energy_bounds=energy_bounds, **kwargs)\n",
    "        \n",
    "        if combined_ds == False:\n",
    "            file = path_flux_points_figures_analysis / f'{LHAASO_txt}_{src_txt}_{sky_model.name}.png'\n",
    "        else:\n",
    "            file = path_flux_points_figures_analysis / f'{LHAASO_txt}_{sky_model.name}.png'\n",
    "            \n",
    "    except:\n",
    "        \n",
    "        if combined_ds == False:\n",
    "            \n",
    "            file = path_flux_points_figures_analysis / f'{LHAASO_txt}_{src_txt}.png'\n",
    "        else:\n",
    "            file = path_flux_points_figures_analysis / f'{LHAASO_txt}.png'\n",
    "    \n",
    "    ax.set_ylim(ylim)\n",
    "    ax.set_xlim(energy_bounds)\n",
    "    ax.legend(facecolor='white', edgecolor='black',  loc='upper right', prop={'size': 8})\n",
    "    \n",
    "    ax.text(0.02, .94, LHAASO_name, transform=ax.transAxes, bbox=dict(facecolor='white', edgecolor='black'), size=15)\n",
    "\n",
    "        \n",
    "#     plt.title(f\"{LHAASO_name}: {src_name}\")\n",
    "    \n",
    "    plt.xlabel(\"Energy (TeV)\")   \n",
    "    plt.ylabel(r\"$E^{2}$dN/dE (erg $cm^{-2}$ $s^{-1}$)\")\n",
    "    \n",
    "    plt.savefig(file, bbox_inches='tight')\n",
    "    plt.show()\n",
    "    \n",
    "    return "
   ]
  },
  {
   "cell_type": "code",
   "execution_count": 46,
   "id": "ce8a6836",
   "metadata": {},
   "outputs": [
    {
     "data": {
      "image/png": "[encoded data removed]",
      "text/plain": [
       "<Figure size 800x600 with 1 Axes>"
      ]
     },
     "metadata": {},
     "output_type": "display_data"
    }
   ],
   "source": [
    "import scienceplots\n",
    "plt.style.use(['science', 'notebook', 'grid'])\n",
    "\n",
    "# to select a source object index: [0-6]\n",
    "src_index = 6\n",
    "\n",
    "source_identification(src_index)\n",
    "\n",
    "ds_src = ds_fp[src_index]\n",
    "\n",
    "datasets = Datasets(ds_src)\n",
    "\n",
    "# energy_bounds = [1e-5, 1e2] * u.TeV\n",
    "# ylim = [1e-16, 1e-7]\n",
    "\n",
    "combined_ds = False\n",
    "plotting_SED_flux_pointing(\n",
    "    datasets = datasets,\n",
    "    sed_type = sed_type, \n",
    "    yaxis_units=\"erg cm-2 s-1\", \n",
    "    energy_bounds=energy_bounds, \n",
    "    ylim=ylim)"
   ]
  },
  {
   "cell_type": "markdown",
   "id": "286b4a33",
   "metadata": {},
   "source": [
    "## "
   ]
  },
  {
   "cell_type": "code",
   "execution_count": 64,
   "id": "24fc6934",
   "metadata": {},
   "outputs": [
    {
     "data": {
      "text/plain": [
       "'LHAASO J2226+6057'"
      ]
     },
     "execution_count": 64,
     "metadata": {},
     "output_type": "execute_result"
    }
   ],
   "source": [
    "import scienceplots\n",
    "plt.style.use(['science', 'notebook', 'grid'])\n",
    "\n",
    "# to select a source object index: [0-6]\n",
    "src_index = 6\n",
    "\n",
    "source_identification(src_index)\n",
    "\n",
    "LHAASO_name"
   ]
  },
  {
   "cell_type": "code",
   "execution_count": 65,
   "id": "7d65ee76",
   "metadata": {
    "scrolled": true
   },
   "outputs": [],
   "source": [
    "ds_src_combined = list(ds_fp[src_index])"
   ]
  },
  {
   "cell_type": "code",
   "execution_count": 66,
   "id": "b7f66e3b",
   "metadata": {},
   "outputs": [
    {
     "data": {
      "text/plain": [
       "[<gammapy.datasets.flux_points.FluxPointsDataset at 0x7fabaa117580>,\n",
       " <gammapy.datasets.flux_points.FluxPointsDataset at 0x7fabaa124430>]"
      ]
     },
     "execution_count": 66,
     "metadata": {},
     "output_type": "execute_result"
    }
   ],
   "source": [
    "ds_src_combined"
   ]
  },
  {
   "cell_type": "code",
   "execution_count": 60,
   "id": "e839e604",
   "metadata": {},
   "outputs": [],
   "source": [
    "for item in ds_fp[5]:\n",
    "    ds_src_combined.append(item)"
   ]
  },
  {
   "cell_type": "code",
   "execution_count": 61,
   "id": "4bcbd7ac",
   "metadata": {},
   "outputs": [
    {
     "data": {
      "text/plain": [
       "[<gammapy.datasets.flux_points.FluxPointsDataset at 0x7fabaa498ac0>,\n",
       " <gammapy.datasets.flux_points.FluxPointsDataset at 0x7fabaa011310>,\n",
       " <gammapy.datasets.flux_points.FluxPointsDataset at 0x7faba9c80fa0>,\n",
       " <gammapy.datasets.flux_points.FluxPointsDataset at 0x7fabaa00a1c0>,\n",
       " <gammapy.datasets.flux_points.FluxPointsDataset at 0x7fabaa1feb80>,\n",
       " <gammapy.datasets.flux_points.FluxPointsDataset at 0x7faba9c805b0>,\n",
       " <gammapy.datasets.flux_points.FluxPointsDataset at 0x7faba9c7a3d0>]"
      ]
     },
     "execution_count": 61,
     "metadata": {},
     "output_type": "execute_result"
    }
   ],
   "source": [
    "ds_src_combined"
   ]
  },
  {
   "cell_type": "code",
   "execution_count": 67,
   "id": "41205c15",
   "metadata": {},
   "outputs": [],
   "source": [
    "ds_src_combined_3 = list(ds_src_combined)"
   ]
  },
  {
   "cell_type": "code",
   "execution_count": 62,
   "id": "2934952a",
   "metadata": {},
   "outputs": [],
   "source": [
    "ds_src_combined_2 = list(ds_src_combined)"
   ]
  },
  {
   "cell_type": "code",
   "execution_count": 51,
   "id": "6440b0fa",
   "metadata": {
    "scrolled": false
   },
   "outputs": [],
   "source": [
    "ds_src_combined_1 = list(ds_src_combined)"
   ]
  },
  {
   "cell_type": "code",
   "execution_count": 68,
   "id": "6db8de70",
   "metadata": {
    "scrolled": true
   },
   "outputs": [
    {
     "data": {
      "image/png": "[encoded data removed]",
      "text/plain": [
       "<Figure size 800x600 with 1 Axes>"
      ]
     },
     "metadata": {},
     "output_type": "display_data"
    }
   ],
   "source": [
    "datasets_combined = Datasets(ds_src_combined_3)\n",
    "\n",
    "# energy_bounds = [1e-5, 1e2] * u.TeV\n",
    "ylim = [1e-16, 1e-6]\n",
    "\n",
    "combined_ds = True\n",
    "plotting_SED_flux_pointing(\n",
    "    datasets = datasets_combined,\n",
    "    sed_type = sed_type, \n",
    "    yaxis_units=\"erg cm-2 s-1\", \n",
    "    energy_bounds=energy_bounds, \n",
    "    ylim=ylim)"
   ]
  },
  {
   "cell_type": "code",
   "execution_count": null,
   "id": "b6844dae",
   "metadata": {},
   "outputs": [],
   "source": []
  },
  {
   "cell_type": "markdown",
   "id": "3e688eb2",
   "metadata": {},
   "source": [
    "## Data Reduction (DL3toDL4)"
   ]
  },
  {
   "cell_type": "code",
   "execution_count": null,
   "id": "bb1a2344",
   "metadata": {},
   "outputs": [],
   "source": []
  },
  {
   "cell_type": "code",
   "execution_count": 69,
   "id": "e7506c22",
   "metadata": {},
   "outputs": [],
   "source": [
    "import numpy as np\n",
    "# from astropy import units as u\n",
    "from astropy.table import Table\n",
    "from gammapy.estimators import FluxPoints\n",
    "from gammapy.utils.scripts import make_path\n",
    "\n",
    "# format_csv = \".csv\"\n",
    "format_fits = \".fits\"\n",
    "\n",
    "sed_type=\"e2dnde\"\n",
    "# sed_type=\"dnde\"\n",
    "\n",
    "ds_fp_cut = []\n",
    "def flux_points_cut_energy(df_fp = None, ds_fp = None, e_ref_min=None):\n",
    "    '''To write Docstring!!!!'''\n",
    "    \n",
    "    source_range = range(len(df_fp))\n",
    "    for src_index in source_range:\n",
    "        src_ds = []\n",
    "        \n",
    "        source_identification(src_index)\n",
    "        \n",
    "        k_range = range(len(ds_fp[src_index]))\n",
    "        for k in k_range: \n",
    "            \n",
    "            catalog_tag = df_fp[\"catalog\"][src_index][k]\n",
    "\n",
    "            ds_name = f\"{src_name}: {catalog_tag}\"\n",
    "            flux_points = ds_fp[src_index][k].data\n",
    "\n",
    "            mask_energy = np.zeros(len(flux_points.to_table()), dtype=bool)\n",
    "\n",
    "            for m, e_ref in enumerate(flux_points.energy_ref):\n",
    "                if e_ref > e_ref_min:\n",
    "                    mask_energy[m] = True\n",
    "            print(ds_name, src_txt)  \n",
    "            \n",
    "            try:\n",
    "                flux_points_mask = flux_points.to_table()[mask_energy]\n",
    "                flux_points_energy = FluxPoints.from_table(flux_points_mask)\n",
    "\n",
    "                ds = FluxPointsDataset(\n",
    "                                    data=flux_points_energy, \n",
    "                                    name=ds_name\n",
    "                                )\n",
    "\n",
    "                table = ds.data.to_table(\n",
    "                                    sed_type = sed_type, \n",
    "                                    formatted = True\n",
    "                                )\n",
    "                src_ds.append(ds)\n",
    "\n",
    "                file_name = f'{LHAASO_txt}_{src_txt}_{catalog_tag}_e_ref_min_{e_ref_min_name}{format_fits}'\n",
    "                path_os = os.path.abspath(\n",
    "                    os.path.join(\n",
    "                        f\"{path_flux_points_tables_analysis}/{file_name}\"\n",
    "                    )\n",
    "                )\n",
    "\n",
    "                if path_os not in sys.path:\n",
    "                    sys.path.append(path_os)\n",
    "\n",
    "                table.write(f\"{path_os}\",format='fits', overwrite=True)\n",
    "\n",
    "            except:\n",
    "                print(f\"{src_name} out\")    \n",
    "            \n",
    "        ds_fp_cut.append(src_ds)\n",
    "    return ds_fp_cut"
   ]
  },
  {
   "cell_type": "markdown",
   "id": "c1a81616",
   "metadata": {},
   "source": [
    "### Cutting energy"
   ]
  },
  {
   "cell_type": "code",
   "execution_count": 70,
   "id": "a19d89bc",
   "metadata": {},
   "outputs": [],
   "source": [
    "# Defining the minimum value of the reference energy  \n",
    "e_ref_min = 100 * u.Unit(\"GeV\")\n",
    "e_ref_min_name = str(e_ref_min).replace(\" \", \"\")"
   ]
  },
  {
   "cell_type": "code",
   "execution_count": 71,
   "id": "9432ccb2",
   "metadata": {},
   "outputs": [
    {
     "name": "stdout",
     "output_type": "stream",
     "text": [
      "Directory 'analysis/flux_points_table_e_ref_min_100.0GeV' created\n"
     ]
    }
   ],
   "source": [
    "# Creating the directories to save the tables\n",
    "dir_analysis = \"analysis\"\n",
    "dir_flux_points_tables = f\"flux_points_table_e_ref_min_{e_ref_min_name}\"\n",
    "\n",
    "path_catalogs_data, path_flux_points_tables_analysis = mkdir_sub_directory(\n",
    "    dir_analysis, \n",
    "    dir_flux_points_tables\n",
    ")"
   ]
  },
  {
   "cell_type": "code",
   "execution_count": 72,
   "id": "4aa92df4",
   "metadata": {
    "scrolled": true
   },
   "outputs": [
    {
     "name": "stderr",
     "output_type": "stream",
     "text": [
      "No reference model set for FluxMaps. Assuming point source with E^-2 spectrum.\n",
      "No reference model set for FluxMaps. Assuming point source with E^-2 spectrum.\n",
      "No reference model set for FluxMaps. Assuming point source with E^-2 spectrum.\n",
      "No reference model set for FluxMaps. Assuming point source with E^-2 spectrum.\n"
     ]
    },
    {
     "name": "stdout",
     "output_type": "stream",
     "text": [
      "HESS J1825-137: gamma-cat HESSJ1825-137\n",
      "HESS J1825-137: hgps HESSJ1825-137\n",
      "HESS J1825-137: 3fgl HESSJ1825-137\n",
      "HESS J1825-137 out\n",
      "HESS J1825-137: 4fgl HESSJ1825-137\n",
      "HESS J1825-137: 2fhl HESSJ1825-137\n"
     ]
    },
    {
     "name": "stderr",
     "output_type": "stream",
     "text": [
      "No reference model set for FluxMaps. Assuming point source with E^-2 spectrum.\n",
      "No reference model set for FluxMaps. Assuming point source with E^-2 spectrum.\n",
      "No reference model set for FluxMaps. Assuming point source with E^-2 spectrum.\n",
      "No reference model set for FluxMaps. Assuming point source with E^-2 spectrum.\n"
     ]
    },
    {
     "name": "stdout",
     "output_type": "stream",
     "text": [
      "HESS J1825-137: 3fhl HESSJ1825-137\n",
      "HESS J1826-130: gamma-cat HESSJ1826-130\n",
      "HESS J1826-130: hgps HESSJ1826-130\n",
      "HESS J1826-130: 4fgl HESSJ1826-130\n"
     ]
    },
    {
     "name": "stderr",
     "output_type": "stream",
     "text": [
      "No reference model set for FluxMaps. Assuming point source with E^-2 spectrum.\n",
      "No reference model set for FluxMaps. Assuming point source with E^-2 spectrum.\n",
      "No reference model set for FluxMaps. Assuming point source with E^-2 spectrum.\n",
      "No reference model set for FluxMaps. Assuming point source with E^-2 spectrum.\n"
     ]
    },
    {
     "name": "stdout",
     "output_type": "stream",
     "text": [
      "HESS J1826-130: 3fhl HESSJ1826-130\n",
      "MGRO J1908+06: gamma-cat MGROJ1908+06\n",
      "MGRO J1908+06: 3fgl MGROJ1908+06\n",
      "MGRO J1908+06 out\n",
      "MGRO J1908+06: 4fgl MGROJ1908+06\n",
      "HESS J1908+063: gamma-cat HESSJ1908+063\n"
     ]
    },
    {
     "name": "stderr",
     "output_type": "stream",
     "text": [
      "No reference model set for FluxMaps. Assuming point source with E^-2 spectrum.\n",
      "No reference model set for FluxMaps. Assuming point source with E^-2 spectrum.\n",
      "No reference model set for FluxMaps. Assuming point source with E^-2 spectrum.\n",
      "No reference model set for FluxMaps. Assuming point source with E^-2 spectrum.\n"
     ]
    },
    {
     "name": "stdout",
     "output_type": "stream",
     "text": [
      "HESS J1908+063: hgps HESSJ1908+063\n",
      "ARGO J1907+0627: gamma-cat ARGOJ1907+0627\n",
      "VER J1907+062: gamma-cat VERJ1907+062\n",
      "Boomerang: 3fgl Boomerang\n",
      "Boomerang out\n",
      "Boomerang: 4fgl Boomerang\n"
     ]
    }
   ],
   "source": [
    "ds_fp_cut = flux_points_cut_energy(df_fp = df_fp, ds_fp = ds_fp, e_ref_min=e_ref_min)"
   ]
  },
  {
   "cell_type": "code",
   "execution_count": 73,
   "id": "b1a77571",
   "metadata": {},
   "outputs": [
    {
     "name": "stdout",
     "output_type": "stream",
     "text": [
      "Directory 'analysis/flux_points_figures_e_ref_min_100.0GeV' created\n"
     ]
    }
   ],
   "source": [
    "# Creating the directories to save the tables\n",
    "dir_analysis = \"analysis\"\n",
    "dir_flux_points_figures = f\"flux_points_figures_e_ref_min_{e_ref_min_name}\"\n",
    "\n",
    "path_analysis, path_flux_points_figures_analysis = mkdir_sub_directory(\n",
    "    dir_analysis, \n",
    "    dir_flux_points_figures\n",
    ")"
   ]
  },
  {
   "cell_type": "code",
   "execution_count": 146,
   "id": "72b0daac",
   "metadata": {},
   "outputs": [
    {
     "data": {
      "text/plain": [
       "'LHAASO J2226+6057'"
      ]
     },
     "execution_count": 146,
     "metadata": {},
     "output_type": "execute_result"
    }
   ],
   "source": [
    "# to select a source object index: [0-6]\n",
    "src_index = 6\n",
    "\n",
    "source_identification(src_index)\n",
    "\n",
    "LHAASO_name"
   ]
  },
  {
   "cell_type": "code",
   "execution_count": 147,
   "id": "58c300ee",
   "metadata": {},
   "outputs": [],
   "source": [
    "ds_src_combined_cut = list(ds_fp_cut[src_index])"
   ]
  },
  {
   "cell_type": "code",
   "execution_count": 148,
   "id": "e78147c8",
   "metadata": {},
   "outputs": [
    {
     "data": {
      "text/plain": [
       "[<gammapy.datasets.flux_points.FluxPointsDataset at 0x7faba35e2070>]"
      ]
     },
     "execution_count": 148,
     "metadata": {},
     "output_type": "execute_result"
    }
   ],
   "source": [
    "ds_src_combined_cut"
   ]
  },
  {
   "cell_type": "code",
   "execution_count": 142,
   "id": "0773a351",
   "metadata": {},
   "outputs": [],
   "source": [
    "for item in ds_fp_cut[5]:\n",
    "    ds_src_combined_cut.append(item)"
   ]
  },
  {
   "cell_type": "code",
   "execution_count": 143,
   "id": "9d47c8c1",
   "metadata": {},
   "outputs": [
    {
     "data": {
      "text/plain": [
       "[<gammapy.datasets.flux_points.FluxPointsDataset at 0x7faba978d490>,\n",
       " <gammapy.datasets.flux_points.FluxPointsDataset at 0x7faba34fe490>,\n",
       " <gammapy.datasets.flux_points.FluxPointsDataset at 0x7fabaa1059a0>,\n",
       " <gammapy.datasets.flux_points.FluxPointsDataset at 0x7faba9c263d0>,\n",
       " <gammapy.datasets.flux_points.FluxPointsDataset at 0x7faba36836d0>,\n",
       " <gammapy.datasets.flux_points.FluxPointsDataset at 0x7faba37b9a90>]"
      ]
     },
     "execution_count": 143,
     "metadata": {},
     "output_type": "execute_result"
    }
   ],
   "source": [
    "ds_src_combined_cut"
   ]
  },
  {
   "cell_type": "code",
   "execution_count": 149,
   "id": "08adf3b2",
   "metadata": {},
   "outputs": [],
   "source": [
    "ds_src_combined_cut_3 = list(ds_src_combined_cut)"
   ]
  },
  {
   "cell_type": "code",
   "execution_count": 144,
   "id": "64e294dd",
   "metadata": {},
   "outputs": [],
   "source": [
    "ds_src_combined_cut_2 = list(ds_src_combined_cut)"
   ]
  },
  {
   "cell_type": "code",
   "execution_count": 135,
   "id": "36b94d2e",
   "metadata": {},
   "outputs": [],
   "source": [
    "ds_src_combined_cut_1 = list(ds_src_combined_cut)"
   ]
  },
  {
   "cell_type": "code",
   "execution_count": 150,
   "id": "cb464460",
   "metadata": {},
   "outputs": [
    {
     "data": {
      "image/png": "[encoded data removed]",
      "text/plain": [
       "<Figure size 800x600 with 1 Axes>"
      ]
     },
     "metadata": {},
     "output_type": "display_data"
    }
   ],
   "source": [
    "datasets_combined = Datasets(ds_src_combined_cut_3)\n",
    "\n",
    "energy_bounds = [1e-1, 1e2] * u.TeV\n",
    "# ylim = [1e-16, 1e-6]\n",
    "\n",
    "combined_ds = True\n",
    "plotting_SED_flux_pointing(\n",
    "    datasets = datasets_combined,\n",
    "    sed_type = sed_type, \n",
    "    yaxis_units=\"erg cm-2 s-1\", \n",
    "    energy_bounds=energy_bounds, \n",
    "    ylim=ylim)"
   ]
  },
  {
   "cell_type": "code",
   "execution_count": null,
   "id": "a3d3aca8",
   "metadata": {},
   "outputs": [],
   "source": []
  },
  {
   "cell_type": "markdown",
   "id": "cde94ae4",
   "metadata": {},
   "source": [
    "### SED cutting energy"
   ]
  },
  {
   "cell_type": "code",
   "execution_count": 151,
   "id": "1c82863c",
   "metadata": {},
   "outputs": [
    {
     "name": "stdout",
     "output_type": "stream",
     "text": [
      "Directory 'analysis/SED_figures_e_ref_min_100.0GeV' created\n"
     ]
    }
   ],
   "source": [
    "# Creating the directories to save the tables\n",
    "dir_analysis = \"analysis\"\n",
    "dir_flux_points_figures = f\"SED_figures_e_ref_min_{e_ref_min_name}\"\n",
    "\n",
    "path_analysis, path_flux_points_figures_analysis = mkdir_sub_directory(\n",
    "    dir_analysis, \n",
    "    dir_flux_points_figures\n",
    ")"
   ]
  },
  {
   "cell_type": "code",
   "execution_count": 233,
   "id": "1726a487",
   "metadata": {},
   "outputs": [
    {
     "data": {
      "image/png": "[encoded data removed]",
      "text/plain": [
       "<Figure size 800x600 with 1 Axes>"
      ]
     },
     "metadata": {},
     "output_type": "display_data"
    }
   ],
   "source": [
    "# to select a source object index: [0-6]\n",
    "src_index = 6\n",
    "cat_index = 0\n",
    "# src = source_cat[src_index][0]\n",
    "source_identification(src_index)\n",
    "\n",
    "catalog_tag = df_fp[\"catalog\"][src_index][cat_index]\n",
    "\n",
    "ds_src = ds_fp_cut[src_index]\n",
    "# ds_src = ds_src_combined_cut_1\n",
    "\n",
    "spectral_model = source_cat[src_index][cat_index].spectral_model()\n",
    "# spectral_model = PowerLawSpectralModel(\n",
    "#     index=2,\n",
    "#     amplitude=\"1e-10 TeV-1 cm-2 s-1\",\n",
    "#     reference=1 * u.TeV,\n",
    "# )\n",
    "\n",
    "name = f\"{spectral_model.tag[0]}_{df_fp['catalog'][src_index][cat_index]}\"\n",
    "    \n",
    "sky_model = SkyModel(spectral_model=spectral_model, name=name)\n",
    "\n",
    "datasets = Datasets(ds_src)\n",
    "datasets.models = sky_model\n",
    "\n",
    "fitter = Fit()\n",
    "\n",
    "result_fit = fitter.run(datasets=datasets)\n",
    "\n",
    "plotting_SED_flux_pointing(\n",
    "    datasets = datasets,\n",
    "    spectral_model=spectral_model, \n",
    "    sed_type = \"e2dnde\", \n",
    "    yaxis_units=\"erg cm-2 s-1\", \n",
    "    energy_bounds=energy_bounds, \n",
    "    ylim=ylim\n",
    ")"
   ]
  },
  {
   "cell_type": "code",
   "execution_count": 250,
   "id": "e8575bb2",
   "metadata": {},
   "outputs": [
    {
     "data": {
      "text/plain": [
       "'Boomerang'"
      ]
     },
     "execution_count": 250,
     "metadata": {},
     "output_type": "execute_result"
    }
   ],
   "source": [
    "src_name"
   ]
  },
  {
   "cell_type": "code",
   "execution_count": 252,
   "id": "b5d2ff03",
   "metadata": {},
   "outputs": [
    {
     "data": {
      "image/png": "[encoded data removed]",
      "text/plain": [
       "<Figure size 800x600 with 1 Axes>"
      ]
     },
     "metadata": {},
     "output_type": "display_data"
    }
   ],
   "source": [
    "# to select a source object index: [0-6]\n",
    "src_index = 6\n",
    "cat_index = 1\n",
    "# src = source_cat[src_index][0]\n",
    "source_identification(src_index)\n",
    "\n",
    "catalog_tag = df_fp[\"catalog\"][src_index][cat_index]\n",
    "\n",
    "# ds_src = ds_fp_cut[src_index]\n",
    "ds_src = ds_src_combined_cut_3\n",
    "\n",
    "spectral_model = source_cat[src_index][cat_index].spectral_model()\n",
    "# spectral_model = PowerLawSpectralModel(\n",
    "#     index=2,\n",
    "#     amplitude=\"1e-10 TeV-1 cm-2 s-1\",\n",
    "#     reference=1 * u.TeV,\n",
    "# )\n",
    "\n",
    "name = f\"{spectral_model.tag[0]}_{df_fp['catalog'][src_index][cat_index]}\"\n",
    "    \n",
    "sky_model = SkyModel(spectral_model=spectral_model, name=name)\n",
    "\n",
    "datasets = Datasets(ds_src)\n",
    "datasets.models = sky_model\n",
    "\n",
    "fitter = Fit()\n",
    "\n",
    "result_fit = fitter.run(datasets=datasets)\n",
    "\n",
    "plotting_SED_flux_pointing(\n",
    "    datasets = datasets,\n",
    "    spectral_model=spectral_model, \n",
    "    sed_type = \"e2dnde\", \n",
    "    yaxis_units=\"erg cm-2 s-1\", \n",
    "    energy_bounds=energy_bounds, \n",
    "    ylim=ylim\n",
    ")"
   ]
  },
  {
   "cell_type": "code",
   "execution_count": null,
   "id": "5cc083d7",
   "metadata": {},
   "outputs": [],
   "source": []
  },
  {
   "cell_type": "code",
   "execution_count": null,
   "id": "a0859651",
   "metadata": {},
   "outputs": [],
   "source": []
  },
  {
   "cell_type": "code",
   "execution_count": null,
   "id": "5c85aaea",
   "metadata": {},
   "outputs": [],
   "source": [
    "# to select a source object index: [0-6]\n",
    "src_index = 0\n",
    "source_identification(src_index)\n",
    "LHAASO_name, src_name"
   ]
  },
  {
   "cell_type": "code",
   "execution_count": null,
   "id": "4d50a908",
   "metadata": {},
   "outputs": [],
   "source": [
    "# List of catalogs with flux points table of the source\n",
    "df_fp['catalog'][src_index]"
   ]
  },
  {
   "cell_type": "code",
   "execution_count": null,
   "id": "144e7f84",
   "metadata": {},
   "outputs": [],
   "source": [
    "# to select a catalog:\n",
    "cat_index = 4\n",
    "catalog_tag = df_fp[\"catalog\"][src_index][cat_index]\n",
    "catalog = CATALOG_REGISTRY.get_cls(catalog_tag)()\n",
    "# print(catalog)"
   ]
  },
  {
   "cell_type": "code",
   "execution_count": null,
   "id": "b31f37c5",
   "metadata": {},
   "outputs": [],
   "source": [
    "source  = catalog[src_name]\n",
    "# source.data"
   ]
  },
  {
   "cell_type": "code",
   "execution_count": null,
   "id": "bbf8c466",
   "metadata": {
    "scrolled": true
   },
   "outputs": [],
   "source": [
    "flux_points = source.flux_points\n",
    "flux_points.to_table(sed_type=\"e2dnde\", formatted=True)"
   ]
  },
  {
   "cell_type": "code",
   "execution_count": null,
   "id": "1d1d6170",
   "metadata": {},
   "outputs": [],
   "source": [
    "# Gammapy sky model object:\n",
    "sky_model = source.sky_model()\n",
    "\n",
    "# Gammapy spatial model object:\n",
    "spatial_model = source.spatial_model\n",
    "\n",
    "# Gammapy spectral model object:\n",
    "spectral_model = source.spectral_model()\n",
    "spectral_model_tag = spectral_model.tag[0]\n",
    "spectral_model_tag_short = spectral_model.tag[0]"
   ]
  },
  {
   "cell_type": "code",
   "execution_count": null,
   "id": "ca4d9b8a",
   "metadata": {},
   "outputs": [],
   "source": [
    "# energy_bounds = [1e-5, 1e3] * u.TeV\n",
    "# ylim = [1e-20, 1e-7]"
   ]
  },
  {
   "cell_type": "code",
   "execution_count": null,
   "id": "1329bd60",
   "metadata": {},
   "outputs": [],
   "source": [
    "file_name = f'{LHAASO_txt}_{src_txt}_{spectral_model_tag_short}.png'\n",
    "file_path = path_plot_spectrum / file_name"
   ]
  },
  {
   "cell_type": "code",
   "execution_count": null,
   "id": "c656ee5b",
   "metadata": {},
   "outputs": [],
   "source": [
    "plt.style.use(['science', 'notebook', 'grid'])\n",
    "\n",
    "plt.figure()\n",
    "\n",
    "ax = spectral_model.plot(energy_bounds, sed_type=\"e2dnde\")\n",
    "ax = spectral_model.plot_error(energy_bounds, sed_type=\"e2dnde\")\n",
    "flux_points.plot(ax=ax, sed_type=\"e2dnde\")\n",
    "ax.text(0.08, 0.1, LHAASO_name, transform=ax.transAxes, fontsize = \"x-large\")\n",
    "\n",
    "ax.set_ylim(ylim)\n",
    "ax.set_xlim(energy_bounds)\n",
    "\n",
    "# plt.title(f\"{LHAASO_name}: {src_name}\")\n",
    "plt.legend([spectral_model_tag, \"Error\", f\"{src_name} - {catalog_tag}\"], loc='upper left', prop={'size': 10})\n",
    "plt.savefig(file_path, bbox_inches='tight')\n",
    "plt.show()"
   ]
  },
  {
   "cell_type": "code",
   "execution_count": null,
   "id": "de037824",
   "metadata": {},
   "outputs": [],
   "source": []
  },
  {
   "cell_type": "code",
   "execution_count": null,
   "id": "ab160f17",
   "metadata": {},
   "outputs": [],
   "source": []
  },
  {
   "cell_type": "markdown",
   "id": "b5f86771",
   "metadata": {},
   "source": [
    "#### Let's plot the spectrum"
   ]
  },
  {
   "cell_type": "code",
   "execution_count": null,
   "id": "58436dba",
   "metadata": {},
   "outputs": [],
   "source": []
  },
  {
   "cell_type": "code",
   "execution_count": null,
   "id": "39836630",
   "metadata": {},
   "outputs": [],
   "source": []
  },
  {
   "cell_type": "code",
   "execution_count": null,
   "id": "e60c4700",
   "metadata": {},
   "outputs": [],
   "source": []
  },
  {
   "cell_type": "code",
   "execution_count": null,
   "id": "630f52f6",
   "metadata": {
    "scrolled": true
   },
   "outputs": [],
   "source": []
  },
  {
   "cell_type": "code",
   "execution_count": null,
   "id": "f082256b",
   "metadata": {},
   "outputs": [],
   "source": [
    "source  = catalog[src_name]\n",
    "# Gammapy sky model object:\n",
    "sky_model = source.sky_model()\n",
    "\n",
    "# Gammapy spatial model object:\n",
    "spatial_model = sky_model.spatial_model\n",
    "\n",
    "# Gammapy spectral model object:\n",
    "spectral_model = sky_model.spectral_model\n",
    "spectral_model_tag = spectral_model.tag[0]"
   ]
  },
  {
   "cell_type": "code",
   "execution_count": null,
   "id": "158b5c98",
   "metadata": {},
   "outputs": [],
   "source": [
    "source.data"
   ]
  },
  {
   "cell_type": "code",
   "execution_count": null,
   "id": "ce492a97",
   "metadata": {},
   "outputs": [],
   "source": [
    "print(sky_model)"
   ]
  },
  {
   "cell_type": "code",
   "execution_count": null,
   "id": "fc91067b",
   "metadata": {},
   "outputs": [],
   "source": [
    "print(spatial_model)"
   ]
  },
  {
   "cell_type": "code",
   "execution_count": null,
   "id": "f6f5af7c",
   "metadata": {
    "scrolled": true
   },
   "outputs": [],
   "source": [
    "print(spectral_model)"
   ]
  },
  {
   "cell_type": "code",
   "execution_count": null,
   "id": "ed8d6244",
   "metadata": {},
   "outputs": [],
   "source": [
    "ds_fp[src_index][cat_index]"
   ]
  },
  {
   "cell_type": "code",
   "execution_count": null,
   "id": "95d5dfe8",
   "metadata": {},
   "outputs": [],
   "source": []
  },
  {
   "cell_type": "code",
   "execution_count": null,
   "id": "8df60a8c",
   "metadata": {},
   "outputs": [],
   "source": [
    "def plot_spectrum(data = None):\n",
    "    plt.style.use(['science', 'notebook', 'grid'])\n",
    "    fig, ax = plt.subplots(1, 1, figsize=(6,5))\n",
    "\n",
    "    kwargs_model = {\n",
    "        \"color\":\"black\",\n",
    "        \"ls\":\"--\"\n",
    "    }\n",
    "    kwargs_fp = {\n",
    "        \"color\":\"blue\", \n",
    "        \"marker\":\"o\"\n",
    "    }\n",
    "\n",
    "    data = data\n",
    "    data.plot_spectrum(\n",
    "        ax = ax,  \n",
    "        kwargs_fp = kwargs_fp, \n",
    "        kwargs_model = kwargs_model\n",
    "    )\n",
    "\n",
    "    title = f\"{LHAASO_name}: {src_name}\\n{catalog_tag}: {spectral_model_tag}\"\n",
    "\n",
    "    ax.text(\n",
    "        0.1, 0.1, \n",
    "        title,\n",
    "        transform = ax.transAxes,\n",
    "        bbox = dict(\n",
    "                facecolor = 'white', \n",
    "                edgecolor = 'black'\n",
    "        ), \n",
    "        size = 10\n",
    "    )\n",
    "    ax.tick_params(axis='both', which='both', labelsize=10)\n",
    "\n",
    "    file = path_plot_spectrum / f'{title}.png'\n",
    "\n",
    "    plt.savefig(file, bbox_inches='tight')\n",
    "    plt.show()"
   ]
  },
  {
   "cell_type": "code",
   "execution_count": null,
   "id": "5ed5a715",
   "metadata": {},
   "outputs": [],
   "source": [
    "data = ds_fp[src_index][cat_index]\n",
    "plot_spectrum(data)"
   ]
  },
  {
   "cell_type": "code",
   "execution_count": null,
   "id": "7243017d",
   "metadata": {},
   "outputs": [],
   "source": []
  },
  {
   "cell_type": "code",
   "execution_count": null,
   "id": "c8435a3e",
   "metadata": {},
   "outputs": [],
   "source": [
    "# kwargs = {\n",
    "#         \"ax\": ax, \n",
    "# #         \"sed_type\": sed_type\n",
    "#     }    \n",
    "# kwargs_fit = {\"label\": spectral_model_tag}\n",
    "# spec_model.plot(energy_bounds=energy_bounds, color=\"k\", **kwargs, **kwargs_fit)\n",
    "# spec_model.plot_error(energy_bounds=energy_bounds, **kwargs)\n",
    "\n",
    "# plt.show()\n"
   ]
  },
  {
   "cell_type": "code",
   "execution_count": null,
   "id": "1c7c7ee2",
   "metadata": {},
   "outputs": [],
   "source": [
    "def plot_flux_points(spectral_model, ax, label, color):\n",
    "    \n",
    "    energy_bounds = (100 * u.MeV, 100 * u.GeV)\n",
    "    spectral_model.plot(\n",
    "        ax=ax, label=label, color=color\n",
    "    )\n",
    "    spec.plot_error(ax=ax, energy_bounds=energy_bounds, color=color)\n"
   ]
  },
  {
   "cell_type": "code",
   "execution_count": null,
   "id": "18390d7a",
   "metadata": {},
   "outputs": [],
   "source": [
    "plt.style.use(['science', 'notebook', 'grid'])\n",
    "\n",
    "def plot_spectrum(spectral_model, ax, label, color):\n",
    "    \n",
    "    energy_bounds = (100 * u.MeV, 100 * u.GeV)\n",
    "    spectral_model.plot(\n",
    "        ax=ax, energy_bounds=energy_bounds,label=label, color=color\n",
    "    )\n",
    "    spectral_model.plot_error(ax=ax, energy_bounds=energy_bounds, color=color)\n",
    "\n",
    "fig, ax = plt.subplots()\n",
    "plot_spectrum(spectral_model, ax=ax, label=spectral_model_tag, color=\"tab:blue\")\n",
    "# dataset.data.plot(label=d.name, **kwargs)\n",
    "#plot_spectrum(model_joint, ax=ax, label=\"joint\", color=\"tab:orange\")\n",
    "ax.legend()\n",
    "plt.show()"
   ]
  },
  {
   "cell_type": "code",
   "execution_count": null,
   "id": "fbadaaa9",
   "metadata": {},
   "outputs": [],
   "source": [
    "dataset_fp = FluxPointsDataset(data=source.flux_points,models=sky_model, name=spectral_model_tag)\n",
    "dataset_fp.data.to_table(sed_type=sed_type, formatted=True)\n",
    "\n"
   ]
  },
  {
   "cell_type": "code",
   "execution_count": null,
   "id": "800c66da",
   "metadata": {},
   "outputs": [],
   "source": [
    "\n",
    "datasets = Datasets([dataset_fp])\n",
    "datasets.models = sky_model\n",
    "print(datasets)\n",
    "\n",
    "fitter = Fit()\n",
    "result_pwl = fitter.run(datasets=datasets)"
   ]
  },
  {
   "cell_type": "code",
   "execution_count": null,
   "id": "ec7b5dd5",
   "metadata": {},
   "outputs": [],
   "source": [
    "plt.style.use(['default'])\n",
    "\n",
    "ax = plt.subplot()\n",
    "ax.yaxis.set_units(u.Unit(\"erg cm-2 s-1\"))\n",
    "\n",
    "kwargs = {\"ax\": ax, \"sed_type\": \"e2dnde\"}\n",
    "\n",
    "for d in datasets:\n",
    "    d.data.plot(label=d.name, **kwargs)\n",
    "\n",
    "# energy_bounds = (100 * u.MeV, 100 * u.GeV)\n",
    "spectral_model.plot(energy_bounds=energy_bounds, color=\"k\", **kwargs)\n",
    "# ax.set_ylim(1e-13, 1e-8)\n",
    "ax.set_xlim(energy_bounds)\n",
    "ax.legend()\n",
    "plt.show()"
   ]
  },
  {
   "cell_type": "code",
   "execution_count": null,
   "id": "9bcc0a26",
   "metadata": {},
   "outputs": [],
   "source": [
    "# fig, ax = plt.subplots(1, 1, figsize=(12,4))\n",
    "\n",
    "# ax.plot(x, y, 'o--', color='r', lw=0.4, ms=3)\n",
    "\n",
    "\n",
    "# ax.text(0.1, 0.1, 'text here', transform=ax.transAxes)\n",
    "# ax.set_xlabel('Time [s]')\n",
    "# ax.set_ylabel(r'$\\frac{d}{dx} f(x)$', fontsize=15)\n",
    "# plt.show()\n"
   ]
  },
  {
   "cell_type": "code",
   "execution_count": null,
   "id": "0a40b2eb",
   "metadata": {},
   "outputs": [],
   "source": [
    "# #load precomputed flux points\n",
    "# flux_points = source.flux_points\n",
    "# model = SkyModel(spectral_model=spectral_model)\n",
    "# dataset = FluxPointsDataset(model, flux_points)\n",
    "# dataset.plot_spectrum()"
   ]
  },
  {
   "cell_type": "code",
   "execution_count": null,
   "id": "a7eaaca0",
   "metadata": {},
   "outputs": [],
   "source": []
  },
  {
   "cell_type": "code",
   "execution_count": null,
   "id": "0a473de7",
   "metadata": {},
   "outputs": [],
   "source": [
    "# #load precomputed flux points\n",
    "# flux_points = source.flux_points\n",
    "# model = SkyModel(spectral_model=spectral_model)\n",
    "# dataset = FluxPointsDataset(model, flux_points)\n",
    "# #configuring optional parameters\n",
    "# kwargs_spectrum = {\"kwargs_model\": {\"color\":\"red\", \"ls\":\"--\"}, \"kwargs_fp\":{\"color\":\"green\", \"marker\":\"o\"}}  # noqa: E501\n",
    "# kwargs_residuals = {\"color\": \"blue\", \"markersize\":4, \"marker\":'s', }\n",
    "# dataset.plot_fit(kwargs_residuals=kwargs_residuals, kwargs_spectrum=kwargs_spectrum) \n"
   ]
  },
  {
   "cell_type": "code",
   "execution_count": null,
   "id": "4a07fd0d",
   "metadata": {},
   "outputs": [],
   "source": [
    "# plt.style.use(['science', 'notebook', 'grid'])\n",
    "\n",
    "\n",
    "# fig, axes = plt.subplots(1, 2, figsize=(10,3.5))\n",
    "# data = ds_fp[src_index][cat_index]\n",
    "# data.plot_spectrum(kwargs_fp=kwargs_fp, kwargs_model=kwargs_model)\n",
    "# ax = axes[0]\n",
    "# ax.text(0.1, 0.1, 'text here', transform=ax.transAxes)\n",
    "\n",
    "\n",
    "\n",
    "\n",
    "\n",
    "\n",
    "\n",
    "# fig, ax = plt.subplots(1, 1, figsize=(5,4))\n",
    "# data = ds_fp[src_index][cat_index]\n",
    "# data.plot_residuals()\n",
    "# ax = axes[1]\n",
    "# ax.text(0.1, 0.1, 'text here', transform=ax.transAxes)\n",
    "# # ax.set_xlabel('Time [s]')\n",
    "# # ax.set_ylabel(r'$\\frac{d}{dx} f(x)$', fontsize=15)\n",
    "# plt.show()\n"
   ]
  },
  {
   "cell_type": "code",
   "execution_count": null,
   "id": "e78b92d9",
   "metadata": {},
   "outputs": [],
   "source": [
    "# plt.style.use(['science', 'notebook', 'grid'])\n",
    "\n",
    "\n",
    "# fig, ax = plt.subplots(1, 1, figsize=(5,4))\n",
    "# data = ds_fp[src_index][cat_index]\n",
    "# data.plot_residuals()\n",
    "# ax.text(0.1, 0.1, 'text here', transform=ax.transAxes)\n",
    "# # ax.set_xlabel('Time [s]')\n",
    "# # ax.set_ylabel(r'$\\frac{d}{dx} f(x)$', fontsize=15)\n",
    "# plt.show()"
   ]
  },
  {
   "cell_type": "code",
   "execution_count": null,
   "id": "6b8fb8b9",
   "metadata": {},
   "outputs": [],
   "source": [
    "# energy_bounds = (100 * u.MeV, 100 * u.GeV)\n",
    "\n",
    "# flux_points.plot()\n",
    "\n",
    "# spectral_model.plot(energy_bounds=energy_bounds)\n",
    "# # ax.set_yscale('linear')\n"
   ]
  },
  {
   "cell_type": "code",
   "execution_count": null,
   "id": "5434650d",
   "metadata": {},
   "outputs": [],
   "source": [
    "# fig, axes = plt.subplots(1, 2, figsize=(10,3.5))\n",
    "# ax = axes[0]\n",
    "\n",
    "# data = ds_fp[src_index][cat_index]\n",
    "# ax.plot_spectrum(data=data, kwargs_fp=kwargs_fp, kwargs_model=kwargs_model)\n",
    "\n",
    "# ax.text(0.05, 0.81, textstr1, transform=ax.transAxes,\n",
    "#        bbox=dict(facecolor='white', edgecolor='black'), size=12)\n",
    "\n",
    "# ax.legend(fontsize=10, fancybox=False, edgecolor='black')\n",
    "# ax.set_ylabel('Frequency')\n",
    "# ax.set_title('Trial 1')\n",
    "# ax = axes[1]\n",
    "# ax.hist(res_a2, bins=30, density=True, histtype='step', label='Method 1', color='blue')\n",
    "# ax.hist(res_b2, bins=30, density=True, histtype='step', label='Method 2', color='red')\n",
    "# ax.text(0.05, 0.81, textstr2, transform=ax.transAxes,\n",
    "#        bbox=dict(facecolor='white', edgecolor='black'), size=12)\n",
    "# ax.set_title('Trial 2')\n",
    "# fig.text(0.5, -0.04, '$\\Delta E$ [Joules]', ha='center', size=20)\n",
    "# plt.savefig('trial.png', dpi=200)\n",
    "# plt.show()"
   ]
  },
  {
   "cell_type": "code",
   "execution_count": null,
   "id": "d30224f0",
   "metadata": {},
   "outputs": [],
   "source": []
  },
  {
   "cell_type": "code",
   "execution_count": null,
   "id": "00192e6d",
   "metadata": {},
   "outputs": [],
   "source": []
  },
  {
   "cell_type": "code",
   "execution_count": null,
   "id": "44742dd2",
   "metadata": {},
   "outputs": [],
   "source": []
  },
  {
   "cell_type": "code",
   "execution_count": null,
   "id": "a790661a",
   "metadata": {},
   "outputs": [],
   "source": []
  },
  {
   "cell_type": "code",
   "execution_count": null,
   "id": "0cd501b0",
   "metadata": {},
   "outputs": [],
   "source": []
  },
  {
   "cell_type": "code",
   "execution_count": null,
   "id": "43a449c8",
   "metadata": {},
   "outputs": [],
   "source": [
    "file_name = title.replace(\" \", \"\").replace(\":\", \"_\").replace(\"\\n\", \"_\")"
   ]
  },
  {
   "cell_type": "code",
   "execution_count": null,
   "id": "4b46daf4",
   "metadata": {},
   "outputs": [],
   "source": [
    "fig, ax = plt.subplots(1, 1, figsize=(7,6))\n",
    "\n",
    "#configuring optional parameters\n",
    "kwargs_model = {\"color\":\"black\", \"ls\":\"--\"}\n",
    "kwargs_fp = {\"color\":\"blue\", \"marker\":\"o\"}\n",
    "data = ds_fp[src_index][cat_index]\n",
    "data.plot_residuals(ax = ax)\n",
    "ax.text(0.1, 0.1, f\"spectral model: {spectral_model_tag}\\ncatalog: {catalog_tag}\", transform=ax.transAxes)\n",
    "ax.legend()\n",
    "\n",
    "# ax.set_xlabel('Time [s]')\n",
    "# ax.set_ylabel(r'$\\frac{d}{dx} f(x)$', fontsize=15)\n",
    "\n",
    "plt.title(f\"{LHAASO_name}: {src_name}\")\n",
    "# plt.grid(True)"
   ]
  },
  {
   "cell_type": "code",
   "execution_count": null,
   "id": "352f4dab",
   "metadata": {},
   "outputs": [],
   "source": [
    "plt.style.use(['science', 'notebook', 'grid'])\n",
    "#plt.figure(figsize=(5,4))\n",
    "\n",
    "\n",
    "#configuring optional parameters\n",
    "kwargs_model = {\"color\":\"black\", \"ls\":\"--\"}\n",
    "kwargs_fp = {\"color\":\"blue\", \"marker\":\"o\"}\n",
    "data = ds_fp[src_index][cat_index]\n",
    "data.plot_spectrum(kwargs_fp=kwargs_fp, kwargs_model=kwargs_model)\n",
    "# fig = plt.figure()\n",
    "# fig.set_label('s')\n",
    "plt.title(f\"{LHAASO_name}: {src_name}\")\n",
    "plt.grid(True)"
   ]
  },
  {
   "cell_type": "code",
   "execution_count": null,
   "id": "12bba62b",
   "metadata": {},
   "outputs": [],
   "source": [
    "print(ds_fp[src_index][cat_index].plot_fit)"
   ]
  },
  {
   "cell_type": "code",
   "execution_count": null,
   "id": "7d4839af",
   "metadata": {},
   "outputs": [],
   "source": [
    "ds_fp[src_index][cat_index].plot_fit()"
   ]
  },
  {
   "cell_type": "code",
   "execution_count": null,
   "id": "5ee9106e",
   "metadata": {},
   "outputs": [],
   "source": [
    "ds_fp[src_index][cat_index].plot_residuals()"
   ]
  },
  {
   "cell_type": "code",
   "execution_count": null,
   "id": "5cf05dbd",
   "metadata": {},
   "outputs": [],
   "source": []
  },
  {
   "cell_type": "code",
   "execution_count": null,
   "id": "7ac28225",
   "metadata": {},
   "outputs": [],
   "source": []
  },
  {
   "cell_type": "code",
   "execution_count": null,
   "id": "6e851c95",
   "metadata": {},
   "outputs": [],
   "source": []
  },
  {
   "cell_type": "code",
   "execution_count": null,
   "id": "452f9251",
   "metadata": {},
   "outputs": [],
   "source": []
  }
 ],
 "metadata": {
  "kernelspec": {
   "display_name": "Python 3 (ipykernel)",
   "language": "python",
   "name": "python3"
  },
  "language_info": {
   "codemirror_mode": {
    "name": "ipython",
    "version": 3
   },
   "file_extension": ".py",
   "mimetype": "text/x-python",
   "name": "python",
   "nbconvert_exporter": "python",
   "pygments_lexer": "ipython3",
   "version": "3.9.15"
  }
 },
 "nbformat": 4,
 "nbformat_minor": 5
}
