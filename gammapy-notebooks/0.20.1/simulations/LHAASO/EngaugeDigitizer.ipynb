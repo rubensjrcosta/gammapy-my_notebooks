{
 "cells": [
  {
   "cell_type": "code",
   "execution_count": 3,
   "id": "93d717dc",
   "metadata": {},
   "outputs": [],
   "source": [
    "import numpy as np\n",
    "from scipy.stats import linregress\n",
    "import matplotlib.pyplot as plt"
   ]
  },
  {
   "cell_type": "code",
   "execution_count": 10,
   "id": "3f2b4a0f",
   "metadata": {},
   "outputs": [
    {
     "name": "stdout",
     "output_type": "stream",
     "text": [
      "x,e2dnde (erg cm-2 s-1),e2dnde_errp (erg cm-2 s-1),e2dnde_errn (erg cm-2 s-1)\r\n",
      "176.1,8.71e-12,8.96e-12,8.37e-12\r\n",
      "176.4,8.7e-12,8.96e-12,8.37e-12\r\n",
      "176.5,8.7e-12,8.96e-12,8.37e-12\r\n",
      "271.4,8.38e-12,8.58e-12,8.14e-12\r\n",
      "271.6,8.38e-12,8.58e-12,8.14e-12\r\n",
      "272,8.38e-12,8.58e-12,8.14e-12\r\n",
      "370,8.25e-12,8.41e-12,8.16e-12\r\n",
      "371,8.25e-12,8.4e-12,8.16e-12\r\n",
      "371,8.24e-12,8.4e-12,8.16e-12\r\n",
      "467,7.14e-12,7.35e-12,6.96e-12\r\n",
      "467,7.14e-12,7.35e-12,6.96e-12\r\n",
      "467,7.14e-12,7.35e-12,6.96e-12\r\n",
      "565,6.93e-12,7.15e-12,6.69e-12\r\n",
      "565,6.93e-12,7.15e-12,6.69e-12\r\n",
      "566,6.93e-12,7.15e-12,6.69e-12\r\n",
      "660,5.13e-12,5.63e-12,4.55e-12\r\n",
      "661,5.12e-12,5.62e-12,4.53e-12\r\n",
      "661,5.11e-12,5.62e-12,4.53e-12\r\n",
      "757,3.7e-12,4.66e-12,2.06e-12\r\n",
      "757,3.7e-12,4.66e-12,2.06e-12\r\n",
      "757,3.69e-12,4.66e-12,2.06e-12\r\n",
      "853,2.84e-12,4.38e-12,1.2e-12\r\n",
      "854,2.84e-12,4.38e-12,1.2e-12\r\n",
      "855,2.83e-12,4.38e-12,1.2e-12\r\n"
     ]
    }
   ],
   "source": [
    "!cat lhaasopoints.csv"
   ]
  },
  {
   "cell_type": "code",
   "execution_count": 11,
   "id": "28c1a773",
   "metadata": {},
   "outputs": [],
   "source": [
    "arquivo = \"lhaasopoints.csv\""
   ]
  },
  {
   "cell_type": "code",
   "execution_count": 12,
   "id": "c45682d0",
   "metadata": {},
   "outputs": [
    {
     "data": {
      "text/plain": [
       "array([(176.1, 8.71e-12, 8.96e-12, 8.37e-12),\n",
       "       (176.4, 8.70e-12, 8.96e-12, 8.37e-12),\n",
       "       (176.5, 8.70e-12, 8.96e-12, 8.37e-12),\n",
       "       (271.4, 8.38e-12, 8.58e-12, 8.14e-12),\n",
       "       (271.6, 8.38e-12, 8.58e-12, 8.14e-12),\n",
       "       (272. , 8.38e-12, 8.58e-12, 8.14e-12),\n",
       "       (370. , 8.25e-12, 8.41e-12, 8.16e-12),\n",
       "       (371. , 8.25e-12, 8.40e-12, 8.16e-12),\n",
       "       (371. , 8.24e-12, 8.40e-12, 8.16e-12),\n",
       "       (467. , 7.14e-12, 7.35e-12, 6.96e-12),\n",
       "       (467. , 7.14e-12, 7.35e-12, 6.96e-12),\n",
       "       (467. , 7.14e-12, 7.35e-12, 6.96e-12),\n",
       "       (565. , 6.93e-12, 7.15e-12, 6.69e-12),\n",
       "       (565. , 6.93e-12, 7.15e-12, 6.69e-12),\n",
       "       (566. , 6.93e-12, 7.15e-12, 6.69e-12),\n",
       "       (660. , 5.13e-12, 5.63e-12, 4.55e-12),\n",
       "       (661. , 5.12e-12, 5.62e-12, 4.53e-12),\n",
       "       (661. , 5.11e-12, 5.62e-12, 4.53e-12),\n",
       "       (757. , 3.70e-12, 4.66e-12, 2.06e-12),\n",
       "       (757. , 3.70e-12, 4.66e-12, 2.06e-12),\n",
       "       (757. , 3.69e-12, 4.66e-12, 2.06e-12),\n",
       "       (853. , 2.84e-12, 4.38e-12, 1.20e-12),\n",
       "       (854. , 2.84e-12, 4.38e-12, 1.20e-12),\n",
       "       (855. , 2.83e-12, 4.38e-12, 1.20e-12)],\n",
       "      dtype=[('x', '<f8'), ('e2dnde_erg_cm2_s1', '<f8'), ('e2dnde_errp_erg_cm2_s1', '<f8'), ('e2dnde_errn_erg_cm2_s1', '<f8')])"
      ]
     },
     "execution_count": 12,
     "metadata": {},
     "output_type": "execute_result"
    }
   ],
   "source": [
    "np.genfromtxt(arquivo, delimiter=\",\", names=True)"
   ]
  },
  {
   "cell_type": "code",
   "execution_count": 13,
   "id": "83c1b2a7",
   "metadata": {},
   "outputs": [],
   "source": [
    "dados = _"
   ]
  },
  {
   "cell_type": "code",
   "execution_count": 14,
   "id": "4c4c1d91",
   "metadata": {},
   "outputs": [
    {
     "data": {
      "text/plain": [
       "array([(176.1, 8.71e-12, 8.96e-12, 8.37e-12),\n",
       "       (176.4, 8.70e-12, 8.96e-12, 8.37e-12),\n",
       "       (176.5, 8.70e-12, 8.96e-12, 8.37e-12),\n",
       "       (271.4, 8.38e-12, 8.58e-12, 8.14e-12),\n",
       "       (271.6, 8.38e-12, 8.58e-12, 8.14e-12),\n",
       "       (272. , 8.38e-12, 8.58e-12, 8.14e-12),\n",
       "       (370. , 8.25e-12, 8.41e-12, 8.16e-12),\n",
       "       (371. , 8.25e-12, 8.40e-12, 8.16e-12),\n",
       "       (371. , 8.24e-12, 8.40e-12, 8.16e-12),\n",
       "       (467. , 7.14e-12, 7.35e-12, 6.96e-12),\n",
       "       (467. , 7.14e-12, 7.35e-12, 6.96e-12),\n",
       "       (467. , 7.14e-12, 7.35e-12, 6.96e-12),\n",
       "       (565. , 6.93e-12, 7.15e-12, 6.69e-12),\n",
       "       (565. , 6.93e-12, 7.15e-12, 6.69e-12),\n",
       "       (566. , 6.93e-12, 7.15e-12, 6.69e-12),\n",
       "       (660. , 5.13e-12, 5.63e-12, 4.55e-12),\n",
       "       (661. , 5.12e-12, 5.62e-12, 4.53e-12),\n",
       "       (661. , 5.11e-12, 5.62e-12, 4.53e-12),\n",
       "       (757. , 3.70e-12, 4.66e-12, 2.06e-12),\n",
       "       (757. , 3.70e-12, 4.66e-12, 2.06e-12),\n",
       "       (757. , 3.69e-12, 4.66e-12, 2.06e-12),\n",
       "       (853. , 2.84e-12, 4.38e-12, 1.20e-12),\n",
       "       (854. , 2.84e-12, 4.38e-12, 1.20e-12),\n",
       "       (855. , 2.83e-12, 4.38e-12, 1.20e-12)],\n",
       "      dtype=[('x', '<f8'), ('e2dnde_erg_cm2_s1', '<f8'), ('e2dnde_errp_erg_cm2_s1', '<f8'), ('e2dnde_errn_erg_cm2_s1', '<f8')])"
      ]
     },
     "execution_count": 14,
     "metadata": {},
     "output_type": "execute_result"
    }
   ],
   "source": [
    "dados"
   ]
  },
  {
   "cell_type": "code",
   "execution_count": 15,
   "id": "9519462b",
   "metadata": {},
   "outputs": [
    {
     "data": {
      "text/plain": [
       "('x', 'e2dnde_erg_cm2_s1', 'e2dnde_errp_erg_cm2_s1', 'e2dnde_errn_erg_cm2_s1')"
      ]
     },
     "execution_count": 15,
     "metadata": {},
     "output_type": "execute_result"
    }
   ],
   "source": [
    "dados.dtype.names"
   ]
  },
  {
   "cell_type": "code",
   "execution_count": 16,
   "id": "b1098c77",
   "metadata": {},
   "outputs": [
    {
     "data": {
      "image/png": "[encoded data removed]",
      "text/plain": [
       "<Figure size 640x480 with 1 Axes>"
      ]
     },
     "metadata": {},
     "output_type": "display_data"
    }
   ],
   "source": [
    "for name in dados.dtype.names[1:]:\n",
    "    plt.scatter(dados['x'], dados[name], label=name)\n",
    "plt.legend()\n",
    "plt.show()\n",
    "    "
   ]
  },
  {
   "cell_type": "code",
   "execution_count": 20,
   "id": "2f74c1ad",
   "metadata": {},
   "outputs": [
    {
     "data": {
      "text/plain": [
       "('x', 'e2dnde_erg_cm2_s1', 'e2dnde_errp_erg_cm2_s1', 'e2dnde_errn_erg_cm2_s1')"
      ]
     },
     "execution_count": 20,
     "metadata": {},
     "output_type": "execute_result"
    }
   ],
   "source": [
    "dados.dtype.names"
   ]
  },
  {
   "cell_type": "code",
   "execution_count": 23,
   "id": "b8fb04a7",
   "metadata": {},
   "outputs": [
    {
     "data": {
      "text/plain": [
       "array([8.71e-12, 8.70e-12, 8.70e-12, 8.38e-12, 8.38e-12, 8.38e-12,\n",
       "       8.25e-12, 8.25e-12, 8.24e-12, 7.14e-12, 7.14e-12, 7.14e-12,\n",
       "       6.93e-12, 6.93e-12, 6.93e-12, 5.13e-12, 5.12e-12, 5.11e-12,\n",
       "       3.70e-12, 3.70e-12, 3.69e-12, 2.84e-12, 2.84e-12, 2.83e-12])"
      ]
     },
     "execution_count": 23,
     "metadata": {},
     "output_type": "execute_result"
    }
   ],
   "source": [
    "e2dnde=dados[\"e2dnde_erg_cm2_s1\"]\n",
    "e2dnde"
   ]
  },
  {
   "cell_type": "code",
   "execution_count": 24,
   "id": "a9115fc6",
   "metadata": {},
   "outputs": [
    {
     "data": {
      "text/plain": [
       "array([2.50e-13, 2.60e-13, 2.60e-13, 2.00e-13, 2.00e-13, 2.00e-13,\n",
       "       1.60e-13, 1.50e-13, 1.60e-13, 2.10e-13, 2.10e-13, 2.10e-13,\n",
       "       2.20e-13, 2.20e-13, 2.20e-13, 5.00e-13, 5.00e-13, 5.10e-13,\n",
       "       9.60e-13, 9.60e-13, 9.70e-13, 1.54e-12, 1.54e-12, 1.55e-12])"
      ]
     },
     "execution_count": 24,
     "metadata": {},
     "output_type": "execute_result"
    }
   ],
   "source": [
    "e2dnde_errp = dados[\"e2dnde_errp_erg_cm2_s1\"]-dados[\"e2dnde_erg_cm2_s1\"]\n",
    "e2dnde_errp"
   ]
  },
  {
   "cell_type": "code",
   "execution_count": 25,
   "id": "109a0365",
   "metadata": {},
   "outputs": [
    {
     "data": {
      "text/plain": [
       "array([-3.40e-13, -3.30e-13, -3.30e-13, -2.40e-13, -2.40e-13, -2.40e-13,\n",
       "       -9.00e-14, -9.00e-14, -8.00e-14, -1.80e-13, -1.80e-13, -1.80e-13,\n",
       "       -2.40e-13, -2.40e-13, -2.40e-13, -5.80e-13, -5.90e-13, -5.80e-13,\n",
       "       -1.64e-12, -1.64e-12, -1.63e-12, -1.64e-12, -1.64e-12, -1.63e-12])"
      ]
     },
     "execution_count": 25,
     "metadata": {},
     "output_type": "execute_result"
    }
   ],
   "source": [
    "e2dnde_errn = dados[\"e2dnde_errn_erg_cm2_s1\"]-dados[\"e2dnde_erg_cm2_s1\"]\n",
    "e2dnde_errn"
   ]
  },
  {
   "cell_type": "code",
   "execution_count": 35,
   "id": "5eb08237",
   "metadata": {},
   "outputs": [
    {
     "data": {
      "text/plain": [
       "[array([176.1, 176.4, 176.5, 271.4, 271.6, 272. , 370. , 371. , 371. ,\n",
       "        467. , 467. , 467. , 565. , 565. , 566. , 660. , 661. , 661. ,\n",
       "        757. , 757. , 757. , 853. , 854. , 855. ]),\n",
       " array([8.71e-12, 8.70e-12, 8.70e-12, 8.38e-12, 8.38e-12, 8.38e-12,\n",
       "        8.25e-12, 8.25e-12, 8.24e-12, 7.14e-12, 7.14e-12, 7.14e-12,\n",
       "        6.93e-12, 6.93e-12, 6.93e-12, 5.13e-12, 5.12e-12, 5.11e-12,\n",
       "        3.70e-12, 3.70e-12, 3.69e-12, 2.84e-12, 2.84e-12, 2.83e-12]),\n",
       " array([2.50e-13, 2.60e-13, 2.60e-13, 2.00e-13, 2.00e-13, 2.00e-13,\n",
       "        1.60e-13, 1.50e-13, 1.60e-13, 2.10e-13, 2.10e-13, 2.10e-13,\n",
       "        2.20e-13, 2.20e-13, 2.20e-13, 5.00e-13, 5.00e-13, 5.10e-13,\n",
       "        9.60e-13, 9.60e-13, 9.70e-13, 1.54e-12, 1.54e-12, 1.55e-12]),\n",
       " array([-3.40e-13, -3.30e-13, -3.30e-13, -2.40e-13, -2.40e-13, -2.40e-13,\n",
       "        -9.00e-14, -9.00e-14, -8.00e-14, -1.80e-13, -1.80e-13, -1.80e-13,\n",
       "        -2.40e-13, -2.40e-13, -2.40e-13, -5.80e-13, -5.90e-13, -5.80e-13,\n",
       "        -1.64e-12, -1.64e-12, -1.63e-12, -1.64e-12, -1.64e-12, -1.63e-12])]"
      ]
     },
     "execution_count": 35,
     "metadata": {},
     "output_type": "execute_result"
    }
   ],
   "source": [
    "flux_points = [dados[\"x\"],e2dnde, e2dnde_errp,e2dnde_errn ]\n",
    "list(flux_points)"
   ]
  },
  {
   "cell_type": "code",
   "execution_count": 50,
   "id": "29fe49c5",
   "metadata": {},
   "outputs": [
    {
     "name": "stdout",
     "output_type": "stream",
     "text": [
      "    e_ref\n",
      "0   176.1\n",
      "1   176.4\n",
      "2   176.5\n",
      "3   271.4\n",
      "4   271.6\n",
      "5   272.0\n",
      "6   370.0\n",
      "7   371.0\n",
      "8   371.0\n",
      "9   467.0\n",
      "10  467.0\n",
      "11  467.0\n",
      "12  565.0\n",
      "13  565.0\n",
      "14  566.0\n",
      "15  660.0\n",
      "16  661.0\n",
      "17  661.0\n",
      "18  757.0\n",
      "19  757.0\n",
      "20  757.0\n",
      "21  853.0\n",
      "22  854.0\n",
      "23  855.0\n",
      "<class 'pandas.core.frame.DataFrame'>\n"
     ]
    }
   ],
   "source": [
    "import pandas as pd\n",
    "\n",
    "df = pd.DataFrame(dados['x'], columns = ['e_ref'], index=None)\n",
    "\n",
    "print(df)\n",
    "print(type(df))"
   ]
  },
  {
   "cell_type": "code",
   "execution_count": 51,
   "id": "83e0bb44",
   "metadata": {},
   "outputs": [],
   "source": [
    "df2 = pd.DataFrame(e2dnde, columns = ['e2dnde'], index=None)\n"
   ]
  },
  {
   "cell_type": "code",
   "execution_count": 52,
   "id": "21527ea5",
   "metadata": {},
   "outputs": [
    {
     "name": "stderr",
     "output_type": "stream",
     "text": [
      "/tmp/ipykernel_73812/2094904254.py:1: FutureWarning: The frame.append method is deprecated and will be removed from pandas in a future version. Use pandas.concat instead.\n",
      "  df.append(df2)\n"
     ]
    },
    {
     "data": {
      "text/html": [
       "<div>\n",
       "<style scoped>\n",
       "    .dataframe tbody tr th:only-of-type {\n",
       "        vertical-align: middle;\n",
       "    }\n",
       "\n",
       "    .dataframe tbody tr th {\n",
       "        vertical-align: top;\n",
       "    }\n",
       "\n",
       "    .dataframe thead th {\n",
       "        text-align: right;\n",
       "    }\n",
       "</style>\n",
       "<table border=\"1\" class=\"dataframe\">\n",
       "  <thead>\n",
       "    <tr style=\"text-align: right;\">\n",
       "      <th></th>\n",
       "      <th>e_ref</th>\n",
       "      <th>e2dnde</th>\n",
       "    </tr>\n",
       "  </thead>\n",
       "  <tbody>\n",
       "    <tr>\n",
       "      <th>0</th>\n",
       "      <td>176.1</td>\n",
       "      <td>NaN</td>\n",
       "    </tr>\n",
       "    <tr>\n",
       "      <th>1</th>\n",
       "      <td>176.4</td>\n",
       "      <td>NaN</td>\n",
       "    </tr>\n",
       "    <tr>\n",
       "      <th>2</th>\n",
       "      <td>176.5</td>\n",
       "      <td>NaN</td>\n",
       "    </tr>\n",
       "    <tr>\n",
       "      <th>3</th>\n",
       "      <td>271.4</td>\n",
       "      <td>NaN</td>\n",
       "    </tr>\n",
       "    <tr>\n",
       "      <th>4</th>\n",
       "      <td>271.6</td>\n",
       "      <td>NaN</td>\n",
       "    </tr>\n",
       "    <tr>\n",
       "      <th>5</th>\n",
       "      <td>272.0</td>\n",
       "      <td>NaN</td>\n",
       "    </tr>\n",
       "    <tr>\n",
       "      <th>6</th>\n",
       "      <td>370.0</td>\n",
       "      <td>NaN</td>\n",
       "    </tr>\n",
       "    <tr>\n",
       "      <th>7</th>\n",
       "      <td>371.0</td>\n",
       "      <td>NaN</td>\n",
       "    </tr>\n",
       "    <tr>\n",
       "      <th>8</th>\n",
       "      <td>371.0</td>\n",
       "      <td>NaN</td>\n",
       "    </tr>\n",
       "    <tr>\n",
       "      <th>9</th>\n",
       "      <td>467.0</td>\n",
       "      <td>NaN</td>\n",
       "    </tr>\n",
       "    <tr>\n",
       "      <th>10</th>\n",
       "      <td>467.0</td>\n",
       "      <td>NaN</td>\n",
       "    </tr>\n",
       "    <tr>\n",
       "      <th>11</th>\n",
       "      <td>467.0</td>\n",
       "      <td>NaN</td>\n",
       "    </tr>\n",
       "    <tr>\n",
       "      <th>12</th>\n",
       "      <td>565.0</td>\n",
       "      <td>NaN</td>\n",
       "    </tr>\n",
       "    <tr>\n",
       "      <th>13</th>\n",
       "      <td>565.0</td>\n",
       "      <td>NaN</td>\n",
       "    </tr>\n",
       "    <tr>\n",
       "      <th>14</th>\n",
       "      <td>566.0</td>\n",
       "      <td>NaN</td>\n",
       "    </tr>\n",
       "    <tr>\n",
       "      <th>15</th>\n",
       "      <td>660.0</td>\n",
       "      <td>NaN</td>\n",
       "    </tr>\n",
       "    <tr>\n",
       "      <th>16</th>\n",
       "      <td>661.0</td>\n",
       "      <td>NaN</td>\n",
       "    </tr>\n",
       "    <tr>\n",
       "      <th>17</th>\n",
       "      <td>661.0</td>\n",
       "      <td>NaN</td>\n",
       "    </tr>\n",
       "    <tr>\n",
       "      <th>18</th>\n",
       "      <td>757.0</td>\n",
       "      <td>NaN</td>\n",
       "    </tr>\n",
       "    <tr>\n",
       "      <th>19</th>\n",
       "      <td>757.0</td>\n",
       "      <td>NaN</td>\n",
       "    </tr>\n",
       "    <tr>\n",
       "      <th>20</th>\n",
       "      <td>757.0</td>\n",
       "      <td>NaN</td>\n",
       "    </tr>\n",
       "    <tr>\n",
       "      <th>21</th>\n",
       "      <td>853.0</td>\n",
       "      <td>NaN</td>\n",
       "    </tr>\n",
       "    <tr>\n",
       "      <th>22</th>\n",
       "      <td>854.0</td>\n",
       "      <td>NaN</td>\n",
       "    </tr>\n",
       "    <tr>\n",
       "      <th>23</th>\n",
       "      <td>855.0</td>\n",
       "      <td>NaN</td>\n",
       "    </tr>\n",
       "    <tr>\n",
       "      <th>0</th>\n",
       "      <td>NaN</td>\n",
       "      <td>8.710000e-12</td>\n",
       "    </tr>\n",
       "    <tr>\n",
       "      <th>1</th>\n",
       "      <td>NaN</td>\n",
       "      <td>8.700000e-12</td>\n",
       "    </tr>\n",
       "    <tr>\n",
       "      <th>2</th>\n",
       "      <td>NaN</td>\n",
       "      <td>8.700000e-12</td>\n",
       "    </tr>\n",
       "    <tr>\n",
       "      <th>3</th>\n",
       "      <td>NaN</td>\n",
       "      <td>8.380000e-12</td>\n",
       "    </tr>\n",
       "    <tr>\n",
       "      <th>4</th>\n",
       "      <td>NaN</td>\n",
       "      <td>8.380000e-12</td>\n",
       "    </tr>\n",
       "    <tr>\n",
       "      <th>5</th>\n",
       "      <td>NaN</td>\n",
       "      <td>8.380000e-12</td>\n",
       "    </tr>\n",
       "    <tr>\n",
       "      <th>6</th>\n",
       "      <td>NaN</td>\n",
       "      <td>8.250000e-12</td>\n",
       "    </tr>\n",
       "    <tr>\n",
       "      <th>7</th>\n",
       "      <td>NaN</td>\n",
       "      <td>8.250000e-12</td>\n",
       "    </tr>\n",
       "    <tr>\n",
       "      <th>8</th>\n",
       "      <td>NaN</td>\n",
       "      <td>8.240000e-12</td>\n",
       "    </tr>\n",
       "    <tr>\n",
       "      <th>9</th>\n",
       "      <td>NaN</td>\n",
       "      <td>7.140000e-12</td>\n",
       "    </tr>\n",
       "    <tr>\n",
       "      <th>10</th>\n",
       "      <td>NaN</td>\n",
       "      <td>7.140000e-12</td>\n",
       "    </tr>\n",
       "    <tr>\n",
       "      <th>11</th>\n",
       "      <td>NaN</td>\n",
       "      <td>7.140000e-12</td>\n",
       "    </tr>\n",
       "    <tr>\n",
       "      <th>12</th>\n",
       "      <td>NaN</td>\n",
       "      <td>6.930000e-12</td>\n",
       "    </tr>\n",
       "    <tr>\n",
       "      <th>13</th>\n",
       "      <td>NaN</td>\n",
       "      <td>6.930000e-12</td>\n",
       "    </tr>\n",
       "    <tr>\n",
       "      <th>14</th>\n",
       "      <td>NaN</td>\n",
       "      <td>6.930000e-12</td>\n",
       "    </tr>\n",
       "    <tr>\n",
       "      <th>15</th>\n",
       "      <td>NaN</td>\n",
       "      <td>5.130000e-12</td>\n",
       "    </tr>\n",
       "    <tr>\n",
       "      <th>16</th>\n",
       "      <td>NaN</td>\n",
       "      <td>5.120000e-12</td>\n",
       "    </tr>\n",
       "    <tr>\n",
       "      <th>17</th>\n",
       "      <td>NaN</td>\n",
       "      <td>5.110000e-12</td>\n",
       "    </tr>\n",
       "    <tr>\n",
       "      <th>18</th>\n",
       "      <td>NaN</td>\n",
       "      <td>3.700000e-12</td>\n",
       "    </tr>\n",
       "    <tr>\n",
       "      <th>19</th>\n",
       "      <td>NaN</td>\n",
       "      <td>3.700000e-12</td>\n",
       "    </tr>\n",
       "    <tr>\n",
       "      <th>20</th>\n",
       "      <td>NaN</td>\n",
       "      <td>3.690000e-12</td>\n",
       "    </tr>\n",
       "    <tr>\n",
       "      <th>21</th>\n",
       "      <td>NaN</td>\n",
       "      <td>2.840000e-12</td>\n",
       "    </tr>\n",
       "    <tr>\n",
       "      <th>22</th>\n",
       "      <td>NaN</td>\n",
       "      <td>2.840000e-12</td>\n",
       "    </tr>\n",
       "    <tr>\n",
       "      <th>23</th>\n",
       "      <td>NaN</td>\n",
       "      <td>2.830000e-12</td>\n",
       "    </tr>\n",
       "  </tbody>\n",
       "</table>\n",
       "</div>"
      ],
      "text/plain": [
       "    e_ref        e2dnde\n",
       "0   176.1           NaN\n",
       "1   176.4           NaN\n",
       "2   176.5           NaN\n",
       "3   271.4           NaN\n",
       "4   271.6           NaN\n",
       "5   272.0           NaN\n",
       "6   370.0           NaN\n",
       "7   371.0           NaN\n",
       "8   371.0           NaN\n",
       "9   467.0           NaN\n",
       "10  467.0           NaN\n",
       "11  467.0           NaN\n",
       "12  565.0           NaN\n",
       "13  565.0           NaN\n",
       "14  566.0           NaN\n",
       "15  660.0           NaN\n",
       "16  661.0           NaN\n",
       "17  661.0           NaN\n",
       "18  757.0           NaN\n",
       "19  757.0           NaN\n",
       "20  757.0           NaN\n",
       "21  853.0           NaN\n",
       "22  854.0           NaN\n",
       "23  855.0           NaN\n",
       "0     NaN  8.710000e-12\n",
       "1     NaN  8.700000e-12\n",
       "2     NaN  8.700000e-12\n",
       "3     NaN  8.380000e-12\n",
       "4     NaN  8.380000e-12\n",
       "5     NaN  8.380000e-12\n",
       "6     NaN  8.250000e-12\n",
       "7     NaN  8.250000e-12\n",
       "8     NaN  8.240000e-12\n",
       "9     NaN  7.140000e-12\n",
       "10    NaN  7.140000e-12\n",
       "11    NaN  7.140000e-12\n",
       "12    NaN  6.930000e-12\n",
       "13    NaN  6.930000e-12\n",
       "14    NaN  6.930000e-12\n",
       "15    NaN  5.130000e-12\n",
       "16    NaN  5.120000e-12\n",
       "17    NaN  5.110000e-12\n",
       "18    NaN  3.700000e-12\n",
       "19    NaN  3.700000e-12\n",
       "20    NaN  3.690000e-12\n",
       "21    NaN  2.840000e-12\n",
       "22    NaN  2.840000e-12\n",
       "23    NaN  2.830000e-12"
      ]
     },
     "execution_count": 52,
     "metadata": {},
     "output_type": "execute_result"
    }
   ],
   "source": [
    "df.append(df2)"
   ]
  },
  {
   "cell_type": "code",
   "execution_count": null,
   "id": "2b5a8858",
   "metadata": {},
   "outputs": [],
   "source": []
  },
  {
   "cell_type": "code",
   "execution_count": null,
   "id": "39a168f6",
   "metadata": {},
   "outputs": [],
   "source": []
  }
 ],
 "metadata": {
  "kernelspec": {
   "display_name": "Python 3 (ipykernel)",
   "language": "python",
   "name": "python3"
  },
  "language_info": {
   "codemirror_mode": {
    "name": "ipython",
    "version": 3
   },
   "file_extension": ".py",
   "mimetype": "text/x-python",
   "name": "python",
   "nbconvert_exporter": "python",
   "pygments_lexer": "ipython3",
   "version": "3.9.15"
  }
 },
 "nbformat": 4,
 "nbformat_minor": 5
}
