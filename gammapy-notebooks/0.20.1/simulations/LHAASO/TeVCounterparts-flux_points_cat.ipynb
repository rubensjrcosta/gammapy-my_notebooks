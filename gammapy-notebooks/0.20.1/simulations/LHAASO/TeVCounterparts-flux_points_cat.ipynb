{
 "cells": [
  {
   "cell_type": "code",
   "execution_count": 1,
   "id": "5ce110db",
   "metadata": {},
   "outputs": [],
   "source": [
    "# !pip install dataframe-image"
   ]
  },
  {
   "cell_type": "code",
   "execution_count": 2,
   "id": "fa05df50",
   "metadata": {},
   "outputs": [],
   "source": [
    "# !pip install tabulate"
   ]
  },
  {
   "cell_type": "markdown",
   "id": "b43d98b9",
   "metadata": {},
   "source": [
    "Carrega os catalogos do gammapy\n",
    "\n",
    "Verifica a existencia da fonte em cada um dos catalgos\n",
    "\n",
    "Guarda a tabela dos pontos de fluxos"
   ]
  },
  {
   "cell_type": "code",
   "execution_count": 3,
   "id": "c6e3efbf",
   "metadata": {},
   "outputs": [],
   "source": [
    "%matplotlib inline\n",
    "import matplotlib.pyplot as plt"
   ]
  },
  {
   "cell_type": "code",
   "execution_count": 4,
   "id": "3ac8a12e",
   "metadata": {},
   "outputs": [],
   "source": [
    "# from astropy import units as u\n",
    "# from gammapy.modeling.models import (\n",
    "#     PowerLawSpectralModel,\n",
    "#     ExpCutoffPowerLawSpectralModel,\n",
    "#     LogParabolaSpectralModel,\n",
    "#     SkyModel,\n",
    "# )\n",
    "# from gammapy.estimators import FluxPoints\n",
    "from gammapy.datasets import FluxPointsDataset\n",
    "# from gammapy.datasets import FluxPointsDataset, Datasets\n",
    "\n",
    "# from gammapy.catalog import CATALOG_REGISTRY\n",
    "# from gammapy.modeling import Fit"
   ]
  },
  {
   "cell_type": "code",
   "execution_count": 5,
   "id": "bfd62cc6",
   "metadata": {},
   "outputs": [],
   "source": [
    "from gammapy.catalog import CATALOG_REGISTRY"
   ]
  },
  {
   "cell_type": "code",
   "execution_count": 6,
   "id": "eff6f5ad",
   "metadata": {},
   "outputs": [
    {
     "name": "stdout",
     "output_type": "stream",
     "text": [
      "/home/gamma/Documents/GitHub/gammapy/gammapy-notebooks/0.20.1/simulations/LHAASO/modules/spectral_models\n"
     ]
    }
   ],
   "source": [
    "import os\n",
    "import sys\n",
    "import importlib\n",
    "\n",
    "module_path = os.path.abspath('modules/spectral_models')\n",
    "if module_path not in sys.path:\n",
    "    sys.path.append(module_path)\n",
    "print(module_path)\n",
    "import spectral_models\n",
    "importlib.reload(spectral_models)\n",
    "from spectral_models import pwl_model"
   ]
  },
  {
   "cell_type": "code",
   "execution_count": 7,
   "id": "1754fa6f",
   "metadata": {},
   "outputs": [],
   "source": [
    "catalog_gammacat = CATALOG_REGISTRY.get_cls(\"gamma-cat\")()\n",
    "catalog_hgps = CATALOG_REGISTRY.get_cls(\"hgps\")()\n",
    "catalog_2hwc = CATALOG_REGISTRY.get_cls(\"2hwc\")()\n",
    "catalog_3fgl = CATALOG_REGISTRY.get_cls(\"3fgl\")()\n",
    "catalog_4fgl = CATALOG_REGISTRY.get_cls(\"4fgl\")()\n",
    "catalog_2fhl = CATALOG_REGISTRY.get_cls(\"2fhl\")()\n",
    "catalog_3fhl = CATALOG_REGISTRY.get_cls(\"3fhl\")()\n",
    "catalog_3hwc = CATALOG_REGISTRY.get_cls(\"3hwc\")()"
   ]
  },
  {
   "cell_type": "code",
   "execution_count": 8,
   "id": "8744ea29",
   "metadata": {},
   "outputs": [],
   "source": [
    "TeVCount_dict = {\n",
    "    \"LHAASO J1825-1326\": [\"HESS J1825-137\", \"HESS J1826-130\", \"2HWC J1825-134\"], \n",
    "    \"LHAASO J1908+0621\": [\"MGRO J1908+06\" , \"HESS J1908+063\", \"ARGO J1907+0627\", \"VER J1907+062\", \"2HWC J1908+063\"], \n",
    "    \"LHAASO J2226+6057\": [\"VER J2227+608\"  , \"Boomerang\"]\n",
    "}"
   ]
  },
  {
   "cell_type": "code",
   "execution_count": 9,
   "id": "d610d96e",
   "metadata": {},
   "outputs": [],
   "source": [
    "catalog_tag = [\"gamma-cat\", \"hgps\", \"2hwc\", \"3fgl\", \"4fgl\", \"2fhl\", \"3fhl\", \"3hwc\"] "
   ]
  },
  {
   "cell_type": "code",
   "execution_count": 10,
   "id": "375d8998",
   "metadata": {},
   "outputs": [
    {
     "data": {
      "text/html": [
       "<div>\n",
       "<style scoped>\n",
       "    .dataframe tbody tr th:only-of-type {\n",
       "        vertical-align: middle;\n",
       "    }\n",
       "\n",
       "    .dataframe tbody tr th {\n",
       "        vertical-align: top;\n",
       "    }\n",
       "\n",
       "    .dataframe thead th {\n",
       "        text-align: right;\n",
       "    }\n",
       "</style>\n",
       "<table border=\"1\" class=\"dataframe\">\n",
       "  <thead>\n",
       "    <tr style=\"text-align: right;\">\n",
       "      <th></th>\n",
       "      <th>LHAASO</th>\n",
       "      <th>Conterpart</th>\n",
       "      <th>Catalog</th>\n",
       "    </tr>\n",
       "  </thead>\n",
       "  <tbody>\n",
       "    <tr>\n",
       "      <th>0</th>\n",
       "      <td>LHAASO J1825-1326</td>\n",
       "      <td>HESS J1825-137</td>\n",
       "      <td>[gamma-cat, hgps, 3fgl, 4fgl, 2fhl, 3fhl]</td>\n",
       "    </tr>\n",
       "    <tr>\n",
       "      <th>1</th>\n",
       "      <td>LHAASO J1825-1326</td>\n",
       "      <td>HESS J1826-130</td>\n",
       "      <td>[gamma-cat, hgps, 4fgl, 3fhl]</td>\n",
       "    </tr>\n",
       "    <tr>\n",
       "      <th>2</th>\n",
       "      <td>LHAASO J1825-1326</td>\n",
       "      <td>2HWC J1825-134</td>\n",
       "      <td>[2hwc]</td>\n",
       "    </tr>\n",
       "    <tr>\n",
       "      <th>3</th>\n",
       "      <td>LHAASO J1908+0621</td>\n",
       "      <td>MGRO J1908+06</td>\n",
       "      <td>[gamma-cat, 3fgl, 4fgl]</td>\n",
       "    </tr>\n",
       "    <tr>\n",
       "      <th>4</th>\n",
       "      <td>LHAASO J1908+0621</td>\n",
       "      <td>HESS J1908+063</td>\n",
       "      <td>[gamma-cat, hgps]</td>\n",
       "    </tr>\n",
       "    <tr>\n",
       "      <th>5</th>\n",
       "      <td>LHAASO J1908+0621</td>\n",
       "      <td>ARGO J1907+0627</td>\n",
       "      <td>[gamma-cat]</td>\n",
       "    </tr>\n",
       "    <tr>\n",
       "      <th>6</th>\n",
       "      <td>LHAASO J1908+0621</td>\n",
       "      <td>VER J1907+062</td>\n",
       "      <td>[gamma-cat]</td>\n",
       "    </tr>\n",
       "    <tr>\n",
       "      <th>7</th>\n",
       "      <td>LHAASO J1908+0621</td>\n",
       "      <td>2HWC J1908+063</td>\n",
       "      <td>[2hwc]</td>\n",
       "    </tr>\n",
       "    <tr>\n",
       "      <th>8</th>\n",
       "      <td>LHAASO J2226+6057</td>\n",
       "      <td>VER J2227+608</td>\n",
       "      <td>[]</td>\n",
       "    </tr>\n",
       "    <tr>\n",
       "      <th>9</th>\n",
       "      <td>LHAASO J2226+6057</td>\n",
       "      <td>Boomerang</td>\n",
       "      <td>[3fgl, 4fgl]</td>\n",
       "    </tr>\n",
       "  </tbody>\n",
       "</table>\n",
       "</div>"
      ],
      "text/plain": [
       "              LHAASO       Conterpart  \\\n",
       "0  LHAASO J1825-1326   HESS J1825-137   \n",
       "1  LHAASO J1825-1326   HESS J1826-130   \n",
       "2  LHAASO J1825-1326   2HWC J1825-134   \n",
       "3  LHAASO J1908+0621    MGRO J1908+06   \n",
       "4  LHAASO J1908+0621   HESS J1908+063   \n",
       "5  LHAASO J1908+0621  ARGO J1907+0627   \n",
       "6  LHAASO J1908+0621    VER J1907+062   \n",
       "7  LHAASO J1908+0621   2HWC J1908+063   \n",
       "8  LHAASO J2226+6057    VER J2227+608   \n",
       "9  LHAASO J2226+6057        Boomerang   \n",
       "\n",
       "                                     Catalog  \n",
       "0  [gamma-cat, hgps, 3fgl, 4fgl, 2fhl, 3fhl]  \n",
       "1              [gamma-cat, hgps, 4fgl, 3fhl]  \n",
       "2                                     [2hwc]  \n",
       "3                    [gamma-cat, 3fgl, 4fgl]  \n",
       "4                          [gamma-cat, hgps]  \n",
       "5                                [gamma-cat]  \n",
       "6                                [gamma-cat]  \n",
       "7                                     [2hwc]  \n",
       "8                                         []  \n",
       "9                               [3fgl, 4fgl]  "
      ]
     },
     "metadata": {},
     "output_type": "display_data"
    }
   ],
   "source": [
    "lst=[]\n",
    "for i in range(len(TeVCount_dict.keys())):\n",
    "    LHAASO = list(TeVCount_dict.keys())[i]\n",
    "\n",
    "    for j in range(len(TeVCount_dict[LHAASO])):\n",
    "        cat_off = []\n",
    "        cat_on = []\n",
    "        \n",
    "        TeVCount=TeVCount_dict[LHAASO][j]\n",
    "\n",
    "        for k in range(len(catalog_tag)): \n",
    "            try:\n",
    "                cat_name = catalog_tag[k]\n",
    "                cat=CATALOG_REGISTRY.get_cls(cat_name)()\n",
    "                src=cat[TeVCount]\n",
    "                cat_on.append(catalog_tag[k])\n",
    "            except:\n",
    "                cat_off.append(catalog_tag[k])\n",
    "\n",
    "            lst_k=[LHAASO, TeVCount, cat_on]\n",
    "        \n",
    "        lst.append(lst_k)\n",
    "    \n",
    "import pandas as pd \n",
    "# List1 \n",
    "# lst = [['apple', 'red', 11], ['grape', 'green', 22], ['orange', 'orange', 33], ['mango', 'yellow', 44]] \n",
    "df = pd.DataFrame(lst, columns =['LHAASO', 'Conterpart', 'Catalog']) \n",
    "display(df) "
   ]
  },
  {
   "cell_type": "code",
   "execution_count": 11,
   "id": "34777c41",
   "metadata": {},
   "outputs": [],
   "source": [
    "import pandas as pd\n",
    "import dataframe_image as dfi"
   ]
  },
  {
   "cell_type": "code",
   "execution_count": 12,
   "id": "7b54ff86",
   "metadata": {},
   "outputs": [
    {
     "name": "stderr",
     "output_type": "stream",
     "text": [
      "[0201/141948.984914:WARNING:bluez_dbus_manager.cc(247)] Floss manager not present, cannot set Floss enable/disable.\n",
      "MESA-INTEL: warning: Performance support disabled, consider sysctl dev.i915.perf_stream_paranoid=0\n",
      "\n",
      "[0201/141949.028464:WARNING:sandbox_linux.cc(385)] InitializeSandbox() called with multiple threads in process gpu-process.\n",
      "[0201/141949.185901:INFO:headless_shell.cc(223)] 77424 bytes written to file /tmp/tmpr1jlz1zo/temp.png\n"
     ]
    }
   ],
   "source": [
    "dfi.export(df, 'TeVCounterpart/flux_points/flux_points.png')"
   ]
  },
  {
   "cell_type": "code",
   "execution_count": 13,
   "id": "0eeb7f7d",
   "metadata": {},
   "outputs": [
    {
     "data": {
      "text/html": [
       "<div>\n",
       "<style scoped>\n",
       "    .dataframe tbody tr th:only-of-type {\n",
       "        vertical-align: middle;\n",
       "    }\n",
       "\n",
       "    .dataframe tbody tr th {\n",
       "        vertical-align: top;\n",
       "    }\n",
       "\n",
       "    .dataframe thead th {\n",
       "        text-align: right;\n",
       "    }\n",
       "</style>\n",
       "<table border=\"1\" class=\"dataframe\">\n",
       "  <thead>\n",
       "    <tr style=\"text-align: right;\">\n",
       "      <th></th>\n",
       "      <th>LHAASO</th>\n",
       "      <th>Conterpart</th>\n",
       "      <th>Catalog</th>\n",
       "      <th>Flux Points</th>\n",
       "    </tr>\n",
       "  </thead>\n",
       "  <tbody>\n",
       "    <tr>\n",
       "      <th>0</th>\n",
       "      <td>LHAASO J1825-1326</td>\n",
       "      <td>HESS J1825-137</td>\n",
       "      <td>[gamma-cat, hgps, 3fgl, 4fgl, 2fhl, 3fhl]</td>\n",
       "      <td>[gamma-cat, hgps, 3fgl, 4fgl, 2fhl, 3fhl]</td>\n",
       "    </tr>\n",
       "    <tr>\n",
       "      <th>1</th>\n",
       "      <td>LHAASO J1825-1326</td>\n",
       "      <td>HESS J1826-130</td>\n",
       "      <td>[gamma-cat, hgps, 4fgl, 3fhl]</td>\n",
       "      <td>[gamma-cat, hgps, 4fgl, 3fhl]</td>\n",
       "    </tr>\n",
       "    <tr>\n",
       "      <th>2</th>\n",
       "      <td>LHAASO J1825-1326</td>\n",
       "      <td>2HWC J1825-134</td>\n",
       "      <td>[2hwc]</td>\n",
       "      <td>[]</td>\n",
       "    </tr>\n",
       "    <tr>\n",
       "      <th>3</th>\n",
       "      <td>LHAASO J1908+0621</td>\n",
       "      <td>MGRO J1908+06</td>\n",
       "      <td>[gamma-cat, 3fgl, 4fgl]</td>\n",
       "      <td>[gamma-cat, 3fgl, 4fgl]</td>\n",
       "    </tr>\n",
       "    <tr>\n",
       "      <th>4</th>\n",
       "      <td>LHAASO J1908+0621</td>\n",
       "      <td>HESS J1908+063</td>\n",
       "      <td>[gamma-cat, hgps]</td>\n",
       "      <td>[gamma-cat, hgps]</td>\n",
       "    </tr>\n",
       "    <tr>\n",
       "      <th>5</th>\n",
       "      <td>LHAASO J1908+0621</td>\n",
       "      <td>ARGO J1907+0627</td>\n",
       "      <td>[gamma-cat]</td>\n",
       "      <td>[gamma-cat]</td>\n",
       "    </tr>\n",
       "    <tr>\n",
       "      <th>6</th>\n",
       "      <td>LHAASO J1908+0621</td>\n",
       "      <td>VER J1907+062</td>\n",
       "      <td>[gamma-cat]</td>\n",
       "      <td>[gamma-cat]</td>\n",
       "    </tr>\n",
       "    <tr>\n",
       "      <th>7</th>\n",
       "      <td>LHAASO J1908+0621</td>\n",
       "      <td>2HWC J1908+063</td>\n",
       "      <td>[2hwc]</td>\n",
       "      <td>[]</td>\n",
       "    </tr>\n",
       "    <tr>\n",
       "      <th>8</th>\n",
       "      <td>LHAASO J2226+6057</td>\n",
       "      <td>VER J2227+608</td>\n",
       "      <td>[]</td>\n",
       "      <td>[]</td>\n",
       "    </tr>\n",
       "    <tr>\n",
       "      <th>9</th>\n",
       "      <td>LHAASO J2226+6057</td>\n",
       "      <td>Boomerang</td>\n",
       "      <td>[3fgl, 4fgl]</td>\n",
       "      <td>[3fgl, 4fgl]</td>\n",
       "    </tr>\n",
       "  </tbody>\n",
       "</table>\n",
       "</div>"
      ],
      "text/plain": [
       "              LHAASO       Conterpart  \\\n",
       "0  LHAASO J1825-1326   HESS J1825-137   \n",
       "1  LHAASO J1825-1326   HESS J1826-130   \n",
       "2  LHAASO J1825-1326   2HWC J1825-134   \n",
       "3  LHAASO J1908+0621    MGRO J1908+06   \n",
       "4  LHAASO J1908+0621   HESS J1908+063   \n",
       "5  LHAASO J1908+0621  ARGO J1907+0627   \n",
       "6  LHAASO J1908+0621    VER J1907+062   \n",
       "7  LHAASO J1908+0621   2HWC J1908+063   \n",
       "8  LHAASO J2226+6057    VER J2227+608   \n",
       "9  LHAASO J2226+6057        Boomerang   \n",
       "\n",
       "                                     Catalog  \\\n",
       "0  [gamma-cat, hgps, 3fgl, 4fgl, 2fhl, 3fhl]   \n",
       "1              [gamma-cat, hgps, 4fgl, 3fhl]   \n",
       "2                                     [2hwc]   \n",
       "3                    [gamma-cat, 3fgl, 4fgl]   \n",
       "4                          [gamma-cat, hgps]   \n",
       "5                                [gamma-cat]   \n",
       "6                                [gamma-cat]   \n",
       "7                                     [2hwc]   \n",
       "8                                         []   \n",
       "9                               [3fgl, 4fgl]   \n",
       "\n",
       "                                 Flux Points  \n",
       "0  [gamma-cat, hgps, 3fgl, 4fgl, 2fhl, 3fhl]  \n",
       "1              [gamma-cat, hgps, 4fgl, 3fhl]  \n",
       "2                                         []  \n",
       "3                    [gamma-cat, 3fgl, 4fgl]  \n",
       "4                          [gamma-cat, hgps]  \n",
       "5                                [gamma-cat]  \n",
       "6                                [gamma-cat]  \n",
       "7                                         []  \n",
       "8                                         []  \n",
       "9                               [3fgl, 4fgl]  "
      ]
     },
     "metadata": {},
     "output_type": "display_data"
    }
   ],
   "source": [
    "catalog_tag = [\"gamma-cat\", \"hgps\", \"2hwc\", \"3fgl\", \"4fgl\", \"2fhl\", \"3fhl\", \"3hwc\"] \n",
    "lst=[]\n",
    "for i in range(len(TeVCount_dict.keys())):\n",
    "    LHAASO = list(TeVCount_dict.keys())[i]\n",
    "\n",
    "    for j in range(len(TeVCount_dict[LHAASO])):\n",
    "        cat_off = []\n",
    "        cat_on = []\n",
    "        \n",
    "        pf_off = []\n",
    "        pf_on = []\n",
    "        \n",
    "        TeVCount=TeVCount_dict[LHAASO][j]\n",
    "\n",
    "        for k in range(len(catalog_tag)): \n",
    "            cat_name = catalog_tag[k]\n",
    "            \n",
    "            try:\n",
    "                cat=CATALOG_REGISTRY.get_cls(cat_name)()\n",
    "                src=cat[TeVCount]\n",
    "                cat_on.append(catalog_tag[k])\n",
    "                \n",
    "                ds = FluxPointsDataset(\n",
    "                    data=src.flux_points, \n",
    "                    name=cat_name\n",
    "                )\n",
    "                table = ds.data.to_table(sed_type=\"dnde\", formatted=True)\n",
    "                pf_on.append(catalog_tag[k])\n",
    "            except:\n",
    "                cat_off.append(catalog_tag[k])\n",
    "\n",
    "            lst_k=[LHAASO, TeVCount, cat_on, pf_on]\n",
    "        lst.append(lst_k)\n",
    "    \n",
    "import pandas as pd \n",
    "\n",
    "df = pd.DataFrame(lst, columns =['LHAASO', 'Conterpart', 'Catalog', 'Flux Points']) \n",
    "display(df) "
   ]
  },
  {
   "cell_type": "code",
   "execution_count": 14,
   "id": "7cc0a1db",
   "metadata": {},
   "outputs": [
    {
     "data": {
      "text/plain": [
       "'LHAASO J2226+6057'"
      ]
     },
     "execution_count": 14,
     "metadata": {},
     "output_type": "execute_result"
    }
   ],
   "source": [
    "list(TeVCount_dict.keys())[i]"
   ]
  },
  {
   "cell_type": "code",
   "execution_count": 15,
   "id": "23eafa79",
   "metadata": {
    "scrolled": true
   },
   "outputs": [
    {
     "data": {
      "text/plain": [
       "'\\n*** Basic info ***\\n\\nCatalog row index (zero-based) : 13\\nSource name : 2HWC J1825-134\\n\\n*** Position info ***\\n\\nRA: 276.460 deg\\nDEC: -13.401 deg\\nGLON: 18.115 deg\\nGLAT: -0.526 deg\\nPosition error: 0.086 deg\\n\\n*** Spectral info ***\\n\\nSpectrum 0:\\nFlux at 7 TeV: 1.38e-13 +- 8.1e-15 cm-2 s-1 TeV-1\\nSpectral index: -2.580 +- 0.040\\nTest Radius: 0.0 deg\\n\\nSpectrum 1:\\nFlux at 7 TeV: 2.49e-13 +- 1.14e-14 cm-2 s-1 TeV-1\\nSpectral index: -2.560 +- 0.030\\nTest Radius: 0.9 deg\\n\\n'"
      ]
     },
     "metadata": {},
     "output_type": "display_data"
    }
   ],
   "source": [
    "display(CATALOG_REGISTRY.get_cls(\"2hwc\")()[\"2HWC J1825-134\"].info())"
   ]
  },
  {
   "cell_type": "code",
   "execution_count": 16,
   "id": "20ebb1ad",
   "metadata": {},
   "outputs": [],
   "source": [
    "base_dir  = \"TeVCounterpart\"\n",
    "child_dir = \"flux_points\"\n",
    "format_file = \".dat\""
   ]
  },
  {
   "cell_type": "code",
   "execution_count": 17,
   "id": "9be0c34b",
   "metadata": {},
   "outputs": [],
   "source": [
    "from pathlib import Path"
   ]
  },
  {
   "cell_type": "code",
   "execution_count": 18,
   "id": "fa0d4b46",
   "metadata": {},
   "outputs": [],
   "source": [
    "def mkdir_base_child(base_dir, child_dir):\n",
    "    '''Creates a directory: base_dir/child_dir and returs the path \n",
    "    mkdir_base_child(base_dir, child_dir)\n",
    "    >>> path_child\n",
    "    '''\n",
    "    path_base = Path(f\"{base_dir}\")\n",
    "    path_base.mkdir(exist_ok=True)\n",
    "\n",
    "    path_child = Path(f\"{path_base}/{child_dir}\")\n",
    "    path_child.mkdir(exist_ok=True)\n",
    "    \n",
    "    return path_child"
   ]
  },
  {
   "cell_type": "code",
   "execution_count": 19,
   "id": "b1264e10",
   "metadata": {},
   "outputs": [],
   "source": [
    "path=mkdir_base_child(\"catalogs_data\", \"flux_points\")"
   ]
  },
  {
   "cell_type": "code",
   "execution_count": 20,
   "id": "6cb6f05b",
   "metadata": {},
   "outputs": [
    {
     "data": {
      "text/html": [
       "<div>\n",
       "<style scoped>\n",
       "    .dataframe tbody tr th:only-of-type {\n",
       "        vertical-align: middle;\n",
       "    }\n",
       "\n",
       "    .dataframe tbody tr th {\n",
       "        vertical-align: top;\n",
       "    }\n",
       "\n",
       "    .dataframe thead th {\n",
       "        text-align: right;\n",
       "    }\n",
       "</style>\n",
       "<table border=\"1\" class=\"dataframe\">\n",
       "  <thead>\n",
       "    <tr style=\"text-align: right;\">\n",
       "      <th></th>\n",
       "      <th>LHAASO</th>\n",
       "      <th>TeV Conterpart</th>\n",
       "      <th>Catalog</th>\n",
       "      <th>Flux Points</th>\n",
       "    </tr>\n",
       "  </thead>\n",
       "  <tbody>\n",
       "    <tr>\n",
       "      <th>0</th>\n",
       "      <td>LHAASO J1825-1326</td>\n",
       "      <td>HESS J1825-137</td>\n",
       "      <td>[gamma-cat, hgps, 3fgl, 4fgl, 2fhl, 3fhl]</td>\n",
       "      <td>[gamma-cat, hgps, 3fgl, 4fgl, 2fhl, 3fhl]</td>\n",
       "    </tr>\n",
       "    <tr>\n",
       "      <th>1</th>\n",
       "      <td>LHAASO J1825-1326</td>\n",
       "      <td>HESS J1826-130</td>\n",
       "      <td>[gamma-cat, hgps, 4fgl, 3fhl]</td>\n",
       "      <td>[gamma-cat, hgps, 4fgl, 3fhl]</td>\n",
       "    </tr>\n",
       "    <tr>\n",
       "      <th>2</th>\n",
       "      <td>LHAASO J1825-1326</td>\n",
       "      <td>2HWC J1825-134</td>\n",
       "      <td>[2hwc]</td>\n",
       "      <td>[]</td>\n",
       "    </tr>\n",
       "    <tr>\n",
       "      <th>3</th>\n",
       "      <td>LHAASO J1908+0621</td>\n",
       "      <td>MGRO J1908+06</td>\n",
       "      <td>[gamma-cat, 3fgl, 4fgl]</td>\n",
       "      <td>[gamma-cat, 3fgl, 4fgl]</td>\n",
       "    </tr>\n",
       "    <tr>\n",
       "      <th>4</th>\n",
       "      <td>LHAASO J1908+0621</td>\n",
       "      <td>HESS J1908+063</td>\n",
       "      <td>[gamma-cat, hgps]</td>\n",
       "      <td>[gamma-cat, hgps]</td>\n",
       "    </tr>\n",
       "    <tr>\n",
       "      <th>5</th>\n",
       "      <td>LHAASO J1908+0621</td>\n",
       "      <td>ARGO J1907+0627</td>\n",
       "      <td>[gamma-cat]</td>\n",
       "      <td>[gamma-cat]</td>\n",
       "    </tr>\n",
       "    <tr>\n",
       "      <th>6</th>\n",
       "      <td>LHAASO J1908+0621</td>\n",
       "      <td>VER J1907+062</td>\n",
       "      <td>[gamma-cat]</td>\n",
       "      <td>[gamma-cat]</td>\n",
       "    </tr>\n",
       "    <tr>\n",
       "      <th>7</th>\n",
       "      <td>LHAASO J1908+0621</td>\n",
       "      <td>2HWC J1908+063</td>\n",
       "      <td>[2hwc]</td>\n",
       "      <td>[]</td>\n",
       "    </tr>\n",
       "    <tr>\n",
       "      <th>8</th>\n",
       "      <td>LHAASO J2226+6057</td>\n",
       "      <td>VER J2227+608</td>\n",
       "      <td>[]</td>\n",
       "      <td>[]</td>\n",
       "    </tr>\n",
       "    <tr>\n",
       "      <th>9</th>\n",
       "      <td>LHAASO J2226+6057</td>\n",
       "      <td>Boomerang</td>\n",
       "      <td>[3fgl, 4fgl]</td>\n",
       "      <td>[3fgl, 4fgl]</td>\n",
       "    </tr>\n",
       "  </tbody>\n",
       "</table>\n",
       "</div>"
      ],
      "text/plain": [
       "              LHAASO   TeV Conterpart  \\\n",
       "0  LHAASO J1825-1326   HESS J1825-137   \n",
       "1  LHAASO J1825-1326   HESS J1826-130   \n",
       "2  LHAASO J1825-1326   2HWC J1825-134   \n",
       "3  LHAASO J1908+0621    MGRO J1908+06   \n",
       "4  LHAASO J1908+0621   HESS J1908+063   \n",
       "5  LHAASO J1908+0621  ARGO J1907+0627   \n",
       "6  LHAASO J1908+0621    VER J1907+062   \n",
       "7  LHAASO J1908+0621   2HWC J1908+063   \n",
       "8  LHAASO J2226+6057    VER J2227+608   \n",
       "9  LHAASO J2226+6057        Boomerang   \n",
       "\n",
       "                                     Catalog  \\\n",
       "0  [gamma-cat, hgps, 3fgl, 4fgl, 2fhl, 3fhl]   \n",
       "1              [gamma-cat, hgps, 4fgl, 3fhl]   \n",
       "2                                     [2hwc]   \n",
       "3                    [gamma-cat, 3fgl, 4fgl]   \n",
       "4                          [gamma-cat, hgps]   \n",
       "5                                [gamma-cat]   \n",
       "6                                [gamma-cat]   \n",
       "7                                     [2hwc]   \n",
       "8                                         []   \n",
       "9                               [3fgl, 4fgl]   \n",
       "\n",
       "                                 Flux Points  \n",
       "0  [gamma-cat, hgps, 3fgl, 4fgl, 2fhl, 3fhl]  \n",
       "1              [gamma-cat, hgps, 4fgl, 3fhl]  \n",
       "2                                         []  \n",
       "3                    [gamma-cat, 3fgl, 4fgl]  \n",
       "4                          [gamma-cat, hgps]  \n",
       "5                                [gamma-cat]  \n",
       "6                                [gamma-cat]  \n",
       "7                                         []  \n",
       "8                                         []  \n",
       "9                               [3fgl, 4fgl]  "
      ]
     },
     "metadata": {},
     "output_type": "display_data"
    }
   ],
   "source": [
    "catalog_tag = [\"gamma-cat\", \"hgps\", \"2hwc\", \"3fgl\", \"4fgl\", \"2fhl\", \"3fhl\", \"3hwc\"] \n",
    "sed_type=\"dnde\"\n",
    "lst=[]\n",
    "\n",
    "\n",
    "for i in range(len(TeVCount_dict.keys())):\n",
    "    LHAASO_src = list(TeVCount_dict.keys())[i]\n",
    "    LHAASO_id = LHAASO_src.replace(\" \", \"\")\n",
    "    \n",
    "    for j in range(len(TeVCount_dict[LHAASO_src])):\n",
    "        cat_off = []\n",
    "        cat_on = []\n",
    "        \n",
    "        pf_off = []\n",
    "        pf_on = []\n",
    "        \n",
    "        TeVCount=TeVCount_dict[LHAASO_src][j]\n",
    "        TeVCount_id = TeVCount.replace(\" \", \"\")\n",
    "        for k in range(len(catalog_tag)): \n",
    "            cat_name = catalog_tag[k]\n",
    "            \n",
    "            try:\n",
    "                cat=CATALOG_REGISTRY.get_cls(cat_name)()\n",
    "                src=cat[TeVCount]\n",
    "                cat_on.append(catalog_tag[k])\n",
    "                \n",
    "                ds = FluxPointsDataset(\n",
    "                    data=src.flux_points, \n",
    "                    name=cat_name\n",
    "                )\n",
    "                pf_on.append(catalog_tag[k])\n",
    "                table = ds.data.to_table(sed_type=sed_type, formatted=True)\n",
    "                file_name = f'{LHAASO_id}_{TeVCount_id}_{cat_name}{format_file}'\n",
    "                path=mkdir_base_child(\"catalogs_data\", \"flux_points\")\n",
    "                path_name = os.path.abspath(\n",
    "                    os.path.join(\n",
    "                        f\"{path}/{file_name}\"\n",
    "                                )\n",
    "                )\n",
    "                \n",
    "                # print(path_name)\n",
    "                if path_name not in sys.path:\n",
    "                    sys.path.append(path_name)\n",
    "\n",
    "                table.write(f\"{path_name}\",format='ascii.ecsv', overwrite=True)\n",
    "\n",
    "                \n",
    "            except:\n",
    "                cat_off.append(catalog_tag[k])\n",
    "\n",
    "            lst_k=[LHAASO_src, TeVCount, cat_on, pf_on]\n",
    "        lst.append(lst_k)\n",
    "    \n",
    "import pandas as pd \n",
    "\n",
    "df = pd.DataFrame(lst, columns =['LHAASO', 'TeV Conterpart', 'Catalog', 'Flux Points']) \n",
    "display(df) "
   ]
  },
  {
   "cell_type": "code",
   "execution_count": 21,
   "id": "052ae40e",
   "metadata": {},
   "outputs": [
    {
     "data": {
      "text/plain": [
       "19"
      ]
     },
     "execution_count": 21,
     "metadata": {},
     "output_type": "execute_result"
    }
   ],
   "source": [
    "len(df[\"Flux Points\"].sum())"
   ]
  },
  {
   "cell_type": "code",
   "execution_count": 22,
   "id": "e58f5a85",
   "metadata": {},
   "outputs": [
    {
     "data": {
      "text/plain": [
       "['VER J2227+608', 'Boomerang']"
      ]
     },
     "execution_count": 22,
     "metadata": {},
     "output_type": "execute_result"
    }
   ],
   "source": [
    "TeVCount_dict[LHAASO_src]"
   ]
  },
  {
   "cell_type": "code",
   "execution_count": 23,
   "id": "54d61c3e",
   "metadata": {},
   "outputs": [
    {
     "name": "stdout",
     "output_type": "stream",
     "text": [
      "LHAASO J1825-1326\n",
      "HESS J1825-137\n",
      "gamma-cat\n",
      "hgps\n",
      "2hwc (an exception occurred)\n",
      "3fgl\n",
      "4fgl\n",
      "2fhl\n",
      "3fhl\n",
      "3hwc (an exception occurred)\n",
      "HESS J1826-130\n",
      "gamma-cat\n",
      "hgps\n",
      "2hwc (an exception occurred)\n",
      "3fgl (an exception occurred)\n",
      "4fgl\n",
      "2fhl (an exception occurred)\n",
      "3fhl\n",
      "3hwc (an exception occurred)\n",
      "2HWC J1825-134\n",
      "gamma-cat (an exception occurred)\n",
      "hgps (an exception occurred)\n",
      "2hwc (an exception occurred)\n",
      "3fgl (an exception occurred)\n",
      "4fgl (an exception occurred)\n",
      "2fhl (an exception occurred)\n",
      "3fhl (an exception occurred)\n",
      "3hwc (an exception occurred)\n",
      " \n",
      "***\n",
      "LHAASO J1908+0621\n",
      "MGRO J1908+06\n",
      "gamma-cat\n",
      "hgps (an exception occurred)\n",
      "2hwc (an exception occurred)\n",
      "3fgl\n",
      "4fgl\n",
      "2fhl (an exception occurred)\n",
      "3fhl (an exception occurred)\n",
      "3hwc (an exception occurred)\n",
      "HESS J1908+063\n",
      "gamma-cat\n",
      "hgps\n",
      "2hwc (an exception occurred)\n",
      "3fgl (an exception occurred)\n",
      "4fgl (an exception occurred)\n",
      "2fhl (an exception occurred)\n",
      "3fhl (an exception occurred)\n",
      "3hwc (an exception occurred)\n",
      "ARGO J1907+0627\n",
      "gamma-cat\n",
      "hgps (an exception occurred)\n",
      "2hwc (an exception occurred)\n",
      "3fgl (an exception occurred)\n",
      "4fgl (an exception occurred)\n",
      "2fhl (an exception occurred)\n",
      "3fhl (an exception occurred)\n",
      "3hwc (an exception occurred)\n",
      "VER J1907+062\n",
      "gamma-cat\n",
      "hgps (an exception occurred)\n",
      "2hwc (an exception occurred)\n",
      "3fgl (an exception occurred)\n",
      "4fgl (an exception occurred)\n",
      "2fhl (an exception occurred)\n",
      "3fhl (an exception occurred)\n",
      "3hwc (an exception occurred)\n",
      "2HWC J1908+063\n",
      "gamma-cat (an exception occurred)\n",
      "hgps (an exception occurred)\n",
      "2hwc (an exception occurred)\n",
      "3fgl (an exception occurred)\n",
      "4fgl (an exception occurred)\n",
      "2fhl (an exception occurred)\n",
      "3fhl (an exception occurred)\n",
      "3hwc (an exception occurred)\n",
      " \n",
      "***\n",
      "LHAASO J2226+6057\n",
      "VER J2227+608\n",
      "gamma-cat (an exception occurred)\n",
      "hgps (an exception occurred)\n",
      "2hwc (an exception occurred)\n",
      "3fgl (an exception occurred)\n",
      "4fgl (an exception occurred)\n",
      "2fhl (an exception occurred)\n",
      "3fhl (an exception occurred)\n",
      "3hwc (an exception occurred)\n",
      "Boomerang\n",
      "gamma-cat (an exception occurred)\n",
      "hgps (an exception occurred)\n",
      "2hwc (an exception occurred)\n",
      "3fgl\n",
      "4fgl\n",
      "2fhl (an exception occurred)\n",
      "3fhl (an exception occurred)\n",
      "3hwc (an exception occurred)\n",
      " \n",
      "***\n"
     ]
    }
   ],
   "source": [
    "base_dir  = \"TeVCounterpart\"\n",
    "child_dir = \"flux_points\"\n",
    "format_file = \".dat\"\n",
    "\n",
    "LHAASO_name = list(TeVCount_dict.keys())[0]\n",
    "src_name =  list(TeVCount_dict.values())[0][2]\n",
    "\n",
    "\n",
    "\n",
    "for i in range(len(TeVCount_dict.keys())):\n",
    "    LHAASO_name = list(TeVCount_dict.keys())[i]\n",
    "    print(f\"{LHAASO_name}\")\n",
    "\n",
    "    for j in range(len(TeVCount_dict[LHAASO_name])):\n",
    "        src_name=TeVCount_dict[LHAASO_name][j]\n",
    "        \n",
    "        LHAASO_id = LHAASO_name.replace(\" \", \"\")\n",
    "        src_id = src_name.replace(\" \", \"\")\n",
    "\n",
    "        print(f\"{src_name}\")\n",
    "        for k in range(len(catalog_tag)): \n",
    "            \n",
    "            try:\n",
    "                cat_name = catalog_tag[k]\n",
    "                cat=CATALOG_REGISTRY.get_cls(cat_name)()\n",
    "                src=cat[src_name]\n",
    "  \n",
    "                ds = FluxPointsDataset(\n",
    "            #             spectral_model=src.spectral_model,\n",
    "                    data=src.flux_points, \n",
    "                    name=cat_name\n",
    "                )\n",
    "                table = ds.data.to_table(sed_type=\"dnde\", formatted=True)\n",
    "\n",
    "\n",
    "\n",
    "#                 file_name = f'{src_id}_{base_dir}_{cat_name}{format_file}'\n",
    "#                 mkdir_base_child(base_dir, child_dir)\n",
    "\n",
    "                path_name = os.path.abspath(os.path.join(f\"{base_dir}/{child_dir}/{file_name}\"))\n",
    "                # print(path_name)\n",
    "                if path_name not in sys.path:\n",
    "                    sys.path.append(path_name)\n",
    "\n",
    "                table.write(f\"{path_name}\",format='ascii.ecsv', overwrite=True)\n",
    "\n",
    "        \n",
    "                print(f\"{catalog_tag[k]}\")\n",
    "\n",
    "            except:\n",
    "                 print(f\"{catalog_tag[k]} (an exception occurred)\")\n",
    "    print(\" \")\n",
    "    print(\"***\")\n"
   ]
  },
  {
   "cell_type": "code",
   "execution_count": 24,
   "id": "0ad2bf8e",
   "metadata": {},
   "outputs": [
    {
     "name": "stdout",
     "output_type": "stream",
     "text": [
      "********An exception occurred: gamma-cat********\n",
      "********An exception occurred: hgps********\n",
      "********An exception occurred: 2hwc********\n",
      "********An exception occurred: 2fhl********\n",
      "********An exception occurred: 3fhl********\n",
      "********An exception occurred: 3hwc********\n"
     ]
    }
   ],
   "source": [
    "    for i  in range(len(catalog_tag)): \n",
    "        try:\n",
    "            cat_name = catalog_tag[i]\n",
    "            cat=CATALOG_REGISTRY.get_cls(cat_name)()\n",
    "            src=cat[src_name]\n",
    "\n",
    "        except:\n",
    "            print(f\"********An exception occurred: {catalog_tag[i]}********\")\n",
    "\n",
    "# for key, value in TeVCount_dict.items():\n",
    "#     LHAASO.append(key)\n",
    "#     TeVCount.append(value)\n",
    "# print(LHAASO, TeVCount)\n",
    "\n",
    "# cat=CATALOG_REGISTRY.get_cls(cat_name)()\n",
    "#         src=cat[src_name]\n",
    "    "
   ]
  },
  {
   "cell_type": "code",
   "execution_count": 25,
   "id": "90e0f7c7",
   "metadata": {},
   "outputs": [
    {
     "name": "stdout",
     "output_type": "stream",
     "text": [
      "['LHAASO J1825-1326'] [['HESS J1825-137', 'HESS J1826-130', '2HWC J1825-134']]\n",
      "['LHAASO J1825-1326', 'LHAASO J1908+0621'] [['HESS J1825-137', 'HESS J1826-130', '2HWC J1825-134'], ['MGRO J1908+06', 'HESS J1908+063', 'ARGO J1907+0627', 'VER J1907+062', '2HWC J1908+063']]\n",
      "['LHAASO J1825-1326', 'LHAASO J1908+0621', 'LHAASO J2226+6057'] [['HESS J1825-137', 'HESS J1826-130', '2HWC J1825-134'], ['MGRO J1908+06', 'HESS J1908+063', 'ARGO J1907+0627', 'VER J1907+062', '2HWC J1908+063'], ['VER J2227+608', 'Boomerang']]\n"
     ]
    }
   ],
   "source": [
    "LHAASO = []\n",
    "TeVCount = []\n",
    "\n",
    "for key, value in TeVCount_dict.items():\n",
    "    LHAASO.append(key)\n",
    "    TeVCount.append(value)\n",
    "\n",
    "    print(LHAASO, TeVCount)"
   ]
  },
  {
   "cell_type": "code",
   "execution_count": 26,
   "id": "de20331a",
   "metadata": {},
   "outputs": [],
   "source": [
    "LHAASO_name = list(TeVCount_dict.keys())[0]\n",
    "src_name =  list(TeVCount_dict.values())[0][1]\n",
    "\n",
    "LHAASO_id = LHAASO_name.replace(\" \", \"\")\n",
    "src_id = src_name.replace(\" \", \"\")"
   ]
  },
  {
   "cell_type": "code",
   "execution_count": 27,
   "id": "918ebb8a",
   "metadata": {},
   "outputs": [
    {
     "data": {
      "text/plain": [
       "('LHAASO J1825-1326', 'LHAASOJ1825-1326')"
      ]
     },
     "execution_count": 27,
     "metadata": {},
     "output_type": "execute_result"
    }
   ],
   "source": [
    "LHAASO_name, LHAASO_id"
   ]
  },
  {
   "cell_type": "code",
   "execution_count": 28,
   "id": "57955919",
   "metadata": {},
   "outputs": [
    {
     "data": {
      "text/plain": [
       "('HESS J1826-130', 'HESSJ1826-130')"
      ]
     },
     "execution_count": 28,
     "metadata": {},
     "output_type": "execute_result"
    }
   ],
   "source": [
    "src_name, src_id"
   ]
  },
  {
   "cell_type": "code",
   "execution_count": 29,
   "id": "785454df",
   "metadata": {},
   "outputs": [],
   "source": [
    "# CATALOG_REGISTRY.get_cls(\"2hwc\")()[\"HESS J1908+063\"]"
   ]
  },
  {
   "cell_type": "code",
   "execution_count": 30,
   "id": "80f5b1e2",
   "metadata": {},
   "outputs": [
    {
     "name": "stdout",
     "output_type": "stream",
     "text": [
      "********An exception occurred: gamma-cat********\n",
      "********An exception occurred: hgps********\n",
      "********An exception occurred: 2hwc********\n",
      "********An exception occurred: 3fgl********\n",
      "********An exception occurred: 4fgl********\n",
      "********An exception occurred: 2fhl********\n",
      "********An exception occurred: 3fhl********\n",
      "********An exception occurred: 3hwc********\n"
     ]
    }
   ],
   "source": [
    "catalog_tag = [\"gamma-cat\", \"hgps\", \"2hwc\", \"3fgl\", \"4fgl\", \"2fhl\", \"3fhl\", \"3hwc\"] \n",
    "\n",
    "catalog = []\n",
    "catalog_name = []\n",
    "source = []\n",
    "spatial_model = []\n",
    "spectral_model = []\n",
    "sky_model = []\n",
    "dataset = []\n",
    "for i  in range(len(catalog_tag)): \n",
    "    try:\n",
    "        cat_name = catalog_tag[i]\n",
    "        cat=CATALOG_REGISTRY.get_cls(cat_name)()\n",
    "        src=cat[src_name]\n",
    "\n",
    "        ds = FluxPointsDataset(\n",
    "#             spectral_model=src.spectral_model,\n",
    "            data=src.flux_points, \n",
    "            name=cat_name\n",
    "        )\n",
    "        table = ds.data.to_table(sed_type=\"dnde\", formatted=True)\n",
    "        (table)\n",
    "        \n",
    "        base_dir  = \"flux_points\"\n",
    "        child_dir = \"catalog\"\n",
    "        format_file = \".dat\"\n",
    "\n",
    "\n",
    "#         file_name = f'{src_id}_{base_dir}_{cat_name}{format_file}'\n",
    "#         mkdir_base_child(base_dir, child_dir)\n",
    "\n",
    "        path_name = os.path.abspath(os.path.join(f\"{base_dir}/{child_dir}/{file_name}\"))\n",
    "        # print(path_name)\n",
    "        if path_name not in sys.path:\n",
    "            sys.path.append(path_name)\n",
    "\n",
    "        table.write(f\"{path_name}\",format='ascii.ecsv', overwrite=True)\n",
    "\n",
    "        \n",
    "        \n",
    "        catalog.append(cat)\n",
    "        source.append(src)\n",
    "        spectral_model.append(src.spectral_model)\n",
    "        spatial_model.append(src.spatial_model)\n",
    "        sky_model.append(src.sky_model)\n",
    "        catalog_name.append(cat_name)\n",
    "        dataset.append(ds)\n",
    "\n",
    "        \n",
    "    except:\n",
    "        print(f\"********An exception occurred: {catalog_tag[i]}********\")"
   ]
  },
  {
   "cell_type": "code",
   "execution_count": 31,
   "id": "64a4effe",
   "metadata": {},
   "outputs": [
    {
     "data": {
      "text/plain": [
       "[]"
      ]
     },
     "execution_count": 31,
     "metadata": {},
     "output_type": "execute_result"
    }
   ],
   "source": [
    "spectral_model"
   ]
  },
  {
   "cell_type": "code",
   "execution_count": 32,
   "id": "548adf6f",
   "metadata": {},
   "outputs": [
    {
     "ename": "NameError",
     "evalue": "name 'Datasets' is not defined",
     "output_type": "error",
     "traceback": [
      "\u001b[0;31m---------------------------------------------------------------------------\u001b[0m",
      "\u001b[0;31mNameError\u001b[0m                                 Traceback (most recent call last)",
      "Input \u001b[0;32mIn [32]\u001b[0m, in \u001b[0;36m<cell line: 1>\u001b[0;34m()\u001b[0m\n\u001b[0;32m----> 1\u001b[0m dataset \u001b[38;5;241m=\u001b[39m \u001b[43mDatasets\u001b[49m(dataset)\n",
      "\u001b[0;31mNameError\u001b[0m: name 'Datasets' is not defined"
     ]
    }
   ],
   "source": [
    "dataset = Datasets(dataset)"
   ]
  },
  {
   "cell_type": "code",
   "execution_count": null,
   "id": "642bd51a",
   "metadata": {},
   "outputs": [],
   "source": [
    "print_flux()"
   ]
  },
  {
   "cell_type": "code",
   "execution_count": null,
   "id": "129bb366",
   "metadata": {
    "scrolled": true
   },
   "outputs": [],
   "source": [
    "# ax = plt.subplot()\n",
    "# ax.yaxis.set_units(u.Unit(\"TeV cm-2 s-1\"))\n",
    "\n",
    "# kwargs = {\"ax\": ax, \"sed_type\": \"e2dnde\"}\n",
    "\n",
    "# for d in dataset:\n",
    "#     d.data.plot(label=d.name, **kwargs)\n",
    "# energy_bounds = [1e-5, 1e3] * u.TeV\n",
    "# title = f\"{LHAASO_name}:  {src_name}\"\n",
    "# ax.set_title(title)\n",
    "# ax.legend(loc=\"best\")\n",
    "# ax.set_ylim(1e-13, 1e-9)\n",
    "# ax.set_xlim(energy_bounds)\n",
    "# ax.legend()\n",
    "\n",
    "# file_name = LHAASO_id+\"_\"+src_id\n",
    "# plt.savefig(file_name, bbox_inches='tight')\n",
    "# # path_flux = mkdir_base_child(\"analysis\", \"flux_points\")\n",
    "\n",
    "# # plt_savefig(path_flux, \"flux_points\")"
   ]
  },
  {
   "cell_type": "code",
   "execution_count": null,
   "id": "c4070b95",
   "metadata": {},
   "outputs": [],
   "source": []
  },
  {
   "cell_type": "code",
   "execution_count": null,
   "id": "955ad029",
   "metadata": {},
   "outputs": [],
   "source": []
  },
  {
   "cell_type": "code",
   "execution_count": 33,
   "id": "824a3427",
   "metadata": {},
   "outputs": [],
   "source": [
    "from astropy import units as u\n",
    "\n",
    "# %matplotlib inline\n",
    "import matplotlib.pyplot as plt\n",
    "from gammapy.catalog import CATALOG_REGISTRY\n",
    "from gammapy.datasets import Datasets, FluxPointsDataset\n",
    "from gammapy.modeling import Fit\n",
    "from gammapy.modeling.models import (\n",
    "    Models,\n",
    "    ExpCutoffPowerLawSpectralModel,\n",
    "    LogParabolaSpectralModel,\n",
    "    PowerLawSpectralModel,\n",
    "    SkyModel,\n",
    ")"
   ]
  },
  {
   "cell_type": "code",
   "execution_count": 34,
   "id": "779bf3b6",
   "metadata": {},
   "outputs": [],
   "source": [
    "catalog_gammacat = CATALOG_REGISTRY.get_cls(\"gamma-cat\")()\n",
    "catalog_hgps = CATALOG_REGISTRY.get_cls(\"hgps\")()\n",
    "catalog_2hwc = CATALOG_REGISTRY.get_cls(\"2hwc\")()\n",
    "catalog_3fgl = CATALOG_REGISTRY.get_cls(\"3fgl\")()\n",
    "catalog_4fgl = CATALOG_REGISTRY.get_cls(\"4fgl\")()\n",
    "catalog_2fhl = CATALOG_REGISTRY.get_cls(\"2fhl\")()\n",
    "catalog_3fhl = CATALOG_REGISTRY.get_cls(\"3fhl\")()\n",
    "catalog_3hwc = CATALOG_REGISTRY.get_cls(\"3hwc\")()"
   ]
  },
  {
   "cell_type": "code",
   "execution_count": 35,
   "id": "05c5ccf4",
   "metadata": {},
   "outputs": [],
   "source": [
    "source_gammacat = catalog_gammacat[\"HESS J1825-137\"]\n",
    "source_hgps = catalog_hgps[\"HESS J1825-137\"]\n",
    "source_fermi_3fgl = catalog_3fgl[\"HESS J1825-137\"]\n",
    "source_fermi_4fgl = catalog_4fgl[\"HESS J1825-137\"]\n",
    "source_fermi_2fhl = catalog_2fhl[\"HESS J1825-137\"]\n",
    "source_fermi_3fhl = catalog_3fhl[\"HESS J1825-137\"]"
   ]
  },
  {
   "cell_type": "code",
   "execution_count": 36,
   "id": "06abce2a",
   "metadata": {},
   "outputs": [
    {
     "data": {
      "text/html": [
       "<div><i>Table length=11</i>\n",
       "<table id=\"table140113594493344\" class=\"table-striped table-bordered table-condensed\">\n",
       "<thead><tr><th>e_ref</th><th>dnde</th><th>dnde_errp</th><th>dnde_errn</th><th>is_ul</th></tr></thead>\n",
       "<thead><tr><th>TeV</th><th>1 / (cm2 s TeV)</th><th>1 / (cm2 s TeV)</th><th>1 / (cm2 s TeV)</th><th></th></tr></thead>\n",
       "<thead><tr><th>float64</th><th>float64</th><th>float64</th><th>float64</th><th>bool</th></tr></thead>\n",
       "<tr><td>0.278</td><td>3.436e-10</td><td>2.252e-11</td><td>2.252e-11</td><td>False</td></tr>\n",
       "<tr><td>0.430</td><td>1.297e-10</td><td>5.368e-12</td><td>5.365e-12</td><td>False</td></tr>\n",
       "<tr><td>0.692</td><td>4.966e-11</td><td>1.685e-12</td><td>1.683e-12</td><td>False</td></tr>\n",
       "<tr><td>1.114</td><td>1.608e-11</td><td>6.032e-13</td><td>6.023e-13</td><td>False</td></tr>\n",
       "<tr><td>1.793</td><td>5.038e-12</td><td>2.370e-13</td><td>2.366e-13</td><td>False</td></tr>\n",
       "<tr><td>2.888</td><td>1.827e-12</td><td>9.853e-14</td><td>9.828e-14</td><td>False</td></tr>\n",
       "<tr><td>4.653</td><td>5.035e-13</td><td>4.203e-14</td><td>4.191e-14</td><td>False</td></tr>\n",
       "<tr><td>7.502</td><td>1.468e-13</td><td>1.762e-14</td><td>1.755e-14</td><td>False</td></tr>\n",
       "<tr><td>12.084</td><td>5.040e-14</td><td>7.199e-15</td><td>7.153e-15</td><td>False</td></tr>\n",
       "<tr><td>19.466</td><td>1.337e-14</td><td>3.086e-15</td><td>3.059e-15</td><td>False</td></tr>\n",
       "<tr><td>31.386</td><td>2.324e-15</td><td>1.108e-15</td><td>1.093e-15</td><td>False</td></tr>\n",
       "</table></div>"
      ],
      "text/plain": [
       "<Table length=11>\n",
       " e_ref        dnde         dnde_errp       dnde_errn    is_ul\n",
       "  TeV   1 / (cm2 s TeV) 1 / (cm2 s TeV) 1 / (cm2 s TeV)      \n",
       "float64     float64         float64         float64      bool\n",
       "------- --------------- --------------- --------------- -----\n",
       "  0.278       3.436e-10       2.252e-11       2.252e-11 False\n",
       "  0.430       1.297e-10       5.368e-12       5.365e-12 False\n",
       "  0.692       4.966e-11       1.685e-12       1.683e-12 False\n",
       "  1.114       1.608e-11       6.032e-13       6.023e-13 False\n",
       "  1.793       5.038e-12       2.370e-13       2.366e-13 False\n",
       "  2.888       1.827e-12       9.853e-14       9.828e-14 False\n",
       "  4.653       5.035e-13       4.203e-14       4.191e-14 False\n",
       "  7.502       1.468e-13       1.762e-14       1.755e-14 False\n",
       " 12.084       5.040e-14       7.199e-15       7.153e-15 False\n",
       " 19.466       1.337e-14       3.086e-15       3.059e-15 False\n",
       " 31.386       2.324e-15       1.108e-15       1.093e-15 False"
      ]
     },
     "execution_count": 36,
     "metadata": {},
     "output_type": "execute_result"
    }
   ],
   "source": [
    "dataset_gammacat = FluxPointsDataset(data=source_gammacat.flux_points, name=\"gammacat\")\n",
    "dataset_gammacat.data.to_table(sed_type=\"dnde\", formatted=True)"
   ]
  },
  {
   "cell_type": "code",
   "execution_count": 37,
   "id": "501935cb",
   "metadata": {},
   "outputs": [
    {
     "data": {
      "text/html": [
       "<div><i>Table length=6</i>\n",
       "<table id=\"table140113595632272\" class=\"table-striped table-bordered table-condensed\">\n",
       "<thead><tr><th>e_ref</th><th>e_min</th><th>e_max</th><th>dnde</th><th>dnde_errp</th><th>dnde_errn</th><th>dnde_ul</th><th>is_ul</th></tr></thead>\n",
       "<thead><tr><th>TeV</th><th>TeV</th><th>TeV</th><th>1 / (cm2 s TeV)</th><th>1 / (cm2 s TeV)</th><th>1 / (cm2 s TeV)</th><th>1 / (cm2 s TeV)</th><th></th></tr></thead>\n",
       "<thead><tr><th>float64</th><th>float64</th><th>float64</th><th>float64</th><th>float64</th><th>float64</th><th>float64</th><th>bool</th></tr></thead>\n",
       "<tr><td>0.365</td><td>0.237</td><td>0.562</td><td>2.382e-10</td><td>1.654e-11</td><td>1.642e-11</td><td>2.715e-10</td><td>False</td></tr>\n",
       "<tr><td>0.866</td><td>0.562</td><td>1.334</td><td>3.503e-11</td><td>1.954e-12</td><td>1.959e-12</td><td>3.880e-11</td><td>False</td></tr>\n",
       "<tr><td>2.054</td><td>1.334</td><td>3.162</td><td>5.060e-12</td><td>3.169e-13</td><td>3.173e-13</td><td>5.707e-12</td><td>False</td></tr>\n",
       "<tr><td>5.109</td><td>3.162</td><td>8.254</td><td>5.446e-13</td><td>5.658e-14</td><td>5.534e-14</td><td>6.582e-13</td><td>False</td></tr>\n",
       "<tr><td>12.711</td><td>8.254</td><td>19.573</td><td>4.615e-14</td><td>9.701e-15</td><td>9.341e-15</td><td>6.613e-14</td><td>False</td></tr>\n",
       "<tr><td>30.142</td><td>19.573</td><td>46.416</td><td>2.724e-15</td><td>1.646e-15</td><td>1.420e-15</td><td>6.221e-15</td><td>False</td></tr>\n",
       "</table></div>"
      ],
      "text/plain": [
       "<Table length=6>\n",
       " e_ref   e_min   e_max  ...    dnde_errn        dnde_ul     is_ul\n",
       "  TeV     TeV     TeV   ... 1 / (cm2 s TeV) 1 / (cm2 s TeV)      \n",
       "float64 float64 float64 ...     float64         float64      bool\n",
       "------- ------- ------- ... --------------- --------------- -----\n",
       "  0.365   0.237   0.562 ...       1.642e-11       2.715e-10 False\n",
       "  0.866   0.562   1.334 ...       1.959e-12       3.880e-11 False\n",
       "  2.054   1.334   3.162 ...       3.173e-13       5.707e-12 False\n",
       "  5.109   3.162   8.254 ...       5.534e-14       6.582e-13 False\n",
       " 12.711   8.254  19.573 ...       9.341e-15       6.613e-14 False\n",
       " 30.142  19.573  46.416 ...       1.420e-15       6.221e-15 False"
      ]
     },
     "execution_count": 37,
     "metadata": {},
     "output_type": "execute_result"
    }
   ],
   "source": [
    "dataset_hgps = FluxPointsDataset(data=source_hgps.flux_points, name=\"hgps\")\n",
    "dataset_hgps.data.to_table(sed_type=\"dnde\", formatted=True)"
   ]
  },
  {
   "cell_type": "code",
   "execution_count": 38,
   "id": "09880c87",
   "metadata": {},
   "outputs": [
    {
     "data": {
      "text/html": [
       "<div><i>Table length=5</i>\n",
       "<table id=\"table140113540163280\" class=\"table-striped table-bordered table-condensed\">\n",
       "<thead><tr><th>e_ref</th><th>e_min</th><th>e_max</th><th>dnde</th><th>dnde_errp</th><th>dnde_errn</th><th>dnde_ul</th><th>sqrt_ts</th><th>is_ul</th></tr></thead>\n",
       "<thead><tr><th>MeV</th><th>MeV</th><th>MeV</th><th>1 / (cm2 MeV s)</th><th>1 / (cm2 MeV s)</th><th>1 / (cm2 MeV s)</th><th>1 / (cm2 MeV s)</th><th></th><th></th></tr></thead>\n",
       "<thead><tr><th>float64</th><th>float64</th><th>float64</th><th>float64</th><th>float64</th><th>float64</th><th>float64</th><th>float32</th><th>bool</th></tr></thead>\n",
       "<tr><td>173.205</td><td>100.000</td><td>300.000</td><td>1.332e-12</td><td>1.132e-10</td><td>nan</td><td>2.276e-10</td><td>0.000</td><td>True</td></tr>\n",
       "<tr><td>547.723</td><td>300.000</td><td>1000.000</td><td>1.754e-13</td><td>5.458e-12</td><td>nan</td><td>1.109e-11</td><td>0.000</td><td>True</td></tr>\n",
       "<tr><td>1732.051</td><td>1000.000</td><td>3000.000</td><td>5.674e-13</td><td>6.492e-13</td><td>nan</td><td>1.866e-12</td><td>0.791</td><td>True</td></tr>\n",
       "<tr><td>5477.226</td><td>3000.000</td><td>10000.000</td><td>5.019e-13</td><td>7.766e-14</td><td>7.544e-14</td><td>nan</td><td>7.021</td><td>False</td></tr>\n",
       "<tr><td>31622.777</td><td>10000.000</td><td>100000.000</td><td>3.246e-14</td><td>3.337e-15</td><td>3.301e-15</td><td>nan</td><td>11.703</td><td>False</td></tr>\n",
       "</table></div>"
      ],
      "text/plain": [
       "<Table length=5>\n",
       "  e_ref     e_min     e_max    ...     dnde_ul     sqrt_ts is_ul\n",
       "   MeV       MeV       MeV     ... 1 / (cm2 MeV s)              \n",
       " float64   float64   float64   ...     float64     float32  bool\n",
       "--------- --------- ---------- ... --------------- ------- -----\n",
       "  173.205   100.000    300.000 ...       2.276e-10   0.000  True\n",
       "  547.723   300.000   1000.000 ...       1.109e-11   0.000  True\n",
       " 1732.051  1000.000   3000.000 ...       1.866e-12   0.791  True\n",
       " 5477.226  3000.000  10000.000 ...             nan   7.021 False\n",
       "31622.777 10000.000 100000.000 ...             nan  11.703 False"
      ]
     },
     "execution_count": 38,
     "metadata": {},
     "output_type": "execute_result"
    }
   ],
   "source": [
    "dataset_3fgl = FluxPointsDataset(data=source_fermi_3fgl.flux_points, name=\"3fgl\")\n",
    "dataset_3fgl.data.to_table(sed_type=\"dnde\", formatted=True)"
   ]
  },
  {
   "cell_type": "code",
   "execution_count": 39,
   "id": "a60cbbd5",
   "metadata": {},
   "outputs": [
    {
     "data": {
      "text/html": [
       "<div><i>Table length=8</i>\n",
       "<table id=\"table140113540164288\" class=\"table-striped table-bordered table-condensed\">\n",
       "<thead><tr><th>e_ref</th><th>e_min</th><th>e_max</th><th>dnde</th><th>dnde_errp</th><th>dnde_errn</th><th>dnde_ul</th><th>sqrt_ts</th><th>is_ul</th></tr></thead>\n",
       "<thead><tr><th>MeV</th><th>MeV</th><th>MeV</th><th>1 / (cm2 MeV s)</th><th>1 / (cm2 MeV s)</th><th>1 / (cm2 MeV s)</th><th>1 / (cm2 MeV s)</th><th></th><th></th></tr></thead>\n",
       "<thead><tr><th>float64</th><th>float64</th><th>float64</th><th>float64</th><th>float64</th><th>float64</th><th>float64</th><th>float32</th><th>bool</th></tr></thead>\n",
       "<tr><td>70.711</td><td>50.000</td><td>100.000</td><td>6.564e-12</td><td>7.901e-09</td><td>nan</td><td>1.581e-08</td><td>0.000</td><td>True</td></tr>\n",
       "<tr><td>173.205</td><td>100.000</td><td>300.000</td><td>6.940e-12</td><td>5.115e-10</td><td>nan</td><td>1.030e-09</td><td>0.000</td><td>True</td></tr>\n",
       "<tr><td>547.723</td><td>300.000</td><td>1000.000</td><td>1.442e-11</td><td>1.172e-11</td><td>1.191e-11</td><td>nan</td><td>1.215</td><td>False</td></tr>\n",
       "<tr><td>1732.051</td><td>1000.000</td><td>3000.000</td><td>2.664e-12</td><td>5.204e-13</td><td>5.148e-13</td><td>nan</td><td>5.218</td><td>False</td></tr>\n",
       "<tr><td>5477.226</td><td>3000.000</td><td>10000.000</td><td>5.134e-13</td><td>4.646e-14</td><td>4.646e-14</td><td>nan</td><td>11.553</td><td>False</td></tr>\n",
       "<tr><td>17320.508</td><td>10000.000</td><td>30000.000</td><td>7.079e-14</td><td>6.341e-15</td><td>6.341e-15</td><td>nan</td><td>12.197</td><td>False</td></tr>\n",
       "<tr><td>54772.256</td><td>30000.000</td><td>100000.000</td><td>9.974e-15</td><td>9.260e-16</td><td>9.260e-16</td><td>nan</td><td>12.737</td><td>False</td></tr>\n",
       "<tr><td>316227.766</td><td>100000.000</td><td>1000000.000</td><td>3.647e-16</td><td>4.031e-17</td><td>3.856e-17</td><td>nan</td><td>12.315</td><td>False</td></tr>\n",
       "</table></div>"
      ],
      "text/plain": [
       "<Table length=8>\n",
       "  e_ref      e_min       e_max    ...     dnde_ul     sqrt_ts is_ul\n",
       "   MeV        MeV         MeV     ... 1 / (cm2 MeV s)              \n",
       " float64    float64     float64   ...     float64     float32  bool\n",
       "---------- ---------- ----------- ... --------------- ------- -----\n",
       "    70.711     50.000     100.000 ...       1.581e-08   0.000  True\n",
       "   173.205    100.000     300.000 ...       1.030e-09   0.000  True\n",
       "   547.723    300.000    1000.000 ...             nan   1.215 False\n",
       "  1732.051   1000.000    3000.000 ...             nan   5.218 False\n",
       "  5477.226   3000.000   10000.000 ...             nan  11.553 False\n",
       " 17320.508  10000.000   30000.000 ...             nan  12.197 False\n",
       " 54772.256  30000.000  100000.000 ...             nan  12.737 False\n",
       "316227.766 100000.000 1000000.000 ...             nan  12.315 False"
      ]
     },
     "execution_count": 39,
     "metadata": {},
     "output_type": "execute_result"
    }
   ],
   "source": [
    "dataset_4fgl = FluxPointsDataset(data=source_fermi_4fgl.flux_points, name=\"4fgl\")\n",
    "dataset_4fgl.data.to_table(sed_type=\"dnde\", formatted=True)"
   ]
  },
  {
   "cell_type": "code",
   "execution_count": 40,
   "id": "8241d37d",
   "metadata": {},
   "outputs": [
    {
     "data": {
      "text/html": [
       "<div><i>Table length=3</i>\n",
       "<table id=\"table140113540164432\" class=\"table-striped table-bordered table-condensed\">\n",
       "<thead><tr><th>e_ref</th><th>e_min</th><th>e_max</th><th>dnde</th><th>dnde_errp</th><th>dnde_errn</th><th>dnde_ul</th><th>is_ul</th></tr></thead>\n",
       "<thead><tr><th>GeV</th><th>GeV</th><th>GeV</th><th>1 / (cm2 GeV s)</th><th>1 / (cm2 GeV s)</th><th>1 / (cm2 GeV s)</th><th>1 / (cm2 GeV s)</th><th></th></tr></thead>\n",
       "<thead><tr><th>float64</th><th>float64</th><th>float64</th><th>float64</th><th>float64</th><th>float64</th><th>float64</th><th>bool</th></tr></thead>\n",
       "<tr><td>92.466</td><td>50.000</td><td>171.000</td><td>4.244e-12</td><td>4.789e-13</td><td>4.589e-13</td><td>nan</td><td>False</td></tr>\n",
       "<tr><td>316.283</td><td>171.000</td><td>585.000</td><td>4.154e-13</td><td>7.339e-14</td><td>6.709e-14</td><td>nan</td><td>False</td></tr>\n",
       "<tr><td>1081.665</td><td>585.000</td><td>2000.000</td><td>3.700e-14</td><td>1.355e-14</td><td>1.151e-14</td><td>nan</td><td>False</td></tr>\n",
       "</table></div>"
      ],
      "text/plain": [
       "<Table length=3>\n",
       " e_ref    e_min   e_max   ...    dnde_errn        dnde_ul     is_ul\n",
       "  GeV      GeV     GeV    ... 1 / (cm2 GeV s) 1 / (cm2 GeV s)      \n",
       "float64  float64 float64  ...     float64         float64      bool\n",
       "-------- ------- -------- ... --------------- --------------- -----\n",
       "  92.466  50.000  171.000 ...       4.589e-13             nan False\n",
       " 316.283 171.000  585.000 ...       6.709e-14             nan False\n",
       "1081.665 585.000 2000.000 ...       1.151e-14             nan False"
      ]
     },
     "execution_count": 40,
     "metadata": {},
     "output_type": "execute_result"
    }
   ],
   "source": [
    "dataset_2fhl = FluxPointsDataset(data=source_fermi_2fhl.flux_points, name=\"2fhl\")\n",
    "dataset_2fhl.data.to_table(sed_type=\"dnde\", formatted=True)"
   ]
  },
  {
   "cell_type": "code",
   "execution_count": 41,
   "id": "f1afd2f0",
   "metadata": {},
   "outputs": [
    {
     "data": {
      "text/html": [
       "<div><i>Table length=5</i>\n",
       "<table id=\"table140113587886544\" class=\"table-striped table-bordered table-condensed\">\n",
       "<thead><tr><th>e_ref</th><th>e_min</th><th>e_max</th><th>dnde</th><th>dnde_errp</th><th>dnde_errn</th><th>dnde_ul</th><th>sqrt_ts</th><th>is_ul</th></tr></thead>\n",
       "<thead><tr><th>GeV</th><th>GeV</th><th>GeV</th><th>1 / (cm2 GeV s)</th><th>1 / (cm2 GeV s)</th><th>1 / (cm2 GeV s)</th><th>1 / (cm2 GeV s)</th><th></th><th></th></tr></thead>\n",
       "<thead><tr><th>float64</th><th>float64</th><th>float64</th><th>float64</th><th>float64</th><th>float64</th><th>float64</th><th>float32</th><th>bool</th></tr></thead>\n",
       "<tr><td>14.142</td><td>10.000</td><td>20.000</td><td>8.280e-11</td><td>1.246e-11</td><td>1.203e-11</td><td>nan</td><td>7.407</td><td>False</td></tr>\n",
       "<tr><td>31.623</td><td>20.000</td><td>50.000</td><td>2.345e-11</td><td>2.931e-12</td><td>2.892e-12</td><td>nan</td><td>9.344</td><td>False</td></tr>\n",
       "<tr><td>86.603</td><td>50.000</td><td>150.000</td><td>3.823e-12</td><td>5.535e-13</td><td>5.277e-13</td><td>nan</td><td>8.718</td><td>False</td></tr>\n",
       "<tr><td>273.861</td><td>150.000</td><td>500.000</td><td>4.934e-13</td><td>8.687e-14</td><td>8.072e-14</td><td>nan</td><td>8.078</td><td>False</td></tr>\n",
       "<tr><td>1000.000</td><td>500.000</td><td>2000.000</td><td>2.936e-14</td><td>1.121e-14</td><td>1.048e-14</td><td>nan</td><td>3.514</td><td>False</td></tr>\n",
       "</table></div>"
      ],
      "text/plain": [
       "<Table length=5>\n",
       " e_ref    e_min   e_max         dnde      ...     dnde_ul     sqrt_ts is_ul\n",
       "  GeV      GeV     GeV    1 / (cm2 GeV s) ... 1 / (cm2 GeV s)              \n",
       "float64  float64 float64      float64     ...     float64     float32  bool\n",
       "-------- ------- -------- --------------- ... --------------- ------- -----\n",
       "  14.142  10.000   20.000       8.280e-11 ...             nan   7.407 False\n",
       "  31.623  20.000   50.000       2.345e-11 ...             nan   9.344 False\n",
       "  86.603  50.000  150.000       3.823e-12 ...             nan   8.718 False\n",
       " 273.861 150.000  500.000       4.934e-13 ...             nan   8.078 False\n",
       "1000.000 500.000 2000.000       2.936e-14 ...             nan   3.514 False"
      ]
     },
     "execution_count": 41,
     "metadata": {},
     "output_type": "execute_result"
    }
   ],
   "source": [
    "dataset_3fhl = FluxPointsDataset(data=source_fermi_3fhl.flux_points, name=\"3fhl\")\n",
    "dataset_3fhl.data.to_table(sed_type=\"dnde\", formatted=True)"
   ]
  },
  {
   "cell_type": "code",
   "execution_count": 42,
   "id": "3c26976a",
   "metadata": {},
   "outputs": [],
   "source": [
    "pwl = PowerLawSpectralModel(\n",
    "    index=2, amplitude=\"1e-12 cm-2 s-1 TeV-1\", reference=\"1 TeV\"\n",
    ")\n",
    "model = SkyModel(spectral_model=pwl, name=\"j1507-pl\")"
   ]
  },
  {
   "cell_type": "code",
   "execution_count": 43,
   "id": "aa0f5058",
   "metadata": {},
   "outputs": [
    {
     "name": "stdout",
     "output_type": "stream",
     "text": [
      "Datasets\n",
      "--------\n",
      "\n",
      "Dataset 0: \n",
      "\n",
      "  Type       : FluxPointsDataset\n",
      "  Name       : gammacat\n",
      "  Instrument : \n",
      "  Models     : ['j1507-pl']\n",
      "\n",
      "Dataset 1: \n",
      "\n",
      "  Type       : FluxPointsDataset\n",
      "  Name       : hgps\n",
      "  Instrument : \n",
      "  Models     : ['j1507-pl']\n",
      "\n",
      "Dataset 2: \n",
      "\n",
      "  Type       : FluxPointsDataset\n",
      "  Name       : 3fgl\n",
      "  Instrument : \n",
      "  Models     : ['j1507-pl']\n",
      "\n",
      "Dataset 3: \n",
      "\n",
      "  Type       : FluxPointsDataset\n",
      "  Name       : 4fgl\n",
      "  Instrument : \n",
      "  Models     : ['j1507-pl']\n",
      "\n",
      "Dataset 4: \n",
      "\n",
      "  Type       : FluxPointsDataset\n",
      "  Name       : 2fhl\n",
      "  Instrument : \n",
      "  Models     : ['j1507-pl']\n",
      "\n",
      "Dataset 5: \n",
      "\n",
      "  Type       : FluxPointsDataset\n",
      "  Name       : 3fhl\n",
      "  Instrument : \n",
      "  Models     : ['j1507-pl']\n",
      "\n",
      "\n"
     ]
    }
   ],
   "source": [
    "datasets = Datasets([dataset_gammacat, dataset_hgps, dataset_3fgl,dataset_4fgl,dataset_2fhl, dataset_3fhl])\n",
    "datasets.models = model\n",
    "print(datasets)\n",
    "\n",
    "fitter = Fit()\n",
    "result_pwl = fitter.run(datasets=datasets)"
   ]
  },
  {
   "cell_type": "code",
   "execution_count": 44,
   "id": "e345d744",
   "metadata": {},
   "outputs": [
    {
     "name": "stdout",
     "output_type": "stream",
     "text": [
      "OptimizeResult\n",
      "\n",
      "\tbackend    : minuit\n",
      "\tmethod     : migrad\n",
      "\tsuccess    : True\n",
      "\tmessage    : Optimization terminated successfully.\n",
      "\tnfev       : 91\n",
      "\ttotal stat : 895.83\n",
      "\n",
      "CovarianceResult\n",
      "\n",
      "\tbackend    : minuit\n",
      "\tmethod     : hesse\n",
      "\tsuccess    : True\n",
      "\tmessage    : Hesse terminated successfully.\n",
      "\n",
      "SkyModel\n",
      "\n",
      "  Name                      : j1507-pl\n",
      "  Datasets names            : None\n",
      "  Spectral model type       : PowerLawSpectralModel\n",
      "  Spatial  model type       : \n",
      "  Temporal model type       : \n",
      "  Parameters:\n",
      "    index                         :      2.064   +/-    0.00             \n",
      "    amplitude                     :   1.59e-11   +/- 2.4e-13 1 / (cm2 s TeV)\n",
      "    reference             (frozen):      1.000       TeV         \n",
      "\n",
      "\n"
     ]
    }
   ],
   "source": [
    "print(result_pwl)\n",
    "\n",
    "print(model)"
   ]
  },
  {
   "cell_type": "code",
   "execution_count": 45,
   "id": "1ef58fb9",
   "metadata": {},
   "outputs": [
    {
     "data": {
      "image/png": "[encoded data removed]",
      "text/plain": [
       "<Figure size 640x480 with 1 Axes>"
      ]
     },
     "metadata": {},
     "output_type": "display_data"
    }
   ],
   "source": [
    "ax = plt.subplot()\n",
    "ax.yaxis.set_units(u.Unit(\"TeV cm-2 s-1\"))\n",
    "\n",
    "kwargs = {\"ax\": ax, \"sed_type\": \"e2dnde\"}\n",
    "\n",
    "for d in datasets:\n",
    "    d.data.plot(label=d.name, **kwargs)\n",
    "\n",
    "energy_bounds = [1e-5, 1e2] * u.TeV\n",
    "pwl.plot(energy_bounds=energy_bounds, color=\"k\", **kwargs)\n",
    "pwl.plot_error(energy_bounds=energy_bounds, **kwargs)\n",
    "ax.set_ylim(1e-13, 1e-9)\n",
    "ax.set_xlim(energy_bounds)\n",
    "ax.legend()\n",
    "plt.show()"
   ]
  },
  {
   "cell_type": "code",
   "execution_count": 46,
   "id": "109cbb2b",
   "metadata": {},
   "outputs": [
    {
     "data": {
      "image/png": "[encoded data removed]",
      "text/plain": [
       "<Figure size 640x480 with 1 Axes>"
      ]
     },
     "metadata": {},
     "output_type": "display_data"
    }
   ],
   "source": [
    "log_parabola = LogParabolaSpectralModel(\n",
    "    alpha=2, amplitude=\"1e-12 cm-2 s-1 TeV-1\", reference=\"1 TeV\", beta=0.1\n",
    ")\n",
    "model = SkyModel(spectral_model=log_parabola, name=\"j1507-lp\")\n",
    "\n",
    "datasets.models = model\n",
    "result_log_parabola = fitter.run(datasets=datasets)\n",
    "# print(model)\n",
    "# print(result_log_parabola)\n",
    "ax = plt.subplot()\n",
    "\n",
    "kwargs = {\"ax\": ax, \"sed_type\": \"e2dnde\"}\n",
    "\n",
    "ax.yaxis.set_units(u.Unit(\"TeV cm-2 s-1\"))\n",
    "\n",
    "for d in datasets:\n",
    "    d.data.plot(label=d.name, **kwargs)\n",
    "energy_bounds = [1e-5, 1e3] * u.TeV\n",
    "\n",
    "log_parabola.plot(energy_bounds=energy_bounds, color=\"k\", **kwargs, label=\"LogParabola\")\n",
    "log_parabola.plot_error(energy_bounds=energy_bounds, **kwargs)\n",
    "ax.set_ylim(1e-13, 1e-9)\n",
    "ax.set_xlim(energy_bounds)\n",
    "ax.legend(loc=1)\n",
    "plt.title(\"LHAASOJ1825-1326: HESSJ1825-137\")\n",
    "\n",
    "plt.savefig(\"LHAASOJ1825-1326_HESSJ1825-137_fit\", bbox_inches='tight')\n",
    "plt.show()\n"
   ]
  },
  {
   "cell_type": "code",
   "execution_count": 47,
   "id": "ff4545d1",
   "metadata": {},
   "outputs": [
    {
     "data": {
      "text/plain": [
       "<bound method Parameters.to_table of <gammapy.modeling.parameter.Parameters object at 0x7f6ebc0344f0>>"
      ]
     },
     "execution_count": 47,
     "metadata": {},
     "output_type": "execute_result"
    }
   ],
   "source": [
    "(result_log_parabola.parameters.to_table)"
   ]
  },
  {
   "cell_type": "code",
   "execution_count": 48,
   "id": "83c01054",
   "metadata": {},
   "outputs": [
    {
     "data": {
      "text/plain": [
       "str"
      ]
     },
     "execution_count": 48,
     "metadata": {},
     "output_type": "execute_result"
    }
   ],
   "source": [
    "models = Models([model])\n",
    "\n",
    "type(models.to_yaml())"
   ]
  },
  {
   "cell_type": "code",
   "execution_count": 49,
   "id": "740be55c",
   "metadata": {},
   "outputs": [
    {
     "name": "stdout",
     "output_type": "stream",
     "text": [
      " model     type      name     value    ... max frozen is_norm link\n",
      "-------- -------- --------- ---------- ... --- ------ ------- ----\n",
      "j1507-lp spectral amplitude 2.1633e-11 ... nan  False    True     \n",
      "j1507-lp spectral reference 1.0000e+00 ... nan   True   False     \n",
      "j1507-lp spectral     alpha 2.2939e+00 ... nan  False   False     \n",
      "j1507-lp spectral      beta 7.0589e-02 ... nan  False   False     \n"
     ]
    }
   ],
   "source": [
    "print(models.to_parameters_table())"
   ]
  },
  {
   "cell_type": "code",
   "execution_count": 50,
   "id": "ed38f578",
   "metadata": {},
   "outputs": [],
   "source": [
    "Texttable = models.to_parameters_table()[\"name\",\"value\", \"error\", \"unit\"]"
   ]
  },
  {
   "cell_type": "code",
   "execution_count": null,
   "id": "5928c2ac",
   "metadata": {
    "scrolled": false
   },
   "outputs": [],
   "source": [
    "headers=Texttable.colnames"
   ]
  },
  {
   "cell_type": "code",
   "execution_count": null,
   "id": "68ab1e94",
   "metadata": {},
   "outputs": [],
   "source": [
    "print(tabulate(Texttable,headers=headers,tablefmt=\"latex\", floatfmt=\".3e\"))"
   ]
  },
  {
   "cell_type": "code",
   "execution_count": null,
   "id": "09bfabfa",
   "metadata": {},
   "outputs": [],
   "source": [
    "help(tabulate)"
   ]
  },
  {
   "cell_type": "code",
   "execution_count": null,
   "id": "55fb27c5",
   "metadata": {},
   "outputs": [],
   "source": [
    "table=Texttable\n",
    "df = pd.DataFrame(table.to_pandas)\n",
    "print(df)"
   ]
  },
  {
   "cell_type": "code",
   "execution_count": null,
   "id": "6ae4d6bb",
   "metadata": {},
   "outputs": [],
   "source": [
    "print(df.to_latex(index=False))"
   ]
  },
  {
   "cell_type": "code",
   "execution_count": null,
   "id": "eacdea6c",
   "metadata": {},
   "outputs": [],
   "source": [
    "from tabulate import tabulate\n",
    "print('Tabulate Table:')\n",
    "print(tabulate(Texttable, headers='firstrow'))\n",
    "table = Texttable()\n",
    "table.set_cols_align([\"c\"] * 4)\n",
    "table.set_deco(Texttable.HEADER | Texttable.VLINES)\n",
    "print('\\nTexttable Table:')\n",
    "print(table.draw())"
   ]
  },
  {
   "cell_type": "code",
   "execution_count": null,
   "id": "37444d49",
   "metadata": {},
   "outputs": [],
   "source": [
    "models.write(\"models.yaml\", overwrite=True)"
   ]
  },
  {
   "cell_type": "code",
   "execution_count": null,
   "id": "7131aa2f",
   "metadata": {},
   "outputs": [],
   "source": [
    "models_read = Models.read(\"models.yaml\")"
   ]
  },
  {
   "cell_type": "code",
   "execution_count": null,
   "id": "17b7620c",
   "metadata": {},
   "outputs": [],
   "source": [
    "type(models_read)"
   ]
  },
  {
   "cell_type": "code",
   "execution_count": null,
   "id": "5d22e824",
   "metadata": {},
   "outputs": [],
   "source": [
    "models.write(\"models.yaml\", overwrite=True)\n",
    "\n",
    "models_read = Models.read(\"models.yaml\")"
   ]
  },
  {
   "cell_type": "code",
   "execution_count": null,
   "id": "5773a922",
   "metadata": {},
   "outputs": [],
   "source": [
    "print(models_read)"
   ]
  },
  {
   "cell_type": "code",
   "execution_count": null,
   "id": "caaaa558",
   "metadata": {},
   "outputs": [],
   "source": [
    "import yaml\n",
    "from pprint import pprint\n",
    "# convert yaml document to dict\n",
    "data = yaml.load(models.to_yaml(), Loader=yaml.Loader)\n",
    "print(data)\n"
   ]
  },
  {
   "cell_type": "code",
   "execution_count": null,
   "id": "ebf028e2",
   "metadata": {},
   "outputs": [],
   "source": [
    "df = pd.DataFrame(data) \n",
    "display(df) "
   ]
  },
  {
   "cell_type": "code",
   "execution_count": null,
   "id": "9ae15e96",
   "metadata": {},
   "outputs": [],
   "source": [
    "# dfi.export(ff, 'TeVCounterpart/flux_points/flux_pointss.png')"
   ]
  },
  {
   "cell_type": "code",
   "execution_count": null,
   "id": "c1b7c256",
   "metadata": {},
   "outputs": [],
   "source": [
    "help(FluxPointsDataset)"
   ]
  },
  {
   "cell_type": "code",
   "execution_count": null,
   "id": "570eea74",
   "metadata": {},
   "outputs": [],
   "source": [
    "catalog_tag = [\"gamma-cat\", \"hgps\", \"2hwc\", \"3fgl\", \"4fgl\", \"2fhl\", \"3fhl\", \"3hwc\"] \n",
    "lst=[]\n",
    "ds_lst = []\n",
    "for i in range(len(TeVCount_dict.keys())):\n",
    "    LHAASO = list(TeVCount_dict.keys())[i]\n",
    "\n",
    "    for j in range(len(TeVCount_dict[LHAASO])):\n",
    "        cat_off = []\n",
    "        cat_on = []\n",
    "        \n",
    "        pf_off = []\n",
    "        pf_on = []\n",
    "        ds_j=[]\n",
    "        TeVCount=TeVCount_dict[LHAASO][j]\n",
    "\n",
    "        for k in range(len(catalog_tag)): \n",
    "            cat_name = catalog_tag[k]\n",
    "            \n",
    "            try:\n",
    "                cat=CATALOG_REGISTRY.get_cls(cat_name)()\n",
    "                src=cat[TeVCount]\n",
    "                cat_on.append(catalog_tag[k])\n",
    "                \n",
    "                ds = FluxPointsDataset(\n",
    "                    data=src.flux_points, \n",
    "                    name=cat_name\n",
    "                )\n",
    "                ds_j.append(ds)\n",
    "                pf_on.append(catalog_tag[k])\n",
    "            except:\n",
    "                cat_off.append(catalog_tag[k])\n",
    "\n",
    "            lst_k=[LHAASO, TeVCount, cat_on, pf_on]\n",
    "        lst.append(lst_k)\n",
    "        ds_lst.append(ds_j)\n",
    "import pandas as pd \n",
    "# List1 \n",
    "# lst = [['apple', 'red', 11], ['grape', 'green', 22], ['orange', 'orange', 33], ['mango', 'yellow', 44]] \n",
    "df = pd.DataFrame(lst, columns =['LHAASO', 'Conterpart', 'Catalog', 'Flux Points']) \n",
    "display(df) "
   ]
  },
  {
   "cell_type": "code",
   "execution_count": null,
   "id": "f0f740be",
   "metadata": {},
   "outputs": [],
   "source": [
    "type(src.flux_points)"
   ]
  },
  {
   "cell_type": "code",
   "execution_count": null,
   "id": "3eacd0e2",
   "metadata": {},
   "outputs": [],
   "source": [
    "(ds_lst)"
   ]
  },
  {
   "cell_type": "code",
   "execution_count": null,
   "id": "f8f5feb4",
   "metadata": {},
   "outputs": [],
   "source": [
    "print(ds_lst[1][0].data.iter_by_axis)"
   ]
  },
  {
   "cell_type": "code",
   "execution_count": null,
   "id": "7f754988",
   "metadata": {},
   "outputs": [],
   "source": [
    "ds_lst[0][0].data.sqrt_ts_threshold_ul"
   ]
  },
  {
   "cell_type": "code",
   "execution_count": null,
   "id": "6920e241",
   "metadata": {},
   "outputs": [],
   "source": [
    "print(ds_lst[1][0].data.energy_max)"
   ]
  },
  {
   "cell_type": "code",
   "execution_count": null,
   "id": "45d77b85",
   "metadata": {},
   "outputs": [],
   "source": [
    "datasets = Datasets(ds_lst[1])\n",
    "datasets.models = model\n",
    "print(datasets)\n",
    "\n",
    "fitter = Fit()\n",
    "result_pwl = fitter.run(datasets=datasets)"
   ]
  },
  {
   "cell_type": "code",
   "execution_count": null,
   "id": "36674404",
   "metadata": {},
   "outputs": [],
   "source": [
    "ecpl = ExpCutoffPowerLawSpectralModel(\n",
    "    index=1.8,\n",
    "    amplitude=\"2e-12 cm-2 s-1 TeV-1\",\n",
    "    reference=\"1 TeV\",\n",
    "    lambda_=\"0.1 TeV-1\",\n",
    ")\n",
    "model = SkyModel(spectral_model=ecpl, name=\"j1507-ecpl\")\n",
    "\n",
    "datasets.models = model\n",
    "result_log_parabola = fitter.run(datasets=datasets)\n",
    "# print(model)\n",
    "# print(result_log_parabola)\n",
    "ax = plt.subplot()\n",
    "\n",
    "kwargs = {\"ax\": ax, \"sed_type\": \"e2dnde\"}\n",
    "\n",
    "ax.yaxis.set_units(u.Unit(\"TeV cm-2 s-1\"))\n",
    "\n",
    "for d in datasets:\n",
    "    d.data.plot(label=d.name, **kwargs)\n",
    "energy_bounds = [1e-5, 1e3] * u.TeV\n",
    "\n",
    "ecpl.plot(energy_bounds=energy_bounds, color=\"k\", **kwargs, label=\"LogParabola\")\n",
    "ecpl.plot_error(energy_bounds=energy_bounds, **kwargs)\n",
    "ax.set_ylim(1e-13, 1e-9)\n",
    "ax.set_xlim(energy_bounds)\n",
    "ax.legend(loc=1)\n",
    "plt.title(\"LHAASOJ1825-1326: HESSJ1825-137\")\n",
    "\n",
    "plt.savefig(\"LHAASOJ1825-1326_HESSJ1825-137_fit\", bbox_inches='tight')\n",
    "plt.show()\n"
   ]
  },
  {
   "cell_type": "code",
   "execution_count": null,
   "id": "92819fb9",
   "metadata": {},
   "outputs": [],
   "source": [
    "datasets.slice_by_energy(1e3* u.TeV,  1e-2* u.TeV )"
   ]
  },
  {
   "cell_type": "code",
   "execution_count": null,
   "id": "e82b3785",
   "metadata": {},
   "outputs": [],
   "source": [
    "src.data['ASSOC_GAM2']"
   ]
  },
  {
   "cell_type": "code",
   "execution_count": null,
   "id": "63f2181b",
   "metadata": {},
   "outputs": [],
   "source": [
    "import numpy as np\n",
    "from astropy import units as u\n",
    "from astropy.table import Table\n",
    "from gammapy.estimators import FluxPoints\n",
    "from gammapy.modeling.models import PowerLawSpectralModel\n",
    "table = Table()\n",
    "pwl = PowerLawSpectralModel()\n",
    "e_ref = np.geomspace(1, 100, 7) * u.TeV\n",
    "table[\"e_ref\"] = e_ref\n",
    "table[\"dnde\"] = pwl(e_ref)\n",
    "table[\"dnde_err\"] = pwl.evaluate_error(e_ref)[0]\n",
    "table.meta[\"SED_TYPE\"] = \"dnde\"\n",
    "flux_points = FluxPoints.from_table(table)\n",
    "flux_points.plot(sed_type=\"flux\") "
   ]
  },
  {
   "cell_type": "code",
   "execution_count": null,
   "id": "ee734c10",
   "metadata": {},
   "outputs": [],
   "source": []
  }
 ],
 "metadata": {
  "kernelspec": {
   "display_name": "Python 3 (ipykernel)",
   "language": "python",
   "name": "python3"
  },
  "language_info": {
   "codemirror_mode": {
    "name": "ipython",
    "version": 3
   },
   "file_extension": ".py",
   "mimetype": "text/x-python",
   "name": "python",
   "nbconvert_exporter": "python",
   "pygments_lexer": "ipython3",
   "version": "3.9.15"
  }
 },
 "nbformat": 4,
 "nbformat_minor": 5
}
