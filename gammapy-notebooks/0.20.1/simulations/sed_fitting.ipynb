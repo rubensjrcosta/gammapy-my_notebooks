{
 "cells": [
  {
   "cell_type": "code",
   "execution_count": 1,
   "metadata": {},
   "outputs": [],
   "source": [
    "%matplotlib inline"
   ]
  },
  {
   "cell_type": "markdown",
   "metadata": {},
   "source": [
    "\n",
    "# Flux point fitting\n",
    "\n",
    "Fit spectral models to combined Fermi-LAT and IACT flux points tables.\n",
    "\n",
    "\n",
    "## Prerequisites\n",
    "\n",
    "-  Some knowledge about retrieving information from catalogs,\n",
    " see :doc:`/tutorials/api/catalog` tutorial.\n",
    "\n",
    "## Context\n",
    "\n",
    "Some high level studies do not rely on reduced datasets with their IRFs\n",
    "but directly on higher level products such as flux points. This is not\n",
    "ideal because flux points already contain some hypothesis for the\n",
    "underlying spectral shape and the uncertainties they carry are usually\n",
    "simplified (e.g. symmetric gaussian errors). Yet, this is an efficient\n",
    "way to combine heterogeneous data.\n",
    "\n",
    "**Objective: fit spectral models to combined Fermi-LAT and IACT flux\n",
    "points.**\n",
    "\n",
    "## Proposed approach\n",
    "\n",
    "Here we will load, the spectral points from Fermi-LAT and TeV catalogs\n",
    "and fit them with various spectral models to find the best\n",
    "representation of the wide band spectrum.\n",
    "\n",
    "The central class we’re going to use for this example analysis is:\n",
    "\n",
    "-  `~gammapy.datasets.FluxPointsDataset`\n",
    "\n",
    "In addition we will work with the following data classes:\n",
    "\n",
    "-  `~gammapy.estimators.FluxPoints`\n",
    "-  `~gammapy.catalog.SourceCatalogGammaCat`\n",
    "-  `~gammapy.catalog.SourceCatalog3FHL`\n",
    "-  `~gammapy.catalog.SourceCatalog3FGL`\n",
    "\n",
    "And the following spectral model classes:\n",
    "\n",
    "-  `~gammapy.modeling.models.PowerLawSpectralModel`\n",
    "-  `~gammapy.modeling.models.ExpCutoffPowerLawSpectralModel`\n",
    "-  `~gammapy.modeling.models.LogParabolaSpectralModel`\n"
   ]
  },
  {
   "cell_type": "markdown",
   "metadata": {},
   "source": [
    "## Setup\n",
    "\n",
    "Let us start with the usual IPython notebook and Python imports:\n",
    "\n",
    "\n"
   ]
  },
  {
   "cell_type": "code",
   "execution_count": 2,
   "metadata": {},
   "outputs": [],
   "source": [
    "from astropy import units as u\n",
    "\n",
    "# %matplotlib inline\n",
    "import matplotlib.pyplot as plt\n",
    "from gammapy.catalog import CATALOG_REGISTRY\n",
    "from gammapy.datasets import Datasets, FluxPointsDataset\n",
    "from gammapy.modeling import Fit\n",
    "from gammapy.modeling.models import (\n",
    "    ExpCutoffPowerLawSpectralModel,\n",
    "    LogParabolaSpectralModel,\n",
    "    PowerLawSpectralModel,\n",
    "    SkyModel,\n",
    ")"
   ]
  },
  {
   "cell_type": "markdown",
   "metadata": {},
   "source": [
    "## Load spectral points\n",
    "\n",
    "For this analysis we choose to work with the source ‘HESS J1507-622’ and\n",
    "the associated Fermi-LAT sources ‘3FGL J1506.6-6219’ and ‘3FHL\n",
    "J1507.9-6228e’. We load the source catalogs, and then access source of\n",
    "interest by name:\n",
    "\n",
    "\n"
   ]
  },
  {
   "cell_type": "code",
   "execution_count": 3,
   "metadata": {},
   "outputs": [],
   "source": [
    "catalog_3fgl = CATALOG_REGISTRY.get_cls(\"3fgl\")()\n",
    "catalog_3fhl = CATALOG_REGISTRY.get_cls(\"3fhl\")()\n",
    "catalog_gammacat = CATALOG_REGISTRY.get_cls(\"gamma-cat\")()\n",
    "\n",
    "source_fermi_3fgl = catalog_3fgl[\"3FGL J1506.6-6219\"]\n",
    "source_fermi_3fhl = catalog_3fhl[\"3FHL J1507.9-6228e\"]\n",
    "source_gammacat = catalog_gammacat[\"HESS J1507-622\"]"
   ]
  },
  {
   "cell_type": "markdown",
   "metadata": {},
   "source": [
    "The corresponding flux points data can be accessed with ``.flux_points``\n",
    "attribute:\n",
    "\n",
    "\n"
   ]
  },
  {
   "cell_type": "code",
   "execution_count": 13,
   "metadata": {},
   "outputs": [
    {
     "data": {
      "text/html": [
       "<div><i>Table length=6</i>\n",
       "<table id=\"table139853828812752\" class=\"table-striped table-bordered table-condensed\">\n",
       "<thead><tr><th>e_ref</th><th>dnde</th><th>dnde_errp</th><th>dnde_errn</th><th>is_ul</th></tr></thead>\n",
       "<thead><tr><th>TeV</th><th>1 / (cm2 s TeV)</th><th>1 / (cm2 s TeV)</th><th>1 / (cm2 s TeV)</th><th></th></tr></thead>\n",
       "<thead><tr><th>float64</th><th>float64</th><th>float64</th><th>float64</th><th>bool</th></tr></thead>\n",
       "<tr><td>0.861</td><td>2.291e-12</td><td>8.955e-13</td><td>8.705e-13</td><td>False</td></tr>\n",
       "<tr><td>1.562</td><td>6.982e-13</td><td>2.304e-13</td><td>2.204e-13</td><td>False</td></tr>\n",
       "<tr><td>2.764</td><td>1.691e-13</td><td>7.188e-14</td><td>6.759e-14</td><td>False</td></tr>\n",
       "<tr><td>4.892</td><td>7.729e-14</td><td>2.607e-14</td><td>2.401e-14</td><td>False</td></tr>\n",
       "<tr><td>9.989</td><td>1.033e-14</td><td>5.642e-15</td><td>5.063e-15</td><td>False</td></tr>\n",
       "<tr><td>27.040</td><td>7.450e-16</td><td>7.260e-16</td><td>5.721e-16</td><td>False</td></tr>\n",
       "</table></div>"
      ],
      "text/plain": [
       "<Table length=6>\n",
       " e_ref        dnde         dnde_errp       dnde_errn    is_ul\n",
       "  TeV   1 / (cm2 s TeV) 1 / (cm2 s TeV) 1 / (cm2 s TeV)      \n",
       "float64     float64         float64         float64      bool\n",
       "------- --------------- --------------- --------------- -----\n",
       "  0.861       2.291e-12       8.955e-13       8.705e-13 False\n",
       "  1.562       6.982e-13       2.304e-13       2.204e-13 False\n",
       "  2.764       1.691e-13       7.188e-14       6.759e-14 False\n",
       "  4.892       7.729e-14       2.607e-14       2.401e-14 False\n",
       "  9.989       1.033e-14       5.642e-15       5.063e-15 False\n",
       " 27.040       7.450e-16       7.260e-16       5.721e-16 False"
      ]
     },
     "execution_count": 13,
     "metadata": {},
     "output_type": "execute_result"
    }
   ],
   "source": [
    "dataset_gammacat = FluxPointsDataset(data=source_gammacat.flux_points, name=\"gammacat\")\n",
    "dataset_gammacat.data.to_table(sed_type=\"dnde\", formatted=True)"
   ]
  },
  {
   "cell_type": "code",
   "execution_count": 14,
   "metadata": {},
   "outputs": [
    {
     "data": {
      "text/html": [
       "<div><i>Table length=5</i>\n",
       "<table id=\"table139853832140208\" class=\"table-striped table-bordered table-condensed\">\n",
       "<thead><tr><th>e_ref</th><th>e_min</th><th>e_max</th><th>dnde</th><th>dnde_errp</th><th>dnde_errn</th><th>dnde_ul</th><th>sqrt_ts</th><th>is_ul</th></tr></thead>\n",
       "<thead><tr><th>MeV</th><th>MeV</th><th>MeV</th><th>1 / (cm2 MeV s)</th><th>1 / (cm2 MeV s)</th><th>1 / (cm2 MeV s)</th><th>1 / (cm2 MeV s)</th><th></th><th></th></tr></thead>\n",
       "<thead><tr><th>float64</th><th>float64</th><th>float64</th><th>float64</th><th>float64</th><th>float64</th><th>float64</th><th>float32</th><th>bool</th></tr></thead>\n",
       "<tr><td>173.205</td><td>100.000</td><td>300.000</td><td>1.798e-10</td><td>5.566e-11</td><td>5.710e-11</td><td>nan</td><td>2.843</td><td>False</td></tr>\n",
       "<tr><td>547.723</td><td>300.000</td><td>1000.000</td><td>2.171e-13</td><td>1.689e-12</td><td>nan</td><td>3.595e-12</td><td>0.000</td><td>True</td></tr>\n",
       "<tr><td>1732.051</td><td>1000.000</td><td>3000.000</td><td>2.528e-13</td><td>1.058e-13</td><td>9.991e-14</td><td>nan</td><td>2.661</td><td>False</td></tr>\n",
       "<tr><td>5477.226</td><td>3000.000</td><td>10000.000</td><td>2.654e-14</td><td>8.936e-15</td><td>7.932e-15</td><td>nan</td><td>4.265</td><td>False</td></tr>\n",
       "<tr><td>31622.777</td><td>10000.000</td><td>100000.000</td><td>1.274e-15</td><td>4.237e-16</td><td>3.658e-16</td><td>nan</td><td>5.774</td><td>False</td></tr>\n",
       "</table></div>"
      ],
      "text/plain": [
       "<Table length=5>\n",
       "  e_ref     e_min     e_max          dnde         dnde_errp       dnde_errn        dnde_ul     sqrt_ts is_ul\n",
       "   MeV       MeV       MeV     1 / (cm2 MeV s) 1 / (cm2 MeV s) 1 / (cm2 MeV s) 1 / (cm2 MeV s)              \n",
       " float64   float64   float64       float64         float64         float64         float64     float32  bool\n",
       "--------- --------- ---------- --------------- --------------- --------------- --------------- ------- -----\n",
       "  173.205   100.000    300.000       1.798e-10       5.566e-11       5.710e-11             nan   2.843 False\n",
       "  547.723   300.000   1000.000       2.171e-13       1.689e-12             nan       3.595e-12   0.000  True\n",
       " 1732.051  1000.000   3000.000       2.528e-13       1.058e-13       9.991e-14             nan   2.661 False\n",
       " 5477.226  3000.000  10000.000       2.654e-14       8.936e-15       7.932e-15             nan   4.265 False\n",
       "31622.777 10000.000 100000.000       1.274e-15       4.237e-16       3.658e-16             nan   5.774 False"
      ]
     },
     "execution_count": 14,
     "metadata": {},
     "output_type": "execute_result"
    }
   ],
   "source": [
    "dataset_3fgl = FluxPointsDataset(data=source_fermi_3fgl.flux_points, name=\"3fgl\")\n",
    "dataset_3fgl.data.to_table(sed_type=\"dnde\", formatted=True)"
   ]
  },
  {
   "cell_type": "code",
   "execution_count": 15,
   "metadata": {},
   "outputs": [
    {
     "data": {
      "text/html": [
       "<div><i>Table length=5</i>\n",
       "<table id=\"table139854084159808\" class=\"table-striped table-bordered table-condensed\">\n",
       "<thead><tr><th>e_ref</th><th>e_min</th><th>e_max</th><th>dnde</th><th>dnde_errp</th><th>dnde_errn</th><th>dnde_ul</th><th>sqrt_ts</th><th>is_ul</th></tr></thead>\n",
       "<thead><tr><th>GeV</th><th>GeV</th><th>GeV</th><th>1 / (cm2 GeV s)</th><th>1 / (cm2 GeV s)</th><th>1 / (cm2 GeV s)</th><th>1 / (cm2 GeV s)</th><th></th><th></th></tr></thead>\n",
       "<thead><tr><th>float64</th><th>float64</th><th>float64</th><th>float64</th><th>float64</th><th>float64</th><th>float64</th><th>float32</th><th>bool</th></tr></thead>\n",
       "<tr><td>14.142</td><td>10.000</td><td>20.000</td><td>9.288e-12</td><td>2.343e-12</td><td>2.128e-12</td><td>nan</td><td>5.660</td><td>False</td></tr>\n",
       "<tr><td>31.623</td><td>20.000</td><td>50.000</td><td>2.777e-12</td><td>6.572e-13</td><td>5.818e-13</td><td>nan</td><td>6.940</td><td>False</td></tr>\n",
       "<tr><td>86.603</td><td>50.000</td><td>150.000</td><td>2.335e-13</td><td>1.055e-13</td><td>8.554e-14</td><td>nan</td><td>3.835</td><td>False</td></tr>\n",
       "<tr><td>273.861</td><td>150.000</td><td>500.000</td><td>6.411e-14</td><td>2.697e-14</td><td>2.133e-14</td><td>nan</td><td>5.697</td><td>False</td></tr>\n",
       "<tr><td>1000.000</td><td>500.000</td><td>2000.000</td><td>9.188e-21</td><td>4.034e-15</td><td>nan</td><td>8.068e-15</td><td>0.000</td><td>True</td></tr>\n",
       "</table></div>"
      ],
      "text/plain": [
       "<Table length=5>\n",
       " e_ref    e_min   e_max         dnde         dnde_errp       dnde_errn        dnde_ul     sqrt_ts is_ul\n",
       "  GeV      GeV     GeV    1 / (cm2 GeV s) 1 / (cm2 GeV s) 1 / (cm2 GeV s) 1 / (cm2 GeV s)              \n",
       "float64  float64 float64      float64         float64         float64         float64     float32  bool\n",
       "-------- ------- -------- --------------- --------------- --------------- --------------- ------- -----\n",
       "  14.142  10.000   20.000       9.288e-12       2.343e-12       2.128e-12             nan   5.660 False\n",
       "  31.623  20.000   50.000       2.777e-12       6.572e-13       5.818e-13             nan   6.940 False\n",
       "  86.603  50.000  150.000       2.335e-13       1.055e-13       8.554e-14             nan   3.835 False\n",
       " 273.861 150.000  500.000       6.411e-14       2.697e-14       2.133e-14             nan   5.697 False\n",
       "1000.000 500.000 2000.000       9.188e-21       4.034e-15             nan       8.068e-15   0.000  True"
      ]
     },
     "execution_count": 15,
     "metadata": {},
     "output_type": "execute_result"
    }
   ],
   "source": [
    "dataset_3fhl = FluxPointsDataset(data=source_fermi_3fhl.flux_points, name=\"3fhl\")\n",
    "dataset_3fhl.data.to_table(sed_type=\"dnde\", formatted=True)"
   ]
  },
  {
   "cell_type": "markdown",
   "metadata": {},
   "source": [
    "## Power Law Fit\n",
    "\n",
    "First we start with fitting a simple\n",
    "`~gammapy.modeling.models.PowerLawSpectralModel`.\n",
    "\n",
    "\n"
   ]
  },
  {
   "cell_type": "code",
   "execution_count": 5,
   "metadata": {},
   "outputs": [],
   "source": [
    "pwl = PowerLawSpectralModel(\n",
    "    index=2, amplitude=\"1e-12 cm-2 s-1 TeV-1\", reference=\"1 TeV\"\n",
    ")\n",
    "model = SkyModel(spectral_model=pwl, name=\"j1507-pl\")"
   ]
  },
  {
   "cell_type": "markdown",
   "metadata": {},
   "source": [
    "After creating the model we run the fit by passing the ``flux_points``\n",
    "and ``model`` objects:\n",
    "\n",
    "\n"
   ]
  },
  {
   "cell_type": "code",
   "execution_count": 6,
   "metadata": {},
   "outputs": [
    {
     "name": "stdout",
     "output_type": "stream",
     "text": [
      "Datasets\n",
      "--------\n",
      "\n",
      "Dataset 0: \n",
      "\n",
      "  Type       : FluxPointsDataset\n",
      "  Name       : gammacat\n",
      "  Instrument : \n",
      "  Models     : ['j1507-pl']\n",
      "\n",
      "Dataset 1: \n",
      "\n",
      "  Type       : FluxPointsDataset\n",
      "  Name       : 3fgl\n",
      "  Instrument : \n",
      "  Models     : ['j1507-pl']\n",
      "\n",
      "Dataset 2: \n",
      "\n",
      "  Type       : FluxPointsDataset\n",
      "  Name       : 3fhl\n",
      "  Instrument : \n",
      "  Models     : ['j1507-pl']\n",
      "\n",
      "\n"
     ]
    }
   ],
   "source": [
    "datasets = Datasets([dataset_gammacat, dataset_3fgl, dataset_3fhl])\n",
    "datasets.models = model\n",
    "print(datasets)\n",
    "\n",
    "fitter = Fit()\n",
    "result_pwl = fitter.run(datasets=datasets)"
   ]
  },
  {
   "cell_type": "markdown",
   "metadata": {},
   "source": [
    "And print the result:\n",
    "\n",
    "\n"
   ]
  },
  {
   "cell_type": "code",
   "execution_count": 7,
   "metadata": {},
   "outputs": [
    {
     "name": "stdout",
     "output_type": "stream",
     "text": [
      "OptimizeResult\n",
      "\n",
      "\tbackend    : minuit\n",
      "\tmethod     : migrad\n",
      "\tsuccess    : True\n",
      "\tmessage    : Optimization terminated successfully.\n",
      "\tnfev       : 40\n",
      "\ttotal stat : 28.29\n",
      "\n",
      "CovarianceResult\n",
      "\n",
      "\tbackend    : minuit\n",
      "\tmethod     : hesse\n",
      "\tsuccess    : True\n",
      "\tmessage    : Hesse terminated successfully.\n",
      "\n",
      "SkyModel\n",
      "\n",
      "  Name                      : j1507-pl\n",
      "  Datasets names            : None\n",
      "  Spectral model type       : PowerLawSpectralModel\n",
      "  Spatial  model type       : \n",
      "  Temporal model type       : \n",
      "  Parameters:\n",
      "    index                         :      1.985   +/-    0.03             \n",
      "    amplitude                     :   1.28e-12   +/- 1.6e-13 1 / (cm2 s TeV)\n",
      "    reference             (frozen):      1.000       TeV         \n",
      "\n",
      "\n"
     ]
    }
   ],
   "source": [
    "print(result_pwl)\n",
    "\n",
    "print(model)"
   ]
  },
  {
   "cell_type": "markdown",
   "metadata": {},
   "source": [
    "Finally we plot the data points and the best fit model:\n",
    "\n",
    "\n"
   ]
  },
  {
   "cell_type": "code",
   "execution_count": 8,
   "metadata": {},
   "outputs": [
    {
     "data": {
      "image/png": "[encoded data removed]",
      "text/plain": [
       "<Figure size 640x480 with 1 Axes>"
      ]
     },
     "metadata": {},
     "output_type": "display_data"
    }
   ],
   "source": [
    "ax = plt.subplot()\n",
    "ax.yaxis.set_units(u.Unit(\"TeV cm-2 s-1\"))\n",
    "\n",
    "kwargs = {\"ax\": ax, \"sed_type\": \"e2dnde\"}\n",
    "\n",
    "for d in datasets:\n",
    "    d.data.plot(label=d.name, **kwargs)\n",
    "\n",
    "energy_bounds = [1e-4, 1e2] * u.TeV\n",
    "pwl.plot(energy_bounds=energy_bounds, color=\"k\", **kwargs)\n",
    "pwl.plot_error(energy_bounds=energy_bounds, **kwargs)\n",
    "ax.set_ylim(1e-13, 1e-11)\n",
    "ax.set_xlim(energy_bounds)\n",
    "ax.legend()\n",
    "plt.show()"
   ]
  },
  {
   "cell_type": "markdown",
   "metadata": {},
   "source": [
    "## Exponential Cut-Off Powerlaw Fit\n",
    "\n",
    "Next we fit an\n",
    "`~gammapy.modeling.models.ExpCutoffPowerLawSpectralModel` law to the\n",
    "data.\n",
    "\n",
    "\n"
   ]
  },
  {
   "cell_type": "code",
   "execution_count": 9,
   "metadata": {},
   "outputs": [],
   "source": [
    "ecpl = ExpCutoffPowerLawSpectralModel(\n",
    "    index=1.8,\n",
    "    amplitude=\"2e-12 cm-2 s-1 TeV-1\",\n",
    "    reference=\"1 TeV\",\n",
    "    lambda_=\"0.1 TeV-1\",\n",
    ")\n",
    "model = SkyModel(spectral_model=ecpl, name=\"j1507-ecpl\")"
   ]
  },
  {
   "cell_type": "markdown",
   "metadata": {},
   "source": [
    "We run the fitter again by passing the flux points and the model\n",
    "instance:\n",
    "\n",
    "\n"
   ]
  },
  {
   "cell_type": "code",
   "execution_count": 10,
   "metadata": {},
   "outputs": [
    {
     "name": "stdout",
     "output_type": "stream",
     "text": [
      "SkyModel\n",
      "\n",
      "  Name                      : j1507-ecpl\n",
      "  Datasets names            : None\n",
      "  Spectral model type       : ExpCutoffPowerLawSpectralModel\n",
      "  Spatial  model type       : \n",
      "  Temporal model type       : \n",
      "  Parameters:\n",
      "    index                         :      1.894   +/-    0.05             \n",
      "    amplitude                     :   1.96e-12   +/- 3.9e-13 1 / (cm2 s TeV)\n",
      "    reference             (frozen):      1.000       TeV         \n",
      "    lambda_                       :      0.078   +/-    0.05 1 / TeV     \n",
      "    alpha                 (frozen):      1.000                   \n",
      "\n",
      "\n"
     ]
    }
   ],
   "source": [
    "datasets.models = model\n",
    "result_ecpl = fitter.run(datasets=datasets)\n",
    "print(model)"
   ]
  },
  {
   "cell_type": "markdown",
   "metadata": {},
   "source": [
    "We plot the data and best fit model:\n",
    "\n",
    "\n"
   ]
  },
  {
   "cell_type": "code",
   "execution_count": 11,
   "metadata": {},
   "outputs": [
    {
     "data": {
      "image/png": "[encoded data removed]",
      "text/plain": [
       "<Figure size 640x480 with 1 Axes>"
      ]
     },
     "metadata": {},
     "output_type": "display_data"
    }
   ],
   "source": [
    "ax = plt.subplot()\n",
    "\n",
    "kwargs = {\"ax\": ax, \"sed_type\": \"e2dnde\"}\n",
    "\n",
    "ax.yaxis.set_units(u.Unit(\"TeV cm-2 s-1\"))\n",
    "\n",
    "for d in datasets:\n",
    "    d.data.plot(label=d.name, **kwargs)\n",
    "\n",
    "ecpl.plot(energy_bounds=energy_bounds, color=\"k\", **kwargs)\n",
    "ecpl.plot_error(energy_bounds=energy_bounds, **kwargs)\n",
    "ax.set_ylim(1e-13, 1e-11)\n",
    "ax.set_xlim(energy_bounds)\n",
    "ax.legend()\n",
    "plt.show()"
   ]
  },
  {
   "cell_type": "markdown",
   "metadata": {},
   "source": [
    "## Log-Parabola Fit\n",
    "\n",
    "Finally we try to fit a\n",
    "`~gammapy.modeling.models.LogParabolaSpectralModel` model:\n",
    "\n",
    "\n"
   ]
  },
  {
   "cell_type": "code",
   "execution_count": 12,
   "metadata": {},
   "outputs": [
    {
     "name": "stdout",
     "output_type": "stream",
     "text": [
      "SkyModel\n",
      "\n",
      "  Name                      : j1507-lp\n",
      "  Datasets names            : None\n",
      "  Spectral model type       : LogParabolaSpectralModel\n",
      "  Spatial  model type       : \n",
      "  Temporal model type       : \n",
      "  Parameters:\n",
      "    amplitude                     :   1.88e-12   +/- 2.8e-13 1 / (cm2 s TeV)\n",
      "    reference             (frozen):      1.000       TeV         \n",
      "    alpha                         :      2.144   +/-    0.07             \n",
      "    beta                          :      0.049   +/-    0.02             \n",
      "\n",
      "\n"
     ]
    },
    {
     "data": {
      "image/png": "[encoded data removed]",
      "text/plain": [
       "<Figure size 640x480 with 1 Axes>"
      ]
     },
     "metadata": {},
     "output_type": "display_data"
    }
   ],
   "source": [
    "log_parabola = LogParabolaSpectralModel(\n",
    "    alpha=2, amplitude=\"1e-12 cm-2 s-1 TeV-1\", reference=\"1 TeV\", beta=0.1\n",
    ")\n",
    "model = SkyModel(spectral_model=log_parabola, name=\"j1507-lp\")\n",
    "\n",
    "datasets.models = model\n",
    "result_log_parabola = fitter.run(datasets=datasets)\n",
    "print(model)\n",
    "\n",
    "ax = plt.subplot()\n",
    "\n",
    "kwargs = {\"ax\": ax, \"sed_type\": \"e2dnde\"}\n",
    "\n",
    "ax.yaxis.set_units(u.Unit(\"TeV cm-2 s-1\"))\n",
    "\n",
    "for d in datasets:\n",
    "    d.data.plot(label=d.name, **kwargs)\n",
    "\n",
    "log_parabola.plot(energy_bounds=energy_bounds, color=\"k\", **kwargs)\n",
    "log_parabola.plot_error(energy_bounds=energy_bounds, **kwargs)\n",
    "ax.set_ylim(1e-13, 1e-11)\n",
    "ax.set_xlim(energy_bounds)\n",
    "ax.legend()\n",
    "plt.show()"
   ]
  },
  {
   "cell_type": "markdown",
   "metadata": {},
   "source": [
    "## Exercises\n",
    "\n",
    "-  Fit a `~gammapy.modeling.models.PowerLaw2SpectralModel` and\n",
    "   `~gammapy.modeling.models.ExpCutoffPowerLaw3FGLSpectralModel` to\n",
    "   the same data.\n",
    "-  Fit a `~gammapy.modeling.models.ExpCutoffPowerLawSpectralModel`\n",
    "   model to Vela X (‘HESS J0835-455’) only and check if the best fit\n",
    "   values correspond to the values given in the Gammacat catalog\n",
    "\n",
    "\n"
   ]
  },
  {
   "cell_type": "markdown",
   "metadata": {},
   "source": [
    "## What next?\n",
    "\n",
    "This was an introduction to SED fitting in Gammapy.\n",
    "\n",
    "-  If you would like to learn how to perform a full Poisson maximum\n",
    "   likelihood spectral fit, please check out the\n",
    "   :doc:`/tutorials/analysis-1d/spectral_analysis` tutorial.\n",
    "-  To learn how to combine heterogeneous datasets to perform a\n",
    "   multi-instrument forward-folding fit see the\n",
    "   :doc:`/tutorials/analysis-3d/analysis_mwl` tutorial.\n",
    "\n",
    "\n"
   ]
  }
 ],
 "metadata": {
  "kernelspec": {
   "display_name": "Python 3 (ipykernel)",
   "language": "python",
   "name": "python3"
  },
  "language_info": {
   "codemirror_mode": {
    "name": "ipython",
    "version": 3
   },
   "file_extension": ".py",
   "mimetype": "text/x-python",
   "name": "python",
   "nbconvert_exporter": "python",
   "pygments_lexer": "ipython3",
   "version": "3.9.14"
  }
 },
 "nbformat": 4,
 "nbformat_minor": 1
}
