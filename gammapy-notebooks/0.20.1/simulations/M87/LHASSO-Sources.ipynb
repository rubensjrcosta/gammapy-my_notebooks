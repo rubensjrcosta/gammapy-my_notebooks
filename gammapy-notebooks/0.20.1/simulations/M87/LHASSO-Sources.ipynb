{
 "cells": [
  {
   "cell_type": "markdown",
   "id": "022a5fed",
   "metadata": {},
   "source": [
    "[Ultrahigh-energy photons up to 1.4 petaelectronvolts from 12 γ-ray Galactic sources](https://www.nature.com/articles/s41586-021-03498-z)\n",
    "\n",
    "[Data availability for LHAASO published papers](http://english.ihep.cas.cn/lhaaso/pdl/202110/t20211026_286779.html) "
   ]
  },
  {
   "cell_type": "markdown",
   "id": "0efe16a7",
   "metadata": {},
   "source": [
    "|Source name<br> TeVCat Catalogue|Possible Origin<br>Pulsar and SNR Catalogs | \n",
    "|:-|  :-|\n",
    "|[LHAASO J0534+2202](http://tevcat.uchicago.edu/?mode=1;id=74)|[PSR J0534+2200](https://www.atnf.csiro.au/research/pulsar/psrcat/proc_form.php?version=1.69&Name=Name&JName=JName&RaJ=RaJ&DecJ=DecJ&Dist=Dist&Dist_DM=Dist_DM&Assoc=Assoc&startUserDefined=true&c1_val=&c2_val=&c3_val=&c4_val=&sort_attr=jname&sort_order=asc&condition=&pulsar_names=J0534%2B2200&ephemeris=short&coords_unit=raj%2Fdecj&radius=&coords_1=&coords_2=&style=Long+with+last+digit+error&no_value=*&fsize=3&x_axis=&x_scale=linear&y_axis=&y_scale=linear&state=query&table_bottom.x=56&table_bottom.y=23) |  \n",
    "|[LHAASO J1825-1326](http://tevcat.uchicago.edu/?mode=1&showsrc=342)|[PSR J1826-1334](https://www.atnf.csiro.au/research/pulsar/psrcat/proc_form.php?version=1.69&Name=Name&JName=JName&RaJ=RaJ&DecJ=DecJ&Dist=Dist&Dist_DM=Dist_DM&Assoc=Assoc&startUserDefined=true&c1_val=&c2_val=&c3_val=&c4_val=&sort_attr=jname&sort_order=asc&condition=&pulsar_names=J1826-1334&ephemeris=short&coords_unit=raj%2Fdecj&radius=&coords_1=&coords_2=&style=Long+with+last+digit+error&no_value=*&fsize=3&x_axis=&x_scale=linear&y_axis=&y_scale=linear&state=query&table_bottom.x=50&table_bottom.y=14)<br>[PSR J1826-1256](https://www.atnf.csiro.au/research/pulsar/psrcat/proc_form.php?version=1.69&Name=Name&JName=JName&RaJ=RaJ&DecJ=DecJ&Dist=Dist&Dist_DM=Dist_DM&Assoc=Assoc&startUserDefined=true&c1_val=&c2_val=&c3_val=&c4_val=&sort_attr=jname&sort_order=asc&condition=&pulsar_names=J1826-1256&ephemeris=short&coords_unit=raj%2Fdecj&radius=&coords_1=&coords_2=&style=Long+with+last+digit+error&no_value=*&fsize=3&x_axis=&x_scale=linear&y_axis=&y_scale=linear&state=query&table_bottom.x=47&table_bottom.y=23)| \n",
    "|[LHAASO J1839-0545](http://tevcat.uchicago.edu/?mode=1;id=343)|[PSR J1837-0604](https://www.atnf.csiro.au/research/pulsar/psrcat/proc_form.php?version=1.69&Name=Name&JName=JName&RaJ=RaJ&DecJ=DecJ&Dist=Dist&Dist_DM=Dist_DM&Assoc=Assoc&startUserDefined=true&c1_val=&c2_val=&c3_val=&c4_val=&sort_attr=jname&sort_order=asc&condition=&pulsar_names=J1837-0604&ephemeris=short&coords_unit=raj%2Fdecj&radius=&coords_1=&coords_2=&style=Long+with+last+digit+error&no_value=*&fsize=3&x_axis=&x_scale=linear&y_axis=&y_scale=linear&state=query&table_bottom.x=58&table_bottom.y=13)<br>[PSR J1838-0537](https://www.atnf.csiro.au/research/pulsar/psrcat/proc_form.php?version=1.69&Name=Name&JName=JName&RaJ=RaJ&DecJ=DecJ&Dist=Dist&Dist_DM=Dist_DM&Assoc=Assoc&startUserDefined=true&c1_val=&c2_val=&c3_val=&c4_val=&sort_attr=jname&sort_order=asc&condition=&pulsar_names=J1838-0537&ephemeris=short&coords_unit=raj%2Fdecj&radius=&coords_1=&coords_2=&style=Long+with+last+digit+error&no_value=*&fsize=3&x_axis=&x_scale=linear&y_axis=&y_scale=linear&state=query&table_bottom.x=52&table_bottom.y=27)  |  \n",
    "|[LHAASO J1843-0338](http://tevcat.uchicago.edu/?mode=1;id=344)|[SNR G28.6−0.1](https://www.mrao.cam.ac.uk/surveys/snrs/snrs.G28.6-0.1.html)|  \n",
    "|[LHAASO J1849-0003](http://tevcat.uchicago.edu/?mode=1;id=345)|[PSR J1849-0001](https://www.atnf.csiro.au/research/pulsar/psrcat/proc_form.php?version=1.69&Name=Name&JName=JName&RaJ=RaJ&DecJ=DecJ&Dist=Dist&Dist_DM=Dist_DM&Assoc=Assoc&startUserDefined=true&c1_val=&c2_val=&c3_val=&c4_val=&sort_attr=jname&sort_order=asc&condition=&pulsar_names=J1849-0001&ephemeris=short&coords_unit=raj%2Fdecj&radius=&coords_1=&coords_2=&style=Long+with+last+digit+error&no_value=*&fsize=3&x_axis=&x_scale=linear&y_axis=&y_scale=linear&state=query&table_bottom.x=31&table_bottom.y=25)<br>[W43](https://arxiv.org/abs/2007.15295)  | \n",
    "|[LHAASO J1908+0621](http://tevcat.uchicago.edu/?mode=1&showsrc=346)|[SNR G40.5-0.5](https://www.mrao.cam.ac.uk/surveys/snrs/snrs.G40.5-0.5.html)<br>[PSR J1907+0602](https://www.atnf.csiro.au/research/pulsar/psrcat/proc_form.php?version=1.69&Name=Name&JName=JName&RaJ=RaJ&DecJ=DecJ&Dist=Dist&Dist_DM=Dist_DM&Assoc=Assoc&startUserDefined=true&c1_val=&c2_val=&c3_val=&c4_val=&sort_attr=jname&sort_order=asc&condition=&pulsar_names=J1907%2B0602&ephemeris=short&coords_unit=raj%2Fdecj&radius=&coords_1=&coords_2=&style=Long+with+last+digit+error&no_value=*&fsize=3&x_axis=&x_scale=linear&y_axis=&y_scale=linear&state=query&table_bottom.x=62&table_bottom.y=7)<br>[PSR J1907+0631](https://www.atnf.csiro.au/research/pulsar/psrcat/proc_form.php?version=1.69&Name=Name&JName=JName&RaJ=RaJ&DecJ=DecJ&Dist=Dist&Dist_DM=Dist_DM&Assoc=Assoc&startUserDefined=true&c1_val=&c2_val=&c3_val=&c4_val=&sort_attr=jname&sort_order=asc&condition=&pulsar_names=J1907%2B0631&ephemeris=short&coords_unit=raj%2Fdecj&radius=&coords_1=&coords_2=&style=Long+with+last+digit+error&no_value=*&fsize=3&x_axis=&x_scale=linear&y_axis=&y_scale=linear&state=query&table_bottom.x=61&table_bottom.y=35)  | \n",
    "|[LHAASO J1929+1745](http://tevcat.uchicago.edu/?mode=1&showsrc=347)|[PSR J1928+1746](https://www.atnf.csiro.au/research/pulsar/psrcat/proc_form.php?version=1.69&Name=Name&JName=JName&RaJ=RaJ&DecJ=DecJ&Dist=Dist&Dist_DM=Dist_DM&Assoc=Assoc&startUserDefined=true&c1_val=&c2_val=&c3_val=&c4_val=&sort_attr=jname&sort_order=asc&condition=&pulsar_names=J1928%2B1746&ephemeris=short&coords_unit=raj%2Fdecj&radius=&coords_1=&coords_2=&style=Long+with+last+digit+error&no_value=*&fsize=3&x_axis=&x_scale=linear&y_axis=&y_scale=linear&state=query&table_bottom.x=59&table_bottom.y=9)<br>[PSR J1930+1852](https://www.atnf.csiro.au/research/pulsar/psrcat/proc_form.php?version=1.69&Name=Name&JName=JName&RaJ=RaJ&DecJ=DecJ&Dist=Dist&Dist_DM=Dist_DM&Assoc=Assoc&startUserDefined=true&c1_val=&c2_val=&c3_val=&c4_val=&sort_attr=jname&sort_order=asc&condition=&pulsar_names=J1930%2B1852&ephemeris=short&coords_unit=raj%2Fdecj&radius=&coords_1=&coords_2=&style=Long+with+last+digit+error&no_value=*&fsize=3&x_axis=&x_scale=linear&y_axis=&y_scale=linear&state=query&table_bottom.x=40&table_bottom.y=23)<br>[SNR G54.1+0.3](https://www.mrao.cam.ac.uk/surveys/snrs/snrs.G54.1+0.3.html)  | \n",
    "|[LHAASO J1956+2845](http://tevcat.uchicago.edu/?mode=1;id=348)|[PSR J1958+2846](https://www.atnf.csiro.au/research/pulsar/psrcat/proc_form.php?version=1.69&Name=Name&JName=JName&RaJ=RaJ&DecJ=DecJ&Dist=Dist&Dist_DM=Dist_DM&Assoc=Assoc&startUserDefined=true&c1_val=&c2_val=&c3_val=&c4_val=&sort_attr=jname&sort_order=asc&condition=&pulsar_names=J1958%2B2846&ephemeris=short&coords_unit=raj%2Fdecj&radius=&coords_1=&coords_2=&style=Long+with+last+digit+error&no_value=*&fsize=3&x_axis=&x_scale=linear&y_axis=&y_scale=linear&state=query&table_bottom.x=22&table_bottom.y=31)<br>[SNR G66.0-00](https://www.mrao.cam.ac.uk/surveys/snrs/snrs.G66.0-0.0.html)  | \n",
    "|[LHAASO J2018+3651](http://tevcat.uchicago.edu/?mode=1;id=349)|[PSR J2021+3651](https://www.atnf.csiro.au/research/pulsar/psrcat/proc_form.php?version=1.69&Name=Name&JName=JName&RaJ=RaJ&DecJ=DecJ&Dist=Dist&Dist_DM=Dist_DM&Assoc=Assoc&startUserDefined=true&c1_val=&c2_val=&c3_val=&c4_val=&sort_attr=jname&sort_order=asc&condition=&pulsar_names=J2021%2B3651%0D%0A&ephemeris=short&coords_unit=raj%2Fdecj&radius=&coords_1=&coords_2=&style=Long+with+last+digit+error&no_value=*&fsize=3&x_axis=&x_scale=linear&y_axis=&y_scale=linear&state=query&table_bottom.x=41&table_bottom.y=33)<br>[Sh 2-104](http://galaxymap.org/cat/view/sharpless/104)  |  |  |\n",
    "|[LHAASO J2032+4102](http://tevcat.uchicago.edu/?mode=1;id=350)|[Cygnus OB2](http://simbad.u-strasbg.fr/simbad/sim-id?Ident=Cygnus+OB2)<br>[PSR 2032+4127](https://www.atnf.csiro.au/research/pulsar/psrcat/proc_form.php?version=1.69&Name=Name&JName=JName&RaJ=RaJ&DecJ=DecJ&Dist=Dist&Dist_DM=Dist_DM&Assoc=Assoc&startUserDefined=true&c1_val=&c2_val=&c3_val=&c4_val=&sort_attr=jname&sort_order=asc&condition=&pulsar_names=J2032%2B4127&ephemeris=short&coords_unit=raj%2Fdecj&radius=&coords_1=&coords_2=&style=Long+with+last+digit+error&no_value=*&fsize=3&x_axis=&x_scale=linear&y_axis=&y_scale=linear&state=query&table_bottom.x=39&table_bottom.y=12)<br>[SNR G79.8+1.2](https://www.mrao.cam.ac.uk/surveys/snrs/snrs.G78.2+2.1.html)  |  \n",
    "|[LHAASO J2108+5157](http://tevcat.uchicago.edu/?mode=1&showsrc=341)| *** | \n",
    "|[LHAASO J2226+6057](http://tevcat.uchicago.edu/?mode=1&showsrc=351)|[SNR G106.3+2.7](https://www.mrao.cam.ac.uk/surveys/snrs/snrs.G106.3+2.7.html)<br>[PSR J2229+114](https://www.atnf.csiro.au/research/pulsar/psrcat/proc_form.php?version=1.69&Name=Name&JName=JName&RaJ=RaJ&DecJ=DecJ&Dist=Dist&Dist_DM=Dist_DM&Assoc=Assoc&startUserDefined=true&c1_val=&c2_val=&c3_val=&c4_val=&sort_attr=jname&sort_order=asc&condition=&pulsar_names=J2229%2B6114&ephemeris=short&coords_unit=raj%2Fdecj&radius=&coords_1=&coords_2=&style=Long+with+last+digit+error&no_value=*&fsize=3&x_axis=&x_scale=linear&y_axis=&y_scale=linear&state=query&table_bottom.x=70&table_bottom.y=5)   |  "
   ]
  },
  {
   "cell_type": "markdown",
   "id": "380ce113",
   "metadata": {},
   "source": [
    "![alt text here](LHAASO.png)"
   ]
  },
  {
   "cell_type": "code",
   "execution_count": null,
   "id": "4806f479",
   "metadata": {},
   "outputs": [],
   "source": []
  }
 ],
 "metadata": {
  "kernelspec": {
   "display_name": "Python 3 (ipykernel)",
   "language": "python",
   "name": "python3"
  },
  "language_info": {
   "codemirror_mode": {
    "name": "ipython",
    "version": 3
   },
   "file_extension": ".py",
   "mimetype": "text/x-python",
   "name": "python",
   "nbconvert_exporter": "python",
   "pygments_lexer": "ipython3",
   "version": "3.9.15"
  }
 },
 "nbformat": 4,
 "nbformat_minor": 5
}
