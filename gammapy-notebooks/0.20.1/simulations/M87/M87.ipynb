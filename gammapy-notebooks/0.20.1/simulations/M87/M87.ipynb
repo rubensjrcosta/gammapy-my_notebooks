{
 "cells": [
  {
   "cell_type": "markdown",
   "id": "c0b5edd3",
   "metadata": {},
   "source": [
    "<a id='intro'></a>\n",
    "## Simulation of a Single Spectrum\n",
    "\n",
    "We will simulate the energy spectrum of 3FHL J1230.8+1223 from the Fermi-LAT 3FHL source catalog considering the Dominguez EBL absorption spectral model. To do a simulation, we need to define the observational parameters like\n",
    "the livetime, the offset, the assumed integration radius, the energy\n",
    "range to perform the simulation for and the choice of spectral model. We\n",
    "then use an in-memory observation which is convolved with the IRFs to\n",
    "get the predicted number of counts. This is Poission fluctuated using\n",
    "the `fake()` to get the simulated counts for each observation."
   ]
  },
  {
   "cell_type": "markdown",
   "id": "44805999",
   "metadata": {},
   "source": [
    "<a id='indice'></a>\n",
    "### Indice\n",
    "[Step 0.0:  Setting the Engine Tools](#step0)<br>\n",
    "$\\;\\;\\;\\;\\;$[Step 0.1:  Importing the Python Necessary Tools](#step0.1)<br>\n",
    "$\\;\\;\\;\\;\\;$[Step 0.2:  Defining Functions](#step0.2)<br>\n",
    "[Step 1.0: Source Information](#step1)<br>\n",
    "[Step 2.0: Creates the Observation](#step2)<br>\n",
    "[Step 3.0: Defining the Skymodel](#step3)<br>\n",
    "[Step 4.0: Simulating the Spectrum](#step4)<br>\n",
    "$\\;\\;\\;\\;\\;$[Step 4.1: Defines the geometry](#step4.1)<br> \n",
    "$\\;\\;\\;\\;\\;$[Step 4.2: Setting the Model on the Dataset](#step4.2)<br> \n",
    "[Step 5.0: On-Off Analysis](#step5)<br>\n",
    "$\\;\\;\\;\\;\\;$[Step 5.1: Simulating the Observations](#step5.1)<br>\n",
    "$\\;\\;\\;\\;\\;$[Step 5.2: Plotting Counts, Excess and Significance](#step5.2)<br>\n",
    "$\\;\\;\\;\\;\\;$[Step 5.3: Computing the Sensitivity](#step5.3)<br>\n",
    "$\\;\\;\\;\\;\\;$[Step 5.4 Computing the Flux Points](#step5.4)<br>"
   ]
  },
  {
   "cell_type": "markdown",
   "id": "3bdb2877",
   "metadata": {},
   "source": [
    "<a id='step0'></a>\n",
    "## Step 0.0:  Setting the Engine Tools\n",
    "\n",
    "<a id='step0.1'></a>\n",
    "### Step 0.1: Importing the Python Necessary Tools"
   ]
  },
  {
   "cell_type": "code",
   "execution_count": 1,
   "id": "59ef12b1",
   "metadata": {},
   "outputs": [],
   "source": [
    "import gammapy\n",
    "from astropy import units as u\n",
    "import numpy as np\n",
    "from astropy.io import ascii\n",
    "import collections\n",
    "import sys, os\n",
    "import matplotlib.pyplot as plt\n",
    "\n",
    "from gammapy.catalog import SourceCatalog3FHL\n",
    "from gammapy.makers import SpectrumDatasetMaker, SafeMaskMaker, ReflectedRegionsBackgroundMaker\n",
    "from gammapy.modeling import Fit\n",
    "from gammapy.data import Observation, Observations, observatory_locations\n",
    "from gammapy.datasets import SpectrumDatasetOnOff, SpectrumDataset, Datasets\n",
    "from gammapy.irf import load_cta_irfs\n",
    "from gammapy.maps import MapAxis, RegionGeom\n",
    "\n",
    "from gammapy.modeling.models import (\n",
    "    EBLAbsorptionNormSpectralModel,\n",
    "    Models,\n",
    "    PowerLawSpectralModel,\n",
    "    SkyModel,\n",
    ")\n",
    "\n",
    "from gammapy.irf import EffectiveAreaTable2D\n",
    "\n",
    "from numpy.random import RandomState\n",
    "\n",
    "from scipy.stats import chi2, norm\n",
    "\n",
    "from gammapy.estimators import FluxPointsEstimator\n",
    "from gammapy.estimators import FluxPoints\n",
    "from gammapy.datasets import FluxPointsDataset\n",
    "\n",
    "# astropy imports\n",
    "from astropy.coordinates import SkyCoord, Angle\n",
    "from astropy import units as u\n",
    "from astropy.io import fits\n",
    "from astropy.table import Table, Column\n",
    "\n",
    "from gammapy.estimators import SensitivityEstimator\n",
    "\n",
    "# astropy affiliated packages imports\n",
    "from regions import CircleSkyRegion\n",
    "\n",
    "from gammapy.stats import WStatCountsStatistic\n",
    "from gammapy.stats import CashCountsStatistic\n",
    "from scipy.stats import sem\n",
    "from gammapy.maps import Map\n",
    "from regions import PointSkyRegion\n",
    "\n",
    "import math\n",
    "\n",
    "from pathlib import Path"
   ]
  },
  {
   "cell_type": "markdown",
   "id": "d6e287e3",
   "metadata": {},
   "source": [
    "<a id='step0.2'></a>\n",
    "### Step 0.2: Defining Functions"
   ]
  },
  {
   "cell_type": "code",
   "execution_count": 2,
   "id": "6e973926",
   "metadata": {},
   "outputs": [],
   "source": [
    "def mkdir_base_child(base_dir, child_dir):\n",
    "    '''Creates a directory: base_dir/child_dir and returs the path \n",
    "    mkdir_base_child(base_dir, child_dir)\n",
    "    >>> path_child\n",
    "    '''\n",
    "    path_base = Path(f\"{base_dir}\")\n",
    "    path_base.mkdir(exist_ok=True)\n",
    "\n",
    "    path_child = Path(f\"{path_base}/{child_dir}\")\n",
    "    path_child.mkdir(exist_ok=True)\n",
    "    \n",
    "    return path_child"
   ]
  },
  {
   "cell_type": "code",
   "execution_count": 3,
   "id": "486cbaac",
   "metadata": {},
   "outputs": [],
   "source": [
    "def plt_savefig(path_child, child_name):\n",
    "    ''' Saves figures (.png and .pdf) in the path_child directoty    \n",
    "    plt_savefig(path_child, child_name)\n",
    "    >>> plt.savefig(file, bbox_inches='tight')\n",
    "    '''\n",
    "    formats_file = [\".png\", \".pdf\"]\n",
    "    for format_file in formats_file: \n",
    "        file = path_child / f'{src_id}_{child_name}_{ebl_ref}{format_file}'\n",
    "        plt.savefig(file, bbox_inches='tight')\n"
   ]
  },
  {
   "cell_type": "markdown",
   "id": "19987720",
   "metadata": {},
   "source": [
    "___"
   ]
  },
  {
   "cell_type": "markdown",
   "id": "32463b2e",
   "metadata": {},
   "source": [
    "🔝 [Back to Top](#intro)<br>"
   ]
  },
  {
   "cell_type": "markdown",
   "id": "a784cfbd",
   "metadata": {},
   "source": [
    "<a id='step1'></a>\n",
    "## Step 1.0:  Source Information"
   ]
  },
  {
   "cell_type": "code",
   "execution_count": 4,
   "id": "63da27bf",
   "metadata": {},
   "outputs": [],
   "source": [
    "SourceCatalog = SourceCatalog3FHL() # Fermi-LAT 3FHL source catalog\n",
    "# display(SourceCatalog.table)"
   ]
  },
  {
   "cell_type": "code",
   "execution_count": 5,
   "id": "c02760d7",
   "metadata": {},
   "outputs": [],
   "source": [
    "src_name = \"3FHL J1230.8+1223\"  # Official source name 3FHL JHHMM.m+DDMM"
   ]
  },
  {
   "cell_type": "code",
   "execution_count": 6,
   "id": "81403bcc",
   "metadata": {},
   "outputs": [],
   "source": [
    "src_data = SourceCatalog[src_name].data\n",
    "# src_data"
   ]
  },
  {
   "cell_type": "code",
   "execution_count": 7,
   "id": "b3bf058b",
   "metadata": {},
   "outputs": [],
   "source": [
    "src_id  = src_data[\"ASSOC1\"].replace(\" \", \"\") # Name of identified or likely associated source\n",
    "\n",
    "src_ra  = src_data[\"RAJ2000\"]  # Right Ascension (deg)\n",
    "src_de  = src_data[\"DEJ2000\"]  # Declination (deg)\n",
    "\n",
    "src_red = src_data[\"Redshift\"] # Redshift of counterpart, if known"
   ]
  },
  {
   "cell_type": "code",
   "execution_count": 52,
   "id": "d068fca1",
   "metadata": {},
   "outputs": [
    {
     "data": {
      "text/plain": [
       "numpy.float32"
      ]
     },
     "execution_count": 52,
     "metadata": {},
     "output_type": "execute_result"
    }
   ],
   "source": [
    "type(src_red)"
   ]
  },
  {
   "cell_type": "code",
   "execution_count": 8,
   "id": "45e38604",
   "metadata": {},
   "outputs": [
    {
     "name": "stdout",
     "output_type": "stream",
     "text": [
      "M87 Source Information:\n",
      "(RAJ2000, DEJ2000) = (187.703 deg, 12.389 deg); Redshift = 0.004\n"
     ]
    }
   ],
   "source": [
    "print(f\"{src_id} Source Information:\")\n",
    "print(f\"(RAJ2000, DEJ2000) = ({src_ra:.3f}, {src_de:.3f}); Redshift = {src_red:.3f}\" )"
   ]
  },
  {
   "cell_type": "markdown",
   "id": "3528d87a",
   "metadata": {},
   "source": [
    "___"
   ]
  },
  {
   "cell_type": "markdown",
   "id": "dbd6b4ba",
   "metadata": {},
   "source": [
    "🔝 [Back to Top](#intro)<br>"
   ]
  },
  {
   "cell_type": "markdown",
   "id": "cb47a787",
   "metadata": {},
   "source": [
    "<a id='step2'></a>\n",
    "## Step 2.0:  Creates the Observation"
   ]
  },
  {
   "cell_type": "markdown",
   "id": "7ad701bb",
   "metadata": {},
   "source": [
    "Define the source position:"
   ]
  },
  {
   "cell_type": "code",
   "execution_count": 9,
   "id": "9e294533",
   "metadata": {},
   "outputs": [],
   "source": [
    "frame  = \"icrs\" # International Celestial Reference System (ICRS)\n",
    "unit   = \"deg\"  # Degrees units"
   ]
  },
  {
   "cell_type": "code",
   "execution_count": 10,
   "id": "c6834e14",
   "metadata": {},
   "outputs": [],
   "source": [
    "src_pos = SkyCoord(src_ra, src_de, unit=unit, frame=frame) # Source Position"
   ]
  },
  {
   "cell_type": "markdown",
   "id": "e991ac82",
   "metadata": {},
   "source": [
    "Define the observation parameters (typically the observation duration and the pointing position):\n"
   ]
  },
  {
   "cell_type": "code",
   "execution_count": 11,
   "id": "2d8151b9",
   "metadata": {},
   "outputs": [],
   "source": [
    "livetime = 50 * u.h # Livetime exposure of the simulated observation\n",
    "\n",
    "offset = 0.5 * u.deg # Pointing position  offset\n",
    "pointing = SkyCoord(src_pos.ra, src_pos.dec + offset, unit=unit, frame=frame)\n",
    "# print(pointing)"
   ]
  },
  {
   "cell_type": "markdown",
   "id": "91751de7",
   "metadata": {},
   "source": [
    "Load the IRFs:"
   ]
  },
  {
   "cell_type": "code",
   "execution_count": 50,
   "id": "b9fe17ab",
   "metadata": {},
   "outputs": [
    {
     "name": "stderr",
     "output_type": "stream",
     "text": [
      "Invalid unit found in background table! Assuming (s-1 MeV-1 sr-1)\n"
     ]
    }
   ],
   "source": [
    "# In this simulation, we use the CTA-1DC irfs shipped with gammapy\n",
    "base_name = '/home/gamma/Documents/GitHub/gammapy/gammapy-notebooks/0.20.1/tutorials/data/caldb/data/cta/prod3b-v2/bcf'\n",
    "irfs = load_cta_irfs(base_name + '/North_z20_N_0.5h/irf_file.fits')"
   ]
  },
  {
   "cell_type": "markdown",
   "id": "1ba185c7",
   "metadata": {},
   "source": [
    "Creates a observation:"
   ]
  },
  {
   "cell_type": "code",
   "execution_count": 51,
   "id": "ae83bd1a",
   "metadata": {
    "scrolled": true
   },
   "outputs": [
    {
     "name": "stdout",
     "output_type": "stream",
     "text": [
      "Observation\n",
      "\n",
      "\tobs id            : 0 \n",
      " \ttstart            : 51544.00\n",
      "\ttstop             : 51546.08\n",
      "\tduration          : 180000.00 s\n",
      "\tpointing (icrs)   : 187.7 deg, 12.9 deg\n",
      "\n",
      "\tdeadtime fraction : 0.0%\n",
      "\n"
     ]
    }
   ],
   "source": [
    "location = observatory_locations[\"cta_north\"]\n",
    "obs = Observation.create(\n",
    "    pointing=pointing,\n",
    "    livetime=livetime,\n",
    "    irfs=irfs,\n",
    "    location=location,\n",
    ")\n",
    "print(obs)"
   ]
  },
  {
   "cell_type": "code",
   "execution_count": null,
   "id": "5117afd2",
   "metadata": {},
   "outputs": [],
   "source": []
  },
  {
   "cell_type": "markdown",
   "id": "4ce16ebf",
   "metadata": {},
   "source": [
    "___"
   ]
  },
  {
   "cell_type": "markdown",
   "id": "74e31167",
   "metadata": {},
   "source": [
    "🔝 [Back to Top](#intro)<br>"
   ]
  },
  {
   "cell_type": "markdown",
   "id": "fc40f6bf",
   "metadata": {},
   "source": [
    "<a id='step3'></a>\n",
    "## Step 3.0:  Defining the Skymodel\n",
    "Define spectral model:"
   ]
  },
  {
   "cell_type": "code",
   "execution_count": 15,
   "id": "0728d768",
   "metadata": {},
   "outputs": [],
   "source": [
    "# A simple Power Law\n",
    "index=2.24\n",
    "amplitude=6.47e-13 * u.Unit(\"cm-2 s-1 TeV-1\")\n",
    "reference=0.1 * u.TeV\n",
    "    \n",
    "pwl = PowerLawSpectralModel(\n",
    "    index=index,\n",
    "    amplitude=amplitude,\n",
    "    reference=reference,\n",
    ")\n",
    "# print(pwl)"
   ]
  },
  {
   "cell_type": "markdown",
   "id": "44d70888",
   "metadata": {},
   "source": [
    "Define absorption model:"
   ]
  },
  {
   "cell_type": "code",
   "execution_count": 53,
   "id": "f04f4df6",
   "metadata": {
    "scrolled": true
   },
   "outputs": [
    {
     "name": "stdout",
     "output_type": "stream",
     "text": [
      "EBLAbsorptionNormSpectralModel\n",
      "\n",
      "  type      name      value    unit   error   min max frozen is_norm link\n",
      "-------- ---------- ---------- ---- --------- --- --- ------ ------- ----\n",
      "spectral alpha_norm 1.0000e+00      0.000e+00 nan nan   True   False     \n",
      "spectral   redshift 4.2830e-03      0.000e+00 nan nan   True   False     \n"
     ]
    }
   ],
   "source": [
    "ebl_models = ['franceschini', 'dominguez', 'finke'] # Available models in gammapy-data:{'franceschini', 'dominguez', 'finke'}\n",
    "\n",
    "ebl_ref = ebl_models[1] # dominguez\n",
    "\n",
    "absorption = EBLAbsorptionNormSpectralModel.read_builtin(\n",
    "    reference = ebl_ref, \n",
    "    redshift=src_red\n",
    ")\n",
    "print(absorption)"
   ]
  },
  {
   "cell_type": "markdown",
   "id": "5dc48eb3",
   "metadata": {},
   "source": [
    "The compound spectral model:"
   ]
  },
  {
   "cell_type": "code",
   "execution_count": 17,
   "id": "4758a3f5",
   "metadata": {},
   "outputs": [],
   "source": [
    "absspecmodel = pwl * absorption # CompoundSpectralModel\n",
    "# print(absspecmodel)"
   ]
  },
  {
   "cell_type": "markdown",
   "id": "3d21f4b0",
   "metadata": {},
   "source": [
    "Setting the sky model used in the dataset:"
   ]
  },
  {
   "cell_type": "code",
   "execution_count": 18,
   "id": "81ef12a6",
   "metadata": {},
   "outputs": [],
   "source": [
    "skymodel = SkyModel(\n",
    "    spectral_model=absspecmodel, \n",
    "    name=\"model_simu\"\n",
    ")\n",
    "# print(skymodel)"
   ]
  },
  {
   "cell_type": "markdown",
   "id": "644e3b64",
   "metadata": {},
   "source": [
    "___"
   ]
  },
  {
   "cell_type": "markdown",
   "id": "c2986b6a",
   "metadata": {},
   "source": [
    "🔝 [Back to Top](#intro)<br>"
   ]
  },
  {
   "cell_type": "markdown",
   "id": "38344d22",
   "metadata": {},
   "source": [
    "<a id='step4'></a>\n",
    "## Step 4.0:  Simulating the Spectrum\n",
    "<a id='step4.1'></a>\n",
    "### Step 4.1: Defines the geometry"
   ]
  },
  {
   "cell_type": "code",
   "execution_count": 19,
   "id": "465303cf",
   "metadata": {},
   "outputs": [],
   "source": [
    "# Defines the energy range\n",
    "emin = 25 * u.GeV   # Minimum energy\n",
    "emax = 100. * u.TeV # Maximum energy"
   ]
  },
  {
   "cell_type": "code",
   "execution_count": 20,
   "id": "2d570029",
   "metadata": {},
   "outputs": [],
   "source": [
    "# Reconstructed energy axis\n",
    "energy_reco = MapAxis.from_energy_bounds(\n",
    "    emin, \n",
    "    emax, \n",
    "    nbin=5, \n",
    "    per_decade=True, \n",
    "    name=\"energy\"\n",
    ")\n",
    "# print(energy_reco)"
   ]
  },
  {
   "cell_type": "code",
   "execution_count": 21,
   "id": "8f4df87d",
   "metadata": {},
   "outputs": [],
   "source": [
    "# Defines the on region:\n",
    "on_region_radius = Angle(\"0.11 deg\")\n",
    "\n",
    "on_region = CircleSkyRegion(\n",
    "    center=src_pos, \n",
    "    radius=on_region_radius\n",
    ")\n",
    "# print(on_region)"
   ]
  },
  {
   "cell_type": "code",
   "execution_count": 22,
   "id": "11618e5c",
   "metadata": {},
   "outputs": [],
   "source": [
    "#Defines the geometry:\n",
    "geom = RegionGeom.create(\n",
    "    region=on_region, \n",
    "    axes=[energy_reco]\n",
    ")"
   ]
  },
  {
   "cell_type": "markdown",
   "id": "aacadc10",
   "metadata": {},
   "source": [
    "<a id='step4.2'></a>\n",
    "### Step 4.2: Setting the Model on the Dataset"
   ]
  },
  {
   "cell_type": "code",
   "execution_count": 23,
   "id": "53aabe70",
   "metadata": {},
   "outputs": [],
   "source": [
    "# Defines the true energy axis:\n",
    "# true energy axis should be wider than reco energy axis\n",
    "energy_true = MapAxis.from_energy_bounds(\n",
    "    0.3*emin, \n",
    "    3*emax, \n",
    "    nbin=8, \n",
    "    per_decade=True, \n",
    "    name=\"energy_true\"\n",
    ")\n",
    "# print(energy_true)"
   ]
  },
  {
   "cell_type": "code",
   "execution_count": 24,
   "id": "d54d2ed2",
   "metadata": {},
   "outputs": [],
   "source": [
    "# Create a MapDataset object with zero filled maps.\n",
    "dataset_empty = SpectrumDataset.create(\n",
    "    geom=geom, \n",
    "    energy_axis_true=energy_true,\n",
    "    name=\"obs-0\"\n",
    ")"
   ]
  },
  {
   "cell_type": "code",
   "execution_count": 25,
   "id": "d59c8e31",
   "metadata": {},
   "outputs": [],
   "source": [
    "# Make spectrum for a single IACT observation:\n",
    "# The irfs and background are computed at a single fixed offset, which is recommended only for point-sources.\n",
    "maker = SpectrumDatasetMaker(\n",
    "    containment_correction=True, # Apply containment correction for point sources and circular on regions.\n",
    "    selection=[\"edisp\", \"background\", \"exposure\"] # Selecting which maps to make\n",
    ")\n",
    "safe_maker = SafeMaskMaker(methods=[\"bkg-peak\"]) # Make safe data range mask for a given observation."
   ]
  },
  {
   "cell_type": "code",
   "execution_count": 26,
   "id": "dc9b92e8",
   "metadata": {},
   "outputs": [],
   "source": [
    "# Make map dataset:\n",
    "dataset = maker.run(dataset_empty, obs) \n",
    "dataset = safe_maker.run(dataset, obs)"
   ]
  },
  {
   "cell_type": "code",
   "execution_count": 27,
   "id": "15fa2605",
   "metadata": {},
   "outputs": [],
   "source": [
    "# Set the model on the dataset, and fake\n",
    "dataset.models = skymodel\n",
    "dataset.fake(random_state=42)\n",
    "# print(dataset)"
   ]
  },
  {
   "cell_type": "markdown",
   "id": "a16aaedc",
   "metadata": {},
   "source": [
    "You can see that background counts are now simulated."
   ]
  },
  {
   "cell_type": "markdown",
   "id": "f5833551",
   "metadata": {},
   "source": [
    "___"
   ]
  },
  {
   "cell_type": "markdown",
   "id": "3091a851",
   "metadata": {},
   "source": [
    "🔝 [Back to Top](#intro)<br>"
   ]
  },
  {
   "cell_type": "markdown",
   "id": "e9184705",
   "metadata": {},
   "source": [
    "<a id='step5'></a>\n",
    "### Step 5.0: On-Off Analysis\n",
    "\n",
    "To do an on off spectral analysis, which is the usual science case, the\n",
    "standard would be to use `SpectrumDatasetOnOff`, which uses the\n",
    "acceptance to fake off-counts"
   ]
  },
  {
   "cell_type": "markdown",
   "id": "bc2e9496",
   "metadata": {},
   "source": [
    "<a id='step5.1'></a>\n",
    "### Step 5.1: Simulating the Observations"
   ]
  },
  {
   "cell_type": "code",
   "execution_count": 28,
   "id": "cec597d4",
   "metadata": {},
   "outputs": [],
   "source": [
    "# Spectrum dataset for on-off likelihood fitting.\n",
    "dataset_onoff = SpectrumDatasetOnOff.from_spectrum_dataset(\n",
    "    dataset=dataset, \n",
    "    acceptance=1, \n",
    "    acceptance_off=5\n",
    ")\n",
    "\n",
    "# Simulate fake counts (on and off) for the current model and reduced IRFs.\n",
    "dataset_onoff.fake(\n",
    "    random_state='random-seed', \n",
    "    npred_background=dataset.npred_background()\n",
    ")\n",
    "\n",
    "# print(dataset_onoff)"
   ]
  },
  {
   "cell_type": "code",
   "execution_count": 29,
   "id": "68a76332",
   "metadata": {},
   "outputs": [],
   "source": [
    "# Class to compute statistics for Poisson distributed variable with unknown background.\n",
    "significance = WStatCountsStatistic(\n",
    "    n_on=sum(dataset_onoff.counts.data), \n",
    "    n_off=sum(dataset_onoff.counts_off.data), \n",
    "    alpha=0.2).sqrt_ts\n",
    "# print(significance)"
   ]
  },
  {
   "cell_type": "code",
   "execution_count": 30,
   "id": "2c521f88",
   "metadata": {},
   "outputs": [],
   "source": [
    "n_obs = 10 # We simulate each observation n_obs times, to randomize the renortets"
   ]
  },
  {
   "cell_type": "code",
   "execution_count": 31,
   "id": "c9fb961f",
   "metadata": {},
   "outputs": [],
   "source": [
    "datasets = Datasets()\n",
    "\n",
    "for idx in range(n_obs):\n",
    "    dataset_onoff.fake(\n",
    "        random_state=idx, \n",
    "        npred_background=dataset.npred_background()\n",
    "    )\n",
    "    dataset_fake = dataset_onoff.copy(name=f\"obs-{idx}\")\n",
    "    dataset_fake.meta_table[\"OBS_ID\"] = [idx]\n",
    "    datasets.append(dataset_fake)\n",
    "\n",
    "table = datasets.info_table()\n",
    "# print(table)"
   ]
  },
  {
   "cell_type": "markdown",
   "id": "ea41dc95",
   "metadata": {},
   "source": [
    "<a id='step5.2'></a>\n",
    "### Step 5.2: Plotting Counts, Excess and Significance"
   ]
  },
  {
   "cell_type": "code",
   "execution_count": 32,
   "id": "8029e147",
   "metadata": {},
   "outputs": [
    {
     "data": {
      "image/png": "[encoded data removed]",
      "text/plain": [
       "<Figure size 1200x400 with 4 Axes>"
      ]
     },
     "metadata": {},
     "output_type": "display_data"
    }
   ],
   "source": [
    "fix, axes = plt.subplots(1, 4, figsize=(12, 4))\n",
    "axes[0].hist(table[\"counts\"])\n",
    "axes[0].set_xlabel(\"Counts\")\n",
    "axes[0].set_ylabel(\"Frequency\");\n",
    "\n",
    "axes[1].hist(table[\"counts_off\"])\n",
    "axes[1].set_xlabel(\"Counts Off\");\n",
    "\n",
    "axes[2].hist(table[\"excess\"])\n",
    "axes[2].set_xlabel(\"excess\");\n",
    "\n",
    "axes[3].hist(table[\"sqrt_ts\"])\n",
    "axes[3].set_xlabel(r\"significance ($\\sigma$)\");\n",
    "\n",
    "path_counts = mkdir_base_child(\"analysis\", \"counts\")\n",
    "\n",
    "plt_savefig(path_counts, \"counts\")"
   ]
  },
  {
   "cell_type": "markdown",
   "id": "5714f61c",
   "metadata": {},
   "source": [
    "<a id='step5.3'></a>\n",
    "### Step 5.3: Computing the Sensitivity"
   ]
  },
  {
   "cell_type": "code",
   "execution_count": 33,
   "id": "43c839f9",
   "metadata": {},
   "outputs": [
    {
     "name": "stdout",
     "output_type": "stream",
     "text": [
      "  energy      e2dnde     excess background  criterion  \n",
      "   TeV    erg / (cm2 s)                                \n",
      "--------- ------------- ------- ---------- ------------\n",
      "0.0310979   1.23242e-11 1039.74    10397.4          bkg\n",
      "0.0481186   5.81456e-12  704.24     7042.4          bkg\n",
      "0.0744552   1.67769e-12  496.38     4963.8          bkg\n",
      " 0.115207   6.85799e-13  368.32     3683.2          bkg\n",
      " 0.178262   3.44262e-13  207.56     2075.6          bkg\n",
      "  0.27583   1.66467e-13  112.38     1123.8          bkg\n",
      "      ...           ...     ...        ...          ...\n",
      "  5.85755   7.04059e-14 22.3362         38 significance\n",
      "  9.06355   8.24292e-14 19.0242       26.6 significance\n",
      "  14.0243   9.81809e-14   15.05       15.6 significance\n",
      "  21.7001   1.08622e-13 13.0652       11.2 significance\n",
      "  33.5772   1.25414e-13 9.69775        5.4 significance\n",
      "  51.9549   1.29441e-13 6.93177        2.2 significance\n",
      "  80.3913   2.60438e-13 6.70497          2 significance\n",
      "Length = 19 rows\n"
     ]
    },
    {
     "data": {
      "image/png": "[encoded data removed]",
      "text/plain": [
       "<Figure size 500x300 with 1 Axes>"
      ]
     },
     "metadata": {},
     "output_type": "display_data"
    }
   ],
   "source": [
    "sensitivity_estimator = SensitivityEstimator(\n",
    "    gamma_min=5, \n",
    "    n_sigma=3, \n",
    "    bkg_syst_fraction=0.10\n",
    ")\n",
    "sensitivity_table = sensitivity_estimator.run(dataset_onoff)\n",
    "print(sensitivity_table)\n",
    "\n",
    "# Plot the sensitivity curve\n",
    "t = sensitivity_table\n",
    "\n",
    "fix, axes = plt.subplots(figsize=(5, 3))\n",
    "\n",
    "axes.plot(t[\"energy\"], t[\"e2dnde\"], \"s-\", color=\"red\")\n",
    "axes.loglog()\n",
    "\n",
    "axes.set_xlabel(f\"Energy ({t['energy'].unit})\", size=12)\n",
    "axes.set_ylabel(f\"Sensitivity ({t['e2dnde'].unit})\", size=12)\n",
    "\n",
    "path_sens = mkdir_base_child(\"analysis\", \"sensitivity\")\n",
    "\n",
    "plt_savefig(path_sens, \"sensitivity\")"
   ]
  },
  {
   "cell_type": "markdown",
   "id": "013ea681",
   "metadata": {},
   "source": [
    "<a id='step5.4'></a>\n",
    "### Step 5.4:  Computing the Flux Points\n",
    "\n",
    "We can now compute some flux points using the `~gammapy.estimators.FluxPointsEstimator`. \n",
    "\n",
    "Besides the list of datasets to use, we must provide it the energy intervals on which to compute flux points as well as the model component name. "
   ]
  },
  {
   "cell_type": "code",
   "execution_count": 61,
   "id": "0b6306e7",
   "metadata": {
    "scrolled": true
   },
   "outputs": [
    {
     "data": {
      "text/html": [
       "<div><i>Table length=12</i>\n",
       "<table id=\"table139734800984288\" class=\"table-striped table-bordered table-condensed\">\n",
       "<thead><tr><th>e_ref</th><th>e_min</th><th>e_max</th><th>dnde</th><th>dnde_err</th><th>dnde_errp</th><th>dnde_errn</th><th>dnde_ul</th><th>ts</th><th>sqrt_ts</th><th>npred</th><th>npred_excess</th><th>stat</th><th>is_ul</th><th>counts</th><th>success</th><th>norm_scan</th><th>stat_scan</th></tr></thead>\n",
       "<thead><tr><th>TeV</th><th>TeV</th><th>TeV</th><th>1 / (cm2 s TeV)</th><th>1 / (cm2 s TeV)</th><th>1 / (cm2 s TeV)</th><th>1 / (cm2 s TeV)</th><th>1 / (cm2 s TeV)</th><th></th><th></th><th></th><th></th><th></th><th></th><th></th><th></th><th></th><th></th></tr></thead>\n",
       "<thead><tr><th>float64</th><th>float64</th><th>float64</th><th>float64</th><th>float64</th><th>float64</th><th>float64</th><th>float64</th><th>float64</th><th>float64</th><th>float64[10]</th><th>float32[10]</th><th>float64</th><th>bool</th><th>float64[10]</th><th>bool</th><th>float64[11]</th><th>float64[11]</th></tr></thead>\n",
       "<tr><td>0.115</td><td>0.093</td><td>0.143</td><td>-5.947e-13</td><td>1.826e-12</td><td>nan</td><td>nan</td><td>nan</td><td>0.106</td><td>-0.325</td><td>3647.1481423727646 .. 3670.481741454173</td><td>-6.810969 .. -6.810969</td><td>8.495</td><td>True</td><td>3617.0 .. 3641.0</td><td>True</td><td>0.200 .. 5.000</td><td>8.613 .. 9.138</td></tr>\n",
       "<tr><td>0.178</td><td>0.143</td><td>0.222</td><td>3.197e-14</td><td>5.133e-13</td><td>nan</td><td>nan</td><td>nan</td><td>0.004</td><td>0.062</td><td>2086.1552372621168 .. 2071.32208909222</td><td>0.984006 .. 0.984006</td><td>4.587</td><td>True</td><td>2062.0 .. 2045.0</td><td>True</td><td>0.200 .. 5.000</td><td>4.588 .. 5.066</td></tr>\n",
       "<tr><td>0.276</td><td>0.222</td><td>0.343</td><td>-4.154e-15</td><td>1.400e-13</td><td>1.404e-13</td><td>nan</td><td>nan</td><td>0.001</td><td>-0.029</td><td>1107.0481671871619 .. 1127.2160944681782</td><td>-0.34182587 .. -0.34182587</td><td>3.955</td><td>True</td><td>1101.0 .. 1146.0</td><td>True</td><td>0.200 .. 5.000</td><td>3.961 .. 5.524</td></tr>\n",
       "<tr><td>0.531</td><td>0.343</td><td>0.821</td><td>1.671e-14</td><td>1.948e-14</td><td>1.953e-14</td><td>nan</td><td>nan</td><td>0.741</td><td>0.861</td><td>890.04017833444 .. 904.1561105122028</td><td>8.575768 .. 8.575768</td><td>14.019</td><td>True</td><td>849.0 .. 896.0</td><td>True</td><td>0.200 .. 5.000</td><td>14.592 .. 16.971</td></tr>\n",
       "<tr><td>1.022</td><td>0.821</td><td>1.271</td><td>5.340e-15</td><td>5.487e-15</td><td>5.522e-15</td><td>nan</td><td>nan</td><td>0.966</td><td>0.983</td><td>162.36728810371542 .. 162.52597165975791</td><td>4.218055 .. 4.218055</td><td>6.439</td><td>True</td><td>158.0 .. 160.0</td><td>True</td><td>0.200 .. 5.000</td><td>7.204 .. 9.244</td></tr>\n",
       "<tr><td>1.581</td><td>1.271</td><td>1.967</td><td>2.064e-15</td><td>1.808e-15</td><td>1.822e-15</td><td>1.794e-15</td><td>5.745e-15</td><td>1.336</td><td>1.156</td><td>104.32247544332397 .. 108.3301430035082</td><td>3.939223 .. 3.939223</td><td>12.372</td><td>True</td><td>98.0 .. 128.0</td><td>True</td><td>0.200 .. 5.000</td><td>13.394 .. 17.990</td></tr>\n",
       "<tr><td>2.447</td><td>1.967</td><td>3.043</td><td>3.987e-16</td><td>5.880e-16</td><td>5.937e-16</td><td>nan</td><td>1.599e-15</td><td>0.469</td><td>0.685</td><td>67.44380782761324 .. 64.78039127387204</td><td>1.8853608 .. 1.8853608</td><td>16.843</td><td>True</td><td>59.0 .. 56.0</td><td>True</td><td>0.200 .. 5.000</td><td>17.083 .. 32.778</td></tr>\n",
       "<tr><td>3.786</td><td>3.043</td><td>4.709</td><td>2.509e-16</td><td>2.613e-16</td><td>2.643e-16</td><td>nan</td><td>7.858e-16</td><td>0.943</td><td>0.971</td><td>45.097396571079216 .. 46.38292567920098</td><td>2.2270253 .. 2.2270253</td><td>7.369</td><td>True</td><td>36.0 .. 43.0</td><td>True</td><td>0.200 .. 5.000</td><td>7.970 .. 20.811</td></tr>\n",
       "<tr><td>5.858</td><td>4.709</td><td>7.286</td><td>-4.301e-17</td><td>1.168e-16</td><td>1.183e-16</td><td>nan</td><td>1.968e-16</td><td>0.134</td><td>-0.366</td><td>36.52929258580107 .. 35.34516073345404</td><td>-0.74634105 .. -0.74634105</td><td>12.414</td><td>True</td><td>32.0 .. 26.0</td><td>True</td><td>0.200 .. 5.000</td><td>12.718 .. 34.955</td></tr>\n",
       "<tr><td>9.064</td><td>7.286</td><td>11.274</td><td>8.236e-17</td><td>6.055e-17</td><td>6.146e-17</td><td>5.968e-17</td><td>2.071e-16</td><td>1.927</td><td>1.388</td><td>27.76377404831441 .. 28.1465247570826</td><td>2.484956 .. 2.484956</td><td>17.751</td><td>True</td><td>26.0 .. 23.0</td><td>True</td><td>0.200 .. 5.000</td><td>19.253 .. 23.807</td></tr>\n",
       "<tr><td>14.024</td><td>11.274</td><td>17.445</td><td>8.326e-18</td><td>2.907e-17</td><td>2.964e-17</td><td>nan</td><td>6.900e-17</td><td>0.087</td><td>0.296</td><td>14.471701600327254 .. 16.00195974023443</td><td>0.40234184 .. 0.40234184</td><td>5.516</td><td>True</td><td>21.0 .. 16.0</td><td>True</td><td>0.200 .. 5.000</td><td>5.542 .. 13.670</td></tr>\n",
       "<tr><td>21.700</td><td>17.445</td><td>26.993</td><td>9.976e-18</td><td>1.200e-17</td><td>1.231e-17</td><td>nan</td><td>nan</td><td>0.734</td><td>0.857</td><td>10.714391100074046 .. 11.164814934794641</td><td>0.91328156 .. 0.91328156</td><td>7.373</td><td>True</td><td>14.0 .. 6.0</td><td>True</td><td>0.200 .. 5.000</td><td>7.936 .. 10.080</td></tr>\n",
       "</table></div>"
      ],
      "text/plain": [
       "<Table length=12>\n",
       " e_ref   e_min   e_max  ... success   norm_scan       stat_scan    \n",
       "  TeV     TeV     TeV   ...                                        \n",
       "float64 float64 float64 ...   bool   float64[11]     float64[11]   \n",
       "------- ------- ------- ... ------- -------------- ----------------\n",
       "  0.115   0.093   0.143 ...    True 0.200 .. 5.000   8.613 .. 9.138\n",
       "  0.178   0.143   0.222 ...    True 0.200 .. 5.000   4.588 .. 5.066\n",
       "  0.276   0.222   0.343 ...    True 0.200 .. 5.000   3.961 .. 5.524\n",
       "  0.531   0.343   0.821 ...    True 0.200 .. 5.000 14.592 .. 16.971\n",
       "  1.022   0.821   1.271 ...    True 0.200 .. 5.000   7.204 .. 9.244\n",
       "  1.581   1.271   1.967 ...    True 0.200 .. 5.000 13.394 .. 17.990\n",
       "  2.447   1.967   3.043 ...    True 0.200 .. 5.000 17.083 .. 32.778\n",
       "  3.786   3.043   4.709 ...    True 0.200 .. 5.000  7.970 .. 20.811\n",
       "  5.858   4.709   7.286 ...    True 0.200 .. 5.000 12.718 .. 34.955\n",
       "  9.064   7.286  11.274 ...    True 0.200 .. 5.000 19.253 .. 23.807\n",
       " 14.024  11.274  17.445 ...    True 0.200 .. 5.000  5.542 .. 13.670\n",
       " 21.700  17.445  26.993 ...    True 0.200 .. 5.000  7.936 .. 10.080"
      ]
     },
     "metadata": {},
     "output_type": "display_data"
    }
   ],
   "source": [
    "#Compute flux points\n",
    "datasets.models = [skymodel]\n",
    "\n",
    "fit_joint = Fit()\n",
    "result_joint = fit_joint.run(datasets=datasets)\n",
    "\n",
    "# we make a copy here to compare it later\n",
    "model_best_joint = skymodel.copy()\n",
    "\n",
    "energy_edges = MapAxis.from_energy_bounds(\"0.1 TeV\", \"30 TeV\", nbin=12).edges\n",
    "\n",
    "fpe = FluxPointsEstimator(energy_edges=energy_edges, source=\"model_simu\", selection_optional=\"all\")\n",
    "flux_points = fpe.run(datasets=datasets)\n",
    "\n",
    "display(flux_points.to_table(sed_type=\"dnde\", formatted=True))"
   ]
  },
  {
   "cell_type": "code",
   "execution_count": 62,
   "id": "b1f76197",
   "metadata": {},
   "outputs": [
    {
     "data": {
      "text/html": [
       "<div><i>Table length=12</i>\n",
       "<table id=\"table139734797701568\" class=\"table-striped table-bordered table-condensed\">\n",
       "<thead><tr><th>e_ref</th><th>e_min</th><th>e_max</th><th>ref_dnde</th><th>ref_flux</th><th>ref_eflux</th><th>norm</th><th>norm_err</th><th>norm_errn</th><th>norm_errp</th><th>norm_ul</th><th>ts</th><th>sqrt_ts</th><th>npred</th><th>npred_excess</th><th>stat</th><th>is_ul</th><th>counts</th><th>success</th><th>stat_scan</th><th>norm_scan</th></tr></thead>\n",
       "<thead><tr><th>TeV</th><th>TeV</th><th>TeV</th><th>1 / (cm2 s TeV)</th><th>1 / (cm2 s)</th><th>TeV / (cm2 s)</th><th></th><th></th><th></th><th></th><th></th><th></th><th></th><th></th><th></th><th></th><th></th><th></th><th></th><th></th><th></th></tr></thead>\n",
       "<thead><tr><th>float64</th><th>float64</th><th>float64</th><th>float64</th><th>float64</th><th>float64</th><th>float64</th><th>float64</th><th>float64</th><th>float64</th><th>float64</th><th>float64</th><th>float64</th><th>float64[10]</th><th>float32[10]</th><th>float64</th><th>bool</th><th>float64[10]</th><th>bool</th><th>float64[11]</th><th>float64[11]</th></tr></thead>\n",
       "<tr><td>0.11520660415588542</td><td>0.0926160645759766</td><td>0.14330733768376508</td><td>1.744698297935444e-13</td><td>8.82487754777838e-15</td><td>1.0109546827139806e-15</td><td>-3.4086048339226904</td><td>10.468204847903808</td><td>nan</td><td>nan</td><td>nan</td><td>0.10551573312841356</td><td>-0.3248318536233994</td><td>3647.1481423727646 .. 3670.481741454173</td><td>-6.810969 .. -6.810969</td><td>8.495054242957849</td><td>True</td><td>3617.0 .. 3641.0</td><td>True</td><td>8.613336144189816 .. 9.13792210019892</td><td>0.2 .. 4.999999999999999</td></tr>\n",
       "<tr><td>0.17826228960121232</td><td>0.14330733768376508</td><td>0.22174331340932085</td><td>7.754105607360728e-14</td><td>6.068618560658969e-15</td><td>1.0756479317759898e-15</td><td>0.4123612706937442</td><td>6.619910274437199</td><td>nan</td><td>nan</td><td>nan</td><td>0.0038858421612530947</td><td>0.06233652349347928</td><td>2086.1552372621168 .. 2071.32208909222</td><td>0.984006 .. 0.984006</td><td>4.587300880928524</td><td>True</td><td>2062.0 .. 2045.0</td><td>True</td><td>4.588332574261585 .. 5.066376697533997</td><td>0.2 .. 4.999999999999999</td></tr>\n",
       "<tr><td>0.2758300544200454</td><td>0.22174331340932085</td><td>0.3431094167016588</td><td>3.4375536668994844e-14</td><td>4.163616696245043e-15</td><td>1.1417801286985347e-15</td><td>-0.12084743861537905</td><td>4.0734723930264725</td><td>nan</td><td>4.082934191571591</td><td>nan</td><td>0.0008484349673381075</td><td>-0.029127907019525237</td><td>1107.0481671871619 .. 1127.2160944681782</td><td>-0.34182587 .. -0.34182587</td><td>3.954532898875186</td><td>True</td><td>1101.0 .. 1146.0</td><td>True</td><td>3.9606507610005792 .. 5.52439475999563</td><td>0.2 .. 4.999999999999999</td></tr>\n",
       "<tr><td>0.5309024656452349</td><td>0.3431094167016588</td><td>0.8214797213603471</td><td>1.0070537517230085e-14</td><td>4.7816164928397e-15</td><td>2.4780162358917618e-15</td><td>1.6591997955313016</td><td>1.9338739443460233</td><td>nan</td><td>1.9394117604602024</td><td>nan</td><td>0.7414218145640916</td><td>0.8610585430527309</td><td>890.04017833444 .. 904.1561105122028</td><td>8.575768 .. 8.575768</td><td>14.019103892627754</td><td>True</td><td>849.0 .. 896.0</td><td>True</td><td>14.592400023502705 .. 16.97085780031557</td><td>0.2 .. 4.999999999999999</td></tr>\n",
       "<tr><td>1.0218517652864825</td><td>0.8214797213603471</td><td>1.2710977557546597</td><td>2.9294371476998116e-15</td><td>1.3145854689503748e-15</td><td>1.3351091825446938e-15</td><td>1.8228788782771435</td><td>1.8731856303080545</td><td>nan</td><td>1.884967827694892</td><td>nan</td><td>0.9655709835606103</td><td>0.9826347152226051</td><td>162.36728810371542 .. 162.52597165975791</td><td>4.218055 .. 4.218055</td><td>6.43888366651845</td><td>True</td><td>158.0 .. 160.0</td><td>True</td><td>7.2038794681084255 .. 9.243986352996217</td><td>0.2 .. 4.999999999999999</td></tr>\n",
       "<tr><td>1.5811388300841898</td><td>1.2710977557546597</td><td>1.9668038816697717</td><td>1.2875503485704597e-15</td><td>8.94350431020585e-16</td><td>1.405643177112255e-15</td><td>1.6027670987431004</td><td>1.4041185414477564</td><td>1.393392759499249</td><td>1.415289497059985</td><td>4.461841512022841</td><td>1.3364615771015451</td><td>1.1560543140793798</td><td>104.32247544332397 .. 108.3301430035082</td><td>3.939223 .. 3.939223</td><td>12.371746100032396</td><td>True</td><td>98.0 .. 128.0</td><td>True</td><td>13.394293848088637 .. 17.99016264367856</td><td>0.2 .. 4.999999999999999</td></tr>\n",
       "<tr><td>2.4465388081989654</td><td>1.9668038816697717</td><td>3.0432887568546065</td><td>5.680706025708092e-16</td><td>6.104794365509356e-16</td><td>1.484738795184651e-15</td><td>0.7019324129388438</td><td>1.0350017597455603</td><td>nan</td><td>1.0450879788294694</td><td>2.8149335462747316</td><td>0.46918941078183707</td><td>0.6849740219758973</td><td>67.44380782761324 .. 64.78039127387204</td><td>1.8853608 .. 1.8853608</td><td>16.842853791580637</td><td>True</td><td>59.0 .. 56.0</td><td>True</td><td>17.082528848419315 .. 32.77807749067688</td><td>0.2 .. 4.999999999999999</td></tr>\n",
       "<tr><td>3.785595563233942</td><td>3.0432887568546065</td><td>4.708962873174102</td><td>2.502465165161027e-16</td><td>4.1612883547471025e-16</td><td>1.5657212951838926e-15</td><td>1.0024956886435759</td><td>1.0440627105541893</td><td>nan</td><td>1.0563563532603588</td><td>3.1402956703504956</td><td>0.9429631899315609</td><td>0.971062917596775</td><td>45.097396571079216 .. 46.38292567920098</td><td>2.2270253 .. 2.2270253</td><td>7.368747266812761</td><td>True</td><td>36.0 .. 43.0</td><td>True</td><td>7.970272271520798 .. 20.810760537248143</td><td>0.2 .. 4.999999999999999</td></tr>\n",
       "<tr><td>5.857554239626456</td><td>4.708962873174102</td><td>7.286305412520357</td><td>1.09553397270676e-16</td><td>2.8175741100139876e-16</td><td>1.639876349165109e-15</td><td>-0.3926075011265963</td><td>1.0659892782787004</td><td>nan</td><td>1.0800794017563835</td><td>1.7964706480368828</td><td>0.13431196754959274</td><td>-0.366485971831928</td><td>36.52929258580107 .. 35.34516073345404</td><td>-0.74634105 .. -0.74634105</td><td>12.413705637011617</td><td>True</td><td>32.0 .. 26.0</td><td>True</td><td>12.718258655422915 .. 34.95472210848425</td><td>0.2 .. 4.999999999999999</td></tr>\n",
       "<tr><td>9.063551849911526</td><td>7.286305412520357</td><td>11.274297121127594</td><td>4.7391466007534547e-17</td><td>1.8801583187264139e-16</td><td>1.6916454151199883e-15</td><td>1.7378270768293074</td><td>1.2777326754303335</td><td>1.25924420911752</td><td>1.29677131607096</td><td>4.370849973874326</td><td>1.927075166116765</td><td>1.3881913290741896</td><td>27.76377404831441 .. 28.1465247570826</td><td>2.484956 .. 2.484956</td><td>17.751284420170123</td><td>True</td><td>26.0 .. 23.0</td><td>True</td><td>19.25336663929511 .. 23.807178979567084</td><td>0.2 .. 4.999999999999999</td></tr>\n",
       "<tr><td>14.02427852572021</td><td>11.274297121127594</td><td>17.445024381910745</td><td>1.926499969685332e-17</td><td>1.185384955062101e-16</td><td>1.643416469691539e-15</td><td>0.43220046318881433</td><td>1.5088059917608374</td><td>nan</td><td>1.5386891564402203</td><td>3.5818064676118753</td><td>0.08744404320003696</td><td>0.2957093897731977</td><td>14.471701600327254 .. 16.00195974023443</td><td>0.40234184 .. 0.40234184</td><td>5.515775995185493</td><td>True</td><td>21.0 .. 16.0</td><td>True</td><td>5.5420110600357475 .. 13.66987833212778</td><td>0.2 .. 4.999999999999999</td></tr>\n",
       "<tr><td>21.70014486858117</td><td>17.445024381910745</td><td>26.993157304250936</td><td>6.131033588250448e-18</td><td>5.951547555021221e-17</td><td>1.258443683977351e-15</td><td>1.6270807496997424</td><td>1.9570255814586224</td><td>nan</td><td>2.0076753936628493</td><td>nan</td><td>0.7337499715255831</td><td>0.856592068329834</td><td>10.714391100074046 .. 11.164814934794641</td><td>0.91328156 .. 0.91328156</td><td>7.372568408057788</td><td>True</td><td>14.0 .. 6.0</td><td>True</td><td>7.93557346125786 .. 10.079531242804222</td><td>0.2 .. 4.999999999999999</td></tr>\n",
       "</table></div>"
      ],
      "text/plain": [
       "<Table length=12>\n",
       "       e_ref               e_min        ...        norm_scan        \n",
       "        TeV                 TeV         ...                         \n",
       "      float64             float64       ...       float64[11]       \n",
       "------------------- ------------------- ... ------------------------\n",
       "0.11520660415588542  0.0926160645759766 ... 0.2 .. 4.999999999999999\n",
       "0.17826228960121232 0.14330733768376508 ... 0.2 .. 4.999999999999999\n",
       " 0.2758300544200454 0.22174331340932085 ... 0.2 .. 4.999999999999999\n",
       " 0.5309024656452349  0.3431094167016588 ... 0.2 .. 4.999999999999999\n",
       " 1.0218517652864825  0.8214797213603471 ... 0.2 .. 4.999999999999999\n",
       " 1.5811388300841898  1.2710977557546597 ... 0.2 .. 4.999999999999999\n",
       " 2.4465388081989654  1.9668038816697717 ... 0.2 .. 4.999999999999999\n",
       "  3.785595563233942  3.0432887568546065 ... 0.2 .. 4.999999999999999\n",
       "  5.857554239626456   4.708962873174102 ... 0.2 .. 4.999999999999999\n",
       "  9.063551849911526   7.286305412520357 ... 0.2 .. 4.999999999999999\n",
       "  14.02427852572021  11.274297121127594 ... 0.2 .. 4.999999999999999\n",
       "  21.70014486858117  17.445024381910745 ... 0.2 .. 4.999999999999999"
      ]
     },
     "metadata": {},
     "output_type": "display_data"
    }
   ],
   "source": [
    "display(flux_points.to_table())"
   ]
  },
  {
   "cell_type": "code",
   "execution_count": 60,
   "id": "d0390bfd",
   "metadata": {},
   "outputs": [
    {
     "data": {
      "text/plain": [
       "array([[9.97572595e-18]])"
      ]
     },
     "execution_count": 60,
     "metadata": {},
     "output_type": "execute_result"
    }
   ],
   "source": [
    "flux_points[\"dnde\"].data[j]"
   ]
  },
  {
   "cell_type": "code",
   "execution_count": 58,
   "id": "c8297cab",
   "metadata": {},
   "outputs": [
    {
     "data": {
      "text/plain": [
       "[array([3.19744671e-14]),\n",
       " array([1.6709102e-14]),\n",
       " array([5.34002913e-15]),\n",
       " array([2.06365072e-15]),\n",
       " array([3.98745084e-16]),\n",
       " array([2.5087105e-16]),\n",
       " array([8.23581722e-17]),\n",
       " array([8.32618607e-18]),\n",
       " array([9.97572595e-18])]"
      ]
     },
     "execution_count": 58,
     "metadata": {},
     "output_type": "execute_result"
    }
   ],
   "source": [
    "dnde"
   ]
  },
  {
   "cell_type": "code",
   "execution_count": 37,
   "id": "5b7cca55",
   "metadata": {
    "scrolled": true
   },
   "outputs": [
    {
     "data": {
      "image/png": "[encoded data removed]",
      "text/plain": [
       "<Figure size 640x480 with 1 Axes>"
      ]
     },
     "metadata": {},
     "output_type": "display_data"
    }
   ],
   "source": [
    "e_ref = []\n",
    "e_min = []\n",
    "e_max = []\n",
    "dnde = []\n",
    "dnde_err = []\n",
    "subtract_emin = []\n",
    "subtract_emax = []\n",
    "\n",
    "for j in range(len(flux_points[\"energy_max\"].value)):\n",
    "    if flux_points[\"dnde\"].data[j] > 0:\n",
    "        e_ref.append(flux_points[\"energy_ref\"].value[j])\n",
    "        e_min.append(flux_points[\"energy_min\"].value[j])\n",
    "        e_max.append(flux_points[\"energy_max\"].value[j])\n",
    "        dnde.append(flux_points[\"dnde\"].data[j][0])\n",
    "        dnde_err.append(flux_points[\"dnde_err\"].data[j][0])\n",
    "        \n",
    "flux_TEV = np.hstack((dnde))#*1e+06\n",
    "flux_err_TEV = np.hstack((dnde_err))#*1e+06  \n",
    "energy = np.hstack((e_ref))\n",
    "\n",
    "#print(len(energy), len(flux_TEV))\n",
    "#print(energy)\n",
    "#print(np.asarray(flux_TEV))\n",
    "#print(np.hstack((e_ref))-np.hstack((e_min)), np.hstack((e_max))-np.hstack((e_ref)))\n",
    "\n",
    "energy_bounds = [0.1, 50] * u.TeV\n",
    "plt.figure()\n",
    "absspecmodel.plot(\n",
    "    energy_bounds, \n",
    "    label='intrinsic spectrum + EBL'\n",
    ")\n",
    "\n",
    "xerr = [np.hstack((e_ref))-np.hstack((e_min)), np.hstack((e_max))-np.hstack((e_ref))]\n",
    "plt.errorbar(\n",
    "    e_ref, \n",
    "    flux_TEV, \n",
    "    color='red', \n",
    "    marker='o', \n",
    "    xerr = xerr, \n",
    "    yerr = flux_err_TEV, \n",
    "    linestyle='', \n",
    "    label='measured spectrum')\n",
    "plt.grid(which=\"both\")\n",
    "plt.ylim(1e-24, 1e-8)\n",
    "plt.legend(loc=\"best\")\n",
    "plt.title(\"M87\")\n",
    "\n",
    "path_flux = mkdir_base_child(\"analysis\", \"flux_point\")\n",
    "\n",
    "plt_savefig(path_flux, \"flux_point\")\n",
    "\n",
    "plt.savefig('./spectrum_srcM87.png', bbox_inches='tight')\n",
    "\n",
    "plt.savefig('./M87_gammapy_flux_point.png', bbox_inches='tight')\n",
    "plt.savefig('./M87_gammapy_flux_point.pdf', bbox_inches='tight')\n",
    "\n",
    "plt.show()\n"
   ]
  },
  {
   "cell_type": "markdown",
   "id": "e63ae483",
   "metadata": {},
   "source": [
    "___"
   ]
  },
  {
   "cell_type": "markdown",
   "id": "6803c7ef",
   "metadata": {},
   "source": [
    "🔝 [Back to Top](#intro)<br>"
   ]
  }
 ],
 "metadata": {
  "kernelspec": {
   "display_name": "Python 3 (ipykernel)",
   "language": "python",
   "name": "python3"
  },
  "language_info": {
   "codemirror_mode": {
    "name": "ipython",
    "version": 3
   },
   "file_extension": ".py",
   "mimetype": "text/x-python",
   "name": "python",
   "nbconvert_exporter": "python",
   "pygments_lexer": "ipython3",
   "version": "3.9.15"
  }
 },
 "nbformat": 4,
 "nbformat_minor": 5
}
