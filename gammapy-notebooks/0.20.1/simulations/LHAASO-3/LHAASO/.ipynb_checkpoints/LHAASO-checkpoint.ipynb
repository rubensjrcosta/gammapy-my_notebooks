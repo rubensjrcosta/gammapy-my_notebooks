{
 "cells": [
  {
   "cell_type": "markdown",
   "id": "d00fecdc",
   "metadata": {},
   "source": [
    "<a id='intro'></a>\n",
    "## Simulation of a Single Spectrum\n",
    "\n",
    "We will simulate the energy spectrum of 3FHL J1230.8+1223 from the Fermi-LAT 3FHL source catalog considering the Dominguez EBL absorption spectral model. To do a simulation, we need to define the observational parameters like the livetime, the offset, the assumed integration radius, the energy range to perform the simulation, and the choice of spectral model. We then use an in-memory observation, which is convolved with the IRFs to get the predicted number of counts. This is Poisson fluctuated using the fake() to get the simulated counts for each observation."
   ]
  },
  {
   "cell_type": "markdown",
   "id": "44805999",
   "metadata": {},
   "source": [
    "<a id='indice'></a>\n",
    "### Indice\n",
    "[Step 0.0:  Setting the Engine Tools](#step0)<br>\n",
    "$\\;\\;\\;\\;\\;$[Step 0.1:  Importing the Python Necessary Tools](#step0.1)<br>\n",
    "$\\;\\;\\;\\;\\;$[Step 0.2:  Defining Functions](#step0.2)<br>\n",
    "[Step 1.0: Source Information](#step1)<br>\n",
    "[Step 2.0: Creates the Observation](#step2)<br>\n",
    "[Step 3.0: Defining the Skymodel](#step3)<br>\n",
    "[Step 4.0: Simulating the Spectrum](#step4)<br>\n",
    "$\\;\\;\\;\\;\\;$[Step 4.1: Defines the geometry](#step4.1)<br> \n",
    "$\\;\\;\\;\\;\\;$[Step 4.2: Setting the Model on the Dataset](#step4.2)<br> \n",
    "[Step 5.0: On-Off Analysis](#step5)<br>\n",
    "$\\;\\;\\;\\;\\;$[Step 5.1: Simulating the Observations](#step5.1)<br>\n",
    "$\\;\\;\\;\\;\\;$[Step 5.2: Plotting Counts, Excess, and Significance](#step5.2)<br>\n",
    "$\\;\\;\\;\\;\\;$[Step 5.3: Computing the Sensitivity](#step5.3)<br>\n",
    "$\\;\\;\\;\\;\\;$[Step 5.4 Computing the Flux Points](#step5.4)<br>"
   ]
  },
  {
   "cell_type": "markdown",
   "id": "3bdb2877",
   "metadata": {},
   "source": [
    "<a id='step0'></a>\n",
    "## Step 0.0:  Setting the Engine Tools\n",
    "\n",
    "<a id='step0.1'></a>\n",
    "### Step 0.1: Importing the Python Necessary Tools"
   ]
  },
  {
   "cell_type": "code",
   "execution_count": 1,
   "id": "59ef12b1",
   "metadata": {},
   "outputs": [],
   "source": [
    "import gammapy\n",
    "from astropy import units as u\n",
    "import numpy as np\n",
    "from astropy.io import ascii\n",
    "import collections\n",
    "import sys, os\n",
    "import matplotlib.pyplot as plt\n",
    "\n",
    "from gammapy.catalog import SourceCatalog3FHL\n",
    "from gammapy.makers import SpectrumDatasetMaker, SafeMaskMaker, ReflectedRegionsBackgroundMaker\n",
    "from gammapy.modeling import Fit\n",
    "from gammapy.data import Observation, Observations, observatory_locations\n",
    "from gammapy.datasets import SpectrumDatasetOnOff, SpectrumDataset, Datasets\n",
    "from gammapy.irf import load_cta_irfs\n",
    "from gammapy.maps import MapAxis, RegionGeom\n",
    "\n",
    "from gammapy.modeling.models import (\n",
    "    EBLAbsorptionNormSpectralModel,\n",
    "    Models,\n",
    "    PowerLawSpectralModel,\n",
    "    SkyModel,\n",
    ")\n",
    "\n",
    "from gammapy.irf import EffectiveAreaTable2D\n",
    "\n",
    "from numpy.random import RandomState\n",
    "\n",
    "from scipy.stats import chi2, norm\n",
    "\n",
    "from gammapy.estimators import FluxPointsEstimator\n",
    "from gammapy.estimators import FluxPoints\n",
    "from gammapy.datasets import FluxPointsDataset\n",
    "\n",
    "# astropy imports\n",
    "from astropy.coordinates import SkyCoord, Angle\n",
    "from astropy import units as u\n",
    "from astropy.io import fits\n",
    "from astropy.table import Table, Column\n",
    "\n",
    "from gammapy.estimators import SensitivityEstimator\n",
    "\n",
    "# astropy affiliated packages imports\n",
    "from regions import CircleSkyRegion\n",
    "\n",
    "from gammapy.stats import WStatCountsStatistic\n",
    "from gammapy.stats import CashCountsStatistic\n",
    "from scipy.stats import sem\n",
    "from gammapy.maps import Map\n",
    "from regions import PointSkyRegion\n",
    "\n",
    "import math\n",
    "\n",
    "from pathlib import Path"
   ]
  },
  {
   "cell_type": "markdown",
   "id": "d6e287e3",
   "metadata": {},
   "source": [
    "<a id='step0.2'></a>\n",
    "### Step 0.2: Defining Functions"
   ]
  },
  {
   "cell_type": "code",
   "execution_count": 2,
   "id": "6e973926",
   "metadata": {},
   "outputs": [],
   "source": [
    "def mkdir_base_child(base_dir, child_dir):\n",
    "    '''Creates a directory: base_dir/child_dir and returs the path \n",
    "    mkdir_base_child(base_dir, child_dir)\n",
    "    >>> path_child\n",
    "    '''\n",
    "    path_base = Path(f\"{base_dir}\")\n",
    "    path_base.mkdir(exist_ok=True)\n",
    "\n",
    "    path_child = Path(f\"{path_base}/{child_dir}\")\n",
    "    path_child.mkdir(exist_ok=True)\n",
    "    \n",
    "    return path_child"
   ]
  },
  {
   "cell_type": "code",
   "execution_count": 3,
   "id": "486cbaac",
   "metadata": {},
   "outputs": [],
   "source": [
    "def plt_savefig(path_child, child_name):\n",
    "    ''' Saves figures (.png and .pdf) in the path_child directoty    \n",
    "    plt_savefig(path_child, child_name)\n",
    "    >>> plt.savefig(file, bbox_inches='tight')\n",
    "    '''\n",
    "    formats_file = [\".png\", \".pdf\"]\n",
    "    for format_file in formats_file: \n",
    "        file = path_child / f'{src_id}_{child_name}_{ebl_ref}{format_file}'\n",
    "        plt.savefig(file, bbox_inches='tight')\n"
   ]
  },
  {
   "cell_type": "markdown",
   "id": "19987720",
   "metadata": {},
   "source": [
    "___"
   ]
  },
  {
   "cell_type": "markdown",
   "id": "32463b2e",
   "metadata": {},
   "source": [
    "🔝 [Back to Top](#intro)<br>"
   ]
  },
  {
   "cell_type": "markdown",
   "id": "a784cfbd",
   "metadata": {},
   "source": [
    "<a id='step1'></a>\n",
    "## Step 1.0:  Source Information"
   ]
  },
  {
   "cell_type": "code",
   "execution_count": 4,
   "id": "a8103601",
   "metadata": {},
   "outputs": [],
   "source": [
    "from astropy import units as u\n",
    "from astropy import cosmology\n",
    "from astropy.cosmology import WMAP5, WMAP7\n",
    "from astropy.coordinates import Distance\n",
    "\n",
    "cosmology.default_cosmology.set(WMAP7)\n",
    "d1 = Distance(3.1, u.kpc)\n",
    "# d2 = Distance(40, unit=u.au)\n",
    "# d3 = Distance(value=5, unit=u.kpc)\n",
    "# d4 = Distance(z=0.23)\n",
    "dist = d1.compute_z()"
   ]
  },
  {
   "cell_type": "code",
   "execution_count": 5,
   "id": "7b922cb9",
   "metadata": {},
   "outputs": [
    {
     "data": {
      "text/latex": [
       "$7.2797212 \\times 10^{-7} \\; \\mathrm{}$"
      ],
      "text/plain": [
       "<Quantity 7.27972123e-07 redshift>"
      ]
     },
     "execution_count": 5,
     "metadata": {},
     "output_type": "execute_result"
    }
   ],
   "source": [
    "d1.compute_z()"
   ]
  },
  {
   "cell_type": "code",
   "execution_count": 6,
   "id": "af158fb4",
   "metadata": {},
   "outputs": [],
   "source": [
    "src_name = \"PSR J1826-1334\"  # Official source name 3FHL JHHMM.m+DDMM"
   ]
  },
  {
   "cell_type": "code",
   "execution_count": 7,
   "id": "db0e3f75",
   "metadata": {},
   "outputs": [],
   "source": [
    "src_id  = src_name.replace(\" \", \"\") # Name of identified or likely associated source\n",
    "\n",
    "src_ra =Angle('18h26m13.175s').degree   \n",
    "src_de  = Angle(\"-13d34m46.8s\").degree   # Declination (deg)\n",
    "src_red = float(dist) # Redshift of counterpart, if known"
   ]
  },
  {
   "cell_type": "code",
   "execution_count": 8,
   "id": "794e998b",
   "metadata": {},
   "outputs": [
    {
     "name": "stdout",
     "output_type": "stream",
     "text": [
      "PSRJ1826-1334 Source Information:\n",
      "(RAJ2000, DEJ2000) = (276.555, -13.580); Redshift = 7.279721233435349e-07\n"
     ]
    }
   ],
   "source": [
    "print(f\"{src_id} Source Information:\")\n",
    "print(f\"(RAJ2000, DEJ2000) = ({src_ra:.3f}, {src_de:.3f}); Redshift = {src_red:}\" )"
   ]
  },
  {
   "cell_type": "code",
   "execution_count": 9,
   "id": "63da27bf",
   "metadata": {},
   "outputs": [],
   "source": [
    "# SourceCatalog = SourceCatalog3FHL() # Fermi-LAT 3FHL source catalog\n",
    "# # display(SourceCatalog.table)"
   ]
  },
  {
   "cell_type": "code",
   "execution_count": 10,
   "id": "c02760d7",
   "metadata": {},
   "outputs": [],
   "source": [
    "# src_name = \"3FHL J1230.8+1223\"  # Official source name 3FHL JHHMM.m+DDMM"
   ]
  },
  {
   "cell_type": "code",
   "execution_count": 11,
   "id": "81403bcc",
   "metadata": {},
   "outputs": [],
   "source": [
    "# src_data = SourceCatalog[src_name].data\n",
    "# display(src_data)"
   ]
  },
  {
   "cell_type": "code",
   "execution_count": 12,
   "id": "b3bf058b",
   "metadata": {},
   "outputs": [],
   "source": [
    "# src_id  = src_data[\"ASSOC1\"].replace(\" \", \"\") # Name of identified or likely associated source\n",
    "\n",
    "# src_ra  = src_data[\"RAJ2000\"]  # Right Ascension (deg)\n",
    "# src_de  = src_data[\"DEJ2000\"]  # Declination (deg)\n",
    "\n",
    "# src_red = src_data[\"Redshift\"] # Redshift of counterpart, if known"
   ]
  },
  {
   "cell_type": "code",
   "execution_count": 13,
   "id": "45e38604",
   "metadata": {
    "scrolled": true
   },
   "outputs": [
    {
     "name": "stdout",
     "output_type": "stream",
     "text": [
      "PSRJ1826-1334 Source Information:\n",
      "(RAJ2000, DEJ2000) = (276.555, -13.580); Redshift = 0.00000073\n"
     ]
    }
   ],
   "source": [
    "print(f\"{src_id} Source Information:\")\n",
    "print(f\"(RAJ2000, DEJ2000) = ({src_ra:.3f}, {src_de:.3f}); Redshift = {src_red:.8f}\" )"
   ]
  },
  {
   "cell_type": "markdown",
   "id": "3528d87a",
   "metadata": {},
   "source": [
    "___"
   ]
  },
  {
   "cell_type": "markdown",
   "id": "dbd6b4ba",
   "metadata": {},
   "source": [
    "🔝 [Back to Top](#intro)<br>"
   ]
  },
  {
   "cell_type": "markdown",
   "id": "cb47a787",
   "metadata": {},
   "source": [
    "<a id='step2'></a>\n",
    "## Step 2.0:  Creates the Observation"
   ]
  },
  {
   "cell_type": "markdown",
   "id": "7ad701bb",
   "metadata": {},
   "source": [
    "Define the source position:"
   ]
  },
  {
   "cell_type": "code",
   "execution_count": 14,
   "id": "9e294533",
   "metadata": {},
   "outputs": [],
   "source": [
    "frame  = \"icrs\" # International Celestial Reference System (ICRS)\n",
    "unit   = \"deg\"  # Degrees units"
   ]
  },
  {
   "cell_type": "code",
   "execution_count": 15,
   "id": "c6834e14",
   "metadata": {},
   "outputs": [],
   "source": [
    "src_pos = SkyCoord(src_ra, src_de, unit=unit, frame=frame) # Source Position"
   ]
  },
  {
   "cell_type": "markdown",
   "id": "e991ac82",
   "metadata": {},
   "source": [
    "Define the observation parameters (typically the observation duration and the pointing position):\n"
   ]
  },
  {
   "cell_type": "code",
   "execution_count": 16,
   "id": "2d8151b9",
   "metadata": {},
   "outputs": [
    {
     "name": "stdout",
     "output_type": "stream",
     "text": [
      "<SkyCoord (ICRS): (ra, dec) in deg\n",
      "    (276.55489583, -13.07966667)>\n"
     ]
    }
   ],
   "source": [
    "livetime = 5 * u.h # Livetime exposure of the simulated observation\n",
    "offset = 0.5 * u.deg # Pointing position  offset\n",
    "\n",
    "pointing = SkyCoord(src_pos.ra, src_pos.dec + offset, unit=unit, frame=frame)\n",
    "print(pointing)"
   ]
  },
  {
   "cell_type": "markdown",
   "id": "91751de7",
   "metadata": {},
   "source": [
    "Load the IRFs:"
   ]
  },
  {
   "cell_type": "code",
   "execution_count": 40,
   "id": "b9fe17ab",
   "metadata": {},
   "outputs": [
    {
     "name": "stderr",
     "output_type": "stream",
     "text": [
      "WARNING: UnitsWarning: '1/(MeV s sr)' did not parse as fits unit: Numeric factor not supported by FITS If this is meant to be a custom unit, define it with 'u.def_unit'. To have it recognized inside a file reader or other code, enable it with 'u.add_enabled_units'. For details, see https://docs.astropy.org/en/latest/units/combining_and_defining.html [astropy.units.core]\n",
      "Invalid unit found in background table! Assuming (s-1 MeV-1 sr-1)\n"
     ]
    }
   ],
   "source": [
    "# In this simulation, we use the CTA-1DC irfs shipped with gammapy\n",
    "base_name = '/home/gamma/Documents/GitHub/gammapy/gammapy-notebooks/0.20.1/tutorials/data/caldb/data/cta/prod3b-v2/bcf'\n",
    "irfs = load_cta_irfs(base_name + '/North_z20_50h/irf_file.fits')"
   ]
  },
  {
   "cell_type": "markdown",
   "id": "1ba185c7",
   "metadata": {},
   "source": [
    "Creates a observation:"
   ]
  },
  {
   "cell_type": "code",
   "execution_count": 41,
   "id": "ae83bd1a",
   "metadata": {},
   "outputs": [
    {
     "name": "stdout",
     "output_type": "stream",
     "text": [
      "Observation\n",
      "\n",
      "\tobs id            : 0 \n",
      " \ttstart            : 51544.00\n",
      "\ttstop             : 51544.21\n",
      "\tduration          : 18000.00 s\n",
      "\tpointing (icrs)   : 276.6 deg, -13.1 deg\n",
      "\n",
      "\tdeadtime fraction : 0.0%\n",
      "\n"
     ]
    }
   ],
   "source": [
    "location = observatory_locations[\"cta_north\"]\n",
    "obs = Observation.create(\n",
    "    pointing=pointing,\n",
    "    livetime=livetime,\n",
    "    irfs=irfs,\n",
    "    location=location,\n",
    ")\n",
    "print(obs)"
   ]
  },
  {
   "cell_type": "markdown",
   "id": "4ce16ebf",
   "metadata": {},
   "source": [
    "___"
   ]
  },
  {
   "cell_type": "markdown",
   "id": "74e31167",
   "metadata": {},
   "source": [
    "🔝 [Back to Top](#intro)<br>"
   ]
  },
  {
   "cell_type": "markdown",
   "id": "fc40f6bf",
   "metadata": {},
   "source": [
    "<a id='step3'></a>\n",
    "## Step 3.0:  Defining the Skymodel\n",
    "Define spectral model:"
   ]
  },
  {
   "cell_type": "code",
   "execution_count": 42,
   "id": "0728d768",
   "metadata": {},
   "outputs": [
    {
     "name": "stdout",
     "output_type": "stream",
     "text": [
      "PowerLawSpectralModel\n",
      "\n",
      "  type      name     value         unit      ... max frozen is_norm link\n",
      "-------- --------- ---------- -------------- ... --- ------ ------- ----\n",
      "spectral     index 2.2400e+00                ... nan  False   False     \n",
      "spectral amplitude 6.4700e-13 cm-2 s-1 TeV-1 ... nan  False    True     \n",
      "spectral reference 1.0000e-01            TeV ... nan   True   False     \n"
     ]
    }
   ],
   "source": [
    "# A simple Power Law\n",
    "index=2.24\n",
    "amplitude=6.47e-13 * u.Unit(\"cm-2 s-1 TeV-1\")\n",
    "reference=0.1 * u.TeV\n",
    "    \n",
    "pwl = PowerLawSpectralModel(\n",
    "    index=index,\n",
    "    amplitude=amplitude,\n",
    "    reference=reference,\n",
    ")\n",
    "print(pwl)"
   ]
  },
  {
   "cell_type": "markdown",
   "id": "44d70888",
   "metadata": {},
   "source": [
    "Define absorption model:"
   ]
  },
  {
   "cell_type": "code",
   "execution_count": 43,
   "id": "f04f4df6",
   "metadata": {
    "scrolled": true
   },
   "outputs": [
    {
     "name": "stdout",
     "output_type": "stream",
     "text": [
      "EBLAbsorptionNormSpectralModel\n",
      "\n",
      "  type      name      value    unit   error   min max frozen is_norm link\n",
      "-------- ---------- ---------- ---- --------- --- --- ------ ------- ----\n",
      "spectral alpha_norm 1.0000e+00      0.000e+00 nan nan   True   False     \n",
      "spectral   redshift 7.2797e-07      0.000e+00 nan nan   True   False     \n"
     ]
    }
   ],
   "source": [
    "ebl_models = ['franceschini', 'dominguez', 'finke'] # Available models in gammapy-data:{'franceschini', 'dominguez', 'finke'}\n",
    "\n",
    "ebl_ref = ebl_models[1] # dominguez\n",
    "\n",
    "absorption = EBLAbsorptionNormSpectralModel.read_builtin(\n",
    "    reference = ebl_ref, \n",
    "    redshift=src_red\n",
    ")\n",
    "print(absorption)"
   ]
  },
  {
   "cell_type": "markdown",
   "id": "5dc48eb3",
   "metadata": {},
   "source": [
    "The compound spectral model:"
   ]
  },
  {
   "cell_type": "code",
   "execution_count": 44,
   "id": "4758a3f5",
   "metadata": {},
   "outputs": [
    {
     "name": "stdout",
     "output_type": "stream",
     "text": [
      "CompoundSpectralModel\n",
      "    Component 1 : PowerLawSpectralModel\n",
      "\n",
      "  type      name     value         unit      ... max frozen is_norm link\n",
      "-------- --------- ---------- -------------- ... --- ------ ------- ----\n",
      "spectral     index 2.2400e+00                ... nan  False   False     \n",
      "spectral amplitude 6.4700e-13 cm-2 s-1 TeV-1 ... nan  False    True     \n",
      "spectral reference 1.0000e-01            TeV ... nan   True   False     \n",
      "    Component 2 : EBLAbsorptionNormSpectralModel\n",
      "\n",
      "  type      name      value    unit   error   min max frozen is_norm link\n",
      "-------- ---------- ---------- ---- --------- --- --- ------ ------- ----\n",
      "spectral alpha_norm 1.0000e+00      0.000e+00 nan nan   True   False     \n",
      "spectral   redshift 7.2797e-07      0.000e+00 nan nan   True   False     \n",
      "    Operator : mul\n",
      "\n"
     ]
    }
   ],
   "source": [
    "absspecmodel = pwl * absorption # CompoundSpectralModel\n",
    "print(absspecmodel)"
   ]
  },
  {
   "cell_type": "markdown",
   "id": "3d21f4b0",
   "metadata": {},
   "source": [
    "Setting the sky model used in the dataset:"
   ]
  },
  {
   "cell_type": "code",
   "execution_count": 45,
   "id": "81ef12a6",
   "metadata": {},
   "outputs": [
    {
     "name": "stdout",
     "output_type": "stream",
     "text": [
      "SkyModel\n",
      "\n",
      "  Name                      : model_simu\n",
      "  Datasets names            : None\n",
      "  Spectral model type       : CompoundSpectralModel\n",
      "  Spatial  model type       : \n",
      "  Temporal model type       : \n",
      "  Parameters:\n",
      "    index                         :      2.240   +/-    0.00             \n",
      "    amplitude                     :   6.47e-13   +/- 0.0e+00 1 / (cm2 s TeV)\n",
      "    reference             (frozen):      0.100       TeV         \n",
      "    alpha_norm            (frozen):      1.000                   \n",
      "    redshift              (frozen):      0.000                   \n",
      "\n",
      "\n"
     ]
    }
   ],
   "source": [
    "skymodel = SkyModel(\n",
    "    spectral_model=absspecmodel, \n",
    "    name=\"model_simu\"\n",
    ")\n",
    "print(skymodel)"
   ]
  },
  {
   "cell_type": "markdown",
   "id": "f4198219",
   "metadata": {},
   "source": [
    "___"
   ]
  },
  {
   "cell_type": "markdown",
   "id": "53f21006",
   "metadata": {},
   "source": [
    "🔝 [Back to Top](#intro)<br>"
   ]
  },
  {
   "cell_type": "markdown",
   "id": "38344d22",
   "metadata": {},
   "source": [
    "<a id='step4'></a>\n",
    "## Step 4.0:  Simulating the Spectrum\n",
    "<a id='step4.1'></a>\n",
    "### Step 4.1: Defines the geometry"
   ]
  },
  {
   "cell_type": "code",
   "execution_count": 46,
   "id": "465303cf",
   "metadata": {},
   "outputs": [],
   "source": [
    "# Defines the energy range\n",
    "emin = 25 * u.GeV   # Minimum energy\n",
    "emax = 100. * u.TeV # Maximum energy"
   ]
  },
  {
   "cell_type": "code",
   "execution_count": 47,
   "id": "2d570029",
   "metadata": {},
   "outputs": [
    {
     "name": "stdout",
     "output_type": "stream",
     "text": [
      "MapAxis\n",
      "\n",
      "\tname       : energy    \n",
      "\tunit       : 'TeV'     \n",
      "\tnbins      : 19        \n",
      "\tnode type  : edges     \n",
      "\tedges min  : 2.5e-02 TeV\n",
      "\tedges max  : 1.0e+02 TeV\n",
      "\tinterp     : log       \n",
      "\n"
     ]
    }
   ],
   "source": [
    "# Reconstructed energy axis\n",
    "energy_reco = MapAxis.from_energy_bounds(\n",
    "    emin, \n",
    "    emax, \n",
    "    nbin=5, \n",
    "    per_decade=True, \n",
    "    name=\"energy\"\n",
    ")\n",
    "print(energy_reco)"
   ]
  },
  {
   "cell_type": "code",
   "execution_count": 48,
   "id": "8f4df87d",
   "metadata": {},
   "outputs": [
    {
     "name": "stdout",
     "output_type": "stream",
     "text": [
      "Region: CircleSkyRegion\n",
      "center: <SkyCoord (ICRS): (ra, dec) in deg\n",
      "    (276.55489583, -13.57966667)>\n",
      "radius: 0.11 deg\n"
     ]
    }
   ],
   "source": [
    "# Defines the on region:\n",
    "on_region_radius = Angle(\"0.11 deg\")\n",
    "\n",
    "on_region = CircleSkyRegion(\n",
    "    center=src_pos, \n",
    "    radius=on_region_radius\n",
    ")\n",
    "print(on_region)"
   ]
  },
  {
   "cell_type": "code",
   "execution_count": 49,
   "id": "11618e5c",
   "metadata": {},
   "outputs": [],
   "source": [
    "#Defines the geometry:\n",
    "geom = RegionGeom.create(\n",
    "    region=on_region, \n",
    "    axes=[energy_reco]\n",
    ")"
   ]
  },
  {
   "cell_type": "markdown",
   "id": "1913d295",
   "metadata": {},
   "source": [
    "<a id='step4.2'></a>\n",
    "### Step 4.2: Setting the Model on the Dataset"
   ]
  },
  {
   "cell_type": "code",
   "execution_count": 50,
   "id": "53aabe70",
   "metadata": {},
   "outputs": [
    {
     "name": "stdout",
     "output_type": "stream",
     "text": [
      "MapAxis\n",
      "\n",
      "\tname       : energy_true\n",
      "\tunit       : 'TeV'     \n",
      "\tnbins      : 37        \n",
      "\tnode type  : edges     \n",
      "\tedges min  : 7.5e-03 TeV\n",
      "\tedges max  : 3.0e+02 TeV\n",
      "\tinterp     : log       \n",
      "\n"
     ]
    }
   ],
   "source": [
    "# Defines the true energy axis:\n",
    "# true energy axis should be wider than reco energy axis\n",
    "energy_true = MapAxis.from_energy_bounds(\n",
    "    0.3*emin, \n",
    "    3*emax, \n",
    "    nbin=8, \n",
    "    per_decade=True, \n",
    "    name=\"energy_true\"\n",
    ")\n",
    "print(energy_true)"
   ]
  },
  {
   "cell_type": "code",
   "execution_count": 51,
   "id": "e6019a32",
   "metadata": {},
   "outputs": [],
   "source": [
    "# Create a MapDataset object with zero filled maps.\n",
    "dataset_empty = SpectrumDataset.create(\n",
    "    geom=geom, \n",
    "    energy_axis_true=energy_true,\n",
    "    name=\"obs-0\"\n",
    ")"
   ]
  },
  {
   "cell_type": "code",
   "execution_count": 52,
   "id": "56b7079b",
   "metadata": {},
   "outputs": [],
   "source": [
    "# Make spectrum for a single IACT observation:\n",
    "# The irfs and background are computed at a single fixed offset, which is recommended only for point-sources.\n",
    "maker = SpectrumDatasetMaker(\n",
    "    containment_correction = True, # Apply containment correction for point sources and circular on regions.\n",
    "    selection=[\"edisp\", \"background\", \"exposure\"] # Selecting which maps to make\n",
    ")\n",
    "safe_maker = SafeMaskMaker(methods=[\"bkg-peak\"]) # Make safe data range mask for a given observation."
   ]
  },
  {
   "cell_type": "code",
   "execution_count": 53,
   "id": "dc9b92e8",
   "metadata": {},
   "outputs": [],
   "source": [
    "# Make map dataset:\n",
    "dataset = maker.run(dataset_empty, obs) \n",
    "dataset = safe_maker.run(dataset, obs)"
   ]
  },
  {
   "cell_type": "code",
   "execution_count": 54,
   "id": "c95a0d5e",
   "metadata": {},
   "outputs": [
    {
     "name": "stdout",
     "output_type": "stream",
     "text": [
      "SpectrumDataset\n",
      "---------------\n",
      "\n",
      "  Name                            : obs-0 \n",
      "\n",
      "  Total counts                    : 2842 \n",
      "  Total background counts         : 2855.77\n",
      "  Total excess counts             : -13.77\n",
      "\n",
      "  Predicted counts                : 2858.29\n",
      "  Predicted background counts     : 2855.77\n",
      "  Predicted excess counts         : 2.52\n",
      "\n",
      "  Exposure min                    : 2.57e+06 m2 s\n",
      "  Exposure max                    : 2.25e+10 m2 s\n",
      "\n",
      "  Number of total bins            : 19 \n",
      "  Number of fit bins              : 19 \n",
      "\n",
      "  Fit statistic type              : cash\n",
      "  Fit statistic value (-2 log(L)) : -30291.69\n",
      "\n",
      "  Number of models                : 1 \n",
      "  Number of parameters            : 5\n",
      "  Number of free parameters       : 2\n",
      "\n",
      "  Component 0: SkyModel\n",
      "  \n",
      "    Name                      : model_simu\n",
      "    Datasets names            : None\n",
      "    Spectral model type       : CompoundSpectralModel\n",
      "    Spatial  model type       : \n",
      "    Temporal model type       : \n",
      "    Parameters:\n",
      "      index                         :      2.240   +/-    0.00             \n",
      "      amplitude                     :   6.47e-13   +/- 0.0e+00 1 / (cm2 s TeV)\n",
      "      reference             (frozen):      0.100       TeV         \n",
      "      alpha_norm            (frozen):      1.000                   \n",
      "      redshift              (frozen):      0.000                   \n",
      "  \n",
      "  \n"
     ]
    }
   ],
   "source": [
    "# Set the model on the dataset, and fake\n",
    "dataset.models = skymodel\n",
    "dataset.fake(random_state=42)\n",
    "print(dataset)"
   ]
  },
  {
   "cell_type": "markdown",
   "id": "a16aaedc",
   "metadata": {},
   "source": [
    "You can see that background counts are now simulated."
   ]
  },
  {
   "cell_type": "markdown",
   "id": "f4a222a0",
   "metadata": {},
   "source": [
    "___"
   ]
  },
  {
   "cell_type": "markdown",
   "id": "944ee9c8",
   "metadata": {},
   "source": [
    "🔝 [Back to Top](#intro)<br>"
   ]
  },
  {
   "cell_type": "markdown",
   "id": "e9184705",
   "metadata": {},
   "source": [
    "<a id='step5'></a>\n",
    "### Step 5.0: On-Off Analysis\n",
    "\n",
    "To do an on off spectral analysis, which is the usual science case, the\n",
    "standard would be to use `SpectrumDatasetOnOff`, which uses the\n",
    "acceptance to fake off-counts"
   ]
  },
  {
   "cell_type": "markdown",
   "id": "a2814eb1",
   "metadata": {},
   "source": [
    "<a id='step5.1'></a>\n",
    "### Step 5.1: Simulating the Observations"
   ]
  },
  {
   "cell_type": "code",
   "execution_count": 55,
   "id": "cec597d4",
   "metadata": {},
   "outputs": [
    {
     "name": "stdout",
     "output_type": "stream",
     "text": [
      "SpectrumDatasetOnOff\n",
      "--------------------\n",
      "\n",
      "  Name                            : w9M9bZ4I \n",
      "\n",
      "  Total counts                    : 2809 \n",
      "  Total background counts         : 2805.40\n",
      "  Total excess counts             : 3.60\n",
      "\n",
      "  Predicted counts                : 2808.15\n",
      "  Predicted background counts     : 2805.62\n",
      "  Predicted excess counts         : 2.52\n",
      "\n",
      "  Exposure min                    : 2.57e+06 m2 s\n",
      "  Exposure max                    : 2.25e+10 m2 s\n",
      "\n",
      "  Number of total bins            : 19 \n",
      "  Number of fit bins              : 19 \n",
      "\n",
      "  Fit statistic type              : wstat\n",
      "  Fit statistic value (-2 log(L)) : 13.25\n",
      "\n",
      "  Number of models                : 1 \n",
      "  Number of parameters            : 5\n",
      "  Number of free parameters       : 2\n",
      "\n",
      "  Component 0: SkyModel\n",
      "  \n",
      "    Name                      : model_simu\n",
      "    Datasets names            : None\n",
      "    Spectral model type       : CompoundSpectralModel\n",
      "    Spatial  model type       : \n",
      "    Temporal model type       : \n",
      "    Parameters:\n",
      "      index                         :      2.240   +/-    0.00             \n",
      "      amplitude                     :   6.47e-13   +/- 0.0e+00 1 / (cm2 s TeV)\n",
      "      reference             (frozen):      0.100       TeV         \n",
      "      alpha_norm            (frozen):      1.000                   \n",
      "      redshift              (frozen):      0.000                   \n",
      "  \n",
      "    Total counts_off                : 14027 \n",
      "  Acceptance                      : 19 \n",
      "  Acceptance off                  : 95 \n",
      "\n"
     ]
    }
   ],
   "source": [
    "# Spectrum dataset for on-off likelihood fitting.\n",
    "dataset_onoff = SpectrumDatasetOnOff.from_spectrum_dataset(\n",
    "    dataset=dataset, \n",
    "    acceptance=1, \n",
    "    acceptance_off=5\n",
    ")\n",
    "\n",
    "# Simulate fake counts (on and off) for the current model and reduced IRFs.\n",
    "dataset_onoff.fake(\n",
    "    random_state='random-seed', \n",
    "    npred_background=dataset.npred_background()\n",
    ")\n",
    "\n",
    "print(dataset_onoff)"
   ]
  },
  {
   "cell_type": "code",
   "execution_count": 56,
   "id": "68a76332",
   "metadata": {},
   "outputs": [
    {
     "name": "stdout",
     "output_type": "stream",
     "text": [
      "[[0.06203063]]\n"
     ]
    }
   ],
   "source": [
    "# Class to compute statistics for Poisson distributed variable with unknown background.\n",
    "significance = WStatCountsStatistic(\n",
    "    n_on=sum(dataset_onoff.counts.data), \n",
    "    n_off=sum(dataset_onoff.counts_off.data), \n",
    "    alpha=0.2).sqrt_ts\n",
    "print(significance)"
   ]
  },
  {
   "cell_type": "code",
   "execution_count": 76,
   "id": "2c521f88",
   "metadata": {},
   "outputs": [],
   "source": [
    "n_obs = 1 # We simulate each observation n_obs times, to randomize the renortets"
   ]
  },
  {
   "cell_type": "code",
   "execution_count": 70,
   "id": "c9fb961f",
   "metadata": {},
   "outputs": [
    {
     "name": "stdout",
     "output_type": "stream",
     "text": [
      " name      counts     ...   acceptance_off         alpha       \n",
      "                      ...                                      \n",
      "----- --------------- ... ----------------- -------------------\n",
      "obs-0 535975411318784 ...              95.0 0.20000000298023224\n",
      "obs-1 535975445178279 ...              95.0                 0.2\n",
      "obs-2 535975472446084 ... 94.99999999999999 0.20000000000000004\n",
      "obs-3 535975471724036 ... 95.00000000000001 0.19999999999999996\n",
      "obs-4 535975504641119 ...              95.0                 0.2\n",
      "obs-5 535975492398550 ...              95.0                 0.2\n",
      "obs-6 535975498580869 ...              95.0                 0.2\n",
      "obs-7 535975487442434 ...              95.0                 0.2\n",
      "obs-8 535975482557066 ... 94.99999999999999 0.20000000000000004\n",
      "obs-9 535975519693881 ... 95.00000000000001 0.19999999999999998\n"
     ]
    }
   ],
   "source": [
    "datasets = Datasets()\n",
    "\n",
    "for idx in range(n_obs):\n",
    "    dataset_onoff.fake(\n",
    "        random_state=idx, \n",
    "        npred_background=dataset.npred_background()\n",
    "    )\n",
    "    dataset_fake = dataset_onoff.copy(name=f\"obs-{idx}\")\n",
    "    dataset_fake.meta_table[\"OBS_ID\"] = [idx]\n",
    "    datasets.append(dataset_fake)\n",
    "\n",
    "table = datasets.info_table()\n",
    "print(table)"
   ]
  },
  {
   "cell_type": "markdown",
   "id": "a44ebf25",
   "metadata": {},
   "source": [
    "<a id='step5.2'></a>\n",
    "### Step 5.2: Plotting Counts, Excess and Significance"
   ]
  },
  {
   "cell_type": "code",
   "execution_count": 71,
   "id": "8029e147",
   "metadata": {},
   "outputs": [
    {
     "data": {
      "image/png": "[encoded data removed]",
      "text/plain": [
       "<Figure size 1200x400 with 4 Axes>"
      ]
     },
     "metadata": {},
     "output_type": "display_data"
    }
   ],
   "source": [
    "fix, axes = plt.subplots(1, 4, figsize=(12, 4))\n",
    "axes[0].hist(table[\"counts\"])\n",
    "axes[0].set_xlabel(\"Counts\")\n",
    "axes[0].set_ylabel(\"Frequency\");\n",
    "\n",
    "axes[1].hist(table[\"counts_off\"])\n",
    "axes[1].set_xlabel(\"Counts Off\");\n",
    "\n",
    "axes[2].hist(table[\"excess\"])\n",
    "axes[2].set_xlabel(\"excess\");\n",
    "\n",
    "axes[3].hist(table[\"sqrt_ts\"])\n",
    "axes[3].set_xlabel(r\"significance ($\\sigma$)\");\n",
    "\n",
    "path_counts = mkdir_base_child(\"analysis\", \"counts\")\n",
    "\n",
    "plt_savefig(path_counts, \"counts\")"
   ]
  },
  {
   "cell_type": "markdown",
   "id": "0205b8f6",
   "metadata": {},
   "source": [
    "<a id='step5.3'></a>\n",
    "### Step 5.3: Computing the Sensitivity"
   ]
  },
  {
   "cell_type": "code",
   "execution_count": 72,
   "id": "43c839f9",
   "metadata": {},
   "outputs": [
    {
     "name": "stdout",
     "output_type": "stream",
     "text": [
      "  energy      e2dnde     excess background  criterion  \n",
      "   TeV    erg / (cm2 s)                                \n",
      "--------- ------------- ------- ---------- ------------\n",
      "0.0310979   1.47996e-11 105.601        992 significance\n",
      "0.0481186   9.20867e-12 92.7515        761 significance\n",
      "0.0744552   3.53071e-12  74.987        492 significance\n",
      " 0.115207   1.78864e-12 58.9927      299.8 significance\n",
      " 0.178262   1.05413e-12  41.193      141.6 significance\n",
      "  0.27583   7.19562e-13 31.1074         78 significance\n",
      "      ...           ...     ...        ...          ...\n",
      "  5.85755   5.61497e-13       5        0.2        gamma\n",
      "  9.06355   8.19107e-13       5        0.2        gamma\n",
      "  14.0243   1.12848e-12       5        0.2        gamma\n",
      "  21.7001   1.89992e-12       5          0        gamma\n",
      "  33.5772   3.42567e-12       5          0        gamma\n",
      "  51.9549   4.78113e-12       5          0        gamma\n",
      "  80.3913   4.67077e-12       5          0        gamma\n",
      "Length = 19 rows\n"
     ]
    },
    {
     "data": {
      "image/png": "[encoded data removed]",
      "text/plain": [
       "<Figure size 500x300 with 1 Axes>"
      ]
     },
     "metadata": {},
     "output_type": "display_data"
    }
   ],
   "source": [
    "sensitivity_estimator = SensitivityEstimator(\n",
    "    gamma_min=5, \n",
    "    n_sigma=3, \n",
    "    bkg_syst_fraction=0.10\n",
    ")\n",
    "sensitivity_table = sensitivity_estimator.run(dataset_onoff)\n",
    "print(sensitivity_table)\n",
    "\n",
    "# Plot the sensitivity curve\n",
    "t = sensitivity_table\n",
    "\n",
    "fix, axes = plt.subplots(figsize=(5, 3))\n",
    "\n",
    "axes.plot(t[\"energy\"], t[\"e2dnde\"], \"s-\", color=\"red\")\n",
    "axes.loglog()\n",
    "\n",
    "axes.set_xlabel(f\"Energy ({t['energy'].unit})\", size=12)\n",
    "axes.set_ylabel(f\"Sensitivity ({t['e2dnde'].unit})\", size=12)\n",
    "\n",
    "path_sens = mkdir_base_child(\"analysis\", \"sensitivity\")\n",
    "\n",
    "plt_savefig(path_sens, \"sensitivity\")"
   ]
  },
  {
   "cell_type": "markdown",
   "id": "013ea681",
   "metadata": {},
   "source": [
    "<a id='step5.4'></a>\n",
    "### Step 5.4:  Computing the Flux Points\n",
    "\n",
    "We can now compute some flux points using the `~gammapy.estimators.FluxPointsEstimator`. \n",
    "\n",
    "Besides the list of datasets to use, we must provide it the energy intervals on which to compute flux points as well as the model component name. "
   ]
  },
  {
   "cell_type": "code",
   "execution_count": 73,
   "id": "0b6306e7",
   "metadata": {
    "scrolled": true
   },
   "outputs": [
    {
     "name": "stderr",
     "output_type": "stream",
     "text": [
      "/home/gamma/anaconda3/envs/gammapy-1.0/lib/python3.9/site-packages/gammapy/datasets/core.py:224: RuntimeWarning: overflow encountered in double_scalars\n",
      "  stat_sum += dataset.stat_sum()\n"
     ]
    },
    {
     "name": "stdout",
     "output_type": "stream",
     "text": [
      "E VariableMetricBuilder Initial matrix not pos.def.\n",
      "E VariableMetricBuilder Initial matrix not pos.def.\n"
     ]
    },
    {
     "name": "stderr",
     "output_type": "stream",
     "text": [
      "/home/gamma/anaconda3/envs/gammapy-1.0/lib/python3.9/site-packages/gammapy/datasets/core.py:224: RuntimeWarning: overflow encountered in double_scalars\n",
      "  stat_sum += dataset.stat_sum()\n",
      "/home/gamma/anaconda3/envs/gammapy-1.0/lib/python3.9/site-packages/gammapy/datasets/core.py:224: RuntimeWarning: overflow encountered in double_scalars\n",
      "  stat_sum += dataset.stat_sum()\n",
      "/home/gamma/anaconda3/envs/gammapy-1.0/lib/python3.9/site-packages/gammapy/datasets/core.py:224: RuntimeWarning: overflow encountered in double_scalars\n",
      "  stat_sum += dataset.stat_sum()\n",
      "/home/gamma/anaconda3/envs/gammapy-1.0/lib/python3.9/site-packages/gammapy/datasets/core.py:224: RuntimeWarning: overflow encountered in double_scalars\n",
      "  stat_sum += dataset.stat_sum()\n",
      "/home/gamma/anaconda3/envs/gammapy-1.0/lib/python3.9/site-packages/gammapy/datasets/core.py:224: RuntimeWarning: overflow encountered in double_scalars\n",
      "  stat_sum += dataset.stat_sum()\n",
      "/home/gamma/anaconda3/envs/gammapy-1.0/lib/python3.9/site-packages/gammapy/datasets/core.py:224: RuntimeWarning: overflow encountered in double_scalars\n",
      "  stat_sum += dataset.stat_sum()\n",
      "/home/gamma/anaconda3/envs/gammapy-1.0/lib/python3.9/site-packages/gammapy/datasets/core.py:224: RuntimeWarning: overflow encountered in double_scalars\n",
      "  stat_sum += dataset.stat_sum()\n",
      "/home/gamma/anaconda3/envs/gammapy-1.0/lib/python3.9/site-packages/gammapy/datasets/core.py:224: RuntimeWarning: overflow encountered in double_scalars\n",
      "  stat_sum += dataset.stat_sum()\n"
     ]
    },
    {
     "name": "stdout",
     "output_type": "stream",
     "text": [
      "E VariableMetricBuilder Initial matrix not pos.def.\n"
     ]
    },
    {
     "name": "stderr",
     "output_type": "stream",
     "text": [
      "/home/gamma/anaconda3/envs/gammapy-1.0/lib/python3.9/site-packages/gammapy/datasets/core.py:224: RuntimeWarning: overflow encountered in double_scalars\n",
      "  stat_sum += dataset.stat_sum()\n",
      "/home/gamma/anaconda3/envs/gammapy-1.0/lib/python3.9/site-packages/gammapy/datasets/core.py:224: RuntimeWarning: overflow encountered in double_scalars\n",
      "  stat_sum += dataset.stat_sum()\n",
      "/home/gamma/anaconda3/envs/gammapy-1.0/lib/python3.9/site-packages/gammapy/datasets/core.py:224: RuntimeWarning: overflow encountered in double_scalars\n",
      "  stat_sum += dataset.stat_sum()\n",
      "/home/gamma/anaconda3/envs/gammapy-1.0/lib/python3.9/site-packages/gammapy/datasets/core.py:224: RuntimeWarning: overflow encountered in double_scalars\n",
      "  stat_sum += dataset.stat_sum()\n",
      "/home/gamma/anaconda3/envs/gammapy-1.0/lib/python3.9/site-packages/gammapy/datasets/core.py:224: RuntimeWarning: overflow encountered in double_scalars\n",
      "  stat_sum += dataset.stat_sum()\n",
      "/home/gamma/anaconda3/envs/gammapy-1.0/lib/python3.9/site-packages/gammapy/datasets/core.py:224: RuntimeWarning: overflow encountered in double_scalars\n",
      "  stat_sum += dataset.stat_sum()\n"
     ]
    },
    {
     "name": "stdout",
     "output_type": "stream",
     "text": [
      "e_ref  e_min  ...   norm_scan                     stat_scan                  \n",
      " TeV    TeV   ...                                                            \n",
      "------ ------ ... -------------- --------------------------------------------\n",
      " 0.115  0.093 ... 0.200 .. 5.000 1893626768712359.000 .. 1893626768712199.000\n",
      " 0.178  0.143 ... 0.200 .. 5.000 2243622024743291.500 .. 2243622024743121.000\n",
      " 0.276  0.222 ... 0.200 .. 5.000 2482081889893981.500 .. 2482081889893811.500\n",
      " 0.531  0.343 ... 0.200 .. 5.000 4204459372409545.500 .. 4204459372409300.000\n",
      " 1.022  0.821 ... 0.200 .. 5.000 1740049552707273.000 .. 1740049552707188.000\n",
      " 1.581  1.271 ... 0.200 .. 5.000 1233955653246921.500 .. 1233955653246866.500\n",
      " 2.447  1.967 ... 0.200 .. 5.000 1025529887574741.000 .. 1025529887574701.250\n",
      " 3.786  3.043 ... 0.200 .. 5.000   703583119475795.375 .. 703583119475770.375\n",
      " 5.858  4.709 ... 0.200 .. 5.000   511260707782611.375 .. 511260707782595.000\n",
      " 9.064  7.286 ... 0.200 .. 5.000   350468968202789.500 .. 350468968202779.500\n",
      "14.024 11.274 ... 0.200 .. 5.000   254387180991356.688 .. 254387180991349.812\n",
      "21.700 17.445 ... 0.200 .. 5.000   151096866844940.188 .. 151096866844936.469\n"
     ]
    }
   ],
   "source": [
    "#Compute flux points\n",
    "datasets.models = [skymodel]\n",
    "\n",
    "#fit_joint = Fit()\n",
    "#result_joint = fit_joint.run(datasets=datasets)\n",
    "\n",
    "# we make a copy here to compare it later\n",
    "model_best_joint = skymodel.copy()\n",
    "\n",
    "energy_edges = MapAxis.from_energy_bounds(\"0.1 TeV\", \"30 TeV\", nbin=12).edges\n",
    "\n",
    "fpe = FluxPointsEstimator(energy_edges=energy_edges, source=\"model_simu\", selection_optional=\"all\")\n",
    "flux_points = fpe.run(datasets=datasets)\n",
    "\n",
    "print(flux_points.to_table(sed_type=\"dnde\", formatted=True))"
   ]
  },
  {
   "cell_type": "code",
   "execution_count": 75,
   "id": "54055f62",
   "metadata": {
    "scrolled": true
   },
   "outputs": [
    {
     "data": {
      "image/png": "[encoded data removed]",
      "text/plain": [
       "<Figure size 640x480 with 1 Axes>"
      ]
     },
     "metadata": {},
     "output_type": "display_data"
    }
   ],
   "source": [
    "e_ref = []\n",
    "e_min = []\n",
    "e_max = []\n",
    "dnde = []\n",
    "dnde_err = []\n",
    "subtract_emin = []\n",
    "subtract_emax = []\n",
    "\n",
    "for j in range(len(flux_points[\"energy_max\"].value)):\n",
    "    if flux_points[\"dnde\"].data[j] > 0:\n",
    "        e_ref.append(flux_points[\"energy_ref\"].value[j])\n",
    "        e_min.append(flux_points[\"energy_min\"].value[j])\n",
    "        e_max.append(flux_points[\"energy_max\"].value[j])\n",
    "        dnde.append(flux_points[\"dnde\"].data[j][0])\n",
    "        dnde_err.append(flux_points[\"dnde_err\"].data[j][0])\n",
    "\n",
    "flux_TEV = np.hstack((dnde))#*1e+06\n",
    "flux_err_TEV = np.hstack((dnde_err))#*1e+06  \n",
    "energy = np.hstack((e_ref))\n",
    "\n",
    "#print(len(energy), len(flux_TEV))\n",
    "#print(energy)\n",
    "#print(np.asarray(flux_TEV))\n",
    "#print(np.hstack((e_ref))-np.hstack((e_min)), np.hstack((e_max))-np.hstack((e_ref)))\n",
    "\n",
    "energy_bounds = [0.01, 50] * u.TeV\n",
    "plt.figure()\n",
    "absspecmodel.plot(\n",
    "    energy_bounds, \n",
    "    label='intrinsic spectrum + EBL'\n",
    ")\n",
    "\n",
    "xerr = [np.hstack((e_ref))-np.hstack((e_min)), np.hstack((e_max))-np.hstack((e_ref))]\n",
    "plt.errorbar(\n",
    "    e_ref, \n",
    "    flux_TEV, \n",
    "    color='red', \n",
    "    marker='o', \n",
    "    xerr = xerr, \n",
    "    yerr = flux_err_TEV, \n",
    "    linestyle='', \n",
    "    label='measured spectrum')\n",
    "plt.grid(which=\"both\")\n",
    "plt.ylim(1e-24, 1e-8)\n",
    "plt.legend(loc=\"best\")\n",
    "plt.title(src_name)\n",
    "\n",
    "path_flux = mkdir_base_child(\"analysis\", \"flux_points\")\n",
    "\n",
    "plt_savefig(path_flux, \"flux_points\")\n",
    "\n",
    "# plt.savefig('./spectrum_src_M87.png', bbox_inches='tight')\n",
    "\n",
    "# plt.savefig('./M87_gammapy_flux_point.png', bbox_inches='tight')\n",
    "# plt.savefig('./M87_gammapy_flux_point.pdf', bbox_inches='tight')\n",
    "\n",
    "plt.show()\n"
   ]
  },
  {
   "cell_type": "markdown",
   "id": "ad36b0d2",
   "metadata": {},
   "source": [
    "___"
   ]
  },
  {
   "cell_type": "markdown",
   "id": "87e625c5",
   "metadata": {},
   "source": [
    "🔝 [Back to Top](#intro)<br>"
   ]
  },
  {
   "cell_type": "code",
   "execution_count": null,
   "id": "49e124f2",
   "metadata": {},
   "outputs": [],
   "source": []
  }
 ],
 "metadata": {
  "kernelspec": {
   "display_name": "Python 3 (ipykernel)",
   "language": "python",
   "name": "python3"
  },
  "language_info": {
   "codemirror_mode": {
    "name": "ipython",
    "version": 3
   },
   "file_extension": ".py",
   "mimetype": "text/x-python",
   "name": "python",
   "nbconvert_exporter": "python",
   "pygments_lexer": "ipython3",
   "version": "3.9.15"
  }
 },
 "nbformat": 4,
 "nbformat_minor": 5
}
