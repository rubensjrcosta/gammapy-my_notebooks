{
 "cells": [
  {
   "cell_type": "markdown",
   "id": "d7413890",
   "metadata": {},
   "source": [
    "Carrega os catalogos do gammapy\n",
    "\n",
    "Verifica a existencia da fonte em cada um dos catalgos\n",
    "\n",
    "Guarda a tabela dos pontos de fluxos"
   ]
  },
  {
   "cell_type": "code",
   "execution_count": 1,
   "id": "c6e3efbf",
   "metadata": {},
   "outputs": [],
   "source": [
    "%matplotlib inline\n",
    "import matplotlib.pyplot as plt"
   ]
  },
  {
   "cell_type": "code",
   "execution_count": 2,
   "id": "3ac8a12e",
   "metadata": {},
   "outputs": [],
   "source": [
    "# from astropy import units as u\n",
    "# from gammapy.modeling.models import (\n",
    "#     PowerLawSpectralModel,\n",
    "#     ExpCutoffPowerLawSpectralModel,\n",
    "#     LogParabolaSpectralModel,\n",
    "#     SkyModel,\n",
    "# )\n",
    "# from gammapy.estimators import FluxPoints\n",
    "from gammapy.datasets import FluxPointsDataset\n",
    "# from gammapy.datasets import FluxPointsDataset, Datasets\n",
    "\n",
    "# from gammapy.catalog import CATALOG_REGISTRY\n",
    "# from gammapy.modeling import Fit"
   ]
  },
  {
   "cell_type": "code",
   "execution_count": 3,
   "id": "047ec182",
   "metadata": {},
   "outputs": [],
   "source": [
    "from gammapy.catalog import CATALOG_REGISTRY\n"
   ]
  },
  {
   "cell_type": "code",
   "execution_count": 4,
   "id": "78a7fb45",
   "metadata": {},
   "outputs": [],
   "source": [
    "# from astropy.io import ascii\n",
    "# from astropy.table import Table"
   ]
  },
  {
   "cell_type": "code",
   "execution_count": 5,
   "id": "00ddcfae",
   "metadata": {
    "scrolled": true
   },
   "outputs": [],
   "source": [
    "# import os\n",
    "# import sys\n",
    "# import importlib\n",
    "\n",
    "# module_path = os.path.abspath('modules/spectral_models')\n",
    "# if module_path not in sys.path:\n",
    "#     sys.path.append(module_path)\n",
    "# print(module_path)\n",
    "# import spectral_models\n",
    "# importlib.reload(spectral_models)\n",
    "# from spectral_models import pwl_model\n",
    "\n",
    "# module_path = os.path.abspath('modules/utilities')\n",
    "# if module_path not in sys.path:\n",
    "#     sys.path.append(module_path)\n",
    "# # print(module_path)\n",
    "# import utilities\n",
    "# importlib.reload(utilities)\n",
    "# from utilities import mkdir_base_child, plt_savefig"
   ]
  },
  {
   "cell_type": "code",
   "execution_count": 6,
   "id": "fc40eca0",
   "metadata": {},
   "outputs": [],
   "source": [
    "# def print_flux():\n",
    "#     ax = plt.subplot()\n",
    "#     ax.yaxis.set_units(u.Unit(\"TeV cm-2 s-1\"))\n",
    "\n",
    "#     kwargs = {\"ax\": ax, \"sed_type\": \"e2dnde\"}\n",
    "\n",
    "#     for d in dataset:\n",
    "#         d.data.plot(label=d.name, **kwargs)\n",
    "#     energy_bounds = [1e-1, 1e2] * u.TeV\n",
    "#     title = f\"{LHAASO_name}:  {src_name}\"\n",
    "#     ax.set_title(title)\n",
    "#     ax.legend(loc=\"best\")\n",
    "#     ax.set_ylim(1e-16, 1e-9)\n",
    "#     ax.set_xlim(energy_bounds)\n",
    "#     ax.legend()\n",
    "\n",
    "#     file_name = LHAASO_id+\"_\"+src_id\n",
    "#     plt.savefig(file_name, bbox_inches='tight')\n",
    "#     # path_flux = mkdir_base_child(\"analysis\", \"flux_points\")\n",
    "\n",
    "#     # plt_savefig(path_flux, \"flux_points\")\n",
    "#     return "
   ]
  },
  {
   "cell_type": "code",
   "execution_count": 7,
   "id": "b7b09021",
   "metadata": {},
   "outputs": [],
   "source": [
    "# dict_model = {\n",
    "#     \"pwl\": pwl_model(),\n",
    "# #   \"logp\": logp_model(),\n",
    "# #   \"ecpl\": ecpl_model()    \n",
    "# }"
   ]
  },
  {
   "cell_type": "code",
   "execution_count": 8,
   "id": "1754fa6f",
   "metadata": {},
   "outputs": [],
   "source": [
    "catalog_gammacat = CATALOG_REGISTRY.get_cls(\"gamma-cat\")()\n",
    "catalog_hgps = CATALOG_REGISTRY.get_cls(\"hgps\")()\n",
    "catalog_2hwc = CATALOG_REGISTRY.get_cls(\"2hwc\")()\n",
    "catalog_3fgl = CATALOG_REGISTRY.get_cls(\"3fgl\")()\n",
    "catalog_4fgl = CATALOG_REGISTRY.get_cls(\"4fgl\")()\n",
    "catalog_2fhl = CATALOG_REGISTRY.get_cls(\"2fhl\")()\n",
    "catalog_3fhl = CATALOG_REGISTRY.get_cls(\"3fhl\")()\n",
    "catalog_3hwc = CATALOG_REGISTRY.get_cls(\"3hwc\")()"
   ]
  },
  {
   "cell_type": "code",
   "execution_count": 9,
   "id": "8744ea29",
   "metadata": {},
   "outputs": [],
   "source": [
    "TeVCount_dict = {\n",
    "    \"LHAASO J1825-1326\": [\"HESS J1825-137\", \"HESS J1826-130\", \"2HWC J1825-134\"], \n",
    "    \"LHAASO J1908+0621\": [\"MGRO J1908+06\" , \"HESS J1908+063\", \"ARGO J1907+0627\", \"VER J1907+062\", \"2HWC J1908+063\"], \n",
    "    \"LHAASO J2226+6057\": [\"VER 2226+608\"  , \"Boomerang\"]\n",
    "}"
   ]
  },
  {
   "cell_type": "code",
   "execution_count": 10,
   "id": "cb6af19e",
   "metadata": {},
   "outputs": [],
   "source": [
    "# import pandas as pd \n",
    "# # list of strings \n",
    "# lst1 = ['fav', 'tutor', 'coding', 'skills']\n",
    "# # list of int \n",
    "# lst2 = [11, 22, 33, 44] \n",
    "# # Calling DataFrame after zipping both lists, with columns specified \n",
    "# df = pd.DataFrame(list(zip(lst1, lst2)), columns =['key', 'value']) \n",
    "# print(df) "
   ]
  },
  {
   "cell_type": "code",
   "execution_count": 11,
   "id": "ef6f1fc5",
   "metadata": {},
   "outputs": [],
   "source": [
    "# TeVCount_dict[LHAASO]"
   ]
  },
  {
   "cell_type": "code",
   "execution_count": 12,
   "id": "12478245",
   "metadata": {},
   "outputs": [],
   "source": [
    "# range(len(TeVCount_dict[LHAASO]))"
   ]
  },
  {
   "cell_type": "code",
   "execution_count": 13,
   "id": "05474416",
   "metadata": {},
   "outputs": [],
   "source": [
    "# range(len(catalog_tag))"
   ]
  },
  {
   "cell_type": "code",
   "execution_count": 14,
   "id": "0d58f9e6",
   "metadata": {},
   "outputs": [
    {
     "data": {
      "text/html": [
       "<div>\n",
       "<style scoped>\n",
       "    .dataframe tbody tr th:only-of-type {\n",
       "        vertical-align: middle;\n",
       "    }\n",
       "\n",
       "    .dataframe tbody tr th {\n",
       "        vertical-align: top;\n",
       "    }\n",
       "\n",
       "    .dataframe thead th {\n",
       "        text-align: right;\n",
       "    }\n",
       "</style>\n",
       "<table border=\"1\" class=\"dataframe\">\n",
       "  <thead>\n",
       "    <tr style=\"text-align: right;\">\n",
       "      <th></th>\n",
       "      <th>LHAASO</th>\n",
       "      <th>Conterpart</th>\n",
       "      <th>Catalog</th>\n",
       "    </tr>\n",
       "  </thead>\n",
       "  <tbody>\n",
       "    <tr>\n",
       "      <th>0</th>\n",
       "      <td>LHAASO J1825-1326</td>\n",
       "      <td>HESS J1825-137</td>\n",
       "      <td>[gamma-cat, hgps, 3fgl, 4fgl, 2fhl, 3fhl]</td>\n",
       "    </tr>\n",
       "    <tr>\n",
       "      <th>1</th>\n",
       "      <td>LHAASO J1825-1326</td>\n",
       "      <td>HESS J1826-130</td>\n",
       "      <td>[gamma-cat, hgps, 4fgl, 3fhl]</td>\n",
       "    </tr>\n",
       "    <tr>\n",
       "      <th>2</th>\n",
       "      <td>LHAASO J1825-1326</td>\n",
       "      <td>2HWC J1825-134</td>\n",
       "      <td>[2hwc]</td>\n",
       "    </tr>\n",
       "    <tr>\n",
       "      <th>3</th>\n",
       "      <td>LHAASO J1908+0621</td>\n",
       "      <td>MGRO J1908+06</td>\n",
       "      <td>[gamma-cat, 3fgl, 4fgl]</td>\n",
       "    </tr>\n",
       "    <tr>\n",
       "      <th>4</th>\n",
       "      <td>LHAASO J1908+0621</td>\n",
       "      <td>HESS J1908+063</td>\n",
       "      <td>[gamma-cat, hgps]</td>\n",
       "    </tr>\n",
       "    <tr>\n",
       "      <th>5</th>\n",
       "      <td>LHAASO J1908+0621</td>\n",
       "      <td>ARGO J1907+0627</td>\n",
       "      <td>[gamma-cat]</td>\n",
       "    </tr>\n",
       "    <tr>\n",
       "      <th>6</th>\n",
       "      <td>LHAASO J1908+0621</td>\n",
       "      <td>VER J1907+062</td>\n",
       "      <td>[gamma-cat]</td>\n",
       "    </tr>\n",
       "    <tr>\n",
       "      <th>7</th>\n",
       "      <td>LHAASO J1908+0621</td>\n",
       "      <td>2HWC J1908+063</td>\n",
       "      <td>[2hwc]</td>\n",
       "    </tr>\n",
       "    <tr>\n",
       "      <th>8</th>\n",
       "      <td>LHAASO J2226+6057</td>\n",
       "      <td>VER 2226+608</td>\n",
       "      <td>[]</td>\n",
       "    </tr>\n",
       "    <tr>\n",
       "      <th>9</th>\n",
       "      <td>LHAASO J2226+6057</td>\n",
       "      <td>Boomerang</td>\n",
       "      <td>[3fgl, 4fgl]</td>\n",
       "    </tr>\n",
       "  </tbody>\n",
       "</table>\n",
       "</div>"
      ],
      "text/plain": [
       "              LHAASO       Conterpart  \\\n",
       "0  LHAASO J1825-1326   HESS J1825-137   \n",
       "1  LHAASO J1825-1326   HESS J1826-130   \n",
       "2  LHAASO J1825-1326   2HWC J1825-134   \n",
       "3  LHAASO J1908+0621    MGRO J1908+06   \n",
       "4  LHAASO J1908+0621   HESS J1908+063   \n",
       "5  LHAASO J1908+0621  ARGO J1907+0627   \n",
       "6  LHAASO J1908+0621    VER J1907+062   \n",
       "7  LHAASO J1908+0621   2HWC J1908+063   \n",
       "8  LHAASO J2226+6057     VER 2226+608   \n",
       "9  LHAASO J2226+6057        Boomerang   \n",
       "\n",
       "                                     Catalog  \n",
       "0  [gamma-cat, hgps, 3fgl, 4fgl, 2fhl, 3fhl]  \n",
       "1              [gamma-cat, hgps, 4fgl, 3fhl]  \n",
       "2                                     [2hwc]  \n",
       "3                    [gamma-cat, 3fgl, 4fgl]  \n",
       "4                          [gamma-cat, hgps]  \n",
       "5                                [gamma-cat]  \n",
       "6                                [gamma-cat]  \n",
       "7                                     [2hwc]  \n",
       "8                                         []  \n",
       "9                               [3fgl, 4fgl]  "
      ]
     },
     "metadata": {},
     "output_type": "display_data"
    }
   ],
   "source": [
    "catalog_tag = [\"gamma-cat\", \"hgps\", \"2hwc\", \"3fgl\", \"4fgl\", \"2fhl\", \"3fhl\", \"3hwc\"] \n",
    "lst=[]\n",
    "for i in range(len(TeVCount_dict.keys())):\n",
    "    LHAASO = list(TeVCount_dict.keys())[i]\n",
    "\n",
    "    for j in range(len(TeVCount_dict[LHAASO])):\n",
    "        cat_off = []\n",
    "        cat_on = []\n",
    "        \n",
    "        TeVCount=TeVCount_dict[LHAASO][j]\n",
    "\n",
    "        for k in range(len(catalog_tag)): \n",
    "            try:\n",
    "                cat_name = catalog_tag[k]\n",
    "                cat=CATALOG_REGISTRY.get_cls(cat_name)()\n",
    "                src=cat[TeVCount]\n",
    "                cat_on.append(catalog_tag[k])\n",
    "            except:\n",
    "                cat_off.append(catalog_tag[k])\n",
    "\n",
    "            lst_k=[LHAASO, TeVCount, cat_on]\n",
    "        \n",
    "        lst.append(lst_k)\n",
    "    \n",
    "import pandas as pd \n",
    "# List1 \n",
    "# lst = [['apple', 'red', 11], ['grape', 'green', 22], ['orange', 'orange', 33], ['mango', 'yellow', 44]] \n",
    "df = pd.DataFrame(lst, columns =['LHAASO', 'Conterpart', 'Catalog']) \n",
    "display(df) "
   ]
  },
  {
   "cell_type": "code",
   "execution_count": 44,
   "id": "6958eae8",
   "metadata": {},
   "outputs": [
    {
     "name": "stdout",
     "output_type": "stream",
     "text": [
      "Collecting dataframe-image\n",
      "  Downloading dataframe_image-0.1.5-py3-none-any.whl (6.6 MB)\n",
      "\u001b[2K     \u001b[38;2;114;156;31m━━━━━━━━━━━━━━━━━━━━━━━━━━━━━━━━━━━━━━━━\u001b[0m \u001b[32m6.6/6.6 MB\u001b[0m \u001b[31m17.1 MB/s\u001b[0m eta \u001b[36m0:00:00\u001b[0mm eta \u001b[36m0:00:01\u001b[0m[36m0:00:01\u001b[0m\n",
      "\u001b[?25hRequirement already satisfied: pandas>=0.24 in /home/gamma/anaconda3/envs/gammapy-1.0/lib/python3.9/site-packages (from dataframe-image) (1.5.0)\n",
      "Requirement already satisfied: nbconvert>=5 in /home/gamma/anaconda3/envs/gammapy-1.0/lib/python3.9/site-packages (from dataframe-image) (7.2.7)\n",
      "Requirement already satisfied: matplotlib>=3.1 in /home/gamma/anaconda3/envs/gammapy-1.0/lib/python3.9/site-packages (from dataframe-image) (3.6.2)\n",
      "Requirement already satisfied: requests in /home/gamma/anaconda3/envs/gammapy-1.0/lib/python3.9/site-packages (from dataframe-image) (2.28.1)\n",
      "Requirement already satisfied: packaging in /home/gamma/anaconda3/envs/gammapy-1.0/lib/python3.9/site-packages (from dataframe-image) (22.0)\n",
      "Requirement already satisfied: beautifulsoup4 in /home/gamma/anaconda3/envs/gammapy-1.0/lib/python3.9/site-packages (from dataframe-image) (4.11.1)\n",
      "Collecting aiohttp\n",
      "  Downloading aiohttp-3.8.3-cp39-cp39-manylinux_2_17_x86_64.manylinux2014_x86_64.whl (1.0 MB)\n",
      "\u001b[2K     \u001b[38;2;114;156;31m━━━━━━━━━━━━━━━━━━━━━━━━━━━━━━━━━━━━━━━━\u001b[0m \u001b[32m1.0/1.0 MB\u001b[0m \u001b[31m18.9 MB/s\u001b[0m eta \u001b[36m0:00:00\u001b[0m31m24.3 MB/s\u001b[0m eta \u001b[36m0:00:01\u001b[0m\n",
      "\u001b[?25hRequirement already satisfied: mistune in /home/gamma/anaconda3/envs/gammapy-1.0/lib/python3.9/site-packages (from dataframe-image) (2.0.4)\n",
      "Requirement already satisfied: cycler>=0.10 in /home/gamma/anaconda3/envs/gammapy-1.0/lib/python3.9/site-packages (from matplotlib>=3.1->dataframe-image) (0.11.0)\n",
      "Requirement already satisfied: pillow>=6.2.0 in /home/gamma/anaconda3/envs/gammapy-1.0/lib/python3.9/site-packages (from matplotlib>=3.1->dataframe-image) (9.2.0)\n",
      "Requirement already satisfied: fonttools>=4.22.0 in /home/gamma/anaconda3/envs/gammapy-1.0/lib/python3.9/site-packages (from matplotlib>=3.1->dataframe-image) (4.38.0)\n",
      "Requirement already satisfied: python-dateutil>=2.7 in /home/gamma/anaconda3/envs/gammapy-1.0/lib/python3.9/site-packages (from matplotlib>=3.1->dataframe-image) (2.8.2)\n",
      "Requirement already satisfied: contourpy>=1.0.1 in /home/gamma/anaconda3/envs/gammapy-1.0/lib/python3.9/site-packages (from matplotlib>=3.1->dataframe-image) (1.0.6)\n",
      "Requirement already satisfied: pyparsing>=2.2.1 in /home/gamma/anaconda3/envs/gammapy-1.0/lib/python3.9/site-packages (from matplotlib>=3.1->dataframe-image) (3.0.9)\n",
      "Requirement already satisfied: kiwisolver>=1.0.1 in /home/gamma/anaconda3/envs/gammapy-1.0/lib/python3.9/site-packages (from matplotlib>=3.1->dataframe-image) (1.4.4)\n",
      "Requirement already satisfied: numpy>=1.19 in /home/gamma/anaconda3/envs/gammapy-1.0/lib/python3.9/site-packages (from matplotlib>=3.1->dataframe-image) (1.23.5)\n",
      "Requirement already satisfied: nbformat>=5.1 in /home/gamma/anaconda3/envs/gammapy-1.0/lib/python3.9/site-packages (from nbconvert>=5->dataframe-image) (5.7.1)\n",
      "Requirement already satisfied: importlib-metadata>=3.6 in /home/gamma/anaconda3/envs/gammapy-1.0/lib/python3.9/site-packages (from nbconvert>=5->dataframe-image) (5.2.0)\n",
      "Requirement already satisfied: jinja2>=3.0 in /home/gamma/anaconda3/envs/gammapy-1.0/lib/python3.9/site-packages (from nbconvert>=5->dataframe-image) (3.1.2)\n",
      "Requirement already satisfied: defusedxml in /home/gamma/anaconda3/envs/gammapy-1.0/lib/python3.9/site-packages (from nbconvert>=5->dataframe-image) (0.7.1)\n",
      "Requirement already satisfied: jupyterlab-pygments in /home/gamma/anaconda3/envs/gammapy-1.0/lib/python3.9/site-packages (from nbconvert>=5->dataframe-image) (0.2.2)\n",
      "Requirement already satisfied: nbclient>=0.5.0 in /home/gamma/anaconda3/envs/gammapy-1.0/lib/python3.9/site-packages (from nbconvert>=5->dataframe-image) (0.7.2)\n",
      "Requirement already satisfied: pygments>=2.4.1 in /home/gamma/anaconda3/envs/gammapy-1.0/lib/python3.9/site-packages (from nbconvert>=5->dataframe-image) (2.13.0)\n",
      "Requirement already satisfied: bleach in /home/gamma/anaconda3/envs/gammapy-1.0/lib/python3.9/site-packages (from nbconvert>=5->dataframe-image) (5.0.1)\n",
      "Requirement already satisfied: tinycss2 in /home/gamma/anaconda3/envs/gammapy-1.0/lib/python3.9/site-packages (from nbconvert>=5->dataframe-image) (1.2.1)\n",
      "Requirement already satisfied: traitlets>=5.0 in /home/gamma/anaconda3/envs/gammapy-1.0/lib/python3.9/site-packages (from nbconvert>=5->dataframe-image) (5.8.0)\n",
      "Requirement already satisfied: jupyter-core>=4.7 in /home/gamma/anaconda3/envs/gammapy-1.0/lib/python3.9/site-packages (from nbconvert>=5->dataframe-image) (5.1.0)\n",
      "Requirement already satisfied: markupsafe>=2.0 in /home/gamma/anaconda3/envs/gammapy-1.0/lib/python3.9/site-packages (from nbconvert>=5->dataframe-image) (2.1.1)\n",
      "Requirement already satisfied: pandocfilters>=1.4.1 in /home/gamma/anaconda3/envs/gammapy-1.0/lib/python3.9/site-packages (from nbconvert>=5->dataframe-image) (1.5.0)\n",
      "Requirement already satisfied: pytz>=2020.1 in /home/gamma/anaconda3/envs/gammapy-1.0/lib/python3.9/site-packages (from pandas>=0.24->dataframe-image) (2022.7)\n",
      "Collecting multidict<7.0,>=4.5\n",
      "  Downloading multidict-6.0.4-cp39-cp39-manylinux_2_17_x86_64.manylinux2014_x86_64.whl (114 kB)\n",
      "\u001b[2K     \u001b[38;2;114;156;31m━━━━━━━━━━━━━━━━━━━━━━━━━━━━━━━━━━━━━━━\u001b[0m \u001b[32m114.2/114.2 kB\u001b[0m \u001b[31m9.6 MB/s\u001b[0m eta \u001b[36m0:00:00\u001b[0m\n",
      "\u001b[?25hCollecting yarl<2.0,>=1.0\n",
      "  Downloading yarl-1.8.2-cp39-cp39-manylinux_2_17_x86_64.manylinux2014_x86_64.whl (264 kB)\n",
      "\u001b[2K     \u001b[38;2;114;156;31m━━━━━━━━━━━━━━━━━━━━━━━━━━━━━━━━━━━━━━\u001b[0m \u001b[32m264.6/264.6 kB\u001b[0m \u001b[31m12.7 MB/s\u001b[0m eta \u001b[36m0:00:00\u001b[0m\n",
      "\u001b[?25hRequirement already satisfied: charset-normalizer<3.0,>=2.0 in /home/gamma/anaconda3/envs/gammapy-1.0/lib/python3.9/site-packages (from aiohttp->dataframe-image) (2.1.1)\n",
      "Collecting frozenlist>=1.1.1\n",
      "  Downloading frozenlist-1.3.3-cp39-cp39-manylinux_2_5_x86_64.manylinux1_x86_64.manylinux_2_17_x86_64.manylinux2014_x86_64.whl (158 kB)\n",
      "\u001b[2K     \u001b[38;2;114;156;31m━━━━━━━━━━━━━━━━━━━━━━━━━━━━━━━━━━━━━━\u001b[0m \u001b[32m158.8/158.8 kB\u001b[0m \u001b[31m14.4 MB/s\u001b[0m eta \u001b[36m0:00:00\u001b[0m\n",
      "\u001b[?25hCollecting async-timeout<5.0,>=4.0.0a3\n",
      "  Downloading async_timeout-4.0.2-py3-none-any.whl (5.8 kB)\n",
      "Requirement already satisfied: attrs>=17.3.0 in /home/gamma/anaconda3/envs/gammapy-1.0/lib/python3.9/site-packages (from aiohttp->dataframe-image) (22.2.0)\n",
      "Collecting aiosignal>=1.1.2\n",
      "  Downloading aiosignal-1.3.1-py3-none-any.whl (7.6 kB)\n",
      "Requirement already satisfied: soupsieve>1.2 in /home/gamma/anaconda3/envs/gammapy-1.0/lib/python3.9/site-packages (from beautifulsoup4->dataframe-image) (2.3.2.post1)\n",
      "Requirement already satisfied: certifi>=2017.4.17 in /home/gamma/anaconda3/envs/gammapy-1.0/lib/python3.9/site-packages (from requests->dataframe-image) (2022.12.7)\n",
      "Requirement already satisfied: urllib3<1.27,>=1.21.1 in /home/gamma/anaconda3/envs/gammapy-1.0/lib/python3.9/site-packages (from requests->dataframe-image) (1.26.13)\n",
      "Requirement already satisfied: idna<4,>=2.5 in /home/gamma/anaconda3/envs/gammapy-1.0/lib/python3.9/site-packages (from requests->dataframe-image) (3.4)\n",
      "Requirement already satisfied: zipp>=0.5 in /home/gamma/anaconda3/envs/gammapy-1.0/lib/python3.9/site-packages (from importlib-metadata>=3.6->nbconvert>=5->dataframe-image) (3.11.0)\n",
      "Requirement already satisfied: platformdirs>=2.5 in /home/gamma/anaconda3/envs/gammapy-1.0/lib/python3.9/site-packages (from jupyter-core>=4.7->nbconvert>=5->dataframe-image) (2.6.0)\n",
      "Requirement already satisfied: jupyter-client>=6.1.12 in /home/gamma/anaconda3/envs/gammapy-1.0/lib/python3.9/site-packages (from nbclient>=0.5.0->nbconvert>=5->dataframe-image) (7.4.8)\n",
      "Requirement already satisfied: fastjsonschema in /home/gamma/anaconda3/envs/gammapy-1.0/lib/python3.9/site-packages (from nbformat>=5.1->nbconvert>=5->dataframe-image) (2.16.2)\n",
      "Requirement already satisfied: jsonschema>=2.6 in /home/gamma/anaconda3/envs/gammapy-1.0/lib/python3.9/site-packages (from nbformat>=5.1->nbconvert>=5->dataframe-image) (4.17.3)\n",
      "Requirement already satisfied: six>=1.5 in /home/gamma/anaconda3/envs/gammapy-1.0/lib/python3.9/site-packages (from python-dateutil>=2.7->matplotlib>=3.1->dataframe-image) (1.16.0)\n"
     ]
    },
    {
     "name": "stdout",
     "output_type": "stream",
     "text": [
      "Requirement already satisfied: webencodings in /home/gamma/anaconda3/envs/gammapy-1.0/lib/python3.9/site-packages (from bleach->nbconvert>=5->dataframe-image) (0.5.1)\n",
      "Requirement already satisfied: pyrsistent!=0.17.0,!=0.17.1,!=0.17.2,>=0.14.0 in /home/gamma/anaconda3/envs/gammapy-1.0/lib/python3.9/site-packages (from jsonschema>=2.6->nbformat>=5.1->nbconvert>=5->dataframe-image) (0.19.2)\n",
      "Requirement already satisfied: nest-asyncio>=1.5.4 in /home/gamma/anaconda3/envs/gammapy-1.0/lib/python3.9/site-packages (from jupyter-client>=6.1.12->nbclient>=0.5.0->nbconvert>=5->dataframe-image) (1.5.6)\n",
      "Requirement already satisfied: entrypoints in /home/gamma/anaconda3/envs/gammapy-1.0/lib/python3.9/site-packages (from jupyter-client>=6.1.12->nbclient>=0.5.0->nbconvert>=5->dataframe-image) (0.4)\n",
      "Requirement already satisfied: tornado>=6.2 in /home/gamma/anaconda3/envs/gammapy-1.0/lib/python3.9/site-packages (from jupyter-client>=6.1.12->nbclient>=0.5.0->nbconvert>=5->dataframe-image) (6.2)\n",
      "Requirement already satisfied: pyzmq>=23.0 in /home/gamma/anaconda3/envs/gammapy-1.0/lib/python3.9/site-packages (from jupyter-client>=6.1.12->nbclient>=0.5.0->nbconvert>=5->dataframe-image) (24.0.1)\n",
      "Installing collected packages: multidict, frozenlist, async-timeout, yarl, aiosignal, aiohttp, dataframe-image\n",
      "Successfully installed aiohttp-3.8.3 aiosignal-1.3.1 async-timeout-4.0.2 dataframe-image-0.1.5 frozenlist-1.3.3 multidict-6.0.4 yarl-1.8.2\n"
     ]
    }
   ],
   "source": [
    "!pip install dataframe-image"
   ]
  },
  {
   "cell_type": "code",
   "execution_count": 45,
   "id": "540145b3",
   "metadata": {},
   "outputs": [],
   "source": [
    "import pandas as pd\n",
    "import dataframe_image as dfi"
   ]
  },
  {
   "cell_type": "code",
   "execution_count": 49,
   "id": "df344c78",
   "metadata": {},
   "outputs": [
    {
     "name": "stderr",
     "output_type": "stream",
     "text": [
      "MESA-INTEL: warning: Performance support disabled, consider sysctl dev.i915.perf_stream_paranoid=0\n",
      "\n",
      "[0126/222228.276851:WARNING:bluez_dbus_manager.cc(247)] Floss manager not present, cannot set Floss enable/disable.\n",
      "[0126/222228.295223:WARNING:sandbox_linux.cc(385)] InitializeSandbox() called with multiple threads in process gpu-process.\n",
      "[0126/222228.450114:INFO:headless_shell.cc(223)] 83595 bytes written to file /tmp/tmpe_jsxo7w/temp.png\n"
     ]
    }
   ],
   "source": [
    "\n",
    "dfi.export(df, 'TeVCounterpart/flux_points/flux_points.png')"
   ]
  },
  {
   "cell_type": "code",
   "execution_count": 38,
   "id": "f58fd516",
   "metadata": {},
   "outputs": [
    {
     "data": {
      "text/html": [
       "<div>\n",
       "<style scoped>\n",
       "    .dataframe tbody tr th:only-of-type {\n",
       "        vertical-align: middle;\n",
       "    }\n",
       "\n",
       "    .dataframe tbody tr th {\n",
       "        vertical-align: top;\n",
       "    }\n",
       "\n",
       "    .dataframe thead th {\n",
       "        text-align: right;\n",
       "    }\n",
       "</style>\n",
       "<table border=\"1\" class=\"dataframe\">\n",
       "  <thead>\n",
       "    <tr style=\"text-align: right;\">\n",
       "      <th></th>\n",
       "      <th>LHAASO</th>\n",
       "      <th>Conterpart</th>\n",
       "      <th>Catalog</th>\n",
       "      <th>Flux Points</th>\n",
       "    </tr>\n",
       "  </thead>\n",
       "  <tbody>\n",
       "    <tr>\n",
       "      <th>0</th>\n",
       "      <td>LHAASO J1825-1326</td>\n",
       "      <td>HESS J1825-137</td>\n",
       "      <td>[gamma-cat, hgps, 3fgl, 4fgl, 2fhl, 3fhl]</td>\n",
       "      <td>[ok, ok, ok, ok, ok, ok]</td>\n",
       "    </tr>\n",
       "    <tr>\n",
       "      <th>1</th>\n",
       "      <td>LHAASO J1825-1326</td>\n",
       "      <td>HESS J1826-130</td>\n",
       "      <td>[gamma-cat, hgps, 4fgl, 3fhl]</td>\n",
       "      <td>[ok, ok, ok, ok]</td>\n",
       "    </tr>\n",
       "    <tr>\n",
       "      <th>2</th>\n",
       "      <td>LHAASO J1825-1326</td>\n",
       "      <td>2HWC J1825-134</td>\n",
       "      <td>[2hwc]</td>\n",
       "      <td>[]</td>\n",
       "    </tr>\n",
       "    <tr>\n",
       "      <th>3</th>\n",
       "      <td>LHAASO J1908+0621</td>\n",
       "      <td>MGRO J1908+06</td>\n",
       "      <td>[gamma-cat, 3fgl, 4fgl]</td>\n",
       "      <td>[ok, ok, ok]</td>\n",
       "    </tr>\n",
       "    <tr>\n",
       "      <th>4</th>\n",
       "      <td>LHAASO J1908+0621</td>\n",
       "      <td>HESS J1908+063</td>\n",
       "      <td>[gamma-cat, hgps]</td>\n",
       "      <td>[ok, ok]</td>\n",
       "    </tr>\n",
       "    <tr>\n",
       "      <th>5</th>\n",
       "      <td>LHAASO J1908+0621</td>\n",
       "      <td>ARGO J1907+0627</td>\n",
       "      <td>[gamma-cat]</td>\n",
       "      <td>[ok]</td>\n",
       "    </tr>\n",
       "    <tr>\n",
       "      <th>6</th>\n",
       "      <td>LHAASO J1908+0621</td>\n",
       "      <td>VER J1907+062</td>\n",
       "      <td>[gamma-cat]</td>\n",
       "      <td>[ok]</td>\n",
       "    </tr>\n",
       "    <tr>\n",
       "      <th>7</th>\n",
       "      <td>LHAASO J1908+0621</td>\n",
       "      <td>2HWC J1908+063</td>\n",
       "      <td>[2hwc]</td>\n",
       "      <td>[]</td>\n",
       "    </tr>\n",
       "    <tr>\n",
       "      <th>8</th>\n",
       "      <td>LHAASO J2226+6057</td>\n",
       "      <td>VER 2226+608</td>\n",
       "      <td>[]</td>\n",
       "      <td>[]</td>\n",
       "    </tr>\n",
       "    <tr>\n",
       "      <th>9</th>\n",
       "      <td>LHAASO J2226+6057</td>\n",
       "      <td>Boomerang</td>\n",
       "      <td>[3fgl, 4fgl]</td>\n",
       "      <td>[ok, ok]</td>\n",
       "    </tr>\n",
       "  </tbody>\n",
       "</table>\n",
       "</div>"
      ],
      "text/plain": [
       "              LHAASO       Conterpart  \\\n",
       "0  LHAASO J1825-1326   HESS J1825-137   \n",
       "1  LHAASO J1825-1326   HESS J1826-130   \n",
       "2  LHAASO J1825-1326   2HWC J1825-134   \n",
       "3  LHAASO J1908+0621    MGRO J1908+06   \n",
       "4  LHAASO J1908+0621   HESS J1908+063   \n",
       "5  LHAASO J1908+0621  ARGO J1907+0627   \n",
       "6  LHAASO J1908+0621    VER J1907+062   \n",
       "7  LHAASO J1908+0621   2HWC J1908+063   \n",
       "8  LHAASO J2226+6057     VER 2226+608   \n",
       "9  LHAASO J2226+6057        Boomerang   \n",
       "\n",
       "                                     Catalog               Flux Points  \n",
       "0  [gamma-cat, hgps, 3fgl, 4fgl, 2fhl, 3fhl]  [ok, ok, ok, ok, ok, ok]  \n",
       "1              [gamma-cat, hgps, 4fgl, 3fhl]          [ok, ok, ok, ok]  \n",
       "2                                     [2hwc]                        []  \n",
       "3                    [gamma-cat, 3fgl, 4fgl]              [ok, ok, ok]  \n",
       "4                          [gamma-cat, hgps]                  [ok, ok]  \n",
       "5                                [gamma-cat]                      [ok]  \n",
       "6                                [gamma-cat]                      [ok]  \n",
       "7                                     [2hwc]                        []  \n",
       "8                                         []                        []  \n",
       "9                               [3fgl, 4fgl]                  [ok, ok]  "
      ]
     },
     "metadata": {},
     "output_type": "display_data"
    }
   ],
   "source": [
    "catalog_tag = [\"gamma-cat\", \"hgps\", \"2hwc\", \"3fgl\", \"4fgl\", \"2fhl\", \"3fhl\", \"3hwc\"] \n",
    "lst=[]\n",
    "for i in range(len(TeVCount_dict.keys())):\n",
    "    LHAASO = list(TeVCount_dict.keys())[i]\n",
    "\n",
    "    for j in range(len(TeVCount_dict[LHAASO])):\n",
    "        cat_off = []\n",
    "        cat_on = []\n",
    "        \n",
    "        pf_off = []\n",
    "        pf_on = []\n",
    "        \n",
    "        TeVCount=TeVCount_dict[LHAASO][j]\n",
    "\n",
    "        for k in range(len(catalog_tag)): \n",
    "            cat_name = catalog_tag[k]\n",
    "            \n",
    "            try:\n",
    "                cat=CATALOG_REGISTRY.get_cls(cat_name)()\n",
    "                src=cat[TeVCount]\n",
    "                cat_on.append(catalog_tag[k])\n",
    "                \n",
    "                ds = FluxPointsDataset(\n",
    "                    data=src.flux_points, \n",
    "                    name=cat_name\n",
    "                )\n",
    "                pf_on.append(\"ok\")\n",
    "            except:\n",
    "                cat_off.append(catalog_tag[k])\n",
    "#                 pf_on.append(\"no\")\n",
    "#             try:\n",
    "#                 ds = FluxPointsDataset(\n",
    "#                     data=src.flux_points, \n",
    "#                     name=cat_name\n",
    "#                 )\n",
    "#                 pf_on.append(\"ok\")\n",
    "#             except:\n",
    "#                 pf_on.append(\"no\")\n",
    "            lst_k=[LHAASO, TeVCount, cat_on, pf_on]\n",
    "        lst.append(lst_k)\n",
    "    \n",
    "import pandas as pd \n",
    "# List1 \n",
    "# lst = [['apple', 'red', 11], ['grape', 'green', 22], ['orange', 'orange', 33], ['mango', 'yellow', 44]] \n",
    "df = pd.DataFrame(lst, columns =['LHAASO', 'Conterpart', 'Catalog', 'Flux Points']) \n",
    "display(df) "
   ]
  },
  {
   "cell_type": "code",
   "execution_count": 36,
   "id": "587a5175",
   "metadata": {},
   "outputs": [
    {
     "data": {
      "text/html": [
       "<div><i>Table length=8</i>\n",
       "<table id=\"table139672559601216\" class=\"table-striped table-bordered table-condensed\">\n",
       "<thead><tr><th>e_ref</th><th>e_min</th><th>e_max</th><th>flux</th><th>flux_errp</th><th>flux_errn</th><th>flux_ul</th><th>sqrt_ts</th><th>is_ul</th></tr></thead>\n",
       "<thead><tr><th>MeV</th><th>MeV</th><th>MeV</th><th>1 / (cm2 s)</th><th>1 / (cm2 s)</th><th>1 / (cm2 s)</th><th>1 / (cm2 s)</th><th></th><th></th></tr></thead>\n",
       "<thead><tr><th>float64</th><th>float64</th><th>float64</th><th>float64</th><th>float64</th><th>float64</th><th>float64</th><th>float32</th><th>bool</th></tr></thead>\n",
       "<tr><td>70.71067811865478</td><td>49.99999999999999</td><td>100.00000000000004</td><td>2.078468241961673e-07</td><td>5.751192233560687e-08</td><td>1.6331901520061365e-07</td><td>nan</td><td>1.1935638</td><td>False</td></tr>\n",
       "<tr><td>173.20508075688775</td><td>100.00000000000004</td><td>299.99999999999994</td><td>1.671608202968855e-07</td><td>2.8877554569817218e-08</td><td>2.9259556555416566e-08</td><td>nan</td><td>5.9036613</td><td>False</td></tr>\n",
       "<tr><td>547.722557505166</td><td>299.99999999999994</td><td>999.9999999999998</td><td>9.220097041406916e-08</td><td>2.281774325041397e-09</td><td>2.281774325041397e-09</td><td>nan</td><td>48.995678</td><td>False</td></tr>\n",
       "<tr><td>1732.0508075688763</td><td>999.9999999999998</td><td>2999.9999999999977</td><td>2.4721000357885714e-08</td><td>3.585990393517591e-10</td><td>3.585990393517591e-10</td><td>nan</td><td>105.55699</td><td>False</td></tr>\n",
       "<tr><td>5477.225575051666</td><td>2999.9999999999977</td><td>10000.00000000001</td><td>4.9213859654173575e-09</td><td>1.0209709466746374e-10</td><td>1.0209709466746374e-10</td><td>nan</td><td>98.235115</td><td>False</td></tr>\n",
       "<tr><td>17320.50807568877</td><td>10000.00000000001</td><td>30000.000000000007</td><td>3.1521132926037865e-10</td><td>2.3106764765468135e-11</td><td>2.3106764765468135e-11</td><td>nan</td><td>31.711508</td><td>False</td></tr>\n",
       "<tr><td>54772.255750516626</td><td>30000.000000000007</td><td>100000.00000000001</td><td>5.588716121829318e-12</td><td>4.0723561675615194e-12</td><td>2.8857216095856675e-12</td><td>nan</td><td>3.4524047</td><td>False</td></tr>\n",
       "<tr><td>316227.7660168382</td><td>100000.00000000001</td><td>999999.9999999995</td><td>1.6136274396239175e-18</td><td>2.1285132944387497e-12</td><td>nan</td><td>4.2570283236009746e-12</td><td>0.0</td><td>True</td></tr>\n",
       "</table></div>"
      ],
      "text/plain": [
       "<Table length=8>\n",
       "      e_ref              e_min              e_max        ...  sqrt_ts  is_ul\n",
       "       MeV                MeV                MeV         ...                \n",
       "     float64            float64            float64       ...  float32   bool\n",
       "------------------ ------------------ ------------------ ... --------- -----\n",
       " 70.71067811865478  49.99999999999999 100.00000000000004 ... 1.1935638 False\n",
       "173.20508075688775 100.00000000000004 299.99999999999994 ... 5.9036613 False\n",
       "  547.722557505166 299.99999999999994  999.9999999999998 ... 48.995678 False\n",
       "1732.0508075688763  999.9999999999998 2999.9999999999977 ... 105.55699 False\n",
       " 5477.225575051666 2999.9999999999977  10000.00000000001 ... 98.235115 False\n",
       " 17320.50807568877  10000.00000000001 30000.000000000007 ... 31.711508 False\n",
       "54772.255750516626 30000.000000000007 100000.00000000001 ... 3.4524047 False\n",
       " 316227.7660168382 100000.00000000001  999999.9999999995 ...       0.0  True"
      ]
     },
     "execution_count": 36,
     "metadata": {},
     "output_type": "execute_result"
    }
   ],
   "source": [
    "src.flux_points.to_table()"
   ]
  },
  {
   "cell_type": "code",
   "execution_count": 16,
   "id": "10dad975",
   "metadata": {},
   "outputs": [
    {
     "data": {
      "text/plain": [
       "['ok', 'ok', 'ok', 'ok', 'ok']"
      ]
     },
     "execution_count": 16,
     "metadata": {},
     "output_type": "execute_result"
    }
   ],
   "source": [
    "pf_on"
   ]
  },
  {
   "cell_type": "code",
   "execution_count": 17,
   "id": "515c9c3d",
   "metadata": {},
   "outputs": [
    {
     "data": {
      "text/plain": [
       "['VER 2226+608', 'Boomerang']"
      ]
     },
     "execution_count": 17,
     "metadata": {},
     "output_type": "execute_result"
    }
   ],
   "source": [
    "TeVCount_dict[LHAASO]"
   ]
  },
  {
   "cell_type": "code",
   "execution_count": 18,
   "id": "480fceae",
   "metadata": {},
   "outputs": [
    {
     "ename": "TypeError",
     "evalue": "unhashable type: 'list'",
     "output_type": "error",
     "traceback": [
      "\u001b[0;31m---------------------------------------------------------------------------\u001b[0m",
      "\u001b[0;31mTypeError\u001b[0m                                 Traceback (most recent call last)",
      "File \u001b[0;32m~/anaconda3/envs/gammapy-1.0/lib/python3.9/site-packages/IPython/core/formatters.py:707\u001b[0m, in \u001b[0;36mPlainTextFormatter.__call__\u001b[0;34m(self, obj)\u001b[0m\n\u001b[1;32m    700\u001b[0m stream \u001b[38;5;241m=\u001b[39m StringIO()\n\u001b[1;32m    701\u001b[0m printer \u001b[38;5;241m=\u001b[39m pretty\u001b[38;5;241m.\u001b[39mRepresentationPrinter(stream, \u001b[38;5;28mself\u001b[39m\u001b[38;5;241m.\u001b[39mverbose,\n\u001b[1;32m    702\u001b[0m     \u001b[38;5;28mself\u001b[39m\u001b[38;5;241m.\u001b[39mmax_width, \u001b[38;5;28mself\u001b[39m\u001b[38;5;241m.\u001b[39mnewline,\n\u001b[1;32m    703\u001b[0m     max_seq_length\u001b[38;5;241m=\u001b[39m\u001b[38;5;28mself\u001b[39m\u001b[38;5;241m.\u001b[39mmax_seq_length,\n\u001b[1;32m    704\u001b[0m     singleton_pprinters\u001b[38;5;241m=\u001b[39m\u001b[38;5;28mself\u001b[39m\u001b[38;5;241m.\u001b[39msingleton_printers,\n\u001b[1;32m    705\u001b[0m     type_pprinters\u001b[38;5;241m=\u001b[39m\u001b[38;5;28mself\u001b[39m\u001b[38;5;241m.\u001b[39mtype_printers,\n\u001b[1;32m    706\u001b[0m     deferred_pprinters\u001b[38;5;241m=\u001b[39m\u001b[38;5;28mself\u001b[39m\u001b[38;5;241m.\u001b[39mdeferred_printers)\n\u001b[0;32m--> 707\u001b[0m \u001b[43mprinter\u001b[49m\u001b[38;5;241;43m.\u001b[39;49m\u001b[43mpretty\u001b[49m\u001b[43m(\u001b[49m\u001b[43mobj\u001b[49m\u001b[43m)\u001b[49m\n\u001b[1;32m    708\u001b[0m printer\u001b[38;5;241m.\u001b[39mflush()\n\u001b[1;32m    709\u001b[0m \u001b[38;5;28;01mreturn\u001b[39;00m stream\u001b[38;5;241m.\u001b[39mgetvalue()\n",
      "File \u001b[0;32m~/anaconda3/envs/gammapy-1.0/lib/python3.9/site-packages/IPython/lib/pretty.py:410\u001b[0m, in \u001b[0;36mRepresentationPrinter.pretty\u001b[0;34m(self, obj)\u001b[0m\n\u001b[1;32m    407\u001b[0m                         \u001b[38;5;28;01mreturn\u001b[39;00m meth(obj, \u001b[38;5;28mself\u001b[39m, cycle)\n\u001b[1;32m    408\u001b[0m                 \u001b[38;5;28;01mif\u001b[39;00m \u001b[38;5;28mcls\u001b[39m \u001b[38;5;129;01mis\u001b[39;00m \u001b[38;5;129;01mnot\u001b[39;00m \u001b[38;5;28mobject\u001b[39m \\\n\u001b[1;32m    409\u001b[0m                         \u001b[38;5;129;01mand\u001b[39;00m callable(\u001b[38;5;28mcls\u001b[39m\u001b[38;5;241m.\u001b[39m\u001b[38;5;18m__dict__\u001b[39m\u001b[38;5;241m.\u001b[39mget(\u001b[38;5;124m'\u001b[39m\u001b[38;5;124m__repr__\u001b[39m\u001b[38;5;124m'\u001b[39m)):\n\u001b[0;32m--> 410\u001b[0m                     \u001b[38;5;28;01mreturn\u001b[39;00m \u001b[43m_repr_pprint\u001b[49m\u001b[43m(\u001b[49m\u001b[43mobj\u001b[49m\u001b[43m,\u001b[49m\u001b[43m \u001b[49m\u001b[38;5;28;43mself\u001b[39;49m\u001b[43m,\u001b[49m\u001b[43m \u001b[49m\u001b[43mcycle\u001b[49m\u001b[43m)\u001b[49m\n\u001b[1;32m    412\u001b[0m     \u001b[38;5;28;01mreturn\u001b[39;00m _default_pprint(obj, \u001b[38;5;28mself\u001b[39m, cycle)\n\u001b[1;32m    413\u001b[0m \u001b[38;5;28;01mfinally\u001b[39;00m:\n",
      "File \u001b[0;32m~/anaconda3/envs/gammapy-1.0/lib/python3.9/site-packages/IPython/lib/pretty.py:778\u001b[0m, in \u001b[0;36m_repr_pprint\u001b[0;34m(obj, p, cycle)\u001b[0m\n\u001b[1;32m    776\u001b[0m \u001b[38;5;124;03m\"\"\"A pprint that just redirects to the normal repr function.\"\"\"\u001b[39;00m\n\u001b[1;32m    777\u001b[0m \u001b[38;5;66;03m# Find newlines and replace them with p.break_()\u001b[39;00m\n\u001b[0;32m--> 778\u001b[0m output \u001b[38;5;241m=\u001b[39m \u001b[38;5;28;43mrepr\u001b[39;49m\u001b[43m(\u001b[49m\u001b[43mobj\u001b[49m\u001b[43m)\u001b[49m\n\u001b[1;32m    779\u001b[0m lines \u001b[38;5;241m=\u001b[39m output\u001b[38;5;241m.\u001b[39msplitlines()\n\u001b[1;32m    780\u001b[0m \u001b[38;5;28;01mwith\u001b[39;00m p\u001b[38;5;241m.\u001b[39mgroup():\n",
      "File \u001b[0;32m~/anaconda3/envs/gammapy-1.0/lib/python3.9/site-packages/pandas/core/frame.py:1063\u001b[0m, in \u001b[0;36mDataFrame.__repr__\u001b[0;34m(self)\u001b[0m\n\u001b[1;32m   1060\u001b[0m     \u001b[38;5;28;01mreturn\u001b[39;00m buf\u001b[38;5;241m.\u001b[39mgetvalue()\n\u001b[1;32m   1062\u001b[0m repr_params \u001b[38;5;241m=\u001b[39m fmt\u001b[38;5;241m.\u001b[39mget_dataframe_repr_params()\n\u001b[0;32m-> 1063\u001b[0m \u001b[38;5;28;01mreturn\u001b[39;00m \u001b[38;5;28;43mself\u001b[39;49m\u001b[38;5;241;43m.\u001b[39;49m\u001b[43mto_string\u001b[49m\u001b[43m(\u001b[49m\u001b[38;5;241;43m*\u001b[39;49m\u001b[38;5;241;43m*\u001b[39;49m\u001b[43mrepr_params\u001b[49m\u001b[43m)\u001b[49m\n",
      "File \u001b[0;32m~/anaconda3/envs/gammapy-1.0/lib/python3.9/site-packages/pandas/core/frame.py:1244\u001b[0m, in \u001b[0;36mDataFrame.to_string\u001b[0;34m(self, buf, columns, col_space, header, index, na_rep, formatters, float_format, sparsify, index_names, justify, max_rows, max_cols, show_dimensions, decimal, line_width, min_rows, max_colwidth, encoding)\u001b[0m\n\u001b[1;32m   1225\u001b[0m \u001b[38;5;28;01mwith\u001b[39;00m option_context(\u001b[38;5;124m\"\u001b[39m\u001b[38;5;124mdisplay.max_colwidth\u001b[39m\u001b[38;5;124m\"\u001b[39m, max_colwidth):\n\u001b[1;32m   1226\u001b[0m     formatter \u001b[38;5;241m=\u001b[39m fmt\u001b[38;5;241m.\u001b[39mDataFrameFormatter(\n\u001b[1;32m   1227\u001b[0m         \u001b[38;5;28mself\u001b[39m,\n\u001b[1;32m   1228\u001b[0m         columns\u001b[38;5;241m=\u001b[39mcolumns,\n\u001b[0;32m   (...)\u001b[0m\n\u001b[1;32m   1242\u001b[0m         decimal\u001b[38;5;241m=\u001b[39mdecimal,\n\u001b[1;32m   1243\u001b[0m     )\n\u001b[0;32m-> 1244\u001b[0m     \u001b[38;5;28;01mreturn\u001b[39;00m \u001b[43mfmt\u001b[49m\u001b[38;5;241;43m.\u001b[39;49m\u001b[43mDataFrameRenderer\u001b[49m\u001b[43m(\u001b[49m\u001b[43mformatter\u001b[49m\u001b[43m)\u001b[49m\u001b[38;5;241;43m.\u001b[39;49m\u001b[43mto_string\u001b[49m\u001b[43m(\u001b[49m\n\u001b[1;32m   1245\u001b[0m \u001b[43m        \u001b[49m\u001b[43mbuf\u001b[49m\u001b[38;5;241;43m=\u001b[39;49m\u001b[43mbuf\u001b[49m\u001b[43m,\u001b[49m\n\u001b[1;32m   1246\u001b[0m \u001b[43m        \u001b[49m\u001b[43mencoding\u001b[49m\u001b[38;5;241;43m=\u001b[39;49m\u001b[43mencoding\u001b[49m\u001b[43m,\u001b[49m\n\u001b[1;32m   1247\u001b[0m \u001b[43m        \u001b[49m\u001b[43mline_width\u001b[49m\u001b[38;5;241;43m=\u001b[39;49m\u001b[43mline_width\u001b[49m\u001b[43m,\u001b[49m\n\u001b[1;32m   1248\u001b[0m \u001b[43m    \u001b[49m\u001b[43m)\u001b[49m\n",
      "File \u001b[0;32m~/anaconda3/envs/gammapy-1.0/lib/python3.9/site-packages/pandas/io/formats/format.py:1136\u001b[0m, in \u001b[0;36mDataFrameRenderer.to_string\u001b[0;34m(self, buf, encoding, line_width)\u001b[0m\n\u001b[1;32m   1133\u001b[0m \u001b[38;5;28;01mfrom\u001b[39;00m \u001b[38;5;21;01mpandas\u001b[39;00m\u001b[38;5;21;01m.\u001b[39;00m\u001b[38;5;21;01mio\u001b[39;00m\u001b[38;5;21;01m.\u001b[39;00m\u001b[38;5;21;01mformats\u001b[39;00m\u001b[38;5;21;01m.\u001b[39;00m\u001b[38;5;21;01mstring\u001b[39;00m \u001b[38;5;28;01mimport\u001b[39;00m StringFormatter\n\u001b[1;32m   1135\u001b[0m string_formatter \u001b[38;5;241m=\u001b[39m StringFormatter(\u001b[38;5;28mself\u001b[39m\u001b[38;5;241m.\u001b[39mfmt, line_width\u001b[38;5;241m=\u001b[39mline_width)\n\u001b[0;32m-> 1136\u001b[0m string \u001b[38;5;241m=\u001b[39m \u001b[43mstring_formatter\u001b[49m\u001b[38;5;241;43m.\u001b[39;49m\u001b[43mto_string\u001b[49m\u001b[43m(\u001b[49m\u001b[43m)\u001b[49m\n\u001b[1;32m   1137\u001b[0m \u001b[38;5;28;01mreturn\u001b[39;00m save_to_buffer(string, buf\u001b[38;5;241m=\u001b[39mbuf, encoding\u001b[38;5;241m=\u001b[39mencoding)\n",
      "File \u001b[0;32m~/anaconda3/envs/gammapy-1.0/lib/python3.9/site-packages/pandas/io/formats/string.py:30\u001b[0m, in \u001b[0;36mStringFormatter.to_string\u001b[0;34m(self)\u001b[0m\n\u001b[1;32m     29\u001b[0m \u001b[38;5;28;01mdef\u001b[39;00m \u001b[38;5;21mto_string\u001b[39m(\u001b[38;5;28mself\u001b[39m) \u001b[38;5;241m-\u001b[39m\u001b[38;5;241m>\u001b[39m \u001b[38;5;28mstr\u001b[39m:\n\u001b[0;32m---> 30\u001b[0m     text \u001b[38;5;241m=\u001b[39m \u001b[38;5;28;43mself\u001b[39;49m\u001b[38;5;241;43m.\u001b[39;49m\u001b[43m_get_string_representation\u001b[49m\u001b[43m(\u001b[49m\u001b[43m)\u001b[49m\n\u001b[1;32m     31\u001b[0m     \u001b[38;5;28;01mif\u001b[39;00m \u001b[38;5;28mself\u001b[39m\u001b[38;5;241m.\u001b[39mfmt\u001b[38;5;241m.\u001b[39mshould_show_dimensions:\n\u001b[1;32m     32\u001b[0m         text \u001b[38;5;241m=\u001b[39m \u001b[38;5;124m\"\u001b[39m\u001b[38;5;124m\"\u001b[39m\u001b[38;5;241m.\u001b[39mjoin([text, \u001b[38;5;28mself\u001b[39m\u001b[38;5;241m.\u001b[39mfmt\u001b[38;5;241m.\u001b[39mdimensions_info])\n",
      "File \u001b[0;32m~/anaconda3/envs/gammapy-1.0/lib/python3.9/site-packages/pandas/io/formats/string.py:45\u001b[0m, in \u001b[0;36mStringFormatter._get_string_representation\u001b[0;34m(self)\u001b[0m\n\u001b[1;32m     42\u001b[0m \u001b[38;5;28;01mif\u001b[39;00m \u001b[38;5;28mself\u001b[39m\u001b[38;5;241m.\u001b[39mfmt\u001b[38;5;241m.\u001b[39mframe\u001b[38;5;241m.\u001b[39mempty:\n\u001b[1;32m     43\u001b[0m     \u001b[38;5;28;01mreturn\u001b[39;00m \u001b[38;5;28mself\u001b[39m\u001b[38;5;241m.\u001b[39m_empty_info_line\n\u001b[0;32m---> 45\u001b[0m strcols \u001b[38;5;241m=\u001b[39m \u001b[38;5;28;43mself\u001b[39;49m\u001b[38;5;241;43m.\u001b[39;49m\u001b[43m_get_strcols\u001b[49m\u001b[43m(\u001b[49m\u001b[43m)\u001b[49m\n\u001b[1;32m     47\u001b[0m \u001b[38;5;28;01mif\u001b[39;00m \u001b[38;5;28mself\u001b[39m\u001b[38;5;241m.\u001b[39mline_width \u001b[38;5;129;01mis\u001b[39;00m \u001b[38;5;28;01mNone\u001b[39;00m:\n\u001b[1;32m     48\u001b[0m     \u001b[38;5;66;03m# no need to wrap around just print the whole frame\u001b[39;00m\n\u001b[1;32m     49\u001b[0m     \u001b[38;5;28;01mreturn\u001b[39;00m \u001b[38;5;28mself\u001b[39m\u001b[38;5;241m.\u001b[39madj\u001b[38;5;241m.\u001b[39madjoin(\u001b[38;5;241m1\u001b[39m, \u001b[38;5;241m*\u001b[39mstrcols)\n",
      "File \u001b[0;32m~/anaconda3/envs/gammapy-1.0/lib/python3.9/site-packages/pandas/io/formats/string.py:36\u001b[0m, in \u001b[0;36mStringFormatter._get_strcols\u001b[0;34m(self)\u001b[0m\n\u001b[1;32m     35\u001b[0m \u001b[38;5;28;01mdef\u001b[39;00m \u001b[38;5;21m_get_strcols\u001b[39m(\u001b[38;5;28mself\u001b[39m) \u001b[38;5;241m-\u001b[39m\u001b[38;5;241m>\u001b[39m \u001b[38;5;28mlist\u001b[39m[\u001b[38;5;28mlist\u001b[39m[\u001b[38;5;28mstr\u001b[39m]]:\n\u001b[0;32m---> 36\u001b[0m     strcols \u001b[38;5;241m=\u001b[39m \u001b[38;5;28;43mself\u001b[39;49m\u001b[38;5;241;43m.\u001b[39;49m\u001b[43mfmt\u001b[49m\u001b[38;5;241;43m.\u001b[39;49m\u001b[43mget_strcols\u001b[49m\u001b[43m(\u001b[49m\u001b[43m)\u001b[49m\n\u001b[1;32m     37\u001b[0m     \u001b[38;5;28;01mif\u001b[39;00m \u001b[38;5;28mself\u001b[39m\u001b[38;5;241m.\u001b[39mfmt\u001b[38;5;241m.\u001b[39mis_truncated:\n\u001b[1;32m     38\u001b[0m         strcols \u001b[38;5;241m=\u001b[39m \u001b[38;5;28mself\u001b[39m\u001b[38;5;241m.\u001b[39m_insert_dot_separators(strcols)\n",
      "File \u001b[0;32m~/anaconda3/envs/gammapy-1.0/lib/python3.9/site-packages/pandas/io/formats/format.py:617\u001b[0m, in \u001b[0;36mDataFrameFormatter.get_strcols\u001b[0;34m(self)\u001b[0m\n\u001b[1;32m    613\u001b[0m \u001b[38;5;28;01mdef\u001b[39;00m \u001b[38;5;21mget_strcols\u001b[39m(\u001b[38;5;28mself\u001b[39m) \u001b[38;5;241m-\u001b[39m\u001b[38;5;241m>\u001b[39m \u001b[38;5;28mlist\u001b[39m[\u001b[38;5;28mlist\u001b[39m[\u001b[38;5;28mstr\u001b[39m]]:\n\u001b[1;32m    614\u001b[0m     \u001b[38;5;124;03m\"\"\"\u001b[39;00m\n\u001b[1;32m    615\u001b[0m \u001b[38;5;124;03m    Render a DataFrame to a list of columns (as lists of strings).\u001b[39;00m\n\u001b[1;32m    616\u001b[0m \u001b[38;5;124;03m    \"\"\"\u001b[39;00m\n\u001b[0;32m--> 617\u001b[0m     strcols \u001b[38;5;241m=\u001b[39m \u001b[38;5;28;43mself\u001b[39;49m\u001b[38;5;241;43m.\u001b[39;49m\u001b[43m_get_strcols_without_index\u001b[49m\u001b[43m(\u001b[49m\u001b[43m)\u001b[49m\n\u001b[1;32m    619\u001b[0m     \u001b[38;5;28;01mif\u001b[39;00m \u001b[38;5;28mself\u001b[39m\u001b[38;5;241m.\u001b[39mindex:\n\u001b[1;32m    620\u001b[0m         str_index \u001b[38;5;241m=\u001b[39m \u001b[38;5;28mself\u001b[39m\u001b[38;5;241m.\u001b[39m_get_formatted_index(\u001b[38;5;28mself\u001b[39m\u001b[38;5;241m.\u001b[39mtr_frame)\n",
      "File \u001b[0;32m~/anaconda3/envs/gammapy-1.0/lib/python3.9/site-packages/pandas/io/formats/format.py:872\u001b[0m, in \u001b[0;36mDataFrameFormatter._get_strcols_without_index\u001b[0;34m(self)\u001b[0m\n\u001b[1;32m    870\u001b[0m     str_columns \u001b[38;5;241m=\u001b[39m [[label] \u001b[38;5;28;01mfor\u001b[39;00m label \u001b[38;5;129;01min\u001b[39;00m \u001b[38;5;28mself\u001b[39m\u001b[38;5;241m.\u001b[39mheader]\n\u001b[1;32m    871\u001b[0m \u001b[38;5;28;01melse\u001b[39;00m:\n\u001b[0;32m--> 872\u001b[0m     str_columns \u001b[38;5;241m=\u001b[39m \u001b[38;5;28;43mself\u001b[39;49m\u001b[38;5;241;43m.\u001b[39;49m\u001b[43m_get_formatted_column_labels\u001b[49m\u001b[43m(\u001b[49m\u001b[38;5;28;43mself\u001b[39;49m\u001b[38;5;241;43m.\u001b[39;49m\u001b[43mtr_frame\u001b[49m\u001b[43m)\u001b[49m\n\u001b[1;32m    874\u001b[0m \u001b[38;5;28;01mif\u001b[39;00m \u001b[38;5;28mself\u001b[39m\u001b[38;5;241m.\u001b[39mshow_row_idx_names:\n\u001b[1;32m    875\u001b[0m     \u001b[38;5;28;01mfor\u001b[39;00m x \u001b[38;5;129;01min\u001b[39;00m str_columns:\n",
      "File \u001b[0;32m~/anaconda3/envs/gammapy-1.0/lib/python3.9/site-packages/pandas/io/formats/format.py:953\u001b[0m, in \u001b[0;36mDataFrameFormatter._get_formatted_column_labels\u001b[0;34m(self, frame)\u001b[0m\n\u001b[1;32m    951\u001b[0m     dtypes \u001b[38;5;241m=\u001b[39m \u001b[38;5;28mself\u001b[39m\u001b[38;5;241m.\u001b[39mframe\u001b[38;5;241m.\u001b[39mdtypes\n\u001b[1;32m    952\u001b[0m     need_leadsp \u001b[38;5;241m=\u001b[39m \u001b[38;5;28mdict\u001b[39m(\u001b[38;5;28mzip\u001b[39m(fmt_columns, \u001b[38;5;28mmap\u001b[39m(is_numeric_dtype, dtypes)))\n\u001b[0;32m--> 953\u001b[0m     str_columns \u001b[38;5;241m=\u001b[39m [\n\u001b[1;32m    954\u001b[0m         [\u001b[38;5;124m\"\u001b[39m\u001b[38;5;124m \u001b[39m\u001b[38;5;124m\"\u001b[39m \u001b[38;5;241m+\u001b[39m x \u001b[38;5;28;01mif\u001b[39;00m \u001b[38;5;129;01mnot\u001b[39;00m \u001b[38;5;28mself\u001b[39m\u001b[38;5;241m.\u001b[39m_get_formatter(i) \u001b[38;5;129;01mand\u001b[39;00m need_leadsp[x] \u001b[38;5;28;01melse\u001b[39;00m x]\n\u001b[1;32m    955\u001b[0m         \u001b[38;5;28;01mfor\u001b[39;00m i, x \u001b[38;5;129;01min\u001b[39;00m \u001b[38;5;28menumerate\u001b[39m(fmt_columns)\n\u001b[1;32m    956\u001b[0m     ]\n\u001b[1;32m    957\u001b[0m \u001b[38;5;66;03m# self.str_columns = str_columns\u001b[39;00m\n\u001b[1;32m    958\u001b[0m \u001b[38;5;28;01mreturn\u001b[39;00m str_columns\n",
      "File \u001b[0;32m~/anaconda3/envs/gammapy-1.0/lib/python3.9/site-packages/pandas/io/formats/format.py:954\u001b[0m, in \u001b[0;36m<listcomp>\u001b[0;34m(.0)\u001b[0m\n\u001b[1;32m    951\u001b[0m     dtypes \u001b[38;5;241m=\u001b[39m \u001b[38;5;28mself\u001b[39m\u001b[38;5;241m.\u001b[39mframe\u001b[38;5;241m.\u001b[39mdtypes\n\u001b[1;32m    952\u001b[0m     need_leadsp \u001b[38;5;241m=\u001b[39m \u001b[38;5;28mdict\u001b[39m(\u001b[38;5;28mzip\u001b[39m(fmt_columns, \u001b[38;5;28mmap\u001b[39m(is_numeric_dtype, dtypes)))\n\u001b[1;32m    953\u001b[0m     str_columns \u001b[38;5;241m=\u001b[39m [\n\u001b[0;32m--> 954\u001b[0m         [\u001b[38;5;124m\"\u001b[39m\u001b[38;5;124m \u001b[39m\u001b[38;5;124m\"\u001b[39m \u001b[38;5;241m+\u001b[39m x \u001b[38;5;28;01mif\u001b[39;00m \u001b[38;5;129;01mnot\u001b[39;00m \u001b[38;5;28;43mself\u001b[39;49m\u001b[38;5;241;43m.\u001b[39;49m\u001b[43m_get_formatter\u001b[49m\u001b[43m(\u001b[49m\u001b[43mi\u001b[49m\u001b[43m)\u001b[49m \u001b[38;5;129;01mand\u001b[39;00m need_leadsp[x] \u001b[38;5;28;01melse\u001b[39;00m x]\n\u001b[1;32m    955\u001b[0m         \u001b[38;5;28;01mfor\u001b[39;00m i, x \u001b[38;5;129;01min\u001b[39;00m \u001b[38;5;28menumerate\u001b[39m(fmt_columns)\n\u001b[1;32m    956\u001b[0m     ]\n\u001b[1;32m    957\u001b[0m \u001b[38;5;66;03m# self.str_columns = str_columns\u001b[39;00m\n\u001b[1;32m    958\u001b[0m \u001b[38;5;28;01mreturn\u001b[39;00m str_columns\n",
      "File \u001b[0;32m~/anaconda3/envs/gammapy-1.0/lib/python3.9/site-packages/pandas/io/formats/format.py:917\u001b[0m, in \u001b[0;36mDataFrameFormatter._get_formatter\u001b[0;34m(self, i)\u001b[0m\n\u001b[1;32m    915\u001b[0m \u001b[38;5;28;01mif\u001b[39;00m is_integer(i) \u001b[38;5;129;01mand\u001b[39;00m i \u001b[38;5;129;01mnot\u001b[39;00m \u001b[38;5;129;01min\u001b[39;00m \u001b[38;5;28mself\u001b[39m\u001b[38;5;241m.\u001b[39mcolumns:\n\u001b[1;32m    916\u001b[0m     i \u001b[38;5;241m=\u001b[39m \u001b[38;5;28mself\u001b[39m\u001b[38;5;241m.\u001b[39mcolumns[i]\n\u001b[0;32m--> 917\u001b[0m \u001b[38;5;28;01mreturn\u001b[39;00m \u001b[38;5;28;43mself\u001b[39;49m\u001b[38;5;241;43m.\u001b[39;49m\u001b[43mformatters\u001b[49m\u001b[38;5;241;43m.\u001b[39;49m\u001b[43mget\u001b[49m\u001b[43m(\u001b[49m\u001b[43mi\u001b[49m\u001b[43m,\u001b[49m\u001b[43m \u001b[49m\u001b[38;5;28;43;01mNone\u001b[39;49;00m\u001b[43m)\u001b[49m\n",
      "\u001b[0;31mTypeError\u001b[0m: unhashable type: 'list'"
     ]
    },
    {
     "ename": "TypeError",
     "evalue": "unhashable type: 'list'",
     "output_type": "error",
     "traceback": [
      "\u001b[0;31m---------------------------------------------------------------------------\u001b[0m",
      "\u001b[0;31mTypeError\u001b[0m                                 Traceback (most recent call last)",
      "File \u001b[0;32m~/anaconda3/envs/gammapy-1.0/lib/python3.9/site-packages/IPython/core/formatters.py:343\u001b[0m, in \u001b[0;36mBaseFormatter.__call__\u001b[0;34m(self, obj)\u001b[0m\n\u001b[1;32m    341\u001b[0m     method \u001b[38;5;241m=\u001b[39m get_real_method(obj, \u001b[38;5;28mself\u001b[39m\u001b[38;5;241m.\u001b[39mprint_method)\n\u001b[1;32m    342\u001b[0m     \u001b[38;5;28;01mif\u001b[39;00m method \u001b[38;5;129;01mis\u001b[39;00m \u001b[38;5;129;01mnot\u001b[39;00m \u001b[38;5;28;01mNone\u001b[39;00m:\n\u001b[0;32m--> 343\u001b[0m         \u001b[38;5;28;01mreturn\u001b[39;00m \u001b[43mmethod\u001b[49m\u001b[43m(\u001b[49m\u001b[43m)\u001b[49m\n\u001b[1;32m    344\u001b[0m     \u001b[38;5;28;01mreturn\u001b[39;00m \u001b[38;5;28;01mNone\u001b[39;00m\n\u001b[1;32m    345\u001b[0m \u001b[38;5;28;01melse\u001b[39;00m:\n",
      "File \u001b[0;32m~/anaconda3/envs/gammapy-1.0/lib/python3.9/site-packages/pandas/core/frame.py:1105\u001b[0m, in \u001b[0;36mDataFrame._repr_html_\u001b[0;34m(self)\u001b[0m\n\u001b[1;32m   1083\u001b[0m     show_dimensions \u001b[38;5;241m=\u001b[39m get_option(\u001b[38;5;124m\"\u001b[39m\u001b[38;5;124mdisplay.show_dimensions\u001b[39m\u001b[38;5;124m\"\u001b[39m)\n\u001b[1;32m   1085\u001b[0m     formatter \u001b[38;5;241m=\u001b[39m fmt\u001b[38;5;241m.\u001b[39mDataFrameFormatter(\n\u001b[1;32m   1086\u001b[0m         \u001b[38;5;28mself\u001b[39m,\n\u001b[1;32m   1087\u001b[0m         columns\u001b[38;5;241m=\u001b[39m\u001b[38;5;28;01mNone\u001b[39;00m,\n\u001b[0;32m   (...)\u001b[0m\n\u001b[1;32m   1103\u001b[0m         decimal\u001b[38;5;241m=\u001b[39m\u001b[38;5;124m\"\u001b[39m\u001b[38;5;124m.\u001b[39m\u001b[38;5;124m\"\u001b[39m,\n\u001b[1;32m   1104\u001b[0m     )\n\u001b[0;32m-> 1105\u001b[0m     \u001b[38;5;28;01mreturn\u001b[39;00m \u001b[43mfmt\u001b[49m\u001b[38;5;241;43m.\u001b[39;49m\u001b[43mDataFrameRenderer\u001b[49m\u001b[43m(\u001b[49m\u001b[43mformatter\u001b[49m\u001b[43m)\u001b[49m\u001b[38;5;241;43m.\u001b[39;49m\u001b[43mto_html\u001b[49m\u001b[43m(\u001b[49m\u001b[43mnotebook\u001b[49m\u001b[38;5;241;43m=\u001b[39;49m\u001b[38;5;28;43;01mTrue\u001b[39;49;00m\u001b[43m)\u001b[49m\n\u001b[1;32m   1106\u001b[0m \u001b[38;5;28;01melse\u001b[39;00m:\n\u001b[1;32m   1107\u001b[0m     \u001b[38;5;28;01mreturn\u001b[39;00m \u001b[38;5;28;01mNone\u001b[39;00m\n",
      "File \u001b[0;32m~/anaconda3/envs/gammapy-1.0/lib/python3.9/site-packages/pandas/io/formats/format.py:1110\u001b[0m, in \u001b[0;36mDataFrameRenderer.to_html\u001b[0;34m(self, buf, encoding, classes, notebook, border, table_id, render_links)\u001b[0m\n\u001b[1;32m   1101\u001b[0m Klass \u001b[38;5;241m=\u001b[39m NotebookFormatter \u001b[38;5;28;01mif\u001b[39;00m notebook \u001b[38;5;28;01melse\u001b[39;00m HTMLFormatter\n\u001b[1;32m   1103\u001b[0m html_formatter \u001b[38;5;241m=\u001b[39m Klass(\n\u001b[1;32m   1104\u001b[0m     \u001b[38;5;28mself\u001b[39m\u001b[38;5;241m.\u001b[39mfmt,\n\u001b[1;32m   1105\u001b[0m     classes\u001b[38;5;241m=\u001b[39mclasses,\n\u001b[0;32m   (...)\u001b[0m\n\u001b[1;32m   1108\u001b[0m     render_links\u001b[38;5;241m=\u001b[39mrender_links,\n\u001b[1;32m   1109\u001b[0m )\n\u001b[0;32m-> 1110\u001b[0m string \u001b[38;5;241m=\u001b[39m \u001b[43mhtml_formatter\u001b[49m\u001b[38;5;241;43m.\u001b[39;49m\u001b[43mto_string\u001b[49m\u001b[43m(\u001b[49m\u001b[43m)\u001b[49m\n\u001b[1;32m   1111\u001b[0m \u001b[38;5;28;01mreturn\u001b[39;00m save_to_buffer(string, buf\u001b[38;5;241m=\u001b[39mbuf, encoding\u001b[38;5;241m=\u001b[39mencoding)\n",
      "File \u001b[0;32m~/anaconda3/envs/gammapy-1.0/lib/python3.9/site-packages/pandas/io/formats/html.py:77\u001b[0m, in \u001b[0;36mHTMLFormatter.to_string\u001b[0;34m(self)\u001b[0m\n\u001b[1;32m     76\u001b[0m \u001b[38;5;28;01mdef\u001b[39;00m \u001b[38;5;21mto_string\u001b[39m(\u001b[38;5;28mself\u001b[39m) \u001b[38;5;241m-\u001b[39m\u001b[38;5;241m>\u001b[39m \u001b[38;5;28mstr\u001b[39m:\n\u001b[0;32m---> 77\u001b[0m     lines \u001b[38;5;241m=\u001b[39m \u001b[38;5;28;43mself\u001b[39;49m\u001b[38;5;241;43m.\u001b[39;49m\u001b[43mrender\u001b[49m\u001b[43m(\u001b[49m\u001b[43m)\u001b[49m\n\u001b[1;32m     78\u001b[0m     \u001b[38;5;28;01mif\u001b[39;00m \u001b[38;5;28many\u001b[39m(\u001b[38;5;28misinstance\u001b[39m(x, \u001b[38;5;28mstr\u001b[39m) \u001b[38;5;28;01mfor\u001b[39;00m x \u001b[38;5;129;01min\u001b[39;00m lines):\n\u001b[1;32m     79\u001b[0m         lines \u001b[38;5;241m=\u001b[39m [\u001b[38;5;28mstr\u001b[39m(x) \u001b[38;5;28;01mfor\u001b[39;00m x \u001b[38;5;129;01min\u001b[39;00m lines]\n",
      "File \u001b[0;32m~/anaconda3/envs/gammapy-1.0/lib/python3.9/site-packages/pandas/io/formats/html.py:632\u001b[0m, in \u001b[0;36mNotebookFormatter.render\u001b[0;34m(self)\u001b[0m\n\u001b[1;32m    630\u001b[0m \u001b[38;5;28mself\u001b[39m\u001b[38;5;241m.\u001b[39mwrite(\u001b[38;5;124m\"\u001b[39m\u001b[38;5;124m<div>\u001b[39m\u001b[38;5;124m\"\u001b[39m)\n\u001b[1;32m    631\u001b[0m \u001b[38;5;28mself\u001b[39m\u001b[38;5;241m.\u001b[39mwrite_style()\n\u001b[0;32m--> 632\u001b[0m \u001b[38;5;28;43msuper\u001b[39;49m\u001b[43m(\u001b[49m\u001b[43m)\u001b[49m\u001b[38;5;241;43m.\u001b[39;49m\u001b[43mrender\u001b[49m\u001b[43m(\u001b[49m\u001b[43m)\u001b[49m\n\u001b[1;32m    633\u001b[0m \u001b[38;5;28mself\u001b[39m\u001b[38;5;241m.\u001b[39mwrite(\u001b[38;5;124m\"\u001b[39m\u001b[38;5;124m</div>\u001b[39m\u001b[38;5;124m\"\u001b[39m)\n\u001b[1;32m    634\u001b[0m \u001b[38;5;28;01mreturn\u001b[39;00m \u001b[38;5;28mself\u001b[39m\u001b[38;5;241m.\u001b[39melements\n",
      "File \u001b[0;32m~/anaconda3/envs/gammapy-1.0/lib/python3.9/site-packages/pandas/io/formats/html.py:83\u001b[0m, in \u001b[0;36mHTMLFormatter.render\u001b[0;34m(self)\u001b[0m\n\u001b[1;32m     82\u001b[0m \u001b[38;5;28;01mdef\u001b[39;00m \u001b[38;5;21mrender\u001b[39m(\u001b[38;5;28mself\u001b[39m) \u001b[38;5;241m-\u001b[39m\u001b[38;5;241m>\u001b[39m \u001b[38;5;28mlist\u001b[39m[\u001b[38;5;28mstr\u001b[39m]:\n\u001b[0;32m---> 83\u001b[0m     \u001b[38;5;28;43mself\u001b[39;49m\u001b[38;5;241;43m.\u001b[39;49m\u001b[43m_write_table\u001b[49m\u001b[43m(\u001b[49m\u001b[43m)\u001b[49m\n\u001b[1;32m     85\u001b[0m     \u001b[38;5;28;01mif\u001b[39;00m \u001b[38;5;28mself\u001b[39m\u001b[38;5;241m.\u001b[39mshould_show_dimensions:\n\u001b[1;32m     86\u001b[0m         by \u001b[38;5;241m=\u001b[39m \u001b[38;5;28mchr\u001b[39m(\u001b[38;5;241m215\u001b[39m)  \u001b[38;5;66;03m# ×\u001b[39;00m\n",
      "File \u001b[0;32m~/anaconda3/envs/gammapy-1.0/lib/python3.9/site-packages/pandas/io/formats/html.py:258\u001b[0m, in \u001b[0;36mHTMLFormatter._write_table\u001b[0;34m(self, indent)\u001b[0m\n\u001b[1;32m    255\u001b[0m \u001b[38;5;28;01mif\u001b[39;00m \u001b[38;5;28mself\u001b[39m\u001b[38;5;241m.\u001b[39mfmt\u001b[38;5;241m.\u001b[39mheader \u001b[38;5;129;01mor\u001b[39;00m \u001b[38;5;28mself\u001b[39m\u001b[38;5;241m.\u001b[39mshow_row_idx_names:\n\u001b[1;32m    256\u001b[0m     \u001b[38;5;28mself\u001b[39m\u001b[38;5;241m.\u001b[39m_write_header(indent \u001b[38;5;241m+\u001b[39m \u001b[38;5;28mself\u001b[39m\u001b[38;5;241m.\u001b[39mindent_delta)\n\u001b[0;32m--> 258\u001b[0m \u001b[38;5;28;43mself\u001b[39;49m\u001b[38;5;241;43m.\u001b[39;49m\u001b[43m_write_body\u001b[49m\u001b[43m(\u001b[49m\u001b[43mindent\u001b[49m\u001b[43m \u001b[49m\u001b[38;5;241;43m+\u001b[39;49m\u001b[43m \u001b[49m\u001b[38;5;28;43mself\u001b[39;49m\u001b[38;5;241;43m.\u001b[39;49m\u001b[43mindent_delta\u001b[49m\u001b[43m)\u001b[49m\n\u001b[1;32m    260\u001b[0m \u001b[38;5;28mself\u001b[39m\u001b[38;5;241m.\u001b[39mwrite(\u001b[38;5;124m\"\u001b[39m\u001b[38;5;124m</table>\u001b[39m\u001b[38;5;124m\"\u001b[39m, indent)\n",
      "File \u001b[0;32m~/anaconda3/envs/gammapy-1.0/lib/python3.9/site-packages/pandas/io/formats/html.py:406\u001b[0m, in \u001b[0;36mHTMLFormatter._write_body\u001b[0;34m(self, indent)\u001b[0m\n\u001b[1;32m    404\u001b[0m \u001b[38;5;28;01mdef\u001b[39;00m \u001b[38;5;21m_write_body\u001b[39m(\u001b[38;5;28mself\u001b[39m, indent: \u001b[38;5;28mint\u001b[39m) \u001b[38;5;241m-\u001b[39m\u001b[38;5;241m>\u001b[39m \u001b[38;5;28;01mNone\u001b[39;00m:\n\u001b[1;32m    405\u001b[0m     \u001b[38;5;28mself\u001b[39m\u001b[38;5;241m.\u001b[39mwrite(\u001b[38;5;124m\"\u001b[39m\u001b[38;5;124m<tbody>\u001b[39m\u001b[38;5;124m\"\u001b[39m, indent)\n\u001b[0;32m--> 406\u001b[0m     fmt_values \u001b[38;5;241m=\u001b[39m \u001b[38;5;28;43mself\u001b[39;49m\u001b[38;5;241;43m.\u001b[39;49m\u001b[43m_get_formatted_values\u001b[49m\u001b[43m(\u001b[49m\u001b[43m)\u001b[49m\n\u001b[1;32m    408\u001b[0m     \u001b[38;5;66;03m# write values\u001b[39;00m\n\u001b[1;32m    409\u001b[0m     \u001b[38;5;28;01mif\u001b[39;00m \u001b[38;5;28mself\u001b[39m\u001b[38;5;241m.\u001b[39mfmt\u001b[38;5;241m.\u001b[39mindex \u001b[38;5;129;01mand\u001b[39;00m \u001b[38;5;28misinstance\u001b[39m(\u001b[38;5;28mself\u001b[39m\u001b[38;5;241m.\u001b[39mframe\u001b[38;5;241m.\u001b[39mindex, MultiIndex):\n",
      "File \u001b[0;32m~/anaconda3/envs/gammapy-1.0/lib/python3.9/site-packages/pandas/io/formats/html.py:596\u001b[0m, in \u001b[0;36mNotebookFormatter._get_formatted_values\u001b[0;34m(self)\u001b[0m\n\u001b[1;32m    595\u001b[0m \u001b[38;5;28;01mdef\u001b[39;00m \u001b[38;5;21m_get_formatted_values\u001b[39m(\u001b[38;5;28mself\u001b[39m) \u001b[38;5;241m-\u001b[39m\u001b[38;5;241m>\u001b[39m \u001b[38;5;28mdict\u001b[39m[\u001b[38;5;28mint\u001b[39m, \u001b[38;5;28mlist\u001b[39m[\u001b[38;5;28mstr\u001b[39m]]:\n\u001b[0;32m--> 596\u001b[0m     \u001b[38;5;28;01mreturn\u001b[39;00m {i: \u001b[38;5;28mself\u001b[39m\u001b[38;5;241m.\u001b[39mfmt\u001b[38;5;241m.\u001b[39mformat_col(i) \u001b[38;5;28;01mfor\u001b[39;00m i \u001b[38;5;129;01min\u001b[39;00m \u001b[38;5;28mrange\u001b[39m(\u001b[38;5;28mself\u001b[39m\u001b[38;5;241m.\u001b[39mncols)}\n",
      "File \u001b[0;32m~/anaconda3/envs/gammapy-1.0/lib/python3.9/site-packages/pandas/io/formats/html.py:596\u001b[0m, in \u001b[0;36m<dictcomp>\u001b[0;34m(.0)\u001b[0m\n\u001b[1;32m    595\u001b[0m \u001b[38;5;28;01mdef\u001b[39;00m \u001b[38;5;21m_get_formatted_values\u001b[39m(\u001b[38;5;28mself\u001b[39m) \u001b[38;5;241m-\u001b[39m\u001b[38;5;241m>\u001b[39m \u001b[38;5;28mdict\u001b[39m[\u001b[38;5;28mint\u001b[39m, \u001b[38;5;28mlist\u001b[39m[\u001b[38;5;28mstr\u001b[39m]]:\n\u001b[0;32m--> 596\u001b[0m     \u001b[38;5;28;01mreturn\u001b[39;00m {i: \u001b[38;5;28;43mself\u001b[39;49m\u001b[38;5;241;43m.\u001b[39;49m\u001b[43mfmt\u001b[49m\u001b[38;5;241;43m.\u001b[39;49m\u001b[43mformat_col\u001b[49m\u001b[43m(\u001b[49m\u001b[43mi\u001b[49m\u001b[43m)\u001b[49m \u001b[38;5;28;01mfor\u001b[39;00m i \u001b[38;5;129;01min\u001b[39;00m \u001b[38;5;28mrange\u001b[39m(\u001b[38;5;28mself\u001b[39m\u001b[38;5;241m.\u001b[39mncols)}\n",
      "File \u001b[0;32m~/anaconda3/envs/gammapy-1.0/lib/python3.9/site-packages/pandas/io/formats/format.py:896\u001b[0m, in \u001b[0;36mDataFrameFormatter.format_col\u001b[0;34m(self, i)\u001b[0m\n\u001b[1;32m    894\u001b[0m \u001b[38;5;28;01mdef\u001b[39;00m \u001b[38;5;21mformat_col\u001b[39m(\u001b[38;5;28mself\u001b[39m, i: \u001b[38;5;28mint\u001b[39m) \u001b[38;5;241m-\u001b[39m\u001b[38;5;241m>\u001b[39m \u001b[38;5;28mlist\u001b[39m[\u001b[38;5;28mstr\u001b[39m]:\n\u001b[1;32m    895\u001b[0m     frame \u001b[38;5;241m=\u001b[39m \u001b[38;5;28mself\u001b[39m\u001b[38;5;241m.\u001b[39mtr_frame\n\u001b[0;32m--> 896\u001b[0m     formatter \u001b[38;5;241m=\u001b[39m \u001b[38;5;28;43mself\u001b[39;49m\u001b[38;5;241;43m.\u001b[39;49m\u001b[43m_get_formatter\u001b[49m\u001b[43m(\u001b[49m\u001b[43mi\u001b[49m\u001b[43m)\u001b[49m\n\u001b[1;32m    897\u001b[0m     \u001b[38;5;28;01mreturn\u001b[39;00m format_array(\n\u001b[1;32m    898\u001b[0m         frame\u001b[38;5;241m.\u001b[39miloc[:, i]\u001b[38;5;241m.\u001b[39m_values,\n\u001b[1;32m    899\u001b[0m         formatter,\n\u001b[0;32m   (...)\u001b[0m\n\u001b[1;32m    904\u001b[0m         leading_space\u001b[38;5;241m=\u001b[39m\u001b[38;5;28mself\u001b[39m\u001b[38;5;241m.\u001b[39mindex,\n\u001b[1;32m    905\u001b[0m     )\n",
      "File \u001b[0;32m~/anaconda3/envs/gammapy-1.0/lib/python3.9/site-packages/pandas/io/formats/format.py:917\u001b[0m, in \u001b[0;36mDataFrameFormatter._get_formatter\u001b[0;34m(self, i)\u001b[0m\n\u001b[1;32m    915\u001b[0m \u001b[38;5;28;01mif\u001b[39;00m is_integer(i) \u001b[38;5;129;01mand\u001b[39;00m i \u001b[38;5;129;01mnot\u001b[39;00m \u001b[38;5;129;01min\u001b[39;00m \u001b[38;5;28mself\u001b[39m\u001b[38;5;241m.\u001b[39mcolumns:\n\u001b[1;32m    916\u001b[0m     i \u001b[38;5;241m=\u001b[39m \u001b[38;5;28mself\u001b[39m\u001b[38;5;241m.\u001b[39mcolumns[i]\n\u001b[0;32m--> 917\u001b[0m \u001b[38;5;28;01mreturn\u001b[39;00m \u001b[38;5;28;43mself\u001b[39;49m\u001b[38;5;241;43m.\u001b[39;49m\u001b[43mformatters\u001b[49m\u001b[38;5;241;43m.\u001b[39;49m\u001b[43mget\u001b[49m\u001b[43m(\u001b[49m\u001b[43mi\u001b[49m\u001b[43m,\u001b[49m\u001b[43m \u001b[49m\u001b[38;5;28;43;01mNone\u001b[39;49;00m\u001b[43m)\u001b[49m\n",
      "\u001b[0;31mTypeError\u001b[0m: unhashable type: 'list'"
     ]
    }
   ],
   "source": [
    "import pandas as pd \n",
    "# list of strings \n",
    "lst1 = ['fav', 'tutor', 'coding', 'skills']\n",
    "# list of int \n",
    "lst2 = [[11,\"fav\"], [22,\"fav\"],[ 33,\"fav\"], [44,\"fav\"]] \n",
    "lst3 = [11, 22, 33, 44] \n",
    "\n",
    "# Calling DataFrame after zipping both lists, with columns specified \n",
    "df = pd.DataFrame(list(zip(TeVCount_dict.keys(), TeVCount_dict[LHAASO],cat_off)), columns =['LHAASO', ['value'], 'value']) \n",
    "display(df) "
   ]
  },
  {
   "cell_type": "code",
   "execution_count": 19,
   "id": "54d61c3e",
   "metadata": {},
   "outputs": [
    {
     "name": "stdout",
     "output_type": "stream",
     "text": [
      "LHAASO J1825-1326\n",
      "HESS J1825-137\n",
      "gamma-cat (an exception occurred)\n",
      "hgps (an exception occurred)\n",
      "2hwc (an exception occurred)\n",
      "3fgl (an exception occurred)\n",
      "4fgl (an exception occurred)\n",
      "2fhl (an exception occurred)\n",
      "3fhl (an exception occurred)\n",
      "3hwc (an exception occurred)\n",
      "HESS J1826-130\n",
      "gamma-cat (an exception occurred)\n",
      "hgps (an exception occurred)\n",
      "2hwc (an exception occurred)\n",
      "3fgl (an exception occurred)\n",
      "4fgl (an exception occurred)\n",
      "2fhl (an exception occurred)\n",
      "3fhl (an exception occurred)\n",
      "3hwc (an exception occurred)\n",
      "2HWC J1825-134\n",
      "gamma-cat (an exception occurred)\n",
      "hgps (an exception occurred)\n",
      "2hwc (an exception occurred)\n",
      "3fgl (an exception occurred)\n",
      "4fgl (an exception occurred)\n",
      "2fhl (an exception occurred)\n",
      "3fhl (an exception occurred)\n",
      "3hwc (an exception occurred)\n",
      " \n",
      "***\n",
      "LHAASO J1908+0621\n",
      "MGRO J1908+06\n",
      "gamma-cat (an exception occurred)\n",
      "hgps (an exception occurred)\n",
      "2hwc (an exception occurred)\n",
      "3fgl (an exception occurred)\n",
      "4fgl (an exception occurred)\n",
      "2fhl (an exception occurred)\n",
      "3fhl (an exception occurred)\n",
      "3hwc (an exception occurred)\n",
      "HESS J1908+063\n",
      "gamma-cat (an exception occurred)\n",
      "hgps (an exception occurred)\n",
      "2hwc (an exception occurred)\n",
      "3fgl (an exception occurred)\n",
      "4fgl (an exception occurred)\n",
      "2fhl (an exception occurred)\n",
      "3fhl (an exception occurred)\n",
      "3hwc (an exception occurred)\n",
      "ARGO J1907+0627\n",
      "gamma-cat (an exception occurred)\n",
      "hgps (an exception occurred)\n",
      "2hwc (an exception occurred)\n",
      "3fgl (an exception occurred)\n",
      "4fgl (an exception occurred)\n",
      "2fhl (an exception occurred)\n",
      "3fhl (an exception occurred)\n",
      "3hwc (an exception occurred)\n",
      "VER J1907+062\n",
      "gamma-cat (an exception occurred)\n",
      "hgps (an exception occurred)\n",
      "2hwc (an exception occurred)\n",
      "3fgl (an exception occurred)\n",
      "4fgl (an exception occurred)\n",
      "2fhl (an exception occurred)\n",
      "3fhl (an exception occurred)\n",
      "3hwc (an exception occurred)\n",
      "2HWC J1908+063\n",
      "gamma-cat (an exception occurred)\n",
      "hgps (an exception occurred)\n",
      "2hwc (an exception occurred)\n",
      "3fgl (an exception occurred)\n",
      "4fgl (an exception occurred)\n",
      "2fhl (an exception occurred)\n",
      "3fhl (an exception occurred)\n",
      "3hwc (an exception occurred)\n",
      " \n",
      "***\n",
      "LHAASO J2226+6057\n",
      "VER 2226+608\n",
      "gamma-cat (an exception occurred)\n",
      "hgps (an exception occurred)\n",
      "2hwc (an exception occurred)\n",
      "3fgl (an exception occurred)\n",
      "4fgl (an exception occurred)\n",
      "2fhl (an exception occurred)\n",
      "3fhl (an exception occurred)\n",
      "3hwc (an exception occurred)\n",
      "Boomerang\n",
      "gamma-cat (an exception occurred)\n",
      "hgps (an exception occurred)\n",
      "2hwc (an exception occurred)\n",
      "3fgl (an exception occurred)\n",
      "4fgl (an exception occurred)\n",
      "2fhl (an exception occurred)\n",
      "3fhl (an exception occurred)\n",
      "3hwc (an exception occurred)\n",
      " \n",
      "***\n"
     ]
    }
   ],
   "source": [
    "base_dir  = \"flux_points\"\n",
    "child_dir = \"catalog\"\n",
    "format_file = \".dat\"\n",
    "\n",
    "LHAASO_name = list(TeVCount_dict.keys())[0]\n",
    "src_name =  list(TeVCount_dict.values())[0][2]\n",
    "\n",
    "\n",
    "\n",
    "for i in range(len(TeVCount_dict.keys())):\n",
    "    LHAASO_name = list(TeVCount_dict.keys())[i]\n",
    "    print(f\"{LHAASO_name}\")\n",
    "\n",
    "    for j in range(len(TeVCount_dict[LHAASO_name])):\n",
    "        src_name=TeVCount_dict[LHAASO_name][j]\n",
    "        \n",
    "        LHAASO_id = LHAASO_name.replace(\" \", \"\")\n",
    "        src_id = src_name.replace(\" \", \"\")\n",
    "\n",
    "        print(f\"{src_name}\")\n",
    "        for k in range(len(catalog_tag)): \n",
    "            \n",
    "            try:\n",
    "                cat_name = catalog_tag[k]\n",
    "                cat=CATALOG_REGISTRY.get_cls(cat_name)()\n",
    "                src=cat[src_name]\n",
    "  \n",
    "                ds = FluxPointsDataset(\n",
    "            #             spectral_model=src.spectral_model,\n",
    "                    data=src.flux_points, \n",
    "                    name=cat_name\n",
    "                )\n",
    "                table = ds.data.to_table(sed_type=\"dnde\", formatted=True)\n",
    "\n",
    "\n",
    "\n",
    "#                 file_name = f'{src_id}_{base_dir}_{cat_name}{format_file}'\n",
    "#                 mkdir_base_child(base_dir, child_dir)\n",
    "\n",
    "                path_name = os.path.abspath(os.path.join(f\"{base_dir}/{child_dir}/{file_name}\"))\n",
    "                # print(path_name)\n",
    "                if path_name not in sys.path:\n",
    "                    sys.path.append(path_name)\n",
    "\n",
    "                table.write(f\"{path_name}\",format='ascii.ecsv', overwrite=True)\n",
    "\n",
    "        \n",
    "                print(f\"{catalog_tag[k]}\")\n",
    "\n",
    "            except:\n",
    "                 print(f\"{catalog_tag[k]} (an exception occurred)\")\n",
    "    print(\" \")\n",
    "    print(\"***\")\n"
   ]
  },
  {
   "cell_type": "code",
   "execution_count": 20,
   "id": "0ad2bf8e",
   "metadata": {},
   "outputs": [
    {
     "name": "stdout",
     "output_type": "stream",
     "text": [
      "********An exception occurred: gamma-cat********\n",
      "********An exception occurred: hgps********\n",
      "********An exception occurred: 2hwc********\n",
      "********An exception occurred: 2fhl********\n",
      "********An exception occurred: 3fhl********\n",
      "********An exception occurred: 3hwc********\n"
     ]
    }
   ],
   "source": [
    "    for i  in range(len(catalog_tag)): \n",
    "        try:\n",
    "            cat_name = catalog_tag[i]\n",
    "            cat=CATALOG_REGISTRY.get_cls(cat_name)()\n",
    "            src=cat[src_name]\n",
    "\n",
    "        except:\n",
    "            print(f\"********An exception occurred: {catalog_tag[i]}********\")\n",
    "\n",
    "# for key, value in TeVCount_dict.items():\n",
    "#     LHAASO.append(key)\n",
    "#     TeVCount.append(value)\n",
    "# print(LHAASO, TeVCount)\n",
    "\n",
    "# cat=CATALOG_REGISTRY.get_cls(cat_name)()\n",
    "#         src=cat[src_name]\n",
    "    "
   ]
  },
  {
   "cell_type": "code",
   "execution_count": 21,
   "id": "90e0f7c7",
   "metadata": {},
   "outputs": [
    {
     "name": "stdout",
     "output_type": "stream",
     "text": [
      "['LHAASO J1825-1326', 'LHAASO J1908+0621', 'LHAASO J2226+6057'] [['HESS J1825-137', 'HESS J1826-130', '2HWC J1825-134'], ['MGRO J1908+06', 'HESS J1908+063', 'ARGO J1907+0627', 'VER J1907+062', '2HWC J1908+063'], ['VER 2226+608', 'Boomerang']]\n"
     ]
    }
   ],
   "source": [
    "LHAASO = []\n",
    "TeVCount = []\n",
    "\n",
    "for key, value in TeVCount_dict.items():\n",
    "    LHAASO.append(key)\n",
    "    TeVCount.append(value)\n",
    "print(LHAASO, TeVCount)"
   ]
  },
  {
   "cell_type": "code",
   "execution_count": 22,
   "id": "de20331a",
   "metadata": {},
   "outputs": [],
   "source": [
    "LHAASO_name = list(TeVCount_dict.keys())[0]\n",
    "src_name =  list(TeVCount_dict.values())[0][1]\n",
    "\n",
    "LHAASO_id = LHAASO_name.replace(\" \", \"\")\n",
    "src_id = src_name.replace(\" \", \"\")"
   ]
  },
  {
   "cell_type": "code",
   "execution_count": 23,
   "id": "918ebb8a",
   "metadata": {},
   "outputs": [
    {
     "data": {
      "text/plain": [
       "('LHAASO J1825-1326', 'LHAASOJ1825-1326')"
      ]
     },
     "execution_count": 23,
     "metadata": {},
     "output_type": "execute_result"
    }
   ],
   "source": [
    "LHAASO_name, LHAASO_id"
   ]
  },
  {
   "cell_type": "code",
   "execution_count": 24,
   "id": "57955919",
   "metadata": {},
   "outputs": [
    {
     "data": {
      "text/plain": [
       "('HESS J1826-130', 'HESSJ1826-130')"
      ]
     },
     "execution_count": 24,
     "metadata": {},
     "output_type": "execute_result"
    }
   ],
   "source": [
    "src_name, src_id"
   ]
  },
  {
   "cell_type": "code",
   "execution_count": 25,
   "id": "785454df",
   "metadata": {},
   "outputs": [],
   "source": [
    "# CATALOG_REGISTRY.get_cls(\"2hwc\")()[\"HESS J1908+063\"]"
   ]
  },
  {
   "cell_type": "code",
   "execution_count": 26,
   "id": "80f5b1e2",
   "metadata": {},
   "outputs": [
    {
     "name": "stdout",
     "output_type": "stream",
     "text": [
      "********An exception occurred: gamma-cat********\n",
      "********An exception occurred: hgps********\n",
      "********An exception occurred: 2hwc********\n",
      "********An exception occurred: 3fgl********\n",
      "********An exception occurred: 4fgl********\n",
      "********An exception occurred: 2fhl********\n",
      "********An exception occurred: 3fhl********\n",
      "********An exception occurred: 3hwc********\n"
     ]
    }
   ],
   "source": [
    "catalog_tag = [\"gamma-cat\", \"hgps\", \"2hwc\", \"3fgl\", \"4fgl\", \"2fhl\", \"3fhl\", \"3hwc\"] \n",
    "\n",
    "catalog = []\n",
    "catalog_name = []\n",
    "source = []\n",
    "spatial_model = []\n",
    "spectral_model = []\n",
    "sky_model = []\n",
    "dataset = []\n",
    "for i  in range(len(catalog_tag)): \n",
    "    try:\n",
    "        cat_name = catalog_tag[i]\n",
    "        cat=CATALOG_REGISTRY.get_cls(cat_name)()\n",
    "        src=cat[src_name]\n",
    "\n",
    "        ds = FluxPointsDataset(\n",
    "#             spectral_model=src.spectral_model,\n",
    "            data=src.flux_points, \n",
    "            name=cat_name\n",
    "        )\n",
    "        table = ds.data.to_table(sed_type=\"dnde\", formatted=True)\n",
    "        (table)\n",
    "        \n",
    "        base_dir  = \"flux_points\"\n",
    "        child_dir = \"catalog\"\n",
    "        format_file = \".dat\"\n",
    "\n",
    "\n",
    "#         file_name = f'{src_id}_{base_dir}_{cat_name}{format_file}'\n",
    "#         mkdir_base_child(base_dir, child_dir)\n",
    "\n",
    "        path_name = os.path.abspath(os.path.join(f\"{base_dir}/{child_dir}/{file_name}\"))\n",
    "        # print(path_name)\n",
    "        if path_name not in sys.path:\n",
    "            sys.path.append(path_name)\n",
    "\n",
    "        table.write(f\"{path_name}\",format='ascii.ecsv', overwrite=True)\n",
    "\n",
    "        \n",
    "        \n",
    "        catalog.append(cat)\n",
    "        source.append(src)\n",
    "        spectral_model.append(src.spectral_model)\n",
    "        spatial_model.append(src.spatial_model)\n",
    "        sky_model.append(src.sky_model)\n",
    "        catalog_name.append(cat_name)\n",
    "        dataset.append(ds)\n",
    "\n",
    "        \n",
    "    except:\n",
    "        print(f\"********An exception occurred: {catalog_tag[i]}********\")"
   ]
  },
  {
   "cell_type": "code",
   "execution_count": 27,
   "id": "64a4effe",
   "metadata": {},
   "outputs": [
    {
     "data": {
      "text/plain": [
       "[]"
      ]
     },
     "execution_count": 27,
     "metadata": {},
     "output_type": "execute_result"
    }
   ],
   "source": [
    "spectral_model"
   ]
  },
  {
   "cell_type": "code",
   "execution_count": 28,
   "id": "548adf6f",
   "metadata": {},
   "outputs": [
    {
     "ename": "NameError",
     "evalue": "name 'Datasets' is not defined",
     "output_type": "error",
     "traceback": [
      "\u001b[0;31m---------------------------------------------------------------------------\u001b[0m",
      "\u001b[0;31mNameError\u001b[0m                                 Traceback (most recent call last)",
      "Input \u001b[0;32mIn [28]\u001b[0m, in \u001b[0;36m<cell line: 1>\u001b[0;34m()\u001b[0m\n\u001b[0;32m----> 1\u001b[0m dataset \u001b[38;5;241m=\u001b[39m \u001b[43mDatasets\u001b[49m(dataset)\n",
      "\u001b[0;31mNameError\u001b[0m: name 'Datasets' is not defined"
     ]
    }
   ],
   "source": [
    "dataset = Datasets(dataset)"
   ]
  },
  {
   "cell_type": "code",
   "execution_count": null,
   "id": "642bd51a",
   "metadata": {},
   "outputs": [],
   "source": [
    "print_flux()"
   ]
  },
  {
   "cell_type": "code",
   "execution_count": null,
   "id": "129bb366",
   "metadata": {
    "scrolled": true
   },
   "outputs": [],
   "source": [
    "# ax = plt.subplot()\n",
    "# ax.yaxis.set_units(u.Unit(\"TeV cm-2 s-1\"))\n",
    "\n",
    "# kwargs = {\"ax\": ax, \"sed_type\": \"e2dnde\"}\n",
    "\n",
    "# for d in dataset:\n",
    "#     d.data.plot(label=d.name, **kwargs)\n",
    "# energy_bounds = [1e-5, 1e3] * u.TeV\n",
    "# title = f\"{LHAASO_name}:  {src_name}\"\n",
    "# ax.set_title(title)\n",
    "# ax.legend(loc=\"best\")\n",
    "# ax.set_ylim(1e-13, 1e-9)\n",
    "# ax.set_xlim(energy_bounds)\n",
    "# ax.legend()\n",
    "\n",
    "# file_name = LHAASO_id+\"_\"+src_id\n",
    "# plt.savefig(file_name, bbox_inches='tight')\n",
    "# # path_flux = mkdir_base_child(\"analysis\", \"flux_points\")\n",
    "\n",
    "# # plt_savefig(path_flux, \"flux_points\")"
   ]
  },
  {
   "cell_type": "code",
   "execution_count": null,
   "id": "c4070b95",
   "metadata": {},
   "outputs": [],
   "source": []
  },
  {
   "cell_type": "code",
   "execution_count": null,
   "id": "964dfa3e",
   "metadata": {},
   "outputs": [],
   "source": []
  },
  {
   "cell_type": "code",
   "execution_count": null,
   "id": "824a3427",
   "metadata": {},
   "outputs": [],
   "source": [
    "# print_flux()"
   ]
  },
  {
   "cell_type": "code",
   "execution_count": null,
   "id": "7f7fc9c5",
   "metadata": {},
   "outputs": [],
   "source": []
  },
  {
   "cell_type": "code",
   "execution_count": null,
   "id": "fa851025",
   "metadata": {},
   "outputs": [],
   "source": []
  },
  {
   "cell_type": "code",
   "execution_count": null,
   "id": "a60cbbd5",
   "metadata": {},
   "outputs": [],
   "source": []
  },
  {
   "cell_type": "code",
   "execution_count": null,
   "id": "f1afd2f0",
   "metadata": {},
   "outputs": [],
   "source": []
  },
  {
   "cell_type": "code",
   "execution_count": null,
   "id": "3c26976a",
   "metadata": {},
   "outputs": [],
   "source": []
  }
 ],
 "metadata": {
  "kernelspec": {
   "display_name": "Python 3 (ipykernel)",
   "language": "python",
   "name": "python3"
  },
  "language_info": {
   "codemirror_mode": {
    "name": "ipython",
    "version": 3
   },
   "file_extension": ".py",
   "mimetype": "text/x-python",
   "name": "python",
   "nbconvert_exporter": "python",
   "pygments_lexer": "ipython3",
   "version": "3.9.15"
  }
 },
 "nbformat": 4,
 "nbformat_minor": 5
}
