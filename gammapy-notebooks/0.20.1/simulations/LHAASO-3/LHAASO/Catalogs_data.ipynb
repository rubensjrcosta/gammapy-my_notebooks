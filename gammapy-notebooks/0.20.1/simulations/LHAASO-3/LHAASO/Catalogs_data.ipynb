{
 "cells": [
  {
   "cell_type": "code",
   "execution_count": 1,
   "id": "5ce110db",
   "metadata": {},
   "outputs": [],
   "source": [
    "# !pip install dataframe-image"
   ]
  },
  {
   "cell_type": "code",
   "execution_count": 2,
   "id": "fa05df50",
   "metadata": {},
   "outputs": [],
   "source": [
    "# !pip install tabulate"
   ]
  },
  {
   "cell_type": "markdown",
   "id": "b43d98b9",
   "metadata": {},
   "source": [
    "Carrega os catalogos do gammapy\n",
    "\n",
    "Verifica a existencia da fonte em cada um dos catalgos\n",
    "\n",
    "Guarda a tabela dos pontos de fluxos"
   ]
  },
  {
   "cell_type": "code",
   "execution_count": 3,
   "id": "c6e3efbf",
   "metadata": {},
   "outputs": [],
   "source": [
    "%matplotlib inline\n",
    "import matplotlib.pyplot as plt"
   ]
  },
  {
   "cell_type": "code",
   "execution_count": 4,
   "id": "3ac8a12e",
   "metadata": {},
   "outputs": [],
   "source": [
    "from gammapy.datasets import FluxPointsDataset, Datasets\n",
    "from gammapy.catalog import CATALOG_REGISTRY"
   ]
  },
  {
   "cell_type": "code",
   "execution_count": 5,
   "id": "eff6f5ad",
   "metadata": {},
   "outputs": [],
   "source": [
    "import os\n",
    "import sys\n",
    "import importlib\n",
    "\n",
    "module_path = os.path.abspath('modules/spectral_models')\n",
    "if module_path not in sys.path:\n",
    "    sys.path.append(module_path)\n",
    "# print(module_path)\n",
    "import spectral_models\n",
    "importlib.reload(spectral_models)\n",
    "from spectral_models import pwl_model, get_source_data\n",
    "\n",
    "module_path = os.path.abspath('modules/utilities')\n",
    "if module_path not in sys.path:\n",
    "    sys.path.append(module_path)\n",
    "# print(module_path)\n",
    "import utilities\n",
    "importlib.reload(utilities)\n",
    "from utilities import mkdir_child_dir"
   ]
  },
  {
   "cell_type": "code",
   "execution_count": 6,
   "id": "a1236f88",
   "metadata": {},
   "outputs": [],
   "source": [
    "from astropy import units as u\n",
    "\n",
    "from gammapy.modeling import Fit\n",
    "from gammapy.modeling.models import (\n",
    "    Models,\n",
    "    ExpCutoffPowerLawSpectralModel,\n",
    "    LogParabolaSpectralModel,\n",
    "    PowerLawSpectralModel,\n",
    "    SkyModel,\n",
    ")"
   ]
  },
  {
   "cell_type": "code",
   "execution_count": 7,
   "id": "fb6d2a2f",
   "metadata": {},
   "outputs": [],
   "source": [
    "def print_SED(spec_model = None, sed_type = \"e2dnde\", yaxis_units=\"TeV cm-2 s-1\", energy_bounds= [1e-5, 1e2] * u.TeV, ylim = [1e-13, 1e-9]):\n",
    "    '''Returns a spectral energy distribution\n",
    "    \n",
    "    print_SED(spec_model, yaxis_units, sed_type, reference)\n",
    "    >>> model \n",
    "    ----------\n",
    "    '''\n",
    "    path, path_name=mkdir_child_dir(\"catalogs_data\", \"flux_points_images\")\n",
    "    ax = plt.subplot()\n",
    "    ax.yaxis.set_units(u.Unit(yaxis_units))\n",
    "    ax.xaxis.set_units(u.Unit(\"TeV\"))\n",
    "\n",
    "    #label = f\"{sky_model}\"\n",
    "    \n",
    "    kwargs = {\n",
    "        \"ax\": ax, \n",
    "        \"sed_type\": sed_type\n",
    "    }    \n",
    "    for d in datasets:\n",
    "        d.data.plot(label=d.name, **kwargs)\n",
    "\n",
    "    try:   \n",
    "        kwargs_fit = {\"label\":sky_model.name}\n",
    "        spec_model.plot(energy_bounds=energy_bounds, color=\"k\", **kwargs, **kwargs_fit)\n",
    "        spec_model.plot_error(energy_bounds=energy_bounds, **kwargs)\n",
    "        file = path_name / f'{LHAASO_id}_{source_id}_{sky_model.name}.png'\n",
    "    except:\n",
    "        file = path_name / f'{LHAASO_id}_{source_id}.png'\n",
    "    \n",
    "    ax.set_ylim(ylim)\n",
    "    ax.set_xlim(energy_bounds)\n",
    "    ax.legend()\n",
    "    \n",
    "    plt.title(f\"{LHAASO_name}: {source_name}\")\n",
    "        \n",
    "    plt.savefig(file, bbox_inches='tight')\n",
    "    plt.show()\n",
    "    \n",
    "    return "
   ]
  },
  {
   "cell_type": "code",
   "execution_count": 8,
   "id": "38fbf074",
   "metadata": {},
   "outputs": [
    {
     "name": "stdout",
     "output_type": "stream",
     "text": [
      "Registry\n",
      "--------\n",
      "\n",
      "SourceCatalogGammaCat: gamma-cat \n",
      "SourceCatalogHGPS    : hgps \n",
      "SourceCatalog2HWC    : 2hwc \n",
      "SourceCatalog3FGL    : 3fgl \n",
      "SourceCatalog4FGL    : 4fgl \n",
      "SourceCatalog2FHL    : 2fhl \n",
      "SourceCatalog3FHL    : 3fhl \n",
      "SourceCatalog3HWC    : 3hwc \n",
      "\n"
     ]
    }
   ],
   "source": [
    "print(CATALOG_REGISTRY)"
   ]
  },
  {
   "cell_type": "code",
   "execution_count": 9,
   "id": "430f1eff",
   "metadata": {},
   "outputs": [],
   "source": [
    "catalog_tags = [\"gamma-cat\", \"hgps\", \"2hwc\", \"3fgl\", \"4fgl\", \"2fhl\", \"3fhl\", \"3hwc\"] "
   ]
  },
  {
   "cell_type": "code",
   "execution_count": 10,
   "id": "9f2b96f7",
   "metadata": {},
   "outputs": [],
   "source": [
    "# Loading the source catalogs\n",
    "catalog_gammacat = CATALOG_REGISTRY.get_cls(\"gamma-cat\")()\n",
    "catalog_hgps = CATALOG_REGISTRY.get_cls(\"hgps\")()\n",
    "catalog_2hwc = CATALOG_REGISTRY.get_cls(\"2hwc\")()\n",
    "catalog_3fgl = CATALOG_REGISTRY.get_cls(\"3fgl\")()\n",
    "catalog_4fgl = CATALOG_REGISTRY.get_cls(\"4fgl\")()\n",
    "catalog_2fhl = CATALOG_REGISTRY.get_cls(\"2fhl\")()\n",
    "catalog_3fhl = CATALOG_REGISTRY.get_cls(\"3fhl\")()\n",
    "catalog_3hwc = CATALOG_REGISTRY.get_cls(\"3hwc\")()"
   ]
  },
  {
   "cell_type": "code",
   "execution_count": 11,
   "id": "aabe07e7",
   "metadata": {},
   "outputs": [],
   "source": [
    "# Creating a dictionary of the Potential TeV Counterparts (dict values) of the three most significant (excluding Crab)LHASSO observations (dict keys)# see https://www.nature.com/articles/s41586-021-03498-z\n",
    "dict_lhaaso_tevc = {\n",
    "    \"LHAASO J1825-1326\": [\"HESS J1825-137\", \"HESS J1826-130\", \"2HWC J1825-134\"], \n",
    "    \"LHAASO J1908+0621\": [\"MGRO J1908+06\" , \"HESS J1908+063\", \"ARGO J1907+0627\", \"VER J1907+062\", \"2HWC J1908+063\"], \n",
    "    \"LHAASO J2226+6057\": [\"VER J2227+608\"  , \"Boomerang\"]\n",
    "}"
   ]
  },
  {
   "cell_type": "code",
   "execution_count": 12,
   "id": "543e07d4",
   "metadata": {},
   "outputs": [
    {
     "name": "stdout",
     "output_type": "stream",
     "text": [
      "Directory 'catalogs_data/flux_points_table' created\n"
     ]
    }
   ],
   "source": [
    "path_par, path_dir = mkdir_child_dir(\"catalogs_data\", \"flux_points_table\")\n",
    "\n",
    "df, ds_lst = get_source_data(dict_lhaaso_tevc, catalog_tags, path_dir)"
   ]
  },
  {
   "cell_type": "code",
   "execution_count": 13,
   "id": "0e61b2f7",
   "metadata": {
    "scrolled": true
   },
   "outputs": [
    {
     "data": {
      "text/html": [
       "<div>\n",
       "<style scoped>\n",
       "    .dataframe tbody tr th:only-of-type {\n",
       "        vertical-align: middle;\n",
       "    }\n",
       "\n",
       "    .dataframe tbody tr th {\n",
       "        vertical-align: top;\n",
       "    }\n",
       "\n",
       "    .dataframe thead th {\n",
       "        text-align: right;\n",
       "    }\n",
       "</style>\n",
       "<table border=\"1\" class=\"dataframe\">\n",
       "  <thead>\n",
       "    <tr style=\"text-align: right;\">\n",
       "      <th></th>\n",
       "      <th>LHAASO</th>\n",
       "      <th>TeV Conterpart</th>\n",
       "      <th>Catalog</th>\n",
       "      <th>Flux Points</th>\n",
       "      <th>ds</th>\n",
       "      <th>src</th>\n",
       "    </tr>\n",
       "  </thead>\n",
       "  <tbody>\n",
       "    <tr>\n",
       "      <th>0</th>\n",
       "      <td>LHAASO J1825-1326</td>\n",
       "      <td>HESS J1825-137</td>\n",
       "      <td>[gamma-cat, hgps, 3fgl, 4fgl, 2fhl, 3fhl]</td>\n",
       "      <td>[gamma-cat, hgps, 3fgl, 4fgl, 2fhl, 3fhl]</td>\n",
       "      <td>[FluxPointsDataset\\n-----------------\\n\\n  Nam...</td>\n",
       "      <td>[{'source_id': 118, 'common_name': 'HESS J1825...</td>\n",
       "    </tr>\n",
       "    <tr>\n",
       "      <th>1</th>\n",
       "      <td>LHAASO J1825-1326</td>\n",
       "      <td>HESS J1826-130</td>\n",
       "      <td>[gamma-cat, hgps, 4fgl, 3fhl]</td>\n",
       "      <td>[gamma-cat, hgps, 4fgl, 3fhl]</td>\n",
       "      <td>[FluxPointsDataset\\n-----------------\\n\\n  Nam...</td>\n",
       "      <td>[{'source_id': 161, 'common_name': 'HESS J1826...</td>\n",
       "    </tr>\n",
       "    <tr>\n",
       "      <th>2</th>\n",
       "      <td>LHAASO J1825-1326</td>\n",
       "      <td>2HWC J1825-134</td>\n",
       "      <td>[2hwc]</td>\n",
       "      <td>[]</td>\n",
       "      <td>[]</td>\n",
       "      <td>[{'source_name': '2HWC J1825-134', 'ra': 276.4...</td>\n",
       "    </tr>\n",
       "    <tr>\n",
       "      <th>3</th>\n",
       "      <td>LHAASO J1908+0621</td>\n",
       "      <td>MGRO J1908+06</td>\n",
       "      <td>[gamma-cat, 3fgl, 4fgl]</td>\n",
       "      <td>[gamma-cat, 3fgl, 4fgl]</td>\n",
       "      <td>[FluxPointsDataset\\n-----------------\\n\\n  Nam...</td>\n",
       "      <td>[{'source_id': 132, 'common_name': 'MGRO J1908...</td>\n",
       "    </tr>\n",
       "    <tr>\n",
       "      <th>4</th>\n",
       "      <td>LHAASO J1908+0621</td>\n",
       "      <td>HESS J1908+063</td>\n",
       "      <td>[gamma-cat, hgps]</td>\n",
       "      <td>[gamma-cat, hgps]</td>\n",
       "      <td>[FluxPointsDataset\\n-----------------\\n\\n  Nam...</td>\n",
       "      <td>[{'source_id': 132, 'common_name': 'MGRO J1908...</td>\n",
       "    </tr>\n",
       "    <tr>\n",
       "      <th>5</th>\n",
       "      <td>LHAASO J1908+0621</td>\n",
       "      <td>ARGO J1907+0627</td>\n",
       "      <td>[gamma-cat]</td>\n",
       "      <td>[gamma-cat]</td>\n",
       "      <td>[FluxPointsDataset\\n-----------------\\n\\n  Nam...</td>\n",
       "      <td>[{'source_id': 132, 'common_name': 'MGRO J1908...</td>\n",
       "    </tr>\n",
       "    <tr>\n",
       "      <th>6</th>\n",
       "      <td>LHAASO J1908+0621</td>\n",
       "      <td>VER J1907+062</td>\n",
       "      <td>[gamma-cat]</td>\n",
       "      <td>[gamma-cat]</td>\n",
       "      <td>[FluxPointsDataset\\n-----------------\\n\\n  Nam...</td>\n",
       "      <td>[{'source_id': 132, 'common_name': 'MGRO J1908...</td>\n",
       "    </tr>\n",
       "    <tr>\n",
       "      <th>7</th>\n",
       "      <td>LHAASO J1908+0621</td>\n",
       "      <td>2HWC J1908+063</td>\n",
       "      <td>[2hwc]</td>\n",
       "      <td>[]</td>\n",
       "      <td>[]</td>\n",
       "      <td>[{'source_name': '2HWC J1908+063', 'ra': 287.0...</td>\n",
       "    </tr>\n",
       "    <tr>\n",
       "      <th>8</th>\n",
       "      <td>LHAASO J2226+6057</td>\n",
       "      <td>VER J2227+608</td>\n",
       "      <td>[]</td>\n",
       "      <td>[]</td>\n",
       "      <td>[]</td>\n",
       "      <td>[]</td>\n",
       "    </tr>\n",
       "    <tr>\n",
       "      <th>9</th>\n",
       "      <td>LHAASO J2226+6057</td>\n",
       "      <td>Boomerang</td>\n",
       "      <td>[3fgl, 4fgl]</td>\n",
       "      <td>[3fgl, 4fgl]</td>\n",
       "      <td>[FluxPointsDataset\\n-----------------\\n\\n  Nam...</td>\n",
       "      <td>[{'Source_Name': '3FGL J2229.0+6114 ', 'RAJ200...</td>\n",
       "    </tr>\n",
       "  </tbody>\n",
       "</table>\n",
       "</div>"
      ],
      "text/plain": [
       "              LHAASO   TeV Conterpart  \\\n",
       "0  LHAASO J1825-1326   HESS J1825-137   \n",
       "1  LHAASO J1825-1326   HESS J1826-130   \n",
       "2  LHAASO J1825-1326   2HWC J1825-134   \n",
       "3  LHAASO J1908+0621    MGRO J1908+06   \n",
       "4  LHAASO J1908+0621   HESS J1908+063   \n",
       "5  LHAASO J1908+0621  ARGO J1907+0627   \n",
       "6  LHAASO J1908+0621    VER J1907+062   \n",
       "7  LHAASO J1908+0621   2HWC J1908+063   \n",
       "8  LHAASO J2226+6057    VER J2227+608   \n",
       "9  LHAASO J2226+6057        Boomerang   \n",
       "\n",
       "                                     Catalog  \\\n",
       "0  [gamma-cat, hgps, 3fgl, 4fgl, 2fhl, 3fhl]   \n",
       "1              [gamma-cat, hgps, 4fgl, 3fhl]   \n",
       "2                                     [2hwc]   \n",
       "3                    [gamma-cat, 3fgl, 4fgl]   \n",
       "4                          [gamma-cat, hgps]   \n",
       "5                                [gamma-cat]   \n",
       "6                                [gamma-cat]   \n",
       "7                                     [2hwc]   \n",
       "8                                         []   \n",
       "9                               [3fgl, 4fgl]   \n",
       "\n",
       "                                 Flux Points  \\\n",
       "0  [gamma-cat, hgps, 3fgl, 4fgl, 2fhl, 3fhl]   \n",
       "1              [gamma-cat, hgps, 4fgl, 3fhl]   \n",
       "2                                         []   \n",
       "3                    [gamma-cat, 3fgl, 4fgl]   \n",
       "4                          [gamma-cat, hgps]   \n",
       "5                                [gamma-cat]   \n",
       "6                                [gamma-cat]   \n",
       "7                                         []   \n",
       "8                                         []   \n",
       "9                               [3fgl, 4fgl]   \n",
       "\n",
       "                                                  ds  \\\n",
       "0  [FluxPointsDataset\\n-----------------\\n\\n  Nam...   \n",
       "1  [FluxPointsDataset\\n-----------------\\n\\n  Nam...   \n",
       "2                                                 []   \n",
       "3  [FluxPointsDataset\\n-----------------\\n\\n  Nam...   \n",
       "4  [FluxPointsDataset\\n-----------------\\n\\n  Nam...   \n",
       "5  [FluxPointsDataset\\n-----------------\\n\\n  Nam...   \n",
       "6  [FluxPointsDataset\\n-----------------\\n\\n  Nam...   \n",
       "7                                                 []   \n",
       "8                                                 []   \n",
       "9  [FluxPointsDataset\\n-----------------\\n\\n  Nam...   \n",
       "\n",
       "                                                 src  \n",
       "0  [{'source_id': 118, 'common_name': 'HESS J1825...  \n",
       "1  [{'source_id': 161, 'common_name': 'HESS J1826...  \n",
       "2  [{'source_name': '2HWC J1825-134', 'ra': 276.4...  \n",
       "3  [{'source_id': 132, 'common_name': 'MGRO J1908...  \n",
       "4  [{'source_id': 132, 'common_name': 'MGRO J1908...  \n",
       "5  [{'source_id': 132, 'common_name': 'MGRO J1908...  \n",
       "6  [{'source_id': 132, 'common_name': 'MGRO J1908...  \n",
       "7  [{'source_name': '2HWC J1908+063', 'ra': 287.0...  \n",
       "8                                                 []  \n",
       "9  [{'Source_Name': '3FGL J2229.0+6114 ', 'RAJ200...  "
      ]
     },
     "execution_count": 13,
     "metadata": {},
     "output_type": "execute_result"
    }
   ],
   "source": [
    "df"
   ]
  },
  {
   "cell_type": "code",
   "execution_count": null,
   "id": "f247c04c",
   "metadata": {},
   "outputs": [],
   "source": []
  },
  {
   "cell_type": "code",
   "execution_count": null,
   "id": "d610d96e",
   "metadata": {},
   "outputs": [],
   "source": []
  },
  {
   "cell_type": "code",
   "execution_count": null,
   "id": "4f2ab96d",
   "metadata": {},
   "outputs": [],
   "source": []
  },
  {
   "cell_type": "code",
   "execution_count": null,
   "id": "ab7f2bff",
   "metadata": {},
   "outputs": [],
   "source": []
  },
  {
   "cell_type": "markdown",
   "id": "5173124c",
   "metadata": {},
   "source": [
    "####### \n"
   ]
  },
  {
   "cell_type": "code",
   "execution_count": null,
   "id": "56c1ebb7",
   "metadata": {},
   "outputs": [],
   "source": []
  },
  {
   "cell_type": "code",
   "execution_count": 14,
   "id": "a47e7330",
   "metadata": {},
   "outputs": [],
   "source": [
    "# to select a source object index\n",
    "src_index = 0"
   ]
  },
  {
   "cell_type": "code",
   "execution_count": 15,
   "id": "4d073080",
   "metadata": {},
   "outputs": [],
   "source": [
    "LHAASO_id = df[\"LHAASO\"][src_index].replace(\" \", \"\")"
   ]
  },
  {
   "cell_type": "code",
   "execution_count": 16,
   "id": "8608bc11",
   "metadata": {},
   "outputs": [],
   "source": [
    "source_id = df[\"TeV Conterpart\"][src_index].replace(\" \", \"\")"
   ]
  },
  {
   "cell_type": "code",
   "execution_count": 17,
   "id": "1bdcefe5",
   "metadata": {},
   "outputs": [
    {
     "data": {
      "text/plain": [
       "[<gammapy.datasets.flux_points.FluxPointsDataset at 0x7f2cab3ce130>,\n",
       " <gammapy.datasets.flux_points.FluxPointsDataset at 0x7f2cab3f9ac0>,\n",
       " <gammapy.datasets.flux_points.FluxPointsDataset at 0x7f2cab5819d0>,\n",
       " <gammapy.datasets.flux_points.FluxPointsDataset at 0x7f2cab3cefa0>,\n",
       " <gammapy.datasets.flux_points.FluxPointsDataset at 0x7f2cab230e50>,\n",
       " <gammapy.datasets.flux_points.FluxPointsDataset at 0x7f2cab3ce280>]"
      ]
     },
     "execution_count": 17,
     "metadata": {},
     "output_type": "execute_result"
    }
   ],
   "source": [
    "ds_lst[src_index]"
   ]
  },
  {
   "cell_type": "code",
   "execution_count": 18,
   "id": "76b13051",
   "metadata": {},
   "outputs": [],
   "source": [
    "catalog_tag = catalog_tags[4]"
   ]
  },
  {
   "cell_type": "code",
   "execution_count": 19,
   "id": "34659495",
   "metadata": {},
   "outputs": [],
   "source": [
    "file_name = f'{LHAASO_id}_{source_id}_{catalog_tag}.fits'"
   ]
  },
  {
   "cell_type": "code",
   "execution_count": 20,
   "id": "7cfade4b",
   "metadata": {},
   "outputs": [
    {
     "data": {
      "text/plain": [
       "'LHAASOJ1825-1326_HESSJ1825-137_4fgl.fits'"
      ]
     },
     "execution_count": 20,
     "metadata": {},
     "output_type": "execute_result"
    }
   ],
   "source": [
    "file_name"
   ]
  },
  {
   "cell_type": "code",
   "execution_count": 21,
   "id": "0b23e725",
   "metadata": {},
   "outputs": [
    {
     "data": {
      "text/plain": [
       "PosixPath('catalogs_data/flux_points_table/LHAASOJ1825-1326_HESSJ1825-137_4fgl.fits')"
      ]
     },
     "execution_count": 21,
     "metadata": {},
     "output_type": "execute_result"
    }
   ],
   "source": [
    "# from astropy import units as u\n",
    "from astropy.table import Table\n",
    "from gammapy.estimators import FluxPoints\n",
    "from gammapy.utils.scripts import make_path\n",
    "# path_flux_points = '/home/gamma/Documents/GitHub/gammapy/gammapy-notebooks/0.20.1/simulations/LHAASO/catalogs_data/flux_points'\n",
    "filename = make_path(f'{path_dir}/{file_name}')\n",
    "\n",
    "# table.write(filename,format=format_type, overwrite=True)\n",
    "filename"
   ]
  },
  {
   "cell_type": "code",
   "execution_count": 22,
   "id": "fa35d85a",
   "metadata": {},
   "outputs": [],
   "source": [
    "flux_unit = u.erg / (u.cm**2 * u.s)\n",
    "energy_unit = u.TeV"
   ]
  },
  {
   "cell_type": "code",
   "execution_count": 23,
   "id": "aeb64c5a",
   "metadata": {},
   "outputs": [
    {
     "name": "stderr",
     "output_type": "stream",
     "text": [
      "No reference model set for FluxMaps. Assuming point source with E^-2 spectrum.\n"
     ]
    },
    {
     "data": {
      "text/html": [
       "<div><i>Table length=8</i>\n",
       "<table id=\"table139829826312656\" class=\"table-striped table-bordered table-condensed\">\n",
       "<thead><tr><th>e_ref</th><th>e_min</th><th>e_max</th><th>e2dnde</th><th>e2dnde_errp</th><th>e2dnde_errn</th><th>e2dnde_ul</th><th>sqrt_ts</th><th>is_ul</th></tr></thead>\n",
       "<thead><tr><th>MeV</th><th>MeV</th><th>MeV</th><th>MeV2 / (cm2 s TeV)</th><th>MeV2 / (cm2 s TeV)</th><th>MeV2 / (cm2 s TeV)</th><th>MeV2 / (cm2 s TeV)</th><th></th><th></th></tr></thead>\n",
       "<thead><tr><th>float64</th><th>float64</th><th>float64</th><th>float64</th><th>float64</th><th>float64</th><th>float64</th><th>float32</th><th>bool</th></tr></thead>\n",
       "<tr><td>70.71067811865478</td><td>49.99999999999999</td><td>100.00000000000004</td><td>0.032818595015253166</td><td>39.504709932181726</td><td>nan</td><td>79.04223861809604</td><td>0.0</td><td>True</td></tr>\n",
       "<tr><td>173.20508075688775</td><td>100.00000000000004</td><td>299.99999999999994</td><td>0.2081885124546636</td><td>15.344609464122158</td><td>nan</td><td>30.897408543825577</td><td>0.0</td><td>True</td></tr>\n",
       "<tr><td>547.722557505166</td><td>299.99999999999994</td><td>999.9999999999998</td><td>4.32498564437942</td><td>3.5155869846878236</td><td>3.572627865089459</td><td>nan</td><td>1.2146629</td><td>False</td></tr>\n",
       "<tr><td>1732.0508075688763</td><td>999.9999999999998</td><td>2999.9999999999977</td><td>7.990703631890637</td><td>1.5610843217601464</td><td>1.5443028406399781</td><td>nan</td><td>5.217925</td><td>False</td></tr>\n",
       "<tr><td>5477.225575051666</td><td>2999.9999999999977</td><td>10000.00000000001</td><td>15.401721896861199</td><td>1.3937241742379425</td><td>1.3937241742379425</td><td>nan</td><td>11.553127</td><td>False</td></tr>\n",
       "<tr><td>17320.50807568877</td><td>10000.00000000001</td><td>30000.000000000007</td><td>21.23645547550675</td><td>1.902212544807774</td><td>1.902212544807774</td><td>nan</td><td>12.197048</td><td>False</td></tr>\n",
       "<tr><td>54772.255750516626</td><td>30000.000000000007</td><td>100000.00000000001</td><td>29.92269676576556</td><td>2.7781173891170416</td><td>2.7781173891170416</td><td>nan</td><td>12.737162</td><td>False</td></tr>\n",
       "<tr><td>316227.7660168382</td><td>100000.00000000001</td><td>999999.9999999995</td><td>36.47185846402396</td><td>4.030735591367832</td><td>3.856327331918009</td><td>nan</td><td>12.315137</td><td>False</td></tr>\n",
       "</table></div>"
      ],
      "text/plain": [
       "<Table length=8>\n",
       "      e_ref              e_min              e_max        ...  sqrt_ts  is_ul\n",
       "       MeV                MeV                MeV         ...                \n",
       "     float64            float64            float64       ...  float32   bool\n",
       "------------------ ------------------ ------------------ ... --------- -----\n",
       " 70.71067811865478  49.99999999999999 100.00000000000004 ...       0.0  True\n",
       "173.20508075688775 100.00000000000004 299.99999999999994 ...       0.0  True\n",
       "  547.722557505166 299.99999999999994  999.9999999999998 ... 1.2146629 False\n",
       "1732.0508075688763  999.9999999999998 2999.9999999999977 ...  5.217925 False\n",
       " 5477.225575051666 2999.9999999999977  10000.00000000001 ... 11.553127 False\n",
       " 17320.50807568877  10000.00000000001 30000.000000000007 ... 12.197048 False\n",
       "54772.255750516626 30000.000000000007 100000.00000000001 ... 12.737162 False\n",
       " 316227.7660168382 100000.00000000001  999999.9999999995 ... 12.315137 False"
      ]
     },
     "execution_count": 23,
     "metadata": {},
     "output_type": "execute_result"
    }
   ],
   "source": [
    "flux_points = FluxPoints.read(filename)\n",
    "flux_points.to_table()"
   ]
  },
  {
   "cell_type": "code",
   "execution_count": 27,
   "id": "4271e99e",
   "metadata": {},
   "outputs": [
    {
     "data": {
      "text/latex": [
       "$[7.0710678 \\times 10^{-5},~0.00017320508,~0.00054772256,~0.0017320508,~0.0054772256,~0.017320508,~0.054772256,~0.31622777] \\; \\mathrm{TeV}$"
      ],
      "text/plain": [
       "<Quantity [7.07106781e-05, 1.73205081e-04, 5.47722558e-04, 1.73205081e-03,\n",
       "           5.47722558e-03, 1.73205081e-02, 5.47722558e-02, 3.16227766e-01] TeV>"
      ]
     },
     "execution_count": 27,
     "metadata": {},
     "output_type": "execute_result"
    }
   ],
   "source": [
    "flux_points.energy_ref.to(u.TeV)"
   ]
  },
  {
   "cell_type": "markdown",
   "id": "9a275935",
   "metadata": {},
   "source": [
    "\"QQQQQQQQQQQQQQQQQQQQQQQQQQQQQQQQQQQQQQQQQQQQQQQQQQQQQQQQ"
   ]
  },
  {
   "cell_type": "code",
   "execution_count": null,
   "id": "afcca889",
   "metadata": {},
   "outputs": [],
   "source": []
  },
  {
   "cell_type": "code",
   "execution_count": 28,
   "id": "632f7102",
   "metadata": {},
   "outputs": [
    {
     "name": "stdout",
     "output_type": "stream",
     "text": [
      "1732.0508075688763 MeV\n",
      "5477.225575051666 MeV\n",
      "17320.50807568877 MeV\n",
      "54772.255750516626 MeV\n",
      "316227.7660168382 MeV\n"
     ]
    }
   ],
   "source": [
    "import numpy as np\n",
    "flux_points_new = np.zeros(len(flux_points.to_table()), dtype=bool)\n",
    "for k, e_ref in enumerate(flux_points.energy_ref):\n",
    "    if e_ref > 1e-3 * u.Unit(\"TeV\"):\n",
    "        flux_points_new[k] = True\n",
    "        print(f\"{e_ref}\")"
   ]
  },
  {
   "cell_type": "code",
   "execution_count": 29,
   "id": "ff88ca5d",
   "metadata": {},
   "outputs": [
    {
     "data": {
      "text/plain": [
       "array([False, False, False,  True,  True,  True,  True,  True])"
      ]
     },
     "execution_count": 29,
     "metadata": {},
     "output_type": "execute_result"
    }
   ],
   "source": [
    "flux_points_new"
   ]
  },
  {
   "cell_type": "code",
   "execution_count": 31,
   "id": "24416d6e",
   "metadata": {},
   "outputs": [
    {
     "name": "stdout",
     "output_type": "stream",
     "text": [
      "      e_ref              e_min              e_max        ...  sqrt_ts  is_ul\n",
      "       MeV                MeV                MeV         ...                \n",
      "------------------ ------------------ ------------------ ... --------- -----\n",
      "1732.0508075688763  999.9999999999998 2999.9999999999977 ...  5.217925 False\n",
      " 5477.225575051666 2999.9999999999977  10000.00000000001 ... 11.553127 False\n",
      " 17320.50807568877  10000.00000000001 30000.000000000007 ... 12.197048 False\n",
      "54772.255750516626 30000.000000000007 100000.00000000001 ... 12.737162 False\n",
      " 316227.7660168382 100000.00000000001  999999.9999999995 ... 12.315137 False\n"
     ]
    }
   ],
   "source": [
    "catalog_3fhl_bright = flux_points.to_table()[flux_points_new]\n",
    "print(catalog_3fhl_bright)"
   ]
  },
  {
   "cell_type": "code",
   "execution_count": 32,
   "id": "2a9e9bb7",
   "metadata": {},
   "outputs": [
    {
     "data": {
      "text/plain": [
       "astropy.table.table.Table"
      ]
     },
     "execution_count": 32,
     "metadata": {},
     "output_type": "execute_result"
    }
   ],
   "source": [
    "type(catalog_3fhl_bright)"
   ]
  },
  {
   "cell_type": "code",
   "execution_count": 89,
   "id": "c8e49ccd",
   "metadata": {},
   "outputs": [
    {
     "data": {
      "text/plain": [
       "gammapy.maps.region.ndmap.RegionNDMap"
      ]
     },
     "execution_count": 89,
     "metadata": {},
     "output_type": "execute_result"
    }
   ],
   "source": [
    "type(flux_points1.dnde)"
   ]
  },
  {
   "cell_type": "code",
   "execution_count": 34,
   "id": "f7efe6ce",
   "metadata": {},
   "outputs": [
    {
     "data": {
      "text/plain": [
       "gammapy.maps.region.ndmap.RegionNDMap"
      ]
     },
     "execution_count": 34,
     "metadata": {},
     "output_type": "execute_result"
    }
   ],
   "source": [
    "type(flux_points.dnde)"
   ]
  },
  {
   "cell_type": "code",
   "execution_count": 35,
   "id": "bf3188fc",
   "metadata": {},
   "outputs": [
    {
     "name": "stderr",
     "output_type": "stream",
     "text": [
      "No reference model set for FluxMaps. Assuming point source with E^-2 spectrum.\n"
     ]
    }
   ],
   "source": [
    "flux_points1 = FluxPoints.from_table(catalog_3fhl_bright)\n"
   ]
  },
  {
   "cell_type": "code",
   "execution_count": 37,
   "id": "b382c26b",
   "metadata": {},
   "outputs": [
    {
     "data": {
      "text/plain": [
       "<AxesSubplot: xlabel='Energy [MeV]', ylabel='e2dnde [erg / (cm2 s)]'>"
      ]
     },
     "execution_count": 37,
     "metadata": {},
     "output_type": "execute_result"
    },
    {
     "data": {
      "image/png": "[encoded data removed]",
      "text/plain": [
       "<Figure size 640x480 with 1 Axes>"
      ]
     },
     "metadata": {},
     "output_type": "display_data"
    }
   ],
   "source": [
    "flux_points1.plot(sed_type=\"e2dnde\") \n"
   ]
  },
  {
   "cell_type": "code",
   "execution_count": null,
   "id": "76bf3d5b",
   "metadata": {},
   "outputs": [],
   "source": [
    "flux_points.plot() \n"
   ]
  },
  {
   "cell_type": "code",
   "execution_count": null,
   "id": "19c8cc45",
   "metadata": {},
   "outputs": [],
   "source": [
    "sed_type=\"e2dnde\"\n",
    "\n",
    "\n",
    "energy_bounds = [1e-7, 1e2] * energy_unit\n",
    "ylim = [1e-20, 1e-9]\n",
    "yaxis_units= flux_unit\n",
    "\n",
    "# flux_points = FluxPoints.read(filename)\n",
    "flux_points = ds_lst[4][0].data\n",
    "\n",
    "ax = plt.subplot()\n",
    "ax.yaxis.set_units(u.Unit(yaxis_units))\n",
    "ax.xaxis.set_units(u.Unit(energy_unit))\n",
    "\n",
    "kwargs = {\n",
    "    \"ax\": ax, \n",
    "    \"sed_type\": sed_type\n",
    "}    \n",
    "\n",
    "flux_points.plot(label=catalog_tag, **kwargs) \n",
    "\n",
    "ax.set_ylim(ylim)\n",
    "ax.set_xlim(energy_bounds)\n",
    "ax.legend()\n",
    "\n",
    "plt.title(f\"{LHAASO_id}: {source_id}\")\n",
    "\n",
    "# plt.savefig(file, bbox_inches='tight')\n",
    "plt.show()"
   ]
  },
  {
   "cell_type": "code",
   "execution_count": null,
   "id": "9711639d",
   "metadata": {},
   "outputs": [],
   "source": [
    "# Setting the source to analasis {}\n",
    "src_index = 3\n",
    "\n",
    "LHAASO_name = list(dict(df[\"LHAASO\"]).values())[src_index]\n",
    "LHAASO_id = LHAASO_id.replace(\" \", \"\")\n",
    "\n",
    "source_name = list(dict(df[\"TeV Conterpart\"]).values())[src_index]\n",
    "source_id = source_name.replace(\" \", \"\")\n",
    "\n",
    "ds_src = ds_lst[src_index]\n",
    "datasets = Datasets(ds_src)"
   ]
  },
  {
   "cell_type": "code",
   "execution_count": null,
   "id": "967f85f3",
   "metadata": {
    "scrolled": true
   },
   "outputs": [],
   "source": [
    "energy_bounds = [1e-5, 1e3] * u.TeV\n",
    "ylim = [1e-13, 1e-9]\n",
    "print_SED(sed_type = \"e2dnde\", yaxis_units=\"erg cm-2 s-1\", energy_bounds=energy_bounds, ylim=ylim)"
   ]
  },
  {
   "cell_type": "code",
   "execution_count": 69,
   "id": "3bae7ebf",
   "metadata": {},
   "outputs": [],
   "source": [
    "table = Table.read('J1825_KM2A_201209.dat' ,format='ascii', delimiter=' ', comment='#')\n"
   ]
  },
  {
   "cell_type": "code",
   "execution_count": 70,
   "id": "98813d66",
   "metadata": {
    "scrolled": true
   },
   "outputs": [
    {
     "data": {
      "text/html": [
       "<div><i>Table length=7</i>\n",
       "<table id=\"table139829760365328\" class=\"table-striped table-bordered table-condensed\">\n",
       "<thead><tr><th>col1</th><th>col2</th><th>col3</th><th>col4</th><th>col5</th><th>col6</th></tr></thead>\n",
       "<thead><tr><th>float64</th><th>float64</th><th>float64</th><th>float64</th><th>float64</th><th>float64</th></tr></thead>\n",
       "<tr><td>31600000000000.0</td><td>1.664e-11</td><td>5.2640001e-12</td><td>5.2640001e-12</td><td>6500000000000.0</td><td>8190000000000.0</td></tr>\n",
       "<tr><td>50100000000000.0</td><td>6.9440001e-12</td><td>1.4784e-12</td><td>1.4784e-12</td><td>10300000000000.0</td><td>13000000000000.0</td></tr>\n",
       "<tr><td>79400000000000.0</td><td>5.5200001e-12</td><td>6.5440001e-13</td><td>6.5440001e-13</td><td>16300000000000.0</td><td>20600000000000.0</td></tr>\n",
       "<tr><td>126000000000000.0</td><td>3.8080001e-12</td><td>5.6160001e-13</td><td>5.6160001e-13</td><td>25900000000000.0</td><td>32600000000000.0</td></tr>\n",
       "<tr><td>200000000000000.0</td><td>9.6000001e-13</td><td>3.9040001e-13</td><td>3.296e-13</td><td>41000000000000.0</td><td>51700000000000.0</td></tr>\n",
       "<tr><td>316000000000000.0</td><td>3.7120001e-13</td><td>2.992e-13</td><td>2.384e-13</td><td>65000000000000.0</td><td>81900000000000.0</td></tr>\n",
       "<tr><td>501000000000000.0</td><td>1.936e-13</td><td>3.5520001e-13</td><td>1.2416e-13</td><td>103000000000000.0</td><td>130000000000000.0</td></tr>\n",
       "</table></div>"
      ],
      "text/plain": [
       "<Table length=7>\n",
       "       col1            col2     ...        col5              col6      \n",
       "     float64         float64    ...      float64           float64     \n",
       "----------------- ------------- ... ----------------- -----------------\n",
       " 31600000000000.0     1.664e-11 ...   6500000000000.0   8190000000000.0\n",
       " 50100000000000.0 6.9440001e-12 ...  10300000000000.0  13000000000000.0\n",
       " 79400000000000.0 5.5200001e-12 ...  16300000000000.0  20600000000000.0\n",
       "126000000000000.0 3.8080001e-12 ...  25900000000000.0  32600000000000.0\n",
       "200000000000000.0 9.6000001e-13 ...  41000000000000.0  51700000000000.0\n",
       "316000000000000.0 3.7120001e-13 ...  65000000000000.0  81900000000000.0\n",
       "501000000000000.0     1.936e-13 ... 103000000000000.0 130000000000000.0"
      ]
     },
     "execution_count": 70,
     "metadata": {},
     "output_type": "execute_result"
    }
   ],
   "source": [
    "table"
   ]
  },
  {
   "cell_type": "code",
   "execution_count": 71,
   "id": "e4f29f6a",
   "metadata": {},
   "outputs": [
    {
     "data": {
      "text/plain": [
       "astropy.table.column.Column"
      ]
     },
     "execution_count": 71,
     "metadata": {},
     "output_type": "execute_result"
    }
   ],
   "source": [
    "type()"
   ]
  },
  {
   "cell_type": "code",
   "execution_count": 85,
   "id": "34225ad1",
   "metadata": {},
   "outputs": [
    {
     "name": "stderr",
     "output_type": "stream",
     "text": [
      "No reference model set for FluxMaps. Assuming point source with E^-2 spectrum.\n"
     ]
    },
    {
     "ename": "ValueError",
     "evalue": "Missing energy range definition, cannot convert to sed type 'flux'.",
     "output_type": "error",
     "traceback": [
      "\u001b[0;31m---------------------------------------------------------------------------\u001b[0m",
      "\u001b[0;31mValueError\u001b[0m                                Traceback (most recent call last)",
      "Input \u001b[0;32mIn [85]\u001b[0m, in \u001b[0;36m<cell line: 13>\u001b[0;34m()\u001b[0m\n\u001b[1;32m     11\u001b[0m table2\u001b[38;5;241m.\u001b[39mmeta[\u001b[38;5;124m\"\u001b[39m\u001b[38;5;124mSED_TYPE\u001b[39m\u001b[38;5;124m\"\u001b[39m] \u001b[38;5;241m=\u001b[39m \u001b[38;5;124m\"\u001b[39m\u001b[38;5;124me2dnde\u001b[39m\u001b[38;5;124m\"\u001b[39m\n\u001b[1;32m     12\u001b[0m flux_points \u001b[38;5;241m=\u001b[39m FluxPoints\u001b[38;5;241m.\u001b[39mfrom_table(table2)\n\u001b[0;32m---> 13\u001b[0m \u001b[43mflux_points\u001b[49m\u001b[38;5;241;43m.\u001b[39;49m\u001b[43mplot\u001b[49m\u001b[43m(\u001b[49m\u001b[43msed_type\u001b[49m\u001b[38;5;241;43m=\u001b[39;49m\u001b[38;5;124;43m\"\u001b[39;49m\u001b[38;5;124;43mflux\u001b[39;49m\u001b[38;5;124;43m\"\u001b[39;49m\u001b[43m)\u001b[49m \n",
      "File \u001b[0;32m~/anaconda3/envs/gammapy-1.0/lib/python3.9/site-packages/gammapy/estimators/points/core.py:496\u001b[0m, in \u001b[0;36mFluxPoints.plot\u001b[0;34m(self, ax, sed_type, energy_power, **kwargs)\u001b[0m\n\u001b[1;32m    492\u001b[0m     ax \u001b[38;5;241m=\u001b[39m plt\u001b[38;5;241m.\u001b[39mgca()\n\u001b[1;32m    494\u001b[0m flux_unit \u001b[38;5;241m=\u001b[39m DEFAULT_UNIT[sed_type]\n\u001b[0;32m--> 496\u001b[0m flux \u001b[38;5;241m=\u001b[39m \u001b[38;5;28;43mgetattr\u001b[39;49m\u001b[43m(\u001b[49m\u001b[38;5;28;43mself\u001b[39;49m\u001b[43m,\u001b[49m\u001b[43m \u001b[49m\u001b[43msed_type\u001b[49m\u001b[43m)\u001b[49m\n\u001b[1;32m    498\u001b[0m \u001b[38;5;66;03m# get errors and ul\u001b[39;00m\n\u001b[1;32m    499\u001b[0m y_errn, y_errp \u001b[38;5;241m=\u001b[39m \u001b[38;5;28mself\u001b[39m\u001b[38;5;241m.\u001b[39m_plot_get_flux_err(sed_type\u001b[38;5;241m=\u001b[39msed_type)\n",
      "File \u001b[0;32m~/anaconda3/envs/gammapy-1.0/lib/python3.9/site-packages/gammapy/estimators/map/core.py:656\u001b[0m, in \u001b[0;36mFluxMaps.flux\u001b[0;34m(self)\u001b[0m\n\u001b[1;32m    653\u001b[0m \u001b[38;5;129m@property\u001b[39m\n\u001b[1;32m    654\u001b[0m \u001b[38;5;28;01mdef\u001b[39;00m \u001b[38;5;21mflux\u001b[39m(\u001b[38;5;28mself\u001b[39m):\n\u001b[1;32m    655\u001b[0m     \u001b[38;5;124;03m\"\"\"Return integral flux (flux) SED values.\"\"\"\u001b[39;00m\n\u001b[0;32m--> 656\u001b[0m     \u001b[38;5;28;01mreturn\u001b[39;00m \u001b[38;5;28mself\u001b[39m\u001b[38;5;241m.\u001b[39mnorm \u001b[38;5;241m*\u001b[39m \u001b[38;5;28;43mself\u001b[39;49m\u001b[38;5;241;43m.\u001b[39;49m\u001b[43mflux_ref\u001b[49m\n",
      "File \u001b[0;32m~/anaconda3/envs/gammapy-1.0/lib/python3.9/site-packages/gammapy/estimators/map/core.py:581\u001b[0m, in \u001b[0;36mFluxMaps.flux_ref\u001b[0;34m(self)\u001b[0m\n\u001b[1;32m    579\u001b[0m \u001b[38;5;124;03m\"\"\"Reference integral flux\"\"\"\u001b[39;00m\n\u001b[1;32m    580\u001b[0m \u001b[38;5;28;01mif\u001b[39;00m \u001b[38;5;129;01mnot\u001b[39;00m \u001b[38;5;28mself\u001b[39m\u001b[38;5;241m.\u001b[39mis_convertible_to_flux_sed_type:\n\u001b[0;32m--> 581\u001b[0m     \u001b[38;5;28;01mraise\u001b[39;00m \u001b[38;5;167;01mValueError\u001b[39;00m(\n\u001b[1;32m    582\u001b[0m         \u001b[38;5;124m\"\u001b[39m\u001b[38;5;124mMissing energy range definition, cannot convert to sed type \u001b[39m\u001b[38;5;124m'\u001b[39m\u001b[38;5;124mflux\u001b[39m\u001b[38;5;124m'\u001b[39m\u001b[38;5;124m.\u001b[39m\u001b[38;5;124m\"\u001b[39m\n\u001b[1;32m    583\u001b[0m     )\n\u001b[1;32m    585\u001b[0m energy_min \u001b[38;5;241m=\u001b[39m \u001b[38;5;28mself\u001b[39m\u001b[38;5;241m.\u001b[39menergy_axis\u001b[38;5;241m.\u001b[39medges[:\u001b[38;5;241m-\u001b[39m\u001b[38;5;241m1\u001b[39m]\n\u001b[1;32m    586\u001b[0m energy_max \u001b[38;5;241m=\u001b[39m \u001b[38;5;28mself\u001b[39m\u001b[38;5;241m.\u001b[39menergy_axis\u001b[38;5;241m.\u001b[39medges[\u001b[38;5;241m1\u001b[39m:]\n",
      "\u001b[0;31mValueError\u001b[0m: Missing energy range definition, cannot convert to sed type 'flux'."
     ]
    },
    {
     "data": {
      "image/png": "[encoded data removed]",
      "text/plain": [
       "<Figure size 640x480 with 1 Axes>"
      ]
     },
     "metadata": {},
     "output_type": "display_data"
    }
   ],
   "source": [
    "import numpy as np\n",
    "from astropy import units as u\n",
    "from astropy.table import Table\n",
    "from gammapy.estimators import FluxPoints\n",
    "from gammapy.modeling.models import PowerLawSpectralModel\n",
    "table2 = Table()\n",
    "pwl = PowerLawSpectralModel()\n",
    "table2[\"e_ref\"] = table['col1']* u.TeV\n",
    "table2[\"e2dnde\"] = table['col2'] * u.erg/ (u.cm**2 * u.s)\n",
    "table2[\"e2dnde_err\"] = table['col3'] * u.erg/ (u.cm**2 * u.s)\n",
    "table2.meta[\"SED_TYPE\"] = \"e2dnde\"\n",
    "flux_points = FluxPoints.from_table(table2)\n",
    "flux_points.plot(sed_type=\"flux\") "
   ]
  },
  {
   "cell_type": "code",
   "execution_count": 53,
   "id": "90e5886f",
   "metadata": {},
   "outputs": [
    {
     "ename": "ValueError",
     "evalue": "Missing data / column for sed type 'e2dnde': {'e2dnde'}",
     "output_type": "error",
     "traceback": [
      "\u001b[0;31m---------------------------------------------------------------------------\u001b[0m",
      "\u001b[0;31mValueError\u001b[0m                                Traceback (most recent call last)",
      "Input \u001b[0;32mIn [53]\u001b[0m, in \u001b[0;36m<cell line: 1>\u001b[0;34m()\u001b[0m\n\u001b[0;32m----> 1\u001b[0m table_src \u001b[38;5;241m=\u001b[39m \u001b[43mFluxPoints\u001b[49m\u001b[38;5;241;43m.\u001b[39;49m\u001b[43mfrom_table\u001b[49m\u001b[43m(\u001b[49m\u001b[43mtable\u001b[49m\u001b[43m,\u001b[49m\u001b[43m \u001b[49m\u001b[43msed_type\u001b[49m\u001b[38;5;241;43m=\u001b[39;49m\u001b[38;5;124;43m'\u001b[39;49m\u001b[38;5;124;43me2dnde\u001b[39;49m\u001b[38;5;124;43m'\u001b[39;49m\u001b[43m)\u001b[49m\n",
      "File \u001b[0;32m~/anaconda3/envs/gammapy-1.0/lib/python3.9/site-packages/gammapy/estimators/points/core.py:254\u001b[0m, in \u001b[0;36mFluxPoints.from_table\u001b[0;34m(cls, table, sed_type, format, reference_model, gti)\u001b[0m\n\u001b[1;32m    249\u001b[0m         maps[name] \u001b[38;5;241m=\u001b[39m RegionNDMap\u001b[38;5;241m.\u001b[39mfrom_table(\n\u001b[1;32m    250\u001b[0m             table\u001b[38;5;241m=\u001b[39mtable, colname\u001b[38;5;241m=\u001b[39mname, \u001b[38;5;28mformat\u001b[39m\u001b[38;5;241m=\u001b[39m\u001b[38;5;28mformat\u001b[39m\n\u001b[1;32m    251\u001b[0m         )\n\u001b[1;32m    253\u001b[0m meta \u001b[38;5;241m=\u001b[39m \u001b[38;5;28mcls\u001b[39m\u001b[38;5;241m.\u001b[39m_get_meta_gadf(table)\n\u001b[0;32m--> 254\u001b[0m \u001b[38;5;28;01mreturn\u001b[39;00m \u001b[38;5;28;43mcls\u001b[39;49m\u001b[38;5;241;43m.\u001b[39;49m\u001b[43mfrom_maps\u001b[49m\u001b[43m(\u001b[49m\n\u001b[1;32m    255\u001b[0m \u001b[43m    \u001b[49m\u001b[43mmaps\u001b[49m\u001b[38;5;241;43m=\u001b[39;49m\u001b[43mmaps\u001b[49m\u001b[43m,\u001b[49m\n\u001b[1;32m    256\u001b[0m \u001b[43m    \u001b[49m\u001b[43mreference_model\u001b[49m\u001b[38;5;241;43m=\u001b[39;49m\u001b[43mreference_model\u001b[49m\u001b[43m,\u001b[49m\n\u001b[1;32m    257\u001b[0m \u001b[43m    \u001b[49m\u001b[43mmeta\u001b[49m\u001b[38;5;241;43m=\u001b[39;49m\u001b[43mmeta\u001b[49m\u001b[43m,\u001b[49m\n\u001b[1;32m    258\u001b[0m \u001b[43m    \u001b[49m\u001b[43msed_type\u001b[49m\u001b[38;5;241;43m=\u001b[39;49m\u001b[43msed_type\u001b[49m\u001b[43m,\u001b[49m\n\u001b[1;32m    259\u001b[0m \u001b[43m    \u001b[49m\u001b[43mgti\u001b[49m\u001b[38;5;241;43m=\u001b[39;49m\u001b[43mgti\u001b[49m\u001b[43m,\u001b[49m\n\u001b[1;32m    260\u001b[0m \u001b[43m\u001b[49m\u001b[43m)\u001b[49m\n",
      "File \u001b[0;32m~/anaconda3/envs/gammapy-1.0/lib/python3.9/site-packages/gammapy/estimators/map/core.py:892\u001b[0m, in \u001b[0;36mFluxMaps.from_maps\u001b[0;34m(cls, maps, sed_type, reference_model, gti, meta)\u001b[0m\n\u001b[1;32m    889\u001b[0m \u001b[38;5;28;01mif\u001b[39;00m sed_type \u001b[38;5;129;01mis\u001b[39;00m \u001b[38;5;28;01mNone\u001b[39;00m:\n\u001b[1;32m    890\u001b[0m     \u001b[38;5;28;01mraise\u001b[39;00m \u001b[38;5;167;01mValueError\u001b[39;00m(\u001b[38;5;124m\"\u001b[39m\u001b[38;5;124mSpecifying the sed type is required\u001b[39m\u001b[38;5;124m\"\u001b[39m)\n\u001b[0;32m--> 892\u001b[0m \u001b[38;5;28;43mcls\u001b[39;49m\u001b[38;5;241;43m.\u001b[39;49m\u001b[43m_validate_data\u001b[49m\u001b[43m(\u001b[49m\u001b[43mdata\u001b[49m\u001b[38;5;241;43m=\u001b[39;49m\u001b[43mmaps\u001b[49m\u001b[43m,\u001b[49m\u001b[43m \u001b[49m\u001b[43msed_type\u001b[49m\u001b[38;5;241;43m=\u001b[39;49m\u001b[43msed_type\u001b[49m\u001b[43m)\u001b[49m\n\u001b[1;32m    894\u001b[0m \u001b[38;5;28;01mif\u001b[39;00m sed_type \u001b[38;5;241m==\u001b[39m \u001b[38;5;124m\"\u001b[39m\u001b[38;5;124mlikelihood\u001b[39m\u001b[38;5;124m\"\u001b[39m:\n\u001b[1;32m    895\u001b[0m     \u001b[38;5;28;01mreturn\u001b[39;00m \u001b[38;5;28mcls\u001b[39m(data\u001b[38;5;241m=\u001b[39mmaps, reference_model\u001b[38;5;241m=\u001b[39mreference_model, gti\u001b[38;5;241m=\u001b[39mgti, meta\u001b[38;5;241m=\u001b[39mmeta)\n",
      "File \u001b[0;32m~/anaconda3/envs/gammapy-1.0/lib/python3.9/site-packages/gammapy/estimators/map/core.py:215\u001b[0m, in \u001b[0;36mFluxMaps._validate_data\u001b[0;34m(data, sed_type, check_scan)\u001b[0m\n\u001b[1;32m    213\u001b[0m \u001b[38;5;28;01mif\u001b[39;00m \u001b[38;5;129;01mnot\u001b[39;00m required\u001b[38;5;241m.\u001b[39missubset(keys):\n\u001b[1;32m    214\u001b[0m     missing \u001b[38;5;241m=\u001b[39m required\u001b[38;5;241m.\u001b[39mdifference(keys)\n\u001b[0;32m--> 215\u001b[0m     \u001b[38;5;28;01mraise\u001b[39;00m \u001b[38;5;167;01mValueError\u001b[39;00m(\n\u001b[1;32m    216\u001b[0m         \u001b[38;5;124m\"\u001b[39m\u001b[38;5;124mMissing data / column for sed type \u001b[39m\u001b[38;5;124m'\u001b[39m\u001b[38;5;132;01m{}\u001b[39;00m\u001b[38;5;124m'\u001b[39m\u001b[38;5;124m:\u001b[39m\u001b[38;5;124m\"\u001b[39m\n\u001b[1;32m    217\u001b[0m         \u001b[38;5;124m\"\u001b[39m\u001b[38;5;124m \u001b[39m\u001b[38;5;132;01m{}\u001b[39;00m\u001b[38;5;124m\"\u001b[39m\u001b[38;5;241m.\u001b[39mformat(sed_type, missing)\n\u001b[1;32m    218\u001b[0m     )\n",
      "\u001b[0;31mValueError\u001b[0m: Missing data / column for sed type 'e2dnde': {'e2dnde'}"
     ]
    }
   ],
   "source": [
    "table_src = FluxPoints.from_table(table, sed_type='e2dnde')\n"
   ]
  },
  {
   "cell_type": "code",
   "execution_count": 47,
   "id": "dab1bfc5",
   "metadata": {},
   "outputs": [
    {
     "ename": "AttributeError",
     "evalue": "'Table' object has no attribute 'plot'",
     "output_type": "error",
     "traceback": [
      "\u001b[0;31m---------------------------------------------------------------------------\u001b[0m",
      "\u001b[0;31mAttributeError\u001b[0m                            Traceback (most recent call last)",
      "Input \u001b[0;32mIn [47]\u001b[0m, in \u001b[0;36m<cell line: 1>\u001b[0;34m()\u001b[0m\n\u001b[0;32m----> 1\u001b[0m \u001b[43mtable_src\u001b[49m\u001b[38;5;241;43m.\u001b[39;49m\u001b[43mplot\u001b[49m(sed_type\u001b[38;5;241m=\u001b[39m\u001b[38;5;124m\"\u001b[39m\u001b[38;5;124me2dnde\u001b[39m\u001b[38;5;124m\"\u001b[39m) \n",
      "\u001b[0;31mAttributeError\u001b[0m: 'Table' object has no attribute 'plot'"
     ]
    }
   ],
   "source": [
    "table_src.plot(sed_type=\"e2dnde\") \n"
   ]
  },
  {
   "cell_type": "code",
   "execution_count": null,
   "id": "78453525",
   "metadata": {},
   "outputs": [],
   "source": []
  },
  {
   "cell_type": "markdown",
   "id": "90b8a0a3",
   "metadata": {},
   "source": [
    "#########"
   ]
  },
  {
   "cell_type": "code",
   "execution_count": null,
   "id": "1d066dea",
   "metadata": {},
   "outputs": [],
   "source": []
  },
  {
   "cell_type": "code",
   "execution_count": null,
   "id": "fd80c1e9",
   "metadata": {},
   "outputs": [],
   "source": [
    "import pandas as pd \n",
    "from gammapy.datasets import FluxPointsDataset\n",
    "from gammapy.catalog import CATALOG_REGISTRY\n",
    "import os\n",
    "import sys\n",
    "\n",
    "# format_csv = \".csv\"\n",
    "format_fits = \".fits\"\n",
    "\n",
    "sed_type=\"e2dnde\"\n",
    "\n",
    "lst=[]\n",
    "ds_lst = []\n",
    "\n",
    "def get_source_data2(dict_lhaaso_tevc = dict_lhaaso_tevc, catalog_tags = catalog_tags):\n",
    "    '''To write Docstring!!!!'''\n",
    "    \n",
    "    i_range = range(len(dict_lhaaso_tevc.keys()))\n",
    "    for i in i_range:\n",
    "\n",
    "        LHAASO_name = list(dict_lhaaso_tevc.keys())[i]\n",
    "        LHAASO_id = LHAASO_name.replace(\" \", \"\")\n",
    "        \n",
    "        j_range = range(len(dict_lhaaso_tevc[LHAASO_name]))\n",
    "        for j in j_range:\n",
    "\n",
    "            catalog_src = []\n",
    "\n",
    "            pf_on = []\n",
    "            src_on = []\n",
    "\n",
    "            ds_j=[]\n",
    "\n",
    "            source_name = dict_lhaaso_tevc[LHAASO_name][j]\n",
    "            source_id = source_name.replace(\" \", \"\")\n",
    "            \n",
    "            k_range = range(len(catalog_tags))\n",
    "            for k in k_range: \n",
    "                \n",
    "                catalog_tag = catalog_tags[k]\n",
    "                catalog = CATALOG_REGISTRY.get_cls(catalog_tag)()\n",
    "                \n",
    "                try:\n",
    "                    \n",
    "                    src = catalog[source_name]\n",
    "                    src_on.append(src.data)\n",
    "                    catalog_src.append(catalog_tag)\n",
    "                    \n",
    "                    ds = FluxPointsDataset(\n",
    "                        data=src.flux_points, \n",
    "                        name=catalog_tag\n",
    "                    )\n",
    "                    \n",
    "                    ds_j.append(ds)\n",
    "                    pf_on.append(catalog_tag)\n",
    "\n",
    "                    table = ds.data.to_table(\n",
    "                        sed_type = sed_type, \n",
    "                        formatted = True\n",
    "                    )\n",
    "\n",
    "                    file_name = f'{LHAASO_id}_{source_id}_{catalog_tag}{format_fits}'\n",
    "                    path_os = os.path.abspath(\n",
    "                        os.path.join(\n",
    "                            f\"{path_dir}/{file_name}\"\n",
    "                        )\n",
    "                    )\n",
    "                    \n",
    "                    \n",
    "                    if path_os not in sys.path:\n",
    "                        sys.path.append(path_os)\n",
    "\n",
    "                    #table.write(f\"{path_os}{format_csv}\",format='ascii.ecsv', overwrite=True)\n",
    "                    table.write(f\"{path_os}\",format='fits', overwrite=True)\n",
    "                    \n",
    "                except:\n",
    "                    pass\n",
    "\n",
    "                lst_k = [LHAASO_name, LHAASO_id, source_name, source_id, catalog_src, pf_on, ds_j, src_on]\n",
    "            lst.append(lst_k)\n",
    "            ds_lst.append(ds_j)\n",
    "\n",
    "    df = pd.DataFrame(lst, columns =['LHAASO', \"LHAASO_id\",'SOURCE', \"SOURCE_id\", 'CATOLOG', 'FLUXPOINTS', 'DATASET', 'SOURCE_data']) \n",
    "    df.index.name='source_index'\n",
    "    df.to_csv(f\"{path_dir}/data_frame_flux_points.csv\", index = \"True\" )\n",
    "    return df, ds_lst"
   ]
  },
  {
   "cell_type": "code",
   "execution_count": null,
   "id": "8efc8649",
   "metadata": {},
   "outputs": [],
   "source": [
    "df, ds_lst = get_source_data2(dict_lhaaso_tevc, catalog_tags)"
   ]
  },
  {
   "cell_type": "code",
   "execution_count": null,
   "id": "64ea9ca8",
   "metadata": {},
   "outputs": [],
   "source": [
    "df"
   ]
  },
  {
   "cell_type": "code",
   "execution_count": null,
   "id": "f9a61869",
   "metadata": {},
   "outputs": [],
   "source": [
    "df_n = df.drop(labels=[2,7,8], axis=0)\n",
    "df_n=df_n.reset_index(drop=True)\n",
    "df_n.index.name='source_index'"
   ]
  },
  {
   "cell_type": "code",
   "execution_count": null,
   "id": "25c7cc23",
   "metadata": {},
   "outputs": [],
   "source": [
    "df_n"
   ]
  },
  {
   "cell_type": "code",
   "execution_count": null,
   "id": "962f48d5",
   "metadata": {},
   "outputs": [],
   "source": [
    "df_new"
   ]
  },
  {
   "cell_type": "code",
   "execution_count": null,
   "id": "5a59d23c",
   "metadata": {},
   "outputs": [],
   "source": [
    "# Setting the source to analasis {}\n",
    "src_index = 0\n",
    "\n",
    "LHAASO_obs = list(dict(df[\"LHAASO\"]).values())[src_index]\n",
    "LHAASO_id = LHAASO_obs.replace(\" \", \"\")\n",
    "\n",
    "TeVCount_src = list(dict(df[\"Source\"]).values())[src_index]\n",
    "TeVCount_id = TeVCount_src.replace(\" \", \"\")\n",
    "\n",
    "ds_src = ds_lst[src_index]\n",
    "datasets = Datasets(ds_src)"
   ]
  },
  {
   "cell_type": "code",
   "execution_count": null,
   "id": "f9fd08c0",
   "metadata": {},
   "outputs": [],
   "source": [
    "datasets[1]"
   ]
  },
  {
   "cell_type": "code",
   "execution_count": null,
   "id": "4647a54e",
   "metadata": {},
   "outputs": [],
   "source": [
    "type()"
   ]
  },
  {
   "cell_type": "code",
   "execution_count": null,
   "id": "013c214c",
   "metadata": {
    "scrolled": true
   },
   "outputs": [],
   "source": [
    "ds_lst[1][1].data.to_table()"
   ]
  },
  {
   "cell_type": "code",
   "execution_count": null,
   "id": "dda13153",
   "metadata": {},
   "outputs": [],
   "source": [
    "print(ds_lst[1][1].data.plot())"
   ]
  },
  {
   "cell_type": "code",
   "execution_count": 88,
   "id": "2aa85fcd",
   "metadata": {},
   "outputs": [
    {
     "name": "stderr",
     "output_type": "stream",
     "text": [
      "No reference model set for FluxMaps. Assuming point source with E^-2 spectrum.\n"
     ]
    },
    {
     "ename": "ValueError",
     "evalue": "Missing energy range definition, cannot convert to sed type 'flux'.",
     "output_type": "error",
     "traceback": [
      "\u001b[0;31m---------------------------------------------------------------------------\u001b[0m",
      "\u001b[0;31mValueError\u001b[0m                                Traceback (most recent call last)",
      "Input \u001b[0;32mIn [88]\u001b[0m, in \u001b[0;36m<cell line: 16>\u001b[0;34m()\u001b[0m\n\u001b[1;32m     14\u001b[0m table\u001b[38;5;241m.\u001b[39mmeta[\u001b[38;5;124m\"\u001b[39m\u001b[38;5;124mSED_TYPE\u001b[39m\u001b[38;5;124m\"\u001b[39m] \u001b[38;5;241m=\u001b[39m \u001b[38;5;124m\"\u001b[39m\u001b[38;5;124mdnde\u001b[39m\u001b[38;5;124m\"\u001b[39m\n\u001b[1;32m     15\u001b[0m flux_points \u001b[38;5;241m=\u001b[39m FluxPoints\u001b[38;5;241m.\u001b[39mfrom_table(table)\n\u001b[0;32m---> 16\u001b[0m \u001b[43mflux_points\u001b[49m\u001b[38;5;241;43m.\u001b[39;49m\u001b[43mplot\u001b[49m\u001b[43m(\u001b[49m\u001b[43menergy_bounds\u001b[49m\u001b[38;5;241;43m=\u001b[39;49m\u001b[43menergy_bounds\u001b[49m\u001b[43m,\u001b[49m\u001b[43m \u001b[49m\u001b[43msed_type\u001b[49m\u001b[38;5;241;43m=\u001b[39;49m\u001b[38;5;124;43m\"\u001b[39;49m\u001b[38;5;124;43mflux\u001b[39;49m\u001b[38;5;124;43m\"\u001b[39;49m\u001b[43m)\u001b[49m \n",
      "File \u001b[0;32m~/anaconda3/envs/gammapy-1.0/lib/python3.9/site-packages/gammapy/estimators/points/core.py:496\u001b[0m, in \u001b[0;36mFluxPoints.plot\u001b[0;34m(self, ax, sed_type, energy_power, **kwargs)\u001b[0m\n\u001b[1;32m    492\u001b[0m     ax \u001b[38;5;241m=\u001b[39m plt\u001b[38;5;241m.\u001b[39mgca()\n\u001b[1;32m    494\u001b[0m flux_unit \u001b[38;5;241m=\u001b[39m DEFAULT_UNIT[sed_type]\n\u001b[0;32m--> 496\u001b[0m flux \u001b[38;5;241m=\u001b[39m \u001b[38;5;28;43mgetattr\u001b[39;49m\u001b[43m(\u001b[49m\u001b[38;5;28;43mself\u001b[39;49m\u001b[43m,\u001b[49m\u001b[43m \u001b[49m\u001b[43msed_type\u001b[49m\u001b[43m)\u001b[49m\n\u001b[1;32m    498\u001b[0m \u001b[38;5;66;03m# get errors and ul\u001b[39;00m\n\u001b[1;32m    499\u001b[0m y_errn, y_errp \u001b[38;5;241m=\u001b[39m \u001b[38;5;28mself\u001b[39m\u001b[38;5;241m.\u001b[39m_plot_get_flux_err(sed_type\u001b[38;5;241m=\u001b[39msed_type)\n",
      "File \u001b[0;32m~/anaconda3/envs/gammapy-1.0/lib/python3.9/site-packages/gammapy/estimators/map/core.py:656\u001b[0m, in \u001b[0;36mFluxMaps.flux\u001b[0;34m(self)\u001b[0m\n\u001b[1;32m    653\u001b[0m \u001b[38;5;129m@property\u001b[39m\n\u001b[1;32m    654\u001b[0m \u001b[38;5;28;01mdef\u001b[39;00m \u001b[38;5;21mflux\u001b[39m(\u001b[38;5;28mself\u001b[39m):\n\u001b[1;32m    655\u001b[0m     \u001b[38;5;124;03m\"\"\"Return integral flux (flux) SED values.\"\"\"\u001b[39;00m\n\u001b[0;32m--> 656\u001b[0m     \u001b[38;5;28;01mreturn\u001b[39;00m \u001b[38;5;28mself\u001b[39m\u001b[38;5;241m.\u001b[39mnorm \u001b[38;5;241m*\u001b[39m \u001b[38;5;28;43mself\u001b[39;49m\u001b[38;5;241;43m.\u001b[39;49m\u001b[43mflux_ref\u001b[49m\n",
      "File \u001b[0;32m~/anaconda3/envs/gammapy-1.0/lib/python3.9/site-packages/gammapy/estimators/map/core.py:581\u001b[0m, in \u001b[0;36mFluxMaps.flux_ref\u001b[0;34m(self)\u001b[0m\n\u001b[1;32m    579\u001b[0m \u001b[38;5;124;03m\"\"\"Reference integral flux\"\"\"\u001b[39;00m\n\u001b[1;32m    580\u001b[0m \u001b[38;5;28;01mif\u001b[39;00m \u001b[38;5;129;01mnot\u001b[39;00m \u001b[38;5;28mself\u001b[39m\u001b[38;5;241m.\u001b[39mis_convertible_to_flux_sed_type:\n\u001b[0;32m--> 581\u001b[0m     \u001b[38;5;28;01mraise\u001b[39;00m \u001b[38;5;167;01mValueError\u001b[39;00m(\n\u001b[1;32m    582\u001b[0m         \u001b[38;5;124m\"\u001b[39m\u001b[38;5;124mMissing energy range definition, cannot convert to sed type \u001b[39m\u001b[38;5;124m'\u001b[39m\u001b[38;5;124mflux\u001b[39m\u001b[38;5;124m'\u001b[39m\u001b[38;5;124m.\u001b[39m\u001b[38;5;124m\"\u001b[39m\n\u001b[1;32m    583\u001b[0m     )\n\u001b[1;32m    585\u001b[0m energy_min \u001b[38;5;241m=\u001b[39m \u001b[38;5;28mself\u001b[39m\u001b[38;5;241m.\u001b[39menergy_axis\u001b[38;5;241m.\u001b[39medges[:\u001b[38;5;241m-\u001b[39m\u001b[38;5;241m1\u001b[39m]\n\u001b[1;32m    586\u001b[0m energy_max \u001b[38;5;241m=\u001b[39m \u001b[38;5;28mself\u001b[39m\u001b[38;5;241m.\u001b[39menergy_axis\u001b[38;5;241m.\u001b[39medges[\u001b[38;5;241m1\u001b[39m:]\n",
      "\u001b[0;31mValueError\u001b[0m: Missing energy range definition, cannot convert to sed type 'flux'."
     ]
    },
    {
     "data": {
      "image/png": "[encoded data removed]",
      "text/plain": [
       "<Figure size 640x480 with 1 Axes>"
      ]
     },
     "metadata": {},
     "output_type": "display_data"
    }
   ],
   "source": [
    "energy_bounds = [1e-7, 1e2] * u.TeV\n",
    "\n",
    "import numpy as np\n",
    "from astropy import units as u\n",
    "from astropy.table import Table\n",
    "from gammapy.estimators import FluxPoints\n",
    "from gammapy.modeling.models import PowerLawSpectralModel\n",
    "table = Table()\n",
    "pwl = PowerLawSpectralModel()\n",
    "e_ref = np.geomspace(1, 100, 7) * u.TeV\n",
    "table[\"e_ref\"] = e_ref\n",
    "table[\"dnde\"] = pwl(e_ref)\n",
    "table[\"dnde_err\"] = pwl.evaluate_error(e_ref)[0]\n",
    "table.meta[\"SED_TYPE\"] = \"dnde\"\n",
    "flux_points = FluxPoints.from_table(table)\n",
    "flux_points.plot(energy_bounds=energy_bounds, sed_type=\"flux\") "
   ]
  },
  {
   "cell_type": "code",
   "execution_count": null,
   "id": "db433cd2",
   "metadata": {},
   "outputs": [],
   "source": [
    "df['src'][1]"
   ]
  },
  {
   "cell_type": "code",
   "execution_count": null,
   "id": "deff020c",
   "metadata": {},
   "outputs": [],
   "source": [
    "\n",
    "catalog_tag = catalog_tags[0]\n",
    "catalog = CATALOG_REGISTRY.get_cls(catalog_tag)()\n",
    "\n",
    "\n",
    "source = catalog[source_name]\n"
   ]
  },
  {
   "cell_type": "code",
   "execution_count": null,
   "id": "951952eb",
   "metadata": {},
   "outputs": [],
   "source": [
    "print(source.spectral_model())"
   ]
  },
  {
   "cell_type": "code",
   "execution_count": null,
   "id": "0718c596",
   "metadata": {},
   "outputs": [],
   "source": [
    "print(source)"
   ]
  },
  {
   "cell_type": "code",
   "execution_count": null,
   "id": "7fcf4331",
   "metadata": {},
   "outputs": [],
   "source": [
    "# Gammapy spectral model object:\n",
    "spectral_model = source.spectral_model()\n",
    "print(spectral_model)"
   ]
  },
  {
   "cell_type": "code",
   "execution_count": null,
   "id": "6ad31e30",
   "metadata": {},
   "outputs": [],
   "source": [
    "\n",
    "# Let's plot the spectrum\n",
    "source.spectral_model().plot(energy_bounds=(0.01, 1000) * u.TeV)\n",
    "source.spectral_model().plot_error(energy_bounds=(0.01, 1000) * u.TeV)\n",
    "source.flux_points.plot();\n"
   ]
  },
  {
   "cell_type": "code",
   "execution_count": null,
   "id": "23884bc0",
   "metadata": {},
   "outputs": [],
   "source": []
  }
 ],
 "metadata": {
  "kernelspec": {
   "display_name": "Python 3 (ipykernel)",
   "language": "python",
   "name": "python3"
  },
  "language_info": {
   "codemirror_mode": {
    "name": "ipython",
    "version": 3
   },
   "file_extension": ".py",
   "mimetype": "text/x-python",
   "name": "python",
   "nbconvert_exporter": "python",
   "pygments_lexer": "ipython3",
   "version": "3.9.13"
  }
 },
 "nbformat": 4,
 "nbformat_minor": 5
}
