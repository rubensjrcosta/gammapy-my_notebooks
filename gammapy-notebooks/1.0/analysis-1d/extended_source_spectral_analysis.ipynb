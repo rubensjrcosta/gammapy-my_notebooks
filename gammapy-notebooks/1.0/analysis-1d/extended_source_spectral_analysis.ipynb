{
 "cells": [
  {
   "cell_type": "code",
   "execution_count": 1,
   "metadata": {},
   "outputs": [],
   "source": [
    "%matplotlib inline"
   ]
  },
  {
   "cell_type": "markdown",
   "metadata": {},
   "source": [
    "\n",
    "# Spectral analysis of extended sources\n",
    "\n",
    "Perform a spectral analysis of an extended source.\n",
    "\n",
    "## Prerequisites\n",
    "\n",
    "-  Understanding of spectral analysis techniques in classical Cherenkov\n",
    "   astronomy.\n",
    "-  Understanding the basic data reduction and modeling/fitting processes\n",
    "   with the gammapy library API as shown in the tutorial :doc:`/tutorials/starting/analysis_2`\n",
    "\n",
    "## Context\n",
    "\n",
    "Many VHE sources in the Galaxy are extended. Studying them with a 1D\n",
    "spectral analysis is more complex than studying point sources. One often\n",
    "has to use complex (i.e. non circular) regions and more importantly, one\n",
    "has to take into account the fact that the instrument response is non\n",
    "uniform over the selectred region. A typical example is given by the\n",
    "supernova remnant RX J1713-3935 which is nearly 1 degree in diameter.\n",
    "See the [following\n",
    "article](https://ui.adsabs.harvard.edu/abs/2018A%26A...612A...6H/abstract)_.\n",
    "\n",
    "**Objective: Measure the spectrum of RX J1713-3945 in a 1 degree region\n",
    "fully enclosing it.**\n",
    "\n",
    "## Proposed approach\n",
    "\n",
    "We have seen in the general presentation of the spectrum extraction for\n",
    "point sources (see :doc:`/tutorials/analysis-1d/spectral_analysis`\n",
    "tutorial) that Gammapy uses specific\n",
    "datasets makers to first produce reduced spectral data and then to\n",
    "extract OFF measurements with reflected background techniques: the\n",
    "`~gammapy.makers.SpectrumDatasetMaker` and the\n",
    "`~gammapy.makers.ReflectedRegionsBackgroundMaker`. However if the flag\n",
    "`use_region_center` is not set to `False`, the former simply\n",
    "computes the reduced IRFs at the center of the ON region (assumed to be\n",
    "circular).\n",
    "\n",
    "This is no longer valid for extended sources. To be able to compute\n",
    "average responses in the ON region, we can set\n",
    "`use_region_center=False` with the\n",
    "`~gammapy.makers.SpectrumDatasetMaker`, in which case the values of\n",
    "the IRFs are averaged over the entire region.\n",
    "\n",
    "In summary we have to:\n",
    "\n",
    "-  Define an ON region (a `~regions.SkyRegion`) fully enclosing the\n",
    "   source we want to study.\n",
    "-  Define a `~gammapy.maps.RegionGeom` with the ON region and the\n",
    "   required energy range (beware in particular, the true energy range).\n",
    "-  Create the necessary makers :\n",
    "\n",
    "   -  the spectrum dataset maker :\n",
    "      `~gammapy.makers.SpectrumDatasetMaker` with\n",
    "      `use_region_center=False`\n",
    "   -  the OFF background maker, here a\n",
    "      `~gammapy.makers.ReflectedRegionsBackgroundMaker`\n",
    "   -  and usually the safe range maker :\n",
    "      `~gammapy.makers.SafeMaskMaker`\n",
    "\n",
    "-  Perform the data reduction loop. And for every observation:\n",
    "\n",
    "   -  Produce a spectrum dataset\n",
    "   -  Extract the OFF data to produce a\n",
    "      `~gammapy.datasets.SpectrumDatasetOnOff` and compute a safe\n",
    "      range for it.\n",
    "   -  Stack or store the resulting spectrum dataset.\n",
    "\n",
    "-  Finally proceed with model fitting on the dataset as usual.\n",
    "\n",
    "Here, we will use the RX J1713-3945 observations from the H.E.S.S. first\n",
    "public test data release. The tutorial is implemented with the\n",
    "intermediate level API.\n",
    "\n",
    "## Setup\n",
    "\n",
    "As usual, we’ll start with some general imports…\n"
   ]
  },
  {
   "cell_type": "code",
   "execution_count": 2,
   "metadata": {},
   "outputs": [],
   "source": [
    "import astropy.units as u\n",
    "from astropy.coordinates import Angle, SkyCoord\n",
    "from regions import CircleSkyRegion\n",
    "\n",
    "# %matplotlib inline\n",
    "import matplotlib.pyplot as plt\n",
    "from IPython.display import display\n",
    "from gammapy.data import DataStore\n",
    "from gammapy.datasets import Datasets, SpectrumDataset\n",
    "from gammapy.makers import (\n",
    "    ReflectedRegionsBackgroundMaker,\n",
    "    SafeMaskMaker,\n",
    "    SpectrumDatasetMaker,\n",
    ")\n",
    "from gammapy.maps import MapAxis, RegionGeom\n",
    "from gammapy.modeling import Fit\n",
    "from gammapy.modeling.models import PowerLawSpectralModel, SkyModel"
   ]
  },
  {
   "cell_type": "markdown",
   "metadata": {},
   "source": [
    "## Check setup\n",
    "\n"
   ]
  },
  {
   "cell_type": "code",
   "execution_count": 3,
   "metadata": {},
   "outputs": [
    {
     "name": "stdout",
     "output_type": "stream",
     "text": [
      "\n",
      "System:\n",
      "\n",
      "\tpython_executable      : /home/gamma/anaconda3/envs/gammapy-1.0/bin/python \n",
      "\tpython_version         : 3.9.15     \n",
      "\tmachine                : x86_64     \n",
      "\tsystem                 : Linux      \n",
      "\n",
      "\n",
      "Gammapy package:\n",
      "\n",
      "\tversion                : 1.0.1      \n",
      "\tpath                   : /home/gamma/anaconda3/envs/gammapy-1.0/lib/python3.9/site-packages/gammapy \n",
      "\n",
      "\n",
      "Other packages:\n",
      "\n",
      "\tnumpy                  : 1.23.5     \n",
      "\tscipy                  : 1.9.1      \n",
      "\tastropy                : 5.1.1      \n",
      "\tregions                : 0.6        \n",
      "\tclick                  : 8.1.3      \n",
      "\tyaml                   : 6.0        \n",
      "\tIPython                : 8.4.0      \n",
      "\tjupyterlab             : 3.4.8      \n",
      "\tmatplotlib             : 3.6.2      \n",
      "\tpandas                 : 1.5.0      \n",
      "\thealpy                 : 1.16.1     \n",
      "\timinuit                : 2.17.0     \n",
      "\tsherpa                 : 4.15.0     \n",
      "\tnaima                  : 0.10.0     \n",
      "\temcee                  : 3.1.3      \n",
      "\tcorner                 : 2.2.1      \n",
      "\n",
      "\n",
      "Gammapy environment variables:\n",
      "\n",
      "\tGAMMAPY_DATA           : /home/gamma/Documents/GitHub/gammapy/gammapy-datasets/1.0 \n",
      "\n"
     ]
    }
   ],
   "source": [
    "from gammapy.utils.check import check_tutorials_setup\n",
    "\n",
    "check_tutorials_setup()"
   ]
  },
  {
   "cell_type": "markdown",
   "metadata": {},
   "source": [
    "## Select the data\n",
    "\n",
    "We first set the datastore and retrieve a few observations from our\n",
    "source.\n",
    "\n",
    "\n"
   ]
  },
  {
   "cell_type": "code",
   "execution_count": 4,
   "metadata": {},
   "outputs": [],
   "source": [
    "datastore = DataStore.from_dir(\"$GAMMAPY_DATA/hess-dl3-dr1/\")\n",
    "obs_ids = [20326, 20327, 20349, 20350, 20396, 20397]\n",
    "# In case you want to use all RX J1713 data in the HESS DR1\n",
    "# other_ids=[20421, 20422, 20517, 20518, 20519, 20521, 20898, 20899, 20900]\n",
    "\n",
    "observations = datastore.get_observations(obs_ids)"
   ]
  },
  {
   "cell_type": "markdown",
   "metadata": {},
   "source": [
    "## Prepare the datasets creation\n",
    "\n",
    "\n"
   ]
  },
  {
   "cell_type": "markdown",
   "metadata": {},
   "source": [
    "### Select the ON region\n",
    "\n",
    "Here we take a simple 1 degree circular region because it fits well with\n",
    "the morphology of RX J1713-3945. More complex regions could be used\n",
    "e.g. `~regions.EllipseSkyRegion` or `~regions.RectangleSkyRegion`.\n",
    "\n",
    "\n"
   ]
  },
  {
   "cell_type": "code",
   "execution_count": 5,
   "metadata": {},
   "outputs": [],
   "source": [
    "target_position = SkyCoord(347.3, -0.5, unit=\"deg\", frame=\"galactic\")\n",
    "radius = Angle(\"0.5 deg\")\n",
    "on_region = CircleSkyRegion(target_position, radius)"
   ]
  },
  {
   "cell_type": "markdown",
   "metadata": {},
   "source": [
    "### Define the geometries\n",
    "\n",
    "This part is especially important. - We have to define first energy\n",
    "axes. They define the axes of the resulting\n",
    "`~gammapy.datasets.SpectrumDatasetOnOff`. In particular, we have to be\n",
    "careful to the true energy axis: it has to cover a larger range than the\n",
    "reconstructed energy one. - Then we define the region geometry itself\n",
    "from the on region.\n",
    "\n",
    "\n"
   ]
  },
  {
   "cell_type": "code",
   "execution_count": 6,
   "metadata": {},
   "outputs": [],
   "source": [
    "# The binning of the final spectrum is defined here.\n",
    "energy_axis = MapAxis.from_energy_bounds(0.1, 40.0, 10, unit=\"TeV\")\n",
    "\n",
    "# Reduced IRFs are defined in true energy (i.e. not measured energy).\n",
    "energy_axis_true = MapAxis.from_energy_bounds(\n",
    "    0.05, 100, 30, unit=\"TeV\", name=\"energy_true\"\n",
    ")\n",
    "\n",
    "geom = RegionGeom(on_region, axes=[energy_axis])"
   ]
  },
  {
   "cell_type": "markdown",
   "metadata": {},
   "source": [
    "### Create the makers\n",
    "\n",
    "First we instantiate the target `~gammapy.datasets.SpectrumDataset`.\n",
    "\n",
    "\n"
   ]
  },
  {
   "cell_type": "code",
   "execution_count": 7,
   "metadata": {},
   "outputs": [],
   "source": [
    "dataset_empty = SpectrumDataset.create(\n",
    "    geom=geom,\n",
    "    energy_axis_true=energy_axis_true,\n",
    ")"
   ]
  },
  {
   "cell_type": "markdown",
   "metadata": {},
   "source": [
    "Now we create its associated maker. Here we need to produce, counts,\n",
    "exposure and edisp (energy dispersion) entries. PSF and IRF background\n",
    "are not needed, therefore we don’t compute them.\n",
    "\n",
    "**IMPORTANT**: Note that `use_region_center` is set to `False`. This\n",
    "is necessary so that the `~gammapy.makers.SpectrumDatasetMaker`\n",
    "considers the whole region in the IRF computation and not only the\n",
    "center.\n",
    "\n",
    "\n"
   ]
  },
  {
   "cell_type": "code",
   "execution_count": 8,
   "metadata": {},
   "outputs": [],
   "source": [
    "maker = SpectrumDatasetMaker(\n",
    "    selection=[\"counts\", \"exposure\", \"edisp\"], use_region_center=False\n",
    ")"
   ]
  },
  {
   "cell_type": "markdown",
   "metadata": {},
   "source": [
    "Now we create the OFF background maker for the spectra. If we have an\n",
    "exclusion region, we have to pass it here. We also define the safe range\n",
    "maker.\n",
    "\n",
    "\n"
   ]
  },
  {
   "cell_type": "code",
   "execution_count": 9,
   "metadata": {},
   "outputs": [],
   "source": [
    "bkg_maker = ReflectedRegionsBackgroundMaker()\n",
    "safe_mask_maker = SafeMaskMaker(methods=[\"aeff-max\"], aeff_percent=10)"
   ]
  },
  {
   "cell_type": "markdown",
   "metadata": {},
   "source": [
    "## Perform the data reduction loop.\n",
    "\n",
    "We can now run over selected observations. For each of them, we: -\n",
    "create the `~gammapy.datasets.SpectrumDataset` - Compute the OFF via\n",
    "the reflected background method and create a\n",
    "`~gammapy.datasets.SpectrumDatasetOnOff` object - Run the safe mask\n",
    "maker on it - Add the `~gammapy.datasets.SpectrumDatasetOnOff` to the\n",
    "list.\n",
    "\n",
    "\n"
   ]
  },
  {
   "cell_type": "code",
   "execution_count": 10,
   "metadata": {},
   "outputs": [
    {
     "data": {
      "text/html": [
       "<div><i>Table length=6</i>\n",
       "<table id=\"table140306783387552\" class=\"table-striped table-bordered table-condensed\">\n",
       "<thead><tr><th>NAME</th><th>TYPE</th><th>TELESCOP</th><th>OBS_ID</th><th>OBS_MODE</th><th>RA_PNT</th><th>DEC_PNT</th></tr></thead>\n",
       "<thead><tr><th></th><th></th><th></th><th></th><th></th><th>deg</th><th>deg</th></tr></thead>\n",
       "<thead><tr><th>str9</th><th>str20</th><th>str4</th><th>int64</th><th>str8</th><th>float64</th><th>float64</th></tr></thead>\n",
       "<tr><td>obs-20326</td><td>SpectrumDatasetOnOff</td><td>HESS</td><td>20326</td><td>POINTING</td><td>259.29851667325</td><td>-39.762222222222</td></tr>\n",
       "<tr><td>obs-20327</td><td>SpectrumDatasetOnOff</td><td>HESS</td><td>20327</td><td>POINTING</td><td>257.47731666009</td><td>-39.762222222222</td></tr>\n",
       "<tr><td>obs-20349</td><td>SpectrumDatasetOnOff</td><td>HESS</td><td>20349</td><td>POINTING</td><td>259.29851667325</td><td>-39.762222222222</td></tr>\n",
       "<tr><td>obs-20350</td><td>SpectrumDatasetOnOff</td><td>HESS</td><td>20350</td><td>POINTING</td><td>257.47731666009</td><td>-39.762222222222</td></tr>\n",
       "<tr><td>obs-20396</td><td>SpectrumDatasetOnOff</td><td>HESS</td><td>20396</td><td>POINTING</td><td>258.38791666667</td><td>-39.0622222341429</td></tr>\n",
       "<tr><td>obs-20397</td><td>SpectrumDatasetOnOff</td><td>HESS</td><td>20397</td><td>POINTING</td><td>258.38791666667</td><td>-40.4622222103011</td></tr>\n",
       "</table></div>"
      ],
      "text/plain": [
       "<Table length=6>\n",
       "   NAME           TYPE         TELESCOP ...      RA_PNT          DEC_PNT     \n",
       "                                        ...       deg              deg       \n",
       "   str9          str20           str4   ...     float64          float64     \n",
       "--------- -------------------- -------- ... --------------- -----------------\n",
       "obs-20326 SpectrumDatasetOnOff     HESS ... 259.29851667325  -39.762222222222\n",
       "obs-20327 SpectrumDatasetOnOff     HESS ... 257.47731666009  -39.762222222222\n",
       "obs-20349 SpectrumDatasetOnOff     HESS ... 259.29851667325  -39.762222222222\n",
       "obs-20350 SpectrumDatasetOnOff     HESS ... 257.47731666009  -39.762222222222\n",
       "obs-20396 SpectrumDatasetOnOff     HESS ... 258.38791666667 -39.0622222341429\n",
       "obs-20397 SpectrumDatasetOnOff     HESS ... 258.38791666667 -40.4622222103011"
      ]
     },
     "metadata": {},
     "output_type": "display_data"
    }
   ],
   "source": [
    "datasets = Datasets()\n",
    "\n",
    "for obs in observations:\n",
    "    # A SpectrumDataset is filled in this geometry\n",
    "    dataset = maker.run(dataset_empty.copy(name=f\"obs-{obs.obs_id}\"), obs)\n",
    "\n",
    "    # Define safe mask\n",
    "    dataset = safe_mask_maker.run(dataset, obs)\n",
    "\n",
    "    # Compute OFF\n",
    "    dataset = bkg_maker.run(dataset, obs)\n",
    "\n",
    "    # Append dataset to the list\n",
    "    datasets.append(dataset)\n",
    "\n",
    "display(datasets.meta_table)"
   ]
  },
  {
   "cell_type": "markdown",
   "metadata": {},
   "source": [
    "## Explore the results\n",
    "\n",
    "We can peek at the content of the spectrum datasets\n",
    "\n",
    "\n"
   ]
  },
  {
   "cell_type": "code",
   "execution_count": 11,
   "metadata": {},
   "outputs": [
    {
     "data": {
      "image/png": "[encoded data removed]",
      "text/plain": [
       "<Figure size 1600x400 with 4 Axes>"
      ]
     },
     "metadata": {},
     "output_type": "display_data"
    }
   ],
   "source": [
    "datasets[0].peek()"
   ]
  },
  {
   "cell_type": "markdown",
   "metadata": {},
   "source": [
    "### Cumulative excess and signficance\n",
    "\n",
    "Finally, we can look at cumulative significance and number of excesses.\n",
    "This is done with the `info_table` method of\n",
    "`~gammapy.datasets.Datasets`.\n",
    "\n",
    "\n"
   ]
  },
  {
   "cell_type": "code",
   "execution_count": 12,
   "metadata": {},
   "outputs": [
    {
     "data": {
      "text/html": [
       "<div><i>Table length=6</i>\n",
       "<table id=\"table140306783606240\" class=\"table-striped table-bordered table-condensed\">\n",
       "<thead><tr><th>name</th><th>counts</th><th>excess</th><th>sqrt_ts</th><th>background</th><th>npred</th><th>npred_background</th><th>npred_signal</th><th>exposure_min</th><th>exposure_max</th><th>livetime</th><th>ontime</th><th>counts_rate</th><th>background_rate</th><th>excess_rate</th><th>n_bins</th><th>n_fit_bins</th><th>stat_type</th><th>stat_sum</th><th>counts_off</th><th>acceptance</th><th>acceptance_off</th><th>alpha</th></tr></thead>\n",
       "<thead><tr><th></th><th></th><th></th><th></th><th></th><th></th><th></th><th></th><th>m2 s</th><th>m2 s</th><th>s</th><th>s</th><th>1 / s</th><th>1 / s</th><th>1 / s</th><th></th><th></th><th></th><th></th><th></th><th></th><th></th><th></th></tr></thead>\n",
       "<thead><tr><th>str7</th><th>int64</th><th>float64</th><th>float64</th><th>float64</th><th>float64</th><th>float64</th><th>float64</th><th>float64</th><th>float64</th><th>float64</th><th>float64</th><th>float64</th><th>float64</th><th>float64</th><th>int64</th><th>int64</th><th>str5</th><th>float64</th><th>int64</th><th>float64</th><th>float64</th><th>float64</th></tr></thead>\n",
       "<tr><td>stacked</td><td>1216</td><td>170.5</td><td>4.159464335903991</td><td>1045.5</td><td>1102.3333333333333</td><td>1102.3333333333333</td><td>nan</td><td>4305868.5</td><td>422089728.0</td><td>1500.009097360074</td><td>1683.0</td><td>0.8106617500787742</td><td>0.6969957727856566</td><td>0.1136659772931176</td><td>10</td><td>9</td><td>wstat</td><td>43.26800161601427</td><td>2091</td><td>9.0</td><td>18.0</td><td>0.5</td></tr>\n",
       "<tr><td>stacked</td><td>2339</td><td>270.5</td><td>4.7224642932828935</td><td>2068.5</td><td>2158.666666666667</td><td>2158.666666666667</td><td>nan</td><td>14651086.0</td><td>831744960.0</td><td>2997.0830391794443</td><td>3366.0</td><td>0.7804254901927518</td><td>0.6901710673209521</td><td>0.09025442287179963</td><td>10</td><td>9</td><td>wstat</td><td>72.2340282463576</td><td>4137</td><td>9.0</td><td>18.0</td><td>0.5</td></tr>\n",
       "<tr><td>stacked</td><td>3521</td><td>480.5</td><td>6.880790051412004</td><td>3040.5</td><td>3200.6666666666665</td><td>3200.6666666666665</td><td>nan</td><td>25027040.0</td><td>1240954752.0</td><td>4491.585450589657</td><td>5048.0</td><td>0.7839102781708766</td><td>0.6769324625897615</td><td>0.10697781558111508</td><td>10</td><td>9</td><td>wstat</td><td>121.08402714166986</td><td>6081</td><td>9.0</td><td>18.0</td><td>0.5</td></tr>\n",
       "<tr><td>stacked</td><td>4684</td><td>653.0</td><td>8.11478193157773</td><td>4031.0</td><td>4248.666666666668</td><td>4248.666666666668</td><td>nan</td><td>29493956.0</td><td>1661560064.0</td><td>5989.2399297207585</td><td>6730.0</td><td>0.7820691865684509</td><td>0.6730403268696469</td><td>0.10902885969880412</td><td>10</td><td>9</td><td>wstat</td><td>159.53811351626462</td><td>8062</td><td>9.0</td><td>18.0</td><td>0.5</td></tr>\n",
       "<tr><td>stacked</td><td>5895</td><td>874.66650390625</td><td>9.869911175403269</td><td>5020.33349609375</td><td>5293.754465997458</td><td>5293.754465997458</td><td>nan</td><td>39191576.0</td><td>2070336768.0</td><td>7488.240902796386</td><td>8413.0</td><td>0.7872342886028932</td><td>0.6704289513734757</td><td>0.11680533722941755</td><td>10</td><td>9</td><td>wstat</td><td>214.86274893608885</td><td>11030</td><td>9.0</td><td>19.77358627319336</td><td>0.45515263080596924</td></tr>\n",
       "<tr><td>stacked</td><td>6985</td><td>993.16650390625</td><td>10.25111342275998</td><td>5991.83349609375</td><td>6305.481315567763</td><td>6305.481315567763</td><td>nan</td><td>41748732.0</td><td>2499471872.0</td><td>8993.412239596246</td><td>10095.0</td><td>0.7766796199162763</td><td>0.6662469523761929</td><td>0.1104326675400835</td><td>10</td><td>9</td><td>wstat</td><td>238.19703760223325</td><td>12973</td><td>9.0</td><td>19.48602294921875</td><td>0.4618695378303528</td></tr>\n",
       "</table></div>"
      ],
      "text/plain": [
       "<Table length=6>\n",
       "  name  counts      excess     ...   acceptance_off         alpha       \n",
       "                               ...                                      \n",
       "  str7  int64      float64     ...      float64            float64      \n",
       "------- ------ --------------- ... ----------------- -------------------\n",
       "stacked   1216           170.5 ...              18.0                 0.5\n",
       "stacked   2339           270.5 ...              18.0                 0.5\n",
       "stacked   3521           480.5 ...              18.0                 0.5\n",
       "stacked   4684           653.0 ...              18.0                 0.5\n",
       "stacked   5895 874.66650390625 ... 19.77358627319336 0.45515263080596924\n",
       "stacked   6985 993.16650390625 ... 19.48602294921875  0.4618695378303528"
      ]
     },
     "metadata": {},
     "output_type": "display_data"
    }
   ],
   "source": [
    "info_table = datasets.info_table(cumulative=True)\n",
    "\n",
    "display(info_table)"
   ]
  },
  {
   "cell_type": "markdown",
   "metadata": {},
   "source": [
    "And make the correponding plots\n",
    "\n"
   ]
  },
  {
   "cell_type": "code",
   "execution_count": 13,
   "metadata": {},
   "outputs": [
    {
     "data": {
      "text/plain": [
       "Text(0, 0.5, 'Sqrt(TS)')"
      ]
     },
     "execution_count": 13,
     "metadata": {},
     "output_type": "execute_result"
    },
    {
     "data": {
      "image/png": "[encoded data removed]",
      "text/plain": [
       "<Figure size 1000x400 with 2 Axes>"
      ]
     },
     "metadata": {},
     "output_type": "display_data"
    }
   ],
   "source": [
    "fig, (ax_excess, ax_sqrt_ts) = plt.subplots(figsize=(10, 4), ncols=2, nrows=1)\n",
    "ax_excess.plot(\n",
    "    info_table[\"livetime\"].to(\"h\"),\n",
    "    info_table[\"excess\"],\n",
    "    marker=\"o\",\n",
    "    ls=\"none\",\n",
    ")\n",
    "ax_excess.set_title(\"Excess\")\n",
    "ax_excess.set_xlabel(\"Livetime [h]\")\n",
    "ax_excess.set_ylabel(\"Excess events\")\n",
    "\n",
    "ax_sqrt_ts.plot(\n",
    "    info_table[\"livetime\"].to(\"h\"),\n",
    "    info_table[\"sqrt_ts\"],\n",
    "    marker=\"o\",\n",
    "    ls=\"none\",\n",
    ")\n",
    "\n",
    "ax_sqrt_ts.set_title(\"Sqrt(TS)\")\n",
    "ax_sqrt_ts.set_xlabel(\"Livetime [h]\")\n",
    "ax_sqrt_ts.set_ylabel(\"Sqrt(TS)\")"
   ]
  },
  {
   "cell_type": "markdown",
   "metadata": {},
   "source": [
    "## Perform spectral model fitting\n",
    "\n",
    "Here we perform a joint fit.\n",
    "\n",
    "We first create the model, here a simple powerlaw, and assign it to\n",
    "every dataset in the `~gammapy.datasets.Datasets`.\n",
    "\n",
    "\n"
   ]
  },
  {
   "cell_type": "code",
   "execution_count": 14,
   "metadata": {},
   "outputs": [],
   "source": [
    "spectral_model = PowerLawSpectralModel(\n",
    "    index=2, amplitude=2e-11 * u.Unit(\"cm-2 s-1 TeV-1\"), reference=1 * u.TeV\n",
    ")\n",
    "model = SkyModel(spectral_model=spectral_model, name=\"RXJ 1713\")\n",
    "\n",
    "datasets.models = [model]"
   ]
  },
  {
   "cell_type": "markdown",
   "metadata": {},
   "source": [
    "Now we can run the fit\n",
    "\n",
    "\n"
   ]
  },
  {
   "cell_type": "code",
   "execution_count": 15,
   "metadata": {},
   "outputs": [
    {
     "name": "stdout",
     "output_type": "stream",
     "text": [
      "OptimizeResult\n",
      "\n",
      "\tbackend    : minuit\n",
      "\tmethod     : migrad\n",
      "\tsuccess    : True\n",
      "\tmessage    : Optimization terminated successfully.\n",
      "\tnfev       : 38\n",
      "\ttotal stat : 52.79\n",
      "\n",
      "CovarianceResult\n",
      "\n",
      "\tbackend    : minuit\n",
      "\tmethod     : hesse\n",
      "\tsuccess    : True\n",
      "\tmessage    : Hesse terminated successfully.\n",
      "\n"
     ]
    }
   ],
   "source": [
    "fit_joint = Fit()\n",
    "result_joint = fit_joint.run(datasets=datasets)\n",
    "print(result_joint)"
   ]
  },
  {
   "cell_type": "markdown",
   "metadata": {},
   "source": [
    "### Explore the fit results\n",
    "\n",
    "First the fitted parameters values and their errors.\n",
    "\n",
    "\n"
   ]
  },
  {
   "cell_type": "code",
   "execution_count": 16,
   "metadata": {},
   "outputs": [
    {
     "data": {
      "text/html": [
       "<div><i>Table length=3</i>\n",
       "<table id=\"table140306779140256\" class=\"table-striped table-bordered table-condensed\">\n",
       "<thead><tr><th>model</th><th>type</th><th>name</th><th>value</th><th>unit</th><th>error</th><th>min</th><th>max</th><th>frozen</th><th>is_norm</th><th>link</th></tr></thead>\n",
       "<thead><tr><th>str8</th><th>str8</th><th>str9</th><th>float64</th><th>str14</th><th>float64</th><th>float64</th><th>float64</th><th>bool</th><th>bool</th><th>str1</th></tr></thead>\n",
       "<tr><td>RXJ 1713</td><td>spectral</td><td>index</td><td>2.1102e+00</td><td></td><td>6.129e-02</td><td>nan</td><td>nan</td><td>False</td><td>False</td><td></td></tr>\n",
       "<tr><td>RXJ 1713</td><td>spectral</td><td>amplitude</td><td>1.3576e-11</td><td>cm-2 s-1 TeV-1</td><td>9.757e-13</td><td>nan</td><td>nan</td><td>False</td><td>True</td><td></td></tr>\n",
       "<tr><td>RXJ 1713</td><td>spectral</td><td>reference</td><td>1.0000e+00</td><td>TeV</td><td>0.000e+00</td><td>nan</td><td>nan</td><td>True</td><td>False</td><td></td></tr>\n",
       "</table></div>"
      ],
      "text/plain": [
       "<Table length=3>\n",
       " model     type      name     value    ...   max   frozen is_norm link\n",
       "  str8     str8      str9    float64   ... float64  bool    bool  str1\n",
       "-------- -------- --------- ---------- ... ------- ------ ------- ----\n",
       "RXJ 1713 spectral     index 2.1102e+00 ...     nan  False   False     \n",
       "RXJ 1713 spectral amplitude 1.3576e-11 ...     nan  False    True     \n",
       "RXJ 1713 spectral reference 1.0000e+00 ...     nan   True   False     "
      ]
     },
     "metadata": {},
     "output_type": "display_data"
    }
   ],
   "source": [
    "display(datasets.models.to_parameters_table())"
   ]
  },
  {
   "cell_type": "markdown",
   "metadata": {},
   "source": [
    "Then plot the fit result to compare measured and expected counts. Rather\n",
    "than plotting them for each individual dataset, we stack all datasets\n",
    "and plot the fit result on the result.\n",
    "\n",
    "\n"
   ]
  },
  {
   "cell_type": "code",
   "execution_count": 17,
   "metadata": {},
   "outputs": [
    {
     "data": {
      "image/png": "[encoded data removed]",
      "text/plain": [
       "<Figure size 640x480 with 2 Axes>"
      ]
     },
     "metadata": {},
     "output_type": "display_data"
    }
   ],
   "source": [
    "# First stack them all\n",
    "reduced = datasets.stack_reduce()\n",
    "# Assign the fitted model\n",
    "reduced.models = model\n",
    "# Plot the result\n",
    "\n",
    "plt.figure()\n",
    "ax_spectrum, ax_residuals = reduced.plot_fit()\n",
    "reduced.plot_masks(ax=ax_spectrum)\n",
    "plt.show()"
   ]
  }
 ],
 "metadata": {
  "kernelspec": {
   "display_name": "Python 3 (ipykernel)",
   "language": "python",
   "name": "python3"
  },
  "language_info": {
   "codemirror_mode": {
    "name": "ipython",
    "version": 3
   },
   "file_extension": ".py",
   "mimetype": "text/x-python",
   "name": "python",
   "nbconvert_exporter": "python",
   "pygments_lexer": "ipython3",
   "version": "3.9.15"
  }
 },
 "nbformat": 4,
 "nbformat_minor": 1
}
