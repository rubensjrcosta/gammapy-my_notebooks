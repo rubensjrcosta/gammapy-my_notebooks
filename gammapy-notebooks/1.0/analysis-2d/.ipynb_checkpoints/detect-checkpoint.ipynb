{
 "cells": [
  {
   "cell_type": "code",
   "execution_count": null,
   "metadata": {},
   "outputs": [],
   "source": [
    "%matplotlib inline"
   ]
  },
  {
   "cell_type": "markdown",
   "metadata": {},
   "source": [
    "\n",
    "# Source detection and significance maps\n",
    "\n",
    "Build a list of significant excesses in a Fermi-LAT map.\n",
    "\n",
    "## Context\n",
    "\n",
    "The first task in a source catalogue production is to identify\n",
    "significant excesses in the data that can be associated to unknown\n",
    "sources and provide a preliminary parametrization in term of position,\n",
    "extent, and flux. In this notebook we will use Fermi-LAT data to\n",
    "illustrate how to detect candidate sources in counts images with known\n",
    "background.\n",
    "\n",
    "**Objective: build a list of significant excesses in a Fermi-LAT map**\n",
    "\n",
    "## Proposed approach\n",
    "\n",
    "This notebook show how to do source detection with Gammapy using the\n",
    "methods available in `~gammapy.estimators`. We will use images from a\n",
    "Fermi-LAT 3FHL high-energy Galactic center dataset to do this:\n",
    "\n",
    "-  perform adaptive smoothing on counts image\n",
    "-  produce 2-dimensional test-statistics (TS)\n",
    "-  run a peak finder to detect point-source candidates\n",
    "-  compute Li & Ma significance images\n",
    "-  estimate source candidates radius and excess counts\n",
    "\n",
    "Note that what we do here is a quick-look analysis, the production of\n",
    "real source catalogs use more elaborate procedures.\n",
    "\n",
    "We will work with the following functions and classes:\n",
    "\n",
    "-  `~gammapy.maps.WcsNDMap`\n",
    "-  `~gammapy.estimators.ASmoothMapEstimator`\n",
    "-  `~gammapy.estimators.TSMapEstimator`\n",
    "-  `~gammapy.estimators.utils.find_peaks`\n"
   ]
  },
  {
   "cell_type": "markdown",
   "metadata": {},
   "source": [
    "## Setup\n",
    "\n",
    "As always, let’s get started with some setup …\n",
    "\n",
    "\n"
   ]
  },
  {
   "cell_type": "code",
   "execution_count": null,
   "metadata": {},
   "outputs": [],
   "source": [
    "import numpy as np\n",
    "import astropy.units as u\n",
    "\n",
    "# %matplotlib inline\n",
    "import matplotlib.pyplot as plt\n",
    "from IPython.display import display\n",
    "from gammapy.datasets import MapDataset\n",
    "from gammapy.estimators import ASmoothMapEstimator, TSMapEstimator\n",
    "from gammapy.estimators.utils import find_peaks\n",
    "from gammapy.irf import EDispKernelMap, PSFMap\n",
    "from gammapy.maps import Map\n",
    "from gammapy.modeling.models import PointSpatialModel, PowerLawSpectralModel, SkyModel"
   ]
  },
  {
   "cell_type": "markdown",
   "metadata": {},
   "source": [
    "## Check setup\n",
    "\n"
   ]
  },
  {
   "cell_type": "code",
   "execution_count": null,
   "metadata": {},
   "outputs": [],
   "source": [
    "from gammapy.utils.check import check_tutorials_setup\n",
    "\n",
    "check_tutorials_setup()"
   ]
  },
  {
   "cell_type": "markdown",
   "metadata": {},
   "source": [
    "## Read in input images\n",
    "\n",
    "We first read the relevant maps:\n",
    "\n",
    "\n"
   ]
  },
  {
   "cell_type": "code",
   "execution_count": null,
   "metadata": {},
   "outputs": [],
   "source": [
    "counts = Map.read(\"$GAMMAPY_DATA/fermi-3fhl-gc/fermi-3fhl-gc-counts-cube.fits.gz\")\n",
    "background = Map.read(\n",
    "    \"$GAMMAPY_DATA/fermi-3fhl-gc/fermi-3fhl-gc-background-cube.fits.gz\"\n",
    ")\n",
    "\n",
    "exposure = Map.read(\"$GAMMAPY_DATA/fermi-3fhl-gc/fermi-3fhl-gc-exposure-cube.fits.gz\")\n",
    "\n",
    "psfmap = PSFMap.read(\n",
    "    \"$GAMMAPY_DATA/fermi-3fhl-gc/fermi-3fhl-gc-psf-cube.fits.gz\",\n",
    "    format=\"gtpsf\",\n",
    ")\n",
    "\n",
    "edisp = EDispKernelMap.from_diagonal_response(\n",
    "    energy_axis=counts.geom.axes[\"energy\"],\n",
    "    energy_axis_true=exposure.geom.axes[\"energy_true\"],\n",
    ")\n",
    "\n",
    "dataset = MapDataset(\n",
    "    counts=counts,\n",
    "    background=background,\n",
    "    exposure=exposure,\n",
    "    psf=psfmap,\n",
    "    name=\"fermi-3fhl-gc\",\n",
    "    edisp=edisp,\n",
    ")"
   ]
  },
  {
   "cell_type": "markdown",
   "metadata": {},
   "source": [
    "## Adaptive smoothing\n",
    "\n",
    "For visualisation purpose it can be nice to look at a smoothed counts\n",
    "image. This can be performed using the adaptive smoothing algorithm from\n",
    "[Ebeling et\n",
    "al. (2006)](https://ui.adsabs.harvard.edu/abs/2006MNRAS.368...65E/abstract)_.\n",
    "\n",
    "In the following example the `ASmoothMapEstimator.threshold` argument gives the minimum\n",
    "significance expected, values below are clipped.\n",
    "\n",
    "\n"
   ]
  },
  {
   "cell_type": "code",
   "execution_count": null,
   "metadata": {},
   "outputs": [],
   "source": [
    "scales = u.Quantity(np.arange(0.05, 1, 0.05), unit=\"deg\")\n",
    "smooth = ASmoothMapEstimator(threshold=3, scales=scales, energy_edges=[10, 500] * u.GeV)\n",
    "images = smooth.run(dataset)\n",
    "\n",
    "plt.figure(figsize=(9, 5))\n",
    "images[\"flux\"].plot(add_cbar=True, stretch=\"asinh\")"
   ]
  },
  {
   "cell_type": "markdown",
   "metadata": {},
   "source": [
    "## TS map estimation\n",
    "\n",
    "The Test Statistic, TS = 2 ∆ log L ([Mattox et\n",
    "al. 1996](https://ui.adsabs.harvard.edu/abs/1996ApJ...461..396M/abstract)_),\n",
    "compares the likelihood function L optimized with and without a given\n",
    "source. The TS map is computed by fitting by a single amplitude\n",
    "parameter on each pixel as described in Appendix A of [Stewart\n",
    "(2009)](https://ui.adsabs.harvard.edu/abs/2009A%26A...495..989S/abstract)_.\n",
    "The fit is simplified by finding roots of the derivative of the fit\n",
    "statistics (default settings use [Brent’s\n",
    "method](https://en.wikipedia.org/wiki/Brent%27s_method)_).\n",
    "\n",
    "We first need to define the model that will be used to test for the\n",
    "existence of a source. Here, we use a point source.\n",
    "\n",
    "\n"
   ]
  },
  {
   "cell_type": "code",
   "execution_count": null,
   "metadata": {},
   "outputs": [],
   "source": [
    "spatial_model = PointSpatialModel()\n",
    "\n",
    "# We choose units consistent with the map units here...\n",
    "spectral_model = PowerLawSpectralModel(amplitude=\"1e-22 cm-2 s-1 keV-1\", index=2)\n",
    "model = SkyModel(spatial_model=spatial_model, spectral_model=spectral_model)"
   ]
  },
  {
   "cell_type": "code",
   "execution_count": null,
   "metadata": {},
   "outputs": [],
   "source": [
    "estimator = TSMapEstimator(\n",
    "    model,\n",
    "    kernel_width=\"1 deg\",\n",
    "    energy_edges=[10, 500] * u.GeV,\n",
    ")\n",
    "maps = estimator.run(dataset)"
   ]
  },
  {
   "cell_type": "markdown",
   "metadata": {},
   "source": [
    "### Plot resulting images\n",
    "\n",
    "\n"
   ]
  },
  {
   "cell_type": "code",
   "execution_count": null,
   "metadata": {},
   "outputs": [],
   "source": [
    "fig, (ax1, ax2, ax3) = plt.subplots(\n",
    "    ncols=3,\n",
    "    figsize=(15, 3),\n",
    "    subplot_kw={\"projection\": counts.geom.wcs},\n",
    "    gridspec_kw={\"left\": 0.1, \"right\": 0.98},\n",
    ")\n",
    "\n",
    "maps[\"sqrt_ts\"].plot(ax=ax1, add_cbar=True)\n",
    "ax1.set_title(\"Significance map\")\n",
    "maps[\"flux\"].plot(ax=ax2, add_cbar=True, stretch=\"sqrt\", vmin=0)\n",
    "ax2.set_title(\"Flux map\")\n",
    "maps[\"niter\"].plot(ax=ax3, add_cbar=True)\n",
    "ax3.set_title(\"Iteration map\")"
   ]
  },
  {
   "cell_type": "markdown",
   "metadata": {},
   "source": [
    "## Source candidates\n",
    "\n",
    "Let’s run a peak finder on the `sqrt_ts` image to get a list of\n",
    "point-sources candidates (positions and peak `sqrt_ts` values). The\n",
    "`~gammapy.estimators.utils.find_peaks` function performs a local maximum search in a sliding\n",
    "window, the argument `min_distance` is the minimum pixel distance\n",
    "between peaks (smallest possible value and default is 1 pixel).\n",
    "\n",
    "\n"
   ]
  },
  {
   "cell_type": "code",
   "execution_count": null,
   "metadata": {},
   "outputs": [],
   "source": [
    "sources = find_peaks(maps[\"sqrt_ts\"], threshold=5, min_distance=\"0.25 deg\")\n",
    "nsou = len(sources)\n",
    "display(sources)\n",
    "\n",
    "# Plot sources on top of significance sky image\n",
    "plt.figure(figsize=(9, 5))\n",
    "ax = maps[\"sqrt_ts\"].plot(add_cbar=True)\n",
    "\n",
    "ax.scatter(\n",
    "    sources[\"ra\"],\n",
    "    sources[\"dec\"],\n",
    "    transform=plt.gca().get_transform(\"icrs\"),\n",
    "    color=\"none\",\n",
    "    edgecolor=\"w\",\n",
    "    marker=\"o\",\n",
    "    s=600,\n",
    "    lw=1.5,\n",
    ")\n",
    "plt.show()\n",
    "\n",
    "# sphinx_gallery_thumbnail_number = 3"
   ]
  },
  {
   "cell_type": "markdown",
   "metadata": {},
   "source": [
    "Note that we used the instrument point-spread-function (PSF) as kernel,\n",
    "so the hypothesis we test is the presence of a point source. In order to\n",
    "test for extended sources we would have to use as kernel an extended\n",
    "template convolved by the PSF. Alternatively, we can compute the\n",
    "significance of an extended excess using the Li & Ma formalism, which is\n",
    "faster as no fitting is involve.\n",
    "\n",
    "\n"
   ]
  },
  {
   "cell_type": "markdown",
   "metadata": {},
   "source": [
    "## What next?\n",
    "\n",
    "In this notebook, we have seen how to work with images and compute TS\n",
    "and significance images from counts data, if a background estimate is\n",
    "already available.\n",
    "\n",
    "Here’s some suggestions what to do next:\n",
    "\n",
    "-  Look how background estimation is performed for IACTs with and\n",
    "   without the high level interface in\n",
    "   :doc:`/tutorials/starting/analysis_1` and\n",
    "   :doc:`/tutorials/starting/analysis_2` notebooks,\n",
    "   respectively\n",
    "-  Learn about 2D model fitting in the :doc:`/tutorials/analysis-2d/modeling_2D` notebook\n",
    "-  Find more about Fermi-LAT data analysis in the\n",
    "   :doc:`/tutorials/data/fermi_lat` notebook\n",
    "-  Use source candidates to build a model and perform a 3D fitting (see\n",
    "   :doc:`/tutorials/analysis-3d/analysis_3d`,\n",
    "   :doc:`/tutorials/analysis-3d/analysis_mwl` notebooks for some hints)\n",
    "\n",
    "\n"
   ]
  }
 ],
 "metadata": {
  "kernelspec": {
   "display_name": "Python 3 (ipykernel)",
   "language": "python",
   "name": "python3"
  },
  "language_info": {
   "codemirror_mode": {
    "name": "ipython",
    "version": 3
   },
   "file_extension": ".py",
   "mimetype": "text/x-python",
   "name": "python",
   "nbconvert_exporter": "python",
   "pygments_lexer": "ipython3",
   "version": "3.9.15"
  }
 },
 "nbformat": 4,
 "nbformat_minor": 1
}
