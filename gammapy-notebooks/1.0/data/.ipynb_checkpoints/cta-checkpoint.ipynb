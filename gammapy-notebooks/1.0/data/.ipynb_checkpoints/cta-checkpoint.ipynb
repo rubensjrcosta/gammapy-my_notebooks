{
 "cells": [
  {
   "cell_type": "code",
   "execution_count": null,
   "metadata": {},
   "outputs": [],
   "source": [
    "%matplotlib inline"
   ]
  },
  {
   "cell_type": "markdown",
   "metadata": {},
   "source": [
    "\n",
    "# CTA with Gammapy\n",
    "\n",
    "Access and inspect CTA data and instrument response functions (IRFs) using Gammapy.\n",
    "\n",
    "## Introduction\n",
    "\n",
    "The [Cherenkov Telescope Array\n",
    "(CTA)](https://www.cta-observatory.org/)_ is the next generation\n",
    "ground-based observatory for gamma-ray astronomy. Gammapy is the core\n",
    "library for the Cherenkov Telescope Array (CTA) science tools\n",
    "([2017ICRC…35..766D](https://ui.adsabs.harvard.edu/abs/2017ICRC...35..766D)_\n",
    "and [CTAO Press\n",
    "Release](https://www.cta-observatory.org/ctao-adopts-the-gammapy-software-package-for-science-analysis/)_).\n",
    "\n",
    "CTA will start taking data in the coming years. For now, to learn how to\n",
    "analyse CTA data and to use Gammapy, if you are a member of the CTA\n",
    "consortium, you can use the simulated dataset from the CTA first data\n",
    "challenge which ran in 2017 and 2018.\n",
    "\n",
    "-  https://forge.in2p3.fr/projects/data-challenge-1-dc-1/wiki (CTA\n",
    "   internal)\n",
    "\n",
    "Gammapy fully supports the FITS data formats (events, IRFs) used in CTA\n",
    "1DC. The XML sky model format is not supported, but are also not needed\n",
    "to analyse the data, you have to specify your model via the Gammapy YAML\n",
    "model format, or Python code, as shown below.\n",
    "\n",
    "You can use Gammapy to simulate CTA data and evaluate CTA performance\n",
    "using the CTA response files available here:\n",
    "\n",
    "-  https://www.cta-observatory.org/science/cta-performance/\n",
    "\n",
    "The current FITS format `CTA-Performance-prod3b-v2-FITS.tar` is fully\n",
    "supported by Gammapy, as shown below.\n",
    "\n",
    "## Tutorial overview\n",
    "\n",
    "This notebook shows how to access CTA data and instrument response\n",
    "functions (IRFs) using Gammapy, and gives some examples how to quick\n",
    "look the content of CTA files, especially to see the shape of CTA IRFs.\n",
    "\n",
    "At the end of the notebooks, we give several links to other tutorial\n",
    "notebooks that show how to simulate CTA data and how to evaluate CTA\n",
    "observability and sensitivity, or how to analyse CTA data.\n",
    "\n",
    "Note that the FITS data and IRF format currently used by CTA is the one\n",
    "documented at https://gamma-astro-data-formats.readthedocs.io/, and is\n",
    "also used by H.E.S.S. and other imaging atmospheric Cherenkov telescopes\n",
    "(IACTs). So if you see other Gammapy tutorials using e.g. H.E.S.S.\n",
    "example data, know that they also apply to CTA, all you have to do is to\n",
    "change the loaded data or IRFs to CTA.\n",
    "\n",
    "## Setup\n"
   ]
  },
  {
   "cell_type": "code",
   "execution_count": null,
   "metadata": {},
   "outputs": [],
   "source": [
    "import os\n",
    "from pathlib import Path\n",
    "from astropy import units as u\n",
    "\n",
    "# %matplotlib inline\n",
    "import matplotlib.pyplot as plt\n",
    "from IPython.display import display\n",
    "from gammapy.data import DataStore, EventList\n",
    "from gammapy.irf import EffectiveAreaTable2D, load_cta_irfs"
   ]
  },
  {
   "cell_type": "markdown",
   "metadata": {},
   "source": [
    "## Check setup\n",
    "\n"
   ]
  },
  {
   "cell_type": "code",
   "execution_count": null,
   "metadata": {},
   "outputs": [],
   "source": [
    "from gammapy.utils.check import check_tutorials_setup\n",
    "\n",
    "check_tutorials_setup()"
   ]
  },
  {
   "cell_type": "markdown",
   "metadata": {},
   "source": [
    "## CTA 1DC\n",
    "\n",
    "The CTA first data challenge (1DC) ran in 2017 and 2018. It is described\n",
    "in detail\n",
    "[here](https://forge.in2p3.fr/projects/data-challenge-1-dc-1/wiki)_\n",
    "and a description of the data and how to download it is\n",
    "[here](https://forge.in2p3.fr/projects/data-challenge-1-dc-1/wiki#Data-access)_.\n",
    "\n",
    "You should download `caldb.tar.gz` (1.2 MB), `models.tar.gz` (0.9\n",
    "GB), `index.tar.gz` (0.5 MB), as well as optionally the simulated\n",
    "survey data you are interested in: Galactic plane survey `gps.tar.gz`\n",
    "(8.3 GB), Galactic center `gc.tar.gz` (4.4 MB), Extragalactic survey\n",
    "`egal.tar.gz` (2.5 GB), AGN monitoring `agn.wobble.tar.gz` (4.7 GB).\n",
    "After download, follow the instructions how to `untar` the files, and\n",
    "set a `CTADATA` environment variable to point to the data.\n",
    "\n",
    "For convenience, since the 1DC data files are large, and not publicly\n",
    "available to anyone, we have taken a tiny subset of the CTA 1DC data,\n",
    "four observations with the southern array from the GPS survey, pointing\n",
    "near the Galactic center, and included them at `$GAMMAPY_DATA/cta-1dc`\n",
    "which you get via `gammapy download datasets`.\n",
    "\n",
    "### Files\n",
    "\n",
    "Next we will show a quick overview of the files and how to load them,\n",
    "and some quick look plots showing the shape of the CTA IRFs. How to do\n",
    "CTA simulations and analyses is shown in other tutorials, see links at\n",
    "the end of this notebook.\n",
    "\n",
    "\n"
   ]
  },
  {
   "cell_type": "code",
   "execution_count": null,
   "metadata": {},
   "outputs": [],
   "source": [
    "# !ls -1 $GAMMAPY_DATA/cta-1dc\n",
    "\n",
    "# !ls -1 $GAMMAPY_DATA/cta-1dc/data/baseline/gps\n",
    "\n",
    "# !ls -1 $GAMMAPY_DATA/cta-1dc/caldb/data/cta/1dc/bcf/South_z20_50h\n",
    "\n",
    "# !ls -1 $GAMMAPY_DATA/cta-1dc/index/gps"
   ]
  },
  {
   "cell_type": "markdown",
   "metadata": {},
   "source": [
    "The access to the IRFs files requires to define a `CALDB` environment\n",
    "variable. We are going to define it only for this notebook so it won’t\n",
    "overwrite the one you may have already defined.\n",
    "\n",
    "\n"
   ]
  },
  {
   "cell_type": "code",
   "execution_count": null,
   "metadata": {},
   "outputs": [],
   "source": [
    "os.environ[\"CALDB\"] = os.environ[\"GAMMAPY_DATA\"] + \"/cta-1dc/caldb\""
   ]
  },
  {
   "cell_type": "markdown",
   "metadata": {},
   "source": [
    "### Datastore\n",
    "\n",
    "You can use the `~gammapy.data.DataStore` to load via the index files\n",
    "\n",
    "\n"
   ]
  },
  {
   "cell_type": "code",
   "execution_count": null,
   "metadata": {},
   "outputs": [],
   "source": [
    "data_store = DataStore.from_dir(\"$GAMMAPY_DATA/cta-1dc/index/gps\")\n",
    "print(data_store)"
   ]
  },
  {
   "cell_type": "markdown",
   "metadata": {},
   "source": [
    "If you can’t download the index files, or got errors related to the data\n",
    "access using them, you can generate the `DataStore` directly from the\n",
    "event files.\n",
    "\n",
    "\n"
   ]
  },
  {
   "cell_type": "code",
   "execution_count": null,
   "metadata": {},
   "outputs": [],
   "source": [
    "path = Path(os.environ[\"GAMMAPY_DATA\"]) / \"cta-1dc/data\"\n",
    "paths = list(path.rglob(\"*.fits\"))\n",
    "data_store = DataStore.from_events_files(paths)\n",
    "print(data_store)\n",
    "\n",
    "data_store.obs_table[[\"OBS_ID\", \"GLON_PNT\", \"GLAT_PNT\", \"IRF\"]]\n",
    "\n",
    "observation = data_store.obs(110380)\n",
    "print(observation)"
   ]
  },
  {
   "cell_type": "markdown",
   "metadata": {},
   "source": [
    "## Events\n",
    "\n",
    "We can load events data via the data store and observation, or\n",
    "equivalently via the `~gammapy.data.EventList` class by specifying the\n",
    "EVENTS filename.\n",
    "\n",
    "The quick-look `events.peek()` plot below shows that CTA has a field\n",
    "of view of a few degrees, and two energy thresholds, one significantly\n",
    "below 100 GeV where the CTA large-size telescopes (LSTs) detect events,\n",
    "and a second one near 100 GeV where the mid-sized telescopes (MSTs)\n",
    "start to detect events.\n",
    "\n",
    "Note that most events are “hadronic background” due to cosmic ray\n",
    "showers in the atmosphere that pass the gamma-hadron selection cuts for\n",
    "this analysis configuration. Since this is simulated data, column\n",
    "`MC_ID` is available that gives an emission component identifier code,\n",
    "and the EVENTS header in `events.table.meta` can be used to look up\n",
    "which `MC_ID` corresponds to which emission component.\n",
    "\n",
    "Events can be accessed from the observatiosn object like:\n",
    "\n"
   ]
  },
  {
   "cell_type": "code",
   "execution_count": null,
   "metadata": {},
   "outputs": [],
   "source": [
    "events = observation.events"
   ]
  },
  {
   "cell_type": "markdown",
   "metadata": {},
   "source": [
    "Or read directly from an event file:\n",
    "\n",
    "\n"
   ]
  },
  {
   "cell_type": "code",
   "execution_count": null,
   "metadata": {},
   "outputs": [],
   "source": [
    "events = EventList.read(\n",
    "    \"$GAMMAPY_DATA/cta-1dc/data/baseline/gps/gps_baseline_110380.fits\"\n",
    ")"
   ]
  },
  {
   "cell_type": "markdown",
   "metadata": {},
   "source": [
    "Here we print the data from the first 5 events listed in the table:\n",
    "\n",
    "\n"
   ]
  },
  {
   "cell_type": "code",
   "execution_count": null,
   "metadata": {},
   "outputs": [],
   "source": [
    "display(events.table[:5])"
   ]
  },
  {
   "cell_type": "markdown",
   "metadata": {},
   "source": [
    "And show a summary plot:\n",
    "\n",
    "\n"
   ]
  },
  {
   "cell_type": "code",
   "execution_count": null,
   "metadata": {},
   "outputs": [],
   "source": [
    "events.peek()"
   ]
  },
  {
   "cell_type": "markdown",
   "metadata": {},
   "source": [
    "## IRFs\n",
    "\n",
    "The CTA instrument response functions (IRFs) are given as FITS files in\n",
    "the `caldb` folder, the following IRFs are available:\n",
    "\n",
    "-  effective area\n",
    "-  energy dispersion\n",
    "-  point spread function\n",
    "-  background\n",
    "\n",
    "Notes:\n",
    "\n",
    "-  The IRFs contain the energy and offset dependence of the CTA response\n",
    "-  CTA 1DC was based on an early version of the CTA FITS responses\n",
    "   produced in 2017, improvements have been made since.\n",
    "-  The point spread function was approximated by a Gaussian shape\n",
    "-  The background is from hadronic and electron air shower events that\n",
    "   pass CTA selection cuts. It was given as a function of field of view\n",
    "   coordinates, although it is radially symmetric.\n",
    "-  The energy dispersion in CTA 1DC is noisy at low energy, leading to\n",
    "   unreliable spectral points for some analyses.\n",
    "-  The CTA 1DC response files have the first node at field of view\n",
    "   offset 0.5 deg, so to get the on-axis response at offset 0 deg,\n",
    "   Gammapy has to extrapolate. Furthermore, because diffuse gamma-rays\n",
    "   in the FOV were used to derive the IRFs, and the solid angle at small\n",
    "   FOV offset circles is small, the IRFs at the center of the FOV are\n",
    "   somewhat noisy. This leads to unstable analysis and simulation issues\n",
    "   when using the DC1 IRFs for some analyses.\n",
    "\n",
    "\n"
   ]
  },
  {
   "cell_type": "code",
   "execution_count": null,
   "metadata": {},
   "outputs": [],
   "source": [
    "print(observation.aeff)\n",
    "\n",
    "irf_filename = (\n",
    "    \"$GAMMAPY_DATA/cta-1dc/caldb/data/cta/1dc/bcf/South_z20_50h/irf_file.fits\"\n",
    ")\n",
    "irfs = load_cta_irfs(irf_filename)\n",
    "print(irfs)"
   ]
  },
  {
   "cell_type": "markdown",
   "metadata": {},
   "source": [
    "### Effective area\n",
    "\n",
    "\n"
   ]
  },
  {
   "cell_type": "code",
   "execution_count": null,
   "metadata": {},
   "outputs": [],
   "source": [
    "# Equivalent alternative way to load IRFs directly\n",
    "aeff = EffectiveAreaTable2D.read(irf_filename, hdu=\"EFFECTIVE AREA\")\n",
    "print(aeff)\n",
    "\n",
    "irfs[\"aeff\"].peek()\n",
    "\n",
    "# What is the on-axis effective area at 10 TeV?\n",
    "print(aeff.evaluate(energy_true=\"10 TeV\", offset=\"0 deg\").to(\"km2\"))"
   ]
  },
  {
   "cell_type": "markdown",
   "metadata": {},
   "source": [
    "### Energy dispersion\n",
    "\n",
    "\n"
   ]
  },
  {
   "cell_type": "code",
   "execution_count": null,
   "metadata": {},
   "outputs": [],
   "source": [
    "irfs[\"edisp\"].peek()"
   ]
  },
  {
   "cell_type": "markdown",
   "metadata": {},
   "source": [
    "### Point spread function\n",
    "\n",
    "\n"
   ]
  },
  {
   "cell_type": "code",
   "execution_count": null,
   "metadata": {},
   "outputs": [],
   "source": [
    "irfs[\"psf\"].peek()\n",
    "\n",
    "# This is how for analysis you could slice out the PSF\n",
    "# at a given field of view offset\n",
    "irfs[\"psf\"].plot_containment_radius_vs_energy(\n",
    "    offset=[1] * u.deg, fraction=[0.68, 0.8, 0.95]\n",
    ")"
   ]
  },
  {
   "cell_type": "markdown",
   "metadata": {},
   "source": [
    "### Background\n",
    "\n",
    "The background is given as a rate in units `MeV-1 s-1 sr-1`.\n",
    "\n",
    "\n"
   ]
  },
  {
   "cell_type": "code",
   "execution_count": null,
   "metadata": {},
   "outputs": [],
   "source": [
    "irfs[\"bkg\"].peek()\n",
    "\n",
    "print(irfs[\"bkg\"].evaluate(energy=\"3 TeV\", fov_lon=\"1 deg\", fov_lat=\"0 deg\"))"
   ]
  },
  {
   "cell_type": "markdown",
   "metadata": {},
   "source": [
    "To visualise the background at particular energies:\n",
    "\n",
    "\n"
   ]
  },
  {
   "cell_type": "code",
   "execution_count": null,
   "metadata": {},
   "outputs": [],
   "source": [
    "irfs[\"bkg\"].plot_at_energy(\n",
    "    [\"100 GeV\", \"500 GeV\", \"1 TeV\", \"3 TeV\", \"10 TeV\", \"100 TeV\"]\n",
    ")\n",
    "\n",
    "plt.show()"
   ]
  },
  {
   "cell_type": "markdown",
   "metadata": {},
   "source": [
    "## Source models\n",
    "\n",
    "The 1DC sky model is distributed as a set of XML files, which in turn\n",
    "link to a ton of other FITS and text files. Gammapy doesn’t support this\n",
    "XML model file format. We are currently developing a YAML based format\n",
    "that improves upon the XML format, to be easier to write and read, add\n",
    "relevant information (units for physical quantities), and omit useless\n",
    "information (e.g. parameter scales in addition to values).\n",
    "\n",
    "If you must or want to read the XML model files, you can use\n",
    "e.g. [ElementTree](https://docs.python.org/3/library/xml.etree.elementtree.html)_\n",
    "from the Python standard library, or\n",
    "[xmltodict](https://github.com/martinblech/xmltodict)_ if you\n",
    "`pip install xmltodict`. Here’s an example how to load the information\n",
    "for a given source, and to convert it into the sky model format Gammapy\n",
    "understands.\n",
    "\n",
    "\n"
   ]
  },
  {
   "cell_type": "code",
   "execution_count": null,
   "metadata": {},
   "outputs": [],
   "source": [
    "# This is what the XML file looks like\n",
    "# !tail -n 20 $CTADATA/models/models_gps.xml\n",
    "\n",
    "# TODO: write this example!\n",
    "\n",
    "# Read XML file and access spectrum parameters\n",
    "# from gammapy.extern import xmltodict\n",
    "\n",
    "# filename = os.path.join(os.environ[\"CTADATA\"], \"models/models_gps.xml\")\n",
    "# data = xmltodict.parse(open(filename).read())\n",
    "# data = data[\"source_library\"][\"source\"][-1]\n",
    "# data = data[\"spectrum\"][\"parameter\"]\n",
    "# data\n",
    "\n",
    "# Create a spectral model the the right units\n",
    "# from astropy import units as u\n",
    "# from gammapy.modeling.models import PowerLawSpectralModel\n",
    "\n",
    "# par_to_val = lambda par: float(par[\"@value\"]) * float(par[\"@scale\"])\n",
    "# spec = PowerLawSpectralModel(\n",
    "#     amplitude=par_to_val(data[0]) * u.Unit(\"cm-2 s-1 MeV-1\"),\n",
    "#     index=par_to_val(data[1]),\n",
    "#     reference=par_to_val(data[2]) * u.Unit(\"MeV\"),\n",
    "# )\n",
    "# print(spec)"
   ]
  },
  {
   "cell_type": "markdown",
   "metadata": {},
   "source": [
    "## CTA performance files\n",
    "\n",
    "CTA 1DC is useful to learn how to analyse CTA data. But to do\n",
    "simulations and studies for CTA now, you should get the most recent CTA\n",
    "IRFs in FITS format from\n",
    "https://www.cta-observatory.org/science/cta-performance/\n",
    "\n",
    "If you want to run the download and examples in the next code cells,\n",
    "remove the # to uncomment.\n",
    "\n",
    "\n"
   ]
  },
  {
   "cell_type": "code",
   "execution_count": null,
   "metadata": {},
   "outputs": [],
   "source": [
    "# !curl -O https://www.cta-observatory.org/wp-content/uploads/2019/04/CTA-Performance-prod3b-v2-FITS.tar.gz\n",
    "\n",
    "# !tar xf CTA-Performance-prod3b-v2-FITS.tar.gz\n",
    "\n",
    "# !ls caldb/data/cta/prod3b-v2/bcf\n",
    "\n",
    "# irfs1 = load_cta_irfs(\"caldb/data/cta/prod3b-v2/bcf/South_z20_50h/irf_file.fits\")\n",
    "# irfs1[\"aeff\"].plot_energy_dependence()\n",
    "\n",
    "# irfs2 = load_cta_irfs(\"caldb/data/cta/prod3b-v2/bcf/South_z40_50h/irf_file.fits\")\n",
    "# irfs2[\"aeff\"].plot_energy_dependence()"
   ]
  },
  {
   "cell_type": "markdown",
   "metadata": {},
   "source": [
    "## Exercises\n",
    "\n",
    "-  Load the EVENTS file for `obs_id=111159` as a\n",
    "   `~gammapy.data.EventList` object.\n",
    "-  Use `~gammapy.data.EventList.table` to find the energy, sky coordinate and time of\n",
    "   the highest-energy envent.\n",
    "-  Use `~gammapy.data.EventList.pointing_radec` to find the pointing position of this\n",
    "   observation, and use `astropy.coordinates.SkyCoord` methods to find\n",
    "   the field of view offset of the highest-energy event.\n",
    "-  What is the effective area and PSF 68% containment radius of CTA at 1\n",
    "   TeV for the `South_z20_50h` configuration used for the CTA 1DC\n",
    "   simulation?\n",
    "-  Get the latest CTA FITS performance files from\n",
    "   https://www.cta-observatory.org/science/cta-performance/ and run the\n",
    "   code example above. Make an effective area ratio plot of 40 deg\n",
    "   zenith versus 20 deg zenith for the `South_z40_50h` and\n",
    "   `South_z20_50h` configurations.\n",
    "\n",
    "\n"
   ]
  },
  {
   "cell_type": "code",
   "execution_count": null,
   "metadata": {},
   "outputs": [],
   "source": [
    "# start typing here ..."
   ]
  },
  {
   "cell_type": "markdown",
   "metadata": {},
   "source": [
    "## Next steps\n",
    "\n",
    "-  Learn how to analyse data with\n",
    "   :doc:`/tutorials/starting/analysis_1` and\n",
    "   :doc:`/tutorials/starting/analysis_2` or any other\n",
    "   Gammapy analysis tutorial.\n",
    "-  Learn how to evaluate CTA observability and sensitivity with\n",
    "   :doc:`/tutorials/analysis-3d/simulate_3d`,\n",
    "   :doc:`/tutorials/analysis-1d/spectrum_simulation`\n",
    "   or :doc:`/tutorials/analysis-1d/cta_sensitivity`.\n",
    "\n",
    "\n"
   ]
  }
 ],
 "metadata": {
  "kernelspec": {
   "display_name": "Python 3 (ipykernel)",
   "language": "python",
   "name": "python3"
  },
  "language_info": {
   "codemirror_mode": {
    "name": "ipython",
    "version": 3
   },
   "file_extension": ".py",
   "mimetype": "text/x-python",
   "name": "python",
   "nbconvert_exporter": "python",
   "pygments_lexer": "ipython3",
   "version": "3.9.15"
  }
 },
 "nbformat": 4,
 "nbformat_minor": 1
}
