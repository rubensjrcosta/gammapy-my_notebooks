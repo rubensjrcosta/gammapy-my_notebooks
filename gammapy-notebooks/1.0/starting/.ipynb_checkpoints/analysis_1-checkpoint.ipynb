{
 "cells": [
  {
   "cell_type": "code",
   "execution_count": null,
   "metadata": {},
   "outputs": [],
   "source": [
    "%matplotlib inline"
   ]
  },
  {
   "cell_type": "markdown",
   "metadata": {},
   "source": [
    "\n",
    "# High level interface\n",
    "\n",
    "Introduction to 3D analysis using the Gammapy high level interface.\n",
    "\n",
    "## Prerequisites\n",
    "\n",
    "-  Understanding the gammapy data workflow, in particular what are DL3\n",
    "   events and instrument response functions (IRF).\n",
    "\n",
    "## Context\n",
    "\n",
    "This notebook is an introduction to gammapy analysis using the high\n",
    "level interface.\n",
    "\n",
    "Gammapy analysis consists in two main steps.\n",
    "\n",
    "The first one is data reduction: user selected observations are reduced\n",
    "to a geometry defined by the user. It can be 1D (spectrum from a given\n",
    "extraction region) or 3D (with a sky projection and an energy axis). The\n",
    "resulting reduced data and instrument response functions (IRF) are\n",
    "called datasets in Gammapy.\n",
    "\n",
    "The second step consists in setting a physical model on the datasets and\n",
    "fitting it to obtain relevant physical information.\n",
    "\n",
    "**Objective: Create a 3D dataset of the Crab using the H.E.S.S. DL3 data\n",
    "release 1 and perform a simple model fitting of the Crab nebula.**\n",
    "\n",
    "## Proposed approach\n",
    "\n",
    "This notebook uses the high level `~gammapy.analysis.Analysis` class to orchestrate data\n",
    "reduction. In its current state, `~gammapy.analysis.Analysis` supports the standard\n",
    "analysis cases of joint or stacked 3D and 1D analyses. It is\n",
    "instantiated with an `~gammapy.analysis.AnalysisConfig` object that gives access to\n",
    "analysis parameters either directly or via a YAML config file.\n",
    "\n",
    "To see what is happening under-the-hood and to get an idea of the\n",
    "internal API, a second notebook performs the same analysis without using\n",
    "the `~gammapy.analysis.Analysis` class.\n",
    "\n",
    "In summary, we have to:\n",
    "\n",
    "-  Create an `~gammapy.analysis.AnalysisConfig` object and edit it to\n",
    "   define the analysis configuration:\n",
    "\n",
    "   -  Define what observations to use\n",
    "   -  Define the geometry of the dataset (data and IRFs)\n",
    "   -  Define the model we want to fit on the dataset.\n",
    "\n",
    "-  Instantiate a `~gammapy.analysis.Analysis` from this configuration\n",
    "   and run the different analysis steps\n",
    "\n",
    "   -  Observation selection\n",
    "   -  Data reduction\n",
    "   -  Model fitting\n",
    "   -  Estimating flux points\n",
    "\n",
    "Finally we will compare the results against a reference model.\n"
   ]
  },
  {
   "cell_type": "markdown",
   "metadata": {},
   "source": [
    "## Setup\n",
    "\n",
    "\n"
   ]
  },
  {
   "cell_type": "code",
   "execution_count": null,
   "metadata": {},
   "outputs": [],
   "source": [
    "# %matplotlib inline\n",
    "from pathlib import Path\n",
    "from astropy import units as u\n",
    "from gammapy.analysis import Analysis, AnalysisConfig"
   ]
  },
  {
   "cell_type": "markdown",
   "metadata": {},
   "source": [
    "## Check setup\n",
    "\n"
   ]
  },
  {
   "cell_type": "code",
   "execution_count": null,
   "metadata": {},
   "outputs": [],
   "source": [
    "from gammapy.utils.check import check_tutorials_setup\n",
    "\n",
    "check_tutorials_setup()"
   ]
  },
  {
   "cell_type": "markdown",
   "metadata": {},
   "source": [
    "## Analysis configuration\n",
    "\n",
    "For configuration of the analysis we use the\n",
    "[YAML](https://en.wikipedia.org/wiki/YAML)_ data format. YAML is a\n",
    "machine readable serialisation format, that is also friendly for humans\n",
    "to read. In this tutorial we will write the configuration file just\n",
    "using Python strings, but of course the file can be created and modified\n",
    "with any text editor of your choice.\n",
    "\n",
    "Here is what the configuration for our analysis looks like:\n",
    "\n",
    "\n"
   ]
  },
  {
   "cell_type": "code",
   "execution_count": null,
   "metadata": {},
   "outputs": [],
   "source": [
    "config = AnalysisConfig()\n",
    "# the AnalysisConfig gives access to the various parameters used from logging to reduced dataset geometries\n",
    "print(config)"
   ]
  },
  {
   "cell_type": "markdown",
   "metadata": {},
   "source": [
    "### Setting the data to use\n",
    "\n",
    "\n"
   ]
  },
  {
   "cell_type": "markdown",
   "metadata": {},
   "source": [
    "We want to use Crab runs from the H.E.S.S. DL3-DR1. We define here the\n",
    "datastore and a cone search of observations pointing with 5 degrees of\n",
    "the Crab nebula. Parameters can be set directly or as a python dict.\n",
    "\n",
    "PS: do not forget to setup your environment variable *$GAMMAPY_DATA* to\n",
    "your local directory containing the H.E.S.S. DL3-DR1 as described in\n",
    "`quickstart-setup`.\n",
    "\n",
    "\n"
   ]
  },
  {
   "cell_type": "code",
   "execution_count": null,
   "metadata": {},
   "outputs": [],
   "source": [
    "# We define the datastore containing the data\n",
    "config.observations.datastore = \"$GAMMAPY_DATA/hess-dl3-dr1\"\n",
    "\n",
    "# We define the cone search parameters\n",
    "config.observations.obs_cone.frame = \"icrs\"\n",
    "config.observations.obs_cone.lon = \"83.633 deg\"\n",
    "config.observations.obs_cone.lat = \"22.014 deg\"\n",
    "config.observations.obs_cone.radius = \"5 deg\"\n",
    "\n",
    "# Equivalently we could have set parameters with a python dict\n",
    "# config.observations.obs_cone = {\"frame\": \"icrs\", \"lon\": \"83.633 deg\", \"lat\": \"22.014 deg\", \"radius\": \"5 deg\"}"
   ]
  },
  {
   "cell_type": "markdown",
   "metadata": {},
   "source": [
    "### Setting the reduced datasets geometry\n",
    "\n",
    "\n"
   ]
  },
  {
   "cell_type": "code",
   "execution_count": null,
   "metadata": {},
   "outputs": [],
   "source": [
    "# We want to perform a 3D analysis\n",
    "config.datasets.type = \"3d\"\n",
    "# We want to stack the data into a single reduced dataset\n",
    "config.datasets.stack = True\n",
    "\n",
    "# We fix the WCS geometry of the datasets\n",
    "config.datasets.geom.wcs.skydir = {\n",
    "    \"lon\": \"83.633 deg\",\n",
    "    \"lat\": \"22.014 deg\",\n",
    "    \"frame\": \"icrs\",\n",
    "}\n",
    "config.datasets.geom.wcs.width = {\"width\": \"2 deg\", \"height\": \"2 deg\"}\n",
    "config.datasets.geom.wcs.binsize = \"0.02 deg\"\n",
    "\n",
    "# We now fix the energy axis for the counts map\n",
    "config.datasets.geom.axes.energy.min = \"1 TeV\"\n",
    "config.datasets.geom.axes.energy.max = \"10 TeV\"\n",
    "config.datasets.geom.axes.energy.nbins = 10\n",
    "\n",
    "# We now fix the energy axis for the IRF maps (exposure, etc)\n",
    "config.datasets.geom.axes.energy_true.min = \"0.5 TeV\"\n",
    "config.datasets.geom.axes.energy_true.max = \"20 TeV\"\n",
    "config.datasets.geom.axes.energy_true.nbins = 20"
   ]
  },
  {
   "cell_type": "markdown",
   "metadata": {},
   "source": [
    "### Setting the background normalization maker\n",
    "\n",
    "\n"
   ]
  },
  {
   "cell_type": "code",
   "execution_count": null,
   "metadata": {},
   "outputs": [],
   "source": [
    "config.datasets.background.method = \"fov_background\"\n",
    "config.datasets.background.parameters = {\"method\": \"scale\"}"
   ]
  },
  {
   "cell_type": "markdown",
   "metadata": {},
   "source": [
    "### Setting the exclusion mask\n",
    "\n",
    "\n"
   ]
  },
  {
   "cell_type": "markdown",
   "metadata": {},
   "source": [
    "In order to properly adjust the background normalisation on regions\n",
    "without gamma-ray signal, one needs to define an exclusion mask for the\n",
    "background normalisation. For this tutorial, we use the following one\n",
    "``$GAMMAPY_DATA/joint-crab/exclusion/exclusion_mask_crab.fits.gz``\n",
    "\n",
    "\n"
   ]
  },
  {
   "cell_type": "code",
   "execution_count": null,
   "metadata": {},
   "outputs": [],
   "source": [
    "config.datasets.background.exclusion = (\n",
    "    \"$GAMMAPY_DATA/joint-crab/exclusion/exclusion_mask_crab.fits.gz\"\n",
    ")"
   ]
  },
  {
   "cell_type": "markdown",
   "metadata": {},
   "source": [
    "### Setting modeling and fitting parameters\n",
    "\n",
    "``Analysis`` can perform a few modeling and fitting tasks besides data\n",
    "reduction. Parameters have then to be passed to the configuration\n",
    "object.\n",
    "\n",
    "Here we define the energy range on which to perform the fit. We also set\n",
    "the energy edges used for flux point computation as well as the\n",
    "correlation radius to compute excess and significance maps.\n",
    "\n",
    "\n"
   ]
  },
  {
   "cell_type": "code",
   "execution_count": null,
   "metadata": {},
   "outputs": [],
   "source": [
    "config.fit.fit_range.min = 1 * u.TeV\n",
    "config.fit.fit_range.max = 10 * u.TeV\n",
    "config.flux_points.energy = {\"min\": \"1 TeV\", \"max\": \"10 TeV\", \"nbins\": 4}\n",
    "config.excess_map.correlation_radius = 0.1 * u.deg"
   ]
  },
  {
   "cell_type": "markdown",
   "metadata": {},
   "source": [
    "We’re all set. But before we go on let’s see how to save or import\n",
    "``AnalysisConfig`` objects though YAML files.\n",
    "\n",
    "\n"
   ]
  },
  {
   "cell_type": "markdown",
   "metadata": {},
   "source": [
    "### Using YAML configuration files\n",
    "\n",
    "One can export/import the `~gammapy.modeling.AnalysisConfig` to/from a YAML file.\n",
    "\n",
    "\n"
   ]
  },
  {
   "cell_type": "code",
   "execution_count": null,
   "metadata": {},
   "outputs": [],
   "source": [
    "config.write(\"config.yaml\", overwrite=True)\n",
    "\n",
    "config = AnalysisConfig.read(\"config.yaml\")\n",
    "print(config)"
   ]
  },
  {
   "cell_type": "markdown",
   "metadata": {},
   "source": [
    "## Running the analysis\n",
    "\n",
    "We first create an `~gammapy.analysis.Analysis` object from our\n",
    "configuration.\n",
    "\n",
    "\n"
   ]
  },
  {
   "cell_type": "code",
   "execution_count": null,
   "metadata": {},
   "outputs": [],
   "source": [
    "analysis = Analysis(config)"
   ]
  },
  {
   "cell_type": "markdown",
   "metadata": {},
   "source": [
    "### Observation selection\n",
    "\n",
    "We can directly select and load the observations from disk using\n",
    "`~gammapy.analysis.Analysis.get_observations()`:\n",
    "\n",
    "\n"
   ]
  },
  {
   "cell_type": "code",
   "execution_count": null,
   "metadata": {},
   "outputs": [],
   "source": [
    "analysis.get_observations()"
   ]
  },
  {
   "cell_type": "markdown",
   "metadata": {},
   "source": [
    "The observations are now available on the `~gammapy.modeling.Analysis` object. The\n",
    "selection corresponds to the following ids:\n",
    "\n",
    "\n"
   ]
  },
  {
   "cell_type": "code",
   "execution_count": null,
   "metadata": {},
   "outputs": [],
   "source": [
    "print(analysis.observations.ids)"
   ]
  },
  {
   "cell_type": "markdown",
   "metadata": {},
   "source": [
    "To see how to explore observations, please refer to the following\n",
    "notebook: :doc:`CTA with Gammapy </tutorials/data/cta>` or :doc:`HESS with\n",
    "Gammapy </tutorials/data/hess>`\n",
    "\n",
    "\n"
   ]
  },
  {
   "cell_type": "markdown",
   "metadata": {},
   "source": [
    "## Data reduction\n",
    "\n",
    "Now we proceed to the data reduction. In the config file we have chosen\n",
    "a WCS map geometry, energy axis and decided to stack the maps. We can\n",
    "run the reduction using `~gammapy.modeling.Analysis.get_datasets()`:\n",
    "\n",
    "\n"
   ]
  },
  {
   "cell_type": "code",
   "execution_count": null,
   "metadata": {},
   "outputs": [],
   "source": [
    "analysis.get_datasets()"
   ]
  },
  {
   "cell_type": "markdown",
   "metadata": {},
   "source": [
    "As we have chosen to stack the data, there is finally one dataset\n",
    "contained which we can print:\n",
    "\n",
    "\n"
   ]
  },
  {
   "cell_type": "code",
   "execution_count": null,
   "metadata": {},
   "outputs": [],
   "source": [
    "print(analysis.datasets[\"stacked\"])"
   ]
  },
  {
   "cell_type": "markdown",
   "metadata": {},
   "source": [
    "As you can see the dataset comes with a predefined background model out\n",
    "of the data reduction, but no source model has been set yet.\n",
    "\n",
    "The counts, exposure and background model maps are directly available on\n",
    "the dataset and can be printed and plotted:\n",
    "\n",
    "\n"
   ]
  },
  {
   "cell_type": "code",
   "execution_count": null,
   "metadata": {},
   "outputs": [],
   "source": [
    "counts = analysis.datasets[\"stacked\"].counts\n",
    "counts.smooth(\"0.05 deg\").plot_interactive()"
   ]
  },
  {
   "cell_type": "markdown",
   "metadata": {},
   "source": [
    "We can also compute the map of the sqrt_ts (significance) of the excess\n",
    "counts above the background. The correlation radius to sum counts is\n",
    "defined in the config file.\n",
    "\n",
    "\n"
   ]
  },
  {
   "cell_type": "code",
   "execution_count": null,
   "metadata": {},
   "outputs": [],
   "source": [
    "analysis.get_excess_map()\n",
    "analysis.excess_map[\"sqrt_ts\"].plot(add_cbar=True)"
   ]
  },
  {
   "cell_type": "markdown",
   "metadata": {},
   "source": [
    "## Save dataset to disk\n",
    "\n",
    "It is common to run the preparation step independent of the likelihood\n",
    "fit, because often the preparation of maps, PSF and energy dispersion is\n",
    "slow if you have a lot of data. We first create a folder:\n",
    "\n",
    "\n"
   ]
  },
  {
   "cell_type": "code",
   "execution_count": null,
   "metadata": {},
   "outputs": [],
   "source": [
    "path = Path(\"analysis_1\")\n",
    "path.mkdir(exist_ok=True)"
   ]
  },
  {
   "cell_type": "markdown",
   "metadata": {},
   "source": [
    "And then write the maps and IRFs to disk by calling the dedicated\n",
    "`~gammapy.datasets.Datasets.write` method:\n",
    "\n",
    "\n"
   ]
  },
  {
   "cell_type": "code",
   "execution_count": null,
   "metadata": {},
   "outputs": [],
   "source": [
    "filename = path / \"crab-stacked-dataset.fits.gz\"\n",
    "analysis.datasets[0].write(filename, overwrite=True)"
   ]
  },
  {
   "cell_type": "markdown",
   "metadata": {},
   "source": [
    "## Model fitting\n",
    "\n",
    "Now we define a model to be fitted to the dataset. Here we use its YAML\n",
    "definition to load it:\n",
    "\n",
    "\n"
   ]
  },
  {
   "cell_type": "code",
   "execution_count": null,
   "metadata": {},
   "outputs": [],
   "source": [
    "model_config = \"\"\"\n",
    "components:\n",
    "- name: crab\n",
    "  type: SkyModel\n",
    "  spatial:\n",
    "    type: PointSpatialModel\n",
    "    frame: icrs\n",
    "    parameters:\n",
    "    - name: lon_0\n",
    "      value: 83.63\n",
    "      unit: deg\n",
    "    - name: lat_0\n",
    "      value: 22.014\n",
    "      unit: deg\n",
    "  spectral:\n",
    "    type: PowerLawSpectralModel\n",
    "    parameters:\n",
    "    - name: amplitude\n",
    "      value: 1.0e-12\n",
    "      unit: cm-2 s-1 TeV-1\n",
    "    - name: index\n",
    "      value: 2.0\n",
    "      unit: ''\n",
    "    - name: reference\n",
    "      value: 1.0\n",
    "      unit: TeV\n",
    "      frozen: true\n",
    "\"\"\""
   ]
  },
  {
   "cell_type": "markdown",
   "metadata": {},
   "source": [
    "Now we set the model on the analysis object:\n",
    "\n",
    "\n"
   ]
  },
  {
   "cell_type": "code",
   "execution_count": null,
   "metadata": {},
   "outputs": [],
   "source": [
    "analysis.set_models(model_config)"
   ]
  },
  {
   "cell_type": "markdown",
   "metadata": {},
   "source": [
    "Finally we run the fit:\n",
    "\n",
    "\n"
   ]
  },
  {
   "cell_type": "code",
   "execution_count": null,
   "metadata": {},
   "outputs": [],
   "source": [
    "analysis.run_fit()\n",
    "\n",
    "print(analysis.fit_result)"
   ]
  },
  {
   "cell_type": "markdown",
   "metadata": {},
   "source": [
    "This is how we can write the model back to file again:\n",
    "\n",
    "\n"
   ]
  },
  {
   "cell_type": "code",
   "execution_count": null,
   "metadata": {},
   "outputs": [],
   "source": [
    "filename = path / \"model-best-fit.yaml\"\n",
    "analysis.models.write(filename, overwrite=True)\n",
    "\n",
    "with filename.open(\"r\") as f:\n",
    "    print(f.read())"
   ]
  },
  {
   "cell_type": "markdown",
   "metadata": {},
   "source": [
    "### Flux points\n",
    "\n",
    "\n"
   ]
  },
  {
   "cell_type": "code",
   "execution_count": null,
   "metadata": {},
   "outputs": [],
   "source": [
    "analysis.config.flux_points.source = \"crab\"\n",
    "# Example showing how to change the FluxPointsEstimator parameters:\n",
    "analysis.config.flux_points.energy.nbins = 5\n",
    "config_dict = {\n",
    "    \"selection_optional\": \"all\",\n",
    "    \"n_sigma\": 2,  # Number of sigma to use for asymmetric error computation\n",
    "    \"n_sigma_ul\": 3,  # Number of sigma to use for upper limit computation\n",
    "}\n",
    "analysis.config.flux_points.parameters = config_dict\n",
    "\n",
    "analysis.get_flux_points()\n",
    "\n",
    "# Example showing how to change just before plotting the threshold on the signal significance\n",
    "# (points vs upper limits), even if this has no effect with this data set.\n",
    "fp = analysis.flux_points.data\n",
    "fp.sqrt_ts_threshold_ul = 5\n",
    "ax_sed, ax_residuals = analysis.flux_points.plot_fit()"
   ]
  },
  {
   "cell_type": "markdown",
   "metadata": {},
   "source": [
    "The flux points can be exported to a fits table following the format\n",
    "defined\n",
    "[here](https://gamma-astro-data-formats.readthedocs.io/en/latest/spectra/flux_points/index.html)_\n",
    "\n",
    "\n"
   ]
  },
  {
   "cell_type": "code",
   "execution_count": null,
   "metadata": {},
   "outputs": [],
   "source": [
    "filename = path / \"flux-points.fits\"\n",
    "analysis.flux_points.write(filename, overwrite=True)"
   ]
  },
  {
   "cell_type": "markdown",
   "metadata": {},
   "source": [
    "To check the fit is correct, we compute the map of the sqrt_ts of the\n",
    "excess counts above the current model.\n",
    "\n",
    "\n"
   ]
  },
  {
   "cell_type": "code",
   "execution_count": null,
   "metadata": {},
   "outputs": [],
   "source": [
    "analysis.get_excess_map()\n",
    "analysis.excess_map[\"sqrt_ts\"].plot(add_cbar=True, cmap=\"RdBu\", vmin=-5, vmax=5)"
   ]
  },
  {
   "cell_type": "markdown",
   "metadata": {},
   "source": [
    "## What’s next\n",
    "\n",
    "You can look at the same analysis without the high level interface in\n",
    ":doc:`/tutorials/starting/analysis_2`\n",
    "\n",
    "You can see how to perform a 1D spectral analysis of the same data in\n",
    ":doc:`/tutorials/analysis-1d/spectral_analysis`\n",
    "\n",
    "\n"
   ]
  }
 ],
 "metadata": {
  "kernelspec": {
   "display_name": "Python 3 (ipykernel)",
   "language": "python",
   "name": "python3"
  },
  "language_info": {
   "codemirror_mode": {
    "name": "ipython",
    "version": 3
   },
   "file_extension": ".py",
   "mimetype": "text/x-python",
   "name": "python",
   "nbconvert_exporter": "python",
   "pygments_lexer": "ipython3",
   "version": "3.9.15"
  }
 },
 "nbformat": 4,
 "nbformat_minor": 1
}
