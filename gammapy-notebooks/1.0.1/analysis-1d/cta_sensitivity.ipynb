{
 "cells": [
  {
   "cell_type": "code",
   "execution_count": 1,
   "metadata": {},
   "outputs": [],
   "source": [
    "%matplotlib inline"
   ]
  },
  {
   "cell_type": "markdown",
   "metadata": {},
   "source": [
    "\n",
    "# Point source sensitivity\n",
    "\n",
    "Estimate the CTA sensitivity for a point-like IRF at a fixed zenith angle and fixed offset.\n",
    "\n",
    "## Introduction\n",
    "\n",
    "This notebook explains how to estimate the CTA sensitivity for a\n",
    "point-like IRF at a fixed zenith angle and fixed offset using the full\n",
    "containment IRFs distributed for the CTA 1DC. The significance is\n",
    "computed for a 1D analysis (On-OFF regions) and the LiMa formula.\n",
    "\n",
    "We use here an approximate approach with an energy dependent integration\n",
    "radius to take into account the variation of the PSF. We will first\n",
    "determine the 1D IRFs including a containment correction.\n",
    "\n",
    "We will be using the following Gammapy class:\n",
    "\n",
    "-  `~gammapy.estimators.SensitivityEstimator`\n"
   ]
  },
  {
   "cell_type": "code",
   "execution_count": 2,
   "metadata": {},
   "outputs": [],
   "source": [
    "import numpy as np\n",
    "import astropy.units as u\n",
    "from astropy.coordinates import SkyCoord\n",
    "\n",
    "# %matplotlib inline\n",
    "import matplotlib.pyplot as plt"
   ]
  },
  {
   "cell_type": "markdown",
   "metadata": {},
   "source": [
    "## Setup\n",
    "\n",
    "As usual, we’ll start with some setup …\n",
    "\n",
    "\n"
   ]
  },
  {
   "cell_type": "code",
   "execution_count": 3,
   "metadata": {},
   "outputs": [],
   "source": [
    "from IPython.display import display\n",
    "from gammapy.data import Observation, observatory_locations\n",
    "from gammapy.datasets import SpectrumDataset, SpectrumDatasetOnOff\n",
    "from gammapy.estimators import SensitivityEstimator\n",
    "from gammapy.irf import load_cta_irfs\n",
    "from gammapy.makers import SpectrumDatasetMaker\n",
    "from gammapy.maps import MapAxis, RegionGeom"
   ]
  },
  {
   "cell_type": "markdown",
   "metadata": {},
   "source": [
    "## Check setup\n",
    "\n"
   ]
  },
  {
   "cell_type": "code",
   "execution_count": 4,
   "metadata": {},
   "outputs": [
    {
     "name": "stdout",
     "output_type": "stream",
     "text": [
      "\n",
      "System:\n",
      "\n",
      "\tpython_executable      : /home/gamma/anaconda3/envs/gammapy-1.0.1/bin/python \n",
      "\tpython_version         : 3.9.16     \n",
      "\tmachine                : x86_64     \n",
      "\tsystem                 : Linux      \n",
      "\n",
      "\n",
      "Gammapy package:\n",
      "\n",
      "\tversion                : 1.0.1      \n",
      "\tpath                   : /home/gamma/anaconda3/envs/gammapy-1.0.1/lib/python3.9/site-packages/gammapy \n",
      "\n",
      "\n",
      "Other packages:\n",
      "\n",
      "\tnumpy                  : 1.24.2     \n",
      "\tscipy                  : 1.10.1     \n",
      "\tastropy                : 5.1.1      \n",
      "\tregions                : 0.7        \n",
      "\tclick                  : 8.1.3      \n",
      "\tyaml                   : 6.0        \n",
      "\tIPython                : 8.7.0      \n",
      "\tjupyterlab             : 3.5.3      \n",
      "\tmatplotlib             : 3.7.1      \n",
      "\tpandas                 : 1.5.2      \n",
      "\thealpy                 : 1.16.1     \n",
      "\timinuit                : 2.20.0     \n",
      "\tsherpa                 : 4.15.0     \n",
      "\tnaima                  : 0.10.0     \n",
      "\temcee                  : 3.1.3      \n",
      "\tcorner                 : 2.2.1      \n",
      "\n",
      "\n",
      "Gammapy environment variables:\n",
      "\n",
      "\tGAMMAPY_DATA           : /home/gamma/Documents/GitHub/gammapy/gammapy-datasets/1.0.1 \n",
      "\n"
     ]
    }
   ],
   "source": [
    "from gammapy.utils.check import check_tutorials_setup\n",
    "\n",
    "check_tutorials_setup()"
   ]
  },
  {
   "cell_type": "markdown",
   "metadata": {},
   "source": [
    "## Define analysis region and energy binning\n",
    "\n",
    "Here we assume a source at 0.5 degree from pointing position. We perform\n",
    "a simple energy independent extraction for now with a radius of 0.1\n",
    "degree.\n",
    "\n",
    "\n"
   ]
  },
  {
   "cell_type": "code",
   "execution_count": 5,
   "metadata": {},
   "outputs": [],
   "source": [
    "energy_axis = MapAxis.from_energy_bounds(\"0.03 TeV\", \"30 TeV\", nbin=20)\n",
    "energy_axis_true = MapAxis.from_energy_bounds(\n",
    "    \"0.01 TeV\", \"100 TeV\", nbin=100, name=\"energy_true\"\n",
    ")\n",
    "\n",
    "geom = RegionGeom.create(\"icrs;circle(0, 0.5, 0.1)\", axes=[energy_axis])\n",
    "\n",
    "empty_dataset = SpectrumDataset.create(geom=geom, energy_axis_true=energy_axis_true)"
   ]
  },
  {
   "cell_type": "markdown",
   "metadata": {},
   "source": [
    "## Load IRFs and prepare dataset\n",
    "\n",
    "We extract the 1D IRFs from the full 3D IRFs provided by CTA.\n",
    "\n",
    "\n"
   ]
  },
  {
   "cell_type": "code",
   "execution_count": 6,
   "metadata": {},
   "outputs": [
    {
     "name": "stderr",
     "output_type": "stream",
     "text": [
      "WARNING: UnitsWarning: '1/s/MeV/sr' did not parse as fits unit: Numeric factor not supported by FITS If this is meant to be a custom unit, define it with 'u.def_unit'. To have it recognized inside a file reader or other code, enable it with 'u.add_enabled_units'. For details, see https://docs.astropy.org/en/latest/units/combining_and_defining.html [astropy.units.core]\n",
      "Invalid unit found in background table! Assuming (s-1 MeV-1 sr-1)\n"
     ]
    }
   ],
   "source": [
    "irfs = load_cta_irfs(\n",
    "    \"$GAMMAPY_DATA/cta-1dc/caldb/data/cta/1dc/bcf/South_z20_50h/irf_file.fits\"\n",
    ")\n",
    "location = observatory_locations[\"cta_south\"]\n",
    "pointing = SkyCoord(\"0 deg\", \"0 deg\")\n",
    "obs = Observation.create(\n",
    "    pointing=pointing, irfs=irfs, livetime=\"5 h\", location=location\n",
    ")\n",
    "\n",
    "spectrum_maker = SpectrumDatasetMaker(selection=[\"exposure\", \"edisp\", \"background\"])\n",
    "dataset = spectrum_maker.run(empty_dataset, obs)"
   ]
  },
  {
   "cell_type": "markdown",
   "metadata": {},
   "source": [
    "Now we correct for the energy dependent region size:\n",
    "\n",
    "\n"
   ]
  },
  {
   "cell_type": "code",
   "execution_count": 7,
   "metadata": {},
   "outputs": [],
   "source": [
    "containment = 0.68\n",
    "\n",
    "# correct exposure\n",
    "dataset.exposure *= containment\n",
    "\n",
    "# correct background estimation\n",
    "on_radii = obs.psf.containment_radius(\n",
    "    energy_true=energy_axis.center, offset=0.5 * u.deg, fraction=containment\n",
    ")\n",
    "factor = (1 - np.cos(on_radii)) / (1 - np.cos(geom.region.radius))\n",
    "dataset.background *= factor.value.reshape((-1, 1, 1))"
   ]
  },
  {
   "cell_type": "markdown",
   "metadata": {},
   "source": [
    "And finally define a `SpectrumDatasetOnOff` with an alpha of ``0.2``.\n",
    "The off counts are created from the background model:\n",
    "\n",
    "\n"
   ]
  },
  {
   "cell_type": "code",
   "execution_count": 8,
   "metadata": {},
   "outputs": [],
   "source": [
    "dataset_on_off = SpectrumDatasetOnOff.from_spectrum_dataset(\n",
    "    dataset=dataset, acceptance=1, acceptance_off=5\n",
    ")"
   ]
  },
  {
   "cell_type": "markdown",
   "metadata": {},
   "source": [
    "## Compute sensitivity\n",
    "\n",
    "We impose a minimal number of expected signal counts of 5 per bin and a\n",
    "minimal significance of 3 per bin. We assume an alpha of 0.2 (ratio\n",
    "between ON and OFF area). We then run the sensitivity estimator.\n",
    "\n",
    "\n"
   ]
  },
  {
   "cell_type": "code",
   "execution_count": 9,
   "metadata": {},
   "outputs": [],
   "source": [
    "sensitivity_estimator = SensitivityEstimator(\n",
    "    gamma_min=5, n_sigma=3, bkg_syst_fraction=0.10\n",
    ")\n",
    "sensitivity_table = sensitivity_estimator.run(dataset_on_off)"
   ]
  },
  {
   "cell_type": "markdown",
   "metadata": {},
   "source": [
    "## Results\n",
    "\n",
    "The results are given as an Astropy table. A column criterion allows to\n",
    "distinguish bins where the significance is limited by the signal\n",
    "statistical significance from bins where the sensitivity is limited by\n",
    "the number of signal counts. This is visible in the plot below.\n",
    "\n",
    "\n"
   ]
  },
  {
   "cell_type": "code",
   "execution_count": 10,
   "metadata": {},
   "outputs": [
    {
     "data": {
      "text/html": [
       "<div><i>Table length=20</i>\n",
       "<table id=\"table139773088656592\" class=\"table-striped table-bordered table-condensed\">\n",
       "<thead><tr><th>energy</th><th>e2dnde</th><th>excess</th><th>background</th><th>criterion</th></tr></thead>\n",
       "<thead><tr><th>TeV</th><th>erg / (cm2 s)</th><th></th><th></th><th></th></tr></thead>\n",
       "<thead><tr><th>float64</th><th>float64</th><th>float64</th><th>float64</th><th>bytes12</th></tr></thead>\n",
       "<tr><td>0.0356551</td><td>1.61512e-11</td><td>328.477</td><td>3284.77</td><td>bkg</td></tr>\n",
       "<tr><td>0.0503641</td><td>8.66737e-12</td><td>165.06</td><td>1650.6</td><td>bkg</td></tr>\n",
       "<tr><td>0.0711412</td><td>3.27253e-12</td><td>92.4984</td><td>756.756</td><td>significance</td></tr>\n",
       "<tr><td>0.10049</td><td>1.79729e-12</td><td>65.8637</td><td>376.563</td><td>significance</td></tr>\n",
       "<tr><td>0.141945</td><td>1.30282e-12</td><td>46.0027</td><td>178.563</td><td>significance</td></tr>\n",
       "<tr><td>0.200503</td><td>9.29846e-13</td><td>30.9746</td><td>77.2881</td><td>significance</td></tr>\n",
       "<tr><td>...</td><td>...</td><td>...</td><td>...</td><td>...</td></tr>\n",
       "<tr><td>4.48871</td><td>2.73642e-13</td><td>5</td><td>0.3196</td><td>gamma</td></tr>\n",
       "<tr><td>6.34047</td><td>3.57511e-13</td><td>5</td><td>0.18669</td><td>gamma</td></tr>\n",
       "<tr><td>8.95615</td><td>4.65419e-13</td><td>5</td><td>0.0845693</td><td>gamma</td></tr>\n",
       "<tr><td>12.6509</td><td>6.65067e-13</td><td>5</td><td>0.0447552</td><td>gamma</td></tr>\n",
       "<tr><td>17.8699</td><td>7.96271e-13</td><td>5</td><td>0.0266192</td><td>gamma</td></tr>\n",
       "<tr><td>25.2419</td><td>1.12581e-12</td><td>5</td><td>0.0126585</td><td>gamma</td></tr>\n",
       "</table></div>"
      ],
      "text/plain": [
       "<Table length=20>\n",
       "  energy      e2dnde     excess background  criterion  \n",
       "   TeV    erg / (cm2 s)                                \n",
       " float64     float64    float64  float64     bytes12   \n",
       "--------- ------------- ------- ---------- ------------\n",
       "0.0356551   1.61512e-11 328.477    3284.77          bkg\n",
       "0.0503641   8.66737e-12  165.06     1650.6          bkg\n",
       "0.0711412   3.27253e-12 92.4984    756.756 significance\n",
       "  0.10049   1.79729e-12 65.8637    376.563 significance\n",
       " 0.141945   1.30282e-12 46.0027    178.563 significance\n",
       " 0.200503   9.29846e-13 30.9746    77.2881 significance\n",
       "      ...           ...     ...        ...          ...\n",
       "  4.48871   2.73642e-13       5     0.3196        gamma\n",
       "  6.34047   3.57511e-13       5    0.18669        gamma\n",
       "  8.95615   4.65419e-13       5  0.0845693        gamma\n",
       "  12.6509   6.65067e-13       5  0.0447552        gamma\n",
       "  17.8699   7.96271e-13       5  0.0266192        gamma\n",
       "  25.2419   1.12581e-12       5  0.0126585        gamma"
      ]
     },
     "metadata": {},
     "output_type": "display_data"
    },
    {
     "data": {
      "text/plain": [
       "<matplotlib.legend.Legend at 0x7f1f754c6190>"
      ]
     },
     "execution_count": 10,
     "metadata": {},
     "output_type": "execute_result"
    },
    {
     "data": {
      "image/png": "[encoded data removed]",
      "text/plain": [
       "<Figure size 640x480 with 1 Axes>"
      ]
     },
     "metadata": {},
     "output_type": "display_data"
    }
   ],
   "source": [
    "# Show the results table\n",
    "display(sensitivity_table)\n",
    "\n",
    "# Save it to file (could use e.g. format of CSV or ECSV or FITS)\n",
    "# sensitivity_table.write('sensitivity.ecsv', format='ascii.ecsv')\n",
    "\n",
    "# Plot the sensitivity curve\n",
    "t = sensitivity_table\n",
    "\n",
    "is_s = t[\"criterion\"] == \"significance\"\n",
    "\n",
    "fig, ax = plt.subplots()\n",
    "ax.plot(\n",
    "    t[\"energy\"][is_s],\n",
    "    t[\"e2dnde\"][is_s],\n",
    "    \"s-\",\n",
    "    color=\"red\",\n",
    "    label=\"significance\",\n",
    ")\n",
    "\n",
    "is_g = t[\"criterion\"] == \"gamma\"\n",
    "ax.plot(t[\"energy\"][is_g], t[\"e2dnde\"][is_g], \"*-\", color=\"blue\", label=\"gamma\")\n",
    "is_bkg_syst = t[\"criterion\"] == \"bkg\"\n",
    "ax.plot(\n",
    "    t[\"energy\"][is_bkg_syst],\n",
    "    t[\"e2dnde\"][is_bkg_syst],\n",
    "    \"v-\",\n",
    "    color=\"green\",\n",
    "    label=\"bkg syst\",\n",
    ")\n",
    "\n",
    "ax.loglog()\n",
    "ax.set_xlabel(f\"Energy [{t['energy'].unit}]\")\n",
    "ax.set_ylabel(f\"Sensitivity [{t['e2dnde'].unit}]\")\n",
    "ax.legend()"
   ]
  },
  {
   "cell_type": "markdown",
   "metadata": {},
   "source": [
    "We add some control plots showing the expected number of background\n",
    "counts per bin and the ON region size cut (here the 68% containment\n",
    "radius of the PSF).\n",
    "\n",
    "\n"
   ]
  },
  {
   "cell_type": "code",
   "execution_count": 11,
   "metadata": {},
   "outputs": [
    {
     "data": {
      "image/png": "[encoded data removed]",
      "text/plain": [
       "<Figure size 640x480 with 2 Axes>"
      ]
     },
     "metadata": {},
     "output_type": "display_data"
    }
   ],
   "source": [
    "# Plot expected number of counts for signal and background\n",
    "fig, ax1 = plt.subplots()\n",
    "# ax1.plot( t[\"energy\"], t[\"excess\"],\"o-\", color=\"red\", label=\"signal\")\n",
    "ax1.plot(t[\"energy\"], t[\"background\"], \"o-\", color=\"black\", label=\"blackground\")\n",
    "\n",
    "ax1.loglog()\n",
    "ax1.set_xlabel(f\"Energy [{t['energy'].unit}]\")\n",
    "ax1.set_ylabel(\"Expected number of bkg counts\")\n",
    "\n",
    "ax2 = ax1.twinx()\n",
    "ax2.set_ylabel(f\"ON region radius [{on_radii.unit}]\", color=\"red\")\n",
    "ax2.semilogy(t[\"energy\"], on_radii, color=\"red\", label=\"PSF68\")\n",
    "ax2.tick_params(axis=\"y\", labelcolor=\"red\")\n",
    "ax2.set_ylim(0.01, 0.5)\n",
    "plt.show()"
   ]
  },
  {
   "cell_type": "markdown",
   "metadata": {},
   "source": [
    "## Exercises\n",
    "\n",
    "-  Also compute the sensitivity for a 20 hour observation\n",
    "-  Compare how the sensitivity differs between 5 and 20 hours by\n",
    "   plotting the ratio as a function of energy.\n",
    "\n",
    "\n"
   ]
  }
 ],
 "metadata": {
  "kernelspec": {
   "display_name": "Python 3 (ipykernel)",
   "language": "python",
   "name": "python3"
  },
  "language_info": {
   "codemirror_mode": {
    "name": "ipython",
    "version": 3
   },
   "file_extension": ".py",
   "mimetype": "text/x-python",
   "name": "python",
   "nbconvert_exporter": "python",
   "pygments_lexer": "ipython3",
   "version": "3.9.16"
  }
 },
 "nbformat": 4,
 "nbformat_minor": 1
}
