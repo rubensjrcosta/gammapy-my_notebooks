{
 "cells": [
  {
   "cell_type": "code",
   "execution_count": null,
   "metadata": {},
   "outputs": [],
   "source": [
    "%matplotlib inline"
   ]
  },
  {
   "cell_type": "markdown",
   "metadata": {},
   "source": [
    "\n",
    "# Spectral analysis\n",
    "\n",
    "Perform a full region based on-off spectral analysis and fit the resulting datasets.\n",
    "\n",
    "## Prerequisites\n",
    "\n",
    "-  Understanding how spectral extraction is performed in Cherenkov\n",
    "   astronomy, in particular regarding OFF background measurements.\n",
    "-  Understanding the basics data reduction and modeling/fitting process\n",
    "   with the gammapy library API as shown in the :doc:`/tutorials/starting/analysis_2`\n",
    "   tutorial.\n",
    "\n",
    "## Context\n",
    "\n",
    "While 3D analyses allow in principle to consider complex field of views\n",
    "containing overlapping gamma-ray sources, in many cases we might have an\n",
    "observation with a single, strong, point-like source in the field of\n",
    "view. A spectral analysis, in that case, might consider all the events\n",
    "inside a source (or ON) region and bin them in energy only, obtaining 1D\n",
    "datasets.\n",
    "\n",
    "In classical Cherenkov astronomy, the background estimation technique\n",
    "associated with this method measures the number of events in OFF regions\n",
    "taken in regions of the field-of-view devoid of gamma-ray emitters,\n",
    "where the background rate is assumed to be equal to the one in the ON\n",
    "region.\n",
    "\n",
    "This allows to use a specific fit statistics for ON-OFF measurements,\n",
    "the wstat (see `~gammapy.stats.wstat`), where no background model is\n",
    "assumed. Background is treated as a set of nuisance parameters. This\n",
    "removes some systematic effects connected to the choice or the quality\n",
    "of the background model. But this comes at the expense of larger\n",
    "statistical uncertainties on the fitted model parameters.\n",
    "\n",
    "**Objective: perform a full region based spectral analysis of 4 Crab\n",
    "observations of H.E.S.S. data release 1 and fit the resulting\n",
    "datasets.**\n",
    "\n",
    "## Introduction\n",
    "\n",
    "Here, as usual, we use the `~gammapy.data.DataStore` to retrieve a\n",
    "list of selected observations (`~gammapy.data.Observations`). Then, we\n",
    "define the ON region containing the source and the geometry of the\n",
    "`~gammapy.datasets.SpectrumDataset` object we want to produce. We then\n",
    "create the corresponding dataset Maker.\n",
    "\n",
    "We have to define the Maker object that will extract the OFF counts from\n",
    "reflected regions in the field-of-view. To ensure we use data in an\n",
    "energy range where the quality of the IRFs is good enough we also create\n",
    "a safe range Maker.\n",
    "\n",
    "We can then proceed with data reduction with a loop over all selected\n",
    "observations to produce datasets in the relevant geometry.\n",
    "\n",
    "We can then explore the resulting datasets and look at the cumulative\n",
    "signal and significance of our source. We finally proceed with model\n",
    "fitting.\n",
    "\n",
    "In practice, we have to:\n",
    "\n",
    "- Create a `~gammapy.data.DataStore` pointing to the relevant data\n",
    "- Apply an observation selection to produce a list of observations,\n",
    "  a `~gammapy.data.Observations` object.\n",
    "- Define a geometry of the spectrum we want to produce:\n",
    "\n",
    "  - Create a `~regions.CircleSkyRegion` for the ON extraction region\n",
    "  - Create a `~gammapy.maps.MapAxis` for the energy binnings: one for the\n",
    "    reconstructed (i.e.measured) energy, the other for the true energy\n",
    "    (i.e.the one used by IRFs and models)\n",
    "\n",
    "- Create the necessary makers :\n",
    "\n",
    "  - the spectrum dataset maker : `~gammapy.makers.SpectrumDatasetMaker` -\n",
    "    the OFF background maker, here a `~gammapy.makers.ReflectedRegionsBackgroundMaker`\n",
    "  - and the safe range maker : `~gammapy.makers.SafeMaskMaker`\n",
    "\n",
    "- Perform the data reduction loop. And for every observation:\n",
    "\n",
    "  - Apply the makers sequentially to produce a `~gammapy.datasets.SpectrumDatasetOnOff`\n",
    "  - Append it to list of datasets\n",
    "\n",
    "- Define the `~gammapy.modeling.models.SkyModel` to apply to the dataset.\n",
    "- Create a `~gammapy.modeling.Fit` object and run it to fit the model parameters\n",
    "- Apply a `~gammapy.estimators.FluxPointsEstimator` to compute flux points for\n",
    "  the spectral part of the fit.\n"
   ]
  },
  {
   "cell_type": "code",
   "execution_count": null,
   "metadata": {},
   "outputs": [],
   "source": [
    "from pathlib import Path\n",
    "\n",
    "# Check package versions\n",
    "import numpy as np\n",
    "import astropy.units as u\n",
    "from astropy.coordinates import Angle, SkyCoord\n",
    "from regions import CircleSkyRegion\n",
    "\n",
    "# %matplotlib inline\n",
    "import matplotlib.pyplot as plt"
   ]
  },
  {
   "cell_type": "markdown",
   "metadata": {},
   "source": [
    "## Setup\n",
    "\n",
    "As usual, we’ll start with some setup …\n",
    "\n",
    "\n"
   ]
  },
  {
   "cell_type": "code",
   "execution_count": null,
   "metadata": {},
   "outputs": [],
   "source": [
    "from IPython.display import display\n",
    "from gammapy.data import DataStore\n",
    "from gammapy.datasets import (\n",
    "    Datasets,\n",
    "    FluxPointsDataset,\n",
    "    SpectrumDataset,\n",
    "    SpectrumDatasetOnOff,\n",
    ")\n",
    "from gammapy.estimators import FluxPointsEstimator\n",
    "from gammapy.makers import (\n",
    "    ReflectedRegionsBackgroundMaker,\n",
    "    SafeMaskMaker,\n",
    "    SpectrumDatasetMaker,\n",
    ")\n",
    "from gammapy.maps import MapAxis, RegionGeom, WcsGeom\n",
    "from gammapy.modeling import Fit\n",
    "from gammapy.modeling.models import (\n",
    "    ExpCutoffPowerLawSpectralModel,\n",
    "    SkyModel,\n",
    "    create_crab_spectral_model,\n",
    ")"
   ]
  },
  {
   "cell_type": "markdown",
   "metadata": {},
   "source": [
    "## Check setup\n",
    "\n"
   ]
  },
  {
   "cell_type": "code",
   "execution_count": null,
   "metadata": {},
   "outputs": [],
   "source": [
    "from gammapy.utils.check import check_tutorials_setup\n",
    "from gammapy.visualization import plot_spectrum_datasets_off_regions\n",
    "\n",
    "check_tutorials_setup()"
   ]
  },
  {
   "cell_type": "markdown",
   "metadata": {},
   "source": [
    "## Load Data\n",
    "\n",
    "First, we select and load some H.E.S.S. observations of the Crab nebula\n",
    "(simulated events for now).\n",
    "\n",
    "We will access the events, effective area, energy dispersion, livetime\n",
    "and PSF for containement correction.\n",
    "\n",
    "\n"
   ]
  },
  {
   "cell_type": "code",
   "execution_count": null,
   "metadata": {},
   "outputs": [],
   "source": [
    "datastore = DataStore.from_dir(\"$GAMMAPY_DATA/hess-dl3-dr1/\")\n",
    "obs_ids = [23523, 23526, 23559, 23592]\n",
    "observations = datastore.get_observations(obs_ids)"
   ]
  },
  {
   "cell_type": "markdown",
   "metadata": {},
   "source": [
    "## Define Target Region\n",
    "\n",
    "The next step is to define a signal extraction region, also known as on\n",
    "region. In the simplest case this is just a\n",
    "[CircleSkyRegion](http://astropy-regions.readthedocs.io/en/latest/api/regions.CircleSkyRegion.html)_.\n",
    "\n",
    "\n"
   ]
  },
  {
   "cell_type": "code",
   "execution_count": null,
   "metadata": {},
   "outputs": [],
   "source": [
    "target_position = SkyCoord(ra=83.63, dec=22.01, unit=\"deg\", frame=\"icrs\")\n",
    "on_region_radius = Angle(\"0.11 deg\")\n",
    "on_region = CircleSkyRegion(center=target_position, radius=on_region_radius)"
   ]
  },
  {
   "cell_type": "markdown",
   "metadata": {},
   "source": [
    "## Create exclusion mask\n",
    "\n",
    "We will use the reflected regions method to place off regions to\n",
    "estimate the background level in the on region. To make sure the off\n",
    "regions don’t contain gamma-ray emission, we create an exclusion mask.\n",
    "\n",
    "Using http://gamma-sky.net/ we find that there’s only one known\n",
    "gamma-ray source near the Crab nebula: the AGN called [RGB\n",
    "J0521+212](http://gamma-sky.net/#/cat/tev/23)_ at GLON = 183.604 deg\n",
    "and GLAT = -8.708 deg.\n",
    "\n",
    "\n"
   ]
  },
  {
   "cell_type": "code",
   "execution_count": null,
   "metadata": {},
   "outputs": [],
   "source": [
    "exclusion_region = CircleSkyRegion(\n",
    "    center=SkyCoord(183.604, -8.708, unit=\"deg\", frame=\"galactic\"),\n",
    "    radius=0.5 * u.deg,\n",
    ")\n",
    "\n",
    "skydir = target_position.galactic\n",
    "geom = WcsGeom.create(\n",
    "    npix=(150, 150), binsz=0.05, skydir=skydir, proj=\"TAN\", frame=\"icrs\"\n",
    ")\n",
    "\n",
    "exclusion_mask = ~geom.region_mask([exclusion_region])\n",
    "exclusion_mask.plot()"
   ]
  },
  {
   "cell_type": "markdown",
   "metadata": {},
   "source": [
    "## Run data reduction chain\n",
    "\n",
    "We begin with the configuration of the maker classes:\n",
    "\n",
    "\n"
   ]
  },
  {
   "cell_type": "code",
   "execution_count": null,
   "metadata": {},
   "outputs": [],
   "source": [
    "energy_axis = MapAxis.from_energy_bounds(\n",
    "    0.1, 40, nbin=10, per_decade=True, unit=\"TeV\", name=\"energy\"\n",
    ")\n",
    "energy_axis_true = MapAxis.from_energy_bounds(\n",
    "    0.05, 100, nbin=20, per_decade=True, unit=\"TeV\", name=\"energy_true\"\n",
    ")\n",
    "\n",
    "geom = RegionGeom.create(region=on_region, axes=[energy_axis])\n",
    "dataset_empty = SpectrumDataset.create(geom=geom, energy_axis_true=energy_axis_true)\n",
    "\n",
    "dataset_maker = SpectrumDatasetMaker(\n",
    "    containment_correction=True, selection=[\"counts\", \"exposure\", \"edisp\"]\n",
    ")\n",
    "bkg_maker = ReflectedRegionsBackgroundMaker(exclusion_mask=exclusion_mask)\n",
    "safe_mask_masker = SafeMaskMaker(methods=[\"aeff-max\"], aeff_percent=10)"
   ]
  },
  {
   "cell_type": "code",
   "execution_count": null,
   "metadata": {},
   "outputs": [],
   "source": [
    "datasets = Datasets()\n",
    "\n",
    "for obs_id, observation in zip(obs_ids, observations):\n",
    "    dataset = dataset_maker.run(dataset_empty.copy(name=str(obs_id)), observation)\n",
    "    dataset_on_off = bkg_maker.run(dataset, observation)\n",
    "    dataset_on_off = safe_mask_masker.run(dataset_on_off, observation)\n",
    "    datasets.append(dataset_on_off)\n",
    "\n",
    "print(datasets)"
   ]
  },
  {
   "cell_type": "markdown",
   "metadata": {},
   "source": [
    "## Plot off regions\n",
    "\n",
    "\n"
   ]
  },
  {
   "cell_type": "code",
   "execution_count": null,
   "metadata": {},
   "outputs": [],
   "source": [
    "plt.figure()\n",
    "ax = exclusion_mask.plot()\n",
    "on_region.to_pixel(ax.wcs).plot(ax=ax, edgecolor=\"k\")\n",
    "plot_spectrum_datasets_off_regions(ax=ax, datasets=datasets)"
   ]
  },
  {
   "cell_type": "markdown",
   "metadata": {},
   "source": [
    "## Source statistic\n",
    "\n",
    "Next we’re going to look at the overall source statistics in our signal\n",
    "region.\n",
    "\n",
    "\n"
   ]
  },
  {
   "cell_type": "code",
   "execution_count": null,
   "metadata": {},
   "outputs": [],
   "source": [
    "info_table = datasets.info_table(cumulative=True)\n",
    "\n",
    "display(info_table)"
   ]
  },
  {
   "cell_type": "markdown",
   "metadata": {},
   "source": [
    "And make the correpsonding plots\n",
    "\n"
   ]
  },
  {
   "cell_type": "code",
   "execution_count": null,
   "metadata": {},
   "outputs": [],
   "source": [
    "fig, (ax_excess, ax_sqrt_ts) = plt.subplots(figsize=(10, 4), ncols=2, nrows=1)\n",
    "ax_excess.plot(\n",
    "    info_table[\"livetime\"].to(\"h\"),\n",
    "    info_table[\"excess\"],\n",
    "    marker=\"o\",\n",
    "    ls=\"none\",\n",
    ")\n",
    "\n",
    "ax_excess.set_title(\"Excess\")\n",
    "ax_excess.set_xlabel(\"Livetime [h]\")\n",
    "ax_excess.set_ylabel(\"Excess events\")\n",
    "\n",
    "ax_sqrt_ts.plot(\n",
    "    info_table[\"livetime\"].to(\"h\"),\n",
    "    info_table[\"sqrt_ts\"],\n",
    "    marker=\"o\",\n",
    "    ls=\"none\",\n",
    ")\n",
    "\n",
    "ax_sqrt_ts.set_title(\"Sqrt(TS)\")\n",
    "ax_sqrt_ts.set_xlabel(\"Livetime [h]\")\n",
    "ax_sqrt_ts.set_ylabel(\"Sqrt(TS)\")"
   ]
  },
  {
   "cell_type": "markdown",
   "metadata": {},
   "source": [
    "Finally you can write the extracted datasets to disk using the OGIP\n",
    "format (PHA, ARF, RMF, BKG, see\n",
    "[here](https://gamma-astro-data-formats.readthedocs.io/en/latest/spectra/ogip/index.html)_\n",
    "for details):\n",
    "\n",
    "\n"
   ]
  },
  {
   "cell_type": "code",
   "execution_count": null,
   "metadata": {},
   "outputs": [],
   "source": [
    "path = Path(\"spectrum_analysis\")\n",
    "path.mkdir(exist_ok=True)\n",
    "\n",
    "for dataset in datasets:\n",
    "    dataset.write(filename=path / f\"obs_{dataset.name}.fits.gz\", overwrite=True)"
   ]
  },
  {
   "cell_type": "markdown",
   "metadata": {},
   "source": [
    "If you want to read back the datasets from disk you can use:\n",
    "\n",
    "\n"
   ]
  },
  {
   "cell_type": "code",
   "execution_count": null,
   "metadata": {},
   "outputs": [],
   "source": [
    "datasets = Datasets()\n",
    "\n",
    "for obs_id in obs_ids:\n",
    "    filename = path / f\"obs_{obs_id}.fits.gz\"\n",
    "    datasets.append(SpectrumDatasetOnOff.read(filename))"
   ]
  },
  {
   "cell_type": "markdown",
   "metadata": {},
   "source": [
    "## Fit spectrum\n",
    "\n",
    "Now we’ll fit a global model to the spectrum. First we do a joint\n",
    "likelihood fit to all observations. If you want to stack the\n",
    "observations see below. We will also produce a debug plot in order to\n",
    "show how the global fit matches one of the individual observations.\n",
    "\n",
    "\n"
   ]
  },
  {
   "cell_type": "code",
   "execution_count": null,
   "metadata": {},
   "outputs": [],
   "source": [
    "spectral_model = ExpCutoffPowerLawSpectralModel(\n",
    "    amplitude=1e-12 * u.Unit(\"cm-2 s-1 TeV-1\"),\n",
    "    index=2,\n",
    "    lambda_=0.1 * u.Unit(\"TeV-1\"),\n",
    "    reference=1 * u.TeV,\n",
    ")\n",
    "model = SkyModel(spectral_model=spectral_model, name=\"crab\")\n",
    "\n",
    "datasets.models = [model]\n",
    "\n",
    "fit_joint = Fit()\n",
    "result_joint = fit_joint.run(datasets=datasets)\n",
    "\n",
    "# we make a copy here to compare it later\n",
    "model_best_joint = model.copy()"
   ]
  },
  {
   "cell_type": "markdown",
   "metadata": {},
   "source": [
    "## Fit quality and model residuals\n",
    "\n",
    "\n"
   ]
  },
  {
   "cell_type": "markdown",
   "metadata": {},
   "source": [
    "We can access the results dictionary to see if the fit converged:\n",
    "\n",
    "\n"
   ]
  },
  {
   "cell_type": "code",
   "execution_count": null,
   "metadata": {},
   "outputs": [],
   "source": [
    "print(result_joint)"
   ]
  },
  {
   "cell_type": "markdown",
   "metadata": {},
   "source": [
    "and check the best-fit parameters\n",
    "\n",
    "\n"
   ]
  },
  {
   "cell_type": "code",
   "execution_count": null,
   "metadata": {},
   "outputs": [],
   "source": [
    "display(result_joint.models.to_parameters_table())"
   ]
  },
  {
   "cell_type": "markdown",
   "metadata": {},
   "source": [
    "A simple way to inspect the model residuals is using the function\n",
    "`~SpectrumDataset.plot_fit()`\n",
    "\n",
    "\n"
   ]
  },
  {
   "cell_type": "code",
   "execution_count": null,
   "metadata": {},
   "outputs": [],
   "source": [
    "plt.figure()\n",
    "ax_spectrum, ax_residuals = datasets[0].plot_fit()\n",
    "ax_spectrum.set_ylim(0.1, 40)\n",
    "datasets[0].plot_masks(ax=ax_spectrum)"
   ]
  },
  {
   "cell_type": "markdown",
   "metadata": {},
   "source": [
    "For more ways of assessing fit quality, please refer to the dedicated\n",
    ":doc:`/tutorials/api/fitting` tutorial.\n",
    "\n",
    "\n"
   ]
  },
  {
   "cell_type": "markdown",
   "metadata": {},
   "source": [
    "## Compute Flux Points\n",
    "\n",
    "To round up our analysis we can compute flux points by fitting the norm\n",
    "of the global model in energy bands. We’ll use a fixed energy binning\n",
    "for now:\n",
    "\n",
    "\n"
   ]
  },
  {
   "cell_type": "code",
   "execution_count": null,
   "metadata": {},
   "outputs": [],
   "source": [
    "e_min, e_max = 0.7, 30\n",
    "energy_edges = np.geomspace(e_min, e_max, 11) * u.TeV"
   ]
  },
  {
   "cell_type": "markdown",
   "metadata": {},
   "source": [
    "Now we create an instance of the\n",
    "`~gammapy.estimators.FluxPointsEstimator`, by passing the dataset and\n",
    "the energy binning:\n",
    "\n",
    "\n"
   ]
  },
  {
   "cell_type": "code",
   "execution_count": null,
   "metadata": {},
   "outputs": [],
   "source": [
    "fpe = FluxPointsEstimator(\n",
    "    energy_edges=energy_edges, source=\"crab\", selection_optional=\"all\"\n",
    ")\n",
    "flux_points = fpe.run(datasets=datasets)"
   ]
  },
  {
   "cell_type": "markdown",
   "metadata": {},
   "source": [
    "Here is a the table of the resulting flux points:\n",
    "\n",
    "\n"
   ]
  },
  {
   "cell_type": "code",
   "execution_count": null,
   "metadata": {},
   "outputs": [],
   "source": [
    "display(flux_points.to_table(sed_type=\"dnde\", formatted=True))"
   ]
  },
  {
   "cell_type": "markdown",
   "metadata": {},
   "source": [
    "Now we plot the flux points and their likelihood profiles. For the\n",
    "plotting of upper limits we choose a threshold of TS < 4.\n",
    "\n",
    "\n"
   ]
  },
  {
   "cell_type": "code",
   "execution_count": null,
   "metadata": {},
   "outputs": [],
   "source": [
    "fig, ax = plt.subplots()\n",
    "flux_points.plot(ax=ax, sed_type=\"e2dnde\", color=\"darkorange\")\n",
    "flux_points.plot_ts_profiles(ax=ax, sed_type=\"e2dnde\")"
   ]
  },
  {
   "cell_type": "markdown",
   "metadata": {},
   "source": [
    "The final plot with the best fit model, flux points and residuals can be\n",
    "quickly made like this:\n",
    "\n",
    "\n"
   ]
  },
  {
   "cell_type": "code",
   "execution_count": null,
   "metadata": {},
   "outputs": [],
   "source": [
    "flux_points_dataset = FluxPointsDataset(data=flux_points, models=model_best_joint)\n",
    "flux_points_dataset.plot_fit()"
   ]
  },
  {
   "cell_type": "markdown",
   "metadata": {},
   "source": [
    "## Stack observations\n",
    "\n",
    "And alternative approach to fitting the spectrum is stacking all\n",
    "observations first and the fitting a model. For this we first stack the\n",
    "individual datasets:\n",
    "\n",
    "\n"
   ]
  },
  {
   "cell_type": "code",
   "execution_count": null,
   "metadata": {},
   "outputs": [],
   "source": [
    "dataset_stacked = Datasets(datasets).stack_reduce()"
   ]
  },
  {
   "cell_type": "markdown",
   "metadata": {},
   "source": [
    "Again we set the model on the dataset we would like to fit (in this case\n",
    "it’s only a single one) and pass it to the `~gammapy.modeling.Fit`\n",
    "object:\n",
    "\n",
    "\n"
   ]
  },
  {
   "cell_type": "code",
   "execution_count": null,
   "metadata": {},
   "outputs": [],
   "source": [
    "dataset_stacked.models = model\n",
    "stacked_fit = Fit()\n",
    "result_stacked = stacked_fit.run([dataset_stacked])\n",
    "\n",
    "# make a copy to compare later\n",
    "model_best_stacked = model.copy()\n",
    "\n",
    "print(result_stacked)"
   ]
  },
  {
   "cell_type": "markdown",
   "metadata": {},
   "source": [
    "And display the parameter table\n",
    "\n"
   ]
  },
  {
   "cell_type": "code",
   "execution_count": null,
   "metadata": {},
   "outputs": [],
   "source": [
    "display(model_best_joint.parameters.to_table())\n",
    "\n",
    "display(model_best_stacked.parameters.to_table())"
   ]
  },
  {
   "cell_type": "markdown",
   "metadata": {},
   "source": [
    "Finally, we compare the results of our stacked analysis to a previously\n",
    "published Crab Nebula Spectrum for reference. This is available in\n",
    "`~gammapy.modeling.models.create_crab_spectral_model`.\n",
    "\n",
    "\n"
   ]
  },
  {
   "cell_type": "code",
   "execution_count": null,
   "metadata": {},
   "outputs": [],
   "source": [
    "fig, ax = plt.subplots()\n",
    "\n",
    "plot_kwargs = {\n",
    "    \"energy_bounds\": [0.1, 30] * u.TeV,\n",
    "    \"sed_type\": \"e2dnde\",\n",
    "    \"yunits\": u.Unit(\"erg cm-2 s-1\"),\n",
    "    \"ax\": ax,\n",
    "}\n",
    "\n",
    "# plot stacked model\n",
    "model_best_stacked.spectral_model.plot(**plot_kwargs, label=\"Stacked analysis result\")\n",
    "model_best_stacked.spectral_model.plot_error(facecolor=\"blue\", alpha=0.3, **plot_kwargs)\n",
    "\n",
    "# plot joint model\n",
    "model_best_joint.spectral_model.plot(\n",
    "    **plot_kwargs, label=\"Joint analysis result\", ls=\"--\"\n",
    ")\n",
    "model_best_joint.spectral_model.plot_error(facecolor=\"orange\", alpha=0.3, **plot_kwargs)\n",
    "\n",
    "create_crab_spectral_model(\"hess_ecpl\").plot(\n",
    "    **plot_kwargs,\n",
    "    label=\"Crab reference\",\n",
    ")\n",
    "ax.legend()\n",
    "plt.show()\n",
    "\n",
    "# sphinx_gallery_thumbnail_number = 5"
   ]
  },
  {
   "cell_type": "markdown",
   "metadata": {},
   "source": [
    "## Exercises\n",
    "\n",
    "Now you have learned the basics of a spectral analysis with Gammapy. To\n",
    "practice you can continue with the following exercises:\n",
    "\n",
    "-  Fit a different spectral model to the data. You could try\n",
    "   `~gammapy.modeling.models.ExpCutoffPowerLawSpectralModel` or\n",
    "   `~gammapy.modeling.models.LogParabolaSpectralModel`.\n",
    "-  Compute flux points for the stacked dataset.\n",
    "-  Create a `~gammapy.datasets.FluxPointsDataset` with the flux points\n",
    "   you have computed for the stacked dataset and fit the flux points\n",
    "   again with obe of the spectral models. How does the result compare to\n",
    "   the best fit model, that was directly fitted to the counts data?\n",
    "\n",
    "\n"
   ]
  },
  {
   "cell_type": "markdown",
   "metadata": {},
   "source": [
    "## What next?\n",
    "\n",
    "The methods shown in this tutorial is valid for point-like or midly\n",
    "extended sources where we can assume that the IRF taken at the region\n",
    "center is valid over the whole region. If one wants to extract the 1D\n",
    "spectrum of a large source and properly average the response over the\n",
    "extraction region, one has to use a different approach explained in\n",
    "the :doc:`/tutorials/analysis-1d/extended_source_spectral_analysis`\n",
    "tutorial.\n",
    "\n",
    "\n"
   ]
  }
 ],
 "metadata": {
  "kernelspec": {
   "display_name": "Python 3 (ipykernel)",
   "language": "python",
   "name": "python3"
  },
  "language_info": {
   "codemirror_mode": {
    "name": "ipython",
    "version": 3
   },
   "file_extension": ".py",
   "mimetype": "text/x-python",
   "name": "python",
   "nbconvert_exporter": "python",
   "pygments_lexer": "ipython3",
   "version": "3.9.16"
  }
 },
 "nbformat": 4,
 "nbformat_minor": 1
}
