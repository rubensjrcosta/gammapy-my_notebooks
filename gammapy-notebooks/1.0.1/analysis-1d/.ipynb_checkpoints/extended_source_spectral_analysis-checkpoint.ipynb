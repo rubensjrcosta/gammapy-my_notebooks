{
 "cells": [
  {
   "cell_type": "code",
   "execution_count": null,
   "metadata": {},
   "outputs": [],
   "source": [
    "%matplotlib inline"
   ]
  },
  {
   "cell_type": "markdown",
   "metadata": {},
   "source": [
    "\n",
    "# Spectral analysis of extended sources\n",
    "\n",
    "Perform a spectral analysis of an extended source.\n",
    "\n",
    "## Prerequisites\n",
    "\n",
    "-  Understanding of spectral analysis techniques in classical Cherenkov\n",
    "   astronomy.\n",
    "-  Understanding the basic data reduction and modeling/fitting processes\n",
    "   with the gammapy library API as shown in the tutorial :doc:`/tutorials/starting/analysis_2`\n",
    "\n",
    "## Context\n",
    "\n",
    "Many VHE sources in the Galaxy are extended. Studying them with a 1D\n",
    "spectral analysis is more complex than studying point sources. One often\n",
    "has to use complex (i.e. non circular) regions and more importantly, one\n",
    "has to take into account the fact that the instrument response is non\n",
    "uniform over the selectred region. A typical example is given by the\n",
    "supernova remnant RX J1713-3935 which is nearly 1 degree in diameter.\n",
    "See the [following\n",
    "article](https://ui.adsabs.harvard.edu/abs/2018A%26A...612A...6H/abstract)_.\n",
    "\n",
    "**Objective: Measure the spectrum of RX J1713-3945 in a 1 degree region\n",
    "fully enclosing it.**\n",
    "\n",
    "## Proposed approach\n",
    "\n",
    "We have seen in the general presentation of the spectrum extraction for\n",
    "point sources (see :doc:`/tutorials/analysis-1d/spectral_analysis`\n",
    "tutorial) that Gammapy uses specific\n",
    "datasets makers to first produce reduced spectral data and then to\n",
    "extract OFF measurements with reflected background techniques: the\n",
    "`~gammapy.makers.SpectrumDatasetMaker` and the\n",
    "`~gammapy.makers.ReflectedRegionsBackgroundMaker`. However if the flag\n",
    "`use_region_center` is not set to `False`, the former simply\n",
    "computes the reduced IRFs at the center of the ON region (assumed to be\n",
    "circular).\n",
    "\n",
    "This is no longer valid for extended sources. To be able to compute\n",
    "average responses in the ON region, we can set\n",
    "`use_region_center=False` with the\n",
    "`~gammapy.makers.SpectrumDatasetMaker`, in which case the values of\n",
    "the IRFs are averaged over the entire region.\n",
    "\n",
    "In summary we have to:\n",
    "\n",
    "-  Define an ON region (a `~regions.SkyRegion`) fully enclosing the\n",
    "   source we want to study.\n",
    "-  Define a `~gammapy.maps.RegionGeom` with the ON region and the\n",
    "   required energy range (beware in particular, the true energy range).\n",
    "-  Create the necessary makers :\n",
    "\n",
    "   -  the spectrum dataset maker :\n",
    "      `~gammapy.makers.SpectrumDatasetMaker` with\n",
    "      `use_region_center=False`\n",
    "   -  the OFF background maker, here a\n",
    "      `~gammapy.makers.ReflectedRegionsBackgroundMaker`\n",
    "   -  and usually the safe range maker :\n",
    "      `~gammapy.makers.SafeMaskMaker`\n",
    "\n",
    "-  Perform the data reduction loop. And for every observation:\n",
    "\n",
    "   -  Produce a spectrum dataset\n",
    "   -  Extract the OFF data to produce a\n",
    "      `~gammapy.datasets.SpectrumDatasetOnOff` and compute a safe\n",
    "      range for it.\n",
    "   -  Stack or store the resulting spectrum dataset.\n",
    "\n",
    "-  Finally proceed with model fitting on the dataset as usual.\n",
    "\n",
    "Here, we will use the RX J1713-3945 observations from the H.E.S.S. first\n",
    "public test data release. The tutorial is implemented with the\n",
    "intermediate level API.\n",
    "\n",
    "## Setup\n",
    "\n",
    "As usual, we’ll start with some general imports…\n"
   ]
  },
  {
   "cell_type": "code",
   "execution_count": null,
   "metadata": {},
   "outputs": [],
   "source": [
    "import astropy.units as u\n",
    "from astropy.coordinates import Angle, SkyCoord\n",
    "from regions import CircleSkyRegion\n",
    "\n",
    "# %matplotlib inline\n",
    "import matplotlib.pyplot as plt\n",
    "from IPython.display import display\n",
    "from gammapy.data import DataStore\n",
    "from gammapy.datasets import Datasets, SpectrumDataset\n",
    "from gammapy.makers import (\n",
    "    ReflectedRegionsBackgroundMaker,\n",
    "    SafeMaskMaker,\n",
    "    SpectrumDatasetMaker,\n",
    ")\n",
    "from gammapy.maps import MapAxis, RegionGeom\n",
    "from gammapy.modeling import Fit\n",
    "from gammapy.modeling.models import PowerLawSpectralModel, SkyModel"
   ]
  },
  {
   "cell_type": "markdown",
   "metadata": {},
   "source": [
    "## Check setup\n",
    "\n"
   ]
  },
  {
   "cell_type": "code",
   "execution_count": null,
   "metadata": {},
   "outputs": [],
   "source": [
    "from gammapy.utils.check import check_tutorials_setup\n",
    "\n",
    "check_tutorials_setup()"
   ]
  },
  {
   "cell_type": "markdown",
   "metadata": {},
   "source": [
    "## Select the data\n",
    "\n",
    "We first set the datastore and retrieve a few observations from our\n",
    "source.\n",
    "\n",
    "\n"
   ]
  },
  {
   "cell_type": "code",
   "execution_count": null,
   "metadata": {},
   "outputs": [],
   "source": [
    "datastore = DataStore.from_dir(\"$GAMMAPY_DATA/hess-dl3-dr1/\")\n",
    "obs_ids = [20326, 20327, 20349, 20350, 20396, 20397]\n",
    "# In case you want to use all RX J1713 data in the HESS DR1\n",
    "# other_ids=[20421, 20422, 20517, 20518, 20519, 20521, 20898, 20899, 20900]\n",
    "\n",
    "observations = datastore.get_observations(obs_ids)"
   ]
  },
  {
   "cell_type": "markdown",
   "metadata": {},
   "source": [
    "## Prepare the datasets creation\n",
    "\n",
    "\n"
   ]
  },
  {
   "cell_type": "markdown",
   "metadata": {},
   "source": [
    "### Select the ON region\n",
    "\n",
    "Here we take a simple 1 degree circular region because it fits well with\n",
    "the morphology of RX J1713-3945. More complex regions could be used\n",
    "e.g. `~regions.EllipseSkyRegion` or `~regions.RectangleSkyRegion`.\n",
    "\n",
    "\n"
   ]
  },
  {
   "cell_type": "code",
   "execution_count": null,
   "metadata": {},
   "outputs": [],
   "source": [
    "target_position = SkyCoord(347.3, -0.5, unit=\"deg\", frame=\"galactic\")\n",
    "radius = Angle(\"0.5 deg\")\n",
    "on_region = CircleSkyRegion(target_position, radius)"
   ]
  },
  {
   "cell_type": "markdown",
   "metadata": {},
   "source": [
    "### Define the geometries\n",
    "\n",
    "This part is especially important. - We have to define first energy\n",
    "axes. They define the axes of the resulting\n",
    "`~gammapy.datasets.SpectrumDatasetOnOff`. In particular, we have to be\n",
    "careful to the true energy axis: it has to cover a larger range than the\n",
    "reconstructed energy one. - Then we define the region geometry itself\n",
    "from the on region.\n",
    "\n",
    "\n"
   ]
  },
  {
   "cell_type": "code",
   "execution_count": null,
   "metadata": {},
   "outputs": [],
   "source": [
    "# The binning of the final spectrum is defined here.\n",
    "energy_axis = MapAxis.from_energy_bounds(0.1, 40.0, 10, unit=\"TeV\")\n",
    "\n",
    "# Reduced IRFs are defined in true energy (i.e. not measured energy).\n",
    "energy_axis_true = MapAxis.from_energy_bounds(\n",
    "    0.05, 100, 30, unit=\"TeV\", name=\"energy_true\"\n",
    ")\n",
    "\n",
    "geom = RegionGeom(on_region, axes=[energy_axis])"
   ]
  },
  {
   "cell_type": "markdown",
   "metadata": {},
   "source": [
    "### Create the makers\n",
    "\n",
    "First we instantiate the target `~gammapy.datasets.SpectrumDataset`.\n",
    "\n",
    "\n"
   ]
  },
  {
   "cell_type": "code",
   "execution_count": null,
   "metadata": {},
   "outputs": [],
   "source": [
    "dataset_empty = SpectrumDataset.create(\n",
    "    geom=geom,\n",
    "    energy_axis_true=energy_axis_true,\n",
    ")"
   ]
  },
  {
   "cell_type": "markdown",
   "metadata": {},
   "source": [
    "Now we create its associated maker. Here we need to produce, counts,\n",
    "exposure and edisp (energy dispersion) entries. PSF and IRF background\n",
    "are not needed, therefore we don’t compute them.\n",
    "\n",
    "**IMPORTANT**: Note that `use_region_center` is set to `False`. This\n",
    "is necessary so that the `~gammapy.makers.SpectrumDatasetMaker`\n",
    "considers the whole region in the IRF computation and not only the\n",
    "center.\n",
    "\n",
    "\n"
   ]
  },
  {
   "cell_type": "code",
   "execution_count": null,
   "metadata": {},
   "outputs": [],
   "source": [
    "maker = SpectrumDatasetMaker(\n",
    "    selection=[\"counts\", \"exposure\", \"edisp\"], use_region_center=False\n",
    ")"
   ]
  },
  {
   "cell_type": "markdown",
   "metadata": {},
   "source": [
    "Now we create the OFF background maker for the spectra. If we have an\n",
    "exclusion region, we have to pass it here. We also define the safe range\n",
    "maker.\n",
    "\n",
    "\n"
   ]
  },
  {
   "cell_type": "code",
   "execution_count": null,
   "metadata": {},
   "outputs": [],
   "source": [
    "bkg_maker = ReflectedRegionsBackgroundMaker()\n",
    "safe_mask_maker = SafeMaskMaker(methods=[\"aeff-max\"], aeff_percent=10)"
   ]
  },
  {
   "cell_type": "markdown",
   "metadata": {},
   "source": [
    "## Perform the data reduction loop.\n",
    "\n",
    "We can now run over selected observations. For each of them, we: -\n",
    "create the `~gammapy.datasets.SpectrumDataset` - Compute the OFF via\n",
    "the reflected background method and create a\n",
    "`~gammapy.datasets.SpectrumDatasetOnOff` object - Run the safe mask\n",
    "maker on it - Add the `~gammapy.datasets.SpectrumDatasetOnOff` to the\n",
    "list.\n",
    "\n",
    "\n"
   ]
  },
  {
   "cell_type": "code",
   "execution_count": null,
   "metadata": {},
   "outputs": [],
   "source": [
    "datasets = Datasets()\n",
    "\n",
    "for obs in observations:\n",
    "    # A SpectrumDataset is filled in this geometry\n",
    "    dataset = maker.run(dataset_empty.copy(name=f\"obs-{obs.obs_id}\"), obs)\n",
    "\n",
    "    # Define safe mask\n",
    "    dataset = safe_mask_maker.run(dataset, obs)\n",
    "\n",
    "    # Compute OFF\n",
    "    dataset = bkg_maker.run(dataset, obs)\n",
    "\n",
    "    # Append dataset to the list\n",
    "    datasets.append(dataset)\n",
    "\n",
    "display(datasets.meta_table)"
   ]
  },
  {
   "cell_type": "markdown",
   "metadata": {},
   "source": [
    "## Explore the results\n",
    "\n",
    "We can peek at the content of the spectrum datasets\n",
    "\n",
    "\n"
   ]
  },
  {
   "cell_type": "code",
   "execution_count": null,
   "metadata": {},
   "outputs": [],
   "source": [
    "datasets[0].peek()"
   ]
  },
  {
   "cell_type": "markdown",
   "metadata": {},
   "source": [
    "### Cumulative excess and signficance\n",
    "\n",
    "Finally, we can look at cumulative significance and number of excesses.\n",
    "This is done with the `info_table` method of\n",
    "`~gammapy.datasets.Datasets`.\n",
    "\n",
    "\n"
   ]
  },
  {
   "cell_type": "code",
   "execution_count": null,
   "metadata": {},
   "outputs": [],
   "source": [
    "info_table = datasets.info_table(cumulative=True)\n",
    "\n",
    "display(info_table)"
   ]
  },
  {
   "cell_type": "markdown",
   "metadata": {},
   "source": [
    "And make the correponding plots\n",
    "\n"
   ]
  },
  {
   "cell_type": "code",
   "execution_count": null,
   "metadata": {},
   "outputs": [],
   "source": [
    "fig, (ax_excess, ax_sqrt_ts) = plt.subplots(figsize=(10, 4), ncols=2, nrows=1)\n",
    "ax_excess.plot(\n",
    "    info_table[\"livetime\"].to(\"h\"),\n",
    "    info_table[\"excess\"],\n",
    "    marker=\"o\",\n",
    "    ls=\"none\",\n",
    ")\n",
    "ax_excess.set_title(\"Excess\")\n",
    "ax_excess.set_xlabel(\"Livetime [h]\")\n",
    "ax_excess.set_ylabel(\"Excess events\")\n",
    "\n",
    "ax_sqrt_ts.plot(\n",
    "    info_table[\"livetime\"].to(\"h\"),\n",
    "    info_table[\"sqrt_ts\"],\n",
    "    marker=\"o\",\n",
    "    ls=\"none\",\n",
    ")\n",
    "\n",
    "ax_sqrt_ts.set_title(\"Sqrt(TS)\")\n",
    "ax_sqrt_ts.set_xlabel(\"Livetime [h]\")\n",
    "ax_sqrt_ts.set_ylabel(\"Sqrt(TS)\")"
   ]
  },
  {
   "cell_type": "markdown",
   "metadata": {},
   "source": [
    "## Perform spectral model fitting\n",
    "\n",
    "Here we perform a joint fit.\n",
    "\n",
    "We first create the model, here a simple powerlaw, and assign it to\n",
    "every dataset in the `~gammapy.datasets.Datasets`.\n",
    "\n",
    "\n"
   ]
  },
  {
   "cell_type": "code",
   "execution_count": null,
   "metadata": {},
   "outputs": [],
   "source": [
    "spectral_model = PowerLawSpectralModel(\n",
    "    index=2, amplitude=2e-11 * u.Unit(\"cm-2 s-1 TeV-1\"), reference=1 * u.TeV\n",
    ")\n",
    "model = SkyModel(spectral_model=spectral_model, name=\"RXJ 1713\")\n",
    "\n",
    "datasets.models = [model]"
   ]
  },
  {
   "cell_type": "markdown",
   "metadata": {},
   "source": [
    "Now we can run the fit\n",
    "\n",
    "\n"
   ]
  },
  {
   "cell_type": "code",
   "execution_count": null,
   "metadata": {},
   "outputs": [],
   "source": [
    "fit_joint = Fit()\n",
    "result_joint = fit_joint.run(datasets=datasets)\n",
    "print(result_joint)"
   ]
  },
  {
   "cell_type": "markdown",
   "metadata": {},
   "source": [
    "### Explore the fit results\n",
    "\n",
    "First the fitted parameters values and their errors.\n",
    "\n",
    "\n"
   ]
  },
  {
   "cell_type": "code",
   "execution_count": null,
   "metadata": {},
   "outputs": [],
   "source": [
    "display(datasets.models.to_parameters_table())"
   ]
  },
  {
   "cell_type": "markdown",
   "metadata": {},
   "source": [
    "Then plot the fit result to compare measured and expected counts. Rather\n",
    "than plotting them for each individual dataset, we stack all datasets\n",
    "and plot the fit result on the result.\n",
    "\n",
    "\n"
   ]
  },
  {
   "cell_type": "code",
   "execution_count": null,
   "metadata": {},
   "outputs": [],
   "source": [
    "# First stack them all\n",
    "reduced = datasets.stack_reduce()\n",
    "# Assign the fitted model\n",
    "reduced.models = model\n",
    "# Plot the result\n",
    "\n",
    "plt.figure()\n",
    "ax_spectrum, ax_residuals = reduced.plot_fit()\n",
    "reduced.plot_masks(ax=ax_spectrum)\n",
    "plt.show()"
   ]
  }
 ],
 "metadata": {
  "kernelspec": {
   "display_name": "Python 3 (ipykernel)",
   "language": "python",
   "name": "python3"
  },
  "language_info": {
   "codemirror_mode": {
    "name": "ipython",
    "version": 3
   },
   "file_extension": ".py",
   "mimetype": "text/x-python",
   "name": "python",
   "nbconvert_exporter": "python",
   "pygments_lexer": "ipython3",
   "version": "3.9.16"
  }
 },
 "nbformat": 4,
 "nbformat_minor": 1
}
