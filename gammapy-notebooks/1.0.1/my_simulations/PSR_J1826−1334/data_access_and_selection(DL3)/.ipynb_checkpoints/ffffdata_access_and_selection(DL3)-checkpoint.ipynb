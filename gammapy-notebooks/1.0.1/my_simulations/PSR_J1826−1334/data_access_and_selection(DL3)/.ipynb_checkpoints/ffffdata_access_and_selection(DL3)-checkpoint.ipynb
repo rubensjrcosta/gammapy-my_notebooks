{
 "cells": [
  {
   "cell_type": "markdown",
   "id": "79f8a70b",
   "metadata": {},
   "source": [
    "Notations\n",
    "\n",
    "We use the following variable names :\n",
    "\n",
    "....\n",
    "\n",
    "\n",
    "|Variable| Dataset attribute name |Definition | \n",
    "|:-|  :-|:- |\n",
    "|src|source | ... |\n",
    "|fp|flux points | ... |\n"
   ]
  },
  {
   "cell_type": "markdown",
   "id": "2d21a3ba",
   "metadata": {},
   "source": [
    "<a id='intro'></a>\n",
    "## Indice\n",
    "* [**1. Introduction**](#gammapy)\n",
    "\n",
    "* [**2. Setup**](#setup)\n",
    "* [**3. Data Access and Selection (DL3)**](#3.0)\n",
    "    * [**3.1 Gammapy Catalogs**](#3.1)\n",
    "    * [**3.2 LHASSO Data Published in the Nature**](#3.2)\n",
    "* [**4. Analysis**](#4)\n",
    "    * [**4.1 LHAASO J1825-1326: HESS 1825-137**](#4.1)\n",
    "    * [**4.2 LHAASO J1825-1326: HESS 1825-130**](#4.2)"
   ]
  },
  {
   "cell_type": "code",
   "execution_count": null,
   "id": "0f7dbb1c",
   "metadata": {},
   "outputs": [],
   "source": []
  },
  {
   "cell_type": "markdown",
   "id": "c632db26",
   "metadata": {},
   "source": [
    "<a id='setup'></a>\n",
    "🔝 [Back to Top](#intro)<br>\n",
    "## 2. Setup "
   ]
  },
  {
   "cell_type": "code",
   "execution_count": 1,
   "id": "43e95f5a",
   "metadata": {},
   "outputs": [
    {
     "name": "stdout",
     "output_type": "stream",
     "text": [
      "\n",
      "System:\n",
      "\n",
      "\tpython_executable      : /home/gamma/anaconda3/envs/gammapy-1.0.1/bin/python \n",
      "\tpython_version         : 3.9.16     \n",
      "\tmachine                : x86_64     \n",
      "\tsystem                 : Linux      \n",
      "\n",
      "\n",
      "Gammapy package:\n",
      "\n",
      "\tversion                : 1.0.1      \n",
      "\tpath                   : /home/gamma/anaconda3/envs/gammapy-1.0.1/lib/python3.9/site-packages/gammapy \n",
      "\n",
      "\n",
      "Other packages:\n",
      "\n",
      "\tnumpy                  : 1.24.2     \n",
      "\tscipy                  : 1.10.1     \n",
      "\tastropy                : 5.1.1      \n",
      "\tregions                : 0.7        \n",
      "\tclick                  : 8.1.3      \n",
      "\tyaml                   : 6.0        \n",
      "\tIPython                : 8.7.0      \n",
      "\tjupyterlab             : 3.5.3      \n",
      "\tmatplotlib             : 3.7.1      \n",
      "\tpandas                 : 1.5.2      \n",
      "\thealpy                 : 1.16.1     \n",
      "\timinuit                : 2.20.0     \n",
      "\tsherpa                 : 4.15.0     \n",
      "\tnaima                  : 0.10.0     \n",
      "\temcee                  : 3.1.3      \n",
      "\tcorner                 : 2.2.1      \n",
      "\n",
      "\n",
      "Gammapy environment variables:\n",
      "\n",
      "\tGAMMAPY_DATA           : /home/gamma/Documents/GitHub/gammapy/gammapy-datasets/1.0.1 \n",
      "\n"
     ]
    }
   ],
   "source": [
    "from gammapy.utils.check import check_tutorials_setup\n",
    "from gammapy.visualization.utils import plot_contour_line\n",
    "\n",
    "check_tutorials_setup()"
   ]
  },
  {
   "cell_type": "code",
   "execution_count": 12,
   "id": "5ce110db",
   "metadata": {},
   "outputs": [],
   "source": [
    "# !pip install dataframe-image"
   ]
  },
  {
   "cell_type": "code",
   "execution_count": 3,
   "id": "fa05df50",
   "metadata": {},
   "outputs": [],
   "source": [
    "# !pip install tabulate"
   ]
  },
  {
   "cell_type": "code",
   "execution_count": 13,
   "id": "7612898a",
   "metadata": {},
   "outputs": [],
   "source": [
    "# # to install the latest commit (from GitHub)\n",
    "# !pip install git+https://github.com/garrettj403/SciencePlots"
   ]
  },
  {
   "cell_type": "code",
   "execution_count": 2,
   "id": "c6e3efbf",
   "metadata": {},
   "outputs": [],
   "source": [
    "%matplotlib inline\n",
    "import matplotlib.pyplot as plt"
   ]
  },
  {
   "cell_type": "code",
   "execution_count": 3,
   "id": "65560660",
   "metadata": {},
   "outputs": [],
   "source": [
    "import scienceplots"
   ]
  },
  {
   "cell_type": "code",
   "execution_count": 4,
   "id": "27b35d1f",
   "metadata": {},
   "outputs": [],
   "source": [
    "# Making plots actually look nice\n",
    "plt.style.use(['science', 'notebook', 'grid'])"
   ]
  },
  {
   "cell_type": "code",
   "execution_count": 5,
   "id": "8667dee8",
   "metadata": {},
   "outputs": [],
   "source": [
    "# plt.style.available"
   ]
  },
  {
   "cell_type": "code",
   "execution_count": 6,
   "id": "3ac8a12e",
   "metadata": {},
   "outputs": [],
   "source": [
    "from gammapy.datasets import FluxPointsDataset, Datasets\n",
    "from gammapy.catalog import CATALOG_REGISTRY"
   ]
  },
  {
   "cell_type": "code",
   "execution_count": 7,
   "id": "eff6f5ad",
   "metadata": {},
   "outputs": [],
   "source": [
    "import os\n",
    "import sys\n",
    "import importlib\n",
    "\n",
    "modules_path = '../modules'\n",
    "\n",
    "module_path = os.path.abspath(f'{modules_path}/spectral_models')\n",
    "if module_path not in sys.path:\n",
    "    sys.path.append(module_path)\n",
    "\n",
    "import spectral_models\n",
    "importlib.reload(spectral_models)\n",
    "from spectral_models import pwl_model, get_source_data\n",
    "\n",
    "module_path = os.path.abspath(f'{modules_path}/utilities')\n",
    "if module_path not in sys.path:\n",
    "    sys.path.append(module_path)\n",
    "\n",
    "import utilities\n",
    "importlib.reload(utilities)\n",
    "from utilities import mkdir_sub_directory"
   ]
  },
  {
   "cell_type": "code",
   "execution_count": null,
   "id": "5c00ecbc",
   "metadata": {},
   "outputs": [],
   "source": []
  },
  {
   "cell_type": "code",
   "execution_count": null,
   "id": "a1236f88",
   "metadata": {},
   "outputs": [],
   "source": [
    "from astropy import units as u\n",
    "\n",
    "from gammapy.modeling import Fit\n",
    "from gammapy.modeling.models import (\n",
    "    Models,\n",
    "    SuperExpCutoffPowerLaw4FGLDR3SpectralModel,\n",
    "    ExpCutoffPowerLawSpectralModel,\n",
    "    LogParabolaSpectralModel,\n",
    "    PowerLawSpectralModel,\n",
    "    SkyModel,\n",
    ")"
   ]
  },
  {
   "cell_type": "code",
   "execution_count": null,
   "id": "0e28f3bd",
   "metadata": {
    "scrolled": true
   },
   "outputs": [],
   "source": []
  },
  {
   "cell_type": "code",
   "execution_count": null,
   "id": "8c2dc95a",
   "metadata": {},
   "outputs": [],
   "source": [
    "def source_identification(source_index = None):\n",
    "    '''\n",
    "    To write Docstring!!!!\n",
    "    '''\n",
    "    try: \n",
    "        \n",
    "        global PeVatron_name, PeVatron_txt \n",
    "        \n",
    "        PeVatron_name = df_fp[\"PeVatron_name\"][source_index]\n",
    "        PeVatron_txt = df_fp[\"PeVatron_txt\"][source_index]\n",
    "        \n",
    "        global counterpart_name, counterpart_txt\n",
    "        \n",
    "        counterpart_name = df_fp[\"counterpart_name\"][source_index]\n",
    "        counterpart_txt = df_fp[\"counterpart_txt\"][source_index] \n",
    "    \n",
    "    except:\n",
    "        print(\"Oops!  That was no valid index.  Try again...\")"
   ]
  },
  {
   "cell_type": "code",
   "execution_count": null,
   "id": "e0acd700",
   "metadata": {},
   "outputs": [],
   "source": [
    "# for i, dict_key in enumerate(list(dict_TeV_counterparts.keys())):\n",
    "#     print(dict_key)"
   ]
  },
  {
   "cell_type": "code",
   "execution_count": null,
   "id": "de476700",
   "metadata": {},
   "outputs": [],
   "source": [
    "# source = catalog_hgps['HESS J1826-130']\n"
   ]
  },
  {
   "cell_type": "code",
   "execution_count": null,
   "id": "7f57506f",
   "metadata": {},
   "outputs": [],
   "source": [
    "# source.data."
   ]
  },
  {
   "cell_type": "code",
   "execution_count": null,
   "id": "1bb3921b",
   "metadata": {
    "scrolled": true
   },
   "outputs": [],
   "source": [
    "# PeVatron_name ='LHAASO J1825-1326'\n",
    "# dict_TeV_counterparts[PeVatron_name]"
   ]
  },
  {
   "cell_type": "code",
   "execution_count": null,
   "id": "c8f069b3",
   "metadata": {},
   "outputs": [],
   "source": [
    "# import pandas library as pd\n",
    "\n",
    "import pandas as pd \n",
    "from gammapy.datasets import FluxPointsDataset\n",
    "from gammapy.catalog import CATALOG_REGISTRY\n",
    "import os\n",
    "import sys\n",
    "\n",
    "format_csv = \".csv\"\n",
    "format_fits = \".fits\"\n",
    "\n",
    "sed_type=\"e2dnde\"\n",
    "# sed_type=\"dnde\"\n",
    "\n",
    "df_columns=[]\n",
    "datasets_fp = []\n",
    "sources_catalogs = []\n",
    "  \n",
    "# create an Empty DataFrame object\n",
    "df = pd.DataFrame()\n",
    "\n",
    "\n",
    "def getting_source_data(dict_TeV_counterparts = None, catalogs_tags = None):\n",
    "    '''\n",
    "    To write Docstring!!!!\n",
    "    '''\n",
    "    \n",
    "#     LHAASO_range = range(len())\n",
    "    for PeVatron_name in list(dict_TeV_counterparts.keys()):\n",
    "#     for i in LHAASO_range:\n",
    "\n",
    "#         PeVatron_name = dict_key[i]\n",
    "        PeVatron_txt = PeVatron_name.replace(\" \", \"\")\n",
    "        \n",
    "#         source_range = range(len())\n",
    "        for counterpart_name in dict_TeV_counterparts[PeVatron_name]:\n",
    "            \n",
    "            counterpart_txt = counterpart_name.replace(\" \", \"\")\n",
    "\n",
    "            catalog_source = []\n",
    "\n",
    "            catalog_fp = []\n",
    "            \n",
    "            source_catalog = []\n",
    "\n",
    "            dataset_fp = []\n",
    "\n",
    "#             counterpart_name = dict_TeV_counterparts[PeVatron_name][j]\n",
    "            \n",
    "#             catalog_range = range(len(catalogs_tags))\n",
    "#             for k in catalog_range: \n",
    "            for catalog_tag in catalogs_tags:    \n",
    "#                 catalog_tag = catalogs_tags[k]\n",
    "\n",
    "                catalog = CATALOG_REGISTRY.get_cls(catalog_tag)()\n",
    "                \n",
    "                try:\n",
    "                    \n",
    "                    src = catalog[counterpart_name]\n",
    "                    \n",
    "                    catalog_source.append(catalog_tag)\n",
    "                    \n",
    "                    ds_name = f\"{counterpart_name}: {catalog_tag}\"\n",
    "                    ds = FluxPointsDataset(\n",
    "                        models = src.sky_model(),\n",
    "                        data=src.flux_points, \n",
    "                        name=  ds_name     \n",
    "                    )\n",
    "                    \n",
    "                    source_catalog.append(src)\n",
    "                    dataset_fp.append(ds)\n",
    "                    catalog_fp.append(catalog_tag)\n",
    "\n",
    "                    table = ds.data.to_table(\n",
    "                        sed_type = sed_type, \n",
    "                        formatted = True\n",
    "                    )\n",
    "                    \n",
    "                    # Setting the units\n",
    "                    \n",
    "                    # Writes the flux points table in the fits format\n",
    "                    file_name = f'{PeVatron_txt}_{counterpart_txt}_{catalog_tag}{format_fits}'\n",
    "                    path_os = os.path.abspath(\n",
    "                        os.path.join(\n",
    "                            f\"{path_flux_points_tables}/{file_name}\"\n",
    "                        )\n",
    "                    )      \n",
    "                    \n",
    "                    if path_os not in sys.path:\n",
    "                        sys.path.append(path_os)\n",
    "\n",
    "                    table.write(\n",
    "                        f\"{path_os}\",\n",
    "                        format = 'fits', \n",
    "                        overwrite = True\n",
    "                    )\n",
    "                    \n",
    "                    # Writes the flux points table in the csv format\n",
    "                    file_name = f'{PeVatron_txt}_{counterpart_txt}_{catalog_tag}{format_csv}'\n",
    "                    path_os = os.path.abspath(\n",
    "                        os.path.join(\n",
    "                            f\"{path_flux_points_tables}/{file_name}\"\n",
    "                        )\n",
    "                    )\n",
    "                     \n",
    "                    if path_os not in sys.path:\n",
    "                        sys.path.append(path_os)\n",
    "\n",
    "                    table.write(\n",
    "                        f\"{path_os}\",\n",
    "                        format = 'ascii.ecsv', \n",
    "                        overwrite = True\n",
    "                    )   \n",
    "                    \n",
    "                except:\n",
    "                    pass\n",
    "\n",
    "                df_columns_source = [PeVatron_name, PeVatron_txt, counterpart_name, counterpart_txt, catalog_source, catalog_fp]\n",
    "            df_columns.append(df_columns_source)\n",
    "            datasets_fp.append(dataset_fp)\n",
    "            sources_catalogs.append(source_catalog)\n",
    "\n",
    "    df = pd.DataFrame(df_columns, columns = ['PeVatron_name', \"PeVatron_txt\",'counterpart_name', \"counterpart_txt\", 'catalog', 'flux_points']) \n",
    "    df_fp = df[df[\"flux_points\"].str.len() != 0]\n",
    "    df_fp = df_fp.reset_index(drop = True)\n",
    "    df_fp.index.name = 'counterpart_index'\n",
    "    \n",
    "    file_name = \"data_frame_flux_points.csv\"\n",
    "    path_file = f\"{os.getcwd()}/{file_name}\"\n",
    "    df_fp.to_csv(path_file, index = \"True\" )\n",
    "    \n",
    "    df_no_fp = df[df[\"flux_points\"].str.len() == 0]\n",
    "    df_no_fp = df_no_fp.reset_index(drop = True)\n",
    "    df_no_fp.index.name = df_fp.index.name\n",
    "    \n",
    "    file_name = \"data_frame_no_flux_points.csv\"\n",
    "    path_file = f\"{os.getcwd()}/{file_name}\"\n",
    "    df_no_fp.to_csv(path_file, index = \"True\")\n",
    "    print(f\"Sources without flux points table: {list(df_no_fp['counterpart_name'])}\")\n",
    "    \n",
    "    sources_catalogs[:] = list(filter(None, sources_catalogs))\n",
    "    datasets_fp[:] = list(filter(None, datasets_fp))\n",
    "    \n",
    "    return df_fp, datasets_fp, sources_catalogs"
   ]
  },
  {
   "cell_type": "code",
   "execution_count": null,
   "id": "b78b6de0",
   "metadata": {},
   "outputs": [],
   "source": [
    "# from pandas import read_csv\n",
    "\n",
    "# myData = read_csv(f\"{os.getcwd()}/data_frame_flux_points.csv\", index_col = None)\n",
    "# myData"
   ]
  },
  {
   "cell_type": "code",
   "execution_count": null,
   "id": "59ede0e1",
   "metadata": {},
   "outputs": [],
   "source": [
    "# to get the current working directory\n",
    "directory = os.getcwd()\n",
    "\n",
    "print(directory)"
   ]
  },
  {
   "cell_type": "code",
   "execution_count": null,
   "id": "23bdf1f0",
   "metadata": {},
   "outputs": [],
   "source": [
    "import os"
   ]
  },
  {
   "cell_type": "code",
   "execution_count": null,
   "id": "2bf6ef6c",
   "metadata": {},
   "outputs": [],
   "source": [
    "path_DL3 = os.getcwd()\n",
    "os.chdir('../')\n",
    "path_LHAASO = os.getcwd()\n",
    "os.chdir(path_DL3)\n",
    "\n",
    "file_name = \"paths.dat\"\n",
    "path_file = f\"{path_LHAASO}/{file_name}\"\n",
    "    \n",
    "with open(path_file, \"w\") as my_file: \n",
    "    my_file.write(f\"{path_LHAASO} \\n\")\n",
    "    my_file.write(f\"{path_file} \\n\")\n",
    "    my_file.write(f\"{path_DL3} \\n\")"
   ]
  },
  {
   "cell_type": "code",
   "execution_count": null,
   "id": "df00eff8",
   "metadata": {},
   "outputs": [],
   "source": [
    "# path_file"
   ]
  },
  {
   "cell_type": "code",
   "execution_count": null,
   "id": "1612cc35",
   "metadata": {
    "scrolled": false
   },
   "outputs": [],
   "source": [
    "# f\"{os.getcwd()}/data_frame_no_flux_points.csv\""
   ]
  },
  {
   "cell_type": "code",
   "execution_count": null,
   "id": "ab773f8a",
   "metadata": {},
   "outputs": [],
   "source": []
  },
  {
   "cell_type": "code",
   "execution_count": null,
   "id": "d2f8b9be",
   "metadata": {},
   "outputs": [],
   "source": []
  },
  {
   "cell_type": "markdown",
   "id": "6eb4bb2a",
   "metadata": {},
   "source": [
    "<a id='3.0'></a>\n",
    "🔝 [Back to Top](#intro)<br>\n",
    "## 3. Data Access and Selection (DL3) "
   ]
  },
  {
   "cell_type": "markdown",
   "id": "e7e7cf8c",
   "metadata": {},
   "source": [
    "<a id='3.1'></a>\n",
    "🔝 [Back to Top](#intro)<br>\n",
    "#### 3.1 Gammapy Catalogs\n",
    "Loading the catalogs and sources to be studied"
   ]
  },
  {
   "cell_type": "code",
   "execution_count": 11,
   "id": "775064cb",
   "metadata": {},
   "outputs": [
    {
     "name": "stdout",
     "output_type": "stream",
     "text": [
      "Registry\n",
      "--------\n",
      "\n",
      "SourceCatalogGammaCat: gamma-cat \n",
      "SourceCatalogHGPS    : hgps \n",
      "SourceCatalog2HWC    : 2hwc \n",
      "SourceCatalog3FGL    : 3fgl \n",
      "SourceCatalog4FGL    : 4fgl \n",
      "SourceCatalog2FHL    : 2fhl \n",
      "SourceCatalog3FHL    : 3fhl \n",
      "SourceCatalog3HWC    : 3hwc \n",
      "\n"
     ]
    }
   ],
   "source": [
    "print(CATALOG_REGISTRY)"
   ]
  },
  {
   "cell_type": "code",
   "execution_count": 15,
   "id": "f2534bfd",
   "metadata": {},
   "outputs": [],
   "source": [
    "catalogs_tags = [\"gamma-cat\", \"hgps\", \"2hwc\", \"3hwc\", \"3fgl\", \"4fgl\", \"2fhl\", \"3fhl\"] "
   ]
  },
  {
   "cell_type": "code",
   "execution_count": null,
   "id": "afa84cd7",
   "metadata": {},
   "outputs": [],
   "source": []
  },
  {
   "cell_type": "code",
   "execution_count": 16,
   "id": "c284a206",
   "metadata": {},
   "outputs": [],
   "source": [
    "# Loading the source catalogs\n",
    "catalogs_cls = []\n",
    "catalog_gammacat = CATALOG_REGISTRY.get_cls(catalogs_tags[0])()\n",
    "catalogs_cls.append(catalog_gammacat)\n",
    "\n",
    "catalog_hgps = CATALOG_REGISTRY.get_cls(catalogs_tags[1])()\n",
    "catalogs_cls.append(catalog_hgps)\n",
    "\n",
    "catalog_2hwc = CATALOG_REGISTRY.get_cls(catalogs_tags[2])()\n",
    "catalogs_cls.append(catalog_2hwc)\n",
    "\n",
    "catalog_3hwc = CATALOG_REGISTRY.get_cls(catalogs_tags[3])()\n",
    "catalogs_cls.append(catalog_3hwc)\n",
    "\n",
    "catalog_3fgl = CATALOG_REGISTRY.get_cls(catalogs_tags[4])()\n",
    "catalogs_cls.append(catalog_3fgl)\n",
    "\n",
    "catalog_4fgl = CATALOG_REGISTRY.get_cls(catalogs_tags[5])()\n",
    "catalogs_cls.append(catalog_4fgl)\n",
    "\n",
    "catalog_2fhl = CATALOG_REGISTRY.get_cls(catalogs_tags[6])()\n",
    "catalogs_cls.append(catalog_2fhl)\n",
    "\n",
    "catalog_3fhl = CATALOG_REGISTRY.get_cls(catalogs_tags[7])()\n",
    "catalogs_cls.append(catalog_3fhl)\n"
   ]
  },
  {
   "cell_type": "code",
   "execution_count": 17,
   "id": "4a6b0710",
   "metadata": {
    "scrolled": true
   },
   "outputs": [
    {
     "name": "stdout",
     "output_type": "stream",
     "text": [
      "gamma-cat: An open catalog of gamma-ray sources\n",
      "hgps: H.E.S.S. Galactic plane survey (HGPS) source catalog\n",
      "2hwc: 2HWC catalog from the HAWC observatory\n",
      "3hwc: 3HWC catalog from the HAWC observatory\n",
      "3fgl: LAT 4-year point source catalog\n",
      "4fgl: LAT 8-year point source catalog\n",
      "2fhl: LAT second high-energy source catalog\n",
      "3fhl: LAT third high-energy source catalog\n"
     ]
    }
   ],
   "source": [
    "for catalog in catalogs_cls:\n",
    "    print(f\"{catalog.tag}: {catalog.description}\")"
   ]
  },
  {
   "cell_type": "markdown",
   "id": "6248009f",
   "metadata": {},
   "source": [
    "see [gammapy.catalog Package](https://docs.gammapy.org/1.0.1/api-reference/catalog.html)"
   ]
  },
  {
   "cell_type": "code",
   "execution_count": null,
   "id": "ed51d8f1",
   "metadata": {},
   "outputs": [],
   "source": [
    "help(CATALOG_REGISTRY)"
   ]
  },
  {
   "cell_type": "markdown",
   "id": "e957750b",
   "metadata": {},
   "source": [
    "<a id='3.2'></a>\n",
    "🔝 [Back to Top](#intro)<br>\n",
    "#### 3.2 Gammapy Catalogs\n",
    "Loading the catalogs and sources to be studied"
   ]
  },
  {
   "cell_type": "code",
   "execution_count": null,
   "id": "f41d1454",
   "metadata": {},
   "outputs": [],
   "source": [
    "# Creating a dictionary of the Potential TeV Counterparts (dict values) \n",
    "# of the three most significant (excluding Crab) LHASSO observations (dict keys)\n",
    "# see https://www.nature.com/articles/s41586-021-03498-z\n",
    "dict_TeV_counterparts = {\n",
    "    \"LHAASO J1825-1326\": [\"HESS J1825-137\", \"HESS J1826-130\", \"2HWC J1825-134\"], \n",
    "    \"LHAASO J1908+0621\": [\"MGRO J1908+06\" , \"HESS J1908+063\", \"ARGO J1907+0627\", \"VER J1907+062\", \"2HWC J1908+063\"], \n",
    "    \"LHAASO J2226+6057\": [\"VER J2227+608\"  , \"Boomerang\"]\n",
    "}"
   ]
  },
  {
   "cell_type": "code",
   "execution_count": null,
   "id": "45eea7dc",
   "metadata": {
    "scrolled": true
   },
   "outputs": [],
   "source": [
    "# Creating the directories to save the flux points tables from Gammapy catalogs\n",
    "dir_flux_points_tables = \"flux_points_tables\"\n",
    "\n",
    "path_flux_points_tables = mkdir_sub_directory(\n",
    "    dir_flux_points_tables\n",
    ")"
   ]
  },
  {
   "cell_type": "code",
   "execution_count": null,
   "id": "2a04ce97",
   "metadata": {
    "scrolled": true
   },
   "outputs": [],
   "source": [
    "# Getting the data of the sources from the catalogs of the Gammapy package\n",
    "df_fp, datasets_fp, sources_catalogs = getting_source_data(dict_TeV_counterparts, catalogs_tags)"
   ]
  },
  {
   "cell_type": "code",
   "execution_count": null,
   "id": "ef52fae8",
   "metadata": {},
   "outputs": [],
   "source": [
    "df_fp"
   ]
  },
  {
   "cell_type": "code",
   "execution_count": null,
   "id": "63a3243b",
   "metadata": {},
   "outputs": [],
   "source": [
    "df_fp[['PeVatron_name','counterpart_name','flux_points']]"
   ]
  },
  {
   "cell_type": "code",
   "execution_count": null,
   "id": "da02c715",
   "metadata": {},
   "outputs": [],
   "source": [
    "import dataframe_image as dfi\n",
    "dfi.export(df_fp[['PeVatron_name','counterpart_name','flux_points']], 'df_fp.png')"
   ]
  },
  {
   "cell_type": "code",
   "execution_count": null,
   "id": "6cc8c180",
   "metadata": {},
   "outputs": [],
   "source": [
    "import numpy as np\n",
    "import astropy.units as u\n",
    "\n",
    "# %matplotlib inline\n",
    "import matplotlib.pyplot as plt\n",
    "from IPython.display import display\n",
    "from gammapy.catalog import CATALOG_REGISTRY\n",
    "\n",
    "from pandas import read_csv"
   ]
  },
  {
   "cell_type": "code",
   "execution_count": null,
   "id": "b1cdb863",
   "metadata": {},
   "outputs": [],
   "source": [
    "counterpart_name = list(dict_TeV_counterparts.values())[0][0]"
   ]
  },
  {
   "cell_type": "code",
   "execution_count": null,
   "id": "3833ab09",
   "metadata": {
    "scrolled": false
   },
   "outputs": [],
   "source": [
    "print(df_fp[['PeVatron_name','counterpart_name','flux_points']].to_latex(index=False)) "
   ]
  },
  {
   "cell_type": "code",
   "execution_count": null,
   "id": "913e562a",
   "metadata": {},
   "outputs": [],
   "source": []
  },
  {
   "cell_type": "code",
   "execution_count": null,
   "id": "5f7cbb59",
   "metadata": {},
   "outputs": [],
   "source": [
    "\n",
    "df_no_pf = read_csv(f\"{os.getcwd()}/data_frame_no_flux_points.csv\", index_col = 'counterpart_index')\n",
    "df_no_pf"
   ]
  },
  {
   "cell_type": "code",
   "execution_count": null,
   "id": "fe688e0d",
   "metadata": {
    "scrolled": true
   },
   "outputs": [],
   "source": [
    "print(df_no_pf[['PeVatron_name','counterpart_name', 'catalog']].to_latex(index=False)) "
   ]
  },
  {
   "cell_type": "code",
   "execution_count": null,
   "id": "9b705612",
   "metadata": {},
   "outputs": [],
   "source": [
    "dict_TeV_counterparts"
   ]
  },
  {
   "cell_type": "code",
   "execution_count": null,
   "id": "9dabc839",
   "metadata": {},
   "outputs": [],
   "source": [
    "print(catalog_2fhl[\"HESS J1825-137\"])"
   ]
  },
  {
   "cell_type": "code",
   "execution_count": 38,
   "id": "553c8bed",
   "metadata": {},
   "outputs": [
    {
     "data": {
      "text/plain": [
       "'LHAASO_J1825-1326'"
      ]
     },
     "execution_count": 38,
     "metadata": {},
     "output_type": "execute_result"
    }
   ],
   "source": [
    "PeVatron_name = 'LHAASO J1825-1326'\n",
    "PeVatron_txt = PeVatron_name.replace(\" \", \"_\")\n",
    "PeVatron_name, PeVatron_txt"
   ]
  },
  {
   "cell_type": "code",
   "execution_count": 47,
   "id": "41ece705",
   "metadata": {
    "scrolled": true
   },
   "outputs": [
    {
     "data": {
      "text/plain": [
       "<SkyCoord (ICRS): (ra, dec) in deg\n",
       "    (276.45, -13.45)>"
      ]
     },
     "execution_count": 47,
     "metadata": {},
     "output_type": "execute_result"
    }
   ],
   "source": [
    "from astropy.coordinates import SkyCoord\n",
    "\n",
    "source_position\n",
    "# Cao, Z., Aharonian, F.A., An, Q. et al. Ultrahigh-energy photons up to 1.4 petaelectronvolts from 12 γ-ray Galactic sources. Nature 594, 33–36 (2021). https://doi.org/10.1038/s41586-021-03498-z\n",
    "\n",
    "src_RA = 276.45 # Right ascension (degrees)\n",
    "src_dec = -13.45 # Declination (degrees)\n",
    "\n",
    "    \n",
    "# LHAASO J1825-1326: 276.45,-13.45\n",
    "source_position = SkyCoord(src_RA, src_dec, unit='deg') \n",
    "source_position"
   ]
  },
  {
   "cell_type": "code",
   "execution_count": null,
   "id": "3c5b1f12",
   "metadata": {},
   "outputs": [],
   "source": []
  },
  {
   "cell_type": "code",
   "execution_count": 48,
   "id": "f00cabf6",
   "metadata": {},
   "outputs": [],
   "source": [
    "# The angle that defines the region, centered in the LHAASO source position, to search for possible counterparts\n",
    "angle_reg = 1 * u.deg"
   ]
  },
  {
   "cell_type": "code",
   "execution_count": 49,
   "id": "a8961ef6",
   "metadata": {
    "scrolled": true
   },
   "outputs": [
    {
     "data": {
      "text/html": [
       "<div><i>Table length=2</i>\n",
       "<table id=\"table139981063718752\" class=\"table-striped table-bordered table-condensed\">\n",
       "<thead><tr><th>source_id</th><th>common_name</th><th>gamma_names</th><th>fermi_names</th><th>other_names</th><th>where</th><th>classes</th><th>discoverer</th><th>seen_by</th><th>discovery_date</th><th>tevcat_id</th><th>tevcat2_id</th><th>tevcat_name</th><th>tgevcat_id</th><th>tgevcat_name</th><th>reference_id</th><th>significance</th><th>livetime</th><th>ra</th><th>dec</th><th>glon</th><th>glat</th><th>pos_ra</th><th>pos_dec</th><th>pos_glon</th><th>pos_glat</th><th>pos_err</th><th>morph_type</th><th>morph_sigma</th><th>morph_sigma_err</th><th>morph_sigma2</th><th>morph_sigma2_err</th><th>morph_pa</th><th>morph_pa_err</th><th>morph_pa_frame</th><th>spec_type</th><th>spec_pl_norm</th><th>spec_pl_norm_err</th><th>spec_pl_norm_err_sys</th><th>spec_pl_index</th><th>spec_pl_index_err</th><th>spec_pl_index_err_sys</th><th>spec_pl_e_ref</th><th>spec_pl2_flux</th><th>spec_pl2_flux_err</th><th>spec_pl2_flux_err_sys</th><th>spec_pl2_index</th><th>spec_pl2_index_err</th><th>spec_pl2_index_err_sys</th><th>spec_pl2_e_min</th><th>spec_pl2_e_max</th><th>spec_ecpl_norm</th><th>spec_ecpl_norm_err</th><th>spec_ecpl_norm_err_sys</th><th>spec_ecpl_index</th><th>spec_ecpl_index_err</th><th>spec_ecpl_index_err_sys</th><th>spec_ecpl_e_cut</th><th>spec_ecpl_e_cut_err</th><th>spec_ecpl_e_cut_err_sys</th><th>spec_ecpl_e_ref</th><th>spec_erange_min</th><th>spec_erange_max</th><th>spec_theta</th><th>spec_dnde_1TeV</th><th>spec_dnde_1TeV_err</th><th>spec_flux_1TeV</th><th>spec_flux_1TeV_err</th><th>spec_flux_1TeV_crab</th><th>spec_flux_1TeV_crab_err</th><th>spec_eflux_1TeV_10TeV</th><th>spec_eflux_1TeV_10TeV_err</th><th>sed_reference_id</th><th>sed_n_points</th><th>sed_n_ul</th><th>sed_e_ref</th><th>sed_e_min</th><th>sed_e_max</th><th>sed_dnde</th><th>sed_dnde_err</th><th>sed_dnde_errp</th><th>sed_dnde_errn</th><th>sed_dnde_ul</th></tr></thead>\n",
       "<thead><tr><th></th><th></th><th></th><th></th><th></th><th></th><th></th><th></th><th></th><th></th><th></th><th></th><th></th><th></th><th></th><th></th><th></th><th>h</th><th>deg</th><th>deg</th><th>deg</th><th>deg</th><th>deg</th><th>deg</th><th>deg</th><th>deg</th><th>deg</th><th></th><th>deg</th><th>deg</th><th>deg</th><th>deg</th><th>deg</th><th>deg</th><th></th><th></th><th>1 / (cm2 s TeV)</th><th>1 / (cm2 s TeV)</th><th>1 / (cm2 s TeV)</th><th></th><th></th><th></th><th>TeV</th><th>1 / (cm2 s)</th><th>1 / (cm2 s)</th><th>1 / (cm2 s)</th><th></th><th></th><th></th><th>TeV</th><th>TeV</th><th>1 / (cm2 s TeV)</th><th>1 / (cm2 s TeV)</th><th>1 / (cm2 s TeV)</th><th></th><th></th><th></th><th>TeV</th><th>TeV</th><th>TeV</th><th>TeV</th><th>TeV</th><th>TeV</th><th>deg</th><th>1 / (cm2 s TeV)</th><th>1 / (cm2 s TeV)</th><th>1 / (cm2 s)</th><th>1 / (cm2 s)</th><th></th><th></th><th>erg / (cm2 s)</th><th>erg / (cm2 s)</th><th></th><th></th><th></th><th>TeV</th><th>TeV</th><th>TeV</th><th>1 / (cm2 s TeV)</th><th>1 / (cm2 s TeV)</th><th>1 / (cm2 s TeV)</th><th>1 / (cm2 s TeV)</th><th>1 / (cm2 s TeV)</th></tr></thead>\n",
       "<thead><tr><th>int32</th><th>bytes21</th><th>bytes76</th><th>bytes72</th><th>bytes73</th><th>bytes4</th><th>bytes11</th><th>bytes8</th><th>bytes35</th><th>bytes7</th><th>int64</th><th>bytes6</th><th>bytes14</th><th>int64</th><th>bytes14</th><th>bytes19</th><th>float32</th><th>float32</th><th>float32</th><th>float32</th><th>float32</th><th>float32</th><th>float32</th><th>float32</th><th>float32</th><th>float32</th><th>float32</th><th>bytes5</th><th>float32</th><th>float32</th><th>float32</th><th>float32</th><th>float32</th><th>float32</th><th>bytes8</th><th>bytes4</th><th>float32</th><th>float32</th><th>float32</th><th>float32</th><th>float32</th><th>float32</th><th>float32</th><th>float32</th><th>float32</th><th>float32</th><th>float32</th><th>float32</th><th>float32</th><th>float32</th><th>float32</th><th>float32</th><th>float32</th><th>float32</th><th>float32</th><th>float32</th><th>float32</th><th>float32</th><th>float32</th><th>float32</th><th>float32</th><th>float32</th><th>float32</th><th>float32</th><th>float32</th><th>float32</th><th>float32</th><th>float32</th><th>float32</th><th>float32</th><th>float32</th><th>float32</th><th>bytes19</th><th>int32</th><th>int32</th><th>float32[40]</th><th>float32[40]</th><th>float32[40]</th><th>float32[40]</th><th>float32[40]</th><th>float32[40]</th><th>float32[40]</th><th>float32[40]</th></tr></thead>\n",
       "<tr><td>161</td><td>HESS J1826-130</td><td>HESS J1826-130</td><td>--</td><td>PSR J1826-1256,PWN G018.5-00.4</td><td>gal</td><td>unid</td><td>hess</td><td>hess</td><td>2015-07</td><td>271</td><td>BpWYND</td><td>TeV J1826-130</td><td>-9223372036854775808</td><td>--</td><td>2017arXiv170107002A</td><td>21.0</td><td>206.0</td><td>276.50418</td><td>-13.09111</td><td>18.409912</td><td>-0.41967452</td><td>276.50082</td><td>-13.033334</td><td>18.459501</td><td>-0.3898485</td><td>0.0295804</td><td>gauss</td><td>0.17</td><td>0.02</td><td>--</td><td>--</td><td>--</td><td>--</td><td>--</td><td>ecpl</td><td>--</td><td>--</td><td>--</td><td>--</td><td>--</td><td>--</td><td>--</td><td>--</td><td>--</td><td>--</td><td>--</td><td>--</td><td>--</td><td>--</td><td>--</td><td>8.62e-13</td><td>7.3e-14</td><td>1.72e-13</td><td>1.61</td><td>0.11</td><td>0.2</td><td>12.5</td><td>4.0</td><td>--</td><td>1.0</td><td>--</td><td>--</td><td>0.22</td><td>7.957263e-13</td><td>7.039912e-14</td><td>8.987795e-13</td><td>1.414763e-13</td><td>4.332629</td><td>0.6819964</td><td>3.658115e-12</td><td>6.849412e-13</td><td>2017arXiv170107002A</td><td>22</td><td>1</td><td>0.5115 .. --</td><td>0.46417 .. --</td><td>0.56236 .. --</td><td>4e-12 .. --</td><td>-- .. --</td><td>1.084e-12 .. --</td><td>1.037e-12 .. --</td><td>-- .. --</td></tr>\n",
       "<tr><td>118</td><td>HESS J1825-137</td><td>HESS J1825-137,1HWC J1825-133</td><td>--</td><td>PSR J1826-1334,PSR B1823-13</td><td>gal</td><td>pwn</td><td>hess</td><td>hess,hawc</td><td>2005-03</td><td>115</td><td>xnwQAv</td><td>TeV J1826-137</td><td>118</td><td>TeV J1825-1350</td><td>2006A&amp;A...460..365A</td><td>33.8</td><td>52.1</td><td>276.5544</td><td>-13.58004</td><td>18.00018</td><td>-0.69092745</td><td>276.42084</td><td>-13.839167</td><td>17.710417</td><td>-0.697004</td><td>0.011023964</td><td>gauss</td><td>0.24</td><td>0.02</td><td>--</td><td>--</td><td>--</td><td>--</td><td>--</td><td>ecpl</td><td>--</td><td>--</td><td>--</td><td>--</td><td>--</td><td>--</td><td>--</td><td>--</td><td>--</td><td>--</td><td>--</td><td>--</td><td>--</td><td>--</td><td>--</td><td>2.1e-11</td><td>5e-13</td><td>--</td><td>2.26</td><td>0.03</td><td>--</td><td>24.8</td><td>7.2</td><td>--</td><td>1.0</td><td>0.27</td><td>--</td><td>0.8</td><td>2.017007e-11</td><td>5.351485e-13</td><td>1.4776536e-11</td><td>6.4688684e-13</td><td>71.23132</td><td>3.1183634</td><td>5.0830055e-11</td><td>2.7439834e-12</td><td>2006A&amp;A...460..365A</td><td>11</td><td>0</td><td>0.277619 .. --</td><td>-- .. --</td><td>-- .. --</td><td>3.4357e-10 .. --</td><td>-- .. --</td><td>2.25247e-11 .. --</td><td>2.25161e-11 .. --</td><td>-- .. --</td></tr>\n",
       "</table></div>"
      ],
      "text/plain": [
       "<Table length=2>\n",
       "source_id  common_name   ...   sed_dnde_errn     sed_dnde_ul  \n",
       "                         ...  1 / (cm2 s TeV)  1 / (cm2 s TeV)\n",
       "  int32      bytes21     ...    float32[40]      float32[40]  \n",
       "--------- -------------- ... ----------------- ---------------\n",
       "      161 HESS J1826-130 ...   1.037e-12 .. --        -- .. --\n",
       "      118 HESS J1825-137 ... 2.25161e-11 .. --        -- .. --"
      ]
     },
     "metadata": {},
     "output_type": "display_data"
    },
    {
     "data": {
      "text/html": [
       "<div><i>Table length=2</i>\n",
       "<table id=\"table139981063537136\" class=\"table-striped table-bordered table-condensed\">\n",
       "<thead><tr><th>Source_Name</th><th>Analysis_Reference</th><th>Source_Class</th><th>Identified_Object</th><th>Gamma_Cat_Source_ID</th><th>RAJ2000</th><th>DEJ2000</th><th>GLON</th><th>GLON_Err</th><th>GLAT</th><th>GLAT_Err</th><th>Pos_Err_68</th><th>Pos_Err_95</th><th>ROI_Number</th><th>Spatial_Model</th><th>Components</th><th>Sqrt_TS</th><th>Size</th><th>Size_Err</th><th>Size_UL</th><th>R70</th><th>RSpec</th><th>Excess_Model_Total</th><th>Excess_RSpec</th><th>Excess_RSpec_Model</th><th>Background_RSpec</th><th>Livetime</th><th>Energy_Threshold</th><th>Flux_Map</th><th>Flux_Map_Err</th><th>Flux_Map_RSpec_Data</th><th>Flux_Map_RSpec_Source</th><th>Flux_Map_RSpec_Other</th><th>Flux_Map_RSpec_LS</th><th>Flux_Map_RSpec_Total</th><th>Containment_RSpec</th><th>Contamination_RSpec</th><th>Flux_Correction_RSpec_To_Total</th><th>Livetime_Spec</th><th>Energy_Range_Spec_Min</th><th>Energy_Range_Spec_Max</th><th>Background_Spec</th><th>Excess_Spec</th><th>Spectral_Model</th><th>TS_ECPL_over_PL</th><th>Flux_Spec_Int_1TeV</th><th>Flux_Spec_Int_1TeV_Err</th><th>Flux_Spec_Energy_1_10_TeV</th><th>Flux_Spec_Energy_1_10_TeV_Err</th><th>Energy_Spec_PL_Pivot</th><th>Flux_Spec_PL_Diff_Pivot</th><th>Flux_Spec_PL_Diff_Pivot_Err</th><th>Flux_Spec_PL_Diff_1TeV</th><th>Flux_Spec_PL_Diff_1TeV_Err</th><th>Index_Spec_PL</th><th>Index_Spec_PL_Err</th><th>Energy_Spec_ECPL_Pivot</th><th>Flux_Spec_ECPL_Diff_Pivot</th><th>Flux_Spec_ECPL_Diff_Pivot_Err</th><th>Flux_Spec_ECPL_Diff_1TeV</th><th>Flux_Spec_ECPL_Diff_1TeV_Err</th><th>Index_Spec_ECPL</th><th>Index_Spec_ECPL_Err</th><th>Lambda_Spec_ECPL</th><th>Lambda_Spec_ECPL_Err</th><th>Flux_Spec_PL_Int_1TeV</th><th>Flux_Spec_PL_Int_1TeV_Err</th><th>Flux_Spec_ECPL_Int_1TeV</th><th>Flux_Spec_ECPL_Int_1TeV_Err</th><th>N_Flux_Points</th><th>Flux_Points_Energy</th><th>Flux_Points_Energy_Min</th><th>Flux_Points_Energy_Max</th><th>Flux_Points_Flux</th><th>Flux_Points_Flux_Err_Lo</th><th>Flux_Points_Flux_Err_Hi</th><th>Flux_Points_Flux_UL</th><th>Flux_Points_Flux_Is_UL</th></tr></thead>\n",
       "<thead><tr><th></th><th></th><th></th><th></th><th></th><th>deg</th><th>deg</th><th>deg</th><th>deg</th><th>deg</th><th>deg</th><th>deg</th><th>deg</th><th></th><th></th><th></th><th></th><th>deg</th><th>deg</th><th>deg</th><th>deg</th><th>deg</th><th></th><th></th><th></th><th></th><th>h</th><th>TeV</th><th>1 / (cm2 s)</th><th>1 / (cm2 s)</th><th>1 / (cm2 s)</th><th>1 / (cm2 s)</th><th>1 / (cm2 s)</th><th>1 / (cm2 s)</th><th>1 / (cm2 s)</th><th></th><th></th><th></th><th>h</th><th>TeV</th><th>TeV</th><th></th><th></th><th></th><th></th><th>1 / (cm2 s)</th><th>1 / (cm2 s)</th><th>erg / (cm2 s)</th><th>erg / (cm2 s)</th><th>TeV</th><th>1 / (cm2 s TeV)</th><th>1 / (cm2 s TeV)</th><th>1 / (cm2 s TeV)</th><th>1 / (cm2 s TeV)</th><th></th><th></th><th>TeV</th><th>1 / (cm2 s TeV)</th><th>1 / (cm2 s TeV)</th><th>1 / (cm2 s TeV)</th><th>1 / (cm2 s TeV)</th><th></th><th></th><th>1 / TeV</th><th>1 / TeV</th><th>1 / (cm2 s)</th><th>1 / (cm2 s)</th><th>1 / (cm2 s)</th><th>1 / (cm2 s)</th><th></th><th>TeV</th><th>TeV</th><th>TeV</th><th>1 / (cm2 s TeV)</th><th>1 / (cm2 s TeV)</th><th>1 / (cm2 s TeV)</th><th>1 / (cm2 s TeV)</th><th></th></tr></thead>\n",
       "<thead><tr><th>bytes16</th><th>bytes6</th><th>bytes10</th><th>bytes20</th><th>bytes7</th><th>float32</th><th>float32</th><th>float32</th><th>float32</th><th>float32</th><th>float32</th><th>float32</th><th>float32</th><th>int64</th><th>bytes18</th><th>bytes103</th><th>float32</th><th>float32</th><th>float32</th><th>float32</th><th>float32</th><th>float32</th><th>float32</th><th>float32</th><th>float32</th><th>float32</th><th>float32</th><th>float32</th><th>float32</th><th>float32</th><th>float32</th><th>float32</th><th>float32</th><th>float32</th><th>float32</th><th>float32</th><th>float32</th><th>float32</th><th>float32</th><th>float32</th><th>float32</th><th>float32</th><th>float32</th><th>bytes4</th><th>float32</th><th>float32</th><th>float32</th><th>float32</th><th>float32</th><th>float32</th><th>float32</th><th>float32</th><th>float32</th><th>float32</th><th>float32</th><th>float32</th><th>float32</th><th>float32</th><th>float32</th><th>float32</th><th>float32</th><th>float32</th><th>float32</th><th>float32</th><th>float32</th><th>float32</th><th>float32</th><th>float32</th><th>float32</th><th>int64</th><th>float32[40]</th><th>float32[40]</th><th>float32[40]</th><th>float32[40]</th><th>float32[40]</th><th>float32[40]</th><th>float32[40]</th><th>uint8[40]</th></tr></thead>\n",
       "<tr><td>HESS J1825-137</td><td>HGPS</td><td>PWN</td><td>PSR J1826-1334</td><td>118</td><td>276.25955</td><td>-13.965834</td><td>17.525293</td><td>0.08188217</td><td>-0.6177096</td><td>0.011102029</td><td>0.12531129</td><td>0.20318753</td><td>6</td><td>3-Gaussian</td><td>HGPSC 065, HGPSC 066, HGPSC 067</td><td>76.464096</td><td>0.4613328</td><td>0.03199799</td><td>--</td><td>0.70874697</td><td>0.5</td><td>18291.5</td><td>9525.467</td><td>9408.828</td><td>8608.533</td><td>109.093414</td><td>0.3962191</td><td>1.8408056e-11</td><td>5.558961e-13</td><td>8.9967166e-12</td><td>8.72374e-12</td><td>1.214668e-13</td><td>1.947474e-13</td><td>9.039954e-12</td><td>0.47390875</td><td>0.034979627</td><td>2.0363</td><td>12.521725</td><td>0.23713738</td><td>61.896584</td><td>5843.427</td><td>3129.5732</td><td>ECPL</td><td>11.391988</td><td>1.9150166e-11</td><td>1.846692e-12</td><td>6.6403015e-11</td><td>7.952373e-12</td><td>1.1561109</td><td>1.716532e-11</td><td>5.731118e-13</td><td>2.4232996e-11</td><td>8.1239583e-13</td><td>2.3770857</td><td>0.030754326</td><td>0.65012896</td><td>6.946258e-11</td><td>2.854722e-12</td><td>2.5557462e-11</td><td>8.9952313e-13</td><td>2.1509936</td><td>0.06252628</td><td>0.0736742</td><td>0.021369955</td><td>1.7596003e-11</td><td>6.662307e-13</td><td>1.9150166e-11</td><td>1.846692e-12</td><td>6</td><td>0.3651741 .. --</td><td>0.23713738 .. --</td><td>0.56234133 .. --</td><td>2.3817817e-10 .. --</td><td>1.642453e-11 .. --</td><td>1.6535958e-11 .. --</td><td>2.7151786e-10 .. --</td><td>0 .. 0</td></tr>\n",
       "<tr><td>HESS J1826-130</td><td>HGPS</td><td>Unid</td><td>--</td><td>161</td><td>276.50873</td><td>-13.01738</td><td>18.477198</td><td>0.027765885</td><td>-0.38920334</td><td>0.02691068</td><td>0.059582993</td><td>0.09661158</td><td>6</td><td>Gaussian</td><td>HGPSC 068</td><td>9.415467</td><td>0.15234366</td><td>0.02082743</td><td>--</td><td>0.24898651</td><td>0.24898651</td><td>453.77756</td><td>541.79956</td><td>517.12085</td><td>1100.2004</td><td>83.22165</td><td>0.3962191</td><td>8.60917e-13</td><td>1.6662851e-13</td><td>9.571046e-13</td><td>6.0395677e-13</td><td>3.2579706e-13</td><td>8.9815694e-14</td><td>1.0195695e-12</td><td>0.70152724</td><td>0.40763554</td><td>0.84439266</td><td>7.040914</td><td>0.21544346</td><td>82.54042</td><td>774.3197</td><td>138.68028</td><td>PL</td><td>--</td><td>1.1410672e-12</td><td>1.6042182e-13</td><td>4.188119e-12</td><td>6.062467e-13</td><td>2.0558882</td><td>2.727714e-13</td><td>3.777238e-14</td><td>1.1836815e-12</td><td>1.8693714e-13</td><td>2.03654</td><td>0.10174274</td><td>--</td><td>--</td><td>--</td><td>--</td><td>--</td><td>--</td><td>--</td><td>--</td><td>--</td><td>1.1410672e-12</td><td>1.6042182e-13</td><td>--</td><td>--</td><td>6</td><td>0.3317671 .. --</td><td>0.21544346 .. --</td><td>0.510897 .. --</td><td>-1.2812239e-12 .. --</td><td>4.796777e-12 .. --</td><td>4.9376857e-12 .. --</td><td>8.760406e-12 .. --</td><td>1 .. 0</td></tr>\n",
       "</table></div>"
      ],
      "text/plain": [
       "<Table length=2>\n",
       " Source_Name   Analysis_Reference ... Flux_Points_Flux_Is_UL\n",
       "                                  ...                       \n",
       "   bytes16           bytes6       ...       uint8[40]       \n",
       "-------------- ------------------ ... ----------------------\n",
       "HESS J1825-137               HGPS ...                 0 .. 0\n",
       "HESS J1826-130               HGPS ...                 1 .. 0"
      ]
     },
     "metadata": {},
     "output_type": "display_data"
    },
    {
     "data": {
      "text/html": [
       "<div><i>Table length=1</i>\n",
       "<table id=\"table139981063622608\" class=\"table-striped table-bordered table-condensed\">\n",
       "<thead><tr><th>source_name</th><th>ra</th><th>dec</th><th>glon</th><th>glat</th><th>pos_err</th><th>search_radius</th><th>ts</th><th>spec0_dnde</th><th>spec0_dnde_err</th><th>spec0_index</th><th>spec0_index_err</th><th>spec0_radius</th><th>spec1_dnde</th><th>spec1_dnde_err</th><th>spec1_index</th><th>spec1_index_err</th><th>spec1_radius</th></tr></thead>\n",
       "<thead><tr><th></th><th>deg</th><th>deg</th><th>deg</th><th>deg</th><th>deg</th><th>deg</th><th></th><th>1 / (cm2 s TeV)</th><th>1 / (cm2 s TeV)</th><th></th><th></th><th>deg</th><th>1 / (cm2 s TeV)</th><th>1 / (cm2 s TeV)</th><th></th><th></th><th>deg</th></tr></thead>\n",
       "<thead><tr><th>str15</th><th>float64</th><th>float64</th><th>float64</th><th>float64</th><th>float64</th><th>float64</th><th>float64</th><th>float64</th><th>float64</th><th>float64</th><th>float64</th><th>float64</th><th>float64</th><th>float64</th><th>float64</th><th>float64</th><th>float64</th></tr></thead>\n",
       "<tr><td>2HWC J1825-134</td><td>276.460</td><td>-13.401</td><td>18.115</td><td>-0.526</td><td>0.086</td><td>0.0</td><td>767.3</td><td>1.38e-13</td><td>8.1e-15</td><td>-2.58</td><td>0.04</td><td>0.000</td><td>2.49e-13</td><td>1.14e-14</td><td>-2.56</td><td>0.03</td><td>0.900</td></tr>\n",
       "</table></div>"
      ],
      "text/plain": [
       "<Table length=1>\n",
       " source_name      ra     dec   ... spec1_index spec1_index_err spec1_radius\n",
       "                 deg     deg   ...                                 deg     \n",
       "    str15      float64 float64 ...   float64       float64       float64   \n",
       "-------------- ------- ------- ... ----------- --------------- ------------\n",
       "2HWC J1825-134 276.460 -13.401 ...       -2.56            0.03        0.900"
      ]
     },
     "metadata": {},
     "output_type": "display_data"
    },
    {
     "data": {
      "text/html": [
       "<div><i>Table length=1</i>\n",
       "<table id=\"table139981063662080\" class=\"table-striped table-bordered table-condensed\">\n",
       "<thead><tr><th>source_name</th><th>ra</th><th>dec</th><th>glon</th><th>glat</th><th>pos_err</th><th>search_radius</th><th>ts</th><th>spec0_dnde</th><th>spec0_dnde_errn</th><th>spec0_dnde_errp</th><th>spec0_dnde_sys_errn</th><th>spec0_dnde_sys_errp</th><th>spec0_index</th><th>spec0_index_errn</th><th>spec0_index_errp</th><th>spec0_index_sys_errn</th><th>spec0_index_sys_errp</th><th>spec0_radius</th></tr></thead>\n",
       "<thead><tr><th></th><th>deg</th><th>deg</th><th>deg</th><th>deg</th><th>deg</th><th>deg</th><th></th><th>1 / (cm2 s TeV)</th><th>1 / (cm2 s TeV)</th><th>1 / (cm2 s TeV)</th><th>1 / (cm2 s TeV)</th><th>1 / (cm2 s TeV)</th><th></th><th></th><th></th><th></th><th></th><th>deg</th></tr></thead>\n",
       "<thead><tr><th>str14</th><th>float64</th><th>float64</th><th>float64</th><th>float64</th><th>float64</th><th>float64</th><th>float64</th><th>float64</th><th>float64</th><th>float64</th><th>float64</th><th>float64</th><th>float64</th><th>float64</th><th>float64</th><th>float64</th><th>float64</th><th>float64</th></tr></thead>\n",
       "<tr><td>3HWC J1825-134</td><td>276.460</td><td>-13.401</td><td>18.115</td><td>-0.526</td><td>0.057</td><td>0.0</td><td>2212.5</td><td>1.25e-13</td><td>-3.41e-15</td><td>3.39e-15</td><td>-1.83e-14</td><td>5.31e-14</td><td>-2.35</td><td>-0.019</td><td>0.019</td><td>-0.015</td><td>0.111</td><td>0.000</td></tr>\n",
       "</table></div>"
      ],
      "text/plain": [
       "<Table length=1>\n",
       " source_name      ra     dec   ... spec0_index_sys_errp spec0_radius\n",
       "                 deg     deg   ...                          deg     \n",
       "    str14      float64 float64 ...       float64          float64   \n",
       "-------------- ------- ------- ... -------------------- ------------\n",
       "3HWC J1825-134 276.460 -13.401 ...                0.111        0.000"
      ]
     },
     "metadata": {},
     "output_type": "display_data"
    },
    {
     "data": {
      "text/html": [
       "<div><i>Table length=3</i>\n",
       "<table id=\"table139981063622368\" class=\"table-striped table-bordered table-condensed\">\n",
       "<thead><tr><th>Source_Name</th><th>RAJ2000</th><th>DEJ2000</th><th>GLON</th><th>GLAT</th><th>Conf_68_SemiMajor</th><th>Conf_68_SemiMinor</th><th>Conf_68_PosAng</th><th>Conf_95_SemiMajor</th><th>Conf_95_SemiMinor</th><th>Conf_95_PosAng</th><th>ROI_num</th><th>Signif_Avg</th><th>Pivot_Energy</th><th>Flux_Density</th><th>Unc_Flux_Density</th><th>Flux1000</th><th>Unc_Flux1000</th><th>Energy_Flux100</th><th>Unc_Energy_Flux100</th><th>Signif_Curve</th><th>SpectrumType</th><th>Spectral_Index</th><th>Unc_Spectral_Index</th><th>beta</th><th>Unc_beta</th><th>Cutoff</th><th>Unc_Cutoff</th><th>Exp_Index</th><th>Unc_Exp_Index</th><th>PowerLaw_Index</th><th>Flux30_100</th><th>Unc_Flux30_100</th><th>nuFnu30_100</th><th>Sqrt_TS30_100</th><th>Flux100_300</th><th>Unc_Flux100_300</th><th>nuFnu100_300</th><th>Sqrt_TS100_300</th><th>Flux300_1000</th><th>Unc_Flux300_1000</th><th>nuFnu300_1000</th><th>Sqrt_TS300_1000</th><th>Flux1000_3000</th><th>Unc_Flux1000_3000</th><th>nuFnu1000_3000</th><th>Sqrt_TS1000_3000</th><th>Flux3000_10000</th><th>Unc_Flux3000_10000</th><th>nuFnu3000_10000</th><th>Sqrt_TS3000_10000</th><th>Flux10000_100000</th><th>Unc_Flux10000_100000</th><th>nuFnu10000_100000</th><th>Sqrt_TS10000_100000</th><th>Variability_Index</th><th>Signif_Peak</th><th>Flux_Peak</th><th>Unc_Flux_Peak</th><th>Time_Peak</th><th>Peak_Interval</th><th>Flux_History</th><th>Unc_Flux_History</th><th>Extended_Source_Name</th><th>0FGL_Name</th><th>1FGL_Name</th><th>2FGL_Name</th><th>1FHL_Name</th><th>ASSOC_GAM1</th><th>ASSOC_GAM2</th><th>ASSOC_GAM3</th><th>TEVCAT_FLAG</th><th>ASSOC_TEV</th><th>CLASS1</th><th>ASSOC1</th><th>ASSOC2</th><th>Flags</th></tr></thead>\n",
       "<thead><tr><th></th><th>deg</th><th>deg</th><th>deg</th><th>deg</th><th>deg</th><th>deg</th><th>deg</th><th>deg</th><th>deg</th><th>deg</th><th></th><th></th><th>MeV</th><th>1 / (cm2 MeV s)</th><th>1 / (cm2 MeV s)</th><th>1 / (cm2 s)</th><th>1 / (cm2 s)</th><th>erg / (cm2 s)</th><th>erg / (cm2 s)</th><th></th><th></th><th></th><th></th><th></th><th></th><th>MeV</th><th>MeV</th><th></th><th></th><th></th><th>1 / (cm2 s)</th><th>1 / (cm2 s)</th><th>erg / (cm2 s)</th><th></th><th>1 / (cm2 s)</th><th>1 / (cm2 s)</th><th>erg / (cm2 s)</th><th></th><th>1 / (cm2 s)</th><th>1 / (cm2 s)</th><th>erg / (cm2 s)</th><th></th><th>1 / (cm2 s)</th><th>1 / (cm2 s)</th><th>erg / (cm2 s)</th><th></th><th>1 / (cm2 s)</th><th>1 / (cm2 s)</th><th>erg / (cm2 s)</th><th></th><th>1 / (cm2 s)</th><th>1 / (cm2 s)</th><th>erg / (cm2 s)</th><th></th><th></th><th></th><th>1 / (cm2 s)</th><th>1 / (cm2 s)</th><th>s</th><th>s</th><th>1 / (cm2 s)</th><th>1 / (cm2 s)</th><th></th><th></th><th></th><th></th><th></th><th></th><th></th><th></th><th></th><th></th><th></th><th></th><th></th><th></th></tr></thead>\n",
       "<thead><tr><th>bytes18</th><th>float32</th><th>float32</th><th>float32</th><th>float32</th><th>float32</th><th>float32</th><th>float32</th><th>float32</th><th>float32</th><th>float32</th><th>int16</th><th>float32</th><th>float32</th><th>float32</th><th>float32</th><th>float32</th><th>float32</th><th>float32</th><th>float32</th><th>float32</th><th>bytes16</th><th>float32</th><th>float32</th><th>float32</th><th>float32</th><th>float32</th><th>float32</th><th>float32</th><th>float32</th><th>float32</th><th>float32</th><th>float32</th><th>float32</th><th>float32</th><th>float32</th><th>float32[2]</th><th>float32</th><th>float32</th><th>float32</th><th>float32[2]</th><th>float32</th><th>float32</th><th>float32</th><th>float32[2]</th><th>float32</th><th>float32</th><th>float32</th><th>float32[2]</th><th>float32</th><th>float32</th><th>float32</th><th>float32[2]</th><th>float32</th><th>float32</th><th>float32</th><th>float32</th><th>float32</th><th>float32</th><th>float64</th><th>float32</th><th>float32[48]</th><th>float32[48,2]</th><th>bytes18</th><th>bytes17</th><th>bytes18</th><th>bytes18</th><th>bytes18</th><th>bytes15</th><th>bytes14</th><th>bytes15</th><th>bytes1</th><th>bytes21</th><th>bytes5</th><th>bytes26</th><th>bytes26</th><th>int16</th></tr></thead>\n",
       "<tr><td>3FGL J1823.2-1339</td><td>275.8204</td><td>-13.6513</td><td>17.6041</td><td>-0.0939</td><td>0.0178</td><td>0.0157</td><td>-25.020</td><td>0.0289</td><td>0.0254</td><td>-25.020</td><td>27</td><td>16.639</td><td>1615.78</td><td>5.3096e-12</td><td>3.7260e-13</td><td>1.1542e-08</td><td>7.428333e-10</td><td>9.2920e-11</td><td>7.9107e-12</td><td>4.86</td><td>LogParabola</td><td>2.2214</td><td>0.0616</td><td>0.1619</td><td>0.0377</td><td>-inf</td><td>-inf</td><td>-inf</td><td>-inf</td><td>2.2856</td><td>--</td><td>--</td><td>--</td><td>--</td><td>6.637851e-08</td><td>-3.3939024e-08 .. 3.6777024e-08</td><td>1.6767985e-11</td><td>1.548</td><td>2.9758375e-08</td><td>-4.0344097e-09 .. 4.0475205e-09</td><td>2.0745444e-11</td><td>6.370</td><td>9.310206e-09</td><td>-8.8956986e-10 .. 8.8956986e-10</td><td>2.1844719e-11</td><td>11.356</td><td>2.1030435e-09</td><td>-2.2663187e-10 .. 2.3448124e-10</td><td>1.3454127e-11</td><td>11.369</td><td>2.757892e-10</td><td>-6.633892e-11 .. 7.390404e-11</td><td>3.3285605e-12</td><td>5.540</td><td>47.541824</td><td>-inf</td><td>-inf</td><td>-inf</td><td>-inf</td><td>-inf</td><td>1.3636745e-07 .. 1.1213269e-07</td><td>-3.8294168e-08 .. 5.0847685e-08</td><td></td><td></td><td>1FGL J1823.2-1336c</td><td>2FGL J1823.1-1338c</td><td></td><td></td><td></td><td></td><td>N</td><td></td><td></td><td></td><td>HESS J1825-137 field</td><td>0</td></tr>\n",
       "<tr><td>3FGL J1824.5-1351e</td><td>276.1298</td><td>-13.8521</td><td>17.5674</td><td>-0.4535</td><td>-inf</td><td>-inf</td><td>--</td><td>-inf</td><td>-inf</td><td>--</td><td>27</td><td>16.849</td><td>27387.22</td><td>4.6858e-14</td><td>4.2267e-15</td><td>7.8382e-09</td><td>1.2499584e-09</td><td>1.6117e-10</td><td>1.1762e-11</td><td>4.08</td><td>LogParabola</td><td>1.6812</td><td>0.0736</td><td>0.1828</td><td>0.0551</td><td>-inf</td><td>-inf</td><td>-inf</td><td>-inf</td><td>1.5872</td><td>--</td><td>--</td><td>--</td><td>--</td><td>2.660821e-10</td><td>-- .. 2.26066e-08</td><td>7.7602746e-14</td><td>0.000</td><td>1.1699602e-10</td><td>-- .. 3.6397205e-09</td><td>9.854626e-14</td><td>0.000</td><td>1.0657878e-09</td><td>-- .. 1.2193786e-09</td><td>2.921256e-12</td><td>0.791</td><td>3.2399772e-09</td><td>-4.869651e-10 .. 5.012686e-10</td><td>2.4791535e-11</td><td>7.021</td><td>2.4382383e-09</td><td>-2.478857e-10 .. 2.506437e-10</td><td>4.8507365e-11</td><td>11.703</td><td>35.563145</td><td>-inf</td><td>-inf</td><td>-inf</td><td>-inf</td><td>-inf</td><td>1.08482965e-08 .. 1.6966606e-08</td><td>-4.302773e-09 .. 6.8527624e-09</td><td>HESS J1825-137</td><td></td><td>1FGL J1825.7-1410c</td><td>2FGL J1824.5-1351e</td><td>1FHL J1824.5-1351e</td><td></td><td></td><td></td><td>E</td><td>HESS J1825-137</td><td>PWN</td><td>HESS J1825-137</td><td></td><td>0</td></tr>\n",
       "<tr><td>3FGL J1826.1-1256</td><td>276.5375</td><td>-12.9430</td><td>18.5565</td><td>-0.3796</td><td>0.0078</td><td>0.0076</td><td>89.450</td><td>0.0126</td><td>0.0123</td><td>89.450</td><td>27</td><td>76.305</td><td>987.59</td><td>7.5357e-11</td><td>1.3676e-12</td><td>5.3417e-08</td><td>9.480324e-10</td><td>4.1467e-10</td><td>8.6536e-12</td><td>24.03</td><td>PLExpCutoff</td><td>1.7141</td><td>0.0363</td><td>-inf</td><td>-inf</td><td>3107.73</td><td>200.19</td><td>1.0000</td><td>-inf</td><td>2.2628</td><td>--</td><td>--</td><td>--</td><td>--</td><td>3.4306163e-07</td><td>-2.0065777e-08 .. 2.0065777e-08</td><td>8.434083e-11</td><td>8.883</td><td>1.7097132e-07</td><td>-4.513886e-09 .. 4.513886e-09</td><td>1.1891689e-10</td><td>41.236</td><td>4.526822e-08</td><td>-1.0694258e-09 .. 1.0694258e-09</td><td>1.0593127e-10</td><td>55.136</td><td>7.506069e-09</td><td>-3.2628825e-10 .. 3.2628825e-10</td><td>4.3989253e-11</td><td>34.973</td><td>1.906475e-10</td><td>-5.33829e-11 .. 6.065656e-11</td><td>1.7663983e-12</td><td>4.848</td><td>51.920242</td><td>-inf</td><td>-inf</td><td>-inf</td><td>-inf</td><td>-inf</td><td>6.5948814e-07 .. 6.4515694e-07</td><td>-5.800263e-08 .. 7.0657485e-08</td><td></td><td>0FGL J1825.9-1256</td><td>1FGL J1826.1-1256</td><td>2FGL J1826.1-1256</td><td></td><td>1AGL J1826-1246</td><td>3EG J1826-1302</td><td></td><td>N</td><td></td><td>PSR</td><td>LAT PSR J1826-1256</td><td></td><td>0</td></tr>\n",
       "</table></div>"
      ],
      "text/plain": [
       "<Table length=3>\n",
       "   Source_Name     RAJ2000  DEJ2000  ...           ASSOC2           Flags\n",
       "                     deg      deg    ...                                 \n",
       "     bytes18       float32  float32  ...          bytes26           int16\n",
       "------------------ -------- -------- ... -------------------------- -----\n",
       "3FGL J1823.2-1339  275.8204 -13.6513 ... HESS J1825-137 field           0\n",
       "3FGL J1824.5-1351e 276.1298 -13.8521 ...                                0\n",
       "3FGL J1826.1-1256  276.5375 -12.9430 ...                                0"
      ]
     },
     "metadata": {},
     "output_type": "display_data"
    },
    {
     "data": {
      "text/html": [
       "<div><i>Table length=5</i>\n",
       "<table id=\"table139981063577664\" class=\"table-striped table-bordered table-condensed\">\n",
       "<thead><tr><th>Source_Name</th><th>DataRelease</th><th>RAJ2000</th><th>DEJ2000</th><th>GLON</th><th>GLAT</th><th>Conf_68_SemiMajor</th><th>Conf_68_SemiMinor</th><th>Conf_68_PosAng</th><th>Conf_95_SemiMajor</th><th>Conf_95_SemiMinor</th><th>Conf_95_PosAng</th><th>ROI_num</th><th>Extended_Source_Name</th><th>Signif_Avg</th><th>Pivot_Energy</th><th>Flux1000</th><th>Unc_Flux1000</th><th>Energy_Flux100</th><th>Unc_Energy_Flux100</th><th>SpectrumType</th><th>PL_Flux_Density</th><th>Unc_PL_Flux_Density</th><th>PL_Index</th><th>Unc_PL_Index</th><th>LP_Flux_Density</th><th>Unc_LP_Flux_Density</th><th>LP_Index</th><th>Unc_LP_Index</th><th>LP_beta</th><th>Unc_LP_beta</th><th>LP_SigCurv</th><th>LP_EPeak</th><th>Unc_LP_EPeak</th><th>PLEC_Flux_Density</th><th>Unc_PLEC_Flux_Density</th><th>PLEC_IndexS</th><th>Unc_PLEC_IndexS</th><th>PLEC_ExpfactorS</th><th>Unc_PLEC_ExpfactorS</th><th>PLEC_Exp_Index</th><th>Unc_PLEC_Exp_Index</th><th>PLEC_SigCurv</th><th>PLEC_EPeak</th><th>Unc_PLEC_EPeak</th><th>Npred</th><th>Flux_Band</th><th>Unc_Flux_Band</th><th>nuFnu_Band</th><th>Sqrt_TS_Band</th><th>Variability_Index</th><th>Frac_Variability</th><th>Unc_Frac_Variability</th><th>Signif_Peak</th><th>Flux_Peak</th><th>Unc_Flux_Peak</th><th>Time_Peak</th><th>Peak_Interval</th><th>Flux_History</th><th>Unc_Flux_History</th><th>Sqrt_TS_History</th><th>ASSOC_4FGL</th><th>ASSOC_FGL</th><th>ASSOC_FHL</th><th>ASSOC_GAM1</th><th>ASSOC_GAM2</th><th>ASSOC_GAM3</th><th>TEVCAT_FLAG</th><th>ASSOC_TEV</th><th>CLASS1</th><th>CLASS2</th><th>ASSOC1</th><th>ASSOC2</th><th>ASSOC_PROB_BAY</th><th>ASSOC_PROB_LR</th><th>RA_Counterpart</th><th>DEC_Counterpart</th><th>Unc_Counterpart</th><th>Flags</th></tr></thead>\n",
       "<thead><tr><th></th><th></th><th>deg</th><th>deg</th><th>deg</th><th>deg</th><th>deg</th><th>deg</th><th>deg</th><th>deg</th><th>deg</th><th>deg</th><th></th><th></th><th></th><th>MeV</th><th>1 / (cm2 s)</th><th>1 / (cm2 s)</th><th>erg / (cm2 s)</th><th>erg / (cm2 s)</th><th></th><th>1 / (cm2 MeV s)</th><th>1 / (cm2 MeV s)</th><th></th><th></th><th>1 / (cm2 MeV s)</th><th>1 / (cm2 MeV s)</th><th></th><th></th><th></th><th></th><th></th><th>MeV</th><th>MeV</th><th>1 / (cm2 MeV s)</th><th>1 / (cm2 MeV s)</th><th></th><th></th><th></th><th></th><th></th><th></th><th></th><th>MeV</th><th>MeV</th><th></th><th>1 / (cm2 s)</th><th>1 / (cm2 s)</th><th>erg / (cm2 s)</th><th></th><th></th><th></th><th></th><th></th><th>1 / (cm2 s)</th><th>1 / (cm2 s)</th><th>s</th><th>s</th><th>1 / (cm2 s)</th><th>1 / (cm2 s)</th><th></th><th></th><th></th><th></th><th></th><th></th><th></th><th></th><th></th><th></th><th></th><th></th><th></th><th></th><th></th><th>deg</th><th>deg</th><th>deg</th><th></th></tr></thead>\n",
       "<thead><tr><th>bytes18</th><th>int16</th><th>float32</th><th>float32</th><th>float32</th><th>float32</th><th>float32</th><th>float32</th><th>float32</th><th>float32</th><th>float32</th><th>float32</th><th>int16</th><th>bytes18</th><th>float32</th><th>float32</th><th>float32</th><th>float32</th><th>float32</th><th>float32</th><th>bytes17</th><th>float32</th><th>float32</th><th>float32</th><th>float32</th><th>float32</th><th>float32</th><th>float32</th><th>float32</th><th>float32</th><th>float32</th><th>float32</th><th>float32</th><th>float32</th><th>float32</th><th>float32</th><th>float32</th><th>float32</th><th>float32</th><th>float32</th><th>float32</th><th>float32</th><th>float32</th><th>float32</th><th>float32</th><th>float32</th><th>float32[8]</th><th>float32[8,2]</th><th>float32[8]</th><th>float32[8]</th><th>float32</th><th>float32</th><th>float32</th><th>float32</th><th>float32</th><th>float32</th><th>float64</th><th>float32</th><th>float32[12]</th><th>float32[12,2]</th><th>float32[12]</th><th>bytes18</th><th>bytes18</th><th>bytes18</th><th>bytes18</th><th>bytes18</th><th>bytes18</th><th>bytes1</th><th>bytes30</th><th>bytes5</th><th>bytes10</th><th>bytes28</th><th>bytes28</th><th>float32</th><th>float32</th><th>float64</th><th>float64</th><th>float32</th><th>int16</th></tr></thead>\n",
       "<tr><td>4FGL J1823.3-1340</td><td>1</td><td>275.8363</td><td>-13.6676</td><td>17.5965</td><td>-0.1149</td><td>0.0127</td><td>0.0125</td><td>80.120</td><td>0.0206</td><td>0.0202</td><td>80.120</td><td>108</td><td></td><td>31.866</td><td>2386.79</td><td>1.0574e-08</td><td>4.6035e-10</td><td>7.3267e-11</td><td>7.0093e-12</td><td>LogParabola</td><td>1.6852e-12</td><td>6.5856e-14</td><td>2.4442</td><td>0.0292</td><td>2.0670e-12</td><td>9.2033e-14</td><td>2.3130</td><td>0.0575</td><td>0.2343</td><td>0.0416</td><td>7.912</td><td>1223.9</td><td>251.7</td><td>2.0263e-12</td><td>8.9039e-14</td><td>2.2446</td><td>0.0549</td><td>0.35112</td><td>0.06301</td><td>0.6667</td><td>--</td><td>8.110</td><td>935.5</td><td>424.3</td><td>4809.54</td><td>1.3159666e-10 .. 1.8420421e-15</td><td>-- .. 5.1258112e-12</td><td>2.2233178e-14 .. 1.7694321e-16</td><td>0.0 .. 0.0</td><td>6.4802</td><td>0.0000</td><td>10.0000</td><td>-inf</td><td>-inf</td><td>-inf</td><td>-inf</td><td>-inf</td><td>5.989051e-08 .. 6.1856795e-08</td><td>-7.321409e-09 .. 9.842403e-09</td><td>9.617971 .. 7.3264775</td><td>4FGL J1823.3-1340</td><td>3FGL J1823.2-1339</td><td>3FHL J1823.3-1339</td><td></td><td></td><td></td><td>N</td><td></td><td></td><td></td><td></td><td>HESS J1825-137 field</td><td>0.0000</td><td>0.0000</td><td>--</td><td>--</td><td>--</td><td>0</td></tr>\n",
       "<tr><td>4FGL J1824.1-1304</td><td>2</td><td>276.0322</td><td>-13.0720</td><td>18.2120</td><td>-0.0043</td><td>0.1515</td><td>0.0747</td><td>23.160</td><td>0.2457</td><td>0.1211</td><td>23.160</td><td>108</td><td></td><td>5.955</td><td>1238.99</td><td>2.7385e-09</td><td>4.3560e-10</td><td>2.3782e-11</td><td>7.6628e-12</td><td>LogParabola</td><td>1.3907e-12</td><td>3.2317e-13</td><td>2.8751</td><td>0.1030</td><td>3.4904e-12</td><td>5.4050e-13</td><td>3.1925</td><td>0.3227</td><td>0.8942</td><td>0.2168</td><td>5.015</td><td>636.1</td><td>154.4</td><td>3.5753e-12</td><td>5.9117e-13</td><td>2.9762</td><td>0.3398</td><td>1.88711</td><td>0.66780</td><td>0.6667</td><td>--</td><td>5.083</td><td>657.0</td><td>272.2</td><td>1526.94</td><td>4.4680842e-11 .. 1.1304713e-16</td><td>-- .. 3.4899971e-12</td><td>7.7450634e-15 .. 1.0474109e-17</td><td>0.0 .. 0.0</td><td>14.3044</td><td>0.2741</td><td>0.2104</td><td>-inf</td><td>-inf</td><td>-inf</td><td>-inf</td><td>-inf</td><td>4.8027704e-08 .. 1.2207551e-08</td><td>-1.2232033e-08 .. 1.37400304e-08</td><td>4.012798 .. 0.7662268</td><td>4FGL J1824.1-1304</td><td></td><td></td><td></td><td>3EG J1823-1314</td><td></td><td>N</td><td></td><td>spp</td><td></td><td>SNR G018.1-00.1</td><td>HESS J1825-137 field</td><td>0.8000</td><td>0.0000</td><td>276.1417</td><td>-13.1833</td><td>0.00045</td><td>8216</td></tr>\n",
       "<tr><td>4FGL J1824.4-1350e</td><td>3</td><td>276.1110</td><td>-13.8390</td><td>17.5700</td><td>-0.4309</td><td>--</td><td>--</td><td>--</td><td>--</td><td>--</td><td>--</td><td>108</td><td>HESS J1825-137</td><td>25.327</td><td>11602.42</td><td>1.1412e-08</td><td>1.0117e-09</td><td>1.5452e-10</td><td>8.1220e-12</td><td>LogParabola</td><td>1.3613e-13</td><td>6.4772e-15</td><td>1.7603</td><td>0.0267</td><td>1.4742e-13</td><td>7.9524e-15</td><td>1.6852</td><td>0.0417</td><td>0.0466</td><td>0.0173</td><td>2.680</td><td>340488.5</td><td>341136.4</td><td>1.4271e-13</td><td>7.2336e-15</td><td>1.6702</td><td>0.0427</td><td>0.03954</td><td>0.01423</td><td>0.6667</td><td>--</td><td>2.837</td><td>194979.9</td><td>71113.2</td><td>5353.09</td><td>3.2139114e-10 .. 3.1969802e-10</td><td>-- .. 3.533185e-11</td><td>5.3135556e-14 .. 5.7063607e-11</td><td>0.0 .. 12.315137</td><td>12.6483</td><td>0.0533</td><td>0.1049</td><td>-inf</td><td>-inf</td><td>-inf</td><td>-inf</td><td>-inf</td><td>3.5073484e-08 .. 4.467844e-08</td><td>-4.943861e-09 .. 6.750893e-09</td><td>8.237058 .. 7.8866606</td><td>4FGL J1824.5-1351e</td><td>3FGL J1824.5-1351e</td><td></td><td></td><td></td><td></td><td>E</td><td>HESS J1825-137</td><td>PWN</td><td></td><td>HESS J1825-137</td><td></td><td>--</td><td>--</td><td>276.4500</td><td>-13.7800</td><td>0.84000</td><td>4</td></tr>\n",
       "<tr><td>4FGL J1826.1-1256</td><td>1</td><td>276.5352</td><td>-12.9415</td><td>18.5563</td><td>-0.3766</td><td>0.0064</td><td>0.0062</td><td>10.200</td><td>0.0103</td><td>0.0101</td><td>10.200</td><td>108</td><td></td><td>107.343</td><td>2247.16</td><td>5.3782e-08</td><td>8.0568e-10</td><td>4.1342e-10</td><td>1.2926e-11</td><td>PLSuperExpCutoff</td><td>8.4723e-12</td><td>1.1626e-13</td><td>2.4513</td><td>0.0086</td><td>1.2243e-11</td><td>1.9532e-13</td><td>2.5861</td><td>0.0195</td><td>0.3707</td><td>0.0188</td><td>32.666</td><td>1019.3</td><td>51.2</td><td>1.2156e-11</td><td>1.9084e-13</td><td>2.4649</td><td>0.0283</td><td>0.66507</td><td>0.03347</td><td>0.6868</td><td>0.1055</td><td>33.152</td><td>867.1</td><td>76.1</td><td>23176.46</td><td>1.1843189e-07 .. 1.0627727e-15</td><td>-- .. 6.3015973e-12</td><td>1.928806e-11 .. 9.846864e-17</td><td>0.0 .. 0.0</td><td>10.1877</td><td>0.0000</td><td>10.0000</td><td>-inf</td><td>-inf</td><td>-inf</td><td>-inf</td><td>-inf</td><td>5.230714e-07 .. 5.373971e-07</td><td>-1.932146e-08 .. 2.4878396e-08</td><td>36.190086 .. 28.802216</td><td>4FGL J1826.1-1256</td><td>3FGL J1826.1-1256</td><td>3FHL J1826.1-1256</td><td>2AGL J1826-1257</td><td>3EG J1826-1302</td><td></td><td>E</td><td>HESS J1826-130</td><td>PSR</td><td></td><td>PSR J1826-1256</td><td></td><td>1.0000</td><td>0.0000</td><td>276.5355</td><td>-12.9425</td><td>0.00008</td><td>0</td></tr>\n",
       "<tr><td>4FGL J1828.1-1312</td><td>1</td><td>277.0276</td><td>-13.2019</td><td>18.5492</td><td>-0.9224</td><td>0.0716</td><td>0.0522</td><td>49.770</td><td>0.1161</td><td>0.0847</td><td>49.770</td><td>108</td><td></td><td>6.994</td><td>2197.68</td><td>2.1078e-09</td><td>3.7974e-10</td><td>1.0601e-11</td><td>4.1620e-12</td><td>LogParabola</td><td>3.5224e-13</td><td>5.3680e-14</td><td>2.7846</td><td>0.0956</td><td>5.2727e-13</td><td>8.2663e-14</td><td>2.6015</td><td>0.3196</td><td>0.6204</td><td>0.3014</td><td>3.264</td><td>1353.4</td><td>573.6</td><td>5.2345e-13</td><td>8.2142e-14</td><td>2.5008</td><td>0.3075</td><td>1.07548</td><td>0.52354</td><td>0.6667</td><td>--</td><td>3.417</td><td>1258.4</td><td>803.4</td><td>913.94</td><td>2.3720083e-11 .. 4.522849e-16</td><td>-- .. 3.900657e-12</td><td>4.111685e-15 .. 4.1905364e-17</td><td>0.0 .. 0.0</td><td>10.5938</td><td>0.0000</td><td>10.0000</td><td>-inf</td><td>-inf</td><td>-inf</td><td>-inf</td><td>-inf</td><td>6.4572983e-09 .. 5.4787006e-09</td><td>-3.458378e-09 .. 4.833742e-09</td><td>1.930775 .. 1.1773744</td><td>4FGL J1828.1-1312</td><td></td><td></td><td></td><td></td><td></td><td>N</td><td></td><td></td><td></td><td></td><td></td><td>0.0000</td><td>0.0000</td><td>--</td><td>--</td><td>--</td><td>8220</td></tr>\n",
       "</table></div>"
      ],
      "text/plain": [
       "<Table length=5>\n",
       "   Source_Name     DataRelease RAJ2000  ... Unc_Counterpart Flags\n",
       "                                 deg    ...       deg            \n",
       "     bytes18          int16    float32  ...     float32     int16\n",
       "------------------ ----------- -------- ... --------------- -----\n",
       "4FGL J1823.3-1340            1 275.8363 ...              --     0\n",
       "4FGL J1824.1-1304            2 276.0322 ...         0.00045  8216\n",
       "4FGL J1824.4-1350e           3 276.1110 ...         0.84000     4\n",
       "4FGL J1826.1-1256            1 276.5352 ...         0.00008     0\n",
       "4FGL J1828.1-1312            1 277.0276 ...              --  8220"
      ]
     },
     "metadata": {},
     "output_type": "display_data"
    },
    {
     "data": {
      "text/html": [
       "<div><i>Table length=1</i>\n",
       "<table id=\"table139981062508400\" class=\"table-striped table-bordered table-condensed\">\n",
       "<thead><tr><th>Source_Name</th><th>RAJ2000</th><th>DEJ2000</th><th>GLON</th><th>GLAT</th><th>Pos_err_68</th><th>Pos_err_95</th><th>TS</th><th>Spectral_Index</th><th>Unc_Spectral_Index</th><th>Intr_Spectral_Index_D11</th><th>Unc_Intr_Spectral_Index_D11</th><th>Intr_Spectral_Index_G12</th><th>Unc_Intr_Spectral_Index_G12</th><th>Flux50</th><th>Unc_Flux50</th><th>Energy_Flux50</th><th>Unc_Energy_Flux50</th><th>Flux50_171GeV</th><th>Unc_Flux50_171GeV</th><th>Sqrt_TS50_171GeV</th><th>Flux171_585GeV</th><th>Unc_Flux171_585GeV</th><th>Sqrt_TS171_585GeV</th><th>Flux585_2000GeV</th><th>Unc_Flux585_2000GeV</th><th>Sqrt_TS585_2000GeV</th><th>Npred</th><th>HEP_Energy</th><th>HEP_Prob</th><th>ROI</th><th>ASSOC</th><th>ASSOC_PROB_BAY</th><th>ASSOC_PROB_LR</th><th>CLASS</th><th>Redshift</th><th>NuPeak_obs</th><th>3FGL_Name</th><th>1FHL_Name</th><th>TeVCat_Name</th></tr></thead>\n",
       "<thead><tr><th></th><th>deg</th><th>deg</th><th>deg</th><th>deg</th><th>deg</th><th>deg</th><th></th><th></th><th></th><th></th><th></th><th></th><th></th><th>1 / (cm2 s)</th><th>1 / (cm2 s)</th><th>erg / (cm2 s)</th><th>erg / (cm2 s)</th><th>1 / (cm2 s)</th><th>1 / (cm2 s)</th><th></th><th>1 / (cm2 s)</th><th>1 / (cm2 s)</th><th></th><th>1 / (cm2 s)</th><th>1 / (cm2 s)</th><th></th><th></th><th>GeV</th><th></th><th></th><th></th><th></th><th></th><th></th><th></th><th>Hz</th><th></th><th></th><th></th></tr></thead>\n",
       "<thead><tr><th>bytes18</th><th>float32</th><th>float32</th><th>float32</th><th>float32</th><th>float32</th><th>float32</th><th>float32</th><th>float32</th><th>float32</th><th>float32</th><th>float32</th><th>float32</th><th>float32</th><th>float32</th><th>float32</th><th>float32</th><th>float32</th><th>float32</th><th>float32[2]</th><th>float32</th><th>float32</th><th>float32[2]</th><th>float32</th><th>float32</th><th>float32[2]</th><th>float32</th><th>float32</th><th>float32</th><th>float32</th><th>int16</th><th>bytes25</th><th>float32</th><th>float32</th><th>bytes8</th><th>float32</th><th>float32</th><th>bytes18</th><th>bytes18</th><th>bytes18</th></tr></thead>\n",
       "<tr><td>2FHL J1824.5-1350e</td><td>276.130</td><td>-13.850</td><td>17.569</td><td>-0.452</td><td>0.000</td><td>0.000</td><td>266.7</td><td>1.89</td><td>0.11</td><td>--</td><td>--</td><td>--</td><td>--</td><td>7.1500e-10</td><td>6.4600e-11</td><td>2.4000e-10</td><td>3.2000e-11</td><td>5.0703e-10</td><td>-5.4814e-11 .. 5.7211e-11</td><td>13.01</td><td>1.6980e-10</td><td>-2.7422e-11 .. 2.9998e-11</td><td>9.84</td><td>5.1692e-11</td><td>-1.6073e-11 .. 1.8935e-11</td><td>5.00</td><td>209.80</td><td>1684.18</td><td>0.90</td><td>106</td><td>HESS J1825-137</td><td>--</td><td>--</td><td>pwn</td><td>--</td><td>--</td><td>3FGL J1824.5-1351e</td><td>1FHL J1824.5-1351e</td><td>TeV J1826-130</td></tr>\n",
       "</table></div>"
      ],
      "text/plain": [
       "<Table length=1>\n",
       "   Source_Name      RAJ2000    DEJ2000   ...     1FHL_Name       TeVCat_Name \n",
       "                      deg        deg     ...                                 \n",
       "     bytes18        float32    float32   ...      bytes18          bytes18   \n",
       "------------------ ---------- ---------- ... ------------------ -------------\n",
       "2FHL J1824.5-1350e    276.130    -13.850 ... 1FHL J1824.5-1351e TeV J1826-130"
      ]
     },
     "metadata": {},
     "output_type": "display_data"
    },
    {
     "data": {
      "text/html": [
       "<div><i>Table length=3</i>\n",
       "<table id=\"table139981063593264\" class=\"table-striped table-bordered table-condensed\">\n",
       "<thead><tr><th>Source_Name</th><th>RAJ2000</th><th>DEJ2000</th><th>GLON</th><th>GLAT</th><th>Conf_95_SemiMajor</th><th>Conf_95_SemiMinor</th><th>Conf_95_PosAng</th><th>ROI_num</th><th>Signif_Avg</th><th>Pivot_Energy</th><th>Flux_Density</th><th>Unc_Flux_Density</th><th>Flux</th><th>Unc_Flux</th><th>Energy_Flux</th><th>Unc_Energy_Flux</th><th>Signif_Curve</th><th>SpectrumType</th><th>Spectral_Index</th><th>Unc_Spectral_Index</th><th>beta</th><th>Unc_beta</th><th>PowerLaw_Index</th><th>Unc_PowerLaw_Index</th><th>Flux_Band</th><th>Unc_Flux_Band</th><th>nuFnu</th><th>Sqrt_TS_Band</th><th>Npred</th><th>HEP_Energy</th><th>HEP_Prob</th><th>Variability_BayesBlocks</th><th>Extended_Source_Name</th><th>ASSOC_GAM</th><th>TEVCAT_FLAG</th><th>ASSOC_TEV</th><th>CLASS</th><th>ASSOC1</th><th>ASSOC2</th><th>ASSOC_PROB_BAY</th><th>ASSOC_PROB_LR</th><th>Redshift</th><th>NuPeak_obs</th></tr></thead>\n",
       "<thead><tr><th></th><th>deg</th><th>deg</th><th>deg</th><th>deg</th><th>deg</th><th>deg</th><th>deg</th><th></th><th></th><th>GeV</th><th>1 / (cm2 GeV s)</th><th>1 / (cm2 GeV s)</th><th>1 / (cm2 s)</th><th>1 / (cm2 s)</th><th>erg / (cm2 s)</th><th>erg / (cm2 s)</th><th></th><th></th><th></th><th></th><th></th><th></th><th></th><th></th><th>1 / (cm2 s)</th><th>1 / (cm2 s)</th><th>erg / (cm2 s)</th><th></th><th></th><th>GeV</th><th></th><th></th><th></th><th></th><th></th><th></th><th></th><th></th><th></th><th></th><th></th><th></th><th>Hz</th></tr></thead>\n",
       "<thead><tr><th>bytes18</th><th>float32</th><th>float32</th><th>float32</th><th>float32</th><th>float32</th><th>float32</th><th>float32</th><th>int16</th><th>float32</th><th>float32</th><th>float32</th><th>float32</th><th>float32</th><th>float32</th><th>float32</th><th>float32</th><th>float32</th><th>bytes11</th><th>float32</th><th>float32</th><th>float32</th><th>float32</th><th>float32</th><th>float32</th><th>float32[5]</th><th>float32[5,2]</th><th>float32[5]</th><th>float32[5]</th><th>float32</th><th>float32</th><th>float32</th><th>int16</th><th>bytes18</th><th>bytes18</th><th>bytes1</th><th>bytes21</th><th>bytes7</th><th>bytes26</th><th>bytes26</th><th>float32</th><th>float32</th><th>float32</th><th>float32</th></tr></thead>\n",
       "<tr><td>3FHL J1823.3-1339</td><td>275.8404</td><td>-13.6628</td><td>17.6026</td><td>-0.1162</td><td>0.0313</td><td>0.0313</td><td>--</td><td>3</td><td>8.027</td><td>13.91</td><td>1.8649e-11</td><td>3.1946e-12</td><td>2.3387e-10</td><td>4.0089e-11</td><td>5.7941e-12</td><td>1.1532e-12</td><td>1.62</td><td>PowerLaw</td><td>3.2991</td><td>0.5761</td><td>0.9975</td><td>0.0752</td><td>3.8244</td><td>0.4686</td><td>2.0693763e-10 .. 3.2146687e-17</td><td>-3.6117772e-11 .. 5.415478e-12</td><td>6.1869962e-12 .. 2.6999036e-17</td><td>8.354787 .. 0.0</td><td>72.90</td><td>22.349</td><td>0.9113</td><td>1</td><td></td><td>3FGL J1823.2-1339</td><td>N</td><td></td><td></td><td></td><td>HESS J1825-137 field</td><td>0.0000</td><td>0.0000</td><td>--</td><td>--</td></tr>\n",
       "<tr><td>3FHL J1824.5-1351e</td><td>276.1300</td><td>-13.8521</td><td>17.5670</td><td>-0.4534</td><td>--</td><td>--</td><td>--</td><td>3</td><td>17.681</td><td>33.41</td><td>2.2920e-11</td><td>1.8505e-12</td><td>2.0763e-09</td><td>1.6027e-10</td><td>2.0032e-10</td><td>1.9312e-11</td><td>3.15</td><td>LogParabola</td><td>1.5274</td><td>0.1033</td><td>0.1681</td><td>0.0570</td><td>1.7855</td><td>0.0533</td><td>8.0711593e-10 .. 4.889125e-11</td><td>-1.1729498e-10 .. 1.8669868e-11</td><td>2.665785e-11 .. 4.7265237e-11</td><td>7.4071417 .. 3.513798</td><td>656.11</td><td>586.636</td><td>0.7008</td><td>1</td><td>HESS J1825-137</td><td>3FGL J1824.5-1351e</td><td>E</td><td>HESS J1825-137</td><td>PWN</td><td>HESS J1825-137</td><td></td><td>--</td><td>--</td><td>--</td><td>--</td></tr>\n",
       "<tr><td>3FHL J1826.1-1256</td><td>276.5419</td><td>-12.9425</td><td>18.5584</td><td>-0.3829</td><td>0.0223</td><td>0.0223</td><td>--</td><td>3</td><td>10.779</td><td>13.18</td><td>2.7005e-11</td><td>3.9524e-12</td><td>2.6845e-10</td><td>3.9353e-11</td><td>6.1394e-12</td><td>1.0186e-12</td><td>0.76</td><td>PowerLaw</td><td>3.9317</td><td>0.8013</td><td>0.7178</td><td>0.9497</td><td>4.3306</td><td>0.5130</td><td>2.4007585e-10 .. 2.7069141e-12</td><td>-3.5295045e-11 .. 5.39761e-12</td><td>7.0540596e-12 .. 2.1680377e-12</td><td>11.033902 .. 1.0007937</td><td>83.44</td><td>26.397</td><td>0.8407</td><td>1</td><td></td><td>3FGL J1826.1-1256</td><td>E</td><td>HESS J1826-130</td><td>PSR</td><td>LAT PSR J1826-1256</td><td></td><td>1.0000</td><td>0.0000</td><td>--</td><td>--</td></tr>\n",
       "</table></div>"
      ],
      "text/plain": [
       "<Table length=3>\n",
       "   Source_Name     RAJ2000  DEJ2000  ... ASSOC_PROB_LR Redshift NuPeak_obs\n",
       "                     deg      deg    ...                            Hz    \n",
       "     bytes18       float32  float32  ...    float32    float32   float32  \n",
       "------------------ -------- -------- ... ------------- -------- ----------\n",
       "3FHL J1823.3-1339  275.8404 -13.6628 ...        0.0000       --         --\n",
       "3FHL J1824.5-1351e 276.1300 -13.8521 ...            --       --         --\n",
       "3FHL J1826.1-1256  276.5419 -12.9425 ...        0.0000       --         --"
      ]
     },
     "metadata": {},
     "output_type": "display_data"
    }
   ],
   "source": [
    "import astropy.units as u\n",
    "\n",
    "catalog_roi = []\n",
    "for i, catalog in enumerate(catalogs_cls):\n",
    "#     print(f\"{catalog.tag}: {catalog.description}\")\n",
    "    mask_roi = source_position.separation(catalog.positions) < 1 * u.deg\n",
    "    catalog_roi.append(catalog[mask_roi])\n",
    "    display(catalog_roi[i].table)\n",
    "    #print(\"Number of sources :\", len(catalog_roi.table))\n",
    "#     display(catalog_roi.table)"
   ]
  },
  {
   "cell_type": "code",
   "execution_count": 50,
   "id": "f22963e9",
   "metadata": {
    "scrolled": true
   },
   "outputs": [
    {
     "data": {
      "text/plain": [
       "2"
      ]
     },
     "execution_count": 50,
     "metadata": {},
     "output_type": "execute_result"
    }
   ],
   "source": [
    "# Creating the directories to save the flux points tables from Gammapy catalogs\n",
    "dir_flux_points_tables = \"flux_points_tables\"\n",
    "\n",
    "path_flux_points_tables = mkdir_sub_directory(\n",
    "    dir_flux_points_tables\n",
    ")"
   ]
  },
  {
   "cell_type": "code",
   "execution_count": 8,
   "id": "bc029cff",
   "metadata": {},
   "outputs": [
    {
     "ename": "NameError",
     "evalue": "name 'catalog_roi' is not defined",
     "output_type": "error",
     "traceback": [
      "\u001b[0;31m---------------------------------------------------------------------------\u001b[0m",
      "\u001b[0;31mNameError\u001b[0m                                 Traceback (most recent call last)",
      "Cell \u001b[0;32mIn[8], line 21\u001b[0m\n\u001b[1;32m     18\u001b[0m source_catalog \u001b[38;5;241m=\u001b[39m []\n\u001b[1;32m     20\u001b[0m dataset_fp \u001b[38;5;241m=\u001b[39m []\n\u001b[0;32m---> 21\u001b[0m \u001b[38;5;28;01mfor\u001b[39;00m i, catalog \u001b[38;5;129;01min\u001b[39;00m \u001b[38;5;28menumerate\u001b[39m(\u001b[43mcatalog_roi\u001b[49m):\n\u001b[1;32m     22\u001b[0m \u001b[38;5;66;03m#     print(catalog)\u001b[39;00m\n\u001b[1;32m     23\u001b[0m     catalog_tag \u001b[38;5;241m=\u001b[39m catalog\u001b[38;5;241m.\u001b[39mtag\n\u001b[1;32m     24\u001b[0m     \u001b[38;5;28;01mfor\u001b[39;00m j, source \u001b[38;5;129;01min\u001b[39;00m \u001b[38;5;28menumerate\u001b[39m(catalog):\n",
      "\u001b[0;31mNameError\u001b[0m: name 'catalog_roi' is not defined"
     ]
    }
   ],
   "source": [
    "# import pandas as pd \n",
    "# from gammapy.datasets import FluxPointsDataset\n",
    "# from gammapy.catalog import CATALOG_REGISTRY\n",
    "# import os\n",
    "# import sys\n",
    "\n",
    "format_csv = \".csv\"\n",
    "format_fits = \".fits\"\n",
    "\n",
    "sed_type=\"e2dnde\"\n",
    "# sed_type=\"dnde\"\n",
    "\n",
    "\n",
    "catalog_source = []\n",
    "\n",
    "catalog_fp = []\n",
    "\n",
    "source_catalog = []\n",
    "\n",
    "dataset_fp = []\n",
    "for i, catalog in enumerate(catalog_roi):\n",
    "#     print(catalog)\n",
    "    catalog_tag = catalog.tag\n",
    "    for j, source in enumerate(catalog):\n",
    "        try:\n",
    "            \n",
    "            catalog_source.append(catalog_tag)\n",
    "            counterpart_name = source.name\n",
    "            counterpart_txt = counterpart_name.replace(\" \", \"_\")\n",
    "            \n",
    "            ds_name = f\"{counterpart_name}: {catalog_tag}\"  \n",
    "            ds = FluxPointsDataset(\n",
    "                models = source.sky_model(),\n",
    "                data =source.flux_points, \n",
    "                name =  ds_name\n",
    "            )   \n",
    "\n",
    "            source_catalog.append(source)\n",
    "            dataset_fp.append(ds)\n",
    "            catalog_fp.append(catalog_tag)\n",
    "            table = ds.data.to_table(\n",
    "                sed_type = sed_type, \n",
    "                formatted = True\n",
    "            )\n",
    "                    # Writes the flux points table in the fits format\n",
    "            file_name = f'{PeVatron_txt}_{counterpart_txt}_{catalog_tag}{format_fits}'\n",
    "            path_os = os.path.abspath(\n",
    "                os.path.join(\n",
    "                    f\"{path_flux_points_tables}/{file_name}\"\n",
    "                )\n",
    "            )      \n",
    "\n",
    "            if path_os not in sys.path:\n",
    "                sys.path.append(path_os)\n",
    "\n",
    "            table.write(\n",
    "                f\"{path_os}\",\n",
    "                format = 'fits', \n",
    "                overwrite = True\n",
    "            )\n",
    "\n",
    "            \n",
    "        except:\n",
    "            pass\n",
    "\n",
    "#                     # Setting the units\n",
    "                    \n",
    "#                     # Writes the flux points table in the fits format\n",
    "#                     file_name = f'{PeVatron_txt}_{counterpart_txt}_{catalog_tag}{format_fits}'\n",
    "#                     path_os = os.path.abspath(\n",
    "#                         os.path.join(\n",
    "#                             f\"{path_flux_points_tables}/{file_name}\"\n",
    "#                         )\n",
    "#                     )      \n",
    "                    \n",
    "#                     if path_os not in sys.path:\n",
    "#                         sys.path.append(path_os)\n",
    "\n",
    "#                     table.write(\n",
    "#                         f\"{path_os}\",\n",
    "#                         format = 'fits', \n",
    "#                         overwrite = True\n",
    "#                     )\n",
    "                    \n",
    "#                     # Writes the flux points table in the csv format\n",
    "#                     file_name = f'{PeVatron_txt}_{counterpart_txt}_{catalog_tag}{format_csv}'\n",
    "#                     path_os = os.path.abspath(\n",
    "#                         os.path.join(\n",
    "#                             f\"{path_flux_points_tables}/{file_name}\"\n",
    "#                         )\n",
    "#                     )\n",
    "                     \n",
    "#                     if path_os not in sys.path:\n",
    "#                         sys.path.append(path_os)\n",
    "\n",
    "#                     table.write(\n",
    "#                         f\"{path_os}\",\n",
    "#                         format = 'ascii.ecsv', \n",
    "#                         overwrite = True\n",
    "#                     )   \n",
    "                    \n",
    "#             \n",
    "\n",
    "                \n",
    "                    \n",
    "#         print(f\"{source.name}: {catalog.tag}\") "
   ]
  },
  {
   "cell_type": "code",
   "execution_count": null,
   "id": "b0059048",
   "metadata": {},
   "outputs": [],
   "source": [
    "print(catalog_roi[2][0].info())"
   ]
  },
  {
   "cell_type": "code",
   "execution_count": 35,
   "id": "09177076",
   "metadata": {},
   "outputs": [
    {
     "name": "stdout",
     "output_type": "stream",
     "text": [
      "HESS J1826-130: gamma-cat\n",
      "HESS J1825-137: gamma-cat\n",
      "HESS J1825-137: hgps\n",
      "HESS J1826-130: hgps\n",
      "2HWC J1825-134: 2hwc\n",
      "2HWC J1825-134\n",
      "3HWC J1825-134: 3hwc\n",
      "3HWC J1825-134\n",
      "3FGL J1823.2-1339: 3fgl\n",
      "3FGL J1824.5-1351e: 3fgl\n",
      "3FGL J1826.1-1256: 3fgl\n",
      "4FGL J1823.3-1340: 4fgl\n",
      "4FGL J1824.1-1304: 4fgl\n",
      "4FGL J1824.4-1350e: 4fgl\n",
      "4FGL J1826.1-1256: 4fgl\n",
      "4FGL J1828.1-1312: 4fgl\n",
      "2FHL J1824.5-1350e: 2fhl\n",
      "3FHL J1823.3-1339: 3fhl\n",
      "3FHL J1824.5-1351e: 3fhl\n",
      "3FHL J1826.1-1256: 3fhl\n"
     ]
    }
   ],
   "source": [
    "dataset_fp = []\n",
    "# k=0\n",
    "for i, catalog in enumerate(catalog_roi):\n",
    "#     print(catalog)\n",
    "    for j, source in enumerate(catalog):\n",
    "#         print(source)\n",
    "        print(f\"{source.name}: {catalog.tag}\") \n",
    "        \n",
    "        try:\n",
    "            ds_name = f\"{source.name}: {catalog.tag}\"  \n",
    "            ds = FluxPointsDataset(\n",
    "                models = source.sky_model(),\n",
    "                data=source.flux_points, \n",
    "                name=  ds_name\n",
    "            )\n",
    "#             print(k)\n",
    "#             k+=1\n",
    "            dataset_fp.append(ds)\n",
    "               \n",
    "        except:\n",
    "            print(source.name) "
   ]
  },
  {
   "cell_type": "code",
   "execution_count": null,
   "id": "89f24cfb",
   "metadata": {},
   "outputs": [],
   "source": [
    "# import pandas library as pd\n",
    "\n",
    "import pandas as pd \n",
    "from gammapy.datasets import FluxPointsDataset\n",
    "from gammapy.catalog import CATALOG_REGISTRY\n",
    "import os\n",
    "import sys\n",
    "\n",
    "format_csv = \".csv\"\n",
    "format_fits = \".fits\"\n",
    "\n",
    "sed_type=\"e2dnde\"\n",
    "# sed_type=\"dnde\"\n",
    "\n",
    "df_columns=[]\n",
    "datasets_fp = []\n",
    "sources_catalogs = []\n",
    "  \n",
    "# create an Empty DataFrame object\n",
    "df = pd.DataFrame()\n",
    "\n",
    "\n",
    "def getting_source_data(dict_TeV_counterparts = None, catalogs_tags = None):\n",
    "    '''\n",
    "    To write Docstring!!!!\n",
    "    '''\n",
    "    \n",
    "#     LHAASO_range = range(len())\n",
    "    for PeVatron_name in list(dict_TeV_counterparts.keys()):\n",
    "#     for i in LHAASO_range:\n",
    "\n",
    "#         PeVatron_name = dict_key[i]\n",
    "        PeVatron_txt = PeVatron_name.replace(\" \", \"\")\n",
    "        \n",
    "#         source_range = range(len())\n",
    "        for counterpart_name in dict_TeV_counterparts[PeVatron_name]:\n",
    "            \n",
    "            counterpart_txt = counterpart_name.replace(\" \", \"\")\n",
    "\n",
    "            catalog_source = []\n",
    "\n",
    "            catalog_fp = []\n",
    "            \n",
    "            source_catalog = []\n",
    "\n",
    "            dataset_fp = []\n",
    "\n",
    "#             counterpart_name = dict_TeV_counterparts[PeVatron_name][j]\n",
    "            \n",
    "#             catalog_range = range(len(catalogs_tags))\n",
    "#             for k in catalog_range: \n",
    "            for catalog_tag in catalogs_tags:    \n",
    "#                 catalog_tag = catalogs_tags[k]\n",
    "\n",
    "                catalog = CATALOG_REGISTRY.get_cls(catalog_tag)()\n",
    "                \n",
    "                try:\n",
    "                    \n",
    "                    src = catalog[counterpart_name]\n",
    "                    \n",
    "                    catalog_source.append(catalog_tag)\n",
    "                    \n",
    "                    ds_name = f\"{counterpart_name}: {catalog_tag}\"\n",
    "                    ds = FluxPointsDataset(\n",
    "                        models = src.sky_model(),\n",
    "                        data=src.flux_points, \n",
    "                        name=  ds_name     \n",
    "                    )\n",
    "                    \n",
    "                    source_catalog.append(src)\n",
    "                    dataset_fp.append(ds)\n",
    "                    catalog_fp.append(catalog_tag)\n",
    "\n",
    "                    table = ds.data.to_table(\n",
    "                        sed_type = sed_type, \n",
    "                        formatted = True\n",
    "                    )\n",
    "                    \n",
    "                    # Setting the units\n",
    "                    \n",
    "                    # Writes the flux points table in the fits format\n",
    "                    file_name = f'{PeVatron_txt}_{counterpart_txt}_{catalog_tag}{format_fits}'\n",
    "                    path_os = os.path.abspath(\n",
    "                        os.path.join(\n",
    "                            f\"{path_flux_points_tables}/{file_name}\"\n",
    "                        )\n",
    "                    )      \n",
    "                    \n",
    "                    if path_os not in sys.path:\n",
    "                        sys.path.append(path_os)\n",
    "\n",
    "                    table.write(\n",
    "                        f\"{path_os}\",\n",
    "                        format = 'fits', \n",
    "                        overwrite = True\n",
    "                    )\n",
    "                    \n",
    "                    # Writes the flux points table in the csv format\n",
    "                    file_name = f'{PeVatron_txt}_{counterpart_txt}_{catalog_tag}{format_csv}'\n",
    "                    path_os = os.path.abspath(\n",
    "                        os.path.join(\n",
    "                            f\"{path_flux_points_tables}/{file_name}\"\n",
    "                        )\n",
    "                    )\n",
    "                     \n",
    "                    if path_os not in sys.path:\n",
    "                        sys.path.append(path_os)\n",
    "\n",
    "                    table.write(\n",
    "                        f\"{path_os}\",\n",
    "                        format = 'ascii.ecsv', \n",
    "                        overwrite = True\n",
    "                    )   \n",
    "                    \n",
    "                except:\n",
    "                    pass\n",
    "\n",
    "                df_columns_source = [PeVatron_name, PeVatron_txt, counterpart_name, counterpart_txt, catalog_source, catalog_fp]\n",
    "            df_columns.append(df_columns_source)\n",
    "            datasets_fp.append(dataset_fp)\n",
    "            sources_catalogs.append(source_catalog)\n",
    "\n",
    "    df = pd.DataFrame(df_columns, columns = ['PeVatron_name', \"PeVatron_txt\",'counterpart_name', \"counterpart_txt\", 'catalog', 'flux_points']) \n",
    "    df_fp = df[df[\"flux_points\"].str.len() != 0]\n",
    "    df_fp = df_fp.reset_index(drop = True)\n",
    "    df_fp.index.name = 'counterpart_index'\n",
    "    \n",
    "    file_name = \"data_frame_flux_points.csv\"\n",
    "    path_file = f\"{os.getcwd()}/{file_name}\"\n",
    "    df_fp.to_csv(path_file, index = \"True\" )\n",
    "    \n",
    "    df_no_fp = df[df[\"flux_points\"].str.len() == 0]\n",
    "    df_no_fp = df_no_fp.reset_index(drop = True)\n",
    "    df_no_fp.index.name = df_fp.index.name\n",
    "    \n",
    "    file_name = \"data_frame_no_flux_points.csv\"\n",
    "    path_file = f\"{os.getcwd()}/{file_name}\"\n",
    "    df_no_fp.to_csv(path_file, index = \"True\")\n",
    "    print(f\"Sources without flux points table: {list(df_no_fp['counterpart_name'])}\")\n",
    "    \n",
    "    sources_catalogs[:] = list(filter(None, sources_catalogs))\n",
    "    datasets_fp[:] = list(filter(None, datasets_fp))\n",
    "    \n",
    "    return df_fp, datasets_fp, sources_catalogs"
   ]
  },
  {
   "cell_type": "code",
   "execution_count": 25,
   "id": "03a57ddd",
   "metadata": {
    "scrolled": true
   },
   "outputs": [
    {
     "data": {
      "text/plain": [
       "16"
      ]
     },
     "metadata": {},
     "output_type": "display_data"
    }
   ],
   "source": [
    "display(len(dataset_fp))"
   ]
  },
  {
   "cell_type": "code",
   "execution_count": 26,
   "id": "d39a67d4",
   "metadata": {},
   "outputs": [
    {
     "ename": "NameError",
     "evalue": "name 'SkyModel' is not defined",
     "output_type": "error",
     "traceback": [
      "\u001b[0;31m---------------------------------------------------------------------------\u001b[0m",
      "\u001b[0;31mNameError\u001b[0m                                 Traceback (most recent call last)",
      "Cell \u001b[0;32mIn[26], line 5\u001b[0m\n\u001b[1;32m      2\u001b[0m spectral_model \u001b[38;5;241m=\u001b[39m source\u001b[38;5;241m.\u001b[39mspectral_model()\n\u001b[1;32m      4\u001b[0m spectral_model_name\u001b[38;5;241m=\u001b[39msky_model\u001b[38;5;241m.\u001b[39mspectral_model\u001b[38;5;241m.\u001b[39mtag[\u001b[38;5;241m1\u001b[39m]\n\u001b[0;32m----> 5\u001b[0m model \u001b[38;5;241m=\u001b[39m \u001b[43mSkyModel\u001b[49m(spectral_model\u001b[38;5;241m=\u001b[39msource\u001b[38;5;241m.\u001b[39mspectral_model(), name\u001b[38;5;241m=\u001b[39mspectral_model_name)\n",
      "\u001b[0;31mNameError\u001b[0m: name 'SkyModel' is not defined"
     ]
    }
   ],
   "source": [
    "sky_model = source.sky_model()\n",
    "spectral_model = source.spectral_model()\n",
    "\n",
    "spectral_model_name=sky_model.spectral_model.tag[1]\n",
    "model = SkyModel(spectral_model=source.spectral_model(), name=spectral_model_name)"
   ]
  },
  {
   "cell_type": "code",
   "execution_count": null,
   "id": "70f08ef0",
   "metadata": {},
   "outputs": [],
   "source": [
    "datasets = Datasets([dataset_fp[0], dataset_fp[1], dataset_fp[2], dataset_fp[3], dataset_fp[4], dataset_fp[5],dataset_fp[6]\n",
    "                    , dataset_fp[7], dataset_fp[8], dataset_fp[9], dataset_fp[10], dataset_fp[11], dataset_fp[12], dataset_fp[13], dataset_fp[14], dataset_fp[15]])\n",
    "datasets.models = model\n",
    "# print(datasets)\n",
    "\n",
    "fitter = Fit()\n",
    "result_pwl = fitter.run(datasets=datasets)"
   ]
  },
  {
   "cell_type": "code",
   "execution_count": null,
   "id": "05a40715",
   "metadata": {},
   "outputs": [],
   "source": [
    "# A color-blind/friendly color cycle for Matplotlib line plots. \n",
    "colors_tags =[\n",
    "    '#377eb8', \n",
    "    '#ff7f00', \n",
    "    '#4daf4a',\n",
    "    '#f781bf', \n",
    "    '#a65628', \n",
    "    '#984ea3',\n",
    "    '#999999', \n",
    "    '#e41a1c', \n",
    "    '#dede00'\n",
    "]\n",
    "\n",
    "# colors_tags = [\"b\", \"g\", \"r\", \"c\", \"m\", \"y\", \"k\", \"m\"]\n",
    "\n",
    "from matplotlib.lines import Line2D\n",
    "print(Line2D.markers)"
   ]
  },
  {
   "cell_type": "code",
   "execution_count": null,
   "id": "074ea150",
   "metadata": {},
   "outputs": [],
   "source": []
  },
  {
   "cell_type": "code",
   "execution_count": null,
   "id": "0c1854b3",
   "metadata": {},
   "outputs": [],
   "source": []
  },
  {
   "cell_type": "code",
   "execution_count": null,
   "id": "e744485e",
   "metadata": {},
   "outputs": [],
   "source": [
    "ax = plt.subplot()\n",
    "ax.yaxis.set_units(u.Unit(\"erg cm-2 s-1\"))\n",
    "ax.xaxis.set_units(u.Unit(\"TeV\"))\n",
    "\n",
    "kwargs = {\"ax\": ax, \"sed_type\": \"e2dnde\"}\n",
    "# color_tag = 0\n",
    "for d in datasets:\n",
    "#     d.data.plot(label=d.name, color=colors_tags[color_tag], **kwargs)\n",
    "    d.data.plot(label=d.name, **kwargs)\n",
    "\n",
    "#     color_tag += 1\n",
    "    \n",
    "energy_bounds = [1e-8, 1e3] * u.TeV\n",
    "# pwl.plot(energy_bounds=energy_bounds, color=\"k\", **kwargs)\n",
    "# pwl.plot_error(energy_bounds=energy_bounds, **kwargs)\n",
    "ax.legend(loc=\"best\")\n",
    "ax.set_ylim(1e-20, 1e-6)\n",
    "ax.set_xlim(energy_bounds)\n",
    "ax.legend(loc='lower left', prop={'size': 8})\n",
    "plt.show()"
   ]
  },
  {
   "cell_type": "code",
   "execution_count": null,
   "id": "6ae3d1f2",
   "metadata": {},
   "outputs": [],
   "source": [
    "from astropy.table import Table\n",
    "\n",
    "table_CTA = Table.read('CTA_table.csv',format='ascii', delimiter=' ', comment='#')\n",
    "table_CTA"
   ]
  },
  {
   "cell_type": "code",
   "execution_count": null,
   "id": "0db2232d",
   "metadata": {},
   "outputs": [],
   "source": [
    "CTA_sensitivity = Table.read('CTA_sensitivity.csv',format='ascii', delimiter=' ', comment='#')\n",
    "CTA_sensitivity"
   ]
  },
  {
   "cell_type": "code",
   "execution_count": null,
   "id": "873328cb",
   "metadata": {},
   "outputs": [],
   "source": [
    "fix, axes = plt.subplots(figsize=(5, 3))\n",
    "\n",
    "axes.plot(CTA_sensitivity[\"energy\"], CTA_sensitivity[\"e2dnde\"], \"s-\", color=\"red\")\n",
    "axes.loglog()"
   ]
  },
  {
   "cell_type": "code",
   "execution_count": null,
   "id": "b24ac6c0",
   "metadata": {},
   "outputs": [],
   "source": [
    " dataset_fp[0].data.to_table(sed_type='e2dnde')"
   ]
  },
  {
   "cell_type": "code",
   "execution_count": null,
   "id": "05c85f68",
   "metadata": {},
   "outputs": [],
   "source": [
    "from gammapy.estimators import FluxPoints"
   ]
  },
  {
   "cell_type": "code",
   "execution_count": null,
   "id": "df855d05",
   "metadata": {},
   "outputs": [],
   "source": [
    "plt.style.use(['default'])\n",
    "\n",
    "datasets = Datasets([\n",
    "#     dataset_fp[0], \n",
    "                     dataset_fp[1], \n",
    "                     dataset_fp[2], \n",
    "#                      dataset_fp[3], \n",
    "#                      dataset_fp[4],\n",
    "                     dataset_fp[5],\n",
    "#                      dataset_fp[6], \n",
    "#                      dataset_fp[7], \n",
    "#                      dataset_fp[8], \n",
    "                     dataset_fp[9], \n",
    "#                      dataset_fp[10], \n",
    "#                      dataset_fp[11], \n",
    "                     dataset_fp[12], \n",
    "#                      dataset_fp[13], \n",
    "                     dataset_fp[14], \n",
    "#                      dataset_fp[15]\n",
    "                    ])\n",
    "datasets.models = model\n",
    "# print(datasets)\n",
    "\n",
    "fitter = Fit()\n",
    "result_pwl = fitter.run(datasets=datasets)\n",
    "\n",
    "fig, ax = plt.subplots(figsize=(10, 6))\n",
    "ax.yaxis.set_units(u.Unit(\"erg cm-2 s-1\"))\n",
    "ax.xaxis.set_units(u.Unit(\"TeV\"))\n",
    "FluxPoints.from_table(table = table_CTA, sed_type='e2dnde').plot(label= 'CTA')\n",
    "kwargs = {\"ax\": ax, \"sed_type\": \"e2dnde\"}\n",
    "\n",
    "table_index =2\n",
    "# PeVatron_name = PeVatrons_names[table_index]\n",
    "# kwargs_PeV = {\n",
    "#     'label': PeVatron_name\n",
    "# }\n",
    "# ax.plot(x_data[table_index], y_data[table_index], 'o', color='red', lw=2, ms=4)\n",
    "# ax.errorbar(x_data[table_index], y_data[table_index], yerr=[y_errn[table_index], y_errp[table_index]],fmt='.', color='red', **kwargs_PeV)\n",
    "\n",
    "    \n",
    "for d in datasets:\n",
    "    d.data.plot(label=d.name, **kwargs)\n",
    "\n",
    "energy_bounds = [1e-5, 1e2] * u.TeV\n",
    "# pwl.plot(energy_bounds=energy_bounds, color=\"k\", **kwargs)\n",
    "# pwl.plot_error(energy_bounds=energy_bounds, **kwargs)\n",
    "ax.loglog()\n",
    "ax.legend(loc=\"best\")\n",
    "ax.set_ylim(1e-15, 1e-9)\n",
    "ax.set_xlim(energy_bounds)\n",
    "plt.xlabel(\"Energy (TeV)\")   \n",
    "plt.ylabel(r\"$E^{2}$dN/dE (erg $cm^{-2}$ $s^{-1}$)\")\n",
    "ax.legend(loc='lower left', prop={'size': 8})\n",
    "plt.show()"
   ]
  },
  {
   "cell_type": "code",
   "execution_count": null,
   "id": "ff72fba2",
   "metadata": {},
   "outputs": [],
   "source": [
    "datasets = Datasets([\n",
    "    dataset_fp[0], \n",
    "\n",
    "                     dataset_fp[3], \n",
    "                     dataset_fp[4],\n",
    "                     dataset_fp[6], \n",
    "                     dataset_fp[7], \n",
    "                     dataset_fp[8], \n",
    "                     dataset_fp[10], \n",
    "                     dataset_fp[11], \n",
    "                     dataset_fp[13], \n",
    "                     dataset_fp[15]\n",
    "                    ])\n",
    "datasets.models = model\n",
    "# print(datasets)\n",
    "\n",
    "fitter = Fit()\n",
    "result_pwl = fitter.run(datasets=datasets)\n",
    "\n",
    "fig, ax = plt.subplots(figsize=(10, 6))\n",
    "\n",
    "# ax = plt.subplot(figsize=(5, 3))\n",
    "ax.yaxis.set_units(u.Unit(\"erg cm-2 s-1\"))\n",
    "ax.xaxis.set_units(u.Unit(\"TeV\"))\n",
    "\n",
    "kwargs = {\"ax\": ax, \"sed_type\": \"e2dnde\"}\n",
    "\n",
    "for d in datasets:\n",
    "    d.data.plot(label=d.name, **kwargs)\n",
    "\n",
    "energy_bounds = [1e-8, 1e3] * u.TeV\n",
    "# pwl.plot(energy_bounds=energy_bounds, color=\"k\", **kwargs)\n",
    "# pwl.plot_error(energy_bounds=energy_bounds, **kwargs)\n",
    "ax.legend(loc=\"best\")\n",
    "ax.set_ylim(1e-20, 1e-6)\n",
    "ax.set_xlim(energy_bounds)\n",
    "ax.legend(loc='lower left', prop={'size': 8})\n",
    "plt.show()"
   ]
  },
  {
   "cell_type": "code",
   "execution_count": null,
   "id": "51de4f31",
   "metadata": {},
   "outputs": [],
   "source": [
    "catalog = catalogs_cls[5]\n",
    "mask_roi = source_position.separation(catalog.positions) < 1 * u.deg\n",
    "catalog_roi = catalog[mask_roi]\n",
    "    "
   ]
  },
  {
   "cell_type": "code",
   "execution_count": null,
   "id": "6d84334c",
   "metadata": {},
   "outputs": [],
   "source": [
    "dataset_fp"
   ]
  },
  {
   "cell_type": "code",
   "execution_count": null,
   "id": "a37a97ec",
   "metadata": {},
   "outputs": [],
   "source": [
    "print(catalog_roi[1])"
   ]
  },
  {
   "cell_type": "code",
   "execution_count": null,
   "id": "026fb225",
   "metadata": {},
   "outputs": [],
   "source": [
    "catalog_roi[0].flux_points_table"
   ]
  },
  {
   "cell_type": "code",
   "execution_count": null,
   "id": "a9275d40",
   "metadata": {},
   "outputs": [],
   "source": [
    "catalog_roi.source_name(0)"
   ]
  },
  {
   "cell_type": "code",
   "execution_count": null,
   "id": "ebcd512d",
   "metadata": {},
   "outputs": [],
   "source": [
    "source = catalog_roi[0]\n",
    "print(source.sky_model())"
   ]
  },
  {
   "cell_type": "code",
   "execution_count": null,
   "id": "dceba523",
   "metadata": {},
   "outputs": [],
   "source": [
    "sky_model = source.sky_model()\n",
    "spectral_model = source.spectral_model()\n",
    "\n",
    "spectral_model_name=sky_model.spectral_model.tag[1]\n"
   ]
  },
  {
   "cell_type": "code",
   "execution_count": null,
   "id": "6f03d804",
   "metadata": {},
   "outputs": [],
   "source": [
    "spectral_model_name"
   ]
  },
  {
   "cell_type": "code",
   "execution_count": null,
   "id": "0637b1a3",
   "metadata": {},
   "outputs": [],
   "source": [
    "print(source.spectral_model())"
   ]
  },
  {
   "cell_type": "code",
   "execution_count": null,
   "id": "e5cfc352",
   "metadata": {},
   "outputs": [],
   "source": [
    "# model = SkyModel(spectral_model=source.spectral_model(), name=spectral_model_name)\n",
    "# # ds_name = f\"{source.name}: {catalog_roi.tag}\"\n",
    "# datasets = Datasets([dataset_fp])\n",
    "# datasets.models = model\n",
    "# print(datasets)\n",
    "\n",
    "# fitter = Fit()\n",
    "# result_pwl = fitter.run(datasets=datasets)"
   ]
  },
  {
   "cell_type": "code",
   "execution_count": null,
   "id": "bf26d8b3",
   "metadata": {},
   "outputs": [],
   "source": []
  },
  {
   "cell_type": "code",
   "execution_count": null,
   "id": "8aeccad8",
   "metadata": {},
   "outputs": [],
   "source": [
    "\n",
    "ax = plt.subplot()\n",
    "ax.yaxis.set_units(u.Unit(\"erg cm-2 s-1\"))\n",
    "ax.xaxis.set_units(u.Unit(\"TeV\"))\n",
    "\n",
    "kwargs = {\"ax\": ax, \"sed_type\": \"e2dnde\"}\n",
    "\n",
    "for d in datasets:\n",
    "    d.data.plot(label=d.name, **kwargs)\n",
    "\n",
    "energy_bounds = [1e-5, 1e2] * u.TeV\n",
    "source.spectral_model().plot(energy_bounds=energy_bounds, color=\"k\", **kwargs)\n",
    "source.spectral_model().plot_error(energy_bounds=energy_bounds, **kwargs)\n",
    "ax.set_ylim(1e-16, 1e-8)\n",
    "ax.set_xlim(energy_bounds)\n",
    "ax.legend(prop={'size': 8},frameon=False, loc='upper left',ncol=3,handlelength=2)\n",
    "plt.show()"
   ]
  },
  {
   "cell_type": "code",
   "execution_count": null,
   "id": "a7d5a1f3",
   "metadata": {},
   "outputs": [],
   "source": []
  },
  {
   "cell_type": "code",
   "execution_count": null,
   "id": "acc58b1c",
   "metadata": {},
   "outputs": [],
   "source": [
    "# src = catalog[counterpart_name]\n",
    "\n",
    "# catalog_source.append(catalog_tag)\n",
    "\n",
    "# ds_name = f\"{counterpart_name}: {catalog_tag}\"\n",
    "# ds = FluxPointsDataset(\n",
    "#     models = src.sky_model(),\n",
    "#     data=src.flux_points, \n",
    "#     name=  ds_name     \n",
    "# )\n",
    "\n",
    "# source_catalog.append(src)\n",
    "# dataset_fp.append(ds)\n",
    "# catalog_fp.append(catalog_tag)\n",
    "\n",
    "# table = ds.data.to_table(\n",
    "#     sed_type = sed_type, \n",
    "#     formatted = True\n",
    "# )\n"
   ]
  },
  {
   "cell_type": "code",
   "execution_count": null,
   "id": "f0b7bd2f",
   "metadata": {},
   "outputs": [],
   "source": []
  },
  {
   "cell_type": "code",
   "execution_count": null,
   "id": "b91fe968",
   "metadata": {},
   "outputs": [],
   "source": [
    "from gammapy.catalog import SourceCatalog4FGL\n",
    "catalog = SourceCatalog4FGL(\"$GAMMAPY_DATA/catalogs/fermi/gll_psc_v28.fit.gz\")\n",
    "print(\"Number of sources :\", len(catalog.table))"
   ]
  },
  {
   "cell_type": "code",
   "execution_count": null,
   "id": "c1d3de6a",
   "metadata": {},
   "outputs": [],
   "source": [
    "display(catalog.table)"
   ]
  },
  {
   "cell_type": "code",
   "execution_count": null,
   "id": "794bb28a",
   "metadata": {},
   "outputs": [],
   "source": [
    "catalog['HESS J1826-130'].flux_points.plot(sed_type='e2dnde')"
   ]
  },
  {
   "cell_type": "code",
   "execution_count": null,
   "id": "035cc866",
   "metadata": {},
   "outputs": [],
   "source": [
    "catalog_roi.tag"
   ]
  },
  {
   "cell_type": "code",
   "execution_count": null,
   "id": "e9462e85",
   "metadata": {},
   "outputs": [],
   "source": [
    "catalog = catalogs_cls[7]\n",
    "print(f\"{catalog.tag}: {catalog.description}\")"
   ]
  },
  {
   "cell_type": "code",
   "execution_count": null,
   "id": "5a6fb794",
   "metadata": {},
   "outputs": [],
   "source": [
    "source1 = catalog['3FHL J1823.3-1339']\n",
    "# source1.data"
   ]
  },
  {
   "cell_type": "code",
   "execution_count": null,
   "id": "4abcb4e4",
   "metadata": {},
   "outputs": [],
   "source": [
    "source1.flux_points.plot()"
   ]
  },
  {
   "cell_type": "code",
   "execution_count": null,
   "id": "ca4b8b96",
   "metadata": {},
   "outputs": [],
   "source": [
    "source2 = catalog['3FHL J1824.5-1351e']\n",
    "source2.flux_points.plot()"
   ]
  },
  {
   "cell_type": "code",
   "execution_count": null,
   "id": "2900cdf5",
   "metadata": {},
   "outputs": [],
   "source": [
    "\n",
    "source3 = catalog['3FHL J1826.1-1256']\n",
    "source3.flux_points.plot()"
   ]
  },
  {
   "cell_type": "code",
   "execution_count": null,
   "id": "48f960a7",
   "metadata": {},
   "outputs": [],
   "source": [
    "ds_1 = FluxPointsDataset(data=source1.flux_points, name=source1.name)\n",
    "ds_1.data.to_table(sed_type=\"dnde\", formatted=True)\n",
    "\n"
   ]
  },
  {
   "cell_type": "code",
   "execution_count": null,
   "id": "92e21d3c",
   "metadata": {},
   "outputs": [],
   "source": [
    "ds_2 = FluxPointsDataset(data=source2.flux_points, name=source2.name)\n",
    "ds_2.data.to_table(sed_type=\"dnde\", formatted=True)\n",
    "\n"
   ]
  },
  {
   "cell_type": "code",
   "execution_count": null,
   "id": "09dd796a",
   "metadata": {},
   "outputs": [],
   "source": [
    "ds_3 = FluxPointsDataset(data=source3.flux_points, name=source3.name)\n",
    "ds_3.data.to_table(sed_type=\"dnde\", formatted=True)"
   ]
  },
  {
   "cell_type": "code",
   "execution_count": null,
   "id": "69c9f355",
   "metadata": {},
   "outputs": [],
   "source": [
    "pwl = PowerLawSpectralModel(\n",
    "    index=2, amplitude=\"1e-12 cm-2 s-1 TeV-1\", reference=\"1 TeV\"\n",
    ")\n",
    "model = SkyModel(spectral_model=pwl, name=\"j1507-pl\")"
   ]
  },
  {
   "cell_type": "code",
   "execution_count": null,
   "id": "21c25e53",
   "metadata": {},
   "outputs": [],
   "source": [
    "datasets = Datasets([ds_1, ds_2, ds_3])\n",
    "datasets.models = model\n",
    "print(datasets)\n",
    "\n",
    "fitter = Fit()\n",
    "result_pwl = fitter.run(datasets=datasets)"
   ]
  },
  {
   "cell_type": "code",
   "execution_count": null,
   "id": "a0f329cf",
   "metadata": {},
   "outputs": [],
   "source": [
    "ax = plt.subplot()\n",
    "ax.yaxis.set_units(u.Unit(\"erg cm-2 s-1\"))\n",
    "ax.xaxis.set_units(u.Unit(\"TeV\"))\n",
    "\n",
    "kwargs = {\"ax\": ax, \"sed_type\": \"e2dnde\"}\n",
    "\n",
    "for d in datasets:\n",
    "    d.data.plot(label=d.name, **kwargs)\n",
    "\n",
    "energy_bounds = [1e-10, 1e3] * u.TeV\n",
    "# pwl.plot(energy_bounds=energy_bounds, color=\"k\", **kwargs)\n",
    "# pwl.plot_error(energy_bounds=energy_bounds, **kwargs)\n",
    "ax.set_ylim(1e-16, 1e-9)\n",
    "ax.set_xlim(energy_bounds)\n",
    "ax.legend()\n",
    "plt.show()"
   ]
  },
  {
   "cell_type": "code",
   "execution_count": null,
   "id": "2d4c172f",
   "metadata": {},
   "outputs": [],
   "source": [
    "sky_model = source.sky_model()\n",
    "spectral_model = source.spectral_model()\n",
    "\n",
    "# name=spectral_model_name=sky_model.spectral_model.tag[0]\n",
    "# print(name)\n"
   ]
  },
  {
   "cell_type": "code",
   "execution_count": null,
   "id": "7956d40d",
   "metadata": {},
   "outputs": [],
   "source": [
    "ds_name = f\"{source.name}: {catalog.tag}\"\n",
    "# ds = FluxPointsDataset(\n",
    "#     models = source.sky_model(),\n",
    "#     data=source.flux_points, \n",
    "#     name=  ds_name     \n",
    "# )"
   ]
  },
  {
   "cell_type": "code",
   "execution_count": null,
   "id": "9bd7bcf1",
   "metadata": {},
   "outputs": [],
   "source": [
    "sky_model = SkyModel(spectral_model=spectral_model, name=spectral_model_name)\n",
    "\n",
    "ds_J1908 = FluxPointsDataset(\n",
    "                        models = sky_model,\n",
    "                        data=source.flux_points, \n",
    "                        name=  sky_model.name     \n",
    "                    )\n",
    "\n",
    "datasets = Datasets(ds_J1908)\n",
    "datasets.models = sky_model\n",
    "\n",
    "fitter = Fit()\n",
    "\n",
    "result_fit = fitter.run(datasets=datasets)\n",
    "\n",
    "plt.style.use(['default'])\n",
    "\n",
    "ax = plt.subplot()\n",
    "ax.yaxis.set_units(u.Unit(\"erg cm-2 s-1\"))\n",
    "ax.xaxis.set_units(u.Unit(\"TeV\"))\n",
    "\n",
    "kwargs = {\"ax\": ax, \"sed_type\": \"e2dnde\"}\n",
    "\n",
    "for d in datasets:\n",
    "    d.data.plot(label=d.name, **kwargs)\n",
    "\n",
    "energy_bounds = (1 * u.MeV, 100 * u.TeV)\n",
    "spectral_model.plot(energy_bounds=energy_bounds, color=\"k\", **kwargs)\n",
    "ax.set_ylim(1e-16, 1e-8)\n",
    "ax.set_xlim(energy_bounds)\n",
    "ax.legend()\n",
    "plt.show()"
   ]
  },
  {
   "cell_type": "code",
   "execution_count": null,
   "id": "63b642a8",
   "metadata": {},
   "outputs": [],
   "source": [
    "# source = catalog_4fgl[\"HESS J1825-137\"]\n",
    "# source.position\n",
    "mask_roi = source_position.separation(catalog.positions) < 1 * u.deg\n",
    "\n",
    "catalog_roi = catalog[mask_roi]\n",
    "print(\"Number of sources :\", len(catalog_roi.table))\n"
   ]
  },
  {
   "cell_type": "code",
   "execution_count": null,
   "id": "5a4c1be0",
   "metadata": {
    "scrolled": true
   },
   "outputs": [],
   "source": [
    "display(catalog_roi.table)"
   ]
  },
  {
   "cell_type": "code",
   "execution_count": null,
   "id": "bbb1e94a",
   "metadata": {},
   "outputs": [],
   "source": [
    "catalog_roi.table"
   ]
  },
  {
   "cell_type": "code",
   "execution_count": null,
   "id": "0fa4f62e",
   "metadata": {},
   "outputs": [],
   "source": [
    "# display(catalog_roi.table['Source_Name',\n",
    "#  'DataRelease',\n",
    "#  'RAJ2000',\n",
    "#  'DEJ2000', 'Extended_Source_Name',\n",
    "#  'Signif_Avg','ASSOC_4FGL',\n",
    "#  'ASSOC_FGL',\n",
    "#  'ASSOC_FHL',\n",
    "#  'ASSOC_GAM1',\n",
    "#  'ASSOC_GAM2',\n",
    "#  'ASSOC_GAM3',\n",
    "#  'TEVCAT_FLAG',\n",
    "#  'ASSOC_TEV',\n",
    "#  'CLASS1',\n",
    "#  'CLASS2',\n",
    "#  'ASSOC1',\n",
    "#  'ASSOC2',\n",
    "#  'ASSOC_PROB_BAY',\n",
    "#  'ASSOC_PROB_LR'])"
   ]
  },
  {
   "cell_type": "code",
   "execution_count": null,
   "id": "df51ee5f",
   "metadata": {},
   "outputs": [],
   "source": [
    "source = catalog_roi[1]\n",
    "sky_model = source.sky_model()\n",
    "spectral_model = source.spectral_model()\n",
    "\n",
    "name=spectral_model_name=sky_model.spectral_model.tag[0]\n",
    "print(name)\n",
    "\n"
   ]
  },
  {
   "cell_type": "code",
   "execution_count": null,
   "id": "c6c37859",
   "metadata": {},
   "outputs": [],
   "source": [
    "print(source.info())"
   ]
  },
  {
   "cell_type": "code",
   "execution_count": null,
   "id": "ddc0fa39",
   "metadata": {
    "scrolled": true
   },
   "outputs": [],
   "source": [
    "source.data.Flux_Band"
   ]
  },
  {
   "cell_type": "code",
   "execution_count": null,
   "id": "9de15ff9",
   "metadata": {},
   "outputs": [],
   "source": [
    "mask_bright = np.zeros(len(catalog_roi.table), dtype=bool)\n",
    "for k, source in enumerate(catalog_roi):\n",
    "    flux = source.spectral_model().integral(100 * u.GeV, 200 * u.GeV).to(\"cm-2 s-1\")\n",
    "    source.flux_points.energy_max\n",
    "    if flux > 1e-10 * u.Unit(\"cm-2 s-1\"):\n",
    "        mask_bright[k] = True\n",
    "        print(f\"{source.row_index:<7d} {source.name:20s} {flux:.3g}\")"
   ]
  },
  {
   "cell_type": "code",
   "execution_count": null,
   "id": "8c156ba6",
   "metadata": {},
   "outputs": [],
   "source": [
    "sky_model = SkyModel(spectral_model=spectral_model, name=spectral_model_name)\n",
    "\n",
    "ds_J1908 = FluxPointsDataset(\n",
    "                        models = sky_model,\n",
    "                        data=source.flux_points, \n",
    "                        name=  sky_model.name     \n",
    "                    )\n",
    "\n",
    "datasets = Datasets(ds_J1908)\n",
    "datasets.models = sky_model\n",
    "\n",
    "fitter = Fit()\n",
    "\n",
    "result_fit = fitter.run(datasets=datasets)\n",
    "\n",
    "plt.style.use(['default'])\n",
    "\n",
    "ax = plt.subplot()\n",
    "ax.yaxis.set_units(u.Unit(\"erg cm-2 s-1\"))\n",
    "ax.xaxis.set_units(u.Unit(\"TeV\"))\n",
    "\n",
    "kwargs = {\"ax\": ax, \"sed_type\": \"e2dnde\"}\n",
    "\n",
    "for d in datasets:\n",
    "    d.data.plot(label=d.name, **kwargs)\n",
    "\n",
    "energy_bounds = (1 * u.MeV, 100 * u.TeV)\n",
    "spectral_model.plot(energy_bounds=energy_bounds, color=\"k\", **kwargs)\n",
    "ax.set_ylim(1e-16, 1e-8)\n",
    "ax.set_xlim(energy_bounds)\n",
    "ax.legend()\n",
    "plt.show()"
   ]
  },
  {
   "cell_type": "code",
   "execution_count": null,
   "id": "a07c67a1",
   "metadata": {},
   "outputs": [],
   "source": []
  },
  {
   "cell_type": "markdown",
   "id": "6cf56d02",
   "metadata": {},
   "source": [
    "<a id='3.2'></a>\n",
    "🔝 [Back to Top](#intro)<br>\n",
    "#### 3.2 Data Published in the Nature"
   ]
  },
  {
   "cell_type": "code",
   "execution_count": null,
   "id": "e78da994",
   "metadata": {},
   "outputs": [],
   "source": [
    "directory_path = '../publishNature'\n",
    "# format_dat = '.dat'"
   ]
  },
  {
   "cell_type": "code",
   "execution_count": null,
   "id": "932ed733",
   "metadata": {},
   "outputs": [],
   "source": [
    "# To get unique values from a list\n",
    "set_res = set(list(df_fp['PeVatron_name'])) # To convert the input list to set\n",
    "# print(set_res) \n",
    "PeVatrons_names = (list(set_res)) # To convert the set back to the list \n",
    "# PeVatrons_names.reverse()"
   ]
  },
  {
   "cell_type": "code",
   "execution_count": null,
   "id": "9ff5606c",
   "metadata": {},
   "outputs": [],
   "source": [
    "files_names = ['J1825_KM2A_201209.dat', 'J1908_KM2A_201209.dat', 'J2228_KM2A_201209.dat']"
   ]
  },
  {
   "cell_type": "code",
   "execution_count": null,
   "id": "2c366049",
   "metadata": {
    "scrolled": true
   },
   "outputs": [],
   "source": [
    "files_names, PeVatrons_names"
   ]
  },
  {
   "cell_type": "code",
   "execution_count": null,
   "id": "128a1f4b",
   "metadata": {},
   "outputs": [],
   "source": [
    "from pathlib import Path\n",
    "from astropy.table import Table\n",
    "\n",
    "file_path = Path(f'HESS_J1825-137.dat') \n",
    "tabled = Table.read(file_path,format='ascii',  delimiter='\\t', comment='#')\n"
   ]
  },
  {
   "cell_type": "code",
   "execution_count": null,
   "id": "8e38eee6",
   "metadata": {},
   "outputs": [],
   "source": [
    "tabled"
   ]
  },
  {
   "cell_type": "code",
   "execution_count": null,
   "id": "fcba426e",
   "metadata": {},
   "outputs": [],
   "source": [
    "Table.read.help() "
   ]
  },
  {
   "cell_type": "code",
   "execution_count": null,
   "id": "221220e6",
   "metadata": {},
   "outputs": [],
   "source": [
    "help(Table)"
   ]
  },
  {
   "cell_type": "code",
   "execution_count": null,
   "id": "21846304",
   "metadata": {
    "scrolled": true
   },
   "outputs": [],
   "source": [
    "from pathlib import Path\n",
    "from astropy.table import Table\n",
    "\n",
    "x_data, y_data, y_errp, y_errn = [], [], [], []\n",
    "for i, file_name in enumerate(files_names):\n",
    "    \n",
    "    file_path = Path(f'{directory_path}/{file_name}') \n",
    "    table = Table.read(file_path,format='ascii', delimiter=' ', comment='#')\n",
    "#     display(table)\n",
    "    \n",
    "    table['col1'] = table['col1']/1e12\n",
    "    table.rename_column('col1', 'e_ref')\n",
    "    table['e_ref'].unit = u.TeV\n",
    "\n",
    "#     table['col5'] = table['col5']/1e12\n",
    "#     table.rename_column('col5', 'e_min')\n",
    "#     table['e_min'].unit = u.TeV\n",
    "\n",
    "#     table['col6'] = table['col6']/1e12\n",
    "#     table.rename_column('col6', 'e_max')\n",
    "#     table['e_max'].unit = u.TeV\n",
    "\n",
    "    table.rename_column('col2', 'e2dnde')\n",
    "    table['e2dnde'].unit = u.Unit(\"erg cm-2 s-1\")\n",
    "\n",
    "    table.rename_column('col3', 'e2dnde_errp')\n",
    "    table['e2dnde_errp'].unit = u.Unit(\"erg cm-2 s-1\")\n",
    "\n",
    "    table.rename_column('col4', 'e2dnde_errn')\n",
    "    table['e2dnde_errn'].unit = u.Unit(\"erg cm-2 s-1\")\n",
    "\n",
    "    table.meta[\"SED_TYPE\"] = \"e2dnde\"\n",
    "    table.meta[\"name\"] = \"table\"\n",
    "    \n",
    "    print(PeVatrons_names[i])\n",
    "    display(table)\n",
    "    \n",
    "    if i == 0:\n",
    "        table_J1825 = Table(table, copy=True)\n",
    "    elif i == 1:\n",
    "        table_J1908 = Table(table, copy=True)\n",
    "    else:\n",
    "        table_J2226 = Table(table, copy=True)\n",
    "   \n",
    "    x_data.append(table['e_ref'])\n",
    "    y_data.append(table['e2dnde'])\n",
    "    y_errp.append(table['e2dnde_errp'])\n",
    "    y_errn.append(table['e2dnde_errn'])"
   ]
  },
  {
   "cell_type": "code",
   "execution_count": null,
   "id": "d0f8890a",
   "metadata": {
    "scrolled": true
   },
   "outputs": [],
   "source": [
    "table_J1825['e_ref', 'e2dnde', 'e2dnde_errp', 'e2dnde_errn']"
   ]
  },
  {
   "cell_type": "code",
   "execution_count": null,
   "id": "ceb0eb1e",
   "metadata": {},
   "outputs": [],
   "source": [
    "from gammapy.estimators import FluxPoints"
   ]
  },
  {
   "cell_type": "code",
   "execution_count": null,
   "id": "e58080fd",
   "metadata": {},
   "outputs": [],
   "source": [
    "flux_points_J2226 = FluxPoints.from_table(table = table_J2226, sed_type='e2dnde')"
   ]
  },
  {
   "cell_type": "code",
   "execution_count": null,
   "id": "7ab0029d",
   "metadata": {
    "scrolled": true
   },
   "outputs": [],
   "source": [
    "flux_points_J2226.to_table()"
   ]
  },
  {
   "cell_type": "code",
   "execution_count": null,
   "id": "f8bd1347",
   "metadata": {},
   "outputs": [],
   "source": []
  },
  {
   "cell_type": "code",
   "execution_count": null,
   "id": "48880cb0",
   "metadata": {},
   "outputs": [],
   "source": []
  },
  {
   "cell_type": "code",
   "execution_count": null,
   "id": "09d810ca",
   "metadata": {},
   "outputs": [],
   "source": []
  },
  {
   "cell_type": "code",
   "execution_count": null,
   "id": "c227299b",
   "metadata": {},
   "outputs": [],
   "source": []
  },
  {
   "cell_type": "code",
   "execution_count": null,
   "id": "507f1c0f",
   "metadata": {},
   "outputs": [],
   "source": [
    "flux_points_J2226.plot()\n",
    "plt.xlim(.1, 1000)\n",
    "plt.ylim(1e-14, 1e-10)\n",
    "plt.grid(which=\"both\")"
   ]
  },
  {
   "cell_type": "code",
   "execution_count": null,
   "id": "0227af8b",
   "metadata": {},
   "outputs": [],
   "source": [
    "flux_points_J1908 = FluxPoints.from_table(table = table_J1908, sed_type='e2dnde')"
   ]
  },
  {
   "cell_type": "code",
   "execution_count": null,
   "id": "e8bdbfc6",
   "metadata": {
    "scrolled": true
   },
   "outputs": [],
   "source": [
    "spectral_model = LogParabolaSpectralModel(\n",
    "    alpha=2.3,\n",
    "    amplitude=\"1e-12 cm-2 s-1 TeV-1\",\n",
    "    reference=1 * u.TeV,\n",
    "    beta=0.5,\n",
    ")\n",
    "# model.plot(energy_bounds)\n",
    "# plt.grid(which=\"both\")\n",
    "\n",
    "sky_model = SkyModel(spectral_model=spectral_model, name=spectral_model.tag[0])\n",
    "\n",
    "ds_J1908 = FluxPointsDataset(\n",
    "                        models = sky_model,\n",
    "                        data=flux_points_J1908, \n",
    "                        name=  sky_model.name     \n",
    "                    )\n",
    "\n",
    "datasets = Datasets(ds_J1908)\n",
    "datasets.models = sky_model\n",
    "\n",
    "fitter = Fit()\n",
    "\n",
    "result_fit = fitter.run(datasets=datasets)\n",
    "\n",
    "plt.style.use(['default'])\n",
    "\n",
    "ax = plt.subplot()\n",
    "ax.yaxis.set_units(u.Unit(\"erg cm-2 s-1\"))\n",
    "\n",
    "kwargs = {\"ax\": ax, \"sed_type\": \"e2dnde\"}\n",
    "\n",
    "for d in datasets:\n",
    "    d.data.plot(label=d.name, **kwargs)\n",
    "\n",
    "energy_bounds = (0.1 * u.TeV, 1000 * u.TeV)\n",
    "spectral_model.plot(energy_bounds=energy_bounds, color=\"k\", **kwargs)\n",
    "ax.set_ylim(1e-16, 1e-8)\n",
    "ax.set_xlim(energy_bounds)\n",
    "ax.legend()\n",
    "plt.show()"
   ]
  },
  {
   "cell_type": "code",
   "execution_count": null,
   "id": "68878450",
   "metadata": {},
   "outputs": [],
   "source": []
  },
  {
   "cell_type": "code",
   "execution_count": null,
   "id": "f16389df",
   "metadata": {},
   "outputs": [],
   "source": []
  },
  {
   "cell_type": "code",
   "execution_count": null,
   "id": "0b883453",
   "metadata": {
    "scrolled": true
   },
   "outputs": [],
   "source": [
    "fig, axes = plt.subplots(1, 3, figsize=(12,6), sharex=True, sharey=True)\n",
    "\n",
    "ax = axes[0]\n",
    "ax.set_ylabel(r\"$E^{2}$dN/dE (erg $cm^{-2}$ $s^{-1}$)\")\n",
    "\n",
    "ax.loglog(x_data[0], y_data[0], 'o', color='red', lw=2, ms=4)\n",
    "ax.errorbar(x_data[0], y_data[0], yerr=[y_errn[0], y_errp[0]],fmt='.', color='red')\n",
    "ax.text(0.04,0.1, PeVatrons_names[0], transform=ax.transAxes, bbox=dict(facecolor='white', edgecolor='white'), size=13)\n",
    "ax.grid(which=\"both\")\n",
    "ax.set_xlim(10, 1000)\n",
    "ax.set_ylim(1e-14, 5e-11)\n",
    "\n",
    "\n",
    "ax = axes[1]\n",
    "ax.loglog(x_data[1], y_data[1], 'o', color='red', lw=2, ms=4)\n",
    "ax.errorbar(x_data[1], y_data[1], yerr=[y_errn[1], y_errp[1]],fmt='.', color='red')\n",
    "ax.text(0.04,0.1, PeVatrons_names[1], transform=ax.transAxes, bbox=dict(facecolor='white', edgecolor='white'), size=13)\n",
    "ax.grid(which=\"both\")\n",
    "ax.set_xlim(10, 1000)\n",
    "ax.set_ylim(1e-14, 5e-11)\n",
    "\n",
    "ax = axes[2]\n",
    "ax.loglog(x_data[2], y_data[2], 'o', color='red', lw=2, ms=4)\n",
    "ax.errorbar(x_data[2], y_data[2], yerr=[y_errn[2], y_errp[2]],fmt='.', color='red')\n",
    "ax.text(0.04,0.1, PeVatrons_names[2], transform=ax.transAxes, bbox=dict(facecolor='white', edgecolor='white'), size=13)\n",
    "ax.set_xlim(10, 1000)\n",
    "ax.set_ylim(1e-14, 5e-11)\n",
    "ax.grid(which=\"both\")\n",
    "# ax.tick_params(axis='both', which='major', labelsize=10)\n",
    "\n",
    "fig.text(0.5, -0.04, \"Energy (TeV)\", ha='center', size=20)\n",
    "\n",
    "# fig.suptitle('Flux Points from LHAASO', y=1., fontsize=20)\n",
    "\n",
    "plt.savefig('Cao2021-LHAASO_fp.png', bbox_inches='tight')\n",
    "\n",
    "plt.show()"
   ]
  },
  {
   "cell_type": "code",
   "execution_count": null,
   "id": "7dcdafb6",
   "metadata": {},
   "outputs": [],
   "source": []
  },
  {
   "cell_type": "code",
   "execution_count": null,
   "id": "984e2828",
   "metadata": {},
   "outputs": [],
   "source": []
  },
  {
   "cell_type": "code",
   "execution_count": null,
   "id": "d7f4cb62",
   "metadata": {},
   "outputs": [],
   "source": []
  },
  {
   "cell_type": "code",
   "execution_count": null,
   "id": "3d728172",
   "metadata": {},
   "outputs": [],
   "source": []
  },
  {
   "cell_type": "markdown",
   "id": "eb9333bf",
   "metadata": {},
   "source": [
    "#### HAWCJ1825"
   ]
  },
  {
   "cell_type": "code",
   "execution_count": null,
   "id": "2ab81818",
   "metadata": {},
   "outputs": [],
   "source": [
    "with open('HAWCJ1825-134.csv', \"r\") as my_file: \n",
    "    df = my_file.read()"
   ]
  },
  {
   "cell_type": "code",
   "execution_count": null,
   "id": "387b482e",
   "metadata": {},
   "outputs": [],
   "source": [
    "print(df)"
   ]
  },
  {
   "cell_type": "code",
   "execution_count": null,
   "id": "4f4599cb",
   "metadata": {},
   "outputs": [],
   "source": [
    "table_HAWCJ1825_134 = Table.read('HAWCJ1825-134.csv',format='ascii', delimiter=',', comment='#')\n",
    "table_HAWCJ1825_134.colnames"
   ]
  },
  {
   "cell_type": "code",
   "execution_count": null,
   "id": "72e41e54",
   "metadata": {},
   "outputs": [],
   "source": [
    "table_HAWCJ1825_134.rename_column('x', 'e_ref')\n",
    "table_HAWCJ1825_134['e_ref'].unit = u.TeV\n",
    "\n",
    "table_HAWCJ1825_134['e2dnde'].unit = u.Unit(\"TeV cm-2 s-1\")"
   ]
  },
  {
   "cell_type": "code",
   "execution_count": null,
   "id": "89219191",
   "metadata": {},
   "outputs": [],
   "source": [
    "table_HAWCJ1825_134"
   ]
  },
  {
   "cell_type": "code",
   "execution_count": null,
   "id": "043d02bc",
   "metadata": {},
   "outputs": [],
   "source": [
    "from gammapy.estimators import FluxPoints"
   ]
  },
  {
   "cell_type": "code",
   "execution_count": null,
   "id": "03c83d52",
   "metadata": {},
   "outputs": [],
   "source": [
    "FluxPoints.from_table(table = table_HAWCJ1825_134, sed_type='e2dnde').plot()\n",
    "plt.xlim(.1, 1000)\n",
    "plt.ylim(1e-14, 1e-10)\n",
    "plt.grid(which=\"both\")"
   ]
  },
  {
   "cell_type": "code",
   "execution_count": null,
   "id": "56fff79a",
   "metadata": {},
   "outputs": [],
   "source": [
    "yaxis_units=\"erg cm-2 s-1\"\n",
    "ax = plt.subplot()\n",
    "ax.yaxis.set_units(u.Unit(yaxis_units))\n",
    "ax.xaxis.set_units(u.Unit(\"TeV\"))\n",
    "\n",
    "flux_points = FluxPoints.from_table(table = table_HAWCJ1825_134, sed_type='e2dnde')\n",
    "flux_points.plot(ax=ax)\n",
    "\n",
    "\n",
    "plt.xlim(.1, 1000)\n",
    "plt.ylim(1e-14, 1e-10)\n",
    "plt.grid(which=\"both\")\n",
    "plt.savefig('uu.png', bbox_inches='tight')"
   ]
  },
  {
   "cell_type": "code",
   "execution_count": null,
   "id": "f8830b6f",
   "metadata": {
    "scrolled": true
   },
   "outputs": [],
   "source": [
    "flux_points.to_table()"
   ]
  },
  {
   "cell_type": "code",
   "execution_count": null,
   "id": "1a9329a2",
   "metadata": {},
   "outputs": [],
   "source": [
    "table_HAWCJ1825_134[\"e2dnde\"][:] = table_HAWCJ1825_134[\"e2dnde\"].to(u.Unit(\"erg cm-2 s-1\")) "
   ]
  },
  {
   "cell_type": "code",
   "execution_count": null,
   "id": "c924613e",
   "metadata": {},
   "outputs": [],
   "source": [
    "table_HAWCJ1825_134"
   ]
  },
  {
   "cell_type": "code",
   "execution_count": null,
   "id": "7e3cc3ea",
   "metadata": {},
   "outputs": [],
   "source": [
    "flux_points = FluxPoints.from_table(table_HAWCJ1825_134, sed_type='e2dnde')\n",
    "\n",
    "flux_points.to_table(formatted=True)"
   ]
  },
  {
   "cell_type": "code",
   "execution_count": null,
   "id": "60d1e7a2",
   "metadata": {},
   "outputs": [],
   "source": []
  },
  {
   "cell_type": "code",
   "execution_count": null,
   "id": "2489af4e",
   "metadata": {},
   "outputs": [],
   "source": []
  },
  {
   "cell_type": "code",
   "execution_count": null,
   "id": "f9e66f24",
   "metadata": {},
   "outputs": [],
   "source": []
  },
  {
   "cell_type": "code",
   "execution_count": null,
   "id": "e137e351",
   "metadata": {},
   "outputs": [],
   "source": [
    "dir_plot_spectrum = \"SED_from_catalogs\"\n",
    "\n",
    "path_plot_spectrum = mkdir_sub_directory(\n",
    "    dir_plot_spectrum\n",
    ")"
   ]
  },
  {
   "cell_type": "code",
   "execution_count": null,
   "id": "f8ac2f74",
   "metadata": {},
   "outputs": [],
   "source": []
  },
  {
   "cell_type": "code",
   "execution_count": null,
   "id": "0c919417",
   "metadata": {},
   "outputs": [],
   "source": []
  },
  {
   "cell_type": "code",
   "execution_count": null,
   "id": "6632d5c4",
   "metadata": {},
   "outputs": [],
   "source": []
  },
  {
   "cell_type": "code",
   "execution_count": null,
   "id": "43b49133",
   "metadata": {},
   "outputs": [],
   "source": []
  },
  {
   "cell_type": "code",
   "execution_count": null,
   "id": "27ca3848",
   "metadata": {},
   "outputs": [],
   "source": []
  },
  {
   "cell_type": "code",
   "execution_count": null,
   "id": "ce051d6d",
   "metadata": {},
   "outputs": [],
   "source": []
  },
  {
   "cell_type": "code",
   "execution_count": null,
   "id": "61dfe9dd",
   "metadata": {},
   "outputs": [],
   "source": [
    "def plot_SED():\n",
    "    plt.style.use(['science', 'notebook', 'grid'])\n",
    "\n",
    "    plt.figure(figsize=(8,6))\n",
    "\n",
    "    ax = spectral_model.plot(energy_bounds, sed_type=\"e2dnde\", color=\"red\")\n",
    "    ax = spectral_model.plot_error(energy_bounds, sed_type=\"e2dnde\")\n",
    "    flux_points.plot(\n",
    "        ax=ax,\n",
    "        color=colors_tag, \n",
    "        sed_type=\"e2dnde\"\n",
    "    )\n",
    "    ax.text(0.02, .94, PeVatron_name, transform=ax.transAxes, bbox=dict(facecolor='white', edgecolor='black'), size=13)\n",
    "\n",
    "    ax.set_ylim(ylim)\n",
    "    ax.set_xlim(energy_bounds)\n",
    "\n",
    "    # plt.title(f\"{PeVatron_name}: {counterpart_name}\")\n",
    "    plt.legend([spectral_model_tag, \"Error\", f\"{counterpart_name} - {catalog_tag}\"], facecolor='white', edgecolor='black',  loc='upper right', prop={'size': 8})\n",
    "    plt.xlabel(\"Energy (TeV)\")   \n",
    "    plt.ylabel(r\"$E^{2}$dN/dE (erg $cm^{-2}$ $s^{-1}$)\")\n",
    "    plt.savefig(file_path, bbox_inches='tight')\n",
    "    \n",
    "    plt.show()"
   ]
  },
  {
   "cell_type": "code",
   "execution_count": null,
   "id": "4f0ac6ac",
   "metadata": {},
   "outputs": [],
   "source": [
    "energy_bounds = [1e-5, 1e3] * u.TeV\n",
    "ylim = [1e-16, 1e-6]"
   ]
  },
  {
   "cell_type": "code",
   "execution_count": null,
   "id": "77fbe993",
   "metadata": {},
   "outputs": [],
   "source": []
  },
  {
   "cell_type": "code",
   "execution_count": null,
   "id": "9887f17c",
   "metadata": {},
   "outputs": [],
   "source": []
  },
  {
   "cell_type": "code",
   "execution_count": null,
   "id": "32b94871",
   "metadata": {},
   "outputs": [],
   "source": [
    "catalog_index = 1"
   ]
  },
  {
   "cell_type": "code",
   "execution_count": null,
   "id": "3a331d5e",
   "metadata": {},
   "outputs": [],
   "source": [
    "df_fp"
   ]
  },
  {
   "cell_type": "code",
   "execution_count": null,
   "id": "820dfa12",
   "metadata": {},
   "outputs": [],
   "source": []
  },
  {
   "cell_type": "code",
   "execution_count": null,
   "id": "6695f589",
   "metadata": {},
   "outputs": [],
   "source": [
    "df_fp['catalog'][3]"
   ]
  },
  {
   "cell_type": "code",
   "execution_count": null,
   "id": "7805f92f",
   "metadata": {},
   "outputs": [],
   "source": [
    "source = sources_catalogs[3][0]"
   ]
  },
  {
   "cell_type": "code",
   "execution_count": null,
   "id": "ceb2c423",
   "metadata": {
    "scrolled": true
   },
   "outputs": [],
   "source": [
    "print(source.info())"
   ]
  },
  {
   "cell_type": "code",
   "execution_count": null,
   "id": "fd695a66",
   "metadata": {},
   "outputs": [],
   "source": [
    "# sources_catalogs[0][0].data['common_name', '']"
   ]
  },
  {
   "cell_type": "code",
   "execution_count": null,
   "id": "1387710b",
   "metadata": {},
   "outputs": [],
   "source": [
    "# catalog_3hwc[\"eHWC J1825-134\"].data.keys()"
   ]
  },
  {
   "cell_type": "code",
   "execution_count": null,
   "id": "24cd9e18",
   "metadata": {},
   "outputs": [],
   "source": [
    "# type(df_fp[\"catalog\"][source_index])"
   ]
  },
  {
   "cell_type": "code",
   "execution_count": null,
   "id": "96f6990f",
   "metadata": {},
   "outputs": [],
   "source": [
    "# to select a source object index: [0-6]\n",
    "source_index = 1\n",
    "colors_tag = colors_tags[source_index]\n",
    "source_identification(source_index)\n",
    "# PeVatron_name, counterpart_name\n",
    "\n",
    "# List of catalogs with flux points table of the source\n",
    "# print(df_fp['catalog'][source_index])\n",
    "\n",
    "k_range = range(len(datasets_fp[source_index]))\n",
    "for k in k_range: \n",
    "            \n",
    "    # to select a catalog:\n",
    "    cat_index = k\n",
    "    catalog_tag = df_fp[\"catalog\"][source_index][cat_index]\n",
    "    catalog = CATALOG_REGISTRY.get_cls(catalog_tag)()\n",
    "    # print(catalog)\n",
    "\n",
    "    source  = catalog[counterpart_name]\n",
    "    # source.data\n",
    "\n",
    "    flux_points = source.flux_points\n",
    "\n",
    "    # Gammapy sky model object:\n",
    "    sky_model = source.sky_model()\n",
    "\n",
    "    # Gammapy spatial model object:\n",
    "    spatial_model = source.spatial_model\n",
    "\n",
    "    # Gammapy spectral model object:\n",
    "    spectral_model = source.spectral_model()\n",
    "    spectral_model_tag = spectral_model.tag[0]\n",
    "    spectral_model_tag_short = spectral_model.tag[0]\n",
    "\n",
    "    file_name = f'{PeVatron_txt}_{counterpart_txt}_{catalog_tag}_{spectral_model_tag_short}.png'\n",
    "    file_path = path_plot_spectrum / file_name \n",
    "    \n",
    "    plot_SED()\n",
    "    \n",
    "    print(f'{PeVatron_txt}_{counterpart_txt}_{catalog_tag}_{spectral_model_tag_short}:')\n",
    "    \n",
    "    print(spectral_model.parameters.to_table())\n",
    "    "
   ]
  },
  {
   "cell_type": "code",
   "execution_count": null,
   "id": "75943d35",
   "metadata": {},
   "outputs": [],
   "source": []
  },
  {
   "cell_type": "code",
   "execution_count": null,
   "id": "70d5c48c",
   "metadata": {},
   "outputs": [],
   "source": []
  },
  {
   "cell_type": "code",
   "execution_count": null,
   "id": "7d37f996",
   "metadata": {},
   "outputs": [],
   "source": [
    "# Creating the directories to save the flux points figures\n",
    "# dir_analysis = \"analysis\"\n",
    "dir_flux_points_figures = \"flux_points_figures\"\n",
    "\n",
    "path_flux_points_figures_analysis = mkdir_sub_directory(\n",
    "#     dir_analysis, \n",
    "    dir_flux_points_figures\n",
    ")"
   ]
  },
  {
   "cell_type": "code",
   "execution_count": null,
   "id": "8806f239",
   "metadata": {},
   "outputs": [],
   "source": [
    "def plotting_SED_flux_pointing(datasets = None, spectral_model = None, sed_type = \"e2dnde\", yaxis_units=\"TeV cm-2 s-1\", energy_bounds= [1e-5, 1e2] * u.TeV, ylim = [1e-13, 1e-9]):\n",
    "    '''Returns a spectral energy distribution\n",
    "    \n",
    "    >>> plotting_SED_flux_pointing(spec_model, yaxis_units, sed_type, reference)\n",
    "    '''\n",
    "    \n",
    "    ax = plt.subplot()\n",
    "#     ax.grid(which=\"both\")\n",
    "    ax.yaxis.set_units(u.Unit(yaxis_units))\n",
    "    ax.xaxis.set_units(u.Unit(\"TeV\"))\n",
    "\n",
    "    #label = f\"{sky_model}\"\n",
    "    \n",
    "    kwargs = {\n",
    "        \"ax\": ax, \n",
    "        \"sed_type\": sed_type\n",
    "    }    \n",
    "    \n",
    "    \n",
    "#     plot_kwargs = {\n",
    "#     \"energy_bounds\": [0.1, 30] * u.TeV,\n",
    "#     \"sed_type\": \"e2dnde\",\n",
    "#     \"yunits\": u.Unit(\"erg cm-2 s-1\"),\n",
    "#     \"ax\": ax,\n",
    "# }\n",
    "    \n",
    "    PeVatron_name = PeVatrons_names[table_index]\n",
    "    kwargs_PeV = {\n",
    "        'label': PeVatron_name\n",
    "    }\n",
    "    ax.plot(x_data[table_index], y_data[table_index], 'o', color='red', lw=2, ms=4)\n",
    "    ax.errorbar(x_data[table_index], y_data[table_index], yerr=[y_errn[table_index], y_errp[table_index]],fmt='.', color='red', **kwargs_PeV)\n",
    "    \n",
    "    \n",
    "    FluxPoints.from_table(table = table_CTA, sed_type='e2dnde').plot(label= 'CTA - PSR J1826−1334')\n",
    "\n",
    "\n",
    "\n",
    "#     ax.loglog(J1825['e_ref'],J1825['e2dnde'], 'o', color='red', lw=2, ms=4)\n",
    "#     ax.errorbar(J1825['e_ref'],J1825['e2dnde'], yerr=[J1825['e2dnde_errn'], J1825['e2dnde_errp']],fmt='.', color='red', label=PeVatron_name)\n",
    "\n",
    "    color_tag = 0\n",
    "    for d in datasets:\n",
    "        d.data.plot(label=d.name, color=colors_tags[color_tag], **kwargs)\n",
    "        color_tag += 1\n",
    "    try:   \n",
    "\n",
    "        kwargs_fit = {\"label\":sky_model.name}\n",
    "        spectral_model.plot(energy_bounds=energy_bounds, color=\"k\", **kwargs, **kwargs_fit)\n",
    "        spectral_model.plot_error(energy_bounds=energy_bounds, **kwargs)\n",
    "        \n",
    "        if combined_ds == False:\n",
    "            file = path_flux_points_figures_analysis / f'{PeVatron_txt}_{counterpart_txt}_{sky_model.name}.png'\n",
    "        else:\n",
    "            file = path_flux_points_figures_analysis / f'{PeVatron_txt}_{sky_model.name}.png'\n",
    "            \n",
    "    except:\n",
    "        \n",
    "        if combined_ds == False:\n",
    "            file = path_flux_points_figures_analysis / f'{PeVatron_txt}_{counterpart_txt}.png'\n",
    "        else:\n",
    "            file = path_flux_points_figures_analysis / f'{PeVatron_txt}.png'\n",
    "    \n",
    "    ax.plot(CTA_sensitivity[\"energy\"], CTA_sensitivity[\"e2dnde\"],  'o', color='black', lw=2, ms=4, label = \"CTA - Sensitivity\")\n",
    "\n",
    "\n",
    "    \n",
    "    ax.set_ylim(ylim)\n",
    "    ax.set_xlim(energy_bounds)\n",
    "    ax.legend(facecolor='white', edgecolor='white',  loc='upper right', prop={'size': 10})\n",
    "    \n",
    "#     ax.text(0.02, .94, PeVatron_name, transform=ax.transAxes, bbox=dict(facecolor='white', edgecolor='white'), size=15)\n",
    "    \n",
    "        \n",
    "#     plt.title(f\"{PeVatron_name}: {counterpart_name}\")\n",
    "    \n",
    "    plt.xlabel(\"Energy (TeV)\")   \n",
    "    plt.ylabel(r\"$E^{2}$dN/dE (erg $cm^{-2}$ $s^{-1}$)\")\n",
    "    \n",
    "    plt.savefig(file, bbox_inches='tight')\n",
    "    plt.show()\n",
    "    \n",
    "    return "
   ]
  },
  {
   "cell_type": "code",
   "execution_count": null,
   "id": "cd2bad46",
   "metadata": {},
   "outputs": [],
   "source": []
  },
  {
   "cell_type": "code",
   "execution_count": null,
   "id": "9ffc0c8f",
   "metadata": {
    "scrolled": true
   },
   "outputs": [],
   "source": [
    "import scienceplots\n",
    "plt.style.use(['science', 'notebook', 'grid'])\n",
    "\n",
    "# to select a source object index: [0-6]\n",
    "source_index = 0\n",
    "table_index = 2\n",
    "source_identification(source_index)\n",
    "\n",
    "ds_src = datasets_fp[source_index]\n",
    "\n",
    "datasets = Datasets(ds_src)\n",
    "\n",
    "energy_bounds = [1e-5, 1e3] * u.TeV\n",
    "ylim = [1e-14, 1e-7]\n",
    "\n",
    "combined_ds = False\n",
    "plotting_SED_flux_pointing(\n",
    "    datasets = datasets,\n",
    "    sed_type = sed_type, \n",
    "    yaxis_units=\"erg cm-2 s-1\", \n",
    "    energy_bounds=energy_bounds, \n",
    "    ylim=ylim)"
   ]
  },
  {
   "cell_type": "markdown",
   "id": "b7938662",
   "metadata": {},
   "source": [
    "## "
   ]
  },
  {
   "cell_type": "code",
   "execution_count": null,
   "id": "f0dcd21c",
   "metadata": {
    "scrolled": true
   },
   "outputs": [],
   "source": [
    "# to select a source object index: [0-6]\n",
    "source_index = 0\n",
    "table_index = 2\n",
    "source_identification(source_index)\n",
    "\n",
    "ds_src = datasets_fp[source_index]\n",
    "\n",
    "datasets = Datasets(ds_src)\n",
    "\n",
    "energy_bounds = [1e-5, 1e3] * u.TeV\n",
    "ylim = [1e-14, 1e-7]\n",
    "\n",
    "combined_ds = False\n",
    "plotting_SED_flux_pointing(\n",
    "    datasets = datasets,\n",
    "    sed_type = sed_type, \n",
    "    yaxis_units=\"erg cm-2 s-1\", \n",
    "    energy_bounds=energy_bounds, \n",
    "    ylim=ylim)"
   ]
  },
  {
   "cell_type": "code",
   "execution_count": null,
   "id": "5b5bb65a",
   "metadata": {},
   "outputs": [],
   "source": [
    "import scienceplots\n",
    "plt.style.use(['science', 'notebook', 'grid'])\n",
    "\n",
    "# to select a source object index: [0-6]\n",
    "source_index = 6\n",
    "\n",
    "source_identification(source_index)\n",
    "\n",
    "PeVatron_name"
   ]
  },
  {
   "cell_type": "code",
   "execution_count": null,
   "id": "c76f2743",
   "metadata": {
    "scrolled": true
   },
   "outputs": [],
   "source": [
    "ds_src_combined = list(datasets_fp[source_index])"
   ]
  },
  {
   "cell_type": "code",
   "execution_count": null,
   "id": "5c7cb8a8",
   "metadata": {},
   "outputs": [],
   "source": [
    "ds_src_combined"
   ]
  },
  {
   "cell_type": "code",
   "execution_count": null,
   "id": "8c8d2d39",
   "metadata": {},
   "outputs": [],
   "source": [
    "for item in datasets_fp[5]:\n",
    "    ds_src_combined.append(item)"
   ]
  },
  {
   "cell_type": "code",
   "execution_count": null,
   "id": "5a0c53eb",
   "metadata": {},
   "outputs": [],
   "source": [
    "ds_src_combined"
   ]
  },
  {
   "cell_type": "code",
   "execution_count": null,
   "id": "965fe61f",
   "metadata": {},
   "outputs": [],
   "source": [
    "ds_src_combined_3 = list(ds_src_combined)"
   ]
  },
  {
   "cell_type": "code",
   "execution_count": null,
   "id": "de046ebc",
   "metadata": {},
   "outputs": [],
   "source": [
    "ds_src_combined_2 = list(ds_src_combined)"
   ]
  },
  {
   "cell_type": "code",
   "execution_count": null,
   "id": "c8f9aee0",
   "metadata": {
    "scrolled": false
   },
   "outputs": [],
   "source": [
    "ds_src_combined_1 = list(ds_src_combined)"
   ]
  },
  {
   "cell_type": "code",
   "execution_count": null,
   "id": "f6a72a40",
   "metadata": {
    "scrolled": true
   },
   "outputs": [],
   "source": [
    "datasets_combined = Datasets(ds_src_combined_1)\n",
    "\n",
    "# energy_bounds = [1e-5, 1e2] * u.TeV\n",
    "ylim = [1e-16, 1e-6]\n",
    "\n",
    "table_index = 1\n",
    "combined_ds = True\n",
    "plotting_SED_flux_pointing(\n",
    "    datasets = datasets_combined,\n",
    "    sed_type = sed_type, \n",
    "    yaxis_units=\"erg cm-2 s-1\", \n",
    "    energy_bounds=energy_bounds, \n",
    "    ylim=ylim)"
   ]
  },
  {
   "cell_type": "code",
   "execution_count": null,
   "id": "393fa7e7",
   "metadata": {},
   "outputs": [],
   "source": []
  },
  {
   "cell_type": "markdown",
   "id": "8b604f7b",
   "metadata": {},
   "source": [
    "## Data Reduction (DL3toDL4)"
   ]
  },
  {
   "cell_type": "code",
   "execution_count": null,
   "id": "0fff7b52",
   "metadata": {},
   "outputs": [],
   "source": []
  },
  {
   "cell_type": "code",
   "execution_count": null,
   "id": "2e4c6d65",
   "metadata": {},
   "outputs": [],
   "source": [
    "import numpy as np\n",
    "# from astropy import units as u\n",
    "from astropy.table import Table\n",
    "from gammapy.estimators import FluxPoints\n",
    "from gammapy.utils.scripts import make_path\n",
    "\n",
    "# format_csv = \".csv\"\n",
    "format_fits = \".fits\"\n",
    "\n",
    "sed_type=\"e2dnde\"\n",
    "# sed_type=\"dnde\"\n",
    "\n",
    "datasets_fp_cut = []\n",
    "def flux_points_cut_energy(df_fp = None, datasets_fp = None, e_ref_min=None):\n",
    "    '''To write Docstring!!!!'''\n",
    "    \n",
    "    source_range = range(len(df_fp))\n",
    "    for source_index in source_range:\n",
    "        dataset_fp = []\n",
    "        \n",
    "        source_identification(source_index)\n",
    "        \n",
    "        k_range = range(len(datasets_fp[source_index]))\n",
    "        for k in k_range: \n",
    "            \n",
    "            catalog_tag = df_fp[\"catalog\"][source_index][k]\n",
    "\n",
    "            ds_name = f\"{counterpart_name}: {catalog_tag}\"\n",
    "            flux_points = datasets_fp[source_index][k].data\n",
    "\n",
    "            mask_energy = np.zeros(len(flux_points.to_table()), dtype=bool)\n",
    "\n",
    "            for m, e_ref in enumerate(flux_points.energy_ref):\n",
    "                if e_ref > e_ref_min:\n",
    "                    mask_energy[m] = True\n",
    "            print(ds_name, counterpart_txt)  \n",
    "            \n",
    "            try:\n",
    "                flux_points_mask = flux_points.to_table()[mask_energy]\n",
    "                flux_points_energy = FluxPoints.from_table(flux_points_mask)\n",
    "\n",
    "                ds = FluxPointsDataset(\n",
    "                                    data=flux_points_energy, \n",
    "                                    name=ds_name\n",
    "                                )\n",
    "\n",
    "                table = ds.data.to_table(\n",
    "                                    sed_type = sed_type, \n",
    "                                    formatted = True\n",
    "                                )\n",
    "                dataset_fp.append(ds)\n",
    "\n",
    "                file_name = f'{PeVatron_txt}_{counterpart_txt}_{catalog_tag}_e_ref_min_{e_ref_min_name}{format_fits}'\n",
    "                path_os = os.path.abspath(\n",
    "                    os.path.join(\n",
    "                        f\"{path_flux_points_tables_analysis}/{file_name}\"\n",
    "                    )\n",
    "                )\n",
    "\n",
    "                if path_os not in sys.path:\n",
    "                    sys.path.append(path_os)\n",
    "\n",
    "                table.write(f\"{path_os}\",format='fits', overwrite=True)\n",
    "\n",
    "            except:\n",
    "                print(f\"{counterpart_name} out\")    \n",
    "            \n",
    "        datasets_fp_cut.append(dataset_fp)\n",
    "    return datasets_fp_cut"
   ]
  },
  {
   "cell_type": "markdown",
   "id": "c0d02db6",
   "metadata": {},
   "source": [
    "### Cutting energy"
   ]
  },
  {
   "cell_type": "code",
   "execution_count": null,
   "id": "7c8b4d93",
   "metadata": {},
   "outputs": [],
   "source": [
    "# Defining the minimum value of the reference energy  \n",
    "e_ref_min = 100 * u.Unit(\"GeV\")\n",
    "e_ref_min_name = str(e_ref_min).replace(\" \", \"\")"
   ]
  },
  {
   "cell_type": "code",
   "execution_count": null,
   "id": "85455e86",
   "metadata": {},
   "outputs": [],
   "source": [
    "# Creating the directories to save the tables\n",
    "dir_analysis = \"analysis\"\n",
    "dir_flux_points_tables = f\"flux_points_table_e_ref_min_{e_ref_min_name}\"\n",
    "\n",
    "path_catalogs_data, path_flux_points_tables_analysis = mkdir_sub_directory(\n",
    "    dir_analysis, \n",
    "    dir_flux_points_tables\n",
    ")"
   ]
  },
  {
   "cell_type": "code",
   "execution_count": null,
   "id": "32df51a2",
   "metadata": {
    "scrolled": true
   },
   "outputs": [],
   "source": [
    "datasets_fp_cut = flux_points_cut_energy(df_fp = df_fp, datasets_fp = datasets_fp, e_ref_min=e_ref_min)"
   ]
  },
  {
   "cell_type": "code",
   "execution_count": null,
   "id": "1a80140a",
   "metadata": {},
   "outputs": [],
   "source": [
    "# Creating the directories to save the tables\n",
    "dir_analysis = \"analysis\"\n",
    "dir_flux_points_figures = f\"flux_points_figures_e_ref_min_{e_ref_min_name}\"\n",
    "\n",
    "path_analysis, path_flux_points_figures_analysis = mkdir_sub_directory(\n",
    "    dir_analysis, \n",
    "    dir_flux_points_figures\n",
    ")"
   ]
  },
  {
   "cell_type": "code",
   "execution_count": null,
   "id": "07552f02",
   "metadata": {},
   "outputs": [],
   "source": [
    "# to select a source object index: [0-6]\n",
    "source_index = 6\n",
    "\n",
    "source_identification(source_index)\n",
    "\n",
    "PeVatron_name"
   ]
  },
  {
   "cell_type": "code",
   "execution_count": null,
   "id": "d6380f30",
   "metadata": {},
   "outputs": [],
   "source": [
    "ds_src_combined_cut = list(datasets_fp_cut[source_index])"
   ]
  },
  {
   "cell_type": "code",
   "execution_count": null,
   "id": "82235fb1",
   "metadata": {},
   "outputs": [],
   "source": [
    "ds_src_combined_cut"
   ]
  },
  {
   "cell_type": "code",
   "execution_count": null,
   "id": "2ff81e91",
   "metadata": {},
   "outputs": [],
   "source": [
    "for item in datasets_fp_cut[5]:\n",
    "    ds_src_combined_cut.append(item)"
   ]
  },
  {
   "cell_type": "code",
   "execution_count": null,
   "id": "949b09a8",
   "metadata": {},
   "outputs": [],
   "source": [
    "ds_src_combined_cut"
   ]
  },
  {
   "cell_type": "code",
   "execution_count": null,
   "id": "b3e7481d",
   "metadata": {},
   "outputs": [],
   "source": [
    "ds_src_combined_cut_3 = list(ds_src_combined_cut)"
   ]
  },
  {
   "cell_type": "code",
   "execution_count": null,
   "id": "c0be1c69",
   "metadata": {},
   "outputs": [],
   "source": [
    "ds_src_combined_cut_2 = list(ds_src_combined_cut)"
   ]
  },
  {
   "cell_type": "code",
   "execution_count": null,
   "id": "3f2e53ef",
   "metadata": {},
   "outputs": [],
   "source": [
    "ds_src_combined_cut_1 = list(ds_src_combined_cut)"
   ]
  },
  {
   "cell_type": "code",
   "execution_count": null,
   "id": "7bc437c6",
   "metadata": {},
   "outputs": [],
   "source": [
    "datasets_combined = Datasets(ds_src_combined_cut_3)\n",
    "\n",
    "energy_bounds = [1e-1, 1e2] * u.TeV\n",
    "# ylim = [1e-16, 1e-6]\n",
    "\n",
    "combined_ds = True\n",
    "plotting_SED_flux_pointing(\n",
    "    datasets = datasets_combined,\n",
    "    sed_type = sed_type, \n",
    "    yaxis_units=\"erg cm-2 s-1\", \n",
    "    energy_bounds=energy_bounds, \n",
    "    ylim=ylim)"
   ]
  },
  {
   "cell_type": "code",
   "execution_count": null,
   "id": "ddd5d642",
   "metadata": {},
   "outputs": [],
   "source": []
  },
  {
   "cell_type": "markdown",
   "id": "386bd79f",
   "metadata": {},
   "source": [
    "### SED cutting energy"
   ]
  },
  {
   "cell_type": "code",
   "execution_count": null,
   "id": "625a10d6",
   "metadata": {},
   "outputs": [],
   "source": [
    "# Creating the directories to save the tables\n",
    "dir_analysis = \"analysis\"\n",
    "dir_flux_points_figures = f\"SED_figures_e_ref_min_{e_ref_min_name}\"\n",
    "\n",
    "path_analysis, path_flux_points_figures_analysis = mkdir_sub_directory(\n",
    "    dir_analysis, \n",
    "    dir_flux_points_figures\n",
    ")"
   ]
  },
  {
   "cell_type": "code",
   "execution_count": null,
   "id": "79e77c0b",
   "metadata": {},
   "outputs": [],
   "source": []
  },
  {
   "cell_type": "markdown",
   "id": "586c6255",
   "metadata": {},
   "source": [
    "<a id='4.0'></a>\n",
    "🔝 [Back to Top](#intro)<br>\n",
    "#### 4.0 Analysis"
   ]
  },
  {
   "cell_type": "markdown",
   "id": "5b6996d3",
   "metadata": {},
   "source": [
    "<a id='4.1'></a>\n",
    "🔝 [Back to Top](#intro)<br>\n",
    "#### 4.1 LHAASO J1825-1326: HESS 1825-137"
   ]
  },
  {
   "cell_type": "code",
   "execution_count": null,
   "id": "c196c01a",
   "metadata": {},
   "outputs": [],
   "source": [
    "plt.style.use(['science', 'notebook', 'grid'])"
   ]
  },
  {
   "cell_type": "code",
   "execution_count": null,
   "id": "1b26d070",
   "metadata": {},
   "outputs": [],
   "source": [
    "# to select a source object index: [0-6]\n",
    "table_index = 1\n",
    "source_index = 0\n",
    "cat_index = 2\n",
    "\n",
    "# source = sources_catalogs[source_index][0]\n",
    "source_identification(source_index)\n",
    "\n",
    "catalog_tag = df_fp[\"catalog\"][source_index][cat_index]\n",
    "\n",
    "ds_src = datasets_fp[source_index]\n",
    "# ds_src = ds_src_combined_cut_1\n",
    "\n",
    "spectral_model = sources_catalogs[source_index][cat_index].spectral_model()\n",
    "\n",
    "name = f\"{spectral_model.tag[0]}_{df_fp['catalog'][source_index][cat_index]}\"\n",
    "        \n",
    "sky_model = SkyModel(spectral_model=spectral_model, name=name)\n",
    "\n",
    "datasets = Datasets(ds_src)\n",
    "datasets.models = sky_model\n",
    "\n",
    "fitter = Fit()\n",
    "\n",
    "result_fit = fitter.run(datasets=datasets)\n",
    "\n",
    "energy_bounds = [1e-5, 1e3] * u.TeV\n",
    "ylim = [1e-16, 1e-4]\n",
    "\n",
    "plotting_SED_flux_pointing(\n",
    "    datasets = datasets,\n",
    "    spectral_model=spectral_model, \n",
    "    sed_type = \"e2dnde\", \n",
    "    yaxis_units=\"erg cm-2 s-1\", \n",
    "    energy_bounds=energy_bounds, \n",
    "    ylim=ylim\n",
    ")"
   ]
  },
  {
   "cell_type": "code",
   "execution_count": null,
   "id": "6df41edd",
   "metadata": {
    "scrolled": true
   },
   "outputs": [],
   "source": []
  },
  {
   "cell_type": "code",
   "execution_count": null,
   "id": "088b4b2d",
   "metadata": {},
   "outputs": [],
   "source": [
    "# to select a source object index: [0-6]\n",
    "table_index = 0\n",
    "source_index = 1\n",
    "cat_index = 2\n",
    "\n",
    "# source = sources_catalogs[source_index][0]\n",
    "source_identification(source_index)\n",
    "\n",
    "catalog_tag = df_fp[\"catalog\"][source_index][cat_index]\n",
    "\n",
    "ds_src = datasets_fp[source_index]\n",
    "\n",
    "spectral_model = LogParabolaSpectralModel(\n",
    "    alpha=1.5,\n",
    "    amplitude=\"1e-12 cm-2 s-1 TeV-1\",\n",
    "    reference=1 * u.TeV,\n",
    "    beta=0.8,\n",
    ")\n",
    "\n",
    "name = f\"{spectral_model.tag[0]}_{df_fp['catalog'][source_index][cat_index]}\"\n",
    "    \n",
    "    \n",
    "    \n",
    "sky_model = SkyModel(spectral_model=spectral_model, name=spectral_model.tag[0])\n",
    "\n",
    "datasets = Datasets(ds_src)\n",
    "datasets.models = sky_model\n",
    "\n",
    "fitter = Fit()\n",
    "\n",
    "result_fit = fitter.run(datasets=datasets)\n",
    "\n",
    "energy_bounds = [1e-5, 1e3] * u.TeV\n",
    "ylim = [1e-16, 1e-4]\n",
    "\n",
    "plotting_SED_flux_pointing(\n",
    "    datasets = datasets,\n",
    "    spectral_model=spectral_model, \n",
    "    sed_type = \"e2dnde\", \n",
    "    yaxis_units=\"erg cm-2 s-1\", \n",
    "    energy_bounds=energy_bounds, \n",
    "    ylim=ylim\n",
    ")"
   ]
  },
  {
   "cell_type": "code",
   "execution_count": null,
   "id": "f9adfa6a",
   "metadata": {},
   "outputs": [],
   "source": []
  },
  {
   "cell_type": "markdown",
   "id": "f1fd1a80",
   "metadata": {},
   "source": [
    "https://docs.gammapy.org/dev/tutorials/api/fitting.html"
   ]
  },
  {
   "cell_type": "markdown",
   "id": "9759ad35",
   "metadata": {},
   "source": [
    "https://cxc.cfa.harvard.edu/sherpa/methods/index.html"
   ]
  },
  {
   "cell_type": "code",
   "execution_count": null,
   "id": "0409016a",
   "metadata": {},
   "outputs": [],
   "source": [
    "print(fitter.minuit)"
   ]
  },
  {
   "cell_type": "code",
   "execution_count": null,
   "id": "03d364e9",
   "metadata": {},
   "outputs": [],
   "source": [
    "display(result_fit.models.to_parameters_table())\n"
   ]
  },
  {
   "cell_type": "code",
   "execution_count": null,
   "id": "bc06656a",
   "metadata": {},
   "outputs": [],
   "source": [
    "result_fit.models.covariance.plot_correlation()\n",
    "\n",
    "# The covariance information is also propagated to the individual models\n",
    "# Therefore, one can also get the error on a specific parameter by directly\n",
    "# accessing the `~gammapy.modeling.Parameter.error` attribute:\n",
    "#\n",
    "\n",
    "print(sky_model.spectral_model.alpha.error)"
   ]
  },
  {
   "cell_type": "code",
   "execution_count": null,
   "id": "50bdcc9b",
   "metadata": {},
   "outputs": [],
   "source": []
  },
  {
   "cell_type": "markdown",
   "id": "0b9edfe9",
   "metadata": {},
   "source": [
    "<a id='4.1'></a>\n",
    "🔝 [Back to Top](#intro)<br>\n",
    "#### 4.1 LHAASO J1825-1326: HESS 1826-130"
   ]
  },
  {
   "cell_type": "code",
   "execution_count": null,
   "id": "895725a3",
   "metadata": {},
   "outputs": [],
   "source": [
    "import operator\n",
    "from astropy import units as u\n",
    "import matplotlib.pyplot as plt\n",
    "from gammapy.modeling.models import (\n",
    "    CompoundSpectralModel,\n",
    "    LogParabolaSpectralModel,\n",
    "    Models,\n",
    "    PowerLawSpectralModel,\n",
    "    SkyModel,\n",
    ")"
   ]
  },
  {
   "cell_type": "code",
   "execution_count": null,
   "id": "50584f22",
   "metadata": {},
   "outputs": [],
   "source": [
    "# to select a source object index: [0-6]\n",
    "table_index = 0\n",
    "source_index = 6\n",
    "cat_index = 0\n",
    "\n",
    "# source = sources_catalogs[source_index][0]\n",
    "source_identification(source_index)\n",
    "\n",
    "catalog_tag = df_fp[\"catalog\"][source_index][cat_index]\n",
    "\n",
    "ds_src = datasets_fp[source_index]\n",
    "# ds_src = ds_src_combined_cut_1\n",
    "\n",
    "spectral_model1 = sources_catalogs[source_index][cat_index].spectral_model()\n",
    "\n",
    "\n",
    "ecpwl = ExpCutoffPowerLawSpectralModel(\n",
    "    amplitude=1e-12 * u.Unit(\"cm-2 s-1 TeV-1\"),\n",
    "    index=2,\n",
    "    lambda_=0.1 * u.Unit(\"TeV-1\"),\n",
    "    reference=0.01 * u.TeV,\n",
    ")\n",
    "\n",
    "lp1 = LogParabolaSpectralModel(\n",
    "    alpha=1.56,\n",
    "    amplitude=\"1e-15 cm-2 s-1 TeV-1\",\n",
    "    reference=50 * u.TeV,\n",
    "    beta=0.88,\n",
    ")\n",
    "\n",
    "\n",
    "lp2 = LogParabolaSpectralModel(\n",
    "    alpha=1.56,\n",
    "    amplitude=\"1e-15 cm-2 s-1 erg-1\",\n",
    "    reference=5 * u.TeV,\n",
    "    beta=0.88,\n",
    ")\n",
    "\n",
    "lp3 = LogParabolaSpectralModel(\n",
    "    alpha=1.56,\n",
    "    amplitude=\"1e-15 cm-2 s-1 erg-1\",\n",
    "    reference=100 * u.TeV,\n",
    "    beta=0.88,\n",
    ")\n"
   ]
  },
  {
   "cell_type": "code",
   "execution_count": null,
   "id": "e41d0641",
   "metadata": {},
   "outputs": [],
   "source": [
    "spectral_model = CompoundSpectralModel(spectral_model1, lp1, operator.add)\n",
    "\n",
    "name = f\"{spectral_model.tag[0]}_{df_fp['catalog'][source_index][cat_index]}\"\n",
    "    \n",
    "sky_model = SkyModel(spectral_model=spectral_model, name=name)\n",
    "\n",
    "datasets = Datasets(ds_src)\n",
    "datasets.models = sky_model\n",
    "\n",
    "fitter = Fit()\n",
    "\n",
    "result_fit = fitter.run(datasets=datasets)\n",
    "\n",
    "energy_bounds = [1e-5, 1e3] * u.TeV\n",
    "ylim = [1e-18, 1e-5]\n",
    "\n",
    "plotting_SED_flux_pointing(\n",
    "    datasets = datasets,\n",
    "    spectral_model=spectral_model, \n",
    "    sed_type = \"e2dnde\", \n",
    "    yaxis_units=\"erg cm-2 s-1\", \n",
    "    energy_bounds=energy_bounds, \n",
    "    ylim=ylim\n",
    ")"
   ]
  },
  {
   "cell_type": "code",
   "execution_count": null,
   "id": "6a0fd07f",
   "metadata": {},
   "outputs": [],
   "source": [
    "spectral_model = CompoundSpectralModel(spectral_model1, lp2, operator.add)\n",
    "\n",
    "name = f\"{spectral_model.tag[0]}_{df_fp['catalog'][source_index][cat_index]}\"\n",
    "    \n",
    "sky_model = SkyModel(spectral_model=spectral_model, name=name)\n",
    "\n",
    "datasets = Datasets(ds_src)\n",
    "datasets.models = sky_model\n",
    "\n",
    "fitter = Fit()\n",
    "\n",
    "result_fit = fitter.run(datasets=datasets)\n",
    "\n",
    "energy_bounds = [1e-5, 1e3] * u.TeV\n",
    "ylim = [1e-18, 1e-5]\n",
    "\n",
    "plotting_SED_flux_pointing(\n",
    "    datasets = datasets,\n",
    "    spectral_model=spectral_model, \n",
    "    sed_type = \"e2dnde\", \n",
    "    yaxis_units=\"erg cm-2 s-1\", \n",
    "    energy_bounds=energy_bounds, \n",
    "    ylim=ylim\n",
    ")"
   ]
  },
  {
   "cell_type": "code",
   "execution_count": null,
   "id": "c4dfe63c",
   "metadata": {},
   "outputs": [],
   "source": [
    "spectral_model = CompoundSpectralModel(spectral_model1, lp3, operator.add)\n",
    "\n",
    "name = f\"{spectral_model.tag[0]}_{df_fp['catalog'][source_index][cat_index]}\"\n",
    "    \n",
    "sky_model = SkyModel(spectral_model=spectral_model, name=name)\n",
    "\n",
    "datasets = Datasets(ds_src)\n",
    "datasets.models = sky_model\n",
    "\n",
    "fitter = Fit()\n",
    "\n",
    "result_fit = fitter.run(datasets=datasets)\n",
    "\n",
    "energy_bounds = [1e-5, 1e3] * u.TeV\n",
    "ylim = [1e-18, 1e-5]\n",
    "\n",
    "plotting_SED_flux_pointing(\n",
    "    datasets = datasets,\n",
    "    spectral_model=spectral_model, \n",
    "    sed_type = \"e2dnde\", \n",
    "    yaxis_units=\"erg cm-2 s-1\", \n",
    "    energy_bounds=energy_bounds, \n",
    "    ylim=ylim\n",
    ")"
   ]
  },
  {
   "cell_type": "code",
   "execution_count": null,
   "id": "f7f3f326",
   "metadata": {},
   "outputs": [],
   "source": [
    "result_fit.parameters.to_table()"
   ]
  },
  {
   "cell_type": "code",
   "execution_count": null,
   "id": "5f2f6b97",
   "metadata": {
    "scrolled": false
   },
   "outputs": [],
   "source": [
    "counterpart_name"
   ]
  },
  {
   "cell_type": "code",
   "execution_count": null,
   "id": "58b49c90",
   "metadata": {},
   "outputs": [],
   "source": [
    "J1825_flux_points = FluxPoints.from_table(table = table_J1825)"
   ]
  },
  {
   "cell_type": "code",
   "execution_count": null,
   "id": "5262ccb9",
   "metadata": {},
   "outputs": [],
   "source": [
    "J1825_ds = FluxPointsDataset(\n",
    "    data = J1825_flux_points, \n",
    "    name = f\"{PeVatron_name}\"\n",
    ")\n",
    "datasets_fp_cut[source_index].append(J1825_ds)\n",
    "\n"
   ]
  },
  {
   "cell_type": "code",
   "execution_count": null,
   "id": "2a86f0b1",
   "metadata": {},
   "outputs": [],
   "source": [
    "print(datasets_fp_cut[source_index][1])"
   ]
  },
  {
   "cell_type": "code",
   "execution_count": null,
   "id": "0ed13f13",
   "metadata": {},
   "outputs": [],
   "source": []
  },
  {
   "cell_type": "markdown",
   "id": "44c4df2a",
   "metadata": {},
   "source": [
    "#### AQUIII"
   ]
  },
  {
   "cell_type": "code",
   "execution_count": null,
   "id": "5954404a",
   "metadata": {
    "scrolled": true
   },
   "outputs": [],
   "source": [
    "df_fp[\"PeVatron_name\"]"
   ]
  },
  {
   "cell_type": "code",
   "execution_count": null,
   "id": "00557c96",
   "metadata": {},
   "outputs": [],
   "source": []
  },
  {
   "cell_type": "code",
   "execution_count": null,
   "id": "6da0a1e7",
   "metadata": {
    "scrolled": true
   },
   "outputs": [],
   "source": [
    "# to select a source object index: [0-6]\n",
    "source_index = 6\n",
    "table_index = 0\n",
    "cat_index = 0\n",
    "# source = sources_catalogs[source_index][0]\n",
    "source_identification(source_index)\n",
    "\n",
    "catalog_tag = df_fp[\"catalog\"][source_index][cat_index]\n",
    "\n",
    "ds_src = datasets_fp[source_index]\n",
    "# ds_src = ds_src_combined_cut_3\n",
    "\n",
    "spectral_model = sources_catalogs[source_index][cat_index].spectral_model()\n",
    "\n",
    "# spectral_model = PowerLawSpectralModel(\n",
    "#     index=2,\n",
    "#     amplitude=\"1e-10 TeV-1 cm-2 s-1\",\n",
    "#     reference=1 * u.TeV,\n",
    "# )\n",
    "\n",
    "# spectral_model = LogParabolaSpectralModel(\n",
    "#     alpha=0.92,\n",
    "#     amplitude=\"1e-12 cm-2 s-1 erg-1\",\n",
    "#     reference=1 * u.TeV,\n",
    "#     beta=1.19,\n",
    "# )\n",
    "\n",
    "name = f\"{spectral_model.tag[0]}_{df_fp['catalog'][source_index][cat_index]}\"\n",
    "    \n",
    "sky_model = SkyModel(spectral_model=spectral_model, name=name)\n",
    "\n",
    "datasets = Datasets(ds_src)\n",
    "datasets.models = sky_model\n",
    "\n",
    "fitter = Fit()\n",
    "\n",
    "result_fit = fitter.run(datasets=datasets)\n",
    "\n",
    "energy_bounds = [1e-3, 1e5] * u.TeV\n",
    "ylim = [1e-16, 1e-6]\n",
    "\n",
    "plotting_SED_flux_pointing(\n",
    "    datasets = datasets,\n",
    "    spectral_model=spectral_model, \n",
    "    sed_type = \"e2dnde\", \n",
    "    yaxis_units=\"erg cm-2 s-1\", \n",
    "    energy_bounds=energy_bounds, \n",
    "    ylim=ylim\n",
    ")"
   ]
  },
  {
   "cell_type": "code",
   "execution_count": null,
   "id": "5f7b0d03",
   "metadata": {
    "scrolled": true
   },
   "outputs": [],
   "source": [
    "print(result_fit.models.parameters.to_table())"
   ]
  },
  {
   "cell_type": "code",
   "execution_count": null,
   "id": "faf11bf9",
   "metadata": {},
   "outputs": [],
   "source": [
    "import operator\n",
    "from astropy import units as u\n",
    "import matplotlib.pyplot as plt\n",
    "from gammapy.modeling.models import (\n",
    "    CompoundSpectralModel,\n",
    "    LogParabolaSpectralModel,\n",
    "    Models,\n",
    "    PowerLawSpectralModel,\n",
    "    SkyModel,\n",
    ")\n",
    "\n",
    "energy_bounds = [0.1, 100] * u.TeV\n",
    "pwl = PowerLawSpectralModel(\n",
    "    index=2.0, amplitude=\"1e-12 cm-2 s-1 TeV-1\", reference=\"1 TeV\"\n",
    ")\n",
    "lp = LogParabolaSpectralModel(\n",
    "    amplitude=\"1e-12 cm-2 s-1 TeV-1\", reference=\"10 TeV\", alpha=2.0, beta=1.0\n",
    ")\n",
    "\n",
    "model_add = CompoundSpectralModel(pwl, lp, operator.add)\n",
    "model_add.plot(energy_bounds)\n",
    "plt.grid(which=\"both\")\n"
   ]
  },
  {
   "cell_type": "code",
   "execution_count": null,
   "id": "cf5ff348",
   "metadata": {},
   "outputs": [],
   "source": []
  },
  {
   "cell_type": "code",
   "execution_count": null,
   "id": "6a19e8c6",
   "metadata": {},
   "outputs": [],
   "source": []
  },
  {
   "cell_type": "code",
   "execution_count": null,
   "id": "caa74409",
   "metadata": {
    "scrolled": true
   },
   "outputs": [],
   "source": [
    "spectral_model.reference"
   ]
  },
  {
   "cell_type": "code",
   "execution_count": null,
   "id": "636366aa",
   "metadata": {},
   "outputs": [],
   "source": [
    "# import matplotlib.pyplot as plt\n",
    "# import numpy as np\n",
    "\n",
    "# # Generate dataset for the plot\n",
    "# x = np.linspace(-10, 10, 1000)\n",
    "# y = np.sin(x)\n",
    "\n",
    "# # Plot the data\n",
    "# plt.plot(x, y, color='red')\n",
    "\n",
    "# # Use the rdbu colormap to color the background\n",
    "# plt.imshow(np.outer(np.ones(10), np.arange(100)),\n",
    "#            cmap='RdBu',\n",
    "#            extent=(-10, 10, -1, 1),\n",
    "#            alpha=0.2)\n",
    "\n",
    "# # Add text to the plot using an rgba color\n",
    "# plt.text(5, 0.5, 'Text in RGBA color', color=(0, 1, 0, 0.5), fontsize=16)\n",
    "\n",
    "# # Show the plot\n",
    "# plt.show()"
   ]
  },
  {
   "cell_type": "code",
   "execution_count": null,
   "id": "725899bf",
   "metadata": {},
   "outputs": [],
   "source": []
  },
  {
   "cell_type": "code",
   "execution_count": null,
   "id": "7d448f6a",
   "metadata": {},
   "outputs": [],
   "source": []
  },
  {
   "cell_type": "code",
   "execution_count": null,
   "id": "c5367d5e",
   "metadata": {},
   "outputs": [],
   "source": []
  },
  {
   "cell_type": "code",
   "execution_count": null,
   "id": "747287ce",
   "metadata": {},
   "outputs": [],
   "source": []
  },
  {
   "cell_type": "code",
   "execution_count": null,
   "id": "5c85aaea",
   "metadata": {},
   "outputs": [],
   "source": [
    "# to select a source object index: [0-6]\n",
    "source_index = 0\n",
    "source_identification(source_index)\n",
    "PeVatron_name, counterpart_name"
   ]
  },
  {
   "cell_type": "code",
   "execution_count": null,
   "id": "4d50a908",
   "metadata": {},
   "outputs": [],
   "source": [
    "# List of catalogs with flux points table of the source\n",
    "df_fp['catalog'][source_index]"
   ]
  },
  {
   "cell_type": "code",
   "execution_count": null,
   "id": "144e7f84",
   "metadata": {},
   "outputs": [],
   "source": [
    "# to select a catalog:\n",
    "cat_index = 4\n",
    "catalog_tag = df_fp[\"catalog\"][source_index][cat_index]\n",
    "catalog = CATALOG_REGISTRY.get_cls(catalog_tag)()\n",
    "# print(catalog)"
   ]
  },
  {
   "cell_type": "code",
   "execution_count": null,
   "id": "b31f37c5",
   "metadata": {},
   "outputs": [],
   "source": [
    "source  = catalog[counterpart_name]\n",
    "# source.data"
   ]
  },
  {
   "cell_type": "code",
   "execution_count": null,
   "id": "bbf8c466",
   "metadata": {
    "scrolled": true
   },
   "outputs": [],
   "source": [
    "flux_points = source.flux_points\n",
    "flux_points.to_table(sed_type=\"e2dnde\", formatted=True)"
   ]
  },
  {
   "cell_type": "code",
   "execution_count": null,
   "id": "1d1d6170",
   "metadata": {},
   "outputs": [],
   "source": [
    "# Gammapy sky model object:\n",
    "sky_model = source.sky_model()\n",
    "\n",
    "# Gammapy spatial model object:\n",
    "spatial_model = source.spatial_model\n",
    "\n",
    "# Gammapy spectral model object:\n",
    "spectral_model = source.spectral_model()\n",
    "spectral_model_tag = spectral_model.tag[0]\n",
    "spectral_model_tag_short = spectral_model.tag[0]"
   ]
  },
  {
   "cell_type": "code",
   "execution_count": null,
   "id": "ca4d9b8a",
   "metadata": {},
   "outputs": [],
   "source": [
    "# energy_bounds = [1e-5, 1e3] * u.TeV\n",
    "# ylim = [1e-20, 1e-7]"
   ]
  },
  {
   "cell_type": "code",
   "execution_count": null,
   "id": "cfa9953d",
   "metadata": {},
   "outputs": [],
   "source": [
    "file_name = f'{PeVatron_txt}_{counterpart_txt}_{spectral_model_tag_short}.png'\n",
    "file_path = path_plot_spectrum / file_name"
   ]
  },
  {
   "cell_type": "code",
   "execution_count": null,
   "id": "c656ee5b",
   "metadata": {},
   "outputs": [],
   "source": [
    "plt.style.use(['science', 'notebook', 'grid'])\n",
    "\n",
    "plt.figure()\n",
    "\n",
    "ax = spectral_model.plot(energy_bounds, sed_type=\"e2dnde\")\n",
    "ax = spectral_model.plot_error(energy_bounds, sed_type=\"e2dnde\")\n",
    "flux_points.plot(ax=ax, sed_type=\"e2dnde\")\n",
    "ax.text(0.08, 0.1, PeVatron_name, transform=ax.transAxes, fontsize = \"x-large\")\n",
    "\n",
    "ax.set_ylim(ylim)\n",
    "ax.set_xlim(energy_bounds)\n",
    "\n",
    "# plt.title(f\"{PeVatron_name}: {counterpart_name}\")\n",
    "plt.legend([spectral_model_tag, \"Error\", f\"{counterpart_name} - {catalog_tag}\"], loc='upper left', prop={'size': 10})\n",
    "plt.savefig(file_path, bbox_inches='tight')\n",
    "plt.show()"
   ]
  },
  {
   "cell_type": "code",
   "execution_count": null,
   "id": "de037824",
   "metadata": {},
   "outputs": [],
   "source": []
  },
  {
   "cell_type": "code",
   "execution_count": null,
   "id": "1a95ec9d",
   "metadata": {},
   "outputs": [],
   "source": [
    "file_name"
   ]
  },
  {
   "cell_type": "code",
   "execution_count": null,
   "id": "8718987c",
   "metadata": {},
   "outputs": [],
   "source": [
    "source_index = 1\n",
    "source_identification(source_index)\n",
    "catalog_tag = df_fp[\"catalog\"][source_index][3]\n",
    "\n",
    "file_name = f'{PeVatron_txt}_{counterpart_txt}_{catalog_tag}{format_fits}'\n",
    "file_path = make_path(f\"{path_flux_points_tables}/{file_name}\")\n",
    "flux_points = FluxPoints.read(file_path, sed_type=sed_type)\n",
    "ds = FluxPointsDataset(\n",
    "    data = flux_points, \n",
    "    name = f\"{counterpart_name}: {catalog_tag}\"\n",
    ")\n",
    "datasets = Datasets(ds)\n",
    "\n",
    "\n",
    "# opts = dict(sed_type=\"e2dnde\", yunits=u.Unit(\"TeV cm-2 s-1\"))\n",
    "energy_bounds = [1e-3, 1e3] * u.TeV\n",
    "ylim = [1e-13, 1e-9]\n",
    "plotting_SED_flux_pointing(\n",
    "    datasets = datasets,\n",
    "#     spectral_model=spectral_model, \n",
    "    sed_type = \"e2dnde\", \n",
    "    yaxis_units=\"erg cm-2 s-1\", \n",
    "    energy_bounds=energy_bounds, \n",
    "    ylim=ylim)\n"
   ]
  },
  {
   "cell_type": "code",
   "execution_count": null,
   "id": "9e8f9799",
   "metadata": {},
   "outputs": [],
   "source": [
    "# Defining the minimum value of the reference energy  \n",
    "e_ref_min = 100 * u.Unit(\"GeV\")\n",
    "e_ref_min_name = str(e_ref_min).replace(\" \", \"\")"
   ]
  },
  {
   "cell_type": "code",
   "execution_count": null,
   "id": "1736a7fa",
   "metadata": {},
   "outputs": [],
   "source": [
    "source_identification(source_index)\n",
    "catalog_tag = df_fp[\"catalog\"][source_index][3]\n",
    "\n",
    "file_name = f'{PeVatron_txt}_{counterpart_txt}_{catalog_tag}_e_ref_min_{e_ref_min_name}{format_fits}'\n",
    "file_path = make_path(f\"{path_flux_points_tables_analysis}/{file_name}\")\n",
    "flux_points = FluxPoints.read(file_path, sed_type=sed_type)\n",
    "ds = FluxPointsDataset(\n",
    "    data = flux_points, \n",
    "    name = f\"{counterpart_name}: {catalog_tag}\"\n",
    ")\n",
    "datasets = Datasets(ds)\n",
    "\n",
    "\n",
    "# opts = dict(sed_type=\"e2dnde\", yunits=u.Unit(\"TeV cm-2 s-1\"))\n",
    "energy_bounds = [1e-3, 1e3] * u.TeV\n",
    "ylim = [1e-13, 1e-9]\n",
    "plotting_SED_flux_pointing(\n",
    "    datasets = datasets,\n",
    "#     spectral_model=spectral_model, \n",
    "    sed_type = \"e2dnde\", \n",
    "    yaxis_units=\"erg cm-2 s-1\", \n",
    "    energy_bounds=energy_bounds, \n",
    "    ylim=ylim)\n"
   ]
  },
  {
   "cell_type": "code",
   "execution_count": null,
   "id": "87fb15e8",
   "metadata": {},
   "outputs": [],
   "source": []
  },
  {
   "cell_type": "code",
   "execution_count": null,
   "id": "7f06e012",
   "metadata": {},
   "outputs": [],
   "source": [
    "with open('J1825_KM2A_201209.dat', \"r\") as my_file: \n",
    "    df = my_file.read()"
   ]
  },
  {
   "cell_type": "code",
   "execution_count": null,
   "id": "4f3f8c90",
   "metadata": {},
   "outputs": [],
   "source": []
  },
  {
   "cell_type": "markdown",
   "id": "5e8303da",
   "metadata": {},
   "source": [
    "## Table LHAASO"
   ]
  },
  {
   "cell_type": "code",
   "execution_count": null,
   "id": "c50d6890",
   "metadata": {},
   "outputs": [],
   "source": []
  },
  {
   "cell_type": "markdown",
   "id": "ec3a8f53",
   "metadata": {},
   "source": [
    "#### HAWCJ1825"
   ]
  },
  {
   "cell_type": "code",
   "execution_count": null,
   "id": "96b9f8ee",
   "metadata": {},
   "outputs": [],
   "source": [
    "with open('HAWCJ1825-134.csv', \"r\") as my_file: \n",
    "    df = my_file.read()\n",
    "\n"
   ]
  },
  {
   "cell_type": "code",
   "execution_count": null,
   "id": "1bde40ca",
   "metadata": {},
   "outputs": [],
   "source": [
    "print(df)"
   ]
  },
  {
   "cell_type": "code",
   "execution_count": null,
   "id": "8d084e6d",
   "metadata": {},
   "outputs": [],
   "source": [
    "table_HAWCJ1825_134 = Table.read('HAWCJ1825-134.csv',format='ascii', delimiter=',', comment='#')\n",
    "table_HAWCJ1825_134.colnames"
   ]
  },
  {
   "cell_type": "code",
   "execution_count": null,
   "id": "4c2f17ed",
   "metadata": {},
   "outputs": [],
   "source": [
    "table_HAWCJ1825_134.rename_column('x', 'e_ref')\n",
    "table_HAWCJ1825_134['e_ref'].unit = u.TeV\n",
    "\n",
    "\n",
    "table_HAWCJ1825_134['e2dnde'].unit = u.Unit(\"TeV cm-2 s-1\")"
   ]
  },
  {
   "cell_type": "code",
   "execution_count": null,
   "id": "8d476fee",
   "metadata": {},
   "outputs": [],
   "source": [
    "table_HAWCJ1825_134['e2dnde']"
   ]
  },
  {
   "cell_type": "code",
   "execution_count": null,
   "id": "6aaf6939",
   "metadata": {},
   "outputs": [],
   "source": [
    "FluxPoints.from_table(table = table_HAWCJ1825_134, sed_type='e2dnde').plot()\n",
    "plt.xlim(.1, 1000)\n",
    "plt.ylim(1e-14, 1e-10)\n",
    "plt.grid(which=\"both\")"
   ]
  },
  {
   "cell_type": "code",
   "execution_count": null,
   "id": "c2eb03ce",
   "metadata": {},
   "outputs": [],
   "source": [
    "yaxis_units=\"TeV cm-2 s-1\"\n",
    "ax = plt.subplot()\n",
    "ax.yaxis.set_units(u.Unit(yaxis_units))\n",
    "ax.xaxis.set_units(u.Unit(\"TeV\"))\n",
    "\n",
    "flux_points = FluxPoints.from_table(table = table_HAWCJ1825_134, sed_type='e2dnde')\n",
    "flux_points.plot(ax=ax)\n",
    "\n",
    "\n",
    "plt.xlim(.1, 1000)\n",
    "plt.ylim(1e-14, 1e-10)\n",
    "plt.grid(which=\"both\")\n",
    "plt.savefig('uu.png', bbox_inches='tight')"
   ]
  },
  {
   "cell_type": "code",
   "execution_count": null,
   "id": "f64b7bd9",
   "metadata": {
    "scrolled": true
   },
   "outputs": [],
   "source": [
    "flux_points.to_table()"
   ]
  },
  {
   "cell_type": "code",
   "execution_count": null,
   "id": "2e234745",
   "metadata": {},
   "outputs": [],
   "source": [
    "table_HAWCJ1825_134[\"e2dnde\"][:] = table_HAWCJ1825_134[\"e2dnde\"].to(u.Unit(\"erg cm-2 s-1\")) "
   ]
  },
  {
   "cell_type": "code",
   "execution_count": null,
   "id": "246ceee8",
   "metadata": {},
   "outputs": [],
   "source": [
    "table_HAWCJ1825_134"
   ]
  },
  {
   "cell_type": "code",
   "execution_count": null,
   "id": "24740078",
   "metadata": {},
   "outputs": [],
   "source": [
    "flux_points = FluxPoints.from_table(table_HAWCJ1825_134, sed_type='e2dnde')\n",
    "\n",
    "flux_points.to_table(formatted=True)"
   ]
  },
  {
   "cell_type": "code",
   "execution_count": null,
   "id": "09794be5",
   "metadata": {},
   "outputs": [],
   "source": []
  },
  {
   "cell_type": "markdown",
   "id": "75e5aa91",
   "metadata": {},
   "source": [
    "#### LHAASO J1825_KM2A"
   ]
  },
  {
   "cell_type": "code",
   "execution_count": null,
   "id": "2f093e7d",
   "metadata": {},
   "outputs": [],
   "source": []
  },
  {
   "cell_type": "code",
   "execution_count": null,
   "id": "29c7f685",
   "metadata": {},
   "outputs": [],
   "source": [
    "from pathlib import Path\n",
    "directory_path = '../publishNature'\n",
    "format_dat = '.dat'\n",
    "file_name = \"J1825_KM2A_201209\"\n",
    "file_abs_name = f'{file_name}{format_dat}'\n",
    "\n",
    "file_path = Path(f'{directory_path}/{file_abs_name}') \n",
    "J1825 = Table.read(file_path,format='ascii', delimiter=' ', comment='#')\n",
    "J1825"
   ]
  },
  {
   "cell_type": "code",
   "execution_count": null,
   "id": "64392add",
   "metadata": {},
   "outputs": [],
   "source": []
  },
  {
   "cell_type": "code",
   "execution_count": null,
   "id": "86d9b921",
   "metadata": {},
   "outputs": [],
   "source": [
    "from astropy.table import QTable\n",
    "import astropy.units as u\n",
    "\n",
    "J1825['col1'] = J1825['col1']/1e12\n",
    "J1825.rename_column('col1', 'e_ref')\n",
    "J1825['e_ref'].unit = u.TeV\n",
    "\n",
    "J1825['col5'] = J1825['col5']/1e12\n",
    "J1825.rename_column('col5', 'e_min')\n",
    "J1825['e_min'].unit = u.TeV\n",
    "\n",
    "J1825['col6'] = J1825['col6']/1e12\n",
    "J1825.rename_column('col6', 'e_max')\n",
    "J1825['e_max'].unit = u.TeV\n",
    "\n",
    "\n",
    "\n",
    "J1825.rename_column('col2', 'e2dnde')\n",
    "J1825['e2dnde'].unit = u.Unit(\"erg cm-2 s-1\")\n",
    "\n",
    "J1825.rename_column('col3', 'e2dnde_errp')\n",
    "J1825['e2dnde_errp'].unit = u.Unit(\"erg cm-2 s-1\")\n",
    "\n",
    "J1825.rename_column('col4', 'e2dnde_errn')\n",
    "J1825['e2dnde_errn'].unit = u.Unit(\"erg cm-2 s-1\")\n",
    "\n",
    "J1825.meta[\"SED_TYPE\"] = \"e2dnde\"\n",
    "J1825.meta[\"name\"] = \"J1825\"\n",
    "\n",
    "\n",
    "\n",
    "\n",
    "\n",
    "# # Writes the flux points table in the csv format\n",
    "# file_abs_name = f'{file_name}{format_fits}'\n",
    "# path_os = os.path.abspath(\n",
    "#     os.path.join(\n",
    "#         f\"{directory_path}/{file_abs_name}\"\n",
    "#     )\n",
    "# )\n",
    "\n",
    "# if path_os not in sys.path:\n",
    "#     sys.path.append(path_os)\n",
    "\n",
    "# J1825.write(\n",
    "#     f\"{path_os}\",\n",
    "#     format = 'fits', \n",
    "#     overwrite = True\n",
    "# )   \n",
    "\n",
    "# # Writes the flux points table in the csv format\n",
    "# file_abs_name = f'{file_name}{format_csv}'\n",
    "# path_os = os.path.abspath(\n",
    "#     os.path.join(\n",
    "#         f\"{directory_path}/{file_abs_name}\"\n",
    "#     )\n",
    "# )\n",
    "\n",
    "# if path_os not in sys.path:\n",
    "#     sys.path.append(path_os)\n",
    "\n",
    "# J1825.write(\n",
    "#     f\"{path_os}\",\n",
    "#     format = 'ascii.ecsv', \n",
    "#     overwrite = True\n",
    "# )  "
   ]
  },
  {
   "cell_type": "code",
   "execution_count": null,
   "id": "bc236f71",
   "metadata": {},
   "outputs": [],
   "source": [
    "\n",
    "J1825"
   ]
  },
  {
   "cell_type": "code",
   "execution_count": null,
   "id": "fe9dcb36",
   "metadata": {},
   "outputs": [],
   "source": [
    "FluxPoints.from_table(table = J1825, sed_type='e2dnde').plot()"
   ]
  },
  {
   "cell_type": "code",
   "execution_count": null,
   "id": "1ef2bb2e",
   "metadata": {},
   "outputs": [],
   "source": [
    "J1825['e_ref'],J1825['e2dnde']"
   ]
  },
  {
   "cell_type": "code",
   "execution_count": null,
   "id": "84752095",
   "metadata": {},
   "outputs": [],
   "source": [
    "x_data = J1825['e_ref']\n",
    "y_data = J1825['e2dnde']"
   ]
  },
  {
   "cell_type": "code",
   "execution_count": null,
   "id": "8374d078",
   "metadata": {},
   "outputs": [],
   "source": [
    "def power_law(energy,index, amplitude):  \n",
    "    return amplitude*(energy)**(-index)"
   ]
  },
  {
   "cell_type": "code",
   "execution_count": null,
   "id": "78c1e0d9",
   "metadata": {},
   "outputs": [],
   "source": [
    "from scipy.optimize import curve_fit\n",
    "popt, pcov = curve_fit(power_law, J1825['e_ref'], J1825['e2dnde'], p0=[2,1e-12])"
   ]
  },
  {
   "cell_type": "code",
   "execution_count": null,
   "id": "ef5a557b",
   "metadata": {
    "scrolled": true
   },
   "outputs": [],
   "source": [
    "popt, pcov"
   ]
  },
  {
   "cell_type": "code",
   "execution_count": null,
   "id": "ebea56b3",
   "metadata": {},
   "outputs": [],
   "source": [
    "a_opt, b_opt = popt\n",
    "x_plw = np.linspace(min(x_data), max(x_data), 100)\n",
    "y_plw = power_law(x_plw, a_opt, b_opt)"
   ]
  },
  {
   "cell_type": "code",
   "execution_count": null,
   "id": "a878fcfa",
   "metadata": {},
   "outputs": [],
   "source": []
  },
  {
   "cell_type": "code",
   "execution_count": null,
   "id": "46291c62",
   "metadata": {},
   "outputs": [],
   "source": [
    "def log_parabola(energy, amplitude, alpha, beta):  \n",
    "    return amplitude*((energy/10)**(-(-alpha+(beta*np.log(energy/10)))))"
   ]
  },
  {
   "cell_type": "code",
   "execution_count": null,
   "id": "a42c555a",
   "metadata": {},
   "outputs": [],
   "source": [
    "popt, pcov = curve_fit(log_parabola, J1825['e_ref'], J1825['e2dnde'], p0=[1e-12,1, 1])"
   ]
  },
  {
   "cell_type": "code",
   "execution_count": null,
   "id": "f36858e7",
   "metadata": {},
   "outputs": [],
   "source": [
    "popt, pcov"
   ]
  },
  {
   "cell_type": "code",
   "execution_count": null,
   "id": "bdab9c4b",
   "metadata": {},
   "outputs": [],
   "source": [
    "a_opt, b_opt, c_opt = popt\n",
    "x_lp = np.linspace(min(x_data), max(x_data), 100)\n",
    "y_lp = log_parabola(x_lp, a_opt, b_opt, c_opt)"
   ]
  },
  {
   "cell_type": "code",
   "execution_count": null,
   "id": "4f0d25d1",
   "metadata": {},
   "outputs": [],
   "source": []
  },
  {
   "cell_type": "code",
   "execution_count": null,
   "id": "373b652d",
   "metadata": {},
   "outputs": [],
   "source": []
  },
  {
   "cell_type": "code",
   "execution_count": null,
   "id": "196ffe76",
   "metadata": {},
   "outputs": [],
   "source": [
    "\n"
   ]
  },
  {
   "cell_type": "code",
   "execution_count": null,
   "id": "6c3bc2e0",
   "metadata": {},
   "outputs": [],
   "source": [
    "energy_bounds=[10, 1000]* u.TeV\n",
    "\n",
    "pwl = PowerLawSpectralModel(\n",
    "    index=3.36, \n",
    "    amplitude=\"1e-12 cm-2 s-1 erg-1\", \n",
    "    reference=\"1 TeV\"\n",
    ")\n",
    "\n",
    "\n",
    "plt.figure(figsize=(4,6))\n",
    "plt.loglog(J1825['e_ref'],J1825['e2dnde'], 'o', color='red', lw=2, ms=4)\n",
    "plt.errorbar(J1825['e_ref'],J1825['e2dnde'], yerr=[J1825['e2dnde_errn'], J1825['e2dnde_errp']],fmt='.', color='red')\n",
    "\n",
    "\n",
    "\n",
    "# pwl.plot(energy_bounds=energy_bounds, color=\"k\")\n",
    "plt.text(0.04,0.1, PeVatron_name, transform=ax.transAxes, bbox=dict(facecolor='white', edgecolor='black'), size=13)\n",
    "\n",
    "plt.loglog(x_plw,y_plw, '--' ,color='black')\n",
    "# plt.loglog(x_lp,y_lp, '--' ,color='black')\n",
    "\n",
    "plt.xlabel(\"Energy (TeV)\")   \n",
    "plt.ylabel(r\"$E^{2}$dN/dE (erg $cm^{-2}$ $s^{-1}$)\")\n",
    "plt.xlim(10, 1000)\n",
    "plt.ylim(1e-14, 5e-11)\n",
    "plt.grid(which=\"both\")"
   ]
  },
  {
   "cell_type": "code",
   "execution_count": null,
   "id": "ff82b928",
   "metadata": {},
   "outputs": [],
   "source": [
    "fig, axes = plt.subplots(1, 3, figsize=(12,6))\n",
    "ax = axes[0]\n",
    "ax.loglog(J1825['e_ref'],J1825['e2dnde'], 'o', color='red', lw=2, ms=4)\n",
    "ax.errorbar(J1825['e_ref'],J1825['e2dnde'], yerr=[J1825['e2dnde_errn'], J1825['e2dnde_errp']],fmt='.', color='red')\n",
    "ax.text(0.04,0.1, PeVatron_name, transform=ax.transAxes, bbox=dict(facecolor='white', edgecolor='black'), size=13)\n",
    "ax.loglog(x_plw,y_plw, '--' ,color='black')\n",
    "ax.set_ylabel(r\"$E^{2}$dN/dE (erg $cm^{-2}$ $s^{-1}$)\")\n",
    "ax.grid(which=\"both\")\n",
    "\n",
    "\n",
    "\n",
    "\n",
    "\n",
    "fig.text(0.5, -0.04, \"Energy (TeV)\", ha='center', size=20)\n",
    "\n",
    "# plt.ylabel(r\"$E^{2}$dN/dE (erg $cm^{-2}$ $s^{-1}$)\")\n",
    "plt.xlim(10, 1000)\n",
    "plt.ylim(1e-14, 5e-11)\n",
    "plt.grid(which=\"both\")\n",
    "\n"
   ]
  },
  {
   "cell_type": "code",
   "execution_count": null,
   "id": "0fe537dc",
   "metadata": {},
   "outputs": [],
   "source": []
  },
  {
   "cell_type": "code",
   "execution_count": null,
   "id": "d0461669",
   "metadata": {},
   "outputs": [],
   "source": []
  },
  {
   "cell_type": "code",
   "execution_count": null,
   "id": "645754fc",
   "metadata": {},
   "outputs": [],
   "source": [
    "from pathlib import Path\n",
    "from astropy.table import QTable\n",
    "import astropy.units as u\n",
    "from scipy.optimize import curve_fit\n"
   ]
  },
  {
   "cell_type": "code",
   "execution_count": null,
   "id": "83449870",
   "metadata": {},
   "outputs": [],
   "source": [
    "def power_law(energy,index, amplitude):  \n",
    "    return amplitude*(energy)**(-index)"
   ]
  },
  {
   "cell_type": "code",
   "execution_count": null,
   "id": "830a214f",
   "metadata": {},
   "outputs": [],
   "source": [
    "def log_parabola(energy, amplitude, alpha, beta):  \n",
    "    return amplitude*((energy/10)**(-(-alpha+(beta*np.log(energy/10)))))"
   ]
  },
  {
   "cell_type": "code",
   "execution_count": null,
   "id": "4c430f41",
   "metadata": {},
   "outputs": [],
   "source": []
  },
  {
   "cell_type": "code",
   "execution_count": null,
   "id": "5e9fab3e",
   "metadata": {},
   "outputs": [],
   "source": []
  },
  {
   "cell_type": "code",
   "execution_count": null,
   "id": "691cdf0a",
   "metadata": {},
   "outputs": [],
   "source": []
  },
  {
   "cell_type": "code",
   "execution_count": null,
   "id": "8aeeaca1",
   "metadata": {},
   "outputs": [],
   "source": []
  },
  {
   "cell_type": "code",
   "execution_count": null,
   "id": "7694a6d6",
   "metadata": {},
   "outputs": [],
   "source": []
  },
  {
   "cell_type": "code",
   "execution_count": null,
   "id": "295b0329",
   "metadata": {},
   "outputs": [],
   "source": [
    "file_path"
   ]
  },
  {
   "cell_type": "code",
   "execution_count": null,
   "id": "bf6e77db",
   "metadata": {},
   "outputs": [],
   "source": [
    "for i, file_name in enumerate(files_names):\n",
    "    PeVatron_name = PeVatrons_names[i]\n",
    "    print(PeVatron_name)\n",
    "    file_abs_name = f'{file_name}'\n",
    "\n",
    "    file_path = Path(f'{directory_path}/{file_abs_name}') \n",
    "    table = Table.read(file_path,format='ascii', delimiter=' ', comment='#')\n",
    "    display(table)\n",
    "    \n",
    "    table['col1'] = table['col1']/1e12\n",
    "    table.rename_column('col1', 'e_ref')\n",
    "    table['e_ref'].unit = u.TeV\n",
    "\n",
    "    table['col5'] = table['col5']/1e12\n",
    "    table.rename_column('col5', 'e_min')\n",
    "    table['e_min'].unit = u.TeV\n",
    "\n",
    "    table['col6'] = table['col6']/1e12\n",
    "    table.rename_column('col6', 'e_max')\n",
    "    table['e_max'].unit = u.TeV\n",
    "\n",
    "    table.rename_column('col2', 'e2dnde')\n",
    "    table['e2dnde'].unit = u.Unit(\"erg cm-2 s-1\")\n",
    "\n",
    "    table.rename_column('col3', 'e2dnde_errp')\n",
    "    table['e2dnde_errp'].unit = u.Unit(\"erg cm-2 s-1\")\n",
    "\n",
    "    table.rename_column('col4', 'e2dnde_errn')\n",
    "    table['e2dnde_errn'].unit = u.Unit(\"erg cm-2 s-1\")\n",
    "\n",
    "    table.meta[\"SED_TYPE\"] = \"e2dnde\"\n",
    "    table.meta[\"name\"] = \"table\"\n",
    "    display(table)\n",
    "    x_data = table['e_ref']\n",
    "    y_data = table['e2dnde']\n",
    "\n",
    "    popt, pcov = curve_fit(power_law, table['e_ref'], table['e2dnde'], p0=[2,1e-12])\n",
    "    a_opt, b_opt = popt\n",
    "    x_plw = np.linspace(min(x_data), max(x_data), 100)\n",
    "    y_plw = power_law(x_plw, a_opt, b_opt)\n",
    "    fig, axes = plt.subplots(1, 3, figsize=(12,6))\n",
    "    ax = axes[0]\n",
    "    ax.loglog(table['e_ref'], table['e2dnde'], 'o', color='red', lw=2, ms=4)\n",
    "    ax.errorbar(table['e_ref'], table['e2dnde'], yerr=[table['e2dnde_errn'], table['e2dnde_errp']],fmt='.', color='red')\n",
    "    ax.text(0.04,0.1, PeVatron_name, transform=ax.transAxes, bbox=dict(facecolor='white', edgecolor='black'), size=13)\n",
    "    ax.loglog(x_plw,y_plw, '--' ,color='black')\n",
    "    ax.set_ylabel(r\"$E^{2}$dN/dE (erg $cm^{-2}$ $s^{-1}$)\")\n",
    "    ax.grid(which=\"both\")\n",
    "\n",
    "    fig.text(0.5, -0.04, \"Energy (TeV)\", ha='center', size=20)\n",
    "\n",
    "    plt.xlim(10, 1000)\n",
    "    plt.ylim(1e-14, 5e-11)\n",
    "    plt.grid(which=\"both\")\n",
    "    plt.show()\n"
   ]
  },
  {
   "cell_type": "code",
   "execution_count": null,
   "id": "5abe75fe",
   "metadata": {},
   "outputs": [],
   "source": []
  },
  {
   "cell_type": "code",
   "execution_count": null,
   "id": "e1c6a821",
   "metadata": {},
   "outputs": [],
   "source": []
  },
  {
   "cell_type": "code",
   "execution_count": null,
   "id": "6151c482",
   "metadata": {},
   "outputs": [],
   "source": [
    "file_name = files_names[0]\n",
    "file_abs_name = f'{file_name}'\n",
    "\n",
    "file_path = Path(f'{directory_path}/{file_abs_name}') \n",
    "table = Table.read(file_path,format='ascii', delimiter=' ', comment='#')\n",
    "table"
   ]
  },
  {
   "cell_type": "code",
   "execution_count": null,
   "id": "fa9030e7",
   "metadata": {},
   "outputs": [],
   "source": [
    "table['col1'] = table['col1']/1e12\n",
    "table.rename_column('col1', 'e_ref')\n",
    "table['e_ref'].unit = u.TeV\n",
    "\n",
    "table['col5'] = table['col5']/1e12\n",
    "table.rename_column('col5', 'e_min')\n",
    "table['e_min'].unit = u.TeV\n",
    "\n",
    "table['col6'] = table['col6']/1e12\n",
    "table.rename_column('col6', 'e_max')\n",
    "table['e_max'].unit = u.TeV\n",
    "\n",
    "table.rename_column('col2', 'e2dnde')\n",
    "table['e2dnde'].unit = u.Unit(\"erg cm-2 s-1\")\n",
    "\n",
    "table.rename_column('col3', 'e2dnde_errp')\n",
    "table['e2dnde_errp'].unit = u.Unit(\"erg cm-2 s-1\")\n",
    "\n",
    "table.rename_column('col4', 'e2dnde_errn')\n",
    "table['e2dnde_errn'].unit = u.Unit(\"erg cm-2 s-1\")\n",
    "\n",
    "table.meta[\"SED_TYPE\"] = \"e2dnde\"\n",
    "table.meta[\"name\"] = \"table\""
   ]
  },
  {
   "cell_type": "code",
   "execution_count": null,
   "id": "658cb3ec",
   "metadata": {},
   "outputs": [],
   "source": [
    "table"
   ]
  },
  {
   "cell_type": "code",
   "execution_count": null,
   "id": "6a944c4a",
   "metadata": {},
   "outputs": [],
   "source": [
    "x_data = table['e_ref']\n",
    "y_data = table['e2dnde']"
   ]
  },
  {
   "cell_type": "markdown",
   "id": "cb270270",
   "metadata": {},
   "source": [
    "Power law"
   ]
  },
  {
   "cell_type": "code",
   "execution_count": null,
   "id": "3f3c0530",
   "metadata": {},
   "outputs": [],
   "source": [
    "popt, pcov = curve_fit(power_law, J1825['e_ref'], J1825['e2dnde'], p0=[2,1e-12])\n",
    "a_opt, b_opt = popt\n",
    "x_plw = np.linspace(min(x_data), max(x_data), 100)\n",
    "y_plw = power_law(x_plw, a_opt, b_opt)"
   ]
  },
  {
   "cell_type": "code",
   "execution_count": null,
   "id": "03704f5c",
   "metadata": {
    "scrolled": true
   },
   "outputs": [],
   "source": [
    "# fig, axes = plt.subplots(1, 3, figsize=(12,6))\n",
    "# ax = axes[0]\n",
    "# ax.loglog(table['e_ref'],table['e2dnde'], 'o', color='red', lw=2, ms=4)\n",
    "# ax.errorbar(table['e_ref'],table['e2dnde'], yerr=[J1825['e2dnde_errn'], J1825['e2dnde_errp']],fmt='.', color='red')\n",
    "# ax.text(0.04,0.1, PeVatron_name, transform=ax.transAxes, bbox=dict(facecolor='white', edgecolor='black'), size=13)\n",
    "# ax.loglog(x_plw,y_plw, '--' ,color='black')\n",
    "# ax.set_ylabel(r\"$E^{2}$dN/dE (erg $cm^{-2}$ $s^{-1}$)\")\n",
    "# ax.grid(which=\"both\")\n",
    "\n",
    "# fig.text(0.5, -0.04, \"Energy (TeV)\", ha='center', size=20)\n",
    "\n",
    "# plt.xlim(10, 1000)\n",
    "# plt.ylim(1e-14, 5e-11)\n",
    "# plt.grid(which=\"both\")"
   ]
  },
  {
   "cell_type": "code",
   "execution_count": null,
   "id": "dca93ae0",
   "metadata": {},
   "outputs": [],
   "source": []
  },
  {
   "cell_type": "code",
   "execution_count": null,
   "id": "90388def",
   "metadata": {},
   "outputs": [],
   "source": []
  },
  {
   "cell_type": "code",
   "execution_count": null,
   "id": "720e3a24",
   "metadata": {},
   "outputs": [],
   "source": []
  },
  {
   "cell_type": "code",
   "execution_count": null,
   "id": "557f4096",
   "metadata": {},
   "outputs": [],
   "source": []
  },
  {
   "cell_type": "code",
   "execution_count": null,
   "id": "be9a4b4d",
   "metadata": {},
   "outputs": [],
   "source": []
  },
  {
   "cell_type": "code",
   "execution_count": null,
   "id": "cee31260",
   "metadata": {},
   "outputs": [],
   "source": []
  },
  {
   "cell_type": "code",
   "execution_count": null,
   "id": "6e7312ab",
   "metadata": {},
   "outputs": [],
   "source": [
    "ax = plt.subplot()\n",
    "ax.loglog(J1825['e_ref'],J1825['e2dnde'], 'o', color='red', lw=2, ms=4)\n",
    "ax.errorbar(J1825['e_ref'],J1825['e2dnde'], yerr=[J1825['e2dnde_errn'], J1825['e2dnde_errp']],fmt='.', color='red')\n",
    "\n"
   ]
  },
  {
   "cell_type": "code",
   "execution_count": null,
   "id": "7ac7e46e",
   "metadata": {},
   "outputs": [],
   "source": [
    "plt.loglog(J1825['e_ref'],J1825['e2dnde'], 'o', color='red', lw=2, ms=4)\n",
    "plt.errorbar(J1825['e_ref'],J1825['e2dnde'], yerr=[J1825['e2dnde_errn'], J1825['e2dnde_errp']],fmt='.', color='red')\n"
   ]
  },
  {
   "cell_type": "code",
   "execution_count": null,
   "id": "9134feaf",
   "metadata": {},
   "outputs": [],
   "source": []
  },
  {
   "cell_type": "code",
   "execution_count": null,
   "id": "6ae71f3c",
   "metadata": {},
   "outputs": [],
   "source": []
  },
  {
   "cell_type": "code",
   "execution_count": null,
   "id": "a4d017a9",
   "metadata": {},
   "outputs": [],
   "source": []
  },
  {
   "cell_type": "code",
   "execution_count": null,
   "id": "c38be00b",
   "metadata": {},
   "outputs": [],
   "source": [
    "# file_name = \"J1825_KM2A_201209\"\n",
    "# file_abs_name = f'{file_name}{format_fits}'\n",
    "\n",
    "# file_path = Path(f'{directory_path}/{file_abs_name}') \n",
    "# J1825_t = Table.read(file_path,format='fits')\n",
    "# J1825_t"
   ]
  },
  {
   "cell_type": "code",
   "execution_count": null,
   "id": "c7f71e55",
   "metadata": {},
   "outputs": [],
   "source": [
    "J1825.meta"
   ]
  },
  {
   "cell_type": "code",
   "execution_count": null,
   "id": "e66a1c5b",
   "metadata": {},
   "outputs": [],
   "source": [
    "FluxPoints.from_table(table = J1825, sed_type='e2dnde')"
   ]
  },
  {
   "cell_type": "code",
   "execution_count": null,
   "id": "2b2edd60",
   "metadata": {},
   "outputs": [],
   "source": []
  },
  {
   "cell_type": "code",
   "execution_count": null,
   "id": "c98db70c",
   "metadata": {},
   "outputs": [],
   "source": []
  },
  {
   "cell_type": "code",
   "execution_count": null,
   "id": "b435aaa8",
   "metadata": {},
   "outputs": [],
   "source": []
  },
  {
   "cell_type": "code",
   "execution_count": null,
   "id": "18878f7c",
   "metadata": {},
   "outputs": [],
   "source": []
  },
  {
   "cell_type": "code",
   "execution_count": null,
   "id": "4d65a9f5",
   "metadata": {},
   "outputs": [],
   "source": [
    "file_path = Path(f'../publishNature/J1908_KM2A_201209.dat') \n",
    "J1908 = Table.read(file_path ,format='ascii', delimiter=' ', comment='#')\n",
    "J1908"
   ]
  },
  {
   "cell_type": "code",
   "execution_count": null,
   "id": "4644f8a7",
   "metadata": {
    "scrolled": true
   },
   "outputs": [],
   "source": [
    "file_path = Path(f'../publishNature/J2228_KM2A_201209.dat') \n",
    "J2228 = Table.read(file_path,format='ascii', delimiter=' ', comment='#')\n",
    "J2228"
   ]
  },
  {
   "cell_type": "code",
   "execution_count": null,
   "id": "e0815e43",
   "metadata": {},
   "outputs": [],
   "source": []
  },
  {
   "cell_type": "code",
   "execution_count": null,
   "id": "a44a53c9",
   "metadata": {
    "scrolled": true
   },
   "outputs": [],
   "source": [
    "J1825"
   ]
  },
  {
   "cell_type": "code",
   "execution_count": null,
   "id": "43f115c0",
   "metadata": {},
   "outputs": [],
   "source": [
    "flux_points_ = FluxPoints.from_table(J1825, sed_type=\"e2dnde\")"
   ]
  },
  {
   "cell_type": "code",
   "execution_count": null,
   "id": "3cd651d5",
   "metadata": {},
   "outputs": [],
   "source": [
    "flux_points_.plot()"
   ]
  },
  {
   "cell_type": "code",
   "execution_count": null,
   "id": "587a0a00",
   "metadata": {},
   "outputs": [],
   "source": [
    "# e_ref = J1825['col1']/1e12\n",
    "# e_min = J1825['col5']/1e12\n",
    "# e_max = J1825['col6']/1e12\n",
    "\n",
    "# e2dnde = J1825['col2']\n",
    "# e2dnde_errp = J1825['col3']\n",
    "# e2dnde_errn = J1825['col4']\n",
    "\n",
    "# J1825_table = Table(\n",
    "#     [e_ref, e2dnde, e2dnde_errp, e2dnde_errn, e_min, e_max],\n",
    "#     names=('e_ref', 'e2dnde', 'e2dnde_errp', 'e2dnde_errn', 'e_min', 'e_max'),\n",
    "#     meta={'name': 'J1825','SED_TYPE': 'e2dnde' }\n",
    "# )\n",
    "\n",
    "# J1825_table['e_ref'].unit = u.TeV\n",
    "# J1825_table['e_min'].unit = u.TeV\n",
    "# J1825_table['e_max'].unit = u.TeV\n",
    "\n",
    "# J1825_table['e2dnde'].unit = u.Unit(\"erg cm-2 s-1\")\n",
    "# J1825_table['e2dnde_errp'].unit = u.Unit(\"erg cm-2 s-1\")\n",
    "# J1825_table['e2dnde_errn'].unit = u.Unit(\"erg cm-2 s-1\")"
   ]
  },
  {
   "cell_type": "code",
   "execution_count": null,
   "id": "947a066e",
   "metadata": {
    "scrolled": false
   },
   "outputs": [],
   "source": [
    "table_J1825.meta"
   ]
  },
  {
   "cell_type": "code",
   "execution_count": null,
   "id": "aedd1e48",
   "metadata": {
    "scrolled": true
   },
   "outputs": [],
   "source": [
    "flux_points2 = FluxPoints.from_table(table_J1825, sed_type=\"e2dnde\")\n",
    "flux_points2.to_table()"
   ]
  },
  {
   "cell_type": "code",
   "execution_count": null,
   "id": "b19c51c4",
   "metadata": {},
   "outputs": [],
   "source": []
  },
  {
   "cell_type": "code",
   "execution_count": null,
   "id": "056fd94c",
   "metadata": {},
   "outputs": [],
   "source": []
  },
  {
   "cell_type": "code",
   "execution_count": null,
   "id": "d4c69af7",
   "metadata": {},
   "outputs": [],
   "source": [
    "e_ref = J1908['col1']\n",
    "e2dnde = J1908['col2']\n",
    "e2dnde_errp = J1908['col2']\n",
    "e2dnde_errn = J1908['col3']\n",
    "J1908_table = QTable([e_ref, e2dnde, e2dnde_errp, e2dnde_errn],\n",
    "           names=('e_ref', 'e2dnde', 'e2dnde_errp', 'e2dnde_errn'),\n",
    "           meta={'name': 'J1908'})\n",
    "\n",
    "J1908_table['e_ref'] = J1908['col1']/1e12\n",
    "J1908_table['e_ref'].unit = u.TeV\n",
    "J1908_table['e2dnde'].unit = u.Unit(\"erg cm-2 s-1\")\n",
    "J1908_table['e2dnde_errp'].unit = u.Unit(\"erg cm-2 s-1\")\n",
    "J1908_table['e2dnde_errn'].unit = u.Unit(\"erg cm-2 s-1\")"
   ]
  },
  {
   "cell_type": "code",
   "execution_count": null,
   "id": "c28e5a1a",
   "metadata": {
    "scrolled": true
   },
   "outputs": [],
   "source": [
    "J1908_table"
   ]
  },
  {
   "cell_type": "code",
   "execution_count": null,
   "id": "9cf121b3",
   "metadata": {},
   "outputs": [],
   "source": [
    "e_ref = J2228['col1']\n",
    "e2dnde = J2228['col2']\n",
    "e2dnde_errp = J2228['col3']\n",
    "e2dnde_errn = J2228['col4']\n",
    "J2228_table = QTable([e_ref, e2dnde, e2dnde_errp, e2dnde_errn],\n",
    "           names=('e_ref', 'e2dnde', 'e2dnde_errp', 'e2dnde_errn'),\n",
    "           meta={'name': 'J2228'})\n",
    "\n",
    "J2228_table['e_ref'] = J2228['col1']/1e12\n",
    "J2228_table['e_ref'].unit = u.TeV\n",
    "J2228_table['e2dnde'].unit = u.Unit(\"erg cm-2 s-1\")\n",
    "J2228_table['e2dnde_errp'].unit = u.Unit(\"erg cm-2 s-1\")\n",
    "J2228_table['e2dnde_errn'].unit = u.Unit(\"erg cm-2 s-1\")"
   ]
  },
  {
   "cell_type": "code",
   "execution_count": null,
   "id": "5230810a",
   "metadata": {
    "scrolled": true
   },
   "outputs": [],
   "source": []
  },
  {
   "cell_type": "code",
   "execution_count": null,
   "id": "81a192c2",
   "metadata": {
    "scrolled": true
   },
   "outputs": [],
   "source": [
    "flux_points_ = FluxPoints.from_table(table_J1825)\n",
    "flux_points_.to_table()"
   ]
  },
  {
   "cell_type": "code",
   "execution_count": null,
   "id": "a47d0bda",
   "metadata": {},
   "outputs": [],
   "source": [
    "flux_points_.plot()"
   ]
  },
  {
   "cell_type": "code",
   "execution_count": null,
   "id": "708e52f3",
   "metadata": {},
   "outputs": [],
   "source": [
    "flux_points_.to_table()"
   ]
  },
  {
   "cell_type": "code",
   "execution_count": null,
   "id": "b151f6d2",
   "metadata": {},
   "outputs": [],
   "source": [
    "# ds = FluxPointsDataset(\n",
    "#     data = flux_points_, \n",
    "#     name = f\"{counterpart_name}: {catalog_tag}\"\n",
    "# )\n",
    "# datasets = Datasets(ds)\n",
    "\n",
    "\n",
    "# # opts = dict(sed_type=\"e2dnde\", yunits=u.Unit(\"TeV cm-2 s-1\"))\n",
    "# energy_bounds = [10, 1e3] * u.TeV\n",
    "# ylim = [1e-14, 3e-11]\n",
    "# plotting_SED_flux_pointing(\n",
    "#     datasets = datasets,\n",
    "# #     spectral_model=spectral_model, \n",
    "#     sed_type = \"e2dnde\", \n",
    "#     yaxis_units=\"erg cm-2 s-1\", \n",
    "#     energy_bounds=energy_bounds, \n",
    "#     ylim=ylim)\n"
   ]
  },
  {
   "cell_type": "code",
   "execution_count": null,
   "id": "9d1bde43",
   "metadata": {},
   "outputs": [],
   "source": [
    "# table.rename_column('col2', 'e_ref')  \n",
    "# table[\"e_ref\"].unit = u.eV\n",
    "# table[\"e_ref\"]"
   ]
  },
  {
   "cell_type": "code",
   "execution_count": null,
   "id": "5e9fecbb",
   "metadata": {},
   "outputs": [],
   "source": [
    "flux_points_.plot()"
   ]
  },
  {
   "cell_type": "code",
   "execution_count": null,
   "id": "e7a7cfde",
   "metadata": {},
   "outputs": [],
   "source": []
  },
  {
   "cell_type": "code",
   "execution_count": null,
   "id": "2ebabd87",
   "metadata": {},
   "outputs": [],
   "source": []
  },
  {
   "cell_type": "markdown",
   "id": "b5f86771",
   "metadata": {},
   "source": [
    "#### Let's plot the spectrum"
   ]
  },
  {
   "cell_type": "markdown",
   "id": "71a0d645",
   "metadata": {},
   "source": [
    "    TF1 *f=new TF1(\"f\",\"[0]*pow(x/20.0,[1])*pow(x,2)\",10,2000);\n",
    "          f->SetParameters(1.5e-11,-2.4);"
   ]
  },
  {
   "cell_type": "markdown",
   "id": "fc683b47",
   "metadata": {},
   "source": [
    "      TF1 *f2=new TF1(\"f2\",\"[0]*pow(x/20.,[1]+[2]*log10(x/20.))*pow(x,2)\");\n",
    "          f2->SetParameters(2.e-14,-2.6,-0.2,1000);"
   ]
  },
  {
   "cell_type": "code",
   "execution_count": null,
   "id": "e60c4700",
   "metadata": {},
   "outputs": [],
   "source": []
  },
  {
   "cell_type": "code",
   "execution_count": null,
   "id": "630f52f6",
   "metadata": {
    "scrolled": true
   },
   "outputs": [],
   "source": []
  },
  {
   "cell_type": "code",
   "execution_count": null,
   "id": "f082256b",
   "metadata": {},
   "outputs": [],
   "source": [
    "catalog = CATALOG_REGISTRY.get_cls(catalog_tag)()\n",
    "source  = catalog[counterpart_name]\n",
    "# Gammapy sky model object:\n",
    "sky_model = source.sky_model()\n",
    "\n",
    "# Gammapy spatial model object:\n",
    "spatial_model = sky_model.spatial_model\n",
    "\n",
    "# Gammapy spectral model object:\n",
    "spectral_model = sky_model.spectral_model\n",
    "spectral_model_tag = spectral_model.tag[0]"
   ]
  },
  {
   "cell_type": "code",
   "execution_count": null,
   "id": "158b5c98",
   "metadata": {},
   "outputs": [],
   "source": [
    "source.data"
   ]
  },
  {
   "cell_type": "code",
   "execution_count": null,
   "id": "ce492a97",
   "metadata": {},
   "outputs": [],
   "source": [
    "print(sky_model)"
   ]
  },
  {
   "cell_type": "code",
   "execution_count": null,
   "id": "fc91067b",
   "metadata": {},
   "outputs": [],
   "source": [
    "print(spatial_model)"
   ]
  },
  {
   "cell_type": "code",
   "execution_count": null,
   "id": "f6f5af7c",
   "metadata": {
    "scrolled": true
   },
   "outputs": [],
   "source": [
    "print(spectral_model)"
   ]
  },
  {
   "cell_type": "code",
   "execution_count": null,
   "id": "ed8d6244",
   "metadata": {},
   "outputs": [],
   "source": [
    "cat_index = 0\n",
    "datasets_fp[source_index][cat_index]"
   ]
  },
  {
   "cell_type": "code",
   "execution_count": null,
   "id": "95d5dfe8",
   "metadata": {},
   "outputs": [],
   "source": []
  },
  {
   "cell_type": "code",
   "execution_count": null,
   "id": "8df60a8c",
   "metadata": {},
   "outputs": [],
   "source": [
    "def plot_spectrum(data = None):\n",
    "    plt.style.use(['science', 'notebook', 'grid'])\n",
    "    fig, ax = plt.subplots(1, 1, figsize=(6,5))\n",
    "\n",
    "    kwargs_model = {\n",
    "        \"color\":\"black\",\n",
    "        \"ls\":\"--\"\n",
    "    }\n",
    "    kwargs_fp = {\n",
    "        \"color\":\"blue\", \n",
    "        \"marker\":\"o\"\n",
    "    }\n",
    "\n",
    "    data = data\n",
    "    data.plot_spectrum(\n",
    "        ax = ax,  \n",
    "        kwargs_fp = kwargs_fp, \n",
    "        kwargs_model = kwargs_model\n",
    "    )\n",
    "\n",
    "    title = f\"{PeVatron_name}: {counterpart_name}\\n{catalog_tag}: {spectral_model_tag}\"\n",
    "\n",
    "    ax.text(\n",
    "        0.1, 0.1, \n",
    "        title,\n",
    "        transform = ax.transAxes,\n",
    "        bbox = dict(\n",
    "                facecolor = 'white', \n",
    "                edgecolor = 'black'\n",
    "        ), \n",
    "        size = 10\n",
    "    )\n",
    "    ax.tick_params(axis='both', which='both', labelsize=10)\n",
    "\n",
    "    file = path_plot_spectrum / f'{title}.png'\n",
    "\n",
    "    plt.savefig(file, bbox_inches='tight')\n",
    "    plt.show()"
   ]
  },
  {
   "cell_type": "code",
   "execution_count": null,
   "id": "5ed5a715",
   "metadata": {},
   "outputs": [],
   "source": [
    "data = datasets_fp[source_index][cat_index]\n",
    "plot_spectrum(data)"
   ]
  },
  {
   "cell_type": "code",
   "execution_count": null,
   "id": "7243017d",
   "metadata": {},
   "outputs": [],
   "source": []
  },
  {
   "cell_type": "code",
   "execution_count": null,
   "id": "c8435a3e",
   "metadata": {},
   "outputs": [],
   "source": [
    "# kwargs = {\n",
    "#         \"ax\": ax, \n",
    "# #         \"sed_type\": sed_type\n",
    "#     }    \n",
    "# kwargs_fit = {\"label\": spectral_model_tag}\n",
    "# spec_model.plot(energy_bounds=energy_bounds, color=\"k\", **kwargs, **kwargs_fit)\n",
    "# spec_model.plot_error(energy_bounds=energy_bounds, **kwargs)\n",
    "\n",
    "# plt.show()\n"
   ]
  },
  {
   "cell_type": "code",
   "execution_count": null,
   "id": "1c7c7ee2",
   "metadata": {},
   "outputs": [],
   "source": [
    "def plot_flux_points(spectral_model, ax, label, color):\n",
    "    \n",
    "    energy_bounds = (100 * u.MeV, 100 * u.GeV)\n",
    "    spectral_model.plot(\n",
    "        ax=ax, label=label, color=color\n",
    "    )\n",
    "    spec.plot_error(ax=ax, energy_bounds=energy_bounds, color=color)\n"
   ]
  },
  {
   "cell_type": "code",
   "execution_count": null,
   "id": "18390d7a",
   "metadata": {},
   "outputs": [],
   "source": [
    "plt.style.use(['science', 'notebook', 'grid'])\n",
    "\n",
    "def plot_spectrum(spectral_model, ax, label, color):\n",
    "    \n",
    "    energy_bounds = (100 * u.MeV, 100 * u.GeV)\n",
    "    spectral_model.plot(\n",
    "        ax=ax, energy_bounds=energy_bounds,label=label, color=color\n",
    "    )\n",
    "    spectral_model.plot_error(ax=ax, energy_bounds=energy_bounds, color=color)\n",
    "\n",
    "fig, ax = plt.subplots()\n",
    "plot_spectrum(spectral_model, ax=ax, label=spectral_model_tag, color=\"tab:blue\")\n",
    "# dataset.data.plot(label=d.name, **kwargs)\n",
    "#plot_spectrum(model_joint, ax=ax, label=\"joint\", color=\"tab:orange\")\n",
    "ax.legend()\n",
    "plt.show()"
   ]
  },
  {
   "cell_type": "code",
   "execution_count": null,
   "id": "fbadaaa9",
   "metadata": {},
   "outputs": [],
   "source": [
    "dataset_fp = FluxPointsDataset(data=source.flux_points,models=sky_model, name=spectral_model_tag)\n",
    "dataset_fp.data.to_table(sed_type=sed_type, formatted=True)\n",
    "\n"
   ]
  },
  {
   "cell_type": "code",
   "execution_count": null,
   "id": "800c66da",
   "metadata": {},
   "outputs": [],
   "source": [
    "\n",
    "datasets = Datasets([dataset_fp])\n",
    "datasets.models = sky_model\n",
    "print(datasets)\n",
    "\n",
    "fitter = Fit()\n",
    "result_pwl = fitter.run(datasets=datasets)"
   ]
  },
  {
   "cell_type": "code",
   "execution_count": null,
   "id": "ec7b5dd5",
   "metadata": {},
   "outputs": [],
   "source": [
    "plt.style.use(['default'])\n",
    "\n",
    "ax = plt.subplot()\n",
    "ax.yaxis.set_units(u.Unit(\"erg cm-2 s-1\"))\n",
    "\n",
    "kwargs = {\"ax\": ax, \"sed_type\": \"e2dnde\"}\n",
    "\n",
    "for d in datasets:\n",
    "    d.data.plot(label=d.name, **kwargs)\n",
    "\n",
    "# energy_bounds = (100 * u.MeV, 100 * u.GeV)\n",
    "spectral_model.plot(energy_bounds=energy_bounds, color=\"k\", **kwargs)\n",
    "# ax.set_ylim(1e-13, 1e-8)\n",
    "ax.set_xlim(energy_bounds)\n",
    "ax.legend()\n",
    "plt.show()"
   ]
  },
  {
   "cell_type": "code",
   "execution_count": null,
   "id": "9bcc0a26",
   "metadata": {},
   "outputs": [],
   "source": [
    "# fig, ax = plt.subplots(1, 1, figsize=(12,4))\n",
    "\n",
    "# ax.plot(x, y, 'o--', color='r', lw=0.4, ms=3)\n",
    "\n",
    "\n",
    "# ax.text(0.1, 0.1, 'text here', transform=ax.transAxes)\n",
    "# ax.set_xlabel('Time [s]')\n",
    "# ax.set_ylabel(r'$\\frac{d}{dx} f(x)$', fontsize=15)\n",
    "# plt.show()\n"
   ]
  },
  {
   "cell_type": "code",
   "execution_count": null,
   "id": "0a40b2eb",
   "metadata": {},
   "outputs": [],
   "source": [
    "# #load precomputed flux points\n",
    "# flux_points = source.flux_points\n",
    "# model = SkyModel(spectral_model=spectral_model)\n",
    "# dataset = FluxPointsDataset(model, flux_points)\n",
    "# dataset.plot_spectrum()"
   ]
  },
  {
   "cell_type": "code",
   "execution_count": null,
   "id": "a7eaaca0",
   "metadata": {},
   "outputs": [],
   "source": []
  },
  {
   "cell_type": "code",
   "execution_count": null,
   "id": "0a473de7",
   "metadata": {},
   "outputs": [],
   "source": [
    "# #load precomputed flux points\n",
    "# flux_points = source.flux_points\n",
    "# model = SkyModel(spectral_model=spectral_model)\n",
    "# dataset = FluxPointsDataset(model, flux_points)\n",
    "# #configuring optional parameters\n",
    "# kwargs_spectrum = {\"kwargs_model\": {\"color\":\"red\", \"ls\":\"--\"}, \"kwargs_fp\":{\"color\":\"green\", \"marker\":\"o\"}}  # noqa: E501\n",
    "# kwargs_residuals = {\"color\": \"blue\", \"markersize\":4, \"marker\":'s', }\n",
    "# dataset.plot_fit(kwargs_residuals=kwargs_residuals, kwargs_spectrum=kwargs_spectrum) \n"
   ]
  },
  {
   "cell_type": "code",
   "execution_count": null,
   "id": "4a07fd0d",
   "metadata": {},
   "outputs": [],
   "source": [
    "# plt.style.use(['science', 'notebook', 'grid'])\n",
    "\n",
    "\n",
    "# fig, axes = plt.subplots(1, 2, figsize=(10,3.5))\n",
    "# data = datasets_fp[source_index][cat_index]\n",
    "# data.plot_spectrum(kwargs_fp=kwargs_fp, kwargs_model=kwargs_model)\n",
    "# ax = axes[0]\n",
    "# ax.text(0.1, 0.1, 'text here', transform=ax.transAxes)\n",
    "\n",
    "\n",
    "\n",
    "\n",
    "\n",
    "\n",
    "\n",
    "# fig, ax = plt.subplots(1, 1, figsize=(5,4))\n",
    "# data = datasets_fp[source_index][cat_index]\n",
    "# data.plot_residuals()\n",
    "# ax = axes[1]\n",
    "# ax.text(0.1, 0.1, 'text here', transform=ax.transAxes)\n",
    "# # ax.set_xlabel('Time [s]')\n",
    "# # ax.set_ylabel(r'$\\frac{d}{dx} f(x)$', fontsize=15)\n",
    "# plt.show()\n"
   ]
  },
  {
   "cell_type": "code",
   "execution_count": null,
   "id": "e78b92d9",
   "metadata": {},
   "outputs": [],
   "source": [
    "# plt.style.use(['science', 'notebook', 'grid'])\n",
    "\n",
    "\n",
    "# fig, ax = plt.subplots(1, 1, figsize=(5,4))\n",
    "# data = datasets_fp[source_index][cat_index]\n",
    "# data.plot_residuals()\n",
    "# ax.text(0.1, 0.1, 'text here', transform=ax.transAxes)\n",
    "# # ax.set_xlabel('Time [s]')\n",
    "# # ax.set_ylabel(r'$\\frac{d}{dx} f(x)$', fontsize=15)\n",
    "# plt.show()"
   ]
  },
  {
   "cell_type": "code",
   "execution_count": null,
   "id": "6b8fb8b9",
   "metadata": {},
   "outputs": [],
   "source": [
    "# energy_bounds = (100 * u.MeV, 100 * u.GeV)\n",
    "\n",
    "# flux_points.plot()\n",
    "\n",
    "# spectral_model.plot(energy_bounds=energy_bounds)\n",
    "# # ax.set_yscale('linear')\n"
   ]
  },
  {
   "cell_type": "code",
   "execution_count": null,
   "id": "5434650d",
   "metadata": {},
   "outputs": [],
   "source": [
    "# fig, axes = plt.subplots(1, 2, figsize=(10,3.5))\n",
    "# ax = axes[0]\n",
    "\n",
    "# data = datasets_fp[source_index][cat_index]\n",
    "# ax.plot_spectrum(data=data, kwargs_fp=kwargs_fp, kwargs_model=kwargs_model)\n",
    "\n",
    "# ax.text(0.05, 0.81, textstr1, transform=ax.transAxes,\n",
    "#        bbox=dict(facecolor='white', edgecolor='black'), size=12)\n",
    "\n",
    "# ax.legend(fontsize=10, fancybox=False, edgecolor='black')\n",
    "# ax.set_ylabel('Frequency')\n",
    "# ax.set_title('Trial 1')\n",
    "# ax = axes[1]\n",
    "# ax.hist(res_a2, bins=30, density=True, histtype='step', label='Method 1', color='blue')\n",
    "# ax.hist(res_b2, bins=30, density=True, histtype='step', label='Method 2', color='red')\n",
    "# ax.text(0.05, 0.81, textstr2, transform=ax.transAxes,\n",
    "#        bbox=dict(facecolor='white', edgecolor='black'), size=12)\n",
    "# ax.set_title('Trial 2')\n",
    "# fig.text(0.5, -0.04, '$\\Delta E$ [Joules]', ha='center', size=20)\n",
    "# plt.savefig('trial.png', dpi=200)\n",
    "# plt.show()"
   ]
  },
  {
   "cell_type": "code",
   "execution_count": null,
   "id": "d30224f0",
   "metadata": {},
   "outputs": [],
   "source": []
  },
  {
   "cell_type": "code",
   "execution_count": null,
   "id": "00192e6d",
   "metadata": {},
   "outputs": [],
   "source": []
  },
  {
   "cell_type": "code",
   "execution_count": null,
   "id": "44742dd2",
   "metadata": {},
   "outputs": [],
   "source": []
  },
  {
   "cell_type": "code",
   "execution_count": null,
   "id": "a790661a",
   "metadata": {},
   "outputs": [],
   "source": []
  },
  {
   "cell_type": "code",
   "execution_count": null,
   "id": "0cd501b0",
   "metadata": {},
   "outputs": [],
   "source": []
  },
  {
   "cell_type": "code",
   "execution_count": null,
   "id": "43a449c8",
   "metadata": {},
   "outputs": [],
   "source": [
    "# file_name = title.replace(\" \", \"\").replace(\":\", \"_\").replace(\"\\n\", \"_\")"
   ]
  },
  {
   "cell_type": "code",
   "execution_count": null,
   "id": "4b46daf4",
   "metadata": {},
   "outputs": [],
   "source": [
    "fig, ax = plt.subplots(1, 1, figsize=(7,6))\n",
    "\n",
    "#configuring optional parameters\n",
    "kwargs_model = {\"color\":\"black\", \"ls\":\"--\"}\n",
    "kwargs_fp = {\"color\":\"blue\", \"marker\":\"o\"}\n",
    "data = datasets_fp[source_index][cat_index]\n",
    "data.plot_residuals(ax = ax)\n",
    "ax.text(0.1, 0.1, f\"spectral model: {spectral_model_tag}\\ncatalog: {catalog_tag}\", transform=ax.transAxes)\n",
    "ax.legend()\n",
    "\n",
    "# ax.set_xlabel('Time [s]')\n",
    "# ax.set_ylabel(r'$\\frac{d}{dx} f(x)$', fontsize=15)\n",
    "\n",
    "plt.title(f\"{PeVatron_name}: {counterpart_name}\")\n",
    "# plt.grid(True)"
   ]
  },
  {
   "cell_type": "code",
   "execution_count": null,
   "id": "352f4dab",
   "metadata": {},
   "outputs": [],
   "source": [
    "plt.style.use(['science', 'notebook', 'grid'])\n",
    "#plt.figure(figsize=(5,4))\n",
    "\n",
    "\n",
    "#configuring optional parameters\n",
    "kwargs_model = {\"color\":\"black\", \"ls\":\"--\"}\n",
    "kwargs_fp = {\"color\":\"blue\", \"marker\":\"o\"}\n",
    "data = datasets_fp[source_index][cat_index]\n",
    "data.plot_spectrum(kwargs_fp=kwargs_fp, kwargs_model=kwargs_model)\n",
    "# fig = plt.figure()\n",
    "# fig.set_label('s')\n",
    "plt.title(f\"{PeVatron_name}: {counterpart_name}\")\n",
    "plt.grid(True)"
   ]
  },
  {
   "cell_type": "code",
   "execution_count": null,
   "id": "12bba62b",
   "metadata": {},
   "outputs": [],
   "source": [
    "print(datasets_fp[source_index][cat_index].plot_fit)"
   ]
  },
  {
   "cell_type": "code",
   "execution_count": null,
   "id": "7d4839af",
   "metadata": {},
   "outputs": [],
   "source": [
    "datasets_fp[source_index][cat_index].plot_fit()"
   ]
  },
  {
   "cell_type": "code",
   "execution_count": null,
   "id": "5ee9106e",
   "metadata": {},
   "outputs": [],
   "source": [
    "datasets_fp[source_index][cat_index].plot_residuals()"
   ]
  },
  {
   "cell_type": "code",
   "execution_count": null,
   "id": "5cf05dbd",
   "metadata": {},
   "outputs": [],
   "source": []
  },
  {
   "cell_type": "code",
   "execution_count": null,
   "id": "7ac28225",
   "metadata": {},
   "outputs": [],
   "source": []
  },
  {
   "cell_type": "code",
   "execution_count": null,
   "id": "6e851c95",
   "metadata": {},
   "outputs": [],
   "source": []
  },
  {
   "cell_type": "code",
   "execution_count": null,
   "id": "452f9251",
   "metadata": {},
   "outputs": [],
   "source": []
  },
  {
   "cell_type": "code",
   "execution_count": null,
   "id": "aff1d1b1",
   "metadata": {},
   "outputs": [],
   "source": [
    "from itertools import combinations\n",
    "import numpy as np\n",
    "from astropy import units as u\n",
    "import matplotlib.pyplot as plt\n",
    "from IPython.display import display\n",
    "from gammapy.datasets import Datasets, SpectrumDatasetOnOff\n",
    "from gammapy.modeling import Fit\n",
    "from gammapy.modeling.models import LogParabolaSpectralModel, SkyModel"
   ]
  },
  {
   "cell_type": "code",
   "execution_count": null,
   "id": "20776e39",
   "metadata": {},
   "outputs": [],
   "source": [
    "crab_spectrum = LogParabolaSpectralModel(\n",
    "    amplitude=1e-11 / u.cm**2 / u.s / u.TeV,\n",
    "    reference=1 * u.TeV,\n",
    "    alpha=2.3,\n",
    "    beta=0.2,\n",
    ")\n",
    "\n",
    "crab_spectrum.alpha.max = 3\n",
    "crab_spectrum.alpha.min = 1\n",
    "crab_model = SkyModel(spectral_model=crab_spectrum, name=\"crab\")"
   ]
  },
  {
   "cell_type": "code",
   "execution_count": null,
   "id": "cda146e5",
   "metadata": {},
   "outputs": [],
   "source": [
    "datasets = []\n",
    "for obs_id in [23523, 23526]:\n",
    "    dataset = SpectrumDatasetOnOff.read(\n",
    "        f\"$GAMMAPY_DATA/joint-crab/spectra/hess/pha_obs{obs_id}.fits\"\n",
    "    )\n",
    "    datasets.append(dataset)\n",
    "\n",
    "dataset_hess = Datasets(datasets).stack_reduce(name=\"HESS\")\n",
    "datasets = Datasets(datasets=[dataset_hess])\n",
    "\n",
    "# Set model and fit range\n",
    "dataset_hess.models = crab_model\n",
    "e_min = 0.66 * u.TeV\n",
    "e_max = 30 * u.TeV\n",
    "dataset_hess.mask_fit = dataset_hess.counts.geom.energy_mask(e_min, e_max)"
   ]
  },
  {
   "cell_type": "code",
   "execution_count": null,
   "id": "ecc6be28",
   "metadata": {},
   "outputs": [],
   "source": [
    "scipy_opts = {\n",
    "    \"method\": \"L-BFGS-B\",\n",
    "    \"options\": {\"ftol\": 1e-4, \"gtol\": 1e-05},\n",
    "    \"backend\": \"scipy\",\n",
    "}\n",
    "fit_scipy = Fit(store_trace=True, optimize_opts=scipy_opts)"
   ]
  },
  {
   "cell_type": "code",
   "execution_count": null,
   "id": "54b48c15",
   "metadata": {},
   "outputs": [],
   "source": [
    "result_scipy = fit_scipy.run(datasets)"
   ]
  },
  {
   "cell_type": "code",
   "execution_count": null,
   "id": "affde986",
   "metadata": {},
   "outputs": [],
   "source": [
    "sherpa_opts = {\"method\": \"simplex\", \"ftol\": 1e-3, \"maxfev\": int(1e4)}\n",
    "fit_sherpa = Fit(store_trace=True, backend=\"sherpa\", optimize_opts=sherpa_opts)\n",
    "results_simplex = fit_sherpa.run(datasets)"
   ]
  },
  {
   "cell_type": "code",
   "execution_count": null,
   "id": "05d50f02",
   "metadata": {},
   "outputs": [],
   "source": [
    "fit = Fit(store_trace=True)\n",
    "minuit_opts = {\"tol\": 0.001, \"strategy\": 1}\n",
    "fit.backend = \"minuit\"\n",
    "fit.optimize_opts = minuit_opts\n",
    "result_minuit = fit.run(datasets)"
   ]
  },
  {
   "cell_type": "code",
   "execution_count": null,
   "id": "6526ed7c",
   "metadata": {},
   "outputs": [],
   "source": [
    "plt.figure()\n",
    "energy_bounds = [1, 10] * u.TeV\n",
    "crab_spectrum.plot(energy_bounds=energy_bounds, energy_power=2)\n",
    "ax = crab_spectrum.plot_error(energy_bounds=energy_bounds, energy_power=2)"
   ]
  },
  {
   "cell_type": "code",
   "execution_count": null,
   "id": "620a305b",
   "metadata": {},
   "outputs": [],
   "source": [
    "from gammapy.modeling import Fit\n",
    "from gammapy.modeling.models import PowerLawSpectralModel, SkyModel\n",
    "from gammapy.estimators import FluxPoints\n",
    "from gammapy.datasets import FluxPointsDataset\n",
    "filename = \"$GAMMAPY_DATA/tests/spectrum/flux_points/diff_flux_points.fits\"\n",
    "dataset = FluxPointsDataset.read(filename)\n",
    "model = SkyModel(spectral_model=PowerLawSpectralModel())\n",
    "dataset.models = model"
   ]
  },
  {
   "cell_type": "code",
   "execution_count": null,
   "id": "fe11ec82",
   "metadata": {},
   "outputs": [],
   "source": [
    "fit = Fit()\n",
    "result = fit.run([dataset])\n",
    "print(result)"
   ]
  },
  {
   "cell_type": "code",
   "execution_count": null,
   "id": "4d7bcfaf",
   "metadata": {},
   "outputs": [],
   "source": [
    "print(result.parameters.to_table())"
   ]
  },
  {
   "cell_type": "code",
   "execution_count": null,
   "id": "72d7aacd",
   "metadata": {},
   "outputs": [],
   "source": []
  },
  {
   "cell_type": "code",
   "execution_count": null,
   "id": "66d0d119",
   "metadata": {},
   "outputs": [],
   "source": [
    "from gammapy.estimators import FluxPoints\n",
    "filename = '$GAMMAPY_DATA/hawc_crab/HAWC19_flux_points.fits'\n",
    "flux_points = FluxPoints.read(filename)\n",
    "flux_points.plot() "
   ]
  },
  {
   "cell_type": "code",
   "execution_count": null,
   "id": "447f5305",
   "metadata": {},
   "outputs": [],
   "source": [
    "flux_points.to_table()"
   ]
  },
  {
   "cell_type": "code",
   "execution_count": null,
   "id": "80383670",
   "metadata": {},
   "outputs": [],
   "source": [
    "import numpy as np\n",
    "from astropy import units as u\n",
    "from astropy.table import Table\n",
    "from gammapy.estimators import FluxPoints\n",
    "from gammapy.modeling.models import PowerLawSpectralModel\n",
    "table = Table()\n",
    "pwl = PowerLawSpectralModel()\n",
    "e_ref = np.geomspace(1, 100, 7) * u.TeV\n",
    "table[\"e_ref\"] = e_ref\n",
    "table[\"dnde\"] = pwl(e_ref)\n",
    "table[\"dnde_err\"] = pwl.evaluate_error(e_ref)[0]\n",
    "table.meta[\"SED_TYPE\"] = \"dnde\"\n"
   ]
  },
  {
   "cell_type": "code",
   "execution_count": null,
   "id": "3d424e94",
   "metadata": {},
   "outputs": [],
   "source": [
    "flux_points = FluxPoints.from_table(table)\n",
    "flux_points.plot(sed_type=\"dnde\") "
   ]
  },
  {
   "cell_type": "code",
   "execution_count": null,
   "id": "d3e278bf",
   "metadata": {},
   "outputs": [],
   "source": [
    "from astropy import units as u\n",
    "from astropy.table import Table\n",
    "from gammapy.estimators import FluxPoints\n",
    "from gammapy.utils.scripts import make_path"
   ]
  },
  {
   "cell_type": "code",
   "execution_count": null,
   "id": "c96d33e2",
   "metadata": {},
   "outputs": [],
   "source": [
    "filename = make_path('$GAMMAPY_DATA/tests/spectrum/flux_points/flux_points_ctb_37b.txt')\n",
    "table = Table.read(filename ,format='ascii.csv', delimiter=' ', comment='#')\n"
   ]
  },
  {
   "cell_type": "code",
   "execution_count": null,
   "id": "b4da0283",
   "metadata": {},
   "outputs": [],
   "source": [
    "table"
   ]
  },
  {
   "cell_type": "code",
   "execution_count": null,
   "id": "8ee6269f",
   "metadata": {},
   "outputs": [],
   "source": [
    "table.rename_column('Differential_Flux', 'dnde')\n",
    "table['dnde'].unit = 'cm-2 s-1 TeV-1'"
   ]
  },
  {
   "cell_type": "code",
   "execution_count": null,
   "id": "aa9bf383",
   "metadata": {},
   "outputs": [],
   "source": [
    "table.rename_column('lower_error', 'dnde_errn')\n",
    "table['dnde_errn'].unit = 'cm-2 s-1 TeV-1'"
   ]
  },
  {
   "cell_type": "code",
   "execution_count": null,
   "id": "d2f58135",
   "metadata": {},
   "outputs": [],
   "source": [
    "table.rename_column('upper_error', 'dnde_errp')\n",
    "table['dnde_errp'].unit = 'cm-2 s-1 TeV-1'"
   ]
  },
  {
   "cell_type": "code",
   "execution_count": null,
   "id": "8116149b",
   "metadata": {},
   "outputs": [],
   "source": [
    "table"
   ]
  },
  {
   "cell_type": "code",
   "execution_count": null,
   "id": "34228f8b",
   "metadata": {},
   "outputs": [],
   "source": [
    "table.rename_column('E', 'e_ref')\n",
    "table['e_ref'].unit = 'TeV'"
   ]
  },
  {
   "cell_type": "code",
   "execution_count": null,
   "id": "738181b3",
   "metadata": {},
   "outputs": [],
   "source": [
    "flux_points = FluxPoints.from_table(table, sed_type=\"dnde\")\n",
    "flux_points.plot(sed_type=\"e2dnde\") "
   ]
  },
  {
   "cell_type": "code",
   "execution_count": null,
   "id": "d503b7ab",
   "metadata": {},
   "outputs": [],
   "source": []
  },
  {
   "cell_type": "code",
   "execution_count": null,
   "id": "76dba98e",
   "metadata": {},
   "outputs": [],
   "source": []
  },
  {
   "cell_type": "code",
   "execution_count": null,
   "id": "a782e250",
   "metadata": {},
   "outputs": [],
   "source": []
  },
  {
   "cell_type": "code",
   "execution_count": null,
   "id": "5eb3fabc",
   "metadata": {},
   "outputs": [],
   "source": []
  },
  {
   "cell_type": "code",
   "execution_count": null,
   "id": "4b482d09",
   "metadata": {},
   "outputs": [],
   "source": []
  },
  {
   "cell_type": "code",
   "execution_count": null,
   "id": "b6f61408",
   "metadata": {},
   "outputs": [],
   "source": []
  },
  {
   "cell_type": "code",
   "execution_count": null,
   "id": "1b933bb2",
   "metadata": {},
   "outputs": [],
   "source": []
  }
 ],
 "metadata": {
  "kernelspec": {
   "display_name": "Python 3 (ipykernel)",
   "language": "python",
   "name": "python3"
  },
  "language_info": {
   "codemirror_mode": {
    "name": "ipython",
    "version": 3
   },
   "file_extension": ".py",
   "mimetype": "text/x-python",
   "name": "python",
   "nbconvert_exporter": "python",
   "pygments_lexer": "ipython3",
   "version": "3.9.16"
  }
 },
 "nbformat": 4,
 "nbformat_minor": 5
}
