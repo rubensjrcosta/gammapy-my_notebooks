{
 "cells": [
  {
   "cell_type": "markdown",
   "id": "59c4750a",
   "metadata": {},
   "source": [
    "[![gammapy](https://img.shields.io/badge/powered%20by-gammapy-orange.svg?style=flat)](https://gammapy.org/)"
   ]
  },
  {
   "cell_type": "markdown",
   "id": "a1d8e0ad",
   "metadata": {},
   "source": [
    "<a id='indice'></a>\n",
    "## Indice\n",
    "* [**1. Introduction**](#intro)\n",
    "\n",
    "* [**2. Setup**](#setup)\n",
    "* [**3. Data Access and Selection (DL3)**](#3.0)\n",
    "    * [**3.1 Gammapy Catalogs**](#3.1)\n",
    "    * [**3.2 LHASSO Data Published in the Nature**](#3.2)\n",
    "* [**4. Analysis**](#4)\n",
    "    * [**4.1 LHAASO J1825-1326: HESS 1825-137**](#4.1)\n",
    "    * [**4.2 LHAASO J1825-1326: HESS 1825-130**](#4.2)"
   ]
  },
  {
   "cell_type": "code",
   "execution_count": null,
   "id": "36b3123d",
   "metadata": {},
   "outputs": [],
   "source": []
  },
  {
   "cell_type": "markdown",
   "id": "8aa6791b",
   "metadata": {},
   "source": [
    "<a id='intro'></a>\n",
    "🔝 [Back to Top](#indice)<br>\n",
    "## 1. Introduction "
   ]
  },
  {
   "cell_type": "markdown",
   "id": "5a09f13c",
   "metadata": {},
   "source": [
    "Recently, the LHAASO collaboration showed the spectral energy distributions of three luminous\n",
    "sources with fluxes exceeding 1 CU (at 100 TeV): LHAASO J1825-1326,\n",
    "LHAASO J1908+0621 and LHAASO J2226+6057. We will analyze the observation which has only pulsars as a possible source, in other words, LHAASO J1825-1326. "
   ]
  },
  {
   "cell_type": "markdown",
   "id": "3d3d2103",
   "metadata": {},
   "source": [
    "Notations\n",
    "\n",
    "We use the following variable names :\n",
    "\n",
    "....\n",
    "\n",
    "\n",
    "|Variable| Dataset attribute name |Definition | \n",
    "|:-|  :-|:- |\n",
    "|src|source | ... |\n",
    "|fp|flux points | ... |\n",
    "|ds|datasets| ... |\n",
    "|dot|. | ... |\n",
    "|deg|degree | ... |\n",
    "|roi|region of interest | ... |\n",
    "|cntr|counterpart | ... |\n",
    "\n",
    "\n",
    "\n"
   ]
  },
  {
   "cell_type": "code",
   "execution_count": null,
   "id": "526045da",
   "metadata": {},
   "outputs": [],
   "source": []
  },
  {
   "cell_type": "markdown",
   "id": "68202b0d",
   "metadata": {},
   "source": [
    "### Configuration Files"
   ]
  },
  {
   "cell_type": "markdown",
   "id": "1f56b3c2",
   "metadata": {},
   "source": [
    "The config file is there to defined the parameters of your analysis. A config file is divided into sections. Each section is a logical group of option and there is some constants across the sections like names, functionalities.\n",
    "\n",
    "....."
   ]
  },
  {
   "cell_type": "code",
   "execution_count": null,
   "id": "e6a18a58",
   "metadata": {},
   "outputs": [],
   "source": []
  },
  {
   "cell_type": "markdown",
   "id": "3ed8f387",
   "metadata": {},
   "source": [
    "### Target"
   ]
  },
  {
   "cell_type": "markdown",
   "id": "5400cc04",
   "metadata": {},
   "source": [
    "The target options gives the name, position and spectral model you want to use for the source you are interested in.\n",
    "\n",
    "Note :\n",
    "\n",
    "        Coordinate are in degrees.\n",
    "        Available models are 'PowerLaw', 'PowerLaw2', 'LogParabola', 'PLExpCutoff'\n",
    "\n"
   ]
  },
  {
   "cell_type": "markdown",
   "id": "48f83301",
   "metadata": {},
   "source": [
    "The parameter spectrum is used for the generation of the sky model. Of course, you can change the model describing the spectrum of any sources (by hand...). All the models supported by the ST are described (ADICIONAR LINK INTERNO). For now, the supported models by enrico are PowerLaw, PowerLaw2, LogParabola, PLExpCutoff, Generic. Generic is for the non-supported models. By supported, we mean that enrico can produce a xml file with such model and has some optional features. It is completely possible to run an analyse with enrico and a non-supported model. For extragalactic sources, absorption by the extragalactic background light can be taken into account. This feature is disable if z=0:\n",
    "\n",
    "        redshift has to be provided\n",
    "        ebl_model is a id of a model - the number is defined in the ST. 0=Kneiske, 1=Primack05, 2=Kneiske_HighUV, 3=Stecker05, 4=Franceschini, 5=Finke, 6=Gilmore\n",
    "        the EBL absorption can be scaled by a parameter which can be fitted if fit_tau = yes\n",
    "\n"
   ]
  },
  {
   "cell_type": "code",
   "execution_count": null,
   "id": "7ed05e9d",
   "metadata": {
    "scrolled": true
   },
   "outputs": [],
   "source": [
    "from gammapy.modeling.models import SPECTRAL_MODEL_REGISTRY\n",
    "print(SPECTRAL_MODEL_REGISTRY)"
   ]
  },
  {
   "cell_type": "code",
   "execution_count": null,
   "id": "de34edbc",
   "metadata": {
    "scrolled": true
   },
   "outputs": [],
   "source": [
    "from gammapy.modeling.models import SPATIAL_MODEL_REGISTRY\n",
    "print(SPATIAL_MODEL_REGISTRY)"
   ]
  },
  {
   "cell_type": "code",
   "execution_count": null,
   "id": "58a0213b",
   "metadata": {},
   "outputs": [],
   "source": []
  },
  {
   "cell_type": "markdown",
   "id": "25e93ad3",
   "metadata": {},
   "source": [
    "<a id='setup'></a>\n",
    "🔝 [Back to Top](#intro)<br>\n",
    "## 2. Setup "
   ]
  },
  {
   "cell_type": "code",
   "execution_count": null,
   "id": "d8f2770a",
   "metadata": {},
   "outputs": [],
   "source": []
  },
  {
   "cell_type": "markdown",
   "id": "e32789f3",
   "metadata": {},
   "source": [
    "### Quickstart\n",
    "For convenience we are  using a pre-defined conda environment file (gammapy-1.0-environment.yml), so we can get additional useful packages together with Gammapy in a virtual isolated environment. To run this program the environment variable GAMMAPY_DATA must be defined and point to the directory on your machine where the datasets needed are placed. To check whether your setup is correct you can uncomment and execute the following cell:"
   ]
  },
  {
   "cell_type": "code",
   "execution_count": null,
   "id": "3540b0f8",
   "metadata": {
    "scrolled": true
   },
   "outputs": [],
   "source": [
    "# path = os.path.expandvars(\"$GAMMAPY_DATA\")\n",
    "\n",
    "# if not os.path.exists(path):\n",
    "#     raise Exception(\"gammapy-data repository not found!\")\n",
    "# else:\n",
    "#     print(\"Great your setup is correct!\")"
   ]
  },
  {
   "cell_type": "markdown",
   "id": "a6baf2c5",
   "metadata": {},
   "source": [
    "In case you encounter an error, you can un-comment and execute the following cell to continue. But we recommend to set up your environment correctly as described in [getting started](https://docs.gammapy.org/dev/getting-started/index.html#download-tutorials) after you are done with this notebook."
   ]
  },
  {
   "cell_type": "code",
   "execution_count": null,
   "id": "4895a29d",
   "metadata": {},
   "outputs": [],
   "source": [
    "# path_GAMMAPY_DATA = '/home/born-again/Documents/GitHub/gammapy/gammapy-datasets/1.0.1'\n",
    "# os.environ['GAMMAPY_DATA'] = os.path.join(os.getcwd(), path_GAMMAPY_DATA)"
   ]
  },
  {
   "cell_type": "code",
   "execution_count": null,
   "id": "b23a69d6",
   "metadata": {},
   "outputs": [],
   "source": [
    "from gammapy.utils.check import check_tutorials_setup\n",
    "from gammapy.visualization.utils import plot_contour_line\n",
    "check_tutorials_setup()"
   ]
  },
  {
   "cell_type": "code",
   "execution_count": null,
   "id": "3326af02",
   "metadata": {},
   "outputs": [],
   "source": []
  },
  {
   "cell_type": "code",
   "execution_count": null,
   "id": "228c2510",
   "metadata": {},
   "outputs": [],
   "source": [
    "path_my_modules = '../my_modules'\n",
    "# path_my_modules = \"/home/born-again/Documents/GitHub/grupo_AAE/modules\""
   ]
  },
  {
   "cell_type": "code",
   "execution_count": null,
   "id": "aa30b323",
   "metadata": {
    "scrolled": true
   },
   "outputs": [],
   "source": [
    "import os\n",
    "import sys\n",
    "import importlib\n",
    "\n",
    "module_path = os.path.abspath(f'{path_my_modules}/spectral_models')\n",
    "if module_path not in sys.path:\n",
    "    sys.path.append(module_path)\n",
    "\n",
    "import spectral_models\n",
    "importlib.reload(spectral_models)\n",
    "# from spectral_models import pwl_model, lp_model\n",
    "\n",
    "module_path = os.path.abspath(f'{path_my_modules}/utilities')\n",
    "if module_path not in sys.path:\n",
    "    sys.path.append(module_path)\n",
    "\n",
    "import utilities\n",
    "importlib.reload(utilities)\n",
    "from utilities import (\n",
    "    mkdir_sub_directory, \n",
    "    write_tables_fits, \n",
    "    write_tables_csv, \n",
    "    load_gammapy_catalogs, \n",
    "    name_to_txt,\n",
    "    LHAASO_table_to_SED_format\n",
    ")\n",
    "\n",
    "module_path = os.path.abspath(f'{path_my_modules}/config')\n",
    "if module_path not in sys.path:\n",
    "    sys.path.append(module_path)\n",
    "\n",
    "import cfg\n",
    "importlib.reload(cfg)"
   ]
  },
  {
   "cell_type": "code",
   "execution_count": null,
   "id": "7859af33",
   "metadata": {},
   "outputs": [],
   "source": [
    "# Display figures directly inline\n",
    "%matplotlib inline\n",
    "import matplotlib.pyplot as plt # A collection of command style functions\n",
    "\n",
    "\n",
    "path_my_plot_style = f\"{path_my_modules}/my_plot_style.txt\" \n",
    "plt.style.use(path_my_plot_style)\n",
    "# markers = ['H', 'D', 'd', 'P', 'X','o', 'v', '^', '<', '>',  '8', 's', 'p', '*', 'h']\n",
    "markers=['s','o']"
   ]
  },
  {
   "cell_type": "code",
   "execution_count": null,
   "id": "e6a56b0b",
   "metadata": {},
   "outputs": [],
   "source": [
    "from pathlib import Path\n",
    "from astropy.table import Table\n",
    "\n",
    "import numpy as np\n",
    "\n",
    "from gammapy.estimators import FluxPoints\n",
    "from gammapy.utils.scripts import make_path"
   ]
  },
  {
   "cell_type": "code",
   "execution_count": null,
   "id": "9067e1c4",
   "metadata": {},
   "outputs": [],
   "source": [
    "from gammapy.datasets import FluxPointsDataset, Datasets"
   ]
  },
  {
   "cell_type": "markdown",
   "id": "6dcbbf4a",
   "metadata": {},
   "source": [
    "## Functions"
   ]
  },
  {
   "cell_type": "code",
   "execution_count": null,
   "id": "f2f4eff3",
   "metadata": {},
   "outputs": [],
   "source": [
    "path_fp_LHAASO = \"/home/born-again/Documents/GitHub/grupo_AAE/data_access_and_selection(DL3)/flux_points_tables/LHASSOColaboration_publishNature_2021\""
   ]
  },
  {
   "cell_type": "code",
   "execution_count": null,
   "id": "add83624",
   "metadata": {},
   "outputs": [],
   "source": [
    "from astropy import units as u\n",
    "def plot_flux_points(\n",
    "    datasets = None,  \n",
    "    sed_type = \"e2dnde\", \n",
    "    yaxis_units=\"TeV cm-2 s-1\",\n",
    "    xaxis_units=\"TeV\",\n",
    "    energy_bounds= [1e-5, 1e2] * u.TeV, \n",
    "    ylim = [1e-13, 1e-9],\n",
    "    ncol = 3,\n",
    "    loc_legend = 'lower left'\n",
    "):    \n",
    "    \n",
    "    ax = plt.subplot()\n",
    "    \n",
    "    ax.yaxis.set_units(u.Unit(yaxis_units))\n",
    "    ax.xaxis.set_units(u.Unit(xaxis_units))\n",
    "\n",
    "    kwargs = {\"ax\": ax, \"sed_type\": sed_type}\n",
    "\n",
    "    while len(markers) < len(datasets) +1:\n",
    "        markers.extend(markers)\n",
    "\n",
    "        \n",
    "    for i, d in enumerate(datasets):\n",
    "        d.data.plot(label=d.name, marker=markers[i],  **kwargs)\n",
    "            \n",
    "    ax.set_ylim(ylim)\n",
    "    ax.set_xlim(energy_bounds)\n",
    "    \n",
    "    ax.legend(\n",
    "        loc = loc_legend, \n",
    "        ncol = ncol\n",
    "    )\n",
    "    \n",
    "    plt.xlabel(r'$\\rm{E\\ [TeV] }$')   \n",
    "    plt.ylabel(r'$\\rm{E^2\\ J(E)\\ [erg\\ cm^{-2}\\ s^{-1}] }$')\n",
    "    \n",
    "#     directory_child = f\"{cfg.dir_figures}/{create_roi_name(region_of_interest)}\"\n",
    "    \n",
    "    path_parent, path_child = mkdir_sub_directory(\n",
    "        cfg.dir_flux_points, \n",
    "        cfg.dir_figures\n",
    "    )\n",
    "\n",
    "    \n",
    "#     path_directory = mkdir_sub_directory(cfg.dir_flux_points_figures)\n",
    "    \n",
    "    file_name = create_roi_name(region_of_interest)\n",
    "    \n",
    "    path_file =  path_child / f'{file_name}{cfg.format_png}'    \n",
    "    plt.savefig(path_file, bbox_inches='tight')\n",
    "    \n",
    "    plt.show()\n",
    "    \n",
    "    return"
   ]
  },
  {
   "cell_type": "code",
   "execution_count": null,
   "id": "d8af636f",
   "metadata": {},
   "outputs": [],
   "source": []
  },
  {
   "cell_type": "code",
   "execution_count": null,
   "id": "26eaf890",
   "metadata": {},
   "outputs": [],
   "source": [
    "from astropy import units as u\n",
    "def plot_ds_fp(\n",
    "    datasets = None, \n",
    "    sed_type = \"e2dnde\",  \n",
    "    xaxis_units = \"TeV\",\n",
    "    yaxis_units =\"erg cm-2 s-1\",\n",
    "    energy_bounds = [1e-5, 1e3] * u.TeV, \n",
    "    ylim = [1e-20, 1e-10],\n",
    "    xlabel = r'$\\rm{E\\ [TeV] }$',\n",
    "    ylabel = r'$\\rm{E^2\\ J(E)\\ [erg\\ cm^{-2}\\ s^{-1}] }$',\n",
    "    loc_legend = \"lower left\",\n",
    "    ncol = 2\n",
    "    ):\n",
    "    \n",
    "    ax = plt.subplot()\n",
    "    ax.yaxis.set_units(u.Unit(yaxis_units))\n",
    "    ax.xaxis.set_units(u.Unit(xaxis_units))\n",
    "\n",
    "    kwargs = {\"ax\": ax, \"sed_type\": sed_type}\n",
    "\n",
    "    while len(markers) < len(datasets) +1:\n",
    "        markers.extend(markers)\n",
    "        \n",
    "    for i, d in enumerate(datasets):\n",
    "        d.data.plot(label=d.name, marker=markers[i],  **kwargs)\n",
    "    \n",
    "    ax.set_ylim(ylim)\n",
    "    ax.set_xlim(energy_bounds)\n",
    "    ax.legend(loc = loc_legend, ncol = ncol)\n",
    "    \n",
    "    plt.xlabel(xlabel)   \n",
    "    plt.ylabel(ylabel)\n",
    "    \n",
    "    path_flux_points_figures = mkdir_sub_directory(cfg.dir_flux_points_figures)\n",
    "    file_name = f'{source_txt}_counterparts_{format_png}' \n",
    "    file_path = path_flux_points_figures / file_name\n",
    "    plt.savefig(file_path, bbox_inches='tight')\n",
    "    \n",
    "    plt.show()\n",
    "    \n",
    "    return"
   ]
  },
  {
   "cell_type": "code",
   "execution_count": null,
   "id": "f9cc8290",
   "metadata": {
    "scrolled": true
   },
   "outputs": [],
   "source": [
    "def ds_fp_from_table_fp(table_fp, sky_model, sed_type = \"e2dnde\"):\n",
    "    '''Returns the flux points dataset from the flux points table \n",
    "    \n",
    "    >>> ds_fp_from_table_fp(table_fp, sky_model, sed_type)\n",
    "    ds_fp\n",
    "    '''\n",
    "    flux_points = FluxPoints.from_table(table = table_fp, reference_model=sky_model, sed_type=sed_type)\n",
    "    \n",
    "    ds_name = f'{source_name}'  \n",
    "    ds_fp = FluxPointsDataset(\n",
    "        models = sky_model,\n",
    "        data   = flux_points, \n",
    "        name   = ds_name\n",
    "    )\n",
    "    return ds_fp\n"
   ]
  },
  {
   "cell_type": "code",
   "execution_count": null,
   "id": "e70abdbd",
   "metadata": {},
   "outputs": [],
   "source": []
  },
  {
   "cell_type": "code",
   "execution_count": null,
   "id": "77360c6b",
   "metadata": {},
   "outputs": [],
   "source": [
    "import numpy as np\n",
    "# from astropy import units as u\n",
    "from astropy.table import Table\n",
    "from gammapy.estimators import FluxPoints\n",
    "from gammapy.utils.scripts import make_path\n",
    "\n",
    "# format_csv = \".csv\"\n",
    "format_fits = \".fits\"\n",
    "\n",
    "sed_type=\"e2dnde\"\n",
    "# sed_type=\"dnde\"\n",
    "\n",
    "counterparts_datasets_cut = []\n",
    "def flux_points_cut_energy(df_fp = None, counterparts_datasets = None, e_ref_min=None):\n",
    "    '''To write Docstring!!!!'''\n",
    "    \n",
    "    source_range = range(len(counterparts))\n",
    "    for source_index in source_range:\n",
    "        counterparts_datasets = []\n",
    "        \n",
    "#         source_identification(source_index)\n",
    "        \n",
    "        k_range = range(len(counterparts_datasets[source_index]))\n",
    "        for k in k_range: \n",
    "            \n",
    "            catalog_tag = df_fp[\"catalog\"][source_index][k]\n",
    "\n",
    "            ds_name = f\"{counterpart_name}: {catalog_tag}\"\n",
    "            flux_points = counterparts_datasets[source_index][k].data\n",
    "\n",
    "            mask_energy = np.zeros(len(flux_points.to_table()), dtype=bool)\n",
    "\n",
    "            for m, e_ref in enumerate(flux_points.energy_ref):\n",
    "                if e_ref > e_ref_min:\n",
    "                    mask_energy[m] = True\n",
    "            print(ds_name, counterpart_txt)  \n",
    "            \n",
    "            try:\n",
    "                flux_points_mask = flux_points.to_table()[mask_energy]\n",
    "                flux_points_energy = FluxPoints.from_table(flux_points_mask)\n",
    "\n",
    "                ds = FluxPointsDataset(\n",
    "                                    data=flux_points_energy, \n",
    "                                    name=ds_name\n",
    "                                )\n",
    "\n",
    "                table = ds.data.to_table(\n",
    "                                    sed_type = sed_type, \n",
    "                                    formatted = True\n",
    "                                )\n",
    "                counterparts_datasets.append(ds)\n",
    "\n",
    "                file_name = f'{source_txt}_{counterpart_txt}_{catalog_tag}_e_ref_min_{e_ref_min_name}{format_fits}'\n",
    "                path_os = os.path.abspath(\n",
    "                    os.path.join(\n",
    "                        f\"{path_flux_points_tables_analysis}/{file_name}\"\n",
    "                    )\n",
    "                )\n",
    "\n",
    "                if path_os not in sys.path:\n",
    "                    sys.path.append(path_os)\n",
    "\n",
    "                table.write(f\"{path_os}\",format='fits', overwrite=True)\n",
    "\n",
    "            except:\n",
    "                print(f\"{counterpart_name} out\")    \n",
    "            \n",
    "        counterparts_datasets_cut.append(counterparts_datasets)\n",
    "    return counterparts_datasets_cut"
   ]
  },
  {
   "cell_type": "code",
   "execution_count": null,
   "id": "e696c3b2",
   "metadata": {},
   "outputs": [],
   "source": [
    "def table_to_SED_format(file_name):\n",
    "    '''\n",
    "    Normalization Representation\n",
    "    The SED format is a flexible specification for representing one-dimensional spectra \n",
    "    (distributions of amplitude vs. energy).\n",
    "    \n",
    "    '''\n",
    "    \n",
    "    directory_path = f\"{path_fp_LHAASO}\"\n",
    "\n",
    "    format_dat = '.dat'\n",
    "    file_path = Path(f'{directory_path}/{file_name}{format_dat}') \n",
    "\n",
    "    table = Table.read(file_path,format='ascii', delimiter=' ', comment='#')\n",
    "    \n",
    "#     display(table)\n",
    "\n",
    "    table['col1'] = table['col1']/1e12\n",
    "    table.rename_column('col1', 'e_ref')\n",
    "    table['e_ref'].unit = u.TeV\n",
    "\n",
    "    #     table['col5'] = table['col5']/1e12\n",
    "    #     table.rename_column('col5', 'e_min')\n",
    "    #     table['e_min'].unit = u.TeV\n",
    "\n",
    "    #     table['col6'] = table['col6']/1e12\n",
    "    #     table.rename_column('col6', 'e_max')\n",
    "    #     table['e_max'].unit = u.TeV\n",
    "\n",
    "    table.rename_column('col2', 'e2dnde')\n",
    "    table['e2dnde'].unit = u.Unit(\"erg cm-2 s-1\")\n",
    "\n",
    "    table.rename_column('col3', 'e2dnde_errp')\n",
    "    table['e2dnde_errp'].unit = u.Unit(\"erg cm-2 s-1\")\n",
    "\n",
    "    table.rename_column('col4', 'e2dnde_errn')\n",
    "    table['e2dnde_errn'].unit = u.Unit(\"erg cm-2 s-1\")\n",
    "\n",
    "    table.meta[\"SED_TYPE\"] = \"e2dnde\"\n",
    "    table.meta[\"name\"] = \"table\"\n",
    "    table.remove_columns(['col5', 'col6'])\n",
    "\n",
    "#     display(table)\n",
    "\n",
    "    # table_J1825 = Table(table, copy=True)\n",
    "    return table"
   ]
  },
  {
   "cell_type": "code",
   "execution_count": null,
   "id": "9d1c7fc1",
   "metadata": {},
   "outputs": [],
   "source": [
    "import numpy as np\n",
    "# from astropy import units as u\n",
    "from astropy.table import Table\n",
    "from gammapy.estimators import FluxPoints\n",
    "from gammapy.utils.scripts import make_path\n",
    "\n",
    "\n",
    "\n",
    "def cut_flux_points_in_energy(counterparts_datasets,e_ref_min):\n",
    "    e_ref_min_txt = name_to_txt(str(e_ref_min))\n",
    "    source_txt  = name_to_txt(source_name)\n",
    "    angle_separation_txt = name_to_txt(str(angle_separation))+'degree'\n",
    "\n",
    "    # Creates the directories to save the flux points tables \n",
    "    cfg.dir_flux_points_tables = \"flux_points_tables\"\n",
    "    dir_fp_tab_counterparts = f\"{name_to_txt(source_name)}_counterparts_{angle_separation_txt}\"\n",
    "    path_flux_points_tables, path_fp_tab_counterparts = mkdir_sub_directory(\n",
    "        cfg.dir_flux_points_tables, \n",
    "        dir_fp_tab_counterparts\n",
    "    )\n",
    "    print(dir_fp_tab_counterparts)\n",
    "    datasets_cut_fp = []\n",
    "    for index, dataset_fp in enumerate(counterparts_datasets):\n",
    "\n",
    "        flux_points= dataset_fp.data\n",
    "        try:\n",
    "            mask_energy = np.zeros(len(flux_points.to_table()), dtype=bool)\n",
    "\n",
    "            for m, e_ref in enumerate(flux_points.energy_ref):\n",
    "                if e_ref > e_ref_min:\n",
    "                    mask_energy[m] = True\n",
    "\n",
    "            flux_points_mask = flux_points.to_table()[mask_energy]\n",
    "            flux_points_energy = FluxPoints.from_table(flux_points_mask)\n",
    "\n",
    "            ds = FluxPointsDataset(\n",
    "                data=flux_points_energy, \n",
    "                name = counterparts_datasets[index].name\n",
    "            )\n",
    "            datasets_cut_fp.append(ds)\n",
    "            table = ds.data.to_table(\n",
    "                sed_type = sed_type,\n",
    "                formatted = True\n",
    "            )    \n",
    "            name = name_to_txt(counterparts_datasets[index].name)\n",
    "            \n",
    "            file_name = f'{name}_e_ref_min_{e_ref_min_txt}'\n",
    "#             file_name = f\"{counterpart_txt}_{cat_tag}_e_ref_min_{e_ref_min_txt}\"\n",
    "    \n",
    "            write_tables_csv(table, path_fp_tab_counterparts, file_name)\n",
    "\n",
    "        except:\n",
    "            print(f'{index}: {dataset_fp.name} no flux points table (cutting energy)') \n",
    "    return datasets_cut_fp"
   ]
  },
  {
   "cell_type": "code",
   "execution_count": null,
   "id": "7bfd1982",
   "metadata": {},
   "outputs": [],
   "source": []
  },
  {
   "cell_type": "code",
   "execution_count": null,
   "id": "d2695e13",
   "metadata": {},
   "outputs": [],
   "source": [
    "def plot_SED_from_catalogs(region_of_interest):\n",
    "    directory_child = f\"{cfg.dir_SED_from_catalogs}/{create_roi_name(region_of_interest)}\"\n",
    "\n",
    "    path_parent, path_child = mkdir_sub_directory(\n",
    "            cfg.dir_SED,\n",
    "            directory_child\n",
    "        )\n",
    "        \n",
    "    for counterpart, dataset_fp in zip(counterparts,counterparts_datasets):    \n",
    "\n",
    "        counterpart_name = counterpart.name\n",
    "        flux_points = counterpart.flux_points\n",
    "        spectral_model = counterpart.spectral_model()\n",
    "        spectral_model_tag = spectral_model.tag[0]\n",
    "        spectral_model_tag_short = spectral_model.tag[1]\n",
    "\n",
    "        ax = plt.subplot()\n",
    "        ax.yaxis.set_units(u.Unit(\"erg cm-2 s-1\"))\n",
    "        ax.xaxis.set_units(u.Unit(\"TeV\"))\n",
    "\n",
    "        xlabel = r'$\\rm{E\\ [TeV]}$'\n",
    "        ylabel = r'$\\rm{E^2\\ J(E)\\ [erg\\ cm^{-2}\\ s^{-1}]}$'\n",
    "\n",
    "        kwargs = {\n",
    "            \"ax\": ax, \n",
    "            \"sed_type\": cfg.sed_type_e2dnde\n",
    "        }\n",
    "        kwargs_fit = {\n",
    "            \"label\": f\"{spectral_model_tag_short} (fit)\"\n",
    "        }\n",
    "\n",
    "        flux_points.plot(label = dataset_fp.name, **kwargs)\n",
    "\n",
    "        energy_bounds = flux_points.energy_min[0], flux_points.energy_max[-1]\n",
    "    #     e2dnde_errn = flux_points.e2dnde_errn.data\n",
    "    #     e2dnde_errp = flux_points.e2dnde_errp.data\n",
    "    #     ylim =min(np.nanmin(e2dnde_errp),np.nanmin(e2dnde_errn)), max(np.nanmax(e2dnde_errp),np.nanmax(e2dnde_errn))\n",
    "\n",
    "        spectral_model.plot(energy_bounds=energy_bounds, color=\"k\", **kwargs, **kwargs_fit)\n",
    "        spectral_model.plot_error(energy_bounds=energy_bounds, **kwargs)\n",
    "\n",
    "    #     kwargs_spectrum = {\"kwargs_model\": {\"color\":\"red\", \"ls\":\"--\"}, \"kwargs_fp\":{\"color\":\"green\", \"marker\":\"o\"}}\n",
    "\n",
    "    #     dataset_fp.plot_spectrum(**kwargs, **kwargs_spectrum)  \n",
    "\n",
    "    #     ax.set_ylim(ylim)\n",
    "        ax.set_xlim(energy_bounds)\n",
    "        plt.xlabel(xlabel)   \n",
    "        plt.ylabel(ylabel)\n",
    "        plt.legend()\n",
    "\n",
    "\n",
    "\n",
    "        file_name = f'{name_to_txt(dataset_fp.name.replace(\":\",\"\"))}_{spectral_model_tag_short}{cfg.format_png}'\n",
    "\n",
    "        file_path = path_child / file_name \n",
    "\n",
    "        plt.savefig(file_path, bbox_inches='tight')\n",
    "\n",
    "        plt.show()"
   ]
  },
  {
   "cell_type": "code",
   "execution_count": null,
   "id": "5231a6fc",
   "metadata": {},
   "outputs": [],
   "source": [
    "def create_roi_name(region_of_interest = None):\n",
    "    source_name = region_of_interest[\"source_name\"] \n",
    "    angle_separation = region_of_interest[\"angle_separation\"] \n",
    "    return f\"{name_to_txt(source_name)}_counterparts_{f'{name_to_txt(str(angle_separation))}deg'}\""
   ]
  },
  {
   "cell_type": "code",
   "execution_count": null,
   "id": "a362415a",
   "metadata": {},
   "outputs": [],
   "source": [
    "# from gammapy.datasets import FluxPointsDataset\n",
    "from astropy.coordinates import SkyCoord\n",
    "from astropy import units as u\n",
    "\n",
    "import pickle\n",
    "\n",
    "def creates_catalogs_roi(catalogs_cls = None , region_of_interest = None):\n",
    "    '''\n",
    "    Create catalogs subset (only sources within the region of interest)\n",
    "    '''\n",
    "    source_name = region_of_interest[\"source_name\"] \n",
    "    source_RA = region_of_interest[\"source_RA\"]  \n",
    "    source_dec = region_of_interest[\"source_dec\"] \n",
    "    angle_separation = region_of_interest[\"angle_separation\"] \n",
    "        \n",
    "    source_position = SkyCoord(source_RA, source_dec, unit = cfg.unit_deg) \n",
    "    \n",
    "    print(\"**************************************************\", end = \"\\n\\n\")\n",
    "    print(f\"Region of interest:\\n\")\n",
    "    print(f\"Source name: {source_name}\")\n",
    "    print(f\"Source position (ra, dec) in deg: {source_RA, source_dec}\")\n",
    "    print(f\"Radius: {angle_separation} deg\", end = \"\\n\\n**************************************************\\n\")\n",
    "    \n",
    "    catalogs_roi = []\n",
    "    catalog_no_counterparts = []\n",
    "    n_cat_roi = 0\n",
    "    \n",
    "    for catalog in catalogs_cls:\n",
    "        \n",
    "        cat_tag = catalog.tag\n",
    "        cat_descr = catalog.description\n",
    "        \n",
    "        mask_roi = source_position.separation(catalog.positions) < angle_separation * u.deg\n",
    "        \n",
    "        if len(catalog[mask_roi].table):\n",
    "            catalogs_roi.append(catalog[mask_roi])\n",
    "            n_cat_roi += 1\n",
    "        else:\n",
    "            catalog_no_counterparts.append(f\"{cat_tag}: {cat_descr}\")\n",
    "\n",
    "    if n_cat_roi:\n",
    "        \n",
    "        pickling_catalog_roi(catalogs_roi, region_of_interest)\n",
    "    \n",
    "        print(f\"\\n{n_cat_roi} catalogs with sources in the region of interest:\", end = \"\\n\\n\")\n",
    "        for catalog in catalogs_roi:\n",
    "            cat_tag = catalog.tag\n",
    "            cat_descr = catalog.description\n",
    "            print(f\"{cat_tag}: {cat_descr}\")\n",
    "            display(catalog.table)\n",
    "    else:\n",
    "        print(\"No catalogs with sources in the region of interest!\", end = \"\\n\\n\")\n",
    "\n",
    "    if n_cat_roi != 0 and len(catalog_no_counterparts) != 0:\n",
    "        for index, catalog_no_counterpart in enumerate(catalog_no_counterparts):            \n",
    "            if index == 0:\n",
    "                print(\"Catalogs without sources in the region of interest:\", end = \"\\n\\n\")\n",
    "            print(catalog_no_counterpart)\n",
    "\n",
    "    return catalogs_roi"
   ]
  },
  {
   "cell_type": "code",
   "execution_count": null,
   "id": "94f05c84",
   "metadata": {
    "scrolled": false
   },
   "outputs": [],
   "source": [
    "def creates_region_of_interest(source_name, source_RA, source_dec, angle_separation = None):\n",
    "    return  {\n",
    "        \"source_name\": source_name,\n",
    "        \"source_RA\": source_RA,\n",
    "        \"source_dec\": source_dec,\n",
    "        \"angle_separation\": angle_separation\n",
    "    }"
   ]
  },
  {
   "cell_type": "code",
   "execution_count": null,
   "id": "ad6590d3",
   "metadata": {},
   "outputs": [],
   "source": []
  },
  {
   "cell_type": "code",
   "execution_count": null,
   "id": "5d77c435",
   "metadata": {},
   "outputs": [],
   "source": [
    "import pickle\n",
    "    \n",
    "def unpickling_catalog_roi(region_of_interest):        \n",
    "    # Creates the directory to save the catalogs roi list  \n",
    "    path_file = mkdir_sub_directory(cfg.dir_catalogs_roi)\n",
    "\n",
    "    file_name = create_roi_name(region_of_interest)\n",
    "    path_os = os.path.abspath(\n",
    "        os.path.join(\n",
    "            f\"{path_file}/{file_name}{cfg.format_dat}\"\n",
    "        )\n",
    "    )\n",
    "\n",
    "    if path_os not in sys.path:\n",
    "        sys.path.append(path_os)       \n",
    "\n",
    "    with open(path_os, \"rb\") as fp:  \n",
    "        catalogs_roi = pickle.load(fp)\n",
    "    return catalogs_roi"
   ]
  },
  {
   "cell_type": "code",
   "execution_count": null,
   "id": "61ffe4b1",
   "metadata": {},
   "outputs": [],
   "source": [
    "import pickle\n",
    "\n",
    "def pickling_catalog_roi(catalogs_roi, region_of_interest):        \n",
    "    \n",
    "    # Creates the directory to save the catalogs roi list  \n",
    "    path_file = mkdir_sub_directory(cfg.dir_catalogs_roi)\n",
    "\n",
    "    file_name = create_roi_name(region_of_interest)\n",
    "    path_os = os.path.abspath(\n",
    "        os.path.join(\n",
    "            f\"{path_file}/{file_name}{cfg.format_dat}\"\n",
    "        )\n",
    "    )\n",
    "\n",
    "    if path_os not in sys.path:\n",
    "        sys.path.append(path_os)       \n",
    "\n",
    "    with open(path_os, \"wb\") as fp:  \n",
    "        pickle.dump(catalogs_roi, fp)\n",
    "        \n",
    "    return"
   ]
  },
  {
   "cell_type": "code",
   "execution_count": null,
   "id": "d2f1ca45",
   "metadata": {},
   "outputs": [],
   "source": [
    "help(FluxPointsDataset)"
   ]
  },
  {
   "cell_type": "code",
   "execution_count": null,
   "id": "80ad8b1a",
   "metadata": {},
   "outputs": [],
   "source": [
    "from gammapy.datasets import FluxPointsDataset\n",
    "from astropy.coordinates import SkyCoord\n",
    "from astropy import units as u\n",
    "from gammapy.modeling.models import SkyModel\n",
    "\n",
    "def getting_flux_points_datsets(region_of_interest):\n",
    "    '''\n",
    "    Select a catalog subset (only sources within a region of interest)\n",
    "    '''\n",
    "    \n",
    "    # Creates the directories to save the flux points tables \n",
    "    directory_child = f\"{cfg.dir_tables}/{create_roi_name(region_of_interest)}\"\n",
    "    \n",
    "    path_parent, path_child = mkdir_sub_directory(\n",
    "        cfg.dir_flux_points, \n",
    "        directory_child\n",
    "    )\n",
    "\n",
    "    catalogs_roi = unpickling_catalog_roi(region_of_interest)\n",
    "\n",
    "\n",
    "    counterparts_datasets = []\n",
    "    counterpats = []\n",
    "    n_counterparts = 0 # number of counterparts\n",
    "    n_flux_points = 0 # number of flux points tables\n",
    "    n_spectral_model = 0 # number of spectral models\n",
    "    n_sky_model = 0 # number of sky model\n",
    "    \n",
    "    for index, catalog in enumerate(catalogs_roi):\n",
    "        \n",
    "        cat_tag = catalog.tag\n",
    "        \n",
    "        for j, counterpart in enumerate(catalog):\n",
    "            \n",
    "            n_counterparts+=1   \n",
    "            counterpart_name = counterpart.name\n",
    "            counterpart_txt = name_to_txt(counterpart_name)\n",
    "            \n",
    "            try:\n",
    "                \n",
    "                counterpart_flux_points = counterpart.flux_points\n",
    "                n_flux_points+=1\n",
    "                \n",
    "                counterpart_sky_model = counterpart.sky_model()\n",
    "                n_sky_model+=1\n",
    "                \n",
    "                counterpart_spectral_model = counterpart.spectral_model()\n",
    "                n_spectral_model+=1\n",
    "                \n",
    "                if cat_tag != 'gamma-cat' and cat_tag != 'hgps':\n",
    "                    \n",
    "                    ds_name = f\"{counterpart_name}\"\n",
    "                    \n",
    "                else:\n",
    "                    \n",
    "                    ds_name = f\"{counterpart_name}: {cat_tag}\"\n",
    "#                 ds_name = f\"{counterpart_name}: {cat_tag}\"    \n",
    "                file_name = f\"{counterpart_txt}_{cat_tag}\"\n",
    "    \n",
    "                counterpart_model = SkyModel(spectral_model=counterpart_spectral_model)\n",
    "        \n",
    "                ds = FluxPointsDataset(\n",
    "                    models = counterpart_model,\n",
    "                    data= counterpart_flux_points, \n",
    "                    name=  ds_name   \n",
    "                )\n",
    "                counterpats.append(counterpart)\n",
    "                counterparts_datasets.append(ds)\n",
    "                \n",
    "                \n",
    "                table = ds.data.to_table(\n",
    "                    sed_type = cfg.sed_type_e2dnde, \n",
    "                    formatted = True\n",
    "                )\n",
    "\n",
    "                # Writes the flux points table in the csv format\n",
    "                write_tables_csv(table, path_child, file_name)\n",
    "                write_tables_fits(table, path_child, file_name)\n",
    "            except Exception as error:\n",
    "           # By this way we can know about the type of error occurring\n",
    "\n",
    "                print(f'The error ({counterpart_name}) is: {error}') \n",
    "                            \n",
    "    print(f\"Total number of counterparts: {n_counterparts}\")\n",
    "    print(f\"Total number of sky models: {n_sky_model}\")\n",
    "    print(f\"Total number of spectral models: {n_spectral_model}\")\n",
    "    print(f\"Total number of flux points tables: {n_flux_points}\")\n",
    "    return counterpats, counterparts_datasets"
   ]
  },
  {
   "cell_type": "code",
   "execution_count": null,
   "id": "a90a439a",
   "metadata": {},
   "outputs": [],
   "source": []
  },
  {
   "cell_type": "code",
   "execution_count": null,
   "id": "5f624f8e",
   "metadata": {},
   "outputs": [],
   "source": [
    "from astropy import units as u\n",
    "def SED_fp(\n",
    "    datasets = None, \n",
    "    spectral_model = None, \n",
    "    sed_type = \"e2dnde\", \n",
    "    yaxis_units =\"TeV cm-2 s-1\", \n",
    "    energy_bounds = [1e-5, 1e2] * u.TeV, \n",
    "    ylim = [1e-13, 1e-9]\n",
    "):\n",
    "    \n",
    "    ax = plt.subplot()\n",
    "    ax.yaxis.set_units(u.Unit(yaxis_units))\n",
    "    ax.xaxis.set_units(u.Unit(xaxis_units))\n",
    "\n",
    "    kwargs = {\"ax\": ax, \"sed_type\": sed_type}\n",
    "\n",
    "    while len(markers) < len(datasets) +1:\n",
    "        markers.extend(markers)\n",
    "\n",
    "        \n",
    "    for i, d in enumerate(datasets):\n",
    "        d.data.plot(label=d.name, marker=markers[i],  **kwargs)\n",
    "        \n",
    "\n",
    "    if spectral_plot == True:\n",
    "        spectral_model.plot(label = \"LogParabola (fit)\",energy_bounds=energy_bounds,  marker = ',', color=\"k\", **kwargs)\n",
    "        spectral_model.plot_error(energy_bounds=energy_bounds,**kwargs)\n",
    "        \n",
    "#         spectral_model_CTA.plot(label = \"LogParabola CTA (fit)\",energy_bounds=energy_bounds,  marker = ',', color=\"k\", **kwargs)\n",
    "#         spectral_model_CTA.plot_error(energy_bounds=energy_bounds,**kwargs)\n",
    "        \n",
    "    \n",
    "     \n",
    "    \n",
    "    \n",
    "    if CTA_plot == True:\n",
    "        if CTA == 1: \n",
    "            FluxPoints.from_table(table = table_CTA_1, sed_type='e2dnde').plot(label= PSR_name_1)\n",
    "        elif CTA == 2:\n",
    "            FluxPoints.from_table(table = table_CTA_2, sed_type='e2dnde').plot(label= PSR_name_2)\n",
    "        else:\n",
    "            pass\n",
    "    \n",
    "    ax.set_ylim(ylim)\n",
    "    ax.set_xlim(energy_bounds)\n",
    "    \n",
    "    if leg_out is True:\n",
    "        ax.legend(loc = loc_legend, ncol = ncol, bbox_to_anchor=bbox_to_anchor)\n",
    "    else:\n",
    "        ax.legend(loc = loc_legend, ncol = ncol)\n",
    "    \n",
    "    plt.xlabel(r'$\\rm{E\\ [TeV] }$')   \n",
    "    plt.ylabel(r'$\\rm{E^2\\ J(E)\\ [erg\\ cm^{-2}\\ s^{-1}] }$')\n",
    "    \n",
    "     # Creates the directories to save the flux points figures \n",
    "#     directory_child = f\"{cfg.dir_figures}/{create_roi_name(region_of_interest)}\"\n",
    "    \n",
    "    path_parent, path_child = mkdir_sub_directory(\n",
    "        cfg.dir_flux_points, \n",
    "        cfg.dir_figures\n",
    "    )\n",
    "\n",
    "    \n",
    "#     path_flux_points_figures = mkdir_sub_directory(cfg.dir_flux_points_figures)\n",
    "    \n",
    "    file = path_child / f'{name_to_txt(source_name)}{cfg.format_png}'    \n",
    "    plt.savefig(file, bbox_inches='tight')\n",
    "    plt.savefig(\"aaaa\", bbox_inches='tight')\n",
    "    plt.show()\n",
    "    \n",
    "    return"
   ]
  },
  {
   "cell_type": "markdown",
   "id": "6c06a515",
   "metadata": {},
   "source": [
    "<a id='3.0'></a>\n",
    "🔝 [Back to Top](#indice)<br>\n",
    "## 3. Data Access "
   ]
  },
  {
   "cell_type": "markdown",
   "id": "db160132",
   "metadata": {},
   "source": [
    "<a id='3.1'></a>\n",
    "#### 3.1 Loading Gammapy Source Catalogs\n",
    "\n",
    "`~gammapy.catalog` provides convenient access to common gamma-ray source catalogs.\n",
    "This module is mostly independent from the rest of Gammapy.\n",
    "Typically you use it to compare new analyses against catalog results, e.g. overplot the spectral model, or compare the source position.\n",
    "\n",
    "Moreover as creating a source model and flux points for a given catalog from the FITS table is tedious, `~gammapy.catalog` has this already implemented. So you can create initial source models for your analyses.\n",
    "This is very common for Fermi-LAT, to start with a catalog model.\n",
    "For TeV analysis, especially in crowded Galactic regions, using the HGPS, gamma-cat or 2HWC catalog in this way can also be useful.\n"
   ]
  },
  {
   "cell_type": "code",
   "execution_count": null,
   "id": "b2f85d95",
   "metadata": {},
   "outputs": [],
   "source": [
    "catalogs_cls = load_gammapy_catalogs(print_catalogs=True)"
   ]
  },
  {
   "cell_type": "markdown",
   "id": "0f5b8657",
   "metadata": {},
   "source": [
    "see [gammapy.catalog Package](https://docs.gammapy.org/1.0.1/api-reference/catalog.html)<br>\n",
    "see [Source catalogs user-guide](https://docs.gammapy.org/1.1/user-guide/catalog.html)"
   ]
  },
  {
   "cell_type": "markdown",
   "id": "57280e70",
   "metadata": {},
   "source": [
    "<a id='3.0'></a>\n",
    "🔝 [Back to Top](#indice)<br>\n",
    "## 3. Data Selection (DL3)\n",
    "\n",
    "Here we select counterparts (in the gammapy catalogs) within the region of interest (centered in the source position)."
   ]
  },
  {
   "cell_type": "markdown",
   "id": "31e82fd3",
   "metadata": {},
   "source": [
    "<a id='3.1'></a>\n",
    "#### 3.1 Region of Interest \n",
    "\n",
    "To set the region of interest (roi) give the source name (based on J2000 coordinates), the source position (in degrees): right ascension and declination, and the maximum angle (in degrees) of separation between the source and its counterpart. "
   ]
  },
  {
   "cell_type": "code",
   "execution_count": null,
   "id": "f7d8a06a",
   "metadata": {},
   "outputs": [],
   "source": [
    "source_name = \"LHAASO J1825-1326\"  # Source name based on J2000 coordinates  \n",
    "source_RA = 276.45 # Right ascension (in degrees) \n",
    "source_dec = -13.45 # Declination (in degrees)"
   ]
  },
  {
   "cell_type": "markdown",
   "id": "8a45ba98",
   "metadata": {},
   "source": [
    "[see TevCat LHAASO J1825-1326](http://tevcat.uchicago.edu/?mode=1&showsrc=342)"
   ]
  },
  {
   "cell_type": "code",
   "execution_count": null,
   "id": "db207353",
   "metadata": {},
   "outputs": [],
   "source": [
    "angle_separation = 1 # angle of maximum separation (in degrees)"
   ]
  },
  {
   "cell_type": "code",
   "execution_count": null,
   "id": "cc41c410",
   "metadata": {},
   "outputs": [],
   "source": [
    "# Creates the region of interest\n",
    "region_of_interest = creates_region_of_interest(source_name, source_RA, source_dec, angle_separation)\n",
    "region_of_interest"
   ]
  },
  {
   "cell_type": "code",
   "execution_count": null,
   "id": "6e2b72f0",
   "metadata": {},
   "outputs": [],
   "source": []
  },
  {
   "cell_type": "markdown",
   "id": "0fe45b24",
   "metadata": {},
   "source": [
    "<a id='3.2'></a>\n",
    "#### 3.2 Catalogs Sources in the  Region of Interest\n",
    "\n",
    "To set the source name (based on J2000 coordinates), the source position (in degrees): right ascension and declination, and the maximum angle (in degrees) of separation between the source and its counterpart. "
   ]
  },
  {
   "cell_type": "code",
   "execution_count": null,
   "id": "34c50bdb",
   "metadata": {
    "scrolled": true
   },
   "outputs": [],
   "source": [
    "catalogs_roi = creates_catalogs_roi(catalogs_cls = catalogs_cls , region_of_interest = region_of_interest)"
   ]
  },
  {
   "cell_type": "code",
   "execution_count": null,
   "id": "2317b4f5",
   "metadata": {
    "scrolled": false
   },
   "outputs": [],
   "source": [
    "counterparts, counterparts_datasets = getting_flux_points_datsets(region_of_interest)"
   ]
  },
  {
   "cell_type": "code",
   "execution_count": null,
   "id": "13757529",
   "metadata": {
    "scrolled": true
   },
   "outputs": [],
   "source": [
    "plot_SED_from_catalogs(region_of_interest)"
   ]
  },
  {
   "cell_type": "code",
   "execution_count": null,
   "id": "b8801e25",
   "metadata": {},
   "outputs": [],
   "source": [
    "from gammapy.datasets import Datasets\n",
    "datasets = Datasets(counterparts_datasets)\n",
    "print(datasets)"
   ]
  },
  {
   "cell_type": "code",
   "execution_count": null,
   "id": "03d50714",
   "metadata": {},
   "outputs": [],
   "source": []
  },
  {
   "cell_type": "code",
   "execution_count": null,
   "id": "6b9ddbe5",
   "metadata": {},
   "outputs": [],
   "source": [
    "sed_type = cfg.sed_type_e2dnde\n",
    "yaxis_units=\"erg cm-2 s-1\"\n",
    "xaxis_units=\"TeV\"\n",
    "\n",
    "energy_bounds = [1e-5, 3e2] * u.TeV\n",
    "ylim = [1e-20, 1e-7]\n",
    "\n",
    "ncol = 3\n",
    "loc_legend = 'lower left'\n",
    "\n",
    "plot_flux_points(\n",
    "    datasets = datasets,\n",
    "    sed_type = sed_type, \n",
    "    yaxis_units=yaxis_units,\n",
    "    xaxis_units=xaxis_units,\n",
    "    energy_bounds=energy_bounds, \n",
    "    ylim=ylim,\n",
    "ncol=ncol,\n",
    "loc_legend = loc_legend\n",
    ")"
   ]
  },
  {
   "cell_type": "code",
   "execution_count": null,
   "id": "b1ac8c2a",
   "metadata": {},
   "outputs": [],
   "source": []
  },
  {
   "cell_type": "markdown",
   "id": "8b8aa108",
   "metadata": {},
   "source": [
    "<a id='3.2'></a>\n",
    "🔝 [Back to Top](#intro)<br>\n",
    "#### 3.2 LHASSO Data Published in the Nature (2021)"
   ]
  },
  {
   "cell_type": "code",
   "execution_count": null,
   "id": "0fe53c3b",
   "metadata": {},
   "outputs": [],
   "source": [
    "path_fp_LHAASO = \"/home/born-again/Documents/GitHub/grupo_AAE/data_access_and_selection(DL3)/flux_points_tables/LHASSOColaboration_publishNature_2021\""
   ]
  },
  {
   "cell_type": "code",
   "execution_count": null,
   "id": "0baaba23",
   "metadata": {},
   "outputs": [],
   "source": [
    "from astropy.table import Table\n",
    "\n",
    "file_name = 'J1825_KM2A_201209'\n",
    "table_J1825 =  LHAASO_table_to_SED_format(path_fp_LHAASO, file_name)\n",
    "table_J1825_copy = Table(table_J1825, copy=True)"
   ]
  },
  {
   "cell_type": "code",
   "execution_count": null,
   "id": "24db1585",
   "metadata": {
    "scrolled": true
   },
   "outputs": [],
   "source": [
    "# file_name = 'J1908_KM2A_201209'\n",
    "# table_J1908 =  LHAASO_table_to_SED_format(path_fp_LHAASO, file_name)\n",
    "# table_J1908_copy = Table(table_J1908, copy=True)\n",
    "# table_J1908_copy"
   ]
  },
  {
   "cell_type": "code",
   "execution_count": null,
   "id": "4c648fd9",
   "metadata": {},
   "outputs": [],
   "source": [
    "# file_name = 'J2228_KM2A_201209'\n",
    "# table_J2226 =  LHAASO_table_to_SED_format(path_fp_LHAASO, file_name)\n",
    "# table_J2226_copy = Table(table_J2226, copy=True)\n",
    "# table_J2226_copy"
   ]
  },
  {
   "cell_type": "code",
   "execution_count": null,
   "id": "58e02b14",
   "metadata": {},
   "outputs": [],
   "source": []
  },
  {
   "cell_type": "code",
   "execution_count": null,
   "id": "bd872090",
   "metadata": {},
   "outputs": [],
   "source": [
    "from gammapy.modeling.models import LogParabolaSpectralModel\n",
    "\n",
    "# Gammapy spectral model object:\n",
    "spectral_model =  LogParabolaSpectralModel(\n",
    "    alpha=0.92,\n",
    "    amplitude=\"1e-12 cm-2 s-1 TeV-1\",\n",
    "    reference=10 * u.TeV,\n",
    "    beta=1.19,\n",
    ")\n",
    "spectral_model_tag = spectral_model.tag[0]\n",
    "spectral_model_tag_short = spectral_model.tag[0]\n",
    "spectral_model_name = f\"{region_of_interest['source_name']} {spectral_model_tag}\"\n",
    "print(spectral_model)"
   ]
  },
  {
   "cell_type": "code",
   "execution_count": null,
   "id": "4b3cc78e",
   "metadata": {},
   "outputs": [],
   "source": [
    "# Gammapy sky model object:\n",
    "sky_model = SkyModel(\n",
    "    spectral_model=spectral_model, \n",
    "    name=spectral_model_name)\n",
    "print(sky_model)"
   ]
  },
  {
   "cell_type": "code",
   "execution_count": null,
   "id": "f7ec9a7b",
   "metadata": {},
   "outputs": [],
   "source": [
    "sky_model_in = sky_model.copy()\n",
    "print(sky_model_in)"
   ]
  },
  {
   "cell_type": "code",
   "execution_count": null,
   "id": "f46ee2c8",
   "metadata": {},
   "outputs": [],
   "source": [
    "from gammapy.estimators import FluxPoints\n",
    "\n",
    "source_name = \"LHAASO J1825-1326\"\n",
    "dataset_J1825 = ds_fp_from_table_fp(table_J1825_copy, sky_model)"
   ]
  },
  {
   "cell_type": "code",
   "execution_count": null,
   "id": "c82cae8a",
   "metadata": {},
   "outputs": [],
   "source": [
    "datasets_J1825 = []\n",
    "datasets_J1825 = counterparts_datasets\n",
    "datasets_J1825.append(dataset_J1825)"
   ]
  },
  {
   "cell_type": "code",
   "execution_count": null,
   "id": "d3365f62",
   "metadata": {},
   "outputs": [],
   "source": [
    "for index, dataset in enumerate(datasets_J1825):\n",
    "    print(f'{index}: {dataset.name} flux points table') "
   ]
  },
  {
   "cell_type": "code",
   "execution_count": null,
   "id": "507636da",
   "metadata": {},
   "outputs": [],
   "source": [
    "sed_type = cfg.sed_type_e2dnde\n",
    "yaxis_units=\"erg cm-2 s-1\"\n",
    "xaxis_units=\"TeV\"\n",
    "\n",
    "energy_bounds = [1e-5, 3e3] * u.TeV\n",
    "ylim = [1e-20, 1e-7]\n",
    "\n",
    "ncol = 3\n",
    "loc_legend = 'lower left'\n",
    "\n",
    "plot_flux_points(\n",
    "    datasets = datasets_J1825,\n",
    "    sed_type = sed_type, \n",
    "    yaxis_units=yaxis_units,\n",
    "    xaxis_units=xaxis_units,\n",
    "    energy_bounds=energy_bounds, \n",
    "    ylim=ylim,\n",
    "ncol=ncol,\n",
    "loc_legend = loc_legend\n",
    ")"
   ]
  },
  {
   "cell_type": "markdown",
   "id": "d7d624c0",
   "metadata": {},
   "source": [
    "<a id='4.0'></a>\n",
    "🔝 [Back to Top](#indice)<br>\n",
    "## 4. Analysis"
   ]
  },
  {
   "cell_type": "markdown",
   "id": "6189aac6",
   "metadata": {},
   "source": [
    "<a id='4.1'></a>\n",
    "🔝 [Back to Top](#intro)<br>\n",
    "#### 4.1 HESS J1825-137"
   ]
  },
  {
   "cell_type": "code",
   "execution_count": null,
   "id": "d53e00ae",
   "metadata": {},
   "outputs": [],
   "source": [
    "ds_fp_HESS137 = [counterparts_datasets[1],counterparts_datasets[2],counterparts_datasets[5], counterparts_datasets[9],counterparts_datasets[14]]"
   ]
  },
  {
   "cell_type": "code",
   "execution_count": null,
   "id": "af9e7ced",
   "metadata": {
    "scrolled": true
   },
   "outputs": [],
   "source": [
    "for index, dataset in enumerate(ds_fp_HESS137):\n",
    "    print(f'{index}: {dataset.name} flux points table') "
   ]
  },
  {
   "cell_type": "code",
   "execution_count": null,
   "id": "1f65d0c5",
   "metadata": {},
   "outputs": [],
   "source": [
    "datasets = Datasets(ds_fp_HESS137)\n",
    "CTA = 1\n",
    "CTA_plot = False\n",
    "spectral_plot = False\n",
    "\n",
    "bbox_to_anchor=(0, -0.45)\n",
    "energy_bounds = [1e-4, 1e3] * u.TeV\n",
    "ylim = [1e-14, 1e-9]\n",
    "\n",
    "leg_out = True\n",
    "bbox_to_anchor=(0, -0.45)\n",
    "loc_legend = 'lower left'\n",
    "ncol = 3\n",
    "\n",
    "SED_fp(\n",
    "    datasets = datasets,\n",
    "    spectral_model=spectral_model, \n",
    "    sed_type = \"e2dnde\", \n",
    "    yaxis_units=\"erg cm-2 s-1\", \n",
    "    energy_bounds=energy_bounds, \n",
    "    ylim=ylim)"
   ]
  },
  {
   "cell_type": "code",
   "execution_count": null,
   "id": "897b26ed",
   "metadata": {},
   "outputs": [],
   "source": [
    "from gammapy.modeling import Fit\n",
    "\n",
    "datasets.models = sky_model\n",
    "print(datasets)\n",
    "fitter = Fit()\n",
    "result_fit = fitter.run(datasets=datasets)"
   ]
  },
  {
   "cell_type": "code",
   "execution_count": null,
   "id": "bb40bf00",
   "metadata": {
    "scrolled": true
   },
   "outputs": [],
   "source": [
    "print(result_fit.parameters.to_table())"
   ]
  },
  {
   "cell_type": "code",
   "execution_count": null,
   "id": "245ea00c",
   "metadata": {},
   "outputs": [],
   "source": [
    "CTA = 1\n",
    "CTA_plot = False\n",
    "spectral_plot = True\n",
    "\n",
    "energy_bounds = [1e-4, 3e3] * u.TeV\n",
    "ylim = [1e-17, 1e-7]\n",
    "\n",
    "leg_out = True\n",
    "loc_legend = 'lower left'\n",
    "bbox_to_anchor=(0, -0.45)\n",
    "ncol = 3\n",
    "\n",
    "SED_fp(\n",
    "    datasets = datasets,\n",
    "    spectral_model=spectral_model, \n",
    "    sed_type = sed_type, \n",
    "    yaxis_units=yaxis_units, \n",
    "    energy_bounds=energy_bounds, \n",
    "    ylim=ylim)"
   ]
  },
  {
   "cell_type": "code",
   "execution_count": null,
   "id": "785e688d",
   "metadata": {},
   "outputs": [],
   "source": []
  },
  {
   "cell_type": "code",
   "execution_count": null,
   "id": "50491463",
   "metadata": {
    "scrolled": true
   },
   "outputs": [],
   "source": [
    "source_name = \"LHAASO J1825-1326\"\n",
    "ds_fp_HESS137.append(ds_fp_from_table_fp(table_J1825_copy, sky_model))"
   ]
  },
  {
   "cell_type": "code",
   "execution_count": null,
   "id": "61ce5d10",
   "metadata": {},
   "outputs": [],
   "source": [
    "for index, dataset in enumerate(ds_fp_HESS137):\n",
    "    print(f'{index}: {dataset.name} flux points table') "
   ]
  },
  {
   "cell_type": "code",
   "execution_count": null,
   "id": "707695f2",
   "metadata": {},
   "outputs": [],
   "source": []
  },
  {
   "cell_type": "code",
   "execution_count": null,
   "id": "97450ee5",
   "metadata": {},
   "outputs": [],
   "source": [
    "datasets = Datasets(ds_fp_HESS137)\n",
    "CTA = 1\n",
    "CTA_plot = False\n",
    "spectral_plot = False\n",
    "loc_legend = 'lower left'\n",
    "leg_out = True\n",
    "bbox_to_anchor=(0, -0.45)\n",
    "energy_bounds = [1e-4, 1e3] * u.TeV\n",
    "ylim = [1e-13, 1e-9]\n",
    "\n",
    "leg_out = True\n",
    "bbox_to_anchor=(0, -0.45)\n",
    "loc_legend = 'lower left'\n",
    "ncol = 3\n",
    "\n",
    "SED_fp(\n",
    "    datasets = datasets,\n",
    "    spectral_model=spectral_model, \n",
    "    sed_type = \"e2dnde\", \n",
    "    yaxis_units=\"erg cm-2 s-1\", \n",
    "    energy_bounds=energy_bounds, \n",
    "    ylim=ylim)"
   ]
  },
  {
   "cell_type": "code",
   "execution_count": null,
   "id": "3a6f092d",
   "metadata": {},
   "outputs": [],
   "source": [
    "from gammapy.modeling import Fit\n",
    "\n",
    "datasets.models = sky_model\n",
    "print(datasets)\n",
    "fitter = Fit()\n",
    "result_fit = fitter.run(datasets=datasets)"
   ]
  },
  {
   "cell_type": "code",
   "execution_count": null,
   "id": "249d9432",
   "metadata": {},
   "outputs": [],
   "source": [
    "CTA = 1\n",
    "CTA_plot = False\n",
    "spectral_plot = True\n",
    "loc_legend = 'lower left'\n",
    "leg_out = True\n",
    "bbox_to_anchor=(0, -0.45)\n",
    "energy_bounds = [1e-4, 1e3] * u.TeV\n",
    "ylim = [1e-15, 1e-9]\n",
    "\n",
    "leg_out = True\n",
    "bbox_to_anchor=(0, -0.45)\n",
    "loc_legend = 'lower left'\n",
    "ncol = 3\n",
    "\n",
    "SED_fp(\n",
    "    datasets = datasets,\n",
    "    spectral_model=spectral_model, \n",
    "    sed_type = \"e2dnde\", \n",
    "    yaxis_units=\"erg cm-2 s-1\", \n",
    "    energy_bounds=energy_bounds, \n",
    "    ylim=ylim)"
   ]
  },
  {
   "cell_type": "code",
   "execution_count": null,
   "id": "7ad1f7fb",
   "metadata": {},
   "outputs": [],
   "source": []
  },
  {
   "cell_type": "code",
   "execution_count": null,
   "id": "03490da1",
   "metadata": {},
   "outputs": [],
   "source": []
  },
  {
   "cell_type": "markdown",
   "id": "212bcaa3",
   "metadata": {},
   "source": [
    "<a id='3.2'></a>\n",
    "🔝 [Back to Top](#intro)<br>\n",
    "#### 3.2 CTA Simulations"
   ]
  },
  {
   "cell_type": "code",
   "execution_count": null,
   "id": "6e68f912",
   "metadata": {},
   "outputs": [],
   "source": [
    "irf_site = 1 # 0 or 1"
   ]
  },
  {
   "cell_type": "code",
   "execution_count": null,
   "id": "7339a497",
   "metadata": {},
   "outputs": [],
   "source": [
    "irf_name = f'{cfg.irf_loc[irf_site][irf_site]}_z{cfg.irf_z[0]}_{cfg.irf_h[1]}h'\n",
    "irf_name"
   ]
  },
  {
   "cell_type": "code",
   "execution_count": null,
   "id": "33e87703",
   "metadata": {},
   "outputs": [],
   "source": []
  },
  {
   "cell_type": "code",
   "execution_count": null,
   "id": "4e02b549",
   "metadata": {},
   "outputs": [],
   "source": [
    "src_jname = \"PSR J1826-1256\"  # Pulsar name based on J2000 coordinates;  \n",
    "src_id  = src_jname.replace(\" \", \"_\") # Name of identified or likely associated source"
   ]
  },
  {
   "cell_type": "code",
   "execution_count": null,
   "id": "29a209b0",
   "metadata": {},
   "outputs": [],
   "source": [
    "# src_jname = \"PSR J1826-1334\"  # Pulsar name based on J2000 coordinates;  \n",
    "# src_id  = src_jname.replace(\" \", \"_\") # Name of identified or likely associated source"
   ]
  },
  {
   "cell_type": "code",
   "execution_count": null,
   "id": "dfbd52c5",
   "metadata": {},
   "outputs": [],
   "source": [
    "file_name = f'{src_id}_{irf_name}'\n",
    "file_name"
   ]
  },
  {
   "cell_type": "code",
   "execution_count": null,
   "id": "85ea160e",
   "metadata": {},
   "outputs": [],
   "source": [
    "PSR_name_1 = f'CTA - {src_id}'\n",
    "path_file = f\"/home/born-again/Documents/GitHub/gammapy/my-notebooks/pulsars/{src_id}/flux_points/tables\"\n",
    "table_CTA_1 = Table.read(f\"{path_file}/{file_name}{cfg.format_csv}\",format='ascii', delimiter=' ', comment='#')\n",
    "# table_CTA_1"
   ]
  },
  {
   "cell_type": "code",
   "execution_count": null,
   "id": "674fa624",
   "metadata": {},
   "outputs": [],
   "source": [
    "PSR_name_2 = 'CTA - PSR J1826-1256'\n",
    "path_file = \"flux_points_tables/PSR_J1826-1256_CTA_simulations\"\n",
    "table_CTA_2 = Table.read(f\"{path_file}/CTA_J1826-1256_South_z20_5h.csv\",format='ascii', delimiter=' ', comment='#')\n",
    "# table_CTA_1"
   ]
  },
  {
   "cell_type": "code",
   "execution_count": null,
   "id": "20736300",
   "metadata": {},
   "outputs": [],
   "source": [
    "source_name = f'CTA simulations - {src_id}'\n",
    "\n",
    "dataset_CTA = ds_fp_from_table_fp(table_CTA_1, sky_model)"
   ]
  },
  {
   "cell_type": "code",
   "execution_count": null,
   "id": "53f87b57",
   "metadata": {},
   "outputs": [],
   "source": [
    "datasets_CTA = []\n",
    "datasets_CTA = ds_fp_HESS137\n",
    "datasets_CTA.append(dataset_CTA)"
   ]
  },
  {
   "cell_type": "code",
   "execution_count": null,
   "id": "13fa1c97",
   "metadata": {},
   "outputs": [],
   "source": [
    "datasets = Datasets(datasets_CTA)\n",
    "\n",
    "CTA = 1\n",
    "CTA_plot = False\n",
    "spectral_plot = True\n",
    "loc_legend = 'lower left'\n",
    "leg_out = True\n",
    "bbox_to_anchor=(0, -0.45)\n",
    "energy_bounds = [1e-4, 1e3] * u.TeV\n",
    "ylim = [1e-15, 1e-9]\n",
    "\n",
    "leg_out = True\n",
    "bbox_to_anchor=(0, -0.45)\n",
    "loc_legend = 'lower left'\n",
    "ncol = 3\n",
    "\n",
    "SED_fp(\n",
    "    datasets = datasets,\n",
    "    spectral_model=spectral_model, \n",
    "    sed_type = \"e2dnde\", \n",
    "    yaxis_units=\"erg cm-2 s-1\", \n",
    "    energy_bounds=energy_bounds, \n",
    "    ylim=ylim)"
   ]
  },
  {
   "cell_type": "code",
   "execution_count": null,
   "id": "ed47a741",
   "metadata": {},
   "outputs": [],
   "source": []
  },
  {
   "cell_type": "markdown",
   "id": "0dafe468",
   "metadata": {},
   "source": [
    "<a id='3.2'></a>\n",
    "🔝 [Back to Top](#intro)<br>\n",
    "#### 3.2 LHASSO Data Published in the Nature (2021)"
   ]
  },
  {
   "cell_type": "code",
   "execution_count": null,
   "id": "e044d374",
   "metadata": {},
   "outputs": [],
   "source": [
    "path_fp_LHAASO = \"/home/born-again/Documents/GitHub/grupo_AAE/data_access_and_selection(DL3)/flux_points_tables/LHASSOColaboration_publishNature_2021\""
   ]
  },
  {
   "cell_type": "code",
   "execution_count": null,
   "id": "9dffbfb3",
   "metadata": {},
   "outputs": [],
   "source": [
    "# import numpy as np\n",
    "# from astropy import units as u\n",
    "from astropy.table import Table\n",
    "# from gammapy.utils.scripts import make_path\n",
    "\n",
    "file_name = 'J1825_KM2A_201209'\n",
    "table_J1825 =  LHAASO_table_to_SED_format(path_fp_LHAASO, file_name)\n",
    "table_J1825_copy = Table(table_J1825, copy=True)"
   ]
  },
  {
   "cell_type": "code",
   "execution_count": null,
   "id": "e907516f",
   "metadata": {
    "scrolled": true
   },
   "outputs": [],
   "source": [
    "# file_name = 'J1908_KM2A_201209'\n",
    "# table_J1908 =  LHAASO_table_to_SED_format(path_fp_LHAASO, file_name)\n",
    "# table_J1908_copy = Table(table_J1908, copy=True)\n",
    "# table_J1908_copy"
   ]
  },
  {
   "cell_type": "code",
   "execution_count": null,
   "id": "5fc8e912",
   "metadata": {},
   "outputs": [],
   "source": [
    "# file_name = 'J2228_KM2A_201209'\n",
    "# table_J2226 =  LHAASO_table_to_SED_format(path_fp_LHAASO, file_name)\n",
    "# table_J2226_copy = Table(table_J2226, copy=True)\n",
    "# table_J2226_copy"
   ]
  },
  {
   "cell_type": "code",
   "execution_count": null,
   "id": "7534ea8b",
   "metadata": {},
   "outputs": [],
   "source": [
    "from gammapy.estimators import FluxPoints\n",
    "\n",
    "source_name = \"LHAASO J1825-1326\"\n",
    "dataset_J1825 = ds_fp_from_table_fp(table_J1825_copy, sky_model)"
   ]
  },
  {
   "cell_type": "code",
   "execution_count": null,
   "id": "dd71363d",
   "metadata": {},
   "outputs": [],
   "source": [
    "datasets_J1825 = []\n",
    "len(counterparts_datasets)"
   ]
  },
  {
   "cell_type": "code",
   "execution_count": null,
   "id": "a90e6c83",
   "metadata": {},
   "outputs": [],
   "source": [
    "datasets_J1825 = []\n",
    "datasets_J1825 = counterparts_datasets\n",
    "datasets_J1825.append(dataset_J1825)"
   ]
  },
  {
   "cell_type": "code",
   "execution_count": null,
   "id": "b24f0f01",
   "metadata": {},
   "outputs": [],
   "source": []
  },
  {
   "cell_type": "code",
   "execution_count": null,
   "id": "92456b93",
   "metadata": {},
   "outputs": [],
   "source": [
    "for index, dataset in enumerate(datasets_J1825):\n",
    "    print(f'{index}: {dataset.name} flux points table') "
   ]
  },
  {
   "cell_type": "code",
   "execution_count": null,
   "id": "2f2a830b",
   "metadata": {},
   "outputs": [],
   "source": []
  },
  {
   "cell_type": "code",
   "execution_count": null,
   "id": "ddc3c534",
   "metadata": {},
   "outputs": [],
   "source": [
    "datasets = Datasets(datasets_J1825)"
   ]
  },
  {
   "cell_type": "code",
   "execution_count": null,
   "id": "80611a42",
   "metadata": {},
   "outputs": [],
   "source": [
    "from gammapy.modeling import Fit\n",
    "\n",
    "datasets.models = sky_model_in\n",
    "print(datasets)\n",
    "fitter = Fit()\n",
    "result_fit = fitter.run(datasets=datasets)"
   ]
  },
  {
   "cell_type": "code",
   "execution_count": null,
   "id": "b4019f1b",
   "metadata": {},
   "outputs": [],
   "source": [
    "print(result_fit.parameters.to_table())"
   ]
  },
  {
   "cell_type": "code",
   "execution_count": null,
   "id": "20eda6cf",
   "metadata": {},
   "outputs": [],
   "source": [
    "print(sky_model_in.spectral_model)"
   ]
  },
  {
   "cell_type": "code",
   "execution_count": null,
   "id": "007c4ac9",
   "metadata": {},
   "outputs": [],
   "source": [
    "CTA = 1\n",
    "CTA_plot = False\n",
    "spectral_plot = True\n",
    "\n",
    "energy_bounds = [1e-4, 3e3] * u.TeV\n",
    "ylim = [1e-17, 1e-7]\n",
    "\n",
    "leg_out = True\n",
    "loc_legend = 'lower left'\n",
    "bbox_to_anchor=(0, -0.45)\n",
    "ncol = 3\n",
    "\n",
    "SED_fp(\n",
    "    datasets = datasets,\n",
    "    spectral_model=sky_model_in.spectral_model, \n",
    "    sed_type = \"e2dnde\", \n",
    "    yaxis_units=\"erg cm-2 s-1\", \n",
    "    energy_bounds=energy_bounds, \n",
    "    ylim=ylim)"
   ]
  },
  {
   "cell_type": "code",
   "execution_count": null,
   "id": "26540c01",
   "metadata": {},
   "outputs": [],
   "source": []
  },
  {
   "cell_type": "code",
   "execution_count": null,
   "id": "3292c9c6",
   "metadata": {},
   "outputs": [],
   "source": []
  },
  {
   "cell_type": "code",
   "execution_count": null,
   "id": "e890e7e2",
   "metadata": {},
   "outputs": [],
   "source": []
  },
  {
   "cell_type": "code",
   "execution_count": null,
   "id": "6bdcd9e9",
   "metadata": {},
   "outputs": [],
   "source": []
  },
  {
   "cell_type": "code",
   "execution_count": null,
   "id": "5c160079",
   "metadata": {},
   "outputs": [],
   "source": []
  },
  {
   "cell_type": "code",
   "execution_count": null,
   "id": "323bba2c",
   "metadata": {},
   "outputs": [],
   "source": []
  },
  {
   "cell_type": "markdown",
   "id": "88929519",
   "metadata": {},
   "source": [
    "<a id='3.2'></a>\n",
    "🔝 [Back to Top](#intro)<br>\n",
    "#### 3.2 CTA Simulations"
   ]
  },
  {
   "cell_type": "code",
   "execution_count": null,
   "id": "2baeb155",
   "metadata": {},
   "outputs": [],
   "source": [
    "irf_site = 1 # 0 or 1"
   ]
  },
  {
   "cell_type": "code",
   "execution_count": null,
   "id": "f5c1be3b",
   "metadata": {},
   "outputs": [],
   "source": [
    "irf_name = f'{cfg.irf_loc[irf_site][irf_site]}_z{cfg.irf_z[0]}_{cfg.irf_h[1]}h'\n",
    "irf_name"
   ]
  },
  {
   "cell_type": "code",
   "execution_count": null,
   "id": "72beebf0",
   "metadata": {},
   "outputs": [],
   "source": [
    "# src_jname = \"PSR J1826-1256\"  # Pulsar name based on J2000 coordinates;  \n",
    "# src_id  = src_jname.replace(\" \", \"_\") # Name of identified or likely associated source\n",
    "\n",
    "src_jname = \"PSR J1826-1334\"  # Pulsar name based on J2000 coordinates;  \n",
    "src_id  = src_jname.replace(\" \", \"_\") # Name of identified or likely associated source"
   ]
  },
  {
   "cell_type": "code",
   "execution_count": null,
   "id": "df45fad6",
   "metadata": {},
   "outputs": [],
   "source": [
    "file_name = f\"{src_id}_{irf_name}\"\n",
    "file_name"
   ]
  },
  {
   "cell_type": "code",
   "execution_count": null,
   "id": "0ac41cd0",
   "metadata": {},
   "outputs": [],
   "source": [
    "PSR_name_1 = f'CTA - {src_id}'\n",
    "path_file = f\"/home/born-again/Documents/GitHub/gammapy/my-notebooks/pulsars/{src_id}/flux_points/tables\"\n",
    "table_CTA_1 = Table.read(f\"{path_file}/{file_name}{cfg.format_csv}\",format='ascii', delimiter=' ', comment='#')\n",
    "# table_CTA_1"
   ]
  },
  {
   "cell_type": "code",
   "execution_count": null,
   "id": "52e19426",
   "metadata": {},
   "outputs": [],
   "source": [
    "PSR_name_2 = 'CTA - PSR J1826-1256'\n",
    "path_file = \"flux_points_tables/PSR_J1826-1256_CTA_simulations\"\n",
    "table_CTA_2 = Table.read(f\"{path_file}/CTA_J1826-1256_South_z20_5h.csv\",format='ascii', delimiter=' ', comment='#')\n",
    "# table_CTA_1"
   ]
  },
  {
   "cell_type": "code",
   "execution_count": null,
   "id": "68416844",
   "metadata": {},
   "outputs": [],
   "source": [
    "source_name = 'CTA simulations - PSR J1826-1334'\n",
    "\n",
    "dataset_CTA = ds_fp_from_table_fp(table_CTA_1, sky_model)"
   ]
  },
  {
   "cell_type": "code",
   "execution_count": null,
   "id": "921e2a35",
   "metadata": {},
   "outputs": [],
   "source": [
    "datasets_CTA = []\n",
    "datasets_CTA = datasets_J1825\n",
    "datasets_CTA.append(dataset_CTA)"
   ]
  },
  {
   "cell_type": "code",
   "execution_count": null,
   "id": "ccb6c3d3",
   "metadata": {},
   "outputs": [],
   "source": []
  },
  {
   "cell_type": "code",
   "execution_count": null,
   "id": "5336cb76",
   "metadata": {},
   "outputs": [],
   "source": []
  },
  {
   "cell_type": "code",
   "execution_count": null,
   "id": "3b180893",
   "metadata": {},
   "outputs": [],
   "source": [
    "source_name = 'CTA simulations - PSR J1826-1334'\n",
    "ds_fp_HESS137.append(ds_fp_from_table_fp(table_CTA_1, sky_model))"
   ]
  },
  {
   "cell_type": "code",
   "execution_count": null,
   "id": "005697d3",
   "metadata": {},
   "outputs": [],
   "source": [
    "from astropy import units as u\n",
    "\n",
    "from gammapy.modeling import Fit\n",
    "from gammapy.modeling.models import (\n",
    "    Models,\n",
    "    SuperExpCutoffPowerLaw4FGLDR3SpectralModel,\n",
    "    ExpCutoffPowerLawSpectralModel,\n",
    "    LogParabolaSpectralModel,\n",
    "    PowerLawSpectralModel,\n",
    "    SkyModel,\n",
    ")"
   ]
  },
  {
   "cell_type": "code",
   "execution_count": null,
   "id": "db830844",
   "metadata": {},
   "outputs": [],
   "source": []
  },
  {
   "cell_type": "code",
   "execution_count": null,
   "id": "667b6a74",
   "metadata": {
    "scrolled": true
   },
   "outputs": [],
   "source": [
    "energy_bounds = [1e-5, 3e2] * u.TeV\n",
    "ylim = [1e-17, 1e-7]"
   ]
  },
  {
   "cell_type": "code",
   "execution_count": null,
   "id": "8c942361",
   "metadata": {},
   "outputs": [],
   "source": [
    "def plot_SED():\n",
    "#     plt.style.use(['science', 'notebook', 'grid'])\n",
    "\n",
    "    plt.figure(figsize=(8,6))\n",
    "\n",
    "    ax = spectral_model.plot(energy_bounds, sed_type=\"e2dnde\", color=\"red\")\n",
    "    ax = spectral_model.plot_error(energy_bounds, sed_type=\"e2dnde\")\n",
    "    flux_points.plot(\n",
    "        ax=ax,\n",
    "        sed_type=\"e2dnde\"\n",
    "    )\n",
    "    ax.text(0.02, .94, source_name, transform=ax.transAxes, bbox=dict(facecolor='white', edgecolor='black'), size=13)\n",
    "\n",
    "    ax.set_ylim(ylim)\n",
    "    ax.set_xlim(energy_bounds)\n",
    "\n",
    "    # plt.title(f\"{source_name}: {counterpart_name}\")\n",
    "    plt.legend([spectral_model_tag, \"Error\", f\"{counterpart_name} - {catalog_tag}\"], facecolor='white', edgecolor='black',  loc='upper right', prop={'size': 8})\n",
    "    plt.xlabel(\"Energy (TeV)\")   \n",
    "    plt.ylabel(r\"$E^{2}$dN/dE (erg $cm^{-2}$ $s^{-1}$)\")\n",
    "    plt.savefig(file_path, bbox_inches='tight')\n",
    "    \n",
    "    plt.show()"
   ]
  },
  {
   "cell_type": "code",
   "execution_count": null,
   "id": "ea390ed4",
   "metadata": {},
   "outputs": [],
   "source": []
  },
  {
   "cell_type": "code",
   "execution_count": null,
   "id": "cca14f2a",
   "metadata": {},
   "outputs": [],
   "source": [
    "\n",
    "\n",
    "for catalog in catalogs_roi: \n",
    "            \n",
    "    # to select a catalog:\n",
    "    catalog_tag = catalog.tag\n",
    "    # print(catalog)\n",
    "    \n",
    "    for index, source in enumerate(catalog):\n",
    "        \n",
    "        try:\n",
    "            flux_points = source.flux_points\n",
    "\n",
    "            # Gammapy sky model object:\n",
    "            sky_model = source.sky_model()\n",
    "\n",
    "            # Gammapy spatial model object:\n",
    "            spatial_model = source.spatial_model\n",
    "\n",
    "            # Gammapy spectral model object:\n",
    "            spectral_model = source.spectral_model()\n",
    "            spectral_model_tag = spectral_model.tag[0]\n",
    "            spectral_model_tag_short = spectral_model.tag[0]\n",
    "\n",
    "        #     file_name = f'{source_name}_{counterpart_txt}_{catalog_tag}_{spectral_model_tag_short}.png'\n",
    "            file_name = f'{source_name}_{catalog_tag}_{spectral_model_tag_short}.png'\n",
    "\n",
    "            file_path = path_SED_from_catalogs / file_name \n",
    "\n",
    "            plot_SED()\n",
    "\n",
    "        #     print(f'{source_txt}_{counterpart_txt}_{catalog_tag}_{spectral_model_tag_short}:')\n",
    "\n",
    "            print(spectral_model.parameters.to_table())\n",
    "            \n",
    "        except Exception as error:\n",
    "           # By this way we can know about the type of error occurring\n",
    "            print(\"The error is: \",error)"
   ]
  },
  {
   "cell_type": "code",
   "execution_count": null,
   "id": "8fa71b31",
   "metadata": {},
   "outputs": [],
   "source": []
  },
  {
   "cell_type": "code",
   "execution_count": null,
   "id": "99ce3190",
   "metadata": {},
   "outputs": [],
   "source": []
  },
  {
   "cell_type": "markdown",
   "id": "9f301e7e",
   "metadata": {},
   "source": [
    "## LHAASO J1825-1326"
   ]
  },
  {
   "cell_type": "code",
   "execution_count": null,
   "id": "11fe81ee",
   "metadata": {},
   "outputs": [],
   "source": [
    "unit_deg = 'deg'\n",
    "source_name = \"LHAASO J1825-1326\"  # Source name based on J2000 coordinates  \n",
    "source_RA = 276.45 # Right ascension \n",
    "source_dec = -13.45 # Declination (degrees)\n",
    "angle_separation = 1 # (in degrees) "
   ]
  },
  {
   "cell_type": "code",
   "execution_count": null,
   "id": "61975699",
   "metadata": {
    "scrolled": true
   },
   "outputs": [],
   "source": [
    "counterparts, counterparts_datasets = get_flux_points_tables(source_name, source_RA, source_dec, angle_separation)        "
   ]
  },
  {
   "cell_type": "code",
   "execution_count": null,
   "id": "2eadb319",
   "metadata": {
    "scrolled": false
   },
   "outputs": [],
   "source": [
    "display(counterparts_datasets)"
   ]
  },
  {
   "cell_type": "code",
   "execution_count": null,
   "id": "3b6fda94",
   "metadata": {},
   "outputs": [],
   "source": [
    "datasets = Datasets(counterparts_datasets)"
   ]
  },
  {
   "cell_type": "code",
   "execution_count": null,
   "id": "891b0555",
   "metadata": {},
   "outputs": [],
   "source": []
  },
  {
   "cell_type": "code",
   "execution_count": null,
   "id": "be96e45b",
   "metadata": {},
   "outputs": [],
   "source": [
    "spectral_model =  LogParabolaSpectralModel(\n",
    "    alpha=0.92,\n",
    "    amplitude=\"1e-12 cm-2 s-1 TeV-1\",\n",
    "    reference=1 * u.TeV,\n",
    "    beta=1.19,\n",
    ")\n",
    "spectral_model_name=spectral_model.tag[0]\n",
    "\n",
    "sky_model = SkyModel(spectral_model=spectral_model, name=spectral_model_name)"
   ]
  },
  {
   "cell_type": "code",
   "execution_count": null,
   "id": "89f79e0d",
   "metadata": {},
   "outputs": [],
   "source": []
  },
  {
   "cell_type": "code",
   "execution_count": null,
   "id": "c9cd6d1b",
   "metadata": {},
   "outputs": [],
   "source": [
    "kwargs_axis = {\"units\": [\"TeV cm-2 s-1\", \"TeV\"],\n",
    "                \"limits\": [[1e-5, 1e2] * u.TeV, \n",
    "                          [1e-13, 1e-9]],  \n",
    "               }\n",
    "    \n",
    "kwargs_legend = {\"loc\": \"\",\n",
    "                  \"ncol\": ,  \n",
    "                  \n",
    "               }"
   ]
  },
  {
   "cell_type": "code",
   "execution_count": null,
   "id": "b675a49b",
   "metadata": {},
   "outputs": [],
   "source": [
    "CTA = 1\n",
    "CTA_plot = False\n",
    "spectral_plot = False\n",
    "\n",
    "energy_bounds = [1e-5, 3e2] * u.TeV\n",
    "ylim = [1e-17, 1e-7]\n",
    "\n",
    "leg_out = True\n",
    "loc_legend = 'lower left'\n",
    "bbox_to_anchor=(0, -0.45)\n",
    "ncol = 3\n",
    "\n",
    "SED_fp(\n",
    "    datasets = datasets,\n",
    "    spectral_model=spectral_model, \n",
    "    sed_type = \"e2dnde\", \n",
    "    yaxis_units=\"erg cm-2 s-1\", \n",
    "    energy_bounds=energy_bounds, \n",
    "    ylim=ylim)"
   ]
  },
  {
   "cell_type": "code",
   "execution_count": null,
   "id": "22a9275d",
   "metadata": {
    "scrolled": false
   },
   "outputs": [],
   "source": [
    "for index, dataset in enumerate(counterparts_datasets):\n",
    "    print(f'{index}: {dataset.name} flux points table') "
   ]
  },
  {
   "cell_type": "code",
   "execution_count": null,
   "id": "d1aea8ef",
   "metadata": {},
   "outputs": [],
   "source": [
    "ds_fp_HESS137 = [counterparts_datasets[1],counterparts_datasets[2],counterparts_datasets[4],counterparts_datasets[5],counterparts_datasets[7], counterparts_datasets[8], counterparts_datasets[9],counterparts_datasets[12],counterparts_datasets[13],counterparts_datasets[14]]"
   ]
  },
  {
   "cell_type": "code",
   "execution_count": null,
   "id": "4232823e",
   "metadata": {},
   "outputs": [],
   "source": []
  },
  {
   "cell_type": "code",
   "execution_count": null,
   "id": "af684547",
   "metadata": {},
   "outputs": [],
   "source": [
    "ds_fp_HESS137 = [counterparts_datasets[1],counterparts_datasets[2],counterparts_datasets[5], counterparts_datasets[9],counterparts_datasets[14]]"
   ]
  },
  {
   "cell_type": "code",
   "execution_count": null,
   "id": "82e7fe98",
   "metadata": {},
   "outputs": [],
   "source": [
    "for index, dataset in enumerate(ds_fp_HESS137):\n",
    "    print(f'{index}: {dataset.name} flux points table') "
   ]
  },
  {
   "cell_type": "code",
   "execution_count": null,
   "id": "a2749736",
   "metadata": {},
   "outputs": [],
   "source": [
    "datasets = Datasets(ds_fp_HESS137)\n",
    "CTA = 1\n",
    "CTA_plot = False\n",
    "spectral_plot = False\n",
    "loc_legend = 'lower left'\n",
    "leg_out = True\n",
    "bbox_to_anchor=(0, -0.45)\n",
    "energy_bounds = [1e-4, 1e2] * u.TeV\n",
    "ylim = [1e-13, 1e-9]\n",
    "\n",
    "leg_out = True\n",
    "bbox_to_anchor=(0, -0.45)\n",
    "loc_legend = 'lower left'\n",
    "ncol = 3\n",
    "\n",
    "SED_fp(\n",
    "    datasets = datasets,\n",
    "    spectral_model=spectral_model, \n",
    "    sed_type = \"e2dnde\", \n",
    "    yaxis_units=\"erg cm-2 s-1\", \n",
    "    energy_bounds=energy_bounds, \n",
    "    ylim=ylim)"
   ]
  },
  {
   "cell_type": "code",
   "execution_count": null,
   "id": "7acb5346",
   "metadata": {},
   "outputs": [],
   "source": []
  },
  {
   "cell_type": "code",
   "execution_count": null,
   "id": "60d6e386",
   "metadata": {
    "scrolled": true
   },
   "outputs": [],
   "source": [
    "source_name = \"LHAASO J1825-1326\"\n",
    "ds_fp_HESS137.append(ds_fp_from_table_fp(table_J1825_copy, sky_model))"
   ]
  },
  {
   "cell_type": "code",
   "execution_count": null,
   "id": "5817819a",
   "metadata": {},
   "outputs": [],
   "source": [
    "for index, dataset in enumerate(ds_fp_HESS137):\n",
    "    print(f'{index}: {dataset.name} flux points table') "
   ]
  },
  {
   "cell_type": "code",
   "execution_count": null,
   "id": "cb04800b",
   "metadata": {},
   "outputs": [],
   "source": []
  },
  {
   "cell_type": "markdown",
   "id": "2431dd1e",
   "metadata": {},
   "source": [
    "<a id='3.2'></a>\n",
    "🔝 [Back to Top](#intro)<br>\n",
    "#### 3.2 CTA Simulations"
   ]
  },
  {
   "cell_type": "code",
   "execution_count": null,
   "id": "153959a7",
   "metadata": {},
   "outputs": [],
   "source": [
    "PSR_name_1 = 'CTA - PSR J1826-1334'\n",
    "PSR_name_2 = 'CTA - PSR J1826-1256'\n",
    "table_CTA_1 = Table.read('CTA_J1826-1334_South_z20_5h.csv',format='ascii', delimiter=' ', comment='#')\n",
    "# table_CTA_1\n",
    "table_CTA_2 = Table.read('CTA_J1826-1256_South_z20_5h.csv',format='ascii', delimiter=' ', comment='#')\n",
    "# table_CTA_1"
   ]
  },
  {
   "cell_type": "code",
   "execution_count": null,
   "id": "d217fe52",
   "metadata": {},
   "outputs": [],
   "source": [
    "source_name = 'CTA simulations - PSR J1826-1334'\n",
    "ds_fp_HESS137.append(ds_fp_from_table_fp(table_CTA_1, sky_model))"
   ]
  },
  {
   "cell_type": "code",
   "execution_count": null,
   "id": "7f4348dc",
   "metadata": {},
   "outputs": [],
   "source": [
    "for index, dataset in enumerate(ds_fp_HESS137):\n",
    "    print(f'{index}: {dataset.name} flux points table') "
   ]
  },
  {
   "cell_type": "code",
   "execution_count": null,
   "id": "efbce491",
   "metadata": {},
   "outputs": [],
   "source": [
    "datasets = Datasets(ds_fp_HESS137)\n",
    "CTA = 1\n",
    "CTA_plot = False\n",
    "spectral_plot = True\n",
    "loc_legend = 'lower left'\n",
    "leg_out = False\n",
    "bbox_to_anchor=(0, -0.45)\n",
    "energy_bounds = [1e-4, 1e3] * u.TeV\n",
    "ylim = [1e-15, 1e-9]\n",
    "\n",
    "leg_out = False\n",
    "bbox_to_anchor=(0, -0.45)\n",
    "loc_legend = 'lower left'\n",
    "ncol = 3\n",
    "\n",
    "SED_fp(\n",
    "    datasets = datasets,\n",
    "    spectral_model=spectral_model, \n",
    "    sed_type = \"e2dnde\", \n",
    "    yaxis_units=\"erg cm-2 s-1\", \n",
    "    energy_bounds=energy_bounds, \n",
    "    ylim=ylim)"
   ]
  },
  {
   "cell_type": "code",
   "execution_count": null,
   "id": "30a3767f",
   "metadata": {},
   "outputs": [],
   "source": [
    "datasets.models = sky_model\n",
    "print(datasets)\n",
    "fitter_cut = Fit()\n",
    "result_fit_cut = fitter_cut.run(datasets=datasets)"
   ]
  },
  {
   "cell_type": "code",
   "execution_count": null,
   "id": "f5163a04",
   "metadata": {},
   "outputs": [],
   "source": []
  },
  {
   "cell_type": "code",
   "execution_count": null,
   "id": "34aabed0",
   "metadata": {},
   "outputs": [],
   "source": [
    "spectral_model_CTA =  LogParabolaSpectralModel(\n",
    "    alpha=2.294,\n",
    "    amplitude=\"9.7397e-13 cm-2 s-1 TeV-1\",\n",
    "    reference=1 * u.TeV,\n",
    "    beta=0.5,\n",
    ")\n",
    "spectral_model_name=spectral_model.tag[0]\n",
    "\n",
    "sky_model_CTA = SkyModel(spectral_model=spectral_model_CTA, name=spectral_model_name)"
   ]
  },
  {
   "cell_type": "code",
   "execution_count": null,
   "id": "78d8c9cc",
   "metadata": {},
   "outputs": [],
   "source": [
    "CTA = 1\n",
    "CTA_plot = False\n",
    "spectral_plot = True\n",
    "loc_legend = 'lower left'\n",
    "leg_out = False\n",
    "bbox_to_anchor=(0, -0.45)\n",
    "energy_bounds = [1e-4, 1e3] * u.TeV\n",
    "ylim = [1e-14, 1e-8]\n",
    "\n",
    "leg_out = False\n",
    "bbox_to_anchor=(0, -0.45)\n",
    "loc_legend = 'upper center'\n",
    "ncol = 3\n",
    "\n",
    "SED_fp(\n",
    "    datasets = datasets,\n",
    "    spectral_model=spectral_model, \n",
    "    sed_type = \"e2dnde\", \n",
    "    yaxis_units=\"erg cm-2 s-1\", \n",
    "    energy_bounds=energy_bounds, \n",
    "    ylim=ylim)"
   ]
  },
  {
   "cell_type": "code",
   "execution_count": null,
   "id": "5175c324",
   "metadata": {},
   "outputs": [],
   "source": [
    "print(result_fit_cut.parameters.to_table())"
   ]
  },
  {
   "cell_type": "code",
   "execution_count": null,
   "id": "7b3d04e1",
   "metadata": {},
   "outputs": [],
   "source": []
  },
  {
   "cell_type": "code",
   "execution_count": null,
   "id": "147abf19",
   "metadata": {},
   "outputs": [],
   "source": [
    "CTA = 1\n",
    "CTA_plot = True\n",
    "spectral_plot = True\n",
    "loc_legend = 'lower left'\n",
    "leg_out = False\n",
    "bbox_to_anchor=(0, -0.45)\n",
    "energy_bounds = [1e-4, 1e3] * u.TeV\n",
    "ylim = [1e-14, 1e-9]\n",
    "\n",
    "leg_out = False\n",
    "bbox_to_anchor=(0, -0.45)\n",
    "loc_legend = 'lower center'\n",
    "ncol = 3\n",
    "\n",
    "SED_fp(\n",
    "    datasets = datasets,\n",
    "    spectral_model=spectral_model, \n",
    "    sed_type = \"e2dnde\", \n",
    "    yaxis_units=\"erg cm-2 s-1\", \n",
    "    energy_bounds=energy_bounds, \n",
    "    ylim=ylim)"
   ]
  },
  {
   "cell_type": "code",
   "execution_count": null,
   "id": "f9795d38",
   "metadata": {},
   "outputs": [],
   "source": []
  },
  {
   "cell_type": "markdown",
   "id": "6446c444",
   "metadata": {},
   "source": [
    "<a id='3.2'></a>\n",
    "🔝 [Back to Top](#intro)<br>\n",
    "#### 3.2 CTA Simulations"
   ]
  },
  {
   "cell_type": "code",
   "execution_count": null,
   "id": "63240a66",
   "metadata": {},
   "outputs": [],
   "source": [
    "PSR_name_1 = 'CTA - PSR J1826-1334'\n",
    "PSR_name_2 = 'CTA - PSR J1826-1256'\n",
    "table_CTA_1 = Table.read('CTA_J1826-1334_South_z20_5h.csv',format='ascii', delimiter=' ', comment='#')\n",
    "# table_CTA_1\n",
    "table_CTA_2 = Table.read('CTA_J1826-1256_South_z20_5h.csv',format='ascii', delimiter=' ', comment='#')\n",
    "# table_CTA_1"
   ]
  },
  {
   "cell_type": "code",
   "execution_count": null,
   "id": "c1409c79",
   "metadata": {
    "scrolled": true
   },
   "outputs": [],
   "source": [
    "fp_CTA = FluxPoints.from_table(table = table_CTA_1, sed_type='e2dnde')"
   ]
  },
  {
   "cell_type": "code",
   "execution_count": null,
   "id": "0f00fa0e",
   "metadata": {},
   "outputs": [],
   "source": [
    "datasets_CTA = []\n",
    "ds_name = \"CTA simulation - PSR J1826-1334\"\n",
    "ds = FluxPointsDataset(\n",
    "    models = sky_model_CTA,\n",
    "    data   = fp_CTA, \n",
    "    name   = ds_name\n",
    ")\n",
    "datasets_CTA.append(ds)"
   ]
  },
  {
   "cell_type": "code",
   "execution_count": null,
   "id": "c2e0d44c",
   "metadata": {},
   "outputs": [],
   "source": [
    "ds_CTA = Datasets(datasets_CTA)\n",
    "ds_CTA.models = sky_model_CTA\n",
    "# print(datasets)\n",
    "fitter_cut_2 = Fit()\n",
    "result_fit_cut = fitter_cut_2.run(datasets=ds_CTA)"
   ]
  },
  {
   "cell_type": "code",
   "execution_count": null,
   "id": "276a5fe6",
   "metadata": {},
   "outputs": [],
   "source": [
    "CTA = 1\n",
    "CTA_plot = False\n",
    "spectral_plot = True\n",
    "loc_legend = 'lower left'\n",
    "leg_out = True\n",
    "bbox_to_anchor=(0, -0.45)\n",
    "energy_bounds = [8e-2, 2e1] * u.TeV\n",
    "ylim = [1e-14, 1e-11]\n",
    "\n",
    "leg_out = False\n",
    "bbox_to_anchor=(0, -0.45)\n",
    "loc_legend = 'upper right'\n",
    "ncol = 1\n",
    "\n",
    "SED_fp(\n",
    "    datasets = ds_CTA,\n",
    "    spectral_model=spectral_model, \n",
    "    sed_type = \"e2dnde\", \n",
    "    yaxis_units=\"erg cm-2 s-1\", \n",
    "    energy_bounds=energy_bounds, \n",
    "    ylim=ylim)"
   ]
  },
  {
   "cell_type": "code",
   "execution_count": null,
   "id": "8e7fd530",
   "metadata": {
    "scrolled": true
   },
   "outputs": [],
   "source": [
    "print(result_fit_cut.parameters.to_table())"
   ]
  },
  {
   "cell_type": "code",
   "execution_count": null,
   "id": "2ec9af23",
   "metadata": {},
   "outputs": [],
   "source": [
    "spectral_model_CTA.plot(energy_bounds)"
   ]
  },
  {
   "cell_type": "code",
   "execution_count": null,
   "id": "e41f855e",
   "metadata": {},
   "outputs": [],
   "source": [
    "\n",
    "\n",
    "def print_sensitivity():\n",
    "    fig, axes = plt.subplots(figsize=(5, 3))\n",
    "    axes.set_ylim(ylim)\n",
    "    axes.set_xlim(energy_bounds)\n",
    "    axes.yaxis.set_units(u.Unit(\"erg cm-2 s-1\"))\n",
    "    axes.xaxis.set_units(u.Unit(\"TeV\"))\n",
    "    \n",
    "    axes.plot(table_sens_1[\"energy\"], table_sens_1[\"e2dnde\"],linestyle=':', marker=4, markersize=0, color='purple', label=label_1)\n",
    "    axes.plot(table_sens_2[\"energy\"], table_sens_2[\"e2dnde\"], linestyle='solid', marker=4, markersize=0, color='turquoise', label=label_2)\n",
    "    axes.plot(table_sens_3[\"energy\"], table_sens_3[\"e2dnde\"], linestyle='dashdot', marker=4, markersize=0, color='lime', label=label_3)\n",
    "\n",
    "    axes.loglog()\n",
    "    \n",
    "    plt.xlabel(r'$\\rm{E\\ [TeV] }$')   \n",
    "    plt.ylabel(r'$\\rm{Sensitivity\\ [erg\\ cm^{-2}\\ s^{-1}] }$')\n",
    "    leg = axes.legend()\n",
    "    leg.set_title('Instrument Response Function')\n",
    "\n",
    "#     plt.legend()\n",
    "    plt.savefig(\"aaaa\", bbox_inches='tight')\n",
    "\n",
    "    return"
   ]
  },
  {
   "cell_type": "code",
   "execution_count": null,
   "id": "0afd0d68",
   "metadata": {},
   "outputs": [],
   "source": [
    "path_file_1 = \"CTA_J1826-1256_South_z20_5h.csv\"\n",
    "label_1 = \"South_z20_5h\"\n",
    "table_sens_1= Table.read(path_file_1,format='ascii', delimiter=' ', comment='#')\n",
    "path_file_2 = \"CTA_J1826-1256_South_z40_5h.csv\"\n",
    "label_2 = \"South_z40_5h\"\n",
    "table_sens_2= Table.read(path_file_2,format='ascii', delimiter=' ', comment='#')\n",
    "path_file_3 = \"CTA_J1826-1256_South_z60_5h.csv\"\n",
    "label_3 = \"South_z60_5h\"\n",
    "table_sens_3= Table.read(path_file_3,format='ascii', delimiter=' ', comment='#')"
   ]
  },
  {
   "cell_type": "code",
   "execution_count": null,
   "id": "e8be6755",
   "metadata": {},
   "outputs": [],
   "source": [
    "path_file_1 = \"CTA_J1826-1334_sensitivity_South_z20_0.5h.csv\"\n",
    "label_1 = \"South_z20_0.5h\"\n",
    "table_sens_1= Table.read(path_file_1,format='ascii', delimiter=' ', comment='#')\n",
    "path_file_2 = \"CTA_J1826-1334_sensitivity_South_z20_5h.csv\"\n",
    "label_2 = \"South_z20_5h\"\n",
    "table_sens_2= Table.read(path_file_2,format='ascii', delimiter=' ', comment='#')\n",
    "path_file_3 = \"CTA_J1826-1334_sensitivity_South_z20_50h.csv\"\n",
    "label_3 = \"South_z20_50h\"\n",
    "table_sens_3= Table.read(path_file_3,format='ascii', delimiter=' ', comment='#')"
   ]
  },
  {
   "cell_type": "code",
   "execution_count": null,
   "id": "50232373",
   "metadata": {
    "scrolled": false
   },
   "outputs": [],
   "source": [
    "energy_bounds = [1e-1, 1e2] \n",
    "ylim = [5e-14, 1e-11]\n",
    "\n",
    "name = f'sensitivitytime'\n",
    "print_sensitivity()"
   ]
  },
  {
   "cell_type": "code",
   "execution_count": null,
   "id": "1fd3c49a",
   "metadata": {},
   "outputs": [],
   "source": [
    "ds_fp_HESS137 = [counterparts_datasets[1],counterparts_datasets[2],counterparts_datasets[4],counterparts_datasets[5],counterparts_datasets[7], counterparts_datasets[8], counterparts_datasets[9],counterparts_datasets[12],counterparts_datasets[13],counterparts_datasets[14]]\n",
    "ds_fp_HESS137.append(ds_fp_from_table_fp(table_J1825_copy, sky_model))\n"
   ]
  },
  {
   "cell_type": "code",
   "execution_count": null,
   "id": "9098bdb0",
   "metadata": {},
   "outputs": [],
   "source": [
    "CTA = 1\n",
    "CTA_plot = False\n",
    "spectral_plot = True\n",
    "loc_legend = 'lower left'\n",
    "leg_out = True\n",
    "bbox_to_anchor=(0, -0.45)\n",
    "energy_bounds = [1e-5, 3e2] * u.TeV\n",
    "ylim = [1e-23, 1e-7]\n",
    "\n",
    "leg_out = True\n",
    "bbox_to_anchor=(0, -0.45)\n",
    "loc_legend = 'lower left'\n",
    "ncol = 3\n",
    "\n",
    "SED_fp(\n",
    "    datasets = ds_fp_HESS137,\n",
    "    spectral_model=spectral_model, \n",
    "    sed_type = \"e2dnde\", \n",
    "    yaxis_units=\"erg cm-2 s-1\", \n",
    "    energy_bounds=energy_bounds, \n",
    "    ylim=ylim)"
   ]
  },
  {
   "cell_type": "code",
   "execution_count": null,
   "id": "89ffcc59",
   "metadata": {},
   "outputs": [],
   "source": []
  },
  {
   "cell_type": "code",
   "execution_count": null,
   "id": "87ad9afe",
   "metadata": {},
   "outputs": [],
   "source": []
  },
  {
   "cell_type": "markdown",
   "id": "c40d5476",
   "metadata": {},
   "source": [
    "## LHAASO J1908+0621"
   ]
  },
  {
   "cell_type": "code",
   "execution_count": null,
   "id": "cb951f88",
   "metadata": {},
   "outputs": [],
   "source": [
    "unit_deg = 'deg'\n",
    "source_name = \"LHAASO J1908+0621\"  # Source name based on J2000 coordinates  \n",
    "source_RA = 287.05 # Right ascension \n",
    "source_dec = 6.35 # Declination (degrees)\n",
    "angle_separation = 1 # (in degrees) "
   ]
  },
  {
   "cell_type": "code",
   "execution_count": null,
   "id": "6cadc542",
   "metadata": {},
   "outputs": [],
   "source": []
  },
  {
   "cell_type": "code",
   "execution_count": null,
   "id": "785f28e7",
   "metadata": {
    "scrolled": false
   },
   "outputs": [],
   "source": [
    "counterparts, counterparts_datasets_2 = get_flux_points_tables(source_name, source_RA, source_dec, angle_separation)        "
   ]
  },
  {
   "cell_type": "code",
   "execution_count": null,
   "id": "542fc3ea",
   "metadata": {
    "scrolled": true
   },
   "outputs": [],
   "source": [
    "display(counterparts_datasets_2)"
   ]
  },
  {
   "cell_type": "code",
   "execution_count": null,
   "id": "b55de2c0",
   "metadata": {
    "scrolled": true
   },
   "outputs": [],
   "source": [
    "len(counterparts_datasets_2)"
   ]
  },
  {
   "cell_type": "code",
   "execution_count": null,
   "id": "a6157bd1",
   "metadata": {},
   "outputs": [],
   "source": [
    "# for i, ds in enumerate(dataset_J1825):\n",
    "#     print(i, ds.models.to_yaml)"
   ]
  },
  {
   "cell_type": "code",
   "execution_count": null,
   "id": "386b2dbe",
   "metadata": {},
   "outputs": [],
   "source": [
    "from astropy import units as u\n",
    "\n",
    "from gammapy.modeling import Fit\n",
    "from gammapy.modeling.models import (\n",
    "    Models,\n",
    "    SuperExpCutoffPowerLaw4FGLDR3SpectralModel,\n",
    "    ExpCutoffPowerLawSpectralModel,\n",
    "    LogParabolaSpectralModel,\n",
    "    PowerLawSpectralModel,\n",
    "    SkyModel,\n",
    ")\n",
    "spectral_model_2 =  LogParabolaSpectralModel(\n",
    "    alpha=0.2,\n",
    "    amplitude=\"1e-12 cm-2 s-1 TeV-1\",\n",
    "    reference=1 * u.TeV,\n",
    "    beta=1.46,\n",
    ")\n",
    "spectral_model_name=spectral_model.tag[0]\n",
    "\n",
    "sky_model_2 = SkyModel(spectral_model=spectral_model_2, name=spectral_model_name)"
   ]
  },
  {
   "cell_type": "code",
   "execution_count": null,
   "id": "f84b3d7e",
   "metadata": {},
   "outputs": [],
   "source": []
  },
  {
   "cell_type": "code",
   "execution_count": null,
   "id": "f00f721d",
   "metadata": {},
   "outputs": [],
   "source": [
    "from gammapy.datasets import FluxPointsDataset, Datasets\n",
    "datasets_2 = Datasets(counterparts_datasets_2)\n",
    "datasets_2.models = sky_model_2\n",
    "# print(datasets)\n",
    "fitter_cut_2 = Fit()\n",
    "result_fit_cut = fitter_cut_2.run(datasets=datasets_2)"
   ]
  },
  {
   "cell_type": "code",
   "execution_count": null,
   "id": "b6eab062",
   "metadata": {},
   "outputs": [],
   "source": [
    "CTA = 1\n",
    "CTA_plot = False\n",
    "spectral_plot = True\n",
    "loc_legend = 'lower left'\n",
    "energy_bounds = [1e-5, 3e2] * u.TeV\n",
    "ylim = [1e-23, 1e-7]\n",
    "\n",
    "loc_legend = 'lower left'\n",
    "ncol = 3\n",
    "\n",
    "SED_fp(\n",
    "    datasets = datasets_2,\n",
    "    spectral_model=spectral_model_2, \n",
    "    sed_type = \"e2dnde\", \n",
    "    yaxis_units=\"erg cm-2 s-1\", \n",
    "    energy_bounds=energy_bounds, \n",
    "    ylim=ylim)"
   ]
  },
  {
   "cell_type": "code",
   "execution_count": null,
   "id": "81c42514",
   "metadata": {},
   "outputs": [],
   "source": [
    "\n",
    "ax = plt.subplot()\n",
    "ax.yaxis.set_units(u.Unit(\"erg cm-2 s-1\"))\n",
    "ax.xaxis.set_units(u.Unit(\"TeV\"))\n",
    "\n",
    "kwargs = {\"ax\": ax, \"sed_type\": \"e2dnde\"}\n",
    "\n",
    "while len(markers) < len(datasets) +1:\n",
    "    markers.extend(markers)\n",
    "\n",
    "\n",
    "for i, d in enumerate(datasets):\n",
    "    d.data.plot(label=d.name, marker=markers[i],  **kwargs)\n",
    "\n",
    "spectral_model.plot(label = spectral_model_name,energy_bounds=energy_bounds,  marker = ',', color=\"k\", **kwargs)\n",
    "spectral_model.plot_error(energy_bounds=energy_bounds,**kwargs)\n",
    "\n",
    "if CTA_plot == True:\n",
    "    if CTA == 1: \n",
    "        FluxPoints.from_table(table = table_CTA_1, sed_type='e2dnde').plot(label= PSR_name_1)\n",
    "    elif CTA == 2:\n",
    "        FluxPoints.from_table(table = table_CTA_2, sed_type='e2dnde').plot(label= PSR_name_2)\n",
    "    else:\n",
    "        pass\n",
    "\n",
    "ax.set_ylim(ylim)\n",
    "ax.set_xlim(energy_bounds)\n",
    "#     ax.legend(loc = loc_legend, ncol = ncol, bbox_to_anchor=(0, -0.45))\n",
    "loc_legend = 'lower right'\n",
    "\n",
    "ax.legend(loc = loc_legend, ncol = ncol)\n",
    "plt.xlabel(r'$\\rm{E\\ [TeV] }$')   \n",
    "plt.ylabel(r'$\\rm{E^2\\ J(E)\\ [erg\\ cm^{-2}\\ s^{-1}] }$')\n",
    "file = path_flux_points_figures / f'{name_to_txt(source_name)}.png'    \n",
    "plt.savefig(file, bbox_inches='tight')\n",
    "plt.savefig(\"aaaa\", bbox_inches='tight')\n",
    "plt.show()\n"
   ]
  },
  {
   "cell_type": "code",
   "execution_count": null,
   "id": "69fb14ac",
   "metadata": {},
   "outputs": [],
   "source": []
  },
  {
   "cell_type": "code",
   "execution_count": null,
   "id": "3f0ffe8c",
   "metadata": {},
   "outputs": [],
   "source": [
    "# Defining the minimum value of the reference energy  \n",
    "angle_separation_txt = name_to_txt(str(angle_separation))+'degree'    \n",
    "\n",
    "dir_fp_tab_counterparts = f\"{name_to_txt(source_name)}_counterparts_{angle_separation_txt}\"\n",
    "\n",
    "path_flux_points_tables, path_fp_tab_counterparts = mkdir_sub_directory(\n",
    "    cfg.dir_flux_points_tables, \n",
    "    dir_fp_tab_counterparts\n",
    ")\n",
    "    "
   ]
  },
  {
   "cell_type": "code",
   "execution_count": null,
   "id": "2761f175",
   "metadata": {},
   "outputs": [],
   "source": [
    "e_ref_min = 100 * u.Unit(\"GeV\")\n",
    "e_ref_min_txt = name_to_txt(str(e_ref_min))\n",
    "source_txt  = name_to_txt(source_name)\n",
    "angle_separation_txt = name_to_txt(str(angle_separation))+'degree'\n",
    "\n",
    "# Creates the directories to save the flux points tables \n",
    "cfg.dir_flux_points_tables = \"flux_points_tables\"\n",
    "dir_fp_tab_counterparts = f\"{name_to_txt(source_name)}_counterparts_{angle_separation_txt}\"\n",
    "dir_fp_tab_counterparts"
   ]
  },
  {
   "cell_type": "code",
   "execution_count": null,
   "id": "33367343",
   "metadata": {},
   "outputs": [],
   "source": [
    "counterparts_datasets[2].name"
   ]
  },
  {
   "cell_type": "code",
   "execution_count": null,
   "id": "c071120f",
   "metadata": {},
   "outputs": [],
   "source": [
    "datasets_cut_fp=cut_flux_points_in_energy(counterparts_datasets,e_ref_min)"
   ]
  },
  {
   "cell_type": "code",
   "execution_count": null,
   "id": "05bb5ecb",
   "metadata": {
    "scrolled": true
   },
   "outputs": [],
   "source": [
    "for index, dataset_fp in enumerate(datasets_cut_fp):\n",
    "    print(dataset_fp.data.to_table())"
   ]
  },
  {
   "cell_type": "code",
   "execution_count": null,
   "id": "ebcc787e",
   "metadata": {
    "scrolled": true
   },
   "outputs": [],
   "source": [
    "for index, dataset_fp in enumerate(datasets_cut_fp):\n",
    "    print(f'{index}: {dataset_fp.name} flux points table (cutting energy)') "
   ]
  },
  {
   "cell_type": "code",
   "execution_count": null,
   "id": "76717022",
   "metadata": {},
   "outputs": [],
   "source": []
  },
  {
   "cell_type": "code",
   "execution_count": null,
   "id": "bbcfd0e2",
   "metadata": {},
   "outputs": [],
   "source": [
    "from astropy import units as u\n",
    "\n",
    "from gammapy.modeling import Fit\n",
    "from gammapy.modeling.models import (\n",
    "    Models,\n",
    "    SuperExpCutoffPowerLaw4FGLDR3SpectralModel,\n",
    "    ExpCutoffPowerLawSpectralModel,\n",
    "    LogParabolaSpectralModel,\n",
    "    PowerLawSpectralModel,\n",
    "    SkyModel,\n",
    ")\n",
    "spectral_model = LogParabolaSpectralModel(\n",
    "    alpha=1.3,\n",
    "    amplitude=\"1e-12 cm-2 s-1 TeV-1\",\n",
    "    reference=1 * u.TeV,\n",
    "    beta=1.5,\n",
    ")\n",
    "\n",
    "# spectral_model.amplitude.max = 3\n",
    "# spectral_model.beta.min = 0\n",
    "\n",
    "spectral_model_name=spectral_model.tag[0]\n",
    "\n",
    "sky_model = SkyModel(spectral_model=spectral_model, name=spectral_model_name)"
   ]
  },
  {
   "cell_type": "code",
   "execution_count": null,
   "id": "9f2c6511",
   "metadata": {},
   "outputs": [],
   "source": [
    "print(spectral_model)"
   ]
  },
  {
   "cell_type": "code",
   "execution_count": null,
   "id": "5b5cda4a",
   "metadata": {},
   "outputs": [],
   "source": [
    "from gammapy.datasets import FluxPointsDataset, Datasets\n",
    "datasets_cut = Datasets(datasets_cut_fp)\n",
    "datasets_cut.models = sky_model\n",
    "# print(datasets)\n",
    "fitter_cut = Fit()\n",
    "result_fit_cut = fitter_cut.run(datasets_cut)"
   ]
  },
  {
   "cell_type": "code",
   "execution_count": null,
   "id": "ab826953",
   "metadata": {},
   "outputs": [],
   "source": [
    "print(result_fit_cut)"
   ]
  },
  {
   "cell_type": "code",
   "execution_count": null,
   "id": "6a398377",
   "metadata": {},
   "outputs": [],
   "source": [
    "print(spectral_model)"
   ]
  },
  {
   "cell_type": "code",
   "execution_count": null,
   "id": "2c40e2cb",
   "metadata": {},
   "outputs": [],
   "source": [
    "\n",
    "CTA = 1\n",
    "CTA_plot = False\n",
    "spectral_plot = True \n",
    "loc_legend = 'lower left'\n",
    "energy_bounds = [1e-3, 3e2] * u.TeV\n",
    "ylim = [1e-13, 5e-10]\n",
    "\n",
    "loc_legend = 'upper right'\n",
    "ncol = 3\n",
    "\n",
    "SED_fp(\n",
    "    datasets = datasets_cut,\n",
    "    spectral_model=spectral_model, \n",
    "    sed_type = \"e2dnde\", \n",
    "    yaxis_units=\"erg cm-2 s-1\", \n",
    "    energy_bounds=energy_bounds, \n",
    "    ylim=ylim)"
   ]
  },
  {
   "cell_type": "code",
   "execution_count": null,
   "id": "63dcddd8",
   "metadata": {},
   "outputs": [],
   "source": [
    "fit_joint = Fit()\n",
    "results_joint = fit_joint.run(datasets=datasets)\n",
    "print(results_joint)"
   ]
  },
  {
   "cell_type": "code",
   "execution_count": null,
   "id": "e89d5007",
   "metadata": {},
   "outputs": [],
   "source": []
  },
  {
   "cell_type": "code",
   "execution_count": null,
   "id": "1d5c0cae",
   "metadata": {},
   "outputs": [],
   "source": []
  },
  {
   "cell_type": "code",
   "execution_count": null,
   "id": "0316edbb",
   "metadata": {},
   "outputs": [],
   "source": [
    "from gammapy.datasets import FluxPointsDataset, Datasets\n",
    "datasets = Datasets(counterparts_datasets)\n",
    "datasets.models = sky_model\n",
    "# # print(datasets)\n",
    "# fitter = Fit()\n",
    "# result_fit = fitter.run(datasets=datasets)\n",
    "CTA = 1\n",
    "CTA_plot = False\n",
    "spectral_plot = False \n",
    "loc_legend = 'lower left'\n",
    "energy_bounds = [1e-5, 1e3] * u.TeV\n",
    "ylim = [1e-22, 5e-9]\n",
    "\n",
    "loc_legend = 'lower left'\n",
    "ncol = 3\n",
    "\n",
    "SED_fp(\n",
    "    datasets = datasets,\n",
    "    spectral_model=spectral_model, \n",
    "    sed_type = \"e2dnde\", \n",
    "    yaxis_units=\"erg cm-2 s-1\", \n",
    "    energy_bounds=energy_bounds, \n",
    "    ylim=ylim)"
   ]
  },
  {
   "cell_type": "code",
   "execution_count": null,
   "id": "1f145fe5",
   "metadata": {},
   "outputs": [],
   "source": []
  },
  {
   "cell_type": "code",
   "execution_count": null,
   "id": "43ea6446",
   "metadata": {},
   "outputs": [],
   "source": [
    "source_name = \"LHAASO J1825-1326\"  # Source name based on J2000 coordinates  \n",
    "source_RA = 276.45 # Right ascension \n",
    "source_dec = -13.45 # Declination (degrees)\n",
    "angle_separation = 1 # (in degrees) \n",
    "counterparts, counterparts_datasets = get_flux_points_tables(source_name, source_RA, source_dec, angle_separation)"
   ]
  },
  {
   "cell_type": "code",
   "execution_count": null,
   "id": "585f3705",
   "metadata": {},
   "outputs": [],
   "source": []
  },
  {
   "cell_type": "code",
   "execution_count": null,
   "id": "737bfd81",
   "metadata": {},
   "outputs": [],
   "source": [
    "unit_deg = 'deg'"
   ]
  },
  {
   "cell_type": "code",
   "execution_count": null,
   "id": "7cf8902d",
   "metadata": {},
   "outputs": [],
   "source": [
    "dict_source_information = {## Source name and its position (Right ascension, Declination) (degrees)  \n",
    "    \"LHAASO J0534+2202\": (\"083.55\", \"+22.05\"),\n",
    "    \"LHAASO J1825-1326\": (\"276.45\", \"-13.45\"), \n",
    "    \"LHAASO J1839-0545\": (\"279.95\", \"-05.75\"),\n",
    "    \"LHAASO J1843-0338\": (\"280.75\", \"-03.65\"),\n",
    "    \"LHAASO J1849-0003\": (\"282.35\", \"-00.05\"),\n",
    "    \"LHAASO J1908+0621\": (\"287.05\", \"+06.35\"), \n",
    "    \"LHAASO J1929+1745\": (\"292.25\", \"+17.75\"),\n",
    "    \"LHAASO J1956+2845\": (\"299.05\", \"+28.75\"),\n",
    "    \"LHAASO J2018+3651\": (\"304.75\", \"+36.85\"),\n",
    "    \"LHAASO J2032+4102\": (\"308.05\", \"+41.05\"),\n",
    "    \"LHAASO J2108+5157\": (\"317.15\", \"+51.95\"),\n",
    "    \"LHAASO J2226+6057\": (\"336.75\", \"+60.95\")\n",
    "}"
   ]
  },
  {
   "cell_type": "code",
   "execution_count": null,
   "id": "7185a1eb",
   "metadata": {},
   "outputs": [],
   "source": [
    "# Creating a dictionary of the Potential TeV Counterparts (dict values) \n",
    "# of the three most significant (excluding Crab) LHASSO observations (dict keys)\n",
    "# see https://www.nature.com/articles/s41586-021-03498-z\n",
    "dict_PeVatrons_ = {\n",
    "    \"LHAASO J1825-1326\": (\"276.45\", \"-13.45\"), \n",
    "    \"LHAASO J1908+0621\": (\"287.05\" , \"6.35\"), \n",
    "    \"LHAASO J2226+6057\": (\"336.75\"  , \"60.95\")\n",
    "}"
   ]
  },
  {
   "cell_type": "code",
   "execution_count": null,
   "id": "598301bf",
   "metadata": {},
   "outputs": [],
   "source": []
  },
  {
   "cell_type": "markdown",
   "id": "ca96de71",
   "metadata": {},
   "source": [
    "Spectral energy distributions and significance maps. a–c, Data are\n",
    "shown for LHAASO J2226+6057 (a), LHAASO J1908+0621 (b), and LHAASO\n",
    "J1825-1326 (c). Spectral fits with a log-parabola function (solid lines) in the form\n",
    "of [E/(10 TeV)]−a − blog[E/(10 TeV)] are compared with the power-law fits E−Γ for: a = 1.56,\n",
    "b = 0.88 and Γ = 3.01 (a); a = 2.27, b = 0.46 and Γ = 2.89 (b); and a = 0.92, b = 1.19\n",
    "and Γ = 3.36 (c). The dotted curves correspond to the log-parabola fits\n",
    "corrected for the interstellar γ−γ absorption (see Methods for the radiation\n",
    "fields and Extended Data Fig. 6 for the opacity curves). The comparison of the\n",
    "power-law (PL) model and the log-parabola (LOG) model with the Akaike\n",
    "Information Criterion20 (AIC) gives: AICLOG = 12.3 and AICPL = 24.4 for LHAASO\n",
    "J2226+6057; AICLOG = 15.1 and AICPL = 30.1 for LHAASO J1908+0621; andAICLOG = 11.6 and AICPL = 14.8 for LHAASO J1825-1326. The insets show the\n",
    "significance maps of the three sources, obtained for γ-rays above 25 TeV. The\n",
    "colour bars show the square root of test statistics (TS), which is equivalent to\n",
    "the significance. The significance ( TS ) maps are smoothed with the\n",
    "Gaussian-type point spread function (PSF) of each source. The size of PSFs (68%\n",
    "contamination regions) are shown at the bottom right of each map. We note\n",
    "that the PSFs of the three sources are slightly different owing to different\n",
    "inclination angles. Namely, the 68% contamination angles are 0.49° for\n",
    "LHAASO J2226+6057, 0.45° for LHAASO J1908+0621 and 0.62° for LHAASO\n",
    "J1825-1326. Error bars represent one standard deviation."
   ]
  },
  {
   "cell_type": "code",
   "execution_count": null,
   "id": "c8841a76",
   "metadata": {},
   "outputs": [],
   "source": []
  },
  {
   "cell_type": "code",
   "execution_count": null,
   "id": "89f62574",
   "metadata": {},
   "outputs": [],
   "source": [
    "dataset_fp.models.names"
   ]
  },
  {
   "cell_type": "code",
   "execution_count": null,
   "id": "5e8a000b",
   "metadata": {
    "scrolled": true
   },
   "outputs": [],
   "source": [
    "models = Models()  # global models object\n",
    "datasets_ = Datasets(counterparts_datasets)\n",
    "\n",
    "for index, dataset_fp in enumerate(counterparts_datasets):\n",
    "    print(f\"{index} {dataset_fp.name}; {dataset_fp.models}\")\n",
    "\n",
    "    # Now, add the diffuse model to the global models list\n",
    "    models.append(dataset_fp.models)\n",
    "\n",
    "# add it to the datasets, and inspect\n",
    "datasets_.models = models\n",
    "print(datasets_)"
   ]
  },
  {
   "cell_type": "code",
   "execution_count": null,
   "id": "93396168",
   "metadata": {},
   "outputs": [],
   "source": [
    "print(datasets_write[1])"
   ]
  },
  {
   "cell_type": "code",
   "execution_count": null,
   "id": "ed2ed6a6",
   "metadata": {},
   "outputs": [],
   "source": [
    "# Creates the directories to save the flux points datasets \n",
    "path_flux_points_datasets = mkdir_sub_directory(cfg.dir_flux_points_datasets)"
   ]
  },
  {
   "cell_type": "code",
   "execution_count": null,
   "id": "bd51d8f8",
   "metadata": {},
   "outputs": [],
   "source": [
    "models = Models()  # global models object\n",
    "counterparts_datasets"
   ]
  },
  {
   "cell_type": "code",
   "execution_count": null,
   "id": "8f1094c6",
   "metadata": {},
   "outputs": [],
   "source": [
    "from gammapy.datasets import Datasets\n",
    "filename = path_flux_points_datasets / f\"{name_to_txt(source_name)}.yaml\"\n",
    "print(filename)\n",
    "datasets_write = Datasets(counterparts_datasets)\n",
    "# datasets_write.models = list_models\n",
    "\n",
    "datasets_write.write(filename, overwrite=True)"
   ]
  },
  {
   "cell_type": "code",
   "execution_count": null,
   "id": "475bc1d7",
   "metadata": {},
   "outputs": [],
   "source": [
    "filename = path_flux_points_datasets / f\"{name_to_txt(source_name)}_models.yaml\"\n",
    "\n",
    "datasets_write.models.write(f\"{filename}\", overwrite=True)"
   ]
  },
  {
   "cell_type": "code",
   "execution_count": null,
   "id": "d2bb3070",
   "metadata": {},
   "outputs": [],
   "source": [
    "filename = path_flux_points_datasets / f\"{name_to_txt(source_name)}.yaml\"\n",
    "datasets_read = Datasets.read(filename)\n",
    "# datasets_read.models = sky_model"
   ]
  },
  {
   "cell_type": "code",
   "execution_count": null,
   "id": "d6825550",
   "metadata": {},
   "outputs": [],
   "source": [
    "filename = path_flux_points_datasets / f\"{name_to_txt(source_name)}_models.yaml\"\n",
    "\n",
    "datasets_read_models = Datasets.read(filename)\n"
   ]
  },
  {
   "cell_type": "code",
   "execution_count": null,
   "id": "5ba8a5b1",
   "metadata": {},
   "outputs": [],
   "source": [
    "models = Models()  # global models object\n"
   ]
  },
  {
   "cell_type": "code",
   "execution_count": null,
   "id": "99f02a6d",
   "metadata": {},
   "outputs": [],
   "source": [
    "print(datasets_read)"
   ]
  },
  {
   "cell_type": "code",
   "execution_count": null,
   "id": "f7080f73",
   "metadata": {},
   "outputs": [],
   "source": [
    "datasets_write[13].plot_fit()\n"
   ]
  },
  {
   "cell_type": "code",
   "execution_count": null,
   "id": "ab1e3507",
   "metadata": {},
   "outputs": [],
   "source": [
    "print(datasets_read[13].plot_fit())"
   ]
  },
  {
   "cell_type": "markdown",
   "id": "03b49578",
   "metadata": {},
   "source": [
    "### Cutting energy"
   ]
  },
  {
   "cell_type": "code",
   "execution_count": null,
   "id": "2c40df3e",
   "metadata": {},
   "outputs": [],
   "source": [
    "# Defining the minimum value of the reference energy  \n",
    "e_ref_min = 100 * u.Unit(\"GeV\")\n",
    "e_ref_min_txt = name_to_txt(str(e_ref_min))\n",
    "e_ref_min_txt"
   ]
  },
  {
   "cell_type": "code",
   "execution_count": null,
   "id": "512e1021",
   "metadata": {},
   "outputs": [],
   "source": [
    "\n",
    "flux_points = dataset_fp.data \n",
    "mask_energy = np.zeros(len(flux_points.to_table()), dtype=bool)\n",
    "\n",
    "for m, e_ref in enumerate(flux_points.energy_ref):\n",
    "    if e_ref > e_ref_min:\n",
    "        mask_energy[m] = True\n",
    "flux_points_mask = flux_points.to_table()[mask_energy]\n",
    "flux_points_energy = FluxPoints.from_table(flux_points_mask)\n",
    "                "
   ]
  },
  {
   "cell_type": "code",
   "execution_count": null,
   "id": "70847f89",
   "metadata": {},
   "outputs": [],
   "source": [
    "for index, dataset_fp in enumerate(datasets_read):\n",
    "    print(dataset_fp.data.to_table())"
   ]
  },
  {
   "cell_type": "code",
   "execution_count": null,
   "id": "dee0df38",
   "metadata": {
    "scrolled": false
   },
   "outputs": [],
   "source": [
    "spectral_plot = True\n",
    "CTA_plot = False\n",
    "loc_legend = 'lower left'\n",
    "energy_bounds = [1e-8, 1e3] * u.TeV\n",
    "ylim = [1e-15, 1e-9]\n",
    "ncol = 3\n",
    "\n",
    "SED_fp(\n",
    "    datasets = datasets,\n",
    "    spectral_model=None, \n",
    "    sed_type = \"e2dnde\", \n",
    "    yaxis_units=\"erg cm-2 s-1\", \n",
    "    energy_bounds=energy_bounds, \n",
    "    ylim=ylim\n",
    ")"
   ]
  },
  {
   "cell_type": "code",
   "execution_count": null,
   "id": "7e832c51",
   "metadata": {},
   "outputs": [],
   "source": []
  },
  {
   "cell_type": "code",
   "execution_count": null,
   "id": "b9c73a79",
   "metadata": {},
   "outputs": [],
   "source": [
    "from astropy import units as u\n",
    "\n",
    "from gammapy.modeling import Fit\n",
    "from gammapy.modeling.models import (\n",
    "    Models,\n",
    "    SuperExpCutoffPowerLaw4FGLDR3SpectralModel,\n",
    "    ExpCutoffPowerLawSpectralModel,\n",
    "    LogParabolaSpectralModel,\n",
    "    PowerLawSpectralModel,\n",
    "    SkyModel,\n",
    ")\n",
    "spectral_model = LogParabolaSpectralModel(\n",
    "    alpha=0.92,\n",
    "    amplitude=\"1e-12 cm-2 s-1 TeV-1\",\n",
    "    reference=10 * u.TeV,\n",
    "    beta=1.19,\n",
    ")\n",
    "spectral_model_name=spectral_model.tag[0]\n",
    "\n",
    "sky_model = SkyModel(spectral_model=spectral_model, name=spectral_model_name)\n"
   ]
  },
  {
   "cell_type": "code",
   "execution_count": null,
   "id": "44411317",
   "metadata": {
    "scrolled": true
   },
   "outputs": [],
   "source": [
    "print(spectral_model)"
   ]
  },
  {
   "cell_type": "code",
   "execution_count": null,
   "id": "e16bc004",
   "metadata": {
    "scrolled": true
   },
   "outputs": [],
   "source": [
    "# counterparts_datasets.append(ds_fp_from_table_fp(table_J2226_copy, sky_model))\n",
    "# [counterparts_datasets[1],counterparts_datasets[2],counterparts_datasets[5],counterparts_datasets[9],counterparts_datasets[14], counterparts_datasets[16]]"
   ]
  },
  {
   "cell_type": "code",
   "execution_count": null,
   "id": "432625e7",
   "metadata": {},
   "outputs": [],
   "source": [
    "for i, dataset_fp in enumerate(counterparts_datasets):\n",
    "    print(i, dataset_fp.name)"
   ]
  },
  {
   "cell_type": "code",
   "execution_count": null,
   "id": "6eed75eb",
   "metadata": {},
   "outputs": [],
   "source": [
    "print(sky_model)"
   ]
  },
  {
   "cell_type": "code",
   "execution_count": null,
   "id": "ead267ff",
   "metadata": {},
   "outputs": [],
   "source": [
    "datasets = Datasets(counterparts_datasets)\n",
    "datasets.models = sky_model\n",
    "# print(datasets)\n",
    "\n",
    "fitter = Fit()\n",
    "result_fit = fitter.run(datasets=datasets)"
   ]
  },
  {
   "cell_type": "code",
   "execution_count": null,
   "id": "9ef2324f",
   "metadata": {
    "scrolled": true
   },
   "outputs": [],
   "source": [
    "# print(counterparts_datasets[2].plot_spectrum())"
   ]
  },
  {
   "cell_type": "code",
   "execution_count": null,
   "id": "9d394647",
   "metadata": {},
   "outputs": [],
   "source": [
    "from gammapy.modeling.models import (\n",
    "    Models,\n",
    "    SkyModel,\n",
    "    LogParabolaSpectralModel\n",
    ")\n",
    "spectral_model = LogParabolaSpectralModel(\n",
    "    alpha=0.92,\n",
    "    amplitude=\"1e-12 cm-2 s-1 TeV-1\",\n",
    "    reference=10 * u.TeV,\n",
    "    beta=1.19,\n",
    ")\n",
    "spectral_model_name=spectral_model.tag[0]\n",
    "\n",
    "sky_model = SkyModel(spectral_model=spectral_model, name=spectral_model_name)"
   ]
  },
  {
   "cell_type": "code",
   "execution_count": null,
   "id": "e5544aee",
   "metadata": {},
   "outputs": [],
   "source": [
    "print(sky_model)"
   ]
  },
  {
   "cell_type": "code",
   "execution_count": null,
   "id": "17b9c5cd",
   "metadata": {},
   "outputs": [],
   "source": []
  },
  {
   "cell_type": "code",
   "execution_count": null,
   "id": "dcd32fe4",
   "metadata": {},
   "outputs": [],
   "source": []
  },
  {
   "cell_type": "code",
   "execution_count": null,
   "id": "e697f909",
   "metadata": {},
   "outputs": [],
   "source": [
    "from gammapy.datasets import Datasets\n",
    "\n",
    "spectral_model = LogParabolaSpectralModel(\n",
    "    alpha=0.92,\n",
    "    amplitude=\"1e-12 cm-2 s-1 TeV-1\",\n",
    "    reference=10 * u.TeV,\n",
    "    beta=1.19,\n",
    ")\n",
    "spectral_model_name=spectral_model.tag[0]\n",
    "\n",
    "sky_model = SkyModel(spectral_model=spectral_model, name=spectral_model_name)\n",
    "\n",
    "filename = path_flux_points_datasets / \"LHAASO J1825-1326.yaml\"\n",
    "\n",
    "\n",
    "\n",
    "datasets = Datasets.read(filename)\n",
    "datasets.models = sky_model"
   ]
  },
  {
   "cell_type": "code",
   "execution_count": null,
   "id": "703174ed",
   "metadata": {},
   "outputs": [],
   "source": [
    "dataset = datasets[\"HESS J1826-130: gamma-cat\"]\n",
    "print(dataset)"
   ]
  },
  {
   "cell_type": "code",
   "execution_count": null,
   "id": "02666988",
   "metadata": {},
   "outputs": [],
   "source": [
    "datasets[\"HESS J1826-130: gamma-cat\"]"
   ]
  },
  {
   "cell_type": "code",
   "execution_count": null,
   "id": "9204f4e8",
   "metadata": {},
   "outputs": [],
   "source": [
    "# print(f\"Fit range : {datasets.slice_by_energy}\")"
   ]
  },
  {
   "cell_type": "code",
   "execution_count": null,
   "id": "fb7ae3aa",
   "metadata": {},
   "outputs": [],
   "source": [
    "# energy_min, energy_max = [1e-1, 1e3] * u.TeV\n",
    "\n",
    "# datasets.slice_by_energy(energy_min, energy_max)"
   ]
  },
  {
   "cell_type": "code",
   "execution_count": null,
   "id": "1ab98869",
   "metadata": {},
   "outputs": [],
   "source": [
    "from gammapy.modeling import Fit\n",
    "# datasets = Datasets(counterparts_datasets)\n",
    "# datasets.models = sky_model\n",
    "# # print(datasets)\n",
    "\n",
    "fitter = Fit()\n",
    "result_fit = fitter.run(datasets=datasets)"
   ]
  },
  {
   "cell_type": "code",
   "execution_count": null,
   "id": "828c795b",
   "metadata": {},
   "outputs": [],
   "source": [
    "print(spectral_model)"
   ]
  },
  {
   "cell_type": "code",
   "execution_count": null,
   "id": "83649ef3",
   "metadata": {},
   "outputs": [],
   "source": [
    "print(result_fit.parameters.to_table())"
   ]
  },
  {
   "cell_type": "code",
   "execution_count": null,
   "id": "52bbf8d9",
   "metadata": {},
   "outputs": [],
   "source": []
  },
  {
   "cell_type": "code",
   "execution_count": null,
   "id": "56016d8d",
   "metadata": {
    "scrolled": true
   },
   "outputs": [],
   "source": [
    "spectral_plot = True\n",
    "CTA_plot = False\n",
    "loc_legend = 'lower left'\n",
    "energy_bounds = [1e-8, 1e3] * u.TeV\n",
    "ylim = [1e-15, 1e-9]\n",
    "ncol = 2\n",
    "\n",
    "SED_fp(\n",
    "    datasets = datasets,\n",
    "    spectral_model=spectral_model, \n",
    "    sed_type = \"e2dnde\", \n",
    "    yaxis_units=\"erg cm-2 s-1\", \n",
    "    energy_bounds=energy_bounds, \n",
    "    ylim=ylim)"
   ]
  },
  {
   "cell_type": "code",
   "execution_count": null,
   "id": "de7c26b3",
   "metadata": {},
   "outputs": [],
   "source": []
  },
  {
   "cell_type": "code",
   "execution_count": null,
   "id": "5ffcac41",
   "metadata": {},
   "outputs": [],
   "source": []
  },
  {
   "cell_type": "code",
   "execution_count": null,
   "id": "d5dbf91e",
   "metadata": {},
   "outputs": [],
   "source": [
    "from gammapy.datasets import (\n",
    "    Datasets,\n",
    "#     FluxPointsDataset,\n",
    "#     SpectrumDataset,\n",
    "#     SpectrumDatasetOnOff,\n",
    ")"
   ]
  },
  {
   "cell_type": "code",
   "execution_count": null,
   "id": "8082c6d0",
   "metadata": {},
   "outputs": [],
   "source": [
    "dict_source_information.keys()"
   ]
  },
  {
   "cell_type": "code",
   "execution_count": null,
   "id": "4e3f464d",
   "metadata": {},
   "outputs": [],
   "source": [
    "datasets_flux_points = []\n",
    "# Creates the directories to save the flux points datasets \n",
    "path_flux_points_datasets = mkdir_sub_directory(\n",
    "cfg.dir_flux_points_datasets\n",
    ")\n",
    "\n",
    "for i, source_name in enumerate(dict_source_information.keys()):\n",
    "    source_RA = list(dict_source_information.values())[i][0] # Right ascension (degrees)\n",
    "    source_dec = list(dict_source_information.values())[i][1] # Declination (degrees)\n",
    "    print(i,source_name, source_RA, source_dec)\n",
    "    \n",
    "    datasets_flux_points.append(get_flux_points_tables(source_name, source_RA, source_dec, angle_separation))\n",
    "    print(i,source_name, source_RA, source_dec)\n",
    "\n",
    "    filename = path_flux_points_datasets / f\"{name_to_txt(source_name)}.yaml\"\n",
    "    print(filename)\n",
    "    datasets = Datasets(datasets_flux_points[i])\n",
    "\n",
    "    datasets.write(filename, overwrite=True)\n"
   ]
  },
  {
   "cell_type": "code",
   "execution_count": null,
   "id": "41e69cf6",
   "metadata": {},
   "outputs": [],
   "source": [
    "datasets_flux_points"
   ]
  },
  {
   "cell_type": "code",
   "execution_count": null,
   "id": "5b85eae9",
   "metadata": {},
   "outputs": [],
   "source": []
  },
  {
   "cell_type": "markdown",
   "id": "27d7e18e",
   "metadata": {},
   "source": [
    "### LHAASO J1825-1326\n",
    "[see TevCat LHAASO J1825-1326](http://tevcat.uchicago.edu/?mode=1&showsrc=342)"
   ]
  },
  {
   "cell_type": "code",
   "execution_count": null,
   "id": "e1662a4b",
   "metadata": {},
   "outputs": [],
   "source": [
    "source_name = \"LHAASO J1825-1326\"  # Source name based on J2000 coordinates  \n",
    "source_txt  = source_name.replace(\" \", \"\") "
   ]
  },
  {
   "cell_type": "code",
   "execution_count": null,
   "id": "922e3e8f",
   "metadata": {},
   "outputs": [],
   "source": [
    "from astropy.coordinates import SkyCoord\n",
    "\n",
    "source_RA = 276.45 # Right ascension \n",
    "source_dec = -13.45 # Declination (degrees)\n",
    "\n",
    "source_position = SkyCoord(source_RA, source_dec, unit='deg') \n",
    "source_position"
   ]
  },
  {
   "cell_type": "code",
   "execution_count": null,
   "id": "bb144de1",
   "metadata": {},
   "outputs": [],
   "source": [
    "from astropy import units as u\n",
    "\n",
    "angle_separation = 1 * u.deg\n",
    "# angle_separation_txt = str(angle_separation.value).replace(\".0\", \"\").replace(\".\", \"dot\")+'degree'\n",
    "angle_separation_txt = str(angle_separation.value).replace(\".\", \"dot\")+'degree'\n"
   ]
  },
  {
   "cell_type": "code",
   "execution_count": null,
   "id": "78f4f3e0",
   "metadata": {},
   "outputs": [],
   "source": [
    "# Creates the directories to save the flux points tables \n",
    "dir_fp_tab_counterparts = f\"{source_txt}_counterparts_{angle_separation_txt}\"\n",
    "\n",
    "path_flux_points_tables, path_fp_tab_counterparts = mkdir_sub_directory(\n",
    "    cfg.dir_flux_points_tables, \n",
    "    dir_fp_tab_counterparts\n",
    ")"
   ]
  },
  {
   "cell_type": "code",
   "execution_count": null,
   "id": "d51293a5",
   "metadata": {},
   "outputs": [],
   "source": [
    "counterparts_datasets = get_counterparts_datasets(source_position, angle_separation)"
   ]
  },
  {
   "cell_type": "code",
   "execution_count": null,
   "id": "270250e3",
   "metadata": {},
   "outputs": [],
   "source": [
    "for i, dataset_fp in enumerate(counterparts_datasets):\n",
    "    print(i, dataset_fp.name)"
   ]
  },
  {
   "cell_type": "code",
   "execution_count": null,
   "id": "65b9c810",
   "metadata": {},
   "outputs": [],
   "source": [
    "plot_ds_fp(counterparts_datasets,\n",
    "    sed_type='e2dnde',\n",
    "    xaxis_units='TeV',\n",
    "    yaxis_units='erg cm-2 s-1',\n",
    "    energy_bounds=[1e-05, 1e+03] * u.TeV,\n",
    "    ylim=[1e-20, 1e-8],\n",
    "    xlabel='$\\\\rm{E\\\\ [TeV] }$',\n",
    "    ylabel='$\\\\rm{E^2\\\\ J(E)\\\\ [erg\\\\ cm^{-2}\\\\ s^{-1}] }$',\n",
    "    loc_legend='lower left',\n",
    "    ncol=3)"
   ]
  },
  {
   "cell_type": "code",
   "execution_count": null,
   "id": "c774aac7",
   "metadata": {},
   "outputs": [],
   "source": [
    "from gammapy.datasets import Datasets\n",
    "from gammapy.modeling.models import (\n",
    "    Models,\n",
    "    SkyModel,\n",
    "    LogParabolaSpectralModel\n",
    ")\n",
    "from gammapy.modeling import Fit\n",
    "\n",
    "\n",
    "spectral_model = LogParabolaSpectralModel(\n",
    "    alpha=0.92,\n",
    "    amplitude=\"1e-10 cm-2 s-1 TeV-1\",\n",
    "    reference=10 * u.TeV,\n",
    "    beta=1.19,\n",
    ")\n",
    "spectral_model_name=spectral_model.tag[0]\n",
    "\n",
    "sky_model = SkyModel(spectral_model=spectral_model, name=spectral_model_name)"
   ]
  },
  {
   "cell_type": "code",
   "execution_count": null,
   "id": "0a805304",
   "metadata": {},
   "outputs": [],
   "source": [
    "datasets = Datasets(counterparts_datasets)\n",
    "datasets.models = sky_model\n",
    "# print(datasets)\n",
    "\n",
    "fitter = Fit()\n",
    "result_fit = fitter.run(datasets=datasets)"
   ]
  },
  {
   "cell_type": "code",
   "execution_count": null,
   "id": "77143200",
   "metadata": {},
   "outputs": [],
   "source": [
    "print(spectral_model)"
   ]
  },
  {
   "cell_type": "code",
   "execution_count": null,
   "id": "743f74ee",
   "metadata": {},
   "outputs": [],
   "source": [
    "print(result_fit.parameters.to_table())"
   ]
  },
  {
   "cell_type": "code",
   "execution_count": null,
   "id": "a167a297",
   "metadata": {},
   "outputs": [],
   "source": [
    "spectral_plot = True\n",
    "CTA_plot = False\n",
    "loc_legend = 'lower left'\n",
    "energy_bounds = [1e-8, 1e3] * u.TeV\n",
    "ylim = [1e-15, 1e-9]\n",
    "ncol = 2\n",
    "\n",
    "SED_fp(\n",
    "    datasets = datasets,\n",
    "    spectral_model=spectral_model, \n",
    "    sed_type = \"e2dnde\", \n",
    "    yaxis_units=\"erg cm-2 s-1\", \n",
    "    energy_bounds=energy_bounds, \n",
    "    ylim=ylim)"
   ]
  },
  {
   "cell_type": "code",
   "execution_count": null,
   "id": "346db2f0",
   "metadata": {},
   "outputs": [],
   "source": [
    "df_fp, df_no_fp, counterparts_datasets = get_counterparts_datasetsp(source_position, angle_separation)"
   ]
  },
  {
   "cell_type": "code",
   "execution_count": null,
   "id": "fbc461ec",
   "metadata": {},
   "outputs": [],
   "source": [
    "df_fp"
   ]
  },
  {
   "cell_type": "code",
   "execution_count": null,
   "id": "43cf63c8",
   "metadata": {},
   "outputs": [],
   "source": [
    "df_no_fp"
   ]
  },
  {
   "cell_type": "code",
   "execution_count": null,
   "id": "57b7d2f4",
   "metadata": {
    "scrolled": false
   },
   "outputs": [],
   "source": [
    "counterparts_datasets = get_counterparts_datasets(source_position, angle_separation)"
   ]
  },
  {
   "cell_type": "code",
   "execution_count": null,
   "id": "905cdb24",
   "metadata": {},
   "outputs": [],
   "source": [
    "counterparts_datasets"
   ]
  },
  {
   "cell_type": "code",
   "execution_count": null,
   "id": "9fd19bd9",
   "metadata": {},
   "outputs": [],
   "source": [
    "for i, dataset_fp in enumerate(counterparts_datasets):\n",
    "    print(i, dataset_fp.name)"
   ]
  },
  {
   "cell_type": "code",
   "execution_count": null,
   "id": "278df55f",
   "metadata": {},
   "outputs": [],
   "source": []
  },
  {
   "cell_type": "markdown",
   "id": "182c102a",
   "metadata": {},
   "source": [
    "## Data Reduction (DL3toDL4)"
   ]
  },
  {
   "cell_type": "code",
   "execution_count": null,
   "id": "4bc639f1",
   "metadata": {},
   "outputs": [],
   "source": []
  },
  {
   "cell_type": "code",
   "execution_count": null,
   "id": "1d6ce311",
   "metadata": {},
   "outputs": [],
   "source": [
    "def source_identification(source_index = None):\n",
    "    '''\n",
    "    To write Docstring!!!!\n",
    "    '''\n",
    "    try: \n",
    "        \n",
    "        global source_name, source_txt \n",
    "        \n",
    "        source_name = df_fp[\"source_name\"][source_index]\n",
    "        source_txt = df_fp[\"source_txt\"][source_index]\n",
    "        \n",
    "        global counterpart_name, counterpart_txt\n",
    "        \n",
    "        counterpart_name = df_fp[\"counterpart_name\"][source_index]\n",
    "        counterpart_txt = df_fp[\"counterpart_txt\"][source_index] \n",
    "    \n",
    "    except:\n",
    "        print(\"Oops!  That was no valid index.  Try again...\")"
   ]
  },
  {
   "cell_type": "code",
   "execution_count": null,
   "id": "952061ac",
   "metadata": {},
   "outputs": [],
   "source": [
    "import numpy as np\n",
    "# from astropy import units as u\n",
    "from astropy.table import Table\n",
    "from gammapy.estimators import FluxPoints\n",
    "from gammapy.utils.scripts import make_path\n",
    "\n",
    "# format_csv = \".csv\"\n",
    "format_fits = \".fits\"\n",
    "\n",
    "sed_type=\"e2dnde\"\n",
    "# sed_type=\"dnde\"\n",
    "\n",
    "counterparts_datasets_cut = []\n",
    "def flux_points_cut_energy(df_fp = None, counterparts_datasets = None, e_ref_min=None):\n",
    "    '''To write Docstring!!!!'''\n",
    "    \n",
    "    source_range = range(len(df_fp))\n",
    "    for source_index in source_range:\n",
    "        counterparts_datasets = []\n",
    "        \n",
    "        source_identification(source_index)\n",
    "        \n",
    "        k_range = range(len(counterparts_datasets[source_index]))\n",
    "        for k in k_range: \n",
    "            \n",
    "            catalog_tag = df_fp[\"catalog\"][source_index][k]\n",
    "\n",
    "            ds_name = f\"{counterpart_name}: {catalog_tag}\"\n",
    "            flux_points = counterparts_datasets[source_index][k].data\n",
    "\n",
    "            mask_energy = np.zeros(len(flux_points.to_table()), dtype=bool)\n",
    "\n",
    "            for m, e_ref in enumerate(flux_points.energy_ref):\n",
    "                if e_ref > e_ref_min:\n",
    "                    mask_energy[m] = True\n",
    "            print(ds_name, counterpart_txt)  \n",
    "            \n",
    "            try:\n",
    "                flux_points_mask = flux_points.to_table()[mask_energy]\n",
    "                flux_points_energy = FluxPoints.from_table(flux_points_mask)\n",
    "\n",
    "                ds = FluxPointsDataset(\n",
    "                                    data=flux_points_energy, \n",
    "                                    name=ds_name\n",
    "                                )\n",
    "\n",
    "                table = ds.data.to_table(\n",
    "                                    sed_type = sed_type, \n",
    "                                    formatted = True\n",
    "                                )\n",
    "                counterparts_datasets.append(ds)\n",
    "\n",
    "                file_name = f'{source_txt}_{counterpart_txt}_{catalog_tag}_e_ref_min_{e_ref_min_name}{format_fits}'\n",
    "                path_os = os.path.abspath(\n",
    "                    os.path.join(\n",
    "                        f\"{path_flux_points_tables_analysis}/{file_name}\"\n",
    "                    )\n",
    "                )\n",
    "\n",
    "                if path_os not in sys.path:\n",
    "                    sys.path.append(path_os)\n",
    "\n",
    "                table.write(f\"{path_os}\",format='fits', overwrite=True)\n",
    "\n",
    "            except:\n",
    "                print(f\"{counterpart_name} out\")    \n",
    "            \n",
    "        counterparts_datasets_cut.append(counterparts_datasets)\n",
    "    return counterparts_datasets_cut"
   ]
  },
  {
   "cell_type": "markdown",
   "id": "8250668f",
   "metadata": {},
   "source": [
    "### Cutting energy"
   ]
  },
  {
   "cell_type": "code",
   "execution_count": null,
   "id": "480c58b0",
   "metadata": {},
   "outputs": [],
   "source": [
    "# Defining the minimum value of the reference energy  \n",
    "e_ref_min = 100 * u.Unit(\"GeV\")\n",
    "e_ref_min_name = str(e_ref_min).replace(\" \", \"\").replace(\".\", \"dot\")"
   ]
  },
  {
   "cell_type": "code",
   "execution_count": null,
   "id": "4cadd146",
   "metadata": {},
   "outputs": [],
   "source": [
    "e_ref_min_name"
   ]
  },
  {
   "cell_type": "code",
   "execution_count": null,
   "id": "bce10f48",
   "metadata": {},
   "outputs": [],
   "source": [
    "# Creating the directories to save the tables\n",
    "dir_analysis = \"analysisss\"\n",
    "cfg.dir_flux_points_tables = f\"flux_points_table_e_ref_min_{e_ref_min_name}\"\n",
    "\n",
    "path_catalogs_data, path_flux_points_tables_analysis = mkdir_sub_directory(\n",
    "    dir_analysis, \n",
    "    cfg.dir_flux_points_tables\n",
    ")"
   ]
  },
  {
   "cell_type": "code",
   "execution_count": null,
   "id": "572a1efb",
   "metadata": {
    "scrolled": false
   },
   "outputs": [],
   "source": [
    "counterparts_datasets_cut = flux_points_cut_energy(df_fp = df_fp, counterparts_datasets = counterparts_datasets, e_ref_min=e_ref_min)"
   ]
  },
  {
   "cell_type": "code",
   "execution_count": null,
   "id": "71a06a4a",
   "metadata": {},
   "outputs": [],
   "source": []
  },
  {
   "cell_type": "code",
   "execution_count": null,
   "id": "3bea156b",
   "metadata": {},
   "outputs": [],
   "source": []
  },
  {
   "cell_type": "code",
   "execution_count": null,
   "id": "7fb38d8a",
   "metadata": {},
   "outputs": [],
   "source": []
  },
  {
   "cell_type": "code",
   "execution_count": null,
   "id": "7a085f3c",
   "metadata": {},
   "outputs": [],
   "source": []
  },
  {
   "cell_type": "code",
   "execution_count": null,
   "id": "daba2597",
   "metadata": {},
   "outputs": [],
   "source": [
    "# !pip install jupyterthemes"
   ]
  },
  {
   "cell_type": "code",
   "execution_count": null,
   "id": "51bb1023",
   "metadata": {},
   "outputs": [],
   "source": [
    "# !jt -l "
   ]
  },
  {
   "cell_type": "code",
   "execution_count": null,
   "id": "da8e3764",
   "metadata": {},
   "outputs": [],
   "source": [
    "# !jt -t monokai -f fira -fs 10 -nf ptsans -nfs 11 -N -kl -cursw 2 -cursc r -cellw 95% -T"
   ]
  },
  {
   "cell_type": "code",
   "execution_count": null,
   "id": "a65a028a",
   "metadata": {},
   "outputs": [],
   "source": [
    "# !jt -r"
   ]
  },
  {
   "cell_type": "code",
   "execution_count": null,
   "id": "b48dc353",
   "metadata": {},
   "outputs": [],
   "source": [
    "# import os\n",
    "\n",
    "# path = os.path.expandvars(\"$GAMMAPY_DATA\")\n",
    "\n",
    "# if not os.path.exists(path):\n",
    "#     raise Exception(\"gammapy-data repository not found!\")\n",
    "# else:\n",
    "#     print(\"Great your setup is correct!\")"
   ]
  },
  {
   "cell_type": "code",
   "execution_count": null,
   "id": "74c69556",
   "metadata": {},
   "outputs": [],
   "source": []
  },
  {
   "cell_type": "code",
   "execution_count": null,
   "id": "a9b1b456",
   "metadata": {},
   "outputs": [],
   "source": []
  },
  {
   "cell_type": "code",
   "execution_count": null,
   "id": "43e95f5a",
   "metadata": {
    "scrolled": true
   },
   "outputs": [],
   "source": []
  },
  {
   "cell_type": "code",
   "execution_count": null,
   "id": "5ce110db",
   "metadata": {},
   "outputs": [],
   "source": [
    "# !pip install dataframe-image"
   ]
  },
  {
   "cell_type": "code",
   "execution_count": null,
   "id": "fa05df50",
   "metadata": {},
   "outputs": [],
   "source": [
    "# !pip install tabulate"
   ]
  },
  {
   "cell_type": "code",
   "execution_count": null,
   "id": "7612898a",
   "metadata": {},
   "outputs": [],
   "source": [
    "# # to install the latest commit (from GitHub)\n",
    "# !pip install git+https://github.com/garrettj403/SciencePlots\n",
    "# Making plots actually look nice\n",
    "# import scienceplots\n",
    "# plt.style.use(['science', 'notebook', 'grid'])\n",
    "# plt.style.available"
   ]
  },
  {
   "cell_type": "code",
   "execution_count": null,
   "id": "c6e3efbf",
   "metadata": {},
   "outputs": [],
   "source": [
    "%matplotlib inline\n",
    "import matplotlib.pyplot as plt"
   ]
  },
  {
   "cell_type": "code",
   "execution_count": null,
   "id": "3ac8a12e",
   "metadata": {},
   "outputs": [],
   "source": [
    "from gammapy.datasets import FluxPointsDataset, Datasets\n",
    "from gammapy.catalog import CATALOG_REGISTRY"
   ]
  },
  {
   "cell_type": "code",
   "execution_count": null,
   "id": "eff6f5ad",
   "metadata": {},
   "outputs": [],
   "source": [
    "import os\n",
    "import sys\n",
    "import importlib\n",
    "\n",
    "modules_path = '../modules'\n",
    "\n",
    "module_path = os.path.abspath(f'{modules_path}/spectral_models')\n",
    "if module_path not in sys.path:\n",
    "    sys.path.append(module_path)\n",
    "\n",
    "import spectral_models\n",
    "importlib.reload(spectral_models)\n",
    "from spectral_models import pwl_model, get_source_data\n",
    "\n",
    "module_path = os.path.abspath(f'{modules_path}/utilities')\n",
    "if module_path not in sys.path:\n",
    "    sys.path.append(module_path)\n",
    "\n",
    "import utilities\n",
    "importlib.reload(utilities)\n",
    "from utilities import mkdir_sub_directory"
   ]
  },
  {
   "cell_type": "code",
   "execution_count": null,
   "id": "a1236f88",
   "metadata": {},
   "outputs": [],
   "source": [
    "from astropy import units as u\n",
    "\n",
    "from gammapy.modeling import Fit\n",
    "from gammapy.modeling.models import (\n",
    "    Models,\n",
    "    SuperExpCutoffPowerLaw4FGLDR3SpectralModel,\n",
    "    ExpCutoffPowerLawSpectralModel,\n",
    "    LogParabolaSpectralModel,\n",
    "    PowerLawSpectralModel,\n",
    "    SkyModel,\n",
    ")"
   ]
  },
  {
   "cell_type": "code",
   "execution_count": null,
   "id": "0e28f3bd",
   "metadata": {
    "scrolled": true
   },
   "outputs": [],
   "source": []
  },
  {
   "cell_type": "code",
   "execution_count": null,
   "id": "e0acd700",
   "metadata": {},
   "outputs": [],
   "source": [
    "# for i, dict_key in enumerate(list(dict_TeV_counterparts.keys())):\n",
    "#     print(dict_key)"
   ]
  },
  {
   "cell_type": "code",
   "execution_count": null,
   "id": "de476700",
   "metadata": {},
   "outputs": [],
   "source": [
    "# source = catalog_hgps['HESS J1826-130']\n"
   ]
  },
  {
   "cell_type": "code",
   "execution_count": null,
   "id": "7f57506f",
   "metadata": {},
   "outputs": [],
   "source": [
    "# source.data."
   ]
  },
  {
   "cell_type": "code",
   "execution_count": null,
   "id": "1bb3921b",
   "metadata": {
    "scrolled": true
   },
   "outputs": [],
   "source": [
    "# source_name ='LHAASO J1825-1326'\n",
    "# dict_TeV_counterparts[source_name]"
   ]
  },
  {
   "cell_type": "code",
   "execution_count": null,
   "id": "bb302936",
   "metadata": {},
   "outputs": [],
   "source": []
  },
  {
   "cell_type": "code",
   "execution_count": null,
   "id": "057e0e30",
   "metadata": {},
   "outputs": [],
   "source": [
    "help(ds_fp_from_table_fp)"
   ]
  },
  {
   "cell_type": "code",
   "execution_count": null,
   "id": "07227e33",
   "metadata": {},
   "outputs": [],
   "source": []
  },
  {
   "cell_type": "code",
   "execution_count": null,
   "id": "2d7d64a3",
   "metadata": {},
   "outputs": [],
   "source": [
    "df_fp, df_no_fp, counterparts_datasets = get_counterparts_datasetsp(source_position, angle_separation)"
   ]
  },
  {
   "cell_type": "code",
   "execution_count": null,
   "id": "c5b962c0",
   "metadata": {},
   "outputs": [],
   "source": [
    "df_fp"
   ]
  },
  {
   "cell_type": "code",
   "execution_count": null,
   "id": "dbeea793",
   "metadata": {},
   "outputs": [],
   "source": [
    "df_no_fp"
   ]
  },
  {
   "cell_type": "code",
   "execution_count": null,
   "id": "d63bda52",
   "metadata": {
    "scrolled": true
   },
   "outputs": [],
   "source": [
    "# counterparts_datasets = get_counterparts_datasets(source_position, angle_separation)"
   ]
  },
  {
   "cell_type": "code",
   "execution_count": null,
   "id": "a337fbfc",
   "metadata": {},
   "outputs": [],
   "source": []
  },
  {
   "cell_type": "code",
   "execution_count": null,
   "id": "c8f069b3",
   "metadata": {},
   "outputs": [],
   "source": [
    "# import pandas library as pd\n",
    "\n",
    "import pandas as pd \n",
    "from gammapy.datasets import FluxPointsDataset\n",
    "from gammapy.catalog import CATALOG_REGISTRY\n",
    "import os\n",
    "import sys\n",
    "\n",
    "format_csv = \".csv\"\n",
    "format_fits = \".fits\"\n",
    "\n",
    "sed_type=\"e2dnde\"\n",
    "# sed_type=\"dnde\"\n",
    "\n",
    "df_columns=[]\n",
    "counterparts_datasets = []\n",
    "sources_catalogs = []\n",
    "  \n",
    "# create an Empty DataFrame object\n",
    "df = pd.DataFrame()\n",
    "\n",
    "\n",
    "def getting_source_data(dict_TeV_counterparts = None, catalogs_tags = None):\n",
    "    '''\n",
    "    To write Docstring!!!!\n",
    "    '''\n",
    "    \n",
    "#     LHAASO_range = range(len())\n",
    "    for source_name in list(dict_TeV_counterparts.keys()):\n",
    "#     for i in LHAASO_range:\n",
    "\n",
    "#         source_name = dict_key[i]\n",
    "        source_txt = source_name.replace(\" \", \"\")\n",
    "        \n",
    "#         source_range = range(len())\n",
    "        for counterpart_name in dict_TeV_counterparts[source_name]:\n",
    "            \n",
    "            counterpart_txt = counterpart_name.replace(\" \", \"\")\n",
    "\n",
    "            catalog_source = []\n",
    "\n",
    "            catalog_fp = []\n",
    "            \n",
    "            source_catalog = []\n",
    "\n",
    "            counterparts_datasets = []\n",
    "\n",
    "#             counterpart_name = dict_TeV_counterparts[source_name][j]\n",
    "            \n",
    "#             catalog_range = range(len(catalogs_tags))\n",
    "#             for k in catalog_range: \n",
    "            for catalog_tag in catalogs_tags:    \n",
    "#                 catalog_tag = catalogs_tags[k]\n",
    "\n",
    "                catalog = CATALOG_REGISTRY.get_cls(catalog_tag)()\n",
    "                \n",
    "                try:\n",
    "                    \n",
    "                    src = catalog[counterpart_name]\n",
    "                    \n",
    "                    catalog_source.append(catalog_tag)\n",
    "                    \n",
    "                    ds_name = f\"{counterpart_name}: {catalog_tag}\"\n",
    "                    ds = FluxPointsDataset(\n",
    "                        models = src.sky_model(),\n",
    "                        data=src.flux_points, \n",
    "                        name=  ds_name     \n",
    "                    )\n",
    "                    \n",
    "                    source_catalog.append(src)\n",
    "                    counterparts_datasets.append(ds)\n",
    "                    catalog_fp.append(catalog_tag)\n",
    "\n",
    "                    table = ds.data.to_table(\n",
    "                        sed_type = sed_type, \n",
    "                        formatted = True\n",
    "                    )\n",
    "                    \n",
    "                    # Setting the units\n",
    "                    \n",
    "                    # Writes the flux points table in the fits format\n",
    "                    file_name = f'{source_txt}_{counterpart_txt}_{catalog_tag}{format_fits}'\n",
    "                    path_os = os.path.abspath(\n",
    "                        os.path.join(\n",
    "                            f\"{path_flux_points_tables}/{file_name}\"\n",
    "                        )\n",
    "                    )      \n",
    "                    \n",
    "                    if path_os not in sys.path:\n",
    "                        sys.path.append(path_os)\n",
    "\n",
    "                    table.write(\n",
    "                        f\"{path_os}\",\n",
    "                        format = 'fits', \n",
    "                        overwrite = True\n",
    "                    )\n",
    "                    \n",
    "                    # Writes the flux points table in the csv format\n",
    "                    file_name = f'{source_txt}_{counterpart_txt}_{catalog_tag}{format_csv}'\n",
    "                    path_os = os.path.abspath(\n",
    "                        os.path.join(\n",
    "                            f\"{path_flux_points_tables}/{file_name}\"\n",
    "                        )\n",
    "                    )\n",
    "                     \n",
    "                    if path_os not in sys.path:\n",
    "                        sys.path.append(path_os)\n",
    "\n",
    "                    table.write(\n",
    "                        f\"{path_os}\",\n",
    "                        format = 'ascii.ecsv', \n",
    "                        overwrite = True\n",
    "                    )   \n",
    "                    \n",
    "                except:\n",
    "                    pass\n",
    "\n",
    "                df_columns_source = [source_name, source_txt, counterpart_name, counterpart_txt, catalog_source, catalog_fp]\n",
    "            df_columns.append(df_columns_source)\n",
    "            counterparts_datasets.append(counterparts_datasets)\n",
    "            sources_catalogs.append(source_catalog)\n",
    "\n",
    "        df = pd.DataFrame(df_columns, columns = ['source_name', \"source_txt\",'counterpart_name', \"counterpart_txt\", 'catalog', 'flux_points']) \n",
    "        df_fp = df[df[\"flux_points\"].str.len() != 0]\n",
    "        df_fp = df_fp.reset_index(drop = True)\n",
    "        df_fp.index.name = 'counterpart_index'\n",
    "\n",
    "        file_name = \"data_frame_flux_points.csv\"\n",
    "        path_file = f\"{os.getcwd()}/{file_name}\"\n",
    "        df_fp.to_csv(path_file, index = \"True\" )\n",
    "\n",
    "        df_no_fp = df[df[\"flux_points\"].str.len() == 0]\n",
    "        df_no_fp = df_no_fp.reset_index(drop = True)\n",
    "        df_no_fp.index.name = df_fp.index.name\n",
    "\n",
    "        file_name = \"data_frame_no_flux_points.csv\"\n",
    "        path_file = f\"{os.getcwd()}/{file_name}\"\n",
    "        df_no_fp.to_csv(path_file, index = \"True\")\n",
    "        print(f\"Sources without flux points table: {list(df_no_fp['counterpart_name'])}\")\n",
    "\n",
    "        sources_catalogs[:] = list(filter(None, sources_catalogs))\n",
    "        counterparts_datasets[:] = list(filter(None, counterparts_datasets))\n",
    "\n",
    "    return df_fp, counterparts_datasets, sources_catalogs"
   ]
  },
  {
   "cell_type": "code",
   "execution_count": null,
   "id": "b78b6de0",
   "metadata": {},
   "outputs": [],
   "source": [
    "# from pandas import read_csv\n",
    "\n",
    "# myData = read_csv(f\"{os.getcwd()}/data_frame_flux_points.csv\", index_col = None)\n",
    "# myData"
   ]
  },
  {
   "cell_type": "code",
   "execution_count": null,
   "id": "59ede0e1",
   "metadata": {},
   "outputs": [],
   "source": [
    "# to get the current working directory\n",
    "directory = os.getcwd()\n",
    "\n",
    "print(directory)"
   ]
  },
  {
   "cell_type": "code",
   "execution_count": null,
   "id": "23bdf1f0",
   "metadata": {},
   "outputs": [],
   "source": [
    "import os"
   ]
  },
  {
   "cell_type": "code",
   "execution_count": null,
   "id": "2bf6ef6c",
   "metadata": {},
   "outputs": [],
   "source": [
    "path_DL3 = os.getcwd()\n",
    "os.chdir('../')\n",
    "path_LHAASO = os.getcwd()\n",
    "os.chdir(path_DL3)\n",
    "\n",
    "file_name = \"paths.dat\"\n",
    "path_file = f\"{path_LHAASO}/{file_name}\"\n",
    "    \n",
    "with open(path_file, \"w\") as my_file: \n",
    "    my_file.write(f\"{path_LHAASO} \\n\")\n",
    "    my_file.write(f\"{path_file} \\n\")\n",
    "    my_file.write(f\"{path_DL3} \\n\")"
   ]
  },
  {
   "cell_type": "code",
   "execution_count": null,
   "id": "df00eff8",
   "metadata": {},
   "outputs": [],
   "source": [
    "# path_file"
   ]
  },
  {
   "cell_type": "code",
   "execution_count": null,
   "id": "1612cc35",
   "metadata": {
    "scrolled": false
   },
   "outputs": [],
   "source": [
    "# f\"{os.getcwd()}/data_frame_no_flux_points.csv\""
   ]
  },
  {
   "cell_type": "code",
   "execution_count": null,
   "id": "ab773f8a",
   "metadata": {},
   "outputs": [],
   "source": []
  },
  {
   "cell_type": "code",
   "execution_count": null,
   "id": "d2f8b9be",
   "metadata": {},
   "outputs": [],
   "source": []
  },
  {
   "cell_type": "code",
   "execution_count": null,
   "id": "bff2ff94",
   "metadata": {},
   "outputs": [],
   "source": []
  },
  {
   "cell_type": "markdown",
   "id": "1944bee7",
   "metadata": {},
   "source": [
    "### LHAASO J1825-1326"
   ]
  },
  {
   "cell_type": "markdown",
   "id": "08b20e9f",
   "metadata": {},
   "source": [
    "Here we use the position property of the object to select sources (in the gammapy catalogs) within a region from source:"
   ]
  },
  {
   "cell_type": "code",
   "execution_count": null,
   "id": "3fd676cc",
   "metadata": {},
   "outputs": [],
   "source": [
    "source_name = \"LHAASO J1825-1326\"  # Source name based on J2000 coordinates  \n",
    "source_txt  = source_name.replace(\" \", \"\") "
   ]
  },
  {
   "cell_type": "code",
   "execution_count": null,
   "id": "4e34fb66",
   "metadata": {},
   "outputs": [],
   "source": [
    "from astropy.coordinates import SkyCoord\n",
    "\n",
    "source_RA = 276.45 # Right ascension \n",
    "source_dec = -13.45 # Declination (degrees)\n",
    "\n",
    "source_position = SkyCoord(source_RA, source_dec, unit='deg') \n",
    "# source_position"
   ]
  },
  {
   "cell_type": "code",
   "execution_count": null,
   "id": "5edc4106",
   "metadata": {},
   "outputs": [],
   "source": [
    "angle_separation = 1 * u.deg\n",
    "angle_separation_txt = str(angle_separation.value).replace(\".0\", \"\").replace(\".\", \"dot\")+'degree'"
   ]
  },
  {
   "cell_type": "code",
   "execution_count": null,
   "id": "fc999c89",
   "metadata": {},
   "outputs": [],
   "source": [
    "# Creates the directories to save the flux points tables \n",
    "cfg.dir_flux_points_tables = \"flux_points_tables\"\n",
    "dir_fp_tab_counterparts = f\"{source_txt}_counterparts_{angle_separation_txt}\"\n",
    "\n",
    "path_flux_points_tables, path_fp_tab_counterparts = mkdir_sub_directory(\n",
    "    cfg.dir_flux_points_tables, \n",
    "    dir_fp_tab_counterparts\n",
    ")"
   ]
  },
  {
   "cell_type": "code",
   "execution_count": null,
   "id": "3b27ac17",
   "metadata": {
    "scrolled": false
   },
   "outputs": [],
   "source": [
    "counterparts_datasets = get_flux_points_tables(source_position, angle_separation)"
   ]
  },
  {
   "cell_type": "code",
   "execution_count": null,
   "id": "73dce317",
   "metadata": {},
   "outputs": [],
   "source": [
    "counterparts_datasets"
   ]
  },
  {
   "cell_type": "code",
   "execution_count": null,
   "id": "1b0816ff",
   "metadata": {},
   "outputs": [],
   "source": [
    "for i, dataset_fp in enumerate(counterparts_datasets):\n",
    "    print(i, dataset_fp.name)"
   ]
  },
  {
   "cell_type": "code",
   "execution_count": null,
   "id": "9a80c6b8",
   "metadata": {},
   "outputs": [],
   "source": []
  },
  {
   "cell_type": "code",
   "execution_count": null,
   "id": "5e27a34f",
   "metadata": {},
   "outputs": [],
   "source": []
  },
  {
   "cell_type": "code",
   "execution_count": null,
   "id": "91e1e102",
   "metadata": {},
   "outputs": [],
   "source": []
  },
  {
   "cell_type": "code",
   "execution_count": null,
   "id": "bf85b99a",
   "metadata": {},
   "outputs": [],
   "source": []
  },
  {
   "cell_type": "code",
   "execution_count": null,
   "id": "346e0ebe",
   "metadata": {},
   "outputs": [],
   "source": []
  },
  {
   "cell_type": "markdown",
   "id": "9251df01",
   "metadata": {},
   "source": [
    "<a id='3.2'></a>\n",
    "🔝 [Back to Top](#intro)<br>\n",
    "#### 3.2 CTA Simulations"
   ]
  },
  {
   "cell_type": "code",
   "execution_count": null,
   "id": "aaa5b58e",
   "metadata": {},
   "outputs": [],
   "source": [
    "PSR_name_1 = 'CTA - PSR J1826-1334'\n",
    "PSR_name_2 = 'CTA - PSR J1826-1256'\n",
    "table_CTA_1 = Table.read('CTA_PSRJ1826-1334.csv',format='ascii', delimiter=' ', comment='#')\n",
    "# table_CTA_1\n",
    "table_CTA_2 = Table.read('CTA_PSRJ1826-1256.csv',format='ascii', delimiter=' ', comment='#')\n",
    "# table_CTA_1"
   ]
  },
  {
   "cell_type": "code",
   "execution_count": null,
   "id": "1fabbd89",
   "metadata": {},
   "outputs": [],
   "source": [
    "datasets = Datasets(counterparts_datasets)\n",
    "datasets.models = sky_model\n",
    "# print(datasets)\n",
    "\n",
    "fitter = Fit()\n",
    "result_fit = fitter.run(datasets=datasets)"
   ]
  },
  {
   "cell_type": "code",
   "execution_count": null,
   "id": "278be23b",
   "metadata": {},
   "outputs": [],
   "source": [
    "print(spectral_model)"
   ]
  },
  {
   "cell_type": "code",
   "execution_count": null,
   "id": "fef102bb",
   "metadata": {},
   "outputs": [],
   "source": [
    "print(result_fit.parameters.to_table())"
   ]
  },
  {
   "cell_type": "code",
   "execution_count": null,
   "id": "792f44ee",
   "metadata": {},
   "outputs": [],
   "source": [
    "markers = ['H', 'D', 'd', 'P', 'X','o', 'v', '^', '<', '>',  '8', 's', 'p', '*', 'h']\n",
    "markers=['s','o','^']"
   ]
  },
  {
   "cell_type": "code",
   "execution_count": null,
   "id": "a95d61b4",
   "metadata": {
    "scrolled": true
   },
   "outputs": [],
   "source": [
    "# Creates the directories to save the flux points figures \n",
    "cfg.dir_flux_points_figures = \"flux_points_figures\"\n",
    "\n",
    "path_flux_points_figures = mkdir_sub_directory(\n",
    "    cfg.dir_flux_points_figures\n",
    ")"
   ]
  },
  {
   "cell_type": "markdown",
   "id": "033d6038",
   "metadata": {},
   "source": [
    "## AAAAAAAAAAAAAAAAAAAAA"
   ]
  },
  {
   "cell_type": "code",
   "execution_count": null,
   "id": "7df2a335",
   "metadata": {
    "scrolled": true
   },
   "outputs": [],
   "source": [
    "spectral_plot = False\n",
    "CTA_plot = False\n",
    "loc_legend = 'lower left'\n",
    "energy_bounds = [1e-8, 1e3] * u.TeV\n",
    "ylim = [1e-15, 1e-9]\n",
    "ncol = 2\n",
    "\n",
    "SED_fp(\n",
    "    datasets = datasets,\n",
    "    spectral_model=spectral_model, \n",
    "    sed_type = \"e2dnde\", \n",
    "    yaxis_units=\"erg cm-2 s-1\", \n",
    "    energy_bounds=energy_bounds, \n",
    "    ylim=ylim)"
   ]
  },
  {
   "cell_type": "code",
   "execution_count": null,
   "id": "fdf70872",
   "metadata": {
    "scrolled": false
   },
   "outputs": [],
   "source": [
    "print(result_fit.parameters.to_table())"
   ]
  },
  {
   "cell_type": "code",
   "execution_count": null,
   "id": "3ce4c468",
   "metadata": {},
   "outputs": [],
   "source": [
    "# help(plt.legend)"
   ]
  },
  {
   "cell_type": "code",
   "execution_count": null,
   "id": "627b5907",
   "metadata": {},
   "outputs": [],
   "source": [
    "ds_ = [counterparts_datasets[1],counterparts_datasets[2],counterparts_datasets[5],counterparts_datasets[9],counterparts_datasets[14], counterparts_datasets[15]]"
   ]
  },
  {
   "cell_type": "code",
   "execution_count": null,
   "id": "6a340a5b",
   "metadata": {},
   "outputs": [],
   "source": [
    "# datasets = Datasets(counterparts_datasets)\n",
    "datasets = Datasets(ds_)\n",
    "datasets.models = sky_model\n",
    "# print(datasets)\n",
    "\n",
    "fitter = Fit()\n",
    "result_fit = fitter.run(datasets=datasets)"
   ]
  },
  {
   "cell_type": "code",
   "execution_count": null,
   "id": "23e7c094",
   "metadata": {
    "scrolled": true
   },
   "outputs": [],
   "source": [
    "source_txt = 'LHAASOJ1825-1326_HESSJ1825-137_2'\n",
    "CTA = 2\n",
    "CTA_plot = True\n",
    "spectral_plot = True \n",
    "loc_legend = 'lower left'\n",
    "energy_bounds = [1e-4, 1e3] * u.TeV\n",
    "ylim = [1e-13, 1e-10]\n",
    "spectral_plot = True\n",
    "CTA_plot = True\n",
    "loc_legend = 'lower left'\n",
    "ncol = 2\n",
    "\n",
    "SED_fp(\n",
    "    datasets = datasets,\n",
    "    spectral_model=spectral_model, \n",
    "    sed_type = \"e2dnde\", \n",
    "    yaxis_units=\"erg cm-2 s-1\", \n",
    "    energy_bounds=energy_bounds, \n",
    "    ylim=ylim)"
   ]
  },
  {
   "cell_type": "code",
   "execution_count": null,
   "id": "d8426a72",
   "metadata": {
    "scrolled": true
   },
   "outputs": [],
   "source": [
    "print(result_fit.parameters.to_table())"
   ]
  },
  {
   "cell_type": "code",
   "execution_count": null,
   "id": "cc4919bf",
   "metadata": {},
   "outputs": [],
   "source": []
  },
  {
   "cell_type": "code",
   "execution_count": null,
   "id": "0fd99489",
   "metadata": {},
   "outputs": [],
   "source": [
    "ds_ = [counterparts_datasets[0],counterparts_datasets[3], counterparts_datasets[6],counterparts_datasets[10],counterparts_datasets[11]]\n",
    "ds_ = [datasets_cut_fp[0],datasets_cut_fp[3], datasets_cut_fp[6],datasets_cut_fp[10],datasets_cut_fp[11]]"
   ]
  },
  {
   "cell_type": "code",
   "execution_count": null,
   "id": "7cca2439",
   "metadata": {},
   "outputs": [],
   "source": [
    "spectral_model, sky_model = pwl_model()"
   ]
  },
  {
   "cell_type": "code",
   "execution_count": null,
   "id": "7a3402d6",
   "metadata": {
    "scrolled": true
   },
   "outputs": [],
   "source": [
    "datasets = Datasets(ds_)\n",
    "datasets.models = sky_model\n",
    "# print(datasets)\n",
    "\n",
    "fitter = Fit()\n",
    "result_fit = fitter.run(datasets=datasets)"
   ]
  },
  {
   "cell_type": "code",
   "execution_count": null,
   "id": "ec3ea8ea",
   "metadata": {
    "scrolled": false
   },
   "outputs": [],
   "source": [
    "source_txt = 'LHAASOJ1825-1326_HESSJ1826-130_1'\n",
    "\n",
    "CTA = 1\n",
    "CTA_plot = False\n",
    "spectral_plot = True \n",
    "loc_legend = 'lower left'\n",
    "energy_bounds = [1e-2, 3e2] * u.TeV\n",
    "ylim = [1e-15, 5e-11]\n",
    "\n",
    "loc_legend = 'upper left'\n",
    "ncol = 2\n",
    "SED_fp(\n",
    "    datasets = datasets,\n",
    "    spectral_model=spectral_model, \n",
    "    sed_type = \"e2dnde\", \n",
    "    yaxis_units=\"erg cm-2 s-1\", \n",
    "    energy_bounds=energy_bounds, \n",
    "    ylim=ylim)"
   ]
  },
  {
   "cell_type": "code",
   "execution_count": null,
   "id": "16afde0a",
   "metadata": {},
   "outputs": [],
   "source": [
    "print(result_fit.parameters.to_table())"
   ]
  },
  {
   "cell_type": "code",
   "execution_count": null,
   "id": "74847838",
   "metadata": {},
   "outputs": [],
   "source": []
  },
  {
   "cell_type": "markdown",
   "id": "86bfa841",
   "metadata": {},
   "source": [
    "### LHAASO J1908+0621"
   ]
  },
  {
   "cell_type": "markdown",
   "id": "835d42fa",
   "metadata": {},
   "source": [
    "Here we use the position property of the catalog object to select sources within a region (1 degree) from LHASSO source:"
   ]
  },
  {
   "cell_type": "code",
   "execution_count": null,
   "id": "5c94bcd6",
   "metadata": {},
   "outputs": [],
   "source": [
    "source_name = \"LHAASO J1908+0621\"  # Source name based on J2000 coordinates  \n",
    "source_txt  = source_name.replace(\" \", \"\") "
   ]
  },
  {
   "cell_type": "code",
   "execution_count": null,
   "id": "b411d78e",
   "metadata": {},
   "outputs": [],
   "source": [
    "source_RA = 287.05 # Right ascension \n",
    "source_dec = 6.35 # Declination (degrees)\n",
    "\n",
    "source_position = SkyCoord(source_RA, source_dec, unit='deg') \n",
    "# source_position"
   ]
  },
  {
   "cell_type": "code",
   "execution_count": null,
   "id": "5754c03f",
   "metadata": {},
   "outputs": [],
   "source": [
    "angle_separation = 1 * u.deg"
   ]
  },
  {
   "cell_type": "code",
   "execution_count": null,
   "id": "915cb5d3",
   "metadata": {},
   "outputs": [],
   "source": [
    "# Creates the directories to save the flux points tables \n",
    "cfg.dir_flux_points_tables = \"flux_points_tables\"\n",
    "dir_fp_tab_counterparts = f\"{source_txt}_counterparts_{angle_separation_txt}\"\n",
    "\n",
    "path_flux_points_tables, path_fp_tab_counterparts = mkdir_sub_directory(\n",
    "    cfg.dir_flux_points_tables, \n",
    "    dir_fp_tab_counterparts\n",
    ")"
   ]
  },
  {
   "cell_type": "code",
   "execution_count": null,
   "id": "37284066",
   "metadata": {},
   "outputs": [],
   "source": [
    "counterparts_datasets = get_counterparts_datasets(source_position, angle_separation)\n",
    "# for i, dataset_fp in enumerate(counterparts_datasets):\n",
    "#     print(i, dataset_fp.name)"
   ]
  },
  {
   "cell_type": "code",
   "execution_count": null,
   "id": "f232e1dd",
   "metadata": {},
   "outputs": [],
   "source": [
    "file_name = 'J1908_KM2A_201209'\n",
    "table_fp = table_to_SED_format(file_name)\n",
    "# table_fp"
   ]
  },
  {
   "cell_type": "code",
   "execution_count": null,
   "id": "c8b8cc5b",
   "metadata": {},
   "outputs": [],
   "source": [
    "spectral_model = LogParabolaSpectralModel(\n",
    "    alpha=0.1,\n",
    "    amplitude=\"1e-12 cm-2 s-1 TeV-1\",\n",
    "    reference=10 * u.TeV,\n",
    "    beta=2.0,\n",
    ")\n",
    "spectral_model_name=spectral_model.tag[0]\n",
    "\n",
    "sky_model = SkyModel(spectral_model=spectral_model, name=spectral_model_name)\n"
   ]
  },
  {
   "cell_type": "code",
   "execution_count": null,
   "id": "7e8ca9c3",
   "metadata": {},
   "outputs": [],
   "source": [
    "counterparts_datasets.append(ds_fp_from_table_fp(table_fp, sky_model))"
   ]
  },
  {
   "cell_type": "code",
   "execution_count": null,
   "id": "2fd69480",
   "metadata": {},
   "outputs": [],
   "source": [
    "for i, dataset_fp in enumerate(counterparts_datasets):\n",
    "    print(i, dataset_fp.name)"
   ]
  },
  {
   "cell_type": "code",
   "execution_count": null,
   "id": "53710b29",
   "metadata": {},
   "outputs": [],
   "source": []
  },
  {
   "cell_type": "markdown",
   "id": "50759293",
   "metadata": {},
   "source": [
    "<a id='3.2'></a>\n",
    "🔝 [Back to Top](#intro)<br>\n",
    "#### 3.2 CTA Simulations"
   ]
  },
  {
   "cell_type": "code",
   "execution_count": null,
   "id": "26f4cfd1",
   "metadata": {},
   "outputs": [],
   "source": [
    "PSR_name_1 = 'CTA - PSR J1907+0631'\n",
    "PSR_name_2 = 'CTA - PSR J1907+0602'\n",
    "\n",
    "table_CTA_1 = Table.read('CTA_PSRJ1907+0631.csv',format='ascii', delimiter=' ', comment='#')\n",
    "# table_CTA_1\n",
    "table_CTA_2 = Table.read('CTA_PSRJ1907+0602.csv',format='ascii', delimiter=' ', comment='#')\n",
    "# table_CTA_1"
   ]
  },
  {
   "cell_type": "code",
   "execution_count": null,
   "id": "f08aa6c5",
   "metadata": {},
   "outputs": [],
   "source": []
  },
  {
   "cell_type": "code",
   "execution_count": null,
   "id": "41a3fe75",
   "metadata": {},
   "outputs": [],
   "source": [
    "datasets = Datasets(counterparts_datasets)\n",
    "datasets.models = sky_model\n",
    "# print(datasets)\n",
    "\n",
    "fitter = Fit()\n",
    "result_fit = fitter.run(datasets=datasets)"
   ]
  },
  {
   "cell_type": "code",
   "execution_count": null,
   "id": "c8673b97",
   "metadata": {
    "scrolled": false
   },
   "outputs": [],
   "source": [
    "source_txt = 'LHAASOJ1908+0621_2'\n",
    "\n",
    "CTA = 2\n",
    "CTA_plot = True\n",
    "spectral_plot = True \n",
    "loc_legend = 'lower left'\n",
    "energy_bounds = [2e-2, 1e3] * u.TeV\n",
    "ylim = [1e-14, 3e-10]\n",
    "spectral_plot = True\n",
    "CTA_plot = True\n",
    "loc_legend = 'upper right'\n",
    "ncol = 3\n",
    "SED_fp(\n",
    "    datasets = datasets,\n",
    "    spectral_model=spectral_model, \n",
    "    sed_type = \"e2dnde\", \n",
    "    yaxis_units=\"erg cm-2 s-1\", \n",
    "    energy_bounds=energy_bounds, \n",
    "    ylim=ylim)"
   ]
  },
  {
   "cell_type": "code",
   "execution_count": null,
   "id": "07a4e739",
   "metadata": {},
   "outputs": [],
   "source": [
    "print(result_fit.parameters.to_table())"
   ]
  },
  {
   "cell_type": "code",
   "execution_count": null,
   "id": "dcb95edd",
   "metadata": {},
   "outputs": [],
   "source": []
  },
  {
   "cell_type": "markdown",
   "id": "56253f0c",
   "metadata": {},
   "source": [
    "### LHAASO J2226+6057"
   ]
  },
  {
   "cell_type": "markdown",
   "id": "a8e6c233",
   "metadata": {},
   "source": [
    "Here we use the position property of the catalog object to select sources within a region (1 degree) from LHASSO source:"
   ]
  },
  {
   "cell_type": "code",
   "execution_count": null,
   "id": "5f00eade",
   "metadata": {},
   "outputs": [],
   "source": [
    "source_name = \"LHAASO J2226+6057\"  # Source name based on J2000 coordinates  \n",
    "source_txt  = source_name.replace(\" \", \"\") "
   ]
  },
  {
   "cell_type": "code",
   "execution_count": null,
   "id": "cc8c3117",
   "metadata": {},
   "outputs": [],
   "source": [
    "source_RA = 336.75 # Right ascension \n",
    "source_dec = 60.95 # Declination (degrees)\n",
    "\n",
    "source_position = SkyCoord(source_RA, source_dec, unit='deg') \n",
    "# source_position"
   ]
  },
  {
   "cell_type": "code",
   "execution_count": null,
   "id": "99fc629a",
   "metadata": {},
   "outputs": [],
   "source": [
    "angle_separation = 1 * u.deg"
   ]
  },
  {
   "cell_type": "code",
   "execution_count": null,
   "id": "ced27d77",
   "metadata": {},
   "outputs": [],
   "source": [
    "# Creates the directories to save the flux points tables \n",
    "cfg.dir_flux_points_tables = \"flux_points_tables\"\n",
    "dir_fp_tab_counterparts = f\"{source_txt}_counterparts_{angle_separation_txt}\"\n",
    "\n",
    "path_flux_points_tables, path_fp_tab_counterparts = mkdir_sub_directory(\n",
    "    cfg.dir_flux_points_tables, \n",
    "    dir_fp_tab_counterparts\n",
    ")"
   ]
  },
  {
   "cell_type": "code",
   "execution_count": null,
   "id": "4d46cecd",
   "metadata": {},
   "outputs": [],
   "source": [
    "counterparts_datasets = get_counterparts_datasets(source_position, angle_separation)\n",
    "# for i, dataset_fp in enumerate(counterparts_datasets):\n",
    "#     print(i, dataset_fp.name)"
   ]
  },
  {
   "cell_type": "code",
   "execution_count": null,
   "id": "e960ac79",
   "metadata": {},
   "outputs": [],
   "source": []
  },
  {
   "cell_type": "code",
   "execution_count": null,
   "id": "f33de420",
   "metadata": {},
   "outputs": [],
   "source": [
    "file_name = 'J2228_KM2A_201209'"
   ]
  },
  {
   "cell_type": "code",
   "execution_count": null,
   "id": "2e368582",
   "metadata": {},
   "outputs": [],
   "source": []
  },
  {
   "cell_type": "code",
   "execution_count": null,
   "id": "8a4b188f",
   "metadata": {},
   "outputs": [],
   "source": [
    "table_fp = table_to_SED_format(file_name)\n",
    "# table_fp"
   ]
  },
  {
   "cell_type": "code",
   "execution_count": null,
   "id": "deca5cfa",
   "metadata": {},
   "outputs": [],
   "source": [
    "spectral_model = LogParabolaSpectralModel(\n",
    "    alpha=2.27,\n",
    "    amplitude=\"1e-12 cm-2 s-1 TeV-1\",\n",
    "    reference=10 * u.TeV,\n",
    "    beta=1.19,\n",
    ")\n",
    "spectral_model_name=spectral_model.tag[0]\n",
    "\n",
    "sky_model = SkyModel(spectral_model=spectral_model, name=spectral_model_name)\n"
   ]
  },
  {
   "cell_type": "code",
   "execution_count": null,
   "id": "cbf3bc95",
   "metadata": {},
   "outputs": [],
   "source": [
    "counterparts_datasets.append(ds_fp_from_table_fp(table_fp, sky_model))"
   ]
  },
  {
   "cell_type": "code",
   "execution_count": null,
   "id": "83492a07",
   "metadata": {},
   "outputs": [],
   "source": [
    "for i, dataset_fp in enumerate(counterparts_datasets):\n",
    "    print(i, dataset_fp.name)"
   ]
  },
  {
   "cell_type": "code",
   "execution_count": null,
   "id": "3406952c",
   "metadata": {},
   "outputs": [],
   "source": []
  },
  {
   "cell_type": "markdown",
   "id": "cd94aa19",
   "metadata": {},
   "source": [
    "<a id='3.2'></a>\n",
    "🔝 [Back to Top](#intro)<br>\n",
    "#### 3.2 CTA Simulations"
   ]
  },
  {
   "cell_type": "code",
   "execution_count": null,
   "id": "f93d8c20",
   "metadata": {},
   "outputs": [],
   "source": [
    "PSR_name_1 = 'CTA - PSR J2229+6114'\n",
    "\n",
    "table_CTA_1 = Table.read('CTA_PSRJ2229+6114.csv',format='ascii', delimiter=' ', comment='#')\n",
    "# table_CTA"
   ]
  },
  {
   "cell_type": "code",
   "execution_count": null,
   "id": "b884fe55",
   "metadata": {},
   "outputs": [],
   "source": [
    "datasets = Datasets(counterparts_datasets)\n",
    "datasets.models = sky_model\n",
    "# print(datasets)\n",
    "\n",
    "fitter = Fit()\n",
    "result_fit = fitter.run(datasets=datasets)"
   ]
  },
  {
   "cell_type": "code",
   "execution_count": null,
   "id": "a5b2d015",
   "metadata": {
    "scrolled": false
   },
   "outputs": [],
   "source": [
    "\n",
    "CTA = 1\n",
    "CTA_plot = True\n",
    "spectral_plot = True \n",
    "loc_legend = 'lower left'\n",
    "energy_bounds = [1e-1, 1e3] * u.TeV\n",
    "ylim = [1e-13, 5e-11]\n",
    "spectral_plot = True\n",
    "CTA_plot = True\n",
    "loc_legend = 'upper right'\n",
    "ncol = 2\n",
    "\n",
    "SED_fp(\n",
    "    datasets = datasets,\n",
    "    spectral_model=spectral_model, \n",
    "    sed_type = \"e2dnde\", \n",
    "    yaxis_units=\"erg cm-2 s-1\", \n",
    "    energy_bounds=energy_bounds, \n",
    "    ylim=ylim)"
   ]
  },
  {
   "cell_type": "code",
   "execution_count": null,
   "id": "cda110f4",
   "metadata": {},
   "outputs": [],
   "source": [
    "print(result_fit.parameters.to_table())"
   ]
  },
  {
   "cell_type": "code",
   "execution_count": null,
   "id": "fc8924be",
   "metadata": {},
   "outputs": [],
   "source": []
  },
  {
   "cell_type": "code",
   "execution_count": null,
   "id": "e405b825",
   "metadata": {},
   "outputs": [],
   "source": []
  },
  {
   "cell_type": "code",
   "execution_count": null,
   "id": "db703a24",
   "metadata": {},
   "outputs": [],
   "source": []
  },
  {
   "cell_type": "code",
   "execution_count": null,
   "id": "ab18ffe0",
   "metadata": {},
   "outputs": [],
   "source": []
  },
  {
   "cell_type": "code",
   "execution_count": null,
   "id": "3c876df1",
   "metadata": {},
   "outputs": [],
   "source": []
  },
  {
   "cell_type": "code",
   "execution_count": null,
   "id": "1ba0dcb3",
   "metadata": {},
   "outputs": [],
   "source": [
    "# ds_name = f\"{source.name}: {catalog.tag}\"  \n",
    "# ds = FluxPointsDataset(\n",
    "#     data=flux_points, \n",
    "#     name=  ds_name\n",
    "# )"
   ]
  },
  {
   "cell_type": "code",
   "execution_count": null,
   "id": "46e54464",
   "metadata": {},
   "outputs": [],
   "source": [
    "# file_name = f'{source_txt}_{counterpart_txt}_{catalog_tag}_e_ref_min_{e_ref_min_name}{format_fits}'\n",
    "# file_path = make_path(f\"{path_flux_points_tables}/{file_name}\")\n",
    "# flux_points = FluxPoints.read(file_path, sed_type=sed_type)\n",
    "# ds = FluxPointsDataset(\n",
    "#     data = flux_points, \n",
    "#     name = f\"{counterpart_name}: {catalog_tag}\"\n",
    "# )"
   ]
  },
  {
   "cell_type": "code",
   "execution_count": null,
   "id": "94d89bae",
   "metadata": {},
   "outputs": [],
   "source": [
    "# flux_points.plot()"
   ]
  },
  {
   "cell_type": "code",
   "execution_count": null,
   "id": "c2693527",
   "metadata": {},
   "outputs": [],
   "source": [
    "datasets = Datasets(ds)\n",
    "\n",
    "\n",
    "# opts = dict(sed_type=\"e2dnde\", yunits=u.Unit(\"TeV cm-2 s-1\"))\n",
    "energy_bounds = [1e-3, 1e3] * u.TeV\n",
    "ylim = [1e-13, 1e-9]\n",
    "plotting_SED_flux_pointing(\n",
    "    datasets = datasets,\n",
    "#     spectral_model=spectral_model, \n",
    "    sed_type = \"e2dnde\", \n",
    "    yaxis_units=\"erg cm-2 s-1\", \n",
    "    energy_bounds=energy_bounds, \n",
    "    ylim=ylim)\n"
   ]
  },
  {
   "cell_type": "code",
   "execution_count": null,
   "id": "0e8f1eb5",
   "metadata": {},
   "outputs": [],
   "source": [
    "counterparts_datasets = []\n",
    "\n",
    "for i, catalog in enumerate(catalog_roi):\n",
    "#     print(catalog)\n",
    "    for j, source in enumerate(catalog):\n",
    "#         print(source)\n",
    "#         print(f\"{source.name}: {catalog.tag}\") \n",
    "        \n",
    "        try:\n",
    "            ds_name = f\"{source.name}: {catalog.tag}\"  \n",
    "            ds = FluxPointsDataset(\n",
    "                models = source.sky_model(),\n",
    "                data=source.flux_points, \n",
    "                name=  ds_name\n",
    "            )\n",
    "\n",
    "            counterparts_datasets.append(ds)\n",
    "            \n",
    "            table = ds.data.to_table(\n",
    "                sed_type = sed_type, \n",
    "                formatted = True\n",
    "            )\n",
    "\n",
    "            # Setting the units\n",
    "\n",
    "            # Writes the flux points table in the fits format\n",
    "            file_name = f'{source_txt}_{counterpart_txt}_{catalog_tag}{format_fits}'\n",
    "            path_os = os.path.abspath(\n",
    "                os.path.join(\n",
    "                    f\"{path_flux_points_tables}/{file_name}\"\n",
    "                )\n",
    "            )      \n",
    "\n",
    "            if path_os not in sys.path:\n",
    "                sys.path.append(path_os)\n",
    "\n",
    "            table.write(\n",
    "                f\"{path_os}\",\n",
    "                format = 'fits', \n",
    "                overwrite = True\n",
    "            )   \n",
    "\n",
    "                \n",
    "        except:\n",
    "            print(ds_name) "
   ]
  },
  {
   "cell_type": "code",
   "execution_count": null,
   "id": "ceee427d",
   "metadata": {},
   "outputs": [],
   "source": [
    "counterparts_datasets"
   ]
  },
  {
   "cell_type": "markdown",
   "id": "e957750b",
   "metadata": {},
   "source": [
    "<a id='3.2'></a>\n",
    "🔝 [Back to Top](#intro)<br>\n",
    "#### 3.2 Gammapy Catalogs\n",
    "Loading the catalogs and sources to be studied"
   ]
  },
  {
   "cell_type": "code",
   "execution_count": null,
   "id": "f41d1454",
   "metadata": {},
   "outputs": [],
   "source": [
    "# Creating a dictionary of the Potential TeV Counterparts (dict values) \n",
    "# of the three most significant (excluding Crab) LHASSO observations (dict keys)\n",
    "# see https://www.nature.com/articles/s41586-021-03498-z\n",
    "dict_TeV_counterparts = {\n",
    "    \"LHAASO J1825-1326\": [\"HESS J1825-137\", \"HESS J1826-130\", \"2HWC J1825-134\"], \n",
    "    \"LHAASO J1908+0621\": [\"MGRO J1908+06\" , \"HESS J1908+063\", \"ARGO J1907+0627\", \"VER J1907+062\", \"2HWC J1908+063\"], \n",
    "    \"LHAASO J2226+6057\": [\"VER J2227+608\"  , \"Boomerang\"]\n",
    "}"
   ]
  },
  {
   "cell_type": "code",
   "execution_count": null,
   "id": "45eea7dc",
   "metadata": {
    "scrolled": true
   },
   "outputs": [],
   "source": [
    "# Creating the directories to save the flux points tables from Gammapy catalogs\n",
    "cfg.dir_flux_points_tables = \"flux_points_tables\"\n",
    "\n",
    "path_flux_points_tables = mkdir_sub_directory(\n",
    "    cfg.dir_flux_points_tables\n",
    ")"
   ]
  },
  {
   "cell_type": "code",
   "execution_count": null,
   "id": "2a04ce97",
   "metadata": {
    "scrolled": true
   },
   "outputs": [],
   "source": [
    "# Getting the data of the sources from the catalogs of the Gammapy package\n",
    "df_fp, counterparts_datasets, sources_catalogs = getting_source_data(dict_TeV_counterparts, catalogs_tags)"
   ]
  },
  {
   "cell_type": "code",
   "execution_count": null,
   "id": "ef52fae8",
   "metadata": {},
   "outputs": [],
   "source": [
    "df_fp"
   ]
  },
  {
   "cell_type": "code",
   "execution_count": null,
   "id": "63a3243b",
   "metadata": {},
   "outputs": [],
   "source": [
    "df_fp[['source_name','counterpart_name','flux_points']]"
   ]
  },
  {
   "cell_type": "code",
   "execution_count": null,
   "id": "da02c715",
   "metadata": {},
   "outputs": [],
   "source": [
    "import dataframe_image as dfi\n",
    "dfi.export(df_fp[['source_name','counterpart_name','flux_points']], 'df_fp.png')"
   ]
  },
  {
   "cell_type": "code",
   "execution_count": null,
   "id": "6cc8c180",
   "metadata": {},
   "outputs": [],
   "source": [
    "import numpy as np\n",
    "import astropy.units as u\n",
    "\n",
    "# %matplotlib inline\n",
    "import matplotlib.pyplot as plt\n",
    "from IPython.display import display\n",
    "from gammapy.catalog import CATALOG_REGISTRY\n",
    "\n",
    "from pandas import read_csv"
   ]
  },
  {
   "cell_type": "code",
   "execution_count": null,
   "id": "b1cdb863",
   "metadata": {},
   "outputs": [],
   "source": [
    "counterpart_name = list(dict_TeV_counterparts.values())[0][0]"
   ]
  },
  {
   "cell_type": "code",
   "execution_count": null,
   "id": "3833ab09",
   "metadata": {
    "scrolled": false
   },
   "outputs": [],
   "source": [
    "print(df_fp[['source_name','counterpart_name','flux_points']].to_latex(index=False)) "
   ]
  },
  {
   "cell_type": "code",
   "execution_count": null,
   "id": "913e562a",
   "metadata": {},
   "outputs": [],
   "source": []
  },
  {
   "cell_type": "code",
   "execution_count": null,
   "id": "5f7cbb59",
   "metadata": {},
   "outputs": [],
   "source": [
    "\n",
    "df_no_pf = read_csv(f\"{os.getcwd()}/data_frame_no_flux_points.csv\", index_col = 'counterpart_index')\n",
    "df_no_pf"
   ]
  },
  {
   "cell_type": "code",
   "execution_count": null,
   "id": "fe688e0d",
   "metadata": {
    "scrolled": true
   },
   "outputs": [],
   "source": [
    "print(df_no_pf[['source_name','counterpart_name', 'catalog']].to_latex(index=False)) "
   ]
  },
  {
   "cell_type": "code",
   "execution_count": null,
   "id": "9b705612",
   "metadata": {},
   "outputs": [],
   "source": [
    "dict_TeV_counterparts"
   ]
  },
  {
   "cell_type": "code",
   "execution_count": null,
   "id": "9dabc839",
   "metadata": {},
   "outputs": [],
   "source": [
    "print(catalog_2fhl[\"HESS J1825-137\"])"
   ]
  },
  {
   "cell_type": "code",
   "execution_count": null,
   "id": "553c8bed",
   "metadata": {},
   "outputs": [],
   "source": [
    "# Celestial coordinates: RA (°)dec. (°)\n",
    "# LHAASO J1825-1326: 276.45,-13.45\n",
    "# LHAASO J1908+0621\n"
   ]
  },
  {
   "cell_type": "code",
   "execution_count": null,
   "id": "b0059048",
   "metadata": {},
   "outputs": [],
   "source": [
    "print(catalog_roi[2][0].info())"
   ]
  },
  {
   "cell_type": "code",
   "execution_count": null,
   "id": "03a57ddd",
   "metadata": {
    "scrolled": true
   },
   "outputs": [],
   "source": [
    "display(counterparts_datasets)"
   ]
  },
  {
   "cell_type": "code",
   "execution_count": null,
   "id": "d39a67d4",
   "metadata": {},
   "outputs": [],
   "source": [
    "sky_model = source.sky_model()\n",
    "spectral_model = source.spectral_model()\n",
    "\n",
    "spectral_model_name=sky_model.spectral_model.tag[1]\n",
    "model = SkyModel(spectral_model=source.spectral_model(), name=spectral_model_name)"
   ]
  },
  {
   "cell_type": "code",
   "execution_count": null,
   "id": "70f08ef0",
   "metadata": {},
   "outputs": [],
   "source": [
    "datasets = Datasets([counterparts_datasets[0], counterparts_datasets[1], counterparts_datasets[2], counterparts_datasets[3], counterparts_datasets[4], counterparts_datasets[5],counterparts_datasets[6]\n",
    "                    , counterparts_datasets[7], counterparts_datasets[8], counterparts_datasets[9], counterparts_datasets[10], counterparts_datasets[11], counterparts_datasets[12], counterparts_datasets[13], counterparts_datasets[14], counterparts_datasets[15]])\n",
    "datasets.models = model\n",
    "# print(datasets)\n",
    "\n",
    "fitter = Fit()\n",
    "result_pwl = fitter.run(datasets=datasets)"
   ]
  },
  {
   "cell_type": "code",
   "execution_count": null,
   "id": "074ea150",
   "metadata": {},
   "outputs": [],
   "source": []
  },
  {
   "cell_type": "code",
   "execution_count": null,
   "id": "0c1854b3",
   "metadata": {},
   "outputs": [],
   "source": []
  },
  {
   "cell_type": "code",
   "execution_count": null,
   "id": "6ae3d1f2",
   "metadata": {},
   "outputs": [],
   "source": [
    "from astropy.table import Table\n",
    "\n",
    "table_CTA = Table.read('CTA_table.csv',format='ascii', delimiter=' ', comment='#')\n",
    "table_CTA"
   ]
  },
  {
   "cell_type": "code",
   "execution_count": null,
   "id": "0db2232d",
   "metadata": {},
   "outputs": [],
   "source": [
    "CTA_sensitivity = Table.read('CTA_sensitivity.csv',format='ascii', delimiter=' ', comment='#')\n",
    "CTA_sensitivity"
   ]
  },
  {
   "cell_type": "code",
   "execution_count": null,
   "id": "873328cb",
   "metadata": {},
   "outputs": [],
   "source": [
    "fix, axes = plt.subplots(figsize=(5, 3))\n",
    "\n",
    "axes.plot(CTA_sensitivity[\"energy\"], CTA_sensitivity[\"e2dnde\"], \"s-\", color=\"red\")\n",
    "axes.loglog()"
   ]
  },
  {
   "cell_type": "code",
   "execution_count": null,
   "id": "b24ac6c0",
   "metadata": {},
   "outputs": [],
   "source": [
    " counterparts_datasets[0].data.to_table(sed_type='e2dnde')"
   ]
  },
  {
   "cell_type": "code",
   "execution_count": null,
   "id": "05c85f68",
   "metadata": {},
   "outputs": [],
   "source": [
    "from gammapy.estimators import FluxPoints"
   ]
  },
  {
   "cell_type": "code",
   "execution_count": null,
   "id": "972bcdec",
   "metadata": {},
   "outputs": [],
   "source": [
    "len(counterparts_datasets)"
   ]
  },
  {
   "cell_type": "code",
   "execution_count": null,
   "id": "df855d05",
   "metadata": {
    "scrolled": true
   },
   "outputs": [],
   "source": [
    "datasets = Datasets([\n",
    "#     counterparts_datasets[0], \n",
    "                     counterparts_datasets[1], \n",
    "                     counterparts_datasets[2], \n",
    "#                      counterparts_datasets[3], \n",
    "#                      counterparts_datasets[4],\n",
    "                     counterparts_datasets[5],\n",
    "#                      counterparts_datasets[6], \n",
    "#                      counterparts_datasets[7], \n",
    "#                      counterparts_datasets[8], \n",
    "                     counterparts_datasets[9], \n",
    "#                      counterparts_datasets[10], \n",
    "#                      counterparts_datasets[11], \n",
    "                     counterparts_datasets[12], \n",
    "#                      counterparts_datasets[13], \n",
    "                     counterparts_datasets[14], \n",
    "#                      counterparts_datasets[15]\n",
    "                    ])\n",
    "datasets.models = model\n",
    "# print(datasets)\n",
    "\n",
    "fitter = Fit()\n",
    "result_pwl = fitter.run(datasets=datasets)\n",
    "\n",
    "fig, ax = plt.subplots(figsize=(10, 6))\n",
    "ax.yaxis.set_units(u.Unit(\"erg cm-2 s-1\"))\n",
    "ax.xaxis.set_units(u.Unit(\"TeV\"))\n",
    "FluxPoints.from_table(table = table_CTA, sed_type='e2dnde').plot(label= 'CTA')\n",
    "kwargs = {\"ax\": ax, \"sed_type\": \"e2dnde\"}\n",
    "\n",
    "table_index =2\n",
    "# source_name = PeVatrons_names[table_index]\n",
    "# kwargs_PeV = {\n",
    "#     'label': source_name\n",
    "# }\n",
    "# ax.plot(x_data[table_index], y_data[table_index], 'o', color='red', lw=2, ms=4)\n",
    "# ax.errorbar(x_data[table_index], y_data[table_index], yerr=[y_errn[table_index], y_errp[table_index]],fmt='.', color='red', **kwargs_PeV)\n",
    "\n",
    "    \n",
    "for d in datasets:\n",
    "    d.data.plot(label=d.name, **kwargs)\n",
    "\n",
    "energy_bounds = [1e-5, 1e2] * u.TeV\n",
    "# pwl.plot(energy_bounds=energy_bounds, color=\"k\", **kwargs)\n",
    "# pwl.plot_error(energy_bounds=energy_bounds, **kwargs)\n",
    "ax.loglog()\n",
    "ax.legend(loc=\"best\")\n",
    "ax.set_ylim(1e-15, 1e-9)\n",
    "ax.set_xlim(energy_bounds)\n",
    "plt.xlabel(\"Energy (TeV)\")   \n",
    "plt.ylabel(r\"$E^{2}$dN/dE (erg $cm^{-2}$ $s^{-1}$)\")\n",
    "ax.legend(loc='lower left', prop={'size': 8})\n",
    "plt.show()"
   ]
  },
  {
   "cell_type": "code",
   "execution_count": null,
   "id": "ff72fba2",
   "metadata": {},
   "outputs": [],
   "source": [
    "datasets = Datasets([\n",
    "    counterparts_datasets[0], \n",
    "\n",
    "                     counterparts_datasets[3], \n",
    "                     counterparts_datasets[4],\n",
    "                     counterparts_datasets[6], \n",
    "                     counterparts_datasets[7], \n",
    "                     counterparts_datasets[8], \n",
    "                     counterparts_datasets[10], \n",
    "                     counterparts_datasets[11], \n",
    "                     counterparts_datasets[13], \n",
    "                     counterparts_datasets[15]\n",
    "                    ])\n",
    "datasets.models = model\n",
    "# print(datasets)\n",
    "\n",
    "fitter = Fit()\n",
    "result_pwl = fitter.run(datasets=datasets)\n",
    "\n",
    "fig, ax = plt.subplots(figsize=(10, 6))\n",
    "\n",
    "# ax = plt.subplot(figsize=(5, 3))\n",
    "ax.yaxis.set_units(u.Unit(\"erg cm-2 s-1\"))\n",
    "ax.xaxis.set_units(u.Unit(\"TeV\"))\n",
    "\n",
    "kwargs = {\"ax\": ax, \"sed_type\": \"e2dnde\"}\n",
    "\n",
    "for d in datasets:\n",
    "    d.data.plot(label=d.name, **kwargs)\n",
    "\n",
    "energy_bounds = [1e-8, 1e3] * u.TeV\n",
    "# pwl.plot(energy_bounds=energy_bounds, color=\"k\", **kwargs)\n",
    "# pwl.plot_error(energy_bounds=energy_bounds, **kwargs)\n",
    "ax.legend(loc=\"best\")\n",
    "ax.set_ylim(1e-20, 1e-6)\n",
    "ax.set_xlim(energy_bounds)\n",
    "ax.legend(loc='lower left', prop={'size': 8})\n",
    "plt.show()"
   ]
  },
  {
   "cell_type": "code",
   "execution_count": null,
   "id": "6d84334c",
   "metadata": {},
   "outputs": [],
   "source": [
    "counterparts_datasets"
   ]
  },
  {
   "cell_type": "code",
   "execution_count": null,
   "id": "a37a97ec",
   "metadata": {},
   "outputs": [],
   "source": [
    "print(catalog_roi[1])"
   ]
  },
  {
   "cell_type": "code",
   "execution_count": null,
   "id": "026fb225",
   "metadata": {},
   "outputs": [],
   "source": [
    "catalog_roi[0].flux_points_table"
   ]
  },
  {
   "cell_type": "code",
   "execution_count": null,
   "id": "a9275d40",
   "metadata": {},
   "outputs": [],
   "source": [
    "catalog_roi.source_name(0)"
   ]
  },
  {
   "cell_type": "code",
   "execution_count": null,
   "id": "ebcd512d",
   "metadata": {},
   "outputs": [],
   "source": [
    "source = catalog_roi[0]\n",
    "print(source.sky_model())"
   ]
  },
  {
   "cell_type": "code",
   "execution_count": null,
   "id": "dceba523",
   "metadata": {},
   "outputs": [],
   "source": [
    "sky_model = source.sky_model()\n",
    "spectral_model = source.spectral_model()\n",
    "\n",
    "spectral_model_name=sky_model.spectral_model.tag[1]\n"
   ]
  },
  {
   "cell_type": "code",
   "execution_count": null,
   "id": "6f03d804",
   "metadata": {},
   "outputs": [],
   "source": [
    "spectral_model_name"
   ]
  },
  {
   "cell_type": "code",
   "execution_count": null,
   "id": "0637b1a3",
   "metadata": {},
   "outputs": [],
   "source": [
    "print(source.spectral_model())"
   ]
  },
  {
   "cell_type": "code",
   "execution_count": null,
   "id": "b91fe968",
   "metadata": {},
   "outputs": [],
   "source": [
    "from gammapy.catalog import SourceCatalog4FGL\n",
    "catalog = SourceCatalog4FGL(\"$GAMMAPY_DATA/catalogs/fermi/gll_psc_v28.fit.gz\")\n",
    "print(\"Number of sources :\", len(catalog.table))"
   ]
  },
  {
   "cell_type": "code",
   "execution_count": null,
   "id": "c1d3de6a",
   "metadata": {},
   "outputs": [],
   "source": [
    "display(catalog.table)"
   ]
  },
  {
   "cell_type": "code",
   "execution_count": null,
   "id": "794bb28a",
   "metadata": {},
   "outputs": [],
   "source": [
    "catalog['HESS J1826-130'].flux_points.plot(sed_type='e2dnde')"
   ]
  },
  {
   "cell_type": "code",
   "execution_count": null,
   "id": "035cc866",
   "metadata": {},
   "outputs": [],
   "source": [
    "catalog_roi.tag"
   ]
  },
  {
   "cell_type": "code",
   "execution_count": null,
   "id": "e9462e85",
   "metadata": {},
   "outputs": [],
   "source": [
    "catalog = catalogs_cls[7]\n",
    "print(f\"{catalog.tag}: {catalog.description}\")"
   ]
  },
  {
   "cell_type": "code",
   "execution_count": null,
   "id": "5a6fb794",
   "metadata": {},
   "outputs": [],
   "source": [
    "source1 = catalog['3FHL J1823.3-1339']\n",
    "# source1.data"
   ]
  },
  {
   "cell_type": "code",
   "execution_count": null,
   "id": "4abcb4e4",
   "metadata": {},
   "outputs": [],
   "source": [
    "source1.flux_points.plot()"
   ]
  },
  {
   "cell_type": "code",
   "execution_count": null,
   "id": "ca4b8b96",
   "metadata": {},
   "outputs": [],
   "source": [
    "source2 = catalog['3FHL J1824.5-1351e']\n",
    "source2.flux_points.plot()"
   ]
  },
  {
   "cell_type": "code",
   "execution_count": null,
   "id": "2900cdf5",
   "metadata": {},
   "outputs": [],
   "source": [
    "\n",
    "source3 = catalog['3FHL J1826.1-1256']\n",
    "source3.flux_points.plot()"
   ]
  },
  {
   "cell_type": "code",
   "execution_count": null,
   "id": "48f960a7",
   "metadata": {},
   "outputs": [],
   "source": [
    "ds_1 = FluxPointsDataset(data=source1.flux_points, name=source1.name)\n",
    "ds_1.data.to_table(sed_type=\"dnde\", formatted=True)\n",
    "\n"
   ]
  },
  {
   "cell_type": "code",
   "execution_count": null,
   "id": "92e21d3c",
   "metadata": {},
   "outputs": [],
   "source": [
    "ds_2 = FluxPointsDataset(data=source2.flux_points, name=source2.name)\n",
    "ds_2.data.to_table(sed_type=\"dnde\", formatted=True)\n",
    "\n"
   ]
  },
  {
   "cell_type": "code",
   "execution_count": null,
   "id": "09dd796a",
   "metadata": {},
   "outputs": [],
   "source": [
    "ds_3 = FluxPointsDataset(data=source3.flux_points, name=source3.name)\n",
    "ds_3.data.to_table(sed_type=\"dnde\", formatted=True)"
   ]
  },
  {
   "cell_type": "code",
   "execution_count": null,
   "id": "69c9f355",
   "metadata": {},
   "outputs": [],
   "source": [
    "pwl = PowerLawSpectralModel(\n",
    "    index=2, amplitude=\"1e-12 cm-2 s-1 TeV-1\", reference=\"1 TeV\"\n",
    ")\n",
    "model = SkyModel(spectral_model=pwl, name=\"j1507-pl\")"
   ]
  },
  {
   "cell_type": "code",
   "execution_count": null,
   "id": "21c25e53",
   "metadata": {},
   "outputs": [],
   "source": [
    "datasets = Datasets([ds_1, ds_2, ds_3])\n",
    "datasets.models = model\n",
    "print(datasets)\n",
    "\n",
    "fitter = Fit()\n",
    "result_pwl = fitter.run(datasets=datasets)"
   ]
  },
  {
   "cell_type": "code",
   "execution_count": null,
   "id": "a0f329cf",
   "metadata": {},
   "outputs": [],
   "source": [
    "ax = plt.subplot()\n",
    "ax.yaxis.set_units(u.Unit(\"erg cm-2 s-1\"))\n",
    "ax.xaxis.set_units(u.Unit(\"TeV\"))\n",
    "\n",
    "kwargs = {\"ax\": ax, \"sed_type\": \"e2dnde\"}\n",
    "\n",
    "for d in datasets:\n",
    "    d.data.plot(label=d.name, **kwargs)\n",
    "\n",
    "energy_bounds = [1e-10, 1e3] * u.TeV\n",
    "# pwl.plot(energy_bounds=energy_bounds, color=\"k\", **kwargs)\n",
    "# pwl.plot_error(energy_bounds=energy_bounds, **kwargs)\n",
    "ax.set_ylim(1e-16, 1e-9)\n",
    "ax.set_xlim(energy_bounds)\n",
    "ax.legend()\n",
    "plt.show()"
   ]
  },
  {
   "cell_type": "code",
   "execution_count": null,
   "id": "2d4c172f",
   "metadata": {},
   "outputs": [],
   "source": [
    "sky_model = source.sky_model()\n",
    "spectral_model = source.spectral_model()\n",
    "\n",
    "# name=spectral_model_name=sky_model.spectral_model.tag[0]\n",
    "# print(name)\n"
   ]
  },
  {
   "cell_type": "code",
   "execution_count": null,
   "id": "7956d40d",
   "metadata": {},
   "outputs": [],
   "source": [
    "ds_name = f\"{source.name}: {catalog.tag}\"\n",
    "# ds = FluxPointsDataset(\n",
    "#     models = source.sky_model(),\n",
    "#     data=source.flux_points, \n",
    "#     name=  ds_name     \n",
    "# )"
   ]
  },
  {
   "cell_type": "code",
   "execution_count": null,
   "id": "9bd7bcf1",
   "metadata": {},
   "outputs": [],
   "source": [
    "sky_model = SkyModel(spectral_model=spectral_model, name=spectral_model_name)\n",
    "\n",
    "ds_J1908 = FluxPointsDataset(\n",
    "                        models = sky_model,\n",
    "                        data=source.flux_points, \n",
    "                        name=  sky_model.name     \n",
    "                    )\n",
    "\n",
    "datasets = Datasets(ds_J1908)\n",
    "datasets.models = sky_model\n",
    "\n",
    "fitter = Fit()\n",
    "\n",
    "result_fit = fitter.run(datasets=datasets)\n",
    "\n",
    "plt.style.use(['default'])\n",
    "\n",
    "ax = plt.subplot()\n",
    "ax.yaxis.set_units(u.Unit(\"erg cm-2 s-1\"))\n",
    "ax.xaxis.set_units(u.Unit(\"TeV\"))\n",
    "\n",
    "kwargs = {\"ax\": ax, \"sed_type\": \"e2dnde\"}\n",
    "\n",
    "for d in datasets:\n",
    "    d.data.plot(label=d.name, **kwargs)\n",
    "\n",
    "energy_bounds = (1 * u.MeV, 100 * u.TeV)\n",
    "spectral_model.plot(energy_bounds=energy_bounds, color=\"k\", **kwargs)\n",
    "ax.set_ylim(1e-16, 1e-8)\n",
    "ax.set_xlim(energy_bounds)\n",
    "ax.legend()\n",
    "plt.show()"
   ]
  },
  {
   "cell_type": "code",
   "execution_count": null,
   "id": "63b642a8",
   "metadata": {},
   "outputs": [],
   "source": [
    "# source = catalog_4fgl[\"HESS J1825-137\"]\n",
    "# source.position\n",
    "mask_roi = source_position.separation(catalog.positions) < 1 * u.deg\n",
    "\n",
    "catalog_roi = catalog[mask_roi]\n",
    "print(\"Number of sources :\", len(catalog_roi.table))\n"
   ]
  },
  {
   "cell_type": "code",
   "execution_count": null,
   "id": "5a4c1be0",
   "metadata": {
    "scrolled": true
   },
   "outputs": [],
   "source": [
    "display(catalog_roi.table)"
   ]
  },
  {
   "cell_type": "code",
   "execution_count": null,
   "id": "bbb1e94a",
   "metadata": {},
   "outputs": [],
   "source": [
    "catalog_roi.table"
   ]
  },
  {
   "cell_type": "code",
   "execution_count": null,
   "id": "0fa4f62e",
   "metadata": {},
   "outputs": [],
   "source": [
    "# display(catalog_roi.table['Source_Name',\n",
    "#  'DataRelease',\n",
    "#  'RAJ2000',\n",
    "#  'DEJ2000', 'Extended_Source_Name',\n",
    "#  'Signif_Avg','ASSOC_4FGL',\n",
    "#  'ASSOC_FGL',\n",
    "#  'ASSOC_FHL',\n",
    "#  'ASSOC_GAM1',\n",
    "#  'ASSOC_GAM2',\n",
    "#  'ASSOC_GAM3',\n",
    "#  'TEVCAT_FLAG',\n",
    "#  'ASSOC_TEV',\n",
    "#  'CLASS1',\n",
    "#  'CLASS2',\n",
    "#  'ASSOC1',\n",
    "#  'ASSOC2',\n",
    "#  'ASSOC_PROB_BAY',\n",
    "#  'ASSOC_PROB_LR'])"
   ]
  },
  {
   "cell_type": "code",
   "execution_count": null,
   "id": "df51ee5f",
   "metadata": {},
   "outputs": [],
   "source": [
    "source = catalog_roi[1]\n",
    "sky_model = source.sky_model()\n",
    "spectral_model = source.spectral_model()\n",
    "\n",
    "name=spectral_model_name=sky_model.spectral_model.tag[0]\n",
    "print(name)\n",
    "\n"
   ]
  },
  {
   "cell_type": "code",
   "execution_count": null,
   "id": "c6c37859",
   "metadata": {},
   "outputs": [],
   "source": [
    "print(source.info())"
   ]
  },
  {
   "cell_type": "code",
   "execution_count": null,
   "id": "ddc0fa39",
   "metadata": {
    "scrolled": true
   },
   "outputs": [],
   "source": [
    "source.data.Flux_Band"
   ]
  },
  {
   "cell_type": "code",
   "execution_count": null,
   "id": "9de15ff9",
   "metadata": {},
   "outputs": [],
   "source": [
    "mask_bright = np.zeros(len(catalog_roi.table), dtype=bool)\n",
    "for k, source in enumerate(catalog_roi):\n",
    "    flux = source.spectral_model().integral(100 * u.GeV, 200 * u.GeV).to(\"cm-2 s-1\")\n",
    "    source.flux_points.energy_max\n",
    "    if flux > 1e-10 * u.Unit(\"cm-2 s-1\"):\n",
    "        mask_bright[k] = True\n",
    "        print(f\"{source.row_index:<7d} {source.name:20s} {flux:.3g}\")"
   ]
  },
  {
   "cell_type": "code",
   "execution_count": null,
   "id": "8c156ba6",
   "metadata": {},
   "outputs": [],
   "source": [
    "sky_model = SkyModel(spectral_model=spectral_model, name=spectral_model_name)\n",
    "\n",
    "ds_J1908 = FluxPointsDataset(\n",
    "                        models = sky_model,\n",
    "                        data=source.flux_points, \n",
    "                        name=  sky_model.name     \n",
    "                    )\n",
    "\n",
    "datasets = Datasets(ds_J1908)\n",
    "datasets.models = sky_model\n",
    "\n",
    "fitter = Fit()\n",
    "\n",
    "result_fit = fitter.run(datasets=datasets)\n",
    "\n",
    "plt.style.use(['default'])\n",
    "\n",
    "ax = plt.subplot()\n",
    "ax.yaxis.set_units(u.Unit(\"erg cm-2 s-1\"))\n",
    "ax.xaxis.set_units(u.Unit(\"TeV\"))\n",
    "\n",
    "kwargs = {\"ax\": ax, \"sed_type\": \"e2dnde\"}\n",
    "\n",
    "for d in datasets:\n",
    "    d.data.plot(label=d.name, **kwargs)\n",
    "\n",
    "energy_bounds = (1 * u.MeV, 100 * u.TeV)\n",
    "spectral_model.plot(energy_bounds=energy_bounds, color=\"k\", **kwargs)\n",
    "ax.set_ylim(1e-16, 1e-8)\n",
    "ax.set_xlim(energy_bounds)\n",
    "ax.legend()\n",
    "plt.show()"
   ]
  },
  {
   "cell_type": "code",
   "execution_count": null,
   "id": "a07c67a1",
   "metadata": {},
   "outputs": [],
   "source": []
  },
  {
   "cell_type": "markdown",
   "id": "6cf56d02",
   "metadata": {},
   "source": [
    "<a id='3.2'></a>\n",
    "🔝 [Back to Top](#intro)<br>\n",
    "#### 3.2 Data Published in the Nature"
   ]
  },
  {
   "cell_type": "code",
   "execution_count": null,
   "id": "e78da994",
   "metadata": {},
   "outputs": [],
   "source": [
    "directory_path = '../publishNature'\n",
    "# format_dat = '.dat'"
   ]
  },
  {
   "cell_type": "code",
   "execution_count": null,
   "id": "932ed733",
   "metadata": {},
   "outputs": [],
   "source": [
    "# To get unique values from a list\n",
    "set_res = set(list(df_fp['source_name'])) # To convert the input list to set\n",
    "# print(set_res) \n",
    "PeVatrons_names = (list(set_res)) # To convert the set back to the list \n",
    "# PeVatrons_names.reverse()"
   ]
  },
  {
   "cell_type": "code",
   "execution_count": null,
   "id": "9ff5606c",
   "metadata": {},
   "outputs": [],
   "source": [
    "files_names = ['J1825_KM2A_201209.dat', 'J1908_KM2A_201209.dat', 'J2228_KM2A_201209.dat']"
   ]
  },
  {
   "cell_type": "code",
   "execution_count": null,
   "id": "2c366049",
   "metadata": {
    "scrolled": true
   },
   "outputs": [],
   "source": [
    "files_names, PeVatrons_names"
   ]
  },
  {
   "cell_type": "code",
   "execution_count": null,
   "id": "128a1f4b",
   "metadata": {},
   "outputs": [],
   "source": [
    "from pathlib import Path\n",
    "from astropy.table import Table\n",
    "\n",
    "file_path = Path(f'HESS_J1825-137.dat') \n",
    "tabled = Table.read(file_path,format='ascii',  delimiter='\\t', comment='#')\n"
   ]
  },
  {
   "cell_type": "code",
   "execution_count": null,
   "id": "8e38eee6",
   "metadata": {},
   "outputs": [],
   "source": [
    "tabled"
   ]
  },
  {
   "cell_type": "code",
   "execution_count": null,
   "id": "fcba426e",
   "metadata": {},
   "outputs": [],
   "source": [
    "Table.read.help() "
   ]
  },
  {
   "cell_type": "code",
   "execution_count": null,
   "id": "221220e6",
   "metadata": {},
   "outputs": [],
   "source": [
    "help(Table)"
   ]
  },
  {
   "cell_type": "code",
   "execution_count": null,
   "id": "21846304",
   "metadata": {
    "scrolled": true
   },
   "outputs": [],
   "source": [
    "from pathlib import Path\n",
    "from astropy.table import Table\n",
    "\n",
    "x_data, y_data, y_errp, y_errn = [], [], [], []\n",
    "for i, file_name in enumerate(files_names):\n",
    "    \n",
    "    file_path = Path(f'{directory_path}/{file_name}') \n",
    "    table = Table.read(file_path,format='ascii', delimiter=' ', comment='#')\n",
    "#     display(table)\n",
    "    \n",
    "    table['col1'] = table['col1']/1e12\n",
    "    table.rename_column('col1', 'e_ref')\n",
    "    table['e_ref'].unit = u.TeV\n",
    "\n",
    "#     table['col5'] = table['col5']/1e12\n",
    "#     table.rename_column('col5', 'e_min')\n",
    "#     table['e_min'].unit = u.TeV\n",
    "\n",
    "#     table['col6'] = table['col6']/1e12\n",
    "#     table.rename_column('col6', 'e_max')\n",
    "#     table['e_max'].unit = u.TeV\n",
    "\n",
    "    table.rename_column('col2', 'e2dnde')\n",
    "    table['e2dnde'].unit = u.Unit(\"erg cm-2 s-1\")\n",
    "\n",
    "    table.rename_column('col3', 'e2dnde_errp')\n",
    "    table['e2dnde_errp'].unit = u.Unit(\"erg cm-2 s-1\")\n",
    "\n",
    "    table.rename_column('col4', 'e2dnde_errn')\n",
    "    table['e2dnde_errn'].unit = u.Unit(\"erg cm-2 s-1\")\n",
    "\n",
    "    table.meta[\"SED_TYPE\"] = \"e2dnde\"\n",
    "    table.meta[\"name\"] = \"table\"\n",
    "    \n",
    "    print(PeVatrons_names[i])\n",
    "    display(table)\n",
    "    \n",
    "    if i == 0:\n",
    "        table_J1825 = Table(table, copy=True)\n",
    "    elif i == 1:\n",
    "        table_J1908 = Table(table, copy=True)\n",
    "    else:\n",
    "        table_J2226 = Table(table, copy=True)\n",
    "   \n",
    "    x_data.append(table['e_ref'])\n",
    "    y_data.append(table['e2dnde'])\n",
    "    y_errp.append(table['e2dnde_errp'])\n",
    "    y_errn.append(table['e2dnde_errn'])"
   ]
  },
  {
   "cell_type": "code",
   "execution_count": null,
   "id": "d0f8890a",
   "metadata": {
    "scrolled": true
   },
   "outputs": [],
   "source": [
    "table_J1825['e_ref', 'e2dnde', 'e2dnde_errp', 'e2dnde_errn']"
   ]
  },
  {
   "cell_type": "code",
   "execution_count": null,
   "id": "ceb0eb1e",
   "metadata": {},
   "outputs": [],
   "source": [
    "from gammapy.estimators import FluxPoints"
   ]
  },
  {
   "cell_type": "code",
   "execution_count": null,
   "id": "e58080fd",
   "metadata": {},
   "outputs": [],
   "source": [
    "flux_points_J2226 = FluxPoints.from_table(table = table_J2226, sed_type='e2dnde')"
   ]
  },
  {
   "cell_type": "code",
   "execution_count": null,
   "id": "7ab0029d",
   "metadata": {
    "scrolled": true
   },
   "outputs": [],
   "source": [
    "flux_points_J2226.to_table()"
   ]
  },
  {
   "cell_type": "code",
   "execution_count": null,
   "id": "c227299b",
   "metadata": {},
   "outputs": [],
   "source": []
  },
  {
   "cell_type": "code",
   "execution_count": null,
   "id": "507f1c0f",
   "metadata": {},
   "outputs": [],
   "source": [
    "flux_points_J2226.plot()\n",
    "plt.xlim(.1, 1000)\n",
    "plt.ylim(1e-14, 1e-10)\n",
    "plt.grid(which=\"both\")"
   ]
  },
  {
   "cell_type": "code",
   "execution_count": null,
   "id": "0227af8b",
   "metadata": {},
   "outputs": [],
   "source": [
    "flux_points_J1908 = FluxPoints.from_table(table = table_J1908, sed_type='e2dnde')"
   ]
  },
  {
   "cell_type": "code",
   "execution_count": null,
   "id": "e8bdbfc6",
   "metadata": {
    "scrolled": true
   },
   "outputs": [],
   "source": [
    "spectral_model = LogParabolaSpectralModel(\n",
    "    alpha=2.3,\n",
    "    amplitude=\"1e-12 cm-2 s-1 TeV-1\",\n",
    "    reference=1 * u.TeV,\n",
    "    beta=0.5,\n",
    ")\n",
    "# model.plot(energy_bounds)\n",
    "# plt.grid(which=\"both\")\n",
    "\n",
    "sky_model = SkyModel(spectral_model=spectral_model, name=spectral_model.tag[0])\n",
    "\n",
    "ds_J1908 = FluxPointsDataset(\n",
    "                        models = sky_model,\n",
    "                        data=flux_points_J1908, \n",
    "                        name=  sky_model.name     \n",
    "                    )\n",
    "\n",
    "datasets = Datasets(ds_J1908)\n",
    "datasets.models = sky_model\n",
    "\n",
    "fitter = Fit()\n",
    "\n",
    "result_fit = fitter.run(datasets=datasets)\n",
    "\n",
    "plt.style.use(['default'])\n",
    "\n",
    "ax = plt.subplot()\n",
    "ax.yaxis.set_units(u.Unit(\"erg cm-2 s-1\"))\n",
    "\n",
    "kwargs = {\"ax\": ax, \"sed_type\": \"e2dnde\"}\n",
    "\n",
    "for d in datasets:\n",
    "    d.data.plot(label=d.name, **kwargs)\n",
    "\n",
    "energy_bounds = (0.1 * u.TeV, 1000 * u.TeV)\n",
    "spectral_model.plot(energy_bounds=energy_bounds, color=\"k\", **kwargs)\n",
    "ax.set_ylim(1e-16, 1e-8)\n",
    "ax.set_xlim(energy_bounds)\n",
    "ax.legend()\n",
    "plt.show()"
   ]
  },
  {
   "cell_type": "code",
   "execution_count": null,
   "id": "f16389df",
   "metadata": {},
   "outputs": [],
   "source": []
  },
  {
   "cell_type": "code",
   "execution_count": null,
   "id": "0b883453",
   "metadata": {
    "scrolled": true
   },
   "outputs": [],
   "source": [
    "fig, axes = plt.subplots(1, 3, figsize=(12,6), sharex=True, sharey=True)\n",
    "\n",
    "ax = axes[0]\n",
    "ax.set_ylabel(r\"$E^{2}$dN/dE (erg $cm^{-2}$ $s^{-1}$)\")\n",
    "\n",
    "ax.loglog(x_data[0], y_data[0], 'o', color='red', lw=2, ms=4)\n",
    "ax.errorbar(x_data[0], y_data[0], yerr=[y_errn[0], y_errp[0]],fmt='.', color='red')\n",
    "ax.text(0.04,0.1, PeVatrons_names[0], transform=ax.transAxes, bbox=dict(facecolor='white', edgecolor='white'), size=13)\n",
    "ax.grid(which=\"both\")\n",
    "ax.set_xlim(10, 1000)\n",
    "ax.set_ylim(1e-14, 5e-11)\n",
    "\n",
    "\n",
    "ax = axes[1]\n",
    "ax.loglog(x_data[1], y_data[1], 'o', color='red', lw=2, ms=4)\n",
    "ax.errorbar(x_data[1], y_data[1], yerr=[y_errn[1], y_errp[1]],fmt='.', color='red')\n",
    "ax.text(0.04,0.1, PeVatrons_names[1], transform=ax.transAxes, bbox=dict(facecolor='white', edgecolor='white'), size=13)\n",
    "ax.grid(which=\"both\")\n",
    "ax.set_xlim(10, 1000)\n",
    "ax.set_ylim(1e-14, 5e-11)\n",
    "\n",
    "ax = axes[2]\n",
    "ax.loglog(x_data[2], y_data[2], 'o', color='red', lw=2, ms=4)\n",
    "ax.errorbar(x_data[2], y_data[2], yerr=[y_errn[2], y_errp[2]],fmt='.', color='red')\n",
    "ax.text(0.04,0.1, PeVatrons_names[2], transform=ax.transAxes, bbox=dict(facecolor='white', edgecolor='white'), size=13)\n",
    "ax.set_xlim(10, 1000)\n",
    "ax.set_ylim(1e-14, 5e-11)\n",
    "ax.grid(which=\"both\")\n",
    "# ax.tick_params(axis='both', which='major', labelsize=10)\n",
    "\n",
    "fig.text(0.5, -0.04, \"Energy (TeV)\", ha='center', size=20)\n",
    "\n",
    "# fig.suptitle('Flux Points from LHAASO', y=1., fontsize=20)\n",
    "\n",
    "plt.savefig('Cao2021-LHAASO_fp.png', bbox_inches='tight')\n",
    "\n",
    "plt.show()"
   ]
  },
  {
   "cell_type": "code",
   "execution_count": null,
   "id": "3d728172",
   "metadata": {},
   "outputs": [],
   "source": []
  },
  {
   "cell_type": "markdown",
   "id": "eb9333bf",
   "metadata": {},
   "source": [
    "#### HAWCJ1825"
   ]
  },
  {
   "cell_type": "code",
   "execution_count": null,
   "id": "2ab81818",
   "metadata": {},
   "outputs": [],
   "source": [
    "with open('HAWCJ1825-134.csv', \"r\") as my_file: \n",
    "    df = my_file.read()"
   ]
  },
  {
   "cell_type": "code",
   "execution_count": null,
   "id": "387b482e",
   "metadata": {},
   "outputs": [],
   "source": [
    "print(df)"
   ]
  },
  {
   "cell_type": "code",
   "execution_count": null,
   "id": "4f4599cb",
   "metadata": {},
   "outputs": [],
   "source": [
    "table_HAWCJ1825_134 = Table.read('HAWCJ1825-134.csv',format='ascii', delimiter=',', comment='#')\n",
    "table_HAWCJ1825_134.colnames"
   ]
  },
  {
   "cell_type": "code",
   "execution_count": null,
   "id": "72e41e54",
   "metadata": {},
   "outputs": [],
   "source": [
    "table_HAWCJ1825_134.rename_column('x', 'e_ref')\n",
    "table_HAWCJ1825_134['e_ref'].unit = u.TeV\n",
    "\n",
    "table_HAWCJ1825_134['e2dnde'].unit = u.Unit(\"TeV cm-2 s-1\")"
   ]
  },
  {
   "cell_type": "code",
   "execution_count": null,
   "id": "89219191",
   "metadata": {},
   "outputs": [],
   "source": [
    "table_HAWCJ1825_134"
   ]
  },
  {
   "cell_type": "code",
   "execution_count": null,
   "id": "043d02bc",
   "metadata": {},
   "outputs": [],
   "source": [
    "from gammapy.estimators import FluxPoints"
   ]
  },
  {
   "cell_type": "code",
   "execution_count": null,
   "id": "03c83d52",
   "metadata": {},
   "outputs": [],
   "source": [
    "FluxPoints.from_table(table = table_HAWCJ1825_134, sed_type='e2dnde').plot()\n",
    "plt.xlim(.1, 1000)\n",
    "plt.ylim(1e-14, 1e-10)\n",
    "plt.grid(which=\"both\")"
   ]
  },
  {
   "cell_type": "code",
   "execution_count": null,
   "id": "56fff79a",
   "metadata": {},
   "outputs": [],
   "source": [
    "yaxis_units=\"erg cm-2 s-1\"\n",
    "ax = plt.subplot()\n",
    "ax.yaxis.set_units(u.Unit(yaxis_units))\n",
    "ax.xaxis.set_units(u.Unit(\"TeV\"))\n",
    "\n",
    "flux_points = FluxPoints.from_table(table = table_HAWCJ1825_134, sed_type='e2dnde')\n",
    "flux_points.plot(ax=ax)\n",
    "\n",
    "\n",
    "plt.xlim(.1, 1000)\n",
    "plt.ylim(1e-14, 1e-10)\n",
    "plt.grid(which=\"both\")\n",
    "plt.savefig('uu.png', bbox_inches='tight')"
   ]
  },
  {
   "cell_type": "code",
   "execution_count": null,
   "id": "f8830b6f",
   "metadata": {
    "scrolled": true
   },
   "outputs": [],
   "source": [
    "flux_points.to_table()"
   ]
  },
  {
   "cell_type": "code",
   "execution_count": null,
   "id": "1a9329a2",
   "metadata": {},
   "outputs": [],
   "source": [
    "table_HAWCJ1825_134[\"e2dnde\"][:] = table_HAWCJ1825_134[\"e2dnde\"].to(u.Unit(\"erg cm-2 s-1\")) "
   ]
  },
  {
   "cell_type": "code",
   "execution_count": null,
   "id": "c924613e",
   "metadata": {},
   "outputs": [],
   "source": [
    "table_HAWCJ1825_134"
   ]
  },
  {
   "cell_type": "code",
   "execution_count": null,
   "id": "7e3cc3ea",
   "metadata": {},
   "outputs": [],
   "source": [
    "flux_points = FluxPoints.from_table(table_HAWCJ1825_134, sed_type='e2dnde')\n",
    "\n",
    "flux_points.to_table(formatted=True)"
   ]
  },
  {
   "cell_type": "code",
   "execution_count": null,
   "id": "60d1e7a2",
   "metadata": {},
   "outputs": [],
   "source": []
  },
  {
   "cell_type": "code",
   "execution_count": null,
   "id": "4f0ac6ac",
   "metadata": {},
   "outputs": [],
   "source": [
    "energy_bounds = [1e-5, 1e3] * u.TeV\n",
    "ylim = [1e-16, 1e-6]"
   ]
  },
  {
   "cell_type": "code",
   "execution_count": null,
   "id": "9887f17c",
   "metadata": {},
   "outputs": [],
   "source": []
  },
  {
   "cell_type": "code",
   "execution_count": null,
   "id": "6695f589",
   "metadata": {},
   "outputs": [],
   "source": [
    "df_fp['catalog'][3]"
   ]
  },
  {
   "cell_type": "code",
   "execution_count": null,
   "id": "7805f92f",
   "metadata": {},
   "outputs": [],
   "source": [
    "source = sources_catalogs[3][0]"
   ]
  },
  {
   "cell_type": "code",
   "execution_count": null,
   "id": "ceb2c423",
   "metadata": {
    "scrolled": true
   },
   "outputs": [],
   "source": [
    "print(source.info())"
   ]
  },
  {
   "cell_type": "code",
   "execution_count": null,
   "id": "fd695a66",
   "metadata": {},
   "outputs": [],
   "source": [
    "# sources_catalogs[0][0].data['common_name', '']"
   ]
  },
  {
   "cell_type": "code",
   "execution_count": null,
   "id": "1387710b",
   "metadata": {},
   "outputs": [],
   "source": [
    "# catalog_3hwc[\"eHWC J1825-134\"].data.keys()"
   ]
  },
  {
   "cell_type": "code",
   "execution_count": null,
   "id": "24cd9e18",
   "metadata": {},
   "outputs": [],
   "source": [
    "# type(df_fp[\"catalog\"][source_index])"
   ]
  },
  {
   "cell_type": "code",
   "execution_count": null,
   "id": "96f6990f",
   "metadata": {},
   "outputs": [],
   "source": [
    "# to select a source object index: [0-6]\n",
    "source_index = 1\n",
    "colors_tag = colors_tags[source_index]\n",
    "source_identification(source_index)\n",
    "# source_name, counterpart_name\n",
    "\n",
    "# List of catalogs with flux points table of the source\n",
    "# print(df_fp['catalog'][source_index])\n",
    "\n",
    "k_range = range(len(counterparts_datasets[source_index]))\n",
    "for k in k_range: \n",
    "            \n",
    "    # to select a catalog:\n",
    "    cat_index = k\n",
    "    catalog_tag = df_fp[\"catalog\"][source_index][cat_index]\n",
    "    catalog = CATALOG_REGISTRY.get_cls(catalog_tag)()\n",
    "    # print(catalog)\n",
    "\n",
    "    source  = catalog[counterpart_name]\n",
    "    # source.data\n",
    "\n",
    "    flux_points = source.flux_points\n",
    "\n",
    "    # Gammapy sky model object:\n",
    "    sky_model = source.sky_model()\n",
    "\n",
    "    # Gammapy spatial model object:\n",
    "    spatial_model = source.spatial_model\n",
    "\n",
    "    # Gammapy spectral model object:\n",
    "    spectral_model = source.spectral_model()\n",
    "    spectral_model_tag = spectral_model.tag[0]\n",
    "    spectral_model_tag_short = spectral_model.tag[0]\n",
    "\n",
    "    file_name = f'{source_txt}_{counterpart_txt}_{catalog_tag}_{spectral_model_tag_short}.png'\n",
    "    file_path = path_SED_from_catalogs / file_name \n",
    "    \n",
    "    plot_SED()\n",
    "    \n",
    "    print(f'{source_txt}_{counterpart_txt}_{catalog_tag}_{spectral_model_tag_short}:')\n",
    "    \n",
    "    print(spectral_model.parameters.to_table())\n",
    "    "
   ]
  },
  {
   "cell_type": "code",
   "execution_count": null,
   "id": "70d5c48c",
   "metadata": {},
   "outputs": [],
   "source": []
  },
  {
   "cell_type": "code",
   "execution_count": null,
   "id": "8806f239",
   "metadata": {},
   "outputs": [],
   "source": [
    "def plotting_SED_flux_pointing(datasets = None, spectral_model = None, sed_type = \"e2dnde\", yaxis_units=\"TeV cm-2 s-1\", energy_bounds= [1e-5, 1e2] * u.TeV, ylim = [1e-13, 1e-9]):\n",
    "    '''Returns a spectral energy distribution\n",
    "    \n",
    "    >>> plotting_SED_flux_pointing(spec_model, yaxis_units, sed_type, reference)\n",
    "    '''\n",
    "    \n",
    "    ax = plt.subplot()\n",
    "#     ax.grid(which=\"both\")\n",
    "    ax.yaxis.set_units(u.Unit(yaxis_units))\n",
    "    ax.xaxis.set_units(u.Unit(\"TeV\"))\n",
    "\n",
    "    #label = f\"{sky_model}\"\n",
    "    \n",
    "    kwargs = {\n",
    "        \"ax\": ax, \n",
    "        \"sed_type\": sed_type\n",
    "    }    \n",
    "    \n",
    "    \n",
    "#     plot_kwargs = {\n",
    "#     \"energy_bounds\": [0.1, 30] * u.TeV,\n",
    "#     \"sed_type\": \"e2dnde\",\n",
    "#     \"yunits\": u.Unit(\"erg cm-2 s-1\"),\n",
    "#     \"ax\": ax,\n",
    "# }\n",
    "    \n",
    "    source_name = PeVatrons_names[table_index]\n",
    "    kwargs_PeV = {\n",
    "        'label': source_name\n",
    "    }\n",
    "    ax.plot(x_data[table_index], y_data[table_index], 'o', color='red', lw=2, ms=4)\n",
    "    ax.errorbar(x_data[table_index], y_data[table_index], yerr=[y_errn[table_index], y_errp[table_index]],fmt='.', color='red', **kwargs_PeV)\n",
    "    \n",
    "    \n",
    "    FluxPoints.from_table(table = table_CTA, sed_type='e2dnde').plot(label= 'CTA - PSR J1826−1334')\n",
    "\n",
    "\n",
    "\n",
    "#     ax.loglog(J1825['e_ref'],J1825['e2dnde'], 'o', color='red', lw=2, ms=4)\n",
    "#     ax.errorbar(J1825['e_ref'],J1825['e2dnde'], yerr=[J1825['e2dnde_errn'], J1825['e2dnde_errp']],fmt='.', color='red', label=source_name)\n",
    "\n",
    "    color_tag = 0\n",
    "    for d in datasets:\n",
    "        d.data.plot(label=d.name, color=colors_tags[color_tag], **kwargs)\n",
    "        color_tag += 1\n",
    "    try:   \n",
    "\n",
    "        kwargs_fit = {\"label\":sky_model.name}\n",
    "        spectral_model.plot(energy_bounds=energy_bounds, color=\"k\", **kwargs, **kwargs_fit)\n",
    "        spectral_model.plot_error(energy_bounds=energy_bounds, **kwargs)\n",
    "        \n",
    "        if combined_ds == False:\n",
    "            file = path_flux_points_figures_analysis / f'{source_txt}_{counterpart_txt}_{sky_model.name}.png'\n",
    "        else:\n",
    "            file = path_flux_points_figures_analysis / f'{source_txt}_{sky_model.name}.png'\n",
    "            \n",
    "    except:\n",
    "        \n",
    "        if combined_ds == False:\n",
    "            file = path_flux_points_figures_analysis / f'{source_txt}_{counterpart_txt}.png'\n",
    "        else:\n",
    "            file = path_flux_points_figures_analysis / f'{source_txt}.png'\n",
    "    \n",
    "    ax.plot(CTA_sensitivity[\"energy\"], CTA_sensitivity[\"e2dnde\"],  'o', color='black', lw=2, ms=4, label = \"CTA - Sensitivity\")\n",
    "\n",
    "\n",
    "    \n",
    "    ax.set_ylim(ylim)\n",
    "    ax.set_xlim(energy_bounds)\n",
    "    ax.legend(facecolor='white', edgecolor='white',  loc='upper right', prop={'size': 10})\n",
    "    \n",
    "#     ax.text(0.02, .94, source_name, transform=ax.transAxes, bbox=dict(facecolor='white', edgecolor='white'), size=15)\n",
    "    \n",
    "        \n",
    "#     plt.title(f\"{source_name}: {counterpart_name}\")\n",
    "    \n",
    "    plt.xlabel(\"Energy (TeV)\")   \n",
    "    plt.ylabel(r\"$E^{2}$dN/dE (erg $cm^{-2}$ $s^{-1}$)\")\n",
    "    \n",
    "    plt.savefig(file, bbox_inches='tight')\n",
    "    plt.show()\n",
    "    \n",
    "    return "
   ]
  },
  {
   "cell_type": "code",
   "execution_count": null,
   "id": "cd2bad46",
   "metadata": {},
   "outputs": [],
   "source": []
  },
  {
   "cell_type": "code",
   "execution_count": null,
   "id": "9ffc0c8f",
   "metadata": {
    "scrolled": true
   },
   "outputs": [],
   "source": [
    "import scienceplots\n",
    "plt.style.use(['science', 'notebook', 'grid'])\n",
    "\n",
    "# to select a source object index: [0-6]\n",
    "source_index = 0\n",
    "table_index = 2\n",
    "source_identification(source_index)\n",
    "\n",
    "ds_src = counterparts_datasets[source_index]\n",
    "\n",
    "datasets = Datasets(ds_src)\n",
    "\n",
    "energy_bounds = [1e-5, 1e3] * u.TeV\n",
    "ylim = [1e-14, 1e-7]\n",
    "\n",
    "combined_ds = False\n",
    "plotting_SED_flux_pointing(\n",
    "    datasets = datasets,\n",
    "    sed_type = sed_type, \n",
    "    yaxis_units=\"erg cm-2 s-1\", \n",
    "    energy_bounds=energy_bounds, \n",
    "    ylim=ylim)"
   ]
  },
  {
   "cell_type": "markdown",
   "id": "b7938662",
   "metadata": {},
   "source": [
    "## "
   ]
  },
  {
   "cell_type": "code",
   "execution_count": null,
   "id": "f0dcd21c",
   "metadata": {
    "scrolled": true
   },
   "outputs": [],
   "source": [
    "# to select a source object index: [0-6]\n",
    "source_index = 0\n",
    "table_index = 2\n",
    "source_identification(source_index)\n",
    "\n",
    "ds_src = counterparts_datasets[source_index]\n",
    "\n",
    "datasets = Datasets(ds_src)\n",
    "\n",
    "energy_bounds = [1e-5, 1e3] * u.TeV\n",
    "ylim = [1e-14, 1e-7]\n",
    "\n",
    "combined_ds = False\n",
    "plotting_SED_flux_pointing(\n",
    "    datasets = datasets,\n",
    "    sed_type = sed_type, \n",
    "    yaxis_units=\"erg cm-2 s-1\", \n",
    "    energy_bounds=energy_bounds, \n",
    "    ylim=ylim)"
   ]
  },
  {
   "cell_type": "code",
   "execution_count": null,
   "id": "5b5bb65a",
   "metadata": {},
   "outputs": [],
   "source": [
    "import scienceplots\n",
    "plt.style.use(['science', 'notebook', 'grid'])\n",
    "\n",
    "# to select a source object index: [0-6]\n",
    "source_index = 6\n",
    "\n",
    "source_identification(source_index)\n",
    "\n",
    "source_name"
   ]
  },
  {
   "cell_type": "code",
   "execution_count": null,
   "id": "c76f2743",
   "metadata": {
    "scrolled": true
   },
   "outputs": [],
   "source": [
    "ds_src_combined = list(counterparts_datasets[source_index])"
   ]
  },
  {
   "cell_type": "code",
   "execution_count": null,
   "id": "5c7cb8a8",
   "metadata": {},
   "outputs": [],
   "source": [
    "ds_src_combined"
   ]
  },
  {
   "cell_type": "code",
   "execution_count": null,
   "id": "8c8d2d39",
   "metadata": {},
   "outputs": [],
   "source": [
    "for item in counterparts_datasets[5]:\n",
    "    ds_src_combined.append(item)"
   ]
  },
  {
   "cell_type": "code",
   "execution_count": null,
   "id": "5a0c53eb",
   "metadata": {},
   "outputs": [],
   "source": [
    "ds_src_combined"
   ]
  },
  {
   "cell_type": "code",
   "execution_count": null,
   "id": "965fe61f",
   "metadata": {},
   "outputs": [],
   "source": [
    "ds_src_combined_3 = list(ds_src_combined)"
   ]
  },
  {
   "cell_type": "code",
   "execution_count": null,
   "id": "de046ebc",
   "metadata": {},
   "outputs": [],
   "source": [
    "ds_src_combined_2 = list(ds_src_combined)"
   ]
  },
  {
   "cell_type": "code",
   "execution_count": null,
   "id": "c8f9aee0",
   "metadata": {
    "scrolled": false
   },
   "outputs": [],
   "source": [
    "ds_src_combined_1 = list(ds_src_combined)"
   ]
  },
  {
   "cell_type": "code",
   "execution_count": null,
   "id": "f6a72a40",
   "metadata": {
    "scrolled": true
   },
   "outputs": [],
   "source": [
    "datasets_combined = Datasets(ds_src_combined_1)\n",
    "\n",
    "# energy_bounds = [1e-5, 1e2] * u.TeV\n",
    "ylim = [1e-16, 1e-6]\n",
    "\n",
    "table_index = 1\n",
    "combined_ds = True\n",
    "plotting_SED_flux_pointing(\n",
    "    datasets = datasets_combined,\n",
    "    sed_type = sed_type, \n",
    "    yaxis_units=\"erg cm-2 s-1\", \n",
    "    energy_bounds=energy_bounds, \n",
    "    ylim=ylim)"
   ]
  },
  {
   "cell_type": "code",
   "execution_count": null,
   "id": "393fa7e7",
   "metadata": {},
   "outputs": [],
   "source": []
  },
  {
   "cell_type": "markdown",
   "id": "8b604f7b",
   "metadata": {},
   "source": [
    "## Data Reduction (DL3toDL4)"
   ]
  },
  {
   "cell_type": "code",
   "execution_count": null,
   "id": "0fff7b52",
   "metadata": {},
   "outputs": [],
   "source": []
  },
  {
   "cell_type": "code",
   "execution_count": null,
   "id": "2e4c6d65",
   "metadata": {},
   "outputs": [],
   "source": [
    "import numpy as np\n",
    "# from astropy import units as u\n",
    "from astropy.table import Table\n",
    "from gammapy.estimators import FluxPoints\n",
    "from gammapy.utils.scripts import make_path\n",
    "\n",
    "# format_csv = \".csv\"\n",
    "format_fits = \".fits\"\n",
    "\n",
    "sed_type=\"e2dnde\"\n",
    "# sed_type=\"dnde\"\n",
    "\n",
    "counterparts_datasets_cut = []\n",
    "def flux_points_cut_energy(df_fp = None, counterparts_datasets = None, e_ref_min=None):\n",
    "    '''To write Docstring!!!!'''\n",
    "    \n",
    "    source_range = range(len(df_fp))\n",
    "    for source_index in source_range:\n",
    "        counterparts_datasets = []\n",
    "        \n",
    "        source_identification(source_index)\n",
    "        \n",
    "        k_range = range(len(counterparts_datasets[source_index]))\n",
    "        for k in k_range: \n",
    "            \n",
    "            catalog_tag = df_fp[\"catalog\"][source_index][k]\n",
    "\n",
    "            ds_name = f\"{counterpart_name}: {catalog_tag}\"\n",
    "            flux_points = counterparts_datasets[source_index][k].data\n",
    "\n",
    "            mask_energy = np.zeros(len(flux_points.to_table()), dtype=bool)\n",
    "\n",
    "            for m, e_ref in enumerate(flux_points.energy_ref):\n",
    "                if e_ref > e_ref_min:\n",
    "                    mask_energy[m] = True\n",
    "            print(ds_name, counterpart_txt)  \n",
    "            \n",
    "            try:\n",
    "                flux_points_mask = flux_points.to_table()[mask_energy]\n",
    "                flux_points_energy = FluxPoints.from_table(flux_points_mask)\n",
    "\n",
    "                ds = FluxPointsDataset(\n",
    "                                    data=flux_points_energy, \n",
    "                                    name=ds_name\n",
    "                                )\n",
    "\n",
    "                table = ds.data.to_table(\n",
    "                                    sed_type = sed_type, \n",
    "                                    formatted = True\n",
    "                                )\n",
    "                counterparts_datasets.append(ds)\n",
    "\n",
    "                file_name = f'{source_txt}_{counterpart_txt}_{catalog_tag}_e_ref_min_{e_ref_min_name}{format_fits}'\n",
    "                path_os = os.path.abspath(\n",
    "                    os.path.join(\n",
    "                        f\"{path_flux_points_tables_analysis}/{file_name}\"\n",
    "                    )\n",
    "                )\n",
    "\n",
    "                if path_os not in sys.path:\n",
    "                    sys.path.append(path_os)\n",
    "\n",
    "                table.write(f\"{path_os}\",format='fits', overwrite=True)\n",
    "\n",
    "            except:\n",
    "                print(f\"{counterpart_name} out\")    \n",
    "            \n",
    "        counterparts_datasets_cut.append(counterparts_datasets)\n",
    "    return counterparts_datasets_cut"
   ]
  },
  {
   "cell_type": "markdown",
   "id": "c0d02db6",
   "metadata": {},
   "source": [
    "### Cutting energy"
   ]
  },
  {
   "cell_type": "code",
   "execution_count": null,
   "id": "7c8b4d93",
   "metadata": {},
   "outputs": [],
   "source": [
    "# Defining the minimum value of the reference energy  \n",
    "e_ref_min = 100 * u.Unit(\"GeV\")\n",
    "e_ref_min_name = str(e_ref_min).replace(\" \", \"\").replace(\".\", \"dot\")"
   ]
  },
  {
   "cell_type": "code",
   "execution_count": null,
   "id": "60a9da3d",
   "metadata": {},
   "outputs": [],
   "source": [
    "e_ref_min_name"
   ]
  },
  {
   "cell_type": "code",
   "execution_count": null,
   "id": "85455e86",
   "metadata": {},
   "outputs": [],
   "source": [
    "# Creating the directories to save the tables\n",
    "dir_analysis = \"analysis\"\n",
    "cfg.dir_flux_points_tables = f\"flux_points_table_e_ref_min_{e_ref_min_name}\"\n",
    "\n",
    "path_catalogs_data, path_flux_points_tables_analysis = mkdir_sub_directory(\n",
    "    dir_analysis, \n",
    "    cfg.dir_flux_points_tables\n",
    ")"
   ]
  },
  {
   "cell_type": "code",
   "execution_count": null,
   "id": "32df51a2",
   "metadata": {
    "scrolled": false
   },
   "outputs": [],
   "source": [
    "counterparts_datasets_cut = flux_points_cut_energy(df_fp = df_fp, counterparts_datasets = counterparts_datasets, e_ref_min=e_ref_min)"
   ]
  },
  {
   "cell_type": "code",
   "execution_count": null,
   "id": "1a80140a",
   "metadata": {},
   "outputs": [],
   "source": [
    "# Creating the directories to save the tables\n",
    "dir_analysis = \"analysis\"\n",
    "cfg.dir_flux_points_figures = f\"flux_points_figures_e_ref_min_{e_ref_min_name}\"\n",
    "\n",
    "path_analysis, path_flux_points_figures_analysis = mkdir_sub_directory(\n",
    "    dir_analysis, \n",
    "    cfg.dir_flux_points_figures\n",
    ")"
   ]
  },
  {
   "cell_type": "code",
   "execution_count": null,
   "id": "07552f02",
   "metadata": {},
   "outputs": [],
   "source": [
    "# to select a source object index: [0-6]\n",
    "source_index = 6\n",
    "\n",
    "source_identification(source_index)\n",
    "\n",
    "source_name"
   ]
  },
  {
   "cell_type": "code",
   "execution_count": null,
   "id": "d6380f30",
   "metadata": {},
   "outputs": [],
   "source": [
    "ds_src_combined_cut = list(counterparts_datasets_cut[source_index])"
   ]
  },
  {
   "cell_type": "code",
   "execution_count": null,
   "id": "82235fb1",
   "metadata": {},
   "outputs": [],
   "source": [
    "ds_src_combined_cut"
   ]
  },
  {
   "cell_type": "code",
   "execution_count": null,
   "id": "2ff81e91",
   "metadata": {},
   "outputs": [],
   "source": [
    "for item in counterparts_datasets_cut[5]:\n",
    "    ds_src_combined_cut.append(item)"
   ]
  },
  {
   "cell_type": "code",
   "execution_count": null,
   "id": "949b09a8",
   "metadata": {},
   "outputs": [],
   "source": [
    "ds_src_combined_cut"
   ]
  },
  {
   "cell_type": "code",
   "execution_count": null,
   "id": "b3e7481d",
   "metadata": {},
   "outputs": [],
   "source": [
    "ds_src_combined_cut_3 = list(ds_src_combined_cut)"
   ]
  },
  {
   "cell_type": "code",
   "execution_count": null,
   "id": "c0be1c69",
   "metadata": {},
   "outputs": [],
   "source": [
    "ds_src_combined_cut_2 = list(ds_src_combined_cut)"
   ]
  },
  {
   "cell_type": "code",
   "execution_count": null,
   "id": "3f2e53ef",
   "metadata": {},
   "outputs": [],
   "source": [
    "ds_src_combined_cut_1 = list(ds_src_combined_cut)"
   ]
  },
  {
   "cell_type": "code",
   "execution_count": null,
   "id": "7bc437c6",
   "metadata": {},
   "outputs": [],
   "source": [
    "datasets_combined = Datasets(ds_src_combined_cut_3)\n",
    "\n",
    "energy_bounds = [1e-1, 1e2] * u.TeV\n",
    "# ylim = [1e-16, 1e-6]\n",
    "\n",
    "combined_ds = True\n",
    "plotting_SED_flux_pointing(\n",
    "    datasets = datasets_combined,\n",
    "    sed_type = sed_type, \n",
    "    yaxis_units=\"erg cm-2 s-1\", \n",
    "    energy_bounds=energy_bounds, \n",
    "    ylim=ylim)"
   ]
  },
  {
   "cell_type": "code",
   "execution_count": null,
   "id": "ddd5d642",
   "metadata": {},
   "outputs": [],
   "source": []
  },
  {
   "cell_type": "markdown",
   "id": "386bd79f",
   "metadata": {},
   "source": [
    "### SED cutting energy"
   ]
  },
  {
   "cell_type": "code",
   "execution_count": null,
   "id": "625a10d6",
   "metadata": {},
   "outputs": [],
   "source": [
    "# Creating the directories to save the tables\n",
    "dir_analysis = \"analysis\"\n",
    "cfg.dir_flux_points_figures = f\"SED_figures_e_ref_min_{e_ref_min_name}\"\n",
    "\n",
    "path_analysis, path_flux_points_figures_analysis = mkdir_sub_directory(\n",
    "    dir_analysis, \n",
    "    cfg.dir_flux_points_figures\n",
    ")"
   ]
  },
  {
   "cell_type": "code",
   "execution_count": null,
   "id": "79e77c0b",
   "metadata": {},
   "outputs": [],
   "source": []
  },
  {
   "cell_type": "markdown",
   "id": "586c6255",
   "metadata": {},
   "source": [
    "<a id='4.0'></a>\n",
    "🔝 [Back to Top](#intro)<br>\n",
    "#### 4.0 Analysis"
   ]
  },
  {
   "cell_type": "markdown",
   "id": "5b6996d3",
   "metadata": {},
   "source": [
    "<a id='4.1'></a>\n",
    "🔝 [Back to Top](#intro)<br>\n",
    "#### 4.1 LHAASO J1825-1326: HESS 1825-137"
   ]
  },
  {
   "cell_type": "code",
   "execution_count": null,
   "id": "c196c01a",
   "metadata": {},
   "outputs": [],
   "source": [
    "plt.style.use(['science', 'notebook', 'grid'])"
   ]
  },
  {
   "cell_type": "code",
   "execution_count": null,
   "id": "1b26d070",
   "metadata": {},
   "outputs": [],
   "source": [
    "# to select a source object index: [0-6]\n",
    "table_index = 1\n",
    "source_index = 0\n",
    "cat_index = 2\n",
    "\n",
    "# source = sources_catalogs[source_index][0]\n",
    "source_identification(source_index)\n",
    "\n",
    "catalog_tag = df_fp[\"catalog\"][source_index][cat_index]\n",
    "\n",
    "ds_src = counterparts_datasets[source_index]\n",
    "# ds_src = ds_src_combined_cut_1\n",
    "\n",
    "spectral_model = sources_catalogs[source_index][cat_index].spectral_model()\n",
    "\n",
    "name = f\"{spectral_model.tag[0]}_{df_fp['catalog'][source_index][cat_index]}\"\n",
    "        \n",
    "sky_model = SkyModel(spectral_model=spectral_model, name=name)\n",
    "\n",
    "datasets = Datasets(ds_src)\n",
    "datasets.models = sky_model\n",
    "\n",
    "fitter = Fit()\n",
    "\n",
    "result_fit = fitter.run(datasets=datasets)\n",
    "\n",
    "energy_bounds = [1e-1, 1e3] * u.TeV\n",
    "ylim = [1e-16, 1e-4]\n",
    "\n",
    "plotting_SED_flux_pointing(\n",
    "    datasets = datasets,\n",
    "    spectral_model=spectral_model, \n",
    "    sed_type = \"e2dnde\", \n",
    "    yaxis_units=\"erg cm-2 s-1\", \n",
    "    energy_bounds=energy_bounds, \n",
    "    ylim=ylim\n",
    ")"
   ]
  },
  {
   "cell_type": "code",
   "execution_count": null,
   "id": "6df41edd",
   "metadata": {
    "scrolled": true
   },
   "outputs": [],
   "source": []
  },
  {
   "cell_type": "code",
   "execution_count": null,
   "id": "088b4b2d",
   "metadata": {},
   "outputs": [],
   "source": [
    "# to select a source object index: [0-6]\n",
    "table_index = 0\n",
    "source_index = 1\n",
    "cat_index = 2\n",
    "\n",
    "# source = sources_catalogs[source_index][0]\n",
    "source_identification(source_index)\n",
    "\n",
    "catalog_tag = df_fp[\"catalog\"][source_index][cat_index]\n",
    "\n",
    "ds_src = counterparts_datasets[source_index]\n",
    "\n",
    "spectral_model = LogParabolaSpectralModel(\n",
    "    alpha=1.5,\n",
    "    amplitude=\"1e-12 cm-2 s-1 TeV-1\",\n",
    "    reference=1 * u.TeV,\n",
    "    beta=0.8,\n",
    ")\n",
    "\n",
    "name = f\"{spectral_model.tag[0]}_{df_fp['catalog'][source_index][cat_index]}\"\n",
    "    \n",
    "    \n",
    "    \n",
    "sky_model = SkyModel(spectral_model=spectral_model, name=spectral_model.tag[0])\n",
    "\n",
    "datasets = Datasets(ds_src)\n",
    "datasets.models = sky_model\n",
    "\n",
    "fitter = Fit()\n",
    "\n",
    "result_fit = fitter.run(datasets=datasets)\n",
    "\n",
    "energy_bounds = [1e-5, 1e3] * u.TeV\n",
    "ylim = [1e-16, 1e-4]\n",
    "\n",
    "plotting_SED_flux_pointing(\n",
    "    datasets = datasets,\n",
    "    spectral_model=spectral_model, \n",
    "    sed_type = \"e2dnde\", \n",
    "    yaxis_units=\"erg cm-2 s-1\", \n",
    "    energy_bounds=energy_bounds, \n",
    "    ylim=ylim\n",
    ")"
   ]
  },
  {
   "cell_type": "code",
   "execution_count": null,
   "id": "f9adfa6a",
   "metadata": {},
   "outputs": [],
   "source": []
  },
  {
   "cell_type": "markdown",
   "id": "f1fd1a80",
   "metadata": {},
   "source": [
    "https://docs.gammapy.org/dev/tutorials/api/fitting.html"
   ]
  },
  {
   "cell_type": "markdown",
   "id": "9759ad35",
   "metadata": {},
   "source": [
    "https://cxc.cfa.harvard.edu/sherpa/methods/index.html"
   ]
  },
  {
   "cell_type": "code",
   "execution_count": null,
   "id": "0409016a",
   "metadata": {},
   "outputs": [],
   "source": [
    "print(fitter.minuit)"
   ]
  },
  {
   "cell_type": "code",
   "execution_count": null,
   "id": "03d364e9",
   "metadata": {},
   "outputs": [],
   "source": [
    "display(result_fit.models.to_parameters_table())\n"
   ]
  },
  {
   "cell_type": "code",
   "execution_count": null,
   "id": "bc06656a",
   "metadata": {},
   "outputs": [],
   "source": [
    "result_fit.models.covariance.plot_correlation()\n",
    "\n",
    "# The covariance information is also propagated to the individual models\n",
    "# Therefore, one can also get the error on a specific parameter by directly\n",
    "# accessing the `~gammapy.modeling.Parameter.error` attribute:\n",
    "#\n",
    "\n",
    "print(sky_model.spectral_model.alpha.error)"
   ]
  },
  {
   "cell_type": "code",
   "execution_count": null,
   "id": "50bdcc9b",
   "metadata": {},
   "outputs": [],
   "source": []
  },
  {
   "cell_type": "markdown",
   "id": "0b9edfe9",
   "metadata": {},
   "source": [
    "<a id='4.1'></a>\n",
    "🔝 [Back to Top](#intro)<br>\n",
    "#### 4.1 LHAASO J1825-1326: HESS 1826-130"
   ]
  },
  {
   "cell_type": "code",
   "execution_count": null,
   "id": "895725a3",
   "metadata": {},
   "outputs": [],
   "source": [
    "import operator\n",
    "from astropy import units as u\n",
    "import matplotlib.pyplot as plt\n",
    "from gammapy.modeling.models import (\n",
    "    CompoundSpectralModel,\n",
    "    LogParabolaSpectralModel,\n",
    "    Models,\n",
    "    PowerLawSpectralModel,\n",
    "    SkyModel,\n",
    ")"
   ]
  },
  {
   "cell_type": "code",
   "execution_count": null,
   "id": "50584f22",
   "metadata": {},
   "outputs": [],
   "source": [
    "# to select a source object index: [0-6]\n",
    "table_index = 0\n",
    "source_index = 6\n",
    "cat_index = 0\n",
    "\n",
    "# source = sources_catalogs[source_index][0]\n",
    "source_identification(source_index)\n",
    "\n",
    "catalog_tag = df_fp[\"catalog\"][source_index][cat_index]\n",
    "\n",
    "ds_src = counterparts_datasets[source_index]\n",
    "# ds_src = ds_src_combined_cut_1\n",
    "\n",
    "spectral_model1 = sources_catalogs[source_index][cat_index].spectral_model()\n",
    "\n",
    "\n",
    "ecpwl = ExpCutoffPowerLawSpectralModel(\n",
    "    amplitude=1e-12 * u.Unit(\"cm-2 s-1 TeV-1\"),\n",
    "    index=2,\n",
    "    lambda_=0.1 * u.Unit(\"TeV-1\"),\n",
    "    reference=0.01 * u.TeV,\n",
    ")\n",
    "\n",
    "lp1 = LogParabolaSpectralModel(\n",
    "    alpha=1.56,\n",
    "    amplitude=\"1e-15 cm-2 s-1 TeV-1\",\n",
    "    reference=50 * u.TeV,\n",
    "    beta=0.88,\n",
    ")\n",
    "\n",
    "\n",
    "lp2 = LogParabolaSpectralModel(\n",
    "    alpha=1.56,\n",
    "    amplitude=\"1e-15 cm-2 s-1 erg-1\",\n",
    "    reference=5 * u.TeV,\n",
    "    beta=0.88,\n",
    ")\n",
    "\n",
    "lp3 = LogParabolaSpectralModel(\n",
    "    alpha=1.56,\n",
    "    amplitude=\"1e-15 cm-2 s-1 erg-1\",\n",
    "    reference=100 * u.TeV,\n",
    "    beta=0.88,\n",
    ")\n"
   ]
  },
  {
   "cell_type": "code",
   "execution_count": null,
   "id": "e41d0641",
   "metadata": {},
   "outputs": [],
   "source": [
    "spectral_model = CompoundSpectralModel(spectral_model1, lp1, operator.add)\n",
    "\n",
    "name = f\"{spectral_model.tag[0]}_{df_fp['catalog'][source_index][cat_index]}\"\n",
    "    \n",
    "sky_model = SkyModel(spectral_model=spectral_model, name=name)\n",
    "\n",
    "datasets = Datasets(ds_src)\n",
    "datasets.models = sky_model\n",
    "\n",
    "fitter = Fit()\n",
    "\n",
    "result_fit = fitter.run(datasets=datasets)\n",
    "\n",
    "energy_bounds = [1e-5, 1e3] * u.TeV\n",
    "ylim = [1e-18, 1e-5]\n",
    "\n",
    "plotting_SED_flux_pointing(\n",
    "    datasets = datasets,\n",
    "    spectral_model=spectral_model, \n",
    "    sed_type = \"e2dnde\", \n",
    "    yaxis_units=\"erg cm-2 s-1\", \n",
    "    energy_bounds=energy_bounds, \n",
    "    ylim=ylim\n",
    ")"
   ]
  },
  {
   "cell_type": "code",
   "execution_count": null,
   "id": "6a0fd07f",
   "metadata": {},
   "outputs": [],
   "source": [
    "spectral_model = CompoundSpectralModel(spectral_model1, lp2, operator.add)\n",
    "\n",
    "name = f\"{spectral_model.tag[0]}_{df_fp['catalog'][source_index][cat_index]}\"\n",
    "    \n",
    "sky_model = SkyModel(spectral_model=spectral_model, name=name)\n",
    "\n",
    "datasets = Datasets(ds_src)\n",
    "datasets.models = sky_model\n",
    "\n",
    "fitter = Fit()\n",
    "\n",
    "result_fit = fitter.run(datasets=datasets)\n",
    "\n",
    "energy_bounds = [1e-5, 1e3] * u.TeV\n",
    "ylim = [1e-18, 1e-5]\n",
    "\n",
    "plotting_SED_flux_pointing(\n",
    "    datasets = datasets,\n",
    "    spectral_model=spectral_model, \n",
    "    sed_type = \"e2dnde\", \n",
    "    yaxis_units=\"erg cm-2 s-1\", \n",
    "    energy_bounds=energy_bounds, \n",
    "    ylim=ylim\n",
    ")"
   ]
  },
  {
   "cell_type": "code",
   "execution_count": null,
   "id": "c4dfe63c",
   "metadata": {},
   "outputs": [],
   "source": [
    "spectral_model = CompoundSpectralModel(spectral_model1, lp3, operator.add)\n",
    "\n",
    "name = f\"{spectral_model.tag[0]}_{df_fp['catalog'][source_index][cat_index]}\"\n",
    "    \n",
    "sky_model = SkyModel(spectral_model=spectral_model, name=name)\n",
    "\n",
    "datasets = Datasets(ds_src)\n",
    "datasets.models = sky_model\n",
    "\n",
    "fitter = Fit()\n",
    "\n",
    "result_fit = fitter.run(datasets=datasets)\n",
    "\n",
    "energy_bounds = [1e-5, 1e3] * u.TeV\n",
    "ylim = [1e-18, 1e-5]\n",
    "\n",
    "plotting_SED_flux_pointing(\n",
    "    datasets = datasets,\n",
    "    spectral_model=spectral_model, \n",
    "    sed_type = \"e2dnde\", \n",
    "    yaxis_units=\"erg cm-2 s-1\", \n",
    "    energy_bounds=energy_bounds, \n",
    "    ylim=ylim\n",
    ")"
   ]
  },
  {
   "cell_type": "code",
   "execution_count": null,
   "id": "f7f3f326",
   "metadata": {},
   "outputs": [],
   "source": [
    "result_fit.parameters.to_table()"
   ]
  },
  {
   "cell_type": "code",
   "execution_count": null,
   "id": "5f2f6b97",
   "metadata": {
    "scrolled": false
   },
   "outputs": [],
   "source": [
    "counterpart_name"
   ]
  },
  {
   "cell_type": "code",
   "execution_count": null,
   "id": "58b49c90",
   "metadata": {},
   "outputs": [],
   "source": [
    "J1825_flux_points = FluxPoints.from_table(table = table_J1825)"
   ]
  },
  {
   "cell_type": "code",
   "execution_count": null,
   "id": "5262ccb9",
   "metadata": {},
   "outputs": [],
   "source": [
    "J1825_ds = FluxPointsDataset(\n",
    "    data = J1825_flux_points, \n",
    "    name = f\"{source_name}\"\n",
    ")\n",
    "counterparts_datasets_cut[source_index].append(J1825_ds)\n",
    "\n"
   ]
  },
  {
   "cell_type": "code",
   "execution_count": null,
   "id": "2a86f0b1",
   "metadata": {},
   "outputs": [],
   "source": [
    "print(counterparts_datasets_cut[source_index][1])"
   ]
  },
  {
   "cell_type": "code",
   "execution_count": null,
   "id": "0ed13f13",
   "metadata": {},
   "outputs": [],
   "source": []
  },
  {
   "cell_type": "markdown",
   "id": "44c4df2a",
   "metadata": {},
   "source": [
    "#### AQUIII"
   ]
  },
  {
   "cell_type": "code",
   "execution_count": null,
   "id": "5954404a",
   "metadata": {
    "scrolled": true
   },
   "outputs": [],
   "source": [
    "df_fp[\"source_name\"]"
   ]
  },
  {
   "cell_type": "code",
   "execution_count": null,
   "id": "00557c96",
   "metadata": {},
   "outputs": [],
   "source": []
  },
  {
   "cell_type": "code",
   "execution_count": null,
   "id": "6da0a1e7",
   "metadata": {
    "scrolled": true
   },
   "outputs": [],
   "source": [
    "# to select a source object index: [0-6]\n",
    "source_index = 6\n",
    "table_index = 0\n",
    "cat_index = 0\n",
    "# source = sources_catalogs[source_index][0]\n",
    "source_identification(source_index)\n",
    "\n",
    "catalog_tag = df_fp[\"catalog\"][source_index][cat_index]\n",
    "\n",
    "ds_src = counterparts_datasets[source_index]\n",
    "# ds_src = ds_src_combined_cut_3\n",
    "\n",
    "spectral_model = sources_catalogs[source_index][cat_index].spectral_model()\n",
    "\n",
    "# spectral_model = PowerLawSpectralModel(\n",
    "#     index=2,\n",
    "#     amplitude=\"1e-10 TeV-1 cm-2 s-1\",\n",
    "#     reference=1 * u.TeV,\n",
    "# )\n",
    "\n",
    "# spectral_model = LogParabolaSpectralModel(\n",
    "#     alpha=0.92,\n",
    "#     amplitude=\"1e-12 cm-2 s-1 erg-1\",\n",
    "#     reference=1 * u.TeV,\n",
    "#     beta=1.19,\n",
    "# )\n",
    "\n",
    "name = f\"{spectral_model.tag[0]}_{df_fp['catalog'][source_index][cat_index]}\"\n",
    "    \n",
    "sky_model = SkyModel(spectral_model=spectral_model, name=name)\n",
    "\n",
    "datasets = Datasets(ds_src)\n",
    "datasets.models = sky_model\n",
    "\n",
    "fitter = Fit()\n",
    "\n",
    "result_fit = fitter.run(datasets=datasets)\n",
    "\n",
    "energy_bounds = [1e-3, 1e5] * u.TeV\n",
    "ylim = [1e-16, 1e-6]\n",
    "\n",
    "plotting_SED_flux_pointing(\n",
    "    datasets = datasets,\n",
    "    spectral_model=spectral_model, \n",
    "    sed_type = \"e2dnde\", \n",
    "    yaxis_units=\"erg cm-2 s-1\", \n",
    "    energy_bounds=energy_bounds, \n",
    "    ylim=ylim\n",
    ")"
   ]
  },
  {
   "cell_type": "code",
   "execution_count": null,
   "id": "5f7b0d03",
   "metadata": {
    "scrolled": true
   },
   "outputs": [],
   "source": [
    "print(result_fit.models.parameters.to_table())"
   ]
  },
  {
   "cell_type": "code",
   "execution_count": null,
   "id": "faf11bf9",
   "metadata": {},
   "outputs": [],
   "source": [
    "import operator\n",
    "from astropy import units as u\n",
    "import matplotlib.pyplot as plt\n",
    "from gammapy.modeling.models import (\n",
    "    CompoundSpectralModel,\n",
    "    LogParabolaSpectralModel,\n",
    "    Models,\n",
    "    PowerLawSpectralModel,\n",
    "    SkyModel,\n",
    ")\n",
    "\n",
    "energy_bounds = [0.1, 100] * u.TeV\n",
    "pwl = PowerLawSpectralModel(\n",
    "    index=2.0, amplitude=\"1e-12 cm-2 s-1 TeV-1\", reference=\"1 TeV\"\n",
    ")\n",
    "lp = LogParabolaSpectralModel(\n",
    "    amplitude=\"1e-12 cm-2 s-1 TeV-1\", reference=\"10 TeV\", alpha=2.0, beta=1.0\n",
    ")\n",
    "\n",
    "model_add = CompoundSpectralModel(pwl, lp, operator.add)\n",
    "model_add.plot(energy_bounds)\n",
    "plt.grid(which=\"both\")\n"
   ]
  },
  {
   "cell_type": "code",
   "execution_count": null,
   "id": "cf5ff348",
   "metadata": {},
   "outputs": [],
   "source": []
  },
  {
   "cell_type": "code",
   "execution_count": null,
   "id": "6a19e8c6",
   "metadata": {},
   "outputs": [],
   "source": []
  },
  {
   "cell_type": "code",
   "execution_count": null,
   "id": "caa74409",
   "metadata": {
    "scrolled": true
   },
   "outputs": [],
   "source": [
    "spectral_model.reference"
   ]
  },
  {
   "cell_type": "code",
   "execution_count": null,
   "id": "636366aa",
   "metadata": {},
   "outputs": [],
   "source": [
    "# import matplotlib.pyplot as plt\n",
    "# import numpy as np\n",
    "\n",
    "# # Generate dataset for the plot\n",
    "# x = np.linspace(-10, 10, 1000)\n",
    "# y = np.sin(x)\n",
    "\n",
    "# # Plot the data\n",
    "# plt.plot(x, y, color='red')\n",
    "\n",
    "# # Use the rdbu colormap to color the background\n",
    "# plt.imshow(np.outer(np.ones(10), np.arange(100)),\n",
    "#            cmap='RdBu',\n",
    "#            extent=(-10, 10, -1, 1),\n",
    "#            alpha=0.2)\n",
    "\n",
    "# # Add text to the plot using an rgba color\n",
    "# plt.text(5, 0.5, 'Text in RGBA color', color=(0, 1, 0, 0.5), fontsize=16)\n",
    "\n",
    "# # Show the plot\n",
    "# plt.show()"
   ]
  },
  {
   "cell_type": "code",
   "execution_count": null,
   "id": "725899bf",
   "metadata": {},
   "outputs": [],
   "source": []
  },
  {
   "cell_type": "code",
   "execution_count": null,
   "id": "7d448f6a",
   "metadata": {},
   "outputs": [],
   "source": []
  },
  {
   "cell_type": "code",
   "execution_count": null,
   "id": "c5367d5e",
   "metadata": {},
   "outputs": [],
   "source": []
  },
  {
   "cell_type": "code",
   "execution_count": null,
   "id": "747287ce",
   "metadata": {},
   "outputs": [],
   "source": []
  },
  {
   "cell_type": "code",
   "execution_count": null,
   "id": "5c85aaea",
   "metadata": {},
   "outputs": [],
   "source": [
    "# to select a source object index: [0-6]\n",
    "source_index = 0\n",
    "source_identification(source_index)\n",
    "source_name, counterpart_name"
   ]
  },
  {
   "cell_type": "code",
   "execution_count": null,
   "id": "4d50a908",
   "metadata": {},
   "outputs": [],
   "source": [
    "# List of catalogs with flux points table of the source\n",
    "df_fp['catalog'][source_index]"
   ]
  },
  {
   "cell_type": "code",
   "execution_count": null,
   "id": "144e7f84",
   "metadata": {},
   "outputs": [],
   "source": [
    "# to select a catalog:\n",
    "cat_index = 4\n",
    "catalog_tag = df_fp[\"catalog\"][source_index][cat_index]\n",
    "catalog = CATALOG_REGISTRY.get_cls(catalog_tag)()\n",
    "# print(catalog)"
   ]
  },
  {
   "cell_type": "code",
   "execution_count": null,
   "id": "b31f37c5",
   "metadata": {},
   "outputs": [],
   "source": [
    "source  = catalog[counterpart_name]\n",
    "# source.data"
   ]
  },
  {
   "cell_type": "code",
   "execution_count": null,
   "id": "bbf8c466",
   "metadata": {
    "scrolled": true
   },
   "outputs": [],
   "source": [
    "flux_points = source.flux_points\n",
    "flux_points.to_table(sed_type=\"e2dnde\", formatted=True)"
   ]
  },
  {
   "cell_type": "code",
   "execution_count": null,
   "id": "1d1d6170",
   "metadata": {},
   "outputs": [],
   "source": [
    "# Gammapy sky model object:\n",
    "sky_model = source.sky_model()\n",
    "\n",
    "# Gammapy spatial model object:\n",
    "spatial_model = source.spatial_model\n",
    "\n",
    "# Gammapy spectral model object:\n",
    "spectral_model = source.spectral_model()\n",
    "spectral_model_tag = spectral_model.tag[0]\n",
    "spectral_model_tag_short = spectral_model.tag[0]"
   ]
  },
  {
   "cell_type": "code",
   "execution_count": null,
   "id": "ca4d9b8a",
   "metadata": {},
   "outputs": [],
   "source": [
    "# energy_bounds = [1e-5, 1e3] * u.TeV\n",
    "# ylim = [1e-20, 1e-7]"
   ]
  },
  {
   "cell_type": "code",
   "execution_count": null,
   "id": "cfa9953d",
   "metadata": {},
   "outputs": [],
   "source": [
    "file_name = f'{source_txt}_{counterpart_txt}_{spectral_model_tag_short}.png'\n",
    "file_path = path_SED_from_catalogs / file_name"
   ]
  },
  {
   "cell_type": "code",
   "execution_count": null,
   "id": "c656ee5b",
   "metadata": {},
   "outputs": [],
   "source": [
    "plt.style.use(['science', 'notebook', 'grid'])\n",
    "\n",
    "plt.figure()\n",
    "\n",
    "ax = spectral_model.plot(energy_bounds, sed_type=\"e2dnde\")\n",
    "ax = spectral_model.plot_error(energy_bounds, sed_type=\"e2dnde\")\n",
    "flux_points.plot(ax=ax, sed_type=\"e2dnde\")\n",
    "ax.text(0.08, 0.1, source_name, transform=ax.transAxes, fontsize = \"x-large\")\n",
    "\n",
    "ax.set_ylim(ylim)\n",
    "ax.set_xlim(energy_bounds)\n",
    "\n",
    "# plt.title(f\"{source_name}: {counterpart_name}\")\n",
    "plt.legend([spectral_model_tag, \"Error\", f\"{counterpart_name} - {catalog_tag}\"], loc='upper left', prop={'size': 10})\n",
    "plt.savefig(file_path, bbox_inches='tight')\n",
    "plt.show()"
   ]
  },
  {
   "cell_type": "code",
   "execution_count": null,
   "id": "de037824",
   "metadata": {},
   "outputs": [],
   "source": []
  },
  {
   "cell_type": "code",
   "execution_count": null,
   "id": "1a95ec9d",
   "metadata": {},
   "outputs": [],
   "source": [
    "file_name"
   ]
  },
  {
   "cell_type": "code",
   "execution_count": null,
   "id": "8718987c",
   "metadata": {},
   "outputs": [],
   "source": [
    "source_index = 1\n",
    "source_identification(source_index)\n",
    "catalog_tag = df_fp[\"catalog\"][source_index][3]\n",
    "\n",
    "file_name = f'{source_txt}_{counterpart_txt}_{catalog_tag}{format_fits}'\n",
    "file_path = make_path(f\"{path_flux_points_tables}/{file_name}\")\n",
    "flux_points = FluxPoints.read(file_path, sed_type=sed_type)\n",
    "ds = FluxPointsDataset(\n",
    "    data = flux_points, \n",
    "    name = f\"{counterpart_name}: {catalog_tag}\"\n",
    ")\n",
    "datasets = Datasets(ds)\n",
    "\n",
    "\n",
    "# opts = dict(sed_type=\"e2dnde\", yunits=u.Unit(\"TeV cm-2 s-1\"))\n",
    "energy_bounds = [1e-3, 1e3] * u.TeV\n",
    "ylim = [1e-13, 1e-9]\n",
    "plotting_SED_flux_pointing(\n",
    "    datasets = datasets,\n",
    "#     spectral_model=spectral_model, \n",
    "    sed_type = \"e2dnde\", \n",
    "    yaxis_units=\"erg cm-2 s-1\", \n",
    "    energy_bounds=energy_bounds, \n",
    "    ylim=ylim)\n"
   ]
  },
  {
   "cell_type": "code",
   "execution_count": null,
   "id": "9e8f9799",
   "metadata": {},
   "outputs": [],
   "source": [
    "# Defining the minimum value of the reference energy  \n",
    "e_ref_min = 100 * u.Unit(\"GeV\")\n",
    "e_ref_min_name = str(e_ref_min).replace(\" \", \"\")"
   ]
  },
  {
   "cell_type": "code",
   "execution_count": null,
   "id": "1736a7fa",
   "metadata": {},
   "outputs": [],
   "source": [
    "source_identification(source_index)\n",
    "catalog_tag = df_fp[\"catalog\"][source_index][3]\n",
    "\n",
    "file_name = f'{source_txt}_{counterpart_txt}_{catalog_tag}_e_ref_min_{e_ref_min_name}{format_fits}'\n",
    "file_path = make_path(f\"{path_flux_points_tables_analysis}/{file_name}\")\n",
    "flux_points = FluxPoints.read(file_path, sed_type=sed_type)\n",
    "ds = FluxPointsDataset(\n",
    "    data = flux_points, \n",
    "    name = f\"{counterpart_name}: {catalog_tag}\"\n",
    ")\n",
    "datasets = Datasets(ds)\n",
    "\n",
    "\n",
    "# opts = dict(sed_type=\"e2dnde\", yunits=u.Unit(\"TeV cm-2 s-1\"))\n",
    "energy_bounds = [1e-3, 1e3] * u.TeV\n",
    "ylim = [1e-13, 1e-9]\n",
    "plotting_SED_flux_pointing(\n",
    "    datasets = datasets,\n",
    "#     spectral_model=spectral_model, \n",
    "    sed_type = \"e2dnde\", \n",
    "    yaxis_units=\"erg cm-2 s-1\", \n",
    "    energy_bounds=energy_bounds, \n",
    "    ylim=ylim)\n"
   ]
  },
  {
   "cell_type": "code",
   "execution_count": null,
   "id": "87fb15e8",
   "metadata": {},
   "outputs": [],
   "source": []
  },
  {
   "cell_type": "code",
   "execution_count": null,
   "id": "7f06e012",
   "metadata": {},
   "outputs": [],
   "source": [
    "with open('J1825_KM2A_201209.dat', \"r\") as my_file: \n",
    "    df = my_file.read()"
   ]
  },
  {
   "cell_type": "code",
   "execution_count": null,
   "id": "4f3f8c90",
   "metadata": {},
   "outputs": [],
   "source": []
  },
  {
   "cell_type": "markdown",
   "id": "5e8303da",
   "metadata": {},
   "source": [
    "## Table LHAASO"
   ]
  },
  {
   "cell_type": "code",
   "execution_count": null,
   "id": "c50d6890",
   "metadata": {},
   "outputs": [],
   "source": []
  },
  {
   "cell_type": "markdown",
   "id": "ec3a8f53",
   "metadata": {},
   "source": [
    "#### HAWCJ1825"
   ]
  },
  {
   "cell_type": "code",
   "execution_count": null,
   "id": "96b9f8ee",
   "metadata": {},
   "outputs": [],
   "source": [
    "with open('HAWCJ1825-134.csv', \"r\") as my_file: \n",
    "    df = my_file.read()\n",
    "\n"
   ]
  },
  {
   "cell_type": "code",
   "execution_count": null,
   "id": "1bde40ca",
   "metadata": {},
   "outputs": [],
   "source": [
    "print(df)"
   ]
  },
  {
   "cell_type": "code",
   "execution_count": null,
   "id": "8d084e6d",
   "metadata": {},
   "outputs": [],
   "source": [
    "table_HAWCJ1825_134 = Table.read('HAWCJ1825-134.csv',format='ascii', delimiter=',', comment='#')\n",
    "table_HAWCJ1825_134.colnames"
   ]
  },
  {
   "cell_type": "code",
   "execution_count": null,
   "id": "4c2f17ed",
   "metadata": {},
   "outputs": [],
   "source": [
    "table_HAWCJ1825_134.rename_column('x', 'e_ref')\n",
    "table_HAWCJ1825_134['e_ref'].unit = u.TeV\n",
    "\n",
    "\n",
    "table_HAWCJ1825_134['e2dnde'].unit = u.Unit(\"TeV cm-2 s-1\")"
   ]
  },
  {
   "cell_type": "code",
   "execution_count": null,
   "id": "8d476fee",
   "metadata": {},
   "outputs": [],
   "source": [
    "table_HAWCJ1825_134['e2dnde']"
   ]
  },
  {
   "cell_type": "code",
   "execution_count": null,
   "id": "6aaf6939",
   "metadata": {},
   "outputs": [],
   "source": [
    "FluxPoints.from_table(table = table_HAWCJ1825_134, sed_type='e2dnde').plot()\n",
    "plt.xlim(.1, 1000)\n",
    "plt.ylim(1e-14, 1e-10)\n",
    "plt.grid(which=\"both\")"
   ]
  },
  {
   "cell_type": "code",
   "execution_count": null,
   "id": "c2eb03ce",
   "metadata": {},
   "outputs": [],
   "source": [
    "yaxis_units=\"TeV cm-2 s-1\"\n",
    "ax = plt.subplot()\n",
    "ax.yaxis.set_units(u.Unit(yaxis_units))\n",
    "ax.xaxis.set_units(u.Unit(\"TeV\"))\n",
    "\n",
    "flux_points = FluxPoints.from_table(table = table_HAWCJ1825_134, sed_type='e2dnde')\n",
    "flux_points.plot(ax=ax)\n",
    "\n",
    "\n",
    "plt.xlim(.1, 1000)\n",
    "plt.ylim(1e-14, 1e-10)\n",
    "plt.grid(which=\"both\")\n",
    "plt.savefig('uu.png', bbox_inches='tight')"
   ]
  },
  {
   "cell_type": "code",
   "execution_count": null,
   "id": "f64b7bd9",
   "metadata": {
    "scrolled": true
   },
   "outputs": [],
   "source": [
    "flux_points.to_table()"
   ]
  },
  {
   "cell_type": "code",
   "execution_count": null,
   "id": "2e234745",
   "metadata": {},
   "outputs": [],
   "source": [
    "table_HAWCJ1825_134[\"e2dnde\"][:] = table_HAWCJ1825_134[\"e2dnde\"].to(u.Unit(\"erg cm-2 s-1\")) "
   ]
  },
  {
   "cell_type": "code",
   "execution_count": null,
   "id": "246ceee8",
   "metadata": {},
   "outputs": [],
   "source": [
    "table_HAWCJ1825_134"
   ]
  },
  {
   "cell_type": "code",
   "execution_count": null,
   "id": "24740078",
   "metadata": {},
   "outputs": [],
   "source": [
    "flux_points = FluxPoints.from_table(table_HAWCJ1825_134, sed_type='e2dnde')\n",
    "\n",
    "flux_points.to_table(formatted=True)"
   ]
  },
  {
   "cell_type": "code",
   "execution_count": null,
   "id": "09794be5",
   "metadata": {},
   "outputs": [],
   "source": []
  },
  {
   "cell_type": "markdown",
   "id": "75e5aa91",
   "metadata": {},
   "source": [
    "#### LHAASO J1825_KM2A"
   ]
  },
  {
   "cell_type": "code",
   "execution_count": null,
   "id": "2f093e7d",
   "metadata": {},
   "outputs": [],
   "source": []
  },
  {
   "cell_type": "code",
   "execution_count": null,
   "id": "29c7f685",
   "metadata": {},
   "outputs": [],
   "source": [
    "from pathlib import Path\n",
    "directory_path = '../publishNature'\n",
    "format_dat = '.dat'\n",
    "file_name = \"J1825_KM2A_201209\"\n",
    "file_abs_name = f'{file_name}{format_dat}'\n",
    "\n",
    "file_path = Path(f'{directory_path}/{file_abs_name}') \n",
    "J1825 = Table.read(file_path,format='ascii', delimiter=' ', comment='#')\n",
    "J1825"
   ]
  },
  {
   "cell_type": "code",
   "execution_count": null,
   "id": "64392add",
   "metadata": {},
   "outputs": [],
   "source": []
  },
  {
   "cell_type": "code",
   "execution_count": null,
   "id": "86d9b921",
   "metadata": {},
   "outputs": [],
   "source": [
    "from astropy.table import QTable\n",
    "import astropy.units as u\n",
    "\n",
    "J1825['col1'] = J1825['col1']/1e12\n",
    "J1825.rename_column('col1', 'e_ref')\n",
    "J1825['e_ref'].unit = u.TeV\n",
    "\n",
    "J1825['col5'] = J1825['col5']/1e12\n",
    "J1825.rename_column('col5', 'e_min')\n",
    "J1825['e_min'].unit = u.TeV\n",
    "\n",
    "J1825['col6'] = J1825['col6']/1e12\n",
    "J1825.rename_column('col6', 'e_max')\n",
    "J1825['e_max'].unit = u.TeV\n",
    "\n",
    "\n",
    "\n",
    "J1825.rename_column('col2', 'e2dnde')\n",
    "J1825['e2dnde'].unit = u.Unit(\"erg cm-2 s-1\")\n",
    "\n",
    "J1825.rename_column('col3', 'e2dnde_errp')\n",
    "J1825['e2dnde_errp'].unit = u.Unit(\"erg cm-2 s-1\")\n",
    "\n",
    "J1825.rename_column('col4', 'e2dnde_errn')\n",
    "J1825['e2dnde_errn'].unit = u.Unit(\"erg cm-2 s-1\")\n",
    "\n",
    "J1825.meta[\"SED_TYPE\"] = \"e2dnde\"\n",
    "J1825.meta[\"name\"] = \"J1825\"\n",
    "\n",
    "\n",
    "\n",
    "\n",
    "\n",
    "# # Writes the flux points table in the csv format\n",
    "# file_abs_name = f'{file_name}{format_fits}'\n",
    "# path_os = os.path.abspath(\n",
    "#     os.path.join(\n",
    "#         f\"{directory_path}/{file_abs_name}\"\n",
    "#     )\n",
    "# )\n",
    "\n",
    "# if path_os not in sys.path:\n",
    "#     sys.path.append(path_os)\n",
    "\n",
    "# J1825.write(\n",
    "#     f\"{path_os}\",\n",
    "#     format = 'fits', \n",
    "#     overwrite = True\n",
    "# )   \n",
    "\n",
    "# # Writes the flux points table in the csv format\n",
    "# file_abs_name = f'{file_name}{format_csv}'\n",
    "# path_os = os.path.abspath(\n",
    "#     os.path.join(\n",
    "#         f\"{directory_path}/{file_abs_name}\"\n",
    "#     )\n",
    "# )\n",
    "\n",
    "# if path_os not in sys.path:\n",
    "#     sys.path.append(path_os)\n",
    "\n",
    "# J1825.write(\n",
    "#     f\"{path_os}\",\n",
    "#     format = 'ascii.ecsv', \n",
    "#     overwrite = True\n",
    "# )  "
   ]
  },
  {
   "cell_type": "code",
   "execution_count": null,
   "id": "bc236f71",
   "metadata": {},
   "outputs": [],
   "source": [
    "\n",
    "J1825"
   ]
  },
  {
   "cell_type": "code",
   "execution_count": null,
   "id": "fe9dcb36",
   "metadata": {},
   "outputs": [],
   "source": [
    "FluxPoints.from_table(table = J1825, sed_type='e2dnde').plot()"
   ]
  },
  {
   "cell_type": "code",
   "execution_count": null,
   "id": "1ef2bb2e",
   "metadata": {},
   "outputs": [],
   "source": [
    "J1825['e_ref'],J1825['e2dnde']"
   ]
  },
  {
   "cell_type": "code",
   "execution_count": null,
   "id": "84752095",
   "metadata": {},
   "outputs": [],
   "source": [
    "x_data = J1825['e_ref']\n",
    "y_data = J1825['e2dnde']"
   ]
  },
  {
   "cell_type": "code",
   "execution_count": null,
   "id": "8374d078",
   "metadata": {},
   "outputs": [],
   "source": [
    "def power_law(energy,index, amplitude):  \n",
    "    return amplitude*(energy)**(-index)"
   ]
  },
  {
   "cell_type": "code",
   "execution_count": null,
   "id": "78c1e0d9",
   "metadata": {},
   "outputs": [],
   "source": [
    "from scipy.optimize import curve_fit\n",
    "popt, pcov = curve_fit(power_law, J1825['e_ref'], J1825['e2dnde'], p0=[2,1e-12])"
   ]
  },
  {
   "cell_type": "code",
   "execution_count": null,
   "id": "ef5a557b",
   "metadata": {
    "scrolled": true
   },
   "outputs": [],
   "source": [
    "popt, pcov"
   ]
  },
  {
   "cell_type": "code",
   "execution_count": null,
   "id": "ebea56b3",
   "metadata": {},
   "outputs": [],
   "source": [
    "a_opt, b_opt = popt\n",
    "x_plw = np.linspace(min(x_data), max(x_data), 100)\n",
    "y_plw = power_law(x_plw, a_opt, b_opt)"
   ]
  },
  {
   "cell_type": "code",
   "execution_count": null,
   "id": "a878fcfa",
   "metadata": {},
   "outputs": [],
   "source": []
  },
  {
   "cell_type": "code",
   "execution_count": null,
   "id": "46291c62",
   "metadata": {},
   "outputs": [],
   "source": [
    "def log_parabola(energy, amplitude, alpha, beta):  \n",
    "    return amplitude*((energy/10)**(-(-alpha+(beta*np.log(energy/10)))))"
   ]
  },
  {
   "cell_type": "code",
   "execution_count": null,
   "id": "a42c555a",
   "metadata": {},
   "outputs": [],
   "source": [
    "popt, pcov = curve_fit(log_parabola, J1825['e_ref'], J1825['e2dnde'], p0=[1e-12,1, 1])"
   ]
  },
  {
   "cell_type": "code",
   "execution_count": null,
   "id": "f36858e7",
   "metadata": {},
   "outputs": [],
   "source": [
    "popt, pcov"
   ]
  },
  {
   "cell_type": "code",
   "execution_count": null,
   "id": "bdab9c4b",
   "metadata": {},
   "outputs": [],
   "source": [
    "a_opt, b_opt, c_opt = popt\n",
    "x_lp = np.linspace(min(x_data), max(x_data), 100)\n",
    "y_lp = log_parabola(x_lp, a_opt, b_opt, c_opt)"
   ]
  },
  {
   "cell_type": "code",
   "execution_count": null,
   "id": "4f0d25d1",
   "metadata": {},
   "outputs": [],
   "source": []
  },
  {
   "cell_type": "code",
   "execution_count": null,
   "id": "373b652d",
   "metadata": {},
   "outputs": [],
   "source": []
  },
  {
   "cell_type": "code",
   "execution_count": null,
   "id": "196ffe76",
   "metadata": {},
   "outputs": [],
   "source": [
    "\n"
   ]
  },
  {
   "cell_type": "code",
   "execution_count": null,
   "id": "6c3bc2e0",
   "metadata": {},
   "outputs": [],
   "source": [
    "energy_bounds=[10, 1000]* u.TeV\n",
    "\n",
    "pwl = PowerLawSpectralModel(\n",
    "    index=3.36, \n",
    "    amplitude=\"1e-12 cm-2 s-1 erg-1\", \n",
    "    reference=\"1 TeV\"\n",
    ")\n",
    "\n",
    "\n",
    "plt.figure(figsize=(4,6))\n",
    "plt.loglog(J1825['e_ref'],J1825['e2dnde'], 'o', color='red', lw=2, ms=4)\n",
    "plt.errorbar(J1825['e_ref'],J1825['e2dnde'], yerr=[J1825['e2dnde_errn'], J1825['e2dnde_errp']],fmt='.', color='red')\n",
    "\n",
    "\n",
    "\n",
    "# pwl.plot(energy_bounds=energy_bounds, color=\"k\")\n",
    "plt.text(0.04,0.1, source_name, transform=ax.transAxes, bbox=dict(facecolor='white', edgecolor='black'), size=13)\n",
    "\n",
    "plt.loglog(x_plw,y_plw, '--' ,color='black')\n",
    "# plt.loglog(x_lp,y_lp, '--' ,color='black')\n",
    "\n",
    "plt.xlabel(\"Energy (TeV)\")   \n",
    "plt.ylabel(r\"$E^{2}$dN/dE (erg $cm^{-2}$ $s^{-1}$)\")\n",
    "plt.xlim(10, 1000)\n",
    "plt.ylim(1e-14, 5e-11)\n",
    "plt.grid(which=\"both\")"
   ]
  },
  {
   "cell_type": "code",
   "execution_count": null,
   "id": "ff82b928",
   "metadata": {},
   "outputs": [],
   "source": [
    "fig, axes = plt.subplots(1, 3, figsize=(12,6))\n",
    "ax = axes[0]\n",
    "ax.loglog(J1825['e_ref'],J1825['e2dnde'], 'o', color='red', lw=2, ms=4)\n",
    "ax.errorbar(J1825['e_ref'],J1825['e2dnde'], yerr=[J1825['e2dnde_errn'], J1825['e2dnde_errp']],fmt='.', color='red')\n",
    "ax.text(0.04,0.1, source_name, transform=ax.transAxes, bbox=dict(facecolor='white', edgecolor='black'), size=13)\n",
    "ax.loglog(x_plw,y_plw, '--' ,color='black')\n",
    "ax.set_ylabel(r\"$E^{2}$dN/dE (erg $cm^{-2}$ $s^{-1}$)\")\n",
    "ax.grid(which=\"both\")\n",
    "\n",
    "\n",
    "\n",
    "\n",
    "\n",
    "fig.text(0.5, -0.04, \"Energy (TeV)\", ha='center', size=20)\n",
    "\n",
    "# plt.ylabel(r\"$E^{2}$dN/dE (erg $cm^{-2}$ $s^{-1}$)\")\n",
    "plt.xlim(10, 1000)\n",
    "plt.ylim(1e-14, 5e-11)\n",
    "plt.grid(which=\"both\")\n",
    "\n"
   ]
  },
  {
   "cell_type": "code",
   "execution_count": null,
   "id": "0fe537dc",
   "metadata": {},
   "outputs": [],
   "source": []
  },
  {
   "cell_type": "code",
   "execution_count": null,
   "id": "d0461669",
   "metadata": {},
   "outputs": [],
   "source": []
  },
  {
   "cell_type": "code",
   "execution_count": null,
   "id": "645754fc",
   "metadata": {},
   "outputs": [],
   "source": [
    "from pathlib import Path\n",
    "from astropy.table import QTable\n",
    "import astropy.units as u\n",
    "from scipy.optimize import curve_fit\n"
   ]
  },
  {
   "cell_type": "code",
   "execution_count": null,
   "id": "83449870",
   "metadata": {},
   "outputs": [],
   "source": [
    "def power_law(energy,index, amplitude):  \n",
    "    return amplitude*(energy)**(-index)"
   ]
  },
  {
   "cell_type": "code",
   "execution_count": null,
   "id": "830a214f",
   "metadata": {},
   "outputs": [],
   "source": [
    "def log_parabola(energy, amplitude, alpha, beta):  \n",
    "    return amplitude*((energy/10)**(-(-alpha+(beta*np.log(energy/10)))))"
   ]
  },
  {
   "cell_type": "code",
   "execution_count": null,
   "id": "4c430f41",
   "metadata": {},
   "outputs": [],
   "source": []
  },
  {
   "cell_type": "code",
   "execution_count": null,
   "id": "5e9fab3e",
   "metadata": {},
   "outputs": [],
   "source": []
  },
  {
   "cell_type": "code",
   "execution_count": null,
   "id": "691cdf0a",
   "metadata": {},
   "outputs": [],
   "source": []
  },
  {
   "cell_type": "code",
   "execution_count": null,
   "id": "8aeeaca1",
   "metadata": {},
   "outputs": [],
   "source": []
  },
  {
   "cell_type": "code",
   "execution_count": null,
   "id": "7694a6d6",
   "metadata": {},
   "outputs": [],
   "source": []
  },
  {
   "cell_type": "code",
   "execution_count": null,
   "id": "295b0329",
   "metadata": {},
   "outputs": [],
   "source": [
    "file_path"
   ]
  },
  {
   "cell_type": "code",
   "execution_count": null,
   "id": "bf6e77db",
   "metadata": {},
   "outputs": [],
   "source": [
    "for i, file_name in enumerate(files_names):\n",
    "    source_name = PeVatrons_names[i]\n",
    "    print(source_name)\n",
    "    file_abs_name = f'{file_name}'\n",
    "\n",
    "    file_path = Path(f'{directory_path}/{file_abs_name}') \n",
    "    table = Table.read(file_path,format='ascii', delimiter=' ', comment='#')\n",
    "    display(table)\n",
    "    \n",
    "    table['col1'] = table['col1']/1e12\n",
    "    table.rename_column('col1', 'e_ref')\n",
    "    table['e_ref'].unit = u.TeV\n",
    "\n",
    "    table['col5'] = table['col5']/1e12\n",
    "    table.rename_column('col5', 'e_min')\n",
    "    table['e_min'].unit = u.TeV\n",
    "\n",
    "    table['col6'] = table['col6']/1e12\n",
    "    table.rename_column('col6', 'e_max')\n",
    "    table['e_max'].unit = u.TeV\n",
    "\n",
    "    table.rename_column('col2', 'e2dnde')\n",
    "    table['e2dnde'].unit = u.Unit(\"erg cm-2 s-1\")\n",
    "\n",
    "    table.rename_column('col3', 'e2dnde_errp')\n",
    "    table['e2dnde_errp'].unit = u.Unit(\"erg cm-2 s-1\")\n",
    "\n",
    "    table.rename_column('col4', 'e2dnde_errn')\n",
    "    table['e2dnde_errn'].unit = u.Unit(\"erg cm-2 s-1\")\n",
    "\n",
    "    table.meta[\"SED_TYPE\"] = \"e2dnde\"\n",
    "    table.meta[\"name\"] = \"table\"\n",
    "    display(table)\n",
    "    x_data = table['e_ref']\n",
    "    y_data = table['e2dnde']\n",
    "\n",
    "    popt, pcov = curve_fit(power_law, table['e_ref'], table['e2dnde'], p0=[2,1e-12])\n",
    "    a_opt, b_opt = popt\n",
    "    x_plw = np.linspace(min(x_data), max(x_data), 100)\n",
    "    y_plw = power_law(x_plw, a_opt, b_opt)\n",
    "    fig, axes = plt.subplots(1, 3, figsize=(12,6))\n",
    "    ax = axes[0]\n",
    "    ax.loglog(table['e_ref'], table['e2dnde'], 'o', color='red', lw=2, ms=4)\n",
    "    ax.errorbar(table['e_ref'], table['e2dnde'], yerr=[table['e2dnde_errn'], table['e2dnde_errp']],fmt='.', color='red')\n",
    "    ax.text(0.04,0.1, source_name, transform=ax.transAxes, bbox=dict(facecolor='white', edgecolor='black'), size=13)\n",
    "    ax.loglog(x_plw,y_plw, '--' ,color='black')\n",
    "    ax.set_ylabel(r\"$E^{2}$dN/dE (erg $cm^{-2}$ $s^{-1}$)\")\n",
    "    ax.grid(which=\"both\")\n",
    "\n",
    "    fig.text(0.5, -0.04, \"Energy (TeV)\", ha='center', size=20)\n",
    "\n",
    "    plt.xlim(10, 1000)\n",
    "    plt.ylim(1e-14, 5e-11)\n",
    "    plt.grid(which=\"both\")\n",
    "    plt.show()\n"
   ]
  },
  {
   "cell_type": "code",
   "execution_count": null,
   "id": "5abe75fe",
   "metadata": {},
   "outputs": [],
   "source": []
  },
  {
   "cell_type": "code",
   "execution_count": null,
   "id": "e1c6a821",
   "metadata": {},
   "outputs": [],
   "source": []
  },
  {
   "cell_type": "code",
   "execution_count": null,
   "id": "6151c482",
   "metadata": {},
   "outputs": [],
   "source": [
    "file_name = files_names[0]\n",
    "file_abs_name = f'{file_name}'\n",
    "\n",
    "file_path = Path(f'{directory_path}/{file_abs_name}') \n",
    "table = Table.read(file_path,format='ascii', delimiter=' ', comment='#')\n",
    "table"
   ]
  },
  {
   "cell_type": "code",
   "execution_count": null,
   "id": "fa9030e7",
   "metadata": {},
   "outputs": [],
   "source": [
    "table['col1'] = table['col1']/1e12\n",
    "table.rename_column('col1', 'e_ref')\n",
    "table['e_ref'].unit = u.TeV\n",
    "\n",
    "table['col5'] = table['col5']/1e12\n",
    "table.rename_column('col5', 'e_min')\n",
    "table['e_min'].unit = u.TeV\n",
    "\n",
    "table['col6'] = table['col6']/1e12\n",
    "table.rename_column('col6', 'e_max')\n",
    "table['e_max'].unit = u.TeV\n",
    "\n",
    "table.rename_column('col2', 'e2dnde')\n",
    "table['e2dnde'].unit = u.Unit(\"erg cm-2 s-1\")\n",
    "\n",
    "table.rename_column('col3', 'e2dnde_errp')\n",
    "table['e2dnde_errp'].unit = u.Unit(\"erg cm-2 s-1\")\n",
    "\n",
    "table.rename_column('col4', 'e2dnde_errn')\n",
    "table['e2dnde_errn'].unit = u.Unit(\"erg cm-2 s-1\")\n",
    "\n",
    "table.meta[\"SED_TYPE\"] = \"e2dnde\"\n",
    "table.meta[\"name\"] = \"table\""
   ]
  },
  {
   "cell_type": "code",
   "execution_count": null,
   "id": "658cb3ec",
   "metadata": {},
   "outputs": [],
   "source": [
    "table"
   ]
  },
  {
   "cell_type": "code",
   "execution_count": null,
   "id": "6a944c4a",
   "metadata": {},
   "outputs": [],
   "source": [
    "x_data = table['e_ref']\n",
    "y_data = table['e2dnde']"
   ]
  },
  {
   "cell_type": "markdown",
   "id": "cb270270",
   "metadata": {},
   "source": [
    "Power law"
   ]
  },
  {
   "cell_type": "code",
   "execution_count": null,
   "id": "3f3c0530",
   "metadata": {},
   "outputs": [],
   "source": [
    "popt, pcov = curve_fit(power_law, J1825['e_ref'], J1825['e2dnde'], p0=[2,1e-12])\n",
    "a_opt, b_opt = popt\n",
    "x_plw = np.linspace(min(x_data), max(x_data), 100)\n",
    "y_plw = power_law(x_plw, a_opt, b_opt)"
   ]
  },
  {
   "cell_type": "code",
   "execution_count": null,
   "id": "03704f5c",
   "metadata": {
    "scrolled": true
   },
   "outputs": [],
   "source": [
    "# fig, axes = plt.subplots(1, 3, figsize=(12,6))\n",
    "# ax = axes[0]\n",
    "# ax.loglog(table['e_ref'],table['e2dnde'], 'o', color='red', lw=2, ms=4)\n",
    "# ax.errorbar(table['e_ref'],table['e2dnde'], yerr=[J1825['e2dnde_errn'], J1825['e2dnde_errp']],fmt='.', color='red')\n",
    "# ax.text(0.04,0.1, source_name, transform=ax.transAxes, bbox=dict(facecolor='white', edgecolor='black'), size=13)\n",
    "# ax.loglog(x_plw,y_plw, '--' ,color='black')\n",
    "# ax.set_ylabel(r\"$E^{2}$dN/dE (erg $cm^{-2}$ $s^{-1}$)\")\n",
    "# ax.grid(which=\"both\")\n",
    "\n",
    "# fig.text(0.5, -0.04, \"Energy (TeV)\", ha='center', size=20)\n",
    "\n",
    "# plt.xlim(10, 1000)\n",
    "# plt.ylim(1e-14, 5e-11)\n",
    "# plt.grid(which=\"both\")"
   ]
  },
  {
   "cell_type": "code",
   "execution_count": null,
   "id": "dca93ae0",
   "metadata": {},
   "outputs": [],
   "source": []
  },
  {
   "cell_type": "code",
   "execution_count": null,
   "id": "90388def",
   "metadata": {},
   "outputs": [],
   "source": []
  },
  {
   "cell_type": "code",
   "execution_count": null,
   "id": "720e3a24",
   "metadata": {},
   "outputs": [],
   "source": []
  },
  {
   "cell_type": "code",
   "execution_count": null,
   "id": "557f4096",
   "metadata": {},
   "outputs": [],
   "source": []
  },
  {
   "cell_type": "code",
   "execution_count": null,
   "id": "be9a4b4d",
   "metadata": {},
   "outputs": [],
   "source": []
  },
  {
   "cell_type": "code",
   "execution_count": null,
   "id": "cee31260",
   "metadata": {},
   "outputs": [],
   "source": []
  },
  {
   "cell_type": "code",
   "execution_count": null,
   "id": "6e7312ab",
   "metadata": {},
   "outputs": [],
   "source": [
    "ax = plt.subplot()\n",
    "ax.loglog(J1825['e_ref'],J1825['e2dnde'], 'o', color='red', lw=2, ms=4)\n",
    "ax.errorbar(J1825['e_ref'],J1825['e2dnde'], yerr=[J1825['e2dnde_errn'], J1825['e2dnde_errp']],fmt='.', color='red')\n",
    "\n"
   ]
  },
  {
   "cell_type": "code",
   "execution_count": null,
   "id": "7ac7e46e",
   "metadata": {},
   "outputs": [],
   "source": [
    "plt.loglog(J1825['e_ref'],J1825['e2dnde'], 'o', color='red', lw=2, ms=4)\n",
    "plt.errorbar(J1825['e_ref'],J1825['e2dnde'], yerr=[J1825['e2dnde_errn'], J1825['e2dnde_errp']],fmt='.', color='red')\n"
   ]
  },
  {
   "cell_type": "code",
   "execution_count": null,
   "id": "9134feaf",
   "metadata": {},
   "outputs": [],
   "source": []
  },
  {
   "cell_type": "code",
   "execution_count": null,
   "id": "6ae71f3c",
   "metadata": {},
   "outputs": [],
   "source": []
  },
  {
   "cell_type": "code",
   "execution_count": null,
   "id": "a4d017a9",
   "metadata": {},
   "outputs": [],
   "source": []
  },
  {
   "cell_type": "code",
   "execution_count": null,
   "id": "c38be00b",
   "metadata": {},
   "outputs": [],
   "source": [
    "# file_name = \"J1825_KM2A_201209\"\n",
    "# file_abs_name = f'{file_name}{format_fits}'\n",
    "\n",
    "# file_path = Path(f'{directory_path}/{file_abs_name}') \n",
    "# J1825_t = Table.read(file_path,format='fits')\n",
    "# J1825_t"
   ]
  },
  {
   "cell_type": "code",
   "execution_count": null,
   "id": "c7f71e55",
   "metadata": {},
   "outputs": [],
   "source": [
    "J1825.meta"
   ]
  },
  {
   "cell_type": "code",
   "execution_count": null,
   "id": "e66a1c5b",
   "metadata": {},
   "outputs": [],
   "source": [
    "FluxPoints.from_table(table = J1825, sed_type='e2dnde')"
   ]
  },
  {
   "cell_type": "code",
   "execution_count": null,
   "id": "4d65a9f5",
   "metadata": {},
   "outputs": [],
   "source": [
    "file_path = Path(f'../publishNature/J1908_KM2A_201209.dat') \n",
    "J1908 = Table.read(file_path ,format='ascii', delimiter=' ', comment='#')\n",
    "J1908"
   ]
  },
  {
   "cell_type": "code",
   "execution_count": null,
   "id": "4644f8a7",
   "metadata": {
    "scrolled": true
   },
   "outputs": [],
   "source": [
    "file_path = Path(f'../publishNature/J2228_KM2A_201209.dat') \n",
    "J2228 = Table.read(file_path,format='ascii', delimiter=' ', comment='#')\n",
    "J2228"
   ]
  },
  {
   "cell_type": "code",
   "execution_count": null,
   "id": "e0815e43",
   "metadata": {},
   "outputs": [],
   "source": []
  },
  {
   "cell_type": "code",
   "execution_count": null,
   "id": "a44a53c9",
   "metadata": {
    "scrolled": true
   },
   "outputs": [],
   "source": [
    "J1825"
   ]
  },
  {
   "cell_type": "code",
   "execution_count": null,
   "id": "43f115c0",
   "metadata": {},
   "outputs": [],
   "source": [
    "flux_points_ = FluxPoints.from_table(J1825, sed_type=\"e2dnde\")"
   ]
  },
  {
   "cell_type": "code",
   "execution_count": null,
   "id": "3cd651d5",
   "metadata": {},
   "outputs": [],
   "source": [
    "flux_points_.plot()"
   ]
  },
  {
   "cell_type": "code",
   "execution_count": null,
   "id": "587a0a00",
   "metadata": {},
   "outputs": [],
   "source": [
    "# e_ref = J1825['col1']/1e12\n",
    "# e_min = J1825['col5']/1e12\n",
    "# e_max = J1825['col6']/1e12\n",
    "\n",
    "# e2dnde = J1825['col2']\n",
    "# e2dnde_errp = J1825['col3']\n",
    "# e2dnde_errn = J1825['col4']\n",
    "\n",
    "# J1825_table = Table(\n",
    "#     [e_ref, e2dnde, e2dnde_errp, e2dnde_errn, e_min, e_max],\n",
    "#     names=('e_ref', 'e2dnde', 'e2dnde_errp', 'e2dnde_errn', 'e_min', 'e_max'),\n",
    "#     meta={'name': 'J1825','SED_TYPE': 'e2dnde' }\n",
    "# )\n",
    "\n",
    "# J1825_table['e_ref'].unit = u.TeV\n",
    "# J1825_table['e_min'].unit = u.TeV\n",
    "# J1825_table['e_max'].unit = u.TeV\n",
    "\n",
    "# J1825_table['e2dnde'].unit = u.Unit(\"erg cm-2 s-1\")\n",
    "# J1825_table['e2dnde_errp'].unit = u.Unit(\"erg cm-2 s-1\")\n",
    "# J1825_table['e2dnde_errn'].unit = u.Unit(\"erg cm-2 s-1\")"
   ]
  },
  {
   "cell_type": "code",
   "execution_count": null,
   "id": "947a066e",
   "metadata": {
    "scrolled": false
   },
   "outputs": [],
   "source": [
    "table_J1825.meta"
   ]
  },
  {
   "cell_type": "code",
   "execution_count": null,
   "id": "aedd1e48",
   "metadata": {
    "scrolled": true
   },
   "outputs": [],
   "source": [
    "flux_points2 = FluxPoints.from_table(table_J1825, sed_type=\"e2dnde\")\n",
    "flux_points2.to_table()"
   ]
  },
  {
   "cell_type": "code",
   "execution_count": null,
   "id": "056fd94c",
   "metadata": {},
   "outputs": [],
   "source": []
  },
  {
   "cell_type": "code",
   "execution_count": null,
   "id": "d4c69af7",
   "metadata": {},
   "outputs": [],
   "source": [
    "e_ref = J1908['col1']\n",
    "e2dnde = J1908['col2']\n",
    "e2dnde_errp = J1908['col2']\n",
    "e2dnde_errn = J1908['col3']\n",
    "J1908_table = QTable([e_ref, e2dnde, e2dnde_errp, e2dnde_errn],\n",
    "           names=('e_ref', 'e2dnde', 'e2dnde_errp', 'e2dnde_errn'),\n",
    "           meta={'name': 'J1908'})\n",
    "\n",
    "J1908_table['e_ref'] = J1908['col1']/1e12\n",
    "J1908_table['e_ref'].unit = u.TeV\n",
    "J1908_table['e2dnde'].unit = u.Unit(\"erg cm-2 s-1\")\n",
    "J1908_table['e2dnde_errp'].unit = u.Unit(\"erg cm-2 s-1\")\n",
    "J1908_table['e2dnde_errn'].unit = u.Unit(\"erg cm-2 s-1\")"
   ]
  },
  {
   "cell_type": "code",
   "execution_count": null,
   "id": "c28e5a1a",
   "metadata": {
    "scrolled": true
   },
   "outputs": [],
   "source": [
    "J1908_table"
   ]
  },
  {
   "cell_type": "code",
   "execution_count": null,
   "id": "9cf121b3",
   "metadata": {},
   "outputs": [],
   "source": [
    "e_ref = J2228['col1']\n",
    "e2dnde = J2228['col2']\n",
    "e2dnde_errp = J2228['col3']\n",
    "e2dnde_errn = J2228['col4']\n",
    "J2228_table = QTable([e_ref, e2dnde, e2dnde_errp, e2dnde_errn],\n",
    "           names=('e_ref', 'e2dnde', 'e2dnde_errp', 'e2dnde_errn'),\n",
    "           meta={'name': 'J2228'})\n",
    "\n",
    "J2228_table['e_ref'] = J2228['col1']/1e12\n",
    "J2228_table['e_ref'].unit = u.TeV\n",
    "J2228_table['e2dnde'].unit = u.Unit(\"erg cm-2 s-1\")\n",
    "J2228_table['e2dnde_errp'].unit = u.Unit(\"erg cm-2 s-1\")\n",
    "J2228_table['e2dnde_errn'].unit = u.Unit(\"erg cm-2 s-1\")"
   ]
  },
  {
   "cell_type": "code",
   "execution_count": null,
   "id": "5230810a",
   "metadata": {
    "scrolled": true
   },
   "outputs": [],
   "source": []
  },
  {
   "cell_type": "code",
   "execution_count": null,
   "id": "81a192c2",
   "metadata": {
    "scrolled": true
   },
   "outputs": [],
   "source": [
    "flux_points_ = FluxPoints.from_table(table_J1825)\n",
    "flux_points_.to_table()"
   ]
  },
  {
   "cell_type": "code",
   "execution_count": null,
   "id": "a47d0bda",
   "metadata": {},
   "outputs": [],
   "source": [
    "flux_points_.plot()"
   ]
  },
  {
   "cell_type": "code",
   "execution_count": null,
   "id": "708e52f3",
   "metadata": {},
   "outputs": [],
   "source": [
    "flux_points_.to_table()"
   ]
  },
  {
   "cell_type": "code",
   "execution_count": null,
   "id": "b151f6d2",
   "metadata": {},
   "outputs": [],
   "source": [
    "# ds = FluxPointsDataset(\n",
    "#     data = flux_points_, \n",
    "#     name = f\"{counterpart_name}: {catalog_tag}\"\n",
    "# )\n",
    "# datasets = Datasets(ds)\n",
    "\n",
    "\n",
    "# # opts = dict(sed_type=\"e2dnde\", yunits=u.Unit(\"TeV cm-2 s-1\"))\n",
    "# energy_bounds = [10, 1e3] * u.TeV\n",
    "# ylim = [1e-14, 3e-11]\n",
    "# plotting_SED_flux_pointing(\n",
    "#     datasets = datasets,\n",
    "# #     spectral_model=spectral_model, \n",
    "#     sed_type = \"e2dnde\", \n",
    "#     yaxis_units=\"erg cm-2 s-1\", \n",
    "#     energy_bounds=energy_bounds, \n",
    "#     ylim=ylim)\n"
   ]
  },
  {
   "cell_type": "code",
   "execution_count": null,
   "id": "9d1bde43",
   "metadata": {},
   "outputs": [],
   "source": [
    "# table.rename_column('col2', 'e_ref')  \n",
    "# table[\"e_ref\"].unit = u.eV\n",
    "# table[\"e_ref\"]"
   ]
  },
  {
   "cell_type": "code",
   "execution_count": null,
   "id": "5e9fecbb",
   "metadata": {},
   "outputs": [],
   "source": [
    "flux_points_.plot()"
   ]
  },
  {
   "cell_type": "code",
   "execution_count": null,
   "id": "e7a7cfde",
   "metadata": {},
   "outputs": [],
   "source": []
  },
  {
   "cell_type": "markdown",
   "id": "b5f86771",
   "metadata": {},
   "source": [
    "#### Let's plot the spectrum"
   ]
  },
  {
   "cell_type": "markdown",
   "id": "71a0d645",
   "metadata": {},
   "source": [
    "    TF1 *f=new TF1(\"f\",\"[0]*pow(x/20.0,[1])*pow(x,2)\",10,2000);\n",
    "          f->SetParameters(1.5e-11,-2.4);"
   ]
  },
  {
   "cell_type": "markdown",
   "id": "fc683b47",
   "metadata": {},
   "source": [
    "      TF1 *f2=new TF1(\"f2\",\"[0]*pow(x/20.,[1]+[2]*log10(x/20.))*pow(x,2)\");\n",
    "          f2->SetParameters(2.e-14,-2.6,-0.2,1000);"
   ]
  },
  {
   "cell_type": "code",
   "execution_count": null,
   "id": "630f52f6",
   "metadata": {
    "scrolled": true
   },
   "outputs": [],
   "source": []
  },
  {
   "cell_type": "code",
   "execution_count": null,
   "id": "f082256b",
   "metadata": {},
   "outputs": [],
   "source": [
    "catalog = CATALOG_REGISTRY.get_cls(catalog_tag)()\n",
    "source  = catalog[counterpart_name]\n",
    "# Gammapy sky model object:\n",
    "sky_model = source.sky_model()\n",
    "\n",
    "# Gammapy spatial model object:\n",
    "spatial_model = sky_model.spatial_model\n",
    "\n",
    "# Gammapy spectral model object:\n",
    "spectral_model = sky_model.spectral_model\n",
    "spectral_model_tag = spectral_model.tag[0]"
   ]
  },
  {
   "cell_type": "code",
   "execution_count": null,
   "id": "158b5c98",
   "metadata": {},
   "outputs": [],
   "source": [
    "source.data"
   ]
  },
  {
   "cell_type": "code",
   "execution_count": null,
   "id": "ce492a97",
   "metadata": {},
   "outputs": [],
   "source": [
    "print(sky_model)"
   ]
  },
  {
   "cell_type": "code",
   "execution_count": null,
   "id": "fc91067b",
   "metadata": {},
   "outputs": [],
   "source": [
    "print(spatial_model)"
   ]
  },
  {
   "cell_type": "code",
   "execution_count": null,
   "id": "f6f5af7c",
   "metadata": {
    "scrolled": true
   },
   "outputs": [],
   "source": [
    "print(spectral_model)"
   ]
  },
  {
   "cell_type": "code",
   "execution_count": null,
   "id": "ed8d6244",
   "metadata": {},
   "outputs": [],
   "source": [
    "cat_index = 0\n",
    "counterparts_datasets[source_index][cat_index]"
   ]
  },
  {
   "cell_type": "code",
   "execution_count": null,
   "id": "95d5dfe8",
   "metadata": {},
   "outputs": [],
   "source": [
    "counterparts[1].data"
   ]
  },
  {
   "cell_type": "code",
   "execution_count": null,
   "id": "8df60a8c",
   "metadata": {},
   "outputs": [],
   "source": [
    "def plot_spectrum(data = None):\n",
    "    fig, ax = plt.subplots(1, 1, figsize=(6,5))\n",
    "\n",
    "    kwargs_model = {\n",
    "        \"color\":\"black\",\n",
    "        \"ls\":\"--\"\n",
    "    }\n",
    "    kwargs_fp = {\n",
    "        \"color\":\"blue\", \n",
    "        \"marker\":\"o\"\n",
    "    }\n",
    "\n",
    "    data.plot_spectrum(\n",
    "        ax = ax,  \n",
    "        kwargs_fp = kwargs_fp, \n",
    "        kwargs_model = kwargs_model\n",
    "    )\n",
    "\n",
    "    title = f\"{source_name}: {counterpart_name}\\n{catalog_tag}: {spectral_model_tag}\"\n",
    "\n",
    "    ax.text(\n",
    "        0.1, 0.1, \n",
    "        title,\n",
    "        transform = ax.transAxes,\n",
    "        bbox = dict(\n",
    "                facecolor = 'white', \n",
    "                edgecolor = 'black'\n",
    "        ), \n",
    "        size = 10\n",
    "    )\n",
    "    ax.tick_params(axis='both', which='both', labelsize=10)\n",
    "\n",
    "    file = path_SED_from_catalogs / f'{title}.png'\n",
    "\n",
    "    plt.savefig(file, bbox_inches='tight')\n",
    "    plt.show()"
   ]
  },
  {
   "cell_type": "code",
   "execution_count": null,
   "id": "5ed5a715",
   "metadata": {},
   "outputs": [],
   "source": [
    "data = counterparts_datasets[0].data\n",
    "plot_spectrum(data)"
   ]
  },
  {
   "cell_type": "code",
   "execution_count": null,
   "id": "7243017d",
   "metadata": {},
   "outputs": [],
   "source": [
    "counterparts_datasets[2].plot_spectrum()"
   ]
  },
  {
   "cell_type": "code",
   "execution_count": null,
   "id": "c8435a3e",
   "metadata": {},
   "outputs": [],
   "source": [
    "# kwargs = {\n",
    "#         \"ax\": ax, \n",
    "# #         \"sed_type\": sed_type\n",
    "#     }    \n",
    "# kwargs_fit = {\"label\": spectral_model_tag}\n",
    "# spec_model.plot(energy_bounds=energy_bounds, color=\"k\", **kwargs, **kwargs_fit)\n",
    "# spec_model.plot_error(energy_bounds=energy_bounds, **kwargs)\n",
    "\n",
    "# plt.show()\n"
   ]
  },
  {
   "cell_type": "code",
   "execution_count": null,
   "id": "1c7c7ee2",
   "metadata": {},
   "outputs": [],
   "source": [
    "def plot_flux_points(spectral_model, ax, label, color):\n",
    "    \n",
    "    energy_bounds = (100 * u.MeV, 100 * u.GeV)\n",
    "    spectral_model.plot(\n",
    "        ax=ax, label=label, color=color\n",
    "    )\n",
    "    spec.plot_error(ax=ax, energy_bounds=energy_bounds, color=color)\n"
   ]
  },
  {
   "cell_type": "code",
   "execution_count": null,
   "id": "18390d7a",
   "metadata": {},
   "outputs": [],
   "source": [
    "# plt.style.use(['science', 'notebook', 'grid'])\n",
    "\n",
    "def plot_spectrum(spectral_model, ax, label, color):\n",
    "    \n",
    "    energy_bounds = (100 * u.MeV, 100 * u.GeV)\n",
    "    spectral_model.plot(\n",
    "        ax=ax, energy_bounds=energy_bounds,label=label, color=color\n",
    "    )\n",
    "    spectral_model.plot_error(ax=ax, energy_bounds=energy_bounds, color=color)\n",
    "\n",
    "fig, ax = plt.subplots()\n",
    "plot_spectrum(spectral_model, ax=ax, label=spectral_model_tag, color=\"tab:blue\")\n",
    "# dataset.data.plot(label=d.name, **kwargs)\n",
    "#plot_spectrum(model_joint, ax=ax, label=\"joint\", color=\"tab:orange\")\n",
    "ax.legend()\n",
    "plt.show()"
   ]
  },
  {
   "cell_type": "code",
   "execution_count": null,
   "id": "fbadaaa9",
   "metadata": {},
   "outputs": [],
   "source": [
    "counterparts_datasets = FluxPointsDataset(data=source.flux_points,models=sky_model, name=spectral_model_tag)\n",
    "counterparts_datasets.data.to_table(sed_type=sed_type, formatted=True)\n",
    "\n"
   ]
  },
  {
   "cell_type": "code",
   "execution_count": null,
   "id": "800c66da",
   "metadata": {},
   "outputs": [],
   "source": [
    "\n",
    "datasets = Datasets([counterparts_datasets])\n",
    "datasets.models = sky_model\n",
    "print(datasets)\n",
    "\n",
    "fitter = Fit()\n",
    "result_pwl = fitter.run(datasets=datasets)"
   ]
  },
  {
   "cell_type": "code",
   "execution_count": null,
   "id": "ec7b5dd5",
   "metadata": {},
   "outputs": [],
   "source": [
    "plt.style.use(['default'])\n",
    "\n",
    "ax = plt.subplot()\n",
    "ax.yaxis.set_units(u.Unit(\"erg cm-2 s-1\"))\n",
    "\n",
    "kwargs = {\"ax\": ax, \"sed_type\": \"e2dnde\"}\n",
    "\n",
    "for d in datasets:\n",
    "    d.data.plot(label=d.name, **kwargs)\n",
    "\n",
    "# energy_bounds = (100 * u.MeV, 100 * u.GeV)\n",
    "spectral_model.plot(energy_bounds=energy_bounds, color=\"k\", **kwargs)\n",
    "# ax.set_ylim(1e-13, 1e-8)\n",
    "ax.set_xlim(energy_bounds)\n",
    "ax.legend()\n",
    "plt.show()"
   ]
  },
  {
   "cell_type": "code",
   "execution_count": null,
   "id": "43a449c8",
   "metadata": {},
   "outputs": [],
   "source": [
    "# file_name = title.replace(\" \", \"\").replace(\":\", \"_\").replace(\"\\n\", \"_\")"
   ]
  },
  {
   "cell_type": "code",
   "execution_count": null,
   "id": "4b46daf4",
   "metadata": {},
   "outputs": [],
   "source": [
    "fig, ax = plt.subplots(1, 1, figsize=(7,6))\n",
    "\n",
    "#configuring optional parameters\n",
    "kwargs_model = {\"color\":\"black\", \"ls\":\"--\"}\n",
    "kwargs_fp = {\"color\":\"blue\", \"marker\":\"o\"}\n",
    "data = counterparts_datasets[1]\n",
    "data.plot_fit(ax = ax)\n",
    "ax.text(0.1, 0.1, f\"spectral model: {spectral_model_tag}\\ncatalog: {catalog_tag}\", transform=ax.transAxes)\n",
    "ax.legend()\n",
    "\n",
    "# ax.set_xlabel('Time [s]')\n",
    "# ax.set_ylabel(r'$\\frac{d}{dx} f(x)$', fontsize=15)\n",
    "\n",
    "plt.title(f\"{source_name}: {counterpart_name}\")\n",
    "# plt.grid(True)"
   ]
  },
  {
   "cell_type": "code",
   "execution_count": null,
   "id": "352f4dab",
   "metadata": {},
   "outputs": [],
   "source": [
    "# plt.style.use(['science', 'notebook', 'grid'])\n",
    "#plt.figure(figsize=(5,4))\n",
    "\n",
    "\n",
    "#configuring optional parameters\n",
    "kwargs_model = {\"color\":\"black\", \"ls\":\"--\", \"label\": \"Best fit model\"}\n",
    "kwargs_fp = {\"color\":\"blue\", \"marker\":\"o\"}\n",
    "data = counterparts_datasets[8]\n",
    "data.plot_spectrum(kwargs_fp=kwargs_fp, kwargs_model=kwargs_model)\n",
    "# fig = plt.figure()\n",
    "fig.set_label('s')\n",
    "plt.title(f\"{source_name}: {counterpart_name}\")\n",
    "# plt.grid(True)"
   ]
  },
  {
   "cell_type": "code",
   "execution_count": null,
   "id": "12bba62b",
   "metadata": {},
   "outputs": [],
   "source": [
    "print(counterparts_datasets[0].plot_fit())"
   ]
  },
  {
   "cell_type": "code",
   "execution_count": null,
   "id": "7d4839af",
   "metadata": {},
   "outputs": [],
   "source": [
    "counterparts_datasets[source_index][cat_index].plot_fit()"
   ]
  },
  {
   "cell_type": "code",
   "execution_count": null,
   "id": "5ee9106e",
   "metadata": {},
   "outputs": [],
   "source": [
    "counterparts_datasets[source_index][cat_index].plot_residuals()"
   ]
  },
  {
   "cell_type": "code",
   "execution_count": null,
   "id": "452f9251",
   "metadata": {},
   "outputs": [],
   "source": []
  },
  {
   "cell_type": "code",
   "execution_count": null,
   "id": "aff1d1b1",
   "metadata": {},
   "outputs": [],
   "source": [
    "from itertools import combinations\n",
    "import numpy as np\n",
    "from astropy import units as u\n",
    "import matplotlib.pyplot as plt\n",
    "from IPython.display import display\n",
    "from gammapy.datasets import Datasets, SpectrumDatasetOnOff\n",
    "from gammapy.modeling import Fit\n",
    "from gammapy.modeling.models import LogParabolaSpectralModel, SkyModel"
   ]
  },
  {
   "cell_type": "code",
   "execution_count": null,
   "id": "20776e39",
   "metadata": {},
   "outputs": [],
   "source": [
    "crab_spectrum = LogParabolaSpectralModel(\n",
    "    amplitude=1e-11 / u.cm**2 / u.s / u.TeV,\n",
    "    reference=1 * u.TeV,\n",
    "    alpha=2.3,\n",
    "    beta=0.2,\n",
    ")\n",
    "\n",
    "crab_spectrum.alpha.max = 3\n",
    "crab_spectrum.alpha.min = 1\n",
    "crab_model = SkyModel(spectral_model=crab_spectrum, name=\"crab\")"
   ]
  },
  {
   "cell_type": "code",
   "execution_count": null,
   "id": "cda146e5",
   "metadata": {},
   "outputs": [],
   "source": [
    "datasets = []\n",
    "for obs_id in [23523, 23526]:\n",
    "    dataset = SpectrumDatasetOnOff.read(\n",
    "        f\"$GAMMAPY_DATA/joint-crab/spectra/hess/pha_obs{obs_id}.fits\"\n",
    "    )\n",
    "    datasets.append(dataset)\n",
    "\n",
    "dataset_hess = Datasets(datasets).stack_reduce(name=\"HESS\")\n",
    "datasets = Datasets(datasets=[dataset_hess])\n",
    "\n",
    "# Set model and fit range\n",
    "dataset_hess.models = crab_model\n",
    "e_min = 0.66 * u.TeV\n",
    "e_max = 30 * u.TeV\n",
    "dataset_hess.mask_fit = dataset_hess.counts.geom.energy_mask(e_min, e_max)"
   ]
  },
  {
   "cell_type": "code",
   "execution_count": null,
   "id": "ecc6be28",
   "metadata": {},
   "outputs": [],
   "source": [
    "scipy_opts = {\n",
    "    \"method\": \"L-BFGS-B\",\n",
    "    \"options\": {\"ftol\": 1e-4, \"gtol\": 1e-05},\n",
    "    \"backend\": \"scipy\",\n",
    "}\n",
    "fit_scipy = Fit(store_trace=True, optimize_opts=scipy_opts)"
   ]
  },
  {
   "cell_type": "code",
   "execution_count": null,
   "id": "54b48c15",
   "metadata": {},
   "outputs": [],
   "source": [
    "result_scipy = fit_scipy.run(datasets)"
   ]
  },
  {
   "cell_type": "code",
   "execution_count": null,
   "id": "affde986",
   "metadata": {},
   "outputs": [],
   "source": [
    "sherpa_opts = {\"method\": \"simplex\", \"ftol\": 1e-3, \"maxfev\": int(1e4)}\n",
    "fit_sherpa = Fit(store_trace=True, backend=\"sherpa\", optimize_opts=sherpa_opts)\n",
    "results_simplex = fit_sherpa.run(datasets)"
   ]
  },
  {
   "cell_type": "code",
   "execution_count": null,
   "id": "05d50f02",
   "metadata": {},
   "outputs": [],
   "source": [
    "fit = Fit(store_trace=True)\n",
    "minuit_opts = {\"tol\": 0.001, \"strategy\": 1}\n",
    "fit.backend = \"minuit\"\n",
    "fit.optimize_opts = minuit_opts\n",
    "result_minuit = fit.run(datasets)"
   ]
  },
  {
   "cell_type": "code",
   "execution_count": null,
   "id": "6526ed7c",
   "metadata": {},
   "outputs": [],
   "source": [
    "plt.figure()\n",
    "energy_bounds = [1, 10] * u.TeV\n",
    "crab_spectrum.plot(energy_bounds=energy_bounds, energy_power=2)\n",
    "ax = crab_spectrum.plot_error(energy_bounds=energy_bounds, energy_power=2)"
   ]
  },
  {
   "cell_type": "code",
   "execution_count": null,
   "id": "620a305b",
   "metadata": {},
   "outputs": [],
   "source": [
    "from gammapy.modeling import Fit\n",
    "from gammapy.modeling.models import PowerLawSpectralModel, SkyModel\n",
    "from gammapy.estimators import FluxPoints\n",
    "from gammapy.datasets import FluxPointsDataset\n",
    "filename = \"$GAMMAPY_DATA/tests/spectrum/flux_points/diff_flux_points.fits\"\n",
    "dataset = FluxPointsDataset.read(filename)\n",
    "model = SkyModel(spectral_model=PowerLawSpectralModel())\n",
    "dataset.models = model"
   ]
  },
  {
   "cell_type": "code",
   "execution_count": null,
   "id": "fe11ec82",
   "metadata": {},
   "outputs": [],
   "source": [
    "fit = Fit()\n",
    "result = fit.run([dataset])\n",
    "print(result)"
   ]
  },
  {
   "cell_type": "code",
   "execution_count": null,
   "id": "4d7bcfaf",
   "metadata": {},
   "outputs": [],
   "source": [
    "print(result.parameters.to_table())"
   ]
  },
  {
   "cell_type": "code",
   "execution_count": null,
   "id": "72d7aacd",
   "metadata": {},
   "outputs": [],
   "source": []
  },
  {
   "cell_type": "code",
   "execution_count": null,
   "id": "66d0d119",
   "metadata": {},
   "outputs": [],
   "source": [
    "from gammapy.estimators import FluxPoints\n",
    "filename = '$GAMMAPY_DATA/hawc_crab/HAWC19_flux_points.fits'\n",
    "flux_points = FluxPoints.read(filename)\n",
    "flux_points.plot() "
   ]
  },
  {
   "cell_type": "code",
   "execution_count": null,
   "id": "447f5305",
   "metadata": {},
   "outputs": [],
   "source": [
    "flux_points.to_table()"
   ]
  },
  {
   "cell_type": "code",
   "execution_count": null,
   "id": "80383670",
   "metadata": {},
   "outputs": [],
   "source": [
    "import numpy as np\n",
    "from astropy import units as u\n",
    "from astropy.table import Table\n",
    "from gammapy.estimators import FluxPoints\n",
    "from gammapy.modeling.models import PowerLawSpectralModel\n",
    "table = Table()\n",
    "pwl = PowerLawSpectralModel()\n",
    "e_ref = np.geomspace(1, 100, 7) * u.TeV\n",
    "table[\"e_ref\"] = e_ref\n",
    "table[\"dnde\"] = pwl(e_ref)\n",
    "table[\"dnde_err\"] = pwl.evaluate_error(e_ref)[0]\n",
    "table.meta[\"SED_TYPE\"] = \"dnde\"\n"
   ]
  },
  {
   "cell_type": "code",
   "execution_count": null,
   "id": "3d424e94",
   "metadata": {},
   "outputs": [],
   "source": [
    "flux_points = FluxPoints.from_table(table)\n",
    "flux_points.plot(sed_type=\"dnde\") "
   ]
  },
  {
   "cell_type": "code",
   "execution_count": null,
   "id": "d3e278bf",
   "metadata": {},
   "outputs": [],
   "source": [
    "from astropy import units as u\n",
    "from astropy.table import Table\n",
    "from gammapy.estimators import FluxPoints\n",
    "from gammapy.utils.scripts import make_path"
   ]
  },
  {
   "cell_type": "code",
   "execution_count": null,
   "id": "c96d33e2",
   "metadata": {},
   "outputs": [],
   "source": [
    "filename = make_path('$GAMMAPY_DATA/tests/spectrum/flux_points/flux_points_ctb_37b.txt')\n",
    "table = Table.read(filename ,format='ascii.csv', delimiter=' ', comment='#')\n"
   ]
  },
  {
   "cell_type": "code",
   "execution_count": null,
   "id": "b4da0283",
   "metadata": {},
   "outputs": [],
   "source": [
    "table"
   ]
  },
  {
   "cell_type": "code",
   "execution_count": null,
   "id": "8ee6269f",
   "metadata": {},
   "outputs": [],
   "source": [
    "table.rename_column('Differential_Flux', 'dnde')\n",
    "table['dnde'].unit = 'cm-2 s-1 TeV-1'"
   ]
  },
  {
   "cell_type": "code",
   "execution_count": null,
   "id": "aa9bf383",
   "metadata": {},
   "outputs": [],
   "source": [
    "table.rename_column('lower_error', 'dnde_errn')\n",
    "table['dnde_errn'].unit = 'cm-2 s-1 TeV-1'"
   ]
  },
  {
   "cell_type": "code",
   "execution_count": null,
   "id": "d2f58135",
   "metadata": {},
   "outputs": [],
   "source": [
    "table.rename_column('upper_error', 'dnde_errp')\n",
    "table['dnde_errp'].unit = 'cm-2 s-1 TeV-1'"
   ]
  },
  {
   "cell_type": "code",
   "execution_count": null,
   "id": "8116149b",
   "metadata": {},
   "outputs": [],
   "source": [
    "table"
   ]
  },
  {
   "cell_type": "code",
   "execution_count": null,
   "id": "34228f8b",
   "metadata": {},
   "outputs": [],
   "source": [
    "table.rename_column('E', 'e_ref')\n",
    "table['e_ref'].unit = 'TeV'"
   ]
  },
  {
   "cell_type": "code",
   "execution_count": null,
   "id": "738181b3",
   "metadata": {},
   "outputs": [],
   "source": [
    "flux_points = FluxPoints.from_table(table, sed_type=\"dnde\")\n",
    "flux_points.plot(sed_type=\"e2dnde\") "
   ]
  },
  {
   "cell_type": "code",
   "execution_count": null,
   "id": "b6f61408",
   "metadata": {},
   "outputs": [],
   "source": []
  },
  {
   "cell_type": "code",
   "execution_count": null,
   "id": "c008c7a4",
   "metadata": {},
   "outputs": [],
   "source": [
    "source_name = \"LHAASO J2032+4102\"  # Source name based on J2000 coordinates  \n",
    "source_txt  = source_name.replace(\" \", \"\") "
   ]
  },
  {
   "cell_type": "code",
   "execution_count": null,
   "id": "6b20711b",
   "metadata": {},
   "outputs": [],
   "source": [
    "source_RA = 308.05 # Right ascension (degrees)\n",
    "source_dec = 41.05 # Declination (degrees)\n",
    "\n",
    "source_position = SkyCoord(source_RA, source_dec, unit='deg') \n",
    "# source_position"
   ]
  },
  {
   "cell_type": "code",
   "execution_count": null,
   "id": "06913126",
   "metadata": {},
   "outputs": [],
   "source": [
    "angle_separation = 1 * u.deg"
   ]
  },
  {
   "cell_type": "code",
   "execution_count": null,
   "id": "f890dc77",
   "metadata": {},
   "outputs": [],
   "source": [
    "# Creates the directories to save the flux points tables \n",
    "cfg.dir_flux_points_tables = \"flux_points_tables\"\n",
    "dir_fp_tab_counterparts = f\"{source_txt}_counterparts_{angle_separation_txt}\"\n",
    "\n",
    "path_flux_points_tables, path_fp_tab_counterparts = mkdir_sub_directory(\n",
    "    cfg.dir_flux_points_tables, \n",
    "    dir_fp_tab_counterparts\n",
    ")"
   ]
  },
  {
   "cell_type": "code",
   "execution_count": null,
   "id": "a69776df",
   "metadata": {},
   "outputs": [],
   "source": [
    "counterparts_datasets = get_counterparts_datasets(source_position, angle_separation)\n",
    "# for i, dataset_fp in enumerate(counterparts_datasets):\n",
    "#     print(i, dataset_fp.name)"
   ]
  },
  {
   "cell_type": "code",
   "execution_count": null,
   "id": "f7af5588",
   "metadata": {},
   "outputs": [],
   "source": []
  }
 ],
 "metadata": {
  "ipub": {
   "titlepage": {
    "author": "Authors Name",
    "email": "authors@email.com",
    "institution": [
     "Institution1",
     "Institution2"
    ],
    "logo": "path/to/logo_example.png",
    "subtitle": "Sub-Title",
    "supervisors": [
     "First Supervisor",
     "Second Supervisor"
    ],
    "tagline": "A tagline for the report.",
    "title": "Main-Title"
   }
  },
  "kernelspec": {
   "display_name": "Python 3 (ipykernel)",
   "language": "python",
   "name": "python3"
  },
  "language_info": {
   "codemirror_mode": {
    "name": "ipython",
    "version": 3
   },
   "file_extension": ".py",
   "mimetype": "text/x-python",
   "name": "python",
   "nbconvert_exporter": "python",
   "pygments_lexer": "ipython3",
   "version": "3.9.16"
  }
 },
 "nbformat": 4,
 "nbformat_minor": 5
}
