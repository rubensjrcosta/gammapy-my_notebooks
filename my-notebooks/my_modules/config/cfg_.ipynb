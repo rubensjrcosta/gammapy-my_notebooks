{
 "cells": [
  {
   "cell_type": "code",
   "execution_count": 1,
   "id": "4f342457",
   "metadata": {},
   "outputs": [],
   "source": [
    "catalogs_tags = [\"gamma-cat\", \"hgps\", \"2hwc\", \"3hwc\", \"3fgl\", \"4fgl\", \"2fhl\", \"3fhl\"]"
   ]
  },
  {
   "cell_type": "code",
   "execution_count": null,
   "id": "b111ce40",
   "metadata": {},
   "outputs": [],
   "source": []
  },
  {
   "cell_type": "code",
   "execution_count": null,
   "id": "265d54ee",
   "metadata": {},
   "outputs": [],
   "source": [
    "format_csv  = '.csv'\n",
    "format_fits = '.fits'\n",
    "format_dat  = '.dat'\n",
    "format_png  = '.png'\n",
    "format_pdf  = '.pdf'\n",
    "format_yaml = '.yaml'"
   ]
  },
  {
   "cell_type": "code",
   "execution_count": null,
   "id": "b472aee5",
   "metadata": {},
   "outputs": [],
   "source": []
  },
  {
   "cell_type": "code",
   "execution_count": null,
   "id": "5e4bfb65",
   "metadata": {},
   "outputs": [],
   "source": [
    "sed_type_e2dnde = 'e2dnde'\n",
    "sed_type_dnde   = 'dnde'"
   ]
  },
  {
   "cell_type": "code",
   "execution_count": null,
   "id": "06e9784c",
   "metadata": {},
   "outputs": [],
   "source": []
  },
  {
   "cell_type": "code",
   "execution_count": null,
   "id": "d6b9b19a",
   "metadata": {},
   "outputs": [],
   "source": [
    "unit_deg = 'deg'"
   ]
  },
  {
   "cell_type": "code",
   "execution_count": null,
   "id": "02fcb201",
   "metadata": {},
   "outputs": [],
   "source": []
  },
  {
   "cell_type": "code",
   "execution_count": 1,
   "id": "3c707bfc",
   "metadata": {},
   "outputs": [],
   "source": [
    "# parent directories names\n",
    "\n",
    "dir_flux_points = \"flux_points\"\n",
    "\n",
    "dir_tables = \"tables\"\n",
    "dir_figures = \"figures\"\n",
    "dir_datasets  = \"datasets\"\n",
    "\n",
    "dir_catalogs_roi = \"catalogs_roi\"\n",
    "\n",
    "dir_SED = \"SED\"\n",
    "dir_SED_from_catalogs = \"from_catalogs\"\n"
   ]
  },
  {
   "cell_type": "code",
   "execution_count": null,
   "id": "4e197d9b",
   "metadata": {},
   "outputs": [],
   "source": []
  },
  {
   "cell_type": "code",
   "execution_count": null,
   "id": "7e6456be",
   "metadata": {},
   "outputs": [],
   "source": [
    "irf_z = [20,40,60]\n",
    "irf_h = [0.5, 5, 50]\n",
    "irf_loc = [(\"cta_north\", \"North\"),(\"cta_south\", \"South\")]"
   ]
  }
 ],
 "metadata": {
  "kernelspec": {
   "display_name": "Python 3 (ipykernel)",
   "language": "python",
   "name": "python3"
  },
  "language_info": {
   "codemirror_mode": {
    "name": "ipython",
    "version": 3
   },
   "file_extension": ".py",
   "mimetype": "text/x-python",
   "name": "python",
   "nbconvert_exporter": "python",
   "pygments_lexer": "ipython3",
   "version": "3.9.16"
  }
 },
 "nbformat": 4,
 "nbformat_minor": 5
}
